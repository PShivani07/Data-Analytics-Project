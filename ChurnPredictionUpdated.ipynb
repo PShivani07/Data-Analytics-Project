{
  "nbformat": 4,
  "nbformat_minor": 0,
  "metadata": {
    "colab": {
      "name": "ChurnPredictionUpdated.ipynb",
      "provenance": [],
      "collapsed_sections": [
        "j8lNbjVdf_Qi",
        "fSGiNKntgMvj",
        "kxt6FIfffxsp",
        "_Cgo2yJ_wbTo",
        "jqxsP56NaHcg",
        "1Xg7Hfyh_XwM",
        "WIOv_TP3DMs8",
        "j1U9ELCrFcHJ",
        "cUf6ZfMyGdRI"
      ],
      "authorship_tag": "ABX9TyMARQBptx5DhQ0ujtC3yn9N",
      "include_colab_link": true
    },
    "kernelspec": {
      "name": "python3",
      "display_name": "Python 3"
    }
  },
  "cells": [
    {
      "cell_type": "markdown",
      "metadata": {
        "id": "view-in-github",
        "colab_type": "text"
      },
      "source": [
        "<a href=\"https://colab.research.google.com/github/saigirishgilly98/Data-Analytics-Project/blob/main/ChurnPredictionUpdated.ipynb\" target=\"_parent\"><img src=\"https://colab.research.google.com/assets/colab-badge.svg\" alt=\"Open In Colab\"/></a>"
      ]
    },
    {
      "cell_type": "markdown",
      "metadata": {
        "id": "PfEalNUUa60H"
      },
      "source": [
        "# <font color=\"purple\">**Churn prediction and Item recommendation on online retail dataset**</font>\n",
        "\n",
        "## **Problem Statement**:\n",
        "\n",
        "Given a transactional dataset, tasks to perform : <font color=\"blue\">Exploratory Data Analysis (EDA), Data pre-processing, Customer Segmentation, User profiling, Item recommendation for each users and churn prediction</font>"
      ]
    },
    {
      "cell_type": "markdown",
      "metadata": {
        "id": "j8lNbjVdf_Qi"
      },
      "source": [
        "# <font color=\"blue\">**Exploratory Data Analysis (EDA)**</font>"
      ]
    },
    {
      "cell_type": "code",
      "metadata": {
        "id": "xZC3XxrZXGvm"
      },
      "source": [
        "# Importing the required libraries\n",
        "import numpy as np\n",
        "import pandas as pd\n",
        "import matplotlib.pyplot as plt"
      ],
      "execution_count": null,
      "outputs": []
    },
    {
      "cell_type": "code",
      "metadata": {
        "id": "IuM6XB3LcsJY",
        "outputId": "bfc75a79-b776-4d95-fdff-9cc101b57281",
        "colab": {
          "base_uri": "https://localhost:8080/"
        }
      },
      "source": [
        "# Read the csv file into dataframe\n",
        "dataset = pd.read_csv('data.csv', encoding='unicode_escape')\n",
        "dataset.head(10) "
      ],
      "execution_count": null,
      "outputs": [
        {
          "output_type": "execute_result",
          "data": {
            "text/html": [
              "<div>\n",
              "<style scoped>\n",
              "    .dataframe tbody tr th:only-of-type {\n",
              "        vertical-align: middle;\n",
              "    }\n",
              "\n",
              "    .dataframe tbody tr th {\n",
              "        vertical-align: top;\n",
              "    }\n",
              "\n",
              "    .dataframe thead th {\n",
              "        text-align: right;\n",
              "    }\n",
              "</style>\n",
              "<table border=\"1\" class=\"dataframe\">\n",
              "  <thead>\n",
              "    <tr style=\"text-align: right;\">\n",
              "      <th></th>\n",
              "      <th>InvoiceNo</th>\n",
              "      <th>StockCode</th>\n",
              "      <th>Description</th>\n",
              "      <th>Quantity</th>\n",
              "      <th>InvoiceDate</th>\n",
              "      <th>UnitPrice</th>\n",
              "      <th>CustomerID</th>\n",
              "      <th>Country</th>\n",
              "    </tr>\n",
              "  </thead>\n",
              "  <tbody>\n",
              "    <tr>\n",
              "      <th>0</th>\n",
              "      <td>536365</td>\n",
              "      <td>85123A</td>\n",
              "      <td>WHITE HANGING HEART T-LIGHT HOLDER</td>\n",
              "      <td>6</td>\n",
              "      <td>12/1/2010 8:26</td>\n",
              "      <td>2.55</td>\n",
              "      <td>17850.0</td>\n",
              "      <td>United Kingdom</td>\n",
              "    </tr>\n",
              "    <tr>\n",
              "      <th>1</th>\n",
              "      <td>536365</td>\n",
              "      <td>71053</td>\n",
              "      <td>WHITE METAL LANTERN</td>\n",
              "      <td>6</td>\n",
              "      <td>12/1/2010 8:26</td>\n",
              "      <td>3.39</td>\n",
              "      <td>17850.0</td>\n",
              "      <td>United Kingdom</td>\n",
              "    </tr>\n",
              "    <tr>\n",
              "      <th>2</th>\n",
              "      <td>536365</td>\n",
              "      <td>84406B</td>\n",
              "      <td>CREAM CUPID HEARTS COAT HANGER</td>\n",
              "      <td>8</td>\n",
              "      <td>12/1/2010 8:26</td>\n",
              "      <td>2.75</td>\n",
              "      <td>17850.0</td>\n",
              "      <td>United Kingdom</td>\n",
              "    </tr>\n",
              "    <tr>\n",
              "      <th>3</th>\n",
              "      <td>536365</td>\n",
              "      <td>84029G</td>\n",
              "      <td>KNITTED UNION FLAG HOT WATER BOTTLE</td>\n",
              "      <td>6</td>\n",
              "      <td>12/1/2010 8:26</td>\n",
              "      <td>3.39</td>\n",
              "      <td>17850.0</td>\n",
              "      <td>United Kingdom</td>\n",
              "    </tr>\n",
              "    <tr>\n",
              "      <th>4</th>\n",
              "      <td>536365</td>\n",
              "      <td>84029E</td>\n",
              "      <td>RED WOOLLY HOTTIE WHITE HEART.</td>\n",
              "      <td>6</td>\n",
              "      <td>12/1/2010 8:26</td>\n",
              "      <td>3.39</td>\n",
              "      <td>17850.0</td>\n",
              "      <td>United Kingdom</td>\n",
              "    </tr>\n",
              "    <tr>\n",
              "      <th>5</th>\n",
              "      <td>536365</td>\n",
              "      <td>22752</td>\n",
              "      <td>SET 7 BABUSHKA NESTING BOXES</td>\n",
              "      <td>2</td>\n",
              "      <td>12/1/2010 8:26</td>\n",
              "      <td>7.65</td>\n",
              "      <td>17850.0</td>\n",
              "      <td>United Kingdom</td>\n",
              "    </tr>\n",
              "    <tr>\n",
              "      <th>6</th>\n",
              "      <td>536365</td>\n",
              "      <td>21730</td>\n",
              "      <td>GLASS STAR FROSTED T-LIGHT HOLDER</td>\n",
              "      <td>6</td>\n",
              "      <td>12/1/2010 8:26</td>\n",
              "      <td>4.25</td>\n",
              "      <td>17850.0</td>\n",
              "      <td>United Kingdom</td>\n",
              "    </tr>\n",
              "    <tr>\n",
              "      <th>7</th>\n",
              "      <td>536366</td>\n",
              "      <td>22633</td>\n",
              "      <td>HAND WARMER UNION JACK</td>\n",
              "      <td>6</td>\n",
              "      <td>12/1/2010 8:28</td>\n",
              "      <td>1.85</td>\n",
              "      <td>17850.0</td>\n",
              "      <td>United Kingdom</td>\n",
              "    </tr>\n",
              "    <tr>\n",
              "      <th>8</th>\n",
              "      <td>536366</td>\n",
              "      <td>22632</td>\n",
              "      <td>HAND WARMER RED POLKA DOT</td>\n",
              "      <td>6</td>\n",
              "      <td>12/1/2010 8:28</td>\n",
              "      <td>1.85</td>\n",
              "      <td>17850.0</td>\n",
              "      <td>United Kingdom</td>\n",
              "    </tr>\n",
              "    <tr>\n",
              "      <th>9</th>\n",
              "      <td>536367</td>\n",
              "      <td>84879</td>\n",
              "      <td>ASSORTED COLOUR BIRD ORNAMENT</td>\n",
              "      <td>32</td>\n",
              "      <td>12/1/2010 8:34</td>\n",
              "      <td>1.69</td>\n",
              "      <td>13047.0</td>\n",
              "      <td>United Kingdom</td>\n",
              "    </tr>\n",
              "  </tbody>\n",
              "</table>\n",
              "</div>"
            ],
            "text/plain": [
              "  InvoiceNo StockCode  ... CustomerID         Country\n",
              "0    536365    85123A  ...    17850.0  United Kingdom\n",
              "1    536365     71053  ...    17850.0  United Kingdom\n",
              "2    536365    84406B  ...    17850.0  United Kingdom\n",
              "3    536365    84029G  ...    17850.0  United Kingdom\n",
              "4    536365    84029E  ...    17850.0  United Kingdom\n",
              "5    536365     22752  ...    17850.0  United Kingdom\n",
              "6    536365     21730  ...    17850.0  United Kingdom\n",
              "7    536366     22633  ...    17850.0  United Kingdom\n",
              "8    536366     22632  ...    17850.0  United Kingdom\n",
              "9    536367     84879  ...    13047.0  United Kingdom\n",
              "\n",
              "[10 rows x 8 columns]"
            ]
          },
          "metadata": {
            "tags": []
          },
          "execution_count": 2
        }
      ]
    },
    {
      "cell_type": "code",
      "metadata": {
        "id": "2K8DfkC6c98T",
        "outputId": "07e0fb47-9ea9-4527-ca1f-092ef1c76d88",
        "colab": {
          "base_uri": "https://localhost:8080/"
        }
      },
      "source": [
        "# Exploring number of observations and attributes\n",
        "dataset.shape"
      ],
      "execution_count": null,
      "outputs": [
        {
          "output_type": "execute_result",
          "data": {
            "text/plain": [
              "(541909, 8)"
            ]
          },
          "metadata": {
            "tags": []
          },
          "execution_count": 3
        }
      ]
    },
    {
      "cell_type": "code",
      "metadata": {
        "id": "Za19FRgjdp9v",
        "outputId": "368376e1-a212-4904-c7f3-b015a9284d57",
        "colab": {
          "base_uri": "https://localhost:8080/"
        }
      },
      "source": [
        "# Exploring names of the attributes\n",
        "dataset.columns"
      ],
      "execution_count": null,
      "outputs": [
        {
          "output_type": "execute_result",
          "data": {
            "text/plain": [
              "Index(['InvoiceNo', 'StockCode', 'Description', 'Quantity', 'InvoiceDate',\n",
              "       'UnitPrice', 'CustomerID', 'Country'],\n",
              "      dtype='object')"
            ]
          },
          "metadata": {
            "tags": []
          },
          "execution_count": 4
        }
      ]
    },
    {
      "cell_type": "code",
      "metadata": {
        "id": "oj0xyHjNdrNa",
        "outputId": "57085fcf-6f70-4a13-db46-87b58d60d9ae",
        "colab": {
          "base_uri": "https://localhost:8080/"
        }
      },
      "source": [
        "# Exploring the types of the attributes\n",
        "dataset.dtypes"
      ],
      "execution_count": null,
      "outputs": [
        {
          "output_type": "execute_result",
          "data": {
            "text/plain": [
              "InvoiceNo       object\n",
              "StockCode       object\n",
              "Description     object\n",
              "Quantity         int64\n",
              "InvoiceDate     object\n",
              "UnitPrice      float64\n",
              "CustomerID     float64\n",
              "Country         object\n",
              "dtype: object"
            ]
          },
          "metadata": {
            "tags": []
          },
          "execution_count": 5
        }
      ]
    },
    {
      "cell_type": "code",
      "metadata": {
        "id": "nXEe_JDKdtJd",
        "outputId": "f3e1c29c-7b29-40ec-c482-869b8ac7e3ab",
        "colab": {
          "base_uri": "https://localhost:8080/"
        }
      },
      "source": [
        "# Exploring the statistics of the numerical attributes\n",
        "dataset.describe()"
      ],
      "execution_count": null,
      "outputs": [
        {
          "output_type": "execute_result",
          "data": {
            "text/html": [
              "<div>\n",
              "<style scoped>\n",
              "    .dataframe tbody tr th:only-of-type {\n",
              "        vertical-align: middle;\n",
              "    }\n",
              "\n",
              "    .dataframe tbody tr th {\n",
              "        vertical-align: top;\n",
              "    }\n",
              "\n",
              "    .dataframe thead th {\n",
              "        text-align: right;\n",
              "    }\n",
              "</style>\n",
              "<table border=\"1\" class=\"dataframe\">\n",
              "  <thead>\n",
              "    <tr style=\"text-align: right;\">\n",
              "      <th></th>\n",
              "      <th>Quantity</th>\n",
              "      <th>UnitPrice</th>\n",
              "      <th>CustomerID</th>\n",
              "    </tr>\n",
              "  </thead>\n",
              "  <tbody>\n",
              "    <tr>\n",
              "      <th>count</th>\n",
              "      <td>541909.000000</td>\n",
              "      <td>541909.000000</td>\n",
              "      <td>406829.000000</td>\n",
              "    </tr>\n",
              "    <tr>\n",
              "      <th>mean</th>\n",
              "      <td>9.552250</td>\n",
              "      <td>4.611114</td>\n",
              "      <td>15287.690570</td>\n",
              "    </tr>\n",
              "    <tr>\n",
              "      <th>std</th>\n",
              "      <td>218.081158</td>\n",
              "      <td>96.759853</td>\n",
              "      <td>1713.600303</td>\n",
              "    </tr>\n",
              "    <tr>\n",
              "      <th>min</th>\n",
              "      <td>-80995.000000</td>\n",
              "      <td>-11062.060000</td>\n",
              "      <td>12346.000000</td>\n",
              "    </tr>\n",
              "    <tr>\n",
              "      <th>25%</th>\n",
              "      <td>1.000000</td>\n",
              "      <td>1.250000</td>\n",
              "      <td>13953.000000</td>\n",
              "    </tr>\n",
              "    <tr>\n",
              "      <th>50%</th>\n",
              "      <td>3.000000</td>\n",
              "      <td>2.080000</td>\n",
              "      <td>15152.000000</td>\n",
              "    </tr>\n",
              "    <tr>\n",
              "      <th>75%</th>\n",
              "      <td>10.000000</td>\n",
              "      <td>4.130000</td>\n",
              "      <td>16791.000000</td>\n",
              "    </tr>\n",
              "    <tr>\n",
              "      <th>max</th>\n",
              "      <td>80995.000000</td>\n",
              "      <td>38970.000000</td>\n",
              "      <td>18287.000000</td>\n",
              "    </tr>\n",
              "  </tbody>\n",
              "</table>\n",
              "</div>"
            ],
            "text/plain": [
              "            Quantity      UnitPrice     CustomerID\n",
              "count  541909.000000  541909.000000  406829.000000\n",
              "mean        9.552250       4.611114   15287.690570\n",
              "std       218.081158      96.759853    1713.600303\n",
              "min    -80995.000000  -11062.060000   12346.000000\n",
              "25%         1.000000       1.250000   13953.000000\n",
              "50%         3.000000       2.080000   15152.000000\n",
              "75%        10.000000       4.130000   16791.000000\n",
              "max     80995.000000   38970.000000   18287.000000"
            ]
          },
          "metadata": {
            "tags": []
          },
          "execution_count": 6
        }
      ]
    },
    {
      "cell_type": "markdown",
      "metadata": {
        "id": "fSGiNKntgMvj"
      },
      "source": [
        "# <font color=\"blue\">**Data Pre-Processing**</font>"
      ]
    },
    {
      "cell_type": "markdown",
      "metadata": {
        "id": "kxt6FIfffxsp"
      },
      "source": [
        "## **Imputation**"
      ]
    },
    {
      "cell_type": "code",
      "metadata": {
        "id": "rb1jRfMddv4z",
        "outputId": "f582cbb7-4102-4038-87e1-4852f65426f8",
        "colab": {
          "base_uri": "https://localhost:8080/"
        }
      },
      "source": [
        "# calculating number of missing values in each of the attributes\n",
        "dataset.isnull().sum()"
      ],
      "execution_count": null,
      "outputs": [
        {
          "output_type": "execute_result",
          "data": {
            "text/plain": [
              "InvoiceNo           0\n",
              "StockCode           0\n",
              "Description      1454\n",
              "Quantity            0\n",
              "InvoiceDate         0\n",
              "UnitPrice           0\n",
              "CustomerID     135080\n",
              "Country             0\n",
              "dtype: int64"
            ]
          },
          "metadata": {
            "tags": []
          },
          "execution_count": 7
        }
      ]
    },
    {
      "cell_type": "code",
      "metadata": {
        "id": "-mnk3lzkg4wZ"
      },
      "source": [
        "# threshold to drop the observations if the proportion of null values is more than the threshold.\n",
        "threshold = 0.4"
      ],
      "execution_count": null,
      "outputs": []
    },
    {
      "cell_type": "code",
      "metadata": {
        "id": "ipXb0e6Wh-GO",
        "outputId": "4ca1271c-a0f7-4aa7-9748-e2bc758bdd73",
        "colab": {
          "base_uri": "https://localhost:8080/"
        }
      },
      "source": [
        "# proportion of null values in description attribute\n",
        "dataset['Description'].isnull().sum() / dataset.shape[0]"
      ],
      "execution_count": null,
      "outputs": [
        {
          "output_type": "execute_result",
          "data": {
            "text/plain": [
              "0.002683107311375157"
            ]
          },
          "metadata": {
            "tags": []
          },
          "execution_count": 9
        }
      ]
    },
    {
      "cell_type": "markdown",
      "metadata": {
        "id": "KTtDHH5jincQ"
      },
      "source": [
        "The proportion of null values in `Description` attribute is less than the `threshold`, hence safe to drop the observations with null values."
      ]
    },
    {
      "cell_type": "code",
      "metadata": {
        "id": "_MBxBRbcikVw"
      },
      "source": [
        "# Dropping the observations with null values for Description attribute\n",
        "dataset.dropna(subset=['Description'], inplace=True)"
      ],
      "execution_count": null,
      "outputs": []
    },
    {
      "cell_type": "code",
      "metadata": {
        "id": "q_aRPYq6i__k",
        "outputId": "5ef0d120-d53f-438c-99a2-d95b721c21ff",
        "colab": {
          "base_uri": "https://localhost:8080/"
        }
      },
      "source": [
        "# Validation of the dropped observations with null values for Description attribute\n",
        "dataset['Description'].isnull().sum()"
      ],
      "execution_count": null,
      "outputs": [
        {
          "output_type": "execute_result",
          "data": {
            "text/plain": [
              "0"
            ]
          },
          "metadata": {
            "tags": []
          },
          "execution_count": 11
        }
      ]
    },
    {
      "cell_type": "code",
      "metadata": {
        "id": "ZVVlRvCmjYNP",
        "outputId": "0fa63c69-d6f3-4c2f-ab30-b6c4daef6281",
        "colab": {
          "base_uri": "https://localhost:8080/"
        }
      },
      "source": [
        "# proportion of null values in CustomerID attribute\n",
        "dataset['CustomerID'].isnull().sum() / dataset.shape[0]"
      ],
      "execution_count": null,
      "outputs": [
        {
          "output_type": "execute_result",
          "data": {
            "text/plain": [
              "0.24724722687365275"
            ]
          },
          "metadata": {
            "tags": []
          },
          "execution_count": 12
        }
      ]
    },
    {
      "cell_type": "markdown",
      "metadata": {
        "id": "ZmQSIsLIjse_"
      },
      "source": [
        "The proportion of null values in `CustomerID` attribute is less than the `threshold`, hence safe to drop the observations with null values.\n"
      ]
    },
    {
      "cell_type": "code",
      "metadata": {
        "id": "MU0mru4Qjoy_"
      },
      "source": [
        "# Dropping the observations with null values for customerID attribute\n",
        "dataset.dropna(subset=['CustomerID'], inplace=True)"
      ],
      "execution_count": null,
      "outputs": []
    },
    {
      "cell_type": "code",
      "metadata": {
        "id": "L0y5xBmVnJSG",
        "outputId": "b0744fcb-07f6-4b33-de88-1dff5ef2ff1b",
        "colab": {
          "base_uri": "https://localhost:8080/"
        }
      },
      "source": [
        "# Validation of the dropped observations with null values for CustomerID attribute\n",
        "dataset['CustomerID'].isnull().sum()"
      ],
      "execution_count": null,
      "outputs": [
        {
          "output_type": "execute_result",
          "data": {
            "text/plain": [
              "0"
            ]
          },
          "metadata": {
            "tags": []
          },
          "execution_count": 14
        }
      ]
    },
    {
      "cell_type": "code",
      "metadata": {
        "id": "bmIW_UeknUEH",
        "outputId": "416292db-a817-4a8c-8879-5ae8aa330239",
        "colab": {
          "base_uri": "https://localhost:8080/"
        }
      },
      "source": [
        "# New shape of the dataset after dropping the observation with null values\n",
        "dataset.shape"
      ],
      "execution_count": null,
      "outputs": [
        {
          "output_type": "execute_result",
          "data": {
            "text/plain": [
              "(406829, 8)"
            ]
          },
          "metadata": {
            "tags": []
          },
          "execution_count": 15
        }
      ]
    },
    {
      "cell_type": "code",
      "metadata": {
        "id": "GDY5SKQQngtg",
        "outputId": "2589b801-0232-4377-96dd-46b44ae607fc",
        "colab": {
          "base_uri": "https://localhost:8080/"
        }
      },
      "source": [
        "# No attribute with null values\n",
        "dataset.isnull().sum()"
      ],
      "execution_count": null,
      "outputs": [
        {
          "output_type": "execute_result",
          "data": {
            "text/plain": [
              "InvoiceNo      0\n",
              "StockCode      0\n",
              "Description    0\n",
              "Quantity       0\n",
              "InvoiceDate    0\n",
              "UnitPrice      0\n",
              "CustomerID     0\n",
              "Country        0\n",
              "dtype: int64"
            ]
          },
          "metadata": {
            "tags": []
          },
          "execution_count": 16
        }
      ]
    },
    {
      "cell_type": "markdown",
      "metadata": {
        "id": "NMbbcgoznrSj"
      },
      "source": [
        "## **Binning**"
      ]
    },
    {
      "cell_type": "code",
      "metadata": {
        "id": "M7gx3K6bnoNr",
        "outputId": "cd159d46-9d75-43e9-dd9d-caeae31cc8e1",
        "colab": {
          "base_uri": "https://localhost:8080/"
        }
      },
      "source": [
        "# Obtaining the classes of Country categorical attribute \n",
        "dataset['Country'].unique()"
      ],
      "execution_count": null,
      "outputs": [
        {
          "output_type": "execute_result",
          "data": {
            "text/plain": [
              "array(['United Kingdom', 'France', 'Australia', 'Netherlands', 'Germany',\n",
              "       'Norway', 'EIRE', 'Switzerland', 'Spain', 'Poland', 'Portugal',\n",
              "       'Italy', 'Belgium', 'Lithuania', 'Japan', 'Iceland',\n",
              "       'Channel Islands', 'Denmark', 'Cyprus', 'Sweden', 'Austria',\n",
              "       'Israel', 'Finland', 'Greece', 'Singapore', 'Lebanon',\n",
              "       'United Arab Emirates', 'Saudi Arabia', 'Czech Republic', 'Canada',\n",
              "       'Unspecified', 'Brazil', 'USA', 'European Community', 'Bahrain',\n",
              "       'Malta', 'RSA'], dtype=object)"
            ]
          },
          "metadata": {
            "tags": []
          },
          "execution_count": 17
        }
      ]
    },
    {
      "cell_type": "code",
      "metadata": {
        "id": "nILrcmxyn6kL",
        "outputId": "11ffcc8d-8189-424a-cda0-1af6fc65448f",
        "colab": {
          "base_uri": "https://localhost:8080/"
        }
      },
      "source": [
        "# Obtaining the counts of each class of Country attribute\n",
        "dataset['Country'].value_counts()"
      ],
      "execution_count": null,
      "outputs": [
        {
          "output_type": "execute_result",
          "data": {
            "text/plain": [
              "United Kingdom          361878\n",
              "Germany                   9495\n",
              "France                    8491\n",
              "EIRE                      7485\n",
              "Spain                     2533\n",
              "Netherlands               2371\n",
              "Belgium                   2069\n",
              "Switzerland               1877\n",
              "Portugal                  1480\n",
              "Australia                 1259\n",
              "Norway                    1086\n",
              "Italy                      803\n",
              "Channel Islands            758\n",
              "Finland                    695\n",
              "Cyprus                     622\n",
              "Sweden                     462\n",
              "Austria                    401\n",
              "Denmark                    389\n",
              "Japan                      358\n",
              "Poland                     341\n",
              "USA                        291\n",
              "Israel                     250\n",
              "Unspecified                244\n",
              "Singapore                  229\n",
              "Iceland                    182\n",
              "Canada                     151\n",
              "Greece                     146\n",
              "Malta                      127\n",
              "United Arab Emirates        68\n",
              "European Community          61\n",
              "RSA                         58\n",
              "Lebanon                     45\n",
              "Lithuania                   35\n",
              "Brazil                      32\n",
              "Czech Republic              30\n",
              "Bahrain                     17\n",
              "Saudi Arabia                10\n",
              "Name: Country, dtype: int64"
            ]
          },
          "metadata": {
            "tags": []
          },
          "execution_count": 18
        }
      ]
    },
    {
      "cell_type": "markdown",
      "metadata": {
        "id": "immcLne2oQ0n"
      },
      "source": [
        "Replacing the `Country` name class with `others` whose frequency is less than 100"
      ]
    },
    {
      "cell_type": "code",
      "metadata": {
        "id": "3Dpp0mxwoMwC"
      },
      "source": [
        "dataset['Country'] = dataset['Country'].replace(['United Arab Emirates', 'European Community', 'RSA', 'Lebanon', 'Lithuania', 'Brazil', 'Czech Republic', 'Bahrain', 'Saudi Arabia'], 'Others')"
      ],
      "execution_count": null,
      "outputs": []
    },
    {
      "cell_type": "code",
      "metadata": {
        "id": "GDw2pkFdpJoM",
        "outputId": "4367e57b-8a33-4e82-ab60-29792dfc176d",
        "colab": {
          "base_uri": "https://localhost:8080/"
        }
      },
      "source": [
        "# Obtaining the new counts of each class of Country attribute\n",
        "dataset['Country'].value_counts()"
      ],
      "execution_count": null,
      "outputs": [
        {
          "output_type": "execute_result",
          "data": {
            "text/plain": [
              "United Kingdom     361878\n",
              "Germany              9495\n",
              "France               8491\n",
              "EIRE                 7485\n",
              "Spain                2533\n",
              "Netherlands          2371\n",
              "Belgium              2069\n",
              "Switzerland          1877\n",
              "Portugal             1480\n",
              "Australia            1259\n",
              "Norway               1086\n",
              "Italy                 803\n",
              "Channel Islands       758\n",
              "Finland               695\n",
              "Cyprus                622\n",
              "Sweden                462\n",
              "Austria               401\n",
              "Denmark               389\n",
              "Japan                 358\n",
              "Others                356\n",
              "Poland                341\n",
              "USA                   291\n",
              "Israel                250\n",
              "Unspecified           244\n",
              "Singapore             229\n",
              "Iceland               182\n",
              "Canada                151\n",
              "Greece                146\n",
              "Malta                 127\n",
              "Name: Country, dtype: int64"
            ]
          },
          "metadata": {
            "tags": []
          },
          "execution_count": 20
        }
      ]
    },
    {
      "cell_type": "markdown",
      "metadata": {
        "id": "VQUamq38pt1J"
      },
      "source": [
        "## **Removing and handling Outliers**\n",
        "\n",
        "Removing the outlier rows by using InterQuartile range"
      ]
    },
    {
      "cell_type": "code",
      "metadata": {
        "id": "RX5MgJFypTdv",
        "outputId": "878bf438-e4c6-45dd-8e77-9371e1466a12",
        "colab": {
          "base_uri": "https://localhost:8080/"
        }
      },
      "source": [
        "# Statistical description of Quantity attribute\n",
        "dataset['Quantity'].describe()"
      ],
      "execution_count": null,
      "outputs": [
        {
          "output_type": "execute_result",
          "data": {
            "text/plain": [
              "count    406829.000000\n",
              "mean         12.061303\n",
              "std         248.693370\n",
              "min      -80995.000000\n",
              "25%           2.000000\n",
              "50%           5.000000\n",
              "75%          12.000000\n",
              "max       80995.000000\n",
              "Name: Quantity, dtype: float64"
            ]
          },
          "metadata": {
            "tags": []
          },
          "execution_count": 21
        }
      ]
    },
    {
      "cell_type": "code",
      "metadata": {
        "id": "zJrkMj5iqNWu",
        "outputId": "a1c9e22e-c555-475e-96db-86cf953eef59",
        "colab": {
          "base_uri": "https://localhost:8080/"
        }
      },
      "source": [
        "# Obtaining q1, q3, iqr, upper and lower limits for Quantity attribute\n",
        "a = []\n",
        "a = np.sort(dataset['Quantity'])\n",
        "q1 = np.percentile(a, 25)\n",
        "q3 = np.percentile(a, 75)\n",
        "iqr = q3 - q1\n",
        "upper_lim = q3 + 1.5 * iqr\n",
        "lower_lim = q3 - 1.5 * iqr\n",
        "print(f'upper limit : {upper_lim}\\nlower limit : {lower_lim}')"
      ],
      "execution_count": null,
      "outputs": [
        {
          "output_type": "stream",
          "text": [
            "upper limit : 27.0\n",
            "lower limit : -3.0\n"
          ],
          "name": "stdout"
        }
      ]
    },
    {
      "cell_type": "code",
      "metadata": {
        "id": "lt8SMkJZq66e"
      },
      "source": [
        "# Removing the outliers by filtering\n",
        "dataset = dataset[(dataset['Quantity'] < upper_lim) & (dataset['Quantity'] > lower_lim)]"
      ],
      "execution_count": null,
      "outputs": []
    },
    {
      "cell_type": "code",
      "metadata": {
        "id": "o_SQVLRJrtCO",
        "outputId": "1cd92746-d60d-4e7f-8c4a-70ea256d3271",
        "colab": {
          "base_uri": "https://localhost:8080/"
        }
      },
      "source": [
        "# Statistical description of UnitPrice attribute\n",
        "dataset['UnitPrice'].describe()"
      ],
      "execution_count": null,
      "outputs": [
        {
          "output_type": "execute_result",
          "data": {
            "text/plain": [
              "count    377398.000000\n",
              "mean          3.601225\n",
              "std          71.955740\n",
              "min           0.000000\n",
              "25%           1.250000\n",
              "50%           1.950000\n",
              "75%           3.750000\n",
              "max       38970.000000\n",
              "Name: UnitPrice, dtype: float64"
            ]
          },
          "metadata": {
            "tags": []
          },
          "execution_count": 24
        }
      ]
    },
    {
      "cell_type": "code",
      "metadata": {
        "id": "t6eUSxlFr8v3",
        "outputId": "5754d929-7d88-431b-d6e1-2e016739d06c",
        "colab": {
          "base_uri": "https://localhost:8080/"
        }
      },
      "source": [
        "# Obtaining q1, q3, iqr, upper and lower limits for UnitPrice attribute\n",
        "a = []\n",
        "a = np.sort(dataset['UnitPrice'])\n",
        "q1 = np.percentile(a, 25)\n",
        "q3 = np.percentile(a, 75)\n",
        "iqr = q3 - q1\n",
        "upper_lim = q3 + 1.5 * iqr\n",
        "lower_lim = q3 - 1.5 * iqr\n",
        "print(f'upper limit : {upper_lim}\\nlower limit : {lower_lim}')"
      ],
      "execution_count": null,
      "outputs": [
        {
          "output_type": "stream",
          "text": [
            "upper limit : 7.5\n",
            "lower limit : 0.0\n"
          ],
          "name": "stdout"
        }
      ]
    },
    {
      "cell_type": "code",
      "metadata": {
        "id": "gt01voCOuDIZ"
      },
      "source": [
        "# Removing the outliers by filtering\n",
        "dataset = dataset[(dataset['UnitPrice'] < upper_lim) & (dataset['UnitPrice'] > lower_lim)]"
      ],
      "execution_count": null,
      "outputs": []
    },
    {
      "cell_type": "code",
      "metadata": {
        "id": "r4jdk3B6uOSm",
        "outputId": "47538a17-4794-4d42-8fac-56cfa8dd29ec",
        "colab": {
          "base_uri": "https://localhost:8080/"
        }
      },
      "source": [
        "# Obtaining the negative and 0 values of Quantity attribute\n",
        "a = []\n",
        "for i in dataset['Quantity']:\n",
        "  if i <= 0:\n",
        "    a.append(i)\n",
        "\n",
        "print(a)"
      ],
      "execution_count": null,
      "outputs": [
        {
          "output_type": "stream",
          "text": [
            "[-1, -1, -2, -1, -1, -1, -2, -1, -1, -2, -1, -2, -1, -1, -1, -1, -1, -2, -1, -1, -1, -1, -1, -1, -1, -1, -2, -2, -1, -1, -1, -1, -1, -1, -1, -1, -1, -1, -1, -2, -1, -1, -1, -1, -1, -1, -1, -1, -2, -2, -1, -1, -1, -1, -1, -1, -1, -1, -1, -1, -1, -1, -1, -1, -1, -1, -1, -1, -1, -2, -1, -1, -1, -1, -1, -1, -1, -2, -2, -1, -1, -1, -1, -1, -2, -2, -1, -2, -1, -1, -2, -1, -1, -1, -1, -1, -2, -1, -1, -1, -1, -1, -1, -1, -1, -1, -1, -1, -2, -1, -1, -1, -1, -1, -1, -1, -1, -1, -2, -2, -1, -1, -2, -1, -1, -1, -1, -1, -1, -1, -1, -1, -1, -1, -1, -2, -2, -1, -2, -2, -1, -2, -1, -2, -1, -1, -1, -1, -2, -1, -1, -1, -2, -2, -2, -1, -1, -1, -1, -1, -1, -1, -2, -1, -1, -2, -2, -1, -1, -1, -1, -1, -1, -2, -1, -1, -1, -2, -1, -2, -1, -2, -1, -1, -2, -1, -1, -2, -1, -1, -1, -1, -1, -1, -1, -1, -1, -1, -2, -2, -1, -1, -1, -1, -1, -2, -1, -2, -1, -1, -2, -1, -1, -2, -1, -1, -1, -1, -1, -1, -1, -1, -1, -2, -1, -2, -2, -1, -2, -1, -1, -1, -2, -1, -2, -2, -2, -1, -1, -2, -1, -1, -1, -1, -1, -1, -1, -1, -2, -1, -1, -1, -1, -1, -1, -1, -1, -1, -1, -2, -1, -2, -1, -1, -1, -2, -2, -2, -2, -2, -1, -1, -1, -1, -1, -1, -1, -1, -1, -1, -1, -1, -1, -1, -1, -1, -1, -1, -2, -1, -1, -2, -1, -1, -2, -1, -1, -1, -1, -2, -1, -1, -1, -1, -1, -1, -2, -1, -1, -1, -1, -1, -1, -1, -2, -1, -1, -2, -1, -1, -1, -1, -1, -2, -1, -1, -2, -1, -1, -1, -1, -1, -1, -1, -1, -1, -1, -2, -1, -1, -1, -1, -2, -2, -2, -1, -1, -1, -1, -1, -1, -1, -2, -2, -2, -2, -1, -1, -1, -1, -1, -2, -2, -2, -1, -1, -1, -1, -1, -1, -1, -1, -1, -1, -1, -1, -1, -1, -1, -1, -2, -2, -1, -1, -1, -1, -1, -1, -1, -1, -1, -1, -1, -1, -1, -2, -1, -1, -2, -1, -2, -2, -2, -2, -1, -2, -1, -1, -2, -2, -1, -2, -1, -1, -1, -1, -1, -1, -2, -1, -1, -1, -1, -1, -1, -2, -1, -1, -1, -2, -1, -2, -2, -2, -1, -1, -1, -2, -2, -1, -2, -1, -2, -2, -1, -1, -1, -2, -1, -1, -2, -2, -1, -1, -2, -1, -1, -1, -2, -1, -1, -1, -1, -1, -1, -1, -1, -2, -2, -2, -1, -1, -1, -2, -2, -1, -1, -2, -2, -2, -1, -1, -2, -1, -1, -1, -1, -1, -2, -2, -1, -1, -1, -1, -2, -1, -1, -1, -1, -2, -2, -1, -1, -1, -1, -2, -2, -2, -1, -1, -1, -1, -2, -1, -1, -1, -1, -1, -1, -2, -2, -1, -2, -1, -1, -2, -1, -2, -1, -1, -2, -1, -1, -1, -2, -1, -1, -2, -1, -1, -2, -1, -1, -1, -1, -1, -1, -1, -1, -1, -1, -1, -2, -2, -1, -1, -1, -1, -1, -1, -2, -1, -2, -1, -1, -2, -2, -2, -2, -2, -2, -1, -2, -1, -1, -2, -2, -2, -1, -2, -2, -2, -1, -2, -2, -1, -1, -2, -1, -2, -1, -1, -1, -1, -1, -2, -2, -2, -1, -1, -1, -1, -1, -1, -1, -1, -2, -1, -1, -1, -1, -1, -1, -1, -1, -1, -2, -1, -1, -2, -1, -1, -2, -1, -2, -1, -1, -1, -1, -1, -1, -1, -2, -2, -1, -1, -1, -1, -2, -2, -2, -1, -1, -1, -1, -1, -1, -1, -1, -1, -1, -1, -1, -1, -1, -1, -1, -1, -1, -2, -1, -1, -2, -2, -2, -2, -2, -2, -2, -2, -2, -1, -1, -1, -1, -1, -2, -1, -1, -1, -1, -1, -2, -1, -1, -1, -1, -1, -1, -1, -1, -2, -2, -1, -2, -1, -1, -2, -2, -1, -2, -1, -2, -1, -1, -1, -1, -1, -1, -2, -1, -1, -1, -2, -1, -2, -1, -1, -1, -1, -1, -1, -2, -1, -1, -1, -2, -1, -1, -1, -1, -1, -1, -1, -1, -2, -1, -1, -1, -1, -1, -1, -1, -2, -2, -1, -1, -1, -1, -1, -2, -1, -1, -1, -1, -2, -2, -1, -2, -1, -1, -1, -1, -1, -1, -1, -1, -1, -1, -2, -1, -1, -1, -2, -1, -2, -1, -1, -1, -1, -1, -1, -2, -1, -1, -1, -1, -1, -1, -1, -2, -1, -1, -2, -2, -1, -2, -1, -1, -2, -1, -1, -1, -1, -2, -1, -1, -1, -1, -1, -1, -2, -1, -1, -1, -1, -1, -1, -1, -1, -1, -1, -1, -1, -1, -1, -1, -1, -1, -1, -1, -2, -1, -2, -1, -1, -1, -1, -2, -1, -1, -2, -1, -1, -2, -2, -2, -1, -1, -1, -1, -2, -1, -2, -1, -1, -1, -1, -1, -1, -1, -1, -1, -2, -1, -2, -1, -1, -1, -1, -1, -1, -1, -2, -2, -1, -1, -2, -2, -1, -1, -1, -1, -1, -1, -1, -2, -1, -1, -2, -2, -1, -1, -1, -1, -1, -1, -1, -1, -2, -1, -2, -1, -1, -1, -2, -1, -1, -1, -1, -1, -1, -1, -2, -1, -1, -1, -1, -1, -2, -1, -1, -1, -1, -2, -1, -1, -1, -1, -1, -1, -1, -1, -1, -2, -2, -1, -1, -2, -1, -1, -1, -2, -1, -1, -2, -2, -1, -1, -1, -1, -1, -1, -2, -1, -1, -1, -1, -1, -1, -1, -1, -2, -2, -1, -1, -2, -2, -1, -1, -1, -1, -1, -2, -1, -2, -1, -1, -1, -1, -2, -2, -1, -1, -1, -2, -2, -1, -1, -1, -2, -2, -2, -2, -2, -1, -1, -1, -1, -2, -1, -1, -1, -1, -1, -1, -1, -1, -2, -2, -1, -2, -1, -1, -2, -1, -1, -2, -2, -1, -1, -1, -2, -2, -1, -1, -1, -1, -1, -1, -1, -1, -1, -1, -1, -1, -1, -2, -1, -1, -1, -1, -1, -1, -1, -2, -2, -2, -1, -1, -2, -1, -2, -2, -1, -1, -1, -1, -1, -1, -1, -2, -1, -1, -1, -1, -2, -1, -1, -2, -1, -1, -1, -1, -1, -2, -1, -1, -1, -1, -1, -1, -1, -1, -1, -1, -1, -1, -1, -2, -1, -1, -1, -1, -1, -1, -2, -1, -1, -1, -1, -1, -1, -2, -1, -1, -1, -1, -2, -2, -2, -1, -2, -1, -1, -1, -1, -2, -1, -2, -1, -1, -2, -2, -1, -1, -1, -1, -1, -1, -1, -1, -1, -1, -2, -1, -1, -1, -1, -2, -2, -2, -2, -2, -1, -1, -1, -1, -1, -1, -1, -2, -1, -1, -1, -1, -1, -1, -2, -2, -1, -1, -1, -2, -2, -2, -1, -2, -1, -1, -1, -1, -1, -1, -1, -2, -2, -2, -2, -2, -2, -2, -1, -1, -1, -1, -2, -2, -2, -1, -1, -1, -1, -1, -1, -2, -2, -1, -1, -1, -1, -1, -1, -1, -1, -1, -1, -1, -1, -2, -2, -1, -1, -1, -1, -1, -1, -2, -1, -1, -1, -1, -1, -2, -1, -1, -1, -1, -1, -1, -1, -1, -1, -1, -1, -1, -1, -2, -2, -1, -1, -1, -1, -1, -2, -1, -1, -1, -2, -1, -1, -1, -1, -2, -1, -2, -2, -2, -2, -1, -1, -1, -2, -1, -1, -1, -1, -1, -2, -1, -1, -1, -2, -2, -2, -1, -2, -1, -1, -1, -1, -1, -1, -1, -1, -1, -1, -1, -1, -1, -2, -1, -1, -1, -1, -2, -2, -1, -1, -2, -1, -2, -1, -1, -1, -1, -1, -1, -1, -1, -1, -2, -1, -1, -2, -2, -1, -1, -1, -2, -1, -1, -2, -2, -1, -1, -1, -1, -1, -2, -1, -2, -1, -1, -2, -2, -1, -1, -1, -1, -2, -1, -1, -2, -1, -2, -1, -1, -1, -1, -2, -2, -1, -1, -1, -1, -1, -1, -1, -1, -1, -1, -1, -1, -1, -1, -1, -2, -1, -1, -1, -1, -1, -2, -1, -1, -1, -1, -1, -1, -1, -1, -2, -1, -1, -1, -1, -1, -2, -2, -2, -2, -2, -1, -1, -2, -1, -2, -1, -2, -2, -1, -1, -1, -1, -2, -1, -1, -1, -1, -2, -2, -2, -1, -1, -2, -2, -2, -2, -2, -1, -1, -1, -1, -1, -1, -1, -1, -1, -1, -1, -1, -2, -1, -1, -2, -1, -1, -1, -1, -2, -1, -1, -1, -1, -1, -1, -2, -1, -1, -2, -1, -1, -1, -2, -1, -1, -2, -1, -2, -1, -2, -1, -2, -1, -1, -1, -1, -2, -1, -1, -1, -1, -1, -2, -2, -1, -1, -1, -1, -1, -1, -1, -1, -1, -1, -1, -1, -2, -1, -1, -1, -1, -1, -2, -1, -1, -2, -2, -1, -1, -1, -2, -1, -1, -2, -1, -2, -2, -1, -1, -1, -1, -1, -1, -1, -1, -1, -1, -1, -1, -2, -1, -1, -1, -1, -1, -1, -2, -1, -1, -1, -1, -1, -2, -2, -1, -1, -1, -2, -2, -1, -2, -2, -1, -1, -2, -1, -1, -1, -1, -1, -1, -2, -2, -2, -1, -1, -1, -1, -1, -1, -1, -1, -1, -2, -1, -1, -1, -1, -2, -1, -1, -2, -1, -1, -1, -2, -1, -1, -1, -2, -2, -1, -1, -2, -1, -2, -1, -1, -1, -1, -1, -1, -1, -1, -1, -1, -1, -1, -1, -1, -1, -2, -1, -2, -1, -1, -2, -1, -2, -1, -2, -1, -1, -1, -1, -1, -1, -2, -1, -1, -1, -2, -1, -2, -2, -1, -1, -2, -1, -2, -1, -2, -2, -1, -1, -1, -1, -2, -2, -2, -1, -2, -1, -1, -2, -2, -1, -1, -1, -1, -1, -1, -1, -1, -1, -1, -1, -1, -2, -1, -1, -2, -1, -2, -2, -2, -1, -2, -1, -1, -1, -2, -1, -1, -2, -2, -1, -1, -2, -2, -2, -1, -1, -1, -1, -1, -1, -1, -2, -1, -1, -1, -1, -2, -1, -2, -2, -1, -2, -1, -1, -2, -1, -1, -1, -1, -2, -1, -2, -1, -1, -1, -1, -1, -2, -1, -2, -1, -1, -1, -1, -2, -1, -1, -1, -2, -1, -1, -2, -1, -1, -1, -1, -1, -1, -1, -2, -1, -1, -1, -1, -2, -1, -1, -2, -1, -1, -1, -2, -1, -1, -2, -1, -1, -2, -1, -1, -1, -1, -1, -2, -2, -1, -1, -1, -1, -1, -1, -2, -2, -1, -1, -1, -2, -2, -1, -1, -1, -1, -1, -2, -2, -1, -2, -1, -1, -1, -2, -1, -1, -1, -1, -1, -2, -2, -1, -1, -1, -2, -1, -1, -1, -1, -1, -1, -1, -1, -1, -1, -1, -2, -1, -2, -2, -1, -1, -1, -1, -2, -2, -1, -2, -1, -2, -1, -1, -2, -1, -1, -1, -1, -1, -1, -1, -1, -1, -1, -1, -1, -1, -1, -1, -1, -1, -1, -2, -2, -1, -1, -1, -1, -1, -2, -1, -2, -1, -2, -2, -1, -1, -1, -1, -1, -1, -1, -1, -1, -1, -2, -1, -1, -1, -1, -1, -1, -1, -2, -1, -1, -1, -2, -1, -2, -2, -1, -1, -2, -1, -1, -1, -1, -1, -1, -1, -2, -1, -1, -1, -1, -1, -2, -1, -2, -1, -1, -1, -1, -1, -1, -2, -2, -2, -1, -1, -2, -1, -2, -1, -1, -1, -1, -2, -1, -1, -1, -1, -2, -2, -2, -2, -1, -1, -1, -1, -1, -1, -1, -1, -2, -1, -2, -2, -1, -2, -1, -1, -2, -2, -1, -2, -1, -2, -1, -1, -1, -1, -1, -1, -1, -1, -2, -2, -2, -2, -1, -1, -1, -2, -2, -2, -2, -2, -1, -1, -1, -1, -1, -1, -1, -1, -1, -1, -1, -1, -1, -1, -1, -1, -1, -1, -1, -1, -1, -1, -1, -1, -1, -1, -1, -1, -1, -1, -1, -1, -1, -1, -1, -1, -1, -1, -1, -1, -1, -1, -1, -1, -1, -1, -1, -1, -2, -2, -1, -1, -2, -1, -1, -2, -1, -2, -1, -1, -2, -1, -1, -2, -1, -1, -2, -1, -1, -1, -1, -1, -2, -2, -2, -1, -1, -1, -1, -1, -1, -1, -1, -2, -2, -2, -1, -2, -1, -2, -1, -1, -2, -1, -1, -1, -1, -2, -1, -1, -1, -1, -1, -1, -1, -1, -1, -1, -1, -1, -1, -1, -1, -1, -1, -1, -1, -1, -1, -1, -2, -1, -1, -1, -1, -1, -1, -1, -1, -1, -1, -1, -2, -1, -2, -1, -1, -1, -1, -1, -1, -1, -2, -1, -2, -2, -2, -1, -1, -1, -1, -1, -2, -1, -1, -2, -1, -1, -1, -1, -1, -1, -1, -1, -1, -1, -1, -2, -1, -1, -1, -1, -2, -1, -1, -2, -1, -2, -1, -1, -1, -1, -1, -1, -1, -1, -1, -1, -1, -1, -1, -2, -1, -1, -2, -1, -2, -1, -1, -2, -2, -1, -1, -1, -1, -1, -1, -1, -2, -1, -1, -1, -1, -1, -1, -1, -1, -1, -1, -1, -1, -1, -1, -1, -1, -1, -1, -2, -1, -1, -1, -1, -1, -1, -2, -1, -2, -2, -1, -2, -2, -2, -1, -1, -2, -2, -1, -1, -1, -1, -2, -2, -1, -1, -2, -1, -2, -2, -1, -1, -1, -1, -1, -1, -1, -1, -1, -1, -2, -1, -1, -1, -1, -1, -1, -1, -1, -1, -1, -1, -1, -1, -1, -1, -1, -1, -1, -1, -2, -1, -1, -1, -1, -1, -1, -1, -1, -1, -1, -1, -1, -1, -1, -1, -1, -1, -1, -2, -1, -1, -1, -1, -1, -1, -1, -1, -2, -1, -1, -1, -2, -2, -2, -1, -1, -1, -1, -2, -1, -1, -1, -1, -1, -1, -1, -1, -2, -2, -1, -1, -1, -1, -2, -1, -2, -1, -1, -1, -1, -1, -1, -1, -2, -2, -1, -1, -1, -1, -1, -1, -1, -1, -1, -1, -2, -1, -1, -1, -2, -1, -2, -1, -2, -1, -1, -1, -1, -1, -1, -1, -2, -1, -1, -1, -1, -1, -1, -1, -1, -2, -1, -2, -1, -1, -1, -1, -1, -1, -1, -2, -1, -1, -1, -1, -2, -1, -2, -1, -1, -1, -1, -1, -1, -1, -1, -1, -1, -1, -1, -2, -1, -2, -2, -1, -1, -1, -1, -2, -1, -1, -2, -1, -1, -1, -2, -1, -1, -2, -1, -2, -2, -1, -1, -1, -1, -1, -1, -1, -1, -2, -1, -2, -1, -1, -1, -1, -1, -1, -1, -2, -1, -2, -1, -1, -1, -1, -1, -2, -1, -1, -1, -1, -1, -2, -2, -2, -1, -2, -1, -1, -1, -1, -2, -1, -1, -2, -1, -2, -1, -1, -1, -1, -1, -2, -2, -2, -2, -1, -1, -1, -1, -1, -1, -1, -1, -1, -1, -1, -1, -1, -1, -2, -1, -1, -1, -1, -1, -1, -1, -1, -1, -2, -1, -1, -2, -1, -1, -1, -2, -2, -1, -2, -1, -1, -2, -1, -2, -1, -2, -1, -1, -1, -1, -2, -1, -1, -1, -1, -2, -2, -1, -1, -1, -1, -2, -2, -1, -1, -1, -1, -1, -1, -1, -1, -2, -1, -2, -1, -1, -2, -1, -1, -1, -1, -1, -1, -1, -1, -1, -1, -2, -1, -1, -1, -1, -2, -1, -1, -1, -1, -1, -2, -1, -2, -2, -1, -1, -1, -1, -1, -1, -1, -1, -1, -2, -1, -1, -1, -1, -1, -2, -1, -1, -2, -1, -1, -1, -1, -1, -1, -1, -1, -1, -1, -1, -1, -1, -1, -1, -1, -2, -2, -1, -1, -1, -1, -2, -1, -1, -1, -1, -2, -1, -1, -2, -2, -1, -1, -1, -1, -1, -1, -1, -1, -2, -1, -2, -2, -2, -2, -1, -2, -1, -1, -1, -1, -2, -1, -2, -2, -1, -2, -1, -1, -1, -1, -1, -1, -2, -2, -1, -1, -1, -1, -1, -1, -1, -1, -1, -2, -1, -2, -1, -1, -1, -2, -2, -2, -2, -2, -1, -1, -1, -1, -1, -1, -1, -2, -1, -1, -2, -1, -1, -1, -1, -1, -1, -1, -1, -2, -2, -2, -1, -1, -1, -1, -1, -1, -1, -1, -1, -1, -1, -2, -1, -1, -2, -1, -1, -1, -1, -2, -1, -1, -1, -1, -2, -2, -1, -2, -2, -1, -1, -1, -2, -1, -1, -1, -1, -1, -1, -1, -1, -2, -1, -1, -1, -1, -2, -2, -1, -1, -2, -2, -1, -2, -1, -1, -2, -2, -1, -1, -2, -1, -1, -1, -1, -1, -1, -2, -2, -1, -2, -1, -1, -1, -1, -2, -1, -1, -1, -2, -2, -2, -1, -1, -1, -2, -1, -2, -2, -2, -2, -1, -2, -1, -1, -1, -2, -2, -1, -1, -1, -1, -1, -2, -2, -1, -1, -2, -1, -2, -1, -2, -2, -2, -2, -1, -1, -2, -2, -1, -1, -1, -1, -1, -1, -2, -2, -1, -1, -2, -1, -1, -2, -1, -1, -1, -1, -1, -1, -1, -2, -2, -1, -1, -2, -2, -1, -2, -1, -1, -2, -1, -1, -2, -2, -2, -2, -1, -1, -2, -2, -2, -1, -1, -1, -1, -2, -1, -1, -1, -2, -1, -2, -2, -2, -1, -1, -2, -2, -1, -2, -1, -1, -1, -1, -1, -1, -2, -1, -2, -1, -1, -1, -2, -1, -2, -1, -1, -1, -2, -2, -1, -1, -2, -1, -1, -1, -1, -1, -1, -2, -2, -1, -1, -1, -2, -1, -2, -2, -1, -1, -2, -1, -2, -1, -2, -1, -2, -1, -1, -1, -1, -1, -1, -2, -2, -1, -2, -1, -1, -2, -1, -1, -1, -2, -1, -1, -1, -1, -1, -2, -2, -2, -1, -1, -1, -2, -1, -2, -2, -1, -1, -2, -1, -2, -2, -1, -1, -1, -1, -2, -2, -1, -1, -1, -2, -1, -2, -1, -1, -1, -1, -2, -1, -2, -1, -2, -1, -1, -2, -1, -2, -2, -1, -1, -1, -1, -2, -1, -1, -1, -2, -1, -1, -1, -2, -1, -2, -1, -1, -1, -1, -1, -1, -1, -1, -1, -1, -1, -1, -1, -2, -2, -2, -2, -1, -1, -1, -2, -2, -2, -2, -1, -1, -1, -1, -1, -2, -1, -1, -2, -1, -1, -1, -2, -1, -1, -1, -1, -2, -1, -2, -1, -1, -1, -2, -1, -2, -1, -2, -2, -2, -1, -2, -1, -1, -1, -2, -2, -1, -1, -1, -1, -1, -1, -1, -1, -2, -1, -1, -1, -1, -1, -1, -1, -1, -2, -1, -2, -1, -1, -1, -1, -2, -1, -2, -1, -2, -1, -1, -1, -1, -2, -1, -2, -2, -1, -2, -1, -1, -1, -2, -1, -1, -1, -1, -1, -2, -1, -1, -1, -1, -1, -1, -1, -1, -2, -1, -1, -1, -1, -1, -2, -2, -1, -2, -2, -2, -2, -1, -2, -1, -1, -1, -1, -2, -2, -2, -2, -2, -2, -1, -1, -1, -1, -1, -1, -2, -2, -1, -1, -1, -2, -1, -1, -1, -1, -1, -1, -1, -1, -1, -1, -1, -1, -1, -1, -1, -1, -1, -1, -1, -2, -1, -1, -1, -1, -1, -2, -1, -1, -1, -2, -1, -1, -1, -1, -1, -2, -2, -1, -1, -1, -1, -2, -1, -1, -2, -1, -1, -1, -1, -1, -1, -1, -1, -2, -1, -1, -1, -1, -2, -1, -1, -1, -1, -1, -2, -1, -1, -1, -1, -1, -2, -1, -1, -1, -1, -2, -2, -1, -1, -1, -1, -2, -1, -1, -2, -1, -2, -2, -1, -1, -1, -1, -1, -1, -1, -1, -1, -1, -1, -1, -1, -1, -1, -2, -2, -2, -2, -2, -1, -1, -1, -1, -2, -1, -1, -1, -1, -1, -2, -2, -1, -1, -1, -1, -1, -1, -1, -1, -1, -2, -1, -1, -1, -1, -2, -1, -2, -2, -2, -1, -1, -2, -1, -1, -1, -1, -1, -2, -1, -1, -1, -1, -1, -2, -1, -1, -2, -1, -1, -1, -1, -1, -1, -2, -2, -1, -1, -1, -2, -1, -1, -1, -2, -1, -1, -1, -1, -1, -2, -2, -2, -2, -2, -2, -1, -2, -2, -1, -1, -1, -1, -1, -1, -2, -1, -1, -1, -1, -2, -1, -1, -1, -1, -1, -2, -1, -1, -1, -1, -2, -1, -2, -1, -1, -1, -1, -1, -1, -1, -1, -1, -2, -1, -1, -2, -1, -1, -2, -1, -1, -1, -2, -2, -1, -1, -1, -1, -1, -1, -1, -2, -1, -1, -2, -2, -1, -1, -1, -2, -1, -1, -1, -1, -1, -2, -2, -2, -1, -2, -1, -2, -2, -2, -2, -1, -1, -2, -1, -1, -1, -1, -1, -1, -1, -1, -2, -2, -2, -1, -1, -1, -1, -1, -1, -1, -1, -1, -1, -1, -1, -1, -2, -2, -2, -2, -2, -1, -1, -1, -2, -1, -1, -1, -1, -1, -1, -1, -1, -2, -1, -2, -1, -1, -1, -1, -1, -1, -1, -1, -1, -1, -2, -2, -1, -1, -1, -1, -1, -1, -2, -1, -1, -1, -1, -2, -2, -1, -1, -2, -1, -1, -1, -2, -2, -2, -1, -1, -1, -1, -1, -1, -1, -2, -2, -2, -1, -2, -1, -1, -1, -1, -1, -1, -1, -1, -1, -1, -1, -1, -1, -1, -2, -1, -1, -2, -1, -2, -1, -1, -2, -1, -1, -1, -1, -1, -1, -1, -2, -1, -1, -2, -1, -1, -1, -1, -1, -1, -1, -1, -2, -2, -1, -1, -1, -1, -1, -1, -1, -1, -2, -1, -1, -1, -1, -1, -2, -1, -1, -2, -2, -1, -1, -2, -1, -1, -1, -2, -2, -1, -1, -1, -2, -2, -1, -1, -1, -1, -2, -2, -1, -2, -1, -1, -1, -1, -2, -2, -1, -1, -1, -1, -1, -1, -1, -1, -1, -2, -1, -1, -1, -2, -1, -1, -1, -1, -1, -2, -1, -1, -1, -2, -1, -1, -1, -1, -1, -1, -1, -1, -1, -1, -1, -1, -2, -2, -1, -1, -1, -2, -1, -1, -1, -1, -1, -1, -1, -1, -1, -2, -1, -1, -1, -1, -2, -1, -1, -1, -1, -1, -1, -1, -2, -1, -1, -1, -1, -1, -1, -1, -1, -2, -2, -1, -2, -1, -1, -1, -1, -1, -1, -1, -1, -2, -1, -2, -1, -1, -1, -2, -1, -1, -2, -2, -1, -2, -1, -1]\n"
          ],
          "name": "stdout"
        }
      ]
    },
    {
      "cell_type": "code",
      "metadata": {
        "id": "QBx0h7KAumEp"
      },
      "source": [
        "# Excluding negative quantity and 0 valued observations\n",
        "dataset = dataset[dataset['Quantity'] > 0]"
      ],
      "execution_count": null,
      "outputs": []
    },
    {
      "cell_type": "code",
      "metadata": {
        "id": "5i1Szs7zpv4M",
        "outputId": "cd030a5d-e720-4c5f-b5a5-357447a2f501",
        "colab": {
          "base_uri": "https://localhost:8080/"
        }
      },
      "source": [
        "# Obtaining the negative and 0 values of UnitPrice attribute\n",
        "b = []\n",
        "for i in dataset['UnitPrice']:\n",
        "  if i <= 0:\n",
        "    b.append(i)\n",
        "print(b)"
      ],
      "execution_count": null,
      "outputs": [
        {
          "output_type": "stream",
          "text": [
            "[]\n"
          ],
          "name": "stdout"
        }
      ]
    },
    {
      "cell_type": "code",
      "metadata": {
        "id": "bkmdUMt2qH4N"
      },
      "source": [
        "# Excluding negative quantity and 0 valued observations\n",
        "dataset = dataset[dataset['UnitPrice'] > 0]"
      ],
      "execution_count": null,
      "outputs": []
    },
    {
      "cell_type": "code",
      "metadata": {
        "id": "52pwxZE8qR6H",
        "outputId": "fb9bcec5-f56b-4f16-e22d-a8d55554db0b",
        "colab": {
          "base_uri": "https://localhost:8080/"
        }
      },
      "source": [
        "# New shape of the dataset\n",
        "dataset.shape"
      ],
      "execution_count": null,
      "outputs": [
        {
          "output_type": "execute_result",
          "data": {
            "text/plain": [
              "(337527, 8)"
            ]
          },
          "metadata": {
            "tags": []
          },
          "execution_count": 31
        }
      ]
    },
    {
      "cell_type": "markdown",
      "metadata": {
        "id": "A36NzJd0qcKp"
      },
      "source": [
        "## **Log Transformation**"
      ]
    },
    {
      "cell_type": "code",
      "metadata": {
        "id": "yTJJNvl9qW_A"
      },
      "source": [
        "# Applying log transformation on Quantity and UnitPrice attributes\n",
        "dataset['Log_Transformed_Quantity'] = dataset['Quantity'].transform(np.log1p)\n",
        "dataset['Log_Transformed_UnitPrice'] = dataset['UnitPrice'].transform(np.log1p)"
      ],
      "execution_count": null,
      "outputs": []
    },
    {
      "cell_type": "code",
      "metadata": {
        "id": "g8_-dKtArKgU",
        "outputId": "d84001d2-d070-401c-ad54-ac1f504aae4a",
        "colab": {
          "base_uri": "https://localhost:8080/"
        }
      },
      "source": [
        "# Exploring the dataset after transformations\n",
        "dataset.head(10)"
      ],
      "execution_count": null,
      "outputs": [
        {
          "output_type": "execute_result",
          "data": {
            "text/html": [
              "<div>\n",
              "<style scoped>\n",
              "    .dataframe tbody tr th:only-of-type {\n",
              "        vertical-align: middle;\n",
              "    }\n",
              "\n",
              "    .dataframe tbody tr th {\n",
              "        vertical-align: top;\n",
              "    }\n",
              "\n",
              "    .dataframe thead th {\n",
              "        text-align: right;\n",
              "    }\n",
              "</style>\n",
              "<table border=\"1\" class=\"dataframe\">\n",
              "  <thead>\n",
              "    <tr style=\"text-align: right;\">\n",
              "      <th></th>\n",
              "      <th>InvoiceNo</th>\n",
              "      <th>StockCode</th>\n",
              "      <th>Description</th>\n",
              "      <th>Quantity</th>\n",
              "      <th>InvoiceDate</th>\n",
              "      <th>UnitPrice</th>\n",
              "      <th>CustomerID</th>\n",
              "      <th>Country</th>\n",
              "      <th>Log_Transformed_Quantity</th>\n",
              "      <th>Log_Transformed_UnitPrice</th>\n",
              "    </tr>\n",
              "  </thead>\n",
              "  <tbody>\n",
              "    <tr>\n",
              "      <th>0</th>\n",
              "      <td>536365</td>\n",
              "      <td>85123A</td>\n",
              "      <td>WHITE HANGING HEART T-LIGHT HOLDER</td>\n",
              "      <td>6</td>\n",
              "      <td>12/1/2010 8:26</td>\n",
              "      <td>2.55</td>\n",
              "      <td>17850.0</td>\n",
              "      <td>United Kingdom</td>\n",
              "      <td>1.945910</td>\n",
              "      <td>1.266948</td>\n",
              "    </tr>\n",
              "    <tr>\n",
              "      <th>1</th>\n",
              "      <td>536365</td>\n",
              "      <td>71053</td>\n",
              "      <td>WHITE METAL LANTERN</td>\n",
              "      <td>6</td>\n",
              "      <td>12/1/2010 8:26</td>\n",
              "      <td>3.39</td>\n",
              "      <td>17850.0</td>\n",
              "      <td>United Kingdom</td>\n",
              "      <td>1.945910</td>\n",
              "      <td>1.479329</td>\n",
              "    </tr>\n",
              "    <tr>\n",
              "      <th>2</th>\n",
              "      <td>536365</td>\n",
              "      <td>84406B</td>\n",
              "      <td>CREAM CUPID HEARTS COAT HANGER</td>\n",
              "      <td>8</td>\n",
              "      <td>12/1/2010 8:26</td>\n",
              "      <td>2.75</td>\n",
              "      <td>17850.0</td>\n",
              "      <td>United Kingdom</td>\n",
              "      <td>2.197225</td>\n",
              "      <td>1.321756</td>\n",
              "    </tr>\n",
              "    <tr>\n",
              "      <th>3</th>\n",
              "      <td>536365</td>\n",
              "      <td>84029G</td>\n",
              "      <td>KNITTED UNION FLAG HOT WATER BOTTLE</td>\n",
              "      <td>6</td>\n",
              "      <td>12/1/2010 8:26</td>\n",
              "      <td>3.39</td>\n",
              "      <td>17850.0</td>\n",
              "      <td>United Kingdom</td>\n",
              "      <td>1.945910</td>\n",
              "      <td>1.479329</td>\n",
              "    </tr>\n",
              "    <tr>\n",
              "      <th>4</th>\n",
              "      <td>536365</td>\n",
              "      <td>84029E</td>\n",
              "      <td>RED WOOLLY HOTTIE WHITE HEART.</td>\n",
              "      <td>6</td>\n",
              "      <td>12/1/2010 8:26</td>\n",
              "      <td>3.39</td>\n",
              "      <td>17850.0</td>\n",
              "      <td>United Kingdom</td>\n",
              "      <td>1.945910</td>\n",
              "      <td>1.479329</td>\n",
              "    </tr>\n",
              "    <tr>\n",
              "      <th>6</th>\n",
              "      <td>536365</td>\n",
              "      <td>21730</td>\n",
              "      <td>GLASS STAR FROSTED T-LIGHT HOLDER</td>\n",
              "      <td>6</td>\n",
              "      <td>12/1/2010 8:26</td>\n",
              "      <td>4.25</td>\n",
              "      <td>17850.0</td>\n",
              "      <td>United Kingdom</td>\n",
              "      <td>1.945910</td>\n",
              "      <td>1.658228</td>\n",
              "    </tr>\n",
              "    <tr>\n",
              "      <th>7</th>\n",
              "      <td>536366</td>\n",
              "      <td>22633</td>\n",
              "      <td>HAND WARMER UNION JACK</td>\n",
              "      <td>6</td>\n",
              "      <td>12/1/2010 8:28</td>\n",
              "      <td>1.85</td>\n",
              "      <td>17850.0</td>\n",
              "      <td>United Kingdom</td>\n",
              "      <td>1.945910</td>\n",
              "      <td>1.047319</td>\n",
              "    </tr>\n",
              "    <tr>\n",
              "      <th>8</th>\n",
              "      <td>536366</td>\n",
              "      <td>22632</td>\n",
              "      <td>HAND WARMER RED POLKA DOT</td>\n",
              "      <td>6</td>\n",
              "      <td>12/1/2010 8:28</td>\n",
              "      <td>1.85</td>\n",
              "      <td>17850.0</td>\n",
              "      <td>United Kingdom</td>\n",
              "      <td>1.945910</td>\n",
              "      <td>1.047319</td>\n",
              "    </tr>\n",
              "    <tr>\n",
              "      <th>10</th>\n",
              "      <td>536367</td>\n",
              "      <td>22745</td>\n",
              "      <td>POPPY'S PLAYHOUSE BEDROOM</td>\n",
              "      <td>6</td>\n",
              "      <td>12/1/2010 8:34</td>\n",
              "      <td>2.10</td>\n",
              "      <td>13047.0</td>\n",
              "      <td>United Kingdom</td>\n",
              "      <td>1.945910</td>\n",
              "      <td>1.131402</td>\n",
              "    </tr>\n",
              "    <tr>\n",
              "      <th>11</th>\n",
              "      <td>536367</td>\n",
              "      <td>22748</td>\n",
              "      <td>POPPY'S PLAYHOUSE KITCHEN</td>\n",
              "      <td>6</td>\n",
              "      <td>12/1/2010 8:34</td>\n",
              "      <td>2.10</td>\n",
              "      <td>13047.0</td>\n",
              "      <td>United Kingdom</td>\n",
              "      <td>1.945910</td>\n",
              "      <td>1.131402</td>\n",
              "    </tr>\n",
              "  </tbody>\n",
              "</table>\n",
              "</div>"
            ],
            "text/plain": [
              "   InvoiceNo StockCode  ... Log_Transformed_Quantity  Log_Transformed_UnitPrice\n",
              "0     536365    85123A  ...                 1.945910                   1.266948\n",
              "1     536365     71053  ...                 1.945910                   1.479329\n",
              "2     536365    84406B  ...                 2.197225                   1.321756\n",
              "3     536365    84029G  ...                 1.945910                   1.479329\n",
              "4     536365    84029E  ...                 1.945910                   1.479329\n",
              "6     536365     21730  ...                 1.945910                   1.658228\n",
              "7     536366     22633  ...                 1.945910                   1.047319\n",
              "8     536366     22632  ...                 1.945910                   1.047319\n",
              "10    536367     22745  ...                 1.945910                   1.131402\n",
              "11    536367     22748  ...                 1.945910                   1.131402\n",
              "\n",
              "[10 rows x 10 columns]"
            ]
          },
          "metadata": {
            "tags": []
          },
          "execution_count": 33
        }
      ]
    },
    {
      "cell_type": "markdown",
      "metadata": {
        "id": "seWIZgcfrR2c"
      },
      "source": [
        "## **Scaling**"
      ]
    },
    {
      "cell_type": "markdown",
      "metadata": {
        "id": "m2Ta-6NbrfLp"
      },
      "source": [
        "### 1. Normalization"
      ]
    },
    {
      "cell_type": "code",
      "metadata": {
        "id": "HvWfPNdyrPfn"
      },
      "source": [
        "dataset['Normalized_Quantity'] = (dataset['Quantity'] - dataset['Quantity'].min()) / (dataset['Quantity'].max() - dataset['Quantity'].min())\n",
        "\n",
        "dataset['Normalized_UnitPrice'] = (dataset['UnitPrice'] - dataset['UnitPrice'].min()) / (dataset['UnitPrice'].max() - dataset['UnitPrice'].min()) "
      ],
      "execution_count": null,
      "outputs": []
    },
    {
      "cell_type": "markdown",
      "metadata": {
        "id": "ur_WQKMZsR6s"
      },
      "source": [
        "### 2. Standardization"
      ]
    },
    {
      "cell_type": "code",
      "metadata": {
        "id": "FTFYJsv7sQqH"
      },
      "source": [
        "dataset['Standardized_Quantity'] = (dataset['Quantity'] - dataset['Quantity'].mean()) / dataset['Quantity'].std()\n",
        "\n",
        "dataset['Standardized_UnitPrice'] = (dataset['UnitPrice'] - dataset['UnitPrice'].mean()) / dataset['UnitPrice'].std()"
      ],
      "execution_count": null,
      "outputs": []
    },
    {
      "cell_type": "code",
      "metadata": {
        "id": "yCiCvxEks0Dy",
        "outputId": "58bc9987-6e02-481a-e054-fbc870a10998",
        "colab": {
          "base_uri": "https://localhost:8080/"
        }
      },
      "source": [
        "# Exploring the dataset after scaling\n",
        "dataset.head(10)"
      ],
      "execution_count": null,
      "outputs": [
        {
          "output_type": "execute_result",
          "data": {
            "text/html": [
              "<div>\n",
              "<style scoped>\n",
              "    .dataframe tbody tr th:only-of-type {\n",
              "        vertical-align: middle;\n",
              "    }\n",
              "\n",
              "    .dataframe tbody tr th {\n",
              "        vertical-align: top;\n",
              "    }\n",
              "\n",
              "    .dataframe thead th {\n",
              "        text-align: right;\n",
              "    }\n",
              "</style>\n",
              "<table border=\"1\" class=\"dataframe\">\n",
              "  <thead>\n",
              "    <tr style=\"text-align: right;\">\n",
              "      <th></th>\n",
              "      <th>InvoiceNo</th>\n",
              "      <th>StockCode</th>\n",
              "      <th>Description</th>\n",
              "      <th>Quantity</th>\n",
              "      <th>InvoiceDate</th>\n",
              "      <th>UnitPrice</th>\n",
              "      <th>CustomerID</th>\n",
              "      <th>Country</th>\n",
              "      <th>Log_Transformed_Quantity</th>\n",
              "      <th>Log_Transformed_UnitPrice</th>\n",
              "      <th>Normalized_Quantity</th>\n",
              "      <th>Normalized_UnitPrice</th>\n",
              "      <th>Standardized_Quantity</th>\n",
              "      <th>Standardized_UnitPrice</th>\n",
              "    </tr>\n",
              "  </thead>\n",
              "  <tbody>\n",
              "    <tr>\n",
              "      <th>0</th>\n",
              "      <td>536365</td>\n",
              "      <td>85123A</td>\n",
              "      <td>WHITE HANGING HEART T-LIGHT HOLDER</td>\n",
              "      <td>6</td>\n",
              "      <td>12/1/2010 8:26</td>\n",
              "      <td>2.55</td>\n",
              "      <td>17850.0</td>\n",
              "      <td>United Kingdom</td>\n",
              "      <td>1.945910</td>\n",
              "      <td>1.266948</td>\n",
              "      <td>0.20</td>\n",
              "      <td>0.341735</td>\n",
              "      <td>-0.219014</td>\n",
              "      <td>0.239846</td>\n",
              "    </tr>\n",
              "    <tr>\n",
              "      <th>1</th>\n",
              "      <td>536365</td>\n",
              "      <td>71053</td>\n",
              "      <td>WHITE METAL LANTERN</td>\n",
              "      <td>6</td>\n",
              "      <td>12/1/2010 8:26</td>\n",
              "      <td>3.39</td>\n",
              "      <td>17850.0</td>\n",
              "      <td>United Kingdom</td>\n",
              "      <td>1.945910</td>\n",
              "      <td>1.479329</td>\n",
              "      <td>0.20</td>\n",
              "      <td>0.454350</td>\n",
              "      <td>-0.219014</td>\n",
              "      <td>0.788737</td>\n",
              "    </tr>\n",
              "    <tr>\n",
              "      <th>2</th>\n",
              "      <td>536365</td>\n",
              "      <td>84406B</td>\n",
              "      <td>CREAM CUPID HEARTS COAT HANGER</td>\n",
              "      <td>8</td>\n",
              "      <td>12/1/2010 8:26</td>\n",
              "      <td>2.75</td>\n",
              "      <td>17850.0</td>\n",
              "      <td>United Kingdom</td>\n",
              "      <td>2.197225</td>\n",
              "      <td>1.321756</td>\n",
              "      <td>0.28</td>\n",
              "      <td>0.368548</td>\n",
              "      <td>0.076431</td>\n",
              "      <td>0.370534</td>\n",
              "    </tr>\n",
              "    <tr>\n",
              "      <th>3</th>\n",
              "      <td>536365</td>\n",
              "      <td>84029G</td>\n",
              "      <td>KNITTED UNION FLAG HOT WATER BOTTLE</td>\n",
              "      <td>6</td>\n",
              "      <td>12/1/2010 8:26</td>\n",
              "      <td>3.39</td>\n",
              "      <td>17850.0</td>\n",
              "      <td>United Kingdom</td>\n",
              "      <td>1.945910</td>\n",
              "      <td>1.479329</td>\n",
              "      <td>0.20</td>\n",
              "      <td>0.454350</td>\n",
              "      <td>-0.219014</td>\n",
              "      <td>0.788737</td>\n",
              "    </tr>\n",
              "    <tr>\n",
              "      <th>4</th>\n",
              "      <td>536365</td>\n",
              "      <td>84029E</td>\n",
              "      <td>RED WOOLLY HOTTIE WHITE HEART.</td>\n",
              "      <td>6</td>\n",
              "      <td>12/1/2010 8:26</td>\n",
              "      <td>3.39</td>\n",
              "      <td>17850.0</td>\n",
              "      <td>United Kingdom</td>\n",
              "      <td>1.945910</td>\n",
              "      <td>1.479329</td>\n",
              "      <td>0.20</td>\n",
              "      <td>0.454350</td>\n",
              "      <td>-0.219014</td>\n",
              "      <td>0.788737</td>\n",
              "    </tr>\n",
              "    <tr>\n",
              "      <th>6</th>\n",
              "      <td>536365</td>\n",
              "      <td>21730</td>\n",
              "      <td>GLASS STAR FROSTED T-LIGHT HOLDER</td>\n",
              "      <td>6</td>\n",
              "      <td>12/1/2010 8:26</td>\n",
              "      <td>4.25</td>\n",
              "      <td>17850.0</td>\n",
              "      <td>United Kingdom</td>\n",
              "      <td>1.945910</td>\n",
              "      <td>1.658228</td>\n",
              "      <td>0.20</td>\n",
              "      <td>0.569647</td>\n",
              "      <td>-0.219014</td>\n",
              "      <td>1.350697</td>\n",
              "    </tr>\n",
              "    <tr>\n",
              "      <th>7</th>\n",
              "      <td>536366</td>\n",
              "      <td>22633</td>\n",
              "      <td>HAND WARMER UNION JACK</td>\n",
              "      <td>6</td>\n",
              "      <td>12/1/2010 8:28</td>\n",
              "      <td>1.85</td>\n",
              "      <td>17850.0</td>\n",
              "      <td>United Kingdom</td>\n",
              "      <td>1.945910</td>\n",
              "      <td>1.047319</td>\n",
              "      <td>0.20</td>\n",
              "      <td>0.247888</td>\n",
              "      <td>-0.219014</td>\n",
              "      <td>-0.217563</td>\n",
              "    </tr>\n",
              "    <tr>\n",
              "      <th>8</th>\n",
              "      <td>536366</td>\n",
              "      <td>22632</td>\n",
              "      <td>HAND WARMER RED POLKA DOT</td>\n",
              "      <td>6</td>\n",
              "      <td>12/1/2010 8:28</td>\n",
              "      <td>1.85</td>\n",
              "      <td>17850.0</td>\n",
              "      <td>United Kingdom</td>\n",
              "      <td>1.945910</td>\n",
              "      <td>1.047319</td>\n",
              "      <td>0.20</td>\n",
              "      <td>0.247888</td>\n",
              "      <td>-0.219014</td>\n",
              "      <td>-0.217563</td>\n",
              "    </tr>\n",
              "    <tr>\n",
              "      <th>10</th>\n",
              "      <td>536367</td>\n",
              "      <td>22745</td>\n",
              "      <td>POPPY'S PLAYHOUSE BEDROOM</td>\n",
              "      <td>6</td>\n",
              "      <td>12/1/2010 8:34</td>\n",
              "      <td>2.10</td>\n",
              "      <td>13047.0</td>\n",
              "      <td>United Kingdom</td>\n",
              "      <td>1.945910</td>\n",
              "      <td>1.131402</td>\n",
              "      <td>0.20</td>\n",
              "      <td>0.281405</td>\n",
              "      <td>-0.219014</td>\n",
              "      <td>-0.054203</td>\n",
              "    </tr>\n",
              "    <tr>\n",
              "      <th>11</th>\n",
              "      <td>536367</td>\n",
              "      <td>22748</td>\n",
              "      <td>POPPY'S PLAYHOUSE KITCHEN</td>\n",
              "      <td>6</td>\n",
              "      <td>12/1/2010 8:34</td>\n",
              "      <td>2.10</td>\n",
              "      <td>13047.0</td>\n",
              "      <td>United Kingdom</td>\n",
              "      <td>1.945910</td>\n",
              "      <td>1.131402</td>\n",
              "      <td>0.20</td>\n",
              "      <td>0.281405</td>\n",
              "      <td>-0.219014</td>\n",
              "      <td>-0.054203</td>\n",
              "    </tr>\n",
              "  </tbody>\n",
              "</table>\n",
              "</div>"
            ],
            "text/plain": [
              "   InvoiceNo StockCode  ... Standardized_Quantity  Standardized_UnitPrice\n",
              "0     536365    85123A  ...             -0.219014                0.239846\n",
              "1     536365     71053  ...             -0.219014                0.788737\n",
              "2     536365    84406B  ...              0.076431                0.370534\n",
              "3     536365    84029G  ...             -0.219014                0.788737\n",
              "4     536365    84029E  ...             -0.219014                0.788737\n",
              "6     536365     21730  ...             -0.219014                1.350697\n",
              "7     536366     22633  ...             -0.219014               -0.217563\n",
              "8     536366     22632  ...             -0.219014               -0.217563\n",
              "10    536367     22745  ...             -0.219014               -0.054203\n",
              "11    536367     22748  ...             -0.219014               -0.054203\n",
              "\n",
              "[10 rows x 14 columns]"
            ]
          },
          "metadata": {
            "tags": []
          },
          "execution_count": 36
        }
      ]
    },
    {
      "cell_type": "markdown",
      "metadata": {
        "id": "fB3TqDuotHhV"
      },
      "source": [
        "## **Date & Time extraction**"
      ]
    },
    {
      "cell_type": "code",
      "metadata": {
        "id": "OzRhHRMns9FA"
      },
      "source": [
        "# Creating the attributes for date, month, year, weekday and time of InvoiceDate\n",
        "dataset['Date'] = pd.to_datetime(dataset['InvoiceDate']).dt.day\n",
        "\n",
        "dataset['Month'] = pd.to_datetime(dataset['InvoiceDate']).dt.month\n",
        "\n",
        "dataset['Year'] = pd.to_datetime(dataset['InvoiceDate']).dt.year\n",
        "\n",
        "dataset['Weekday'] = pd.to_datetime(dataset['InvoiceDate']).dt.day_name()\n",
        "\n",
        "dataset['Time'] = pd.to_datetime(dataset['InvoiceDate']).dt.time"
      ],
      "execution_count": null,
      "outputs": []
    },
    {
      "cell_type": "code",
      "metadata": {
        "id": "75BBftyPt3VX",
        "outputId": "0426e61c-03dc-484a-ae05-f96f6f0df9a6",
        "colab": {
          "base_uri": "https://localhost:8080/"
        }
      },
      "source": [
        "# Exploring the created date, day, time attributes\n",
        "dataset.head(10)"
      ],
      "execution_count": null,
      "outputs": [
        {
          "output_type": "execute_result",
          "data": {
            "text/html": [
              "<div>\n",
              "<style scoped>\n",
              "    .dataframe tbody tr th:only-of-type {\n",
              "        vertical-align: middle;\n",
              "    }\n",
              "\n",
              "    .dataframe tbody tr th {\n",
              "        vertical-align: top;\n",
              "    }\n",
              "\n",
              "    .dataframe thead th {\n",
              "        text-align: right;\n",
              "    }\n",
              "</style>\n",
              "<table border=\"1\" class=\"dataframe\">\n",
              "  <thead>\n",
              "    <tr style=\"text-align: right;\">\n",
              "      <th></th>\n",
              "      <th>InvoiceNo</th>\n",
              "      <th>StockCode</th>\n",
              "      <th>Description</th>\n",
              "      <th>Quantity</th>\n",
              "      <th>InvoiceDate</th>\n",
              "      <th>UnitPrice</th>\n",
              "      <th>CustomerID</th>\n",
              "      <th>Country</th>\n",
              "      <th>Log_Transformed_Quantity</th>\n",
              "      <th>Log_Transformed_UnitPrice</th>\n",
              "      <th>Normalized_Quantity</th>\n",
              "      <th>Normalized_UnitPrice</th>\n",
              "      <th>Standardized_Quantity</th>\n",
              "      <th>Standardized_UnitPrice</th>\n",
              "      <th>Date</th>\n",
              "      <th>Month</th>\n",
              "      <th>Year</th>\n",
              "      <th>Weekday</th>\n",
              "      <th>Time</th>\n",
              "    </tr>\n",
              "  </thead>\n",
              "  <tbody>\n",
              "    <tr>\n",
              "      <th>0</th>\n",
              "      <td>536365</td>\n",
              "      <td>85123A</td>\n",
              "      <td>WHITE HANGING HEART T-LIGHT HOLDER</td>\n",
              "      <td>6</td>\n",
              "      <td>12/1/2010 8:26</td>\n",
              "      <td>2.55</td>\n",
              "      <td>17850.0</td>\n",
              "      <td>United Kingdom</td>\n",
              "      <td>1.945910</td>\n",
              "      <td>1.266948</td>\n",
              "      <td>0.20</td>\n",
              "      <td>0.341735</td>\n",
              "      <td>-0.219014</td>\n",
              "      <td>0.239846</td>\n",
              "      <td>1</td>\n",
              "      <td>12</td>\n",
              "      <td>2010</td>\n",
              "      <td>Wednesday</td>\n",
              "      <td>08:26:00</td>\n",
              "    </tr>\n",
              "    <tr>\n",
              "      <th>1</th>\n",
              "      <td>536365</td>\n",
              "      <td>71053</td>\n",
              "      <td>WHITE METAL LANTERN</td>\n",
              "      <td>6</td>\n",
              "      <td>12/1/2010 8:26</td>\n",
              "      <td>3.39</td>\n",
              "      <td>17850.0</td>\n",
              "      <td>United Kingdom</td>\n",
              "      <td>1.945910</td>\n",
              "      <td>1.479329</td>\n",
              "      <td>0.20</td>\n",
              "      <td>0.454350</td>\n",
              "      <td>-0.219014</td>\n",
              "      <td>0.788737</td>\n",
              "      <td>1</td>\n",
              "      <td>12</td>\n",
              "      <td>2010</td>\n",
              "      <td>Wednesday</td>\n",
              "      <td>08:26:00</td>\n",
              "    </tr>\n",
              "    <tr>\n",
              "      <th>2</th>\n",
              "      <td>536365</td>\n",
              "      <td>84406B</td>\n",
              "      <td>CREAM CUPID HEARTS COAT HANGER</td>\n",
              "      <td>8</td>\n",
              "      <td>12/1/2010 8:26</td>\n",
              "      <td>2.75</td>\n",
              "      <td>17850.0</td>\n",
              "      <td>United Kingdom</td>\n",
              "      <td>2.197225</td>\n",
              "      <td>1.321756</td>\n",
              "      <td>0.28</td>\n",
              "      <td>0.368548</td>\n",
              "      <td>0.076431</td>\n",
              "      <td>0.370534</td>\n",
              "      <td>1</td>\n",
              "      <td>12</td>\n",
              "      <td>2010</td>\n",
              "      <td>Wednesday</td>\n",
              "      <td>08:26:00</td>\n",
              "    </tr>\n",
              "    <tr>\n",
              "      <th>3</th>\n",
              "      <td>536365</td>\n",
              "      <td>84029G</td>\n",
              "      <td>KNITTED UNION FLAG HOT WATER BOTTLE</td>\n",
              "      <td>6</td>\n",
              "      <td>12/1/2010 8:26</td>\n",
              "      <td>3.39</td>\n",
              "      <td>17850.0</td>\n",
              "      <td>United Kingdom</td>\n",
              "      <td>1.945910</td>\n",
              "      <td>1.479329</td>\n",
              "      <td>0.20</td>\n",
              "      <td>0.454350</td>\n",
              "      <td>-0.219014</td>\n",
              "      <td>0.788737</td>\n",
              "      <td>1</td>\n",
              "      <td>12</td>\n",
              "      <td>2010</td>\n",
              "      <td>Wednesday</td>\n",
              "      <td>08:26:00</td>\n",
              "    </tr>\n",
              "    <tr>\n",
              "      <th>4</th>\n",
              "      <td>536365</td>\n",
              "      <td>84029E</td>\n",
              "      <td>RED WOOLLY HOTTIE WHITE HEART.</td>\n",
              "      <td>6</td>\n",
              "      <td>12/1/2010 8:26</td>\n",
              "      <td>3.39</td>\n",
              "      <td>17850.0</td>\n",
              "      <td>United Kingdom</td>\n",
              "      <td>1.945910</td>\n",
              "      <td>1.479329</td>\n",
              "      <td>0.20</td>\n",
              "      <td>0.454350</td>\n",
              "      <td>-0.219014</td>\n",
              "      <td>0.788737</td>\n",
              "      <td>1</td>\n",
              "      <td>12</td>\n",
              "      <td>2010</td>\n",
              "      <td>Wednesday</td>\n",
              "      <td>08:26:00</td>\n",
              "    </tr>\n",
              "    <tr>\n",
              "      <th>6</th>\n",
              "      <td>536365</td>\n",
              "      <td>21730</td>\n",
              "      <td>GLASS STAR FROSTED T-LIGHT HOLDER</td>\n",
              "      <td>6</td>\n",
              "      <td>12/1/2010 8:26</td>\n",
              "      <td>4.25</td>\n",
              "      <td>17850.0</td>\n",
              "      <td>United Kingdom</td>\n",
              "      <td>1.945910</td>\n",
              "      <td>1.658228</td>\n",
              "      <td>0.20</td>\n",
              "      <td>0.569647</td>\n",
              "      <td>-0.219014</td>\n",
              "      <td>1.350697</td>\n",
              "      <td>1</td>\n",
              "      <td>12</td>\n",
              "      <td>2010</td>\n",
              "      <td>Wednesday</td>\n",
              "      <td>08:26:00</td>\n",
              "    </tr>\n",
              "    <tr>\n",
              "      <th>7</th>\n",
              "      <td>536366</td>\n",
              "      <td>22633</td>\n",
              "      <td>HAND WARMER UNION JACK</td>\n",
              "      <td>6</td>\n",
              "      <td>12/1/2010 8:28</td>\n",
              "      <td>1.85</td>\n",
              "      <td>17850.0</td>\n",
              "      <td>United Kingdom</td>\n",
              "      <td>1.945910</td>\n",
              "      <td>1.047319</td>\n",
              "      <td>0.20</td>\n",
              "      <td>0.247888</td>\n",
              "      <td>-0.219014</td>\n",
              "      <td>-0.217563</td>\n",
              "      <td>1</td>\n",
              "      <td>12</td>\n",
              "      <td>2010</td>\n",
              "      <td>Wednesday</td>\n",
              "      <td>08:28:00</td>\n",
              "    </tr>\n",
              "    <tr>\n",
              "      <th>8</th>\n",
              "      <td>536366</td>\n",
              "      <td>22632</td>\n",
              "      <td>HAND WARMER RED POLKA DOT</td>\n",
              "      <td>6</td>\n",
              "      <td>12/1/2010 8:28</td>\n",
              "      <td>1.85</td>\n",
              "      <td>17850.0</td>\n",
              "      <td>United Kingdom</td>\n",
              "      <td>1.945910</td>\n",
              "      <td>1.047319</td>\n",
              "      <td>0.20</td>\n",
              "      <td>0.247888</td>\n",
              "      <td>-0.219014</td>\n",
              "      <td>-0.217563</td>\n",
              "      <td>1</td>\n",
              "      <td>12</td>\n",
              "      <td>2010</td>\n",
              "      <td>Wednesday</td>\n",
              "      <td>08:28:00</td>\n",
              "    </tr>\n",
              "    <tr>\n",
              "      <th>10</th>\n",
              "      <td>536367</td>\n",
              "      <td>22745</td>\n",
              "      <td>POPPY'S PLAYHOUSE BEDROOM</td>\n",
              "      <td>6</td>\n",
              "      <td>12/1/2010 8:34</td>\n",
              "      <td>2.10</td>\n",
              "      <td>13047.0</td>\n",
              "      <td>United Kingdom</td>\n",
              "      <td>1.945910</td>\n",
              "      <td>1.131402</td>\n",
              "      <td>0.20</td>\n",
              "      <td>0.281405</td>\n",
              "      <td>-0.219014</td>\n",
              "      <td>-0.054203</td>\n",
              "      <td>1</td>\n",
              "      <td>12</td>\n",
              "      <td>2010</td>\n",
              "      <td>Wednesday</td>\n",
              "      <td>08:34:00</td>\n",
              "    </tr>\n",
              "    <tr>\n",
              "      <th>11</th>\n",
              "      <td>536367</td>\n",
              "      <td>22748</td>\n",
              "      <td>POPPY'S PLAYHOUSE KITCHEN</td>\n",
              "      <td>6</td>\n",
              "      <td>12/1/2010 8:34</td>\n",
              "      <td>2.10</td>\n",
              "      <td>13047.0</td>\n",
              "      <td>United Kingdom</td>\n",
              "      <td>1.945910</td>\n",
              "      <td>1.131402</td>\n",
              "      <td>0.20</td>\n",
              "      <td>0.281405</td>\n",
              "      <td>-0.219014</td>\n",
              "      <td>-0.054203</td>\n",
              "      <td>1</td>\n",
              "      <td>12</td>\n",
              "      <td>2010</td>\n",
              "      <td>Wednesday</td>\n",
              "      <td>08:34:00</td>\n",
              "    </tr>\n",
              "  </tbody>\n",
              "</table>\n",
              "</div>"
            ],
            "text/plain": [
              "   InvoiceNo StockCode  ...    Weekday      Time\n",
              "0     536365    85123A  ...  Wednesday  08:26:00\n",
              "1     536365     71053  ...  Wednesday  08:26:00\n",
              "2     536365    84406B  ...  Wednesday  08:26:00\n",
              "3     536365    84029G  ...  Wednesday  08:26:00\n",
              "4     536365    84029E  ...  Wednesday  08:26:00\n",
              "6     536365     21730  ...  Wednesday  08:26:00\n",
              "7     536366     22633  ...  Wednesday  08:28:00\n",
              "8     536366     22632  ...  Wednesday  08:28:00\n",
              "10    536367     22745  ...  Wednesday  08:34:00\n",
              "11    536367     22748  ...  Wednesday  08:34:00\n",
              "\n",
              "[10 rows x 19 columns]"
            ]
          },
          "metadata": {
            "tags": []
          },
          "execution_count": 38
        }
      ]
    },
    {
      "cell_type": "markdown",
      "metadata": {
        "id": "i6s3h-nnuHgn"
      },
      "source": [
        "## **Visual Representation**"
      ]
    },
    {
      "cell_type": "code",
      "metadata": {
        "id": "HlPT6RR1uBNK",
        "outputId": "64b553f9-aeba-4557-9d84-3cc06b2fe3dc",
        "colab": {
          "base_uri": "https://localhost:8080/"
        }
      },
      "source": [
        "# Exploring the description of the 10 products with the highest count\n",
        "dataset['Description'].value_counts()[:10].plot(kind='barh', color='green', figsize=(10, 5))"
      ],
      "execution_count": null,
      "outputs": [
        {
          "output_type": "execute_result",
          "data": {
            "text/plain": [
              "<matplotlib.axes._subplots.AxesSubplot at 0x7fac3b135320>"
            ]
          },
          "metadata": {
            "tags": []
          },
          "execution_count": 39
        },
        {
          "output_type": "display_data",
          "data": {
            "image/png": "[encoded data removed]",
            "text/plain": [
              "<Figure size 720x360 with 1 Axes>"
            ]
          },
          "metadata": {
            "tags": [],
            "needs_background": "light"
          }
        }
      ]
    },
    {
      "cell_type": "code",
      "metadata": {
        "id": "NTIWcnefuwcj",
        "outputId": "97db0d22-4a2c-4222-c078-0acb294eae94",
        "colab": {
          "base_uri": "https://localhost:8080/"
        }
      },
      "source": [
        "# Exploring the sales in different months\n",
        "dataset['Month'].value_counts().plot(kind='barh', figsize=(10,5))"
      ],
      "execution_count": null,
      "outputs": [
        {
          "output_type": "execute_result",
          "data": {
            "text/plain": [
              "<matplotlib.axes._subplots.AxesSubplot at 0x7fac3b019cc0>"
            ]
          },
          "metadata": {
            "tags": []
          },
          "execution_count": 40
        },
        {
          "output_type": "display_data",
          "data": {
            "image/png": "[encoded data removed]",
            "text/plain": [
              "<Figure size 720x360 with 1 Axes>"
            ]
          },
          "metadata": {
            "tags": [],
            "needs_background": "light"
          }
        }
      ]
    },
    {
      "cell_type": "markdown",
      "metadata": {
        "id": "UbPmCKzovLgP"
      },
      "source": [
        "From the graph, we can interpret that November recorded most sales and February recorded least sales."
      ]
    },
    {
      "cell_type": "code",
      "metadata": {
        "id": "xMy4ZTZZvIkt",
        "outputId": "59cdcb69-2392-4a11-cda0-6734afeb2971",
        "colab": {
          "base_uri": "https://localhost:8080/"
        }
      },
      "source": [
        "# Exploring the number of sales by year\n",
        "dataset['Year'].value_counts().plot(kind='pie', explode=(0,0.2), shadow=True, figsize=(10,5))"
      ],
      "execution_count": null,
      "outputs": [
        {
          "output_type": "execute_result",
          "data": {
            "text/plain": [
              "<matplotlib.axes._subplots.AxesSubplot at 0x7fac3ab67048>"
            ]
          },
          "metadata": {
            "tags": []
          },
          "execution_count": 41
        },
        {
          "output_type": "display_data",
          "data": {
            "image/png": "[encoded data removed]",
            "text/plain": [
              "<Figure size 720x360 with 1 Axes>"
            ]
          },
          "metadata": {
            "tags": []
          }
        }
      ]
    },
    {
      "cell_type": "code",
      "metadata": {
        "id": "epKjAh7IvsWG",
        "outputId": "774097fc-3565-46d5-8027-0187d21c60a9",
        "colab": {
          "base_uri": "https://localhost:8080/"
        }
      },
      "source": [
        "# Exploring the number of sales by days\n",
        "dataset['Weekday'].value_counts().plot(kind='barh', color='purple', figsize=(10,5))"
      ],
      "execution_count": null,
      "outputs": [
        {
          "output_type": "execute_result",
          "data": {
            "text/plain": [
              "<matplotlib.axes._subplots.AxesSubplot at 0x7fac3ab327f0>"
            ]
          },
          "metadata": {
            "tags": []
          },
          "execution_count": 42
        },
        {
          "output_type": "display_data",
          "data": {
            "image/png": "[encoded data removed]",
            "text/plain": [
              "<Figure size 720x360 with 1 Axes>"
            ]
          },
          "metadata": {
            "tags": [],
            "needs_background": "light"
          }
        }
      ]
    },
    {
      "cell_type": "markdown",
      "metadata": {
        "id": "3QkZt6vuwGOL"
      },
      "source": [
        "From the above graph, we can interpret that the store used to be closed on saturdays and the maximum sales used to happen on thursday as opposed to the least sales on Friday."
      ]
    },
    {
      "cell_type": "markdown",
      "metadata": {
        "id": "_Cgo2yJ_wbTo"
      },
      "source": [
        "# <font color=\"blue\">**Customer Segmentation**</font>"
      ]
    },
    {
      "cell_type": "code",
      "metadata": {
        "id": "DgwLwebwwAZV",
        "outputId": "1b1d8ada-f440-42cc-a769-152465dfe883",
        "colab": {
          "base_uri": "https://localhost:8080/"
        }
      },
      "source": [
        "# Exploring the dataset grouped by InvoiceNo and Description\n",
        "dataset.groupby(['InvoiceNo', 'Description']).size()[:50]"
      ],
      "execution_count": null,
      "outputs": [
        {
          "output_type": "execute_result",
          "data": {
            "text/plain": [
              "InvoiceNo  Description                        \n",
              "536365     CREAM CUPID HEARTS COAT HANGER         1\n",
              "           GLASS STAR FROSTED T-LIGHT HOLDER      1\n",
              "           KNITTED UNION FLAG HOT WATER BOTTLE    1\n",
              "           RED WOOLLY HOTTIE WHITE HEART.         1\n",
              "           WHITE HANGING HEART T-LIGHT HOLDER     1\n",
              "           WHITE METAL LANTERN                    1\n",
              "536366     HAND WARMER RED POLKA DOT              1\n",
              "           HAND WARMER UNION JACK                 1\n",
              "536367     BOX OF 6 ASSORTED COLOUR TEASPOONS     1\n",
              "           BOX OF VINTAGE JIGSAW BLOCKS           1\n",
              "           FELTCRAFT PRINCESS CHARLOTTE DOLL      1\n",
              "           HOME BUILDING BLOCK WORD               1\n",
              "           IVORY KNITTED MUG COSY                 1\n",
              "           LOVE BUILDING BLOCK WORD               1\n",
              "           POPPY'S PLAYHOUSE BEDROOM              1\n",
              "           POPPY'S PLAYHOUSE KITCHEN              1\n",
              "536368     BLUE COAT RACK PARIS FASHION           1\n",
              "           JAM MAKING SET WITH JARS               1\n",
              "           RED COAT RACK PARIS FASHION            1\n",
              "           YELLOW COAT RACK PARIS FASHION         1\n",
              "536369     BATH BUILDING BLOCK WORD               1\n",
              "536370      SET 2 TEA TOWELS I LOVE LONDON        1\n",
              "           ALARM CLOCK BAKELIKE GREEN             1\n",
              "           ALARM CLOCK BAKELIKE PINK              1\n",
              "           ALARM CLOCK BAKELIKE RED               1\n",
              "           CHARLOTTE BAG DOLLY GIRL DESIGN        1\n",
              "           CIRCUS PARADE LUNCH BOX                1\n",
              "           LUNCH BOX I LOVE LONDON                1\n",
              "           MINI JIGSAW CIRCUS PARADE              1\n",
              "           MINI JIGSAW SPACEBOY                   1\n",
              "           PANDA AND BUNNIES STICKER SHEET        1\n",
              "           RED TOADSTOOL LED NIGHT LIGHT          1\n",
              "           ROUND SNACK BOXES SET OF4 WOODLAND     1\n",
              "           SET/2 RED RETROSPOT TEA TOWELS         1\n",
              "           SPACEBOY LUNCH BOX                     1\n",
              "           STARS GIFT TAPE                        1\n",
              "           VINTAGE HEADS AND TAILS CARD GAME      1\n",
              "           VINTAGE SEASIDE JIGSAW PUZZLES         1\n",
              "536372     HAND WARMER RED POLKA DOT              1\n",
              "           HAND WARMER UNION JACK                 1\n",
              "536373     CREAM CUPID HEARTS COAT HANGER         1\n",
              "           EDWARDIAN PARASOL RED                  1\n",
              "           GLASS STAR FROSTED T-LIGHT HOLDER      1\n",
              "           KNITTED UNION FLAG HOT WATER BOTTLE    1\n",
              "           RED WOOLLY HOTTIE WHITE HEART.         1\n",
              "           RETRO COFFEE MUGS ASSORTED             1\n",
              "           SAVE THE PLANET MUG                    1\n",
              "           VINTAGE BILLBOARD DRINK ME MUG         1\n",
              "           VINTAGE BILLBOARD LOVE/HATE MUG        1\n",
              "           WHITE HANGING HEART T-LIGHT HOLDER     1\n",
              "dtype: int64"
            ]
          },
          "metadata": {
            "tags": []
          },
          "execution_count": 43
        }
      ]
    },
    {
      "cell_type": "code",
      "metadata": {
        "id": "3DgBVof9Tnif",
        "outputId": "9bbf8dcd-9186-4b16-9ac4-3ed46bd3e402",
        "colab": {
          "base_uri": "https://localhost:8080/"
        }
      },
      "source": [
        "# Exploring the dataset grouped by CustomerID and Description\n",
        "dataset.groupby(['CustomerID', 'Description']).size()"
      ],
      "execution_count": null,
      "outputs": [
        {
          "output_type": "execute_result",
          "data": {
            "text/plain": [
              "CustomerID  Description                      \n",
              "12347.0     3D DOG PICTURE PLAYING CARDS         3\n",
              "            3D SHEET OF CAT STICKERS             1\n",
              "            3D SHEET OF DOG STICKERS             1\n",
              "            60 TEATIME FAIRY CAKE CASES          3\n",
              "            72 SWEETHEART FAIRY CAKE CASES       3\n",
              "                                                ..\n",
              "18287.0     SMALL YELLOW BABUSHKA NOTEBOOK       1\n",
              "            STAR T-LIGHT HOLDER WILLIE WINKIE    1\n",
              "            STRAWBERRY CERAMIC TRINKET BOX       1\n",
              "            SWISS CHALET TREE DECORATION         2\n",
              "            TREE T-LIGHT HOLDER WILLIE WINKIE    1\n",
              "Length: 232548, dtype: int64"
            ]
          },
          "metadata": {
            "tags": []
          },
          "execution_count": 44
        }
      ]
    },
    {
      "cell_type": "markdown",
      "metadata": {
        "id": "2an11_aJTupR"
      },
      "source": [
        "## **1. Products Ordered**"
      ]
    },
    {
      "cell_type": "code",
      "metadata": {
        "id": "IN3J8JcST0Ek"
      },
      "source": [
        "def encode_column(column):\n",
        "  if column > 0:\n",
        "    return 1\n",
        "  if column <= 0:\n",
        "    return 0\n",
        "\n",
        "# Function to get the count of the products ordered\n",
        "def aggregate_by_ordered_quantity(dataframe, column_list):\n",
        "\n",
        "  aggregated_dataframe = dataframe.groupby(column_list).Quantity.count().reset_index()\n",
        "\n",
        "  aggregated_dataframe['Products_ordered'] = aggregated_dataframe.Quantity.apply(encode_column)\n",
        "\n",
        "  final_dataframe = aggregated_dataframe.groupby(column_list[0]).Products_ordered.sum().reset_index()\n",
        "\n",
        "  return final_dataframe"
      ],
      "execution_count": null,
      "outputs": []
    },
    {
      "cell_type": "code",
      "metadata": {
        "id": "DDmtruxuWBBl",
        "outputId": "48c32a15-3bdb-4f82-a061-d0a0bb558f62",
        "colab": {
          "base_uri": "https://localhost:8080/"
        }
      },
      "source": [
        "# Creating customers dataframe\n",
        "customers = aggregate_by_ordered_quantity(dataset, ['CustomerID', 'Description'])\n",
        "\n",
        "customers.head()"
      ],
      "execution_count": null,
      "outputs": [
        {
          "output_type": "execute_result",
          "data": {
            "text/html": [
              "<div>\n",
              "<style scoped>\n",
              "    .dataframe tbody tr th:only-of-type {\n",
              "        vertical-align: middle;\n",
              "    }\n",
              "\n",
              "    .dataframe tbody tr th {\n",
              "        vertical-align: top;\n",
              "    }\n",
              "\n",
              "    .dataframe thead th {\n",
              "        text-align: right;\n",
              "    }\n",
              "</style>\n",
              "<table border=\"1\" class=\"dataframe\">\n",
              "  <thead>\n",
              "    <tr style=\"text-align: right;\">\n",
              "      <th></th>\n",
              "      <th>CustomerID</th>\n",
              "      <th>Products_ordered</th>\n",
              "    </tr>\n",
              "  </thead>\n",
              "  <tbody>\n",
              "    <tr>\n",
              "      <th>0</th>\n",
              "      <td>12347.0</td>\n",
              "      <td>96</td>\n",
              "    </tr>\n",
              "    <tr>\n",
              "      <th>1</th>\n",
              "      <td>12348.0</td>\n",
              "      <td>6</td>\n",
              "    </tr>\n",
              "    <tr>\n",
              "      <th>2</th>\n",
              "      <td>12349.0</td>\n",
              "      <td>57</td>\n",
              "    </tr>\n",
              "    <tr>\n",
              "      <th>3</th>\n",
              "      <td>12350.0</td>\n",
              "      <td>16</td>\n",
              "    </tr>\n",
              "    <tr>\n",
              "      <th>4</th>\n",
              "      <td>12352.0</td>\n",
              "      <td>49</td>\n",
              "    </tr>\n",
              "  </tbody>\n",
              "</table>\n",
              "</div>"
            ],
            "text/plain": [
              "   CustomerID  Products_ordered\n",
              "0     12347.0                96\n",
              "1     12348.0                 6\n",
              "2     12349.0                57\n",
              "3     12350.0                16\n",
              "4     12352.0                49"
            ]
          },
          "metadata": {
            "tags": []
          },
          "execution_count": 46
        }
      ]
    },
    {
      "cell_type": "markdown",
      "metadata": {
        "id": "tJHNKkzYWSxm"
      },
      "source": [
        "## **2. Total Spending**\n",
        "\n",
        "Creating a `Sales` attribute which is product of `Quantity` and `UnitPrice`."
      ]
    },
    {
      "cell_type": "code",
      "metadata": {
        "id": "IvP88RiTWON8",
        "outputId": "ca6ce91d-1b9c-41b9-ac3e-6a294fc27702",
        "colab": {
          "base_uri": "https://localhost:8080/"
        }
      },
      "source": [
        "dataset['Sales'] = dataset['Quantity'] * dataset['UnitPrice']\n",
        "\n",
        "# Exploring the dataset to validate the Sales attribute\n",
        "dataset.head()"
      ],
      "execution_count": null,
      "outputs": [
        {
          "output_type": "execute_result",
          "data": {
            "text/html": [
              "<div>\n",
              "<style scoped>\n",
              "    .dataframe tbody tr th:only-of-type {\n",
              "        vertical-align: middle;\n",
              "    }\n",
              "\n",
              "    .dataframe tbody tr th {\n",
              "        vertical-align: top;\n",
              "    }\n",
              "\n",
              "    .dataframe thead th {\n",
              "        text-align: right;\n",
              "    }\n",
              "</style>\n",
              "<table border=\"1\" class=\"dataframe\">\n",
              "  <thead>\n",
              "    <tr style=\"text-align: right;\">\n",
              "      <th></th>\n",
              "      <th>InvoiceNo</th>\n",
              "      <th>StockCode</th>\n",
              "      <th>Description</th>\n",
              "      <th>Quantity</th>\n",
              "      <th>InvoiceDate</th>\n",
              "      <th>UnitPrice</th>\n",
              "      <th>CustomerID</th>\n",
              "      <th>Country</th>\n",
              "      <th>Log_Transformed_Quantity</th>\n",
              "      <th>Log_Transformed_UnitPrice</th>\n",
              "      <th>Normalized_Quantity</th>\n",
              "      <th>Normalized_UnitPrice</th>\n",
              "      <th>Standardized_Quantity</th>\n",
              "      <th>Standardized_UnitPrice</th>\n",
              "      <th>Date</th>\n",
              "      <th>Month</th>\n",
              "      <th>Year</th>\n",
              "      <th>Weekday</th>\n",
              "      <th>Time</th>\n",
              "      <th>Sales</th>\n",
              "    </tr>\n",
              "  </thead>\n",
              "  <tbody>\n",
              "    <tr>\n",
              "      <th>0</th>\n",
              "      <td>536365</td>\n",
              "      <td>85123A</td>\n",
              "      <td>WHITE HANGING HEART T-LIGHT HOLDER</td>\n",
              "      <td>6</td>\n",
              "      <td>12/1/2010 8:26</td>\n",
              "      <td>2.55</td>\n",
              "      <td>17850.0</td>\n",
              "      <td>United Kingdom</td>\n",
              "      <td>1.945910</td>\n",
              "      <td>1.266948</td>\n",
              "      <td>0.20</td>\n",
              "      <td>0.341735</td>\n",
              "      <td>-0.219014</td>\n",
              "      <td>0.239846</td>\n",
              "      <td>1</td>\n",
              "      <td>12</td>\n",
              "      <td>2010</td>\n",
              "      <td>Wednesday</td>\n",
              "      <td>08:26:00</td>\n",
              "      <td>15.30</td>\n",
              "    </tr>\n",
              "    <tr>\n",
              "      <th>1</th>\n",
              "      <td>536365</td>\n",
              "      <td>71053</td>\n",
              "      <td>WHITE METAL LANTERN</td>\n",
              "      <td>6</td>\n",
              "      <td>12/1/2010 8:26</td>\n",
              "      <td>3.39</td>\n",
              "      <td>17850.0</td>\n",
              "      <td>United Kingdom</td>\n",
              "      <td>1.945910</td>\n",
              "      <td>1.479329</td>\n",
              "      <td>0.20</td>\n",
              "      <td>0.454350</td>\n",
              "      <td>-0.219014</td>\n",
              "      <td>0.788737</td>\n",
              "      <td>1</td>\n",
              "      <td>12</td>\n",
              "      <td>2010</td>\n",
              "      <td>Wednesday</td>\n",
              "      <td>08:26:00</td>\n",
              "      <td>20.34</td>\n",
              "    </tr>\n",
              "    <tr>\n",
              "      <th>2</th>\n",
              "      <td>536365</td>\n",
              "      <td>84406B</td>\n",
              "      <td>CREAM CUPID HEARTS COAT HANGER</td>\n",
              "      <td>8</td>\n",
              "      <td>12/1/2010 8:26</td>\n",
              "      <td>2.75</td>\n",
              "      <td>17850.0</td>\n",
              "      <td>United Kingdom</td>\n",
              "      <td>2.197225</td>\n",
              "      <td>1.321756</td>\n",
              "      <td>0.28</td>\n",
              "      <td>0.368548</td>\n",
              "      <td>0.076431</td>\n",
              "      <td>0.370534</td>\n",
              "      <td>1</td>\n",
              "      <td>12</td>\n",
              "      <td>2010</td>\n",
              "      <td>Wednesday</td>\n",
              "      <td>08:26:00</td>\n",
              "      <td>22.00</td>\n",
              "    </tr>\n",
              "    <tr>\n",
              "      <th>3</th>\n",
              "      <td>536365</td>\n",
              "      <td>84029G</td>\n",
              "      <td>KNITTED UNION FLAG HOT WATER BOTTLE</td>\n",
              "      <td>6</td>\n",
              "      <td>12/1/2010 8:26</td>\n",
              "      <td>3.39</td>\n",
              "      <td>17850.0</td>\n",
              "      <td>United Kingdom</td>\n",
              "      <td>1.945910</td>\n",
              "      <td>1.479329</td>\n",
              "      <td>0.20</td>\n",
              "      <td>0.454350</td>\n",
              "      <td>-0.219014</td>\n",
              "      <td>0.788737</td>\n",
              "      <td>1</td>\n",
              "      <td>12</td>\n",
              "      <td>2010</td>\n",
              "      <td>Wednesday</td>\n",
              "      <td>08:26:00</td>\n",
              "      <td>20.34</td>\n",
              "    </tr>\n",
              "    <tr>\n",
              "      <th>4</th>\n",
              "      <td>536365</td>\n",
              "      <td>84029E</td>\n",
              "      <td>RED WOOLLY HOTTIE WHITE HEART.</td>\n",
              "      <td>6</td>\n",
              "      <td>12/1/2010 8:26</td>\n",
              "      <td>3.39</td>\n",
              "      <td>17850.0</td>\n",
              "      <td>United Kingdom</td>\n",
              "      <td>1.945910</td>\n",
              "      <td>1.479329</td>\n",
              "      <td>0.20</td>\n",
              "      <td>0.454350</td>\n",
              "      <td>-0.219014</td>\n",
              "      <td>0.788737</td>\n",
              "      <td>1</td>\n",
              "      <td>12</td>\n",
              "      <td>2010</td>\n",
              "      <td>Wednesday</td>\n",
              "      <td>08:26:00</td>\n",
              "      <td>20.34</td>\n",
              "    </tr>\n",
              "  </tbody>\n",
              "</table>\n",
              "</div>"
            ],
            "text/plain": [
              "  InvoiceNo StockCode  ...      Time  Sales\n",
              "0    536365    85123A  ...  08:26:00  15.30\n",
              "1    536365     71053  ...  08:26:00  20.34\n",
              "2    536365    84406B  ...  08:26:00  22.00\n",
              "3    536365    84029G  ...  08:26:00  20.34\n",
              "4    536365    84029E  ...  08:26:00  20.34\n",
              "\n",
              "[5 rows x 20 columns]"
            ]
          },
          "metadata": {
            "tags": []
          },
          "execution_count": 47
        }
      ]
    },
    {
      "cell_type": "code",
      "metadata": {
        "id": "hyIkdv7vW2M-"
      },
      "source": [
        "# Obtaining customers total spending\n",
        "customer_total_spending = dataset.groupby('CustomerID').Sales.sum().reset_index()\n",
        "\n",
        "customer_total_spending.rename(columns = {'Sales' : 'Total_spending'}, inplace = True)"
      ],
      "execution_count": null,
      "outputs": []
    },
    {
      "cell_type": "code",
      "metadata": {
        "id": "shD4o8NNXn-u",
        "outputId": "1dcf265a-03c7-476c-d6dd-1870e8f7615b",
        "colab": {
          "base_uri": "https://localhost:8080/"
        }
      },
      "source": [
        "# Merging the two dataframes on CustomerID\n",
        "customers = pd.merge(customers, customer_total_spending, on='CustomerID')\n",
        "\n",
        "print(f'The number of customers from the existing customer base : {customers.shape[0]}')\n",
        "\n",
        "customers.head()"
      ],
      "execution_count": null,
      "outputs": [
        {
          "output_type": "stream",
          "text": [
            "The number of customers from the existing customer base : 4190\n"
          ],
          "name": "stdout"
        },
        {
          "output_type": "execute_result",
          "data": {
            "text/html": [
              "<div>\n",
              "<style scoped>\n",
              "    .dataframe tbody tr th:only-of-type {\n",
              "        vertical-align: middle;\n",
              "    }\n",
              "\n",
              "    .dataframe tbody tr th {\n",
              "        vertical-align: top;\n",
              "    }\n",
              "\n",
              "    .dataframe thead th {\n",
              "        text-align: right;\n",
              "    }\n",
              "</style>\n",
              "<table border=\"1\" class=\"dataframe\">\n",
              "  <thead>\n",
              "    <tr style=\"text-align: right;\">\n",
              "      <th></th>\n",
              "      <th>CustomerID</th>\n",
              "      <th>Products_ordered</th>\n",
              "      <th>Total_spending</th>\n",
              "    </tr>\n",
              "  </thead>\n",
              "  <tbody>\n",
              "    <tr>\n",
              "      <th>0</th>\n",
              "      <td>12347.0</td>\n",
              "      <td>96</td>\n",
              "      <td>3314.73</td>\n",
              "    </tr>\n",
              "    <tr>\n",
              "      <th>1</th>\n",
              "      <td>12348.0</td>\n",
              "      <td>6</td>\n",
              "      <td>90.20</td>\n",
              "    </tr>\n",
              "    <tr>\n",
              "      <th>2</th>\n",
              "      <td>12349.0</td>\n",
              "      <td>57</td>\n",
              "      <td>984.15</td>\n",
              "    </tr>\n",
              "    <tr>\n",
              "      <th>3</th>\n",
              "      <td>12350.0</td>\n",
              "      <td>16</td>\n",
              "      <td>294.40</td>\n",
              "    </tr>\n",
              "    <tr>\n",
              "      <th>4</th>\n",
              "      <td>12352.0</td>\n",
              "      <td>49</td>\n",
              "      <td>1130.94</td>\n",
              "    </tr>\n",
              "  </tbody>\n",
              "</table>\n",
              "</div>"
            ],
            "text/plain": [
              "   CustomerID  Products_ordered  Total_spending\n",
              "0     12347.0                96         3314.73\n",
              "1     12348.0                 6           90.20\n",
              "2     12349.0                57          984.15\n",
              "3     12350.0                16          294.40\n",
              "4     12352.0                49         1130.94"
            ]
          },
          "metadata": {
            "tags": []
          },
          "execution_count": 49
        }
      ]
    },
    {
      "cell_type": "markdown",
      "metadata": {
        "id": "2trCVr3GYiHw"
      },
      "source": [
        "## **Scaling using Log1p transform**"
      ]
    },
    {
      "cell_type": "code",
      "metadata": {
        "id": "CyfGRinYYVmP"
      },
      "source": [
        "# Function to apply log1p transformation\n",
        "def apply_log1p_transformation(dataframe, column):\n",
        "\n",
        "  dataframe['log_' + column] = np.log1p(dataframe[column])\n",
        "  return dataframe['log_' + column]"
      ],
      "execution_count": null,
      "outputs": []
    },
    {
      "cell_type": "markdown",
      "metadata": {
        "id": "ITI9_2_iZJwo"
      },
      "source": [
        "### 1. Products ordered"
      ]
    },
    {
      "cell_type": "code",
      "metadata": {
        "id": "b0cbU8FLZIcW",
        "outputId": "165016c0-ef29-4294-e72f-0297d9cebb8e",
        "colab": {
          "base_uri": "https://localhost:8080/"
        }
      },
      "source": [
        "apply_log1p_transformation(customers, 'Products_ordered')"
      ],
      "execution_count": null,
      "outputs": [
        {
          "output_type": "execute_result",
          "data": {
            "text/plain": [
              "0       4.574711\n",
              "1       1.945910\n",
              "2       4.060443\n",
              "3       2.833213\n",
              "4       3.912023\n",
              "          ...   \n",
              "4185    2.197225\n",
              "4186    1.791759\n",
              "4187    2.197225\n",
              "4188    5.594711\n",
              "4189    3.850148\n",
              "Name: log_Products_ordered, Length: 4190, dtype: float64"
            ]
          },
          "metadata": {
            "tags": []
          },
          "execution_count": 51
        }
      ]
    },
    {
      "cell_type": "markdown",
      "metadata": {
        "id": "ONFh0hLFZbUB"
      },
      "source": [
        "### 2. Total spending"
      ]
    },
    {
      "cell_type": "code",
      "metadata": {
        "id": "GsgdL-_7ZUDr",
        "outputId": "f3fef2d3-526b-4a87-848f-7ecdeff946f8",
        "colab": {
          "base_uri": "https://localhost:8080/"
        }
      },
      "source": [
        "apply_log1p_transformation(customers, 'Total_spending')"
      ],
      "execution_count": null,
      "outputs": [
        {
          "output_type": "execute_result",
          "data": {
            "text/plain": [
              "0       8.106433\n",
              "1       4.513055\n",
              "2       6.892794\n",
              "3       5.688330\n",
              "4       7.031688\n",
              "          ...   \n",
              "4185    4.927254\n",
              "4186    3.869533\n",
              "4187    4.737338\n",
              "4188    7.627048\n",
              "4189    6.868765\n",
              "Name: log_Total_spending, Length: 4190, dtype: float64"
            ]
          },
          "metadata": {
            "tags": []
          },
          "execution_count": 52
        }
      ]
    },
    {
      "cell_type": "code",
      "metadata": {
        "id": "cHB4BMw3Zhe6",
        "outputId": "4138dc5a-e0e3-4780-ac9c-e7e5edf29337",
        "colab": {
          "base_uri": "https://localhost:8080/"
        }
      },
      "source": [
        "# Exploring the dataset to validate the log transformed attributes\n",
        "customers.head()"
      ],
      "execution_count": null,
      "outputs": [
        {
          "output_type": "execute_result",
          "data": {
            "text/html": [
              "<div>\n",
              "<style scoped>\n",
              "    .dataframe tbody tr th:only-of-type {\n",
              "        vertical-align: middle;\n",
              "    }\n",
              "\n",
              "    .dataframe tbody tr th {\n",
              "        vertical-align: top;\n",
              "    }\n",
              "\n",
              "    .dataframe thead th {\n",
              "        text-align: right;\n",
              "    }\n",
              "</style>\n",
              "<table border=\"1\" class=\"dataframe\">\n",
              "  <thead>\n",
              "    <tr style=\"text-align: right;\">\n",
              "      <th></th>\n",
              "      <th>CustomerID</th>\n",
              "      <th>Products_ordered</th>\n",
              "      <th>Total_spending</th>\n",
              "      <th>log_Products_ordered</th>\n",
              "      <th>log_Total_spending</th>\n",
              "    </tr>\n",
              "  </thead>\n",
              "  <tbody>\n",
              "    <tr>\n",
              "      <th>0</th>\n",
              "      <td>12347.0</td>\n",
              "      <td>96</td>\n",
              "      <td>3314.73</td>\n",
              "      <td>4.574711</td>\n",
              "      <td>8.106433</td>\n",
              "    </tr>\n",
              "    <tr>\n",
              "      <th>1</th>\n",
              "      <td>12348.0</td>\n",
              "      <td>6</td>\n",
              "      <td>90.20</td>\n",
              "      <td>1.945910</td>\n",
              "      <td>4.513055</td>\n",
              "    </tr>\n",
              "    <tr>\n",
              "      <th>2</th>\n",
              "      <td>12349.0</td>\n",
              "      <td>57</td>\n",
              "      <td>984.15</td>\n",
              "      <td>4.060443</td>\n",
              "      <td>6.892794</td>\n",
              "    </tr>\n",
              "    <tr>\n",
              "      <th>3</th>\n",
              "      <td>12350.0</td>\n",
              "      <td>16</td>\n",
              "      <td>294.40</td>\n",
              "      <td>2.833213</td>\n",
              "      <td>5.688330</td>\n",
              "    </tr>\n",
              "    <tr>\n",
              "      <th>4</th>\n",
              "      <td>12352.0</td>\n",
              "      <td>49</td>\n",
              "      <td>1130.94</td>\n",
              "      <td>3.912023</td>\n",
              "      <td>7.031688</td>\n",
              "    </tr>\n",
              "  </tbody>\n",
              "</table>\n",
              "</div>"
            ],
            "text/plain": [
              "   CustomerID  Products_ordered  ...  log_Products_ordered  log_Total_spending\n",
              "0     12347.0                96  ...              4.574711            8.106433\n",
              "1     12348.0                 6  ...              1.945910            4.513055\n",
              "2     12349.0                57  ...              4.060443            6.892794\n",
              "3     12350.0                16  ...              2.833213            5.688330\n",
              "4     12352.0                49  ...              3.912023            7.031688\n",
              "\n",
              "[5 rows x 5 columns]"
            ]
          },
          "metadata": {
            "tags": []
          },
          "execution_count": 53
        }
      ]
    },
    {
      "cell_type": "markdown",
      "metadata": {
        "id": "-JoOabLBZ9U2"
      },
      "source": [
        "## **Feature Selection**"
      ]
    },
    {
      "cell_type": "code",
      "metadata": {
        "id": "epyslLQFZoCx",
        "outputId": "597c5452-be9d-45e8-c23b-a36908969c23",
        "colab": {
          "base_uri": "https://localhost:8080/"
        }
      },
      "source": [
        "customers.iloc[:,3:]"
      ],
      "execution_count": null,
      "outputs": [
        {
          "output_type": "execute_result",
          "data": {
            "text/html": [
              "<div>\n",
              "<style scoped>\n",
              "    .dataframe tbody tr th:only-of-type {\n",
              "        vertical-align: middle;\n",
              "    }\n",
              "\n",
              "    .dataframe tbody tr th {\n",
              "        vertical-align: top;\n",
              "    }\n",
              "\n",
              "    .dataframe thead th {\n",
              "        text-align: right;\n",
              "    }\n",
              "</style>\n",
              "<table border=\"1\" class=\"dataframe\">\n",
              "  <thead>\n",
              "    <tr style=\"text-align: right;\">\n",
              "      <th></th>\n",
              "      <th>log_Products_ordered</th>\n",
              "      <th>log_Total_spending</th>\n",
              "    </tr>\n",
              "  </thead>\n",
              "  <tbody>\n",
              "    <tr>\n",
              "      <th>0</th>\n",
              "      <td>4.574711</td>\n",
              "      <td>8.106433</td>\n",
              "    </tr>\n",
              "    <tr>\n",
              "      <th>1</th>\n",
              "      <td>1.945910</td>\n",
              "      <td>4.513055</td>\n",
              "    </tr>\n",
              "    <tr>\n",
              "      <th>2</th>\n",
              "      <td>4.060443</td>\n",
              "      <td>6.892794</td>\n",
              "    </tr>\n",
              "    <tr>\n",
              "      <th>3</th>\n",
              "      <td>2.833213</td>\n",
              "      <td>5.688330</td>\n",
              "    </tr>\n",
              "    <tr>\n",
              "      <th>4</th>\n",
              "      <td>3.912023</td>\n",
              "      <td>7.031688</td>\n",
              "    </tr>\n",
              "    <tr>\n",
              "      <th>...</th>\n",
              "      <td>...</td>\n",
              "      <td>...</td>\n",
              "    </tr>\n",
              "    <tr>\n",
              "      <th>4185</th>\n",
              "      <td>2.197225</td>\n",
              "      <td>4.927254</td>\n",
              "    </tr>\n",
              "    <tr>\n",
              "      <th>4186</th>\n",
              "      <td>1.791759</td>\n",
              "      <td>3.869533</td>\n",
              "    </tr>\n",
              "    <tr>\n",
              "      <th>4187</th>\n",
              "      <td>2.197225</td>\n",
              "      <td>4.737338</td>\n",
              "    </tr>\n",
              "    <tr>\n",
              "      <th>4188</th>\n",
              "      <td>5.594711</td>\n",
              "      <td>7.627048</td>\n",
              "    </tr>\n",
              "    <tr>\n",
              "      <th>4189</th>\n",
              "      <td>3.850148</td>\n",
              "      <td>6.868765</td>\n",
              "    </tr>\n",
              "  </tbody>\n",
              "</table>\n",
              "<p>4190 rows × 2 columns</p>\n",
              "</div>"
            ],
            "text/plain": [
              "      log_Products_ordered  log_Total_spending\n",
              "0                 4.574711            8.106433\n",
              "1                 1.945910            4.513055\n",
              "2                 4.060443            6.892794\n",
              "3                 2.833213            5.688330\n",
              "4                 3.912023            7.031688\n",
              "...                    ...                 ...\n",
              "4185              2.197225            4.927254\n",
              "4186              1.791759            3.869533\n",
              "4187              2.197225            4.737338\n",
              "4188              5.594711            7.627048\n",
              "4189              3.850148            6.868765\n",
              "\n",
              "[4190 rows x 2 columns]"
            ]
          },
          "metadata": {
            "tags": []
          },
          "execution_count": 54
        }
      ]
    },
    {
      "cell_type": "markdown",
      "metadata": {
        "id": "jqxsP56NaHcg"
      },
      "source": [
        "# <font color=\"blue\">**K-Means Clustering**</font>"
      ]
    },
    {
      "cell_type": "code",
      "metadata": {
        "id": "5r1Glxv-aDVo"
      },
      "source": [
        "from sklearn.cluster import KMeans"
      ],
      "execution_count": null,
      "outputs": []
    },
    {
      "cell_type": "code",
      "metadata": {
        "id": "VeGbDcSsa31S",
        "outputId": "16a79118-27ca-43b7-c184-3ec9d611152e",
        "colab": {
          "base_uri": "https://localhost:8080/"
        }
      },
      "source": [
        "kmeans_model = KMeans(init='k-means++', max_iter=500, random_state=42)\n",
        "\n",
        "kmeans_model.fit(customers.iloc[:,3:])"
      ],
      "execution_count": null,
      "outputs": [
        {
          "output_type": "execute_result",
          "data": {
            "text/plain": [
              "KMeans(algorithm='auto', copy_x=True, init='k-means++', max_iter=500,\n",
              "       n_clusters=8, n_init=10, n_jobs=None, precompute_distances='auto',\n",
              "       random_state=42, tol=0.0001, verbose=0)"
            ]
          },
          "metadata": {
            "tags": []
          },
          "execution_count": 56
        }
      ]
    },
    {
      "cell_type": "markdown",
      "metadata": {
        "id": "0KVoAapgbSys"
      },
      "source": [
        "### Intracluster distance"
      ]
    },
    {
      "cell_type": "code",
      "metadata": {
        "id": "GWm3iR-tbG8A",
        "outputId": "a8fa700e-47bf-4aa0-f3af-728a0115ee3f",
        "colab": {
          "base_uri": "https://localhost:8080/"
        }
      },
      "source": [
        "print(f'Intracluster distance of the model is: ', kmeans_model.inertia_)"
      ],
      "execution_count": null,
      "outputs": [
        {
          "output_type": "stream",
          "text": [
            "Intracluster distance of the model is:  1197.6768152532238\n"
          ],
          "name": "stdout"
        }
      ]
    },
    {
      "cell_type": "markdown",
      "metadata": {
        "id": "iewy40XtbmXd"
      },
      "source": [
        "This distance needs to be minimized by finding optimal hyper paramter."
      ]
    },
    {
      "cell_type": "markdown",
      "metadata": {
        "id": "jJinjptRbuJI"
      },
      "source": [
        "## **Hyperparameter tuning**"
      ]
    },
    {
      "cell_type": "code",
      "metadata": {
        "id": "sjy7SVPubjG_"
      },
      "source": [
        "def make_list_of_K(K, dataframe):\n",
        "\n",
        "  cluster_values = list(range(1, K+1))\n",
        "  inertia_values = []\n",
        "\n",
        "  for c in cluster_values:\n",
        "    model = KMeans(n_clusters=c, init='k-means++', max_iter=500, random_state=42)\n",
        "    model.fit(dataframe)\n",
        "    inertia_values.append(model.inertia_)\n",
        "  \n",
        "  return inertia_values"
      ],
      "execution_count": null,
      "outputs": []
    },
    {
      "cell_type": "code",
      "metadata": {
        "id": "ySeGq4P6cWCa"
      },
      "source": [
        "# Checking for k values between 1 to 15\n",
        "results = make_list_of_K(15, customers.iloc[:, 3:])"
      ],
      "execution_count": null,
      "outputs": []
    },
    {
      "cell_type": "code",
      "metadata": {
        "id": "uKbo5F9ncjqF",
        "outputId": "76c58dc4-2530-4e57-f9c2-0e558eb52426",
        "colab": {
          "base_uri": "https://localhost:8080/"
        }
      },
      "source": [
        "k_values_distances = pd.DataFrame({'clusters': list(range(1, 16)), 'Intracluster distances': results})\n",
        "\n",
        "print(k_values_distances)"
      ],
      "execution_count": null,
      "outputs": [
        {
          "output_type": "stream",
          "text": [
            "    clusters  Intracluster distances\n",
            "0          1            11756.716152\n",
            "1          2             4790.968733\n",
            "2          3             2965.444740\n",
            "3          4             2211.197176\n",
            "4          5             1810.651161\n",
            "5          6             1565.831656\n",
            "6          7             1354.825184\n",
            "7          8             1197.676815\n",
            "8          9             1054.114349\n",
            "9         10              957.658328\n",
            "10        11              873.862032\n",
            "11        12              799.969961\n",
            "12        13              745.265932\n",
            "13        14              701.321098\n",
            "14        15              660.753548\n"
          ],
          "name": "stdout"
        }
      ]
    },
    {
      "cell_type": "code",
      "metadata": {
        "id": "Oz7TrJe4dB7A",
        "outputId": "414962c7-1185-4d03-f18d-abc6fea5b464",
        "colab": {
          "base_uri": "https://localhost:8080/"
        }
      },
      "source": [
        "plt.plot(k_values_distances['clusters'], k_values_distances['Intracluster distances'], color='red')\n",
        "plt.xlabel('K - values')\n",
        "plt.ylabel('Intracluster Distance')\n",
        "plt.title('Intracluster Distance vs K-values')\n",
        "plt.show()"
      ],
      "execution_count": null,
      "outputs": [
        {
          "output_type": "display_data",
          "data": {
            "image/png": "[encoded data removed]",
            "text/plain": [
              "<Figure size 432x288 with 1 Axes>"
            ]
          },
          "metadata": {
            "tags": [],
            "needs_background": "light"
          }
        }
      ]
    },
    {
      "cell_type": "markdown",
      "metadata": {
        "id": "9T2rBvFKfJOS"
      },
      "source": [
        "From the graph, its clear that after k = 4, the descent gets stabilized so the optimal k is 4.  "
      ]
    },
    {
      "cell_type": "code",
      "metadata": {
        "id": "ZRHa2VOAe-Bg",
        "outputId": "7d84f368-9925-4482-9da1-42c4fa54068e",
        "colab": {
          "base_uri": "https://localhost:8080/"
        }
      },
      "source": [
        "# Updating model with optimal k\n",
        "updated_kmeans_model = KMeans(n_clusters=4, init='k-means++', max_iter=500, random_state=42)\n",
        "\n",
        "updated_kmeans_model.fit_predict(customers.iloc[:, 3:])"
      ],
      "execution_count": null,
      "outputs": [
        {
          "output_type": "execute_result",
          "data": {
            "text/plain": [
              "array([3, 1, 0, ..., 1, 3, 0], dtype=int32)"
            ]
          },
          "metadata": {
            "tags": []
          },
          "execution_count": 62
        }
      ]
    },
    {
      "cell_type": "markdown",
      "metadata": {
        "id": "1A2roXidf6tL"
      },
      "source": [
        "## Adding cluster centers"
      ]
    },
    {
      "cell_type": "code",
      "metadata": {
        "id": "jrduZ14Jfx8x",
        "outputId": "146bad08-fc9c-406b-8349-52bd87025463",
        "colab": {
          "base_uri": "https://localhost:8080/"
        }
      },
      "source": [
        "# create cluster centers and actual data arrays\n",
        "cluster_centers = updated_kmeans_model.cluster_centers_\n",
        "\n",
        "actual_data = np.expm1(cluster_centers)\n",
        "\n",
        "add_points = np.append(actual_data, cluster_centers, axis=1)\n",
        "\n",
        "add_points"
      ],
      "execution_count": null,
      "outputs": [
        {
          "output_type": "execute_result",
          "data": {
            "text/plain": [
              "array([[5.01698019e+01, 7.63545604e+02, 3.93514955e+00, 6.63928168e+00],\n",
              "       [4.65081991e+00, 7.68378454e+01, 1.73180065e+00, 4.35462776e+00],\n",
              "       [1.83642140e+01, 2.63280006e+02, 2.96342672e+00, 5.57700917e+00],\n",
              "       [1.31292199e+02, 2.67581235e+03, 4.88501311e+00, 7.89238194e+00]])"
            ]
          },
          "metadata": {
            "tags": []
          },
          "execution_count": 63
        }
      ]
    },
    {
      "cell_type": "code",
      "metadata": {
        "id": "J5EPmUqTgXSt"
      },
      "source": [
        "# add labels to customers dataframe and add_points array\n",
        "add_points = np.append(add_points, [[0], [1], [2], [3]], axis=1)\n",
        "customers['clusters'] = updated_kmeans_model.labels_"
      ],
      "execution_count": null,
      "outputs": []
    },
    {
      "cell_type": "code",
      "metadata": {
        "id": "UxTys2JRhBYi",
        "outputId": "dcc1d7c1-e36f-4529-944c-3da35fad2353",
        "colab": {
          "base_uri": "https://localhost:8080/"
        }
      },
      "source": [
        "# create centers dataframe from add_points\n",
        "centers_df = pd.DataFrame(data=add_points, columns=['Products_ordered', 'Total_spending', 'log_Products_ordered', 'log_Total_spending', 'clusters'])\n",
        "\n",
        "centers_df.head()"
      ],
      "execution_count": null,
      "outputs": [
        {
          "output_type": "execute_result",
          "data": {
            "text/html": [
              "<div>\n",
              "<style scoped>\n",
              "    .dataframe tbody tr th:only-of-type {\n",
              "        vertical-align: middle;\n",
              "    }\n",
              "\n",
              "    .dataframe tbody tr th {\n",
              "        vertical-align: top;\n",
              "    }\n",
              "\n",
              "    .dataframe thead th {\n",
              "        text-align: right;\n",
              "    }\n",
              "</style>\n",
              "<table border=\"1\" class=\"dataframe\">\n",
              "  <thead>\n",
              "    <tr style=\"text-align: right;\">\n",
              "      <th></th>\n",
              "      <th>Products_ordered</th>\n",
              "      <th>Total_spending</th>\n",
              "      <th>log_Products_ordered</th>\n",
              "      <th>log_Total_spending</th>\n",
              "      <th>clusters</th>\n",
              "    </tr>\n",
              "  </thead>\n",
              "  <tbody>\n",
              "    <tr>\n",
              "      <th>0</th>\n",
              "      <td>50.169802</td>\n",
              "      <td>763.545604</td>\n",
              "      <td>3.935150</td>\n",
              "      <td>6.639282</td>\n",
              "      <td>0.0</td>\n",
              "    </tr>\n",
              "    <tr>\n",
              "      <th>1</th>\n",
              "      <td>4.650820</td>\n",
              "      <td>76.837845</td>\n",
              "      <td>1.731801</td>\n",
              "      <td>4.354628</td>\n",
              "      <td>1.0</td>\n",
              "    </tr>\n",
              "    <tr>\n",
              "      <th>2</th>\n",
              "      <td>18.364214</td>\n",
              "      <td>263.280006</td>\n",
              "      <td>2.963427</td>\n",
              "      <td>5.577009</td>\n",
              "      <td>2.0</td>\n",
              "    </tr>\n",
              "    <tr>\n",
              "      <th>3</th>\n",
              "      <td>131.292199</td>\n",
              "      <td>2675.812348</td>\n",
              "      <td>4.885013</td>\n",
              "      <td>7.892382</td>\n",
              "      <td>3.0</td>\n",
              "    </tr>\n",
              "  </tbody>\n",
              "</table>\n",
              "</div>"
            ],
            "text/plain": [
              "   Products_ordered  Total_spending  ...  log_Total_spending  clusters\n",
              "0         50.169802      763.545604  ...            6.639282       0.0\n",
              "1          4.650820       76.837845  ...            4.354628       1.0\n",
              "2         18.364214      263.280006  ...            5.577009       2.0\n",
              "3        131.292199     2675.812348  ...            7.892382       3.0\n",
              "\n",
              "[4 rows x 5 columns]"
            ]
          },
          "metadata": {
            "tags": []
          },
          "execution_count": 65
        }
      ]
    },
    {
      "cell_type": "code",
      "metadata": {
        "id": "C_xf4q9Mha5Z",
        "outputId": "406ad9dd-c62c-45bb-f9c5-a059307247f7",
        "colab": {
          "base_uri": "https://localhost:8080/"
        }
      },
      "source": [
        "# Changing the type of clusters attribute to int\n",
        "centers_df['clusters'] = centers_df['clusters'].astype('int')\n",
        "centers_df.head()"
      ],
      "execution_count": null,
      "outputs": [
        {
          "output_type": "execute_result",
          "data": {
            "text/html": [
              "<div>\n",
              "<style scoped>\n",
              "    .dataframe tbody tr th:only-of-type {\n",
              "        vertical-align: middle;\n",
              "    }\n",
              "\n",
              "    .dataframe tbody tr th {\n",
              "        vertical-align: top;\n",
              "    }\n",
              "\n",
              "    .dataframe thead th {\n",
              "        text-align: right;\n",
              "    }\n",
              "</style>\n",
              "<table border=\"1\" class=\"dataframe\">\n",
              "  <thead>\n",
              "    <tr style=\"text-align: right;\">\n",
              "      <th></th>\n",
              "      <th>Products_ordered</th>\n",
              "      <th>Total_spending</th>\n",
              "      <th>log_Products_ordered</th>\n",
              "      <th>log_Total_spending</th>\n",
              "      <th>clusters</th>\n",
              "    </tr>\n",
              "  </thead>\n",
              "  <tbody>\n",
              "    <tr>\n",
              "      <th>0</th>\n",
              "      <td>50.169802</td>\n",
              "      <td>763.545604</td>\n",
              "      <td>3.935150</td>\n",
              "      <td>6.639282</td>\n",
              "      <td>0</td>\n",
              "    </tr>\n",
              "    <tr>\n",
              "      <th>1</th>\n",
              "      <td>4.650820</td>\n",
              "      <td>76.837845</td>\n",
              "      <td>1.731801</td>\n",
              "      <td>4.354628</td>\n",
              "      <td>1</td>\n",
              "    </tr>\n",
              "    <tr>\n",
              "      <th>2</th>\n",
              "      <td>18.364214</td>\n",
              "      <td>263.280006</td>\n",
              "      <td>2.963427</td>\n",
              "      <td>5.577009</td>\n",
              "      <td>2</td>\n",
              "    </tr>\n",
              "    <tr>\n",
              "      <th>3</th>\n",
              "      <td>131.292199</td>\n",
              "      <td>2675.812348</td>\n",
              "      <td>4.885013</td>\n",
              "      <td>7.892382</td>\n",
              "      <td>3</td>\n",
              "    </tr>\n",
              "  </tbody>\n",
              "</table>\n",
              "</div>"
            ],
            "text/plain": [
              "   Products_ordered  Total_spending  ...  log_Total_spending  clusters\n",
              "0         50.169802      763.545604  ...            6.639282         0\n",
              "1          4.650820       76.837845  ...            4.354628         1\n",
              "2         18.364214      263.280006  ...            5.577009         2\n",
              "3        131.292199     2675.812348  ...            7.892382         3\n",
              "\n",
              "[4 rows x 5 columns]"
            ]
          },
          "metadata": {
            "tags": []
          },
          "execution_count": 66
        }
      ]
    },
    {
      "cell_type": "code",
      "metadata": {
        "id": "LEUWZqKBhqVv",
        "outputId": "dd99a3af-2131-417a-a403-0c37334039ad",
        "colab": {
          "base_uri": "https://localhost:8080/"
        }
      },
      "source": [
        "customers.head(10)"
      ],
      "execution_count": null,
      "outputs": [
        {
          "output_type": "execute_result",
          "data": {
            "text/html": [
              "<div>\n",
              "<style scoped>\n",
              "    .dataframe tbody tr th:only-of-type {\n",
              "        vertical-align: middle;\n",
              "    }\n",
              "\n",
              "    .dataframe tbody tr th {\n",
              "        vertical-align: top;\n",
              "    }\n",
              "\n",
              "    .dataframe thead th {\n",
              "        text-align: right;\n",
              "    }\n",
              "</style>\n",
              "<table border=\"1\" class=\"dataframe\">\n",
              "  <thead>\n",
              "    <tr style=\"text-align: right;\">\n",
              "      <th></th>\n",
              "      <th>CustomerID</th>\n",
              "      <th>Products_ordered</th>\n",
              "      <th>Total_spending</th>\n",
              "      <th>log_Products_ordered</th>\n",
              "      <th>log_Total_spending</th>\n",
              "      <th>clusters</th>\n",
              "    </tr>\n",
              "  </thead>\n",
              "  <tbody>\n",
              "    <tr>\n",
              "      <th>0</th>\n",
              "      <td>12347.0</td>\n",
              "      <td>96</td>\n",
              "      <td>3314.73</td>\n",
              "      <td>4.574711</td>\n",
              "      <td>8.106433</td>\n",
              "      <td>3</td>\n",
              "    </tr>\n",
              "    <tr>\n",
              "      <th>1</th>\n",
              "      <td>12348.0</td>\n",
              "      <td>6</td>\n",
              "      <td>90.20</td>\n",
              "      <td>1.945910</td>\n",
              "      <td>4.513055</td>\n",
              "      <td>1</td>\n",
              "    </tr>\n",
              "    <tr>\n",
              "      <th>2</th>\n",
              "      <td>12349.0</td>\n",
              "      <td>57</td>\n",
              "      <td>984.15</td>\n",
              "      <td>4.060443</td>\n",
              "      <td>6.892794</td>\n",
              "      <td>0</td>\n",
              "    </tr>\n",
              "    <tr>\n",
              "      <th>3</th>\n",
              "      <td>12350.0</td>\n",
              "      <td>16</td>\n",
              "      <td>294.40</td>\n",
              "      <td>2.833213</td>\n",
              "      <td>5.688330</td>\n",
              "      <td>2</td>\n",
              "    </tr>\n",
              "    <tr>\n",
              "      <th>4</th>\n",
              "      <td>12352.0</td>\n",
              "      <td>49</td>\n",
              "      <td>1130.94</td>\n",
              "      <td>3.912023</td>\n",
              "      <td>7.031688</td>\n",
              "      <td>0</td>\n",
              "    </tr>\n",
              "    <tr>\n",
              "      <th>5</th>\n",
              "      <td>12353.0</td>\n",
              "      <td>2</td>\n",
              "      <td>29.30</td>\n",
              "      <td>1.098612</td>\n",
              "      <td>3.411148</td>\n",
              "      <td>1</td>\n",
              "    </tr>\n",
              "    <tr>\n",
              "      <th>6</th>\n",
              "      <td>12354.0</td>\n",
              "      <td>40</td>\n",
              "      <td>682.69</td>\n",
              "      <td>3.713572</td>\n",
              "      <td>6.527505</td>\n",
              "      <td>0</td>\n",
              "    </tr>\n",
              "    <tr>\n",
              "      <th>7</th>\n",
              "      <td>12355.0</td>\n",
              "      <td>9</td>\n",
              "      <td>219.00</td>\n",
              "      <td>2.302585</td>\n",
              "      <td>5.393628</td>\n",
              "      <td>2</td>\n",
              "    </tr>\n",
              "    <tr>\n",
              "      <th>8</th>\n",
              "      <td>12356.0</td>\n",
              "      <td>33</td>\n",
              "      <td>1086.56</td>\n",
              "      <td>3.526361</td>\n",
              "      <td>6.991692</td>\n",
              "      <td>0</td>\n",
              "    </tr>\n",
              "    <tr>\n",
              "      <th>9</th>\n",
              "      <td>12357.0</td>\n",
              "      <td>95</td>\n",
              "      <td>3195.41</td>\n",
              "      <td>4.564348</td>\n",
              "      <td>8.069784</td>\n",
              "      <td>3</td>\n",
              "    </tr>\n",
              "  </tbody>\n",
              "</table>\n",
              "</div>"
            ],
            "text/plain": [
              "   CustomerID  Products_ordered  ...  log_Total_spending  clusters\n",
              "0     12347.0                96  ...            8.106433         3\n",
              "1     12348.0                 6  ...            4.513055         1\n",
              "2     12349.0                57  ...            6.892794         0\n",
              "3     12350.0                16  ...            5.688330         2\n",
              "4     12352.0                49  ...            7.031688         0\n",
              "5     12353.0                 2  ...            3.411148         1\n",
              "6     12354.0                40  ...            6.527505         0\n",
              "7     12355.0                 9  ...            5.393628         2\n",
              "8     12356.0                33  ...            6.991692         0\n",
              "9     12357.0                95  ...            8.069784         3\n",
              "\n",
              "[10 rows x 6 columns]"
            ]
          },
          "metadata": {
            "tags": []
          },
          "execution_count": 67
        }
      ]
    },
    {
      "cell_type": "markdown",
      "metadata": {
        "id": "TrMEVRMk8sIP"
      },
      "source": [
        "## **Cluster Visualization**"
      ]
    },
    {
      "cell_type": "code",
      "metadata": {
        "id": "dUh5rwLyhvOQ",
        "outputId": "53963c62-4363-46fb-e346-74b8a8652a72",
        "colab": {
          "base_uri": "https://localhost:8080/"
        }
      },
      "source": [
        "# Creating the attribute Cluster_name\n",
        "customers['Cluster_name'] = customers['clusters'].astype(str)\n",
        "\n",
        "customers.head(10)"
      ],
      "execution_count": null,
      "outputs": [
        {
          "output_type": "execute_result",
          "data": {
            "text/html": [
              "<div>\n",
              "<style scoped>\n",
              "    .dataframe tbody tr th:only-of-type {\n",
              "        vertical-align: middle;\n",
              "    }\n",
              "\n",
              "    .dataframe tbody tr th {\n",
              "        vertical-align: top;\n",
              "    }\n",
              "\n",
              "    .dataframe thead th {\n",
              "        text-align: right;\n",
              "    }\n",
              "</style>\n",
              "<table border=\"1\" class=\"dataframe\">\n",
              "  <thead>\n",
              "    <tr style=\"text-align: right;\">\n",
              "      <th></th>\n",
              "      <th>CustomerID</th>\n",
              "      <th>Products_ordered</th>\n",
              "      <th>Total_spending</th>\n",
              "      <th>log_Products_ordered</th>\n",
              "      <th>log_Total_spending</th>\n",
              "      <th>clusters</th>\n",
              "      <th>Cluster_name</th>\n",
              "    </tr>\n",
              "  </thead>\n",
              "  <tbody>\n",
              "    <tr>\n",
              "      <th>0</th>\n",
              "      <td>12347.0</td>\n",
              "      <td>96</td>\n",
              "      <td>3314.73</td>\n",
              "      <td>4.574711</td>\n",
              "      <td>8.106433</td>\n",
              "      <td>3</td>\n",
              "      <td>3</td>\n",
              "    </tr>\n",
              "    <tr>\n",
              "      <th>1</th>\n",
              "      <td>12348.0</td>\n",
              "      <td>6</td>\n",
              "      <td>90.20</td>\n",
              "      <td>1.945910</td>\n",
              "      <td>4.513055</td>\n",
              "      <td>1</td>\n",
              "      <td>1</td>\n",
              "    </tr>\n",
              "    <tr>\n",
              "      <th>2</th>\n",
              "      <td>12349.0</td>\n",
              "      <td>57</td>\n",
              "      <td>984.15</td>\n",
              "      <td>4.060443</td>\n",
              "      <td>6.892794</td>\n",
              "      <td>0</td>\n",
              "      <td>0</td>\n",
              "    </tr>\n",
              "    <tr>\n",
              "      <th>3</th>\n",
              "      <td>12350.0</td>\n",
              "      <td>16</td>\n",
              "      <td>294.40</td>\n",
              "      <td>2.833213</td>\n",
              "      <td>5.688330</td>\n",
              "      <td>2</td>\n",
              "      <td>2</td>\n",
              "    </tr>\n",
              "    <tr>\n",
              "      <th>4</th>\n",
              "      <td>12352.0</td>\n",
              "      <td>49</td>\n",
              "      <td>1130.94</td>\n",
              "      <td>3.912023</td>\n",
              "      <td>7.031688</td>\n",
              "      <td>0</td>\n",
              "      <td>0</td>\n",
              "    </tr>\n",
              "    <tr>\n",
              "      <th>5</th>\n",
              "      <td>12353.0</td>\n",
              "      <td>2</td>\n",
              "      <td>29.30</td>\n",
              "      <td>1.098612</td>\n",
              "      <td>3.411148</td>\n",
              "      <td>1</td>\n",
              "      <td>1</td>\n",
              "    </tr>\n",
              "    <tr>\n",
              "      <th>6</th>\n",
              "      <td>12354.0</td>\n",
              "      <td>40</td>\n",
              "      <td>682.69</td>\n",
              "      <td>3.713572</td>\n",
              "      <td>6.527505</td>\n",
              "      <td>0</td>\n",
              "      <td>0</td>\n",
              "    </tr>\n",
              "    <tr>\n",
              "      <th>7</th>\n",
              "      <td>12355.0</td>\n",
              "      <td>9</td>\n",
              "      <td>219.00</td>\n",
              "      <td>2.302585</td>\n",
              "      <td>5.393628</td>\n",
              "      <td>2</td>\n",
              "      <td>2</td>\n",
              "    </tr>\n",
              "    <tr>\n",
              "      <th>8</th>\n",
              "      <td>12356.0</td>\n",
              "      <td>33</td>\n",
              "      <td>1086.56</td>\n",
              "      <td>3.526361</td>\n",
              "      <td>6.991692</td>\n",
              "      <td>0</td>\n",
              "      <td>0</td>\n",
              "    </tr>\n",
              "    <tr>\n",
              "      <th>9</th>\n",
              "      <td>12357.0</td>\n",
              "      <td>95</td>\n",
              "      <td>3195.41</td>\n",
              "      <td>4.564348</td>\n",
              "      <td>8.069784</td>\n",
              "      <td>3</td>\n",
              "      <td>3</td>\n",
              "    </tr>\n",
              "  </tbody>\n",
              "</table>\n",
              "</div>"
            ],
            "text/plain": [
              "   CustomerID  Products_ordered  ...  clusters  Cluster_name\n",
              "0     12347.0                96  ...         3             3\n",
              "1     12348.0                 6  ...         1             1\n",
              "2     12349.0                57  ...         0             0\n",
              "3     12350.0                16  ...         2             2\n",
              "4     12352.0                49  ...         0             0\n",
              "5     12353.0                 2  ...         1             1\n",
              "6     12354.0                40  ...         0             0\n",
              "7     12355.0                 9  ...         2             2\n",
              "8     12356.0                33  ...         0             0\n",
              "9     12357.0                95  ...         3             3\n",
              "\n",
              "[10 rows x 7 columns]"
            ]
          },
          "metadata": {
            "tags": []
          },
          "execution_count": 68
        }
      ]
    },
    {
      "cell_type": "code",
      "metadata": {
        "id": "4aez6z9S9O69",
        "outputId": "1dc0e010-bff9-472c-c39c-1052e31ef9c6",
        "colab": {
          "base_uri": "https://localhost:8080/"
        }
      },
      "source": [
        "# Obtaining the value counts of all the clusters.\n",
        "magnitude_df = pd.DataFrame(customers.Cluster_name.value_counts().reset_index())\n",
        "\n",
        "magnitude_df.rename(columns={'index':'Customer Groups', 'Cluster_name': 'Customer Group Magnitude'}, inplace=True)\n",
        "\n",
        "magnitude_df"
      ],
      "execution_count": null,
      "outputs": [
        {
          "output_type": "execute_result",
          "data": {
            "text/html": [
              "<div>\n",
              "<style scoped>\n",
              "    .dataframe tbody tr th:only-of-type {\n",
              "        vertical-align: middle;\n",
              "    }\n",
              "\n",
              "    .dataframe tbody tr th {\n",
              "        vertical-align: top;\n",
              "    }\n",
              "\n",
              "    .dataframe thead th {\n",
              "        text-align: right;\n",
              "    }\n",
              "</style>\n",
              "<table border=\"1\" class=\"dataframe\">\n",
              "  <thead>\n",
              "    <tr style=\"text-align: right;\">\n",
              "      <th></th>\n",
              "      <th>Customer Groups</th>\n",
              "      <th>Customer Group Magnitude</th>\n",
              "    </tr>\n",
              "  </thead>\n",
              "  <tbody>\n",
              "    <tr>\n",
              "      <th>0</th>\n",
              "      <td>2</td>\n",
              "      <td>1384</td>\n",
              "    </tr>\n",
              "    <tr>\n",
              "      <th>1</th>\n",
              "      <td>0</td>\n",
              "      <td>1348</td>\n",
              "    </tr>\n",
              "    <tr>\n",
              "      <th>2</th>\n",
              "      <td>3</td>\n",
              "      <td>805</td>\n",
              "    </tr>\n",
              "    <tr>\n",
              "      <th>3</th>\n",
              "      <td>1</td>\n",
              "      <td>653</td>\n",
              "    </tr>\n",
              "  </tbody>\n",
              "</table>\n",
              "</div>"
            ],
            "text/plain": [
              "  Customer Groups  Customer Group Magnitude\n",
              "0               2                      1384\n",
              "1               0                      1348\n",
              "2               3                       805\n",
              "3               1                       653"
            ]
          },
          "metadata": {
            "tags": []
          },
          "execution_count": 69
        }
      ]
    },
    {
      "cell_type": "code",
      "metadata": {
        "id": "4e82hqOs91vk",
        "outputId": "b082df21-c8b3-456d-c676-74a30d0ac867",
        "colab": {
          "base_uri": "https://localhost:8080/"
        }
      },
      "source": [
        "# Plotting the bar graph to interpret the number of customers in each clusters\n",
        "plt.bar(magnitude_df['Customer Groups'], magnitude_df['Customer Group Magnitude'], color=['green', 'red', 'blue', 'purple'])\n",
        "plt.xlabel('Customer Groups')\n",
        "plt.ylabel('Customer Group Magnitude')\n",
        "plt.title('Variation in Customer Groups')\n",
        "plt.show()"
      ],
      "execution_count": null,
      "outputs": [
        {
          "output_type": "display_data",
          "data": {
            "image/png": "[encoded data removed]",
            "text/plain": [
              "<Figure size 432x288 with 1 Axes>"
            ]
          },
          "metadata": {
            "tags": [],
            "needs_background": "light"
          }
        }
      ]
    },
    {
      "cell_type": "markdown",
      "metadata": {
        "id": "1Xg7Hfyh_XwM"
      },
      "source": [
        "# <font color=\"blue\">**Customer Profiling**</font>"
      ]
    },
    {
      "cell_type": "markdown",
      "metadata": {
        "id": "36OzKmf0_rBn"
      },
      "source": [
        "## Number of products brought by each customerID"
      ]
    },
    {
      "cell_type": "code",
      "metadata": {
        "id": "4B_QeUM2-elw",
        "outputId": "bb373b69-bc46-42ac-ee08-ea1399f474d4",
        "colab": {
          "base_uri": "https://localhost:8080/",
          "height": 419
        }
      },
      "source": [
        "customers.iloc[:,:2]"
      ],
      "execution_count": null,
      "outputs": [
        {
          "output_type": "execute_result",
          "data": {
            "text/html": [
              "<div>\n",
              "<style scoped>\n",
              "    .dataframe tbody tr th:only-of-type {\n",
              "        vertical-align: middle;\n",
              "    }\n",
              "\n",
              "    .dataframe tbody tr th {\n",
              "        vertical-align: top;\n",
              "    }\n",
              "\n",
              "    .dataframe thead th {\n",
              "        text-align: right;\n",
              "    }\n",
              "</style>\n",
              "<table border=\"1\" class=\"dataframe\">\n",
              "  <thead>\n",
              "    <tr style=\"text-align: right;\">\n",
              "      <th></th>\n",
              "      <th>CustomerID</th>\n",
              "      <th>Products_ordered</th>\n",
              "    </tr>\n",
              "  </thead>\n",
              "  <tbody>\n",
              "    <tr>\n",
              "      <th>0</th>\n",
              "      <td>12347.0</td>\n",
              "      <td>96</td>\n",
              "    </tr>\n",
              "    <tr>\n",
              "      <th>1</th>\n",
              "      <td>12348.0</td>\n",
              "      <td>6</td>\n",
              "    </tr>\n",
              "    <tr>\n",
              "      <th>2</th>\n",
              "      <td>12349.0</td>\n",
              "      <td>57</td>\n",
              "    </tr>\n",
              "    <tr>\n",
              "      <th>3</th>\n",
              "      <td>12350.0</td>\n",
              "      <td>16</td>\n",
              "    </tr>\n",
              "    <tr>\n",
              "      <th>4</th>\n",
              "      <td>12352.0</td>\n",
              "      <td>49</td>\n",
              "    </tr>\n",
              "    <tr>\n",
              "      <th>...</th>\n",
              "      <td>...</td>\n",
              "      <td>...</td>\n",
              "    </tr>\n",
              "    <tr>\n",
              "      <th>4185</th>\n",
              "      <td>18280.0</td>\n",
              "      <td>8</td>\n",
              "    </tr>\n",
              "    <tr>\n",
              "      <th>4186</th>\n",
              "      <td>18281.0</td>\n",
              "      <td>5</td>\n",
              "    </tr>\n",
              "    <tr>\n",
              "      <th>4187</th>\n",
              "      <td>18282.0</td>\n",
              "      <td>8</td>\n",
              "    </tr>\n",
              "    <tr>\n",
              "      <th>4188</th>\n",
              "      <td>18283.0</td>\n",
              "      <td>268</td>\n",
              "    </tr>\n",
              "    <tr>\n",
              "      <th>4189</th>\n",
              "      <td>18287.0</td>\n",
              "      <td>46</td>\n",
              "    </tr>\n",
              "  </tbody>\n",
              "</table>\n",
              "<p>4190 rows × 2 columns</p>\n",
              "</div>"
            ],
            "text/plain": [
              "      CustomerID  Products_ordered\n",
              "0        12347.0                96\n",
              "1        12348.0                 6\n",
              "2        12349.0                57\n",
              "3        12350.0                16\n",
              "4        12352.0                49\n",
              "...          ...               ...\n",
              "4185     18280.0                 8\n",
              "4186     18281.0                 5\n",
              "4187     18282.0                 8\n",
              "4188     18283.0               268\n",
              "4189     18287.0                46\n",
              "\n",
              "[4190 rows x 2 columns]"
            ]
          },
          "metadata": {
            "tags": []
          },
          "execution_count": 71
        }
      ]
    },
    {
      "cell_type": "markdown",
      "metadata": {
        "id": "Ilt80QiZ_1JK"
      },
      "source": [
        "## Total bill of each customerID"
      ]
    },
    {
      "cell_type": "code",
      "metadata": {
        "id": "EnYZ0inl_yME",
        "outputId": "75243175-2868-4689-c4af-f5270b20049f",
        "colab": {
          "base_uri": "https://localhost:8080/",
          "height": 419
        }
      },
      "source": [
        "customers[['CustomerID', 'Total_spending']]"
      ],
      "execution_count": null,
      "outputs": [
        {
          "output_type": "execute_result",
          "data": {
            "text/html": [
              "<div>\n",
              "<style scoped>\n",
              "    .dataframe tbody tr th:only-of-type {\n",
              "        vertical-align: middle;\n",
              "    }\n",
              "\n",
              "    .dataframe tbody tr th {\n",
              "        vertical-align: top;\n",
              "    }\n",
              "\n",
              "    .dataframe thead th {\n",
              "        text-align: right;\n",
              "    }\n",
              "</style>\n",
              "<table border=\"1\" class=\"dataframe\">\n",
              "  <thead>\n",
              "    <tr style=\"text-align: right;\">\n",
              "      <th></th>\n",
              "      <th>CustomerID</th>\n",
              "      <th>Total_spending</th>\n",
              "    </tr>\n",
              "  </thead>\n",
              "  <tbody>\n",
              "    <tr>\n",
              "      <th>0</th>\n",
              "      <td>12347.0</td>\n",
              "      <td>3314.73</td>\n",
              "    </tr>\n",
              "    <tr>\n",
              "      <th>1</th>\n",
              "      <td>12348.0</td>\n",
              "      <td>90.20</td>\n",
              "    </tr>\n",
              "    <tr>\n",
              "      <th>2</th>\n",
              "      <td>12349.0</td>\n",
              "      <td>984.15</td>\n",
              "    </tr>\n",
              "    <tr>\n",
              "      <th>3</th>\n",
              "      <td>12350.0</td>\n",
              "      <td>294.40</td>\n",
              "    </tr>\n",
              "    <tr>\n",
              "      <th>4</th>\n",
              "      <td>12352.0</td>\n",
              "      <td>1130.94</td>\n",
              "    </tr>\n",
              "    <tr>\n",
              "      <th>...</th>\n",
              "      <td>...</td>\n",
              "      <td>...</td>\n",
              "    </tr>\n",
              "    <tr>\n",
              "      <th>4185</th>\n",
              "      <td>18280.0</td>\n",
              "      <td>137.00</td>\n",
              "    </tr>\n",
              "    <tr>\n",
              "      <th>4186</th>\n",
              "      <td>18281.0</td>\n",
              "      <td>46.92</td>\n",
              "    </tr>\n",
              "    <tr>\n",
              "      <th>4187</th>\n",
              "      <td>18282.0</td>\n",
              "      <td>113.13</td>\n",
              "    </tr>\n",
              "    <tr>\n",
              "      <th>4188</th>\n",
              "      <td>18283.0</td>\n",
              "      <td>2051.98</td>\n",
              "    </tr>\n",
              "    <tr>\n",
              "      <th>4189</th>\n",
              "      <td>18287.0</td>\n",
              "      <td>960.76</td>\n",
              "    </tr>\n",
              "  </tbody>\n",
              "</table>\n",
              "<p>4190 rows × 2 columns</p>\n",
              "</div>"
            ],
            "text/plain": [
              "      CustomerID  Total_spending\n",
              "0        12347.0         3314.73\n",
              "1        12348.0           90.20\n",
              "2        12349.0          984.15\n",
              "3        12350.0          294.40\n",
              "4        12352.0         1130.94\n",
              "...          ...             ...\n",
              "4185     18280.0          137.00\n",
              "4186     18281.0           46.92\n",
              "4187     18282.0          113.13\n",
              "4188     18283.0         2051.98\n",
              "4189     18287.0          960.76\n",
              "\n",
              "[4190 rows x 2 columns]"
            ]
          },
          "metadata": {
            "tags": []
          },
          "execution_count": 72
        }
      ]
    },
    {
      "cell_type": "markdown",
      "metadata": {
        "id": "l1uX-SBOAA_4"
      },
      "source": [
        "## **Customers Grouping based on customer segmentation**"
      ]
    },
    {
      "cell_type": "markdown",
      "metadata": {
        "id": "xKIoBkqeAG9n"
      },
      "source": [
        "### **Group 0**"
      ]
    },
    {
      "cell_type": "code",
      "metadata": {
        "id": "xtvo4AdD_9I6",
        "outputId": "bc53433a-69df-4294-a2dd-66383f80e519",
        "colab": {
          "base_uri": "https://localhost:8080/",
          "height": 439
        }
      },
      "source": [
        "customers[customers['clusters'] == 0]"
      ],
      "execution_count": null,
      "outputs": [
        {
          "output_type": "execute_result",
          "data": {
            "text/html": [
              "<div>\n",
              "<style scoped>\n",
              "    .dataframe tbody tr th:only-of-type {\n",
              "        vertical-align: middle;\n",
              "    }\n",
              "\n",
              "    .dataframe tbody tr th {\n",
              "        vertical-align: top;\n",
              "    }\n",
              "\n",
              "    .dataframe thead th {\n",
              "        text-align: right;\n",
              "    }\n",
              "</style>\n",
              "<table border=\"1\" class=\"dataframe\">\n",
              "  <thead>\n",
              "    <tr style=\"text-align: right;\">\n",
              "      <th></th>\n",
              "      <th>CustomerID</th>\n",
              "      <th>Products_ordered</th>\n",
              "      <th>Total_spending</th>\n",
              "      <th>log_Products_ordered</th>\n",
              "      <th>log_Total_spending</th>\n",
              "      <th>clusters</th>\n",
              "      <th>Cluster_name</th>\n",
              "    </tr>\n",
              "  </thead>\n",
              "  <tbody>\n",
              "    <tr>\n",
              "      <th>2</th>\n",
              "      <td>12349.0</td>\n",
              "      <td>57</td>\n",
              "      <td>984.15</td>\n",
              "      <td>4.060443</td>\n",
              "      <td>6.892794</td>\n",
              "      <td>0</td>\n",
              "      <td>0</td>\n",
              "    </tr>\n",
              "    <tr>\n",
              "      <th>4</th>\n",
              "      <td>12352.0</td>\n",
              "      <td>49</td>\n",
              "      <td>1130.94</td>\n",
              "      <td>3.912023</td>\n",
              "      <td>7.031688</td>\n",
              "      <td>0</td>\n",
              "      <td>0</td>\n",
              "    </tr>\n",
              "    <tr>\n",
              "      <th>6</th>\n",
              "      <td>12354.0</td>\n",
              "      <td>40</td>\n",
              "      <td>682.69</td>\n",
              "      <td>3.713572</td>\n",
              "      <td>6.527505</td>\n",
              "      <td>0</td>\n",
              "      <td>0</td>\n",
              "    </tr>\n",
              "    <tr>\n",
              "      <th>8</th>\n",
              "      <td>12356.0</td>\n",
              "      <td>33</td>\n",
              "      <td>1086.56</td>\n",
              "      <td>3.526361</td>\n",
              "      <td>6.991692</td>\n",
              "      <td>0</td>\n",
              "      <td>0</td>\n",
              "    </tr>\n",
              "    <tr>\n",
              "      <th>16</th>\n",
              "      <td>12364.0</td>\n",
              "      <td>67</td>\n",
              "      <td>1106.28</td>\n",
              "      <td>4.219508</td>\n",
              "      <td>7.009662</td>\n",
              "      <td>0</td>\n",
              "      <td>0</td>\n",
              "    </tr>\n",
              "    <tr>\n",
              "      <th>...</th>\n",
              "      <td>...</td>\n",
              "      <td>...</td>\n",
              "      <td>...</td>\n",
              "      <td>...</td>\n",
              "      <td>...</td>\n",
              "      <td>...</td>\n",
              "      <td>...</td>\n",
              "    </tr>\n",
              "    <tr>\n",
              "      <th>4168</th>\n",
              "      <td>18252.0</td>\n",
              "      <td>81</td>\n",
              "      <td>385.67</td>\n",
              "      <td>4.406719</td>\n",
              "      <td>5.957572</td>\n",
              "      <td>0</td>\n",
              "      <td>0</td>\n",
              "    </tr>\n",
              "    <tr>\n",
              "      <th>4171</th>\n",
              "      <td>18259.0</td>\n",
              "      <td>26</td>\n",
              "      <td>2203.60</td>\n",
              "      <td>3.295837</td>\n",
              "      <td>7.698301</td>\n",
              "      <td>0</td>\n",
              "      <td>0</td>\n",
              "    </tr>\n",
              "    <tr>\n",
              "      <th>4175</th>\n",
              "      <td>18263.0</td>\n",
              "      <td>49</td>\n",
              "      <td>1042.40</td>\n",
              "      <td>3.912023</td>\n",
              "      <td>6.950240</td>\n",
              "      <td>0</td>\n",
              "      <td>0</td>\n",
              "    </tr>\n",
              "    <tr>\n",
              "      <th>4176</th>\n",
              "      <td>18265.0</td>\n",
              "      <td>34</td>\n",
              "      <td>609.11</td>\n",
              "      <td>3.555348</td>\n",
              "      <td>6.413639</td>\n",
              "      <td>0</td>\n",
              "      <td>0</td>\n",
              "    </tr>\n",
              "    <tr>\n",
              "      <th>4189</th>\n",
              "      <td>18287.0</td>\n",
              "      <td>46</td>\n",
              "      <td>960.76</td>\n",
              "      <td>3.850148</td>\n",
              "      <td>6.868765</td>\n",
              "      <td>0</td>\n",
              "      <td>0</td>\n",
              "    </tr>\n",
              "  </tbody>\n",
              "</table>\n",
              "<p>1348 rows × 7 columns</p>\n",
              "</div>"
            ],
            "text/plain": [
              "      CustomerID  Products_ordered  ...  clusters  Cluster_name\n",
              "2        12349.0                57  ...         0             0\n",
              "4        12352.0                49  ...         0             0\n",
              "6        12354.0                40  ...         0             0\n",
              "8        12356.0                33  ...         0             0\n",
              "16       12364.0                67  ...         0             0\n",
              "...          ...               ...  ...       ...           ...\n",
              "4168     18252.0                81  ...         0             0\n",
              "4171     18259.0                26  ...         0             0\n",
              "4175     18263.0                49  ...         0             0\n",
              "4176     18265.0                34  ...         0             0\n",
              "4189     18287.0                46  ...         0             0\n",
              "\n",
              "[1348 rows x 7 columns]"
            ]
          },
          "metadata": {
            "tags": []
          },
          "execution_count": 73
        }
      ]
    },
    {
      "cell_type": "markdown",
      "metadata": {
        "id": "gzbJ0nWUAUsB"
      },
      "source": [
        "### **Group1**"
      ]
    },
    {
      "cell_type": "code",
      "metadata": {
        "id": "DzCtKdTfAO0X",
        "outputId": "b1ccb416-2530-44bc-cd4e-5931233d37b7",
        "colab": {
          "base_uri": "https://localhost:8080/",
          "height": 439
        }
      },
      "source": [
        "customers[customers['clusters'] == 1]"
      ],
      "execution_count": null,
      "outputs": [
        {
          "output_type": "execute_result",
          "data": {
            "text/html": [
              "<div>\n",
              "<style scoped>\n",
              "    .dataframe tbody tr th:only-of-type {\n",
              "        vertical-align: middle;\n",
              "    }\n",
              "\n",
              "    .dataframe tbody tr th {\n",
              "        vertical-align: top;\n",
              "    }\n",
              "\n",
              "    .dataframe thead th {\n",
              "        text-align: right;\n",
              "    }\n",
              "</style>\n",
              "<table border=\"1\" class=\"dataframe\">\n",
              "  <thead>\n",
              "    <tr style=\"text-align: right;\">\n",
              "      <th></th>\n",
              "      <th>CustomerID</th>\n",
              "      <th>Products_ordered</th>\n",
              "      <th>Total_spending</th>\n",
              "      <th>log_Products_ordered</th>\n",
              "      <th>log_Total_spending</th>\n",
              "      <th>clusters</th>\n",
              "      <th>Cluster_name</th>\n",
              "    </tr>\n",
              "  </thead>\n",
              "  <tbody>\n",
              "    <tr>\n",
              "      <th>1</th>\n",
              "      <td>12348.0</td>\n",
              "      <td>6</td>\n",
              "      <td>90.20</td>\n",
              "      <td>1.945910</td>\n",
              "      <td>4.513055</td>\n",
              "      <td>1</td>\n",
              "      <td>1</td>\n",
              "    </tr>\n",
              "    <tr>\n",
              "      <th>5</th>\n",
              "      <td>12353.0</td>\n",
              "      <td>2</td>\n",
              "      <td>29.30</td>\n",
              "      <td>1.098612</td>\n",
              "      <td>3.411148</td>\n",
              "      <td>1</td>\n",
              "      <td>1</td>\n",
              "    </tr>\n",
              "    <tr>\n",
              "      <th>18</th>\n",
              "      <td>12367.0</td>\n",
              "      <td>9</td>\n",
              "      <td>138.30</td>\n",
              "      <td>2.302585</td>\n",
              "      <td>4.936630</td>\n",
              "      <td>1</td>\n",
              "      <td>1</td>\n",
              "    </tr>\n",
              "    <tr>\n",
              "      <th>42</th>\n",
              "      <td>12401.0</td>\n",
              "      <td>2</td>\n",
              "      <td>32.85</td>\n",
              "      <td>1.098612</td>\n",
              "      <td>3.521939</td>\n",
              "      <td>1</td>\n",
              "      <td>1</td>\n",
              "    </tr>\n",
              "    <tr>\n",
              "      <th>44</th>\n",
              "      <td>12403.0</td>\n",
              "      <td>2</td>\n",
              "      <td>92.90</td>\n",
              "      <td>1.098612</td>\n",
              "      <td>4.542230</td>\n",
              "      <td>1</td>\n",
              "      <td>1</td>\n",
              "    </tr>\n",
              "    <tr>\n",
              "      <th>...</th>\n",
              "      <td>...</td>\n",
              "      <td>...</td>\n",
              "      <td>...</td>\n",
              "      <td>...</td>\n",
              "      <td>...</td>\n",
              "      <td>...</td>\n",
              "      <td>...</td>\n",
              "    </tr>\n",
              "    <tr>\n",
              "      <th>4180</th>\n",
              "      <td>18273.0</td>\n",
              "      <td>1</td>\n",
              "      <td>102.00</td>\n",
              "      <td>0.693147</td>\n",
              "      <td>4.634729</td>\n",
              "      <td>1</td>\n",
              "      <td>1</td>\n",
              "    </tr>\n",
              "    <tr>\n",
              "      <th>4183</th>\n",
              "      <td>18277.0</td>\n",
              "      <td>8</td>\n",
              "      <td>110.38</td>\n",
              "      <td>2.197225</td>\n",
              "      <td>4.712948</td>\n",
              "      <td>1</td>\n",
              "      <td>1</td>\n",
              "    </tr>\n",
              "    <tr>\n",
              "      <th>4185</th>\n",
              "      <td>18280.0</td>\n",
              "      <td>8</td>\n",
              "      <td>137.00</td>\n",
              "      <td>2.197225</td>\n",
              "      <td>4.927254</td>\n",
              "      <td>1</td>\n",
              "      <td>1</td>\n",
              "    </tr>\n",
              "    <tr>\n",
              "      <th>4186</th>\n",
              "      <td>18281.0</td>\n",
              "      <td>5</td>\n",
              "      <td>46.92</td>\n",
              "      <td>1.791759</td>\n",
              "      <td>3.869533</td>\n",
              "      <td>1</td>\n",
              "      <td>1</td>\n",
              "    </tr>\n",
              "    <tr>\n",
              "      <th>4187</th>\n",
              "      <td>18282.0</td>\n",
              "      <td>8</td>\n",
              "      <td>113.13</td>\n",
              "      <td>2.197225</td>\n",
              "      <td>4.737338</td>\n",
              "      <td>1</td>\n",
              "      <td>1</td>\n",
              "    </tr>\n",
              "  </tbody>\n",
              "</table>\n",
              "<p>653 rows × 7 columns</p>\n",
              "</div>"
            ],
            "text/plain": [
              "      CustomerID  Products_ordered  ...  clusters  Cluster_name\n",
              "1        12348.0                 6  ...         1             1\n",
              "5        12353.0                 2  ...         1             1\n",
              "18       12367.0                 9  ...         1             1\n",
              "42       12401.0                 2  ...         1             1\n",
              "44       12403.0                 2  ...         1             1\n",
              "...          ...               ...  ...       ...           ...\n",
              "4180     18273.0                 1  ...         1             1\n",
              "4183     18277.0                 8  ...         1             1\n",
              "4185     18280.0                 8  ...         1             1\n",
              "4186     18281.0                 5  ...         1             1\n",
              "4187     18282.0                 8  ...         1             1\n",
              "\n",
              "[653 rows x 7 columns]"
            ]
          },
          "metadata": {
            "tags": []
          },
          "execution_count": 74
        }
      ]
    },
    {
      "cell_type": "markdown",
      "metadata": {
        "id": "NNcYNfKtAe6L"
      },
      "source": [
        "### **Group2**"
      ]
    },
    {
      "cell_type": "code",
      "metadata": {
        "id": "p72pNwfcAbq_",
        "outputId": "c1c6809a-c905-45cd-d84c-f6c01f6d55dd",
        "colab": {
          "base_uri": "https://localhost:8080/",
          "height": 439
        }
      },
      "source": [
        "customers[customers['clusters'] == 2]"
      ],
      "execution_count": null,
      "outputs": [
        {
          "output_type": "execute_result",
          "data": {
            "text/html": [
              "<div>\n",
              "<style scoped>\n",
              "    .dataframe tbody tr th:only-of-type {\n",
              "        vertical-align: middle;\n",
              "    }\n",
              "\n",
              "    .dataframe tbody tr th {\n",
              "        vertical-align: top;\n",
              "    }\n",
              "\n",
              "    .dataframe thead th {\n",
              "        text-align: right;\n",
              "    }\n",
              "</style>\n",
              "<table border=\"1\" class=\"dataframe\">\n",
              "  <thead>\n",
              "    <tr style=\"text-align: right;\">\n",
              "      <th></th>\n",
              "      <th>CustomerID</th>\n",
              "      <th>Products_ordered</th>\n",
              "      <th>Total_spending</th>\n",
              "      <th>log_Products_ordered</th>\n",
              "      <th>log_Total_spending</th>\n",
              "      <th>clusters</th>\n",
              "      <th>Cluster_name</th>\n",
              "    </tr>\n",
              "  </thead>\n",
              "  <tbody>\n",
              "    <tr>\n",
              "      <th>3</th>\n",
              "      <td>12350.0</td>\n",
              "      <td>16</td>\n",
              "      <td>294.40</td>\n",
              "      <td>2.833213</td>\n",
              "      <td>5.688330</td>\n",
              "      <td>2</td>\n",
              "      <td>2</td>\n",
              "    </tr>\n",
              "    <tr>\n",
              "      <th>7</th>\n",
              "      <td>12355.0</td>\n",
              "      <td>9</td>\n",
              "      <td>219.00</td>\n",
              "      <td>2.302585</td>\n",
              "      <td>5.393628</td>\n",
              "      <td>2</td>\n",
              "      <td>2</td>\n",
              "    </tr>\n",
              "    <tr>\n",
              "      <th>10</th>\n",
              "      <td>12358.0</td>\n",
              "      <td>9</td>\n",
              "      <td>878.22</td>\n",
              "      <td>2.302585</td>\n",
              "      <td>6.779035</td>\n",
              "      <td>2</td>\n",
              "      <td>2</td>\n",
              "    </tr>\n",
              "    <tr>\n",
              "      <th>13</th>\n",
              "      <td>12361.0</td>\n",
              "      <td>9</td>\n",
              "      <td>174.90</td>\n",
              "      <td>2.302585</td>\n",
              "      <td>5.169916</td>\n",
              "      <td>2</td>\n",
              "      <td>2</td>\n",
              "    </tr>\n",
              "    <tr>\n",
              "      <th>15</th>\n",
              "      <td>12363.0</td>\n",
              "      <td>19</td>\n",
              "      <td>484.50</td>\n",
              "      <td>2.995732</td>\n",
              "      <td>6.185179</td>\n",
              "      <td>2</td>\n",
              "      <td>2</td>\n",
              "    </tr>\n",
              "    <tr>\n",
              "      <th>...</th>\n",
              "      <td>...</td>\n",
              "      <td>...</td>\n",
              "      <td>...</td>\n",
              "      <td>...</td>\n",
              "      <td>...</td>\n",
              "      <td>...</td>\n",
              "      <td>...</td>\n",
              "    </tr>\n",
              "    <tr>\n",
              "      <th>4174</th>\n",
              "      <td>18262.0</td>\n",
              "      <td>13</td>\n",
              "      <td>149.48</td>\n",
              "      <td>2.639057</td>\n",
              "      <td>5.013830</td>\n",
              "      <td>2</td>\n",
              "      <td>2</td>\n",
              "    </tr>\n",
              "    <tr>\n",
              "      <th>4178</th>\n",
              "      <td>18270.0</td>\n",
              "      <td>10</td>\n",
              "      <td>244.90</td>\n",
              "      <td>2.397895</td>\n",
              "      <td>5.504925</td>\n",
              "      <td>2</td>\n",
              "      <td>2</td>\n",
              "    </tr>\n",
              "    <tr>\n",
              "      <th>4181</th>\n",
              "      <td>18274.0</td>\n",
              "      <td>10</td>\n",
              "      <td>163.17</td>\n",
              "      <td>2.397895</td>\n",
              "      <td>5.100902</td>\n",
              "      <td>2</td>\n",
              "      <td>2</td>\n",
              "    </tr>\n",
              "    <tr>\n",
              "      <th>4182</th>\n",
              "      <td>18276.0</td>\n",
              "      <td>12</td>\n",
              "      <td>213.46</td>\n",
              "      <td>2.564949</td>\n",
              "      <td>5.368123</td>\n",
              "      <td>2</td>\n",
              "      <td>2</td>\n",
              "    </tr>\n",
              "    <tr>\n",
              "      <th>4184</th>\n",
              "      <td>18278.0</td>\n",
              "      <td>9</td>\n",
              "      <td>173.90</td>\n",
              "      <td>2.302585</td>\n",
              "      <td>5.164214</td>\n",
              "      <td>2</td>\n",
              "      <td>2</td>\n",
              "    </tr>\n",
              "  </tbody>\n",
              "</table>\n",
              "<p>1384 rows × 7 columns</p>\n",
              "</div>"
            ],
            "text/plain": [
              "      CustomerID  Products_ordered  ...  clusters  Cluster_name\n",
              "3        12350.0                16  ...         2             2\n",
              "7        12355.0                 9  ...         2             2\n",
              "10       12358.0                 9  ...         2             2\n",
              "13       12361.0                 9  ...         2             2\n",
              "15       12363.0                19  ...         2             2\n",
              "...          ...               ...  ...       ...           ...\n",
              "4174     18262.0                13  ...         2             2\n",
              "4178     18270.0                10  ...         2             2\n",
              "4181     18274.0                10  ...         2             2\n",
              "4182     18276.0                12  ...         2             2\n",
              "4184     18278.0                 9  ...         2             2\n",
              "\n",
              "[1384 rows x 7 columns]"
            ]
          },
          "metadata": {
            "tags": []
          },
          "execution_count": 75
        }
      ]
    },
    {
      "cell_type": "markdown",
      "metadata": {
        "id": "ng-m_oqSAj6l"
      },
      "source": [
        "### **Group3**"
      ]
    },
    {
      "cell_type": "code",
      "metadata": {
        "id": "gJrYH8p3Aizj",
        "outputId": "a2ba0cfe-d2b0-4096-e50f-2ed283734c45",
        "colab": {
          "base_uri": "https://localhost:8080/",
          "height": 439
        }
      },
      "source": [
        "customers[customers['clusters'] == 3]"
      ],
      "execution_count": null,
      "outputs": [
        {
          "output_type": "execute_result",
          "data": {
            "text/html": [
              "<div>\n",
              "<style scoped>\n",
              "    .dataframe tbody tr th:only-of-type {\n",
              "        vertical-align: middle;\n",
              "    }\n",
              "\n",
              "    .dataframe tbody tr th {\n",
              "        vertical-align: top;\n",
              "    }\n",
              "\n",
              "    .dataframe thead th {\n",
              "        text-align: right;\n",
              "    }\n",
              "</style>\n",
              "<table border=\"1\" class=\"dataframe\">\n",
              "  <thead>\n",
              "    <tr style=\"text-align: right;\">\n",
              "      <th></th>\n",
              "      <th>CustomerID</th>\n",
              "      <th>Products_ordered</th>\n",
              "      <th>Total_spending</th>\n",
              "      <th>log_Products_ordered</th>\n",
              "      <th>log_Total_spending</th>\n",
              "      <th>clusters</th>\n",
              "      <th>Cluster_name</th>\n",
              "    </tr>\n",
              "  </thead>\n",
              "  <tbody>\n",
              "    <tr>\n",
              "      <th>0</th>\n",
              "      <td>12347.0</td>\n",
              "      <td>96</td>\n",
              "      <td>3314.73</td>\n",
              "      <td>4.574711</td>\n",
              "      <td>8.106433</td>\n",
              "      <td>3</td>\n",
              "      <td>3</td>\n",
              "    </tr>\n",
              "    <tr>\n",
              "      <th>9</th>\n",
              "      <td>12357.0</td>\n",
              "      <td>95</td>\n",
              "      <td>3195.41</td>\n",
              "      <td>4.564348</td>\n",
              "      <td>8.069784</td>\n",
              "      <td>3</td>\n",
              "      <td>3</td>\n",
              "    </tr>\n",
              "    <tr>\n",
              "      <th>11</th>\n",
              "      <td>12359.0</td>\n",
              "      <td>157</td>\n",
              "      <td>3224.13</td>\n",
              "      <td>5.062595</td>\n",
              "      <td>8.078729</td>\n",
              "      <td>3</td>\n",
              "      <td>3</td>\n",
              "    </tr>\n",
              "    <tr>\n",
              "      <th>12</th>\n",
              "      <td>12360.0</td>\n",
              "      <td>97</td>\n",
              "      <td>1843.16</td>\n",
              "      <td>4.584967</td>\n",
              "      <td>7.519779</td>\n",
              "      <td>3</td>\n",
              "      <td>3</td>\n",
              "    </tr>\n",
              "    <tr>\n",
              "      <th>14</th>\n",
              "      <td>12362.0</td>\n",
              "      <td>172</td>\n",
              "      <td>4098.94</td>\n",
              "      <td>5.153292</td>\n",
              "      <td>8.318728</td>\n",
              "      <td>3</td>\n",
              "      <td>3</td>\n",
              "    </tr>\n",
              "    <tr>\n",
              "      <th>...</th>\n",
              "      <td>...</td>\n",
              "      <td>...</td>\n",
              "      <td>...</td>\n",
              "      <td>...</td>\n",
              "      <td>...</td>\n",
              "      <td>...</td>\n",
              "      <td>...</td>\n",
              "    </tr>\n",
              "    <tr>\n",
              "      <th>4163</th>\n",
              "      <td>18245.0</td>\n",
              "      <td>139</td>\n",
              "      <td>2266.43</td>\n",
              "      <td>4.941642</td>\n",
              "      <td>7.726402</td>\n",
              "      <td>3</td>\n",
              "      <td>3</td>\n",
              "    </tr>\n",
              "    <tr>\n",
              "      <th>4170</th>\n",
              "      <td>18257.0</td>\n",
              "      <td>86</td>\n",
              "      <td>1997.26</td>\n",
              "      <td>4.465908</td>\n",
              "      <td>7.600032</td>\n",
              "      <td>3</td>\n",
              "      <td>3</td>\n",
              "    </tr>\n",
              "    <tr>\n",
              "      <th>4172</th>\n",
              "      <td>18260.0</td>\n",
              "      <td>76</td>\n",
              "      <td>2082.31</td>\n",
              "      <td>4.343805</td>\n",
              "      <td>7.641713</td>\n",
              "      <td>3</td>\n",
              "      <td>3</td>\n",
              "    </tr>\n",
              "    <tr>\n",
              "      <th>4179</th>\n",
              "      <td>18272.0</td>\n",
              "      <td>90</td>\n",
              "      <td>2794.96</td>\n",
              "      <td>4.510860</td>\n",
              "      <td>7.935931</td>\n",
              "      <td>3</td>\n",
              "      <td>3</td>\n",
              "    </tr>\n",
              "    <tr>\n",
              "      <th>4188</th>\n",
              "      <td>18283.0</td>\n",
              "      <td>268</td>\n",
              "      <td>2051.98</td>\n",
              "      <td>5.594711</td>\n",
              "      <td>7.627048</td>\n",
              "      <td>3</td>\n",
              "      <td>3</td>\n",
              "    </tr>\n",
              "  </tbody>\n",
              "</table>\n",
              "<p>805 rows × 7 columns</p>\n",
              "</div>"
            ],
            "text/plain": [
              "      CustomerID  Products_ordered  ...  clusters  Cluster_name\n",
              "0        12347.0                96  ...         3             3\n",
              "9        12357.0                95  ...         3             3\n",
              "11       12359.0               157  ...         3             3\n",
              "12       12360.0                97  ...         3             3\n",
              "14       12362.0               172  ...         3             3\n",
              "...          ...               ...  ...       ...           ...\n",
              "4163     18245.0               139  ...         3             3\n",
              "4170     18257.0                86  ...         3             3\n",
              "4172     18260.0                76  ...         3             3\n",
              "4179     18272.0                90  ...         3             3\n",
              "4188     18283.0               268  ...         3             3\n",
              "\n",
              "[805 rows x 7 columns]"
            ]
          },
          "metadata": {
            "tags": []
          },
          "execution_count": 76
        }
      ]
    },
    {
      "cell_type": "markdown",
      "metadata": {
        "id": "nBDk_UqmAs6r"
      },
      "source": [
        "## Frequency of customers visiting the store"
      ]
    },
    {
      "cell_type": "code",
      "metadata": {
        "id": "grJYxJ17Ao6d",
        "outputId": "932fc6b2-8228-4373-be4d-de640b97d30c",
        "colab": {
          "base_uri": "https://localhost:8080/"
        }
      },
      "source": [
        "frequency_of_customer = dataset.groupby('CustomerID')['InvoiceNo'].nunique()\n",
        "\n",
        "frequency_of_customer"
      ],
      "execution_count": null,
      "outputs": [
        {
          "output_type": "execute_result",
          "data": {
            "text/plain": [
              "CustomerID\n",
              "12347.0     7\n",
              "12348.0     3\n",
              "12349.0     1\n",
              "12350.0     1\n",
              "12352.0     7\n",
              "           ..\n",
              "18280.0     1\n",
              "18281.0     1\n",
              "18282.0     2\n",
              "18283.0    16\n",
              "18287.0     3\n",
              "Name: InvoiceNo, Length: 4190, dtype: int64"
            ]
          },
          "metadata": {
            "tags": []
          },
          "execution_count": 77
        }
      ]
    },
    {
      "cell_type": "code",
      "metadata": {
        "id": "ZLVgPjFLA8Cd",
        "outputId": "f14a6009-ea50-432d-bb07-315663ace9de",
        "colab": {
          "base_uri": "https://localhost:8080/",
          "height": 224
        }
      },
      "source": [
        "customers = pd.merge(customers, frequency_of_customer, on='CustomerID')\n",
        "\n",
        "customers.head()"
      ],
      "execution_count": null,
      "outputs": [
        {
          "output_type": "execute_result",
          "data": {
            "text/html": [
              "<div>\n",
              "<style scoped>\n",
              "    .dataframe tbody tr th:only-of-type {\n",
              "        vertical-align: middle;\n",
              "    }\n",
              "\n",
              "    .dataframe tbody tr th {\n",
              "        vertical-align: top;\n",
              "    }\n",
              "\n",
              "    .dataframe thead th {\n",
              "        text-align: right;\n",
              "    }\n",
              "</style>\n",
              "<table border=\"1\" class=\"dataframe\">\n",
              "  <thead>\n",
              "    <tr style=\"text-align: right;\">\n",
              "      <th></th>\n",
              "      <th>CustomerID</th>\n",
              "      <th>Products_ordered</th>\n",
              "      <th>Total_spending</th>\n",
              "      <th>log_Products_ordered</th>\n",
              "      <th>log_Total_spending</th>\n",
              "      <th>clusters</th>\n",
              "      <th>Cluster_name</th>\n",
              "      <th>InvoiceNo</th>\n",
              "    </tr>\n",
              "  </thead>\n",
              "  <tbody>\n",
              "    <tr>\n",
              "      <th>0</th>\n",
              "      <td>12347.0</td>\n",
              "      <td>96</td>\n",
              "      <td>3314.73</td>\n",
              "      <td>4.574711</td>\n",
              "      <td>8.106433</td>\n",
              "      <td>3</td>\n",
              "      <td>3</td>\n",
              "      <td>7</td>\n",
              "    </tr>\n",
              "    <tr>\n",
              "      <th>1</th>\n",
              "      <td>12348.0</td>\n",
              "      <td>6</td>\n",
              "      <td>90.20</td>\n",
              "      <td>1.945910</td>\n",
              "      <td>4.513055</td>\n",
              "      <td>1</td>\n",
              "      <td>1</td>\n",
              "      <td>3</td>\n",
              "    </tr>\n",
              "    <tr>\n",
              "      <th>2</th>\n",
              "      <td>12349.0</td>\n",
              "      <td>57</td>\n",
              "      <td>984.15</td>\n",
              "      <td>4.060443</td>\n",
              "      <td>6.892794</td>\n",
              "      <td>0</td>\n",
              "      <td>0</td>\n",
              "      <td>1</td>\n",
              "    </tr>\n",
              "    <tr>\n",
              "      <th>3</th>\n",
              "      <td>12350.0</td>\n",
              "      <td>16</td>\n",
              "      <td>294.40</td>\n",
              "      <td>2.833213</td>\n",
              "      <td>5.688330</td>\n",
              "      <td>2</td>\n",
              "      <td>2</td>\n",
              "      <td>1</td>\n",
              "    </tr>\n",
              "    <tr>\n",
              "      <th>4</th>\n",
              "      <td>12352.0</td>\n",
              "      <td>49</td>\n",
              "      <td>1130.94</td>\n",
              "      <td>3.912023</td>\n",
              "      <td>7.031688</td>\n",
              "      <td>0</td>\n",
              "      <td>0</td>\n",
              "      <td>7</td>\n",
              "    </tr>\n",
              "  </tbody>\n",
              "</table>\n",
              "</div>"
            ],
            "text/plain": [
              "   CustomerID  Products_ordered  ...  Cluster_name  InvoiceNo\n",
              "0     12347.0                96  ...             3          7\n",
              "1     12348.0                 6  ...             1          3\n",
              "2     12349.0                57  ...             0          1\n",
              "3     12350.0                16  ...             2          1\n",
              "4     12352.0                49  ...             0          7\n",
              "\n",
              "[5 rows x 8 columns]"
            ]
          },
          "metadata": {
            "tags": []
          },
          "execution_count": 78
        }
      ]
    },
    {
      "cell_type": "code",
      "metadata": {
        "id": "8e_efo0GBF6D",
        "outputId": "a3e42516-755b-4878-8a4e-be900f0ffc96",
        "colab": {
          "base_uri": "https://localhost:8080/",
          "height": 224
        }
      },
      "source": [
        "customers.rename(columns = {'InvoiceNo': 'Frequency_of_customer'}, inplace=True)\n",
        "\n",
        "customers.head()"
      ],
      "execution_count": null,
      "outputs": [
        {
          "output_type": "execute_result",
          "data": {
            "text/html": [
              "<div>\n",
              "<style scoped>\n",
              "    .dataframe tbody tr th:only-of-type {\n",
              "        vertical-align: middle;\n",
              "    }\n",
              "\n",
              "    .dataframe tbody tr th {\n",
              "        vertical-align: top;\n",
              "    }\n",
              "\n",
              "    .dataframe thead th {\n",
              "        text-align: right;\n",
              "    }\n",
              "</style>\n",
              "<table border=\"1\" class=\"dataframe\">\n",
              "  <thead>\n",
              "    <tr style=\"text-align: right;\">\n",
              "      <th></th>\n",
              "      <th>CustomerID</th>\n",
              "      <th>Products_ordered</th>\n",
              "      <th>Total_spending</th>\n",
              "      <th>log_Products_ordered</th>\n",
              "      <th>log_Total_spending</th>\n",
              "      <th>clusters</th>\n",
              "      <th>Cluster_name</th>\n",
              "      <th>Frequency_of_customer</th>\n",
              "    </tr>\n",
              "  </thead>\n",
              "  <tbody>\n",
              "    <tr>\n",
              "      <th>0</th>\n",
              "      <td>12347.0</td>\n",
              "      <td>96</td>\n",
              "      <td>3314.73</td>\n",
              "      <td>4.574711</td>\n",
              "      <td>8.106433</td>\n",
              "      <td>3</td>\n",
              "      <td>3</td>\n",
              "      <td>7</td>\n",
              "    </tr>\n",
              "    <tr>\n",
              "      <th>1</th>\n",
              "      <td>12348.0</td>\n",
              "      <td>6</td>\n",
              "      <td>90.20</td>\n",
              "      <td>1.945910</td>\n",
              "      <td>4.513055</td>\n",
              "      <td>1</td>\n",
              "      <td>1</td>\n",
              "      <td>3</td>\n",
              "    </tr>\n",
              "    <tr>\n",
              "      <th>2</th>\n",
              "      <td>12349.0</td>\n",
              "      <td>57</td>\n",
              "      <td>984.15</td>\n",
              "      <td>4.060443</td>\n",
              "      <td>6.892794</td>\n",
              "      <td>0</td>\n",
              "      <td>0</td>\n",
              "      <td>1</td>\n",
              "    </tr>\n",
              "    <tr>\n",
              "      <th>3</th>\n",
              "      <td>12350.0</td>\n",
              "      <td>16</td>\n",
              "      <td>294.40</td>\n",
              "      <td>2.833213</td>\n",
              "      <td>5.688330</td>\n",
              "      <td>2</td>\n",
              "      <td>2</td>\n",
              "      <td>1</td>\n",
              "    </tr>\n",
              "    <tr>\n",
              "      <th>4</th>\n",
              "      <td>12352.0</td>\n",
              "      <td>49</td>\n",
              "      <td>1130.94</td>\n",
              "      <td>3.912023</td>\n",
              "      <td>7.031688</td>\n",
              "      <td>0</td>\n",
              "      <td>0</td>\n",
              "      <td>7</td>\n",
              "    </tr>\n",
              "  </tbody>\n",
              "</table>\n",
              "</div>"
            ],
            "text/plain": [
              "   CustomerID  Products_ordered  ...  Cluster_name  Frequency_of_customer\n",
              "0     12347.0                96  ...             3                      7\n",
              "1     12348.0                 6  ...             1                      3\n",
              "2     12349.0                57  ...             0                      1\n",
              "3     12350.0                16  ...             2                      1\n",
              "4     12352.0                49  ...             0                      7\n",
              "\n",
              "[5 rows x 8 columns]"
            ]
          },
          "metadata": {
            "tags": []
          },
          "execution_count": 79
        }
      ]
    },
    {
      "cell_type": "markdown",
      "metadata": {
        "id": "MsSE7qGUBXtd"
      },
      "source": [
        "## Customer visit number per year and per month"
      ]
    },
    {
      "cell_type": "code",
      "metadata": {
        "id": "ueNjG2UPBUyr",
        "outputId": "7f58c0cd-df99-4cfc-9f9a-06725e68402e",
        "colab": {
          "base_uri": "https://localhost:8080/",
          "height": 204
        }
      },
      "source": [
        "new_dataset = dataset[['InvoiceNo', 'CustomerID', 'Year', 'Month']]\n",
        "\n",
        "new_dataset.head()"
      ],
      "execution_count": null,
      "outputs": [
        {
          "output_type": "execute_result",
          "data": {
            "text/html": [
              "<div>\n",
              "<style scoped>\n",
              "    .dataframe tbody tr th:only-of-type {\n",
              "        vertical-align: middle;\n",
              "    }\n",
              "\n",
              "    .dataframe tbody tr th {\n",
              "        vertical-align: top;\n",
              "    }\n",
              "\n",
              "    .dataframe thead th {\n",
              "        text-align: right;\n",
              "    }\n",
              "</style>\n",
              "<table border=\"1\" class=\"dataframe\">\n",
              "  <thead>\n",
              "    <tr style=\"text-align: right;\">\n",
              "      <th></th>\n",
              "      <th>InvoiceNo</th>\n",
              "      <th>CustomerID</th>\n",
              "      <th>Year</th>\n",
              "      <th>Month</th>\n",
              "    </tr>\n",
              "  </thead>\n",
              "  <tbody>\n",
              "    <tr>\n",
              "      <th>0</th>\n",
              "      <td>536365</td>\n",
              "      <td>17850.0</td>\n",
              "      <td>2010</td>\n",
              "      <td>12</td>\n",
              "    </tr>\n",
              "    <tr>\n",
              "      <th>1</th>\n",
              "      <td>536365</td>\n",
              "      <td>17850.0</td>\n",
              "      <td>2010</td>\n",
              "      <td>12</td>\n",
              "    </tr>\n",
              "    <tr>\n",
              "      <th>2</th>\n",
              "      <td>536365</td>\n",
              "      <td>17850.0</td>\n",
              "      <td>2010</td>\n",
              "      <td>12</td>\n",
              "    </tr>\n",
              "    <tr>\n",
              "      <th>3</th>\n",
              "      <td>536365</td>\n",
              "      <td>17850.0</td>\n",
              "      <td>2010</td>\n",
              "      <td>12</td>\n",
              "    </tr>\n",
              "    <tr>\n",
              "      <th>4</th>\n",
              "      <td>536365</td>\n",
              "      <td>17850.0</td>\n",
              "      <td>2010</td>\n",
              "      <td>12</td>\n",
              "    </tr>\n",
              "  </tbody>\n",
              "</table>\n",
              "</div>"
            ],
            "text/plain": [
              "  InvoiceNo  CustomerID  Year  Month\n",
              "0    536365     17850.0  2010     12\n",
              "1    536365     17850.0  2010     12\n",
              "2    536365     17850.0  2010     12\n",
              "3    536365     17850.0  2010     12\n",
              "4    536365     17850.0  2010     12"
            ]
          },
          "metadata": {
            "tags": []
          },
          "execution_count": 80
        }
      ]
    },
    {
      "cell_type": "code",
      "metadata": {
        "id": "dL3FtyksBkJ8",
        "outputId": "32abba78-5f31-46c0-fdd4-9a640da42f47",
        "colab": {
          "base_uri": "https://localhost:8080/",
          "height": 309
        }
      },
      "source": [
        "# Dropping the duplicates\n",
        "new_dataset.drop_duplicates(inplace=True)\n",
        "\n",
        "new_dataset.head()"
      ],
      "execution_count": null,
      "outputs": [
        {
          "output_type": "stream",
          "text": [
            "/usr/local/lib/python3.6/dist-packages/ipykernel_launcher.py:2: SettingWithCopyWarning: \n",
            "A value is trying to be set on a copy of a slice from a DataFrame\n",
            "\n",
            "See the caveats in the documentation: https://pandas.pydata.org/pandas-docs/stable/user_guide/indexing.html#returning-a-view-versus-a-copy\n",
            "  \n"
          ],
          "name": "stderr"
        },
        {
          "output_type": "execute_result",
          "data": {
            "text/html": [
              "<div>\n",
              "<style scoped>\n",
              "    .dataframe tbody tr th:only-of-type {\n",
              "        vertical-align: middle;\n",
              "    }\n",
              "\n",
              "    .dataframe tbody tr th {\n",
              "        vertical-align: top;\n",
              "    }\n",
              "\n",
              "    .dataframe thead th {\n",
              "        text-align: right;\n",
              "    }\n",
              "</style>\n",
              "<table border=\"1\" class=\"dataframe\">\n",
              "  <thead>\n",
              "    <tr style=\"text-align: right;\">\n",
              "      <th></th>\n",
              "      <th>InvoiceNo</th>\n",
              "      <th>CustomerID</th>\n",
              "      <th>Year</th>\n",
              "      <th>Month</th>\n",
              "    </tr>\n",
              "  </thead>\n",
              "  <tbody>\n",
              "    <tr>\n",
              "      <th>0</th>\n",
              "      <td>536365</td>\n",
              "      <td>17850.0</td>\n",
              "      <td>2010</td>\n",
              "      <td>12</td>\n",
              "    </tr>\n",
              "    <tr>\n",
              "      <th>7</th>\n",
              "      <td>536366</td>\n",
              "      <td>17850.0</td>\n",
              "      <td>2010</td>\n",
              "      <td>12</td>\n",
              "    </tr>\n",
              "    <tr>\n",
              "      <th>10</th>\n",
              "      <td>536367</td>\n",
              "      <td>13047.0</td>\n",
              "      <td>2010</td>\n",
              "      <td>12</td>\n",
              "    </tr>\n",
              "    <tr>\n",
              "      <th>21</th>\n",
              "      <td>536368</td>\n",
              "      <td>13047.0</td>\n",
              "      <td>2010</td>\n",
              "      <td>12</td>\n",
              "    </tr>\n",
              "    <tr>\n",
              "      <th>25</th>\n",
              "      <td>536369</td>\n",
              "      <td>13047.0</td>\n",
              "      <td>2010</td>\n",
              "      <td>12</td>\n",
              "    </tr>\n",
              "  </tbody>\n",
              "</table>\n",
              "</div>"
            ],
            "text/plain": [
              "   InvoiceNo  CustomerID  Year  Month\n",
              "0     536365     17850.0  2010     12\n",
              "7     536366     17850.0  2010     12\n",
              "10    536367     13047.0  2010     12\n",
              "21    536368     13047.0  2010     12\n",
              "25    536369     13047.0  2010     12"
            ]
          },
          "metadata": {
            "tags": []
          },
          "execution_count": 81
        }
      ]
    },
    {
      "cell_type": "code",
      "metadata": {
        "id": "NcJvHryxBzxa"
      },
      "source": [
        "# Dropping the index\n",
        "new_dataset = new_dataset.reset_index(drop=True)"
      ],
      "execution_count": null,
      "outputs": []
    },
    {
      "cell_type": "code",
      "metadata": {
        "id": "53JyfjDXB-mw",
        "outputId": "355640d0-08b7-42a3-c80a-f1b29ef87360",
        "colab": {
          "base_uri": "https://localhost:8080/",
          "height": 419
        }
      },
      "source": [
        "# Obtaining number of visits per year\n",
        "new_dataset['Visit_no_yr'] = new_dataset.groupby(['CustomerID', 'Year']).cumcount() + 1\n",
        "\n",
        "new_dataset"
      ],
      "execution_count": null,
      "outputs": [
        {
          "output_type": "execute_result",
          "data": {
            "text/html": [
              "<div>\n",
              "<style scoped>\n",
              "    .dataframe tbody tr th:only-of-type {\n",
              "        vertical-align: middle;\n",
              "    }\n",
              "\n",
              "    .dataframe tbody tr th {\n",
              "        vertical-align: top;\n",
              "    }\n",
              "\n",
              "    .dataframe thead th {\n",
              "        text-align: right;\n",
              "    }\n",
              "</style>\n",
              "<table border=\"1\" class=\"dataframe\">\n",
              "  <thead>\n",
              "    <tr style=\"text-align: right;\">\n",
              "      <th></th>\n",
              "      <th>InvoiceNo</th>\n",
              "      <th>CustomerID</th>\n",
              "      <th>Year</th>\n",
              "      <th>Month</th>\n",
              "      <th>Visit_no_yr</th>\n",
              "    </tr>\n",
              "  </thead>\n",
              "  <tbody>\n",
              "    <tr>\n",
              "      <th>0</th>\n",
              "      <td>536365</td>\n",
              "      <td>17850.0</td>\n",
              "      <td>2010</td>\n",
              "      <td>12</td>\n",
              "      <td>1</td>\n",
              "    </tr>\n",
              "    <tr>\n",
              "      <th>1</th>\n",
              "      <td>536366</td>\n",
              "      <td>17850.0</td>\n",
              "      <td>2010</td>\n",
              "      <td>12</td>\n",
              "      <td>2</td>\n",
              "    </tr>\n",
              "    <tr>\n",
              "      <th>2</th>\n",
              "      <td>536367</td>\n",
              "      <td>13047.0</td>\n",
              "      <td>2010</td>\n",
              "      <td>12</td>\n",
              "      <td>1</td>\n",
              "    </tr>\n",
              "    <tr>\n",
              "      <th>3</th>\n",
              "      <td>536368</td>\n",
              "      <td>13047.0</td>\n",
              "      <td>2010</td>\n",
              "      <td>12</td>\n",
              "      <td>2</td>\n",
              "    </tr>\n",
              "    <tr>\n",
              "      <th>4</th>\n",
              "      <td>536369</td>\n",
              "      <td>13047.0</td>\n",
              "      <td>2010</td>\n",
              "      <td>12</td>\n",
              "      <td>3</td>\n",
              "    </tr>\n",
              "    <tr>\n",
              "      <th>...</th>\n",
              "      <td>...</td>\n",
              "      <td>...</td>\n",
              "      <td>...</td>\n",
              "      <td>...</td>\n",
              "      <td>...</td>\n",
              "    </tr>\n",
              "    <tr>\n",
              "      <th>16815</th>\n",
              "      <td>581581</td>\n",
              "      <td>17581.0</td>\n",
              "      <td>2011</td>\n",
              "      <td>12</td>\n",
              "      <td>21</td>\n",
              "    </tr>\n",
              "    <tr>\n",
              "      <th>16816</th>\n",
              "      <td>581582</td>\n",
              "      <td>17581.0</td>\n",
              "      <td>2011</td>\n",
              "      <td>12</td>\n",
              "      <td>22</td>\n",
              "    </tr>\n",
              "    <tr>\n",
              "      <th>16817</th>\n",
              "      <td>581585</td>\n",
              "      <td>15804.0</td>\n",
              "      <td>2011</td>\n",
              "      <td>12</td>\n",
              "      <td>13</td>\n",
              "    </tr>\n",
              "    <tr>\n",
              "      <th>16818</th>\n",
              "      <td>581586</td>\n",
              "      <td>13113.0</td>\n",
              "      <td>2011</td>\n",
              "      <td>12</td>\n",
              "      <td>23</td>\n",
              "    </tr>\n",
              "    <tr>\n",
              "      <th>16819</th>\n",
              "      <td>581587</td>\n",
              "      <td>12680.0</td>\n",
              "      <td>2011</td>\n",
              "      <td>12</td>\n",
              "      <td>4</td>\n",
              "    </tr>\n",
              "  </tbody>\n",
              "</table>\n",
              "<p>16820 rows × 5 columns</p>\n",
              "</div>"
            ],
            "text/plain": [
              "      InvoiceNo  CustomerID  Year  Month  Visit_no_yr\n",
              "0        536365     17850.0  2010     12            1\n",
              "1        536366     17850.0  2010     12            2\n",
              "2        536367     13047.0  2010     12            1\n",
              "3        536368     13047.0  2010     12            2\n",
              "4        536369     13047.0  2010     12            3\n",
              "...         ...         ...   ...    ...          ...\n",
              "16815    581581     17581.0  2011     12           21\n",
              "16816    581582     17581.0  2011     12           22\n",
              "16817    581585     15804.0  2011     12           13\n",
              "16818    581586     13113.0  2011     12           23\n",
              "16819    581587     12680.0  2011     12            4\n",
              "\n",
              "[16820 rows x 5 columns]"
            ]
          },
          "metadata": {
            "tags": []
          },
          "execution_count": 83
        }
      ]
    },
    {
      "cell_type": "code",
      "metadata": {
        "id": "G3nHhYrzCRKd",
        "outputId": "4cfac054-2d5b-4ab4-d99f-8c70e94fd56d",
        "colab": {
          "base_uri": "https://localhost:8080/",
          "height": 419
        }
      },
      "source": [
        "# Number of visits per month\n",
        "new_dataset['Visit_no_month'] = new_dataset.groupby(['CustomerID', 'Month']).cumcount() + 1\n",
        "\n",
        "new_dataset"
      ],
      "execution_count": null,
      "outputs": [
        {
          "output_type": "execute_result",
          "data": {
            "text/html": [
              "<div>\n",
              "<style scoped>\n",
              "    .dataframe tbody tr th:only-of-type {\n",
              "        vertical-align: middle;\n",
              "    }\n",
              "\n",
              "    .dataframe tbody tr th {\n",
              "        vertical-align: top;\n",
              "    }\n",
              "\n",
              "    .dataframe thead th {\n",
              "        text-align: right;\n",
              "    }\n",
              "</style>\n",
              "<table border=\"1\" class=\"dataframe\">\n",
              "  <thead>\n",
              "    <tr style=\"text-align: right;\">\n",
              "      <th></th>\n",
              "      <th>InvoiceNo</th>\n",
              "      <th>CustomerID</th>\n",
              "      <th>Year</th>\n",
              "      <th>Month</th>\n",
              "      <th>Visit_no_yr</th>\n",
              "      <th>Visit_no_month</th>\n",
              "    </tr>\n",
              "  </thead>\n",
              "  <tbody>\n",
              "    <tr>\n",
              "      <th>0</th>\n",
              "      <td>536365</td>\n",
              "      <td>17850.0</td>\n",
              "      <td>2010</td>\n",
              "      <td>12</td>\n",
              "      <td>1</td>\n",
              "      <td>1</td>\n",
              "    </tr>\n",
              "    <tr>\n",
              "      <th>1</th>\n",
              "      <td>536366</td>\n",
              "      <td>17850.0</td>\n",
              "      <td>2010</td>\n",
              "      <td>12</td>\n",
              "      <td>2</td>\n",
              "      <td>2</td>\n",
              "    </tr>\n",
              "    <tr>\n",
              "      <th>2</th>\n",
              "      <td>536367</td>\n",
              "      <td>13047.0</td>\n",
              "      <td>2010</td>\n",
              "      <td>12</td>\n",
              "      <td>1</td>\n",
              "      <td>1</td>\n",
              "    </tr>\n",
              "    <tr>\n",
              "      <th>3</th>\n",
              "      <td>536368</td>\n",
              "      <td>13047.0</td>\n",
              "      <td>2010</td>\n",
              "      <td>12</td>\n",
              "      <td>2</td>\n",
              "      <td>2</td>\n",
              "    </tr>\n",
              "    <tr>\n",
              "      <th>4</th>\n",
              "      <td>536369</td>\n",
              "      <td>13047.0</td>\n",
              "      <td>2010</td>\n",
              "      <td>12</td>\n",
              "      <td>3</td>\n",
              "      <td>3</td>\n",
              "    </tr>\n",
              "    <tr>\n",
              "      <th>...</th>\n",
              "      <td>...</td>\n",
              "      <td>...</td>\n",
              "      <td>...</td>\n",
              "      <td>...</td>\n",
              "      <td>...</td>\n",
              "      <td>...</td>\n",
              "    </tr>\n",
              "    <tr>\n",
              "      <th>16815</th>\n",
              "      <td>581581</td>\n",
              "      <td>17581.0</td>\n",
              "      <td>2011</td>\n",
              "      <td>12</td>\n",
              "      <td>21</td>\n",
              "      <td>4</td>\n",
              "    </tr>\n",
              "    <tr>\n",
              "      <th>16816</th>\n",
              "      <td>581582</td>\n",
              "      <td>17581.0</td>\n",
              "      <td>2011</td>\n",
              "      <td>12</td>\n",
              "      <td>22</td>\n",
              "      <td>5</td>\n",
              "    </tr>\n",
              "    <tr>\n",
              "      <th>16817</th>\n",
              "      <td>581585</td>\n",
              "      <td>15804.0</td>\n",
              "      <td>2011</td>\n",
              "      <td>12</td>\n",
              "      <td>13</td>\n",
              "      <td>1</td>\n",
              "    </tr>\n",
              "    <tr>\n",
              "      <th>16818</th>\n",
              "      <td>581586</td>\n",
              "      <td>13113.0</td>\n",
              "      <td>2011</td>\n",
              "      <td>12</td>\n",
              "      <td>23</td>\n",
              "      <td>2</td>\n",
              "    </tr>\n",
              "    <tr>\n",
              "      <th>16819</th>\n",
              "      <td>581587</td>\n",
              "      <td>12680.0</td>\n",
              "      <td>2011</td>\n",
              "      <td>12</td>\n",
              "      <td>4</td>\n",
              "      <td>1</td>\n",
              "    </tr>\n",
              "  </tbody>\n",
              "</table>\n",
              "<p>16820 rows × 6 columns</p>\n",
              "</div>"
            ],
            "text/plain": [
              "      InvoiceNo  CustomerID  Year  Month  Visit_no_yr  Visit_no_month\n",
              "0        536365     17850.0  2010     12            1               1\n",
              "1        536366     17850.0  2010     12            2               2\n",
              "2        536367     13047.0  2010     12            1               1\n",
              "3        536368     13047.0  2010     12            2               2\n",
              "4        536369     13047.0  2010     12            3               3\n",
              "...         ...         ...   ...    ...          ...             ...\n",
              "16815    581581     17581.0  2011     12           21               4\n",
              "16816    581582     17581.0  2011     12           22               5\n",
              "16817    581585     15804.0  2011     12           13               1\n",
              "16818    581586     13113.0  2011     12           23               2\n",
              "16819    581587     12680.0  2011     12            4               1\n",
              "\n",
              "[16820 rows x 6 columns]"
            ]
          },
          "metadata": {
            "tags": []
          },
          "execution_count": 84
        }
      ]
    },
    {
      "cell_type": "markdown",
      "metadata": {
        "id": "WIOv_TP3DMs8"
      },
      "source": [
        "# <font color='blue'>**Item Recommendation system using Word2Vec**</font>"
      ]
    },
    {
      "cell_type": "code",
      "metadata": {
        "id": "cSwcLvVJC4h9",
        "outputId": "1dfc0170-86c2-4ee0-daea-031c85491884",
        "colab": {
          "base_uri": "https://localhost:8080/"
        }
      },
      "source": [
        "no_of_customers =  list(dataset['CustomerID'].unique())\n",
        "\n",
        "print(f'Number of unique customers are {len(no_of_customers)}')"
      ],
      "execution_count": null,
      "outputs": [
        {
          "output_type": "stream",
          "text": [
            "Number of unique customers are 4190\n"
          ],
          "name": "stdout"
        }
      ]
    },
    {
      "cell_type": "code",
      "metadata": {
        "id": "Kwni3W_3DkKX"
      },
      "source": [
        "# Typecasting\n",
        "dataset['StockCode'] = dataset['StockCode'].astype(str)"
      ],
      "execution_count": null,
      "outputs": []
    },
    {
      "cell_type": "markdown",
      "metadata": {
        "id": "xQhhAlkyDzX5"
      },
      "source": [
        "### Shuffling the customers and using 90% of it for creating the model & then splitting into train and validation dataset"
      ]
    },
    {
      "cell_type": "code",
      "metadata": {
        "id": "3ZZhmXSEDxer"
      },
      "source": [
        "import random\n",
        "\n",
        "random.shuffle(no_of_customers)\n",
        "\n",
        "customers_train = [no_of_customers[i] for i in range(round(0.9 * len(no_of_customers)))]\n",
        "\n",
        "train_dataset = dataset[dataset['CustomerID'].isin(customers_train)]\n",
        "validation_dataset = dataset[~dataset['CustomerID'].isin(customers_train)]"
      ],
      "execution_count": null,
      "outputs": []
    },
    {
      "cell_type": "markdown",
      "metadata": {
        "id": "Gp7gJEmSFLJI"
      },
      "source": [
        "## List of purchases made by the customer "
      ]
    },
    {
      "cell_type": "code",
      "metadata": {
        "id": "FTQ7jhaJE8k8"
      },
      "source": [
        "from tqdm import tqdm"
      ],
      "execution_count": null,
      "outputs": []
    },
    {
      "cell_type": "markdown",
      "metadata": {
        "id": "j1U9ELCrFcHJ"
      },
      "source": [
        "### 1. Training dataset"
      ]
    },
    {
      "cell_type": "code",
      "metadata": {
        "id": "dOIZQbgEFasw",
        "outputId": "bfedac3a-2dd3-4802-fde9-972b25a8a475",
        "colab": {
          "base_uri": "https://localhost:8080/"
        }
      },
      "source": [
        "purchases_train = []\n",
        "\n",
        "for i in tqdm(customers_train):\n",
        "  temp = list(train_dataset[train_dataset['CustomerID'] == i]['StockCode'])\n",
        "  purchases_train.append(temp)"
      ],
      "execution_count": null,
      "outputs": [
        {
          "output_type": "stream",
          "text": [
            "100%|██████████| 3771/3771 [00:05<00:00, 700.65it/s]\n"
          ],
          "name": "stderr"
        }
      ]
    },
    {
      "cell_type": "markdown",
      "metadata": {
        "id": "2hDkBXGdF3yY"
      },
      "source": [
        "### 2. Validation dataset"
      ]
    },
    {
      "cell_type": "code",
      "metadata": {
        "id": "pxt4gzj7FzfW",
        "outputId": "166ad216-b2a6-464e-a91e-f3b86ce91b90",
        "colab": {
          "base_uri": "https://localhost:8080/"
        }
      },
      "source": [
        "purchases_val = []\n",
        "\n",
        "for i in tqdm(validation_dataset['CustomerID'].unique()):\n",
        "  temp = list(validation_dataset[validation_dataset['CustomerID'] == i]['StockCode'])\n",
        "  purchases_val.append(temp)"
      ],
      "execution_count": null,
      "outputs": [
        {
          "output_type": "stream",
          "text": [
            "100%|██████████| 419/419 [00:00<00:00, 1135.27it/s]\n"
          ],
          "name": "stderr"
        }
      ]
    },
    {
      "cell_type": "code",
      "metadata": {
        "id": "BhQ6HwsCGVQf"
      },
      "source": [
        "from gensim.models import Word2Vec"
      ],
      "execution_count": null,
      "outputs": []
    },
    {
      "cell_type": "markdown",
      "metadata": {
        "id": "cUf6ZfMyGdRI"
      },
      "source": [
        "### Creating the Word2Vec model"
      ]
    },
    {
      "cell_type": "code",
      "metadata": {
        "id": "JOoHOMBnGcEt",
        "outputId": "4c927268-0a82-4043-b428-512af9821e23",
        "colab": {
          "base_uri": "https://localhost:8080/"
        }
      },
      "source": [
        "model = Word2Vec(window = 10, sg = 1, hs = 0, negative = 10, alpha = 0.03, min_alpha = 0.0007, seed = 14)\n",
        "\n",
        "model.build_vocab(purchases_train, progress_per = 200)\n",
        "\n",
        "model.train(purchases_train, total_examples = model.corpus_count, epochs = 10, report_delay = 1)"
      ],
      "execution_count": null,
      "outputs": [
        {
          "output_type": "execute_result",
          "data": {
            "text/plain": [
              "(2984469, 3017650)"
            ]
          },
          "metadata": {
            "tags": []
          },
          "execution_count": 92
        }
      ]
    },
    {
      "cell_type": "code",
      "metadata": {
        "id": "9RxWIUEKHMsf",
        "outputId": "bce85093-b31f-4899-8fb9-56790be04a20",
        "colab": {
          "base_uri": "https://localhost:8080/"
        }
      },
      "source": [
        "model.init_sims(replace=True)\n",
        "\n",
        "print(model)"
      ],
      "execution_count": null,
      "outputs": [
        {
          "output_type": "stream",
          "text": [
            "Word2Vec(vocab=2882, size=100, alpha=0.03)\n"
          ],
          "name": "stdout"
        }
      ]
    },
    {
      "cell_type": "markdown",
      "metadata": {
        "id": "_asM4wsqHmaL"
      },
      "source": [
        "### Each vector of 2879 unique vocabulary words has the size of 100"
      ]
    },
    {
      "cell_type": "code",
      "metadata": {
        "id": "PQO0t04VHhzZ",
        "outputId": "5578da15-399a-488a-b934-bdc35ae72255",
        "colab": {
          "base_uri": "https://localhost:8080/"
        }
      },
      "source": [
        "X = model[model.wv.vocab]\n",
        "\n",
        "X.shape"
      ],
      "execution_count": null,
      "outputs": [
        {
          "output_type": "stream",
          "text": [
            "/usr/local/lib/python3.6/dist-packages/ipykernel_launcher.py:1: DeprecationWarning: Call to deprecated `__getitem__` (Method will be removed in 4.0.0, use self.wv.__getitem__() instead).\n",
            "  \"\"\"Entry point for launching an IPython kernel.\n"
          ],
          "name": "stderr"
        },
        {
          "output_type": "execute_result",
          "data": {
            "text/plain": [
              "(2882, 100)"
            ]
          },
          "metadata": {
            "tags": []
          },
          "execution_count": 94
        }
      ]
    },
    {
      "cell_type": "markdown",
      "metadata": {
        "id": "042ymmWEH607"
      },
      "source": [
        "### Visual representation of similar products"
      ]
    },
    {
      "cell_type": "code",
      "metadata": {
        "id": "blwl_tbyH2h6",
        "outputId": "a4c873c8-418d-487f-d4f5-c28c3cb20489",
        "colab": {
          "base_uri": "https://localhost:8080/",
          "height": 554
        }
      },
      "source": [
        "import umap.umap_ as umap\n",
        "\n",
        "cluster_embedding = umap.UMAP(n_neighbors=30, min_dist=0.0, n_components=2, random_state=42).fit_transform(X)\n",
        "\n",
        "plt.figure(figsize=(10, 9))\n",
        "plt.scatter(cluster_embedding[:, 0], cluster_embedding[:, 1], s=3, cmap='Spectral')"
      ],
      "execution_count": null,
      "outputs": [
        {
          "output_type": "execute_result",
          "data": {
            "text/plain": [
              "<matplotlib.collections.PathCollection at 0x7fac2015e828>"
            ]
          },
          "metadata": {
            "tags": []
          },
          "execution_count": 95
        },
        {
          "output_type": "display_data",
          "data": {
            "image/png": "[encoded data removed]",
            "text/plain": [
              "<Figure size 720x648 with 1 Axes>"
            ]
          },
          "metadata": {
            "tags": [],
            "needs_background": "light"
          }
        }
      ]
    },
    {
      "cell_type": "markdown",
      "metadata": {
        "id": "-6fZDCC_JiVr"
      },
      "source": [
        "### Creating a product dictionary"
      ]
    },
    {
      "cell_type": "code",
      "metadata": {
        "id": "DIHf4uVfJQ5c",
        "outputId": "4999e012-8e40-411b-cc84-d409a30f2a1f",
        "colab": {
          "base_uri": "https://localhost:8080/"
        }
      },
      "source": [
        "products = train_dataset[['StockCode', 'Description']]\n",
        "\n",
        "products.drop_duplicates(inplace=True, subset='StockCode', keep='last')\n",
        "\n",
        "products_dict = products.groupby('StockCode')['Description'].apply(list).to_dict()"
      ],
      "execution_count": null,
      "outputs": [
        {
          "output_type": "stream",
          "text": [
            "/usr/local/lib/python3.6/dist-packages/ipykernel_launcher.py:3: SettingWithCopyWarning: \n",
            "A value is trying to be set on a copy of a slice from a DataFrame\n",
            "\n",
            "See the caveats in the documentation: https://pandas.pydata.org/pandas-docs/stable/user_guide/indexing.html#returning-a-view-versus-a-copy\n",
            "  This is separate from the ipykernel package so we can avoid doing imports until\n"
          ],
          "name": "stderr"
        }
      ]
    },
    {
      "cell_type": "code",
      "metadata": {
        "id": "CPzI4KhNKEp-",
        "outputId": "b032ff8f-7d5a-4df5-90d1-e7af6f2be0c1",
        "colab": {
          "base_uri": "https://localhost:8080/"
        }
      },
      "source": [
        "products_dict['22748']"
      ],
      "execution_count": null,
      "outputs": [
        {
          "output_type": "execute_result",
          "data": {
            "text/plain": [
              "[\"POPPY'S PLAYHOUSE KITCHEN\"]"
            ]
          },
          "metadata": {
            "tags": []
          },
          "execution_count": 97
        }
      ]
    },
    {
      "cell_type": "code",
      "metadata": {
        "id": "5MYG7dyQKJxy",
        "outputId": "51cb5599-e0e6-46ff-ce0a-a2b156378de7",
        "colab": {
          "base_uri": "https://localhost:8080/"
        }
      },
      "source": [
        "products_dict['84029G']"
      ],
      "execution_count": null,
      "outputs": [
        {
          "output_type": "execute_result",
          "data": {
            "text/plain": [
              "['KNITTED UNION FLAG HOT WATER BOTTLE']"
            ]
          },
          "metadata": {
            "tags": []
          },
          "execution_count": 98
        }
      ]
    },
    {
      "cell_type": "markdown",
      "metadata": {
        "id": "gyCyLoZMKSVM"
      },
      "source": [
        "## Recommendation Function based on single product vector and will return 6 similar products"
      ]
    },
    {
      "cell_type": "code",
      "metadata": {
        "id": "Y5FT3PvnKPkP"
      },
      "source": [
        "def similar_products(v, n = 6):\n",
        "  ms = model.similar_by_vector(v, topn = n + 1)[1:]\n",
        "  new_ms = []\n",
        "  for j in ms:\n",
        "    pair = (products_dict[j[0]][0], j[1])\n",
        "    new_ms.append(pair)\n",
        "  \n",
        "  return new_ms"
      ],
      "execution_count": null,
      "outputs": []
    },
    {
      "cell_type": "code",
      "metadata": {
        "id": "UBmUNbJFK8FU",
        "outputId": "d29c1946-6d70-42ef-fc3d-5cfc22419891",
        "colab": {
          "base_uri": "https://localhost:8080/"
        }
      },
      "source": [
        "similar_products(model['84029G'])"
      ],
      "execution_count": null,
      "outputs": [
        {
          "output_type": "stream",
          "text": [
            "/usr/local/lib/python3.6/dist-packages/ipykernel_launcher.py:1: DeprecationWarning: Call to deprecated `__getitem__` (Method will be removed in 4.0.0, use self.wv.__getitem__() instead).\n",
            "  \"\"\"Entry point for launching an IPython kernel.\n",
            "/usr/local/lib/python3.6/dist-packages/ipykernel_launcher.py:2: DeprecationWarning: Call to deprecated `similar_by_vector` (Method will be removed in 4.0.0, use self.wv.similar_by_vector() instead).\n",
            "  \n",
            "/usr/local/lib/python3.6/dist-packages/gensim/matutils.py:737: FutureWarning: Conversion of the second argument of issubdtype from `int` to `np.signedinteger` is deprecated. In future, it will be treated as `np.int64 == np.dtype(int).type`.\n",
            "  if np.issubdtype(vec.dtype, np.int):\n"
          ],
          "name": "stderr"
        },
        {
          "output_type": "execute_result",
          "data": {
            "text/plain": [
              "[('RED WOOLLY HOTTIE WHITE HEART.', 0.7433902025222778),\n",
              " ('WHITE SKULL HOT WATER BOTTLE ', 0.6793884038925171),\n",
              " ('RETROSPOT HEART HOT WATER BOTTLE', 0.6675815582275391),\n",
              " ('HOT WATER BOTTLE TEA AND SYMPATHY', 0.6539380550384521),\n",
              " ('CHOCOLATE HOT WATER BOTTLE', 0.645233154296875),\n",
              " ('SCOTTIE DOG HOT WATER BOTTLE', 0.6399728655815125)]"
            ]
          },
          "metadata": {
            "tags": []
          },
          "execution_count": 100
        }
      ]
    },
    {
      "cell_type": "code",
      "metadata": {
        "id": "_vt0_wufLBlW",
        "outputId": "b03f634c-6465-4796-fac8-bd0c8dcce391",
        "colab": {
          "base_uri": "https://localhost:8080/"
        }
      },
      "source": [
        "similar_products(model['90019A'])"
      ],
      "execution_count": null,
      "outputs": [
        {
          "output_type": "stream",
          "text": [
            "/usr/local/lib/python3.6/dist-packages/ipykernel_launcher.py:1: DeprecationWarning: Call to deprecated `__getitem__` (Method will be removed in 4.0.0, use self.wv.__getitem__() instead).\n",
            "  \"\"\"Entry point for launching an IPython kernel.\n",
            "/usr/local/lib/python3.6/dist-packages/ipykernel_launcher.py:2: DeprecationWarning: Call to deprecated `similar_by_vector` (Method will be removed in 4.0.0, use self.wv.similar_by_vector() instead).\n",
            "  \n",
            "/usr/local/lib/python3.6/dist-packages/gensim/matutils.py:737: FutureWarning: Conversion of the second argument of issubdtype from `int` to `np.signedinteger` is deprecated. In future, it will be treated as `np.int64 == np.dtype(int).type`.\n",
            "  if np.issubdtype(vec.dtype, np.int):\n"
          ],
          "name": "stderr"
        },
        {
          "output_type": "execute_result",
          "data": {
            "text/plain": [
              "[('SILVER M.O.P ORBIT DROP EARRINGS', 0.7770750522613525),\n",
              " ('ANT COPPER RED BOUDICCA BRACELET', 0.7083945274353027),\n",
              " ('AMBER DROP EARRINGS W LONG BEADS', 0.704530656337738),\n",
              " ('BLUE MURANO TWIST BRACELET', 0.7021508812904358),\n",
              " ('DROP DIAMANTE EARRINGS PURPLE', 0.6981218457221985),\n",
              " ('VINTAGE ROSE BEAD BRACELET RASPBERR', 0.6878789067268372)]"
            ]
          },
          "metadata": {
            "tags": []
          },
          "execution_count": 101
        }
      ]
    },
    {
      "cell_type": "markdown",
      "metadata": {
        "id": "bE3k3zhsLOF6"
      },
      "source": [
        "## Recommendation function based on average of products vector bought by user and will return 6 similar products"
      ]
    },
    {
      "cell_type": "code",
      "metadata": {
        "id": "QCLB682OLI-z"
      },
      "source": [
        "def aggregate_vectors(products):\n",
        "  product_vec = []\n",
        "  for i in products:\n",
        "    try:\n",
        "      product_vec.append(model[i])\n",
        "    except KeyError:\n",
        "      continue\n",
        "  \n",
        "  return np.mean(product_vec, axis=0)"
      ],
      "execution_count": null,
      "outputs": []
    },
    {
      "cell_type": "code",
      "metadata": {
        "id": "p8W5dXSGLz_S",
        "outputId": "84282f6d-1c16-42dc-e10a-a9f51a2cb8ef",
        "colab": {
          "base_uri": "https://localhost:8080/"
        }
      },
      "source": [
        "len(purchases_val[0])"
      ],
      "execution_count": null,
      "outputs": [
        {
          "output_type": "execute_result",
          "data": {
            "text/plain": [
              "1924"
            ]
          },
          "metadata": {
            "tags": []
          },
          "execution_count": 103
        }
      ]
    },
    {
      "cell_type": "code",
      "metadata": {
        "id": "gh81OssmL7MZ",
        "outputId": "72fb0989-9d20-44c5-d154-be5d17e1559c",
        "colab": {
          "base_uri": "https://localhost:8080/"
        }
      },
      "source": [
        "aggregate_vectors(purchases_val[0]).shape"
      ],
      "execution_count": null,
      "outputs": [
        {
          "output_type": "stream",
          "text": [
            "/usr/local/lib/python3.6/dist-packages/ipykernel_launcher.py:5: DeprecationWarning: Call to deprecated `__getitem__` (Method will be removed in 4.0.0, use self.wv.__getitem__() instead).\n",
            "  \"\"\"\n"
          ],
          "name": "stderr"
        },
        {
          "output_type": "execute_result",
          "data": {
            "text/plain": [
              "(100,)"
            ]
          },
          "metadata": {
            "tags": []
          },
          "execution_count": 104
        }
      ]
    },
    {
      "cell_type": "code",
      "metadata": {
        "id": "yhll1-RMMDOk",
        "outputId": "4db3f35c-5c70-40dd-d1b8-a99d3ad2a26d",
        "colab": {
          "base_uri": "https://localhost:8080/"
        }
      },
      "source": [
        "similar_products(aggregate_vectors(purchases_val[0]))"
      ],
      "execution_count": null,
      "outputs": [
        {
          "output_type": "stream",
          "text": [
            "/usr/local/lib/python3.6/dist-packages/ipykernel_launcher.py:5: DeprecationWarning: Call to deprecated `__getitem__` (Method will be removed in 4.0.0, use self.wv.__getitem__() instead).\n",
            "  \"\"\"\n",
            "/usr/local/lib/python3.6/dist-packages/ipykernel_launcher.py:2: DeprecationWarning: Call to deprecated `similar_by_vector` (Method will be removed in 4.0.0, use self.wv.similar_by_vector() instead).\n",
            "  \n",
            "/usr/local/lib/python3.6/dist-packages/gensim/matutils.py:737: FutureWarning: Conversion of the second argument of issubdtype from `int` to `np.signedinteger` is deprecated. In future, it will be treated as `np.int64 == np.dtype(int).type`.\n",
            "  if np.issubdtype(vec.dtype, np.int):\n"
          ],
          "name": "stderr"
        },
        {
          "output_type": "execute_result",
          "data": {
            "text/plain": [
              "[('LUNCH BAG RED RETROSPOT', 0.6341572999954224),\n",
              " ('RED RETROSPOT PICNIC BAG', 0.6334051489830017),\n",
              " ('SET/5 RED RETROSPOT LID GLASS BOWLS', 0.6316449642181396),\n",
              " ('CREAM HANGING HEART T-LIGHT HOLDER', 0.6272563338279724),\n",
              " ('JUMBO BAG RED RETROSPOT', 0.6135257482528687),\n",
              " ('POLYESTER FILLER PAD 65CMx65CM', 0.6133203506469727)]"
            ]
          },
          "metadata": {
            "tags": []
          },
          "execution_count": 105
        }
      ]
    },
    {
      "cell_type": "code",
      "metadata": {
        "id": "tkkwjZ_eMMGm",
        "outputId": "e3dfc436-678d-47cc-869d-4282f9a75ca6",
        "colab": {
          "base_uri": "https://localhost:8080/"
        }
      },
      "source": [
        "similar_products(aggregate_vectors(purchases_val[0][-5:]))"
      ],
      "execution_count": null,
      "outputs": [
        {
          "output_type": "stream",
          "text": [
            "/usr/local/lib/python3.6/dist-packages/ipykernel_launcher.py:5: DeprecationWarning: Call to deprecated `__getitem__` (Method will be removed in 4.0.0, use self.wv.__getitem__() instead).\n",
            "  \"\"\"\n",
            "/usr/local/lib/python3.6/dist-packages/ipykernel_launcher.py:2: DeprecationWarning: Call to deprecated `similar_by_vector` (Method will be removed in 4.0.0, use self.wv.similar_by_vector() instead).\n",
            "  \n",
            "/usr/local/lib/python3.6/dist-packages/gensim/matutils.py:737: FutureWarning: Conversion of the second argument of issubdtype from `int` to `np.signedinteger` is deprecated. In future, it will be treated as `np.int64 == np.dtype(int).type`.\n",
            "  if np.issubdtype(vec.dtype, np.int):\n"
          ],
          "name": "stderr"
        },
        {
          "output_type": "execute_result",
          "data": {
            "text/plain": [
              "[('GIN AND TONIC DIET METAL SIGN', 0.6582388877868652),\n",
              " ('PLEASE ONE PERSON METAL SIGN', 0.6465825438499451),\n",
              " ('N0 SINGING METAL SIGN', 0.623363196849823),\n",
              " ('COOK WITH WINE METAL SIGN ', 0.616753339767456),\n",
              " ('LADIES & GENTLEMEN METAL SIGN', 0.613654613494873),\n",
              " ('ASSORTED CIRCULAR MOBILE', 0.610666036605835)]"
            ]
          },
          "metadata": {
            "tags": []
          },
          "execution_count": 106
        }
      ]
    },
    {
      "cell_type": "markdown",
      "metadata": {
        "id": "o91nk9l-MdbJ"
      },
      "source": [
        "# <font color=\"blue\">**Churn Prediction**</font>\n",
        "\n",
        "There's one complication with e-commerce. While it's straightforward to measure churn for a contractual (subscription-based) business, churns aren't explicitly observed in non-contractual businesses (e-commerce). In these scenarios, probabilistic models come in handy for estimating time of customer death. The probabilistic model that I'll use is the BG/NBD model from the Lifetimes package."
      ]
    },
    {
      "cell_type": "code",
      "metadata": {
        "id": "_1j7GJTNmHYI",
        "outputId": "a956b447-c3a0-47d0-991d-fab185cbed90",
        "colab": {
          "base_uri": "https://localhost:8080/"
        }
      },
      "source": [
        "! pip  install lifetimes"
      ],
      "execution_count": null,
      "outputs": [
        {
          "output_type": "stream",
          "text": [
            "Collecting lifetimes\n",
            "\u001b[?25l  Downloading https://files.pythonhosted.org/packages/c5/1f/ee6a471dcb5cb2f4dbc219023e07991f3b917875f9c8a5f5d77c00ddabca/Lifetimes-0.11.3-py3-none-any.whl (584kB)\n",
            "\r\u001b[K     |▋                               | 10kB 4.6MB/s eta 0:00:01\r\u001b[K     |█▏                              | 20kB 3.2MB/s eta 0:00:01\r\u001b[K     |█▊                              | 30kB 4.2MB/s eta 0:00:01\r\u001b[K     |██▎                             | 40kB 3.9MB/s eta 0:00:01\r\u001b[K     |██▉                             | 51kB 4.7MB/s eta 0:00:01\r\u001b[K     |███▍                            | 61kB 5.3MB/s eta 0:00:01\r\u001b[K     |████                            | 71kB 5.8MB/s eta 0:00:01\r\u001b[K     |████▌                           | 81kB 6.2MB/s eta 0:00:01\r\u001b[K     |█████                           | 92kB 6.5MB/s eta 0:00:01\r\u001b[K     |█████▋                          | 102kB 6.9MB/s eta 0:00:01\r\u001b[K     |██████▏                         | 112kB 6.9MB/s eta 0:00:01\r\u001b[K     |██████▊                         | 122kB 6.9MB/s eta 0:00:01\r\u001b[K     |███████▎                        | 133kB 6.9MB/s eta 0:00:01\r\u001b[K     |███████▉                        | 143kB 6.9MB/s eta 0:00:01\r\u001b[K     |████████▍                       | 153kB 6.9MB/s eta 0:00:01\r\u001b[K     |█████████                       | 163kB 6.9MB/s eta 0:00:01\r\u001b[K     |█████████▌                      | 174kB 6.9MB/s eta 0:00:01\r\u001b[K     |██████████                      | 184kB 6.9MB/s eta 0:00:01\r\u001b[K     |██████████▋                     | 194kB 6.9MB/s eta 0:00:01\r\u001b[K     |███████████▏                    | 204kB 6.9MB/s eta 0:00:01\r\u001b[K     |███████████▉                    | 215kB 6.9MB/s eta 0:00:01\r\u001b[K     |████████████▍                   | 225kB 6.9MB/s eta 0:00:01\r\u001b[K     |█████████████                   | 235kB 6.9MB/s eta 0:00:01\r\u001b[K     |█████████████▌                  | 245kB 6.9MB/s eta 0:00:01\r\u001b[K     |██████████████                  | 256kB 6.9MB/s eta 0:00:01\r\u001b[K     |██████████████▋                 | 266kB 6.9MB/s eta 0:00:01\r\u001b[K     |███████████████▏                | 276kB 6.9MB/s eta 0:00:01\r\u001b[K     |███████████████▊                | 286kB 6.9MB/s eta 0:00:01\r\u001b[K     |████████████████▎               | 296kB 6.9MB/s eta 0:00:01\r\u001b[K     |████████████████▉               | 307kB 6.9MB/s eta 0:00:01\r\u001b[K     |█████████████████▍              | 317kB 6.9MB/s eta 0:00:01\r\u001b[K     |██████████████████              | 327kB 6.9MB/s eta 0:00:01\r\u001b[K     |██████████████████▌             | 337kB 6.9MB/s eta 0:00:01\r\u001b[K     |███████████████████             | 348kB 6.9MB/s eta 0:00:01\r\u001b[K     |███████████████████▋            | 358kB 6.9MB/s eta 0:00:01\r\u001b[K     |████████████████████▏           | 368kB 6.9MB/s eta 0:00:01\r\u001b[K     |████████████████████▊           | 378kB 6.9MB/s eta 0:00:01\r\u001b[K     |█████████████████████▎          | 389kB 6.9MB/s eta 0:00:01\r\u001b[K     |█████████████████████▉          | 399kB 6.9MB/s eta 0:00:01\r\u001b[K     |██████████████████████▍         | 409kB 6.9MB/s eta 0:00:01\r\u001b[K     |███████████████████████         | 419kB 6.9MB/s eta 0:00:01\r\u001b[K     |███████████████████████▋        | 430kB 6.9MB/s eta 0:00:01\r\u001b[K     |████████████████████████▏       | 440kB 6.9MB/s eta 0:00:01\r\u001b[K     |████████████████████████▊       | 450kB 6.9MB/s eta 0:00:01\r\u001b[K     |█████████████████████████▎      | 460kB 6.9MB/s eta 0:00:01\r\u001b[K     |█████████████████████████▉      | 471kB 6.9MB/s eta 0:00:01\r\u001b[K     |██████████████████████████▍     | 481kB 6.9MB/s eta 0:00:01\r\u001b[K     |███████████████████████████     | 491kB 6.9MB/s eta 0:00:01\r\u001b[K     |███████████████████████████▌    | 501kB 6.9MB/s eta 0:00:01\r\u001b[K     |████████████████████████████    | 512kB 6.9MB/s eta 0:00:01\r\u001b[K     |████████████████████████████▋   | 522kB 6.9MB/s eta 0:00:01\r\u001b[K     |█████████████████████████████▏  | 532kB 6.9MB/s eta 0:00:01\r\u001b[K     |█████████████████████████████▊  | 542kB 6.9MB/s eta 0:00:01\r\u001b[K     |██████████████████████████████▎ | 552kB 6.9MB/s eta 0:00:01\r\u001b[K     |██████████████████████████████▉ | 563kB 6.9MB/s eta 0:00:01\r\u001b[K     |███████████████████████████████▍| 573kB 6.9MB/s eta 0:00:01\r\u001b[K     |████████████████████████████████| 583kB 6.9MB/s eta 0:00:01\r\u001b[K     |████████████████████████████████| 593kB 6.9MB/s \n",
            "\u001b[?25hRequirement already satisfied: pandas>=0.24.0 in /usr/local/lib/python3.6/dist-packages (from lifetimes) (1.1.4)\n",
            "Requirement already satisfied: scipy>=1.0.0 in /usr/local/lib/python3.6/dist-packages (from lifetimes) (1.4.1)\n",
            "Requirement already satisfied: dill>=0.2.6 in /usr/local/lib/python3.6/dist-packages (from lifetimes) (0.3.3)\n",
            "Requirement already satisfied: numpy>=1.10.0 in /usr/local/lib/python3.6/dist-packages (from lifetimes) (1.18.5)\n",
            "Requirement already satisfied: autograd>=1.2.0 in /usr/local/lib/python3.6/dist-packages (from lifetimes) (1.3)\n",
            "Requirement already satisfied: pytz>=2017.2 in /usr/local/lib/python3.6/dist-packages (from pandas>=0.24.0->lifetimes) (2018.9)\n",
            "Requirement already satisfied: python-dateutil>=2.7.3 in /usr/local/lib/python3.6/dist-packages (from pandas>=0.24.0->lifetimes) (2.8.1)\n",
            "Requirement already satisfied: future>=0.15.2 in /usr/local/lib/python3.6/dist-packages (from autograd>=1.2.0->lifetimes) (0.16.0)\n",
            "Requirement already satisfied: six>=1.5 in /usr/local/lib/python3.6/dist-packages (from python-dateutil>=2.7.3->pandas>=0.24.0->lifetimes) (1.15.0)\n",
            "Installing collected packages: lifetimes\n",
            "Successfully installed lifetimes-0.11.3\n"
          ],
          "name": "stdout"
        }
      ]
    },
    {
      "cell_type": "code",
      "metadata": {
        "id": "wW-_m20bMSEk"
      },
      "source": [
        "from lifetimes.utils import *\n",
        "from lifetimes import BetaGeoFitter,GammaGammaFitter\n",
        "from lifetimes.plotting import plot_probability_alive_matrix, plot_frequency_recency_matrix, plot_period_transactions, plot_cumulative_transactions,plot_incremental_transactions\n",
        "from lifetimes.generate_data import beta_geometric_nbd_model\n",
        "from lifetimes.plotting import plot_calibration_purchases_vs_holdout_purchases, plot_period_transactions,plot_history_alive"
      ],
      "execution_count": null,
      "outputs": []
    },
    {
      "cell_type": "markdown",
      "metadata": {
        "id": "MCPyc-qjN6kK"
      },
      "source": [
        "The Lifetimes package relies on recency-frequency-monetary (RFM) analysis to model churn and customer lifetime value (CLV). To make our models, we'll need a a dataframe that consists of recency, frequency, and monetary columns. The definitions of each are below.\n",
        "\n",
        "\n",
        "Recency: time between initial purchase and most recent (last) purchase\n",
        "\n",
        "Frequency: number of repeat purchases made by a customer (total purchases - 1)\n",
        "\n",
        "Monetary: total spent on purchases"
      ]
    },
    {
      "cell_type": "code",
      "metadata": {
        "id": "qWA8m5C5mEUS",
        "outputId": "fe1e1add-1d55-4e02-8b94-21679f7d23f5",
        "colab": {
          "base_uri": "https://localhost:8080/",
          "height": 496
        }
      },
      "source": [
        "dataset.head()"
      ],
      "execution_count": null,
      "outputs": [
        {
          "output_type": "execute_result",
          "data": {
            "text/html": [
              "<div>\n",
              "<style scoped>\n",
              "    .dataframe tbody tr th:only-of-type {\n",
              "        vertical-align: middle;\n",
              "    }\n",
              "\n",
              "    .dataframe tbody tr th {\n",
              "        vertical-align: top;\n",
              "    }\n",
              "\n",
              "    .dataframe thead th {\n",
              "        text-align: right;\n",
              "    }\n",
              "</style>\n",
              "<table border=\"1\" class=\"dataframe\">\n",
              "  <thead>\n",
              "    <tr style=\"text-align: right;\">\n",
              "      <th></th>\n",
              "      <th>InvoiceNo</th>\n",
              "      <th>StockCode</th>\n",
              "      <th>Description</th>\n",
              "      <th>Quantity</th>\n",
              "      <th>InvoiceDate</th>\n",
              "      <th>UnitPrice</th>\n",
              "      <th>CustomerID</th>\n",
              "      <th>Country</th>\n",
              "      <th>Log_Transformed_Quantity</th>\n",
              "      <th>Log_Transformed_UnitPrice</th>\n",
              "      <th>Normalized_Quantity</th>\n",
              "      <th>Normalized_UnitPrice</th>\n",
              "      <th>Standardized_Quantity</th>\n",
              "      <th>Standardized_UnitPrice</th>\n",
              "      <th>Date</th>\n",
              "      <th>Month</th>\n",
              "      <th>Year</th>\n",
              "      <th>Weekday</th>\n",
              "      <th>Time</th>\n",
              "      <th>Sales</th>\n",
              "    </tr>\n",
              "  </thead>\n",
              "  <tbody>\n",
              "    <tr>\n",
              "      <th>0</th>\n",
              "      <td>536365</td>\n",
              "      <td>85123A</td>\n",
              "      <td>WHITE HANGING HEART T-LIGHT HOLDER</td>\n",
              "      <td>6</td>\n",
              "      <td>12/1/2010 8:26</td>\n",
              "      <td>2.55</td>\n",
              "      <td>17850.0</td>\n",
              "      <td>United Kingdom</td>\n",
              "      <td>1.945910</td>\n",
              "      <td>1.266948</td>\n",
              "      <td>0.20</td>\n",
              "      <td>0.341735</td>\n",
              "      <td>-0.219014</td>\n",
              "      <td>0.239846</td>\n",
              "      <td>1</td>\n",
              "      <td>12</td>\n",
              "      <td>2010</td>\n",
              "      <td>Wednesday</td>\n",
              "      <td>08:26:00</td>\n",
              "      <td>15.30</td>\n",
              "    </tr>\n",
              "    <tr>\n",
              "      <th>1</th>\n",
              "      <td>536365</td>\n",
              "      <td>71053</td>\n",
              "      <td>WHITE METAL LANTERN</td>\n",
              "      <td>6</td>\n",
              "      <td>12/1/2010 8:26</td>\n",
              "      <td>3.39</td>\n",
              "      <td>17850.0</td>\n",
              "      <td>United Kingdom</td>\n",
              "      <td>1.945910</td>\n",
              "      <td>1.479329</td>\n",
              "      <td>0.20</td>\n",
              "      <td>0.454350</td>\n",
              "      <td>-0.219014</td>\n",
              "      <td>0.788737</td>\n",
              "      <td>1</td>\n",
              "      <td>12</td>\n",
              "      <td>2010</td>\n",
              "      <td>Wednesday</td>\n",
              "      <td>08:26:00</td>\n",
              "      <td>20.34</td>\n",
              "    </tr>\n",
              "    <tr>\n",
              "      <th>2</th>\n",
              "      <td>536365</td>\n",
              "      <td>84406B</td>\n",
              "      <td>CREAM CUPID HEARTS COAT HANGER</td>\n",
              "      <td>8</td>\n",
              "      <td>12/1/2010 8:26</td>\n",
              "      <td>2.75</td>\n",
              "      <td>17850.0</td>\n",
              "      <td>United Kingdom</td>\n",
              "      <td>2.197225</td>\n",
              "      <td>1.321756</td>\n",
              "      <td>0.28</td>\n",
              "      <td>0.368548</td>\n",
              "      <td>0.076431</td>\n",
              "      <td>0.370534</td>\n",
              "      <td>1</td>\n",
              "      <td>12</td>\n",
              "      <td>2010</td>\n",
              "      <td>Wednesday</td>\n",
              "      <td>08:26:00</td>\n",
              "      <td>22.00</td>\n",
              "    </tr>\n",
              "    <tr>\n",
              "      <th>3</th>\n",
              "      <td>536365</td>\n",
              "      <td>84029G</td>\n",
              "      <td>KNITTED UNION FLAG HOT WATER BOTTLE</td>\n",
              "      <td>6</td>\n",
              "      <td>12/1/2010 8:26</td>\n",
              "      <td>3.39</td>\n",
              "      <td>17850.0</td>\n",
              "      <td>United Kingdom</td>\n",
              "      <td>1.945910</td>\n",
              "      <td>1.479329</td>\n",
              "      <td>0.20</td>\n",
              "      <td>0.454350</td>\n",
              "      <td>-0.219014</td>\n",
              "      <td>0.788737</td>\n",
              "      <td>1</td>\n",
              "      <td>12</td>\n",
              "      <td>2010</td>\n",
              "      <td>Wednesday</td>\n",
              "      <td>08:26:00</td>\n",
              "      <td>20.34</td>\n",
              "    </tr>\n",
              "    <tr>\n",
              "      <th>4</th>\n",
              "      <td>536365</td>\n",
              "      <td>84029E</td>\n",
              "      <td>RED WOOLLY HOTTIE WHITE HEART.</td>\n",
              "      <td>6</td>\n",
              "      <td>12/1/2010 8:26</td>\n",
              "      <td>3.39</td>\n",
              "      <td>17850.0</td>\n",
              "      <td>United Kingdom</td>\n",
              "      <td>1.945910</td>\n",
              "      <td>1.479329</td>\n",
              "      <td>0.20</td>\n",
              "      <td>0.454350</td>\n",
              "      <td>-0.219014</td>\n",
              "      <td>0.788737</td>\n",
              "      <td>1</td>\n",
              "      <td>12</td>\n",
              "      <td>2010</td>\n",
              "      <td>Wednesday</td>\n",
              "      <td>08:26:00</td>\n",
              "      <td>20.34</td>\n",
              "    </tr>\n",
              "  </tbody>\n",
              "</table>\n",
              "</div>"
            ],
            "text/plain": [
              "  InvoiceNo StockCode  ...      Time  Sales\n",
              "0    536365    85123A  ...  08:26:00  15.30\n",
              "1    536365     71053  ...  08:26:00  20.34\n",
              "2    536365    84406B  ...  08:26:00  22.00\n",
              "3    536365    84029G  ...  08:26:00  20.34\n",
              "4    536365    84029E  ...  08:26:00  20.34\n",
              "\n",
              "[5 rows x 20 columns]"
            ]
          },
          "metadata": {
            "tags": []
          },
          "execution_count": 110
        }
      ]
    },
    {
      "cell_type": "code",
      "metadata": {
        "id": "ATMvwx73nD3z",
        "outputId": "2cf23fa9-80fb-487c-a301-e1a40e1e5d69",
        "colab": {
          "base_uri": "https://localhost:8080/",
          "height": 204
        }
      },
      "source": [
        "transaction_data = dataset[['CustomerID', 'Sales', 'InvoiceDate']]\n",
        "\n",
        "transaction_data['date'] = pd.to_datetime(transaction_data['InvoiceDate']).dt.date\n",
        "transaction_data = transaction_data.drop('InvoiceDate', axis=1)\n",
        "\n",
        "transaction_data.head()"
      ],
      "execution_count": null,
      "outputs": [
        {
          "output_type": "execute_result",
          "data": {
            "text/html": [
              "<div>\n",
              "<style scoped>\n",
              "    .dataframe tbody tr th:only-of-type {\n",
              "        vertical-align: middle;\n",
              "    }\n",
              "\n",
              "    .dataframe tbody tr th {\n",
              "        vertical-align: top;\n",
              "    }\n",
              "\n",
              "    .dataframe thead th {\n",
              "        text-align: right;\n",
              "    }\n",
              "</style>\n",
              "<table border=\"1\" class=\"dataframe\">\n",
              "  <thead>\n",
              "    <tr style=\"text-align: right;\">\n",
              "      <th></th>\n",
              "      <th>CustomerID</th>\n",
              "      <th>Sales</th>\n",
              "      <th>date</th>\n",
              "    </tr>\n",
              "  </thead>\n",
              "  <tbody>\n",
              "    <tr>\n",
              "      <th>0</th>\n",
              "      <td>17850.0</td>\n",
              "      <td>15.30</td>\n",
              "      <td>2010-12-01</td>\n",
              "    </tr>\n",
              "    <tr>\n",
              "      <th>1</th>\n",
              "      <td>17850.0</td>\n",
              "      <td>20.34</td>\n",
              "      <td>2010-12-01</td>\n",
              "    </tr>\n",
              "    <tr>\n",
              "      <th>2</th>\n",
              "      <td>17850.0</td>\n",
              "      <td>22.00</td>\n",
              "      <td>2010-12-01</td>\n",
              "    </tr>\n",
              "    <tr>\n",
              "      <th>3</th>\n",
              "      <td>17850.0</td>\n",
              "      <td>20.34</td>\n",
              "      <td>2010-12-01</td>\n",
              "    </tr>\n",
              "    <tr>\n",
              "      <th>4</th>\n",
              "      <td>17850.0</td>\n",
              "      <td>20.34</td>\n",
              "      <td>2010-12-01</td>\n",
              "    </tr>\n",
              "  </tbody>\n",
              "</table>\n",
              "</div>"
            ],
            "text/plain": [
              "   CustomerID  Sales        date\n",
              "0     17850.0  15.30  2010-12-01\n",
              "1     17850.0  20.34  2010-12-01\n",
              "2     17850.0  22.00  2010-12-01\n",
              "3     17850.0  20.34  2010-12-01\n",
              "4     17850.0  20.34  2010-12-01"
            ]
          },
          "metadata": {
            "tags": []
          },
          "execution_count": 111
        }
      ]
    },
    {
      "cell_type": "markdown",
      "metadata": {
        "id": "5yY7SofoNQvH"
      },
      "source": [
        "Now that we have the transaction data, we can convert this into dataframe with the RFM variables. The Lifetimes package has a function for converting transaction data into an RFM DataFrame."
      ]
    },
    {
      "cell_type": "code",
      "metadata": {
        "id": "ERspqQAGoSWK",
        "outputId": "d84012b1-7fd9-48c4-f352-1c3b98297723",
        "colab": {
          "base_uri": "https://localhost:8080/",
          "height": 297
        }
      },
      "source": [
        "summary = summary_data_from_transaction_data(transaction_data,'CustomerID','date',monetary_value_col='Sales',)\n",
        "summary.describe()"
      ],
      "execution_count": null,
      "outputs": [
        {
          "output_type": "execute_result",
          "data": {
            "text/html": [
              "<div>\n",
              "<style scoped>\n",
              "    .dataframe tbody tr th:only-of-type {\n",
              "        vertical-align: middle;\n",
              "    }\n",
              "\n",
              "    .dataframe tbody tr th {\n",
              "        vertical-align: top;\n",
              "    }\n",
              "\n",
              "    .dataframe thead th {\n",
              "        text-align: right;\n",
              "    }\n",
              "</style>\n",
              "<table border=\"1\" class=\"dataframe\">\n",
              "  <thead>\n",
              "    <tr style=\"text-align: right;\">\n",
              "      <th></th>\n",
              "      <th>frequency</th>\n",
              "      <th>recency</th>\n",
              "      <th>T</th>\n",
              "      <th>monetary_value</th>\n",
              "    </tr>\n",
              "  </thead>\n",
              "  <tbody>\n",
              "    <tr>\n",
              "      <th>count</th>\n",
              "      <td>4190.000000</td>\n",
              "      <td>4190.000000</td>\n",
              "      <td>4190.000000</td>\n",
              "      <td>4190.000000</td>\n",
              "    </tr>\n",
              "    <tr>\n",
              "      <th>mean</th>\n",
              "      <td>2.708353</td>\n",
              "      <td>128.893795</td>\n",
              "      <td>220.929833</td>\n",
              "      <td>168.864397</td>\n",
              "    </tr>\n",
              "    <tr>\n",
              "      <th>std</th>\n",
              "      <td>5.656677</td>\n",
              "      <td>131.579600</td>\n",
              "      <td>117.851699</td>\n",
              "      <td>212.490234</td>\n",
              "    </tr>\n",
              "    <tr>\n",
              "      <th>min</th>\n",
              "      <td>0.000000</td>\n",
              "      <td>0.000000</td>\n",
              "      <td>0.000000</td>\n",
              "      <td>0.000000</td>\n",
              "    </tr>\n",
              "    <tr>\n",
              "      <th>25%</th>\n",
              "      <td>0.000000</td>\n",
              "      <td>0.000000</td>\n",
              "      <td>109.000000</td>\n",
              "      <td>0.000000</td>\n",
              "    </tr>\n",
              "    <tr>\n",
              "      <th>50%</th>\n",
              "      <td>1.000000</td>\n",
              "      <td>90.000000</td>\n",
              "      <td>246.000000</td>\n",
              "      <td>120.940000</td>\n",
              "    </tr>\n",
              "    <tr>\n",
              "      <th>75%</th>\n",
              "      <td>3.000000</td>\n",
              "      <td>250.000000</td>\n",
              "      <td>324.000000</td>\n",
              "      <td>262.037500</td>\n",
              "    </tr>\n",
              "    <tr>\n",
              "      <th>max</th>\n",
              "      <td>129.000000</td>\n",
              "      <td>373.000000</td>\n",
              "      <td>373.000000</td>\n",
              "      <td>3182.320000</td>\n",
              "    </tr>\n",
              "  </tbody>\n",
              "</table>\n",
              "</div>"
            ],
            "text/plain": [
              "         frequency      recency            T  monetary_value\n",
              "count  4190.000000  4190.000000  4190.000000     4190.000000\n",
              "mean      2.708353   128.893795   220.929833      168.864397\n",
              "std       5.656677   131.579600   117.851699      212.490234\n",
              "min       0.000000     0.000000     0.000000        0.000000\n",
              "25%       0.000000     0.000000   109.000000        0.000000\n",
              "50%       1.000000    90.000000   246.000000      120.940000\n",
              "75%       3.000000   250.000000   324.000000      262.037500\n",
              "max     129.000000   373.000000   373.000000     3182.320000"
            ]
          },
          "metadata": {
            "tags": []
          },
          "execution_count": 112
        }
      ]
    },
    {
      "cell_type": "markdown",
      "metadata": {
        "id": "ena0OnmhOQOl"
      },
      "source": [
        "### Understanding the RFM DataFrame"
      ]
    },
    {
      "cell_type": "code",
      "metadata": {
        "id": "caVRGiZ0o0nL",
        "outputId": "8d0207f1-5cb7-4bc6-8ac4-775e379fe167",
        "colab": {
          "base_uri": "https://localhost:8080/",
          "height": 235
        }
      },
      "source": [
        "summary.head()"
      ],
      "execution_count": null,
      "outputs": [
        {
          "output_type": "execute_result",
          "data": {
            "text/html": [
              "<div>\n",
              "<style scoped>\n",
              "    .dataframe tbody tr th:only-of-type {\n",
              "        vertical-align: middle;\n",
              "    }\n",
              "\n",
              "    .dataframe tbody tr th {\n",
              "        vertical-align: top;\n",
              "    }\n",
              "\n",
              "    .dataframe thead th {\n",
              "        text-align: right;\n",
              "    }\n",
              "</style>\n",
              "<table border=\"1\" class=\"dataframe\">\n",
              "  <thead>\n",
              "    <tr style=\"text-align: right;\">\n",
              "      <th></th>\n",
              "      <th>frequency</th>\n",
              "      <th>recency</th>\n",
              "      <th>T</th>\n",
              "      <th>monetary_value</th>\n",
              "    </tr>\n",
              "    <tr>\n",
              "      <th>CustomerID</th>\n",
              "      <th></th>\n",
              "      <th></th>\n",
              "      <th></th>\n",
              "      <th></th>\n",
              "    </tr>\n",
              "  </thead>\n",
              "  <tbody>\n",
              "    <tr>\n",
              "      <th>12347.0</th>\n",
              "      <td>6.0</td>\n",
              "      <td>365.0</td>\n",
              "      <td>367.0</td>\n",
              "      <td>443.973333</td>\n",
              "    </tr>\n",
              "    <tr>\n",
              "      <th>12348.0</th>\n",
              "      <td>2.0</td>\n",
              "      <td>110.0</td>\n",
              "      <td>358.0</td>\n",
              "      <td>18.700000</td>\n",
              "    </tr>\n",
              "    <tr>\n",
              "      <th>12349.0</th>\n",
              "      <td>0.0</td>\n",
              "      <td>0.0</td>\n",
              "      <td>18.0</td>\n",
              "      <td>0.000000</td>\n",
              "    </tr>\n",
              "    <tr>\n",
              "      <th>12350.0</th>\n",
              "      <td>0.0</td>\n",
              "      <td>0.0</td>\n",
              "      <td>310.0</td>\n",
              "      <td>0.000000</td>\n",
              "    </tr>\n",
              "    <tr>\n",
              "      <th>12352.0</th>\n",
              "      <td>6.0</td>\n",
              "      <td>260.0</td>\n",
              "      <td>296.0</td>\n",
              "      <td>150.423333</td>\n",
              "    </tr>\n",
              "  </tbody>\n",
              "</table>\n",
              "</div>"
            ],
            "text/plain": [
              "            frequency  recency      T  monetary_value\n",
              "CustomerID                                           \n",
              "12347.0           6.0    365.0  367.0      443.973333\n",
              "12348.0           2.0    110.0  358.0       18.700000\n",
              "12349.0           0.0      0.0   18.0        0.000000\n",
              "12350.0           0.0      0.0  310.0        0.000000\n",
              "12352.0           6.0    260.0  296.0      150.423333"
            ]
          },
          "metadata": {
            "tags": []
          },
          "execution_count": 113
        }
      ]
    },
    {
      "cell_type": "markdown",
      "metadata": {
        "id": "qTnGUJYEOVzm"
      },
      "source": [
        "The summary function converted customer transactions into an aggregated table. Few of the customers have frequency, recency, and monetary = 0, like customer 12350. That's because Lifetimes only considers customers who have made repeat purchases into account.\n",
        "\n",
        "\n",
        "Using days as time periods (can also be defined as weeks or months), variables are defined like so for the Lifetimes model:\n",
        "\n",
        "\n",
        "frequency: # of days in which a customer made a repeat purchase\n",
        "\n",
        "T: customer's age in days\n",
        "\n",
        "recency: customer's age in days at time of most recent purchase\n",
        "\n",
        "monetary_value: mean of a customer's purchases, excluding the 1st purchase\n",
        "\n",
        "\n",
        "frequency excludes the customer's first purchase because that is considered the day the customer is born. Afterwards, we can begin to question whether or not that customer is alive."
      ]
    },
    {
      "cell_type": "code",
      "metadata": {
        "id": "0RoNIdRxo5Qp",
        "outputId": "6be60638-a2ce-4a91-d4ea-8ae62becb727",
        "colab": {
          "base_uri": "https://localhost:8080/",
          "height": 235
        }
      },
      "source": [
        "summary[summary['frequency']>0].head()"
      ],
      "execution_count": null,
      "outputs": [
        {
          "output_type": "execute_result",
          "data": {
            "text/html": [
              "<div>\n",
              "<style scoped>\n",
              "    .dataframe tbody tr th:only-of-type {\n",
              "        vertical-align: middle;\n",
              "    }\n",
              "\n",
              "    .dataframe tbody tr th {\n",
              "        vertical-align: top;\n",
              "    }\n",
              "\n",
              "    .dataframe thead th {\n",
              "        text-align: right;\n",
              "    }\n",
              "</style>\n",
              "<table border=\"1\" class=\"dataframe\">\n",
              "  <thead>\n",
              "    <tr style=\"text-align: right;\">\n",
              "      <th></th>\n",
              "      <th>frequency</th>\n",
              "      <th>recency</th>\n",
              "      <th>T</th>\n",
              "      <th>monetary_value</th>\n",
              "    </tr>\n",
              "    <tr>\n",
              "      <th>CustomerID</th>\n",
              "      <th></th>\n",
              "      <th></th>\n",
              "      <th></th>\n",
              "      <th></th>\n",
              "    </tr>\n",
              "  </thead>\n",
              "  <tbody>\n",
              "    <tr>\n",
              "      <th>12347.0</th>\n",
              "      <td>6.0</td>\n",
              "      <td>365.0</td>\n",
              "      <td>367.0</td>\n",
              "      <td>443.973333</td>\n",
              "    </tr>\n",
              "    <tr>\n",
              "      <th>12348.0</th>\n",
              "      <td>2.0</td>\n",
              "      <td>110.0</td>\n",
              "      <td>358.0</td>\n",
              "      <td>18.700000</td>\n",
              "    </tr>\n",
              "    <tr>\n",
              "      <th>12352.0</th>\n",
              "      <td>6.0</td>\n",
              "      <td>260.0</td>\n",
              "      <td>296.0</td>\n",
              "      <td>150.423333</td>\n",
              "    </tr>\n",
              "    <tr>\n",
              "      <th>12356.0</th>\n",
              "      <td>1.0</td>\n",
              "      <td>80.0</td>\n",
              "      <td>325.0</td>\n",
              "      <td>267.860000</td>\n",
              "    </tr>\n",
              "    <tr>\n",
              "      <th>12358.0</th>\n",
              "      <td>1.0</td>\n",
              "      <td>149.0</td>\n",
              "      <td>150.0</td>\n",
              "      <td>509.160000</td>\n",
              "    </tr>\n",
              "  </tbody>\n",
              "</table>\n",
              "</div>"
            ],
            "text/plain": [
              "            frequency  recency      T  monetary_value\n",
              "CustomerID                                           \n",
              "12347.0           6.0    365.0  367.0      443.973333\n",
              "12348.0           2.0    110.0  358.0       18.700000\n",
              "12352.0           6.0    260.0  296.0      150.423333\n",
              "12356.0           1.0     80.0  325.0      267.860000\n",
              "12358.0           1.0    149.0  150.0      509.160000"
            ]
          },
          "metadata": {
            "tags": []
          },
          "execution_count": 114
        }
      ]
    },
    {
      "cell_type": "code",
      "metadata": {
        "id": "aeFNSk3wpMfZ",
        "outputId": "686a260f-32b1-4c84-c95b-b9633c83ca34",
        "colab": {
          "base_uri": "https://localhost:8080/",
          "height": 235
        }
      },
      "source": [
        "transaction_data[transaction_data['CustomerID']==12348]"
      ],
      "execution_count": null,
      "outputs": [
        {
          "output_type": "execute_result",
          "data": {
            "text/html": [
              "<div>\n",
              "<style scoped>\n",
              "    .dataframe tbody tr th:only-of-type {\n",
              "        vertical-align: middle;\n",
              "    }\n",
              "\n",
              "    .dataframe tbody tr th {\n",
              "        vertical-align: top;\n",
              "    }\n",
              "\n",
              "    .dataframe thead th {\n",
              "        text-align: right;\n",
              "    }\n",
              "</style>\n",
              "<table border=\"1\" class=\"dataframe\">\n",
              "  <thead>\n",
              "    <tr style=\"text-align: right;\">\n",
              "      <th></th>\n",
              "      <th>CustomerID</th>\n",
              "      <th>Sales</th>\n",
              "      <th>date</th>\n",
              "    </tr>\n",
              "  </thead>\n",
              "  <tbody>\n",
              "    <tr>\n",
              "      <th>34085</th>\n",
              "      <td>12348.0</td>\n",
              "      <td>13.2</td>\n",
              "      <td>2010-12-16</td>\n",
              "    </tr>\n",
              "    <tr>\n",
              "      <th>34087</th>\n",
              "      <td>12348.0</td>\n",
              "      <td>13.2</td>\n",
              "      <td>2010-12-16</td>\n",
              "    </tr>\n",
              "    <tr>\n",
              "      <th>34095</th>\n",
              "      <td>12348.0</td>\n",
              "      <td>13.2</td>\n",
              "      <td>2010-12-16</td>\n",
              "    </tr>\n",
              "    <tr>\n",
              "      <th>34097</th>\n",
              "      <td>12348.0</td>\n",
              "      <td>13.2</td>\n",
              "      <td>2010-12-16</td>\n",
              "    </tr>\n",
              "    <tr>\n",
              "      <th>70053</th>\n",
              "      <td>12348.0</td>\n",
              "      <td>20.4</td>\n",
              "      <td>2011-01-25</td>\n",
              "    </tr>\n",
              "    <tr>\n",
              "      <th>146016</th>\n",
              "      <td>12348.0</td>\n",
              "      <td>17.0</td>\n",
              "      <td>2011-04-05</td>\n",
              "    </tr>\n",
              "  </tbody>\n",
              "</table>\n",
              "</div>"
            ],
            "text/plain": [
              "        CustomerID  Sales        date\n",
              "34085      12348.0   13.2  2010-12-16\n",
              "34087      12348.0   13.2  2010-12-16\n",
              "34095      12348.0   13.2  2010-12-16\n",
              "34097      12348.0   13.2  2010-12-16\n",
              "70053      12348.0   20.4  2011-01-25\n",
              "146016     12348.0   17.0  2011-04-05"
            ]
          },
          "metadata": {
            "tags": []
          },
          "execution_count": 120
        }
      ]
    },
    {
      "cell_type": "code",
      "metadata": {
        "id": "JZVz3mXspUqU",
        "outputId": "89babbf1-5e8b-4973-b66a-1156054b1cfd",
        "colab": {
          "base_uri": "https://localhost:8080/"
        }
      },
      "source": [
        "summary['frequency'].value_counts()"
      ],
      "execution_count": null,
      "outputs": [
        {
          "output_type": "execute_result",
          "data": {
            "text/plain": [
              "0.0      1534\n",
              "1.0       856\n",
              "2.0       472\n",
              "3.0       379\n",
              "4.0       211\n",
              "5.0       171\n",
              "6.0       127\n",
              "7.0        92\n",
              "8.0        55\n",
              "9.0        43\n",
              "10.0       41\n",
              "11.0       30\n",
              "12.0       29\n",
              "14.0       24\n",
              "16.0       20\n",
              "13.0       16\n",
              "19.0       13\n",
              "15.0       10\n",
              "17.0        9\n",
              "20.0        6\n",
              "24.0        5\n",
              "22.0        5\n",
              "18.0        5\n",
              "23.0        5\n",
              "25.0        4\n",
              "27.0        3\n",
              "21.0        2\n",
              "36.0        2\n",
              "34.0        2\n",
              "87.0        1\n",
              "30.0        1\n",
              "33.0        1\n",
              "111.0       1\n",
              "63.0        1\n",
              "109.0       1\n",
              "29.0        1\n",
              "38.0        1\n",
              "31.0        1\n",
              "58.0        1\n",
              "37.0        1\n",
              "35.0        1\n",
              "129.0       1\n",
              "41.0        1\n",
              "53.0        1\n",
              "89.0        1\n",
              "32.0        1\n",
              "28.0        1\n",
              "26.0        1\n",
              "Name: frequency, dtype: int64"
            ]
          },
          "metadata": {
            "tags": []
          },
          "execution_count": 121
        }
      ]
    },
    {
      "cell_type": "markdown",
      "metadata": {
        "id": "ohigevVyQQLy"
      },
      "source": [
        "### Visualizing the RFM DataFrame\n",
        "\n",
        "We're going to use the Beta-Geometric/NBD (BG/NBD) model for customer churn. The BG/NBD model is an adaptation of the Pareto/NBD model. Both models describe repeat purchasing patterns in businesses where customer turnover is unobserved; however, the BG/NBD is much more computationally feasible.\n",
        "\n",
        "Assumptions of the BG/NBD model:\n",
        "\n",
        "<ul>\n",
        "<li>A customer's relationship has two phases: \"alive\" for an unobserved period of time, then \"dead\"</li>\n",
        "<li>While alive, the number of transactions made by a customer follows a Poisson distribution with transaction rate lambda</li>\n",
        "<li>Heterogeneity in lambda follows a gamma distribution</li>\n",
        "<li>After any transaction, a customer dies with probability p; the probability that a customer dies after a number of transactions follows a geometric distribution</li>\n",
        "<li>p follows a beta distribution</li>\n",
        "<li>Lambda and p vary independently across customers</li>\n",
        "</ul>\n",
        "\n",
        "For more information on the BG/NBD model, check out this <a href=\"http://brucehardie.com/papers/bgnbd_2004-04-20.pdf\">paper</a> and this <a href=\"https://medium.com/data-shopify/how-shopify-merchants-can-measure-retention-c12284bfed6f\">post</a> by Cam Davidson-Pilon."
      ]
    },
    {
      "cell_type": "code",
      "metadata": {
        "id": "D4QjHpaqp19W",
        "outputId": "aa78d63f-2fbd-4585-b549-27cfefc5aa79",
        "colab": {
          "base_uri": "https://localhost:8080/"
        }
      },
      "source": [
        "bgf = BetaGeoFitter(penalizer_coef=0.0)\n",
        "bgf.fit(summary['frequency'], summary['recency'], summary['T'])"
      ],
      "execution_count": null,
      "outputs": [
        {
          "output_type": "execute_result",
          "data": {
            "text/plain": [
              "<lifetimes.BetaGeoFitter: fitted with 4190 subjects, a: 0.00, alpha: 73.42, b: 14841.26, r: 0.84>"
            ]
          },
          "metadata": {
            "tags": []
          },
          "execution_count": 122
        }
      ]
    },
    {
      "cell_type": "code",
      "metadata": {
        "id": "DIeykkBSqGf2",
        "outputId": "f0a7e8e1-4e98-4924-a9b6-a1129bd2b804",
        "colab": {
          "base_uri": "https://localhost:8080/",
          "height": 310
        }
      },
      "source": [
        "plot_frequency_recency_matrix(bgf);"
      ],
      "execution_count": null,
      "outputs": [
        {
          "output_type": "display_data",
          "data": {
            "image/png": "[encoded data removed]",
            "text/plain": [
              "<Figure size 432x288 with 2 Axes>"
            ]
          },
          "metadata": {
            "tags": [],
            "needs_background": "light"
          }
        }
      ]
    },
    {
      "cell_type": "code",
      "metadata": {
        "id": "pQofvGfZqJrc",
        "outputId": "23ceac28-0eab-40c3-a8cc-5dd03a75b74b",
        "colab": {
          "base_uri": "https://localhost:8080/",
          "height": 310
        }
      },
      "source": [
        "plot_probability_alive_matrix(bgf);"
      ],
      "execution_count": null,
      "outputs": [
        {
          "output_type": "display_data",
          "data": {
            "image/png": "[encoded data removed]",
            "text/plain": [
              "<Figure size 432x288 with 2 Axes>"
            ]
          },
          "metadata": {
            "tags": [],
            "needs_background": "light"
          }
        }
      ]
    },
    {
      "cell_type": "markdown",
      "metadata": {
        "id": "SVk_v1NGRdxt"
      },
      "source": [
        "###Training a model and evaluating model performance\n",
        "\n",
        "Next we want to evaluate the model to see how well it performs in the future. Lets split the data into a training (calibration) period and a holdout (observation) period, train the BG/NBD model and evaluate performance with four plots that Peter Fader outlines in <a href=\"https://www.youtube.com/watch?v=guj2gVEEx4s\">this talk</a> (@ 26:10). These plots are:\n",
        "\n",
        "1) Calibration period histogram: does the model fit the training data?\n",
        "\n",
        "2) Cumulative transaction plot: does the model predict cumulative sales well?\n",
        "\n",
        "3) Incremental transaction plot: does the model capture the overall trend in transactions?\n",
        "\n",
        "4) Conditional expectations plot: can the model predict the number of purchases a customer will make based on the training data?\n",
        "\n",
        "\n",
        "\n",
        "####<b>1) Calibration period histogram</b>"
      ]
    },
    {
      "cell_type": "code",
      "metadata": {
        "id": "WZCGp752qPFM",
        "outputId": "3521abf0-3849-4bd3-d410-3ceade92fb2e",
        "colab": {
          "base_uri": "https://localhost:8080/",
          "height": 292
        }
      },
      "source": [
        "plot_period_transactions(bgf).set_yscale('log');"
      ],
      "execution_count": null,
      "outputs": [
        {
          "output_type": "display_data",
          "data": {
            "image/png": "[encoded data removed]",
            "text/plain": [
              "<Figure size 432x288 with 1 Axes>"
            ]
          },
          "metadata": {
            "tags": [],
            "needs_background": "light"
          }
        }
      ]
    },
    {
      "cell_type": "markdown",
      "metadata": {
        "id": "zebyimt8SN3b"
      },
      "source": [
        "The model is fairly representative of the real data up until five repeat transactions. "
      ]
    },
    {
      "cell_type": "markdown",
      "metadata": {
        "id": "vYl3VZkBSYXp"
      },
      "source": [
        "####<b>2) Cumulative transaction plot</b>"
      ]
    },
    {
      "cell_type": "code",
      "metadata": {
        "id": "UNSgWROZqVZT"
      },
      "source": [
        "summary_cal_holdout = calibration_and_holdout_data(transaction_data, 'CustomerID', 'date',\n",
        "                                        calibration_period_end='2011-07-31',\n",
        "                                        observation_period_end='2011-12-09' )"
      ],
      "execution_count": null,
      "outputs": []
    },
    {
      "cell_type": "markdown",
      "metadata": {
        "id": "D9tO5BlJSex9"
      },
      "source": [
        "We can evaluate how the dataset works by plotting both of them."
      ]
    },
    {
      "cell_type": "code",
      "metadata": {
        "id": "3fvIDYfXqY7Y",
        "outputId": "be7283db-6750-4075-d540-fc9725abaa36",
        "colab": {
          "base_uri": "https://localhost:8080/",
          "height": 349
        }
      },
      "source": [
        "bgf.fit(summary_cal_holdout['frequency_cal'], summary_cal_holdout['recency_cal'], summary_cal_holdout['T_cal'])\n",
        "plot_cumulative_transactions(bgf,transaction_data,'date','CustomerID',373,242);"
      ],
      "execution_count": null,
      "outputs": [
        {
          "output_type": "stream",
          "text": [
            "/usr/local/lib/python3.6/dist-packages/pandas/core/series.py:726: RuntimeWarning: invalid value encountered in sqrt\n",
            "  result = getattr(ufunc, method)(*inputs, **kwargs)\n"
          ],
          "name": "stderr"
        },
        {
          "output_type": "display_data",
          "data": {
            "image/png": "[encoded data removed]",
            "text/plain": [
              "<Figure size 432x288 with 1 Axes>"
            ]
          },
          "metadata": {
            "tags": [],
            "needs_background": "light"
          }
        }
      ]
    },
    {
      "cell_type": "markdown",
      "metadata": {
        "id": "x3jk0Rz8Shg2"
      },
      "source": [
        "The red line represents the boundary between the calibration period on the left and the holdout period on the right. As you can see, the BG/NBD model does a pretty swell job at predicting cumulative transactions."
      ]
    },
    {
      "cell_type": "markdown",
      "metadata": {
        "id": "ueDkdfLZSn08"
      },
      "source": [
        "####<b>3) Incremental transaction plot</b>"
      ]
    },
    {
      "cell_type": "code",
      "metadata": {
        "id": "v_mySqxGtLkN",
        "outputId": "5e8bea64-2991-415f-d0ca-fa799d1295ff",
        "colab": {
          "base_uri": "https://localhost:8080/",
          "height": 295
        }
      },
      "source": [
        "plot_incremental_transactions(bgf,transaction_data,'date','CustomerID',373,242);"
      ],
      "execution_count": null,
      "outputs": [
        {
          "output_type": "display_data",
          "data": {
            "image/png": "[encoded data removed]",
            "text/plain": [
              "<Figure size 432x288 with 1 Axes>"
            ]
          },
          "metadata": {
            "tags": [],
            "needs_background": "light"
          }
        }
      ]
    },
    {
      "cell_type": "markdown",
      "metadata": {
        "id": "o33P3yY3SsX8"
      },
      "source": [
        "This plot shows that the model does a decent job capturing general trends in the data."
      ]
    },
    {
      "cell_type": "markdown",
      "metadata": {
        "id": "Gnbj3P2BSu6R"
      },
      "source": [
        "####<b>4) Conditional expectations plot</b>"
      ]
    },
    {
      "cell_type": "code",
      "metadata": {
        "id": "ZSFQiL9Bvpot",
        "outputId": "13fed351-9ed7-431d-e261-2f1b2b7d6d65",
        "colab": {
          "base_uri": "https://localhost:8080/",
          "height": 295
        }
      },
      "source": [
        "plot_calibration_purchases_vs_holdout_purchases(bgf, summary_cal_holdout);"
      ],
      "execution_count": null,
      "outputs": [
        {
          "output_type": "display_data",
          "data": {
            "image/png": "[encoded data removed]",
            "text/plain": [
              "<Figure size 432x288 with 1 Axes>"
            ]
          },
          "metadata": {
            "tags": [],
            "needs_background": "light"
          }
        }
      ]
    },
    {
      "cell_type": "markdown",
      "metadata": {
        "id": "tVKp-l-kS2Os"
      },
      "source": [
        "The model performs well up to three calibration period purchases, but looks to diverge from the holdout data because of the distribution of the data."
      ]
    },
    {
      "cell_type": "code",
      "metadata": {
        "id": "LpwEjrdFvy3u",
        "outputId": "b1b50695-f9aa-439a-e5cc-c37cd07af97e",
        "colab": {
          "base_uri": "https://localhost:8080/"
        }
      },
      "source": [
        "dataset.groupby('CustomerID').size().value_counts()"
      ],
      "execution_count": null,
      "outputs": [
        {
          "output_type": "execute_result",
          "data": {
            "text/plain": [
              "10      93\n",
              "5       89\n",
              "7       82\n",
              "11      81\n",
              "6       80\n",
              "        ..\n",
              "585      1\n",
              "581      1\n",
              "521      1\n",
              "513      1\n",
              "1187     1\n",
              "Length: 421, dtype: int64"
            ]
          },
          "metadata": {
            "tags": []
          },
          "execution_count": 138
        }
      ]
    },
    {
      "cell_type": "code",
      "metadata": {
        "id": "XE73e6OcxtnZ"
      },
      "source": [
        "import seaborn as sns\n",
        "from sklearn.preprocessing import StandardScaler"
      ],
      "execution_count": null,
      "outputs": []
    },
    {
      "cell_type": "markdown",
      "metadata": {
        "id": "eAkYFZvMTDd3"
      },
      "source": [
        "###Modeling churn risk\n",
        "\n",
        "The BG/NBD model assumes that death can only occur after a repeat purchase, since the customer leaving occurs during a purchase and the first purchase is reserved to signal a customer's birth.\n",
        "\n",
        "Because of this, customers with only one transactions will have a 100% probability of being alive, which is suspect. To account for this limitation, we'll only predict churn risk on customers who have made at least one repeat transaction."
      ]
    },
    {
      "cell_type": "code",
      "metadata": {
        "id": "TUlfsIk1wBI4",
        "outputId": "2db3bcd1-28c6-4b18-f165-6498763dabec",
        "colab": {
          "base_uri": "https://localhost:8080/",
          "height": 379
        }
      },
      "source": [
        "df = summary[summary['frequency']>0]\n",
        "df[['frequency', 'recency', 'T']] = StandardScaler().fit_transform(df[['frequency', 'recency', 'T']])\n",
        "df['prob_alive'] = bgf.conditional_probability_alive(np.log2(df['frequency']),np.log2(df['recency']),np.log2(df['T']))\n",
        "\n",
        "sns.distplot(df['prob_alive']);"
      ],
      "execution_count": null,
      "outputs": [
        {
          "output_type": "stream",
          "text": [
            "/usr/local/lib/python3.6/dist-packages/pandas/core/series.py:726: RuntimeWarning: invalid value encountered in log2\n",
            "  result = getattr(ufunc, method)(*inputs, **kwargs)\n",
            "/usr/local/lib/python3.6/dist-packages/seaborn/distributions.py:305: UserWarning: Dataset has 0 variance; skipping density estimate.\n",
            "  warnings.warn(msg, UserWarning)\n"
          ],
          "name": "stderr"
        },
        {
          "output_type": "display_data",
          "data": {
            "image/png": "[encoded data removed]",
            "text/plain": [
              "<Figure size 432x288 with 1 Axes>"
            ]
          },
          "metadata": {
            "tags": [],
            "needs_background": "light"
          }
        }
      ]
    },
    {
      "cell_type": "markdown",
      "metadata": {
        "id": "g44_9zp2TUcD"
      },
      "source": [
        "From here, we can visualize customers based on the probability that they're \"alive\". Using domain knowledge we might be able to set a threshold for customers who probably have already churned, and also identify customers who are at risk for churning, but haven't yet disappeared.\n",
        "\n"
      ]
    },
    {
      "cell_type": "code",
      "metadata": {
        "id": "ohUTARtcxrFH",
        "outputId": "b26fb7f6-38dd-4421-fce2-bcc97c16f378",
        "colab": {
          "base_uri": "https://localhost:8080/",
          "height": 279
        }
      },
      "source": [
        "df['churn'] = ['churned' if p < 0.99999999901 * 90.8 else 'not churned' for p in df['prob_alive']]\n",
        "sns.countplot(df['churn']);"
      ],
      "execution_count": null,
      "outputs": [
        {
          "output_type": "display_data",
          "data": {
            "image/png": "[encoded data removed]",
            "text/plain": [
              "<Figure size 432x288 with 1 Axes>"
            ]
          },
          "metadata": {
            "tags": [],
            "needs_background": "light"
          }
        }
      ]
    },
    {
      "cell_type": "markdown",
      "metadata": {
        "id": "HL1UoUKqTlNW"
      },
      "source": [
        "A little over 600 customers have churned, meaning that there's a lot of opportunity for improvement regarding retention.\n",
        "\n",
        "We can assume that the customers who have churned are already lost. But what is interesting in a business setting is the customers who are at high risk for churn, but haven't churned yet. Later on, it might still be a good idea to apply different treatments to the churned group.\n",
        "\n",
        "If we can identify them, maybe we can encourage the marketing team to target them with promotions."
      ]
    },
    {
      "cell_type": "code",
      "metadata": {
        "id": "khqyOy7tyRWr",
        "outputId": "2727f6cf-c781-4f21-be80-ff30e958ac83",
        "colab": {
          "base_uri": "https://localhost:8080/"
        }
      },
      "source": [
        "df['churn'][(df['prob_alive']>=.1) & (df['prob_alive']<.2)] = \"high risk\"\n",
        "df['churn'].value_counts()"
      ],
      "execution_count": null,
      "outputs": [
        {
          "output_type": "execute_result",
          "data": {
            "text/plain": [
              "not churned    2046\n",
              "churned         610\n",
              "Name: churn, dtype: int64"
            ]
          },
          "metadata": {
            "tags": []
          },
          "execution_count": 187
        }
      ]
    },
    {
      "cell_type": "code",
      "metadata": {
        "id": "U4abD3b2zCvI",
        "outputId": "2b86d541-ac28-45c1-d941-317f2f409e9f",
        "colab": {
          "base_uri": "https://localhost:8080/",
          "height": 235
        }
      },
      "source": [
        "df.head()"
      ],
      "execution_count": null,
      "outputs": [
        {
          "output_type": "execute_result",
          "data": {
            "text/html": [
              "<div>\n",
              "<style scoped>\n",
              "    .dataframe tbody tr th:only-of-type {\n",
              "        vertical-align: middle;\n",
              "    }\n",
              "\n",
              "    .dataframe tbody tr th {\n",
              "        vertical-align: top;\n",
              "    }\n",
              "\n",
              "    .dataframe thead th {\n",
              "        text-align: right;\n",
              "    }\n",
              "</style>\n",
              "<table border=\"1\" class=\"dataframe\">\n",
              "  <thead>\n",
              "    <tr style=\"text-align: right;\">\n",
              "      <th></th>\n",
              "      <th>frequency</th>\n",
              "      <th>recency</th>\n",
              "      <th>T</th>\n",
              "      <th>monetary_value</th>\n",
              "      <th>prob_alive</th>\n",
              "      <th>churn</th>\n",
              "    </tr>\n",
              "    <tr>\n",
              "      <th>CustomerID</th>\n",
              "      <th></th>\n",
              "      <th></th>\n",
              "      <th></th>\n",
              "      <th></th>\n",
              "      <th></th>\n",
              "      <th></th>\n",
              "    </tr>\n",
              "  </thead>\n",
              "  <tbody>\n",
              "    <tr>\n",
              "      <th>12347.0</th>\n",
              "      <td>0.261060</td>\n",
              "      <td>1.465495</td>\n",
              "      <td>1.063754</td>\n",
              "      <td>443.973333</td>\n",
              "      <td>1.0</td>\n",
              "      <td>churned</td>\n",
              "    </tr>\n",
              "    <tr>\n",
              "      <th>12348.0</th>\n",
              "      <td>-0.343452</td>\n",
              "      <td>-0.846122</td>\n",
              "      <td>0.974877</td>\n",
              "      <td>18.700000</td>\n",
              "      <td>NaN</td>\n",
              "      <td>not churned</td>\n",
              "    </tr>\n",
              "    <tr>\n",
              "      <th>12352.0</th>\n",
              "      <td>0.261060</td>\n",
              "      <td>0.513653</td>\n",
              "      <td>0.362616</td>\n",
              "      <td>150.423333</td>\n",
              "      <td>1.0</td>\n",
              "      <td>churned</td>\n",
              "    </tr>\n",
              "    <tr>\n",
              "      <th>12356.0</th>\n",
              "      <td>-0.494581</td>\n",
              "      <td>-1.118077</td>\n",
              "      <td>0.648996</td>\n",
              "      <td>267.860000</td>\n",
              "      <td>NaN</td>\n",
              "      <td>not churned</td>\n",
              "    </tr>\n",
              "    <tr>\n",
              "      <th>12358.0</th>\n",
              "      <td>-0.494581</td>\n",
              "      <td>-0.492580</td>\n",
              "      <td>-1.079161</td>\n",
              "      <td>509.160000</td>\n",
              "      <td>NaN</td>\n",
              "      <td>not churned</td>\n",
              "    </tr>\n",
              "  </tbody>\n",
              "</table>\n",
              "</div>"
            ],
            "text/plain": [
              "            frequency   recency  ...  prob_alive        churn\n",
              "CustomerID                       ...                         \n",
              "12347.0      0.261060  1.465495  ...         1.0      churned\n",
              "12348.0     -0.343452 -0.846122  ...         NaN  not churned\n",
              "12352.0      0.261060  0.513653  ...         1.0      churned\n",
              "12356.0     -0.494581 -1.118077  ...         NaN  not churned\n",
              "12358.0     -0.494581 -0.492580  ...         NaN  not churned\n",
              "\n",
              "[5 rows x 6 columns]"
            ]
          },
          "metadata": {
            "tags": []
          },
          "execution_count": 188
        }
      ]
    },
    {
      "cell_type": "code",
      "metadata": {
        "id": "lU1nyh5L-SCy"
      },
      "source": [
        ""
      ],
      "execution_count": null,
      "outputs": []
    }
  ]
}