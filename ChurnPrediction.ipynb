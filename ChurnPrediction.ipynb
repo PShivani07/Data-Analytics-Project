{
  "nbformat": 4,
  "nbformat_minor": 0,
  "metadata": {
    "colab": {
      "name": "ChurnPrediction.ipynb",
      "provenance": [],
      "collapsed_sections": [
        "j8lNbjVdf_Qi",
        "fSGiNKntgMvj",
        "kxt6FIfffxsp",
        "_Cgo2yJ_wbTo",
        "jqxsP56NaHcg",
        "1Xg7Hfyh_XwM",
        "WIOv_TP3DMs8",
        "o91nk9l-MdbJ"
      ],
      "toc_visible": true,
      "authorship_tag": "ABX9TyO0r6IyFDfQtdsY5H71JGb+",
      "include_colab_link": true
    },
    "kernelspec": {
      "name": "python3",
      "display_name": "Python 3"
    }
  },
  "cells": [
    {
      "cell_type": "markdown",
      "metadata": {
        "id": "view-in-github",
        "colab_type": "text"
      },
      "source": [
        "<a href=\"https://colab.research.google.com/github/saigirishgilly98/Data-Analytics-Project/blob/main/ChurnPrediction.ipynb\" target=\"_parent\"><img src=\"https://colab.research.google.com/assets/colab-badge.svg\" alt=\"Open In Colab\"/></a>"
      ]
    },
    {
      "cell_type": "markdown",
      "metadata": {
        "id": "PfEalNUUa60H"
      },
      "source": [
        "# <font color=\"purple\">**Churn prediction and Item recommendation on online retail dataset**</font>\n",
        "\n",
        "## **Problem Statement**:\n",
        "\n",
        "Given a transactional dataset, tasks to perform : <font color=\"blue\">Exploratory Data Analysis (EDA), Data pre-processing, Customer Segmentation, User profiling, Item recommendation for each users and churn prediction</font>"
      ]
    },
    {
      "cell_type": "markdown",
      "metadata": {
        "id": "j8lNbjVdf_Qi"
      },
      "source": [
        "# <font color=\"blue\">**Exploratory Data Analysis (EDA)**</font>"
      ]
    },
    {
      "cell_type": "code",
      "metadata": {
        "id": "xZC3XxrZXGvm"
      },
      "source": [
        "# Importing the required libraries\n",
        "import numpy as np\n",
        "import pandas as pd\n",
        "import matplotlib.pyplot as plt"
      ],
      "execution_count": 1,
      "outputs": []
    },
    {
      "cell_type": "code",
      "metadata": {
        "id": "IuM6XB3LcsJY",
        "outputId": "34a727f4-0333-4d40-fde0-129dd7b0ea9a",
        "colab": {
          "base_uri": "https://localhost:8080/",
          "height": 0
        }
      },
      "source": [
        "# Read the csv file into dataframe\n",
        "dataset = pd.read_csv('data.csv', encoding='unicode_escape')\n",
        "dataset.head(10) "
      ],
      "execution_count": 2,
      "outputs": [
        {
          "output_type": "execute_result",
          "data": {
            "text/html": [
              "<div>\n",
              "<style scoped>\n",
              "    .dataframe tbody tr th:only-of-type {\n",
              "        vertical-align: middle;\n",
              "    }\n",
              "\n",
              "    .dataframe tbody tr th {\n",
              "        vertical-align: top;\n",
              "    }\n",
              "\n",
              "    .dataframe thead th {\n",
              "        text-align: right;\n",
              "    }\n",
              "</style>\n",
              "<table border=\"1\" class=\"dataframe\">\n",
              "  <thead>\n",
              "    <tr style=\"text-align: right;\">\n",
              "      <th></th>\n",
              "      <th>InvoiceNo</th>\n",
              "      <th>StockCode</th>\n",
              "      <th>Description</th>\n",
              "      <th>Quantity</th>\n",
              "      <th>InvoiceDate</th>\n",
              "      <th>UnitPrice</th>\n",
              "      <th>CustomerID</th>\n",
              "      <th>Country</th>\n",
              "    </tr>\n",
              "  </thead>\n",
              "  <tbody>\n",
              "    <tr>\n",
              "      <th>0</th>\n",
              "      <td>536365</td>\n",
              "      <td>85123A</td>\n",
              "      <td>WHITE HANGING HEART T-LIGHT HOLDER</td>\n",
              "      <td>6</td>\n",
              "      <td>12/1/2010 8:26</td>\n",
              "      <td>2.55</td>\n",
              "      <td>17850.0</td>\n",
              "      <td>United Kingdom</td>\n",
              "    </tr>\n",
              "    <tr>\n",
              "      <th>1</th>\n",
              "      <td>536365</td>\n",
              "      <td>71053</td>\n",
              "      <td>WHITE METAL LANTERN</td>\n",
              "      <td>6</td>\n",
              "      <td>12/1/2010 8:26</td>\n",
              "      <td>3.39</td>\n",
              "      <td>17850.0</td>\n",
              "      <td>United Kingdom</td>\n",
              "    </tr>\n",
              "    <tr>\n",
              "      <th>2</th>\n",
              "      <td>536365</td>\n",
              "      <td>84406B</td>\n",
              "      <td>CREAM CUPID HEARTS COAT HANGER</td>\n",
              "      <td>8</td>\n",
              "      <td>12/1/2010 8:26</td>\n",
              "      <td>2.75</td>\n",
              "      <td>17850.0</td>\n",
              "      <td>United Kingdom</td>\n",
              "    </tr>\n",
              "    <tr>\n",
              "      <th>3</th>\n",
              "      <td>536365</td>\n",
              "      <td>84029G</td>\n",
              "      <td>KNITTED UNION FLAG HOT WATER BOTTLE</td>\n",
              "      <td>6</td>\n",
              "      <td>12/1/2010 8:26</td>\n",
              "      <td>3.39</td>\n",
              "      <td>17850.0</td>\n",
              "      <td>United Kingdom</td>\n",
              "    </tr>\n",
              "    <tr>\n",
              "      <th>4</th>\n",
              "      <td>536365</td>\n",
              "      <td>84029E</td>\n",
              "      <td>RED WOOLLY HOTTIE WHITE HEART.</td>\n",
              "      <td>6</td>\n",
              "      <td>12/1/2010 8:26</td>\n",
              "      <td>3.39</td>\n",
              "      <td>17850.0</td>\n",
              "      <td>United Kingdom</td>\n",
              "    </tr>\n",
              "    <tr>\n",
              "      <th>5</th>\n",
              "      <td>536365</td>\n",
              "      <td>22752</td>\n",
              "      <td>SET 7 BABUSHKA NESTING BOXES</td>\n",
              "      <td>2</td>\n",
              "      <td>12/1/2010 8:26</td>\n",
              "      <td>7.65</td>\n",
              "      <td>17850.0</td>\n",
              "      <td>United Kingdom</td>\n",
              "    </tr>\n",
              "    <tr>\n",
              "      <th>6</th>\n",
              "      <td>536365</td>\n",
              "      <td>21730</td>\n",
              "      <td>GLASS STAR FROSTED T-LIGHT HOLDER</td>\n",
              "      <td>6</td>\n",
              "      <td>12/1/2010 8:26</td>\n",
              "      <td>4.25</td>\n",
              "      <td>17850.0</td>\n",
              "      <td>United Kingdom</td>\n",
              "    </tr>\n",
              "    <tr>\n",
              "      <th>7</th>\n",
              "      <td>536366</td>\n",
              "      <td>22633</td>\n",
              "      <td>HAND WARMER UNION JACK</td>\n",
              "      <td>6</td>\n",
              "      <td>12/1/2010 8:28</td>\n",
              "      <td>1.85</td>\n",
              "      <td>17850.0</td>\n",
              "      <td>United Kingdom</td>\n",
              "    </tr>\n",
              "    <tr>\n",
              "      <th>8</th>\n",
              "      <td>536366</td>\n",
              "      <td>22632</td>\n",
              "      <td>HAND WARMER RED POLKA DOT</td>\n",
              "      <td>6</td>\n",
              "      <td>12/1/2010 8:28</td>\n",
              "      <td>1.85</td>\n",
              "      <td>17850.0</td>\n",
              "      <td>United Kingdom</td>\n",
              "    </tr>\n",
              "    <tr>\n",
              "      <th>9</th>\n",
              "      <td>536367</td>\n",
              "      <td>84879</td>\n",
              "      <td>ASSORTED COLOUR BIRD ORNAMENT</td>\n",
              "      <td>32</td>\n",
              "      <td>12/1/2010 8:34</td>\n",
              "      <td>1.69</td>\n",
              "      <td>13047.0</td>\n",
              "      <td>United Kingdom</td>\n",
              "    </tr>\n",
              "  </tbody>\n",
              "</table>\n",
              "</div>"
            ],
            "text/plain": [
              "  InvoiceNo StockCode  ... CustomerID         Country\n",
              "0    536365    85123A  ...    17850.0  United Kingdom\n",
              "1    536365     71053  ...    17850.0  United Kingdom\n",
              "2    536365    84406B  ...    17850.0  United Kingdom\n",
              "3    536365    84029G  ...    17850.0  United Kingdom\n",
              "4    536365    84029E  ...    17850.0  United Kingdom\n",
              "5    536365     22752  ...    17850.0  United Kingdom\n",
              "6    536365     21730  ...    17850.0  United Kingdom\n",
              "7    536366     22633  ...    17850.0  United Kingdom\n",
              "8    536366     22632  ...    17850.0  United Kingdom\n",
              "9    536367     84879  ...    13047.0  United Kingdom\n",
              "\n",
              "[10 rows x 8 columns]"
            ]
          },
          "metadata": {
            "tags": []
          },
          "execution_count": 2
        }
      ]
    },
    {
      "cell_type": "code",
      "metadata": {
        "id": "2K8DfkC6c98T",
        "outputId": "0ef54660-5f65-4fca-8c9a-ace8556d99ce",
        "colab": {
          "base_uri": "https://localhost:8080/",
          "height": 0
        }
      },
      "source": [
        "# Exploring number of observations and attributes\n",
        "dataset.shape"
      ],
      "execution_count": 3,
      "outputs": [
        {
          "output_type": "execute_result",
          "data": {
            "text/plain": [
              "(541909, 8)"
            ]
          },
          "metadata": {
            "tags": []
          },
          "execution_count": 3
        }
      ]
    },
    {
      "cell_type": "code",
      "metadata": {
        "id": "Za19FRgjdp9v",
        "outputId": "f92647b5-4e00-4c94-9a39-5eb395430d39",
        "colab": {
          "base_uri": "https://localhost:8080/",
          "height": 0
        }
      },
      "source": [
        "# Exploring names of the attributes\n",
        "dataset.columns"
      ],
      "execution_count": 4,
      "outputs": [
        {
          "output_type": "execute_result",
          "data": {
            "text/plain": [
              "Index(['InvoiceNo', 'StockCode', 'Description', 'Quantity', 'InvoiceDate',\n",
              "       'UnitPrice', 'CustomerID', 'Country'],\n",
              "      dtype='object')"
            ]
          },
          "metadata": {
            "tags": []
          },
          "execution_count": 4
        }
      ]
    },
    {
      "cell_type": "code",
      "metadata": {
        "id": "oj0xyHjNdrNa",
        "outputId": "7e8d0c77-187b-4d60-df64-99b33a81d0bb",
        "colab": {
          "base_uri": "https://localhost:8080/",
          "height": 0
        }
      },
      "source": [
        "# Exploring the types of the attributes\n",
        "dataset.dtypes"
      ],
      "execution_count": 5,
      "outputs": [
        {
          "output_type": "execute_result",
          "data": {
            "text/plain": [
              "InvoiceNo       object\n",
              "StockCode       object\n",
              "Description     object\n",
              "Quantity         int64\n",
              "InvoiceDate     object\n",
              "UnitPrice      float64\n",
              "CustomerID     float64\n",
              "Country         object\n",
              "dtype: object"
            ]
          },
          "metadata": {
            "tags": []
          },
          "execution_count": 5
        }
      ]
    },
    {
      "cell_type": "code",
      "metadata": {
        "id": "nXEe_JDKdtJd",
        "outputId": "1c06c947-b403-4416-c154-a2d84e05eceb",
        "colab": {
          "base_uri": "https://localhost:8080/",
          "height": 0
        }
      },
      "source": [
        "# Exploring the statistics of the numerical attributes\n",
        "dataset.describe()"
      ],
      "execution_count": 6,
      "outputs": [
        {
          "output_type": "execute_result",
          "data": {
            "text/html": [
              "<div>\n",
              "<style scoped>\n",
              "    .dataframe tbody tr th:only-of-type {\n",
              "        vertical-align: middle;\n",
              "    }\n",
              "\n",
              "    .dataframe tbody tr th {\n",
              "        vertical-align: top;\n",
              "    }\n",
              "\n",
              "    .dataframe thead th {\n",
              "        text-align: right;\n",
              "    }\n",
              "</style>\n",
              "<table border=\"1\" class=\"dataframe\">\n",
              "  <thead>\n",
              "    <tr style=\"text-align: right;\">\n",
              "      <th></th>\n",
              "      <th>Quantity</th>\n",
              "      <th>UnitPrice</th>\n",
              "      <th>CustomerID</th>\n",
              "    </tr>\n",
              "  </thead>\n",
              "  <tbody>\n",
              "    <tr>\n",
              "      <th>count</th>\n",
              "      <td>541909.000000</td>\n",
              "      <td>541909.000000</td>\n",
              "      <td>406829.000000</td>\n",
              "    </tr>\n",
              "    <tr>\n",
              "      <th>mean</th>\n",
              "      <td>9.552250</td>\n",
              "      <td>4.611114</td>\n",
              "      <td>15287.690570</td>\n",
              "    </tr>\n",
              "    <tr>\n",
              "      <th>std</th>\n",
              "      <td>218.081158</td>\n",
              "      <td>96.759853</td>\n",
              "      <td>1713.600303</td>\n",
              "    </tr>\n",
              "    <tr>\n",
              "      <th>min</th>\n",
              "      <td>-80995.000000</td>\n",
              "      <td>-11062.060000</td>\n",
              "      <td>12346.000000</td>\n",
              "    </tr>\n",
              "    <tr>\n",
              "      <th>25%</th>\n",
              "      <td>1.000000</td>\n",
              "      <td>1.250000</td>\n",
              "      <td>13953.000000</td>\n",
              "    </tr>\n",
              "    <tr>\n",
              "      <th>50%</th>\n",
              "      <td>3.000000</td>\n",
              "      <td>2.080000</td>\n",
              "      <td>15152.000000</td>\n",
              "    </tr>\n",
              "    <tr>\n",
              "      <th>75%</th>\n",
              "      <td>10.000000</td>\n",
              "      <td>4.130000</td>\n",
              "      <td>16791.000000</td>\n",
              "    </tr>\n",
              "    <tr>\n",
              "      <th>max</th>\n",
              "      <td>80995.000000</td>\n",
              "      <td>38970.000000</td>\n",
              "      <td>18287.000000</td>\n",
              "    </tr>\n",
              "  </tbody>\n",
              "</table>\n",
              "</div>"
            ],
            "text/plain": [
              "            Quantity      UnitPrice     CustomerID\n",
              "count  541909.000000  541909.000000  406829.000000\n",
              "mean        9.552250       4.611114   15287.690570\n",
              "std       218.081158      96.759853    1713.600303\n",
              "min    -80995.000000  -11062.060000   12346.000000\n",
              "25%         1.000000       1.250000   13953.000000\n",
              "50%         3.000000       2.080000   15152.000000\n",
              "75%        10.000000       4.130000   16791.000000\n",
              "max     80995.000000   38970.000000   18287.000000"
            ]
          },
          "metadata": {
            "tags": []
          },
          "execution_count": 6
        }
      ]
    },
    {
      "cell_type": "markdown",
      "metadata": {
        "id": "fSGiNKntgMvj"
      },
      "source": [
        "# <font color=\"blue\">**Data Pre-Processing**</font>"
      ]
    },
    {
      "cell_type": "markdown",
      "metadata": {
        "id": "kxt6FIfffxsp"
      },
      "source": [
        "## **Imputation**"
      ]
    },
    {
      "cell_type": "code",
      "metadata": {
        "id": "rb1jRfMddv4z",
        "outputId": "09893ab0-7b93-4d9c-fab4-bb7887230aae",
        "colab": {
          "base_uri": "https://localhost:8080/",
          "height": 0
        }
      },
      "source": [
        "# calculating number of missing values in each of the attributes\n",
        "dataset.isnull().sum()"
      ],
      "execution_count": 7,
      "outputs": [
        {
          "output_type": "execute_result",
          "data": {
            "text/plain": [
              "InvoiceNo           0\n",
              "StockCode           0\n",
              "Description      1454\n",
              "Quantity            0\n",
              "InvoiceDate         0\n",
              "UnitPrice           0\n",
              "CustomerID     135080\n",
              "Country             0\n",
              "dtype: int64"
            ]
          },
          "metadata": {
            "tags": []
          },
          "execution_count": 7
        }
      ]
    },
    {
      "cell_type": "code",
      "metadata": {
        "id": "-mnk3lzkg4wZ"
      },
      "source": [
        "# threshold to drop the observations if the proportion of null values is more than the threshold.\n",
        "threshold = 0.4"
      ],
      "execution_count": 8,
      "outputs": []
    },
    {
      "cell_type": "code",
      "metadata": {
        "id": "ipXb0e6Wh-GO",
        "outputId": "987b2bec-7cfd-468c-942d-ea3bd569bbd0",
        "colab": {
          "base_uri": "https://localhost:8080/",
          "height": 0
        }
      },
      "source": [
        "# proportion of null values in description attribute\n",
        "dataset['Description'].isnull().sum() / dataset.shape[0]"
      ],
      "execution_count": 9,
      "outputs": [
        {
          "output_type": "execute_result",
          "data": {
            "text/plain": [
              "0.002683107311375157"
            ]
          },
          "metadata": {
            "tags": []
          },
          "execution_count": 9
        }
      ]
    },
    {
      "cell_type": "markdown",
      "metadata": {
        "id": "KTtDHH5jincQ"
      },
      "source": [
        "The proportion of null values in `Description` attribute is less than the `threshold`, hence safe to drop the observations with null values."
      ]
    },
    {
      "cell_type": "code",
      "metadata": {
        "id": "_MBxBRbcikVw"
      },
      "source": [
        "# Dropping the observations with null values for Description attribute\n",
        "dataset.dropna(subset=['Description'], inplace=True)"
      ],
      "execution_count": 10,
      "outputs": []
    },
    {
      "cell_type": "code",
      "metadata": {
        "id": "q_aRPYq6i__k",
        "outputId": "171cd68f-1576-4bea-f9cb-d5e3fae6ea94",
        "colab": {
          "base_uri": "https://localhost:8080/",
          "height": 0
        }
      },
      "source": [
        "# Validation of the dropped observations with null values for Description attribute\n",
        "dataset['Description'].isnull().sum()"
      ],
      "execution_count": 11,
      "outputs": [
        {
          "output_type": "execute_result",
          "data": {
            "text/plain": [
              "0"
            ]
          },
          "metadata": {
            "tags": []
          },
          "execution_count": 11
        }
      ]
    },
    {
      "cell_type": "code",
      "metadata": {
        "id": "ZVVlRvCmjYNP",
        "outputId": "0327d5c3-19f0-4c0f-e1b8-030edf490692",
        "colab": {
          "base_uri": "https://localhost:8080/",
          "height": 0
        }
      },
      "source": [
        "# proportion of null values in CustomerID attribute\n",
        "dataset['CustomerID'].isnull().sum() / dataset.shape[0]"
      ],
      "execution_count": 12,
      "outputs": [
        {
          "output_type": "execute_result",
          "data": {
            "text/plain": [
              "0.24724722687365275"
            ]
          },
          "metadata": {
            "tags": []
          },
          "execution_count": 12
        }
      ]
    },
    {
      "cell_type": "markdown",
      "metadata": {
        "id": "ZmQSIsLIjse_"
      },
      "source": [
        "The proportion of null values in `CustomerID` attribute is less than the `threshold`, hence safe to drop the observations with null values.\n"
      ]
    },
    {
      "cell_type": "code",
      "metadata": {
        "id": "MU0mru4Qjoy_"
      },
      "source": [
        "# Dropping the observations with null values for customerID attribute\n",
        "dataset.dropna(subset=['CustomerID'], inplace=True)"
      ],
      "execution_count": 13,
      "outputs": []
    },
    {
      "cell_type": "code",
      "metadata": {
        "id": "L0y5xBmVnJSG",
        "outputId": "71f48132-86f4-4db4-f38d-2ca5f9d3530d",
        "colab": {
          "base_uri": "https://localhost:8080/",
          "height": 0
        }
      },
      "source": [
        "# Validation of the dropped observations with null values for CustomerID attribute\n",
        "dataset['CustomerID'].isnull().sum()"
      ],
      "execution_count": 14,
      "outputs": [
        {
          "output_type": "execute_result",
          "data": {
            "text/plain": [
              "0"
            ]
          },
          "metadata": {
            "tags": []
          },
          "execution_count": 14
        }
      ]
    },
    {
      "cell_type": "code",
      "metadata": {
        "id": "bmIW_UeknUEH",
        "outputId": "7f593ce6-b066-4eb4-c52d-a8e73b8b0465",
        "colab": {
          "base_uri": "https://localhost:8080/",
          "height": 0
        }
      },
      "source": [
        "# New shape of the dataset after dropping the observation with null values\n",
        "dataset.shape"
      ],
      "execution_count": 15,
      "outputs": [
        {
          "output_type": "execute_result",
          "data": {
            "text/plain": [
              "(406829, 8)"
            ]
          },
          "metadata": {
            "tags": []
          },
          "execution_count": 15
        }
      ]
    },
    {
      "cell_type": "code",
      "metadata": {
        "id": "GDY5SKQQngtg",
        "outputId": "c01797a9-72e7-4e86-80e4-97a4444bf6c5",
        "colab": {
          "base_uri": "https://localhost:8080/",
          "height": 0
        }
      },
      "source": [
        "# No attribute with null values\n",
        "dataset.isnull().sum()"
      ],
      "execution_count": 16,
      "outputs": [
        {
          "output_type": "execute_result",
          "data": {
            "text/plain": [
              "InvoiceNo      0\n",
              "StockCode      0\n",
              "Description    0\n",
              "Quantity       0\n",
              "InvoiceDate    0\n",
              "UnitPrice      0\n",
              "CustomerID     0\n",
              "Country        0\n",
              "dtype: int64"
            ]
          },
          "metadata": {
            "tags": []
          },
          "execution_count": 16
        }
      ]
    },
    {
      "cell_type": "markdown",
      "metadata": {
        "id": "NMbbcgoznrSj"
      },
      "source": [
        "## **Binning**"
      ]
    },
    {
      "cell_type": "code",
      "metadata": {
        "id": "M7gx3K6bnoNr",
        "outputId": "1505d39a-fd75-4ead-fcf5-56b5c101bb3f",
        "colab": {
          "base_uri": "https://localhost:8080/",
          "height": 0
        }
      },
      "source": [
        "# Obtaining the classes of Country categorical attribute \n",
        "dataset['Country'].unique()"
      ],
      "execution_count": 17,
      "outputs": [
        {
          "output_type": "execute_result",
          "data": {
            "text/plain": [
              "array(['United Kingdom', 'France', 'Australia', 'Netherlands', 'Germany',\n",
              "       'Norway', 'EIRE', 'Switzerland', 'Spain', 'Poland', 'Portugal',\n",
              "       'Italy', 'Belgium', 'Lithuania', 'Japan', 'Iceland',\n",
              "       'Channel Islands', 'Denmark', 'Cyprus', 'Sweden', 'Austria',\n",
              "       'Israel', 'Finland', 'Greece', 'Singapore', 'Lebanon',\n",
              "       'United Arab Emirates', 'Saudi Arabia', 'Czech Republic', 'Canada',\n",
              "       'Unspecified', 'Brazil', 'USA', 'European Community', 'Bahrain',\n",
              "       'Malta', 'RSA'], dtype=object)"
            ]
          },
          "metadata": {
            "tags": []
          },
          "execution_count": 17
        }
      ]
    },
    {
      "cell_type": "code",
      "metadata": {
        "id": "nILrcmxyn6kL",
        "outputId": "e9554b55-5c7a-4c2b-d03d-30a6771c16cf",
        "colab": {
          "base_uri": "https://localhost:8080/",
          "height": 0
        }
      },
      "source": [
        "# Obtaining the counts of each class of Country attribute\n",
        "dataset['Country'].value_counts()"
      ],
      "execution_count": 18,
      "outputs": [
        {
          "output_type": "execute_result",
          "data": {
            "text/plain": [
              "United Kingdom          361878\n",
              "Germany                   9495\n",
              "France                    8491\n",
              "EIRE                      7485\n",
              "Spain                     2533\n",
              "Netherlands               2371\n",
              "Belgium                   2069\n",
              "Switzerland               1877\n",
              "Portugal                  1480\n",
              "Australia                 1259\n",
              "Norway                    1086\n",
              "Italy                      803\n",
              "Channel Islands            758\n",
              "Finland                    695\n",
              "Cyprus                     622\n",
              "Sweden                     462\n",
              "Austria                    401\n",
              "Denmark                    389\n",
              "Japan                      358\n",
              "Poland                     341\n",
              "USA                        291\n",
              "Israel                     250\n",
              "Unspecified                244\n",
              "Singapore                  229\n",
              "Iceland                    182\n",
              "Canada                     151\n",
              "Greece                     146\n",
              "Malta                      127\n",
              "United Arab Emirates        68\n",
              "European Community          61\n",
              "RSA                         58\n",
              "Lebanon                     45\n",
              "Lithuania                   35\n",
              "Brazil                      32\n",
              "Czech Republic              30\n",
              "Bahrain                     17\n",
              "Saudi Arabia                10\n",
              "Name: Country, dtype: int64"
            ]
          },
          "metadata": {
            "tags": []
          },
          "execution_count": 18
        }
      ]
    },
    {
      "cell_type": "markdown",
      "metadata": {
        "id": "immcLne2oQ0n"
      },
      "source": [
        "Replacing the `Country` name class with `others` whose frequency is less than 100"
      ]
    },
    {
      "cell_type": "code",
      "metadata": {
        "id": "3Dpp0mxwoMwC"
      },
      "source": [
        "dataset['Country'] = dataset['Country'].replace(['United Arab Emirates', 'European Community', 'RSA', 'Lebanon', 'Lithuania', 'Brazil', 'Czech Republic', 'Bahrain', 'Saudi Arabia'], 'Others')"
      ],
      "execution_count": 19,
      "outputs": []
    },
    {
      "cell_type": "code",
      "metadata": {
        "id": "GDw2pkFdpJoM",
        "outputId": "d16b9f72-e543-474f-9173-21a4468241f2",
        "colab": {
          "base_uri": "https://localhost:8080/",
          "height": 0
        }
      },
      "source": [
        "# Obtaining the new counts of each class of Country attribute\n",
        "dataset['Country'].value_counts()"
      ],
      "execution_count": 20,
      "outputs": [
        {
          "output_type": "execute_result",
          "data": {
            "text/plain": [
              "United Kingdom     361878\n",
              "Germany              9495\n",
              "France               8491\n",
              "EIRE                 7485\n",
              "Spain                2533\n",
              "Netherlands          2371\n",
              "Belgium              2069\n",
              "Switzerland          1877\n",
              "Portugal             1480\n",
              "Australia            1259\n",
              "Norway               1086\n",
              "Italy                 803\n",
              "Channel Islands       758\n",
              "Finland               695\n",
              "Cyprus                622\n",
              "Sweden                462\n",
              "Austria               401\n",
              "Denmark               389\n",
              "Japan                 358\n",
              "Others                356\n",
              "Poland                341\n",
              "USA                   291\n",
              "Israel                250\n",
              "Unspecified           244\n",
              "Singapore             229\n",
              "Iceland               182\n",
              "Canada                151\n",
              "Greece                146\n",
              "Malta                 127\n",
              "Name: Country, dtype: int64"
            ]
          },
          "metadata": {
            "tags": []
          },
          "execution_count": 20
        }
      ]
    },
    {
      "cell_type": "markdown",
      "metadata": {
        "id": "VQUamq38pt1J"
      },
      "source": [
        "## **Removing and handling Outliers**\n",
        "\n",
        "Removing the outlier rows by using InterQuartile range"
      ]
    },
    {
      "cell_type": "code",
      "metadata": {
        "id": "RX5MgJFypTdv",
        "outputId": "1bbdccda-55a3-46e8-84a0-f677da4803f9",
        "colab": {
          "base_uri": "https://localhost:8080/",
          "height": 0
        }
      },
      "source": [
        "# Statistical description of Quantity attribute\n",
        "dataset['Quantity'].describe()"
      ],
      "execution_count": 21,
      "outputs": [
        {
          "output_type": "execute_result",
          "data": {
            "text/plain": [
              "count    406829.000000\n",
              "mean         12.061303\n",
              "std         248.693370\n",
              "min      -80995.000000\n",
              "25%           2.000000\n",
              "50%           5.000000\n",
              "75%          12.000000\n",
              "max       80995.000000\n",
              "Name: Quantity, dtype: float64"
            ]
          },
          "metadata": {
            "tags": []
          },
          "execution_count": 21
        }
      ]
    },
    {
      "cell_type": "code",
      "metadata": {
        "id": "zJrkMj5iqNWu",
        "outputId": "393efb79-74d2-4949-efb8-dd7f81269b06",
        "colab": {
          "base_uri": "https://localhost:8080/",
          "height": 0
        }
      },
      "source": [
        "# Obtaining q1, q3, iqr, upper and lower limits for Quantity attribute\n",
        "a = []\n",
        "a = np.sort(dataset['Quantity'])\n",
        "q1 = np.percentile(a, 25)\n",
        "q3 = np.percentile(a, 75)\n",
        "iqr = q3 - q1\n",
        "upper_lim = q3 + 1.5 * iqr\n",
        "lower_lim = q3 - 1.5 * iqr\n",
        "print(f'upper limit : {upper_lim}\\nlower limit : {lower_lim}')"
      ],
      "execution_count": 22,
      "outputs": [
        {
          "output_type": "stream",
          "text": [
            "upper limit : 27.0\n",
            "lower limit : -3.0\n"
          ],
          "name": "stdout"
        }
      ]
    },
    {
      "cell_type": "code",
      "metadata": {
        "id": "lt8SMkJZq66e"
      },
      "source": [
        "# Removing the outliers by filtering\n",
        "dataset = dataset[(dataset['Quantity'] < upper_lim) & (dataset['Quantity'] > lower_lim)]"
      ],
      "execution_count": 23,
      "outputs": []
    },
    {
      "cell_type": "code",
      "metadata": {
        "id": "o_SQVLRJrtCO",
        "outputId": "4c81f6f9-6d99-4511-975d-9bc4bffdb0d9",
        "colab": {
          "base_uri": "https://localhost:8080/",
          "height": 0
        }
      },
      "source": [
        "# Statistical description of UnitPrice attribute\n",
        "dataset['UnitPrice'].describe()"
      ],
      "execution_count": 24,
      "outputs": [
        {
          "output_type": "execute_result",
          "data": {
            "text/plain": [
              "count    377398.000000\n",
              "mean          3.601225\n",
              "std          71.955740\n",
              "min           0.000000\n",
              "25%           1.250000\n",
              "50%           1.950000\n",
              "75%           3.750000\n",
              "max       38970.000000\n",
              "Name: UnitPrice, dtype: float64"
            ]
          },
          "metadata": {
            "tags": []
          },
          "execution_count": 24
        }
      ]
    },
    {
      "cell_type": "code",
      "metadata": {
        "id": "t6eUSxlFr8v3",
        "outputId": "300edaa8-d60e-4663-ac29-ed0fbc3a5b2a",
        "colab": {
          "base_uri": "https://localhost:8080/",
          "height": 0
        }
      },
      "source": [
        "# Obtaining q1, q3, iqr, upper and lower limits for UnitPrice attribute\n",
        "a = []\n",
        "a = np.sort(dataset['UnitPrice'])\n",
        "q1 = np.percentile(a, 25)\n",
        "q3 = np.percentile(a, 75)\n",
        "iqr = q3 - q1\n",
        "upper_lim = q3 + 1.5 * iqr\n",
        "lower_lim = q3 - 1.5 * iqr\n",
        "print(f'upper limit : {upper_lim}\\nlower limit : {lower_lim}')"
      ],
      "execution_count": 25,
      "outputs": [
        {
          "output_type": "stream",
          "text": [
            "upper limit : 7.5\n",
            "lower limit : 0.0\n"
          ],
          "name": "stdout"
        }
      ]
    },
    {
      "cell_type": "code",
      "metadata": {
        "id": "gt01voCOuDIZ"
      },
      "source": [
        "# Removing the outliers by filtering\n",
        "dataset = dataset[(dataset['UnitPrice'] < upper_lim) & (dataset['UnitPrice'] > lower_lim)]"
      ],
      "execution_count": 26,
      "outputs": []
    },
    {
      "cell_type": "code",
      "metadata": {
        "id": "r4jdk3B6uOSm",
        "outputId": "5d1c9618-121d-414f-8acd-2ab522adfc43",
        "colab": {
          "base_uri": "https://localhost:8080/",
          "height": 0
        }
      },
      "source": [
        "# Obtaining the negative and 0 values of Quantity attribute\n",
        "a = []\n",
        "for i in dataset['Quantity']:\n",
        "  if i <= 0:\n",
        "    a.append(i)\n",
        "\n",
        "print(a)"
      ],
      "execution_count": 27,
      "outputs": [
        {
          "output_type": "stream",
          "text": [
            "[-1, -1, -2, -1, -1, -1, -2, -1, -1, -2, -1, -2, -1, -1, -1, -1, -1, -2, -1, -1, -1, -1, -1, -1, -1, -1, -2, -2, -1, -1, -1, -1, -1, -1, -1, -1, -1, -1, -1, -2, -1, -1, -1, -1, -1, -1, -1, -1, -2, -2, -1, -1, -1, -1, -1, -1, -1, -1, -1, -1, -1, -1, -1, -1, -1, -1, -1, -1, -1, -2, -1, -1, -1, -1, -1, -1, -1, -2, -2, -1, -1, -1, -1, -1, -2, -2, -1, -2, -1, -1, -2, -1, -1, -1, -1, -1, -2, -1, -1, -1, -1, -1, -1, -1, -1, -1, -1, -1, -2, -1, -1, -1, -1, -1, -1, -1, -1, -1, -2, -2, -1, -1, -2, -1, -1, -1, -1, -1, -1, -1, -1, -1, -1, -1, -1, -2, -2, -1, -2, -2, -1, -2, -1, -2, -1, -1, -1, -1, -2, -1, -1, -1, -2, -2, -2, -1, -1, -1, -1, -1, -1, -1, -2, -1, -1, -2, -2, -1, -1, -1, -1, -1, -1, -2, -1, -1, -1, -2, -1, -2, -1, -2, -1, -1, -2, -1, -1, -2, -1, -1, -1, -1, -1, -1, -1, -1, -1, -1, -2, -2, -1, -1, -1, -1, -1, -2, -1, -2, -1, -1, -2, -1, -1, -2, -1, -1, -1, -1, -1, -1, -1, -1, -1, -2, -1, -2, -2, -1, -2, -1, -1, -1, -2, -1, -2, -2, -2, -1, -1, -2, -1, -1, -1, -1, -1, -1, -1, -1, -2, -1, -1, -1, -1, -1, -1, -1, -1, -1, -1, -2, -1, -2, -1, -1, -1, -2, -2, -2, -2, -2, -1, -1, -1, -1, -1, -1, -1, -1, -1, -1, -1, -1, -1, -1, -1, -1, -1, -1, -2, -1, -1, -2, -1, -1, -2, -1, -1, -1, -1, -2, -1, -1, -1, -1, -1, -1, -2, -1, -1, -1, -1, -1, -1, -1, -2, -1, -1, -2, -1, -1, -1, -1, -1, -2, -1, -1, -2, -1, -1, -1, -1, -1, -1, -1, -1, -1, -1, -2, -1, -1, -1, -1, -2, -2, -2, -1, -1, -1, -1, -1, -1, -1, -2, -2, -2, -2, -1, -1, -1, -1, -1, -2, -2, -2, -1, -1, -1, -1, -1, -1, -1, -1, -1, -1, -1, -1, -1, -1, -1, -1, -2, -2, -1, -1, -1, -1, -1, -1, -1, -1, -1, -1, -1, -1, -1, -2, -1, -1, -2, -1, -2, -2, -2, -2, -1, -2, -1, -1, -2, -2, -1, -2, -1, -1, -1, -1, -1, -1, -2, -1, -1, -1, -1, -1, -1, -2, -1, -1, -1, -2, -1, -2, -2, -2, -1, -1, -1, -2, -2, -1, -2, -1, -2, -2, -1, -1, -1, -2, -1, -1, -2, -2, -1, -1, -2, -1, -1, -1, -2, -1, -1, -1, -1, -1, -1, -1, -1, -2, -2, -2, -1, -1, -1, -2, -2, -1, -1, -2, -2, -2, -1, -1, -2, -1, -1, -1, -1, -1, -2, -2, -1, -1, -1, -1, -2, -1, -1, -1, -1, -2, -2, -1, -1, -1, -1, -2, -2, -2, -1, -1, -1, -1, -2, -1, -1, -1, -1, -1, -1, -2, -2, -1, -2, -1, -1, -2, -1, -2, -1, -1, -2, -1, -1, -1, -2, -1, -1, -2, -1, -1, -2, -1, -1, -1, -1, -1, -1, -1, -1, -1, -1, -1, -2, -2, -1, -1, -1, -1, -1, -1, -2, -1, -2, -1, -1, -2, -2, -2, -2, -2, -2, -1, -2, -1, -1, -2, -2, -2, -1, -2, -2, -2, -1, -2, -2, -1, -1, -2, -1, -2, -1, -1, -1, -1, -1, -2, -2, -2, -1, -1, -1, -1, -1, -1, -1, -1, -2, -1, -1, -1, -1, -1, -1, -1, -1, -1, -2, -1, -1, -2, -1, -1, -2, -1, -2, -1, -1, -1, -1, -1, -1, -1, -2, -2, -1, -1, -1, -1, -2, -2, -2, -1, -1, -1, -1, -1, -1, -1, -1, -1, -1, -1, -1, -1, -1, -1, -1, -1, -1, -2, -1, -1, -2, -2, -2, -2, -2, -2, -2, -2, -2, -1, -1, -1, -1, -1, -2, -1, -1, -1, -1, -1, -2, -1, -1, -1, -1, -1, -1, -1, -1, -2, -2, -1, -2, -1, -1, -2, -2, -1, -2, -1, -2, -1, -1, -1, -1, -1, -1, -2, -1, -1, -1, -2, -1, -2, -1, -1, -1, -1, -1, -1, -2, -1, -1, -1, -2, -1, -1, -1, -1, -1, -1, -1, -1, -2, -1, -1, -1, -1, -1, -1, -1, -2, -2, -1, -1, -1, -1, -1, -2, -1, -1, -1, -1, -2, -2, -1, -2, -1, -1, -1, -1, -1, -1, -1, -1, -1, -1, -2, -1, -1, -1, -2, -1, -2, -1, -1, -1, -1, -1, -1, -2, -1, -1, -1, -1, -1, -1, -1, -2, -1, -1, -2, -2, -1, -2, -1, -1, -2, -1, -1, -1, -1, -2, -1, -1, -1, -1, -1, -1, -2, -1, -1, -1, -1, -1, -1, -1, -1, -1, -1, -1, -1, -1, -1, -1, -1, -1, -1, -1, -2, -1, -2, -1, -1, -1, -1, -2, -1, -1, -2, -1, -1, -2, -2, -2, -1, -1, -1, -1, -2, -1, -2, -1, -1, -1, -1, -1, -1, -1, -1, -1, -2, -1, -2, -1, -1, -1, -1, -1, -1, -1, -2, -2, -1, -1, -2, -2, -1, -1, -1, -1, -1, -1, -1, -2, -1, -1, -2, -2, -1, -1, -1, -1, -1, -1, -1, -1, -2, -1, -2, -1, -1, -1, -2, -1, -1, -1, -1, -1, -1, -1, -2, -1, -1, -1, -1, -1, -2, -1, -1, -1, -1, -2, -1, -1, -1, -1, -1, -1, -1, -1, -1, -2, -2, -1, -1, -2, -1, -1, -1, -2, -1, -1, -2, -2, -1, -1, -1, -1, -1, -1, -2, -1, -1, -1, -1, -1, -1, -1, -1, -2, -2, -1, -1, -2, -2, -1, -1, -1, -1, -1, -2, -1, -2, -1, -1, -1, -1, -2, -2, -1, -1, -1, -2, -2, -1, -1, -1, -2, -2, -2, -2, -2, -1, -1, -1, -1, -2, -1, -1, -1, -1, -1, -1, -1, -1, -2, -2, -1, -2, -1, -1, -2, -1, -1, -2, -2, -1, -1, -1, -2, -2, -1, -1, -1, -1, -1, -1, -1, -1, -1, -1, -1, -1, -1, -2, -1, -1, -1, -1, -1, -1, -1, -2, -2, -2, -1, -1, -2, -1, -2, -2, -1, -1, -1, -1, -1, -1, -1, -2, -1, -1, -1, -1, -2, -1, -1, -2, -1, -1, -1, -1, -1, -2, -1, -1, -1, -1, -1, -1, -1, -1, -1, -1, -1, -1, -1, -2, -1, -1, -1, -1, -1, -1, -2, -1, -1, -1, -1, -1, -1, -2, -1, -1, -1, -1, -2, -2, -2, -1, -2, -1, -1, -1, -1, -2, -1, -2, -1, -1, -2, -2, -1, -1, -1, -1, -1, -1, -1, -1, -1, -1, -2, -1, -1, -1, -1, -2, -2, -2, -2, -2, -1, -1, -1, -1, -1, -1, -1, -2, -1, -1, -1, -1, -1, -1, -2, -2, -1, -1, -1, -2, -2, -2, -1, -2, -1, -1, -1, -1, -1, -1, -1, -2, -2, -2, -2, -2, -2, -2, -1, -1, -1, -1, -2, -2, -2, -1, -1, -1, -1, -1, -1, -2, -2, -1, -1, -1, -1, -1, -1, -1, -1, -1, -1, -1, -1, -2, -2, -1, -1, -1, -1, -1, -1, -2, -1, -1, -1, -1, -1, -2, -1, -1, -1, -1, -1, -1, -1, -1, -1, -1, -1, -1, -1, -2, -2, -1, -1, -1, -1, -1, -2, -1, -1, -1, -2, -1, -1, -1, -1, -2, -1, -2, -2, -2, -2, -1, -1, -1, -2, -1, -1, -1, -1, -1, -2, -1, -1, -1, -2, -2, -2, -1, -2, -1, -1, -1, -1, -1, -1, -1, -1, -1, -1, -1, -1, -1, -2, -1, -1, -1, -1, -2, -2, -1, -1, -2, -1, -2, -1, -1, -1, -1, -1, -1, -1, -1, -1, -2, -1, -1, -2, -2, -1, -1, -1, -2, -1, -1, -2, -2, -1, -1, -1, -1, -1, -2, -1, -2, -1, -1, -2, -2, -1, -1, -1, -1, -2, -1, -1, -2, -1, -2, -1, -1, -1, -1, -2, -2, -1, -1, -1, -1, -1, -1, -1, -1, -1, -1, -1, -1, -1, -1, -1, -2, -1, -1, -1, -1, -1, -2, -1, -1, -1, -1, -1, -1, -1, -1, -2, -1, -1, -1, -1, -1, -2, -2, -2, -2, -2, -1, -1, -2, -1, -2, -1, -2, -2, -1, -1, -1, -1, -2, -1, -1, -1, -1, -2, -2, -2, -1, -1, -2, -2, -2, -2, -2, -1, -1, -1, -1, -1, -1, -1, -1, -1, -1, -1, -1, -2, -1, -1, -2, -1, -1, -1, -1, -2, -1, -1, -1, -1, -1, -1, -2, -1, -1, -2, -1, -1, -1, -2, -1, -1, -2, -1, -2, -1, -2, -1, -2, -1, -1, -1, -1, -2, -1, -1, -1, -1, -1, -2, -2, -1, -1, -1, -1, -1, -1, -1, -1, -1, -1, -1, -1, -2, -1, -1, -1, -1, -1, -2, -1, -1, -2, -2, -1, -1, -1, -2, -1, -1, -2, -1, -2, -2, -1, -1, -1, -1, -1, -1, -1, -1, -1, -1, -1, -1, -2, -1, -1, -1, -1, -1, -1, -2, -1, -1, -1, -1, -1, -2, -2, -1, -1, -1, -2, -2, -1, -2, -2, -1, -1, -2, -1, -1, -1, -1, -1, -1, -2, -2, -2, -1, -1, -1, -1, -1, -1, -1, -1, -1, -2, -1, -1, -1, -1, -2, -1, -1, -2, -1, -1, -1, -2, -1, -1, -1, -2, -2, -1, -1, -2, -1, -2, -1, -1, -1, -1, -1, -1, -1, -1, -1, -1, -1, -1, -1, -1, -1, -2, -1, -2, -1, -1, -2, -1, -2, -1, -2, -1, -1, -1, -1, -1, -1, -2, -1, -1, -1, -2, -1, -2, -2, -1, -1, -2, -1, -2, -1, -2, -2, -1, -1, -1, -1, -2, -2, -2, -1, -2, -1, -1, -2, -2, -1, -1, -1, -1, -1, -1, -1, -1, -1, -1, -1, -1, -2, -1, -1, -2, -1, -2, -2, -2, -1, -2, -1, -1, -1, -2, -1, -1, -2, -2, -1, -1, -2, -2, -2, -1, -1, -1, -1, -1, -1, -1, -2, -1, -1, -1, -1, -2, -1, -2, -2, -1, -2, -1, -1, -2, -1, -1, -1, -1, -2, -1, -2, -1, -1, -1, -1, -1, -2, -1, -2, -1, -1, -1, -1, -2, -1, -1, -1, -2, -1, -1, -2, -1, -1, -1, -1, -1, -1, -1, -2, -1, -1, -1, -1, -2, -1, -1, -2, -1, -1, -1, -2, -1, -1, -2, -1, -1, -2, -1, -1, -1, -1, -1, -2, -2, -1, -1, -1, -1, -1, -1, -2, -2, -1, -1, -1, -2, -2, -1, -1, -1, -1, -1, -2, -2, -1, -2, -1, -1, -1, -2, -1, -1, -1, -1, -1, -2, -2, -1, -1, -1, -2, -1, -1, -1, -1, -1, -1, -1, -1, -1, -1, -1, -2, -1, -2, -2, -1, -1, -1, -1, -2, -2, -1, -2, -1, -2, -1, -1, -2, -1, -1, -1, -1, -1, -1, -1, -1, -1, -1, -1, -1, -1, -1, -1, -1, -1, -1, -2, -2, -1, -1, -1, -1, -1, -2, -1, -2, -1, -2, -2, -1, -1, -1, -1, -1, -1, -1, -1, -1, -1, -2, -1, -1, -1, -1, -1, -1, -1, -2, -1, -1, -1, -2, -1, -2, -2, -1, -1, -2, -1, -1, -1, -1, -1, -1, -1, -2, -1, -1, -1, -1, -1, -2, -1, -2, -1, -1, -1, -1, -1, -1, -2, -2, -2, -1, -1, -2, -1, -2, -1, -1, -1, -1, -2, -1, -1, -1, -1, -2, -2, -2, -2, -1, -1, -1, -1, -1, -1, -1, -1, -2, -1, -2, -2, -1, -2, -1, -1, -2, -2, -1, -2, -1, -2, -1, -1, -1, -1, -1, -1, -1, -1, -2, -2, -2, -2, -1, -1, -1, -2, -2, -2, -2, -2, -1, -1, -1, -1, -1, -1, -1, -1, -1, -1, -1, -1, -1, -1, -1, -1, -1, -1, -1, -1, -1, -1, -1, -1, -1, -1, -1, -1, -1, -1, -1, -1, -1, -1, -1, -1, -1, -1, -1, -1, -1, -1, -1, -1, -1, -1, -1, -1, -2, -2, -1, -1, -2, -1, -1, -2, -1, -2, -1, -1, -2, -1, -1, -2, -1, -1, -2, -1, -1, -1, -1, -1, -2, -2, -2, -1, -1, -1, -1, -1, -1, -1, -1, -2, -2, -2, -1, -2, -1, -2, -1, -1, -2, -1, -1, -1, -1, -2, -1, -1, -1, -1, -1, -1, -1, -1, -1, -1, -1, -1, -1, -1, -1, -1, -1, -1, -1, -1, -1, -1, -2, -1, -1, -1, -1, -1, -1, -1, -1, -1, -1, -1, -2, -1, -2, -1, -1, -1, -1, -1, -1, -1, -2, -1, -2, -2, -2, -1, -1, -1, -1, -1, -2, -1, -1, -2, -1, -1, -1, -1, -1, -1, -1, -1, -1, -1, -1, -2, -1, -1, -1, -1, -2, -1, -1, -2, -1, -2, -1, -1, -1, -1, -1, -1, -1, -1, -1, -1, -1, -1, -1, -2, -1, -1, -2, -1, -2, -1, -1, -2, -2, -1, -1, -1, -1, -1, -1, -1, -2, -1, -1, -1, -1, -1, -1, -1, -1, -1, -1, -1, -1, -1, -1, -1, -1, -1, -1, -2, -1, -1, -1, -1, -1, -1, -2, -1, -2, -2, -1, -2, -2, -2, -1, -1, -2, -2, -1, -1, -1, -1, -2, -2, -1, -1, -2, -1, -2, -2, -1, -1, -1, -1, -1, -1, -1, -1, -1, -1, -2, -1, -1, -1, -1, -1, -1, -1, -1, -1, -1, -1, -1, -1, -1, -1, -1, -1, -1, -1, -2, -1, -1, -1, -1, -1, -1, -1, -1, -1, -1, -1, -1, -1, -1, -1, -1, -1, -1, -2, -1, -1, -1, -1, -1, -1, -1, -1, -2, -1, -1, -1, -2, -2, -2, -1, -1, -1, -1, -2, -1, -1, -1, -1, -1, -1, -1, -1, -2, -2, -1, -1, -1, -1, -2, -1, -2, -1, -1, -1, -1, -1, -1, -1, -2, -2, -1, -1, -1, -1, -1, -1, -1, -1, -1, -1, -2, -1, -1, -1, -2, -1, -2, -1, -2, -1, -1, -1, -1, -1, -1, -1, -2, -1, -1, -1, -1, -1, -1, -1, -1, -2, -1, -2, -1, -1, -1, -1, -1, -1, -1, -2, -1, -1, -1, -1, -2, -1, -2, -1, -1, -1, -1, -1, -1, -1, -1, -1, -1, -1, -1, -2, -1, -2, -2, -1, -1, -1, -1, -2, -1, -1, -2, -1, -1, -1, -2, -1, -1, -2, -1, -2, -2, -1, -1, -1, -1, -1, -1, -1, -1, -2, -1, -2, -1, -1, -1, -1, -1, -1, -1, -2, -1, -2, -1, -1, -1, -1, -1, -2, -1, -1, -1, -1, -1, -2, -2, -2, -1, -2, -1, -1, -1, -1, -2, -1, -1, -2, -1, -2, -1, -1, -1, -1, -1, -2, -2, -2, -2, -1, -1, -1, -1, -1, -1, -1, -1, -1, -1, -1, -1, -1, -1, -2, -1, -1, -1, -1, -1, -1, -1, -1, -1, -2, -1, -1, -2, -1, -1, -1, -2, -2, -1, -2, -1, -1, -2, -1, -2, -1, -2, -1, -1, -1, -1, -2, -1, -1, -1, -1, -2, -2, -1, -1, -1, -1, -2, -2, -1, -1, -1, -1, -1, -1, -1, -1, -2, -1, -2, -1, -1, -2, -1, -1, -1, -1, -1, -1, -1, -1, -1, -1, -2, -1, -1, -1, -1, -2, -1, -1, -1, -1, -1, -2, -1, -2, -2, -1, -1, -1, -1, -1, -1, -1, -1, -1, -2, -1, -1, -1, -1, -1, -2, -1, -1, -2, -1, -1, -1, -1, -1, -1, -1, -1, -1, -1, -1, -1, -1, -1, -1, -1, -2, -2, -1, -1, -1, -1, -2, -1, -1, -1, -1, -2, -1, -1, -2, -2, -1, -1, -1, -1, -1, -1, -1, -1, -2, -1, -2, -2, -2, -2, -1, -2, -1, -1, -1, -1, -2, -1, -2, -2, -1, -2, -1, -1, -1, -1, -1, -1, -2, -2, -1, -1, -1, -1, -1, -1, -1, -1, -1, -2, -1, -2, -1, -1, -1, -2, -2, -2, -2, -2, -1, -1, -1, -1, -1, -1, -1, -2, -1, -1, -2, -1, -1, -1, -1, -1, -1, -1, -1, -2, -2, -2, -1, -1, -1, -1, -1, -1, -1, -1, -1, -1, -1, -2, -1, -1, -2, -1, -1, -1, -1, -2, -1, -1, -1, -1, -2, -2, -1, -2, -2, -1, -1, -1, -2, -1, -1, -1, -1, -1, -1, -1, -1, -2, -1, -1, -1, -1, -2, -2, -1, -1, -2, -2, -1, -2, -1, -1, -2, -2, -1, -1, -2, -1, -1, -1, -1, -1, -1, -2, -2, -1, -2, -1, -1, -1, -1, -2, -1, -1, -1, -2, -2, -2, -1, -1, -1, -2, -1, -2, -2, -2, -2, -1, -2, -1, -1, -1, -2, -2, -1, -1, -1, -1, -1, -2, -2, -1, -1, -2, -1, -2, -1, -2, -2, -2, -2, -1, -1, -2, -2, -1, -1, -1, -1, -1, -1, -2, -2, -1, -1, -2, -1, -1, -2, -1, -1, -1, -1, -1, -1, -1, -2, -2, -1, -1, -2, -2, -1, -2, -1, -1, -2, -1, -1, -2, -2, -2, -2, -1, -1, -2, -2, -2, -1, -1, -1, -1, -2, -1, -1, -1, -2, -1, -2, -2, -2, -1, -1, -2, -2, -1, -2, -1, -1, -1, -1, -1, -1, -2, -1, -2, -1, -1, -1, -2, -1, -2, -1, -1, -1, -2, -2, -1, -1, -2, -1, -1, -1, -1, -1, -1, -2, -2, -1, -1, -1, -2, -1, -2, -2, -1, -1, -2, -1, -2, -1, -2, -1, -2, -1, -1, -1, -1, -1, -1, -2, -2, -1, -2, -1, -1, -2, -1, -1, -1, -2, -1, -1, -1, -1, -1, -2, -2, -2, -1, -1, -1, -2, -1, -2, -2, -1, -1, -2, -1, -2, -2, -1, -1, -1, -1, -2, -2, -1, -1, -1, -2, -1, -2, -1, -1, -1, -1, -2, -1, -2, -1, -2, -1, -1, -2, -1, -2, -2, -1, -1, -1, -1, -2, -1, -1, -1, -2, -1, -1, -1, -2, -1, -2, -1, -1, -1, -1, -1, -1, -1, -1, -1, -1, -1, -1, -1, -2, -2, -2, -2, -1, -1, -1, -2, -2, -2, -2, -1, -1, -1, -1, -1, -2, -1, -1, -2, -1, -1, -1, -2, -1, -1, -1, -1, -2, -1, -2, -1, -1, -1, -2, -1, -2, -1, -2, -2, -2, -1, -2, -1, -1, -1, -2, -2, -1, -1, -1, -1, -1, -1, -1, -1, -2, -1, -1, -1, -1, -1, -1, -1, -1, -2, -1, -2, -1, -1, -1, -1, -2, -1, -2, -1, -2, -1, -1, -1, -1, -2, -1, -2, -2, -1, -2, -1, -1, -1, -2, -1, -1, -1, -1, -1, -2, -1, -1, -1, -1, -1, -1, -1, -1, -2, -1, -1, -1, -1, -1, -2, -2, -1, -2, -2, -2, -2, -1, -2, -1, -1, -1, -1, -2, -2, -2, -2, -2, -2, -1, -1, -1, -1, -1, -1, -2, -2, -1, -1, -1, -2, -1, -1, -1, -1, -1, -1, -1, -1, -1, -1, -1, -1, -1, -1, -1, -1, -1, -1, -1, -2, -1, -1, -1, -1, -1, -2, -1, -1, -1, -2, -1, -1, -1, -1, -1, -2, -2, -1, -1, -1, -1, -2, -1, -1, -2, -1, -1, -1, -1, -1, -1, -1, -1, -2, -1, -1, -1, -1, -2, -1, -1, -1, -1, -1, -2, -1, -1, -1, -1, -1, -2, -1, -1, -1, -1, -2, -2, -1, -1, -1, -1, -2, -1, -1, -2, -1, -2, -2, -1, -1, -1, -1, -1, -1, -1, -1, -1, -1, -1, -1, -1, -1, -1, -2, -2, -2, -2, -2, -1, -1, -1, -1, -2, -1, -1, -1, -1, -1, -2, -2, -1, -1, -1, -1, -1, -1, -1, -1, -1, -2, -1, -1, -1, -1, -2, -1, -2, -2, -2, -1, -1, -2, -1, -1, -1, -1, -1, -2, -1, -1, -1, -1, -1, -2, -1, -1, -2, -1, -1, -1, -1, -1, -1, -2, -2, -1, -1, -1, -2, -1, -1, -1, -2, -1, -1, -1, -1, -1, -2, -2, -2, -2, -2, -2, -1, -2, -2, -1, -1, -1, -1, -1, -1, -2, -1, -1, -1, -1, -2, -1, -1, -1, -1, -1, -2, -1, -1, -1, -1, -2, -1, -2, -1, -1, -1, -1, -1, -1, -1, -1, -1, -2, -1, -1, -2, -1, -1, -2, -1, -1, -1, -2, -2, -1, -1, -1, -1, -1, -1, -1, -2, -1, -1, -2, -2, -1, -1, -1, -2, -1, -1, -1, -1, -1, -2, -2, -2, -1, -2, -1, -2, -2, -2, -2, -1, -1, -2, -1, -1, -1, -1, -1, -1, -1, -1, -2, -2, -2, -1, -1, -1, -1, -1, -1, -1, -1, -1, -1, -1, -1, -1, -2, -2, -2, -2, -2, -1, -1, -1, -2, -1, -1, -1, -1, -1, -1, -1, -1, -2, -1, -2, -1, -1, -1, -1, -1, -1, -1, -1, -1, -1, -2, -2, -1, -1, -1, -1, -1, -1, -2, -1, -1, -1, -1, -2, -2, -1, -1, -2, -1, -1, -1, -2, -2, -2, -1, -1, -1, -1, -1, -1, -1, -2, -2, -2, -1, -2, -1, -1, -1, -1, -1, -1, -1, -1, -1, -1, -1, -1, -1, -1, -2, -1, -1, -2, -1, -2, -1, -1, -2, -1, -1, -1, -1, -1, -1, -1, -2, -1, -1, -2, -1, -1, -1, -1, -1, -1, -1, -1, -2, -2, -1, -1, -1, -1, -1, -1, -1, -1, -2, -1, -1, -1, -1, -1, -2, -1, -1, -2, -2, -1, -1, -2, -1, -1, -1, -2, -2, -1, -1, -1, -2, -2, -1, -1, -1, -1, -2, -2, -1, -2, -1, -1, -1, -1, -2, -2, -1, -1, -1, -1, -1, -1, -1, -1, -1, -2, -1, -1, -1, -2, -1, -1, -1, -1, -1, -2, -1, -1, -1, -2, -1, -1, -1, -1, -1, -1, -1, -1, -1, -1, -1, -1, -2, -2, -1, -1, -1, -2, -1, -1, -1, -1, -1, -1, -1, -1, -1, -2, -1, -1, -1, -1, -2, -1, -1, -1, -1, -1, -1, -1, -2, -1, -1, -1, -1, -1, -1, -1, -1, -2, -2, -1, -2, -1, -1, -1, -1, -1, -1, -1, -1, -2, -1, -2, -1, -1, -1, -2, -1, -1, -2, -2, -1, -2, -1, -1]\n"
          ],
          "name": "stdout"
        }
      ]
    },
    {
      "cell_type": "code",
      "metadata": {
        "id": "QBx0h7KAumEp"
      },
      "source": [
        "# Excluding negative quantity and 0 valued observations\n",
        "dataset = dataset[dataset['Quantity'] > 0]"
      ],
      "execution_count": 28,
      "outputs": []
    },
    {
      "cell_type": "code",
      "metadata": {
        "id": "5i1Szs7zpv4M",
        "outputId": "4af48769-a5d2-48ce-8866-0ccf5eb262b0",
        "colab": {
          "base_uri": "https://localhost:8080/",
          "height": 0
        }
      },
      "source": [
        "# Obtaining the negative and 0 values of UnitPrice attribute\n",
        "b = []\n",
        "for i in dataset['UnitPrice']:\n",
        "  if i <= 0:\n",
        "    b.append(i)\n",
        "print(b)"
      ],
      "execution_count": 29,
      "outputs": [
        {
          "output_type": "stream",
          "text": [
            "[]\n"
          ],
          "name": "stdout"
        }
      ]
    },
    {
      "cell_type": "code",
      "metadata": {
        "id": "bkmdUMt2qH4N"
      },
      "source": [
        "# Excluding negative quantity and 0 valued observations\n",
        "dataset = dataset[dataset['UnitPrice'] > 0]"
      ],
      "execution_count": 30,
      "outputs": []
    },
    {
      "cell_type": "code",
      "metadata": {
        "id": "52pwxZE8qR6H",
        "outputId": "10953432-29c6-4f20-ac90-24e89797fbbf",
        "colab": {
          "base_uri": "https://localhost:8080/",
          "height": 0
        }
      },
      "source": [
        "# New shape of the dataset\n",
        "dataset.shape"
      ],
      "execution_count": 31,
      "outputs": [
        {
          "output_type": "execute_result",
          "data": {
            "text/plain": [
              "(337527, 8)"
            ]
          },
          "metadata": {
            "tags": []
          },
          "execution_count": 31
        }
      ]
    },
    {
      "cell_type": "markdown",
      "metadata": {
        "id": "A36NzJd0qcKp"
      },
      "source": [
        "## **Log Transformation**"
      ]
    },
    {
      "cell_type": "code",
      "metadata": {
        "id": "yTJJNvl9qW_A"
      },
      "source": [
        "# Applying log transformation on Quantity and UnitPrice attributes\n",
        "dataset['Log_Transformed_Quantity'] = dataset['Quantity'].transform(np.log1p)\n",
        "dataset['Log_Transformed_UnitPrice'] = dataset['UnitPrice'].transform(np.log1p)"
      ],
      "execution_count": 32,
      "outputs": []
    },
    {
      "cell_type": "code",
      "metadata": {
        "id": "g8_-dKtArKgU",
        "outputId": "3d9618b7-f91d-4f7b-f76c-f0449ee1ae20",
        "colab": {
          "base_uri": "https://localhost:8080/",
          "height": 0
        }
      },
      "source": [
        "# Exploring the dataset after transformations\n",
        "dataset.head(10)"
      ],
      "execution_count": 33,
      "outputs": [
        {
          "output_type": "execute_result",
          "data": {
            "text/html": [
              "<div>\n",
              "<style scoped>\n",
              "    .dataframe tbody tr th:only-of-type {\n",
              "        vertical-align: middle;\n",
              "    }\n",
              "\n",
              "    .dataframe tbody tr th {\n",
              "        vertical-align: top;\n",
              "    }\n",
              "\n",
              "    .dataframe thead th {\n",
              "        text-align: right;\n",
              "    }\n",
              "</style>\n",
              "<table border=\"1\" class=\"dataframe\">\n",
              "  <thead>\n",
              "    <tr style=\"text-align: right;\">\n",
              "      <th></th>\n",
              "      <th>InvoiceNo</th>\n",
              "      <th>StockCode</th>\n",
              "      <th>Description</th>\n",
              "      <th>Quantity</th>\n",
              "      <th>InvoiceDate</th>\n",
              "      <th>UnitPrice</th>\n",
              "      <th>CustomerID</th>\n",
              "      <th>Country</th>\n",
              "      <th>Log_Transformed_Quantity</th>\n",
              "      <th>Log_Transformed_UnitPrice</th>\n",
              "    </tr>\n",
              "  </thead>\n",
              "  <tbody>\n",
              "    <tr>\n",
              "      <th>0</th>\n",
              "      <td>536365</td>\n",
              "      <td>85123A</td>\n",
              "      <td>WHITE HANGING HEART T-LIGHT HOLDER</td>\n",
              "      <td>6</td>\n",
              "      <td>12/1/2010 8:26</td>\n",
              "      <td>2.55</td>\n",
              "      <td>17850.0</td>\n",
              "      <td>United Kingdom</td>\n",
              "      <td>1.945910</td>\n",
              "      <td>1.266948</td>\n",
              "    </tr>\n",
              "    <tr>\n",
              "      <th>1</th>\n",
              "      <td>536365</td>\n",
              "      <td>71053</td>\n",
              "      <td>WHITE METAL LANTERN</td>\n",
              "      <td>6</td>\n",
              "      <td>12/1/2010 8:26</td>\n",
              "      <td>3.39</td>\n",
              "      <td>17850.0</td>\n",
              "      <td>United Kingdom</td>\n",
              "      <td>1.945910</td>\n",
              "      <td>1.479329</td>\n",
              "    </tr>\n",
              "    <tr>\n",
              "      <th>2</th>\n",
              "      <td>536365</td>\n",
              "      <td>84406B</td>\n",
              "      <td>CREAM CUPID HEARTS COAT HANGER</td>\n",
              "      <td>8</td>\n",
              "      <td>12/1/2010 8:26</td>\n",
              "      <td>2.75</td>\n",
              "      <td>17850.0</td>\n",
              "      <td>United Kingdom</td>\n",
              "      <td>2.197225</td>\n",
              "      <td>1.321756</td>\n",
              "    </tr>\n",
              "    <tr>\n",
              "      <th>3</th>\n",
              "      <td>536365</td>\n",
              "      <td>84029G</td>\n",
              "      <td>KNITTED UNION FLAG HOT WATER BOTTLE</td>\n",
              "      <td>6</td>\n",
              "      <td>12/1/2010 8:26</td>\n",
              "      <td>3.39</td>\n",
              "      <td>17850.0</td>\n",
              "      <td>United Kingdom</td>\n",
              "      <td>1.945910</td>\n",
              "      <td>1.479329</td>\n",
              "    </tr>\n",
              "    <tr>\n",
              "      <th>4</th>\n",
              "      <td>536365</td>\n",
              "      <td>84029E</td>\n",
              "      <td>RED WOOLLY HOTTIE WHITE HEART.</td>\n",
              "      <td>6</td>\n",
              "      <td>12/1/2010 8:26</td>\n",
              "      <td>3.39</td>\n",
              "      <td>17850.0</td>\n",
              "      <td>United Kingdom</td>\n",
              "      <td>1.945910</td>\n",
              "      <td>1.479329</td>\n",
              "    </tr>\n",
              "    <tr>\n",
              "      <th>6</th>\n",
              "      <td>536365</td>\n",
              "      <td>21730</td>\n",
              "      <td>GLASS STAR FROSTED T-LIGHT HOLDER</td>\n",
              "      <td>6</td>\n",
              "      <td>12/1/2010 8:26</td>\n",
              "      <td>4.25</td>\n",
              "      <td>17850.0</td>\n",
              "      <td>United Kingdom</td>\n",
              "      <td>1.945910</td>\n",
              "      <td>1.658228</td>\n",
              "    </tr>\n",
              "    <tr>\n",
              "      <th>7</th>\n",
              "      <td>536366</td>\n",
              "      <td>22633</td>\n",
              "      <td>HAND WARMER UNION JACK</td>\n",
              "      <td>6</td>\n",
              "      <td>12/1/2010 8:28</td>\n",
              "      <td>1.85</td>\n",
              "      <td>17850.0</td>\n",
              "      <td>United Kingdom</td>\n",
              "      <td>1.945910</td>\n",
              "      <td>1.047319</td>\n",
              "    </tr>\n",
              "    <tr>\n",
              "      <th>8</th>\n",
              "      <td>536366</td>\n",
              "      <td>22632</td>\n",
              "      <td>HAND WARMER RED POLKA DOT</td>\n",
              "      <td>6</td>\n",
              "      <td>12/1/2010 8:28</td>\n",
              "      <td>1.85</td>\n",
              "      <td>17850.0</td>\n",
              "      <td>United Kingdom</td>\n",
              "      <td>1.945910</td>\n",
              "      <td>1.047319</td>\n",
              "    </tr>\n",
              "    <tr>\n",
              "      <th>10</th>\n",
              "      <td>536367</td>\n",
              "      <td>22745</td>\n",
              "      <td>POPPY'S PLAYHOUSE BEDROOM</td>\n",
              "      <td>6</td>\n",
              "      <td>12/1/2010 8:34</td>\n",
              "      <td>2.10</td>\n",
              "      <td>13047.0</td>\n",
              "      <td>United Kingdom</td>\n",
              "      <td>1.945910</td>\n",
              "      <td>1.131402</td>\n",
              "    </tr>\n",
              "    <tr>\n",
              "      <th>11</th>\n",
              "      <td>536367</td>\n",
              "      <td>22748</td>\n",
              "      <td>POPPY'S PLAYHOUSE KITCHEN</td>\n",
              "      <td>6</td>\n",
              "      <td>12/1/2010 8:34</td>\n",
              "      <td>2.10</td>\n",
              "      <td>13047.0</td>\n",
              "      <td>United Kingdom</td>\n",
              "      <td>1.945910</td>\n",
              "      <td>1.131402</td>\n",
              "    </tr>\n",
              "  </tbody>\n",
              "</table>\n",
              "</div>"
            ],
            "text/plain": [
              "   InvoiceNo StockCode  ... Log_Transformed_Quantity  Log_Transformed_UnitPrice\n",
              "0     536365    85123A  ...                 1.945910                   1.266948\n",
              "1     536365     71053  ...                 1.945910                   1.479329\n",
              "2     536365    84406B  ...                 2.197225                   1.321756\n",
              "3     536365    84029G  ...                 1.945910                   1.479329\n",
              "4     536365    84029E  ...                 1.945910                   1.479329\n",
              "6     536365     21730  ...                 1.945910                   1.658228\n",
              "7     536366     22633  ...                 1.945910                   1.047319\n",
              "8     536366     22632  ...                 1.945910                   1.047319\n",
              "10    536367     22745  ...                 1.945910                   1.131402\n",
              "11    536367     22748  ...                 1.945910                   1.131402\n",
              "\n",
              "[10 rows x 10 columns]"
            ]
          },
          "metadata": {
            "tags": []
          },
          "execution_count": 33
        }
      ]
    },
    {
      "cell_type": "markdown",
      "metadata": {
        "id": "seWIZgcfrR2c"
      },
      "source": [
        "## **Scaling**"
      ]
    },
    {
      "cell_type": "markdown",
      "metadata": {
        "id": "m2Ta-6NbrfLp"
      },
      "source": [
        "### 1. Normalization"
      ]
    },
    {
      "cell_type": "code",
      "metadata": {
        "id": "HvWfPNdyrPfn"
      },
      "source": [
        "dataset['Normalized_Quantity'] = (dataset['Quantity'] - dataset['Quantity'].min()) / (dataset['Quantity'].max() - dataset['Quantity'].min())\n",
        "\n",
        "dataset['Normalized_UnitPrice'] = (dataset['UnitPrice'] - dataset['UnitPrice'].min()) / (dataset['UnitPrice'].max() - dataset['UnitPrice'].min()) "
      ],
      "execution_count": 34,
      "outputs": []
    },
    {
      "cell_type": "markdown",
      "metadata": {
        "id": "ur_WQKMZsR6s"
      },
      "source": [
        "### 2. Standardization"
      ]
    },
    {
      "cell_type": "code",
      "metadata": {
        "id": "FTFYJsv7sQqH"
      },
      "source": [
        "dataset['Standardized_Quantity'] = (dataset['Quantity'] - dataset['Quantity'].mean()) / dataset['Quantity'].std()\n",
        "\n",
        "dataset['Standardized_UnitPrice'] = (dataset['UnitPrice'] - dataset['UnitPrice'].mean()) / dataset['UnitPrice'].std()"
      ],
      "execution_count": 35,
      "outputs": []
    },
    {
      "cell_type": "code",
      "metadata": {
        "id": "yCiCvxEks0Dy",
        "outputId": "0aa55365-d576-436f-d670-4398e63b62ce",
        "colab": {
          "base_uri": "https://localhost:8080/",
          "height": 0
        }
      },
      "source": [
        "# Exploring the dataset after scaling\n",
        "dataset.head(10)"
      ],
      "execution_count": 36,
      "outputs": [
        {
          "output_type": "execute_result",
          "data": {
            "text/html": [
              "<div>\n",
              "<style scoped>\n",
              "    .dataframe tbody tr th:only-of-type {\n",
              "        vertical-align: middle;\n",
              "    }\n",
              "\n",
              "    .dataframe tbody tr th {\n",
              "        vertical-align: top;\n",
              "    }\n",
              "\n",
              "    .dataframe thead th {\n",
              "        text-align: right;\n",
              "    }\n",
              "</style>\n",
              "<table border=\"1\" class=\"dataframe\">\n",
              "  <thead>\n",
              "    <tr style=\"text-align: right;\">\n",
              "      <th></th>\n",
              "      <th>InvoiceNo</th>\n",
              "      <th>StockCode</th>\n",
              "      <th>Description</th>\n",
              "      <th>Quantity</th>\n",
              "      <th>InvoiceDate</th>\n",
              "      <th>UnitPrice</th>\n",
              "      <th>CustomerID</th>\n",
              "      <th>Country</th>\n",
              "      <th>Log_Transformed_Quantity</th>\n",
              "      <th>Log_Transformed_UnitPrice</th>\n",
              "      <th>Normalized_Quantity</th>\n",
              "      <th>Normalized_UnitPrice</th>\n",
              "      <th>Standardized_Quantity</th>\n",
              "      <th>Standardized_UnitPrice</th>\n",
              "    </tr>\n",
              "  </thead>\n",
              "  <tbody>\n",
              "    <tr>\n",
              "      <th>0</th>\n",
              "      <td>536365</td>\n",
              "      <td>85123A</td>\n",
              "      <td>WHITE HANGING HEART T-LIGHT HOLDER</td>\n",
              "      <td>6</td>\n",
              "      <td>12/1/2010 8:26</td>\n",
              "      <td>2.55</td>\n",
              "      <td>17850.0</td>\n",
              "      <td>United Kingdom</td>\n",
              "      <td>1.945910</td>\n",
              "      <td>1.266948</td>\n",
              "      <td>0.20</td>\n",
              "      <td>0.341735</td>\n",
              "      <td>-0.219014</td>\n",
              "      <td>0.239846</td>\n",
              "    </tr>\n",
              "    <tr>\n",
              "      <th>1</th>\n",
              "      <td>536365</td>\n",
              "      <td>71053</td>\n",
              "      <td>WHITE METAL LANTERN</td>\n",
              "      <td>6</td>\n",
              "      <td>12/1/2010 8:26</td>\n",
              "      <td>3.39</td>\n",
              "      <td>17850.0</td>\n",
              "      <td>United Kingdom</td>\n",
              "      <td>1.945910</td>\n",
              "      <td>1.479329</td>\n",
              "      <td>0.20</td>\n",
              "      <td>0.454350</td>\n",
              "      <td>-0.219014</td>\n",
              "      <td>0.788737</td>\n",
              "    </tr>\n",
              "    <tr>\n",
              "      <th>2</th>\n",
              "      <td>536365</td>\n",
              "      <td>84406B</td>\n",
              "      <td>CREAM CUPID HEARTS COAT HANGER</td>\n",
              "      <td>8</td>\n",
              "      <td>12/1/2010 8:26</td>\n",
              "      <td>2.75</td>\n",
              "      <td>17850.0</td>\n",
              "      <td>United Kingdom</td>\n",
              "      <td>2.197225</td>\n",
              "      <td>1.321756</td>\n",
              "      <td>0.28</td>\n",
              "      <td>0.368548</td>\n",
              "      <td>0.076431</td>\n",
              "      <td>0.370534</td>\n",
              "    </tr>\n",
              "    <tr>\n",
              "      <th>3</th>\n",
              "      <td>536365</td>\n",
              "      <td>84029G</td>\n",
              "      <td>KNITTED UNION FLAG HOT WATER BOTTLE</td>\n",
              "      <td>6</td>\n",
              "      <td>12/1/2010 8:26</td>\n",
              "      <td>3.39</td>\n",
              "      <td>17850.0</td>\n",
              "      <td>United Kingdom</td>\n",
              "      <td>1.945910</td>\n",
              "      <td>1.479329</td>\n",
              "      <td>0.20</td>\n",
              "      <td>0.454350</td>\n",
              "      <td>-0.219014</td>\n",
              "      <td>0.788737</td>\n",
              "    </tr>\n",
              "    <tr>\n",
              "      <th>4</th>\n",
              "      <td>536365</td>\n",
              "      <td>84029E</td>\n",
              "      <td>RED WOOLLY HOTTIE WHITE HEART.</td>\n",
              "      <td>6</td>\n",
              "      <td>12/1/2010 8:26</td>\n",
              "      <td>3.39</td>\n",
              "      <td>17850.0</td>\n",
              "      <td>United Kingdom</td>\n",
              "      <td>1.945910</td>\n",
              "      <td>1.479329</td>\n",
              "      <td>0.20</td>\n",
              "      <td>0.454350</td>\n",
              "      <td>-0.219014</td>\n",
              "      <td>0.788737</td>\n",
              "    </tr>\n",
              "    <tr>\n",
              "      <th>6</th>\n",
              "      <td>536365</td>\n",
              "      <td>21730</td>\n",
              "      <td>GLASS STAR FROSTED T-LIGHT HOLDER</td>\n",
              "      <td>6</td>\n",
              "      <td>12/1/2010 8:26</td>\n",
              "      <td>4.25</td>\n",
              "      <td>17850.0</td>\n",
              "      <td>United Kingdom</td>\n",
              "      <td>1.945910</td>\n",
              "      <td>1.658228</td>\n",
              "      <td>0.20</td>\n",
              "      <td>0.569647</td>\n",
              "      <td>-0.219014</td>\n",
              "      <td>1.350697</td>\n",
              "    </tr>\n",
              "    <tr>\n",
              "      <th>7</th>\n",
              "      <td>536366</td>\n",
              "      <td>22633</td>\n",
              "      <td>HAND WARMER UNION JACK</td>\n",
              "      <td>6</td>\n",
              "      <td>12/1/2010 8:28</td>\n",
              "      <td>1.85</td>\n",
              "      <td>17850.0</td>\n",
              "      <td>United Kingdom</td>\n",
              "      <td>1.945910</td>\n",
              "      <td>1.047319</td>\n",
              "      <td>0.20</td>\n",
              "      <td>0.247888</td>\n",
              "      <td>-0.219014</td>\n",
              "      <td>-0.217563</td>\n",
              "    </tr>\n",
              "    <tr>\n",
              "      <th>8</th>\n",
              "      <td>536366</td>\n",
              "      <td>22632</td>\n",
              "      <td>HAND WARMER RED POLKA DOT</td>\n",
              "      <td>6</td>\n",
              "      <td>12/1/2010 8:28</td>\n",
              "      <td>1.85</td>\n",
              "      <td>17850.0</td>\n",
              "      <td>United Kingdom</td>\n",
              "      <td>1.945910</td>\n",
              "      <td>1.047319</td>\n",
              "      <td>0.20</td>\n",
              "      <td>0.247888</td>\n",
              "      <td>-0.219014</td>\n",
              "      <td>-0.217563</td>\n",
              "    </tr>\n",
              "    <tr>\n",
              "      <th>10</th>\n",
              "      <td>536367</td>\n",
              "      <td>22745</td>\n",
              "      <td>POPPY'S PLAYHOUSE BEDROOM</td>\n",
              "      <td>6</td>\n",
              "      <td>12/1/2010 8:34</td>\n",
              "      <td>2.10</td>\n",
              "      <td>13047.0</td>\n",
              "      <td>United Kingdom</td>\n",
              "      <td>1.945910</td>\n",
              "      <td>1.131402</td>\n",
              "      <td>0.20</td>\n",
              "      <td>0.281405</td>\n",
              "      <td>-0.219014</td>\n",
              "      <td>-0.054203</td>\n",
              "    </tr>\n",
              "    <tr>\n",
              "      <th>11</th>\n",
              "      <td>536367</td>\n",
              "      <td>22748</td>\n",
              "      <td>POPPY'S PLAYHOUSE KITCHEN</td>\n",
              "      <td>6</td>\n",
              "      <td>12/1/2010 8:34</td>\n",
              "      <td>2.10</td>\n",
              "      <td>13047.0</td>\n",
              "      <td>United Kingdom</td>\n",
              "      <td>1.945910</td>\n",
              "      <td>1.131402</td>\n",
              "      <td>0.20</td>\n",
              "      <td>0.281405</td>\n",
              "      <td>-0.219014</td>\n",
              "      <td>-0.054203</td>\n",
              "    </tr>\n",
              "  </tbody>\n",
              "</table>\n",
              "</div>"
            ],
            "text/plain": [
              "   InvoiceNo StockCode  ... Standardized_Quantity  Standardized_UnitPrice\n",
              "0     536365    85123A  ...             -0.219014                0.239846\n",
              "1     536365     71053  ...             -0.219014                0.788737\n",
              "2     536365    84406B  ...              0.076431                0.370534\n",
              "3     536365    84029G  ...             -0.219014                0.788737\n",
              "4     536365    84029E  ...             -0.219014                0.788737\n",
              "6     536365     21730  ...             -0.219014                1.350697\n",
              "7     536366     22633  ...             -0.219014               -0.217563\n",
              "8     536366     22632  ...             -0.219014               -0.217563\n",
              "10    536367     22745  ...             -0.219014               -0.054203\n",
              "11    536367     22748  ...             -0.219014               -0.054203\n",
              "\n",
              "[10 rows x 14 columns]"
            ]
          },
          "metadata": {
            "tags": []
          },
          "execution_count": 36
        }
      ]
    },
    {
      "cell_type": "markdown",
      "metadata": {
        "id": "fB3TqDuotHhV"
      },
      "source": [
        "## **Date & Time extraction**"
      ]
    },
    {
      "cell_type": "code",
      "metadata": {
        "id": "OzRhHRMns9FA"
      },
      "source": [
        "# Creating the attributes for date, month, year, weekday and time of InvoiceDate\n",
        "dataset['Date'] = pd.to_datetime(dataset['InvoiceDate']).dt.day\n",
        "\n",
        "dataset['Month'] = pd.to_datetime(dataset['InvoiceDate']).dt.month\n",
        "\n",
        "dataset['Year'] = pd.to_datetime(dataset['InvoiceDate']).dt.year\n",
        "\n",
        "dataset['Weekday'] = pd.to_datetime(dataset['InvoiceDate']).dt.day_name()\n",
        "\n",
        "dataset['Time'] = pd.to_datetime(dataset['InvoiceDate']).dt.time"
      ],
      "execution_count": 37,
      "outputs": []
    },
    {
      "cell_type": "code",
      "metadata": {
        "id": "75BBftyPt3VX",
        "outputId": "c5ad3574-3d78-44d5-c485-647c890add3c",
        "colab": {
          "base_uri": "https://localhost:8080/",
          "height": 0
        }
      },
      "source": [
        "# Exploring the created date, day, time attributes\n",
        "dataset.head(10)"
      ],
      "execution_count": 38,
      "outputs": [
        {
          "output_type": "execute_result",
          "data": {
            "text/html": [
              "<div>\n",
              "<style scoped>\n",
              "    .dataframe tbody tr th:only-of-type {\n",
              "        vertical-align: middle;\n",
              "    }\n",
              "\n",
              "    .dataframe tbody tr th {\n",
              "        vertical-align: top;\n",
              "    }\n",
              "\n",
              "    .dataframe thead th {\n",
              "        text-align: right;\n",
              "    }\n",
              "</style>\n",
              "<table border=\"1\" class=\"dataframe\">\n",
              "  <thead>\n",
              "    <tr style=\"text-align: right;\">\n",
              "      <th></th>\n",
              "      <th>InvoiceNo</th>\n",
              "      <th>StockCode</th>\n",
              "      <th>Description</th>\n",
              "      <th>Quantity</th>\n",
              "      <th>InvoiceDate</th>\n",
              "      <th>UnitPrice</th>\n",
              "      <th>CustomerID</th>\n",
              "      <th>Country</th>\n",
              "      <th>Log_Transformed_Quantity</th>\n",
              "      <th>Log_Transformed_UnitPrice</th>\n",
              "      <th>Normalized_Quantity</th>\n",
              "      <th>Normalized_UnitPrice</th>\n",
              "      <th>Standardized_Quantity</th>\n",
              "      <th>Standardized_UnitPrice</th>\n",
              "      <th>Date</th>\n",
              "      <th>Month</th>\n",
              "      <th>Year</th>\n",
              "      <th>Weekday</th>\n",
              "      <th>Time</th>\n",
              "    </tr>\n",
              "  </thead>\n",
              "  <tbody>\n",
              "    <tr>\n",
              "      <th>0</th>\n",
              "      <td>536365</td>\n",
              "      <td>85123A</td>\n",
              "      <td>WHITE HANGING HEART T-LIGHT HOLDER</td>\n",
              "      <td>6</td>\n",
              "      <td>12/1/2010 8:26</td>\n",
              "      <td>2.55</td>\n",
              "      <td>17850.0</td>\n",
              "      <td>United Kingdom</td>\n",
              "      <td>1.945910</td>\n",
              "      <td>1.266948</td>\n",
              "      <td>0.20</td>\n",
              "      <td>0.341735</td>\n",
              "      <td>-0.219014</td>\n",
              "      <td>0.239846</td>\n",
              "      <td>1</td>\n",
              "      <td>12</td>\n",
              "      <td>2010</td>\n",
              "      <td>Wednesday</td>\n",
              "      <td>08:26:00</td>\n",
              "    </tr>\n",
              "    <tr>\n",
              "      <th>1</th>\n",
              "      <td>536365</td>\n",
              "      <td>71053</td>\n",
              "      <td>WHITE METAL LANTERN</td>\n",
              "      <td>6</td>\n",
              "      <td>12/1/2010 8:26</td>\n",
              "      <td>3.39</td>\n",
              "      <td>17850.0</td>\n",
              "      <td>United Kingdom</td>\n",
              "      <td>1.945910</td>\n",
              "      <td>1.479329</td>\n",
              "      <td>0.20</td>\n",
              "      <td>0.454350</td>\n",
              "      <td>-0.219014</td>\n",
              "      <td>0.788737</td>\n",
              "      <td>1</td>\n",
              "      <td>12</td>\n",
              "      <td>2010</td>\n",
              "      <td>Wednesday</td>\n",
              "      <td>08:26:00</td>\n",
              "    </tr>\n",
              "    <tr>\n",
              "      <th>2</th>\n",
              "      <td>536365</td>\n",
              "      <td>84406B</td>\n",
              "      <td>CREAM CUPID HEARTS COAT HANGER</td>\n",
              "      <td>8</td>\n",
              "      <td>12/1/2010 8:26</td>\n",
              "      <td>2.75</td>\n",
              "      <td>17850.0</td>\n",
              "      <td>United Kingdom</td>\n",
              "      <td>2.197225</td>\n",
              "      <td>1.321756</td>\n",
              "      <td>0.28</td>\n",
              "      <td>0.368548</td>\n",
              "      <td>0.076431</td>\n",
              "      <td>0.370534</td>\n",
              "      <td>1</td>\n",
              "      <td>12</td>\n",
              "      <td>2010</td>\n",
              "      <td>Wednesday</td>\n",
              "      <td>08:26:00</td>\n",
              "    </tr>\n",
              "    <tr>\n",
              "      <th>3</th>\n",
              "      <td>536365</td>\n",
              "      <td>84029G</td>\n",
              "      <td>KNITTED UNION FLAG HOT WATER BOTTLE</td>\n",
              "      <td>6</td>\n",
              "      <td>12/1/2010 8:26</td>\n",
              "      <td>3.39</td>\n",
              "      <td>17850.0</td>\n",
              "      <td>United Kingdom</td>\n",
              "      <td>1.945910</td>\n",
              "      <td>1.479329</td>\n",
              "      <td>0.20</td>\n",
              "      <td>0.454350</td>\n",
              "      <td>-0.219014</td>\n",
              "      <td>0.788737</td>\n",
              "      <td>1</td>\n",
              "      <td>12</td>\n",
              "      <td>2010</td>\n",
              "      <td>Wednesday</td>\n",
              "      <td>08:26:00</td>\n",
              "    </tr>\n",
              "    <tr>\n",
              "      <th>4</th>\n",
              "      <td>536365</td>\n",
              "      <td>84029E</td>\n",
              "      <td>RED WOOLLY HOTTIE WHITE HEART.</td>\n",
              "      <td>6</td>\n",
              "      <td>12/1/2010 8:26</td>\n",
              "      <td>3.39</td>\n",
              "      <td>17850.0</td>\n",
              "      <td>United Kingdom</td>\n",
              "      <td>1.945910</td>\n",
              "      <td>1.479329</td>\n",
              "      <td>0.20</td>\n",
              "      <td>0.454350</td>\n",
              "      <td>-0.219014</td>\n",
              "      <td>0.788737</td>\n",
              "      <td>1</td>\n",
              "      <td>12</td>\n",
              "      <td>2010</td>\n",
              "      <td>Wednesday</td>\n",
              "      <td>08:26:00</td>\n",
              "    </tr>\n",
              "    <tr>\n",
              "      <th>6</th>\n",
              "      <td>536365</td>\n",
              "      <td>21730</td>\n",
              "      <td>GLASS STAR FROSTED T-LIGHT HOLDER</td>\n",
              "      <td>6</td>\n",
              "      <td>12/1/2010 8:26</td>\n",
              "      <td>4.25</td>\n",
              "      <td>17850.0</td>\n",
              "      <td>United Kingdom</td>\n",
              "      <td>1.945910</td>\n",
              "      <td>1.658228</td>\n",
              "      <td>0.20</td>\n",
              "      <td>0.569647</td>\n",
              "      <td>-0.219014</td>\n",
              "      <td>1.350697</td>\n",
              "      <td>1</td>\n",
              "      <td>12</td>\n",
              "      <td>2010</td>\n",
              "      <td>Wednesday</td>\n",
              "      <td>08:26:00</td>\n",
              "    </tr>\n",
              "    <tr>\n",
              "      <th>7</th>\n",
              "      <td>536366</td>\n",
              "      <td>22633</td>\n",
              "      <td>HAND WARMER UNION JACK</td>\n",
              "      <td>6</td>\n",
              "      <td>12/1/2010 8:28</td>\n",
              "      <td>1.85</td>\n",
              "      <td>17850.0</td>\n",
              "      <td>United Kingdom</td>\n",
              "      <td>1.945910</td>\n",
              "      <td>1.047319</td>\n",
              "      <td>0.20</td>\n",
              "      <td>0.247888</td>\n",
              "      <td>-0.219014</td>\n",
              "      <td>-0.217563</td>\n",
              "      <td>1</td>\n",
              "      <td>12</td>\n",
              "      <td>2010</td>\n",
              "      <td>Wednesday</td>\n",
              "      <td>08:28:00</td>\n",
              "    </tr>\n",
              "    <tr>\n",
              "      <th>8</th>\n",
              "      <td>536366</td>\n",
              "      <td>22632</td>\n",
              "      <td>HAND WARMER RED POLKA DOT</td>\n",
              "      <td>6</td>\n",
              "      <td>12/1/2010 8:28</td>\n",
              "      <td>1.85</td>\n",
              "      <td>17850.0</td>\n",
              "      <td>United Kingdom</td>\n",
              "      <td>1.945910</td>\n",
              "      <td>1.047319</td>\n",
              "      <td>0.20</td>\n",
              "      <td>0.247888</td>\n",
              "      <td>-0.219014</td>\n",
              "      <td>-0.217563</td>\n",
              "      <td>1</td>\n",
              "      <td>12</td>\n",
              "      <td>2010</td>\n",
              "      <td>Wednesday</td>\n",
              "      <td>08:28:00</td>\n",
              "    </tr>\n",
              "    <tr>\n",
              "      <th>10</th>\n",
              "      <td>536367</td>\n",
              "      <td>22745</td>\n",
              "      <td>POPPY'S PLAYHOUSE BEDROOM</td>\n",
              "      <td>6</td>\n",
              "      <td>12/1/2010 8:34</td>\n",
              "      <td>2.10</td>\n",
              "      <td>13047.0</td>\n",
              "      <td>United Kingdom</td>\n",
              "      <td>1.945910</td>\n",
              "      <td>1.131402</td>\n",
              "      <td>0.20</td>\n",
              "      <td>0.281405</td>\n",
              "      <td>-0.219014</td>\n",
              "      <td>-0.054203</td>\n",
              "      <td>1</td>\n",
              "      <td>12</td>\n",
              "      <td>2010</td>\n",
              "      <td>Wednesday</td>\n",
              "      <td>08:34:00</td>\n",
              "    </tr>\n",
              "    <tr>\n",
              "      <th>11</th>\n",
              "      <td>536367</td>\n",
              "      <td>22748</td>\n",
              "      <td>POPPY'S PLAYHOUSE KITCHEN</td>\n",
              "      <td>6</td>\n",
              "      <td>12/1/2010 8:34</td>\n",
              "      <td>2.10</td>\n",
              "      <td>13047.0</td>\n",
              "      <td>United Kingdom</td>\n",
              "      <td>1.945910</td>\n",
              "      <td>1.131402</td>\n",
              "      <td>0.20</td>\n",
              "      <td>0.281405</td>\n",
              "      <td>-0.219014</td>\n",
              "      <td>-0.054203</td>\n",
              "      <td>1</td>\n",
              "      <td>12</td>\n",
              "      <td>2010</td>\n",
              "      <td>Wednesday</td>\n",
              "      <td>08:34:00</td>\n",
              "    </tr>\n",
              "  </tbody>\n",
              "</table>\n",
              "</div>"
            ],
            "text/plain": [
              "   InvoiceNo StockCode  ...    Weekday      Time\n",
              "0     536365    85123A  ...  Wednesday  08:26:00\n",
              "1     536365     71053  ...  Wednesday  08:26:00\n",
              "2     536365    84406B  ...  Wednesday  08:26:00\n",
              "3     536365    84029G  ...  Wednesday  08:26:00\n",
              "4     536365    84029E  ...  Wednesday  08:26:00\n",
              "6     536365     21730  ...  Wednesday  08:26:00\n",
              "7     536366     22633  ...  Wednesday  08:28:00\n",
              "8     536366     22632  ...  Wednesday  08:28:00\n",
              "10    536367     22745  ...  Wednesday  08:34:00\n",
              "11    536367     22748  ...  Wednesday  08:34:00\n",
              "\n",
              "[10 rows x 19 columns]"
            ]
          },
          "metadata": {
            "tags": []
          },
          "execution_count": 38
        }
      ]
    },
    {
      "cell_type": "markdown",
      "metadata": {
        "id": "i6s3h-nnuHgn"
      },
      "source": [
        "## **Visual Representation**"
      ]
    },
    {
      "cell_type": "code",
      "metadata": {
        "id": "HlPT6RR1uBNK",
        "outputId": "0fa81905-668f-4a69-8f84-b98bdeaefe05",
        "colab": {
          "base_uri": "https://localhost:8080/",
          "height": 0
        }
      },
      "source": [
        "# Exploring the description of the 10 products with the highest count\n",
        "dataset['Description'].value_counts()[:10].plot(kind='barh', color='green', figsize=(10, 5))"
      ],
      "execution_count": 39,
      "outputs": [
        {
          "output_type": "execute_result",
          "data": {
            "text/plain": [
              "<matplotlib.axes._subplots.AxesSubplot at 0x7ff1fb6b1588>"
            ]
          },
          "metadata": {
            "tags": []
          },
          "execution_count": 39
        },
        {
          "output_type": "display_data",
          "data": {
            "image/png": "[encoded data removed]",
            "text/plain": [
              "<Figure size 720x360 with 1 Axes>"
            ]
          },
          "metadata": {
            "tags": [],
            "needs_background": "light"
          }
        }
      ]
    },
    {
      "cell_type": "code",
      "metadata": {
        "id": "NTIWcnefuwcj",
        "outputId": "3044e06e-f3f0-4509-fee5-2c449c951e44",
        "colab": {
          "base_uri": "https://localhost:8080/",
          "height": 0
        }
      },
      "source": [
        "# Exploring the sales in different months\n",
        "dataset['Month'].value_counts().plot(kind='barh', figsize=(10,5))"
      ],
      "execution_count": 40,
      "outputs": [
        {
          "output_type": "execute_result",
          "data": {
            "text/plain": [
              "<matplotlib.axes._subplots.AxesSubplot at 0x7ff1fb5ef208>"
            ]
          },
          "metadata": {
            "tags": []
          },
          "execution_count": 40
        },
        {
          "output_type": "display_data",
          "data": {
            "image/png": "[encoded data removed]",
            "text/plain": [
              "<Figure size 720x360 with 1 Axes>"
            ]
          },
          "metadata": {
            "tags": [],
            "needs_background": "light"
          }
        }
      ]
    },
    {
      "cell_type": "markdown",
      "metadata": {
        "id": "UbPmCKzovLgP"
      },
      "source": [
        "From the graph, we can interpret that November recorded most sales and February recorded least sales."
      ]
    },
    {
      "cell_type": "code",
      "metadata": {
        "id": "xMy4ZTZZvIkt",
        "outputId": "812bb81d-b109-4a5f-c94f-44525eadd1b7",
        "colab": {
          "base_uri": "https://localhost:8080/",
          "height": 0
        }
      },
      "source": [
        "# Exploring the number of sales by year\n",
        "dataset['Year'].value_counts().plot(kind='pie', explode=(0,0.2), shadow=True, figsize=(10,5))"
      ],
      "execution_count": 41,
      "outputs": [
        {
          "output_type": "execute_result",
          "data": {
            "text/plain": [
              "<matplotlib.axes._subplots.AxesSubplot at 0x7ff1fb5e8f60>"
            ]
          },
          "metadata": {
            "tags": []
          },
          "execution_count": 41
        },
        {
          "output_type": "display_data",
          "data": {
            "image/png": "[encoded data removed]",
            "text/plain": [
              "<Figure size 720x360 with 1 Axes>"
            ]
          },
          "metadata": {
            "tags": []
          }
        }
      ]
    },
    {
      "cell_type": "code",
      "metadata": {
        "id": "epKjAh7IvsWG",
        "outputId": "e1f9514d-f7b1-4803-bd21-aa77049c7874",
        "colab": {
          "base_uri": "https://localhost:8080/",
          "height": 0
        }
      },
      "source": [
        "# Exploring the number of sales by days\n",
        "dataset['Weekday'].value_counts().plot(kind='barh', color='purple', figsize=(10,5))"
      ],
      "execution_count": 42,
      "outputs": [
        {
          "output_type": "execute_result",
          "data": {
            "text/plain": [
              "<matplotlib.axes._subplots.AxesSubplot at 0x7ff1fb039358>"
            ]
          },
          "metadata": {
            "tags": []
          },
          "execution_count": 42
        },
        {
          "output_type": "display_data",
          "data": {
            "image/png": "[encoded data removed]",
            "text/plain": [
              "<Figure size 720x360 with 1 Axes>"
            ]
          },
          "metadata": {
            "tags": [],
            "needs_background": "light"
          }
        }
      ]
    },
    {
      "cell_type": "markdown",
      "metadata": {
        "id": "3QkZt6vuwGOL"
      },
      "source": [
        "From the above graph, we can interpret that the store used to be closed on saturdays and the maximum sales used to happen on thursday as opposed to the least sales on Friday."
      ]
    },
    {
      "cell_type": "markdown",
      "metadata": {
        "id": "_Cgo2yJ_wbTo"
      },
      "source": [
        "# <font color=\"blue\">**Customer Segmentation**</font>"
      ]
    },
    {
      "cell_type": "code",
      "metadata": {
        "id": "DgwLwebwwAZV",
        "outputId": "ace1bca0-ed1c-4666-cd51-9f73924ba983",
        "colab": {
          "base_uri": "https://localhost:8080/",
          "height": 0
        }
      },
      "source": [
        "# Exploring the dataset grouped by InvoiceNo and Description\n",
        "dataset.groupby(['InvoiceNo', 'Description']).size()[:50]"
      ],
      "execution_count": 43,
      "outputs": [
        {
          "output_type": "execute_result",
          "data": {
            "text/plain": [
              "InvoiceNo  Description                        \n",
              "536365     CREAM CUPID HEARTS COAT HANGER         1\n",
              "           GLASS STAR FROSTED T-LIGHT HOLDER      1\n",
              "           KNITTED UNION FLAG HOT WATER BOTTLE    1\n",
              "           RED WOOLLY HOTTIE WHITE HEART.         1\n",
              "           WHITE HANGING HEART T-LIGHT HOLDER     1\n",
              "           WHITE METAL LANTERN                    1\n",
              "536366     HAND WARMER RED POLKA DOT              1\n",
              "           HAND WARMER UNION JACK                 1\n",
              "536367     BOX OF 6 ASSORTED COLOUR TEASPOONS     1\n",
              "           BOX OF VINTAGE JIGSAW BLOCKS           1\n",
              "           FELTCRAFT PRINCESS CHARLOTTE DOLL      1\n",
              "           HOME BUILDING BLOCK WORD               1\n",
              "           IVORY KNITTED MUG COSY                 1\n",
              "           LOVE BUILDING BLOCK WORD               1\n",
              "           POPPY'S PLAYHOUSE BEDROOM              1\n",
              "           POPPY'S PLAYHOUSE KITCHEN              1\n",
              "536368     BLUE COAT RACK PARIS FASHION           1\n",
              "           JAM MAKING SET WITH JARS               1\n",
              "           RED COAT RACK PARIS FASHION            1\n",
              "           YELLOW COAT RACK PARIS FASHION         1\n",
              "536369     BATH BUILDING BLOCK WORD               1\n",
              "536370      SET 2 TEA TOWELS I LOVE LONDON        1\n",
              "           ALARM CLOCK BAKELIKE GREEN             1\n",
              "           ALARM CLOCK BAKELIKE PINK              1\n",
              "           ALARM CLOCK BAKELIKE RED               1\n",
              "           CHARLOTTE BAG DOLLY GIRL DESIGN        1\n",
              "           CIRCUS PARADE LUNCH BOX                1\n",
              "           LUNCH BOX I LOVE LONDON                1\n",
              "           MINI JIGSAW CIRCUS PARADE              1\n",
              "           MINI JIGSAW SPACEBOY                   1\n",
              "           PANDA AND BUNNIES STICKER SHEET        1\n",
              "           RED TOADSTOOL LED NIGHT LIGHT          1\n",
              "           ROUND SNACK BOXES SET OF4 WOODLAND     1\n",
              "           SET/2 RED RETROSPOT TEA TOWELS         1\n",
              "           SPACEBOY LUNCH BOX                     1\n",
              "           STARS GIFT TAPE                        1\n",
              "           VINTAGE HEADS AND TAILS CARD GAME      1\n",
              "           VINTAGE SEASIDE JIGSAW PUZZLES         1\n",
              "536372     HAND WARMER RED POLKA DOT              1\n",
              "           HAND WARMER UNION JACK                 1\n",
              "536373     CREAM CUPID HEARTS COAT HANGER         1\n",
              "           EDWARDIAN PARASOL RED                  1\n",
              "           GLASS STAR FROSTED T-LIGHT HOLDER      1\n",
              "           KNITTED UNION FLAG HOT WATER BOTTLE    1\n",
              "           RED WOOLLY HOTTIE WHITE HEART.         1\n",
              "           RETRO COFFEE MUGS ASSORTED             1\n",
              "           SAVE THE PLANET MUG                    1\n",
              "           VINTAGE BILLBOARD DRINK ME MUG         1\n",
              "           VINTAGE BILLBOARD LOVE/HATE MUG        1\n",
              "           WHITE HANGING HEART T-LIGHT HOLDER     1\n",
              "dtype: int64"
            ]
          },
          "metadata": {
            "tags": []
          },
          "execution_count": 43
        }
      ]
    },
    {
      "cell_type": "code",
      "metadata": {
        "id": "3DgBVof9Tnif",
        "outputId": "8874e196-20e9-41dd-80f5-ff9c97cdf571",
        "colab": {
          "base_uri": "https://localhost:8080/",
          "height": 0
        }
      },
      "source": [
        "# Exploring the dataset grouped by CustomerID and Description\n",
        "dataset.groupby(['CustomerID', 'Description']).size()"
      ],
      "execution_count": 44,
      "outputs": [
        {
          "output_type": "execute_result",
          "data": {
            "text/plain": [
              "CustomerID  Description                      \n",
              "12347.0     3D DOG PICTURE PLAYING CARDS         3\n",
              "            3D SHEET OF CAT STICKERS             1\n",
              "            3D SHEET OF DOG STICKERS             1\n",
              "            60 TEATIME FAIRY CAKE CASES          3\n",
              "            72 SWEETHEART FAIRY CAKE CASES       3\n",
              "                                                ..\n",
              "18287.0     SMALL YELLOW BABUSHKA NOTEBOOK       1\n",
              "            STAR T-LIGHT HOLDER WILLIE WINKIE    1\n",
              "            STRAWBERRY CERAMIC TRINKET BOX       1\n",
              "            SWISS CHALET TREE DECORATION         2\n",
              "            TREE T-LIGHT HOLDER WILLIE WINKIE    1\n",
              "Length: 232548, dtype: int64"
            ]
          },
          "metadata": {
            "tags": []
          },
          "execution_count": 44
        }
      ]
    },
    {
      "cell_type": "markdown",
      "metadata": {
        "id": "2an11_aJTupR"
      },
      "source": [
        "## **1. Products Ordered**"
      ]
    },
    {
      "cell_type": "code",
      "metadata": {
        "id": "IN3J8JcST0Ek"
      },
      "source": [
        "def encode_column(column):\n",
        "  if column > 0:\n",
        "    return 1\n",
        "  if column <= 0:\n",
        "    return 0\n",
        "\n",
        "# Function to get the count of the products ordered\n",
        "def aggregate_by_ordered_quantity(dataframe, column_list):\n",
        "\n",
        "  aggregated_dataframe = dataframe.groupby(column_list).Quantity.count().reset_index()\n",
        "\n",
        "  aggregated_dataframe['Products_ordered'] = aggregated_dataframe.Quantity.apply(encode_column)\n",
        "\n",
        "  final_dataframe = aggregated_dataframe.groupby(column_list[0]).Products_ordered.sum().reset_index()\n",
        "\n",
        "  return final_dataframe"
      ],
      "execution_count": 45,
      "outputs": []
    },
    {
      "cell_type": "code",
      "metadata": {
        "id": "DDmtruxuWBBl",
        "outputId": "062931ca-ef87-4a48-d603-8e69ad8d1d49",
        "colab": {
          "base_uri": "https://localhost:8080/",
          "height": 0
        }
      },
      "source": [
        "# Creating customers dataframe\n",
        "customers = aggregate_by_ordered_quantity(dataset, ['CustomerID', 'Description'])\n",
        "\n",
        "customers.head()"
      ],
      "execution_count": 46,
      "outputs": [
        {
          "output_type": "execute_result",
          "data": {
            "text/html": [
              "<div>\n",
              "<style scoped>\n",
              "    .dataframe tbody tr th:only-of-type {\n",
              "        vertical-align: middle;\n",
              "    }\n",
              "\n",
              "    .dataframe tbody tr th {\n",
              "        vertical-align: top;\n",
              "    }\n",
              "\n",
              "    .dataframe thead th {\n",
              "        text-align: right;\n",
              "    }\n",
              "</style>\n",
              "<table border=\"1\" class=\"dataframe\">\n",
              "  <thead>\n",
              "    <tr style=\"text-align: right;\">\n",
              "      <th></th>\n",
              "      <th>CustomerID</th>\n",
              "      <th>Products_ordered</th>\n",
              "    </tr>\n",
              "  </thead>\n",
              "  <tbody>\n",
              "    <tr>\n",
              "      <th>0</th>\n",
              "      <td>12347.0</td>\n",
              "      <td>96</td>\n",
              "    </tr>\n",
              "    <tr>\n",
              "      <th>1</th>\n",
              "      <td>12348.0</td>\n",
              "      <td>6</td>\n",
              "    </tr>\n",
              "    <tr>\n",
              "      <th>2</th>\n",
              "      <td>12349.0</td>\n",
              "      <td>57</td>\n",
              "    </tr>\n",
              "    <tr>\n",
              "      <th>3</th>\n",
              "      <td>12350.0</td>\n",
              "      <td>16</td>\n",
              "    </tr>\n",
              "    <tr>\n",
              "      <th>4</th>\n",
              "      <td>12352.0</td>\n",
              "      <td>49</td>\n",
              "    </tr>\n",
              "  </tbody>\n",
              "</table>\n",
              "</div>"
            ],
            "text/plain": [
              "   CustomerID  Products_ordered\n",
              "0     12347.0                96\n",
              "1     12348.0                 6\n",
              "2     12349.0                57\n",
              "3     12350.0                16\n",
              "4     12352.0                49"
            ]
          },
          "metadata": {
            "tags": []
          },
          "execution_count": 46
        }
      ]
    },
    {
      "cell_type": "markdown",
      "metadata": {
        "id": "tJHNKkzYWSxm"
      },
      "source": [
        "## **2. Total Spending**\n",
        "\n",
        "Creating a `Sales` attribute which is product of `Quantity` and `UnitPrice`."
      ]
    },
    {
      "cell_type": "code",
      "metadata": {
        "id": "IvP88RiTWON8",
        "outputId": "e2963bb1-bd37-4685-ea41-0d297dd769a3",
        "colab": {
          "base_uri": "https://localhost:8080/",
          "height": 0
        }
      },
      "source": [
        "dataset['Sales'] = dataset['Quantity'] * dataset['UnitPrice']\n",
        "\n",
        "# Exploring the dataset to validate the Sales attribute\n",
        "dataset.head()"
      ],
      "execution_count": 47,
      "outputs": [
        {
          "output_type": "execute_result",
          "data": {
            "text/html": [
              "<div>\n",
              "<style scoped>\n",
              "    .dataframe tbody tr th:only-of-type {\n",
              "        vertical-align: middle;\n",
              "    }\n",
              "\n",
              "    .dataframe tbody tr th {\n",
              "        vertical-align: top;\n",
              "    }\n",
              "\n",
              "    .dataframe thead th {\n",
              "        text-align: right;\n",
              "    }\n",
              "</style>\n",
              "<table border=\"1\" class=\"dataframe\">\n",
              "  <thead>\n",
              "    <tr style=\"text-align: right;\">\n",
              "      <th></th>\n",
              "      <th>InvoiceNo</th>\n",
              "      <th>StockCode</th>\n",
              "      <th>Description</th>\n",
              "      <th>Quantity</th>\n",
              "      <th>InvoiceDate</th>\n",
              "      <th>UnitPrice</th>\n",
              "      <th>CustomerID</th>\n",
              "      <th>Country</th>\n",
              "      <th>Log_Transformed_Quantity</th>\n",
              "      <th>Log_Transformed_UnitPrice</th>\n",
              "      <th>Normalized_Quantity</th>\n",
              "      <th>Normalized_UnitPrice</th>\n",
              "      <th>Standardized_Quantity</th>\n",
              "      <th>Standardized_UnitPrice</th>\n",
              "      <th>Date</th>\n",
              "      <th>Month</th>\n",
              "      <th>Year</th>\n",
              "      <th>Weekday</th>\n",
              "      <th>Time</th>\n",
              "      <th>Sales</th>\n",
              "    </tr>\n",
              "  </thead>\n",
              "  <tbody>\n",
              "    <tr>\n",
              "      <th>0</th>\n",
              "      <td>536365</td>\n",
              "      <td>85123A</td>\n",
              "      <td>WHITE HANGING HEART T-LIGHT HOLDER</td>\n",
              "      <td>6</td>\n",
              "      <td>12/1/2010 8:26</td>\n",
              "      <td>2.55</td>\n",
              "      <td>17850.0</td>\n",
              "      <td>United Kingdom</td>\n",
              "      <td>1.945910</td>\n",
              "      <td>1.266948</td>\n",
              "      <td>0.20</td>\n",
              "      <td>0.341735</td>\n",
              "      <td>-0.219014</td>\n",
              "      <td>0.239846</td>\n",
              "      <td>1</td>\n",
              "      <td>12</td>\n",
              "      <td>2010</td>\n",
              "      <td>Wednesday</td>\n",
              "      <td>08:26:00</td>\n",
              "      <td>15.30</td>\n",
              "    </tr>\n",
              "    <tr>\n",
              "      <th>1</th>\n",
              "      <td>536365</td>\n",
              "      <td>71053</td>\n",
              "      <td>WHITE METAL LANTERN</td>\n",
              "      <td>6</td>\n",
              "      <td>12/1/2010 8:26</td>\n",
              "      <td>3.39</td>\n",
              "      <td>17850.0</td>\n",
              "      <td>United Kingdom</td>\n",
              "      <td>1.945910</td>\n",
              "      <td>1.479329</td>\n",
              "      <td>0.20</td>\n",
              "      <td>0.454350</td>\n",
              "      <td>-0.219014</td>\n",
              "      <td>0.788737</td>\n",
              "      <td>1</td>\n",
              "      <td>12</td>\n",
              "      <td>2010</td>\n",
              "      <td>Wednesday</td>\n",
              "      <td>08:26:00</td>\n",
              "      <td>20.34</td>\n",
              "    </tr>\n",
              "    <tr>\n",
              "      <th>2</th>\n",
              "      <td>536365</td>\n",
              "      <td>84406B</td>\n",
              "      <td>CREAM CUPID HEARTS COAT HANGER</td>\n",
              "      <td>8</td>\n",
              "      <td>12/1/2010 8:26</td>\n",
              "      <td>2.75</td>\n",
              "      <td>17850.0</td>\n",
              "      <td>United Kingdom</td>\n",
              "      <td>2.197225</td>\n",
              "      <td>1.321756</td>\n",
              "      <td>0.28</td>\n",
              "      <td>0.368548</td>\n",
              "      <td>0.076431</td>\n",
              "      <td>0.370534</td>\n",
              "      <td>1</td>\n",
              "      <td>12</td>\n",
              "      <td>2010</td>\n",
              "      <td>Wednesday</td>\n",
              "      <td>08:26:00</td>\n",
              "      <td>22.00</td>\n",
              "    </tr>\n",
              "    <tr>\n",
              "      <th>3</th>\n",
              "      <td>536365</td>\n",
              "      <td>84029G</td>\n",
              "      <td>KNITTED UNION FLAG HOT WATER BOTTLE</td>\n",
              "      <td>6</td>\n",
              "      <td>12/1/2010 8:26</td>\n",
              "      <td>3.39</td>\n",
              "      <td>17850.0</td>\n",
              "      <td>United Kingdom</td>\n",
              "      <td>1.945910</td>\n",
              "      <td>1.479329</td>\n",
              "      <td>0.20</td>\n",
              "      <td>0.454350</td>\n",
              "      <td>-0.219014</td>\n",
              "      <td>0.788737</td>\n",
              "      <td>1</td>\n",
              "      <td>12</td>\n",
              "      <td>2010</td>\n",
              "      <td>Wednesday</td>\n",
              "      <td>08:26:00</td>\n",
              "      <td>20.34</td>\n",
              "    </tr>\n",
              "    <tr>\n",
              "      <th>4</th>\n",
              "      <td>536365</td>\n",
              "      <td>84029E</td>\n",
              "      <td>RED WOOLLY HOTTIE WHITE HEART.</td>\n",
              "      <td>6</td>\n",
              "      <td>12/1/2010 8:26</td>\n",
              "      <td>3.39</td>\n",
              "      <td>17850.0</td>\n",
              "      <td>United Kingdom</td>\n",
              "      <td>1.945910</td>\n",
              "      <td>1.479329</td>\n",
              "      <td>0.20</td>\n",
              "      <td>0.454350</td>\n",
              "      <td>-0.219014</td>\n",
              "      <td>0.788737</td>\n",
              "      <td>1</td>\n",
              "      <td>12</td>\n",
              "      <td>2010</td>\n",
              "      <td>Wednesday</td>\n",
              "      <td>08:26:00</td>\n",
              "      <td>20.34</td>\n",
              "    </tr>\n",
              "  </tbody>\n",
              "</table>\n",
              "</div>"
            ],
            "text/plain": [
              "  InvoiceNo StockCode  ...      Time  Sales\n",
              "0    536365    85123A  ...  08:26:00  15.30\n",
              "1    536365     71053  ...  08:26:00  20.34\n",
              "2    536365    84406B  ...  08:26:00  22.00\n",
              "3    536365    84029G  ...  08:26:00  20.34\n",
              "4    536365    84029E  ...  08:26:00  20.34\n",
              "\n",
              "[5 rows x 20 columns]"
            ]
          },
          "metadata": {
            "tags": []
          },
          "execution_count": 47
        }
      ]
    },
    {
      "cell_type": "code",
      "metadata": {
        "id": "hyIkdv7vW2M-"
      },
      "source": [
        "# Obtaining customers total spending\n",
        "customer_total_spending = dataset.groupby('CustomerID').Sales.sum().reset_index()\n",
        "\n",
        "customer_total_spending.rename(columns = {'Sales' : 'Total_spending'}, inplace = True)"
      ],
      "execution_count": 48,
      "outputs": []
    },
    {
      "cell_type": "code",
      "metadata": {
        "id": "shD4o8NNXn-u",
        "outputId": "6e9257a3-79a4-427b-a89c-dffefd15c01a",
        "colab": {
          "base_uri": "https://localhost:8080/",
          "height": 0
        }
      },
      "source": [
        "# Merging the two dataframes on CustomerID\n",
        "customers = pd.merge(customers, customer_total_spending, on='CustomerID')\n",
        "\n",
        "print(f'The number of customers from the existing customer base : {customers.shape[0]}')\n",
        "\n",
        "customers.head()"
      ],
      "execution_count": 49,
      "outputs": [
        {
          "output_type": "stream",
          "text": [
            "The number of customers from the existing customer base : 4190\n"
          ],
          "name": "stdout"
        },
        {
          "output_type": "execute_result",
          "data": {
            "text/html": [
              "<div>\n",
              "<style scoped>\n",
              "    .dataframe tbody tr th:only-of-type {\n",
              "        vertical-align: middle;\n",
              "    }\n",
              "\n",
              "    .dataframe tbody tr th {\n",
              "        vertical-align: top;\n",
              "    }\n",
              "\n",
              "    .dataframe thead th {\n",
              "        text-align: right;\n",
              "    }\n",
              "</style>\n",
              "<table border=\"1\" class=\"dataframe\">\n",
              "  <thead>\n",
              "    <tr style=\"text-align: right;\">\n",
              "      <th></th>\n",
              "      <th>CustomerID</th>\n",
              "      <th>Products_ordered</th>\n",
              "      <th>Total_spending</th>\n",
              "    </tr>\n",
              "  </thead>\n",
              "  <tbody>\n",
              "    <tr>\n",
              "      <th>0</th>\n",
              "      <td>12347.0</td>\n",
              "      <td>96</td>\n",
              "      <td>3314.73</td>\n",
              "    </tr>\n",
              "    <tr>\n",
              "      <th>1</th>\n",
              "      <td>12348.0</td>\n",
              "      <td>6</td>\n",
              "      <td>90.20</td>\n",
              "    </tr>\n",
              "    <tr>\n",
              "      <th>2</th>\n",
              "      <td>12349.0</td>\n",
              "      <td>57</td>\n",
              "      <td>984.15</td>\n",
              "    </tr>\n",
              "    <tr>\n",
              "      <th>3</th>\n",
              "      <td>12350.0</td>\n",
              "      <td>16</td>\n",
              "      <td>294.40</td>\n",
              "    </tr>\n",
              "    <tr>\n",
              "      <th>4</th>\n",
              "      <td>12352.0</td>\n",
              "      <td>49</td>\n",
              "      <td>1130.94</td>\n",
              "    </tr>\n",
              "  </tbody>\n",
              "</table>\n",
              "</div>"
            ],
            "text/plain": [
              "   CustomerID  Products_ordered  Total_spending\n",
              "0     12347.0                96         3314.73\n",
              "1     12348.0                 6           90.20\n",
              "2     12349.0                57          984.15\n",
              "3     12350.0                16          294.40\n",
              "4     12352.0                49         1130.94"
            ]
          },
          "metadata": {
            "tags": []
          },
          "execution_count": 49
        }
      ]
    },
    {
      "cell_type": "markdown",
      "metadata": {
        "id": "2trCVr3GYiHw"
      },
      "source": [
        "## **Scaling using Log1p transform**"
      ]
    },
    {
      "cell_type": "code",
      "metadata": {
        "id": "CyfGRinYYVmP"
      },
      "source": [
        "# Function to apply log1p transformation\n",
        "def apply_log1p_transformation(dataframe, column):\n",
        "\n",
        "  dataframe['log_' + column] = np.log1p(dataframe[column])\n",
        "  return dataframe['log_' + column]"
      ],
      "execution_count": 50,
      "outputs": []
    },
    {
      "cell_type": "markdown",
      "metadata": {
        "id": "ITI9_2_iZJwo"
      },
      "source": [
        "### 1. Products ordered"
      ]
    },
    {
      "cell_type": "code",
      "metadata": {
        "id": "b0cbU8FLZIcW",
        "outputId": "a293a7a7-833a-49d3-ea63-e1ef2a3aa539",
        "colab": {
          "base_uri": "https://localhost:8080/",
          "height": 0
        }
      },
      "source": [
        "apply_log1p_transformation(customers, 'Products_ordered')"
      ],
      "execution_count": 51,
      "outputs": [
        {
          "output_type": "execute_result",
          "data": {
            "text/plain": [
              "0       4.574711\n",
              "1       1.945910\n",
              "2       4.060443\n",
              "3       2.833213\n",
              "4       3.912023\n",
              "          ...   \n",
              "4185    2.197225\n",
              "4186    1.791759\n",
              "4187    2.197225\n",
              "4188    5.594711\n",
              "4189    3.850148\n",
              "Name: log_Products_ordered, Length: 4190, dtype: float64"
            ]
          },
          "metadata": {
            "tags": []
          },
          "execution_count": 51
        }
      ]
    },
    {
      "cell_type": "markdown",
      "metadata": {
        "id": "ONFh0hLFZbUB"
      },
      "source": [
        "### 2. Total spending"
      ]
    },
    {
      "cell_type": "code",
      "metadata": {
        "id": "GsgdL-_7ZUDr",
        "outputId": "fc1ad773-be9f-4113-ca23-55339a2a35e9",
        "colab": {
          "base_uri": "https://localhost:8080/",
          "height": 0
        }
      },
      "source": [
        "apply_log1p_transformation(customers, 'Total_spending')"
      ],
      "execution_count": 52,
      "outputs": [
        {
          "output_type": "execute_result",
          "data": {
            "text/plain": [
              "0       8.106433\n",
              "1       4.513055\n",
              "2       6.892794\n",
              "3       5.688330\n",
              "4       7.031688\n",
              "          ...   \n",
              "4185    4.927254\n",
              "4186    3.869533\n",
              "4187    4.737338\n",
              "4188    7.627048\n",
              "4189    6.868765\n",
              "Name: log_Total_spending, Length: 4190, dtype: float64"
            ]
          },
          "metadata": {
            "tags": []
          },
          "execution_count": 52
        }
      ]
    },
    {
      "cell_type": "code",
      "metadata": {
        "id": "cHB4BMw3Zhe6",
        "outputId": "463c882d-2c1b-44d5-9ef1-e1484ccc85dd",
        "colab": {
          "base_uri": "https://localhost:8080/",
          "height": 0
        }
      },
      "source": [
        "# Exploring the dataset to validate the log transformed attributes\n",
        "customers.head()"
      ],
      "execution_count": 53,
      "outputs": [
        {
          "output_type": "execute_result",
          "data": {
            "text/html": [
              "<div>\n",
              "<style scoped>\n",
              "    .dataframe tbody tr th:only-of-type {\n",
              "        vertical-align: middle;\n",
              "    }\n",
              "\n",
              "    .dataframe tbody tr th {\n",
              "        vertical-align: top;\n",
              "    }\n",
              "\n",
              "    .dataframe thead th {\n",
              "        text-align: right;\n",
              "    }\n",
              "</style>\n",
              "<table border=\"1\" class=\"dataframe\">\n",
              "  <thead>\n",
              "    <tr style=\"text-align: right;\">\n",
              "      <th></th>\n",
              "      <th>CustomerID</th>\n",
              "      <th>Products_ordered</th>\n",
              "      <th>Total_spending</th>\n",
              "      <th>log_Products_ordered</th>\n",
              "      <th>log_Total_spending</th>\n",
              "    </tr>\n",
              "  </thead>\n",
              "  <tbody>\n",
              "    <tr>\n",
              "      <th>0</th>\n",
              "      <td>12347.0</td>\n",
              "      <td>96</td>\n",
              "      <td>3314.73</td>\n",
              "      <td>4.574711</td>\n",
              "      <td>8.106433</td>\n",
              "    </tr>\n",
              "    <tr>\n",
              "      <th>1</th>\n",
              "      <td>12348.0</td>\n",
              "      <td>6</td>\n",
              "      <td>90.20</td>\n",
              "      <td>1.945910</td>\n",
              "      <td>4.513055</td>\n",
              "    </tr>\n",
              "    <tr>\n",
              "      <th>2</th>\n",
              "      <td>12349.0</td>\n",
              "      <td>57</td>\n",
              "      <td>984.15</td>\n",
              "      <td>4.060443</td>\n",
              "      <td>6.892794</td>\n",
              "    </tr>\n",
              "    <tr>\n",
              "      <th>3</th>\n",
              "      <td>12350.0</td>\n",
              "      <td>16</td>\n",
              "      <td>294.40</td>\n",
              "      <td>2.833213</td>\n",
              "      <td>5.688330</td>\n",
              "    </tr>\n",
              "    <tr>\n",
              "      <th>4</th>\n",
              "      <td>12352.0</td>\n",
              "      <td>49</td>\n",
              "      <td>1130.94</td>\n",
              "      <td>3.912023</td>\n",
              "      <td>7.031688</td>\n",
              "    </tr>\n",
              "  </tbody>\n",
              "</table>\n",
              "</div>"
            ],
            "text/plain": [
              "   CustomerID  Products_ordered  ...  log_Products_ordered  log_Total_spending\n",
              "0     12347.0                96  ...              4.574711            8.106433\n",
              "1     12348.0                 6  ...              1.945910            4.513055\n",
              "2     12349.0                57  ...              4.060443            6.892794\n",
              "3     12350.0                16  ...              2.833213            5.688330\n",
              "4     12352.0                49  ...              3.912023            7.031688\n",
              "\n",
              "[5 rows x 5 columns]"
            ]
          },
          "metadata": {
            "tags": []
          },
          "execution_count": 53
        }
      ]
    },
    {
      "cell_type": "markdown",
      "metadata": {
        "id": "-JoOabLBZ9U2"
      },
      "source": [
        "## **Feature Selection**"
      ]
    },
    {
      "cell_type": "code",
      "metadata": {
        "id": "epyslLQFZoCx",
        "outputId": "1cbabcc8-1c00-4a82-ad93-7d0e38b33972",
        "colab": {
          "base_uri": "https://localhost:8080/",
          "height": 0
        }
      },
      "source": [
        "customers.iloc[:,3:]"
      ],
      "execution_count": 54,
      "outputs": [
        {
          "output_type": "execute_result",
          "data": {
            "text/html": [
              "<div>\n",
              "<style scoped>\n",
              "    .dataframe tbody tr th:only-of-type {\n",
              "        vertical-align: middle;\n",
              "    }\n",
              "\n",
              "    .dataframe tbody tr th {\n",
              "        vertical-align: top;\n",
              "    }\n",
              "\n",
              "    .dataframe thead th {\n",
              "        text-align: right;\n",
              "    }\n",
              "</style>\n",
              "<table border=\"1\" class=\"dataframe\">\n",
              "  <thead>\n",
              "    <tr style=\"text-align: right;\">\n",
              "      <th></th>\n",
              "      <th>log_Products_ordered</th>\n",
              "      <th>log_Total_spending</th>\n",
              "    </tr>\n",
              "  </thead>\n",
              "  <tbody>\n",
              "    <tr>\n",
              "      <th>0</th>\n",
              "      <td>4.574711</td>\n",
              "      <td>8.106433</td>\n",
              "    </tr>\n",
              "    <tr>\n",
              "      <th>1</th>\n",
              "      <td>1.945910</td>\n",
              "      <td>4.513055</td>\n",
              "    </tr>\n",
              "    <tr>\n",
              "      <th>2</th>\n",
              "      <td>4.060443</td>\n",
              "      <td>6.892794</td>\n",
              "    </tr>\n",
              "    <tr>\n",
              "      <th>3</th>\n",
              "      <td>2.833213</td>\n",
              "      <td>5.688330</td>\n",
              "    </tr>\n",
              "    <tr>\n",
              "      <th>4</th>\n",
              "      <td>3.912023</td>\n",
              "      <td>7.031688</td>\n",
              "    </tr>\n",
              "    <tr>\n",
              "      <th>...</th>\n",
              "      <td>...</td>\n",
              "      <td>...</td>\n",
              "    </tr>\n",
              "    <tr>\n",
              "      <th>4185</th>\n",
              "      <td>2.197225</td>\n",
              "      <td>4.927254</td>\n",
              "    </tr>\n",
              "    <tr>\n",
              "      <th>4186</th>\n",
              "      <td>1.791759</td>\n",
              "      <td>3.869533</td>\n",
              "    </tr>\n",
              "    <tr>\n",
              "      <th>4187</th>\n",
              "      <td>2.197225</td>\n",
              "      <td>4.737338</td>\n",
              "    </tr>\n",
              "    <tr>\n",
              "      <th>4188</th>\n",
              "      <td>5.594711</td>\n",
              "      <td>7.627048</td>\n",
              "    </tr>\n",
              "    <tr>\n",
              "      <th>4189</th>\n",
              "      <td>3.850148</td>\n",
              "      <td>6.868765</td>\n",
              "    </tr>\n",
              "  </tbody>\n",
              "</table>\n",
              "<p>4190 rows × 2 columns</p>\n",
              "</div>"
            ],
            "text/plain": [
              "      log_Products_ordered  log_Total_spending\n",
              "0                 4.574711            8.106433\n",
              "1                 1.945910            4.513055\n",
              "2                 4.060443            6.892794\n",
              "3                 2.833213            5.688330\n",
              "4                 3.912023            7.031688\n",
              "...                    ...                 ...\n",
              "4185              2.197225            4.927254\n",
              "4186              1.791759            3.869533\n",
              "4187              2.197225            4.737338\n",
              "4188              5.594711            7.627048\n",
              "4189              3.850148            6.868765\n",
              "\n",
              "[4190 rows x 2 columns]"
            ]
          },
          "metadata": {
            "tags": []
          },
          "execution_count": 54
        }
      ]
    },
    {
      "cell_type": "markdown",
      "metadata": {
        "id": "jqxsP56NaHcg"
      },
      "source": [
        "# <font color=\"blue\">**K-Means Clustering**</font>"
      ]
    },
    {
      "cell_type": "code",
      "metadata": {
        "id": "5r1Glxv-aDVo"
      },
      "source": [
        "from sklearn.cluster import KMeans"
      ],
      "execution_count": 55,
      "outputs": []
    },
    {
      "cell_type": "code",
      "metadata": {
        "id": "VeGbDcSsa31S",
        "outputId": "a09b7b8d-00a4-4244-d73e-6d42cbc999f3",
        "colab": {
          "base_uri": "https://localhost:8080/",
          "height": 68
        }
      },
      "source": [
        "kmeans_model = KMeans(init='k-means++', max_iter=500, random_state=42)\n",
        "\n",
        "kmeans_model.fit(customers.iloc[:,3:])"
      ],
      "execution_count": 56,
      "outputs": [
        {
          "output_type": "execute_result",
          "data": {
            "text/plain": [
              "KMeans(algorithm='auto', copy_x=True, init='k-means++', max_iter=500,\n",
              "       n_clusters=8, n_init=10, n_jobs=None, precompute_distances='auto',\n",
              "       random_state=42, tol=0.0001, verbose=0)"
            ]
          },
          "metadata": {
            "tags": []
          },
          "execution_count": 56
        }
      ]
    },
    {
      "cell_type": "markdown",
      "metadata": {
        "id": "0KVoAapgbSys"
      },
      "source": [
        "### Intracluster distance"
      ]
    },
    {
      "cell_type": "code",
      "metadata": {
        "id": "GWm3iR-tbG8A",
        "outputId": "4328d671-6cb6-4687-ac0b-311c5b71d34d",
        "colab": {
          "base_uri": "https://localhost:8080/",
          "height": 34
        }
      },
      "source": [
        "print(f'Intracluster distance of the model is: ', kmeans_model.inertia_)"
      ],
      "execution_count": 57,
      "outputs": [
        {
          "output_type": "stream",
          "text": [
            "Intracluster distance of the model is:  1197.6768152532238\n"
          ],
          "name": "stdout"
        }
      ]
    },
    {
      "cell_type": "markdown",
      "metadata": {
        "id": "iewy40XtbmXd"
      },
      "source": [
        "This distance needs to be minimized by finding optimal hyper paramter."
      ]
    },
    {
      "cell_type": "markdown",
      "metadata": {
        "id": "jJinjptRbuJI"
      },
      "source": [
        "## **Hyperparameter tuning**"
      ]
    },
    {
      "cell_type": "code",
      "metadata": {
        "id": "sjy7SVPubjG_"
      },
      "source": [
        "def make_list_of_K(K, dataframe):\n",
        "\n",
        "  cluster_values = list(range(1, K+1))\n",
        "  inertia_values = []\n",
        "\n",
        "  for c in cluster_values:\n",
        "    model = KMeans(n_clusters=c, init='k-means++', max_iter=500, random_state=42)\n",
        "    model.fit(dataframe)\n",
        "    inertia_values.append(model.inertia_)\n",
        "  \n",
        "  return inertia_values"
      ],
      "execution_count": 58,
      "outputs": []
    },
    {
      "cell_type": "code",
      "metadata": {
        "id": "ySeGq4P6cWCa"
      },
      "source": [
        "# Checking for k values between 1 to 15\n",
        "results = make_list_of_K(15, customers.iloc[:, 3:])"
      ],
      "execution_count": 59,
      "outputs": []
    },
    {
      "cell_type": "code",
      "metadata": {
        "id": "uKbo5F9ncjqF",
        "outputId": "917e95ae-4216-4b69-817a-78aab735b4f8",
        "colab": {
          "base_uri": "https://localhost:8080/",
          "height": 289
        }
      },
      "source": [
        "k_values_distances = pd.DataFrame({'clusters': list(range(1, 16)), 'Intracluster distances': results})\n",
        "\n",
        "print(k_values_distances)"
      ],
      "execution_count": 60,
      "outputs": [
        {
          "output_type": "stream",
          "text": [
            "    clusters  Intracluster distances\n",
            "0          1            11756.716152\n",
            "1          2             4790.968733\n",
            "2          3             2965.444740\n",
            "3          4             2211.197176\n",
            "4          5             1810.651161\n",
            "5          6             1565.831656\n",
            "6          7             1354.825184\n",
            "7          8             1197.676815\n",
            "8          9             1054.114349\n",
            "9         10              957.658328\n",
            "10        11              873.862032\n",
            "11        12              799.969961\n",
            "12        13              745.265932\n",
            "13        14              701.321098\n",
            "14        15              660.753548\n"
          ],
          "name": "stdout"
        }
      ]
    },
    {
      "cell_type": "code",
      "metadata": {
        "id": "Oz7TrJe4dB7A",
        "outputId": "1f4f6d73-4692-4480-da75-c044319418f4",
        "colab": {
          "base_uri": "https://localhost:8080/",
          "height": 295
        }
      },
      "source": [
        "plt.plot(k_values_distances['clusters'], k_values_distances['Intracluster distances'], color='red')\n",
        "plt.xlabel('K - values')\n",
        "plt.ylabel('Intracluster Distance')\n",
        "plt.title('Intracluster Distance vs K-values')\n",
        "plt.show()"
      ],
      "execution_count": 61,
      "outputs": [
        {
          "output_type": "display_data",
          "data": {
            "image/png": "[encoded data removed]",
            "text/plain": [
              "<Figure size 432x288 with 1 Axes>"
            ]
          },
          "metadata": {
            "tags": [],
            "needs_background": "light"
          }
        }
      ]
    },
    {
      "cell_type": "markdown",
      "metadata": {
        "id": "9T2rBvFKfJOS"
      },
      "source": [
        "From the graph, its clear that after k = 4, the descent gets stabilized so the optimal k is 4.  "
      ]
    },
    {
      "cell_type": "code",
      "metadata": {
        "id": "ZRHa2VOAe-Bg",
        "outputId": "12a3f8dd-3418-46ed-98b9-c0e4ee05432b",
        "colab": {
          "base_uri": "https://localhost:8080/",
          "height": 34
        }
      },
      "source": [
        "# Updating model with optimal k\n",
        "updated_kmeans_model = KMeans(n_clusters=4, init='k-means++', max_iter=500, random_state=42)\n",
        "\n",
        "updated_kmeans_model.fit_predict(customers.iloc[:, 3:])"
      ],
      "execution_count": 62,
      "outputs": [
        {
          "output_type": "execute_result",
          "data": {
            "text/plain": [
              "array([3, 1, 0, ..., 1, 3, 0], dtype=int32)"
            ]
          },
          "metadata": {
            "tags": []
          },
          "execution_count": 62
        }
      ]
    },
    {
      "cell_type": "markdown",
      "metadata": {
        "id": "1A2roXidf6tL"
      },
      "source": [
        "## Adding cluster centers"
      ]
    },
    {
      "cell_type": "code",
      "metadata": {
        "id": "jrduZ14Jfx8x",
        "outputId": "4a7932e6-84bd-41ab-c4e6-d774553742cd",
        "colab": {
          "base_uri": "https://localhost:8080/",
          "height": 85
        }
      },
      "source": [
        "# create cluster centers and actual data arrays\n",
        "cluster_centers = updated_kmeans_model.cluster_centers_\n",
        "\n",
        "actual_data = np.expm1(cluster_centers)\n",
        "\n",
        "add_points = np.append(actual_data, cluster_centers, axis=1)\n",
        "\n",
        "add_points"
      ],
      "execution_count": 63,
      "outputs": [
        {
          "output_type": "execute_result",
          "data": {
            "text/plain": [
              "array([[5.01698019e+01, 7.63545604e+02, 3.93514955e+00, 6.63928168e+00],\n",
              "       [4.65081991e+00, 7.68378454e+01, 1.73180065e+00, 4.35462776e+00],\n",
              "       [1.83642140e+01, 2.63280006e+02, 2.96342672e+00, 5.57700917e+00],\n",
              "       [1.31292199e+02, 2.67581235e+03, 4.88501311e+00, 7.89238194e+00]])"
            ]
          },
          "metadata": {
            "tags": []
          },
          "execution_count": 63
        }
      ]
    },
    {
      "cell_type": "code",
      "metadata": {
        "id": "J5EPmUqTgXSt"
      },
      "source": [
        "# add labels to customers dataframe and add_points array\n",
        "add_points = np.append(add_points, [[0], [1], [2], [3]], axis=1)\n",
        "customers['clusters'] = updated_kmeans_model.labels_"
      ],
      "execution_count": 64,
      "outputs": []
    },
    {
      "cell_type": "code",
      "metadata": {
        "id": "UxTys2JRhBYi",
        "outputId": "28d81883-9dec-4693-cedb-777ad4fecfa6",
        "colab": {
          "base_uri": "https://localhost:8080/",
          "height": 173
        }
      },
      "source": [
        "# create centers dataframe from add_points\n",
        "centers_df = pd.DataFrame(data=add_points, columns=['Products_ordered', 'Total_spending', 'log_Products_ordered', 'log_Total_spending', 'clusters'])\n",
        "\n",
        "centers_df.head()"
      ],
      "execution_count": 65,
      "outputs": [
        {
          "output_type": "execute_result",
          "data": {
            "text/html": [
              "<div>\n",
              "<style scoped>\n",
              "    .dataframe tbody tr th:only-of-type {\n",
              "        vertical-align: middle;\n",
              "    }\n",
              "\n",
              "    .dataframe tbody tr th {\n",
              "        vertical-align: top;\n",
              "    }\n",
              "\n",
              "    .dataframe thead th {\n",
              "        text-align: right;\n",
              "    }\n",
              "</style>\n",
              "<table border=\"1\" class=\"dataframe\">\n",
              "  <thead>\n",
              "    <tr style=\"text-align: right;\">\n",
              "      <th></th>\n",
              "      <th>Products_ordered</th>\n",
              "      <th>Total_spending</th>\n",
              "      <th>log_Products_ordered</th>\n",
              "      <th>log_Total_spending</th>\n",
              "      <th>clusters</th>\n",
              "    </tr>\n",
              "  </thead>\n",
              "  <tbody>\n",
              "    <tr>\n",
              "      <th>0</th>\n",
              "      <td>50.169802</td>\n",
              "      <td>763.545604</td>\n",
              "      <td>3.935150</td>\n",
              "      <td>6.639282</td>\n",
              "      <td>0.0</td>\n",
              "    </tr>\n",
              "    <tr>\n",
              "      <th>1</th>\n",
              "      <td>4.650820</td>\n",
              "      <td>76.837845</td>\n",
              "      <td>1.731801</td>\n",
              "      <td>4.354628</td>\n",
              "      <td>1.0</td>\n",
              "    </tr>\n",
              "    <tr>\n",
              "      <th>2</th>\n",
              "      <td>18.364214</td>\n",
              "      <td>263.280006</td>\n",
              "      <td>2.963427</td>\n",
              "      <td>5.577009</td>\n",
              "      <td>2.0</td>\n",
              "    </tr>\n",
              "    <tr>\n",
              "      <th>3</th>\n",
              "      <td>131.292199</td>\n",
              "      <td>2675.812348</td>\n",
              "      <td>4.885013</td>\n",
              "      <td>7.892382</td>\n",
              "      <td>3.0</td>\n",
              "    </tr>\n",
              "  </tbody>\n",
              "</table>\n",
              "</div>"
            ],
            "text/plain": [
              "   Products_ordered  Total_spending  ...  log_Total_spending  clusters\n",
              "0         50.169802      763.545604  ...            6.639282       0.0\n",
              "1          4.650820       76.837845  ...            4.354628       1.0\n",
              "2         18.364214      263.280006  ...            5.577009       2.0\n",
              "3        131.292199     2675.812348  ...            7.892382       3.0\n",
              "\n",
              "[4 rows x 5 columns]"
            ]
          },
          "metadata": {
            "tags": []
          },
          "execution_count": 65
        }
      ]
    },
    {
      "cell_type": "code",
      "metadata": {
        "id": "C_xf4q9Mha5Z",
        "outputId": "1933fdf6-4b62-4843-ba50-1e5b769644ea",
        "colab": {
          "base_uri": "https://localhost:8080/",
          "height": 173
        }
      },
      "source": [
        "# Changing the type of clusters attribute to int\n",
        "centers_df['clusters'] = centers_df['clusters'].astype('int')\n",
        "centers_df.head()"
      ],
      "execution_count": 66,
      "outputs": [
        {
          "output_type": "execute_result",
          "data": {
            "text/html": [
              "<div>\n",
              "<style scoped>\n",
              "    .dataframe tbody tr th:only-of-type {\n",
              "        vertical-align: middle;\n",
              "    }\n",
              "\n",
              "    .dataframe tbody tr th {\n",
              "        vertical-align: top;\n",
              "    }\n",
              "\n",
              "    .dataframe thead th {\n",
              "        text-align: right;\n",
              "    }\n",
              "</style>\n",
              "<table border=\"1\" class=\"dataframe\">\n",
              "  <thead>\n",
              "    <tr style=\"text-align: right;\">\n",
              "      <th></th>\n",
              "      <th>Products_ordered</th>\n",
              "      <th>Total_spending</th>\n",
              "      <th>log_Products_ordered</th>\n",
              "      <th>log_Total_spending</th>\n",
              "      <th>clusters</th>\n",
              "    </tr>\n",
              "  </thead>\n",
              "  <tbody>\n",
              "    <tr>\n",
              "      <th>0</th>\n",
              "      <td>50.169802</td>\n",
              "      <td>763.545604</td>\n",
              "      <td>3.935150</td>\n",
              "      <td>6.639282</td>\n",
              "      <td>0</td>\n",
              "    </tr>\n",
              "    <tr>\n",
              "      <th>1</th>\n",
              "      <td>4.650820</td>\n",
              "      <td>76.837845</td>\n",
              "      <td>1.731801</td>\n",
              "      <td>4.354628</td>\n",
              "      <td>1</td>\n",
              "    </tr>\n",
              "    <tr>\n",
              "      <th>2</th>\n",
              "      <td>18.364214</td>\n",
              "      <td>263.280006</td>\n",
              "      <td>2.963427</td>\n",
              "      <td>5.577009</td>\n",
              "      <td>2</td>\n",
              "    </tr>\n",
              "    <tr>\n",
              "      <th>3</th>\n",
              "      <td>131.292199</td>\n",
              "      <td>2675.812348</td>\n",
              "      <td>4.885013</td>\n",
              "      <td>7.892382</td>\n",
              "      <td>3</td>\n",
              "    </tr>\n",
              "  </tbody>\n",
              "</table>\n",
              "</div>"
            ],
            "text/plain": [
              "   Products_ordered  Total_spending  ...  log_Total_spending  clusters\n",
              "0         50.169802      763.545604  ...            6.639282         0\n",
              "1          4.650820       76.837845  ...            4.354628         1\n",
              "2         18.364214      263.280006  ...            5.577009         2\n",
              "3        131.292199     2675.812348  ...            7.892382         3\n",
              "\n",
              "[4 rows x 5 columns]"
            ]
          },
          "metadata": {
            "tags": []
          },
          "execution_count": 66
        }
      ]
    },
    {
      "cell_type": "code",
      "metadata": {
        "id": "LEUWZqKBhqVv",
        "outputId": "8e7374c5-e2c4-48a9-fc3d-02cbc069f9fb",
        "colab": {
          "base_uri": "https://localhost:8080/",
          "height": 359
        }
      },
      "source": [
        "customers.head(10)"
      ],
      "execution_count": 67,
      "outputs": [
        {
          "output_type": "execute_result",
          "data": {
            "text/html": [
              "<div>\n",
              "<style scoped>\n",
              "    .dataframe tbody tr th:only-of-type {\n",
              "        vertical-align: middle;\n",
              "    }\n",
              "\n",
              "    .dataframe tbody tr th {\n",
              "        vertical-align: top;\n",
              "    }\n",
              "\n",
              "    .dataframe thead th {\n",
              "        text-align: right;\n",
              "    }\n",
              "</style>\n",
              "<table border=\"1\" class=\"dataframe\">\n",
              "  <thead>\n",
              "    <tr style=\"text-align: right;\">\n",
              "      <th></th>\n",
              "      <th>CustomerID</th>\n",
              "      <th>Products_ordered</th>\n",
              "      <th>Total_spending</th>\n",
              "      <th>log_Products_ordered</th>\n",
              "      <th>log_Total_spending</th>\n",
              "      <th>clusters</th>\n",
              "    </tr>\n",
              "  </thead>\n",
              "  <tbody>\n",
              "    <tr>\n",
              "      <th>0</th>\n",
              "      <td>12347.0</td>\n",
              "      <td>96</td>\n",
              "      <td>3314.73</td>\n",
              "      <td>4.574711</td>\n",
              "      <td>8.106433</td>\n",
              "      <td>3</td>\n",
              "    </tr>\n",
              "    <tr>\n",
              "      <th>1</th>\n",
              "      <td>12348.0</td>\n",
              "      <td>6</td>\n",
              "      <td>90.20</td>\n",
              "      <td>1.945910</td>\n",
              "      <td>4.513055</td>\n",
              "      <td>1</td>\n",
              "    </tr>\n",
              "    <tr>\n",
              "      <th>2</th>\n",
              "      <td>12349.0</td>\n",
              "      <td>57</td>\n",
              "      <td>984.15</td>\n",
              "      <td>4.060443</td>\n",
              "      <td>6.892794</td>\n",
              "      <td>0</td>\n",
              "    </tr>\n",
              "    <tr>\n",
              "      <th>3</th>\n",
              "      <td>12350.0</td>\n",
              "      <td>16</td>\n",
              "      <td>294.40</td>\n",
              "      <td>2.833213</td>\n",
              "      <td>5.688330</td>\n",
              "      <td>2</td>\n",
              "    </tr>\n",
              "    <tr>\n",
              "      <th>4</th>\n",
              "      <td>12352.0</td>\n",
              "      <td>49</td>\n",
              "      <td>1130.94</td>\n",
              "      <td>3.912023</td>\n",
              "      <td>7.031688</td>\n",
              "      <td>0</td>\n",
              "    </tr>\n",
              "    <tr>\n",
              "      <th>5</th>\n",
              "      <td>12353.0</td>\n",
              "      <td>2</td>\n",
              "      <td>29.30</td>\n",
              "      <td>1.098612</td>\n",
              "      <td>3.411148</td>\n",
              "      <td>1</td>\n",
              "    </tr>\n",
              "    <tr>\n",
              "      <th>6</th>\n",
              "      <td>12354.0</td>\n",
              "      <td>40</td>\n",
              "      <td>682.69</td>\n",
              "      <td>3.713572</td>\n",
              "      <td>6.527505</td>\n",
              "      <td>0</td>\n",
              "    </tr>\n",
              "    <tr>\n",
              "      <th>7</th>\n",
              "      <td>12355.0</td>\n",
              "      <td>9</td>\n",
              "      <td>219.00</td>\n",
              "      <td>2.302585</td>\n",
              "      <td>5.393628</td>\n",
              "      <td>2</td>\n",
              "    </tr>\n",
              "    <tr>\n",
              "      <th>8</th>\n",
              "      <td>12356.0</td>\n",
              "      <td>33</td>\n",
              "      <td>1086.56</td>\n",
              "      <td>3.526361</td>\n",
              "      <td>6.991692</td>\n",
              "      <td>0</td>\n",
              "    </tr>\n",
              "    <tr>\n",
              "      <th>9</th>\n",
              "      <td>12357.0</td>\n",
              "      <td>95</td>\n",
              "      <td>3195.41</td>\n",
              "      <td>4.564348</td>\n",
              "      <td>8.069784</td>\n",
              "      <td>3</td>\n",
              "    </tr>\n",
              "  </tbody>\n",
              "</table>\n",
              "</div>"
            ],
            "text/plain": [
              "   CustomerID  Products_ordered  ...  log_Total_spending  clusters\n",
              "0     12347.0                96  ...            8.106433         3\n",
              "1     12348.0                 6  ...            4.513055         1\n",
              "2     12349.0                57  ...            6.892794         0\n",
              "3     12350.0                16  ...            5.688330         2\n",
              "4     12352.0                49  ...            7.031688         0\n",
              "5     12353.0                 2  ...            3.411148         1\n",
              "6     12354.0                40  ...            6.527505         0\n",
              "7     12355.0                 9  ...            5.393628         2\n",
              "8     12356.0                33  ...            6.991692         0\n",
              "9     12357.0                95  ...            8.069784         3\n",
              "\n",
              "[10 rows x 6 columns]"
            ]
          },
          "metadata": {
            "tags": []
          },
          "execution_count": 67
        }
      ]
    },
    {
      "cell_type": "markdown",
      "metadata": {
        "id": "TrMEVRMk8sIP"
      },
      "source": [
        "## **Cluster Visualization**"
      ]
    },
    {
      "cell_type": "code",
      "metadata": {
        "id": "dUh5rwLyhvOQ",
        "outputId": "11fadd79-a9bd-4ce7-e2dd-1675510f4ef1",
        "colab": {
          "base_uri": "https://localhost:8080/",
          "height": 379
        }
      },
      "source": [
        "# Creating the attribute Cluster_name\n",
        "customers['Cluster_name'] = customers['clusters'].astype(str)\n",
        "\n",
        "customers.head(10)"
      ],
      "execution_count": 68,
      "outputs": [
        {
          "output_type": "execute_result",
          "data": {
            "text/html": [
              "<div>\n",
              "<style scoped>\n",
              "    .dataframe tbody tr th:only-of-type {\n",
              "        vertical-align: middle;\n",
              "    }\n",
              "\n",
              "    .dataframe tbody tr th {\n",
              "        vertical-align: top;\n",
              "    }\n",
              "\n",
              "    .dataframe thead th {\n",
              "        text-align: right;\n",
              "    }\n",
              "</style>\n",
              "<table border=\"1\" class=\"dataframe\">\n",
              "  <thead>\n",
              "    <tr style=\"text-align: right;\">\n",
              "      <th></th>\n",
              "      <th>CustomerID</th>\n",
              "      <th>Products_ordered</th>\n",
              "      <th>Total_spending</th>\n",
              "      <th>log_Products_ordered</th>\n",
              "      <th>log_Total_spending</th>\n",
              "      <th>clusters</th>\n",
              "      <th>Cluster_name</th>\n",
              "    </tr>\n",
              "  </thead>\n",
              "  <tbody>\n",
              "    <tr>\n",
              "      <th>0</th>\n",
              "      <td>12347.0</td>\n",
              "      <td>96</td>\n",
              "      <td>3314.73</td>\n",
              "      <td>4.574711</td>\n",
              "      <td>8.106433</td>\n",
              "      <td>3</td>\n",
              "      <td>3</td>\n",
              "    </tr>\n",
              "    <tr>\n",
              "      <th>1</th>\n",
              "      <td>12348.0</td>\n",
              "      <td>6</td>\n",
              "      <td>90.20</td>\n",
              "      <td>1.945910</td>\n",
              "      <td>4.513055</td>\n",
              "      <td>1</td>\n",
              "      <td>1</td>\n",
              "    </tr>\n",
              "    <tr>\n",
              "      <th>2</th>\n",
              "      <td>12349.0</td>\n",
              "      <td>57</td>\n",
              "      <td>984.15</td>\n",
              "      <td>4.060443</td>\n",
              "      <td>6.892794</td>\n",
              "      <td>0</td>\n",
              "      <td>0</td>\n",
              "    </tr>\n",
              "    <tr>\n",
              "      <th>3</th>\n",
              "      <td>12350.0</td>\n",
              "      <td>16</td>\n",
              "      <td>294.40</td>\n",
              "      <td>2.833213</td>\n",
              "      <td>5.688330</td>\n",
              "      <td>2</td>\n",
              "      <td>2</td>\n",
              "    </tr>\n",
              "    <tr>\n",
              "      <th>4</th>\n",
              "      <td>12352.0</td>\n",
              "      <td>49</td>\n",
              "      <td>1130.94</td>\n",
              "      <td>3.912023</td>\n",
              "      <td>7.031688</td>\n",
              "      <td>0</td>\n",
              "      <td>0</td>\n",
              "    </tr>\n",
              "    <tr>\n",
              "      <th>5</th>\n",
              "      <td>12353.0</td>\n",
              "      <td>2</td>\n",
              "      <td>29.30</td>\n",
              "      <td>1.098612</td>\n",
              "      <td>3.411148</td>\n",
              "      <td>1</td>\n",
              "      <td>1</td>\n",
              "    </tr>\n",
              "    <tr>\n",
              "      <th>6</th>\n",
              "      <td>12354.0</td>\n",
              "      <td>40</td>\n",
              "      <td>682.69</td>\n",
              "      <td>3.713572</td>\n",
              "      <td>6.527505</td>\n",
              "      <td>0</td>\n",
              "      <td>0</td>\n",
              "    </tr>\n",
              "    <tr>\n",
              "      <th>7</th>\n",
              "      <td>12355.0</td>\n",
              "      <td>9</td>\n",
              "      <td>219.00</td>\n",
              "      <td>2.302585</td>\n",
              "      <td>5.393628</td>\n",
              "      <td>2</td>\n",
              "      <td>2</td>\n",
              "    </tr>\n",
              "    <tr>\n",
              "      <th>8</th>\n",
              "      <td>12356.0</td>\n",
              "      <td>33</td>\n",
              "      <td>1086.56</td>\n",
              "      <td>3.526361</td>\n",
              "      <td>6.991692</td>\n",
              "      <td>0</td>\n",
              "      <td>0</td>\n",
              "    </tr>\n",
              "    <tr>\n",
              "      <th>9</th>\n",
              "      <td>12357.0</td>\n",
              "      <td>95</td>\n",
              "      <td>3195.41</td>\n",
              "      <td>4.564348</td>\n",
              "      <td>8.069784</td>\n",
              "      <td>3</td>\n",
              "      <td>3</td>\n",
              "    </tr>\n",
              "  </tbody>\n",
              "</table>\n",
              "</div>"
            ],
            "text/plain": [
              "   CustomerID  Products_ordered  ...  clusters  Cluster_name\n",
              "0     12347.0                96  ...         3             3\n",
              "1     12348.0                 6  ...         1             1\n",
              "2     12349.0                57  ...         0             0\n",
              "3     12350.0                16  ...         2             2\n",
              "4     12352.0                49  ...         0             0\n",
              "5     12353.0                 2  ...         1             1\n",
              "6     12354.0                40  ...         0             0\n",
              "7     12355.0                 9  ...         2             2\n",
              "8     12356.0                33  ...         0             0\n",
              "9     12357.0                95  ...         3             3\n",
              "\n",
              "[10 rows x 7 columns]"
            ]
          },
          "metadata": {
            "tags": []
          },
          "execution_count": 68
        }
      ]
    },
    {
      "cell_type": "code",
      "metadata": {
        "id": "4aez6z9S9O69",
        "outputId": "36d294ca-c570-4f06-c8b1-9ea9d0cb52c1",
        "colab": {
          "base_uri": "https://localhost:8080/",
          "height": 173
        }
      },
      "source": [
        "# Obtaining the value counts of all the clusters.\n",
        "magnitude_df = pd.DataFrame(customers.Cluster_name.value_counts().reset_index())\n",
        "\n",
        "magnitude_df.rename(columns={'index':'Customer Groups', 'Cluster_name': 'Customer Group Magnitude'}, inplace=True)\n",
        "\n",
        "magnitude_df"
      ],
      "execution_count": 69,
      "outputs": [
        {
          "output_type": "execute_result",
          "data": {
            "text/html": [
              "<div>\n",
              "<style scoped>\n",
              "    .dataframe tbody tr th:only-of-type {\n",
              "        vertical-align: middle;\n",
              "    }\n",
              "\n",
              "    .dataframe tbody tr th {\n",
              "        vertical-align: top;\n",
              "    }\n",
              "\n",
              "    .dataframe thead th {\n",
              "        text-align: right;\n",
              "    }\n",
              "</style>\n",
              "<table border=\"1\" class=\"dataframe\">\n",
              "  <thead>\n",
              "    <tr style=\"text-align: right;\">\n",
              "      <th></th>\n",
              "      <th>Customer Groups</th>\n",
              "      <th>Customer Group Magnitude</th>\n",
              "    </tr>\n",
              "  </thead>\n",
              "  <tbody>\n",
              "    <tr>\n",
              "      <th>0</th>\n",
              "      <td>2</td>\n",
              "      <td>1384</td>\n",
              "    </tr>\n",
              "    <tr>\n",
              "      <th>1</th>\n",
              "      <td>0</td>\n",
              "      <td>1348</td>\n",
              "    </tr>\n",
              "    <tr>\n",
              "      <th>2</th>\n",
              "      <td>3</td>\n",
              "      <td>805</td>\n",
              "    </tr>\n",
              "    <tr>\n",
              "      <th>3</th>\n",
              "      <td>1</td>\n",
              "      <td>653</td>\n",
              "    </tr>\n",
              "  </tbody>\n",
              "</table>\n",
              "</div>"
            ],
            "text/plain": [
              "  Customer Groups  Customer Group Magnitude\n",
              "0               2                      1384\n",
              "1               0                      1348\n",
              "2               3                       805\n",
              "3               1                       653"
            ]
          },
          "metadata": {
            "tags": []
          },
          "execution_count": 69
        }
      ]
    },
    {
      "cell_type": "code",
      "metadata": {
        "id": "4e82hqOs91vk",
        "outputId": "d04194c0-3147-4bdd-c54a-5a189acdaa79",
        "colab": {
          "base_uri": "https://localhost:8080/",
          "height": 295
        }
      },
      "source": [
        "# Plotting the bar graph to interpret the number of customers in each clusters\n",
        "plt.bar(magnitude_df['Customer Groups'], magnitude_df['Customer Group Magnitude'], color=['green', 'red', 'blue', 'purple'])\n",
        "plt.xlabel('Customer Groups')\n",
        "plt.ylabel('Customer Group Magnitude')\n",
        "plt.title('Variation in Customer Groups')\n",
        "plt.show()"
      ],
      "execution_count": 71,
      "outputs": [
        {
          "output_type": "display_data",
          "data": {
            "image/png": "[encoded data removed]",
            "text/plain": [
              "<Figure size 432x288 with 1 Axes>"
            ]
          },
          "metadata": {
            "tags": [],
            "needs_background": "light"
          }
        }
      ]
    },
    {
      "cell_type": "markdown",
      "metadata": {
        "id": "1Xg7Hfyh_XwM"
      },
      "source": [
        "# <font color=\"blue\">**Customer Profiling**</font>"
      ]
    },
    {
      "cell_type": "markdown",
      "metadata": {
        "id": "36OzKmf0_rBn"
      },
      "source": [
        "## Number of products brought by each customerID"
      ]
    },
    {
      "cell_type": "code",
      "metadata": {
        "id": "4B_QeUM2-elw",
        "outputId": "899b12c5-7ce1-4796-cacb-c0545607e137",
        "colab": {
          "base_uri": "https://localhost:8080/",
          "height": 419
        }
      },
      "source": [
        "customers.iloc[:,:2]"
      ],
      "execution_count": 72,
      "outputs": [
        {
          "output_type": "execute_result",
          "data": {
            "text/html": [
              "<div>\n",
              "<style scoped>\n",
              "    .dataframe tbody tr th:only-of-type {\n",
              "        vertical-align: middle;\n",
              "    }\n",
              "\n",
              "    .dataframe tbody tr th {\n",
              "        vertical-align: top;\n",
              "    }\n",
              "\n",
              "    .dataframe thead th {\n",
              "        text-align: right;\n",
              "    }\n",
              "</style>\n",
              "<table border=\"1\" class=\"dataframe\">\n",
              "  <thead>\n",
              "    <tr style=\"text-align: right;\">\n",
              "      <th></th>\n",
              "      <th>CustomerID</th>\n",
              "      <th>Products_ordered</th>\n",
              "    </tr>\n",
              "  </thead>\n",
              "  <tbody>\n",
              "    <tr>\n",
              "      <th>0</th>\n",
              "      <td>12347.0</td>\n",
              "      <td>96</td>\n",
              "    </tr>\n",
              "    <tr>\n",
              "      <th>1</th>\n",
              "      <td>12348.0</td>\n",
              "      <td>6</td>\n",
              "    </tr>\n",
              "    <tr>\n",
              "      <th>2</th>\n",
              "      <td>12349.0</td>\n",
              "      <td>57</td>\n",
              "    </tr>\n",
              "    <tr>\n",
              "      <th>3</th>\n",
              "      <td>12350.0</td>\n",
              "      <td>16</td>\n",
              "    </tr>\n",
              "    <tr>\n",
              "      <th>4</th>\n",
              "      <td>12352.0</td>\n",
              "      <td>49</td>\n",
              "    </tr>\n",
              "    <tr>\n",
              "      <th>...</th>\n",
              "      <td>...</td>\n",
              "      <td>...</td>\n",
              "    </tr>\n",
              "    <tr>\n",
              "      <th>4185</th>\n",
              "      <td>18280.0</td>\n",
              "      <td>8</td>\n",
              "    </tr>\n",
              "    <tr>\n",
              "      <th>4186</th>\n",
              "      <td>18281.0</td>\n",
              "      <td>5</td>\n",
              "    </tr>\n",
              "    <tr>\n",
              "      <th>4187</th>\n",
              "      <td>18282.0</td>\n",
              "      <td>8</td>\n",
              "    </tr>\n",
              "    <tr>\n",
              "      <th>4188</th>\n",
              "      <td>18283.0</td>\n",
              "      <td>268</td>\n",
              "    </tr>\n",
              "    <tr>\n",
              "      <th>4189</th>\n",
              "      <td>18287.0</td>\n",
              "      <td>46</td>\n",
              "    </tr>\n",
              "  </tbody>\n",
              "</table>\n",
              "<p>4190 rows × 2 columns</p>\n",
              "</div>"
            ],
            "text/plain": [
              "      CustomerID  Products_ordered\n",
              "0        12347.0                96\n",
              "1        12348.0                 6\n",
              "2        12349.0                57\n",
              "3        12350.0                16\n",
              "4        12352.0                49\n",
              "...          ...               ...\n",
              "4185     18280.0                 8\n",
              "4186     18281.0                 5\n",
              "4187     18282.0                 8\n",
              "4188     18283.0               268\n",
              "4189     18287.0                46\n",
              "\n",
              "[4190 rows x 2 columns]"
            ]
          },
          "metadata": {
            "tags": []
          },
          "execution_count": 72
        }
      ]
    },
    {
      "cell_type": "markdown",
      "metadata": {
        "id": "Ilt80QiZ_1JK"
      },
      "source": [
        "## Total bill of each customerID"
      ]
    },
    {
      "cell_type": "code",
      "metadata": {
        "id": "EnYZ0inl_yME",
        "outputId": "c64e0114-daea-4459-de5c-5ae7e77cca14",
        "colab": {
          "base_uri": "https://localhost:8080/",
          "height": 419
        }
      },
      "source": [
        "customers[['CustomerID', 'Total_spending']]"
      ],
      "execution_count": 73,
      "outputs": [
        {
          "output_type": "execute_result",
          "data": {
            "text/html": [
              "<div>\n",
              "<style scoped>\n",
              "    .dataframe tbody tr th:only-of-type {\n",
              "        vertical-align: middle;\n",
              "    }\n",
              "\n",
              "    .dataframe tbody tr th {\n",
              "        vertical-align: top;\n",
              "    }\n",
              "\n",
              "    .dataframe thead th {\n",
              "        text-align: right;\n",
              "    }\n",
              "</style>\n",
              "<table border=\"1\" class=\"dataframe\">\n",
              "  <thead>\n",
              "    <tr style=\"text-align: right;\">\n",
              "      <th></th>\n",
              "      <th>CustomerID</th>\n",
              "      <th>Total_spending</th>\n",
              "    </tr>\n",
              "  </thead>\n",
              "  <tbody>\n",
              "    <tr>\n",
              "      <th>0</th>\n",
              "      <td>12347.0</td>\n",
              "      <td>3314.73</td>\n",
              "    </tr>\n",
              "    <tr>\n",
              "      <th>1</th>\n",
              "      <td>12348.0</td>\n",
              "      <td>90.20</td>\n",
              "    </tr>\n",
              "    <tr>\n",
              "      <th>2</th>\n",
              "      <td>12349.0</td>\n",
              "      <td>984.15</td>\n",
              "    </tr>\n",
              "    <tr>\n",
              "      <th>3</th>\n",
              "      <td>12350.0</td>\n",
              "      <td>294.40</td>\n",
              "    </tr>\n",
              "    <tr>\n",
              "      <th>4</th>\n",
              "      <td>12352.0</td>\n",
              "      <td>1130.94</td>\n",
              "    </tr>\n",
              "    <tr>\n",
              "      <th>...</th>\n",
              "      <td>...</td>\n",
              "      <td>...</td>\n",
              "    </tr>\n",
              "    <tr>\n",
              "      <th>4185</th>\n",
              "      <td>18280.0</td>\n",
              "      <td>137.00</td>\n",
              "    </tr>\n",
              "    <tr>\n",
              "      <th>4186</th>\n",
              "      <td>18281.0</td>\n",
              "      <td>46.92</td>\n",
              "    </tr>\n",
              "    <tr>\n",
              "      <th>4187</th>\n",
              "      <td>18282.0</td>\n",
              "      <td>113.13</td>\n",
              "    </tr>\n",
              "    <tr>\n",
              "      <th>4188</th>\n",
              "      <td>18283.0</td>\n",
              "      <td>2051.98</td>\n",
              "    </tr>\n",
              "    <tr>\n",
              "      <th>4189</th>\n",
              "      <td>18287.0</td>\n",
              "      <td>960.76</td>\n",
              "    </tr>\n",
              "  </tbody>\n",
              "</table>\n",
              "<p>4190 rows × 2 columns</p>\n",
              "</div>"
            ],
            "text/plain": [
              "      CustomerID  Total_spending\n",
              "0        12347.0         3314.73\n",
              "1        12348.0           90.20\n",
              "2        12349.0          984.15\n",
              "3        12350.0          294.40\n",
              "4        12352.0         1130.94\n",
              "...          ...             ...\n",
              "4185     18280.0          137.00\n",
              "4186     18281.0           46.92\n",
              "4187     18282.0          113.13\n",
              "4188     18283.0         2051.98\n",
              "4189     18287.0          960.76\n",
              "\n",
              "[4190 rows x 2 columns]"
            ]
          },
          "metadata": {
            "tags": []
          },
          "execution_count": 73
        }
      ]
    },
    {
      "cell_type": "markdown",
      "metadata": {
        "id": "l1uX-SBOAA_4"
      },
      "source": [
        "## **Customers Grouping based on customer segmentation**"
      ]
    },
    {
      "cell_type": "markdown",
      "metadata": {
        "id": "xKIoBkqeAG9n"
      },
      "source": [
        "### **Group 0**"
      ]
    },
    {
      "cell_type": "code",
      "metadata": {
        "id": "xtvo4AdD_9I6",
        "outputId": "5ed33707-f66f-46fa-92a0-bd98d8e46ffc",
        "colab": {
          "base_uri": "https://localhost:8080/",
          "height": 439
        }
      },
      "source": [
        "customers[customers['clusters'] == 0]"
      ],
      "execution_count": 74,
      "outputs": [
        {
          "output_type": "execute_result",
          "data": {
            "text/html": [
              "<div>\n",
              "<style scoped>\n",
              "    .dataframe tbody tr th:only-of-type {\n",
              "        vertical-align: middle;\n",
              "    }\n",
              "\n",
              "    .dataframe tbody tr th {\n",
              "        vertical-align: top;\n",
              "    }\n",
              "\n",
              "    .dataframe thead th {\n",
              "        text-align: right;\n",
              "    }\n",
              "</style>\n",
              "<table border=\"1\" class=\"dataframe\">\n",
              "  <thead>\n",
              "    <tr style=\"text-align: right;\">\n",
              "      <th></th>\n",
              "      <th>CustomerID</th>\n",
              "      <th>Products_ordered</th>\n",
              "      <th>Total_spending</th>\n",
              "      <th>log_Products_ordered</th>\n",
              "      <th>log_Total_spending</th>\n",
              "      <th>clusters</th>\n",
              "      <th>Cluster_name</th>\n",
              "    </tr>\n",
              "  </thead>\n",
              "  <tbody>\n",
              "    <tr>\n",
              "      <th>2</th>\n",
              "      <td>12349.0</td>\n",
              "      <td>57</td>\n",
              "      <td>984.15</td>\n",
              "      <td>4.060443</td>\n",
              "      <td>6.892794</td>\n",
              "      <td>0</td>\n",
              "      <td>0</td>\n",
              "    </tr>\n",
              "    <tr>\n",
              "      <th>4</th>\n",
              "      <td>12352.0</td>\n",
              "      <td>49</td>\n",
              "      <td>1130.94</td>\n",
              "      <td>3.912023</td>\n",
              "      <td>7.031688</td>\n",
              "      <td>0</td>\n",
              "      <td>0</td>\n",
              "    </tr>\n",
              "    <tr>\n",
              "      <th>6</th>\n",
              "      <td>12354.0</td>\n",
              "      <td>40</td>\n",
              "      <td>682.69</td>\n",
              "      <td>3.713572</td>\n",
              "      <td>6.527505</td>\n",
              "      <td>0</td>\n",
              "      <td>0</td>\n",
              "    </tr>\n",
              "    <tr>\n",
              "      <th>8</th>\n",
              "      <td>12356.0</td>\n",
              "      <td>33</td>\n",
              "      <td>1086.56</td>\n",
              "      <td>3.526361</td>\n",
              "      <td>6.991692</td>\n",
              "      <td>0</td>\n",
              "      <td>0</td>\n",
              "    </tr>\n",
              "    <tr>\n",
              "      <th>16</th>\n",
              "      <td>12364.0</td>\n",
              "      <td>67</td>\n",
              "      <td>1106.28</td>\n",
              "      <td>4.219508</td>\n",
              "      <td>7.009662</td>\n",
              "      <td>0</td>\n",
              "      <td>0</td>\n",
              "    </tr>\n",
              "    <tr>\n",
              "      <th>...</th>\n",
              "      <td>...</td>\n",
              "      <td>...</td>\n",
              "      <td>...</td>\n",
              "      <td>...</td>\n",
              "      <td>...</td>\n",
              "      <td>...</td>\n",
              "      <td>...</td>\n",
              "    </tr>\n",
              "    <tr>\n",
              "      <th>4168</th>\n",
              "      <td>18252.0</td>\n",
              "      <td>81</td>\n",
              "      <td>385.67</td>\n",
              "      <td>4.406719</td>\n",
              "      <td>5.957572</td>\n",
              "      <td>0</td>\n",
              "      <td>0</td>\n",
              "    </tr>\n",
              "    <tr>\n",
              "      <th>4171</th>\n",
              "      <td>18259.0</td>\n",
              "      <td>26</td>\n",
              "      <td>2203.60</td>\n",
              "      <td>3.295837</td>\n",
              "      <td>7.698301</td>\n",
              "      <td>0</td>\n",
              "      <td>0</td>\n",
              "    </tr>\n",
              "    <tr>\n",
              "      <th>4175</th>\n",
              "      <td>18263.0</td>\n",
              "      <td>49</td>\n",
              "      <td>1042.40</td>\n",
              "      <td>3.912023</td>\n",
              "      <td>6.950240</td>\n",
              "      <td>0</td>\n",
              "      <td>0</td>\n",
              "    </tr>\n",
              "    <tr>\n",
              "      <th>4176</th>\n",
              "      <td>18265.0</td>\n",
              "      <td>34</td>\n",
              "      <td>609.11</td>\n",
              "      <td>3.555348</td>\n",
              "      <td>6.413639</td>\n",
              "      <td>0</td>\n",
              "      <td>0</td>\n",
              "    </tr>\n",
              "    <tr>\n",
              "      <th>4189</th>\n",
              "      <td>18287.0</td>\n",
              "      <td>46</td>\n",
              "      <td>960.76</td>\n",
              "      <td>3.850148</td>\n",
              "      <td>6.868765</td>\n",
              "      <td>0</td>\n",
              "      <td>0</td>\n",
              "    </tr>\n",
              "  </tbody>\n",
              "</table>\n",
              "<p>1348 rows × 7 columns</p>\n",
              "</div>"
            ],
            "text/plain": [
              "      CustomerID  Products_ordered  ...  clusters  Cluster_name\n",
              "2        12349.0                57  ...         0             0\n",
              "4        12352.0                49  ...         0             0\n",
              "6        12354.0                40  ...         0             0\n",
              "8        12356.0                33  ...         0             0\n",
              "16       12364.0                67  ...         0             0\n",
              "...          ...               ...  ...       ...           ...\n",
              "4168     18252.0                81  ...         0             0\n",
              "4171     18259.0                26  ...         0             0\n",
              "4175     18263.0                49  ...         0             0\n",
              "4176     18265.0                34  ...         0             0\n",
              "4189     18287.0                46  ...         0             0\n",
              "\n",
              "[1348 rows x 7 columns]"
            ]
          },
          "metadata": {
            "tags": []
          },
          "execution_count": 74
        }
      ]
    },
    {
      "cell_type": "markdown",
      "metadata": {
        "id": "gzbJ0nWUAUsB"
      },
      "source": [
        "### **Group1**"
      ]
    },
    {
      "cell_type": "code",
      "metadata": {
        "id": "DzCtKdTfAO0X",
        "outputId": "3ae72cfa-58d1-438e-d728-ca333c532418",
        "colab": {
          "base_uri": "https://localhost:8080/",
          "height": 439
        }
      },
      "source": [
        "customers[customers['clusters'] == 1]"
      ],
      "execution_count": 76,
      "outputs": [
        {
          "output_type": "execute_result",
          "data": {
            "text/html": [
              "<div>\n",
              "<style scoped>\n",
              "    .dataframe tbody tr th:only-of-type {\n",
              "        vertical-align: middle;\n",
              "    }\n",
              "\n",
              "    .dataframe tbody tr th {\n",
              "        vertical-align: top;\n",
              "    }\n",
              "\n",
              "    .dataframe thead th {\n",
              "        text-align: right;\n",
              "    }\n",
              "</style>\n",
              "<table border=\"1\" class=\"dataframe\">\n",
              "  <thead>\n",
              "    <tr style=\"text-align: right;\">\n",
              "      <th></th>\n",
              "      <th>CustomerID</th>\n",
              "      <th>Products_ordered</th>\n",
              "      <th>Total_spending</th>\n",
              "      <th>log_Products_ordered</th>\n",
              "      <th>log_Total_spending</th>\n",
              "      <th>clusters</th>\n",
              "      <th>Cluster_name</th>\n",
              "    </tr>\n",
              "  </thead>\n",
              "  <tbody>\n",
              "    <tr>\n",
              "      <th>1</th>\n",
              "      <td>12348.0</td>\n",
              "      <td>6</td>\n",
              "      <td>90.20</td>\n",
              "      <td>1.945910</td>\n",
              "      <td>4.513055</td>\n",
              "      <td>1</td>\n",
              "      <td>1</td>\n",
              "    </tr>\n",
              "    <tr>\n",
              "      <th>5</th>\n",
              "      <td>12353.0</td>\n",
              "      <td>2</td>\n",
              "      <td>29.30</td>\n",
              "      <td>1.098612</td>\n",
              "      <td>3.411148</td>\n",
              "      <td>1</td>\n",
              "      <td>1</td>\n",
              "    </tr>\n",
              "    <tr>\n",
              "      <th>18</th>\n",
              "      <td>12367.0</td>\n",
              "      <td>9</td>\n",
              "      <td>138.30</td>\n",
              "      <td>2.302585</td>\n",
              "      <td>4.936630</td>\n",
              "      <td>1</td>\n",
              "      <td>1</td>\n",
              "    </tr>\n",
              "    <tr>\n",
              "      <th>42</th>\n",
              "      <td>12401.0</td>\n",
              "      <td>2</td>\n",
              "      <td>32.85</td>\n",
              "      <td>1.098612</td>\n",
              "      <td>3.521939</td>\n",
              "      <td>1</td>\n",
              "      <td>1</td>\n",
              "    </tr>\n",
              "    <tr>\n",
              "      <th>44</th>\n",
              "      <td>12403.0</td>\n",
              "      <td>2</td>\n",
              "      <td>92.90</td>\n",
              "      <td>1.098612</td>\n",
              "      <td>4.542230</td>\n",
              "      <td>1</td>\n",
              "      <td>1</td>\n",
              "    </tr>\n",
              "    <tr>\n",
              "      <th>...</th>\n",
              "      <td>...</td>\n",
              "      <td>...</td>\n",
              "      <td>...</td>\n",
              "      <td>...</td>\n",
              "      <td>...</td>\n",
              "      <td>...</td>\n",
              "      <td>...</td>\n",
              "    </tr>\n",
              "    <tr>\n",
              "      <th>4180</th>\n",
              "      <td>18273.0</td>\n",
              "      <td>1</td>\n",
              "      <td>102.00</td>\n",
              "      <td>0.693147</td>\n",
              "      <td>4.634729</td>\n",
              "      <td>1</td>\n",
              "      <td>1</td>\n",
              "    </tr>\n",
              "    <tr>\n",
              "      <th>4183</th>\n",
              "      <td>18277.0</td>\n",
              "      <td>8</td>\n",
              "      <td>110.38</td>\n",
              "      <td>2.197225</td>\n",
              "      <td>4.712948</td>\n",
              "      <td>1</td>\n",
              "      <td>1</td>\n",
              "    </tr>\n",
              "    <tr>\n",
              "      <th>4185</th>\n",
              "      <td>18280.0</td>\n",
              "      <td>8</td>\n",
              "      <td>137.00</td>\n",
              "      <td>2.197225</td>\n",
              "      <td>4.927254</td>\n",
              "      <td>1</td>\n",
              "      <td>1</td>\n",
              "    </tr>\n",
              "    <tr>\n",
              "      <th>4186</th>\n",
              "      <td>18281.0</td>\n",
              "      <td>5</td>\n",
              "      <td>46.92</td>\n",
              "      <td>1.791759</td>\n",
              "      <td>3.869533</td>\n",
              "      <td>1</td>\n",
              "      <td>1</td>\n",
              "    </tr>\n",
              "    <tr>\n",
              "      <th>4187</th>\n",
              "      <td>18282.0</td>\n",
              "      <td>8</td>\n",
              "      <td>113.13</td>\n",
              "      <td>2.197225</td>\n",
              "      <td>4.737338</td>\n",
              "      <td>1</td>\n",
              "      <td>1</td>\n",
              "    </tr>\n",
              "  </tbody>\n",
              "</table>\n",
              "<p>653 rows × 7 columns</p>\n",
              "</div>"
            ],
            "text/plain": [
              "      CustomerID  Products_ordered  ...  clusters  Cluster_name\n",
              "1        12348.0                 6  ...         1             1\n",
              "5        12353.0                 2  ...         1             1\n",
              "18       12367.0                 9  ...         1             1\n",
              "42       12401.0                 2  ...         1             1\n",
              "44       12403.0                 2  ...         1             1\n",
              "...          ...               ...  ...       ...           ...\n",
              "4180     18273.0                 1  ...         1             1\n",
              "4183     18277.0                 8  ...         1             1\n",
              "4185     18280.0                 8  ...         1             1\n",
              "4186     18281.0                 5  ...         1             1\n",
              "4187     18282.0                 8  ...         1             1\n",
              "\n",
              "[653 rows x 7 columns]"
            ]
          },
          "metadata": {
            "tags": []
          },
          "execution_count": 76
        }
      ]
    },
    {
      "cell_type": "markdown",
      "metadata": {
        "id": "NNcYNfKtAe6L"
      },
      "source": [
        "### **Group2**"
      ]
    },
    {
      "cell_type": "code",
      "metadata": {
        "id": "p72pNwfcAbq_",
        "outputId": "a39b51c3-ae82-4c4b-8f7d-ad0e2bcf28ab",
        "colab": {
          "base_uri": "https://localhost:8080/",
          "height": 439
        }
      },
      "source": [
        "customers[customers['clusters'] == 2]"
      ],
      "execution_count": 77,
      "outputs": [
        {
          "output_type": "execute_result",
          "data": {
            "text/html": [
              "<div>\n",
              "<style scoped>\n",
              "    .dataframe tbody tr th:only-of-type {\n",
              "        vertical-align: middle;\n",
              "    }\n",
              "\n",
              "    .dataframe tbody tr th {\n",
              "        vertical-align: top;\n",
              "    }\n",
              "\n",
              "    .dataframe thead th {\n",
              "        text-align: right;\n",
              "    }\n",
              "</style>\n",
              "<table border=\"1\" class=\"dataframe\">\n",
              "  <thead>\n",
              "    <tr style=\"text-align: right;\">\n",
              "      <th></th>\n",
              "      <th>CustomerID</th>\n",
              "      <th>Products_ordered</th>\n",
              "      <th>Total_spending</th>\n",
              "      <th>log_Products_ordered</th>\n",
              "      <th>log_Total_spending</th>\n",
              "      <th>clusters</th>\n",
              "      <th>Cluster_name</th>\n",
              "    </tr>\n",
              "  </thead>\n",
              "  <tbody>\n",
              "    <tr>\n",
              "      <th>3</th>\n",
              "      <td>12350.0</td>\n",
              "      <td>16</td>\n",
              "      <td>294.40</td>\n",
              "      <td>2.833213</td>\n",
              "      <td>5.688330</td>\n",
              "      <td>2</td>\n",
              "      <td>2</td>\n",
              "    </tr>\n",
              "    <tr>\n",
              "      <th>7</th>\n",
              "      <td>12355.0</td>\n",
              "      <td>9</td>\n",
              "      <td>219.00</td>\n",
              "      <td>2.302585</td>\n",
              "      <td>5.393628</td>\n",
              "      <td>2</td>\n",
              "      <td>2</td>\n",
              "    </tr>\n",
              "    <tr>\n",
              "      <th>10</th>\n",
              "      <td>12358.0</td>\n",
              "      <td>9</td>\n",
              "      <td>878.22</td>\n",
              "      <td>2.302585</td>\n",
              "      <td>6.779035</td>\n",
              "      <td>2</td>\n",
              "      <td>2</td>\n",
              "    </tr>\n",
              "    <tr>\n",
              "      <th>13</th>\n",
              "      <td>12361.0</td>\n",
              "      <td>9</td>\n",
              "      <td>174.90</td>\n",
              "      <td>2.302585</td>\n",
              "      <td>5.169916</td>\n",
              "      <td>2</td>\n",
              "      <td>2</td>\n",
              "    </tr>\n",
              "    <tr>\n",
              "      <th>15</th>\n",
              "      <td>12363.0</td>\n",
              "      <td>19</td>\n",
              "      <td>484.50</td>\n",
              "      <td>2.995732</td>\n",
              "      <td>6.185179</td>\n",
              "      <td>2</td>\n",
              "      <td>2</td>\n",
              "    </tr>\n",
              "    <tr>\n",
              "      <th>...</th>\n",
              "      <td>...</td>\n",
              "      <td>...</td>\n",
              "      <td>...</td>\n",
              "      <td>...</td>\n",
              "      <td>...</td>\n",
              "      <td>...</td>\n",
              "      <td>...</td>\n",
              "    </tr>\n",
              "    <tr>\n",
              "      <th>4174</th>\n",
              "      <td>18262.0</td>\n",
              "      <td>13</td>\n",
              "      <td>149.48</td>\n",
              "      <td>2.639057</td>\n",
              "      <td>5.013830</td>\n",
              "      <td>2</td>\n",
              "      <td>2</td>\n",
              "    </tr>\n",
              "    <tr>\n",
              "      <th>4178</th>\n",
              "      <td>18270.0</td>\n",
              "      <td>10</td>\n",
              "      <td>244.90</td>\n",
              "      <td>2.397895</td>\n",
              "      <td>5.504925</td>\n",
              "      <td>2</td>\n",
              "      <td>2</td>\n",
              "    </tr>\n",
              "    <tr>\n",
              "      <th>4181</th>\n",
              "      <td>18274.0</td>\n",
              "      <td>10</td>\n",
              "      <td>163.17</td>\n",
              "      <td>2.397895</td>\n",
              "      <td>5.100902</td>\n",
              "      <td>2</td>\n",
              "      <td>2</td>\n",
              "    </tr>\n",
              "    <tr>\n",
              "      <th>4182</th>\n",
              "      <td>18276.0</td>\n",
              "      <td>12</td>\n",
              "      <td>213.46</td>\n",
              "      <td>2.564949</td>\n",
              "      <td>5.368123</td>\n",
              "      <td>2</td>\n",
              "      <td>2</td>\n",
              "    </tr>\n",
              "    <tr>\n",
              "      <th>4184</th>\n",
              "      <td>18278.0</td>\n",
              "      <td>9</td>\n",
              "      <td>173.90</td>\n",
              "      <td>2.302585</td>\n",
              "      <td>5.164214</td>\n",
              "      <td>2</td>\n",
              "      <td>2</td>\n",
              "    </tr>\n",
              "  </tbody>\n",
              "</table>\n",
              "<p>1384 rows × 7 columns</p>\n",
              "</div>"
            ],
            "text/plain": [
              "      CustomerID  Products_ordered  ...  clusters  Cluster_name\n",
              "3        12350.0                16  ...         2             2\n",
              "7        12355.0                 9  ...         2             2\n",
              "10       12358.0                 9  ...         2             2\n",
              "13       12361.0                 9  ...         2             2\n",
              "15       12363.0                19  ...         2             2\n",
              "...          ...               ...  ...       ...           ...\n",
              "4174     18262.0                13  ...         2             2\n",
              "4178     18270.0                10  ...         2             2\n",
              "4181     18274.0                10  ...         2             2\n",
              "4182     18276.0                12  ...         2             2\n",
              "4184     18278.0                 9  ...         2             2\n",
              "\n",
              "[1384 rows x 7 columns]"
            ]
          },
          "metadata": {
            "tags": []
          },
          "execution_count": 77
        }
      ]
    },
    {
      "cell_type": "markdown",
      "metadata": {
        "id": "ng-m_oqSAj6l"
      },
      "source": [
        "### **Group3**"
      ]
    },
    {
      "cell_type": "code",
      "metadata": {
        "id": "gJrYH8p3Aizj",
        "outputId": "1517e19c-5c15-47bd-c0db-67133b4c2250",
        "colab": {
          "base_uri": "https://localhost:8080/",
          "height": 439
        }
      },
      "source": [
        "customers[customers['clusters'] == 3]"
      ],
      "execution_count": 78,
      "outputs": [
        {
          "output_type": "execute_result",
          "data": {
            "text/html": [
              "<div>\n",
              "<style scoped>\n",
              "    .dataframe tbody tr th:only-of-type {\n",
              "        vertical-align: middle;\n",
              "    }\n",
              "\n",
              "    .dataframe tbody tr th {\n",
              "        vertical-align: top;\n",
              "    }\n",
              "\n",
              "    .dataframe thead th {\n",
              "        text-align: right;\n",
              "    }\n",
              "</style>\n",
              "<table border=\"1\" class=\"dataframe\">\n",
              "  <thead>\n",
              "    <tr style=\"text-align: right;\">\n",
              "      <th></th>\n",
              "      <th>CustomerID</th>\n",
              "      <th>Products_ordered</th>\n",
              "      <th>Total_spending</th>\n",
              "      <th>log_Products_ordered</th>\n",
              "      <th>log_Total_spending</th>\n",
              "      <th>clusters</th>\n",
              "      <th>Cluster_name</th>\n",
              "    </tr>\n",
              "  </thead>\n",
              "  <tbody>\n",
              "    <tr>\n",
              "      <th>0</th>\n",
              "      <td>12347.0</td>\n",
              "      <td>96</td>\n",
              "      <td>3314.73</td>\n",
              "      <td>4.574711</td>\n",
              "      <td>8.106433</td>\n",
              "      <td>3</td>\n",
              "      <td>3</td>\n",
              "    </tr>\n",
              "    <tr>\n",
              "      <th>9</th>\n",
              "      <td>12357.0</td>\n",
              "      <td>95</td>\n",
              "      <td>3195.41</td>\n",
              "      <td>4.564348</td>\n",
              "      <td>8.069784</td>\n",
              "      <td>3</td>\n",
              "      <td>3</td>\n",
              "    </tr>\n",
              "    <tr>\n",
              "      <th>11</th>\n",
              "      <td>12359.0</td>\n",
              "      <td>157</td>\n",
              "      <td>3224.13</td>\n",
              "      <td>5.062595</td>\n",
              "      <td>8.078729</td>\n",
              "      <td>3</td>\n",
              "      <td>3</td>\n",
              "    </tr>\n",
              "    <tr>\n",
              "      <th>12</th>\n",
              "      <td>12360.0</td>\n",
              "      <td>97</td>\n",
              "      <td>1843.16</td>\n",
              "      <td>4.584967</td>\n",
              "      <td>7.519779</td>\n",
              "      <td>3</td>\n",
              "      <td>3</td>\n",
              "    </tr>\n",
              "    <tr>\n",
              "      <th>14</th>\n",
              "      <td>12362.0</td>\n",
              "      <td>172</td>\n",
              "      <td>4098.94</td>\n",
              "      <td>5.153292</td>\n",
              "      <td>8.318728</td>\n",
              "      <td>3</td>\n",
              "      <td>3</td>\n",
              "    </tr>\n",
              "    <tr>\n",
              "      <th>...</th>\n",
              "      <td>...</td>\n",
              "      <td>...</td>\n",
              "      <td>...</td>\n",
              "      <td>...</td>\n",
              "      <td>...</td>\n",
              "      <td>...</td>\n",
              "      <td>...</td>\n",
              "    </tr>\n",
              "    <tr>\n",
              "      <th>4163</th>\n",
              "      <td>18245.0</td>\n",
              "      <td>139</td>\n",
              "      <td>2266.43</td>\n",
              "      <td>4.941642</td>\n",
              "      <td>7.726402</td>\n",
              "      <td>3</td>\n",
              "      <td>3</td>\n",
              "    </tr>\n",
              "    <tr>\n",
              "      <th>4170</th>\n",
              "      <td>18257.0</td>\n",
              "      <td>86</td>\n",
              "      <td>1997.26</td>\n",
              "      <td>4.465908</td>\n",
              "      <td>7.600032</td>\n",
              "      <td>3</td>\n",
              "      <td>3</td>\n",
              "    </tr>\n",
              "    <tr>\n",
              "      <th>4172</th>\n",
              "      <td>18260.0</td>\n",
              "      <td>76</td>\n",
              "      <td>2082.31</td>\n",
              "      <td>4.343805</td>\n",
              "      <td>7.641713</td>\n",
              "      <td>3</td>\n",
              "      <td>3</td>\n",
              "    </tr>\n",
              "    <tr>\n",
              "      <th>4179</th>\n",
              "      <td>18272.0</td>\n",
              "      <td>90</td>\n",
              "      <td>2794.96</td>\n",
              "      <td>4.510860</td>\n",
              "      <td>7.935931</td>\n",
              "      <td>3</td>\n",
              "      <td>3</td>\n",
              "    </tr>\n",
              "    <tr>\n",
              "      <th>4188</th>\n",
              "      <td>18283.0</td>\n",
              "      <td>268</td>\n",
              "      <td>2051.98</td>\n",
              "      <td>5.594711</td>\n",
              "      <td>7.627048</td>\n",
              "      <td>3</td>\n",
              "      <td>3</td>\n",
              "    </tr>\n",
              "  </tbody>\n",
              "</table>\n",
              "<p>805 rows × 7 columns</p>\n",
              "</div>"
            ],
            "text/plain": [
              "      CustomerID  Products_ordered  ...  clusters  Cluster_name\n",
              "0        12347.0                96  ...         3             3\n",
              "9        12357.0                95  ...         3             3\n",
              "11       12359.0               157  ...         3             3\n",
              "12       12360.0                97  ...         3             3\n",
              "14       12362.0               172  ...         3             3\n",
              "...          ...               ...  ...       ...           ...\n",
              "4163     18245.0               139  ...         3             3\n",
              "4170     18257.0                86  ...         3             3\n",
              "4172     18260.0                76  ...         3             3\n",
              "4179     18272.0                90  ...         3             3\n",
              "4188     18283.0               268  ...         3             3\n",
              "\n",
              "[805 rows x 7 columns]"
            ]
          },
          "metadata": {
            "tags": []
          },
          "execution_count": 78
        }
      ]
    },
    {
      "cell_type": "markdown",
      "metadata": {
        "id": "nBDk_UqmAs6r"
      },
      "source": [
        "## Frequency of customers visiting the store"
      ]
    },
    {
      "cell_type": "code",
      "metadata": {
        "id": "grJYxJ17Ao6d",
        "outputId": "1ea4146e-df70-43a1-ae3f-56ad145e5ae8",
        "colab": {
          "base_uri": "https://localhost:8080/",
          "height": 238
        }
      },
      "source": [
        "frequency_of_customer = dataset.groupby('CustomerID')['InvoiceNo'].nunique()\n",
        "\n",
        "frequency_of_customer"
      ],
      "execution_count": 79,
      "outputs": [
        {
          "output_type": "execute_result",
          "data": {
            "text/plain": [
              "CustomerID\n",
              "12347.0     7\n",
              "12348.0     3\n",
              "12349.0     1\n",
              "12350.0     1\n",
              "12352.0     7\n",
              "           ..\n",
              "18280.0     1\n",
              "18281.0     1\n",
              "18282.0     2\n",
              "18283.0    16\n",
              "18287.0     3\n",
              "Name: InvoiceNo, Length: 4190, dtype: int64"
            ]
          },
          "metadata": {
            "tags": []
          },
          "execution_count": 79
        }
      ]
    },
    {
      "cell_type": "code",
      "metadata": {
        "id": "ZLVgPjFLA8Cd",
        "outputId": "0f6ca8aa-7010-4a57-be08-24fbc0792a99",
        "colab": {
          "base_uri": "https://localhost:8080/",
          "height": 224
        }
      },
      "source": [
        "customers = pd.merge(customers, frequency_of_customer, on='CustomerID')\n",
        "\n",
        "customers.head()"
      ],
      "execution_count": 80,
      "outputs": [
        {
          "output_type": "execute_result",
          "data": {
            "text/html": [
              "<div>\n",
              "<style scoped>\n",
              "    .dataframe tbody tr th:only-of-type {\n",
              "        vertical-align: middle;\n",
              "    }\n",
              "\n",
              "    .dataframe tbody tr th {\n",
              "        vertical-align: top;\n",
              "    }\n",
              "\n",
              "    .dataframe thead th {\n",
              "        text-align: right;\n",
              "    }\n",
              "</style>\n",
              "<table border=\"1\" class=\"dataframe\">\n",
              "  <thead>\n",
              "    <tr style=\"text-align: right;\">\n",
              "      <th></th>\n",
              "      <th>CustomerID</th>\n",
              "      <th>Products_ordered</th>\n",
              "      <th>Total_spending</th>\n",
              "      <th>log_Products_ordered</th>\n",
              "      <th>log_Total_spending</th>\n",
              "      <th>clusters</th>\n",
              "      <th>Cluster_name</th>\n",
              "      <th>InvoiceNo</th>\n",
              "    </tr>\n",
              "  </thead>\n",
              "  <tbody>\n",
              "    <tr>\n",
              "      <th>0</th>\n",
              "      <td>12347.0</td>\n",
              "      <td>96</td>\n",
              "      <td>3314.73</td>\n",
              "      <td>4.574711</td>\n",
              "      <td>8.106433</td>\n",
              "      <td>3</td>\n",
              "      <td>3</td>\n",
              "      <td>7</td>\n",
              "    </tr>\n",
              "    <tr>\n",
              "      <th>1</th>\n",
              "      <td>12348.0</td>\n",
              "      <td>6</td>\n",
              "      <td>90.20</td>\n",
              "      <td>1.945910</td>\n",
              "      <td>4.513055</td>\n",
              "      <td>1</td>\n",
              "      <td>1</td>\n",
              "      <td>3</td>\n",
              "    </tr>\n",
              "    <tr>\n",
              "      <th>2</th>\n",
              "      <td>12349.0</td>\n",
              "      <td>57</td>\n",
              "      <td>984.15</td>\n",
              "      <td>4.060443</td>\n",
              "      <td>6.892794</td>\n",
              "      <td>0</td>\n",
              "      <td>0</td>\n",
              "      <td>1</td>\n",
              "    </tr>\n",
              "    <tr>\n",
              "      <th>3</th>\n",
              "      <td>12350.0</td>\n",
              "      <td>16</td>\n",
              "      <td>294.40</td>\n",
              "      <td>2.833213</td>\n",
              "      <td>5.688330</td>\n",
              "      <td>2</td>\n",
              "      <td>2</td>\n",
              "      <td>1</td>\n",
              "    </tr>\n",
              "    <tr>\n",
              "      <th>4</th>\n",
              "      <td>12352.0</td>\n",
              "      <td>49</td>\n",
              "      <td>1130.94</td>\n",
              "      <td>3.912023</td>\n",
              "      <td>7.031688</td>\n",
              "      <td>0</td>\n",
              "      <td>0</td>\n",
              "      <td>7</td>\n",
              "    </tr>\n",
              "  </tbody>\n",
              "</table>\n",
              "</div>"
            ],
            "text/plain": [
              "   CustomerID  Products_ordered  ...  Cluster_name  InvoiceNo\n",
              "0     12347.0                96  ...             3          7\n",
              "1     12348.0                 6  ...             1          3\n",
              "2     12349.0                57  ...             0          1\n",
              "3     12350.0                16  ...             2          1\n",
              "4     12352.0                49  ...             0          7\n",
              "\n",
              "[5 rows x 8 columns]"
            ]
          },
          "metadata": {
            "tags": []
          },
          "execution_count": 80
        }
      ]
    },
    {
      "cell_type": "code",
      "metadata": {
        "id": "8e_efo0GBF6D",
        "outputId": "3dd2718b-7c0f-4c5a-fd11-01a4c431248b",
        "colab": {
          "base_uri": "https://localhost:8080/",
          "height": 224
        }
      },
      "source": [
        "customers.rename(columns = {'InvoiceNo': 'Frequency_of_customer'}, inplace=True)\n",
        "\n",
        "customers.head()"
      ],
      "execution_count": 81,
      "outputs": [
        {
          "output_type": "execute_result",
          "data": {
            "text/html": [
              "<div>\n",
              "<style scoped>\n",
              "    .dataframe tbody tr th:only-of-type {\n",
              "        vertical-align: middle;\n",
              "    }\n",
              "\n",
              "    .dataframe tbody tr th {\n",
              "        vertical-align: top;\n",
              "    }\n",
              "\n",
              "    .dataframe thead th {\n",
              "        text-align: right;\n",
              "    }\n",
              "</style>\n",
              "<table border=\"1\" class=\"dataframe\">\n",
              "  <thead>\n",
              "    <tr style=\"text-align: right;\">\n",
              "      <th></th>\n",
              "      <th>CustomerID</th>\n",
              "      <th>Products_ordered</th>\n",
              "      <th>Total_spending</th>\n",
              "      <th>log_Products_ordered</th>\n",
              "      <th>log_Total_spending</th>\n",
              "      <th>clusters</th>\n",
              "      <th>Cluster_name</th>\n",
              "      <th>Frequency_of_customer</th>\n",
              "    </tr>\n",
              "  </thead>\n",
              "  <tbody>\n",
              "    <tr>\n",
              "      <th>0</th>\n",
              "      <td>12347.0</td>\n",
              "      <td>96</td>\n",
              "      <td>3314.73</td>\n",
              "      <td>4.574711</td>\n",
              "      <td>8.106433</td>\n",
              "      <td>3</td>\n",
              "      <td>3</td>\n",
              "      <td>7</td>\n",
              "    </tr>\n",
              "    <tr>\n",
              "      <th>1</th>\n",
              "      <td>12348.0</td>\n",
              "      <td>6</td>\n",
              "      <td>90.20</td>\n",
              "      <td>1.945910</td>\n",
              "      <td>4.513055</td>\n",
              "      <td>1</td>\n",
              "      <td>1</td>\n",
              "      <td>3</td>\n",
              "    </tr>\n",
              "    <tr>\n",
              "      <th>2</th>\n",
              "      <td>12349.0</td>\n",
              "      <td>57</td>\n",
              "      <td>984.15</td>\n",
              "      <td>4.060443</td>\n",
              "      <td>6.892794</td>\n",
              "      <td>0</td>\n",
              "      <td>0</td>\n",
              "      <td>1</td>\n",
              "    </tr>\n",
              "    <tr>\n",
              "      <th>3</th>\n",
              "      <td>12350.0</td>\n",
              "      <td>16</td>\n",
              "      <td>294.40</td>\n",
              "      <td>2.833213</td>\n",
              "      <td>5.688330</td>\n",
              "      <td>2</td>\n",
              "      <td>2</td>\n",
              "      <td>1</td>\n",
              "    </tr>\n",
              "    <tr>\n",
              "      <th>4</th>\n",
              "      <td>12352.0</td>\n",
              "      <td>49</td>\n",
              "      <td>1130.94</td>\n",
              "      <td>3.912023</td>\n",
              "      <td>7.031688</td>\n",
              "      <td>0</td>\n",
              "      <td>0</td>\n",
              "      <td>7</td>\n",
              "    </tr>\n",
              "  </tbody>\n",
              "</table>\n",
              "</div>"
            ],
            "text/plain": [
              "   CustomerID  Products_ordered  ...  Cluster_name  Frequency_of_customer\n",
              "0     12347.0                96  ...             3                      7\n",
              "1     12348.0                 6  ...             1                      3\n",
              "2     12349.0                57  ...             0                      1\n",
              "3     12350.0                16  ...             2                      1\n",
              "4     12352.0                49  ...             0                      7\n",
              "\n",
              "[5 rows x 8 columns]"
            ]
          },
          "metadata": {
            "tags": []
          },
          "execution_count": 81
        }
      ]
    },
    {
      "cell_type": "markdown",
      "metadata": {
        "id": "MsSE7qGUBXtd"
      },
      "source": [
        "## Customer visit number per year and per month"
      ]
    },
    {
      "cell_type": "code",
      "metadata": {
        "id": "ueNjG2UPBUyr",
        "outputId": "fa8d9a81-c410-40de-d767-5933b6727232",
        "colab": {
          "base_uri": "https://localhost:8080/",
          "height": 204
        }
      },
      "source": [
        "new_dataset = dataset[['InvoiceNo', 'CustomerID', 'Year', 'Month']]\n",
        "\n",
        "new_dataset.head()"
      ],
      "execution_count": 82,
      "outputs": [
        {
          "output_type": "execute_result",
          "data": {
            "text/html": [
              "<div>\n",
              "<style scoped>\n",
              "    .dataframe tbody tr th:only-of-type {\n",
              "        vertical-align: middle;\n",
              "    }\n",
              "\n",
              "    .dataframe tbody tr th {\n",
              "        vertical-align: top;\n",
              "    }\n",
              "\n",
              "    .dataframe thead th {\n",
              "        text-align: right;\n",
              "    }\n",
              "</style>\n",
              "<table border=\"1\" class=\"dataframe\">\n",
              "  <thead>\n",
              "    <tr style=\"text-align: right;\">\n",
              "      <th></th>\n",
              "      <th>InvoiceNo</th>\n",
              "      <th>CustomerID</th>\n",
              "      <th>Year</th>\n",
              "      <th>Month</th>\n",
              "    </tr>\n",
              "  </thead>\n",
              "  <tbody>\n",
              "    <tr>\n",
              "      <th>0</th>\n",
              "      <td>536365</td>\n",
              "      <td>17850.0</td>\n",
              "      <td>2010</td>\n",
              "      <td>12</td>\n",
              "    </tr>\n",
              "    <tr>\n",
              "      <th>1</th>\n",
              "      <td>536365</td>\n",
              "      <td>17850.0</td>\n",
              "      <td>2010</td>\n",
              "      <td>12</td>\n",
              "    </tr>\n",
              "    <tr>\n",
              "      <th>2</th>\n",
              "      <td>536365</td>\n",
              "      <td>17850.0</td>\n",
              "      <td>2010</td>\n",
              "      <td>12</td>\n",
              "    </tr>\n",
              "    <tr>\n",
              "      <th>3</th>\n",
              "      <td>536365</td>\n",
              "      <td>17850.0</td>\n",
              "      <td>2010</td>\n",
              "      <td>12</td>\n",
              "    </tr>\n",
              "    <tr>\n",
              "      <th>4</th>\n",
              "      <td>536365</td>\n",
              "      <td>17850.0</td>\n",
              "      <td>2010</td>\n",
              "      <td>12</td>\n",
              "    </tr>\n",
              "  </tbody>\n",
              "</table>\n",
              "</div>"
            ],
            "text/plain": [
              "  InvoiceNo  CustomerID  Year  Month\n",
              "0    536365     17850.0  2010     12\n",
              "1    536365     17850.0  2010     12\n",
              "2    536365     17850.0  2010     12\n",
              "3    536365     17850.0  2010     12\n",
              "4    536365     17850.0  2010     12"
            ]
          },
          "metadata": {
            "tags": []
          },
          "execution_count": 82
        }
      ]
    },
    {
      "cell_type": "code",
      "metadata": {
        "id": "dL3FtyksBkJ8",
        "outputId": "ebebc062-e8fe-45ad-c7fd-fc0187361e80",
        "colab": {
          "base_uri": "https://localhost:8080/",
          "height": 309
        }
      },
      "source": [
        "# Dropping the duplicates\n",
        "new_dataset.drop_duplicates(inplace=True)\n",
        "\n",
        "new_dataset.head()"
      ],
      "execution_count": 83,
      "outputs": [
        {
          "output_type": "stream",
          "text": [
            "/usr/local/lib/python3.6/dist-packages/ipykernel_launcher.py:2: SettingWithCopyWarning: \n",
            "A value is trying to be set on a copy of a slice from a DataFrame\n",
            "\n",
            "See the caveats in the documentation: https://pandas.pydata.org/pandas-docs/stable/user_guide/indexing.html#returning-a-view-versus-a-copy\n",
            "  \n"
          ],
          "name": "stderr"
        },
        {
          "output_type": "execute_result",
          "data": {
            "text/html": [
              "<div>\n",
              "<style scoped>\n",
              "    .dataframe tbody tr th:only-of-type {\n",
              "        vertical-align: middle;\n",
              "    }\n",
              "\n",
              "    .dataframe tbody tr th {\n",
              "        vertical-align: top;\n",
              "    }\n",
              "\n",
              "    .dataframe thead th {\n",
              "        text-align: right;\n",
              "    }\n",
              "</style>\n",
              "<table border=\"1\" class=\"dataframe\">\n",
              "  <thead>\n",
              "    <tr style=\"text-align: right;\">\n",
              "      <th></th>\n",
              "      <th>InvoiceNo</th>\n",
              "      <th>CustomerID</th>\n",
              "      <th>Year</th>\n",
              "      <th>Month</th>\n",
              "    </tr>\n",
              "  </thead>\n",
              "  <tbody>\n",
              "    <tr>\n",
              "      <th>0</th>\n",
              "      <td>536365</td>\n",
              "      <td>17850.0</td>\n",
              "      <td>2010</td>\n",
              "      <td>12</td>\n",
              "    </tr>\n",
              "    <tr>\n",
              "      <th>7</th>\n",
              "      <td>536366</td>\n",
              "      <td>17850.0</td>\n",
              "      <td>2010</td>\n",
              "      <td>12</td>\n",
              "    </tr>\n",
              "    <tr>\n",
              "      <th>10</th>\n",
              "      <td>536367</td>\n",
              "      <td>13047.0</td>\n",
              "      <td>2010</td>\n",
              "      <td>12</td>\n",
              "    </tr>\n",
              "    <tr>\n",
              "      <th>21</th>\n",
              "      <td>536368</td>\n",
              "      <td>13047.0</td>\n",
              "      <td>2010</td>\n",
              "      <td>12</td>\n",
              "    </tr>\n",
              "    <tr>\n",
              "      <th>25</th>\n",
              "      <td>536369</td>\n",
              "      <td>13047.0</td>\n",
              "      <td>2010</td>\n",
              "      <td>12</td>\n",
              "    </tr>\n",
              "  </tbody>\n",
              "</table>\n",
              "</div>"
            ],
            "text/plain": [
              "   InvoiceNo  CustomerID  Year  Month\n",
              "0     536365     17850.0  2010     12\n",
              "7     536366     17850.0  2010     12\n",
              "10    536367     13047.0  2010     12\n",
              "21    536368     13047.0  2010     12\n",
              "25    536369     13047.0  2010     12"
            ]
          },
          "metadata": {
            "tags": []
          },
          "execution_count": 83
        }
      ]
    },
    {
      "cell_type": "code",
      "metadata": {
        "id": "NcJvHryxBzxa"
      },
      "source": [
        "# Dropping the index\n",
        "new_dataset = new_dataset.reset_index(drop=True)"
      ],
      "execution_count": 84,
      "outputs": []
    },
    {
      "cell_type": "code",
      "metadata": {
        "id": "53JyfjDXB-mw",
        "outputId": "4561fbd8-1c22-4e06-b955-21ff0737574b",
        "colab": {
          "base_uri": "https://localhost:8080/",
          "height": 419
        }
      },
      "source": [
        "# Obtaining number of visits per year\n",
        "new_dataset['Visit_no_yr'] = new_dataset.groupby(['CustomerID', 'Year']).cumcount() + 1\n",
        "\n",
        "new_dataset"
      ],
      "execution_count": 85,
      "outputs": [
        {
          "output_type": "execute_result",
          "data": {
            "text/html": [
              "<div>\n",
              "<style scoped>\n",
              "    .dataframe tbody tr th:only-of-type {\n",
              "        vertical-align: middle;\n",
              "    }\n",
              "\n",
              "    .dataframe tbody tr th {\n",
              "        vertical-align: top;\n",
              "    }\n",
              "\n",
              "    .dataframe thead th {\n",
              "        text-align: right;\n",
              "    }\n",
              "</style>\n",
              "<table border=\"1\" class=\"dataframe\">\n",
              "  <thead>\n",
              "    <tr style=\"text-align: right;\">\n",
              "      <th></th>\n",
              "      <th>InvoiceNo</th>\n",
              "      <th>CustomerID</th>\n",
              "      <th>Year</th>\n",
              "      <th>Month</th>\n",
              "      <th>Visit_no_yr</th>\n",
              "    </tr>\n",
              "  </thead>\n",
              "  <tbody>\n",
              "    <tr>\n",
              "      <th>0</th>\n",
              "      <td>536365</td>\n",
              "      <td>17850.0</td>\n",
              "      <td>2010</td>\n",
              "      <td>12</td>\n",
              "      <td>1</td>\n",
              "    </tr>\n",
              "    <tr>\n",
              "      <th>1</th>\n",
              "      <td>536366</td>\n",
              "      <td>17850.0</td>\n",
              "      <td>2010</td>\n",
              "      <td>12</td>\n",
              "      <td>2</td>\n",
              "    </tr>\n",
              "    <tr>\n",
              "      <th>2</th>\n",
              "      <td>536367</td>\n",
              "      <td>13047.0</td>\n",
              "      <td>2010</td>\n",
              "      <td>12</td>\n",
              "      <td>1</td>\n",
              "    </tr>\n",
              "    <tr>\n",
              "      <th>3</th>\n",
              "      <td>536368</td>\n",
              "      <td>13047.0</td>\n",
              "      <td>2010</td>\n",
              "      <td>12</td>\n",
              "      <td>2</td>\n",
              "    </tr>\n",
              "    <tr>\n",
              "      <th>4</th>\n",
              "      <td>536369</td>\n",
              "      <td>13047.0</td>\n",
              "      <td>2010</td>\n",
              "      <td>12</td>\n",
              "      <td>3</td>\n",
              "    </tr>\n",
              "    <tr>\n",
              "      <th>...</th>\n",
              "      <td>...</td>\n",
              "      <td>...</td>\n",
              "      <td>...</td>\n",
              "      <td>...</td>\n",
              "      <td>...</td>\n",
              "    </tr>\n",
              "    <tr>\n",
              "      <th>16815</th>\n",
              "      <td>581581</td>\n",
              "      <td>17581.0</td>\n",
              "      <td>2011</td>\n",
              "      <td>12</td>\n",
              "      <td>21</td>\n",
              "    </tr>\n",
              "    <tr>\n",
              "      <th>16816</th>\n",
              "      <td>581582</td>\n",
              "      <td>17581.0</td>\n",
              "      <td>2011</td>\n",
              "      <td>12</td>\n",
              "      <td>22</td>\n",
              "    </tr>\n",
              "    <tr>\n",
              "      <th>16817</th>\n",
              "      <td>581585</td>\n",
              "      <td>15804.0</td>\n",
              "      <td>2011</td>\n",
              "      <td>12</td>\n",
              "      <td>13</td>\n",
              "    </tr>\n",
              "    <tr>\n",
              "      <th>16818</th>\n",
              "      <td>581586</td>\n",
              "      <td>13113.0</td>\n",
              "      <td>2011</td>\n",
              "      <td>12</td>\n",
              "      <td>23</td>\n",
              "    </tr>\n",
              "    <tr>\n",
              "      <th>16819</th>\n",
              "      <td>581587</td>\n",
              "      <td>12680.0</td>\n",
              "      <td>2011</td>\n",
              "      <td>12</td>\n",
              "      <td>4</td>\n",
              "    </tr>\n",
              "  </tbody>\n",
              "</table>\n",
              "<p>16820 rows × 5 columns</p>\n",
              "</div>"
            ],
            "text/plain": [
              "      InvoiceNo  CustomerID  Year  Month  Visit_no_yr\n",
              "0        536365     17850.0  2010     12            1\n",
              "1        536366     17850.0  2010     12            2\n",
              "2        536367     13047.0  2010     12            1\n",
              "3        536368     13047.0  2010     12            2\n",
              "4        536369     13047.0  2010     12            3\n",
              "...         ...         ...   ...    ...          ...\n",
              "16815    581581     17581.0  2011     12           21\n",
              "16816    581582     17581.0  2011     12           22\n",
              "16817    581585     15804.0  2011     12           13\n",
              "16818    581586     13113.0  2011     12           23\n",
              "16819    581587     12680.0  2011     12            4\n",
              "\n",
              "[16820 rows x 5 columns]"
            ]
          },
          "metadata": {
            "tags": []
          },
          "execution_count": 85
        }
      ]
    },
    {
      "cell_type": "code",
      "metadata": {
        "id": "G3nHhYrzCRKd",
        "outputId": "a7ae3990-594a-47ab-8931-34714a01b765",
        "colab": {
          "base_uri": "https://localhost:8080/",
          "height": 419
        }
      },
      "source": [
        "# Number of visits per month\n",
        "new_dataset['Visit_no_month'] = new_dataset.groupby(['CustomerID', 'Month']).cumcount() + 1\n",
        "\n",
        "new_dataset"
      ],
      "execution_count": 86,
      "outputs": [
        {
          "output_type": "execute_result",
          "data": {
            "text/html": [
              "<div>\n",
              "<style scoped>\n",
              "    .dataframe tbody tr th:only-of-type {\n",
              "        vertical-align: middle;\n",
              "    }\n",
              "\n",
              "    .dataframe tbody tr th {\n",
              "        vertical-align: top;\n",
              "    }\n",
              "\n",
              "    .dataframe thead th {\n",
              "        text-align: right;\n",
              "    }\n",
              "</style>\n",
              "<table border=\"1\" class=\"dataframe\">\n",
              "  <thead>\n",
              "    <tr style=\"text-align: right;\">\n",
              "      <th></th>\n",
              "      <th>InvoiceNo</th>\n",
              "      <th>CustomerID</th>\n",
              "      <th>Year</th>\n",
              "      <th>Month</th>\n",
              "      <th>Visit_no_yr</th>\n",
              "      <th>Visit_no_month</th>\n",
              "    </tr>\n",
              "  </thead>\n",
              "  <tbody>\n",
              "    <tr>\n",
              "      <th>0</th>\n",
              "      <td>536365</td>\n",
              "      <td>17850.0</td>\n",
              "      <td>2010</td>\n",
              "      <td>12</td>\n",
              "      <td>1</td>\n",
              "      <td>1</td>\n",
              "    </tr>\n",
              "    <tr>\n",
              "      <th>1</th>\n",
              "      <td>536366</td>\n",
              "      <td>17850.0</td>\n",
              "      <td>2010</td>\n",
              "      <td>12</td>\n",
              "      <td>2</td>\n",
              "      <td>2</td>\n",
              "    </tr>\n",
              "    <tr>\n",
              "      <th>2</th>\n",
              "      <td>536367</td>\n",
              "      <td>13047.0</td>\n",
              "      <td>2010</td>\n",
              "      <td>12</td>\n",
              "      <td>1</td>\n",
              "      <td>1</td>\n",
              "    </tr>\n",
              "    <tr>\n",
              "      <th>3</th>\n",
              "      <td>536368</td>\n",
              "      <td>13047.0</td>\n",
              "      <td>2010</td>\n",
              "      <td>12</td>\n",
              "      <td>2</td>\n",
              "      <td>2</td>\n",
              "    </tr>\n",
              "    <tr>\n",
              "      <th>4</th>\n",
              "      <td>536369</td>\n",
              "      <td>13047.0</td>\n",
              "      <td>2010</td>\n",
              "      <td>12</td>\n",
              "      <td>3</td>\n",
              "      <td>3</td>\n",
              "    </tr>\n",
              "    <tr>\n",
              "      <th>...</th>\n",
              "      <td>...</td>\n",
              "      <td>...</td>\n",
              "      <td>...</td>\n",
              "      <td>...</td>\n",
              "      <td>...</td>\n",
              "      <td>...</td>\n",
              "    </tr>\n",
              "    <tr>\n",
              "      <th>16815</th>\n",
              "      <td>581581</td>\n",
              "      <td>17581.0</td>\n",
              "      <td>2011</td>\n",
              "      <td>12</td>\n",
              "      <td>21</td>\n",
              "      <td>4</td>\n",
              "    </tr>\n",
              "    <tr>\n",
              "      <th>16816</th>\n",
              "      <td>581582</td>\n",
              "      <td>17581.0</td>\n",
              "      <td>2011</td>\n",
              "      <td>12</td>\n",
              "      <td>22</td>\n",
              "      <td>5</td>\n",
              "    </tr>\n",
              "    <tr>\n",
              "      <th>16817</th>\n",
              "      <td>581585</td>\n",
              "      <td>15804.0</td>\n",
              "      <td>2011</td>\n",
              "      <td>12</td>\n",
              "      <td>13</td>\n",
              "      <td>1</td>\n",
              "    </tr>\n",
              "    <tr>\n",
              "      <th>16818</th>\n",
              "      <td>581586</td>\n",
              "      <td>13113.0</td>\n",
              "      <td>2011</td>\n",
              "      <td>12</td>\n",
              "      <td>23</td>\n",
              "      <td>2</td>\n",
              "    </tr>\n",
              "    <tr>\n",
              "      <th>16819</th>\n",
              "      <td>581587</td>\n",
              "      <td>12680.0</td>\n",
              "      <td>2011</td>\n",
              "      <td>12</td>\n",
              "      <td>4</td>\n",
              "      <td>1</td>\n",
              "    </tr>\n",
              "  </tbody>\n",
              "</table>\n",
              "<p>16820 rows × 6 columns</p>\n",
              "</div>"
            ],
            "text/plain": [
              "      InvoiceNo  CustomerID  Year  Month  Visit_no_yr  Visit_no_month\n",
              "0        536365     17850.0  2010     12            1               1\n",
              "1        536366     17850.0  2010     12            2               2\n",
              "2        536367     13047.0  2010     12            1               1\n",
              "3        536368     13047.0  2010     12            2               2\n",
              "4        536369     13047.0  2010     12            3               3\n",
              "...         ...         ...   ...    ...          ...             ...\n",
              "16815    581581     17581.0  2011     12           21               4\n",
              "16816    581582     17581.0  2011     12           22               5\n",
              "16817    581585     15804.0  2011     12           13               1\n",
              "16818    581586     13113.0  2011     12           23               2\n",
              "16819    581587     12680.0  2011     12            4               1\n",
              "\n",
              "[16820 rows x 6 columns]"
            ]
          },
          "metadata": {
            "tags": []
          },
          "execution_count": 86
        }
      ]
    },
    {
      "cell_type": "markdown",
      "metadata": {
        "id": "WIOv_TP3DMs8"
      },
      "source": [
        "# <font color='blue'>**Item Recommendation system using Word2Vec**</font>"
      ]
    },
    {
      "cell_type": "code",
      "metadata": {
        "id": "cSwcLvVJC4h9",
        "outputId": "98f29efc-a5ce-4367-db1f-f0a51121d4d0",
        "colab": {
          "base_uri": "https://localhost:8080/",
          "height": 34
        }
      },
      "source": [
        "no_of_customers =  list(dataset['CustomerID'].unique())\n",
        "\n",
        "print(f'Number of unique customers are {len(no_of_customers)}')"
      ],
      "execution_count": 87,
      "outputs": [
        {
          "output_type": "stream",
          "text": [
            "Number of unique customers are 4190\n"
          ],
          "name": "stdout"
        }
      ]
    },
    {
      "cell_type": "code",
      "metadata": {
        "id": "Kwni3W_3DkKX"
      },
      "source": [
        "# Typecasting\n",
        "dataset['StockCode'] = dataset['StockCode'].astype(str)"
      ],
      "execution_count": 88,
      "outputs": []
    },
    {
      "cell_type": "markdown",
      "metadata": {
        "id": "xQhhAlkyDzX5"
      },
      "source": [
        "### Shuffling the customers and using 90% of it for creating the model & then splitting into train and validation dataset"
      ]
    },
    {
      "cell_type": "code",
      "metadata": {
        "id": "3ZZhmXSEDxer"
      },
      "source": [
        "import random\n",
        "\n",
        "random.shuffle(no_of_customers)\n",
        "\n",
        "customers_train = [no_of_customers[i] for i in range(round(0.9 * len(no_of_customers)))]\n",
        "\n",
        "train_dataset = dataset[dataset['CustomerID'].isin(customers_train)]\n",
        "validation_dataset = dataset[~dataset['CustomerID'].isin(customers_train)]"
      ],
      "execution_count": 89,
      "outputs": []
    },
    {
      "cell_type": "markdown",
      "metadata": {
        "id": "Gp7gJEmSFLJI"
      },
      "source": [
        "## List of purchases made by the customer "
      ]
    },
    {
      "cell_type": "code",
      "metadata": {
        "id": "FTQ7jhaJE8k8"
      },
      "source": [
        "from tqdm import tqdm"
      ],
      "execution_count": 90,
      "outputs": []
    },
    {
      "cell_type": "markdown",
      "metadata": {
        "id": "j1U9ELCrFcHJ"
      },
      "source": [
        "### 1. Training dataset"
      ]
    },
    {
      "cell_type": "code",
      "metadata": {
        "id": "dOIZQbgEFasw",
        "outputId": "8100bb97-7cf2-4b3e-b028-6740a24e7eb2",
        "colab": {
          "base_uri": "https://localhost:8080/",
          "height": 34
        }
      },
      "source": [
        "purchases_train = []\n",
        "\n",
        "for i in tqdm(customers_train):\n",
        "  temp = list(train_dataset[train_dataset['CustomerID'] == i]['StockCode'])\n",
        "  purchases_train.append(temp)"
      ],
      "execution_count": 91,
      "outputs": [
        {
          "output_type": "stream",
          "text": [
            "100%|██████████| 3771/3771 [00:06<00:00, 624.33it/s]\n"
          ],
          "name": "stderr"
        }
      ]
    },
    {
      "cell_type": "markdown",
      "metadata": {
        "id": "2hDkBXGdF3yY"
      },
      "source": [
        "### 2. Validation dataset"
      ]
    },
    {
      "cell_type": "code",
      "metadata": {
        "id": "pxt4gzj7FzfW",
        "outputId": "3616eafa-90a4-4951-d932-2d11f4e7edde",
        "colab": {
          "base_uri": "https://localhost:8080/",
          "height": 34
        }
      },
      "source": [
        "purchases_val = []\n",
        "\n",
        "for i in tqdm(validation_dataset['CustomerID'].unique()):\n",
        "  temp = list(validation_dataset[validation_dataset['CustomerID'] == i]['StockCode'])\n",
        "  purchases_val.append(temp)"
      ],
      "execution_count": 92,
      "outputs": [
        {
          "output_type": "stream",
          "text": [
            "100%|██████████| 419/419 [00:00<00:00, 924.41it/s]\n"
          ],
          "name": "stderr"
        }
      ]
    },
    {
      "cell_type": "code",
      "metadata": {
        "id": "BhQ6HwsCGVQf"
      },
      "source": [
        "from gensim.models import Word2Vec"
      ],
      "execution_count": 93,
      "outputs": []
    },
    {
      "cell_type": "markdown",
      "metadata": {
        "id": "cUf6ZfMyGdRI"
      },
      "source": [
        "### Creating the Word2Vec model"
      ]
    },
    {
      "cell_type": "code",
      "metadata": {
        "id": "JOoHOMBnGcEt",
        "outputId": "6df804f2-3435-4933-ed32-4a46666bc456",
        "colab": {
          "base_uri": "https://localhost:8080/",
          "height": 34
        }
      },
      "source": [
        "model = Word2Vec(window = 10, sg = 1, hs = 0, negative = 10, alpha = 0.03, min_alpha = 0.0007, seed = 14)\n",
        "\n",
        "model.build_vocab(purchases_train, progress_per = 200)\n",
        "\n",
        "model.train(purchases_train, total_examples = model.corpus_count, epochs = 10, report_delay = 1)"
      ],
      "execution_count": 94,
      "outputs": [
        {
          "output_type": "execute_result",
          "data": {
            "text/plain": [
              "(3026821, 3058330)"
            ]
          },
          "metadata": {
            "tags": []
          },
          "execution_count": 94
        }
      ]
    },
    {
      "cell_type": "code",
      "metadata": {
        "id": "9RxWIUEKHMsf",
        "outputId": "f58e08cd-896d-4295-c58c-ab1d3fc9446e",
        "colab": {
          "base_uri": "https://localhost:8080/",
          "height": 34
        }
      },
      "source": [
        "model.init_sims(replace=True)\n",
        "\n",
        "print(model)"
      ],
      "execution_count": 95,
      "outputs": [
        {
          "output_type": "stream",
          "text": [
            "Word2Vec(vocab=2879, size=100, alpha=0.03)\n"
          ],
          "name": "stdout"
        }
      ]
    },
    {
      "cell_type": "markdown",
      "metadata": {
        "id": "_asM4wsqHmaL"
      },
      "source": [
        "### Each vector of 2879 unique vocabulary words has the size of 100"
      ]
    },
    {
      "cell_type": "code",
      "metadata": {
        "id": "PQO0t04VHhzZ",
        "outputId": "60680fa5-391f-48bf-8486-5ac6bdeff2b3",
        "colab": {
          "base_uri": "https://localhost:8080/",
          "height": 88
        }
      },
      "source": [
        "X = model[model.wv.vocab]\n",
        "\n",
        "X.shape"
      ],
      "execution_count": 96,
      "outputs": [
        {
          "output_type": "stream",
          "text": [
            "/usr/local/lib/python3.6/dist-packages/ipykernel_launcher.py:1: DeprecationWarning: Call to deprecated `__getitem__` (Method will be removed in 4.0.0, use self.wv.__getitem__() instead).\n",
            "  \"\"\"Entry point for launching an IPython kernel.\n"
          ],
          "name": "stderr"
        },
        {
          "output_type": "execute_result",
          "data": {
            "text/plain": [
              "(2879, 100)"
            ]
          },
          "metadata": {
            "tags": []
          },
          "execution_count": 96
        }
      ]
    },
    {
      "cell_type": "markdown",
      "metadata": {
        "id": "042ymmWEH607"
      },
      "source": [
        "### Visual representation of similar products"
      ]
    },
    {
      "cell_type": "code",
      "metadata": {
        "id": "blwl_tbyH2h6",
        "outputId": "0900fde5-1f8e-41d5-c078-48547e029f5b",
        "colab": {
          "base_uri": "https://localhost:8080/",
          "height": 554
        }
      },
      "source": [
        "import umap.umap_ as umap\n",
        "\n",
        "cluster_embedding = umap.UMAP(n_neighbors=30, min_dist=0.0, n_components=2, random_state=42).fit_transform(X)\n",
        "\n",
        "plt.figure(figsize=(10, 9))\n",
        "plt.scatter(cluster_embedding[:, 0], cluster_embedding[:, 1], s=3, cmap='Spectral')"
      ],
      "execution_count": 97,
      "outputs": [
        {
          "output_type": "execute_result",
          "data": {
            "text/plain": [
              "<matplotlib.collections.PathCollection at 0x7ff1df071a90>"
            ]
          },
          "metadata": {
            "tags": []
          },
          "execution_count": 97
        },
        {
          "output_type": "display_data",
          "data": {
            "image/png": "[encoded data removed]",
            "text/plain": [
              "<Figure size 720x648 with 1 Axes>"
            ]
          },
          "metadata": {
            "tags": [],
            "needs_background": "light"
          }
        }
      ]
    },
    {
      "cell_type": "markdown",
      "metadata": {
        "id": "-6fZDCC_JiVr"
      },
      "source": [
        "### Creating a product dictionary"
      ]
    },
    {
      "cell_type": "code",
      "metadata": {
        "id": "DIHf4uVfJQ5c",
        "outputId": "479ce42f-10fb-476e-9846-e73b8394b3cb",
        "colab": {
          "base_uri": "https://localhost:8080/",
          "height": 122
        }
      },
      "source": [
        "products = train_dataset[['StockCode', 'Description']]\n",
        "\n",
        "products.drop_duplicates(inplace=True, subset='StockCode', keep='last')\n",
        "\n",
        "products_dict = products.groupby('StockCode')['Description'].apply(list).to_dict()"
      ],
      "execution_count": 98,
      "outputs": [
        {
          "output_type": "stream",
          "text": [
            "/usr/local/lib/python3.6/dist-packages/ipykernel_launcher.py:3: SettingWithCopyWarning: \n",
            "A value is trying to be set on a copy of a slice from a DataFrame\n",
            "\n",
            "See the caveats in the documentation: https://pandas.pydata.org/pandas-docs/stable/user_guide/indexing.html#returning-a-view-versus-a-copy\n",
            "  This is separate from the ipykernel package so we can avoid doing imports until\n"
          ],
          "name": "stderr"
        }
      ]
    },
    {
      "cell_type": "code",
      "metadata": {
        "id": "CPzI4KhNKEp-",
        "outputId": "d38fb288-71c2-400a-a665-2bce264777c3",
        "colab": {
          "base_uri": "https://localhost:8080/",
          "height": 34
        }
      },
      "source": [
        "products_dict['22748']"
      ],
      "execution_count": 99,
      "outputs": [
        {
          "output_type": "execute_result",
          "data": {
            "text/plain": [
              "[\"POPPY'S PLAYHOUSE KITCHEN\"]"
            ]
          },
          "metadata": {
            "tags": []
          },
          "execution_count": 99
        }
      ]
    },
    {
      "cell_type": "code",
      "metadata": {
        "id": "5MYG7dyQKJxy",
        "outputId": "00da5968-96e9-4993-c6a8-46d8079ad3d4",
        "colab": {
          "base_uri": "https://localhost:8080/",
          "height": 34
        }
      },
      "source": [
        "products_dict['84029G']"
      ],
      "execution_count": 100,
      "outputs": [
        {
          "output_type": "execute_result",
          "data": {
            "text/plain": [
              "['KNITTED UNION FLAG HOT WATER BOTTLE']"
            ]
          },
          "metadata": {
            "tags": []
          },
          "execution_count": 100
        }
      ]
    },
    {
      "cell_type": "markdown",
      "metadata": {
        "id": "gyCyLoZMKSVM"
      },
      "source": [
        "## Recommendation Function based on single product vector and will return 6 similar products"
      ]
    },
    {
      "cell_type": "code",
      "metadata": {
        "id": "Y5FT3PvnKPkP"
      },
      "source": [
        "def similar_products(v, n = 6):\n",
        "  ms = model.similar_by_vector(v, topn = n + 1)[1:]\n",
        "  new_ms = []\n",
        "  for j in ms:\n",
        "    pair = (products_dict[j[0]][0], j[1])\n",
        "    new_ms.append(pair)\n",
        "  \n",
        "  return new_ms"
      ],
      "execution_count": 101,
      "outputs": []
    },
    {
      "cell_type": "code",
      "metadata": {
        "id": "UBmUNbJFK8FU",
        "outputId": "8b1c5dae-1915-4003-ffae-f9840822e6ab",
        "colab": {
          "base_uri": "https://localhost:8080/",
          "height": 241
        }
      },
      "source": [
        "similar_products(model['84029G'])"
      ],
      "execution_count": 102,
      "outputs": [
        {
          "output_type": "stream",
          "text": [
            "/usr/local/lib/python3.6/dist-packages/ipykernel_launcher.py:1: DeprecationWarning: Call to deprecated `__getitem__` (Method will be removed in 4.0.0, use self.wv.__getitem__() instead).\n",
            "  \"\"\"Entry point for launching an IPython kernel.\n",
            "/usr/local/lib/python3.6/dist-packages/ipykernel_launcher.py:2: DeprecationWarning: Call to deprecated `similar_by_vector` (Method will be removed in 4.0.0, use self.wv.similar_by_vector() instead).\n",
            "  \n",
            "/usr/local/lib/python3.6/dist-packages/gensim/matutils.py:737: FutureWarning: Conversion of the second argument of issubdtype from `int` to `np.signedinteger` is deprecated. In future, it will be treated as `np.int64 == np.dtype(int).type`.\n",
            "  if np.issubdtype(vec.dtype, np.int):\n"
          ],
          "name": "stderr"
        },
        {
          "output_type": "execute_result",
          "data": {
            "text/plain": [
              "[('RED WOOLLY HOTTIE WHITE HEART.', 0.7696393728256226),\n",
              " ('CHOCOLATE HOT WATER BOTTLE', 0.7201017141342163),\n",
              " ('RETROSPOT HEART HOT WATER BOTTLE', 0.6841023564338684),\n",
              " ('SCOTTIE DOG HOT WATER BOTTLE', 0.6737223863601685),\n",
              " ('WHITE SKULL HOT WATER BOTTLE ', 0.6689456701278687),\n",
              " ('HOT WATER BOTTLE I AM SO POORLY', 0.6640118360519409)]"
            ]
          },
          "metadata": {
            "tags": []
          },
          "execution_count": 102
        }
      ]
    },
    {
      "cell_type": "code",
      "metadata": {
        "id": "_vt0_wufLBlW",
        "outputId": "2f4a1f47-267c-426c-a948-1709186ba4db",
        "colab": {
          "base_uri": "https://localhost:8080/",
          "height": 241
        }
      },
      "source": [
        "similar_products(model['90019A'])"
      ],
      "execution_count": 103,
      "outputs": [
        {
          "output_type": "stream",
          "text": [
            "/usr/local/lib/python3.6/dist-packages/ipykernel_launcher.py:1: DeprecationWarning: Call to deprecated `__getitem__` (Method will be removed in 4.0.0, use self.wv.__getitem__() instead).\n",
            "  \"\"\"Entry point for launching an IPython kernel.\n",
            "/usr/local/lib/python3.6/dist-packages/ipykernel_launcher.py:2: DeprecationWarning: Call to deprecated `similar_by_vector` (Method will be removed in 4.0.0, use self.wv.similar_by_vector() instead).\n",
            "  \n",
            "/usr/local/lib/python3.6/dist-packages/gensim/matutils.py:737: FutureWarning: Conversion of the second argument of issubdtype from `int` to `np.signedinteger` is deprecated. In future, it will be treated as `np.int64 == np.dtype(int).type`.\n",
            "  if np.issubdtype(vec.dtype, np.int):\n"
          ],
          "name": "stderr"
        },
        {
          "output_type": "execute_result",
          "data": {
            "text/plain": [
              "[('SILVER M.O.P ORBIT DROP EARRINGS', 0.7292970418930054),\n",
              " ('RASPBERRY ANT COPPER FLOWER NECKLAC', 0.6618899703025818),\n",
              " ('PINK BOUDICCA LARGE BRACELET', 0.6541956663131714),\n",
              " ('PINK HEART OF GLASS BRACELET', 0.6426607370376587),\n",
              " ('ANT COPPER RED BOUDICCA BRACELET', 0.6326631307601929),\n",
              " ('VINTAGE ROSE BEAD BRACELET RASPBERR', 0.6316319704055786)]"
            ]
          },
          "metadata": {
            "tags": []
          },
          "execution_count": 103
        }
      ]
    },
    {
      "cell_type": "markdown",
      "metadata": {
        "id": "bE3k3zhsLOF6"
      },
      "source": [
        "## Recommendation function based on average of products vector bought by user and will return 6 similar products"
      ]
    },
    {
      "cell_type": "code",
      "metadata": {
        "id": "QCLB682OLI-z"
      },
      "source": [
        "def aggregate_vectors(products):\n",
        "  product_vec = []\n",
        "  for i in products:\n",
        "    try:\n",
        "      product_vec.append(model[i])\n",
        "    except KeyError:\n",
        "      continue\n",
        "  \n",
        "  return np.mean(product_vec, axis=0)"
      ],
      "execution_count": 104,
      "outputs": []
    },
    {
      "cell_type": "code",
      "metadata": {
        "id": "p8W5dXSGLz_S",
        "outputId": "d519d450-ab97-4772-d01e-a5439fd5205a",
        "colab": {
          "base_uri": "https://localhost:8080/",
          "height": 34
        }
      },
      "source": [
        "len(purchases_val[0])"
      ],
      "execution_count": 105,
      "outputs": [
        {
          "output_type": "execute_result",
          "data": {
            "text/plain": [
              "54"
            ]
          },
          "metadata": {
            "tags": []
          },
          "execution_count": 105
        }
      ]
    },
    {
      "cell_type": "code",
      "metadata": {
        "id": "gh81OssmL7MZ",
        "outputId": "c274e2b0-d265-4f81-d679-d7cd32585ce1",
        "colab": {
          "base_uri": "https://localhost:8080/",
          "height": 88
        }
      },
      "source": [
        "aggregate_vectors(purchases_val[0]).shape"
      ],
      "execution_count": 106,
      "outputs": [
        {
          "output_type": "stream",
          "text": [
            "/usr/local/lib/python3.6/dist-packages/ipykernel_launcher.py:5: DeprecationWarning: Call to deprecated `__getitem__` (Method will be removed in 4.0.0, use self.wv.__getitem__() instead).\n",
            "  \"\"\"\n"
          ],
          "name": "stderr"
        },
        {
          "output_type": "execute_result",
          "data": {
            "text/plain": [
              "(100,)"
            ]
          },
          "metadata": {
            "tags": []
          },
          "execution_count": 106
        }
      ]
    },
    {
      "cell_type": "code",
      "metadata": {
        "id": "yhll1-RMMDOk",
        "outputId": "858df66e-3640-46a2-a55a-98eeb40f45ea",
        "colab": {
          "base_uri": "https://localhost:8080/",
          "height": 241
        }
      },
      "source": [
        "similar_products(aggregate_vectors(purchases_val[0]))"
      ],
      "execution_count": 107,
      "outputs": [
        {
          "output_type": "stream",
          "text": [
            "/usr/local/lib/python3.6/dist-packages/ipykernel_launcher.py:5: DeprecationWarning: Call to deprecated `__getitem__` (Method will be removed in 4.0.0, use self.wv.__getitem__() instead).\n",
            "  \"\"\"\n",
            "/usr/local/lib/python3.6/dist-packages/ipykernel_launcher.py:2: DeprecationWarning: Call to deprecated `similar_by_vector` (Method will be removed in 4.0.0, use self.wv.similar_by_vector() instead).\n",
            "  \n",
            "/usr/local/lib/python3.6/dist-packages/gensim/matutils.py:737: FutureWarning: Conversion of the second argument of issubdtype from `int` to `np.signedinteger` is deprecated. In future, it will be treated as `np.int64 == np.dtype(int).type`.\n",
            "  if np.issubdtype(vec.dtype, np.int):\n"
          ],
          "name": "stderr"
        },
        {
          "output_type": "execute_result",
          "data": {
            "text/plain": [
              "[('ALARM CLOCK BAKELIKE GREEN', 0.8109757900238037),\n",
              " ('ALARM CLOCK BAKELIKE CHOCOLATE', 0.8060528039932251),\n",
              " ('ALARM CLOCK BAKELIKE IVORY', 0.7988013029098511),\n",
              " ('ALARM CLOCK BAKELIKE PINK', 0.7902514338493347),\n",
              " ('ALARM CLOCK BAKELIKE ORANGE', 0.7870926260948181),\n",
              " ('GUMBALL MAGAZINE RACK', 0.6257331967353821)]"
            ]
          },
          "metadata": {
            "tags": []
          },
          "execution_count": 107
        }
      ]
    },
    {
      "cell_type": "code",
      "metadata": {
        "id": "tkkwjZ_eMMGm",
        "outputId": "71b67d6a-0ae7-43b2-cbc6-a7f7e5f98d57",
        "colab": {
          "base_uri": "https://localhost:8080/",
          "height": 241
        }
      },
      "source": [
        "similar_products(aggregate_vectors(purchases_val[0][-5:]))"
      ],
      "execution_count": 108,
      "outputs": [
        {
          "output_type": "stream",
          "text": [
            "/usr/local/lib/python3.6/dist-packages/ipykernel_launcher.py:5: DeprecationWarning: Call to deprecated `__getitem__` (Method will be removed in 4.0.0, use self.wv.__getitem__() instead).\n",
            "  \"\"\"\n",
            "/usr/local/lib/python3.6/dist-packages/ipykernel_launcher.py:2: DeprecationWarning: Call to deprecated `similar_by_vector` (Method will be removed in 4.0.0, use self.wv.similar_by_vector() instead).\n",
            "  \n",
            "/usr/local/lib/python3.6/dist-packages/gensim/matutils.py:737: FutureWarning: Conversion of the second argument of issubdtype from `int` to `np.signedinteger` is deprecated. In future, it will be treated as `np.int64 == np.dtype(int).type`.\n",
            "  if np.issubdtype(vec.dtype, np.int):\n"
          ],
          "name": "stderr"
        },
        {
          "output_type": "execute_result",
          "data": {
            "text/plain": [
              "[('JINGLE BELL HEART ANTIQUE GOLD', 0.6952146291732788),\n",
              " ('BINGO SET', 0.6761542558670044),\n",
              " ('S/15 SILVER GLASS BAUBLES IN BAG', 0.6533063650131226),\n",
              " ('VINTAGE SNAKES & LADDERS', 0.6390411853790283),\n",
              " ('JINGLE BELL HEART DECORATION', 0.6246345639228821),\n",
              " ('CHERUB HEART DECORATION SILVER ', 0.6224830150604248)]"
            ]
          },
          "metadata": {
            "tags": []
          },
          "execution_count": 108
        }
      ]
    },
    {
      "cell_type": "markdown",
      "metadata": {
        "id": "o91nk9l-MdbJ"
      },
      "source": [
        "# <font color=\"blue\">**Churn Prediction**</font>"
      ]
    },
    {
      "cell_type": "code",
      "metadata": {
        "id": "wW-_m20bMSEk"
      },
      "source": [
        ""
      ],
      "execution_count": null,
      "outputs": []
    }
  ]
}