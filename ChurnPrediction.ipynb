{
  "nbformat": 4,
  "nbformat_minor": 0,
  "metadata": {
    "colab": {
      "name": "ChurnPrediction.ipynb",
      "provenance": [],
      "collapsed_sections": [
        "j8lNbjVdf_Qi",
        "fSGiNKntgMvj",
        "kxt6FIfffxsp",
        "_Cgo2yJ_wbTo",
        "jqxsP56NaHcg",
        "1Xg7Hfyh_XwM",
        "WIOv_TP3DMs8",
        "o91nk9l-MdbJ"
      ],
      "toc_visible": true,
      "authorship_tag": "ABX9TyPEgsvnQMaOtTKZXhQQszkF",
      "include_colab_link": true
    },
    "kernelspec": {
      "name": "python3",
      "display_name": "Python 3"
    }
  },
  "cells": [
    {
      "cell_type": "markdown",
      "metadata": {
        "id": "view-in-github",
        "colab_type": "text"
      },
      "source": [
        "<a href=\"https://colab.research.google.com/github/saigirishgilly98/Data-Analytics-Project/blob/main/ChurnPrediction.ipynb\" target=\"_parent\"><img src=\"https://colab.research.google.com/assets/colab-badge.svg\" alt=\"Open In Colab\"/></a>"
      ]
    },
    {
      "cell_type": "markdown",
      "metadata": {
        "id": "PfEalNUUa60H"
      },
      "source": [
        "# <font color=\"purple\">**Churn prediction and Item recommendation on online retail dataset**</font>\n",
        "\n",
        "## **Problem Statement**:\n",
        "\n",
        "Given a transactional dataset, tasks to perform : <font color=\"blue\">Exploratory Data Analysis (EDA), Data pre-processing, Customer Segmentation, User profiling, Item recommendation for each users and churn prediction</font>"
      ]
    },
    {
      "cell_type": "markdown",
      "metadata": {
        "id": "j8lNbjVdf_Qi"
      },
      "source": [
        "# <font color=\"blue\">**Exploratory Data Analysis (EDA)**</font>"
      ]
    },
    {
      "cell_type": "code",
      "metadata": {
        "id": "xZC3XxrZXGvm"
      },
      "source": [
        "# Importing the required libraries\n",
        "import numpy as np\n",
        "import pandas as pd\n",
        "import matplotlib.pyplot as plt"
      ],
      "execution_count": 1,
      "outputs": []
    },
    {
      "cell_type": "code",
      "metadata": {
        "id": "IuM6XB3LcsJY",
        "outputId": "3a819572-ef6a-423b-c87d-a4e787d82e96",
        "colab": {
          "base_uri": "https://localhost:8080/",
          "height": 0
        }
      },
      "source": [
        "# Read the csv file into dataframe\n",
        "dataset = pd.read_csv('data.csv', encoding='unicode_escape')\n",
        "dataset.head(10) "
      ],
      "execution_count": 2,
      "outputs": [
        {
          "output_type": "execute_result",
          "data": {
            "text/html": [
              "<div>\n",
              "<style scoped>\n",
              "    .dataframe tbody tr th:only-of-type {\n",
              "        vertical-align: middle;\n",
              "    }\n",
              "\n",
              "    .dataframe tbody tr th {\n",
              "        vertical-align: top;\n",
              "    }\n",
              "\n",
              "    .dataframe thead th {\n",
              "        text-align: right;\n",
              "    }\n",
              "</style>\n",
              "<table border=\"1\" class=\"dataframe\">\n",
              "  <thead>\n",
              "    <tr style=\"text-align: right;\">\n",
              "      <th></th>\n",
              "      <th>InvoiceNo</th>\n",
              "      <th>StockCode</th>\n",
              "      <th>Description</th>\n",
              "      <th>Quantity</th>\n",
              "      <th>InvoiceDate</th>\n",
              "      <th>UnitPrice</th>\n",
              "      <th>CustomerID</th>\n",
              "      <th>Country</th>\n",
              "    </tr>\n",
              "  </thead>\n",
              "  <tbody>\n",
              "    <tr>\n",
              "      <th>0</th>\n",
              "      <td>536365</td>\n",
              "      <td>85123A</td>\n",
              "      <td>WHITE HANGING HEART T-LIGHT HOLDER</td>\n",
              "      <td>6</td>\n",
              "      <td>12/1/2010 8:26</td>\n",
              "      <td>2.55</td>\n",
              "      <td>17850.0</td>\n",
              "      <td>United Kingdom</td>\n",
              "    </tr>\n",
              "    <tr>\n",
              "      <th>1</th>\n",
              "      <td>536365</td>\n",
              "      <td>71053</td>\n",
              "      <td>WHITE METAL LANTERN</td>\n",
              "      <td>6</td>\n",
              "      <td>12/1/2010 8:26</td>\n",
              "      <td>3.39</td>\n",
              "      <td>17850.0</td>\n",
              "      <td>United Kingdom</td>\n",
              "    </tr>\n",
              "    <tr>\n",
              "      <th>2</th>\n",
              "      <td>536365</td>\n",
              "      <td>84406B</td>\n",
              "      <td>CREAM CUPID HEARTS COAT HANGER</td>\n",
              "      <td>8</td>\n",
              "      <td>12/1/2010 8:26</td>\n",
              "      <td>2.75</td>\n",
              "      <td>17850.0</td>\n",
              "      <td>United Kingdom</td>\n",
              "    </tr>\n",
              "    <tr>\n",
              "      <th>3</th>\n",
              "      <td>536365</td>\n",
              "      <td>84029G</td>\n",
              "      <td>KNITTED UNION FLAG HOT WATER BOTTLE</td>\n",
              "      <td>6</td>\n",
              "      <td>12/1/2010 8:26</td>\n",
              "      <td>3.39</td>\n",
              "      <td>17850.0</td>\n",
              "      <td>United Kingdom</td>\n",
              "    </tr>\n",
              "    <tr>\n",
              "      <th>4</th>\n",
              "      <td>536365</td>\n",
              "      <td>84029E</td>\n",
              "      <td>RED WOOLLY HOTTIE WHITE HEART.</td>\n",
              "      <td>6</td>\n",
              "      <td>12/1/2010 8:26</td>\n",
              "      <td>3.39</td>\n",
              "      <td>17850.0</td>\n",
              "      <td>United Kingdom</td>\n",
              "    </tr>\n",
              "    <tr>\n",
              "      <th>5</th>\n",
              "      <td>536365</td>\n",
              "      <td>22752</td>\n",
              "      <td>SET 7 BABUSHKA NESTING BOXES</td>\n",
              "      <td>2</td>\n",
              "      <td>12/1/2010 8:26</td>\n",
              "      <td>7.65</td>\n",
              "      <td>17850.0</td>\n",
              "      <td>United Kingdom</td>\n",
              "    </tr>\n",
              "    <tr>\n",
              "      <th>6</th>\n",
              "      <td>536365</td>\n",
              "      <td>21730</td>\n",
              "      <td>GLASS STAR FROSTED T-LIGHT HOLDER</td>\n",
              "      <td>6</td>\n",
              "      <td>12/1/2010 8:26</td>\n",
              "      <td>4.25</td>\n",
              "      <td>17850.0</td>\n",
              "      <td>United Kingdom</td>\n",
              "    </tr>\n",
              "    <tr>\n",
              "      <th>7</th>\n",
              "      <td>536366</td>\n",
              "      <td>22633</td>\n",
              "      <td>HAND WARMER UNION JACK</td>\n",
              "      <td>6</td>\n",
              "      <td>12/1/2010 8:28</td>\n",
              "      <td>1.85</td>\n",
              "      <td>17850.0</td>\n",
              "      <td>United Kingdom</td>\n",
              "    </tr>\n",
              "    <tr>\n",
              "      <th>8</th>\n",
              "      <td>536366</td>\n",
              "      <td>22632</td>\n",
              "      <td>HAND WARMER RED POLKA DOT</td>\n",
              "      <td>6</td>\n",
              "      <td>12/1/2010 8:28</td>\n",
              "      <td>1.85</td>\n",
              "      <td>17850.0</td>\n",
              "      <td>United Kingdom</td>\n",
              "    </tr>\n",
              "    <tr>\n",
              "      <th>9</th>\n",
              "      <td>536367</td>\n",
              "      <td>84879</td>\n",
              "      <td>ASSORTED COLOUR BIRD ORNAMENT</td>\n",
              "      <td>32</td>\n",
              "      <td>12/1/2010 8:34</td>\n",
              "      <td>1.69</td>\n",
              "      <td>13047.0</td>\n",
              "      <td>United Kingdom</td>\n",
              "    </tr>\n",
              "  </tbody>\n",
              "</table>\n",
              "</div>"
            ],
            "text/plain": [
              "  InvoiceNo StockCode  ... CustomerID         Country\n",
              "0    536365    85123A  ...    17850.0  United Kingdom\n",
              "1    536365     71053  ...    17850.0  United Kingdom\n",
              "2    536365    84406B  ...    17850.0  United Kingdom\n",
              "3    536365    84029G  ...    17850.0  United Kingdom\n",
              "4    536365    84029E  ...    17850.0  United Kingdom\n",
              "5    536365     22752  ...    17850.0  United Kingdom\n",
              "6    536365     21730  ...    17850.0  United Kingdom\n",
              "7    536366     22633  ...    17850.0  United Kingdom\n",
              "8    536366     22632  ...    17850.0  United Kingdom\n",
              "9    536367     84879  ...    13047.0  United Kingdom\n",
              "\n",
              "[10 rows x 8 columns]"
            ]
          },
          "metadata": {
            "tags": []
          },
          "execution_count": 2
        }
      ]
    },
    {
      "cell_type": "code",
      "metadata": {
        "id": "2K8DfkC6c98T",
        "outputId": "cf028d47-91e5-4962-ff71-d43ba7e6fcfa",
        "colab": {
          "base_uri": "https://localhost:8080/"
        }
      },
      "source": [
        "# Exploring number of observations and attributes\n",
        "dataset.shape"
      ],
      "execution_count": 3,
      "outputs": [
        {
          "output_type": "execute_result",
          "data": {
            "text/plain": [
              "(541909, 8)"
            ]
          },
          "metadata": {
            "tags": []
          },
          "execution_count": 3
        }
      ]
    },
    {
      "cell_type": "code",
      "metadata": {
        "id": "Za19FRgjdp9v",
        "outputId": "30328fe9-09bb-4bc0-9b29-1200cea4dd0e",
        "colab": {
          "base_uri": "https://localhost:8080/"
        }
      },
      "source": [
        "# Exploring names of the attributes\n",
        "dataset.columns"
      ],
      "execution_count": 4,
      "outputs": [
        {
          "output_type": "execute_result",
          "data": {
            "text/plain": [
              "Index(['InvoiceNo', 'StockCode', 'Description', 'Quantity', 'InvoiceDate',\n",
              "       'UnitPrice', 'CustomerID', 'Country'],\n",
              "      dtype='object')"
            ]
          },
          "metadata": {
            "tags": []
          },
          "execution_count": 4
        }
      ]
    },
    {
      "cell_type": "code",
      "metadata": {
        "id": "oj0xyHjNdrNa",
        "outputId": "44c8a0f0-fbe6-4aaf-906c-b1577a73bb87",
        "colab": {
          "base_uri": "https://localhost:8080/"
        }
      },
      "source": [
        "# Exploring the types of the attributes\n",
        "dataset.dtypes"
      ],
      "execution_count": 5,
      "outputs": [
        {
          "output_type": "execute_result",
          "data": {
            "text/plain": [
              "InvoiceNo       object\n",
              "StockCode       object\n",
              "Description     object\n",
              "Quantity         int64\n",
              "InvoiceDate     object\n",
              "UnitPrice      float64\n",
              "CustomerID     float64\n",
              "Country         object\n",
              "dtype: object"
            ]
          },
          "metadata": {
            "tags": []
          },
          "execution_count": 5
        }
      ]
    },
    {
      "cell_type": "code",
      "metadata": {
        "id": "nXEe_JDKdtJd",
        "outputId": "46e332e8-3494-4890-fb4b-09183a47dfbe",
        "colab": {
          "base_uri": "https://localhost:8080/",
          "height": 0
        }
      },
      "source": [
        "# Exploring the statistics of the numerical attributes\n",
        "dataset.describe()"
      ],
      "execution_count": 6,
      "outputs": [
        {
          "output_type": "execute_result",
          "data": {
            "text/html": [
              "<div>\n",
              "<style scoped>\n",
              "    .dataframe tbody tr th:only-of-type {\n",
              "        vertical-align: middle;\n",
              "    }\n",
              "\n",
              "    .dataframe tbody tr th {\n",
              "        vertical-align: top;\n",
              "    }\n",
              "\n",
              "    .dataframe thead th {\n",
              "        text-align: right;\n",
              "    }\n",
              "</style>\n",
              "<table border=\"1\" class=\"dataframe\">\n",
              "  <thead>\n",
              "    <tr style=\"text-align: right;\">\n",
              "      <th></th>\n",
              "      <th>Quantity</th>\n",
              "      <th>UnitPrice</th>\n",
              "      <th>CustomerID</th>\n",
              "    </tr>\n",
              "  </thead>\n",
              "  <tbody>\n",
              "    <tr>\n",
              "      <th>count</th>\n",
              "      <td>541909.000000</td>\n",
              "      <td>541909.000000</td>\n",
              "      <td>406829.000000</td>\n",
              "    </tr>\n",
              "    <tr>\n",
              "      <th>mean</th>\n",
              "      <td>9.552250</td>\n",
              "      <td>4.611114</td>\n",
              "      <td>15287.690570</td>\n",
              "    </tr>\n",
              "    <tr>\n",
              "      <th>std</th>\n",
              "      <td>218.081158</td>\n",
              "      <td>96.759853</td>\n",
              "      <td>1713.600303</td>\n",
              "    </tr>\n",
              "    <tr>\n",
              "      <th>min</th>\n",
              "      <td>-80995.000000</td>\n",
              "      <td>-11062.060000</td>\n",
              "      <td>12346.000000</td>\n",
              "    </tr>\n",
              "    <tr>\n",
              "      <th>25%</th>\n",
              "      <td>1.000000</td>\n",
              "      <td>1.250000</td>\n",
              "      <td>13953.000000</td>\n",
              "    </tr>\n",
              "    <tr>\n",
              "      <th>50%</th>\n",
              "      <td>3.000000</td>\n",
              "      <td>2.080000</td>\n",
              "      <td>15152.000000</td>\n",
              "    </tr>\n",
              "    <tr>\n",
              "      <th>75%</th>\n",
              "      <td>10.000000</td>\n",
              "      <td>4.130000</td>\n",
              "      <td>16791.000000</td>\n",
              "    </tr>\n",
              "    <tr>\n",
              "      <th>max</th>\n",
              "      <td>80995.000000</td>\n",
              "      <td>38970.000000</td>\n",
              "      <td>18287.000000</td>\n",
              "    </tr>\n",
              "  </tbody>\n",
              "</table>\n",
              "</div>"
            ],
            "text/plain": [
              "            Quantity      UnitPrice     CustomerID\n",
              "count  541909.000000  541909.000000  406829.000000\n",
              "mean        9.552250       4.611114   15287.690570\n",
              "std       218.081158      96.759853    1713.600303\n",
              "min    -80995.000000  -11062.060000   12346.000000\n",
              "25%         1.000000       1.250000   13953.000000\n",
              "50%         3.000000       2.080000   15152.000000\n",
              "75%        10.000000       4.130000   16791.000000\n",
              "max     80995.000000   38970.000000   18287.000000"
            ]
          },
          "metadata": {
            "tags": []
          },
          "execution_count": 6
        }
      ]
    },
    {
      "cell_type": "markdown",
      "metadata": {
        "id": "fSGiNKntgMvj"
      },
      "source": [
        "# <font color=\"blue\">**Data Pre-Processing**</font>"
      ]
    },
    {
      "cell_type": "markdown",
      "metadata": {
        "id": "kxt6FIfffxsp"
      },
      "source": [
        "## **Imputation**"
      ]
    },
    {
      "cell_type": "code",
      "metadata": {
        "id": "rb1jRfMddv4z",
        "outputId": "342f39ea-d422-483c-c274-f679b2cb6241",
        "colab": {
          "base_uri": "https://localhost:8080/"
        }
      },
      "source": [
        "# calculating number of missing values in each of the attributes\n",
        "dataset.isnull().sum()"
      ],
      "execution_count": 7,
      "outputs": [
        {
          "output_type": "execute_result",
          "data": {
            "text/plain": [
              "InvoiceNo           0\n",
              "StockCode           0\n",
              "Description      1454\n",
              "Quantity            0\n",
              "InvoiceDate         0\n",
              "UnitPrice           0\n",
              "CustomerID     135080\n",
              "Country             0\n",
              "dtype: int64"
            ]
          },
          "metadata": {
            "tags": []
          },
          "execution_count": 7
        }
      ]
    },
    {
      "cell_type": "code",
      "metadata": {
        "id": "-mnk3lzkg4wZ"
      },
      "source": [
        "# threshold to drop the observations if the proportion of null values is more than the threshold.\n",
        "threshold = 0.4"
      ],
      "execution_count": 8,
      "outputs": []
    },
    {
      "cell_type": "code",
      "metadata": {
        "id": "ipXb0e6Wh-GO",
        "outputId": "7363fda6-d03a-433d-ae57-7e94a6bdabef",
        "colab": {
          "base_uri": "https://localhost:8080/"
        }
      },
      "source": [
        "# proportion of null values in description attribute\n",
        "dataset['Description'].isnull().sum() / dataset.shape[0]"
      ],
      "execution_count": 9,
      "outputs": [
        {
          "output_type": "execute_result",
          "data": {
            "text/plain": [
              "0.002683107311375157"
            ]
          },
          "metadata": {
            "tags": []
          },
          "execution_count": 9
        }
      ]
    },
    {
      "cell_type": "markdown",
      "metadata": {
        "id": "KTtDHH5jincQ"
      },
      "source": [
        "The proportion of null values in `Description` attribute is less than the `threshold`, hence safe to drop the observations with null values."
      ]
    },
    {
      "cell_type": "code",
      "metadata": {
        "id": "_MBxBRbcikVw"
      },
      "source": [
        "# Dropping the observations with null values for Description attribute\n",
        "dataset.dropna(subset=['Description'], inplace=True)"
      ],
      "execution_count": 10,
      "outputs": []
    },
    {
      "cell_type": "code",
      "metadata": {
        "id": "q_aRPYq6i__k",
        "outputId": "6f4bf959-dd19-4513-f601-68285abf2684",
        "colab": {
          "base_uri": "https://localhost:8080/"
        }
      },
      "source": [
        "# Validation of the dropped observations with null values for Description attribute\n",
        "dataset['Description'].isnull().sum()"
      ],
      "execution_count": 11,
      "outputs": [
        {
          "output_type": "execute_result",
          "data": {
            "text/plain": [
              "0"
            ]
          },
          "metadata": {
            "tags": []
          },
          "execution_count": 11
        }
      ]
    },
    {
      "cell_type": "code",
      "metadata": {
        "id": "ZVVlRvCmjYNP",
        "outputId": "a11bf09e-88fd-42bc-c1df-f23dc4e0e374",
        "colab": {
          "base_uri": "https://localhost:8080/"
        }
      },
      "source": [
        "# proportion of null values in CustomerID attribute\n",
        "dataset['CustomerID'].isnull().sum() / dataset.shape[0]"
      ],
      "execution_count": 12,
      "outputs": [
        {
          "output_type": "execute_result",
          "data": {
            "text/plain": [
              "0.24724722687365275"
            ]
          },
          "metadata": {
            "tags": []
          },
          "execution_count": 12
        }
      ]
    },
    {
      "cell_type": "markdown",
      "metadata": {
        "id": "ZmQSIsLIjse_"
      },
      "source": [
        "The proportion of null values in `CustomerID` attribute is less than the `threshold`, hence safe to drop the observations with null values.\n"
      ]
    },
    {
      "cell_type": "code",
      "metadata": {
        "id": "MU0mru4Qjoy_"
      },
      "source": [
        "# Dropping the observations with null values for customerID attribute\n",
        "dataset.dropna(subset=['CustomerID'], inplace=True)"
      ],
      "execution_count": 13,
      "outputs": []
    },
    {
      "cell_type": "code",
      "metadata": {
        "id": "L0y5xBmVnJSG",
        "outputId": "71bebf28-f899-40f4-810d-f89f4cc9f392",
        "colab": {
          "base_uri": "https://localhost:8080/"
        }
      },
      "source": [
        "# Validation of the dropped observations with null values for CustomerID attribute\n",
        "dataset['CustomerID'].isnull().sum()"
      ],
      "execution_count": 14,
      "outputs": [
        {
          "output_type": "execute_result",
          "data": {
            "text/plain": [
              "0"
            ]
          },
          "metadata": {
            "tags": []
          },
          "execution_count": 14
        }
      ]
    },
    {
      "cell_type": "code",
      "metadata": {
        "id": "bmIW_UeknUEH",
        "outputId": "8364e873-fe86-4f9f-98d7-2bee0ef4cddf",
        "colab": {
          "base_uri": "https://localhost:8080/"
        }
      },
      "source": [
        "# New shape of the dataset after dropping the observation with null values\n",
        "dataset.shape"
      ],
      "execution_count": 15,
      "outputs": [
        {
          "output_type": "execute_result",
          "data": {
            "text/plain": [
              "(406829, 8)"
            ]
          },
          "metadata": {
            "tags": []
          },
          "execution_count": 15
        }
      ]
    },
    {
      "cell_type": "code",
      "metadata": {
        "id": "GDY5SKQQngtg",
        "outputId": "c434e26e-5d39-4a68-e4a1-58cf9a03dbf8",
        "colab": {
          "base_uri": "https://localhost:8080/"
        }
      },
      "source": [
        "# No attribute with null values\n",
        "dataset.isnull().sum()"
      ],
      "execution_count": 16,
      "outputs": [
        {
          "output_type": "execute_result",
          "data": {
            "text/plain": [
              "InvoiceNo      0\n",
              "StockCode      0\n",
              "Description    0\n",
              "Quantity       0\n",
              "InvoiceDate    0\n",
              "UnitPrice      0\n",
              "CustomerID     0\n",
              "Country        0\n",
              "dtype: int64"
            ]
          },
          "metadata": {
            "tags": []
          },
          "execution_count": 16
        }
      ]
    },
    {
      "cell_type": "markdown",
      "metadata": {
        "id": "NMbbcgoznrSj"
      },
      "source": [
        "## **Binning**"
      ]
    },
    {
      "cell_type": "code",
      "metadata": {
        "id": "M7gx3K6bnoNr",
        "outputId": "581f7dd1-3588-4b5a-b2a9-36a2c4f384e3",
        "colab": {
          "base_uri": "https://localhost:8080/"
        }
      },
      "source": [
        "# Obtaining the classes of Country categorical attribute \n",
        "dataset['Country'].unique()"
      ],
      "execution_count": 17,
      "outputs": [
        {
          "output_type": "execute_result",
          "data": {
            "text/plain": [
              "array(['United Kingdom', 'France', 'Australia', 'Netherlands', 'Germany',\n",
              "       'Norway', 'EIRE', 'Switzerland', 'Spain', 'Poland', 'Portugal',\n",
              "       'Italy', 'Belgium', 'Lithuania', 'Japan', 'Iceland',\n",
              "       'Channel Islands', 'Denmark', 'Cyprus', 'Sweden', 'Austria',\n",
              "       'Israel', 'Finland', 'Greece', 'Singapore', 'Lebanon',\n",
              "       'United Arab Emirates', 'Saudi Arabia', 'Czech Republic', 'Canada',\n",
              "       'Unspecified', 'Brazil', 'USA', 'European Community', 'Bahrain',\n",
              "       'Malta', 'RSA'], dtype=object)"
            ]
          },
          "metadata": {
            "tags": []
          },
          "execution_count": 17
        }
      ]
    },
    {
      "cell_type": "code",
      "metadata": {
        "id": "nILrcmxyn6kL",
        "outputId": "ef42e7e4-d1c6-45d1-906c-e440640fa1c1",
        "colab": {
          "base_uri": "https://localhost:8080/"
        }
      },
      "source": [
        "# Obtaining the counts of each class of Country attribute\n",
        "dataset['Country'].value_counts()"
      ],
      "execution_count": 18,
      "outputs": [
        {
          "output_type": "execute_result",
          "data": {
            "text/plain": [
              "United Kingdom          361878\n",
              "Germany                   9495\n",
              "France                    8491\n",
              "EIRE                      7485\n",
              "Spain                     2533\n",
              "Netherlands               2371\n",
              "Belgium                   2069\n",
              "Switzerland               1877\n",
              "Portugal                  1480\n",
              "Australia                 1259\n",
              "Norway                    1086\n",
              "Italy                      803\n",
              "Channel Islands            758\n",
              "Finland                    695\n",
              "Cyprus                     622\n",
              "Sweden                     462\n",
              "Austria                    401\n",
              "Denmark                    389\n",
              "Japan                      358\n",
              "Poland                     341\n",
              "USA                        291\n",
              "Israel                     250\n",
              "Unspecified                244\n",
              "Singapore                  229\n",
              "Iceland                    182\n",
              "Canada                     151\n",
              "Greece                     146\n",
              "Malta                      127\n",
              "United Arab Emirates        68\n",
              "European Community          61\n",
              "RSA                         58\n",
              "Lebanon                     45\n",
              "Lithuania                   35\n",
              "Brazil                      32\n",
              "Czech Republic              30\n",
              "Bahrain                     17\n",
              "Saudi Arabia                10\n",
              "Name: Country, dtype: int64"
            ]
          },
          "metadata": {
            "tags": []
          },
          "execution_count": 18
        }
      ]
    },
    {
      "cell_type": "markdown",
      "metadata": {
        "id": "immcLne2oQ0n"
      },
      "source": [
        "Replacing the `Country` name class with `others` whose frequency is less than 100"
      ]
    },
    {
      "cell_type": "code",
      "metadata": {
        "id": "3Dpp0mxwoMwC"
      },
      "source": [
        "dataset['Country'] = dataset['Country'].replace(['United Arab Emirates', 'European Community', 'RSA', 'Lebanon', 'Lithuania', 'Brazil', 'Czech Republic', 'Bahrain', 'Saudi Arabia'], 'Others')"
      ],
      "execution_count": 19,
      "outputs": []
    },
    {
      "cell_type": "code",
      "metadata": {
        "id": "GDw2pkFdpJoM",
        "outputId": "3b903e01-0e01-40cb-b4be-23b6948acb3a",
        "colab": {
          "base_uri": "https://localhost:8080/"
        }
      },
      "source": [
        "# Obtaining the new counts of each class of Country attribute\n",
        "dataset['Country'].value_counts()"
      ],
      "execution_count": 20,
      "outputs": [
        {
          "output_type": "execute_result",
          "data": {
            "text/plain": [
              "United Kingdom     361878\n",
              "Germany              9495\n",
              "France               8491\n",
              "EIRE                 7485\n",
              "Spain                2533\n",
              "Netherlands          2371\n",
              "Belgium              2069\n",
              "Switzerland          1877\n",
              "Portugal             1480\n",
              "Australia            1259\n",
              "Norway               1086\n",
              "Italy                 803\n",
              "Channel Islands       758\n",
              "Finland               695\n",
              "Cyprus                622\n",
              "Sweden                462\n",
              "Austria               401\n",
              "Denmark               389\n",
              "Japan                 358\n",
              "Others                356\n",
              "Poland                341\n",
              "USA                   291\n",
              "Israel                250\n",
              "Unspecified           244\n",
              "Singapore             229\n",
              "Iceland               182\n",
              "Canada                151\n",
              "Greece                146\n",
              "Malta                 127\n",
              "Name: Country, dtype: int64"
            ]
          },
          "metadata": {
            "tags": []
          },
          "execution_count": 20
        }
      ]
    },
    {
      "cell_type": "markdown",
      "metadata": {
        "id": "VQUamq38pt1J"
      },
      "source": [
        "## **Removing and handling Outliers**\n",
        "\n",
        "Removing the outlier rows by using InterQuartile range"
      ]
    },
    {
      "cell_type": "code",
      "metadata": {
        "id": "RX5MgJFypTdv",
        "outputId": "d8acf41c-1071-4516-db88-089da05744fc",
        "colab": {
          "base_uri": "https://localhost:8080/"
        }
      },
      "source": [
        "# Statistical description of Quantity attribute\n",
        "dataset['Quantity'].describe()"
      ],
      "execution_count": 21,
      "outputs": [
        {
          "output_type": "execute_result",
          "data": {
            "text/plain": [
              "count    406829.000000\n",
              "mean         12.061303\n",
              "std         248.693370\n",
              "min      -80995.000000\n",
              "25%           2.000000\n",
              "50%           5.000000\n",
              "75%          12.000000\n",
              "max       80995.000000\n",
              "Name: Quantity, dtype: float64"
            ]
          },
          "metadata": {
            "tags": []
          },
          "execution_count": 21
        }
      ]
    },
    {
      "cell_type": "code",
      "metadata": {
        "id": "zJrkMj5iqNWu",
        "outputId": "7f41913a-be24-4783-836d-72edb0a21656",
        "colab": {
          "base_uri": "https://localhost:8080/"
        }
      },
      "source": [
        "# Obtaining q1, q3, iqr, upper and lower limits for Quantity attribute\n",
        "a = []\n",
        "a = np.sort(dataset['Quantity'])\n",
        "q1 = np.percentile(a, 25)\n",
        "q3 = np.percentile(a, 75)\n",
        "iqr = q3 - q1\n",
        "upper_lim = q3 + 1.5 * iqr\n",
        "lower_lim = q3 - 1.5 * iqr\n",
        "print(f'upper limit : {upper_lim}\\nlower limit : {lower_lim}')"
      ],
      "execution_count": 22,
      "outputs": [
        {
          "output_type": "stream",
          "text": [
            "upper limit : 27.0\n",
            "lower limit : -3.0\n"
          ],
          "name": "stdout"
        }
      ]
    },
    {
      "cell_type": "code",
      "metadata": {
        "id": "lt8SMkJZq66e"
      },
      "source": [
        "# Removing the outliers by filtering\n",
        "dataset = dataset[(dataset['Quantity'] < upper_lim) & (dataset['Quantity'] > lower_lim)]"
      ],
      "execution_count": 23,
      "outputs": []
    },
    {
      "cell_type": "code",
      "metadata": {
        "id": "o_SQVLRJrtCO",
        "outputId": "b9930ec7-44cf-4b5c-e7a7-860959b269fd",
        "colab": {
          "base_uri": "https://localhost:8080/"
        }
      },
      "source": [
        "# Statistical description of UnitPrice attribute\n",
        "dataset['UnitPrice'].describe()"
      ],
      "execution_count": 24,
      "outputs": [
        {
          "output_type": "execute_result",
          "data": {
            "text/plain": [
              "count    377398.000000\n",
              "mean          3.601225\n",
              "std          71.955740\n",
              "min           0.000000\n",
              "25%           1.250000\n",
              "50%           1.950000\n",
              "75%           3.750000\n",
              "max       38970.000000\n",
              "Name: UnitPrice, dtype: float64"
            ]
          },
          "metadata": {
            "tags": []
          },
          "execution_count": 24
        }
      ]
    },
    {
      "cell_type": "code",
      "metadata": {
        "id": "t6eUSxlFr8v3",
        "outputId": "b4253348-ee18-4b59-b3ad-f061adbb8142",
        "colab": {
          "base_uri": "https://localhost:8080/"
        }
      },
      "source": [
        "# Obtaining q1, q3, iqr, upper and lower limits for UnitPrice attribute\n",
        "a = []\n",
        "a = np.sort(dataset['UnitPrice'])\n",
        "q1 = np.percentile(a, 25)\n",
        "q3 = np.percentile(a, 75)\n",
        "iqr = q3 - q1\n",
        "upper_lim = q3 + 1.5 * iqr\n",
        "lower_lim = q3 - 1.5 * iqr\n",
        "print(f'upper limit : {upper_lim}\\nlower limit : {lower_lim}')"
      ],
      "execution_count": 25,
      "outputs": [
        {
          "output_type": "stream",
          "text": [
            "upper limit : 7.5\n",
            "lower limit : 0.0\n"
          ],
          "name": "stdout"
        }
      ]
    },
    {
      "cell_type": "code",
      "metadata": {
        "id": "gt01voCOuDIZ"
      },
      "source": [
        "# Removing the outliers by filtering\n",
        "dataset = dataset[(dataset['UnitPrice'] < upper_lim) & (dataset['UnitPrice'] > lower_lim)]"
      ],
      "execution_count": 26,
      "outputs": []
    },
    {
      "cell_type": "code",
      "metadata": {
        "id": "r4jdk3B6uOSm",
        "outputId": "ed2563c9-b241-4e39-fca5-fc01d8d819a1",
        "colab": {
          "base_uri": "https://localhost:8080/"
        }
      },
      "source": [
        "# Obtaining the negative and 0 values of Quantity attribute\n",
        "a = []\n",
        "for i in dataset['Quantity']:\n",
        "  if i <= 0:\n",
        "    a.append(i)\n",
        "\n",
        "print(a)"
      ],
      "execution_count": 27,
      "outputs": [
        {
          "output_type": "stream",
          "text": [
            "[-1, -1, -2, -1, -1, -1, -2, -1, -1, -2, -1, -2, -1, -1, -1, -1, -1, -2, -1, -1, -1, -1, -1, -1, -1, -1, -2, -2, -1, -1, -1, -1, -1, -1, -1, -1, -1, -1, -1, -2, -1, -1, -1, -1, -1, -1, -1, -1, -2, -2, -1, -1, -1, -1, -1, -1, -1, -1, -1, -1, -1, -1, -1, -1, -1, -1, -1, -1, -1, -2, -1, -1, -1, -1, -1, -1, -1, -2, -2, -1, -1, -1, -1, -1, -2, -2, -1, -2, -1, -1, -2, -1, -1, -1, -1, -1, -2, -1, -1, -1, -1, -1, -1, -1, -1, -1, -1, -1, -2, -1, -1, -1, -1, -1, -1, -1, -1, -1, -2, -2, -1, -1, -2, -1, -1, -1, -1, -1, -1, -1, -1, -1, -1, -1, -1, -2, -2, -1, -2, -2, -1, -2, -1, -2, -1, -1, -1, -1, -2, -1, -1, -1, -2, -2, -2, -1, -1, -1, -1, -1, -1, -1, -2, -1, -1, -2, -2, -1, -1, -1, -1, -1, -1, -2, -1, -1, -1, -2, -1, -2, -1, -2, -1, -1, -2, -1, -1, -2, -1, -1, -1, -1, -1, -1, -1, -1, -1, -1, -2, -2, -1, -1, -1, -1, -1, -2, -1, -2, -1, -1, -2, -1, -1, -2, -1, -1, -1, -1, -1, -1, -1, -1, -1, -2, -1, -2, -2, -1, -2, -1, -1, -1, -2, -1, -2, -2, -2, -1, -1, -2, -1, -1, -1, -1, -1, -1, -1, -1, -2, -1, -1, -1, -1, -1, -1, -1, -1, -1, -1, -2, -1, -2, -1, -1, -1, -2, -2, -2, -2, -2, -1, -1, -1, -1, -1, -1, -1, -1, -1, -1, -1, -1, -1, -1, -1, -1, -1, -1, -2, -1, -1, -2, -1, -1, -2, -1, -1, -1, -1, -2, -1, -1, -1, -1, -1, -1, -2, -1, -1, -1, -1, -1, -1, -1, -2, -1, -1, -2, -1, -1, -1, -1, -1, -2, -1, -1, -2, -1, -1, -1, -1, -1, -1, -1, -1, -1, -1, -2, -1, -1, -1, -1, -2, -2, -2, -1, -1, -1, -1, -1, -1, -1, -2, -2, -2, -2, -1, -1, -1, -1, -1, -2, -2, -2, -1, -1, -1, -1, -1, -1, -1, -1, -1, -1, -1, -1, -1, -1, -1, -1, -2, -2, -1, -1, -1, -1, -1, -1, -1, -1, -1, -1, -1, -1, -1, -2, -1, -1, -2, -1, -2, -2, -2, -2, -1, -2, -1, -1, -2, -2, -1, -2, -1, -1, -1, -1, -1, -1, -2, -1, -1, -1, -1, -1, -1, -2, -1, -1, -1, -2, -1, -2, -2, -2, -1, -1, -1, -2, -2, -1, -2, -1, -2, -2, -1, -1, -1, -2, -1, -1, -2, -2, -1, -1, -2, -1, -1, -1, -2, -1, -1, -1, -1, -1, -1, -1, -1, -2, -2, -2, -1, -1, -1, -2, -2, -1, -1, -2, -2, -2, -1, -1, -2, -1, -1, -1, -1, -1, -2, -2, -1, -1, -1, -1, -2, -1, -1, -1, -1, -2, -2, -1, -1, -1, -1, -2, -2, -2, -1, -1, -1, -1, -2, -1, -1, -1, -1, -1, -1, -2, -2, -1, -2, -1, -1, -2, -1, -2, -1, -1, -2, -1, -1, -1, -2, -1, -1, -2, -1, -1, -2, -1, -1, -1, -1, -1, -1, -1, -1, -1, -1, -1, -2, -2, -1, -1, -1, -1, -1, -1, -2, -1, -2, -1, -1, -2, -2, -2, -2, -2, -2, -1, -2, -1, -1, -2, -2, -2, -1, -2, -2, -2, -1, -2, -2, -1, -1, -2, -1, -2, -1, -1, -1, -1, -1, -2, -2, -2, -1, -1, -1, -1, -1, -1, -1, -1, -2, -1, -1, -1, -1, -1, -1, -1, -1, -1, -2, -1, -1, -2, -1, -1, -2, -1, -2, -1, -1, -1, -1, -1, -1, -1, -2, -2, -1, -1, -1, -1, -2, -2, -2, -1, -1, -1, -1, -1, -1, -1, -1, -1, -1, -1, -1, -1, -1, -1, -1, -1, -1, -2, -1, -1, -2, -2, -2, -2, -2, -2, -2, -2, -2, -1, -1, -1, -1, -1, -2, -1, -1, -1, -1, -1, -2, -1, -1, -1, -1, -1, -1, -1, -1, -2, -2, -1, -2, -1, -1, -2, -2, -1, -2, -1, -2, -1, -1, -1, -1, -1, -1, -2, -1, -1, -1, -2, -1, -2, -1, -1, -1, -1, -1, -1, -2, -1, -1, -1, -2, -1, -1, -1, -1, -1, -1, -1, -1, -2, -1, -1, -1, -1, -1, -1, -1, -2, -2, -1, -1, -1, -1, -1, -2, -1, -1, -1, -1, -2, -2, -1, -2, -1, -1, -1, -1, -1, -1, -1, -1, -1, -1, -2, -1, -1, -1, -2, -1, -2, -1, -1, -1, -1, -1, -1, -2, -1, -1, -1, -1, -1, -1, -1, -2, -1, -1, -2, -2, -1, -2, -1, -1, -2, -1, -1, -1, -1, -2, -1, -1, -1, -1, -1, -1, -2, -1, -1, -1, -1, -1, -1, -1, -1, -1, -1, -1, -1, -1, -1, -1, -1, -1, -1, -1, -2, -1, -2, -1, -1, -1, -1, -2, -1, -1, -2, -1, -1, -2, -2, -2, -1, -1, -1, -1, -2, -1, -2, -1, -1, -1, -1, -1, -1, -1, -1, -1, -2, -1, -2, -1, -1, -1, -1, -1, -1, -1, -2, -2, -1, -1, -2, -2, -1, -1, -1, -1, -1, -1, -1, -2, -1, -1, -2, -2, -1, -1, -1, -1, -1, -1, -1, -1, -2, -1, -2, -1, -1, -1, -2, -1, -1, -1, -1, -1, -1, -1, -2, -1, -1, -1, -1, -1, -2, -1, -1, -1, -1, -2, -1, -1, -1, -1, -1, -1, -1, -1, -1, -2, -2, -1, -1, -2, -1, -1, -1, -2, -1, -1, -2, -2, -1, -1, -1, -1, -1, -1, -2, -1, -1, -1, -1, -1, -1, -1, -1, -2, -2, -1, -1, -2, -2, -1, -1, -1, -1, -1, -2, -1, -2, -1, -1, -1, -1, -2, -2, -1, -1, -1, -2, -2, -1, -1, -1, -2, -2, -2, -2, -2, -1, -1, -1, -1, -2, -1, -1, -1, -1, -1, -1, -1, -1, -2, -2, -1, -2, -1, -1, -2, -1, -1, -2, -2, -1, -1, -1, -2, -2, -1, -1, -1, -1, -1, -1, -1, -1, -1, -1, -1, -1, -1, -2, -1, -1, -1, -1, -1, -1, -1, -2, -2, -2, -1, -1, -2, -1, -2, -2, -1, -1, -1, -1, -1, -1, -1, -2, -1, -1, -1, -1, -2, -1, -1, -2, -1, -1, -1, -1, -1, -2, -1, -1, -1, -1, -1, -1, -1, -1, -1, -1, -1, -1, -1, -2, -1, -1, -1, -1, -1, -1, -2, -1, -1, -1, -1, -1, -1, -2, -1, -1, -1, -1, -2, -2, -2, -1, -2, -1, -1, -1, -1, -2, -1, -2, -1, -1, -2, -2, -1, -1, -1, -1, -1, -1, -1, -1, -1, -1, -2, -1, -1, -1, -1, -2, -2, -2, -2, -2, -1, -1, -1, -1, -1, -1, -1, -2, -1, -1, -1, -1, -1, -1, -2, -2, -1, -1, -1, -2, -2, -2, -1, -2, -1, -1, -1, -1, -1, -1, -1, -2, -2, -2, -2, -2, -2, -2, -1, -1, -1, -1, -2, -2, -2, -1, -1, -1, -1, -1, -1, -2, -2, -1, -1, -1, -1, -1, -1, -1, -1, -1, -1, -1, -1, -2, -2, -1, -1, -1, -1, -1, -1, -2, -1, -1, -1, -1, -1, -2, -1, -1, -1, -1, -1, -1, -1, -1, -1, -1, -1, -1, -1, -2, -2, -1, -1, -1, -1, -1, -2, -1, -1, -1, -2, -1, -1, -1, -1, -2, -1, -2, -2, -2, -2, -1, -1, -1, -2, -1, -1, -1, -1, -1, -2, -1, -1, -1, -2, -2, -2, -1, -2, -1, -1, -1, -1, -1, -1, -1, -1, -1, -1, -1, -1, -1, -2, -1, -1, -1, -1, -2, -2, -1, -1, -2, -1, -2, -1, -1, -1, -1, -1, -1, -1, -1, -1, -2, -1, -1, -2, -2, -1, -1, -1, -2, -1, -1, -2, -2, -1, -1, -1, -1, -1, -2, -1, -2, -1, -1, -2, -2, -1, -1, -1, -1, -2, -1, -1, -2, -1, -2, -1, -1, -1, -1, -2, -2, -1, -1, -1, -1, -1, -1, -1, -1, -1, -1, -1, -1, -1, -1, -1, -2, -1, -1, -1, -1, -1, -2, -1, -1, -1, -1, -1, -1, -1, -1, -2, -1, -1, -1, -1, -1, -2, -2, -2, -2, -2, -1, -1, -2, -1, -2, -1, -2, -2, -1, -1, -1, -1, -2, -1, -1, -1, -1, -2, -2, -2, -1, -1, -2, -2, -2, -2, -2, -1, -1, -1, -1, -1, -1, -1, -1, -1, -1, -1, -1, -2, -1, -1, -2, -1, -1, -1, -1, -2, -1, -1, -1, -1, -1, -1, -2, -1, -1, -2, -1, -1, -1, -2, -1, -1, -2, -1, -2, -1, -2, -1, -2, -1, -1, -1, -1, -2, -1, -1, -1, -1, -1, -2, -2, -1, -1, -1, -1, -1, -1, -1, -1, -1, -1, -1, -1, -2, -1, -1, -1, -1, -1, -2, -1, -1, -2, -2, -1, -1, -1, -2, -1, -1, -2, -1, -2, -2, -1, -1, -1, -1, -1, -1, -1, -1, -1, -1, -1, -1, -2, -1, -1, -1, -1, -1, -1, -2, -1, -1, -1, -1, -1, -2, -2, -1, -1, -1, -2, -2, -1, -2, -2, -1, -1, -2, -1, -1, -1, -1, -1, -1, -2, -2, -2, -1, -1, -1, -1, -1, -1, -1, -1, -1, -2, -1, -1, -1, -1, -2, -1, -1, -2, -1, -1, -1, -2, -1, -1, -1, -2, -2, -1, -1, -2, -1, -2, -1, -1, -1, -1, -1, -1, -1, -1, -1, -1, -1, -1, -1, -1, -1, -2, -1, -2, -1, -1, -2, -1, -2, -1, -2, -1, -1, -1, -1, -1, -1, -2, -1, -1, -1, -2, -1, -2, -2, -1, -1, -2, -1, -2, -1, -2, -2, -1, -1, -1, -1, -2, -2, -2, -1, -2, -1, -1, -2, -2, -1, -1, -1, -1, -1, -1, -1, -1, -1, -1, -1, -1, -2, -1, -1, -2, -1, -2, -2, -2, -1, -2, -1, -1, -1, -2, -1, -1, -2, -2, -1, -1, -2, -2, -2, -1, -1, -1, -1, -1, -1, -1, -2, -1, -1, -1, -1, -2, -1, -2, -2, -1, -2, -1, -1, -2, -1, -1, -1, -1, -2, -1, -2, -1, -1, -1, -1, -1, -2, -1, -2, -1, -1, -1, -1, -2, -1, -1, -1, -2, -1, -1, -2, -1, -1, -1, -1, -1, -1, -1, -2, -1, -1, -1, -1, -2, -1, -1, -2, -1, -1, -1, -2, -1, -1, -2, -1, -1, -2, -1, -1, -1, -1, -1, -2, -2, -1, -1, -1, -1, -1, -1, -2, -2, -1, -1, -1, -2, -2, -1, -1, -1, -1, -1, -2, -2, -1, -2, -1, -1, -1, -2, -1, -1, -1, -1, -1, -2, -2, -1, -1, -1, -2, -1, -1, -1, -1, -1, -1, -1, -1, -1, -1, -1, -2, -1, -2, -2, -1, -1, -1, -1, -2, -2, -1, -2, -1, -2, -1, -1, -2, -1, -1, -1, -1, -1, -1, -1, -1, -1, -1, -1, -1, -1, -1, -1, -1, -1, -1, -2, -2, -1, -1, -1, -1, -1, -2, -1, -2, -1, -2, -2, -1, -1, -1, -1, -1, -1, -1, -1, -1, -1, -2, -1, -1, -1, -1, -1, -1, -1, -2, -1, -1, -1, -2, -1, -2, -2, -1, -1, -2, -1, -1, -1, -1, -1, -1, -1, -2, -1, -1, -1, -1, -1, -2, -1, -2, -1, -1, -1, -1, -1, -1, -2, -2, -2, -1, -1, -2, -1, -2, -1, -1, -1, -1, -2, -1, -1, -1, -1, -2, -2, -2, -2, -1, -1, -1, -1, -1, -1, -1, -1, -2, -1, -2, -2, -1, -2, -1, -1, -2, -2, -1, -2, -1, -2, -1, -1, -1, -1, -1, -1, -1, -1, -2, -2, -2, -2, -1, -1, -1, -2, -2, -2, -2, -2, -1, -1, -1, -1, -1, -1, -1, -1, -1, -1, -1, -1, -1, -1, -1, -1, -1, -1, -1, -1, -1, -1, -1, -1, -1, -1, -1, -1, -1, -1, -1, -1, -1, -1, -1, -1, -1, -1, -1, -1, -1, -1, -1, -1, -1, -1, -1, -1, -2, -2, -1, -1, -2, -1, -1, -2, -1, -2, -1, -1, -2, -1, -1, -2, -1, -1, -2, -1, -1, -1, -1, -1, -2, -2, -2, -1, -1, -1, -1, -1, -1, -1, -1, -2, -2, -2, -1, -2, -1, -2, -1, -1, -2, -1, -1, -1, -1, -2, -1, -1, -1, -1, -1, -1, -1, -1, -1, -1, -1, -1, -1, -1, -1, -1, -1, -1, -1, -1, -1, -1, -2, -1, -1, -1, -1, -1, -1, -1, -1, -1, -1, -1, -2, -1, -2, -1, -1, -1, -1, -1, -1, -1, -2, -1, -2, -2, -2, -1, -1, -1, -1, -1, -2, -1, -1, -2, -1, -1, -1, -1, -1, -1, -1, -1, -1, -1, -1, -2, -1, -1, -1, -1, -2, -1, -1, -2, -1, -2, -1, -1, -1, -1, -1, -1, -1, -1, -1, -1, -1, -1, -1, -2, -1, -1, -2, -1, -2, -1, -1, -2, -2, -1, -1, -1, -1, -1, -1, -1, -2, -1, -1, -1, -1, -1, -1, -1, -1, -1, -1, -1, -1, -1, -1, -1, -1, -1, -1, -2, -1, -1, -1, -1, -1, -1, -2, -1, -2, -2, -1, -2, -2, -2, -1, -1, -2, -2, -1, -1, -1, -1, -2, -2, -1, -1, -2, -1, -2, -2, -1, -1, -1, -1, -1, -1, -1, -1, -1, -1, -2, -1, -1, -1, -1, -1, -1, -1, -1, -1, -1, -1, -1, -1, -1, -1, -1, -1, -1, -1, -2, -1, -1, -1, -1, -1, -1, -1, -1, -1, -1, -1, -1, -1, -1, -1, -1, -1, -1, -2, -1, -1, -1, -1, -1, -1, -1, -1, -2, -1, -1, -1, -2, -2, -2, -1, -1, -1, -1, -2, -1, -1, -1, -1, -1, -1, -1, -1, -2, -2, -1, -1, -1, -1, -2, -1, -2, -1, -1, -1, -1, -1, -1, -1, -2, -2, -1, -1, -1, -1, -1, -1, -1, -1, -1, -1, -2, -1, -1, -1, -2, -1, -2, -1, -2, -1, -1, -1, -1, -1, -1, -1, -2, -1, -1, -1, -1, -1, -1, -1, -1, -2, -1, -2, -1, -1, -1, -1, -1, -1, -1, -2, -1, -1, -1, -1, -2, -1, -2, -1, -1, -1, -1, -1, -1, -1, -1, -1, -1, -1, -1, -2, -1, -2, -2, -1, -1, -1, -1, -2, -1, -1, -2, -1, -1, -1, -2, -1, -1, -2, -1, -2, -2, -1, -1, -1, -1, -1, -1, -1, -1, -2, -1, -2, -1, -1, -1, -1, -1, -1, -1, -2, -1, -2, -1, -1, -1, -1, -1, -2, -1, -1, -1, -1, -1, -2, -2, -2, -1, -2, -1, -1, -1, -1, -2, -1, -1, -2, -1, -2, -1, -1, -1, -1, -1, -2, -2, -2, -2, -1, -1, -1, -1, -1, -1, -1, -1, -1, -1, -1, -1, -1, -1, -2, -1, -1, -1, -1, -1, -1, -1, -1, -1, -2, -1, -1, -2, -1, -1, -1, -2, -2, -1, -2, -1, -1, -2, -1, -2, -1, -2, -1, -1, -1, -1, -2, -1, -1, -1, -1, -2, -2, -1, -1, -1, -1, -2, -2, -1, -1, -1, -1, -1, -1, -1, -1, -2, -1, -2, -1, -1, -2, -1, -1, -1, -1, -1, -1, -1, -1, -1, -1, -2, -1, -1, -1, -1, -2, -1, -1, -1, -1, -1, -2, -1, -2, -2, -1, -1, -1, -1, -1, -1, -1, -1, -1, -2, -1, -1, -1, -1, -1, -2, -1, -1, -2, -1, -1, -1, -1, -1, -1, -1, -1, -1, -1, -1, -1, -1, -1, -1, -1, -2, -2, -1, -1, -1, -1, -2, -1, -1, -1, -1, -2, -1, -1, -2, -2, -1, -1, -1, -1, -1, -1, -1, -1, -2, -1, -2, -2, -2, -2, -1, -2, -1, -1, -1, -1, -2, -1, -2, -2, -1, -2, -1, -1, -1, -1, -1, -1, -2, -2, -1, -1, -1, -1, -1, -1, -1, -1, -1, -2, -1, -2, -1, -1, -1, -2, -2, -2, -2, -2, -1, -1, -1, -1, -1, -1, -1, -2, -1, -1, -2, -1, -1, -1, -1, -1, -1, -1, -1, -2, -2, -2, -1, -1, -1, -1, -1, -1, -1, -1, -1, -1, -1, -2, -1, -1, -2, -1, -1, -1, -1, -2, -1, -1, -1, -1, -2, -2, -1, -2, -2, -1, -1, -1, -2, -1, -1, -1, -1, -1, -1, -1, -1, -2, -1, -1, -1, -1, -2, -2, -1, -1, -2, -2, -1, -2, -1, -1, -2, -2, -1, -1, -2, -1, -1, -1, -1, -1, -1, -2, -2, -1, -2, -1, -1, -1, -1, -2, -1, -1, -1, -2, -2, -2, -1, -1, -1, -2, -1, -2, -2, -2, -2, -1, -2, -1, -1, -1, -2, -2, -1, -1, -1, -1, -1, -2, -2, -1, -1, -2, -1, -2, -1, -2, -2, -2, -2, -1, -1, -2, -2, -1, -1, -1, -1, -1, -1, -2, -2, -1, -1, -2, -1, -1, -2, -1, -1, -1, -1, -1, -1, -1, -2, -2, -1, -1, -2, -2, -1, -2, -1, -1, -2, -1, -1, -2, -2, -2, -2, -1, -1, -2, -2, -2, -1, -1, -1, -1, -2, -1, -1, -1, -2, -1, -2, -2, -2, -1, -1, -2, -2, -1, -2, -1, -1, -1, -1, -1, -1, -2, -1, -2, -1, -1, -1, -2, -1, -2, -1, -1, -1, -2, -2, -1, -1, -2, -1, -1, -1, -1, -1, -1, -2, -2, -1, -1, -1, -2, -1, -2, -2, -1, -1, -2, -1, -2, -1, -2, -1, -2, -1, -1, -1, -1, -1, -1, -2, -2, -1, -2, -1, -1, -2, -1, -1, -1, -2, -1, -1, -1, -1, -1, -2, -2, -2, -1, -1, -1, -2, -1, -2, -2, -1, -1, -2, -1, -2, -2, -1, -1, -1, -1, -2, -2, -1, -1, -1, -2, -1, -2, -1, -1, -1, -1, -2, -1, -2, -1, -2, -1, -1, -2, -1, -2, -2, -1, -1, -1, -1, -2, -1, -1, -1, -2, -1, -1, -1, -2, -1, -2, -1, -1, -1, -1, -1, -1, -1, -1, -1, -1, -1, -1, -1, -2, -2, -2, -2, -1, -1, -1, -2, -2, -2, -2, -1, -1, -1, -1, -1, -2, -1, -1, -2, -1, -1, -1, -2, -1, -1, -1, -1, -2, -1, -2, -1, -1, -1, -2, -1, -2, -1, -2, -2, -2, -1, -2, -1, -1, -1, -2, -2, -1, -1, -1, -1, -1, -1, -1, -1, -2, -1, -1, -1, -1, -1, -1, -1, -1, -2, -1, -2, -1, -1, -1, -1, -2, -1, -2, -1, -2, -1, -1, -1, -1, -2, -1, -2, -2, -1, -2, -1, -1, -1, -2, -1, -1, -1, -1, -1, -2, -1, -1, -1, -1, -1, -1, -1, -1, -2, -1, -1, -1, -1, -1, -2, -2, -1, -2, -2, -2, -2, -1, -2, -1, -1, -1, -1, -2, -2, -2, -2, -2, -2, -1, -1, -1, -1, -1, -1, -2, -2, -1, -1, -1, -2, -1, -1, -1, -1, -1, -1, -1, -1, -1, -1, -1, -1, -1, -1, -1, -1, -1, -1, -1, -2, -1, -1, -1, -1, -1, -2, -1, -1, -1, -2, -1, -1, -1, -1, -1, -2, -2, -1, -1, -1, -1, -2, -1, -1, -2, -1, -1, -1, -1, -1, -1, -1, -1, -2, -1, -1, -1, -1, -2, -1, -1, -1, -1, -1, -2, -1, -1, -1, -1, -1, -2, -1, -1, -1, -1, -2, -2, -1, -1, -1, -1, -2, -1, -1, -2, -1, -2, -2, -1, -1, -1, -1, -1, -1, -1, -1, -1, -1, -1, -1, -1, -1, -1, -2, -2, -2, -2, -2, -1, -1, -1, -1, -2, -1, -1, -1, -1, -1, -2, -2, -1, -1, -1, -1, -1, -1, -1, -1, -1, -2, -1, -1, -1, -1, -2, -1, -2, -2, -2, -1, -1, -2, -1, -1, -1, -1, -1, -2, -1, -1, -1, -1, -1, -2, -1, -1, -2, -1, -1, -1, -1, -1, -1, -2, -2, -1, -1, -1, -2, -1, -1, -1, -2, -1, -1, -1, -1, -1, -2, -2, -2, -2, -2, -2, -1, -2, -2, -1, -1, -1, -1, -1, -1, -2, -1, -1, -1, -1, -2, -1, -1, -1, -1, -1, -2, -1, -1, -1, -1, -2, -1, -2, -1, -1, -1, -1, -1, -1, -1, -1, -1, -2, -1, -1, -2, -1, -1, -2, -1, -1, -1, -2, -2, -1, -1, -1, -1, -1, -1, -1, -2, -1, -1, -2, -2, -1, -1, -1, -2, -1, -1, -1, -1, -1, -2, -2, -2, -1, -2, -1, -2, -2, -2, -2, -1, -1, -2, -1, -1, -1, -1, -1, -1, -1, -1, -2, -2, -2, -1, -1, -1, -1, -1, -1, -1, -1, -1, -1, -1, -1, -1, -2, -2, -2, -2, -2, -1, -1, -1, -2, -1, -1, -1, -1, -1, -1, -1, -1, -2, -1, -2, -1, -1, -1, -1, -1, -1, -1, -1, -1, -1, -2, -2, -1, -1, -1, -1, -1, -1, -2, -1, -1, -1, -1, -2, -2, -1, -1, -2, -1, -1, -1, -2, -2, -2, -1, -1, -1, -1, -1, -1, -1, -2, -2, -2, -1, -2, -1, -1, -1, -1, -1, -1, -1, -1, -1, -1, -1, -1, -1, -1, -2, -1, -1, -2, -1, -2, -1, -1, -2, -1, -1, -1, -1, -1, -1, -1, -2, -1, -1, -2, -1, -1, -1, -1, -1, -1, -1, -1, -2, -2, -1, -1, -1, -1, -1, -1, -1, -1, -2, -1, -1, -1, -1, -1, -2, -1, -1, -2, -2, -1, -1, -2, -1, -1, -1, -2, -2, -1, -1, -1, -2, -2, -1, -1, -1, -1, -2, -2, -1, -2, -1, -1, -1, -1, -2, -2, -1, -1, -1, -1, -1, -1, -1, -1, -1, -2, -1, -1, -1, -2, -1, -1, -1, -1, -1, -2, -1, -1, -1, -2, -1, -1, -1, -1, -1, -1, -1, -1, -1, -1, -1, -1, -2, -2, -1, -1, -1, -2, -1, -1, -1, -1, -1, -1, -1, -1, -1, -2, -1, -1, -1, -1, -2, -1, -1, -1, -1, -1, -1, -1, -2, -1, -1, -1, -1, -1, -1, -1, -1, -2, -2, -1, -2, -1, -1, -1, -1, -1, -1, -1, -1, -2, -1, -2, -1, -1, -1, -2, -1, -1, -2, -2, -1, -2, -1, -1]\n"
          ],
          "name": "stdout"
        }
      ]
    },
    {
      "cell_type": "code",
      "metadata": {
        "id": "QBx0h7KAumEp"
      },
      "source": [
        "# Excluding negative quantity and 0 valued observations\n",
        "dataset = dataset[dataset['Quantity'] > 0]"
      ],
      "execution_count": 28,
      "outputs": []
    },
    {
      "cell_type": "code",
      "metadata": {
        "id": "5i1Szs7zpv4M",
        "outputId": "67810cf5-adb6-4107-b660-eb773cad66f7",
        "colab": {
          "base_uri": "https://localhost:8080/"
        }
      },
      "source": [
        "# Obtaining the negative and 0 values of UnitPrice attribute\n",
        "b = []\n",
        "for i in dataset['UnitPrice']:\n",
        "  if i <= 0:\n",
        "    b.append(i)\n",
        "print(b)"
      ],
      "execution_count": 29,
      "outputs": [
        {
          "output_type": "stream",
          "text": [
            "[]\n"
          ],
          "name": "stdout"
        }
      ]
    },
    {
      "cell_type": "code",
      "metadata": {
        "id": "bkmdUMt2qH4N"
      },
      "source": [
        "# Excluding negative quantity and 0 valued observations\n",
        "dataset = dataset[dataset['UnitPrice'] > 0]"
      ],
      "execution_count": 30,
      "outputs": []
    },
    {
      "cell_type": "code",
      "metadata": {
        "id": "52pwxZE8qR6H",
        "outputId": "4a963bc7-e339-46a6-ac71-8d7745798ca4",
        "colab": {
          "base_uri": "https://localhost:8080/"
        }
      },
      "source": [
        "# New shape of the dataset\n",
        "dataset.shape"
      ],
      "execution_count": 31,
      "outputs": [
        {
          "output_type": "execute_result",
          "data": {
            "text/plain": [
              "(337527, 8)"
            ]
          },
          "metadata": {
            "tags": []
          },
          "execution_count": 31
        }
      ]
    },
    {
      "cell_type": "markdown",
      "metadata": {
        "id": "A36NzJd0qcKp"
      },
      "source": [
        "## **Log Transformation**"
      ]
    },
    {
      "cell_type": "code",
      "metadata": {
        "id": "yTJJNvl9qW_A"
      },
      "source": [
        "# Applying log transformation on Quantity and UnitPrice attributes\n",
        "dataset['Log_Transformed_Quantity'] = dataset['Quantity'].transform(np.log1p)\n",
        "dataset['Log_Transformed_UnitPrice'] = dataset['UnitPrice'].transform(np.log1p)"
      ],
      "execution_count": 32,
      "outputs": []
    },
    {
      "cell_type": "code",
      "metadata": {
        "id": "g8_-dKtArKgU",
        "outputId": "b08adbc3-fae6-47f1-99ee-338b82bd5cf2",
        "colab": {
          "base_uri": "https://localhost:8080/",
          "height": 0
        }
      },
      "source": [
        "# Exploring the dataset after transformations\n",
        "dataset.head(10)"
      ],
      "execution_count": 33,
      "outputs": [
        {
          "output_type": "execute_result",
          "data": {
            "text/html": [
              "<div>\n",
              "<style scoped>\n",
              "    .dataframe tbody tr th:only-of-type {\n",
              "        vertical-align: middle;\n",
              "    }\n",
              "\n",
              "    .dataframe tbody tr th {\n",
              "        vertical-align: top;\n",
              "    }\n",
              "\n",
              "    .dataframe thead th {\n",
              "        text-align: right;\n",
              "    }\n",
              "</style>\n",
              "<table border=\"1\" class=\"dataframe\">\n",
              "  <thead>\n",
              "    <tr style=\"text-align: right;\">\n",
              "      <th></th>\n",
              "      <th>InvoiceNo</th>\n",
              "      <th>StockCode</th>\n",
              "      <th>Description</th>\n",
              "      <th>Quantity</th>\n",
              "      <th>InvoiceDate</th>\n",
              "      <th>UnitPrice</th>\n",
              "      <th>CustomerID</th>\n",
              "      <th>Country</th>\n",
              "      <th>Log_Transformed_Quantity</th>\n",
              "      <th>Log_Transformed_UnitPrice</th>\n",
              "    </tr>\n",
              "  </thead>\n",
              "  <tbody>\n",
              "    <tr>\n",
              "      <th>0</th>\n",
              "      <td>536365</td>\n",
              "      <td>85123A</td>\n",
              "      <td>WHITE HANGING HEART T-LIGHT HOLDER</td>\n",
              "      <td>6</td>\n",
              "      <td>12/1/2010 8:26</td>\n",
              "      <td>2.55</td>\n",
              "      <td>17850.0</td>\n",
              "      <td>United Kingdom</td>\n",
              "      <td>1.945910</td>\n",
              "      <td>1.266948</td>\n",
              "    </tr>\n",
              "    <tr>\n",
              "      <th>1</th>\n",
              "      <td>536365</td>\n",
              "      <td>71053</td>\n",
              "      <td>WHITE METAL LANTERN</td>\n",
              "      <td>6</td>\n",
              "      <td>12/1/2010 8:26</td>\n",
              "      <td>3.39</td>\n",
              "      <td>17850.0</td>\n",
              "      <td>United Kingdom</td>\n",
              "      <td>1.945910</td>\n",
              "      <td>1.479329</td>\n",
              "    </tr>\n",
              "    <tr>\n",
              "      <th>2</th>\n",
              "      <td>536365</td>\n",
              "      <td>84406B</td>\n",
              "      <td>CREAM CUPID HEARTS COAT HANGER</td>\n",
              "      <td>8</td>\n",
              "      <td>12/1/2010 8:26</td>\n",
              "      <td>2.75</td>\n",
              "      <td>17850.0</td>\n",
              "      <td>United Kingdom</td>\n",
              "      <td>2.197225</td>\n",
              "      <td>1.321756</td>\n",
              "    </tr>\n",
              "    <tr>\n",
              "      <th>3</th>\n",
              "      <td>536365</td>\n",
              "      <td>84029G</td>\n",
              "      <td>KNITTED UNION FLAG HOT WATER BOTTLE</td>\n",
              "      <td>6</td>\n",
              "      <td>12/1/2010 8:26</td>\n",
              "      <td>3.39</td>\n",
              "      <td>17850.0</td>\n",
              "      <td>United Kingdom</td>\n",
              "      <td>1.945910</td>\n",
              "      <td>1.479329</td>\n",
              "    </tr>\n",
              "    <tr>\n",
              "      <th>4</th>\n",
              "      <td>536365</td>\n",
              "      <td>84029E</td>\n",
              "      <td>RED WOOLLY HOTTIE WHITE HEART.</td>\n",
              "      <td>6</td>\n",
              "      <td>12/1/2010 8:26</td>\n",
              "      <td>3.39</td>\n",
              "      <td>17850.0</td>\n",
              "      <td>United Kingdom</td>\n",
              "      <td>1.945910</td>\n",
              "      <td>1.479329</td>\n",
              "    </tr>\n",
              "    <tr>\n",
              "      <th>6</th>\n",
              "      <td>536365</td>\n",
              "      <td>21730</td>\n",
              "      <td>GLASS STAR FROSTED T-LIGHT HOLDER</td>\n",
              "      <td>6</td>\n",
              "      <td>12/1/2010 8:26</td>\n",
              "      <td>4.25</td>\n",
              "      <td>17850.0</td>\n",
              "      <td>United Kingdom</td>\n",
              "      <td>1.945910</td>\n",
              "      <td>1.658228</td>\n",
              "    </tr>\n",
              "    <tr>\n",
              "      <th>7</th>\n",
              "      <td>536366</td>\n",
              "      <td>22633</td>\n",
              "      <td>HAND WARMER UNION JACK</td>\n",
              "      <td>6</td>\n",
              "      <td>12/1/2010 8:28</td>\n",
              "      <td>1.85</td>\n",
              "      <td>17850.0</td>\n",
              "      <td>United Kingdom</td>\n",
              "      <td>1.945910</td>\n",
              "      <td>1.047319</td>\n",
              "    </tr>\n",
              "    <tr>\n",
              "      <th>8</th>\n",
              "      <td>536366</td>\n",
              "      <td>22632</td>\n",
              "      <td>HAND WARMER RED POLKA DOT</td>\n",
              "      <td>6</td>\n",
              "      <td>12/1/2010 8:28</td>\n",
              "      <td>1.85</td>\n",
              "      <td>17850.0</td>\n",
              "      <td>United Kingdom</td>\n",
              "      <td>1.945910</td>\n",
              "      <td>1.047319</td>\n",
              "    </tr>\n",
              "    <tr>\n",
              "      <th>10</th>\n",
              "      <td>536367</td>\n",
              "      <td>22745</td>\n",
              "      <td>POPPY'S PLAYHOUSE BEDROOM</td>\n",
              "      <td>6</td>\n",
              "      <td>12/1/2010 8:34</td>\n",
              "      <td>2.10</td>\n",
              "      <td>13047.0</td>\n",
              "      <td>United Kingdom</td>\n",
              "      <td>1.945910</td>\n",
              "      <td>1.131402</td>\n",
              "    </tr>\n",
              "    <tr>\n",
              "      <th>11</th>\n",
              "      <td>536367</td>\n",
              "      <td>22748</td>\n",
              "      <td>POPPY'S PLAYHOUSE KITCHEN</td>\n",
              "      <td>6</td>\n",
              "      <td>12/1/2010 8:34</td>\n",
              "      <td>2.10</td>\n",
              "      <td>13047.0</td>\n",
              "      <td>United Kingdom</td>\n",
              "      <td>1.945910</td>\n",
              "      <td>1.131402</td>\n",
              "    </tr>\n",
              "  </tbody>\n",
              "</table>\n",
              "</div>"
            ],
            "text/plain": [
              "   InvoiceNo StockCode  ... Log_Transformed_Quantity  Log_Transformed_UnitPrice\n",
              "0     536365    85123A  ...                 1.945910                   1.266948\n",
              "1     536365     71053  ...                 1.945910                   1.479329\n",
              "2     536365    84406B  ...                 2.197225                   1.321756\n",
              "3     536365    84029G  ...                 1.945910                   1.479329\n",
              "4     536365    84029E  ...                 1.945910                   1.479329\n",
              "6     536365     21730  ...                 1.945910                   1.658228\n",
              "7     536366     22633  ...                 1.945910                   1.047319\n",
              "8     536366     22632  ...                 1.945910                   1.047319\n",
              "10    536367     22745  ...                 1.945910                   1.131402\n",
              "11    536367     22748  ...                 1.945910                   1.131402\n",
              "\n",
              "[10 rows x 10 columns]"
            ]
          },
          "metadata": {
            "tags": []
          },
          "execution_count": 33
        }
      ]
    },
    {
      "cell_type": "markdown",
      "metadata": {
        "id": "seWIZgcfrR2c"
      },
      "source": [
        "## **Scaling**"
      ]
    },
    {
      "cell_type": "markdown",
      "metadata": {
        "id": "m2Ta-6NbrfLp"
      },
      "source": [
        "### 1. Normalization"
      ]
    },
    {
      "cell_type": "code",
      "metadata": {
        "id": "HvWfPNdyrPfn"
      },
      "source": [
        "dataset['Normalized_Quantity'] = (dataset['Quantity'] - dataset['Quantity'].min()) / (dataset['Quantity'].max() - dataset['Quantity'].min())\n",
        "\n",
        "dataset['Normalized_UnitPrice'] = (dataset['UnitPrice'] - dataset['UnitPrice'].min()) / (dataset['UnitPrice'].max() - dataset['UnitPrice'].min()) "
      ],
      "execution_count": 34,
      "outputs": []
    },
    {
      "cell_type": "markdown",
      "metadata": {
        "id": "ur_WQKMZsR6s"
      },
      "source": [
        "### 2. Standardization"
      ]
    },
    {
      "cell_type": "code",
      "metadata": {
        "id": "FTFYJsv7sQqH"
      },
      "source": [
        "dataset['Standardized_Quantity'] = (dataset['Quantity'] - dataset['Quantity'].mean()) / dataset['Quantity'].std()\n",
        "\n",
        "dataset['Standardized_UnitPrice'] = (dataset['UnitPrice'] - dataset['UnitPrice'].mean()) / dataset['UnitPrice'].std()"
      ],
      "execution_count": 35,
      "outputs": []
    },
    {
      "cell_type": "code",
      "metadata": {
        "id": "yCiCvxEks0Dy",
        "outputId": "45b0ec6d-2804-4174-e3fe-274d06a6ef85",
        "colab": {
          "base_uri": "https://localhost:8080/",
          "height": 0
        }
      },
      "source": [
        "# Exploring the dataset after scaling\n",
        "dataset.head(10)"
      ],
      "execution_count": 36,
      "outputs": [
        {
          "output_type": "execute_result",
          "data": {
            "text/html": [
              "<div>\n",
              "<style scoped>\n",
              "    .dataframe tbody tr th:only-of-type {\n",
              "        vertical-align: middle;\n",
              "    }\n",
              "\n",
              "    .dataframe tbody tr th {\n",
              "        vertical-align: top;\n",
              "    }\n",
              "\n",
              "    .dataframe thead th {\n",
              "        text-align: right;\n",
              "    }\n",
              "</style>\n",
              "<table border=\"1\" class=\"dataframe\">\n",
              "  <thead>\n",
              "    <tr style=\"text-align: right;\">\n",
              "      <th></th>\n",
              "      <th>InvoiceNo</th>\n",
              "      <th>StockCode</th>\n",
              "      <th>Description</th>\n",
              "      <th>Quantity</th>\n",
              "      <th>InvoiceDate</th>\n",
              "      <th>UnitPrice</th>\n",
              "      <th>CustomerID</th>\n",
              "      <th>Country</th>\n",
              "      <th>Log_Transformed_Quantity</th>\n",
              "      <th>Log_Transformed_UnitPrice</th>\n",
              "      <th>Normalized_Quantity</th>\n",
              "      <th>Normalized_UnitPrice</th>\n",
              "      <th>Standardized_Quantity</th>\n",
              "      <th>Standardized_UnitPrice</th>\n",
              "    </tr>\n",
              "  </thead>\n",
              "  <tbody>\n",
              "    <tr>\n",
              "      <th>0</th>\n",
              "      <td>536365</td>\n",
              "      <td>85123A</td>\n",
              "      <td>WHITE HANGING HEART T-LIGHT HOLDER</td>\n",
              "      <td>6</td>\n",
              "      <td>12/1/2010 8:26</td>\n",
              "      <td>2.55</td>\n",
              "      <td>17850.0</td>\n",
              "      <td>United Kingdom</td>\n",
              "      <td>1.945910</td>\n",
              "      <td>1.266948</td>\n",
              "      <td>0.20</td>\n",
              "      <td>0.341735</td>\n",
              "      <td>-0.219014</td>\n",
              "      <td>0.239846</td>\n",
              "    </tr>\n",
              "    <tr>\n",
              "      <th>1</th>\n",
              "      <td>536365</td>\n",
              "      <td>71053</td>\n",
              "      <td>WHITE METAL LANTERN</td>\n",
              "      <td>6</td>\n",
              "      <td>12/1/2010 8:26</td>\n",
              "      <td>3.39</td>\n",
              "      <td>17850.0</td>\n",
              "      <td>United Kingdom</td>\n",
              "      <td>1.945910</td>\n",
              "      <td>1.479329</td>\n",
              "      <td>0.20</td>\n",
              "      <td>0.454350</td>\n",
              "      <td>-0.219014</td>\n",
              "      <td>0.788737</td>\n",
              "    </tr>\n",
              "    <tr>\n",
              "      <th>2</th>\n",
              "      <td>536365</td>\n",
              "      <td>84406B</td>\n",
              "      <td>CREAM CUPID HEARTS COAT HANGER</td>\n",
              "      <td>8</td>\n",
              "      <td>12/1/2010 8:26</td>\n",
              "      <td>2.75</td>\n",
              "      <td>17850.0</td>\n",
              "      <td>United Kingdom</td>\n",
              "      <td>2.197225</td>\n",
              "      <td>1.321756</td>\n",
              "      <td>0.28</td>\n",
              "      <td>0.368548</td>\n",
              "      <td>0.076431</td>\n",
              "      <td>0.370534</td>\n",
              "    </tr>\n",
              "    <tr>\n",
              "      <th>3</th>\n",
              "      <td>536365</td>\n",
              "      <td>84029G</td>\n",
              "      <td>KNITTED UNION FLAG HOT WATER BOTTLE</td>\n",
              "      <td>6</td>\n",
              "      <td>12/1/2010 8:26</td>\n",
              "      <td>3.39</td>\n",
              "      <td>17850.0</td>\n",
              "      <td>United Kingdom</td>\n",
              "      <td>1.945910</td>\n",
              "      <td>1.479329</td>\n",
              "      <td>0.20</td>\n",
              "      <td>0.454350</td>\n",
              "      <td>-0.219014</td>\n",
              "      <td>0.788737</td>\n",
              "    </tr>\n",
              "    <tr>\n",
              "      <th>4</th>\n",
              "      <td>536365</td>\n",
              "      <td>84029E</td>\n",
              "      <td>RED WOOLLY HOTTIE WHITE HEART.</td>\n",
              "      <td>6</td>\n",
              "      <td>12/1/2010 8:26</td>\n",
              "      <td>3.39</td>\n",
              "      <td>17850.0</td>\n",
              "      <td>United Kingdom</td>\n",
              "      <td>1.945910</td>\n",
              "      <td>1.479329</td>\n",
              "      <td>0.20</td>\n",
              "      <td>0.454350</td>\n",
              "      <td>-0.219014</td>\n",
              "      <td>0.788737</td>\n",
              "    </tr>\n",
              "    <tr>\n",
              "      <th>6</th>\n",
              "      <td>536365</td>\n",
              "      <td>21730</td>\n",
              "      <td>GLASS STAR FROSTED T-LIGHT HOLDER</td>\n",
              "      <td>6</td>\n",
              "      <td>12/1/2010 8:26</td>\n",
              "      <td>4.25</td>\n",
              "      <td>17850.0</td>\n",
              "      <td>United Kingdom</td>\n",
              "      <td>1.945910</td>\n",
              "      <td>1.658228</td>\n",
              "      <td>0.20</td>\n",
              "      <td>0.569647</td>\n",
              "      <td>-0.219014</td>\n",
              "      <td>1.350697</td>\n",
              "    </tr>\n",
              "    <tr>\n",
              "      <th>7</th>\n",
              "      <td>536366</td>\n",
              "      <td>22633</td>\n",
              "      <td>HAND WARMER UNION JACK</td>\n",
              "      <td>6</td>\n",
              "      <td>12/1/2010 8:28</td>\n",
              "      <td>1.85</td>\n",
              "      <td>17850.0</td>\n",
              "      <td>United Kingdom</td>\n",
              "      <td>1.945910</td>\n",
              "      <td>1.047319</td>\n",
              "      <td>0.20</td>\n",
              "      <td>0.247888</td>\n",
              "      <td>-0.219014</td>\n",
              "      <td>-0.217563</td>\n",
              "    </tr>\n",
              "    <tr>\n",
              "      <th>8</th>\n",
              "      <td>536366</td>\n",
              "      <td>22632</td>\n",
              "      <td>HAND WARMER RED POLKA DOT</td>\n",
              "      <td>6</td>\n",
              "      <td>12/1/2010 8:28</td>\n",
              "      <td>1.85</td>\n",
              "      <td>17850.0</td>\n",
              "      <td>United Kingdom</td>\n",
              "      <td>1.945910</td>\n",
              "      <td>1.047319</td>\n",
              "      <td>0.20</td>\n",
              "      <td>0.247888</td>\n",
              "      <td>-0.219014</td>\n",
              "      <td>-0.217563</td>\n",
              "    </tr>\n",
              "    <tr>\n",
              "      <th>10</th>\n",
              "      <td>536367</td>\n",
              "      <td>22745</td>\n",
              "      <td>POPPY'S PLAYHOUSE BEDROOM</td>\n",
              "      <td>6</td>\n",
              "      <td>12/1/2010 8:34</td>\n",
              "      <td>2.10</td>\n",
              "      <td>13047.0</td>\n",
              "      <td>United Kingdom</td>\n",
              "      <td>1.945910</td>\n",
              "      <td>1.131402</td>\n",
              "      <td>0.20</td>\n",
              "      <td>0.281405</td>\n",
              "      <td>-0.219014</td>\n",
              "      <td>-0.054203</td>\n",
              "    </tr>\n",
              "    <tr>\n",
              "      <th>11</th>\n",
              "      <td>536367</td>\n",
              "      <td>22748</td>\n",
              "      <td>POPPY'S PLAYHOUSE KITCHEN</td>\n",
              "      <td>6</td>\n",
              "      <td>12/1/2010 8:34</td>\n",
              "      <td>2.10</td>\n",
              "      <td>13047.0</td>\n",
              "      <td>United Kingdom</td>\n",
              "      <td>1.945910</td>\n",
              "      <td>1.131402</td>\n",
              "      <td>0.20</td>\n",
              "      <td>0.281405</td>\n",
              "      <td>-0.219014</td>\n",
              "      <td>-0.054203</td>\n",
              "    </tr>\n",
              "  </tbody>\n",
              "</table>\n",
              "</div>"
            ],
            "text/plain": [
              "   InvoiceNo StockCode  ... Standardized_Quantity  Standardized_UnitPrice\n",
              "0     536365    85123A  ...             -0.219014                0.239846\n",
              "1     536365     71053  ...             -0.219014                0.788737\n",
              "2     536365    84406B  ...              0.076431                0.370534\n",
              "3     536365    84029G  ...             -0.219014                0.788737\n",
              "4     536365    84029E  ...             -0.219014                0.788737\n",
              "6     536365     21730  ...             -0.219014                1.350697\n",
              "7     536366     22633  ...             -0.219014               -0.217563\n",
              "8     536366     22632  ...             -0.219014               -0.217563\n",
              "10    536367     22745  ...             -0.219014               -0.054203\n",
              "11    536367     22748  ...             -0.219014               -0.054203\n",
              "\n",
              "[10 rows x 14 columns]"
            ]
          },
          "metadata": {
            "tags": []
          },
          "execution_count": 36
        }
      ]
    },
    {
      "cell_type": "markdown",
      "metadata": {
        "id": "fB3TqDuotHhV"
      },
      "source": [
        "## **Date & Time extraction**"
      ]
    },
    {
      "cell_type": "code",
      "metadata": {
        "id": "OzRhHRMns9FA"
      },
      "source": [
        "# Creating the attributes for date, month, year, weekday and time of InvoiceDate\n",
        "dataset['Date'] = pd.to_datetime(dataset['InvoiceDate']).dt.day\n",
        "\n",
        "dataset['Month'] = pd.to_datetime(dataset['InvoiceDate']).dt.month\n",
        "\n",
        "dataset['Year'] = pd.to_datetime(dataset['InvoiceDate']).dt.year\n",
        "\n",
        "dataset['Weekday'] = pd.to_datetime(dataset['InvoiceDate']).dt.day_name()\n",
        "\n",
        "dataset['Time'] = pd.to_datetime(dataset['InvoiceDate']).dt.time"
      ],
      "execution_count": 37,
      "outputs": []
    },
    {
      "cell_type": "code",
      "metadata": {
        "id": "75BBftyPt3VX",
        "outputId": "2dee531a-c96b-44a5-c3a8-d1a01b4b2ba0",
        "colab": {
          "base_uri": "https://localhost:8080/",
          "height": 0
        }
      },
      "source": [
        "# Exploring the created date, day, time attributes\n",
        "dataset.head(10)"
      ],
      "execution_count": 38,
      "outputs": [
        {
          "output_type": "execute_result",
          "data": {
            "text/html": [
              "<div>\n",
              "<style scoped>\n",
              "    .dataframe tbody tr th:only-of-type {\n",
              "        vertical-align: middle;\n",
              "    }\n",
              "\n",
              "    .dataframe tbody tr th {\n",
              "        vertical-align: top;\n",
              "    }\n",
              "\n",
              "    .dataframe thead th {\n",
              "        text-align: right;\n",
              "    }\n",
              "</style>\n",
              "<table border=\"1\" class=\"dataframe\">\n",
              "  <thead>\n",
              "    <tr style=\"text-align: right;\">\n",
              "      <th></th>\n",
              "      <th>InvoiceNo</th>\n",
              "      <th>StockCode</th>\n",
              "      <th>Description</th>\n",
              "      <th>Quantity</th>\n",
              "      <th>InvoiceDate</th>\n",
              "      <th>UnitPrice</th>\n",
              "      <th>CustomerID</th>\n",
              "      <th>Country</th>\n",
              "      <th>Log_Transformed_Quantity</th>\n",
              "      <th>Log_Transformed_UnitPrice</th>\n",
              "      <th>Normalized_Quantity</th>\n",
              "      <th>Normalized_UnitPrice</th>\n",
              "      <th>Standardized_Quantity</th>\n",
              "      <th>Standardized_UnitPrice</th>\n",
              "      <th>Date</th>\n",
              "      <th>Month</th>\n",
              "      <th>Year</th>\n",
              "      <th>Weekday</th>\n",
              "      <th>Time</th>\n",
              "    </tr>\n",
              "  </thead>\n",
              "  <tbody>\n",
              "    <tr>\n",
              "      <th>0</th>\n",
              "      <td>536365</td>\n",
              "      <td>85123A</td>\n",
              "      <td>WHITE HANGING HEART T-LIGHT HOLDER</td>\n",
              "      <td>6</td>\n",
              "      <td>12/1/2010 8:26</td>\n",
              "      <td>2.55</td>\n",
              "      <td>17850.0</td>\n",
              "      <td>United Kingdom</td>\n",
              "      <td>1.945910</td>\n",
              "      <td>1.266948</td>\n",
              "      <td>0.20</td>\n",
              "      <td>0.341735</td>\n",
              "      <td>-0.219014</td>\n",
              "      <td>0.239846</td>\n",
              "      <td>1</td>\n",
              "      <td>12</td>\n",
              "      <td>2010</td>\n",
              "      <td>Wednesday</td>\n",
              "      <td>08:26:00</td>\n",
              "    </tr>\n",
              "    <tr>\n",
              "      <th>1</th>\n",
              "      <td>536365</td>\n",
              "      <td>71053</td>\n",
              "      <td>WHITE METAL LANTERN</td>\n",
              "      <td>6</td>\n",
              "      <td>12/1/2010 8:26</td>\n",
              "      <td>3.39</td>\n",
              "      <td>17850.0</td>\n",
              "      <td>United Kingdom</td>\n",
              "      <td>1.945910</td>\n",
              "      <td>1.479329</td>\n",
              "      <td>0.20</td>\n",
              "      <td>0.454350</td>\n",
              "      <td>-0.219014</td>\n",
              "      <td>0.788737</td>\n",
              "      <td>1</td>\n",
              "      <td>12</td>\n",
              "      <td>2010</td>\n",
              "      <td>Wednesday</td>\n",
              "      <td>08:26:00</td>\n",
              "    </tr>\n",
              "    <tr>\n",
              "      <th>2</th>\n",
              "      <td>536365</td>\n",
              "      <td>84406B</td>\n",
              "      <td>CREAM CUPID HEARTS COAT HANGER</td>\n",
              "      <td>8</td>\n",
              "      <td>12/1/2010 8:26</td>\n",
              "      <td>2.75</td>\n",
              "      <td>17850.0</td>\n",
              "      <td>United Kingdom</td>\n",
              "      <td>2.197225</td>\n",
              "      <td>1.321756</td>\n",
              "      <td>0.28</td>\n",
              "      <td>0.368548</td>\n",
              "      <td>0.076431</td>\n",
              "      <td>0.370534</td>\n",
              "      <td>1</td>\n",
              "      <td>12</td>\n",
              "      <td>2010</td>\n",
              "      <td>Wednesday</td>\n",
              "      <td>08:26:00</td>\n",
              "    </tr>\n",
              "    <tr>\n",
              "      <th>3</th>\n",
              "      <td>536365</td>\n",
              "      <td>84029G</td>\n",
              "      <td>KNITTED UNION FLAG HOT WATER BOTTLE</td>\n",
              "      <td>6</td>\n",
              "      <td>12/1/2010 8:26</td>\n",
              "      <td>3.39</td>\n",
              "      <td>17850.0</td>\n",
              "      <td>United Kingdom</td>\n",
              "      <td>1.945910</td>\n",
              "      <td>1.479329</td>\n",
              "      <td>0.20</td>\n",
              "      <td>0.454350</td>\n",
              "      <td>-0.219014</td>\n",
              "      <td>0.788737</td>\n",
              "      <td>1</td>\n",
              "      <td>12</td>\n",
              "      <td>2010</td>\n",
              "      <td>Wednesday</td>\n",
              "      <td>08:26:00</td>\n",
              "    </tr>\n",
              "    <tr>\n",
              "      <th>4</th>\n",
              "      <td>536365</td>\n",
              "      <td>84029E</td>\n",
              "      <td>RED WOOLLY HOTTIE WHITE HEART.</td>\n",
              "      <td>6</td>\n",
              "      <td>12/1/2010 8:26</td>\n",
              "      <td>3.39</td>\n",
              "      <td>17850.0</td>\n",
              "      <td>United Kingdom</td>\n",
              "      <td>1.945910</td>\n",
              "      <td>1.479329</td>\n",
              "      <td>0.20</td>\n",
              "      <td>0.454350</td>\n",
              "      <td>-0.219014</td>\n",
              "      <td>0.788737</td>\n",
              "      <td>1</td>\n",
              "      <td>12</td>\n",
              "      <td>2010</td>\n",
              "      <td>Wednesday</td>\n",
              "      <td>08:26:00</td>\n",
              "    </tr>\n",
              "    <tr>\n",
              "      <th>6</th>\n",
              "      <td>536365</td>\n",
              "      <td>21730</td>\n",
              "      <td>GLASS STAR FROSTED T-LIGHT HOLDER</td>\n",
              "      <td>6</td>\n",
              "      <td>12/1/2010 8:26</td>\n",
              "      <td>4.25</td>\n",
              "      <td>17850.0</td>\n",
              "      <td>United Kingdom</td>\n",
              "      <td>1.945910</td>\n",
              "      <td>1.658228</td>\n",
              "      <td>0.20</td>\n",
              "      <td>0.569647</td>\n",
              "      <td>-0.219014</td>\n",
              "      <td>1.350697</td>\n",
              "      <td>1</td>\n",
              "      <td>12</td>\n",
              "      <td>2010</td>\n",
              "      <td>Wednesday</td>\n",
              "      <td>08:26:00</td>\n",
              "    </tr>\n",
              "    <tr>\n",
              "      <th>7</th>\n",
              "      <td>536366</td>\n",
              "      <td>22633</td>\n",
              "      <td>HAND WARMER UNION JACK</td>\n",
              "      <td>6</td>\n",
              "      <td>12/1/2010 8:28</td>\n",
              "      <td>1.85</td>\n",
              "      <td>17850.0</td>\n",
              "      <td>United Kingdom</td>\n",
              "      <td>1.945910</td>\n",
              "      <td>1.047319</td>\n",
              "      <td>0.20</td>\n",
              "      <td>0.247888</td>\n",
              "      <td>-0.219014</td>\n",
              "      <td>-0.217563</td>\n",
              "      <td>1</td>\n",
              "      <td>12</td>\n",
              "      <td>2010</td>\n",
              "      <td>Wednesday</td>\n",
              "      <td>08:28:00</td>\n",
              "    </tr>\n",
              "    <tr>\n",
              "      <th>8</th>\n",
              "      <td>536366</td>\n",
              "      <td>22632</td>\n",
              "      <td>HAND WARMER RED POLKA DOT</td>\n",
              "      <td>6</td>\n",
              "      <td>12/1/2010 8:28</td>\n",
              "      <td>1.85</td>\n",
              "      <td>17850.0</td>\n",
              "      <td>United Kingdom</td>\n",
              "      <td>1.945910</td>\n",
              "      <td>1.047319</td>\n",
              "      <td>0.20</td>\n",
              "      <td>0.247888</td>\n",
              "      <td>-0.219014</td>\n",
              "      <td>-0.217563</td>\n",
              "      <td>1</td>\n",
              "      <td>12</td>\n",
              "      <td>2010</td>\n",
              "      <td>Wednesday</td>\n",
              "      <td>08:28:00</td>\n",
              "    </tr>\n",
              "    <tr>\n",
              "      <th>10</th>\n",
              "      <td>536367</td>\n",
              "      <td>22745</td>\n",
              "      <td>POPPY'S PLAYHOUSE BEDROOM</td>\n",
              "      <td>6</td>\n",
              "      <td>12/1/2010 8:34</td>\n",
              "      <td>2.10</td>\n",
              "      <td>13047.0</td>\n",
              "      <td>United Kingdom</td>\n",
              "      <td>1.945910</td>\n",
              "      <td>1.131402</td>\n",
              "      <td>0.20</td>\n",
              "      <td>0.281405</td>\n",
              "      <td>-0.219014</td>\n",
              "      <td>-0.054203</td>\n",
              "      <td>1</td>\n",
              "      <td>12</td>\n",
              "      <td>2010</td>\n",
              "      <td>Wednesday</td>\n",
              "      <td>08:34:00</td>\n",
              "    </tr>\n",
              "    <tr>\n",
              "      <th>11</th>\n",
              "      <td>536367</td>\n",
              "      <td>22748</td>\n",
              "      <td>POPPY'S PLAYHOUSE KITCHEN</td>\n",
              "      <td>6</td>\n",
              "      <td>12/1/2010 8:34</td>\n",
              "      <td>2.10</td>\n",
              "      <td>13047.0</td>\n",
              "      <td>United Kingdom</td>\n",
              "      <td>1.945910</td>\n",
              "      <td>1.131402</td>\n",
              "      <td>0.20</td>\n",
              "      <td>0.281405</td>\n",
              "      <td>-0.219014</td>\n",
              "      <td>-0.054203</td>\n",
              "      <td>1</td>\n",
              "      <td>12</td>\n",
              "      <td>2010</td>\n",
              "      <td>Wednesday</td>\n",
              "      <td>08:34:00</td>\n",
              "    </tr>\n",
              "  </tbody>\n",
              "</table>\n",
              "</div>"
            ],
            "text/plain": [
              "   InvoiceNo StockCode  ...    Weekday      Time\n",
              "0     536365    85123A  ...  Wednesday  08:26:00\n",
              "1     536365     71053  ...  Wednesday  08:26:00\n",
              "2     536365    84406B  ...  Wednesday  08:26:00\n",
              "3     536365    84029G  ...  Wednesday  08:26:00\n",
              "4     536365    84029E  ...  Wednesday  08:26:00\n",
              "6     536365     21730  ...  Wednesday  08:26:00\n",
              "7     536366     22633  ...  Wednesday  08:28:00\n",
              "8     536366     22632  ...  Wednesday  08:28:00\n",
              "10    536367     22745  ...  Wednesday  08:34:00\n",
              "11    536367     22748  ...  Wednesday  08:34:00\n",
              "\n",
              "[10 rows x 19 columns]"
            ]
          },
          "metadata": {
            "tags": []
          },
          "execution_count": 38
        }
      ]
    },
    {
      "cell_type": "markdown",
      "metadata": {
        "id": "i6s3h-nnuHgn"
      },
      "source": [
        "## **Visual Representation**"
      ]
    },
    {
      "cell_type": "code",
      "metadata": {
        "id": "HlPT6RR1uBNK",
        "outputId": "ac1391fd-4910-4f0b-d168-14cf983e0b92",
        "colab": {
          "base_uri": "https://localhost:8080/",
          "height": 0
        }
      },
      "source": [
        "# Exploring the description of the 10 products with the highest count\n",
        "dataset['Description'].value_counts()[:10].plot(kind='barh', color='green', figsize=(10, 5))"
      ],
      "execution_count": 39,
      "outputs": [
        {
          "output_type": "execute_result",
          "data": {
            "text/plain": [
              "<matplotlib.axes._subplots.AxesSubplot at 0x7f725de075f8>"
            ]
          },
          "metadata": {
            "tags": []
          },
          "execution_count": 39
        },
        {
          "output_type": "display_data",
          "data": {
            "image/png": "[encoded data removed]",
            "text/plain": [
              "<Figure size 720x360 with 1 Axes>"
            ]
          },
          "metadata": {
            "tags": [],
            "needs_background": "light"
          }
        }
      ]
    },
    {
      "cell_type": "code",
      "metadata": {
        "id": "NTIWcnefuwcj",
        "outputId": "0838b29d-4ed6-416f-f554-e419abc16a85",
        "colab": {
          "base_uri": "https://localhost:8080/",
          "height": 0
        }
      },
      "source": [
        "# Exploring the sales in different months\n",
        "dataset['Month'].value_counts().plot(kind='barh', figsize=(10,5))"
      ],
      "execution_count": 40,
      "outputs": [
        {
          "output_type": "execute_result",
          "data": {
            "text/plain": [
              "<matplotlib.axes._subplots.AxesSubplot at 0x7f725ac77320>"
            ]
          },
          "metadata": {
            "tags": []
          },
          "execution_count": 40
        },
        {
          "output_type": "display_data",
          "data": {
            "image/png": "[encoded data removed]",
            "text/plain": [
              "<Figure size 720x360 with 1 Axes>"
            ]
          },
          "metadata": {
            "tags": [],
            "needs_background": "light"
          }
        }
      ]
    },
    {
      "cell_type": "markdown",
      "metadata": {
        "id": "UbPmCKzovLgP"
      },
      "source": [
        "From the graph, we can interpret that November recorded most sales and February recorded least sales."
      ]
    },
    {
      "cell_type": "code",
      "metadata": {
        "id": "xMy4ZTZZvIkt",
        "outputId": "7a652639-729e-40de-bba6-f98774852e67",
        "colab": {
          "base_uri": "https://localhost:8080/",
          "height": 0
        }
      },
      "source": [
        "# Exploring the number of sales by year\n",
        "dataset['Year'].value_counts().plot(kind='pie', explode=(0,0.2), shadow=True, figsize=(10,5))"
      ],
      "execution_count": 41,
      "outputs": [
        {
          "output_type": "execute_result",
          "data": {
            "text/plain": [
              "<matplotlib.axes._subplots.AxesSubplot at 0x7f725a7d2ba8>"
            ]
          },
          "metadata": {
            "tags": []
          },
          "execution_count": 41
        },
        {
          "output_type": "display_data",
          "data": {
            "image/png": "[encoded data removed]",
            "text/plain": [
              "<Figure size 720x360 with 1 Axes>"
            ]
          },
          "metadata": {
            "tags": []
          }
        }
      ]
    },
    {
      "cell_type": "code",
      "metadata": {
        "id": "epKjAh7IvsWG",
        "outputId": "a943e4b7-b94b-43db-91ac-e1bb7084e687",
        "colab": {
          "base_uri": "https://localhost:8080/",
          "height": 0
        }
      },
      "source": [
        "# Exploring the number of sales by days\n",
        "dataset['Weekday'].value_counts().plot(kind='barh', color='purple', figsize=(10,5))"
      ],
      "execution_count": 42,
      "outputs": [
        {
          "output_type": "execute_result",
          "data": {
            "text/plain": [
              "<matplotlib.axes._subplots.AxesSubplot at 0x7f725a79b0f0>"
            ]
          },
          "metadata": {
            "tags": []
          },
          "execution_count": 42
        },
        {
          "output_type": "display_data",
          "data": {
            "image/png": "[encoded data removed]",
            "text/plain": [
              "<Figure size 720x360 with 1 Axes>"
            ]
          },
          "metadata": {
            "tags": [],
            "needs_background": "light"
          }
        }
      ]
    },
    {
      "cell_type": "markdown",
      "metadata": {
        "id": "3QkZt6vuwGOL"
      },
      "source": [
        "From the above graph, we can interpret that the store used to be closed on saturdays and the maximum sales used to happen on thursday as opposed to the least sales on Friday."
      ]
    },
    {
      "cell_type": "markdown",
      "metadata": {
        "id": "_Cgo2yJ_wbTo"
      },
      "source": [
        "# <font color=\"blue\">**Customer Segmentation**</font>"
      ]
    },
    {
      "cell_type": "code",
      "metadata": {
        "id": "DgwLwebwwAZV",
        "outputId": "5cc601d9-f632-4daf-e422-aa26748ba6c6",
        "colab": {
          "base_uri": "https://localhost:8080/"
        }
      },
      "source": [
        "# Exploring the dataset grouped by InvoiceNo and Description\n",
        "dataset.groupby(['InvoiceNo', 'Description']).size()[:50]"
      ],
      "execution_count": 43,
      "outputs": [
        {
          "output_type": "execute_result",
          "data": {
            "text/plain": [
              "InvoiceNo  Description                        \n",
              "536365     CREAM CUPID HEARTS COAT HANGER         1\n",
              "           GLASS STAR FROSTED T-LIGHT HOLDER      1\n",
              "           KNITTED UNION FLAG HOT WATER BOTTLE    1\n",
              "           RED WOOLLY HOTTIE WHITE HEART.         1\n",
              "           WHITE HANGING HEART T-LIGHT HOLDER     1\n",
              "           WHITE METAL LANTERN                    1\n",
              "536366     HAND WARMER RED POLKA DOT              1\n",
              "           HAND WARMER UNION JACK                 1\n",
              "536367     BOX OF 6 ASSORTED COLOUR TEASPOONS     1\n",
              "           BOX OF VINTAGE JIGSAW BLOCKS           1\n",
              "           FELTCRAFT PRINCESS CHARLOTTE DOLL      1\n",
              "           HOME BUILDING BLOCK WORD               1\n",
              "           IVORY KNITTED MUG COSY                 1\n",
              "           LOVE BUILDING BLOCK WORD               1\n",
              "           POPPY'S PLAYHOUSE BEDROOM              1\n",
              "           POPPY'S PLAYHOUSE KITCHEN              1\n",
              "536368     BLUE COAT RACK PARIS FASHION           1\n",
              "           JAM MAKING SET WITH JARS               1\n",
              "           RED COAT RACK PARIS FASHION            1\n",
              "           YELLOW COAT RACK PARIS FASHION         1\n",
              "536369     BATH BUILDING BLOCK WORD               1\n",
              "536370      SET 2 TEA TOWELS I LOVE LONDON        1\n",
              "           ALARM CLOCK BAKELIKE GREEN             1\n",
              "           ALARM CLOCK BAKELIKE PINK              1\n",
              "           ALARM CLOCK BAKELIKE RED               1\n",
              "           CHARLOTTE BAG DOLLY GIRL DESIGN        1\n",
              "           CIRCUS PARADE LUNCH BOX                1\n",
              "           LUNCH BOX I LOVE LONDON                1\n",
              "           MINI JIGSAW CIRCUS PARADE              1\n",
              "           MINI JIGSAW SPACEBOY                   1\n",
              "           PANDA AND BUNNIES STICKER SHEET        1\n",
              "           RED TOADSTOOL LED NIGHT LIGHT          1\n",
              "           ROUND SNACK BOXES SET OF4 WOODLAND     1\n",
              "           SET/2 RED RETROSPOT TEA TOWELS         1\n",
              "           SPACEBOY LUNCH BOX                     1\n",
              "           STARS GIFT TAPE                        1\n",
              "           VINTAGE HEADS AND TAILS CARD GAME      1\n",
              "           VINTAGE SEASIDE JIGSAW PUZZLES         1\n",
              "536372     HAND WARMER RED POLKA DOT              1\n",
              "           HAND WARMER UNION JACK                 1\n",
              "536373     CREAM CUPID HEARTS COAT HANGER         1\n",
              "           EDWARDIAN PARASOL RED                  1\n",
              "           GLASS STAR FROSTED T-LIGHT HOLDER      1\n",
              "           KNITTED UNION FLAG HOT WATER BOTTLE    1\n",
              "           RED WOOLLY HOTTIE WHITE HEART.         1\n",
              "           RETRO COFFEE MUGS ASSORTED             1\n",
              "           SAVE THE PLANET MUG                    1\n",
              "           VINTAGE BILLBOARD DRINK ME MUG         1\n",
              "           VINTAGE BILLBOARD LOVE/HATE MUG        1\n",
              "           WHITE HANGING HEART T-LIGHT HOLDER     1\n",
              "dtype: int64"
            ]
          },
          "metadata": {
            "tags": []
          },
          "execution_count": 43
        }
      ]
    },
    {
      "cell_type": "code",
      "metadata": {
        "id": "3DgBVof9Tnif",
        "outputId": "6c64a508-fe95-4ee2-f3d8-f36a17d0eff8",
        "colab": {
          "base_uri": "https://localhost:8080/"
        }
      },
      "source": [
        "# Exploring the dataset grouped by CustomerID and Description\n",
        "dataset.groupby(['CustomerID', 'Description']).size()"
      ],
      "execution_count": 44,
      "outputs": [
        {
          "output_type": "execute_result",
          "data": {
            "text/plain": [
              "CustomerID  Description                      \n",
              "12347.0     3D DOG PICTURE PLAYING CARDS         3\n",
              "            3D SHEET OF CAT STICKERS             1\n",
              "            3D SHEET OF DOG STICKERS             1\n",
              "            60 TEATIME FAIRY CAKE CASES          3\n",
              "            72 SWEETHEART FAIRY CAKE CASES       3\n",
              "                                                ..\n",
              "18287.0     SMALL YELLOW BABUSHKA NOTEBOOK       1\n",
              "            STAR T-LIGHT HOLDER WILLIE WINKIE    1\n",
              "            STRAWBERRY CERAMIC TRINKET BOX       1\n",
              "            SWISS CHALET TREE DECORATION         2\n",
              "            TREE T-LIGHT HOLDER WILLIE WINKIE    1\n",
              "Length: 232548, dtype: int64"
            ]
          },
          "metadata": {
            "tags": []
          },
          "execution_count": 44
        }
      ]
    },
    {
      "cell_type": "markdown",
      "metadata": {
        "id": "2an11_aJTupR"
      },
      "source": [
        "## **1. Products Ordered**"
      ]
    },
    {
      "cell_type": "code",
      "metadata": {
        "id": "IN3J8JcST0Ek"
      },
      "source": [
        "def encode_column(column):\n",
        "  if column > 0:\n",
        "    return 1\n",
        "  if column <= 0:\n",
        "    return 0\n",
        "\n",
        "# Function to get the count of the products ordered\n",
        "def aggregate_by_ordered_quantity(dataframe, column_list):\n",
        "\n",
        "  aggregated_dataframe = dataframe.groupby(column_list).Quantity.count().reset_index()\n",
        "\n",
        "  aggregated_dataframe['Products_ordered'] = aggregated_dataframe.Quantity.apply(encode_column)\n",
        "\n",
        "  final_dataframe = aggregated_dataframe.groupby(column_list[0]).Products_ordered.sum().reset_index()\n",
        "\n",
        "  return final_dataframe"
      ],
      "execution_count": 45,
      "outputs": []
    },
    {
      "cell_type": "code",
      "metadata": {
        "id": "DDmtruxuWBBl",
        "outputId": "6ea0df11-66ba-4a80-964a-639e8574696b",
        "colab": {
          "base_uri": "https://localhost:8080/",
          "height": 0
        }
      },
      "source": [
        "# Creating customers dataframe\n",
        "customers = aggregate_by_ordered_quantity(dataset, ['CustomerID', 'Description'])\n",
        "\n",
        "customers.head()"
      ],
      "execution_count": 46,
      "outputs": [
        {
          "output_type": "execute_result",
          "data": {
            "text/html": [
              "<div>\n",
              "<style scoped>\n",
              "    .dataframe tbody tr th:only-of-type {\n",
              "        vertical-align: middle;\n",
              "    }\n",
              "\n",
              "    .dataframe tbody tr th {\n",
              "        vertical-align: top;\n",
              "    }\n",
              "\n",
              "    .dataframe thead th {\n",
              "        text-align: right;\n",
              "    }\n",
              "</style>\n",
              "<table border=\"1\" class=\"dataframe\">\n",
              "  <thead>\n",
              "    <tr style=\"text-align: right;\">\n",
              "      <th></th>\n",
              "      <th>CustomerID</th>\n",
              "      <th>Products_ordered</th>\n",
              "    </tr>\n",
              "  </thead>\n",
              "  <tbody>\n",
              "    <tr>\n",
              "      <th>0</th>\n",
              "      <td>12347.0</td>\n",
              "      <td>96</td>\n",
              "    </tr>\n",
              "    <tr>\n",
              "      <th>1</th>\n",
              "      <td>12348.0</td>\n",
              "      <td>6</td>\n",
              "    </tr>\n",
              "    <tr>\n",
              "      <th>2</th>\n",
              "      <td>12349.0</td>\n",
              "      <td>57</td>\n",
              "    </tr>\n",
              "    <tr>\n",
              "      <th>3</th>\n",
              "      <td>12350.0</td>\n",
              "      <td>16</td>\n",
              "    </tr>\n",
              "    <tr>\n",
              "      <th>4</th>\n",
              "      <td>12352.0</td>\n",
              "      <td>49</td>\n",
              "    </tr>\n",
              "  </tbody>\n",
              "</table>\n",
              "</div>"
            ],
            "text/plain": [
              "   CustomerID  Products_ordered\n",
              "0     12347.0                96\n",
              "1     12348.0                 6\n",
              "2     12349.0                57\n",
              "3     12350.0                16\n",
              "4     12352.0                49"
            ]
          },
          "metadata": {
            "tags": []
          },
          "execution_count": 46
        }
      ]
    },
    {
      "cell_type": "markdown",
      "metadata": {
        "id": "tJHNKkzYWSxm"
      },
      "source": [
        "## **2. Total Spending**\n",
        "\n",
        "Creating a `Sales` attribute which is product of `Quantity` and `UnitPrice`."
      ]
    },
    {
      "cell_type": "code",
      "metadata": {
        "id": "IvP88RiTWON8",
        "outputId": "8c2bc793-cac6-4b1a-c77f-15bb3d553f6c",
        "colab": {
          "base_uri": "https://localhost:8080/",
          "height": 0
        }
      },
      "source": [
        "dataset['Sales'] = dataset['Quantity'] * dataset['UnitPrice']\n",
        "\n",
        "# Exploring the dataset to validate the Sales attribute\n",
        "dataset.head()"
      ],
      "execution_count": 47,
      "outputs": [
        {
          "output_type": "execute_result",
          "data": {
            "text/html": [
              "<div>\n",
              "<style scoped>\n",
              "    .dataframe tbody tr th:only-of-type {\n",
              "        vertical-align: middle;\n",
              "    }\n",
              "\n",
              "    .dataframe tbody tr th {\n",
              "        vertical-align: top;\n",
              "    }\n",
              "\n",
              "    .dataframe thead th {\n",
              "        text-align: right;\n",
              "    }\n",
              "</style>\n",
              "<table border=\"1\" class=\"dataframe\">\n",
              "  <thead>\n",
              "    <tr style=\"text-align: right;\">\n",
              "      <th></th>\n",
              "      <th>InvoiceNo</th>\n",
              "      <th>StockCode</th>\n",
              "      <th>Description</th>\n",
              "      <th>Quantity</th>\n",
              "      <th>InvoiceDate</th>\n",
              "      <th>UnitPrice</th>\n",
              "      <th>CustomerID</th>\n",
              "      <th>Country</th>\n",
              "      <th>Log_Transformed_Quantity</th>\n",
              "      <th>Log_Transformed_UnitPrice</th>\n",
              "      <th>Normalized_Quantity</th>\n",
              "      <th>Normalized_UnitPrice</th>\n",
              "      <th>Standardized_Quantity</th>\n",
              "      <th>Standardized_UnitPrice</th>\n",
              "      <th>Date</th>\n",
              "      <th>Month</th>\n",
              "      <th>Year</th>\n",
              "      <th>Weekday</th>\n",
              "      <th>Time</th>\n",
              "      <th>Sales</th>\n",
              "    </tr>\n",
              "  </thead>\n",
              "  <tbody>\n",
              "    <tr>\n",
              "      <th>0</th>\n",
              "      <td>536365</td>\n",
              "      <td>85123A</td>\n",
              "      <td>WHITE HANGING HEART T-LIGHT HOLDER</td>\n",
              "      <td>6</td>\n",
              "      <td>12/1/2010 8:26</td>\n",
              "      <td>2.55</td>\n",
              "      <td>17850.0</td>\n",
              "      <td>United Kingdom</td>\n",
              "      <td>1.945910</td>\n",
              "      <td>1.266948</td>\n",
              "      <td>0.20</td>\n",
              "      <td>0.341735</td>\n",
              "      <td>-0.219014</td>\n",
              "      <td>0.239846</td>\n",
              "      <td>1</td>\n",
              "      <td>12</td>\n",
              "      <td>2010</td>\n",
              "      <td>Wednesday</td>\n",
              "      <td>08:26:00</td>\n",
              "      <td>15.30</td>\n",
              "    </tr>\n",
              "    <tr>\n",
              "      <th>1</th>\n",
              "      <td>536365</td>\n",
              "      <td>71053</td>\n",
              "      <td>WHITE METAL LANTERN</td>\n",
              "      <td>6</td>\n",
              "      <td>12/1/2010 8:26</td>\n",
              "      <td>3.39</td>\n",
              "      <td>17850.0</td>\n",
              "      <td>United Kingdom</td>\n",
              "      <td>1.945910</td>\n",
              "      <td>1.479329</td>\n",
              "      <td>0.20</td>\n",
              "      <td>0.454350</td>\n",
              "      <td>-0.219014</td>\n",
              "      <td>0.788737</td>\n",
              "      <td>1</td>\n",
              "      <td>12</td>\n",
              "      <td>2010</td>\n",
              "      <td>Wednesday</td>\n",
              "      <td>08:26:00</td>\n",
              "      <td>20.34</td>\n",
              "    </tr>\n",
              "    <tr>\n",
              "      <th>2</th>\n",
              "      <td>536365</td>\n",
              "      <td>84406B</td>\n",
              "      <td>CREAM CUPID HEARTS COAT HANGER</td>\n",
              "      <td>8</td>\n",
              "      <td>12/1/2010 8:26</td>\n",
              "      <td>2.75</td>\n",
              "      <td>17850.0</td>\n",
              "      <td>United Kingdom</td>\n",
              "      <td>2.197225</td>\n",
              "      <td>1.321756</td>\n",
              "      <td>0.28</td>\n",
              "      <td>0.368548</td>\n",
              "      <td>0.076431</td>\n",
              "      <td>0.370534</td>\n",
              "      <td>1</td>\n",
              "      <td>12</td>\n",
              "      <td>2010</td>\n",
              "      <td>Wednesday</td>\n",
              "      <td>08:26:00</td>\n",
              "      <td>22.00</td>\n",
              "    </tr>\n",
              "    <tr>\n",
              "      <th>3</th>\n",
              "      <td>536365</td>\n",
              "      <td>84029G</td>\n",
              "      <td>KNITTED UNION FLAG HOT WATER BOTTLE</td>\n",
              "      <td>6</td>\n",
              "      <td>12/1/2010 8:26</td>\n",
              "      <td>3.39</td>\n",
              "      <td>17850.0</td>\n",
              "      <td>United Kingdom</td>\n",
              "      <td>1.945910</td>\n",
              "      <td>1.479329</td>\n",
              "      <td>0.20</td>\n",
              "      <td>0.454350</td>\n",
              "      <td>-0.219014</td>\n",
              "      <td>0.788737</td>\n",
              "      <td>1</td>\n",
              "      <td>12</td>\n",
              "      <td>2010</td>\n",
              "      <td>Wednesday</td>\n",
              "      <td>08:26:00</td>\n",
              "      <td>20.34</td>\n",
              "    </tr>\n",
              "    <tr>\n",
              "      <th>4</th>\n",
              "      <td>536365</td>\n",
              "      <td>84029E</td>\n",
              "      <td>RED WOOLLY HOTTIE WHITE HEART.</td>\n",
              "      <td>6</td>\n",
              "      <td>12/1/2010 8:26</td>\n",
              "      <td>3.39</td>\n",
              "      <td>17850.0</td>\n",
              "      <td>United Kingdom</td>\n",
              "      <td>1.945910</td>\n",
              "      <td>1.479329</td>\n",
              "      <td>0.20</td>\n",
              "      <td>0.454350</td>\n",
              "      <td>-0.219014</td>\n",
              "      <td>0.788737</td>\n",
              "      <td>1</td>\n",
              "      <td>12</td>\n",
              "      <td>2010</td>\n",
              "      <td>Wednesday</td>\n",
              "      <td>08:26:00</td>\n",
              "      <td>20.34</td>\n",
              "    </tr>\n",
              "  </tbody>\n",
              "</table>\n",
              "</div>"
            ],
            "text/plain": [
              "  InvoiceNo StockCode  ...      Time  Sales\n",
              "0    536365    85123A  ...  08:26:00  15.30\n",
              "1    536365     71053  ...  08:26:00  20.34\n",
              "2    536365    84406B  ...  08:26:00  22.00\n",
              "3    536365    84029G  ...  08:26:00  20.34\n",
              "4    536365    84029E  ...  08:26:00  20.34\n",
              "\n",
              "[5 rows x 20 columns]"
            ]
          },
          "metadata": {
            "tags": []
          },
          "execution_count": 47
        }
      ]
    },
    {
      "cell_type": "code",
      "metadata": {
        "id": "hyIkdv7vW2M-"
      },
      "source": [
        "# Obtaining customers total spending\n",
        "customer_total_spending = dataset.groupby('CustomerID').Sales.sum().reset_index()\n",
        "\n",
        "customer_total_spending.rename(columns = {'Sales' : 'Total_spending'}, inplace = True)"
      ],
      "execution_count": 48,
      "outputs": []
    },
    {
      "cell_type": "code",
      "metadata": {
        "id": "shD4o8NNXn-u",
        "outputId": "02f49b5b-0aea-4cc3-c830-39324981a2aa",
        "colab": {
          "base_uri": "https://localhost:8080/",
          "height": 0
        }
      },
      "source": [
        "# Merging the two dataframes on CustomerID\n",
        "customers = pd.merge(customers, customer_total_spending, on='CustomerID')\n",
        "\n",
        "print(f'The number of customers from the existing customer base : {customers.shape[0]}')\n",
        "\n",
        "customers.head()"
      ],
      "execution_count": 49,
      "outputs": [
        {
          "output_type": "stream",
          "text": [
            "The number of customers from the existing customer base : 4190\n"
          ],
          "name": "stdout"
        },
        {
          "output_type": "execute_result",
          "data": {
            "text/html": [
              "<div>\n",
              "<style scoped>\n",
              "    .dataframe tbody tr th:only-of-type {\n",
              "        vertical-align: middle;\n",
              "    }\n",
              "\n",
              "    .dataframe tbody tr th {\n",
              "        vertical-align: top;\n",
              "    }\n",
              "\n",
              "    .dataframe thead th {\n",
              "        text-align: right;\n",
              "    }\n",
              "</style>\n",
              "<table border=\"1\" class=\"dataframe\">\n",
              "  <thead>\n",
              "    <tr style=\"text-align: right;\">\n",
              "      <th></th>\n",
              "      <th>CustomerID</th>\n",
              "      <th>Products_ordered</th>\n",
              "      <th>Total_spending</th>\n",
              "    </tr>\n",
              "  </thead>\n",
              "  <tbody>\n",
              "    <tr>\n",
              "      <th>0</th>\n",
              "      <td>12347.0</td>\n",
              "      <td>96</td>\n",
              "      <td>3314.73</td>\n",
              "    </tr>\n",
              "    <tr>\n",
              "      <th>1</th>\n",
              "      <td>12348.0</td>\n",
              "      <td>6</td>\n",
              "      <td>90.20</td>\n",
              "    </tr>\n",
              "    <tr>\n",
              "      <th>2</th>\n",
              "      <td>12349.0</td>\n",
              "      <td>57</td>\n",
              "      <td>984.15</td>\n",
              "    </tr>\n",
              "    <tr>\n",
              "      <th>3</th>\n",
              "      <td>12350.0</td>\n",
              "      <td>16</td>\n",
              "      <td>294.40</td>\n",
              "    </tr>\n",
              "    <tr>\n",
              "      <th>4</th>\n",
              "      <td>12352.0</td>\n",
              "      <td>49</td>\n",
              "      <td>1130.94</td>\n",
              "    </tr>\n",
              "  </tbody>\n",
              "</table>\n",
              "</div>"
            ],
            "text/plain": [
              "   CustomerID  Products_ordered  Total_spending\n",
              "0     12347.0                96         3314.73\n",
              "1     12348.0                 6           90.20\n",
              "2     12349.0                57          984.15\n",
              "3     12350.0                16          294.40\n",
              "4     12352.0                49         1130.94"
            ]
          },
          "metadata": {
            "tags": []
          },
          "execution_count": 49
        }
      ]
    },
    {
      "cell_type": "markdown",
      "metadata": {
        "id": "2trCVr3GYiHw"
      },
      "source": [
        "## **Scaling using Log1p transform**"
      ]
    },
    {
      "cell_type": "code",
      "metadata": {
        "id": "CyfGRinYYVmP"
      },
      "source": [
        "# Function to apply log1p transformation\n",
        "def apply_log1p_transformation(dataframe, column):\n",
        "\n",
        "  dataframe['log_' + column] = np.log1p(dataframe[column])\n",
        "  return dataframe['log_' + column]"
      ],
      "execution_count": 50,
      "outputs": []
    },
    {
      "cell_type": "markdown",
      "metadata": {
        "id": "ITI9_2_iZJwo"
      },
      "source": [
        "### 1. Products ordered"
      ]
    },
    {
      "cell_type": "code",
      "metadata": {
        "id": "b0cbU8FLZIcW",
        "outputId": "a5ed22a7-3105-43ec-d297-dfdfad701702",
        "colab": {
          "base_uri": "https://localhost:8080/"
        }
      },
      "source": [
        "apply_log1p_transformation(customers, 'Products_ordered')"
      ],
      "execution_count": 51,
      "outputs": [
        {
          "output_type": "execute_result",
          "data": {
            "text/plain": [
              "0       4.574711\n",
              "1       1.945910\n",
              "2       4.060443\n",
              "3       2.833213\n",
              "4       3.912023\n",
              "          ...   \n",
              "4185    2.197225\n",
              "4186    1.791759\n",
              "4187    2.197225\n",
              "4188    5.594711\n",
              "4189    3.850148\n",
              "Name: log_Products_ordered, Length: 4190, dtype: float64"
            ]
          },
          "metadata": {
            "tags": []
          },
          "execution_count": 51
        }
      ]
    },
    {
      "cell_type": "markdown",
      "metadata": {
        "id": "ONFh0hLFZbUB"
      },
      "source": [
        "### 2. Total spending"
      ]
    },
    {
      "cell_type": "code",
      "metadata": {
        "id": "GsgdL-_7ZUDr",
        "outputId": "71ebf5a0-b38e-45a2-a48b-08af0830993a",
        "colab": {
          "base_uri": "https://localhost:8080/"
        }
      },
      "source": [
        "apply_log1p_transformation(customers, 'Total_spending')"
      ],
      "execution_count": 52,
      "outputs": [
        {
          "output_type": "execute_result",
          "data": {
            "text/plain": [
              "0       8.106433\n",
              "1       4.513055\n",
              "2       6.892794\n",
              "3       5.688330\n",
              "4       7.031688\n",
              "          ...   \n",
              "4185    4.927254\n",
              "4186    3.869533\n",
              "4187    4.737338\n",
              "4188    7.627048\n",
              "4189    6.868765\n",
              "Name: log_Total_spending, Length: 4190, dtype: float64"
            ]
          },
          "metadata": {
            "tags": []
          },
          "execution_count": 52
        }
      ]
    },
    {
      "cell_type": "code",
      "metadata": {
        "id": "cHB4BMw3Zhe6",
        "outputId": "c1b02e85-52df-4815-8a11-a70fc277356e",
        "colab": {
          "base_uri": "https://localhost:8080/",
          "height": 0
        }
      },
      "source": [
        "# Exploring the dataset to validate the log transformed attributes\n",
        "customers.head()"
      ],
      "execution_count": 53,
      "outputs": [
        {
          "output_type": "execute_result",
          "data": {
            "text/html": [
              "<div>\n",
              "<style scoped>\n",
              "    .dataframe tbody tr th:only-of-type {\n",
              "        vertical-align: middle;\n",
              "    }\n",
              "\n",
              "    .dataframe tbody tr th {\n",
              "        vertical-align: top;\n",
              "    }\n",
              "\n",
              "    .dataframe thead th {\n",
              "        text-align: right;\n",
              "    }\n",
              "</style>\n",
              "<table border=\"1\" class=\"dataframe\">\n",
              "  <thead>\n",
              "    <tr style=\"text-align: right;\">\n",
              "      <th></th>\n",
              "      <th>CustomerID</th>\n",
              "      <th>Products_ordered</th>\n",
              "      <th>Total_spending</th>\n",
              "      <th>log_Products_ordered</th>\n",
              "      <th>log_Total_spending</th>\n",
              "    </tr>\n",
              "  </thead>\n",
              "  <tbody>\n",
              "    <tr>\n",
              "      <th>0</th>\n",
              "      <td>12347.0</td>\n",
              "      <td>96</td>\n",
              "      <td>3314.73</td>\n",
              "      <td>4.574711</td>\n",
              "      <td>8.106433</td>\n",
              "    </tr>\n",
              "    <tr>\n",
              "      <th>1</th>\n",
              "      <td>12348.0</td>\n",
              "      <td>6</td>\n",
              "      <td>90.20</td>\n",
              "      <td>1.945910</td>\n",
              "      <td>4.513055</td>\n",
              "    </tr>\n",
              "    <tr>\n",
              "      <th>2</th>\n",
              "      <td>12349.0</td>\n",
              "      <td>57</td>\n",
              "      <td>984.15</td>\n",
              "      <td>4.060443</td>\n",
              "      <td>6.892794</td>\n",
              "    </tr>\n",
              "    <tr>\n",
              "      <th>3</th>\n",
              "      <td>12350.0</td>\n",
              "      <td>16</td>\n",
              "      <td>294.40</td>\n",
              "      <td>2.833213</td>\n",
              "      <td>5.688330</td>\n",
              "    </tr>\n",
              "    <tr>\n",
              "      <th>4</th>\n",
              "      <td>12352.0</td>\n",
              "      <td>49</td>\n",
              "      <td>1130.94</td>\n",
              "      <td>3.912023</td>\n",
              "      <td>7.031688</td>\n",
              "    </tr>\n",
              "  </tbody>\n",
              "</table>\n",
              "</div>"
            ],
            "text/plain": [
              "   CustomerID  Products_ordered  ...  log_Products_ordered  log_Total_spending\n",
              "0     12347.0                96  ...              4.574711            8.106433\n",
              "1     12348.0                 6  ...              1.945910            4.513055\n",
              "2     12349.0                57  ...              4.060443            6.892794\n",
              "3     12350.0                16  ...              2.833213            5.688330\n",
              "4     12352.0                49  ...              3.912023            7.031688\n",
              "\n",
              "[5 rows x 5 columns]"
            ]
          },
          "metadata": {
            "tags": []
          },
          "execution_count": 53
        }
      ]
    },
    {
      "cell_type": "markdown",
      "metadata": {
        "id": "-JoOabLBZ9U2"
      },
      "source": [
        "## **Feature Selection**"
      ]
    },
    {
      "cell_type": "code",
      "metadata": {
        "id": "epyslLQFZoCx",
        "outputId": "e49a260f-f569-4c5a-c7c4-a23cbad10cd4",
        "colab": {
          "base_uri": "https://localhost:8080/",
          "height": 0
        }
      },
      "source": [
        "customers.iloc[:,3:]"
      ],
      "execution_count": 54,
      "outputs": [
        {
          "output_type": "execute_result",
          "data": {
            "text/html": [
              "<div>\n",
              "<style scoped>\n",
              "    .dataframe tbody tr th:only-of-type {\n",
              "        vertical-align: middle;\n",
              "    }\n",
              "\n",
              "    .dataframe tbody tr th {\n",
              "        vertical-align: top;\n",
              "    }\n",
              "\n",
              "    .dataframe thead th {\n",
              "        text-align: right;\n",
              "    }\n",
              "</style>\n",
              "<table border=\"1\" class=\"dataframe\">\n",
              "  <thead>\n",
              "    <tr style=\"text-align: right;\">\n",
              "      <th></th>\n",
              "      <th>log_Products_ordered</th>\n",
              "      <th>log_Total_spending</th>\n",
              "    </tr>\n",
              "  </thead>\n",
              "  <tbody>\n",
              "    <tr>\n",
              "      <th>0</th>\n",
              "      <td>4.574711</td>\n",
              "      <td>8.106433</td>\n",
              "    </tr>\n",
              "    <tr>\n",
              "      <th>1</th>\n",
              "      <td>1.945910</td>\n",
              "      <td>4.513055</td>\n",
              "    </tr>\n",
              "    <tr>\n",
              "      <th>2</th>\n",
              "      <td>4.060443</td>\n",
              "      <td>6.892794</td>\n",
              "    </tr>\n",
              "    <tr>\n",
              "      <th>3</th>\n",
              "      <td>2.833213</td>\n",
              "      <td>5.688330</td>\n",
              "    </tr>\n",
              "    <tr>\n",
              "      <th>4</th>\n",
              "      <td>3.912023</td>\n",
              "      <td>7.031688</td>\n",
              "    </tr>\n",
              "    <tr>\n",
              "      <th>...</th>\n",
              "      <td>...</td>\n",
              "      <td>...</td>\n",
              "    </tr>\n",
              "    <tr>\n",
              "      <th>4185</th>\n",
              "      <td>2.197225</td>\n",
              "      <td>4.927254</td>\n",
              "    </tr>\n",
              "    <tr>\n",
              "      <th>4186</th>\n",
              "      <td>1.791759</td>\n",
              "      <td>3.869533</td>\n",
              "    </tr>\n",
              "    <tr>\n",
              "      <th>4187</th>\n",
              "      <td>2.197225</td>\n",
              "      <td>4.737338</td>\n",
              "    </tr>\n",
              "    <tr>\n",
              "      <th>4188</th>\n",
              "      <td>5.594711</td>\n",
              "      <td>7.627048</td>\n",
              "    </tr>\n",
              "    <tr>\n",
              "      <th>4189</th>\n",
              "      <td>3.850148</td>\n",
              "      <td>6.868765</td>\n",
              "    </tr>\n",
              "  </tbody>\n",
              "</table>\n",
              "<p>4190 rows × 2 columns</p>\n",
              "</div>"
            ],
            "text/plain": [
              "      log_Products_ordered  log_Total_spending\n",
              "0                 4.574711            8.106433\n",
              "1                 1.945910            4.513055\n",
              "2                 4.060443            6.892794\n",
              "3                 2.833213            5.688330\n",
              "4                 3.912023            7.031688\n",
              "...                    ...                 ...\n",
              "4185              2.197225            4.927254\n",
              "4186              1.791759            3.869533\n",
              "4187              2.197225            4.737338\n",
              "4188              5.594711            7.627048\n",
              "4189              3.850148            6.868765\n",
              "\n",
              "[4190 rows x 2 columns]"
            ]
          },
          "metadata": {
            "tags": []
          },
          "execution_count": 54
        }
      ]
    },
    {
      "cell_type": "markdown",
      "metadata": {
        "id": "jqxsP56NaHcg"
      },
      "source": [
        "# <font color=\"blue\">**K-Means Clustering**</font>"
      ]
    },
    {
      "cell_type": "code",
      "metadata": {
        "id": "5r1Glxv-aDVo"
      },
      "source": [
        "from sklearn.cluster import KMeans"
      ],
      "execution_count": 55,
      "outputs": []
    },
    {
      "cell_type": "code",
      "metadata": {
        "id": "VeGbDcSsa31S",
        "outputId": "429a6c05-bb34-4026-e7f7-27926b75b530",
        "colab": {
          "base_uri": "https://localhost:8080/"
        }
      },
      "source": [
        "kmeans_model = KMeans(init='k-means++', max_iter=500, random_state=42)\n",
        "\n",
        "kmeans_model.fit(customers.iloc[:,3:])"
      ],
      "execution_count": 56,
      "outputs": [
        {
          "output_type": "execute_result",
          "data": {
            "text/plain": [
              "KMeans(algorithm='auto', copy_x=True, init='k-means++', max_iter=500,\n",
              "       n_clusters=8, n_init=10, n_jobs=None, precompute_distances='auto',\n",
              "       random_state=42, tol=0.0001, verbose=0)"
            ]
          },
          "metadata": {
            "tags": []
          },
          "execution_count": 56
        }
      ]
    },
    {
      "cell_type": "markdown",
      "metadata": {
        "id": "0KVoAapgbSys"
      },
      "source": [
        "### Intracluster distance"
      ]
    },
    {
      "cell_type": "code",
      "metadata": {
        "id": "GWm3iR-tbG8A",
        "outputId": "c08c56b5-12ea-4a47-f6b1-2fdf3d63630d",
        "colab": {
          "base_uri": "https://localhost:8080/"
        }
      },
      "source": [
        "print(f'Intracluster distance of the model is: ', kmeans_model.inertia_)"
      ],
      "execution_count": 57,
      "outputs": [
        {
          "output_type": "stream",
          "text": [
            "Intracluster distance of the model is:  1197.6768152532238\n"
          ],
          "name": "stdout"
        }
      ]
    },
    {
      "cell_type": "markdown",
      "metadata": {
        "id": "iewy40XtbmXd"
      },
      "source": [
        "This distance needs to be minimized by finding optimal hyper paramter."
      ]
    },
    {
      "cell_type": "markdown",
      "metadata": {
        "id": "jJinjptRbuJI"
      },
      "source": [
        "## **Hyperparameter tuning**"
      ]
    },
    {
      "cell_type": "code",
      "metadata": {
        "id": "sjy7SVPubjG_"
      },
      "source": [
        "def make_list_of_K(K, dataframe):\n",
        "\n",
        "  cluster_values = list(range(1, K+1))\n",
        "  inertia_values = []\n",
        "\n",
        "  for c in cluster_values:\n",
        "    model = KMeans(n_clusters=c, init='k-means++', max_iter=500, random_state=42)\n",
        "    model.fit(dataframe)\n",
        "    inertia_values.append(model.inertia_)\n",
        "  \n",
        "  return inertia_values"
      ],
      "execution_count": 58,
      "outputs": []
    },
    {
      "cell_type": "code",
      "metadata": {
        "id": "ySeGq4P6cWCa"
      },
      "source": [
        "# Checking for k values between 1 to 15\n",
        "results = make_list_of_K(15, customers.iloc[:, 3:])"
      ],
      "execution_count": 59,
      "outputs": []
    },
    {
      "cell_type": "code",
      "metadata": {
        "id": "uKbo5F9ncjqF",
        "outputId": "0cceb6dd-5c3a-48b1-a031-fbcd79933d2b",
        "colab": {
          "base_uri": "https://localhost:8080/"
        }
      },
      "source": [
        "k_values_distances = pd.DataFrame({'clusters': list(range(1, 16)), 'Intracluster distances': results})\n",
        "\n",
        "print(k_values_distances)"
      ],
      "execution_count": 60,
      "outputs": [
        {
          "output_type": "stream",
          "text": [
            "    clusters  Intracluster distances\n",
            "0          1            11756.716152\n",
            "1          2             4790.968733\n",
            "2          3             2965.444740\n",
            "3          4             2211.197176\n",
            "4          5             1810.651161\n",
            "5          6             1565.831656\n",
            "6          7             1354.825184\n",
            "7          8             1197.676815\n",
            "8          9             1054.114349\n",
            "9         10              957.658328\n",
            "10        11              873.862032\n",
            "11        12              799.969961\n",
            "12        13              745.265932\n",
            "13        14              701.321098\n",
            "14        15              660.753548\n"
          ],
          "name": "stdout"
        }
      ]
    },
    {
      "cell_type": "code",
      "metadata": {
        "id": "Oz7TrJe4dB7A",
        "outputId": "4470c784-9540-4df0-a9e5-20da3f79d071",
        "colab": {
          "base_uri": "https://localhost:8080/",
          "height": 0
        }
      },
      "source": [
        "plt.plot(k_values_distances['clusters'], k_values_distances['Intracluster distances'], color='red')\n",
        "plt.xlabel('K - values')\n",
        "plt.ylabel('Intracluster Distance')\n",
        "plt.title('Intracluster Distance vs K-values')\n",
        "plt.show()"
      ],
      "execution_count": 61,
      "outputs": [
        {
          "output_type": "display_data",
          "data": {
            "image/png": "[encoded data removed]",
            "text/plain": [
              "<Figure size 432x288 with 1 Axes>"
            ]
          },
          "metadata": {
            "tags": [],
            "needs_background": "light"
          }
        }
      ]
    },
    {
      "cell_type": "markdown",
      "metadata": {
        "id": "9T2rBvFKfJOS"
      },
      "source": [
        "From the graph, its clear that after k = 4, the descent gets stabilized so the optimal k is 4.  "
      ]
    },
    {
      "cell_type": "code",
      "metadata": {
        "id": "ZRHa2VOAe-Bg",
        "outputId": "bbea9604-c6b7-47c5-eee6-af41d3bfa57d",
        "colab": {
          "base_uri": "https://localhost:8080/"
        }
      },
      "source": [
        "# Updating model with optimal k\n",
        "updated_kmeans_model = KMeans(n_clusters=4, init='k-means++', max_iter=500, random_state=42)\n",
        "\n",
        "updated_kmeans_model.fit_predict(customers.iloc[:, 3:])"
      ],
      "execution_count": 62,
      "outputs": [
        {
          "output_type": "execute_result",
          "data": {
            "text/plain": [
              "array([3, 1, 0, ..., 1, 3, 0], dtype=int32)"
            ]
          },
          "metadata": {
            "tags": []
          },
          "execution_count": 62
        }
      ]
    },
    {
      "cell_type": "markdown",
      "metadata": {
        "id": "1A2roXidf6tL"
      },
      "source": [
        "## Adding cluster centers"
      ]
    },
    {
      "cell_type": "code",
      "metadata": {
        "id": "jrduZ14Jfx8x",
        "outputId": "0b570e35-f8f9-4423-bcdc-78923cf36415",
        "colab": {
          "base_uri": "https://localhost:8080/"
        }
      },
      "source": [
        "# create cluster centers and actual data arrays\n",
        "cluster_centers = updated_kmeans_model.cluster_centers_\n",
        "\n",
        "actual_data = np.expm1(cluster_centers)\n",
        "\n",
        "add_points = np.append(actual_data, cluster_centers, axis=1)\n",
        "\n",
        "add_points"
      ],
      "execution_count": 63,
      "outputs": [
        {
          "output_type": "execute_result",
          "data": {
            "text/plain": [
              "array([[5.01698019e+01, 7.63545604e+02, 3.93514955e+00, 6.63928168e+00],\n",
              "       [4.65081991e+00, 7.68378454e+01, 1.73180065e+00, 4.35462776e+00],\n",
              "       [1.83642140e+01, 2.63280006e+02, 2.96342672e+00, 5.57700917e+00],\n",
              "       [1.31292199e+02, 2.67581235e+03, 4.88501311e+00, 7.89238194e+00]])"
            ]
          },
          "metadata": {
            "tags": []
          },
          "execution_count": 63
        }
      ]
    },
    {
      "cell_type": "code",
      "metadata": {
        "id": "J5EPmUqTgXSt"
      },
      "source": [
        "# add labels to customers dataframe and add_points array\n",
        "add_points = np.append(add_points, [[0], [1], [2], [3]], axis=1)\n",
        "customers['clusters'] = updated_kmeans_model.labels_"
      ],
      "execution_count": 64,
      "outputs": []
    },
    {
      "cell_type": "code",
      "metadata": {
        "id": "UxTys2JRhBYi",
        "outputId": "af9ba8bc-7a19-4c4f-8a29-1c1f40f58295",
        "colab": {
          "base_uri": "https://localhost:8080/",
          "height": 0
        }
      },
      "source": [
        "# create centers dataframe from add_points\n",
        "centers_df = pd.DataFrame(data=add_points, columns=['Products_ordered', 'Total_spending', 'log_Products_ordered', 'log_Total_spending', 'clusters'])\n",
        "\n",
        "centers_df.head()"
      ],
      "execution_count": 65,
      "outputs": [
        {
          "output_type": "execute_result",
          "data": {
            "text/html": [
              "<div>\n",
              "<style scoped>\n",
              "    .dataframe tbody tr th:only-of-type {\n",
              "        vertical-align: middle;\n",
              "    }\n",
              "\n",
              "    .dataframe tbody tr th {\n",
              "        vertical-align: top;\n",
              "    }\n",
              "\n",
              "    .dataframe thead th {\n",
              "        text-align: right;\n",
              "    }\n",
              "</style>\n",
              "<table border=\"1\" class=\"dataframe\">\n",
              "  <thead>\n",
              "    <tr style=\"text-align: right;\">\n",
              "      <th></th>\n",
              "      <th>Products_ordered</th>\n",
              "      <th>Total_spending</th>\n",
              "      <th>log_Products_ordered</th>\n",
              "      <th>log_Total_spending</th>\n",
              "      <th>clusters</th>\n",
              "    </tr>\n",
              "  </thead>\n",
              "  <tbody>\n",
              "    <tr>\n",
              "      <th>0</th>\n",
              "      <td>50.169802</td>\n",
              "      <td>763.545604</td>\n",
              "      <td>3.935150</td>\n",
              "      <td>6.639282</td>\n",
              "      <td>0.0</td>\n",
              "    </tr>\n",
              "    <tr>\n",
              "      <th>1</th>\n",
              "      <td>4.650820</td>\n",
              "      <td>76.837845</td>\n",
              "      <td>1.731801</td>\n",
              "      <td>4.354628</td>\n",
              "      <td>1.0</td>\n",
              "    </tr>\n",
              "    <tr>\n",
              "      <th>2</th>\n",
              "      <td>18.364214</td>\n",
              "      <td>263.280006</td>\n",
              "      <td>2.963427</td>\n",
              "      <td>5.577009</td>\n",
              "      <td>2.0</td>\n",
              "    </tr>\n",
              "    <tr>\n",
              "      <th>3</th>\n",
              "      <td>131.292199</td>\n",
              "      <td>2675.812348</td>\n",
              "      <td>4.885013</td>\n",
              "      <td>7.892382</td>\n",
              "      <td>3.0</td>\n",
              "    </tr>\n",
              "  </tbody>\n",
              "</table>\n",
              "</div>"
            ],
            "text/plain": [
              "   Products_ordered  Total_spending  ...  log_Total_spending  clusters\n",
              "0         50.169802      763.545604  ...            6.639282       0.0\n",
              "1          4.650820       76.837845  ...            4.354628       1.0\n",
              "2         18.364214      263.280006  ...            5.577009       2.0\n",
              "3        131.292199     2675.812348  ...            7.892382       3.0\n",
              "\n",
              "[4 rows x 5 columns]"
            ]
          },
          "metadata": {
            "tags": []
          },
          "execution_count": 65
        }
      ]
    },
    {
      "cell_type": "code",
      "metadata": {
        "id": "C_xf4q9Mha5Z",
        "outputId": "65acd91b-43bc-4ed2-e803-3e6bca81000e",
        "colab": {
          "base_uri": "https://localhost:8080/",
          "height": 0
        }
      },
      "source": [
        "# Changing the type of clusters attribute to int\n",
        "centers_df['clusters'] = centers_df['clusters'].astype('int')\n",
        "centers_df.head()"
      ],
      "execution_count": 66,
      "outputs": [
        {
          "output_type": "execute_result",
          "data": {
            "text/html": [
              "<div>\n",
              "<style scoped>\n",
              "    .dataframe tbody tr th:only-of-type {\n",
              "        vertical-align: middle;\n",
              "    }\n",
              "\n",
              "    .dataframe tbody tr th {\n",
              "        vertical-align: top;\n",
              "    }\n",
              "\n",
              "    .dataframe thead th {\n",
              "        text-align: right;\n",
              "    }\n",
              "</style>\n",
              "<table border=\"1\" class=\"dataframe\">\n",
              "  <thead>\n",
              "    <tr style=\"text-align: right;\">\n",
              "      <th></th>\n",
              "      <th>Products_ordered</th>\n",
              "      <th>Total_spending</th>\n",
              "      <th>log_Products_ordered</th>\n",
              "      <th>log_Total_spending</th>\n",
              "      <th>clusters</th>\n",
              "    </tr>\n",
              "  </thead>\n",
              "  <tbody>\n",
              "    <tr>\n",
              "      <th>0</th>\n",
              "      <td>50.169802</td>\n",
              "      <td>763.545604</td>\n",
              "      <td>3.935150</td>\n",
              "      <td>6.639282</td>\n",
              "      <td>0</td>\n",
              "    </tr>\n",
              "    <tr>\n",
              "      <th>1</th>\n",
              "      <td>4.650820</td>\n",
              "      <td>76.837845</td>\n",
              "      <td>1.731801</td>\n",
              "      <td>4.354628</td>\n",
              "      <td>1</td>\n",
              "    </tr>\n",
              "    <tr>\n",
              "      <th>2</th>\n",
              "      <td>18.364214</td>\n",
              "      <td>263.280006</td>\n",
              "      <td>2.963427</td>\n",
              "      <td>5.577009</td>\n",
              "      <td>2</td>\n",
              "    </tr>\n",
              "    <tr>\n",
              "      <th>3</th>\n",
              "      <td>131.292199</td>\n",
              "      <td>2675.812348</td>\n",
              "      <td>4.885013</td>\n",
              "      <td>7.892382</td>\n",
              "      <td>3</td>\n",
              "    </tr>\n",
              "  </tbody>\n",
              "</table>\n",
              "</div>"
            ],
            "text/plain": [
              "   Products_ordered  Total_spending  ...  log_Total_spending  clusters\n",
              "0         50.169802      763.545604  ...            6.639282         0\n",
              "1          4.650820       76.837845  ...            4.354628         1\n",
              "2         18.364214      263.280006  ...            5.577009         2\n",
              "3        131.292199     2675.812348  ...            7.892382         3\n",
              "\n",
              "[4 rows x 5 columns]"
            ]
          },
          "metadata": {
            "tags": []
          },
          "execution_count": 66
        }
      ]
    },
    {
      "cell_type": "code",
      "metadata": {
        "id": "LEUWZqKBhqVv",
        "outputId": "217496eb-07a5-4c8f-b310-e0824fb43eff",
        "colab": {
          "base_uri": "https://localhost:8080/",
          "height": 0
        }
      },
      "source": [
        "customers.head(10)"
      ],
      "execution_count": 67,
      "outputs": [
        {
          "output_type": "execute_result",
          "data": {
            "text/html": [
              "<div>\n",
              "<style scoped>\n",
              "    .dataframe tbody tr th:only-of-type {\n",
              "        vertical-align: middle;\n",
              "    }\n",
              "\n",
              "    .dataframe tbody tr th {\n",
              "        vertical-align: top;\n",
              "    }\n",
              "\n",
              "    .dataframe thead th {\n",
              "        text-align: right;\n",
              "    }\n",
              "</style>\n",
              "<table border=\"1\" class=\"dataframe\">\n",
              "  <thead>\n",
              "    <tr style=\"text-align: right;\">\n",
              "      <th></th>\n",
              "      <th>CustomerID</th>\n",
              "      <th>Products_ordered</th>\n",
              "      <th>Total_spending</th>\n",
              "      <th>log_Products_ordered</th>\n",
              "      <th>log_Total_spending</th>\n",
              "      <th>clusters</th>\n",
              "    </tr>\n",
              "  </thead>\n",
              "  <tbody>\n",
              "    <tr>\n",
              "      <th>0</th>\n",
              "      <td>12347.0</td>\n",
              "      <td>96</td>\n",
              "      <td>3314.73</td>\n",
              "      <td>4.574711</td>\n",
              "      <td>8.106433</td>\n",
              "      <td>3</td>\n",
              "    </tr>\n",
              "    <tr>\n",
              "      <th>1</th>\n",
              "      <td>12348.0</td>\n",
              "      <td>6</td>\n",
              "      <td>90.20</td>\n",
              "      <td>1.945910</td>\n",
              "      <td>4.513055</td>\n",
              "      <td>1</td>\n",
              "    </tr>\n",
              "    <tr>\n",
              "      <th>2</th>\n",
              "      <td>12349.0</td>\n",
              "      <td>57</td>\n",
              "      <td>984.15</td>\n",
              "      <td>4.060443</td>\n",
              "      <td>6.892794</td>\n",
              "      <td>0</td>\n",
              "    </tr>\n",
              "    <tr>\n",
              "      <th>3</th>\n",
              "      <td>12350.0</td>\n",
              "      <td>16</td>\n",
              "      <td>294.40</td>\n",
              "      <td>2.833213</td>\n",
              "      <td>5.688330</td>\n",
              "      <td>2</td>\n",
              "    </tr>\n",
              "    <tr>\n",
              "      <th>4</th>\n",
              "      <td>12352.0</td>\n",
              "      <td>49</td>\n",
              "      <td>1130.94</td>\n",
              "      <td>3.912023</td>\n",
              "      <td>7.031688</td>\n",
              "      <td>0</td>\n",
              "    </tr>\n",
              "    <tr>\n",
              "      <th>5</th>\n",
              "      <td>12353.0</td>\n",
              "      <td>2</td>\n",
              "      <td>29.30</td>\n",
              "      <td>1.098612</td>\n",
              "      <td>3.411148</td>\n",
              "      <td>1</td>\n",
              "    </tr>\n",
              "    <tr>\n",
              "      <th>6</th>\n",
              "      <td>12354.0</td>\n",
              "      <td>40</td>\n",
              "      <td>682.69</td>\n",
              "      <td>3.713572</td>\n",
              "      <td>6.527505</td>\n",
              "      <td>0</td>\n",
              "    </tr>\n",
              "    <tr>\n",
              "      <th>7</th>\n",
              "      <td>12355.0</td>\n",
              "      <td>9</td>\n",
              "      <td>219.00</td>\n",
              "      <td>2.302585</td>\n",
              "      <td>5.393628</td>\n",
              "      <td>2</td>\n",
              "    </tr>\n",
              "    <tr>\n",
              "      <th>8</th>\n",
              "      <td>12356.0</td>\n",
              "      <td>33</td>\n",
              "      <td>1086.56</td>\n",
              "      <td>3.526361</td>\n",
              "      <td>6.991692</td>\n",
              "      <td>0</td>\n",
              "    </tr>\n",
              "    <tr>\n",
              "      <th>9</th>\n",
              "      <td>12357.0</td>\n",
              "      <td>95</td>\n",
              "      <td>3195.41</td>\n",
              "      <td>4.564348</td>\n",
              "      <td>8.069784</td>\n",
              "      <td>3</td>\n",
              "    </tr>\n",
              "  </tbody>\n",
              "</table>\n",
              "</div>"
            ],
            "text/plain": [
              "   CustomerID  Products_ordered  ...  log_Total_spending  clusters\n",
              "0     12347.0                96  ...            8.106433         3\n",
              "1     12348.0                 6  ...            4.513055         1\n",
              "2     12349.0                57  ...            6.892794         0\n",
              "3     12350.0                16  ...            5.688330         2\n",
              "4     12352.0                49  ...            7.031688         0\n",
              "5     12353.0                 2  ...            3.411148         1\n",
              "6     12354.0                40  ...            6.527505         0\n",
              "7     12355.0                 9  ...            5.393628         2\n",
              "8     12356.0                33  ...            6.991692         0\n",
              "9     12357.0                95  ...            8.069784         3\n",
              "\n",
              "[10 rows x 6 columns]"
            ]
          },
          "metadata": {
            "tags": []
          },
          "execution_count": 67
        }
      ]
    },
    {
      "cell_type": "markdown",
      "metadata": {
        "id": "TrMEVRMk8sIP"
      },
      "source": [
        "## **Cluster Visualization**"
      ]
    },
    {
      "cell_type": "code",
      "metadata": {
        "id": "dUh5rwLyhvOQ",
        "outputId": "40af23e3-e8af-4df2-aa71-8de9aeeb5ff6",
        "colab": {
          "base_uri": "https://localhost:8080/",
          "height": 0
        }
      },
      "source": [
        "# Creating the attribute Cluster_name\n",
        "customers['Cluster_name'] = customers['clusters'].astype(str)\n",
        "\n",
        "customers.head(10)"
      ],
      "execution_count": 68,
      "outputs": [
        {
          "output_type": "execute_result",
          "data": {
            "text/html": [
              "<div>\n",
              "<style scoped>\n",
              "    .dataframe tbody tr th:only-of-type {\n",
              "        vertical-align: middle;\n",
              "    }\n",
              "\n",
              "    .dataframe tbody tr th {\n",
              "        vertical-align: top;\n",
              "    }\n",
              "\n",
              "    .dataframe thead th {\n",
              "        text-align: right;\n",
              "    }\n",
              "</style>\n",
              "<table border=\"1\" class=\"dataframe\">\n",
              "  <thead>\n",
              "    <tr style=\"text-align: right;\">\n",
              "      <th></th>\n",
              "      <th>CustomerID</th>\n",
              "      <th>Products_ordered</th>\n",
              "      <th>Total_spending</th>\n",
              "      <th>log_Products_ordered</th>\n",
              "      <th>log_Total_spending</th>\n",
              "      <th>clusters</th>\n",
              "      <th>Cluster_name</th>\n",
              "    </tr>\n",
              "  </thead>\n",
              "  <tbody>\n",
              "    <tr>\n",
              "      <th>0</th>\n",
              "      <td>12347.0</td>\n",
              "      <td>96</td>\n",
              "      <td>3314.73</td>\n",
              "      <td>4.574711</td>\n",
              "      <td>8.106433</td>\n",
              "      <td>3</td>\n",
              "      <td>3</td>\n",
              "    </tr>\n",
              "    <tr>\n",
              "      <th>1</th>\n",
              "      <td>12348.0</td>\n",
              "      <td>6</td>\n",
              "      <td>90.20</td>\n",
              "      <td>1.945910</td>\n",
              "      <td>4.513055</td>\n",
              "      <td>1</td>\n",
              "      <td>1</td>\n",
              "    </tr>\n",
              "    <tr>\n",
              "      <th>2</th>\n",
              "      <td>12349.0</td>\n",
              "      <td>57</td>\n",
              "      <td>984.15</td>\n",
              "      <td>4.060443</td>\n",
              "      <td>6.892794</td>\n",
              "      <td>0</td>\n",
              "      <td>0</td>\n",
              "    </tr>\n",
              "    <tr>\n",
              "      <th>3</th>\n",
              "      <td>12350.0</td>\n",
              "      <td>16</td>\n",
              "      <td>294.40</td>\n",
              "      <td>2.833213</td>\n",
              "      <td>5.688330</td>\n",
              "      <td>2</td>\n",
              "      <td>2</td>\n",
              "    </tr>\n",
              "    <tr>\n",
              "      <th>4</th>\n",
              "      <td>12352.0</td>\n",
              "      <td>49</td>\n",
              "      <td>1130.94</td>\n",
              "      <td>3.912023</td>\n",
              "      <td>7.031688</td>\n",
              "      <td>0</td>\n",
              "      <td>0</td>\n",
              "    </tr>\n",
              "    <tr>\n",
              "      <th>5</th>\n",
              "      <td>12353.0</td>\n",
              "      <td>2</td>\n",
              "      <td>29.30</td>\n",
              "      <td>1.098612</td>\n",
              "      <td>3.411148</td>\n",
              "      <td>1</td>\n",
              "      <td>1</td>\n",
              "    </tr>\n",
              "    <tr>\n",
              "      <th>6</th>\n",
              "      <td>12354.0</td>\n",
              "      <td>40</td>\n",
              "      <td>682.69</td>\n",
              "      <td>3.713572</td>\n",
              "      <td>6.527505</td>\n",
              "      <td>0</td>\n",
              "      <td>0</td>\n",
              "    </tr>\n",
              "    <tr>\n",
              "      <th>7</th>\n",
              "      <td>12355.0</td>\n",
              "      <td>9</td>\n",
              "      <td>219.00</td>\n",
              "      <td>2.302585</td>\n",
              "      <td>5.393628</td>\n",
              "      <td>2</td>\n",
              "      <td>2</td>\n",
              "    </tr>\n",
              "    <tr>\n",
              "      <th>8</th>\n",
              "      <td>12356.0</td>\n",
              "      <td>33</td>\n",
              "      <td>1086.56</td>\n",
              "      <td>3.526361</td>\n",
              "      <td>6.991692</td>\n",
              "      <td>0</td>\n",
              "      <td>0</td>\n",
              "    </tr>\n",
              "    <tr>\n",
              "      <th>9</th>\n",
              "      <td>12357.0</td>\n",
              "      <td>95</td>\n",
              "      <td>3195.41</td>\n",
              "      <td>4.564348</td>\n",
              "      <td>8.069784</td>\n",
              "      <td>3</td>\n",
              "      <td>3</td>\n",
              "    </tr>\n",
              "  </tbody>\n",
              "</table>\n",
              "</div>"
            ],
            "text/plain": [
              "   CustomerID  Products_ordered  ...  clusters  Cluster_name\n",
              "0     12347.0                96  ...         3             3\n",
              "1     12348.0                 6  ...         1             1\n",
              "2     12349.0                57  ...         0             0\n",
              "3     12350.0                16  ...         2             2\n",
              "4     12352.0                49  ...         0             0\n",
              "5     12353.0                 2  ...         1             1\n",
              "6     12354.0                40  ...         0             0\n",
              "7     12355.0                 9  ...         2             2\n",
              "8     12356.0                33  ...         0             0\n",
              "9     12357.0                95  ...         3             3\n",
              "\n",
              "[10 rows x 7 columns]"
            ]
          },
          "metadata": {
            "tags": []
          },
          "execution_count": 68
        }
      ]
    },
    {
      "cell_type": "code",
      "metadata": {
        "id": "4aez6z9S9O69",
        "outputId": "8dfe6817-f58e-4fca-9e50-2f4d6b289c9e",
        "colab": {
          "base_uri": "https://localhost:8080/",
          "height": 0
        }
      },
      "source": [
        "# Obtaining the value counts of all the clusters.\n",
        "magnitude_df = pd.DataFrame(customers.Cluster_name.value_counts().reset_index())\n",
        "\n",
        "magnitude_df.rename(columns={'index':'Customer Groups', 'Cluster_name': 'Customer Group Magnitude'}, inplace=True)\n",
        "\n",
        "magnitude_df"
      ],
      "execution_count": 69,
      "outputs": [
        {
          "output_type": "execute_result",
          "data": {
            "text/html": [
              "<div>\n",
              "<style scoped>\n",
              "    .dataframe tbody tr th:only-of-type {\n",
              "        vertical-align: middle;\n",
              "    }\n",
              "\n",
              "    .dataframe tbody tr th {\n",
              "        vertical-align: top;\n",
              "    }\n",
              "\n",
              "    .dataframe thead th {\n",
              "        text-align: right;\n",
              "    }\n",
              "</style>\n",
              "<table border=\"1\" class=\"dataframe\">\n",
              "  <thead>\n",
              "    <tr style=\"text-align: right;\">\n",
              "      <th></th>\n",
              "      <th>Customer Groups</th>\n",
              "      <th>Customer Group Magnitude</th>\n",
              "    </tr>\n",
              "  </thead>\n",
              "  <tbody>\n",
              "    <tr>\n",
              "      <th>0</th>\n",
              "      <td>2</td>\n",
              "      <td>1384</td>\n",
              "    </tr>\n",
              "    <tr>\n",
              "      <th>1</th>\n",
              "      <td>0</td>\n",
              "      <td>1348</td>\n",
              "    </tr>\n",
              "    <tr>\n",
              "      <th>2</th>\n",
              "      <td>3</td>\n",
              "      <td>805</td>\n",
              "    </tr>\n",
              "    <tr>\n",
              "      <th>3</th>\n",
              "      <td>1</td>\n",
              "      <td>653</td>\n",
              "    </tr>\n",
              "  </tbody>\n",
              "</table>\n",
              "</div>"
            ],
            "text/plain": [
              "  Customer Groups  Customer Group Magnitude\n",
              "0               2                      1384\n",
              "1               0                      1348\n",
              "2               3                       805\n",
              "3               1                       653"
            ]
          },
          "metadata": {
            "tags": []
          },
          "execution_count": 69
        }
      ]
    },
    {
      "cell_type": "code",
      "metadata": {
        "id": "4e82hqOs91vk",
        "outputId": "1a5fca05-87be-435f-9de2-994b58f02f44",
        "colab": {
          "base_uri": "https://localhost:8080/",
          "height": 0
        }
      },
      "source": [
        "# Plotting the bar graph to interpret the number of customers in each clusters\n",
        "plt.bar(magnitude_df['Customer Groups'], magnitude_df['Customer Group Magnitude'], color=['green', 'red', 'blue', 'purple'])\n",
        "plt.xlabel('Customer Groups')\n",
        "plt.ylabel('Customer Group Magnitude')\n",
        "plt.title('Variation in Customer Groups')\n",
        "plt.show()"
      ],
      "execution_count": 70,
      "outputs": [
        {
          "output_type": "display_data",
          "data": {
            "image/png": "[encoded data removed]",
            "text/plain": [
              "<Figure size 432x288 with 1 Axes>"
            ]
          },
          "metadata": {
            "tags": [],
            "needs_background": "light"
          }
        }
      ]
    },
    {
      "cell_type": "markdown",
      "metadata": {
        "id": "1Xg7Hfyh_XwM"
      },
      "source": [
        "# <font color=\"blue\">**Customer Profiling**</font>"
      ]
    },
    {
      "cell_type": "markdown",
      "metadata": {
        "id": "36OzKmf0_rBn"
      },
      "source": [
        "## Number of products brought by each customerID"
      ]
    },
    {
      "cell_type": "code",
      "metadata": {
        "id": "4B_QeUM2-elw",
        "outputId": "a670e8a7-1d7f-4dac-bb54-d0c6ac1415d5",
        "colab": {
          "base_uri": "https://localhost:8080/",
          "height": 0
        }
      },
      "source": [
        "customers.iloc[:,:2]"
      ],
      "execution_count": 71,
      "outputs": [
        {
          "output_type": "execute_result",
          "data": {
            "text/html": [
              "<div>\n",
              "<style scoped>\n",
              "    .dataframe tbody tr th:only-of-type {\n",
              "        vertical-align: middle;\n",
              "    }\n",
              "\n",
              "    .dataframe tbody tr th {\n",
              "        vertical-align: top;\n",
              "    }\n",
              "\n",
              "    .dataframe thead th {\n",
              "        text-align: right;\n",
              "    }\n",
              "</style>\n",
              "<table border=\"1\" class=\"dataframe\">\n",
              "  <thead>\n",
              "    <tr style=\"text-align: right;\">\n",
              "      <th></th>\n",
              "      <th>CustomerID</th>\n",
              "      <th>Products_ordered</th>\n",
              "    </tr>\n",
              "  </thead>\n",
              "  <tbody>\n",
              "    <tr>\n",
              "      <th>0</th>\n",
              "      <td>12347.0</td>\n",
              "      <td>96</td>\n",
              "    </tr>\n",
              "    <tr>\n",
              "      <th>1</th>\n",
              "      <td>12348.0</td>\n",
              "      <td>6</td>\n",
              "    </tr>\n",
              "    <tr>\n",
              "      <th>2</th>\n",
              "      <td>12349.0</td>\n",
              "      <td>57</td>\n",
              "    </tr>\n",
              "    <tr>\n",
              "      <th>3</th>\n",
              "      <td>12350.0</td>\n",
              "      <td>16</td>\n",
              "    </tr>\n",
              "    <tr>\n",
              "      <th>4</th>\n",
              "      <td>12352.0</td>\n",
              "      <td>49</td>\n",
              "    </tr>\n",
              "    <tr>\n",
              "      <th>...</th>\n",
              "      <td>...</td>\n",
              "      <td>...</td>\n",
              "    </tr>\n",
              "    <tr>\n",
              "      <th>4185</th>\n",
              "      <td>18280.0</td>\n",
              "      <td>8</td>\n",
              "    </tr>\n",
              "    <tr>\n",
              "      <th>4186</th>\n",
              "      <td>18281.0</td>\n",
              "      <td>5</td>\n",
              "    </tr>\n",
              "    <tr>\n",
              "      <th>4187</th>\n",
              "      <td>18282.0</td>\n",
              "      <td>8</td>\n",
              "    </tr>\n",
              "    <tr>\n",
              "      <th>4188</th>\n",
              "      <td>18283.0</td>\n",
              "      <td>268</td>\n",
              "    </tr>\n",
              "    <tr>\n",
              "      <th>4189</th>\n",
              "      <td>18287.0</td>\n",
              "      <td>46</td>\n",
              "    </tr>\n",
              "  </tbody>\n",
              "</table>\n",
              "<p>4190 rows × 2 columns</p>\n",
              "</div>"
            ],
            "text/plain": [
              "      CustomerID  Products_ordered\n",
              "0        12347.0                96\n",
              "1        12348.0                 6\n",
              "2        12349.0                57\n",
              "3        12350.0                16\n",
              "4        12352.0                49\n",
              "...          ...               ...\n",
              "4185     18280.0                 8\n",
              "4186     18281.0                 5\n",
              "4187     18282.0                 8\n",
              "4188     18283.0               268\n",
              "4189     18287.0                46\n",
              "\n",
              "[4190 rows x 2 columns]"
            ]
          },
          "metadata": {
            "tags": []
          },
          "execution_count": 71
        }
      ]
    },
    {
      "cell_type": "markdown",
      "metadata": {
        "id": "Ilt80QiZ_1JK"
      },
      "source": [
        "## Total bill of each customerID"
      ]
    },
    {
      "cell_type": "code",
      "metadata": {
        "id": "EnYZ0inl_yME",
        "outputId": "207b35f7-a1fa-494b-9972-d02446ff50de",
        "colab": {
          "base_uri": "https://localhost:8080/",
          "height": 0
        }
      },
      "source": [
        "customers[['CustomerID', 'Total_spending']]"
      ],
      "execution_count": 72,
      "outputs": [
        {
          "output_type": "execute_result",
          "data": {
            "text/html": [
              "<div>\n",
              "<style scoped>\n",
              "    .dataframe tbody tr th:only-of-type {\n",
              "        vertical-align: middle;\n",
              "    }\n",
              "\n",
              "    .dataframe tbody tr th {\n",
              "        vertical-align: top;\n",
              "    }\n",
              "\n",
              "    .dataframe thead th {\n",
              "        text-align: right;\n",
              "    }\n",
              "</style>\n",
              "<table border=\"1\" class=\"dataframe\">\n",
              "  <thead>\n",
              "    <tr style=\"text-align: right;\">\n",
              "      <th></th>\n",
              "      <th>CustomerID</th>\n",
              "      <th>Total_spending</th>\n",
              "    </tr>\n",
              "  </thead>\n",
              "  <tbody>\n",
              "    <tr>\n",
              "      <th>0</th>\n",
              "      <td>12347.0</td>\n",
              "      <td>3314.73</td>\n",
              "    </tr>\n",
              "    <tr>\n",
              "      <th>1</th>\n",
              "      <td>12348.0</td>\n",
              "      <td>90.20</td>\n",
              "    </tr>\n",
              "    <tr>\n",
              "      <th>2</th>\n",
              "      <td>12349.0</td>\n",
              "      <td>984.15</td>\n",
              "    </tr>\n",
              "    <tr>\n",
              "      <th>3</th>\n",
              "      <td>12350.0</td>\n",
              "      <td>294.40</td>\n",
              "    </tr>\n",
              "    <tr>\n",
              "      <th>4</th>\n",
              "      <td>12352.0</td>\n",
              "      <td>1130.94</td>\n",
              "    </tr>\n",
              "    <tr>\n",
              "      <th>...</th>\n",
              "      <td>...</td>\n",
              "      <td>...</td>\n",
              "    </tr>\n",
              "    <tr>\n",
              "      <th>4185</th>\n",
              "      <td>18280.0</td>\n",
              "      <td>137.00</td>\n",
              "    </tr>\n",
              "    <tr>\n",
              "      <th>4186</th>\n",
              "      <td>18281.0</td>\n",
              "      <td>46.92</td>\n",
              "    </tr>\n",
              "    <tr>\n",
              "      <th>4187</th>\n",
              "      <td>18282.0</td>\n",
              "      <td>113.13</td>\n",
              "    </tr>\n",
              "    <tr>\n",
              "      <th>4188</th>\n",
              "      <td>18283.0</td>\n",
              "      <td>2051.98</td>\n",
              "    </tr>\n",
              "    <tr>\n",
              "      <th>4189</th>\n",
              "      <td>18287.0</td>\n",
              "      <td>960.76</td>\n",
              "    </tr>\n",
              "  </tbody>\n",
              "</table>\n",
              "<p>4190 rows × 2 columns</p>\n",
              "</div>"
            ],
            "text/plain": [
              "      CustomerID  Total_spending\n",
              "0        12347.0         3314.73\n",
              "1        12348.0           90.20\n",
              "2        12349.0          984.15\n",
              "3        12350.0          294.40\n",
              "4        12352.0         1130.94\n",
              "...          ...             ...\n",
              "4185     18280.0          137.00\n",
              "4186     18281.0           46.92\n",
              "4187     18282.0          113.13\n",
              "4188     18283.0         2051.98\n",
              "4189     18287.0          960.76\n",
              "\n",
              "[4190 rows x 2 columns]"
            ]
          },
          "metadata": {
            "tags": []
          },
          "execution_count": 72
        }
      ]
    },
    {
      "cell_type": "markdown",
      "metadata": {
        "id": "l1uX-SBOAA_4"
      },
      "source": [
        "## **Customers Grouping based on customer segmentation**"
      ]
    },
    {
      "cell_type": "markdown",
      "metadata": {
        "id": "xKIoBkqeAG9n"
      },
      "source": [
        "### **Group 0**"
      ]
    },
    {
      "cell_type": "code",
      "metadata": {
        "id": "xtvo4AdD_9I6",
        "outputId": "b61d8c93-66c6-4b67-a75e-8b60db280550",
        "colab": {
          "base_uri": "https://localhost:8080/",
          "height": 0
        }
      },
      "source": [
        "customers[customers['clusters'] == 0]"
      ],
      "execution_count": 73,
      "outputs": [
        {
          "output_type": "execute_result",
          "data": {
            "text/html": [
              "<div>\n",
              "<style scoped>\n",
              "    .dataframe tbody tr th:only-of-type {\n",
              "        vertical-align: middle;\n",
              "    }\n",
              "\n",
              "    .dataframe tbody tr th {\n",
              "        vertical-align: top;\n",
              "    }\n",
              "\n",
              "    .dataframe thead th {\n",
              "        text-align: right;\n",
              "    }\n",
              "</style>\n",
              "<table border=\"1\" class=\"dataframe\">\n",
              "  <thead>\n",
              "    <tr style=\"text-align: right;\">\n",
              "      <th></th>\n",
              "      <th>CustomerID</th>\n",
              "      <th>Products_ordered</th>\n",
              "      <th>Total_spending</th>\n",
              "      <th>log_Products_ordered</th>\n",
              "      <th>log_Total_spending</th>\n",
              "      <th>clusters</th>\n",
              "      <th>Cluster_name</th>\n",
              "    </tr>\n",
              "  </thead>\n",
              "  <tbody>\n",
              "    <tr>\n",
              "      <th>2</th>\n",
              "      <td>12349.0</td>\n",
              "      <td>57</td>\n",
              "      <td>984.15</td>\n",
              "      <td>4.060443</td>\n",
              "      <td>6.892794</td>\n",
              "      <td>0</td>\n",
              "      <td>0</td>\n",
              "    </tr>\n",
              "    <tr>\n",
              "      <th>4</th>\n",
              "      <td>12352.0</td>\n",
              "      <td>49</td>\n",
              "      <td>1130.94</td>\n",
              "      <td>3.912023</td>\n",
              "      <td>7.031688</td>\n",
              "      <td>0</td>\n",
              "      <td>0</td>\n",
              "    </tr>\n",
              "    <tr>\n",
              "      <th>6</th>\n",
              "      <td>12354.0</td>\n",
              "      <td>40</td>\n",
              "      <td>682.69</td>\n",
              "      <td>3.713572</td>\n",
              "      <td>6.527505</td>\n",
              "      <td>0</td>\n",
              "      <td>0</td>\n",
              "    </tr>\n",
              "    <tr>\n",
              "      <th>8</th>\n",
              "      <td>12356.0</td>\n",
              "      <td>33</td>\n",
              "      <td>1086.56</td>\n",
              "      <td>3.526361</td>\n",
              "      <td>6.991692</td>\n",
              "      <td>0</td>\n",
              "      <td>0</td>\n",
              "    </tr>\n",
              "    <tr>\n",
              "      <th>16</th>\n",
              "      <td>12364.0</td>\n",
              "      <td>67</td>\n",
              "      <td>1106.28</td>\n",
              "      <td>4.219508</td>\n",
              "      <td>7.009662</td>\n",
              "      <td>0</td>\n",
              "      <td>0</td>\n",
              "    </tr>\n",
              "    <tr>\n",
              "      <th>...</th>\n",
              "      <td>...</td>\n",
              "      <td>...</td>\n",
              "      <td>...</td>\n",
              "      <td>...</td>\n",
              "      <td>...</td>\n",
              "      <td>...</td>\n",
              "      <td>...</td>\n",
              "    </tr>\n",
              "    <tr>\n",
              "      <th>4168</th>\n",
              "      <td>18252.0</td>\n",
              "      <td>81</td>\n",
              "      <td>385.67</td>\n",
              "      <td>4.406719</td>\n",
              "      <td>5.957572</td>\n",
              "      <td>0</td>\n",
              "      <td>0</td>\n",
              "    </tr>\n",
              "    <tr>\n",
              "      <th>4171</th>\n",
              "      <td>18259.0</td>\n",
              "      <td>26</td>\n",
              "      <td>2203.60</td>\n",
              "      <td>3.295837</td>\n",
              "      <td>7.698301</td>\n",
              "      <td>0</td>\n",
              "      <td>0</td>\n",
              "    </tr>\n",
              "    <tr>\n",
              "      <th>4175</th>\n",
              "      <td>18263.0</td>\n",
              "      <td>49</td>\n",
              "      <td>1042.40</td>\n",
              "      <td>3.912023</td>\n",
              "      <td>6.950240</td>\n",
              "      <td>0</td>\n",
              "      <td>0</td>\n",
              "    </tr>\n",
              "    <tr>\n",
              "      <th>4176</th>\n",
              "      <td>18265.0</td>\n",
              "      <td>34</td>\n",
              "      <td>609.11</td>\n",
              "      <td>3.555348</td>\n",
              "      <td>6.413639</td>\n",
              "      <td>0</td>\n",
              "      <td>0</td>\n",
              "    </tr>\n",
              "    <tr>\n",
              "      <th>4189</th>\n",
              "      <td>18287.0</td>\n",
              "      <td>46</td>\n",
              "      <td>960.76</td>\n",
              "      <td>3.850148</td>\n",
              "      <td>6.868765</td>\n",
              "      <td>0</td>\n",
              "      <td>0</td>\n",
              "    </tr>\n",
              "  </tbody>\n",
              "</table>\n",
              "<p>1348 rows × 7 columns</p>\n",
              "</div>"
            ],
            "text/plain": [
              "      CustomerID  Products_ordered  ...  clusters  Cluster_name\n",
              "2        12349.0                57  ...         0             0\n",
              "4        12352.0                49  ...         0             0\n",
              "6        12354.0                40  ...         0             0\n",
              "8        12356.0                33  ...         0             0\n",
              "16       12364.0                67  ...         0             0\n",
              "...          ...               ...  ...       ...           ...\n",
              "4168     18252.0                81  ...         0             0\n",
              "4171     18259.0                26  ...         0             0\n",
              "4175     18263.0                49  ...         0             0\n",
              "4176     18265.0                34  ...         0             0\n",
              "4189     18287.0                46  ...         0             0\n",
              "\n",
              "[1348 rows x 7 columns]"
            ]
          },
          "metadata": {
            "tags": []
          },
          "execution_count": 73
        }
      ]
    },
    {
      "cell_type": "markdown",
      "metadata": {
        "id": "gzbJ0nWUAUsB"
      },
      "source": [
        "### **Group1**"
      ]
    },
    {
      "cell_type": "code",
      "metadata": {
        "id": "DzCtKdTfAO0X",
        "outputId": "a3aedf7b-0ae9-4958-f634-1c4d680f2326",
        "colab": {
          "base_uri": "https://localhost:8080/",
          "height": 0
        }
      },
      "source": [
        "customers[customers['clusters'] == 1]"
      ],
      "execution_count": 74,
      "outputs": [
        {
          "output_type": "execute_result",
          "data": {
            "text/html": [
              "<div>\n",
              "<style scoped>\n",
              "    .dataframe tbody tr th:only-of-type {\n",
              "        vertical-align: middle;\n",
              "    }\n",
              "\n",
              "    .dataframe tbody tr th {\n",
              "        vertical-align: top;\n",
              "    }\n",
              "\n",
              "    .dataframe thead th {\n",
              "        text-align: right;\n",
              "    }\n",
              "</style>\n",
              "<table border=\"1\" class=\"dataframe\">\n",
              "  <thead>\n",
              "    <tr style=\"text-align: right;\">\n",
              "      <th></th>\n",
              "      <th>CustomerID</th>\n",
              "      <th>Products_ordered</th>\n",
              "      <th>Total_spending</th>\n",
              "      <th>log_Products_ordered</th>\n",
              "      <th>log_Total_spending</th>\n",
              "      <th>clusters</th>\n",
              "      <th>Cluster_name</th>\n",
              "    </tr>\n",
              "  </thead>\n",
              "  <tbody>\n",
              "    <tr>\n",
              "      <th>1</th>\n",
              "      <td>12348.0</td>\n",
              "      <td>6</td>\n",
              "      <td>90.20</td>\n",
              "      <td>1.945910</td>\n",
              "      <td>4.513055</td>\n",
              "      <td>1</td>\n",
              "      <td>1</td>\n",
              "    </tr>\n",
              "    <tr>\n",
              "      <th>5</th>\n",
              "      <td>12353.0</td>\n",
              "      <td>2</td>\n",
              "      <td>29.30</td>\n",
              "      <td>1.098612</td>\n",
              "      <td>3.411148</td>\n",
              "      <td>1</td>\n",
              "      <td>1</td>\n",
              "    </tr>\n",
              "    <tr>\n",
              "      <th>18</th>\n",
              "      <td>12367.0</td>\n",
              "      <td>9</td>\n",
              "      <td>138.30</td>\n",
              "      <td>2.302585</td>\n",
              "      <td>4.936630</td>\n",
              "      <td>1</td>\n",
              "      <td>1</td>\n",
              "    </tr>\n",
              "    <tr>\n",
              "      <th>42</th>\n",
              "      <td>12401.0</td>\n",
              "      <td>2</td>\n",
              "      <td>32.85</td>\n",
              "      <td>1.098612</td>\n",
              "      <td>3.521939</td>\n",
              "      <td>1</td>\n",
              "      <td>1</td>\n",
              "    </tr>\n",
              "    <tr>\n",
              "      <th>44</th>\n",
              "      <td>12403.0</td>\n",
              "      <td>2</td>\n",
              "      <td>92.90</td>\n",
              "      <td>1.098612</td>\n",
              "      <td>4.542230</td>\n",
              "      <td>1</td>\n",
              "      <td>1</td>\n",
              "    </tr>\n",
              "    <tr>\n",
              "      <th>...</th>\n",
              "      <td>...</td>\n",
              "      <td>...</td>\n",
              "      <td>...</td>\n",
              "      <td>...</td>\n",
              "      <td>...</td>\n",
              "      <td>...</td>\n",
              "      <td>...</td>\n",
              "    </tr>\n",
              "    <tr>\n",
              "      <th>4180</th>\n",
              "      <td>18273.0</td>\n",
              "      <td>1</td>\n",
              "      <td>102.00</td>\n",
              "      <td>0.693147</td>\n",
              "      <td>4.634729</td>\n",
              "      <td>1</td>\n",
              "      <td>1</td>\n",
              "    </tr>\n",
              "    <tr>\n",
              "      <th>4183</th>\n",
              "      <td>18277.0</td>\n",
              "      <td>8</td>\n",
              "      <td>110.38</td>\n",
              "      <td>2.197225</td>\n",
              "      <td>4.712948</td>\n",
              "      <td>1</td>\n",
              "      <td>1</td>\n",
              "    </tr>\n",
              "    <tr>\n",
              "      <th>4185</th>\n",
              "      <td>18280.0</td>\n",
              "      <td>8</td>\n",
              "      <td>137.00</td>\n",
              "      <td>2.197225</td>\n",
              "      <td>4.927254</td>\n",
              "      <td>1</td>\n",
              "      <td>1</td>\n",
              "    </tr>\n",
              "    <tr>\n",
              "      <th>4186</th>\n",
              "      <td>18281.0</td>\n",
              "      <td>5</td>\n",
              "      <td>46.92</td>\n",
              "      <td>1.791759</td>\n",
              "      <td>3.869533</td>\n",
              "      <td>1</td>\n",
              "      <td>1</td>\n",
              "    </tr>\n",
              "    <tr>\n",
              "      <th>4187</th>\n",
              "      <td>18282.0</td>\n",
              "      <td>8</td>\n",
              "      <td>113.13</td>\n",
              "      <td>2.197225</td>\n",
              "      <td>4.737338</td>\n",
              "      <td>1</td>\n",
              "      <td>1</td>\n",
              "    </tr>\n",
              "  </tbody>\n",
              "</table>\n",
              "<p>653 rows × 7 columns</p>\n",
              "</div>"
            ],
            "text/plain": [
              "      CustomerID  Products_ordered  ...  clusters  Cluster_name\n",
              "1        12348.0                 6  ...         1             1\n",
              "5        12353.0                 2  ...         1             1\n",
              "18       12367.0                 9  ...         1             1\n",
              "42       12401.0                 2  ...         1             1\n",
              "44       12403.0                 2  ...         1             1\n",
              "...          ...               ...  ...       ...           ...\n",
              "4180     18273.0                 1  ...         1             1\n",
              "4183     18277.0                 8  ...         1             1\n",
              "4185     18280.0                 8  ...         1             1\n",
              "4186     18281.0                 5  ...         1             1\n",
              "4187     18282.0                 8  ...         1             1\n",
              "\n",
              "[653 rows x 7 columns]"
            ]
          },
          "metadata": {
            "tags": []
          },
          "execution_count": 74
        }
      ]
    },
    {
      "cell_type": "markdown",
      "metadata": {
        "id": "NNcYNfKtAe6L"
      },
      "source": [
        "### **Group2**"
      ]
    },
    {
      "cell_type": "code",
      "metadata": {
        "id": "p72pNwfcAbq_",
        "outputId": "6a74aa79-7337-459b-f610-5f475bb6da2d",
        "colab": {
          "base_uri": "https://localhost:8080/",
          "height": 0
        }
      },
      "source": [
        "customers[customers['clusters'] == 2]"
      ],
      "execution_count": 75,
      "outputs": [
        {
          "output_type": "execute_result",
          "data": {
            "text/html": [
              "<div>\n",
              "<style scoped>\n",
              "    .dataframe tbody tr th:only-of-type {\n",
              "        vertical-align: middle;\n",
              "    }\n",
              "\n",
              "    .dataframe tbody tr th {\n",
              "        vertical-align: top;\n",
              "    }\n",
              "\n",
              "    .dataframe thead th {\n",
              "        text-align: right;\n",
              "    }\n",
              "</style>\n",
              "<table border=\"1\" class=\"dataframe\">\n",
              "  <thead>\n",
              "    <tr style=\"text-align: right;\">\n",
              "      <th></th>\n",
              "      <th>CustomerID</th>\n",
              "      <th>Products_ordered</th>\n",
              "      <th>Total_spending</th>\n",
              "      <th>log_Products_ordered</th>\n",
              "      <th>log_Total_spending</th>\n",
              "      <th>clusters</th>\n",
              "      <th>Cluster_name</th>\n",
              "    </tr>\n",
              "  </thead>\n",
              "  <tbody>\n",
              "    <tr>\n",
              "      <th>3</th>\n",
              "      <td>12350.0</td>\n",
              "      <td>16</td>\n",
              "      <td>294.40</td>\n",
              "      <td>2.833213</td>\n",
              "      <td>5.688330</td>\n",
              "      <td>2</td>\n",
              "      <td>2</td>\n",
              "    </tr>\n",
              "    <tr>\n",
              "      <th>7</th>\n",
              "      <td>12355.0</td>\n",
              "      <td>9</td>\n",
              "      <td>219.00</td>\n",
              "      <td>2.302585</td>\n",
              "      <td>5.393628</td>\n",
              "      <td>2</td>\n",
              "      <td>2</td>\n",
              "    </tr>\n",
              "    <tr>\n",
              "      <th>10</th>\n",
              "      <td>12358.0</td>\n",
              "      <td>9</td>\n",
              "      <td>878.22</td>\n",
              "      <td>2.302585</td>\n",
              "      <td>6.779035</td>\n",
              "      <td>2</td>\n",
              "      <td>2</td>\n",
              "    </tr>\n",
              "    <tr>\n",
              "      <th>13</th>\n",
              "      <td>12361.0</td>\n",
              "      <td>9</td>\n",
              "      <td>174.90</td>\n",
              "      <td>2.302585</td>\n",
              "      <td>5.169916</td>\n",
              "      <td>2</td>\n",
              "      <td>2</td>\n",
              "    </tr>\n",
              "    <tr>\n",
              "      <th>15</th>\n",
              "      <td>12363.0</td>\n",
              "      <td>19</td>\n",
              "      <td>484.50</td>\n",
              "      <td>2.995732</td>\n",
              "      <td>6.185179</td>\n",
              "      <td>2</td>\n",
              "      <td>2</td>\n",
              "    </tr>\n",
              "    <tr>\n",
              "      <th>...</th>\n",
              "      <td>...</td>\n",
              "      <td>...</td>\n",
              "      <td>...</td>\n",
              "      <td>...</td>\n",
              "      <td>...</td>\n",
              "      <td>...</td>\n",
              "      <td>...</td>\n",
              "    </tr>\n",
              "    <tr>\n",
              "      <th>4174</th>\n",
              "      <td>18262.0</td>\n",
              "      <td>13</td>\n",
              "      <td>149.48</td>\n",
              "      <td>2.639057</td>\n",
              "      <td>5.013830</td>\n",
              "      <td>2</td>\n",
              "      <td>2</td>\n",
              "    </tr>\n",
              "    <tr>\n",
              "      <th>4178</th>\n",
              "      <td>18270.0</td>\n",
              "      <td>10</td>\n",
              "      <td>244.90</td>\n",
              "      <td>2.397895</td>\n",
              "      <td>5.504925</td>\n",
              "      <td>2</td>\n",
              "      <td>2</td>\n",
              "    </tr>\n",
              "    <tr>\n",
              "      <th>4181</th>\n",
              "      <td>18274.0</td>\n",
              "      <td>10</td>\n",
              "      <td>163.17</td>\n",
              "      <td>2.397895</td>\n",
              "      <td>5.100902</td>\n",
              "      <td>2</td>\n",
              "      <td>2</td>\n",
              "    </tr>\n",
              "    <tr>\n",
              "      <th>4182</th>\n",
              "      <td>18276.0</td>\n",
              "      <td>12</td>\n",
              "      <td>213.46</td>\n",
              "      <td>2.564949</td>\n",
              "      <td>5.368123</td>\n",
              "      <td>2</td>\n",
              "      <td>2</td>\n",
              "    </tr>\n",
              "    <tr>\n",
              "      <th>4184</th>\n",
              "      <td>18278.0</td>\n",
              "      <td>9</td>\n",
              "      <td>173.90</td>\n",
              "      <td>2.302585</td>\n",
              "      <td>5.164214</td>\n",
              "      <td>2</td>\n",
              "      <td>2</td>\n",
              "    </tr>\n",
              "  </tbody>\n",
              "</table>\n",
              "<p>1384 rows × 7 columns</p>\n",
              "</div>"
            ],
            "text/plain": [
              "      CustomerID  Products_ordered  ...  clusters  Cluster_name\n",
              "3        12350.0                16  ...         2             2\n",
              "7        12355.0                 9  ...         2             2\n",
              "10       12358.0                 9  ...         2             2\n",
              "13       12361.0                 9  ...         2             2\n",
              "15       12363.0                19  ...         2             2\n",
              "...          ...               ...  ...       ...           ...\n",
              "4174     18262.0                13  ...         2             2\n",
              "4178     18270.0                10  ...         2             2\n",
              "4181     18274.0                10  ...         2             2\n",
              "4182     18276.0                12  ...         2             2\n",
              "4184     18278.0                 9  ...         2             2\n",
              "\n",
              "[1384 rows x 7 columns]"
            ]
          },
          "metadata": {
            "tags": []
          },
          "execution_count": 75
        }
      ]
    },
    {
      "cell_type": "markdown",
      "metadata": {
        "id": "ng-m_oqSAj6l"
      },
      "source": [
        "### **Group3**"
      ]
    },
    {
      "cell_type": "code",
      "metadata": {
        "id": "gJrYH8p3Aizj",
        "outputId": "ac5d95b4-32a9-4271-dd9e-0e97acbf76e1",
        "colab": {
          "base_uri": "https://localhost:8080/",
          "height": 0
        }
      },
      "source": [
        "customers[customers['clusters'] == 3]"
      ],
      "execution_count": 76,
      "outputs": [
        {
          "output_type": "execute_result",
          "data": {
            "text/html": [
              "<div>\n",
              "<style scoped>\n",
              "    .dataframe tbody tr th:only-of-type {\n",
              "        vertical-align: middle;\n",
              "    }\n",
              "\n",
              "    .dataframe tbody tr th {\n",
              "        vertical-align: top;\n",
              "    }\n",
              "\n",
              "    .dataframe thead th {\n",
              "        text-align: right;\n",
              "    }\n",
              "</style>\n",
              "<table border=\"1\" class=\"dataframe\">\n",
              "  <thead>\n",
              "    <tr style=\"text-align: right;\">\n",
              "      <th></th>\n",
              "      <th>CustomerID</th>\n",
              "      <th>Products_ordered</th>\n",
              "      <th>Total_spending</th>\n",
              "      <th>log_Products_ordered</th>\n",
              "      <th>log_Total_spending</th>\n",
              "      <th>clusters</th>\n",
              "      <th>Cluster_name</th>\n",
              "    </tr>\n",
              "  </thead>\n",
              "  <tbody>\n",
              "    <tr>\n",
              "      <th>0</th>\n",
              "      <td>12347.0</td>\n",
              "      <td>96</td>\n",
              "      <td>3314.73</td>\n",
              "      <td>4.574711</td>\n",
              "      <td>8.106433</td>\n",
              "      <td>3</td>\n",
              "      <td>3</td>\n",
              "    </tr>\n",
              "    <tr>\n",
              "      <th>9</th>\n",
              "      <td>12357.0</td>\n",
              "      <td>95</td>\n",
              "      <td>3195.41</td>\n",
              "      <td>4.564348</td>\n",
              "      <td>8.069784</td>\n",
              "      <td>3</td>\n",
              "      <td>3</td>\n",
              "    </tr>\n",
              "    <tr>\n",
              "      <th>11</th>\n",
              "      <td>12359.0</td>\n",
              "      <td>157</td>\n",
              "      <td>3224.13</td>\n",
              "      <td>5.062595</td>\n",
              "      <td>8.078729</td>\n",
              "      <td>3</td>\n",
              "      <td>3</td>\n",
              "    </tr>\n",
              "    <tr>\n",
              "      <th>12</th>\n",
              "      <td>12360.0</td>\n",
              "      <td>97</td>\n",
              "      <td>1843.16</td>\n",
              "      <td>4.584967</td>\n",
              "      <td>7.519779</td>\n",
              "      <td>3</td>\n",
              "      <td>3</td>\n",
              "    </tr>\n",
              "    <tr>\n",
              "      <th>14</th>\n",
              "      <td>12362.0</td>\n",
              "      <td>172</td>\n",
              "      <td>4098.94</td>\n",
              "      <td>5.153292</td>\n",
              "      <td>8.318728</td>\n",
              "      <td>3</td>\n",
              "      <td>3</td>\n",
              "    </tr>\n",
              "    <tr>\n",
              "      <th>...</th>\n",
              "      <td>...</td>\n",
              "      <td>...</td>\n",
              "      <td>...</td>\n",
              "      <td>...</td>\n",
              "      <td>...</td>\n",
              "      <td>...</td>\n",
              "      <td>...</td>\n",
              "    </tr>\n",
              "    <tr>\n",
              "      <th>4163</th>\n",
              "      <td>18245.0</td>\n",
              "      <td>139</td>\n",
              "      <td>2266.43</td>\n",
              "      <td>4.941642</td>\n",
              "      <td>7.726402</td>\n",
              "      <td>3</td>\n",
              "      <td>3</td>\n",
              "    </tr>\n",
              "    <tr>\n",
              "      <th>4170</th>\n",
              "      <td>18257.0</td>\n",
              "      <td>86</td>\n",
              "      <td>1997.26</td>\n",
              "      <td>4.465908</td>\n",
              "      <td>7.600032</td>\n",
              "      <td>3</td>\n",
              "      <td>3</td>\n",
              "    </tr>\n",
              "    <tr>\n",
              "      <th>4172</th>\n",
              "      <td>18260.0</td>\n",
              "      <td>76</td>\n",
              "      <td>2082.31</td>\n",
              "      <td>4.343805</td>\n",
              "      <td>7.641713</td>\n",
              "      <td>3</td>\n",
              "      <td>3</td>\n",
              "    </tr>\n",
              "    <tr>\n",
              "      <th>4179</th>\n",
              "      <td>18272.0</td>\n",
              "      <td>90</td>\n",
              "      <td>2794.96</td>\n",
              "      <td>4.510860</td>\n",
              "      <td>7.935931</td>\n",
              "      <td>3</td>\n",
              "      <td>3</td>\n",
              "    </tr>\n",
              "    <tr>\n",
              "      <th>4188</th>\n",
              "      <td>18283.0</td>\n",
              "      <td>268</td>\n",
              "      <td>2051.98</td>\n",
              "      <td>5.594711</td>\n",
              "      <td>7.627048</td>\n",
              "      <td>3</td>\n",
              "      <td>3</td>\n",
              "    </tr>\n",
              "  </tbody>\n",
              "</table>\n",
              "<p>805 rows × 7 columns</p>\n",
              "</div>"
            ],
            "text/plain": [
              "      CustomerID  Products_ordered  ...  clusters  Cluster_name\n",
              "0        12347.0                96  ...         3             3\n",
              "9        12357.0                95  ...         3             3\n",
              "11       12359.0               157  ...         3             3\n",
              "12       12360.0                97  ...         3             3\n",
              "14       12362.0               172  ...         3             3\n",
              "...          ...               ...  ...       ...           ...\n",
              "4163     18245.0               139  ...         3             3\n",
              "4170     18257.0                86  ...         3             3\n",
              "4172     18260.0                76  ...         3             3\n",
              "4179     18272.0                90  ...         3             3\n",
              "4188     18283.0               268  ...         3             3\n",
              "\n",
              "[805 rows x 7 columns]"
            ]
          },
          "metadata": {
            "tags": []
          },
          "execution_count": 76
        }
      ]
    },
    {
      "cell_type": "markdown",
      "metadata": {
        "id": "nBDk_UqmAs6r"
      },
      "source": [
        "## Frequency of customers visiting the store"
      ]
    },
    {
      "cell_type": "code",
      "metadata": {
        "id": "grJYxJ17Ao6d",
        "outputId": "c06b88c8-3e77-4655-8b1e-c28777877d0b",
        "colab": {
          "base_uri": "https://localhost:8080/"
        }
      },
      "source": [
        "frequency_of_customer = dataset.groupby('CustomerID')['InvoiceNo'].nunique()\n",
        "\n",
        "frequency_of_customer"
      ],
      "execution_count": 77,
      "outputs": [
        {
          "output_type": "execute_result",
          "data": {
            "text/plain": [
              "CustomerID\n",
              "12347.0     7\n",
              "12348.0     3\n",
              "12349.0     1\n",
              "12350.0     1\n",
              "12352.0     7\n",
              "           ..\n",
              "18280.0     1\n",
              "18281.0     1\n",
              "18282.0     2\n",
              "18283.0    16\n",
              "18287.0     3\n",
              "Name: InvoiceNo, Length: 4190, dtype: int64"
            ]
          },
          "metadata": {
            "tags": []
          },
          "execution_count": 77
        }
      ]
    },
    {
      "cell_type": "code",
      "metadata": {
        "id": "ZLVgPjFLA8Cd",
        "outputId": "2707c972-2045-42c6-8058-e00733d8d579",
        "colab": {
          "base_uri": "https://localhost:8080/",
          "height": 0
        }
      },
      "source": [
        "customers = pd.merge(customers, frequency_of_customer, on='CustomerID')\n",
        "\n",
        "customers.head()"
      ],
      "execution_count": 78,
      "outputs": [
        {
          "output_type": "execute_result",
          "data": {
            "text/html": [
              "<div>\n",
              "<style scoped>\n",
              "    .dataframe tbody tr th:only-of-type {\n",
              "        vertical-align: middle;\n",
              "    }\n",
              "\n",
              "    .dataframe tbody tr th {\n",
              "        vertical-align: top;\n",
              "    }\n",
              "\n",
              "    .dataframe thead th {\n",
              "        text-align: right;\n",
              "    }\n",
              "</style>\n",
              "<table border=\"1\" class=\"dataframe\">\n",
              "  <thead>\n",
              "    <tr style=\"text-align: right;\">\n",
              "      <th></th>\n",
              "      <th>CustomerID</th>\n",
              "      <th>Products_ordered</th>\n",
              "      <th>Total_spending</th>\n",
              "      <th>log_Products_ordered</th>\n",
              "      <th>log_Total_spending</th>\n",
              "      <th>clusters</th>\n",
              "      <th>Cluster_name</th>\n",
              "      <th>InvoiceNo</th>\n",
              "    </tr>\n",
              "  </thead>\n",
              "  <tbody>\n",
              "    <tr>\n",
              "      <th>0</th>\n",
              "      <td>12347.0</td>\n",
              "      <td>96</td>\n",
              "      <td>3314.73</td>\n",
              "      <td>4.574711</td>\n",
              "      <td>8.106433</td>\n",
              "      <td>3</td>\n",
              "      <td>3</td>\n",
              "      <td>7</td>\n",
              "    </tr>\n",
              "    <tr>\n",
              "      <th>1</th>\n",
              "      <td>12348.0</td>\n",
              "      <td>6</td>\n",
              "      <td>90.20</td>\n",
              "      <td>1.945910</td>\n",
              "      <td>4.513055</td>\n",
              "      <td>1</td>\n",
              "      <td>1</td>\n",
              "      <td>3</td>\n",
              "    </tr>\n",
              "    <tr>\n",
              "      <th>2</th>\n",
              "      <td>12349.0</td>\n",
              "      <td>57</td>\n",
              "      <td>984.15</td>\n",
              "      <td>4.060443</td>\n",
              "      <td>6.892794</td>\n",
              "      <td>0</td>\n",
              "      <td>0</td>\n",
              "      <td>1</td>\n",
              "    </tr>\n",
              "    <tr>\n",
              "      <th>3</th>\n",
              "      <td>12350.0</td>\n",
              "      <td>16</td>\n",
              "      <td>294.40</td>\n",
              "      <td>2.833213</td>\n",
              "      <td>5.688330</td>\n",
              "      <td>2</td>\n",
              "      <td>2</td>\n",
              "      <td>1</td>\n",
              "    </tr>\n",
              "    <tr>\n",
              "      <th>4</th>\n",
              "      <td>12352.0</td>\n",
              "      <td>49</td>\n",
              "      <td>1130.94</td>\n",
              "      <td>3.912023</td>\n",
              "      <td>7.031688</td>\n",
              "      <td>0</td>\n",
              "      <td>0</td>\n",
              "      <td>7</td>\n",
              "    </tr>\n",
              "  </tbody>\n",
              "</table>\n",
              "</div>"
            ],
            "text/plain": [
              "   CustomerID  Products_ordered  ...  Cluster_name  InvoiceNo\n",
              "0     12347.0                96  ...             3          7\n",
              "1     12348.0                 6  ...             1          3\n",
              "2     12349.0                57  ...             0          1\n",
              "3     12350.0                16  ...             2          1\n",
              "4     12352.0                49  ...             0          7\n",
              "\n",
              "[5 rows x 8 columns]"
            ]
          },
          "metadata": {
            "tags": []
          },
          "execution_count": 78
        }
      ]
    },
    {
      "cell_type": "code",
      "metadata": {
        "id": "8e_efo0GBF6D",
        "outputId": "8de724c1-d870-409e-d0bf-0b5f12d1fbaf",
        "colab": {
          "base_uri": "https://localhost:8080/",
          "height": 0
        }
      },
      "source": [
        "customers.rename(columns = {'InvoiceNo': 'Frequency_of_customer'}, inplace=True)\n",
        "\n",
        "customers.head()"
      ],
      "execution_count": 79,
      "outputs": [
        {
          "output_type": "execute_result",
          "data": {
            "text/html": [
              "<div>\n",
              "<style scoped>\n",
              "    .dataframe tbody tr th:only-of-type {\n",
              "        vertical-align: middle;\n",
              "    }\n",
              "\n",
              "    .dataframe tbody tr th {\n",
              "        vertical-align: top;\n",
              "    }\n",
              "\n",
              "    .dataframe thead th {\n",
              "        text-align: right;\n",
              "    }\n",
              "</style>\n",
              "<table border=\"1\" class=\"dataframe\">\n",
              "  <thead>\n",
              "    <tr style=\"text-align: right;\">\n",
              "      <th></th>\n",
              "      <th>CustomerID</th>\n",
              "      <th>Products_ordered</th>\n",
              "      <th>Total_spending</th>\n",
              "      <th>log_Products_ordered</th>\n",
              "      <th>log_Total_spending</th>\n",
              "      <th>clusters</th>\n",
              "      <th>Cluster_name</th>\n",
              "      <th>Frequency_of_customer</th>\n",
              "    </tr>\n",
              "  </thead>\n",
              "  <tbody>\n",
              "    <tr>\n",
              "      <th>0</th>\n",
              "      <td>12347.0</td>\n",
              "      <td>96</td>\n",
              "      <td>3314.73</td>\n",
              "      <td>4.574711</td>\n",
              "      <td>8.106433</td>\n",
              "      <td>3</td>\n",
              "      <td>3</td>\n",
              "      <td>7</td>\n",
              "    </tr>\n",
              "    <tr>\n",
              "      <th>1</th>\n",
              "      <td>12348.0</td>\n",
              "      <td>6</td>\n",
              "      <td>90.20</td>\n",
              "      <td>1.945910</td>\n",
              "      <td>4.513055</td>\n",
              "      <td>1</td>\n",
              "      <td>1</td>\n",
              "      <td>3</td>\n",
              "    </tr>\n",
              "    <tr>\n",
              "      <th>2</th>\n",
              "      <td>12349.0</td>\n",
              "      <td>57</td>\n",
              "      <td>984.15</td>\n",
              "      <td>4.060443</td>\n",
              "      <td>6.892794</td>\n",
              "      <td>0</td>\n",
              "      <td>0</td>\n",
              "      <td>1</td>\n",
              "    </tr>\n",
              "    <tr>\n",
              "      <th>3</th>\n",
              "      <td>12350.0</td>\n",
              "      <td>16</td>\n",
              "      <td>294.40</td>\n",
              "      <td>2.833213</td>\n",
              "      <td>5.688330</td>\n",
              "      <td>2</td>\n",
              "      <td>2</td>\n",
              "      <td>1</td>\n",
              "    </tr>\n",
              "    <tr>\n",
              "      <th>4</th>\n",
              "      <td>12352.0</td>\n",
              "      <td>49</td>\n",
              "      <td>1130.94</td>\n",
              "      <td>3.912023</td>\n",
              "      <td>7.031688</td>\n",
              "      <td>0</td>\n",
              "      <td>0</td>\n",
              "      <td>7</td>\n",
              "    </tr>\n",
              "  </tbody>\n",
              "</table>\n",
              "</div>"
            ],
            "text/plain": [
              "   CustomerID  Products_ordered  ...  Cluster_name  Frequency_of_customer\n",
              "0     12347.0                96  ...             3                      7\n",
              "1     12348.0                 6  ...             1                      3\n",
              "2     12349.0                57  ...             0                      1\n",
              "3     12350.0                16  ...             2                      1\n",
              "4     12352.0                49  ...             0                      7\n",
              "\n",
              "[5 rows x 8 columns]"
            ]
          },
          "metadata": {
            "tags": []
          },
          "execution_count": 79
        }
      ]
    },
    {
      "cell_type": "markdown",
      "metadata": {
        "id": "MsSE7qGUBXtd"
      },
      "source": [
        "## Customer visit number per year and per month"
      ]
    },
    {
      "cell_type": "code",
      "metadata": {
        "id": "ueNjG2UPBUyr",
        "outputId": "294546b5-cd37-40b5-8d91-885ab30d8672",
        "colab": {
          "base_uri": "https://localhost:8080/",
          "height": 0
        }
      },
      "source": [
        "new_dataset = dataset[['InvoiceNo', 'CustomerID', 'Year', 'Month']]\n",
        "\n",
        "new_dataset.head()"
      ],
      "execution_count": 80,
      "outputs": [
        {
          "output_type": "execute_result",
          "data": {
            "text/html": [
              "<div>\n",
              "<style scoped>\n",
              "    .dataframe tbody tr th:only-of-type {\n",
              "        vertical-align: middle;\n",
              "    }\n",
              "\n",
              "    .dataframe tbody tr th {\n",
              "        vertical-align: top;\n",
              "    }\n",
              "\n",
              "    .dataframe thead th {\n",
              "        text-align: right;\n",
              "    }\n",
              "</style>\n",
              "<table border=\"1\" class=\"dataframe\">\n",
              "  <thead>\n",
              "    <tr style=\"text-align: right;\">\n",
              "      <th></th>\n",
              "      <th>InvoiceNo</th>\n",
              "      <th>CustomerID</th>\n",
              "      <th>Year</th>\n",
              "      <th>Month</th>\n",
              "    </tr>\n",
              "  </thead>\n",
              "  <tbody>\n",
              "    <tr>\n",
              "      <th>0</th>\n",
              "      <td>536365</td>\n",
              "      <td>17850.0</td>\n",
              "      <td>2010</td>\n",
              "      <td>12</td>\n",
              "    </tr>\n",
              "    <tr>\n",
              "      <th>1</th>\n",
              "      <td>536365</td>\n",
              "      <td>17850.0</td>\n",
              "      <td>2010</td>\n",
              "      <td>12</td>\n",
              "    </tr>\n",
              "    <tr>\n",
              "      <th>2</th>\n",
              "      <td>536365</td>\n",
              "      <td>17850.0</td>\n",
              "      <td>2010</td>\n",
              "      <td>12</td>\n",
              "    </tr>\n",
              "    <tr>\n",
              "      <th>3</th>\n",
              "      <td>536365</td>\n",
              "      <td>17850.0</td>\n",
              "      <td>2010</td>\n",
              "      <td>12</td>\n",
              "    </tr>\n",
              "    <tr>\n",
              "      <th>4</th>\n",
              "      <td>536365</td>\n",
              "      <td>17850.0</td>\n",
              "      <td>2010</td>\n",
              "      <td>12</td>\n",
              "    </tr>\n",
              "  </tbody>\n",
              "</table>\n",
              "</div>"
            ],
            "text/plain": [
              "  InvoiceNo  CustomerID  Year  Month\n",
              "0    536365     17850.0  2010     12\n",
              "1    536365     17850.0  2010     12\n",
              "2    536365     17850.0  2010     12\n",
              "3    536365     17850.0  2010     12\n",
              "4    536365     17850.0  2010     12"
            ]
          },
          "metadata": {
            "tags": []
          },
          "execution_count": 80
        }
      ]
    },
    {
      "cell_type": "code",
      "metadata": {
        "id": "dL3FtyksBkJ8",
        "outputId": "de1fcfba-4d02-4c5a-f8c5-70e3f0796e1b",
        "colab": {
          "base_uri": "https://localhost:8080/",
          "height": 0
        }
      },
      "source": [
        "# Dropping the duplicates\n",
        "new_dataset.drop_duplicates(inplace=True)\n",
        "\n",
        "new_dataset.head()"
      ],
      "execution_count": 81,
      "outputs": [
        {
          "output_type": "stream",
          "text": [
            "/usr/local/lib/python3.6/dist-packages/ipykernel_launcher.py:2: SettingWithCopyWarning: \n",
            "A value is trying to be set on a copy of a slice from a DataFrame\n",
            "\n",
            "See the caveats in the documentation: https://pandas.pydata.org/pandas-docs/stable/user_guide/indexing.html#returning-a-view-versus-a-copy\n",
            "  \n"
          ],
          "name": "stderr"
        },
        {
          "output_type": "execute_result",
          "data": {
            "text/html": [
              "<div>\n",
              "<style scoped>\n",
              "    .dataframe tbody tr th:only-of-type {\n",
              "        vertical-align: middle;\n",
              "    }\n",
              "\n",
              "    .dataframe tbody tr th {\n",
              "        vertical-align: top;\n",
              "    }\n",
              "\n",
              "    .dataframe thead th {\n",
              "        text-align: right;\n",
              "    }\n",
              "</style>\n",
              "<table border=\"1\" class=\"dataframe\">\n",
              "  <thead>\n",
              "    <tr style=\"text-align: right;\">\n",
              "      <th></th>\n",
              "      <th>InvoiceNo</th>\n",
              "      <th>CustomerID</th>\n",
              "      <th>Year</th>\n",
              "      <th>Month</th>\n",
              "    </tr>\n",
              "  </thead>\n",
              "  <tbody>\n",
              "    <tr>\n",
              "      <th>0</th>\n",
              "      <td>536365</td>\n",
              "      <td>17850.0</td>\n",
              "      <td>2010</td>\n",
              "      <td>12</td>\n",
              "    </tr>\n",
              "    <tr>\n",
              "      <th>7</th>\n",
              "      <td>536366</td>\n",
              "      <td>17850.0</td>\n",
              "      <td>2010</td>\n",
              "      <td>12</td>\n",
              "    </tr>\n",
              "    <tr>\n",
              "      <th>10</th>\n",
              "      <td>536367</td>\n",
              "      <td>13047.0</td>\n",
              "      <td>2010</td>\n",
              "      <td>12</td>\n",
              "    </tr>\n",
              "    <tr>\n",
              "      <th>21</th>\n",
              "      <td>536368</td>\n",
              "      <td>13047.0</td>\n",
              "      <td>2010</td>\n",
              "      <td>12</td>\n",
              "    </tr>\n",
              "    <tr>\n",
              "      <th>25</th>\n",
              "      <td>536369</td>\n",
              "      <td>13047.0</td>\n",
              "      <td>2010</td>\n",
              "      <td>12</td>\n",
              "    </tr>\n",
              "  </tbody>\n",
              "</table>\n",
              "</div>"
            ],
            "text/plain": [
              "   InvoiceNo  CustomerID  Year  Month\n",
              "0     536365     17850.0  2010     12\n",
              "7     536366     17850.0  2010     12\n",
              "10    536367     13047.0  2010     12\n",
              "21    536368     13047.0  2010     12\n",
              "25    536369     13047.0  2010     12"
            ]
          },
          "metadata": {
            "tags": []
          },
          "execution_count": 81
        }
      ]
    },
    {
      "cell_type": "code",
      "metadata": {
        "id": "NcJvHryxBzxa"
      },
      "source": [
        "# Dropping the index\n",
        "new_dataset = new_dataset.reset_index(drop=True)"
      ],
      "execution_count": 82,
      "outputs": []
    },
    {
      "cell_type": "code",
      "metadata": {
        "id": "53JyfjDXB-mw",
        "outputId": "e67ce177-e238-41d8-975c-0d8888ded5ff",
        "colab": {
          "base_uri": "https://localhost:8080/",
          "height": 0
        }
      },
      "source": [
        "# Obtaining number of visits per year\n",
        "new_dataset['Visit_no_yr'] = new_dataset.groupby(['CustomerID', 'Year']).cumcount() + 1\n",
        "\n",
        "new_dataset"
      ],
      "execution_count": 83,
      "outputs": [
        {
          "output_type": "execute_result",
          "data": {
            "text/html": [
              "<div>\n",
              "<style scoped>\n",
              "    .dataframe tbody tr th:only-of-type {\n",
              "        vertical-align: middle;\n",
              "    }\n",
              "\n",
              "    .dataframe tbody tr th {\n",
              "        vertical-align: top;\n",
              "    }\n",
              "\n",
              "    .dataframe thead th {\n",
              "        text-align: right;\n",
              "    }\n",
              "</style>\n",
              "<table border=\"1\" class=\"dataframe\">\n",
              "  <thead>\n",
              "    <tr style=\"text-align: right;\">\n",
              "      <th></th>\n",
              "      <th>InvoiceNo</th>\n",
              "      <th>CustomerID</th>\n",
              "      <th>Year</th>\n",
              "      <th>Month</th>\n",
              "      <th>Visit_no_yr</th>\n",
              "    </tr>\n",
              "  </thead>\n",
              "  <tbody>\n",
              "    <tr>\n",
              "      <th>0</th>\n",
              "      <td>536365</td>\n",
              "      <td>17850.0</td>\n",
              "      <td>2010</td>\n",
              "      <td>12</td>\n",
              "      <td>1</td>\n",
              "    </tr>\n",
              "    <tr>\n",
              "      <th>1</th>\n",
              "      <td>536366</td>\n",
              "      <td>17850.0</td>\n",
              "      <td>2010</td>\n",
              "      <td>12</td>\n",
              "      <td>2</td>\n",
              "    </tr>\n",
              "    <tr>\n",
              "      <th>2</th>\n",
              "      <td>536367</td>\n",
              "      <td>13047.0</td>\n",
              "      <td>2010</td>\n",
              "      <td>12</td>\n",
              "      <td>1</td>\n",
              "    </tr>\n",
              "    <tr>\n",
              "      <th>3</th>\n",
              "      <td>536368</td>\n",
              "      <td>13047.0</td>\n",
              "      <td>2010</td>\n",
              "      <td>12</td>\n",
              "      <td>2</td>\n",
              "    </tr>\n",
              "    <tr>\n",
              "      <th>4</th>\n",
              "      <td>536369</td>\n",
              "      <td>13047.0</td>\n",
              "      <td>2010</td>\n",
              "      <td>12</td>\n",
              "      <td>3</td>\n",
              "    </tr>\n",
              "    <tr>\n",
              "      <th>...</th>\n",
              "      <td>...</td>\n",
              "      <td>...</td>\n",
              "      <td>...</td>\n",
              "      <td>...</td>\n",
              "      <td>...</td>\n",
              "    </tr>\n",
              "    <tr>\n",
              "      <th>16815</th>\n",
              "      <td>581581</td>\n",
              "      <td>17581.0</td>\n",
              "      <td>2011</td>\n",
              "      <td>12</td>\n",
              "      <td>21</td>\n",
              "    </tr>\n",
              "    <tr>\n",
              "      <th>16816</th>\n",
              "      <td>581582</td>\n",
              "      <td>17581.0</td>\n",
              "      <td>2011</td>\n",
              "      <td>12</td>\n",
              "      <td>22</td>\n",
              "    </tr>\n",
              "    <tr>\n",
              "      <th>16817</th>\n",
              "      <td>581585</td>\n",
              "      <td>15804.0</td>\n",
              "      <td>2011</td>\n",
              "      <td>12</td>\n",
              "      <td>13</td>\n",
              "    </tr>\n",
              "    <tr>\n",
              "      <th>16818</th>\n",
              "      <td>581586</td>\n",
              "      <td>13113.0</td>\n",
              "      <td>2011</td>\n",
              "      <td>12</td>\n",
              "      <td>23</td>\n",
              "    </tr>\n",
              "    <tr>\n",
              "      <th>16819</th>\n",
              "      <td>581587</td>\n",
              "      <td>12680.0</td>\n",
              "      <td>2011</td>\n",
              "      <td>12</td>\n",
              "      <td>4</td>\n",
              "    </tr>\n",
              "  </tbody>\n",
              "</table>\n",
              "<p>16820 rows × 5 columns</p>\n",
              "</div>"
            ],
            "text/plain": [
              "      InvoiceNo  CustomerID  Year  Month  Visit_no_yr\n",
              "0        536365     17850.0  2010     12            1\n",
              "1        536366     17850.0  2010     12            2\n",
              "2        536367     13047.0  2010     12            1\n",
              "3        536368     13047.0  2010     12            2\n",
              "4        536369     13047.0  2010     12            3\n",
              "...         ...         ...   ...    ...          ...\n",
              "16815    581581     17581.0  2011     12           21\n",
              "16816    581582     17581.0  2011     12           22\n",
              "16817    581585     15804.0  2011     12           13\n",
              "16818    581586     13113.0  2011     12           23\n",
              "16819    581587     12680.0  2011     12            4\n",
              "\n",
              "[16820 rows x 5 columns]"
            ]
          },
          "metadata": {
            "tags": []
          },
          "execution_count": 83
        }
      ]
    },
    {
      "cell_type": "code",
      "metadata": {
        "id": "G3nHhYrzCRKd",
        "outputId": "4baac61f-99d8-43e2-a5fd-6a122b0403b5",
        "colab": {
          "base_uri": "https://localhost:8080/",
          "height": 0
        }
      },
      "source": [
        "# Number of visits per month\n",
        "new_dataset['Visit_no_month'] = new_dataset.groupby(['CustomerID', 'Month']).cumcount() + 1\n",
        "\n",
        "new_dataset"
      ],
      "execution_count": 84,
      "outputs": [
        {
          "output_type": "execute_result",
          "data": {
            "text/html": [
              "<div>\n",
              "<style scoped>\n",
              "    .dataframe tbody tr th:only-of-type {\n",
              "        vertical-align: middle;\n",
              "    }\n",
              "\n",
              "    .dataframe tbody tr th {\n",
              "        vertical-align: top;\n",
              "    }\n",
              "\n",
              "    .dataframe thead th {\n",
              "        text-align: right;\n",
              "    }\n",
              "</style>\n",
              "<table border=\"1\" class=\"dataframe\">\n",
              "  <thead>\n",
              "    <tr style=\"text-align: right;\">\n",
              "      <th></th>\n",
              "      <th>InvoiceNo</th>\n",
              "      <th>CustomerID</th>\n",
              "      <th>Year</th>\n",
              "      <th>Month</th>\n",
              "      <th>Visit_no_yr</th>\n",
              "      <th>Visit_no_month</th>\n",
              "    </tr>\n",
              "  </thead>\n",
              "  <tbody>\n",
              "    <tr>\n",
              "      <th>0</th>\n",
              "      <td>536365</td>\n",
              "      <td>17850.0</td>\n",
              "      <td>2010</td>\n",
              "      <td>12</td>\n",
              "      <td>1</td>\n",
              "      <td>1</td>\n",
              "    </tr>\n",
              "    <tr>\n",
              "      <th>1</th>\n",
              "      <td>536366</td>\n",
              "      <td>17850.0</td>\n",
              "      <td>2010</td>\n",
              "      <td>12</td>\n",
              "      <td>2</td>\n",
              "      <td>2</td>\n",
              "    </tr>\n",
              "    <tr>\n",
              "      <th>2</th>\n",
              "      <td>536367</td>\n",
              "      <td>13047.0</td>\n",
              "      <td>2010</td>\n",
              "      <td>12</td>\n",
              "      <td>1</td>\n",
              "      <td>1</td>\n",
              "    </tr>\n",
              "    <tr>\n",
              "      <th>3</th>\n",
              "      <td>536368</td>\n",
              "      <td>13047.0</td>\n",
              "      <td>2010</td>\n",
              "      <td>12</td>\n",
              "      <td>2</td>\n",
              "      <td>2</td>\n",
              "    </tr>\n",
              "    <tr>\n",
              "      <th>4</th>\n",
              "      <td>536369</td>\n",
              "      <td>13047.0</td>\n",
              "      <td>2010</td>\n",
              "      <td>12</td>\n",
              "      <td>3</td>\n",
              "      <td>3</td>\n",
              "    </tr>\n",
              "    <tr>\n",
              "      <th>...</th>\n",
              "      <td>...</td>\n",
              "      <td>...</td>\n",
              "      <td>...</td>\n",
              "      <td>...</td>\n",
              "      <td>...</td>\n",
              "      <td>...</td>\n",
              "    </tr>\n",
              "    <tr>\n",
              "      <th>16815</th>\n",
              "      <td>581581</td>\n",
              "      <td>17581.0</td>\n",
              "      <td>2011</td>\n",
              "      <td>12</td>\n",
              "      <td>21</td>\n",
              "      <td>4</td>\n",
              "    </tr>\n",
              "    <tr>\n",
              "      <th>16816</th>\n",
              "      <td>581582</td>\n",
              "      <td>17581.0</td>\n",
              "      <td>2011</td>\n",
              "      <td>12</td>\n",
              "      <td>22</td>\n",
              "      <td>5</td>\n",
              "    </tr>\n",
              "    <tr>\n",
              "      <th>16817</th>\n",
              "      <td>581585</td>\n",
              "      <td>15804.0</td>\n",
              "      <td>2011</td>\n",
              "      <td>12</td>\n",
              "      <td>13</td>\n",
              "      <td>1</td>\n",
              "    </tr>\n",
              "    <tr>\n",
              "      <th>16818</th>\n",
              "      <td>581586</td>\n",
              "      <td>13113.0</td>\n",
              "      <td>2011</td>\n",
              "      <td>12</td>\n",
              "      <td>23</td>\n",
              "      <td>2</td>\n",
              "    </tr>\n",
              "    <tr>\n",
              "      <th>16819</th>\n",
              "      <td>581587</td>\n",
              "      <td>12680.0</td>\n",
              "      <td>2011</td>\n",
              "      <td>12</td>\n",
              "      <td>4</td>\n",
              "      <td>1</td>\n",
              "    </tr>\n",
              "  </tbody>\n",
              "</table>\n",
              "<p>16820 rows × 6 columns</p>\n",
              "</div>"
            ],
            "text/plain": [
              "      InvoiceNo  CustomerID  Year  Month  Visit_no_yr  Visit_no_month\n",
              "0        536365     17850.0  2010     12            1               1\n",
              "1        536366     17850.0  2010     12            2               2\n",
              "2        536367     13047.0  2010     12            1               1\n",
              "3        536368     13047.0  2010     12            2               2\n",
              "4        536369     13047.0  2010     12            3               3\n",
              "...         ...         ...   ...    ...          ...             ...\n",
              "16815    581581     17581.0  2011     12           21               4\n",
              "16816    581582     17581.0  2011     12           22               5\n",
              "16817    581585     15804.0  2011     12           13               1\n",
              "16818    581586     13113.0  2011     12           23               2\n",
              "16819    581587     12680.0  2011     12            4               1\n",
              "\n",
              "[16820 rows x 6 columns]"
            ]
          },
          "metadata": {
            "tags": []
          },
          "execution_count": 84
        }
      ]
    },
    {
      "cell_type": "markdown",
      "metadata": {
        "id": "WIOv_TP3DMs8"
      },
      "source": [
        "# <font color='blue'>**Item Recommendation system using Word2Vec**</font>"
      ]
    },
    {
      "cell_type": "code",
      "metadata": {
        "id": "cSwcLvVJC4h9",
        "outputId": "6a081d26-7645-4560-879c-1e00dc172c8b",
        "colab": {
          "base_uri": "https://localhost:8080/"
        }
      },
      "source": [
        "no_of_customers =  list(dataset['CustomerID'].unique())\n",
        "\n",
        "print(f'Number of unique customers are {len(no_of_customers)}')"
      ],
      "execution_count": 85,
      "outputs": [
        {
          "output_type": "stream",
          "text": [
            "Number of unique customers are 4190\n"
          ],
          "name": "stdout"
        }
      ]
    },
    {
      "cell_type": "code",
      "metadata": {
        "id": "Kwni3W_3DkKX"
      },
      "source": [
        "# Typecasting\n",
        "dataset['StockCode'] = dataset['StockCode'].astype(str)"
      ],
      "execution_count": 86,
      "outputs": []
    },
    {
      "cell_type": "markdown",
      "metadata": {
        "id": "xQhhAlkyDzX5"
      },
      "source": [
        "### Shuffling the customers and using 90% of it for creating the model & then splitting into train and validation dataset"
      ]
    },
    {
      "cell_type": "code",
      "metadata": {
        "id": "3ZZhmXSEDxer"
      },
      "source": [
        "import random\n",
        "\n",
        "random.shuffle(no_of_customers)\n",
        "\n",
        "customers_train = [no_of_customers[i] for i in range(round(0.9 * len(no_of_customers)))]\n",
        "\n",
        "train_dataset = dataset[dataset['CustomerID'].isin(customers_train)]\n",
        "validation_dataset = dataset[~dataset['CustomerID'].isin(customers_train)]"
      ],
      "execution_count": 87,
      "outputs": []
    },
    {
      "cell_type": "markdown",
      "metadata": {
        "id": "Gp7gJEmSFLJI"
      },
      "source": [
        "## List of purchases made by the customer "
      ]
    },
    {
      "cell_type": "code",
      "metadata": {
        "id": "FTQ7jhaJE8k8"
      },
      "source": [
        "from tqdm import tqdm"
      ],
      "execution_count": 88,
      "outputs": []
    },
    {
      "cell_type": "markdown",
      "metadata": {
        "id": "j1U9ELCrFcHJ"
      },
      "source": [
        "### 1. Training dataset"
      ]
    },
    {
      "cell_type": "code",
      "metadata": {
        "id": "dOIZQbgEFasw",
        "outputId": "ac252802-2001-447a-ace3-449a4fc9e6d1",
        "colab": {
          "base_uri": "https://localhost:8080/"
        }
      },
      "source": [
        "purchases_train = []\n",
        "\n",
        "for i in tqdm(customers_train):\n",
        "  temp = list(train_dataset[train_dataset['CustomerID'] == i]['StockCode'])\n",
        "  purchases_train.append(temp)"
      ],
      "execution_count": 89,
      "outputs": [
        {
          "output_type": "stream",
          "text": [
            "100%|██████████| 3771/3771 [00:05<00:00, 696.90it/s]\n"
          ],
          "name": "stderr"
        }
      ]
    },
    {
      "cell_type": "markdown",
      "metadata": {
        "id": "2hDkBXGdF3yY"
      },
      "source": [
        "### 2. Validation dataset"
      ]
    },
    {
      "cell_type": "code",
      "metadata": {
        "id": "pxt4gzj7FzfW",
        "outputId": "8d34f1ac-b7ea-4bce-a6ab-e03f9c743fe5",
        "colab": {
          "base_uri": "https://localhost:8080/"
        }
      },
      "source": [
        "purchases_val = []\n",
        "\n",
        "for i in tqdm(validation_dataset['CustomerID'].unique()):\n",
        "  temp = list(validation_dataset[validation_dataset['CustomerID'] == i]['StockCode'])\n",
        "  purchases_val.append(temp)"
      ],
      "execution_count": 90,
      "outputs": [
        {
          "output_type": "stream",
          "text": [
            "100%|██████████| 419/419 [00:00<00:00, 1059.45it/s]\n"
          ],
          "name": "stderr"
        }
      ]
    },
    {
      "cell_type": "code",
      "metadata": {
        "id": "BhQ6HwsCGVQf"
      },
      "source": [
        "from gensim.models import Word2Vec"
      ],
      "execution_count": 91,
      "outputs": []
    },
    {
      "cell_type": "markdown",
      "metadata": {
        "id": "cUf6ZfMyGdRI"
      },
      "source": [
        "### Creating the Word2Vec model"
      ]
    },
    {
      "cell_type": "code",
      "metadata": {
        "id": "JOoHOMBnGcEt",
        "outputId": "9a68eb82-b7ab-494d-a2a3-6f11cba68175",
        "colab": {
          "base_uri": "https://localhost:8080/"
        }
      },
      "source": [
        "model = Word2Vec(window = 10, sg = 1, hs = 0, negative = 10, alpha = 0.03, min_alpha = 0.0007, seed = 14)\n",
        "\n",
        "model.build_vocab(purchases_train, progress_per = 200)\n",
        "\n",
        "model.train(purchases_train, total_examples = model.corpus_count, epochs = 10, report_delay = 1)"
      ],
      "execution_count": 92,
      "outputs": [
        {
          "output_type": "execute_result",
          "data": {
            "text/plain": [
              "(2977133, 3010930)"
            ]
          },
          "metadata": {
            "tags": []
          },
          "execution_count": 92
        }
      ]
    },
    {
      "cell_type": "code",
      "metadata": {
        "id": "9RxWIUEKHMsf",
        "outputId": "cdd41ad3-3065-4191-c6fe-5d5a5a6d5e4a",
        "colab": {
          "base_uri": "https://localhost:8080/"
        }
      },
      "source": [
        "model.init_sims(replace=True)\n",
        "\n",
        "print(model)"
      ],
      "execution_count": 93,
      "outputs": [
        {
          "output_type": "stream",
          "text": [
            "Word2Vec(vocab=2857, size=100, alpha=0.03)\n"
          ],
          "name": "stdout"
        }
      ]
    },
    {
      "cell_type": "markdown",
      "metadata": {
        "id": "_asM4wsqHmaL"
      },
      "source": [
        "### Each vector of 2879 unique vocabulary words has the size of 100"
      ]
    },
    {
      "cell_type": "code",
      "metadata": {
        "id": "PQO0t04VHhzZ",
        "outputId": "71affcd8-deac-476a-8967-2ea20535e394",
        "colab": {
          "base_uri": "https://localhost:8080/"
        }
      },
      "source": [
        "X = model[model.wv.vocab]\n",
        "\n",
        "X.shape"
      ],
      "execution_count": 94,
      "outputs": [
        {
          "output_type": "stream",
          "text": [
            "/usr/local/lib/python3.6/dist-packages/ipykernel_launcher.py:1: DeprecationWarning: Call to deprecated `__getitem__` (Method will be removed in 4.0.0, use self.wv.__getitem__() instead).\n",
            "  \"\"\"Entry point for launching an IPython kernel.\n"
          ],
          "name": "stderr"
        },
        {
          "output_type": "execute_result",
          "data": {
            "text/plain": [
              "(2857, 100)"
            ]
          },
          "metadata": {
            "tags": []
          },
          "execution_count": 94
        }
      ]
    },
    {
      "cell_type": "markdown",
      "metadata": {
        "id": "042ymmWEH607"
      },
      "source": [
        "### Visual representation of similar products"
      ]
    },
    {
      "cell_type": "code",
      "metadata": {
        "id": "blwl_tbyH2h6",
        "outputId": "f48c7b55-2887-4edd-eeab-8313f3251a0b",
        "colab": {
          "base_uri": "https://localhost:8080/",
          "height": 554
        }
      },
      "source": [
        "import umap.umap_ as umap\n",
        "\n",
        "cluster_embedding = umap.UMAP(n_neighbors=30, min_dist=0.0, n_components=2, random_state=42).fit_transform(X)\n",
        "\n",
        "plt.figure(figsize=(10, 9))\n",
        "plt.scatter(cluster_embedding[:, 0], cluster_embedding[:, 1], s=3, cmap='Spectral')"
      ],
      "execution_count": 95,
      "outputs": [
        {
          "output_type": "execute_result",
          "data": {
            "text/plain": [
              "<matplotlib.collections.PathCollection at 0x7f723fec7208>"
            ]
          },
          "metadata": {
            "tags": []
          },
          "execution_count": 95
        },
        {
          "output_type": "display_data",
          "data": {
            "image/png": "[encoded data removed]",
            "text/plain": [
              "<Figure size 720x648 with 1 Axes>"
            ]
          },
          "metadata": {
            "tags": [],
            "needs_background": "light"
          }
        }
      ]
    },
    {
      "cell_type": "markdown",
      "metadata": {
        "id": "-6fZDCC_JiVr"
      },
      "source": [
        "### Creating a product dictionary"
      ]
    },
    {
      "cell_type": "code",
      "metadata": {
        "id": "DIHf4uVfJQ5c",
        "outputId": "e0a761bc-5814-43a4-c0e0-477a26e6b8b4",
        "colab": {
          "base_uri": "https://localhost:8080/"
        }
      },
      "source": [
        "products = train_dataset[['StockCode', 'Description']]\n",
        "\n",
        "products.drop_duplicates(inplace=True, subset='StockCode', keep='last')\n",
        "\n",
        "products_dict = products.groupby('StockCode')['Description'].apply(list).to_dict()"
      ],
      "execution_count": 96,
      "outputs": [
        {
          "output_type": "stream",
          "text": [
            "/usr/local/lib/python3.6/dist-packages/ipykernel_launcher.py:3: SettingWithCopyWarning: \n",
            "A value is trying to be set on a copy of a slice from a DataFrame\n",
            "\n",
            "See the caveats in the documentation: https://pandas.pydata.org/pandas-docs/stable/user_guide/indexing.html#returning-a-view-versus-a-copy\n",
            "  This is separate from the ipykernel package so we can avoid doing imports until\n"
          ],
          "name": "stderr"
        }
      ]
    },
    {
      "cell_type": "code",
      "metadata": {
        "id": "CPzI4KhNKEp-",
        "outputId": "07cf36a9-5dd2-4851-dcd2-75e1df3473ca",
        "colab": {
          "base_uri": "https://localhost:8080/"
        }
      },
      "source": [
        "products_dict['22748']"
      ],
      "execution_count": 97,
      "outputs": [
        {
          "output_type": "execute_result",
          "data": {
            "text/plain": [
              "[\"POPPY'S PLAYHOUSE KITCHEN\"]"
            ]
          },
          "metadata": {
            "tags": []
          },
          "execution_count": 97
        }
      ]
    },
    {
      "cell_type": "code",
      "metadata": {
        "id": "5MYG7dyQKJxy",
        "outputId": "29f46e97-7e6c-4480-e3bc-20bfead84b9b",
        "colab": {
          "base_uri": "https://localhost:8080/"
        }
      },
      "source": [
        "products_dict['84029G']"
      ],
      "execution_count": 98,
      "outputs": [
        {
          "output_type": "execute_result",
          "data": {
            "text/plain": [
              "['KNITTED UNION FLAG HOT WATER BOTTLE']"
            ]
          },
          "metadata": {
            "tags": []
          },
          "execution_count": 98
        }
      ]
    },
    {
      "cell_type": "markdown",
      "metadata": {
        "id": "gyCyLoZMKSVM"
      },
      "source": [
        "## Recommendation Function based on single product vector and will return 6 similar products"
      ]
    },
    {
      "cell_type": "code",
      "metadata": {
        "id": "Y5FT3PvnKPkP"
      },
      "source": [
        "def similar_products(v, n = 6):\n",
        "  ms = model.similar_by_vector(v, topn = n + 1)[1:]\n",
        "  new_ms = []\n",
        "  for j in ms:\n",
        "    pair = (products_dict[j[0]][0], j[1])\n",
        "    new_ms.append(pair)\n",
        "  \n",
        "  return new_ms"
      ],
      "execution_count": 99,
      "outputs": []
    },
    {
      "cell_type": "code",
      "metadata": {
        "id": "UBmUNbJFK8FU",
        "outputId": "9b9aa7c6-1fe8-43df-e72c-5d931c2e8641",
        "colab": {
          "base_uri": "https://localhost:8080/"
        }
      },
      "source": [
        "similar_products(model['84029G'])"
      ],
      "execution_count": 100,
      "outputs": [
        {
          "output_type": "stream",
          "text": [
            "/usr/local/lib/python3.6/dist-packages/ipykernel_launcher.py:1: DeprecationWarning: Call to deprecated `__getitem__` (Method will be removed in 4.0.0, use self.wv.__getitem__() instead).\n",
            "  \"\"\"Entry point for launching an IPython kernel.\n",
            "/usr/local/lib/python3.6/dist-packages/ipykernel_launcher.py:2: DeprecationWarning: Call to deprecated `similar_by_vector` (Method will be removed in 4.0.0, use self.wv.similar_by_vector() instead).\n",
            "  \n",
            "/usr/local/lib/python3.6/dist-packages/gensim/matutils.py:737: FutureWarning: Conversion of the second argument of issubdtype from `int` to `np.signedinteger` is deprecated. In future, it will be treated as `np.int64 == np.dtype(int).type`.\n",
            "  if np.issubdtype(vec.dtype, np.int):\n"
          ],
          "name": "stderr"
        },
        {
          "output_type": "execute_result",
          "data": {
            "text/plain": [
              "[('RED WOOLLY HOTTIE WHITE HEART.', 0.7945852279663086),\n",
              " ('SCOTTIE DOG HOT WATER BOTTLE', 0.7534397840499878),\n",
              " ('WHITE SKULL HOT WATER BOTTLE ', 0.7088494896888733),\n",
              " ('RETROSPOT HEART HOT WATER BOTTLE', 0.6878030300140381),\n",
              " ('CHOCOLATE HOT WATER BOTTLE', 0.6692291498184204),\n",
              " ('HOT WATER BOTTLE TEA AND SYMPATHY', 0.6672680377960205)]"
            ]
          },
          "metadata": {
            "tags": []
          },
          "execution_count": 100
        }
      ]
    },
    {
      "cell_type": "code",
      "metadata": {
        "id": "_vt0_wufLBlW",
        "outputId": "3011a6ae-4598-46ed-8667-93b51e9fccdc",
        "colab": {
          "base_uri": "https://localhost:8080/"
        }
      },
      "source": [
        "similar_products(model['90019A'])"
      ],
      "execution_count": 101,
      "outputs": [
        {
          "output_type": "stream",
          "text": [
            "/usr/local/lib/python3.6/dist-packages/ipykernel_launcher.py:1: DeprecationWarning: Call to deprecated `__getitem__` (Method will be removed in 4.0.0, use self.wv.__getitem__() instead).\n",
            "  \"\"\"Entry point for launching an IPython kernel.\n",
            "/usr/local/lib/python3.6/dist-packages/ipykernel_launcher.py:2: DeprecationWarning: Call to deprecated `similar_by_vector` (Method will be removed in 4.0.0, use self.wv.similar_by_vector() instead).\n",
            "  \n",
            "/usr/local/lib/python3.6/dist-packages/gensim/matutils.py:737: FutureWarning: Conversion of the second argument of issubdtype from `int` to `np.signedinteger` is deprecated. In future, it will be treated as `np.int64 == np.dtype(int).type`.\n",
            "  if np.issubdtype(vec.dtype, np.int):\n"
          ],
          "name": "stderr"
        },
        {
          "output_type": "execute_result",
          "data": {
            "text/plain": [
              "[('SILVER M.O.P ORBIT DROP EARRINGS', 0.753418505191803),\n",
              " ('GREEN HEART OF GLASS BRACELET', 0.699974536895752),\n",
              " ('PINK BOUDICCA LARGE BRACELET', 0.6996657252311707),\n",
              " ('PINK HEART OF GLASS BRACELET', 0.6836423873901367),\n",
              " ('ANT COPPER RED BOUDICCA BRACELET', 0.6778490543365479),\n",
              " ('DROP DIAMANTE EARRINGS PURPLE', 0.6757515668869019)]"
            ]
          },
          "metadata": {
            "tags": []
          },
          "execution_count": 101
        }
      ]
    },
    {
      "cell_type": "markdown",
      "metadata": {
        "id": "bE3k3zhsLOF6"
      },
      "source": [
        "## Recommendation function based on average of products vector bought by user and will return 6 similar products"
      ]
    },
    {
      "cell_type": "code",
      "metadata": {
        "id": "QCLB682OLI-z"
      },
      "source": [
        "def aggregate_vectors(products):\n",
        "  product_vec = []\n",
        "  for i in products:\n",
        "    try:\n",
        "      product_vec.append(model[i])\n",
        "    except KeyError:\n",
        "      continue\n",
        "  \n",
        "  return np.mean(product_vec, axis=0)"
      ],
      "execution_count": 102,
      "outputs": []
    },
    {
      "cell_type": "code",
      "metadata": {
        "id": "p8W5dXSGLz_S",
        "outputId": "d9c7b516-3088-4bfe-f53b-ef5c48e536f2",
        "colab": {
          "base_uri": "https://localhost:8080/"
        }
      },
      "source": [
        "len(purchases_val[0])"
      ],
      "execution_count": 103,
      "outputs": [
        {
          "output_type": "execute_result",
          "data": {
            "text/plain": [
              "8"
            ]
          },
          "metadata": {
            "tags": []
          },
          "execution_count": 103
        }
      ]
    },
    {
      "cell_type": "code",
      "metadata": {
        "id": "gh81OssmL7MZ",
        "outputId": "9dcecef6-e7a5-47c0-be2a-29574a35ed6b",
        "colab": {
          "base_uri": "https://localhost:8080/"
        }
      },
      "source": [
        "aggregate_vectors(purchases_val[0]).shape"
      ],
      "execution_count": 104,
      "outputs": [
        {
          "output_type": "stream",
          "text": [
            "/usr/local/lib/python3.6/dist-packages/ipykernel_launcher.py:5: DeprecationWarning: Call to deprecated `__getitem__` (Method will be removed in 4.0.0, use self.wv.__getitem__() instead).\n",
            "  \"\"\"\n"
          ],
          "name": "stderr"
        },
        {
          "output_type": "execute_result",
          "data": {
            "text/plain": [
              "(100,)"
            ]
          },
          "metadata": {
            "tags": []
          },
          "execution_count": 104
        }
      ]
    },
    {
      "cell_type": "code",
      "metadata": {
        "id": "yhll1-RMMDOk",
        "outputId": "e771f208-f7af-4ef0-b0e3-aa542726fdbf",
        "colab": {
          "base_uri": "https://localhost:8080/"
        }
      },
      "source": [
        "similar_products(aggregate_vectors(purchases_val[0]))"
      ],
      "execution_count": 105,
      "outputs": [
        {
          "output_type": "stream",
          "text": [
            "/usr/local/lib/python3.6/dist-packages/ipykernel_launcher.py:5: DeprecationWarning: Call to deprecated `__getitem__` (Method will be removed in 4.0.0, use self.wv.__getitem__() instead).\n",
            "  \"\"\"\n",
            "/usr/local/lib/python3.6/dist-packages/ipykernel_launcher.py:2: DeprecationWarning: Call to deprecated `similar_by_vector` (Method will be removed in 4.0.0, use self.wv.similar_by_vector() instead).\n",
            "  \n",
            "/usr/local/lib/python3.6/dist-packages/gensim/matutils.py:737: FutureWarning: Conversion of the second argument of issubdtype from `int` to `np.signedinteger` is deprecated. In future, it will be treated as `np.int64 == np.dtype(int).type`.\n",
            "  if np.issubdtype(vec.dtype, np.int):\n"
          ],
          "name": "stderr"
        },
        {
          "output_type": "execute_result",
          "data": {
            "text/plain": [
              "[('HANGING MEDINA LANTERN SMALL', 0.7156147956848145),\n",
              " ('CREAM HEART CARD HOLDER', 0.7049200534820557),\n",
              " ('HANGING METAL HEART LANTERN', 0.6966639161109924),\n",
              " ('CREAM WALL PLANTER HEART SHAPED', 0.6935091018676758),\n",
              " ('ENAMEL FLOWER JUG CREAM', 0.6934632062911987),\n",
              " ('CREAM DELPHINIUM ARTIFICIAL FLOWER', 0.6894131898880005)]"
            ]
          },
          "metadata": {
            "tags": []
          },
          "execution_count": 105
        }
      ]
    },
    {
      "cell_type": "code",
      "metadata": {
        "id": "tkkwjZ_eMMGm",
        "outputId": "bd8cf3fa-ae53-405b-a7da-c4d18de63956",
        "colab": {
          "base_uri": "https://localhost:8080/"
        }
      },
      "source": [
        "similar_products(aggregate_vectors(purchases_val[0][-5:]))"
      ],
      "execution_count": 106,
      "outputs": [
        {
          "output_type": "stream",
          "text": [
            "/usr/local/lib/python3.6/dist-packages/ipykernel_launcher.py:5: DeprecationWarning: Call to deprecated `__getitem__` (Method will be removed in 4.0.0, use self.wv.__getitem__() instead).\n",
            "  \"\"\"\n",
            "/usr/local/lib/python3.6/dist-packages/ipykernel_launcher.py:2: DeprecationWarning: Call to deprecated `similar_by_vector` (Method will be removed in 4.0.0, use self.wv.similar_by_vector() instead).\n",
            "  \n",
            "/usr/local/lib/python3.6/dist-packages/gensim/matutils.py:737: FutureWarning: Conversion of the second argument of issubdtype from `int` to `np.signedinteger` is deprecated. In future, it will be treated as `np.int64 == np.dtype(int).type`.\n",
            "  if np.issubdtype(vec.dtype, np.int):\n"
          ],
          "name": "stderr"
        },
        {
          "output_type": "execute_result",
          "data": {
            "text/plain": [
              "[('ENAMEL FLOWER JUG CREAM', 0.750791072845459),\n",
              " ('CREAM HEART CARD HOLDER', 0.7368028163909912),\n",
              " ('FRENCH ENAMEL CANDLEHOLDER', 0.6737419366836548),\n",
              " ('CREAM WALL PLANTER HEART SHAPED', 0.6675939559936523),\n",
              " ('ENAMEL FIRE BUCKET CREAM', 0.6644707918167114),\n",
              " ('CREAM HANGING HEART T-LIGHT HOLDER', 0.6431988477706909)]"
            ]
          },
          "metadata": {
            "tags": []
          },
          "execution_count": 106
        }
      ]
    },
    {
      "cell_type": "markdown",
      "metadata": {
        "id": "o91nk9l-MdbJ"
      },
      "source": [
        "# <font color=\"blue\">**Churn Prediction**</font>"
      ]
    },
    {
      "cell_type": "code",
      "metadata": {
        "id": "wW-_m20bMSEk",
        "outputId": "25aee67f-d056-432e-881e-93f186d7eab3",
        "colab": {
          "base_uri": "https://localhost:8080/",
          "height": 419
        }
      },
      "source": [
        "dataset[['Date', 'Month', 'Year']]"
      ],
      "execution_count": 107,
      "outputs": [
        {
          "output_type": "execute_result",
          "data": {
            "text/html": [
              "<div>\n",
              "<style scoped>\n",
              "    .dataframe tbody tr th:only-of-type {\n",
              "        vertical-align: middle;\n",
              "    }\n",
              "\n",
              "    .dataframe tbody tr th {\n",
              "        vertical-align: top;\n",
              "    }\n",
              "\n",
              "    .dataframe thead th {\n",
              "        text-align: right;\n",
              "    }\n",
              "</style>\n",
              "<table border=\"1\" class=\"dataframe\">\n",
              "  <thead>\n",
              "    <tr style=\"text-align: right;\">\n",
              "      <th></th>\n",
              "      <th>Date</th>\n",
              "      <th>Month</th>\n",
              "      <th>Year</th>\n",
              "    </tr>\n",
              "  </thead>\n",
              "  <tbody>\n",
              "    <tr>\n",
              "      <th>0</th>\n",
              "      <td>1</td>\n",
              "      <td>12</td>\n",
              "      <td>2010</td>\n",
              "    </tr>\n",
              "    <tr>\n",
              "      <th>1</th>\n",
              "      <td>1</td>\n",
              "      <td>12</td>\n",
              "      <td>2010</td>\n",
              "    </tr>\n",
              "    <tr>\n",
              "      <th>2</th>\n",
              "      <td>1</td>\n",
              "      <td>12</td>\n",
              "      <td>2010</td>\n",
              "    </tr>\n",
              "    <tr>\n",
              "      <th>3</th>\n",
              "      <td>1</td>\n",
              "      <td>12</td>\n",
              "      <td>2010</td>\n",
              "    </tr>\n",
              "    <tr>\n",
              "      <th>4</th>\n",
              "      <td>1</td>\n",
              "      <td>12</td>\n",
              "      <td>2010</td>\n",
              "    </tr>\n",
              "    <tr>\n",
              "      <th>...</th>\n",
              "      <td>...</td>\n",
              "      <td>...</td>\n",
              "      <td>...</td>\n",
              "    </tr>\n",
              "    <tr>\n",
              "      <th>541904</th>\n",
              "      <td>9</td>\n",
              "      <td>12</td>\n",
              "      <td>2011</td>\n",
              "    </tr>\n",
              "    <tr>\n",
              "      <th>541905</th>\n",
              "      <td>9</td>\n",
              "      <td>12</td>\n",
              "      <td>2011</td>\n",
              "    </tr>\n",
              "    <tr>\n",
              "      <th>541906</th>\n",
              "      <td>9</td>\n",
              "      <td>12</td>\n",
              "      <td>2011</td>\n",
              "    </tr>\n",
              "    <tr>\n",
              "      <th>541907</th>\n",
              "      <td>9</td>\n",
              "      <td>12</td>\n",
              "      <td>2011</td>\n",
              "    </tr>\n",
              "    <tr>\n",
              "      <th>541908</th>\n",
              "      <td>9</td>\n",
              "      <td>12</td>\n",
              "      <td>2011</td>\n",
              "    </tr>\n",
              "  </tbody>\n",
              "</table>\n",
              "<p>337527 rows × 3 columns</p>\n",
              "</div>"
            ],
            "text/plain": [
              "        Date  Month  Year\n",
              "0          1     12  2010\n",
              "1          1     12  2010\n",
              "2          1     12  2010\n",
              "3          1     12  2010\n",
              "4          1     12  2010\n",
              "...      ...    ...   ...\n",
              "541904     9     12  2011\n",
              "541905     9     12  2011\n",
              "541906     9     12  2011\n",
              "541907     9     12  2011\n",
              "541908     9     12  2011\n",
              "\n",
              "[337527 rows x 3 columns]"
            ]
          },
          "metadata": {
            "tags": []
          },
          "execution_count": 107
        }
      ]
    },
    {
      "cell_type": "code",
      "metadata": {
        "id": "IdMCXJMihZ7c",
        "outputId": "f6ab0038-67c4-4cfa-f9d8-db97db4be391",
        "colab": {
          "base_uri": "https://localhost:8080/"
        }
      },
      "source": [
        "dataset['Month'].unique()"
      ],
      "execution_count": 108,
      "outputs": [
        {
          "output_type": "execute_result",
          "data": {
            "text/plain": [
              "array([12,  1,  2,  3,  4,  5,  6,  7,  8,  9, 10, 11])"
            ]
          },
          "metadata": {
            "tags": []
          },
          "execution_count": 108
        }
      ]
    },
    {
      "cell_type": "markdown",
      "metadata": {
        "id": "0JAo7aXJhtDm"
      },
      "source": [
        "## Splitting the dataset\n",
        "\n",
        "### Initial dataset consists of data till end of july 2011 "
      ]
    },
    {
      "cell_type": "code",
      "metadata": {
        "id": "BDcrNPazhdxl",
        "outputId": "8dc788ef-11a0-4797-dd41-7c0cdd23d06e",
        "colab": {
          "base_uri": "https://localhost:8080/",
          "height": 847
        }
      },
      "source": [
        "initial_dataset = dataset[((dataset['Month']==12) & (dataset['Year']==2010)) | \n",
        "                          ((dataset['Month']==1) & (dataset['Year']==2011)) |\n",
        "                          ((dataset['Month']==2) & (dataset['Year']==2011)) |\n",
        "                          ((dataset['Month']==3) & (dataset['Year']==2011)) |\n",
        "                          ((dataset['Month']==4) & (dataset['Year']==2011)) |\n",
        "                          ((dataset['Month']==5) & (dataset['Year']==2011)) |\n",
        "                          ((dataset['Month']==6) & (dataset['Year']==2011)) |\n",
        "                          ((dataset['Month']==7) & (dataset['Year']==2011))]\n",
        "\n",
        "initial_dataset"
      ],
      "execution_count": 110,
      "outputs": [
        {
          "output_type": "execute_result",
          "data": {
            "text/html": [
              "<div>\n",
              "<style scoped>\n",
              "    .dataframe tbody tr th:only-of-type {\n",
              "        vertical-align: middle;\n",
              "    }\n",
              "\n",
              "    .dataframe tbody tr th {\n",
              "        vertical-align: top;\n",
              "    }\n",
              "\n",
              "    .dataframe thead th {\n",
              "        text-align: right;\n",
              "    }\n",
              "</style>\n",
              "<table border=\"1\" class=\"dataframe\">\n",
              "  <thead>\n",
              "    <tr style=\"text-align: right;\">\n",
              "      <th></th>\n",
              "      <th>InvoiceNo</th>\n",
              "      <th>StockCode</th>\n",
              "      <th>Description</th>\n",
              "      <th>Quantity</th>\n",
              "      <th>InvoiceDate</th>\n",
              "      <th>UnitPrice</th>\n",
              "      <th>CustomerID</th>\n",
              "      <th>Country</th>\n",
              "      <th>Log_Transformed_Quantity</th>\n",
              "      <th>Log_Transformed_UnitPrice</th>\n",
              "      <th>Normalized_Quantity</th>\n",
              "      <th>Normalized_UnitPrice</th>\n",
              "      <th>Standardized_Quantity</th>\n",
              "      <th>Standardized_UnitPrice</th>\n",
              "      <th>Date</th>\n",
              "      <th>Month</th>\n",
              "      <th>Year</th>\n",
              "      <th>Weekday</th>\n",
              "      <th>Time</th>\n",
              "      <th>Sales</th>\n",
              "    </tr>\n",
              "  </thead>\n",
              "  <tbody>\n",
              "    <tr>\n",
              "      <th>0</th>\n",
              "      <td>536365</td>\n",
              "      <td>85123A</td>\n",
              "      <td>WHITE HANGING HEART T-LIGHT HOLDER</td>\n",
              "      <td>6</td>\n",
              "      <td>12/1/2010 8:26</td>\n",
              "      <td>2.55</td>\n",
              "      <td>17850.0</td>\n",
              "      <td>United Kingdom</td>\n",
              "      <td>1.945910</td>\n",
              "      <td>1.266948</td>\n",
              "      <td>0.20</td>\n",
              "      <td>0.341735</td>\n",
              "      <td>-0.219014</td>\n",
              "      <td>0.239846</td>\n",
              "      <td>1</td>\n",
              "      <td>12</td>\n",
              "      <td>2010</td>\n",
              "      <td>Wednesday</td>\n",
              "      <td>08:26:00</td>\n",
              "      <td>15.30</td>\n",
              "    </tr>\n",
              "    <tr>\n",
              "      <th>1</th>\n",
              "      <td>536365</td>\n",
              "      <td>71053</td>\n",
              "      <td>WHITE METAL LANTERN</td>\n",
              "      <td>6</td>\n",
              "      <td>12/1/2010 8:26</td>\n",
              "      <td>3.39</td>\n",
              "      <td>17850.0</td>\n",
              "      <td>United Kingdom</td>\n",
              "      <td>1.945910</td>\n",
              "      <td>1.479329</td>\n",
              "      <td>0.20</td>\n",
              "      <td>0.454350</td>\n",
              "      <td>-0.219014</td>\n",
              "      <td>0.788737</td>\n",
              "      <td>1</td>\n",
              "      <td>12</td>\n",
              "      <td>2010</td>\n",
              "      <td>Wednesday</td>\n",
              "      <td>08:26:00</td>\n",
              "      <td>20.34</td>\n",
              "    </tr>\n",
              "    <tr>\n",
              "      <th>2</th>\n",
              "      <td>536365</td>\n",
              "      <td>84406B</td>\n",
              "      <td>CREAM CUPID HEARTS COAT HANGER</td>\n",
              "      <td>8</td>\n",
              "      <td>12/1/2010 8:26</td>\n",
              "      <td>2.75</td>\n",
              "      <td>17850.0</td>\n",
              "      <td>United Kingdom</td>\n",
              "      <td>2.197225</td>\n",
              "      <td>1.321756</td>\n",
              "      <td>0.28</td>\n",
              "      <td>0.368548</td>\n",
              "      <td>0.076431</td>\n",
              "      <td>0.370534</td>\n",
              "      <td>1</td>\n",
              "      <td>12</td>\n",
              "      <td>2010</td>\n",
              "      <td>Wednesday</td>\n",
              "      <td>08:26:00</td>\n",
              "      <td>22.00</td>\n",
              "    </tr>\n",
              "    <tr>\n",
              "      <th>3</th>\n",
              "      <td>536365</td>\n",
              "      <td>84029G</td>\n",
              "      <td>KNITTED UNION FLAG HOT WATER BOTTLE</td>\n",
              "      <td>6</td>\n",
              "      <td>12/1/2010 8:26</td>\n",
              "      <td>3.39</td>\n",
              "      <td>17850.0</td>\n",
              "      <td>United Kingdom</td>\n",
              "      <td>1.945910</td>\n",
              "      <td>1.479329</td>\n",
              "      <td>0.20</td>\n",
              "      <td>0.454350</td>\n",
              "      <td>-0.219014</td>\n",
              "      <td>0.788737</td>\n",
              "      <td>1</td>\n",
              "      <td>12</td>\n",
              "      <td>2010</td>\n",
              "      <td>Wednesday</td>\n",
              "      <td>08:26:00</td>\n",
              "      <td>20.34</td>\n",
              "    </tr>\n",
              "    <tr>\n",
              "      <th>4</th>\n",
              "      <td>536365</td>\n",
              "      <td>84029E</td>\n",
              "      <td>RED WOOLLY HOTTIE WHITE HEART.</td>\n",
              "      <td>6</td>\n",
              "      <td>12/1/2010 8:26</td>\n",
              "      <td>3.39</td>\n",
              "      <td>17850.0</td>\n",
              "      <td>United Kingdom</td>\n",
              "      <td>1.945910</td>\n",
              "      <td>1.479329</td>\n",
              "      <td>0.20</td>\n",
              "      <td>0.454350</td>\n",
              "      <td>-0.219014</td>\n",
              "      <td>0.788737</td>\n",
              "      <td>1</td>\n",
              "      <td>12</td>\n",
              "      <td>2010</td>\n",
              "      <td>Wednesday</td>\n",
              "      <td>08:26:00</td>\n",
              "      <td>20.34</td>\n",
              "    </tr>\n",
              "    <tr>\n",
              "      <th>...</th>\n",
              "      <td>...</td>\n",
              "      <td>...</td>\n",
              "      <td>...</td>\n",
              "      <td>...</td>\n",
              "      <td>...</td>\n",
              "      <td>...</td>\n",
              "      <td>...</td>\n",
              "      <td>...</td>\n",
              "      <td>...</td>\n",
              "      <td>...</td>\n",
              "      <td>...</td>\n",
              "      <td>...</td>\n",
              "      <td>...</td>\n",
              "      <td>...</td>\n",
              "      <td>...</td>\n",
              "      <td>...</td>\n",
              "      <td>...</td>\n",
              "      <td>...</td>\n",
              "      <td>...</td>\n",
              "      <td>...</td>\n",
              "    </tr>\n",
              "    <tr>\n",
              "      <th>285415</th>\n",
              "      <td>561903</td>\n",
              "      <td>21901</td>\n",
              "      <td>KEY FOB , BACK DOOR</td>\n",
              "      <td>24</td>\n",
              "      <td>7/31/2011 16:04</td>\n",
              "      <td>0.65</td>\n",
              "      <td>17162.0</td>\n",
              "      <td>United Kingdom</td>\n",
              "      <td>3.218876</td>\n",
              "      <td>0.500775</td>\n",
              "      <td>0.92</td>\n",
              "      <td>0.087009</td>\n",
              "      <td>2.439994</td>\n",
              "      <td>-1.001693</td>\n",
              "      <td>31</td>\n",
              "      <td>7</td>\n",
              "      <td>2011</td>\n",
              "      <td>Sunday</td>\n",
              "      <td>16:04:00</td>\n",
              "      <td>15.60</td>\n",
              "    </tr>\n",
              "    <tr>\n",
              "      <th>285416</th>\n",
              "      <td>561903</td>\n",
              "      <td>21900</td>\n",
              "      <td>KEY FOB , SHED</td>\n",
              "      <td>24</td>\n",
              "      <td>7/31/2011 16:04</td>\n",
              "      <td>0.65</td>\n",
              "      <td>17162.0</td>\n",
              "      <td>United Kingdom</td>\n",
              "      <td>3.218876</td>\n",
              "      <td>0.500775</td>\n",
              "      <td>0.92</td>\n",
              "      <td>0.087009</td>\n",
              "      <td>2.439994</td>\n",
              "      <td>-1.001693</td>\n",
              "      <td>31</td>\n",
              "      <td>7</td>\n",
              "      <td>2011</td>\n",
              "      <td>Sunday</td>\n",
              "      <td>16:04:00</td>\n",
              "      <td>15.60</td>\n",
              "    </tr>\n",
              "    <tr>\n",
              "      <th>285418</th>\n",
              "      <td>561903</td>\n",
              "      <td>85152</td>\n",
              "      <td>HAND OVER THE CHOCOLATE   SIGN</td>\n",
              "      <td>12</td>\n",
              "      <td>7/31/2011 16:04</td>\n",
              "      <td>2.10</td>\n",
              "      <td>17162.0</td>\n",
              "      <td>United Kingdom</td>\n",
              "      <td>2.564949</td>\n",
              "      <td>1.131402</td>\n",
              "      <td>0.44</td>\n",
              "      <td>0.281405</td>\n",
              "      <td>0.667322</td>\n",
              "      <td>-0.054203</td>\n",
              "      <td>31</td>\n",
              "      <td>7</td>\n",
              "      <td>2011</td>\n",
              "      <td>Sunday</td>\n",
              "      <td>16:04:00</td>\n",
              "      <td>25.20</td>\n",
              "    </tr>\n",
              "    <tr>\n",
              "      <th>285419</th>\n",
              "      <td>561903</td>\n",
              "      <td>82600</td>\n",
              "      <td>NO SINGING METAL SIGN</td>\n",
              "      <td>12</td>\n",
              "      <td>7/31/2011 16:04</td>\n",
              "      <td>2.10</td>\n",
              "      <td>17162.0</td>\n",
              "      <td>United Kingdom</td>\n",
              "      <td>2.564949</td>\n",
              "      <td>1.131402</td>\n",
              "      <td>0.44</td>\n",
              "      <td>0.281405</td>\n",
              "      <td>0.667322</td>\n",
              "      <td>-0.054203</td>\n",
              "      <td>31</td>\n",
              "      <td>7</td>\n",
              "      <td>2011</td>\n",
              "      <td>Sunday</td>\n",
              "      <td>16:04:00</td>\n",
              "      <td>25.20</td>\n",
              "    </tr>\n",
              "    <tr>\n",
              "      <th>285420</th>\n",
              "      <td>561903</td>\n",
              "      <td>21175</td>\n",
              "      <td>GIN + TONIC DIET METAL SIGN</td>\n",
              "      <td>12</td>\n",
              "      <td>7/31/2011 16:04</td>\n",
              "      <td>2.55</td>\n",
              "      <td>17162.0</td>\n",
              "      <td>United Kingdom</td>\n",
              "      <td>2.564949</td>\n",
              "      <td>1.266948</td>\n",
              "      <td>0.44</td>\n",
              "      <td>0.341735</td>\n",
              "      <td>0.667322</td>\n",
              "      <td>0.239846</td>\n",
              "      <td>31</td>\n",
              "      <td>7</td>\n",
              "      <td>2011</td>\n",
              "      <td>Sunday</td>\n",
              "      <td>16:04:00</td>\n",
              "      <td>30.60</td>\n",
              "    </tr>\n",
              "  </tbody>\n",
              "</table>\n",
              "<p>166486 rows × 20 columns</p>\n",
              "</div>"
            ],
            "text/plain": [
              "       InvoiceNo StockCode  ...      Time  Sales\n",
              "0         536365    85123A  ...  08:26:00  15.30\n",
              "1         536365     71053  ...  08:26:00  20.34\n",
              "2         536365    84406B  ...  08:26:00  22.00\n",
              "3         536365    84029G  ...  08:26:00  20.34\n",
              "4         536365    84029E  ...  08:26:00  20.34\n",
              "...          ...       ...  ...       ...    ...\n",
              "285415    561903     21901  ...  16:04:00  15.60\n",
              "285416    561903     21900  ...  16:04:00  15.60\n",
              "285418    561903     85152  ...  16:04:00  25.20\n",
              "285419    561903     82600  ...  16:04:00  25.20\n",
              "285420    561903     21175  ...  16:04:00  30.60\n",
              "\n",
              "[166486 rows x 20 columns]"
            ]
          },
          "metadata": {
            "tags": []
          },
          "execution_count": 110
        }
      ]
    },
    {
      "cell_type": "markdown",
      "metadata": {
        "id": "WyKETTcxiEy3"
      },
      "source": [
        "### Final dataset consists data from start of August 2011 till end"
      ]
    },
    {
      "cell_type": "code",
      "metadata": {
        "id": "870fs6Exh8cM",
        "outputId": "fc93888b-e975-4755-82d8-948909dc3165",
        "colab": {
          "base_uri": "https://localhost:8080/",
          "height": 881
        }
      },
      "source": [
        "final_dataset = dataset[((dataset['Month']==8) & (dataset['Year']==2011)) |\n",
        "                        ((dataset['Month']==9) & (dataset['Year']==2011)) | \n",
        "                        ((dataset['Month']==10) & (dataset['Year']==2011)) |\n",
        "                        ((dataset['Month']==11) & (dataset['Year']==2011)) |\n",
        "                        ((dataset['Month']==12) & (dataset['Year']==2011))]\n",
        "\n",
        "final_dataset"
      ],
      "execution_count": 111,
      "outputs": [
        {
          "output_type": "execute_result",
          "data": {
            "text/html": [
              "<div>\n",
              "<style scoped>\n",
              "    .dataframe tbody tr th:only-of-type {\n",
              "        vertical-align: middle;\n",
              "    }\n",
              "\n",
              "    .dataframe tbody tr th {\n",
              "        vertical-align: top;\n",
              "    }\n",
              "\n",
              "    .dataframe thead th {\n",
              "        text-align: right;\n",
              "    }\n",
              "</style>\n",
              "<table border=\"1\" class=\"dataframe\">\n",
              "  <thead>\n",
              "    <tr style=\"text-align: right;\">\n",
              "      <th></th>\n",
              "      <th>InvoiceNo</th>\n",
              "      <th>StockCode</th>\n",
              "      <th>Description</th>\n",
              "      <th>Quantity</th>\n",
              "      <th>InvoiceDate</th>\n",
              "      <th>UnitPrice</th>\n",
              "      <th>CustomerID</th>\n",
              "      <th>Country</th>\n",
              "      <th>Log_Transformed_Quantity</th>\n",
              "      <th>Log_Transformed_UnitPrice</th>\n",
              "      <th>Normalized_Quantity</th>\n",
              "      <th>Normalized_UnitPrice</th>\n",
              "      <th>Standardized_Quantity</th>\n",
              "      <th>Standardized_UnitPrice</th>\n",
              "      <th>Date</th>\n",
              "      <th>Month</th>\n",
              "      <th>Year</th>\n",
              "      <th>Weekday</th>\n",
              "      <th>Time</th>\n",
              "      <th>Sales</th>\n",
              "    </tr>\n",
              "  </thead>\n",
              "  <tbody>\n",
              "    <tr>\n",
              "      <th>285423</th>\n",
              "      <td>561905</td>\n",
              "      <td>21385</td>\n",
              "      <td>IVORY HANGING DECORATION  HEART</td>\n",
              "      <td>24</td>\n",
              "      <td>8/1/2011 9:31</td>\n",
              "      <td>0.85</td>\n",
              "      <td>14947.0</td>\n",
              "      <td>United Kingdom</td>\n",
              "      <td>3.218876</td>\n",
              "      <td>0.615186</td>\n",
              "      <td>0.92</td>\n",
              "      <td>0.113822</td>\n",
              "      <td>2.439994</td>\n",
              "      <td>-0.871005</td>\n",
              "      <td>1</td>\n",
              "      <td>8</td>\n",
              "      <td>2011</td>\n",
              "      <td>Monday</td>\n",
              "      <td>09:31:00</td>\n",
              "      <td>20.40</td>\n",
              "    </tr>\n",
              "    <tr>\n",
              "      <th>285424</th>\n",
              "      <td>561905</td>\n",
              "      <td>84970L</td>\n",
              "      <td>SINGLE HEART ZINC T-LIGHT HOLDER</td>\n",
              "      <td>12</td>\n",
              "      <td>8/1/2011 9:31</td>\n",
              "      <td>0.95</td>\n",
              "      <td>14947.0</td>\n",
              "      <td>United Kingdom</td>\n",
              "      <td>2.564949</td>\n",
              "      <td>0.667829</td>\n",
              "      <td>0.44</td>\n",
              "      <td>0.127229</td>\n",
              "      <td>0.667322</td>\n",
              "      <td>-0.805661</td>\n",
              "      <td>1</td>\n",
              "      <td>8</td>\n",
              "      <td>2011</td>\n",
              "      <td>Monday</td>\n",
              "      <td>09:31:00</td>\n",
              "      <td>11.40</td>\n",
              "    </tr>\n",
              "    <tr>\n",
              "      <th>285425</th>\n",
              "      <td>561905</td>\n",
              "      <td>84970S</td>\n",
              "      <td>HANGING HEART ZINC T-LIGHT HOLDER</td>\n",
              "      <td>12</td>\n",
              "      <td>8/1/2011 9:31</td>\n",
              "      <td>0.85</td>\n",
              "      <td>14947.0</td>\n",
              "      <td>United Kingdom</td>\n",
              "      <td>2.564949</td>\n",
              "      <td>0.615186</td>\n",
              "      <td>0.44</td>\n",
              "      <td>0.113822</td>\n",
              "      <td>0.667322</td>\n",
              "      <td>-0.871005</td>\n",
              "      <td>1</td>\n",
              "      <td>8</td>\n",
              "      <td>2011</td>\n",
              "      <td>Monday</td>\n",
              "      <td>09:31:00</td>\n",
              "      <td>10.20</td>\n",
              "    </tr>\n",
              "    <tr>\n",
              "      <th>285426</th>\n",
              "      <td>561905</td>\n",
              "      <td>84978</td>\n",
              "      <td>HANGING HEART JAR T-LIGHT HOLDER</td>\n",
              "      <td>12</td>\n",
              "      <td>8/1/2011 9:31</td>\n",
              "      <td>1.25</td>\n",
              "      <td>14947.0</td>\n",
              "      <td>United Kingdom</td>\n",
              "      <td>2.564949</td>\n",
              "      <td>0.810930</td>\n",
              "      <td>0.44</td>\n",
              "      <td>0.167449</td>\n",
              "      <td>0.667322</td>\n",
              "      <td>-0.609628</td>\n",
              "      <td>1</td>\n",
              "      <td>8</td>\n",
              "      <td>2011</td>\n",
              "      <td>Monday</td>\n",
              "      <td>09:31:00</td>\n",
              "      <td>15.00</td>\n",
              "    </tr>\n",
              "    <tr>\n",
              "      <th>285427</th>\n",
              "      <td>561905</td>\n",
              "      <td>21754</td>\n",
              "      <td>HOME BUILDING BLOCK WORD</td>\n",
              "      <td>3</td>\n",
              "      <td>8/1/2011 9:31</td>\n",
              "      <td>5.95</td>\n",
              "      <td>14947.0</td>\n",
              "      <td>United Kingdom</td>\n",
              "      <td>1.386294</td>\n",
              "      <td>1.938742</td>\n",
              "      <td>0.08</td>\n",
              "      <td>0.797560</td>\n",
              "      <td>-0.662182</td>\n",
              "      <td>2.461548</td>\n",
              "      <td>1</td>\n",
              "      <td>8</td>\n",
              "      <td>2011</td>\n",
              "      <td>Monday</td>\n",
              "      <td>09:31:00</td>\n",
              "      <td>17.85</td>\n",
              "    </tr>\n",
              "    <tr>\n",
              "      <th>...</th>\n",
              "      <td>...</td>\n",
              "      <td>...</td>\n",
              "      <td>...</td>\n",
              "      <td>...</td>\n",
              "      <td>...</td>\n",
              "      <td>...</td>\n",
              "      <td>...</td>\n",
              "      <td>...</td>\n",
              "      <td>...</td>\n",
              "      <td>...</td>\n",
              "      <td>...</td>\n",
              "      <td>...</td>\n",
              "      <td>...</td>\n",
              "      <td>...</td>\n",
              "      <td>...</td>\n",
              "      <td>...</td>\n",
              "      <td>...</td>\n",
              "      <td>...</td>\n",
              "      <td>...</td>\n",
              "      <td>...</td>\n",
              "    </tr>\n",
              "    <tr>\n",
              "      <th>541904</th>\n",
              "      <td>581587</td>\n",
              "      <td>22613</td>\n",
              "      <td>PACK OF 20 SPACEBOY NAPKINS</td>\n",
              "      <td>12</td>\n",
              "      <td>12/9/2011 12:50</td>\n",
              "      <td>0.85</td>\n",
              "      <td>12680.0</td>\n",
              "      <td>France</td>\n",
              "      <td>2.564949</td>\n",
              "      <td>0.615186</td>\n",
              "      <td>0.44</td>\n",
              "      <td>0.113822</td>\n",
              "      <td>0.667322</td>\n",
              "      <td>-0.871005</td>\n",
              "      <td>9</td>\n",
              "      <td>12</td>\n",
              "      <td>2011</td>\n",
              "      <td>Friday</td>\n",
              "      <td>12:50:00</td>\n",
              "      <td>10.20</td>\n",
              "    </tr>\n",
              "    <tr>\n",
              "      <th>541905</th>\n",
              "      <td>581587</td>\n",
              "      <td>22899</td>\n",
              "      <td>CHILDREN'S APRON DOLLY GIRL</td>\n",
              "      <td>6</td>\n",
              "      <td>12/9/2011 12:50</td>\n",
              "      <td>2.10</td>\n",
              "      <td>12680.0</td>\n",
              "      <td>France</td>\n",
              "      <td>1.945910</td>\n",
              "      <td>1.131402</td>\n",
              "      <td>0.20</td>\n",
              "      <td>0.281405</td>\n",
              "      <td>-0.219014</td>\n",
              "      <td>-0.054203</td>\n",
              "      <td>9</td>\n",
              "      <td>12</td>\n",
              "      <td>2011</td>\n",
              "      <td>Friday</td>\n",
              "      <td>12:50:00</td>\n",
              "      <td>12.60</td>\n",
              "    </tr>\n",
              "    <tr>\n",
              "      <th>541906</th>\n",
              "      <td>581587</td>\n",
              "      <td>23254</td>\n",
              "      <td>CHILDRENS CUTLERY DOLLY GIRL</td>\n",
              "      <td>4</td>\n",
              "      <td>12/9/2011 12:50</td>\n",
              "      <td>4.15</td>\n",
              "      <td>12680.0</td>\n",
              "      <td>France</td>\n",
              "      <td>1.609438</td>\n",
              "      <td>1.638997</td>\n",
              "      <td>0.12</td>\n",
              "      <td>0.556241</td>\n",
              "      <td>-0.514460</td>\n",
              "      <td>1.285353</td>\n",
              "      <td>9</td>\n",
              "      <td>12</td>\n",
              "      <td>2011</td>\n",
              "      <td>Friday</td>\n",
              "      <td>12:50:00</td>\n",
              "      <td>16.60</td>\n",
              "    </tr>\n",
              "    <tr>\n",
              "      <th>541907</th>\n",
              "      <td>581587</td>\n",
              "      <td>23255</td>\n",
              "      <td>CHILDRENS CUTLERY CIRCUS PARADE</td>\n",
              "      <td>4</td>\n",
              "      <td>12/9/2011 12:50</td>\n",
              "      <td>4.15</td>\n",
              "      <td>12680.0</td>\n",
              "      <td>France</td>\n",
              "      <td>1.609438</td>\n",
              "      <td>1.638997</td>\n",
              "      <td>0.12</td>\n",
              "      <td>0.556241</td>\n",
              "      <td>-0.514460</td>\n",
              "      <td>1.285353</td>\n",
              "      <td>9</td>\n",
              "      <td>12</td>\n",
              "      <td>2011</td>\n",
              "      <td>Friday</td>\n",
              "      <td>12:50:00</td>\n",
              "      <td>16.60</td>\n",
              "    </tr>\n",
              "    <tr>\n",
              "      <th>541908</th>\n",
              "      <td>581587</td>\n",
              "      <td>22138</td>\n",
              "      <td>BAKING SET 9 PIECE RETROSPOT</td>\n",
              "      <td>3</td>\n",
              "      <td>12/9/2011 12:50</td>\n",
              "      <td>4.95</td>\n",
              "      <td>12680.0</td>\n",
              "      <td>France</td>\n",
              "      <td>1.386294</td>\n",
              "      <td>1.783391</td>\n",
              "      <td>0.08</td>\n",
              "      <td>0.663494</td>\n",
              "      <td>-0.662182</td>\n",
              "      <td>1.808106</td>\n",
              "      <td>9</td>\n",
              "      <td>12</td>\n",
              "      <td>2011</td>\n",
              "      <td>Friday</td>\n",
              "      <td>12:50:00</td>\n",
              "      <td>14.85</td>\n",
              "    </tr>\n",
              "  </tbody>\n",
              "</table>\n",
              "<p>171041 rows × 20 columns</p>\n",
              "</div>"
            ],
            "text/plain": [
              "       InvoiceNo StockCode  ...      Time  Sales\n",
              "285423    561905     21385  ...  09:31:00  20.40\n",
              "285424    561905    84970L  ...  09:31:00  11.40\n",
              "285425    561905    84970S  ...  09:31:00  10.20\n",
              "285426    561905     84978  ...  09:31:00  15.00\n",
              "285427    561905     21754  ...  09:31:00  17.85\n",
              "...          ...       ...  ...       ...    ...\n",
              "541904    581587     22613  ...  12:50:00  10.20\n",
              "541905    581587     22899  ...  12:50:00  12.60\n",
              "541906    581587     23254  ...  12:50:00  16.60\n",
              "541907    581587     23255  ...  12:50:00  16.60\n",
              "541908    581587     22138  ...  12:50:00  14.85\n",
              "\n",
              "[171041 rows x 20 columns]"
            ]
          },
          "metadata": {
            "tags": []
          },
          "execution_count": 111
        }
      ]
    },
    {
      "cell_type": "markdown",
      "metadata": {
        "id": "jGeG0NiKiXD4"
      },
      "source": [
        "## Finding the frequency of each customers during start of December 2010 to end of July 2011 "
      ]
    },
    {
      "cell_type": "code",
      "metadata": {
        "id": "JWtbGcqGiNZp",
        "outputId": "37540268-bb49-4f4c-c01d-6cfb7f3a4f3c",
        "colab": {
          "base_uri": "https://localhost:8080/"
        }
      },
      "source": [
        "initial_frequency = initial_dataset.groupby('CustomerID')['InvoiceNo'].nunique()\n",
        "\n",
        "initial_frequency"
      ],
      "execution_count": 112,
      "outputs": [
        {
          "output_type": "execute_result",
          "data": {
            "text/plain": [
              "CustomerID\n",
              "12347.0    4\n",
              "12348.0    3\n",
              "12350.0    1\n",
              "12352.0    4\n",
              "12353.0    1\n",
              "          ..\n",
              "18273.0    1\n",
              "18280.0    1\n",
              "18281.0    1\n",
              "18283.0    9\n",
              "18287.0    1\n",
              "Name: InvoiceNo, Length: 3022, dtype: int64"
            ]
          },
          "metadata": {
            "tags": []
          },
          "execution_count": 112
        }
      ]
    },
    {
      "cell_type": "code",
      "metadata": {
        "id": "bxs36X-CixrQ",
        "outputId": "ef6521e9-baa5-4f3d-a712-a4076630ef87",
        "colab": {
          "base_uri": "https://localhost:8080/",
          "height": 419
        }
      },
      "source": [
        "initial_frequency_table = pd.DataFrame({'CustomerID': initial_dataset['CustomerID'].unique()})\n",
        "\n",
        "initial_frequency_table = initial_frequency_table.sort_values('CustomerID').reset_index()\n",
        "\n",
        "del initial_frequency_table['index']\n",
        "\n",
        "initial_frequency_table"
      ],
      "execution_count": 113,
      "outputs": [
        {
          "output_type": "execute_result",
          "data": {
            "text/html": [
              "<div>\n",
              "<style scoped>\n",
              "    .dataframe tbody tr th:only-of-type {\n",
              "        vertical-align: middle;\n",
              "    }\n",
              "\n",
              "    .dataframe tbody tr th {\n",
              "        vertical-align: top;\n",
              "    }\n",
              "\n",
              "    .dataframe thead th {\n",
              "        text-align: right;\n",
              "    }\n",
              "</style>\n",
              "<table border=\"1\" class=\"dataframe\">\n",
              "  <thead>\n",
              "    <tr style=\"text-align: right;\">\n",
              "      <th></th>\n",
              "      <th>CustomerID</th>\n",
              "    </tr>\n",
              "  </thead>\n",
              "  <tbody>\n",
              "    <tr>\n",
              "      <th>0</th>\n",
              "      <td>12347.0</td>\n",
              "    </tr>\n",
              "    <tr>\n",
              "      <th>1</th>\n",
              "      <td>12348.0</td>\n",
              "    </tr>\n",
              "    <tr>\n",
              "      <th>2</th>\n",
              "      <td>12350.0</td>\n",
              "    </tr>\n",
              "    <tr>\n",
              "      <th>3</th>\n",
              "      <td>12352.0</td>\n",
              "    </tr>\n",
              "    <tr>\n",
              "      <th>4</th>\n",
              "      <td>12353.0</td>\n",
              "    </tr>\n",
              "    <tr>\n",
              "      <th>...</th>\n",
              "      <td>...</td>\n",
              "    </tr>\n",
              "    <tr>\n",
              "      <th>3017</th>\n",
              "      <td>18273.0</td>\n",
              "    </tr>\n",
              "    <tr>\n",
              "      <th>3018</th>\n",
              "      <td>18280.0</td>\n",
              "    </tr>\n",
              "    <tr>\n",
              "      <th>3019</th>\n",
              "      <td>18281.0</td>\n",
              "    </tr>\n",
              "    <tr>\n",
              "      <th>3020</th>\n",
              "      <td>18283.0</td>\n",
              "    </tr>\n",
              "    <tr>\n",
              "      <th>3021</th>\n",
              "      <td>18287.0</td>\n",
              "    </tr>\n",
              "  </tbody>\n",
              "</table>\n",
              "<p>3022 rows × 1 columns</p>\n",
              "</div>"
            ],
            "text/plain": [
              "      CustomerID\n",
              "0        12347.0\n",
              "1        12348.0\n",
              "2        12350.0\n",
              "3        12352.0\n",
              "4        12353.0\n",
              "...          ...\n",
              "3017     18273.0\n",
              "3018     18280.0\n",
              "3019     18281.0\n",
              "3020     18283.0\n",
              "3021     18287.0\n",
              "\n",
              "[3022 rows x 1 columns]"
            ]
          },
          "metadata": {
            "tags": []
          },
          "execution_count": 113
        }
      ]
    },
    {
      "cell_type": "code",
      "metadata": {
        "id": "ZKskbgVmjjbe",
        "outputId": "050f5e5a-d48f-468c-be69-e300ee2535ba",
        "colab": {
          "base_uri": "https://localhost:8080/",
          "height": 359
        }
      },
      "source": [
        "initial_frequency_table = pd.merge(initial_frequency_table, initial_frequency, on='CustomerID')\n",
        "\n",
        "initial_frequency_table.head(10)"
      ],
      "execution_count": 114,
      "outputs": [
        {
          "output_type": "execute_result",
          "data": {
            "text/html": [
              "<div>\n",
              "<style scoped>\n",
              "    .dataframe tbody tr th:only-of-type {\n",
              "        vertical-align: middle;\n",
              "    }\n",
              "\n",
              "    .dataframe tbody tr th {\n",
              "        vertical-align: top;\n",
              "    }\n",
              "\n",
              "    .dataframe thead th {\n",
              "        text-align: right;\n",
              "    }\n",
              "</style>\n",
              "<table border=\"1\" class=\"dataframe\">\n",
              "  <thead>\n",
              "    <tr style=\"text-align: right;\">\n",
              "      <th></th>\n",
              "      <th>CustomerID</th>\n",
              "      <th>InvoiceNo</th>\n",
              "    </tr>\n",
              "  </thead>\n",
              "  <tbody>\n",
              "    <tr>\n",
              "      <th>0</th>\n",
              "      <td>12347.0</td>\n",
              "      <td>4</td>\n",
              "    </tr>\n",
              "    <tr>\n",
              "      <th>1</th>\n",
              "      <td>12348.0</td>\n",
              "      <td>3</td>\n",
              "    </tr>\n",
              "    <tr>\n",
              "      <th>2</th>\n",
              "      <td>12350.0</td>\n",
              "      <td>1</td>\n",
              "    </tr>\n",
              "    <tr>\n",
              "      <th>3</th>\n",
              "      <td>12352.0</td>\n",
              "      <td>4</td>\n",
              "    </tr>\n",
              "    <tr>\n",
              "      <th>4</th>\n",
              "      <td>12353.0</td>\n",
              "      <td>1</td>\n",
              "    </tr>\n",
              "    <tr>\n",
              "      <th>5</th>\n",
              "      <td>12354.0</td>\n",
              "      <td>1</td>\n",
              "    </tr>\n",
              "    <tr>\n",
              "      <th>6</th>\n",
              "      <td>12355.0</td>\n",
              "      <td>1</td>\n",
              "    </tr>\n",
              "    <tr>\n",
              "      <th>7</th>\n",
              "      <td>12356.0</td>\n",
              "      <td>2</td>\n",
              "    </tr>\n",
              "    <tr>\n",
              "      <th>8</th>\n",
              "      <td>12358.0</td>\n",
              "      <td>1</td>\n",
              "    </tr>\n",
              "    <tr>\n",
              "      <th>9</th>\n",
              "      <td>12359.0</td>\n",
              "      <td>3</td>\n",
              "    </tr>\n",
              "  </tbody>\n",
              "</table>\n",
              "</div>"
            ],
            "text/plain": [
              "   CustomerID  InvoiceNo\n",
              "0     12347.0          4\n",
              "1     12348.0          3\n",
              "2     12350.0          1\n",
              "3     12352.0          4\n",
              "4     12353.0          1\n",
              "5     12354.0          1\n",
              "6     12355.0          1\n",
              "7     12356.0          2\n",
              "8     12358.0          1\n",
              "9     12359.0          3"
            ]
          },
          "metadata": {
            "tags": []
          },
          "execution_count": 114
        }
      ]
    },
    {
      "cell_type": "code",
      "metadata": {
        "id": "jOzTGMrnjwNo",
        "outputId": "0a276c41-9183-4811-d623-c5a2a3012826",
        "colab": {
          "base_uri": "https://localhost:8080/",
          "height": 419
        }
      },
      "source": [
        "initial_frequency_table.rename(columns={'InvoiceNo': 'Initial_frequency'}, inplace=True)\n",
        "\n",
        "initial_frequency_table"
      ],
      "execution_count": 115,
      "outputs": [
        {
          "output_type": "execute_result",
          "data": {
            "text/html": [
              "<div>\n",
              "<style scoped>\n",
              "    .dataframe tbody tr th:only-of-type {\n",
              "        vertical-align: middle;\n",
              "    }\n",
              "\n",
              "    .dataframe tbody tr th {\n",
              "        vertical-align: top;\n",
              "    }\n",
              "\n",
              "    .dataframe thead th {\n",
              "        text-align: right;\n",
              "    }\n",
              "</style>\n",
              "<table border=\"1\" class=\"dataframe\">\n",
              "  <thead>\n",
              "    <tr style=\"text-align: right;\">\n",
              "      <th></th>\n",
              "      <th>CustomerID</th>\n",
              "      <th>Initial_frequency</th>\n",
              "    </tr>\n",
              "  </thead>\n",
              "  <tbody>\n",
              "    <tr>\n",
              "      <th>0</th>\n",
              "      <td>12347.0</td>\n",
              "      <td>4</td>\n",
              "    </tr>\n",
              "    <tr>\n",
              "      <th>1</th>\n",
              "      <td>12348.0</td>\n",
              "      <td>3</td>\n",
              "    </tr>\n",
              "    <tr>\n",
              "      <th>2</th>\n",
              "      <td>12350.0</td>\n",
              "      <td>1</td>\n",
              "    </tr>\n",
              "    <tr>\n",
              "      <th>3</th>\n",
              "      <td>12352.0</td>\n",
              "      <td>4</td>\n",
              "    </tr>\n",
              "    <tr>\n",
              "      <th>4</th>\n",
              "      <td>12353.0</td>\n",
              "      <td>1</td>\n",
              "    </tr>\n",
              "    <tr>\n",
              "      <th>...</th>\n",
              "      <td>...</td>\n",
              "      <td>...</td>\n",
              "    </tr>\n",
              "    <tr>\n",
              "      <th>3017</th>\n",
              "      <td>18273.0</td>\n",
              "      <td>1</td>\n",
              "    </tr>\n",
              "    <tr>\n",
              "      <th>3018</th>\n",
              "      <td>18280.0</td>\n",
              "      <td>1</td>\n",
              "    </tr>\n",
              "    <tr>\n",
              "      <th>3019</th>\n",
              "      <td>18281.0</td>\n",
              "      <td>1</td>\n",
              "    </tr>\n",
              "    <tr>\n",
              "      <th>3020</th>\n",
              "      <td>18283.0</td>\n",
              "      <td>9</td>\n",
              "    </tr>\n",
              "    <tr>\n",
              "      <th>3021</th>\n",
              "      <td>18287.0</td>\n",
              "      <td>1</td>\n",
              "    </tr>\n",
              "  </tbody>\n",
              "</table>\n",
              "<p>3022 rows × 2 columns</p>\n",
              "</div>"
            ],
            "text/plain": [
              "      CustomerID  Initial_frequency\n",
              "0        12347.0                  4\n",
              "1        12348.0                  3\n",
              "2        12350.0                  1\n",
              "3        12352.0                  4\n",
              "4        12353.0                  1\n",
              "...          ...                ...\n",
              "3017     18273.0                  1\n",
              "3018     18280.0                  1\n",
              "3019     18281.0                  1\n",
              "3020     18283.0                  9\n",
              "3021     18287.0                  1\n",
              "\n",
              "[3022 rows x 2 columns]"
            ]
          },
          "metadata": {
            "tags": []
          },
          "execution_count": 115
        }
      ]
    },
    {
      "cell_type": "code",
      "metadata": {
        "id": "0gsqyHKjkAoZ",
        "outputId": "95a4f673-5716-4a66-c6a1-1fcd9ccde16a",
        "colab": {
          "base_uri": "https://localhost:8080/"
        }
      },
      "source": [
        "initial_frequency_table['Initial_frequency'].describe()"
      ],
      "execution_count": 116,
      "outputs": [
        {
          "output_type": "execute_result",
          "data": {
            "text/plain": [
              "count    3022.000000\n",
              "mean        3.034083\n",
              "std         4.699563\n",
              "min         1.000000\n",
              "25%         1.000000\n",
              "50%         2.000000\n",
              "75%         3.000000\n",
              "max       108.000000\n",
              "Name: Initial_frequency, dtype: float64"
            ]
          },
          "metadata": {
            "tags": []
          },
          "execution_count": 116
        }
      ]
    },
    {
      "cell_type": "markdown",
      "metadata": {
        "id": "hXdQ0vSUkJm_"
      },
      "source": [
        "## Finding the frequency of each customers during start of August 2011 to end of dataset"
      ]
    },
    {
      "cell_type": "code",
      "metadata": {
        "id": "Lodv9u1dkFK3",
        "outputId": "0e947b8d-0955-43c3-96f2-7238aa010342",
        "colab": {
          "base_uri": "https://localhost:8080/"
        }
      },
      "source": [
        "final_frequency = final_dataset.groupby('CustomerID')['InvoiceNo'].nunique()\n",
        "\n",
        "final_frequency"
      ],
      "execution_count": 117,
      "outputs": [
        {
          "output_type": "execute_result",
          "data": {
            "text/plain": [
              "CustomerID\n",
              "12347.0    3\n",
              "12349.0    1\n",
              "12352.0    3\n",
              "12357.0    1\n",
              "12358.0    1\n",
              "          ..\n",
              "18277.0    1\n",
              "18278.0    1\n",
              "18282.0    2\n",
              "18283.0    7\n",
              "18287.0    2\n",
              "Name: InvoiceNo, Length: 3070, dtype: int64"
            ]
          },
          "metadata": {
            "tags": []
          },
          "execution_count": 117
        }
      ]
    },
    {
      "cell_type": "code",
      "metadata": {
        "id": "6fZPtZvCkdlj",
        "outputId": "0e211fe2-afe4-472e-c024-3c21face9739",
        "colab": {
          "base_uri": "https://localhost:8080/",
          "height": 419
        }
      },
      "source": [
        "final_frequency_table = pd.DataFrame({'CustomerID': final_dataset['CustomerID'].unique()})\n",
        "\n",
        "final_frequency_table = final_frequency_table.sort_values('CustomerID').reset_index()\n",
        "\n",
        "del final_frequency_table['index']\n",
        "\n",
        "final_frequency_table"
      ],
      "execution_count": 119,
      "outputs": [
        {
          "output_type": "execute_result",
          "data": {
            "text/html": [
              "<div>\n",
              "<style scoped>\n",
              "    .dataframe tbody tr th:only-of-type {\n",
              "        vertical-align: middle;\n",
              "    }\n",
              "\n",
              "    .dataframe tbody tr th {\n",
              "        vertical-align: top;\n",
              "    }\n",
              "\n",
              "    .dataframe thead th {\n",
              "        text-align: right;\n",
              "    }\n",
              "</style>\n",
              "<table border=\"1\" class=\"dataframe\">\n",
              "  <thead>\n",
              "    <tr style=\"text-align: right;\">\n",
              "      <th></th>\n",
              "      <th>CustomerID</th>\n",
              "    </tr>\n",
              "  </thead>\n",
              "  <tbody>\n",
              "    <tr>\n",
              "      <th>0</th>\n",
              "      <td>12347.0</td>\n",
              "    </tr>\n",
              "    <tr>\n",
              "      <th>1</th>\n",
              "      <td>12349.0</td>\n",
              "    </tr>\n",
              "    <tr>\n",
              "      <th>2</th>\n",
              "      <td>12352.0</td>\n",
              "    </tr>\n",
              "    <tr>\n",
              "      <th>3</th>\n",
              "      <td>12357.0</td>\n",
              "    </tr>\n",
              "    <tr>\n",
              "      <th>4</th>\n",
              "      <td>12358.0</td>\n",
              "    </tr>\n",
              "    <tr>\n",
              "      <th>...</th>\n",
              "      <td>...</td>\n",
              "    </tr>\n",
              "    <tr>\n",
              "      <th>3065</th>\n",
              "      <td>18277.0</td>\n",
              "    </tr>\n",
              "    <tr>\n",
              "      <th>3066</th>\n",
              "      <td>18278.0</td>\n",
              "    </tr>\n",
              "    <tr>\n",
              "      <th>3067</th>\n",
              "      <td>18282.0</td>\n",
              "    </tr>\n",
              "    <tr>\n",
              "      <th>3068</th>\n",
              "      <td>18283.0</td>\n",
              "    </tr>\n",
              "    <tr>\n",
              "      <th>3069</th>\n",
              "      <td>18287.0</td>\n",
              "    </tr>\n",
              "  </tbody>\n",
              "</table>\n",
              "<p>3070 rows × 1 columns</p>\n",
              "</div>"
            ],
            "text/plain": [
              "      CustomerID\n",
              "0        12347.0\n",
              "1        12349.0\n",
              "2        12352.0\n",
              "3        12357.0\n",
              "4        12358.0\n",
              "...          ...\n",
              "3065     18277.0\n",
              "3066     18278.0\n",
              "3067     18282.0\n",
              "3068     18283.0\n",
              "3069     18287.0\n",
              "\n",
              "[3070 rows x 1 columns]"
            ]
          },
          "metadata": {
            "tags": []
          },
          "execution_count": 119
        }
      ]
    },
    {
      "cell_type": "code",
      "metadata": {
        "id": "8r272Aa7k34z",
        "outputId": "14d846b4-a1ef-4e0c-eddf-86f532aefc78",
        "colab": {
          "base_uri": "https://localhost:8080/",
          "height": 419
        }
      },
      "source": [
        "final_frequency_table = pd.merge(final_frequency_table, final_frequency, on='CustomerID')\n",
        "\n",
        "final_frequency_table.rename(columns={'InvoiceNo': 'Final_frequency'}, inplace=True)\n",
        "\n",
        "final_frequency_table"
      ],
      "execution_count": 120,
      "outputs": [
        {
          "output_type": "execute_result",
          "data": {
            "text/html": [
              "<div>\n",
              "<style scoped>\n",
              "    .dataframe tbody tr th:only-of-type {\n",
              "        vertical-align: middle;\n",
              "    }\n",
              "\n",
              "    .dataframe tbody tr th {\n",
              "        vertical-align: top;\n",
              "    }\n",
              "\n",
              "    .dataframe thead th {\n",
              "        text-align: right;\n",
              "    }\n",
              "</style>\n",
              "<table border=\"1\" class=\"dataframe\">\n",
              "  <thead>\n",
              "    <tr style=\"text-align: right;\">\n",
              "      <th></th>\n",
              "      <th>CustomerID</th>\n",
              "      <th>Final_frequency</th>\n",
              "    </tr>\n",
              "  </thead>\n",
              "  <tbody>\n",
              "    <tr>\n",
              "      <th>0</th>\n",
              "      <td>12347.0</td>\n",
              "      <td>3</td>\n",
              "    </tr>\n",
              "    <tr>\n",
              "      <th>1</th>\n",
              "      <td>12349.0</td>\n",
              "      <td>1</td>\n",
              "    </tr>\n",
              "    <tr>\n",
              "      <th>2</th>\n",
              "      <td>12352.0</td>\n",
              "      <td>3</td>\n",
              "    </tr>\n",
              "    <tr>\n",
              "      <th>3</th>\n",
              "      <td>12357.0</td>\n",
              "      <td>1</td>\n",
              "    </tr>\n",
              "    <tr>\n",
              "      <th>4</th>\n",
              "      <td>12358.0</td>\n",
              "      <td>1</td>\n",
              "    </tr>\n",
              "    <tr>\n",
              "      <th>...</th>\n",
              "      <td>...</td>\n",
              "      <td>...</td>\n",
              "    </tr>\n",
              "    <tr>\n",
              "      <th>3065</th>\n",
              "      <td>18277.0</td>\n",
              "      <td>1</td>\n",
              "    </tr>\n",
              "    <tr>\n",
              "      <th>3066</th>\n",
              "      <td>18278.0</td>\n",
              "      <td>1</td>\n",
              "    </tr>\n",
              "    <tr>\n",
              "      <th>3067</th>\n",
              "      <td>18282.0</td>\n",
              "      <td>2</td>\n",
              "    </tr>\n",
              "    <tr>\n",
              "      <th>3068</th>\n",
              "      <td>18283.0</td>\n",
              "      <td>7</td>\n",
              "    </tr>\n",
              "    <tr>\n",
              "      <th>3069</th>\n",
              "      <td>18287.0</td>\n",
              "      <td>2</td>\n",
              "    </tr>\n",
              "  </tbody>\n",
              "</table>\n",
              "<p>3070 rows × 2 columns</p>\n",
              "</div>"
            ],
            "text/plain": [
              "      CustomerID  Final_frequency\n",
              "0        12347.0                3\n",
              "1        12349.0                1\n",
              "2        12352.0                3\n",
              "3        12357.0                1\n",
              "4        12358.0                1\n",
              "...          ...              ...\n",
              "3065     18277.0                1\n",
              "3066     18278.0                1\n",
              "3067     18282.0                2\n",
              "3068     18283.0                7\n",
              "3069     18287.0                2\n",
              "\n",
              "[3070 rows x 2 columns]"
            ]
          },
          "metadata": {
            "tags": []
          },
          "execution_count": 120
        }
      ]
    },
    {
      "cell_type": "code",
      "metadata": {
        "id": "zBZeHQ8OlUay",
        "outputId": "df148cb2-0fa7-4a8d-c86a-c2d68d02ddf6",
        "colab": {
          "base_uri": "https://localhost:8080/"
        }
      },
      "source": [
        "final_frequency_table['Final_frequency'].describe()"
      ],
      "execution_count": 121,
      "outputs": [
        {
          "output_type": "execute_result",
          "data": {
            "text/plain": [
              "count    3070.000000\n",
              "mean        2.492182\n",
              "std         3.514125\n",
              "min         1.000000\n",
              "25%         1.000000\n",
              "50%         2.000000\n",
              "75%         3.000000\n",
              "max       101.000000\n",
              "Name: Final_frequency, dtype: float64"
            ]
          },
          "metadata": {
            "tags": []
          },
          "execution_count": 121
        }
      ]
    },
    {
      "cell_type": "markdown",
      "metadata": {
        "id": "JlOLLxBXld37"
      },
      "source": [
        "## Checking for customers who used to shop before but have stopped shopping from last 4 months"
      ]
    },
    {
      "cell_type": "code",
      "metadata": {
        "id": "ULB16FzolbZW"
      },
      "source": [
        "a = np.array(initial_frequency_table['CustomerID'])\n",
        "b = np.array(final_frequency_table['CustomerID'])"
      ],
      "execution_count": 122,
      "outputs": []
    },
    {
      "cell_type": "markdown",
      "metadata": {
        "id": "CW5rUiIJmUSo"
      },
      "source": [
        "### Churned customers"
      ]
    },
    {
      "cell_type": "code",
      "metadata": {
        "id": "BU7mKUfKmKpV",
        "outputId": "73bd7503-f3d7-4520-951f-c7ebaea34851",
        "colab": {
          "base_uri": "https://localhost:8080/"
        }
      },
      "source": [
        "c = np.setdiff1d(a, b)\n",
        "print(len(c), c)"
      ],
      "execution_count": 124,
      "outputs": [
        {
          "output_type": "stream",
          "text": [
            "1120 [12348. 12350. 12353. ... 18269. 18280. 18281.]\n"
          ],
          "name": "stdout"
        }
      ]
    },
    {
      "cell_type": "markdown",
      "metadata": {
        "id": "lo32zT3Xmibv"
      },
      "source": [
        "### Unchurned customers"
      ]
    },
    {
      "cell_type": "code",
      "metadata": {
        "id": "_N11CIHBmd-D",
        "outputId": "3b3f1c71-d6d8-4876-9f62-c4fac9484cea",
        "colab": {
          "base_uri": "https://localhost:8080/"
        }
      },
      "source": [
        "d = np.intersect1d(a, b)\n",
        "print(len(d), d)"
      ],
      "execution_count": 125,
      "outputs": [
        {
          "output_type": "stream",
          "text": [
            "1902 [12347. 12352. 12358. ... 18273. 18283. 18287.]\n"
          ],
          "name": "stdout"
        }
      ]
    },
    {
      "cell_type": "code",
      "metadata": {
        "id": "YD0MMLzpmqjU",
        "outputId": "fd4189e0-68ae-48b1-e6d1-1183aa07e432",
        "colab": {
          "base_uri": "https://localhost:8080/"
        }
      },
      "source": [
        "e = np.setdiff1d(b, a)\n",
        "print(len(e), e)"
      ],
      "execution_count": 126,
      "outputs": [
        {
          "output_type": "stream",
          "text": [
            "1168 [12349. 12357. 12364. ... 18277. 18278. 18282.]\n"
          ],
          "name": "stdout"
        }
      ]
    },
    {
      "cell_type": "code",
      "metadata": {
        "id": "8RwYMGbim-rg"
      },
      "source": [
        "list1 = []\n",
        "for i in range(len(c)):\n",
        "  list1.append('CHURN')"
      ],
      "execution_count": 127,
      "outputs": []
    },
    {
      "cell_type": "code",
      "metadata": {
        "id": "XTH0OKVGnNeY"
      },
      "source": [
        "list2 = []\n",
        "for i in range(len(d)):\n",
        "  list2.append('NOT CHURN')"
      ],
      "execution_count": 128,
      "outputs": []
    },
    {
      "cell_type": "code",
      "metadata": {
        "id": "zcvmjs_snTrO"
      },
      "source": [
        "list3 = []\n",
        "for i in range(len(e)):\n",
        "  list3.append('NOT CHURN')"
      ],
      "execution_count": 129,
      "outputs": []
    },
    {
      "cell_type": "code",
      "metadata": {
        "id": "PSwhMCwGnbRR"
      },
      "source": [
        "dict1 = dict(zip(c, list1))\n",
        "dict2 = dict(zip(d, list2))\n",
        "churn_dict = dict(zip(e, list3))\n",
        "\n",
        "dict2.update(dict1)\n",
        "churn_dict.update(dict2)"
      ],
      "execution_count": 130,
      "outputs": []
    },
    {
      "cell_type": "code",
      "metadata": {
        "id": "4Jjrnl9coB9j",
        "outputId": "b775ba23-613d-414f-8046-49893457df9d",
        "colab": {
          "base_uri": "https://localhost:8080/"
        }
      },
      "source": [
        "from collections import OrderedDict\n",
        "\n",
        "churn_dictionary = OrderedDict(sorted(churn_dict.items()))\n",
        "\n",
        "churn_dictionary"
      ],
      "execution_count": 132,
      "outputs": [
        {
          "output_type": "execute_result",
          "data": {
            "text/plain": [
              "OrderedDict([(12347.0, 'NOT CHURN'),\n",
              "             (12348.0, 'CHURN'),\n",
              "             (12349.0, 'NOT CHURN'),\n",
              "             (12350.0, 'CHURN'),\n",
              "             (12352.0, 'NOT CHURN'),\n",
              "             (12353.0, 'CHURN'),\n",
              "             (12354.0, 'CHURN'),\n",
              "             (12355.0, 'CHURN'),\n",
              "             (12356.0, 'CHURN'),\n",
              "             (12357.0, 'NOT CHURN'),\n",
              "             (12358.0, 'NOT CHURN'),\n",
              "             (12359.0, 'NOT CHURN'),\n",
              "             (12360.0, 'NOT CHURN'),\n",
              "             (12361.0, 'CHURN'),\n",
              "             (12362.0, 'NOT CHURN'),\n",
              "             (12363.0, 'NOT CHURN'),\n",
              "             (12364.0, 'NOT CHURN'),\n",
              "             (12365.0, 'CHURN'),\n",
              "             (12367.0, 'NOT CHURN'),\n",
              "             (12370.0, 'NOT CHURN'),\n",
              "             (12371.0, 'NOT CHURN'),\n",
              "             (12372.0, 'NOT CHURN'),\n",
              "             (12373.0, 'CHURN'),\n",
              "             (12374.0, 'NOT CHURN'),\n",
              "             (12375.0, 'NOT CHURN'),\n",
              "             (12377.0, 'CHURN'),\n",
              "             (12378.0, 'NOT CHURN'),\n",
              "             (12379.0, 'NOT CHURN'),\n",
              "             (12380.0, 'NOT CHURN'),\n",
              "             (12381.0, 'NOT CHURN'),\n",
              "             (12383.0, 'CHURN'),\n",
              "             (12384.0, 'NOT CHURN'),\n",
              "             (12386.0, 'CHURN'),\n",
              "             (12388.0, 'NOT CHURN'),\n",
              "             (12390.0, 'NOT CHURN'),\n",
              "             (12391.0, 'NOT CHURN'),\n",
              "             (12393.0, 'NOT CHURN'),\n",
              "             (12394.0, 'CHURN'),\n",
              "             (12395.0, 'NOT CHURN'),\n",
              "             (12397.0, 'NOT CHURN'),\n",
              "             (12398.0, 'NOT CHURN'),\n",
              "             (12399.0, 'NOT CHURN'),\n",
              "             (12401.0, 'CHURN'),\n",
              "             (12402.0, 'CHURN'),\n",
              "             (12403.0, 'NOT CHURN'),\n",
              "             (12405.0, 'CHURN'),\n",
              "             (12406.0, 'NOT CHURN'),\n",
              "             (12407.0, 'NOT CHURN'),\n",
              "             (12408.0, 'NOT CHURN'),\n",
              "             (12409.0, 'NOT CHURN'),\n",
              "             (12410.0, 'CHURN'),\n",
              "             (12412.0, 'NOT CHURN'),\n",
              "             (12413.0, 'NOT CHURN'),\n",
              "             (12414.0, 'CHURN'),\n",
              "             (12415.0, 'NOT CHURN'),\n",
              "             (12417.0, 'NOT CHURN'),\n",
              "             (12418.0, 'NOT CHURN'),\n",
              "             (12420.0, 'NOT CHURN'),\n",
              "             (12421.0, 'NOT CHURN'),\n",
              "             (12422.0, 'NOT CHURN'),\n",
              "             (12423.0, 'NOT CHURN'),\n",
              "             (12424.0, 'CHURN'),\n",
              "             (12425.0, 'NOT CHURN'),\n",
              "             (12426.0, 'CHURN'),\n",
              "             (12427.0, 'NOT CHURN'),\n",
              "             (12428.0, 'NOT CHURN'),\n",
              "             (12429.0, 'NOT CHURN'),\n",
              "             (12430.0, 'NOT CHURN'),\n",
              "             (12431.0, 'NOT CHURN'),\n",
              "             (12432.0, 'NOT CHURN'),\n",
              "             (12433.0, 'NOT CHURN'),\n",
              "             (12434.0, 'NOT CHURN'),\n",
              "             (12435.0, 'CHURN'),\n",
              "             (12436.0, 'NOT CHURN'),\n",
              "             (12437.0, 'NOT CHURN'),\n",
              "             (12438.0, 'NOT CHURN'),\n",
              "             (12441.0, 'CHURN'),\n",
              "             (12442.0, 'NOT CHURN'),\n",
              "             (12444.0, 'NOT CHURN'),\n",
              "             (12445.0, 'NOT CHURN'),\n",
              "             (12446.0, 'NOT CHURN'),\n",
              "             (12447.0, 'CHURN'),\n",
              "             (12448.0, 'NOT CHURN'),\n",
              "             (12449.0, 'NOT CHURN'),\n",
              "             (12450.0, 'CHURN'),\n",
              "             (12451.0, 'NOT CHURN'),\n",
              "             (12452.0, 'NOT CHURN'),\n",
              "             (12453.0, 'CHURN'),\n",
              "             (12454.0, 'NOT CHURN'),\n",
              "             (12455.0, 'NOT CHURN'),\n",
              "             (12456.0, 'NOT CHURN'),\n",
              "             (12457.0, 'NOT CHURN'),\n",
              "             (12458.0, 'NOT CHURN'),\n",
              "             (12461.0, 'CHURN'),\n",
              "             (12462.0, 'NOT CHURN'),\n",
              "             (12463.0, 'NOT CHURN'),\n",
              "             (12464.0, 'CHURN'),\n",
              "             (12465.0, 'NOT CHURN'),\n",
              "             (12468.0, 'CHURN'),\n",
              "             (12471.0, 'NOT CHURN'),\n",
              "             (12472.0, 'NOT CHURN'),\n",
              "             (12473.0, 'NOT CHURN'),\n",
              "             (12474.0, 'NOT CHURN'),\n",
              "             (12475.0, 'NOT CHURN'),\n",
              "             (12476.0, 'NOT CHURN'),\n",
              "             (12477.0, 'NOT CHURN'),\n",
              "             (12478.0, 'NOT CHURN'),\n",
              "             (12479.0, 'NOT CHURN'),\n",
              "             (12480.0, 'NOT CHURN'),\n",
              "             (12481.0, 'NOT CHURN'),\n",
              "             (12483.0, 'NOT CHURN'),\n",
              "             (12484.0, 'NOT CHURN'),\n",
              "             (12488.0, 'NOT CHURN'),\n",
              "             (12489.0, 'CHURN'),\n",
              "             (12490.0, 'NOT CHURN'),\n",
              "             (12491.0, 'NOT CHURN'),\n",
              "             (12492.0, 'NOT CHURN'),\n",
              "             (12493.0, 'CHURN'),\n",
              "             (12494.0, 'NOT CHURN'),\n",
              "             (12497.0, 'NOT CHURN'),\n",
              "             (12498.0, 'NOT CHURN'),\n",
              "             (12500.0, 'NOT CHURN'),\n",
              "             (12501.0, 'CHURN'),\n",
              "             (12502.0, 'NOT CHURN'),\n",
              "             (12504.0, 'NOT CHURN'),\n",
              "             (12506.0, 'CHURN'),\n",
              "             (12507.0, 'CHURN'),\n",
              "             (12508.0, 'NOT CHURN'),\n",
              "             (12509.0, 'CHURN'),\n",
              "             (12510.0, 'CHURN'),\n",
              "             (12512.0, 'NOT CHURN'),\n",
              "             (12513.0, 'NOT CHURN'),\n",
              "             (12514.0, 'CHURN'),\n",
              "             (12515.0, 'CHURN'),\n",
              "             (12516.0, 'NOT CHURN'),\n",
              "             (12517.0, 'NOT CHURN'),\n",
              "             (12518.0, 'NOT CHURN'),\n",
              "             (12519.0, 'NOT CHURN'),\n",
              "             (12520.0, 'NOT CHURN'),\n",
              "             (12521.0, 'CHURN'),\n",
              "             (12522.0, 'NOT CHURN'),\n",
              "             (12523.0, 'NOT CHURN'),\n",
              "             (12524.0, 'NOT CHURN'),\n",
              "             (12526.0, 'NOT CHURN'),\n",
              "             (12527.0, 'NOT CHURN'),\n",
              "             (12528.0, 'NOT CHURN'),\n",
              "             (12530.0, 'NOT CHURN'),\n",
              "             (12531.0, 'NOT CHURN'),\n",
              "             (12532.0, 'NOT CHURN'),\n",
              "             (12534.0, 'NOT CHURN'),\n",
              "             (12535.0, 'NOT CHURN'),\n",
              "             (12536.0, 'NOT CHURN'),\n",
              "             (12538.0, 'NOT CHURN'),\n",
              "             (12539.0, 'NOT CHURN'),\n",
              "             (12540.0, 'NOT CHURN'),\n",
              "             (12541.0, 'NOT CHURN'),\n",
              "             (12544.0, 'NOT CHURN'),\n",
              "             (12545.0, 'NOT CHURN'),\n",
              "             (12546.0, 'NOT CHURN'),\n",
              "             (12547.0, 'CHURN'),\n",
              "             (12548.0, 'CHURN'),\n",
              "             (12550.0, 'NOT CHURN'),\n",
              "             (12551.0, 'CHURN'),\n",
              "             (12552.0, 'NOT CHURN'),\n",
              "             (12553.0, 'NOT CHURN'),\n",
              "             (12556.0, 'NOT CHURN'),\n",
              "             (12558.0, 'NOT CHURN'),\n",
              "             (12559.0, 'CHURN'),\n",
              "             (12560.0, 'NOT CHURN'),\n",
              "             (12561.0, 'CHURN'),\n",
              "             (12562.0, 'NOT CHURN'),\n",
              "             (12564.0, 'CHURN'),\n",
              "             (12565.0, 'CHURN'),\n",
              "             (12566.0, 'NOT CHURN'),\n",
              "             (12567.0, 'NOT CHURN'),\n",
              "             (12569.0, 'NOT CHURN'),\n",
              "             (12571.0, 'NOT CHURN'),\n",
              "             (12572.0, 'NOT CHURN'),\n",
              "             (12573.0, 'CHURN'),\n",
              "             (12574.0, 'CHURN'),\n",
              "             (12576.0, 'NOT CHURN'),\n",
              "             (12577.0, 'NOT CHURN'),\n",
              "             (12578.0, 'NOT CHURN'),\n",
              "             (12579.0, 'NOT CHURN'),\n",
              "             (12580.0, 'CHURN'),\n",
              "             (12581.0, 'NOT CHURN'),\n",
              "             (12582.0, 'CHURN'),\n",
              "             (12583.0, 'NOT CHURN'),\n",
              "             (12584.0, 'NOT CHURN'),\n",
              "             (12585.0, 'CHURN'),\n",
              "             (12586.0, 'NOT CHURN'),\n",
              "             (12587.0, 'NOT CHURN'),\n",
              "             (12588.0, 'NOT CHURN'),\n",
              "             (12589.0, 'NOT CHURN'),\n",
              "             (12590.0, 'CHURN'),\n",
              "             (12591.0, 'CHURN'),\n",
              "             (12592.0, 'NOT CHURN'),\n",
              "             (12593.0, 'NOT CHURN'),\n",
              "             (12594.0, 'NOT CHURN'),\n",
              "             (12596.0, 'NOT CHURN'),\n",
              "             (12597.0, 'NOT CHURN'),\n",
              "             (12598.0, 'NOT CHURN'),\n",
              "             (12599.0, 'NOT CHURN'),\n",
              "             (12600.0, 'NOT CHURN'),\n",
              "             (12601.0, 'CHURN'),\n",
              "             (12602.0, 'NOT CHURN'),\n",
              "             (12604.0, 'NOT CHURN'),\n",
              "             (12607.0, 'NOT CHURN'),\n",
              "             (12609.0, 'NOT CHURN'),\n",
              "             (12610.0, 'NOT CHURN'),\n",
              "             (12611.0, 'NOT CHURN'),\n",
              "             (12612.0, 'NOT CHURN'),\n",
              "             (12613.0, 'NOT CHURN'),\n",
              "             (12614.0, 'CHURN'),\n",
              "             (12615.0, 'NOT CHURN'),\n",
              "             (12616.0, 'NOT CHURN'),\n",
              "             (12617.0, 'NOT CHURN'),\n",
              "             (12618.0, 'NOT CHURN'),\n",
              "             (12619.0, 'NOT CHURN'),\n",
              "             (12620.0, 'NOT CHURN'),\n",
              "             (12621.0, 'NOT CHURN'),\n",
              "             (12622.0, 'CHURN'),\n",
              "             (12623.0, 'CHURN'),\n",
              "             (12624.0, 'NOT CHURN'),\n",
              "             (12625.0, 'CHURN'),\n",
              "             (12626.0, 'NOT CHURN'),\n",
              "             (12627.0, 'NOT CHURN'),\n",
              "             (12628.0, 'NOT CHURN'),\n",
              "             (12630.0, 'NOT CHURN'),\n",
              "             (12631.0, 'NOT CHURN'),\n",
              "             (12633.0, 'NOT CHURN'),\n",
              "             (12635.0, 'NOT CHURN'),\n",
              "             (12637.0, 'NOT CHURN'),\n",
              "             (12638.0, 'NOT CHURN'),\n",
              "             (12639.0, 'CHURN'),\n",
              "             (12640.0, 'NOT CHURN'),\n",
              "             (12641.0, 'NOT CHURN'),\n",
              "             (12642.0, 'NOT CHURN'),\n",
              "             (12643.0, 'CHURN'),\n",
              "             (12644.0, 'NOT CHURN'),\n",
              "             (12645.0, 'NOT CHURN'),\n",
              "             (12646.0, 'NOT CHURN'),\n",
              "             (12647.0, 'NOT CHURN'),\n",
              "             (12648.0, 'CHURN'),\n",
              "             (12649.0, 'NOT CHURN'),\n",
              "             (12650.0, 'NOT CHURN'),\n",
              "             (12651.0, 'CHURN'),\n",
              "             (12652.0, 'CHURN'),\n",
              "             (12653.0, 'CHURN'),\n",
              "             (12654.0, 'NOT CHURN'),\n",
              "             (12656.0, 'NOT CHURN'),\n",
              "             (12657.0, 'NOT CHURN'),\n",
              "             (12658.0, 'NOT CHURN'),\n",
              "             (12659.0, 'NOT CHURN'),\n",
              "             (12660.0, 'NOT CHURN'),\n",
              "             (12662.0, 'NOT CHURN'),\n",
              "             (12664.0, 'NOT CHURN'),\n",
              "             (12665.0, 'CHURN'),\n",
              "             (12667.0, 'NOT CHURN'),\n",
              "             (12668.0, 'NOT CHURN'),\n",
              "             (12669.0, 'CHURN'),\n",
              "             (12670.0, 'NOT CHURN'),\n",
              "             (12672.0, 'CHURN'),\n",
              "             (12673.0, 'NOT CHURN'),\n",
              "             (12674.0, 'NOT CHURN'),\n",
              "             (12676.0, 'NOT CHURN'),\n",
              "             (12678.0, 'NOT CHURN'),\n",
              "             (12679.0, 'CHURN'),\n",
              "             (12680.0, 'NOT CHURN'),\n",
              "             (12681.0, 'NOT CHURN'),\n",
              "             (12682.0, 'NOT CHURN'),\n",
              "             (12683.0, 'NOT CHURN'),\n",
              "             (12684.0, 'NOT CHURN'),\n",
              "             (12685.0, 'NOT CHURN'),\n",
              "             (12686.0, 'CHURN'),\n",
              "             (12688.0, 'NOT CHURN'),\n",
              "             (12689.0, 'NOT CHURN'),\n",
              "             (12690.0, 'CHURN'),\n",
              "             (12691.0, 'NOT CHURN'),\n",
              "             (12693.0, 'NOT CHURN'),\n",
              "             (12694.0, 'NOT CHURN'),\n",
              "             (12695.0, 'NOT CHURN'),\n",
              "             (12697.0, 'NOT CHURN'),\n",
              "             (12700.0, 'NOT CHURN'),\n",
              "             (12701.0, 'NOT CHURN'),\n",
              "             (12702.0, 'NOT CHURN'),\n",
              "             (12703.0, 'NOT CHURN'),\n",
              "             (12704.0, 'NOT CHURN'),\n",
              "             (12705.0, 'NOT CHURN'),\n",
              "             (12707.0, 'CHURN'),\n",
              "             (12708.0, 'NOT CHURN'),\n",
              "             (12709.0, 'NOT CHURN'),\n",
              "             (12710.0, 'NOT CHURN'),\n",
              "             (12712.0, 'NOT CHURN'),\n",
              "             (12713.0, 'NOT CHURN'),\n",
              "             (12714.0, 'NOT CHURN'),\n",
              "             (12715.0, 'NOT CHURN'),\n",
              "             (12716.0, 'NOT CHURN'),\n",
              "             (12717.0, 'CHURN'),\n",
              "             (12718.0, 'NOT CHURN'),\n",
              "             (12719.0, 'NOT CHURN'),\n",
              "             (12720.0, 'NOT CHURN'),\n",
              "             (12721.0, 'NOT CHURN'),\n",
              "             (12722.0, 'NOT CHURN'),\n",
              "             (12723.0, 'NOT CHURN'),\n",
              "             (12724.0, 'NOT CHURN'),\n",
              "             (12725.0, 'CHURN'),\n",
              "             (12726.0, 'NOT CHURN'),\n",
              "             (12727.0, 'NOT CHURN'),\n",
              "             (12728.0, 'NOT CHURN'),\n",
              "             (12729.0, 'NOT CHURN'),\n",
              "             (12731.0, 'NOT CHURN'),\n",
              "             (12732.0, 'CHURN'),\n",
              "             (12733.0, 'CHURN'),\n",
              "             (12734.0, 'CHURN'),\n",
              "             (12735.0, 'CHURN'),\n",
              "             (12736.0, 'CHURN'),\n",
              "             (12738.0, 'CHURN'),\n",
              "             (12739.0, 'NOT CHURN'),\n",
              "             (12740.0, 'NOT CHURN'),\n",
              "             (12743.0, 'CHURN'),\n",
              "             (12744.0, 'NOT CHURN'),\n",
              "             (12747.0, 'NOT CHURN'),\n",
              "             (12748.0, 'NOT CHURN'),\n",
              "             (12749.0, 'NOT CHURN'),\n",
              "             (12750.0, 'NOT CHURN'),\n",
              "             (12752.0, 'NOT CHURN'),\n",
              "             (12753.0, 'NOT CHURN'),\n",
              "             (12754.0, 'CHURN'),\n",
              "             (12755.0, 'CHURN'),\n",
              "             (12756.0, 'NOT CHURN'),\n",
              "             (12757.0, 'NOT CHURN'),\n",
              "             (12758.0, 'NOT CHURN'),\n",
              "             (12759.0, 'NOT CHURN'),\n",
              "             (12762.0, 'NOT CHURN'),\n",
              "             (12763.0, 'CHURN'),\n",
              "             (12764.0, 'CHURN'),\n",
              "             (12766.0, 'NOT CHURN'),\n",
              "             (12769.0, 'CHURN'),\n",
              "             (12772.0, 'NOT CHURN'),\n",
              "             (12775.0, 'NOT CHURN'),\n",
              "             (12778.0, 'NOT CHURN'),\n",
              "             (12779.0, 'NOT CHURN'),\n",
              "             (12781.0, 'NOT CHURN'),\n",
              "             (12782.0, 'NOT CHURN'),\n",
              "             (12783.0, 'NOT CHURN'),\n",
              "             (12784.0, 'NOT CHURN'),\n",
              "             (12785.0, 'CHURN'),\n",
              "             (12787.0, 'NOT CHURN'),\n",
              "             (12790.0, 'CHURN'),\n",
              "             (12792.0, 'CHURN'),\n",
              "             (12793.0, 'CHURN'),\n",
              "             (12794.0, 'NOT CHURN'),\n",
              "             (12795.0, 'NOT CHURN'),\n",
              "             (12797.0, 'CHURN'),\n",
              "             (12802.0, 'CHURN'),\n",
              "             (12808.0, 'NOT CHURN'),\n",
              "             (12809.0, 'CHURN'),\n",
              "             (12811.0, 'CHURN'),\n",
              "             (12812.0, 'NOT CHURN'),\n",
              "             (12815.0, 'CHURN'),\n",
              "             (12816.0, 'NOT CHURN'),\n",
              "             (12817.0, 'CHURN'),\n",
              "             (12818.0, 'CHURN'),\n",
              "             (12820.0, 'NOT CHURN'),\n",
              "             (12821.0, 'CHURN'),\n",
              "             (12822.0, 'NOT CHURN'),\n",
              "             (12824.0, 'NOT CHURN'),\n",
              "             (12826.0, 'NOT CHURN'),\n",
              "             (12827.0, 'NOT CHURN'),\n",
              "             (12828.0, 'NOT CHURN'),\n",
              "             (12829.0, 'CHURN'),\n",
              "             (12831.0, 'CHURN'),\n",
              "             (12832.0, 'NOT CHURN'),\n",
              "             (12833.0, 'CHURN'),\n",
              "             (12834.0, 'CHURN'),\n",
              "             (12836.0, 'NOT CHURN'),\n",
              "             (12837.0, 'CHURN'),\n",
              "             (12838.0, 'NOT CHURN'),\n",
              "             (12839.0, 'NOT CHURN'),\n",
              "             (12840.0, 'CHURN'),\n",
              "             (12841.0, 'NOT CHURN'),\n",
              "             (12842.0, 'NOT CHURN'),\n",
              "             (12843.0, 'CHURN'),\n",
              "             (12844.0, 'NOT CHURN'),\n",
              "             (12845.0, 'CHURN'),\n",
              "             (12847.0, 'NOT CHURN'),\n",
              "             (12849.0, 'NOT CHURN'),\n",
              "             (12851.0, 'NOT CHURN'),\n",
              "             (12852.0, 'CHURN'),\n",
              "             (12853.0, 'CHURN'),\n",
              "             (12854.0, 'NOT CHURN'),\n",
              "             (12855.0, 'CHURN'),\n",
              "             (12856.0, 'NOT CHURN'),\n",
              "             (12857.0, 'CHURN'),\n",
              "             (12863.0, 'NOT CHURN'),\n",
              "             (12864.0, 'CHURN'),\n",
              "             (12865.0, 'NOT CHURN'),\n",
              "             (12866.0, 'CHURN'),\n",
              "             (12867.0, 'NOT CHURN'),\n",
              "             (12868.0, 'CHURN'),\n",
              "             (12871.0, 'NOT CHURN'),\n",
              "             (12872.0, 'CHURN'),\n",
              "             (12876.0, 'NOT CHURN'),\n",
              "             (12877.0, 'NOT CHURN'),\n",
              "             (12878.0, 'CHURN'),\n",
              "             (12879.0, 'NOT CHURN'),\n",
              "             (12881.0, 'CHURN'),\n",
              "             (12882.0, 'NOT CHURN'),\n",
              "             (12883.0, 'NOT CHURN'),\n",
              "             (12884.0, 'NOT CHURN'),\n",
              "             (12885.0, 'NOT CHURN'),\n",
              "             (12886.0, 'NOT CHURN'),\n",
              "             (12888.0, 'CHURN'),\n",
              "             (12890.0, 'NOT CHURN'),\n",
              "             (12893.0, 'NOT CHURN'),\n",
              "             (12895.0, 'NOT CHURN'),\n",
              "             (12897.0, 'CHURN'),\n",
              "             (12901.0, 'NOT CHURN'),\n",
              "             (12902.0, 'CHURN'),\n",
              "             (12904.0, 'NOT CHURN'),\n",
              "             (12906.0, 'NOT CHURN'),\n",
              "             (12909.0, 'NOT CHURN'),\n",
              "             (12910.0, 'NOT CHURN'),\n",
              "             (12912.0, 'NOT CHURN'),\n",
              "             (12913.0, 'NOT CHURN'),\n",
              "             (12915.0, 'CHURN'),\n",
              "             (12916.0, 'CHURN'),\n",
              "             (12919.0, 'NOT CHURN'),\n",
              "             (12920.0, 'NOT CHURN'),\n",
              "             (12921.0, 'NOT CHURN'),\n",
              "             (12922.0, 'CHURN'),\n",
              "             (12923.0, 'NOT CHURN'),\n",
              "             (12924.0, 'NOT CHURN'),\n",
              "             (12925.0, 'NOT CHURN'),\n",
              "             (12928.0, 'NOT CHURN'),\n",
              "             (12929.0, 'CHURN'),\n",
              "             (12930.0, 'NOT CHURN'),\n",
              "             (12931.0, 'NOT CHURN'),\n",
              "             (12933.0, 'NOT CHURN'),\n",
              "             (12935.0, 'NOT CHURN'),\n",
              "             (12936.0, 'NOT CHURN'),\n",
              "             (12937.0, 'NOT CHURN'),\n",
              "             (12938.0, 'NOT CHURN'),\n",
              "             (12939.0, 'CHURN'),\n",
              "             (12940.0, 'NOT CHURN'),\n",
              "             (12942.0, 'CHURN'),\n",
              "             (12944.0, 'NOT CHURN'),\n",
              "             (12945.0, 'CHURN'),\n",
              "             (12947.0, 'CHURN'),\n",
              "             (12948.0, 'NOT CHURN'),\n",
              "             (12949.0, 'NOT CHURN'),\n",
              "             (12950.0, 'NOT CHURN'),\n",
              "             (12951.0, 'NOT CHURN'),\n",
              "             (12952.0, 'NOT CHURN'),\n",
              "             (12953.0, 'NOT CHURN'),\n",
              "             (12955.0, 'NOT CHURN'),\n",
              "             (12956.0, 'CHURN'),\n",
              "             (12957.0, 'NOT CHURN'),\n",
              "             (12962.0, 'NOT CHURN'),\n",
              "             (12963.0, 'NOT CHURN'),\n",
              "             (12965.0, 'NOT CHURN'),\n",
              "             (12966.0, 'NOT CHURN'),\n",
              "             (12967.0, 'CHURN'),\n",
              "             (12968.0, 'NOT CHURN'),\n",
              "             (12970.0, 'NOT CHURN'),\n",
              "             (12971.0, 'NOT CHURN'),\n",
              "             (12974.0, 'CHURN'),\n",
              "             (12976.0, 'CHURN'),\n",
              "             (12977.0, 'CHURN'),\n",
              "             (12981.0, 'NOT CHURN'),\n",
              "             (12982.0, 'CHURN'),\n",
              "             (12984.0, 'NOT CHURN'),\n",
              "             (12985.0, 'NOT CHURN'),\n",
              "             (12987.0, 'NOT CHURN'),\n",
              "             (12988.0, 'CHURN'),\n",
              "             (12989.0, 'NOT CHURN'),\n",
              "             (12990.0, 'NOT CHURN'),\n",
              "             (12991.0, 'NOT CHURN'),\n",
              "             (12993.0, 'NOT CHURN'),\n",
              "             (12994.0, 'NOT CHURN'),\n",
              "             (12997.0, 'NOT CHURN'),\n",
              "             (12999.0, 'CHURN'),\n",
              "             (13000.0, 'CHURN'),\n",
              "             (13001.0, 'NOT CHURN'),\n",
              "             (13002.0, 'CHURN'),\n",
              "             (13003.0, 'CHURN'),\n",
              "             (13004.0, 'NOT CHURN'),\n",
              "             (13005.0, 'CHURN'),\n",
              "             (13006.0, 'NOT CHURN'),\n",
              "             (13008.0, 'CHURN'),\n",
              "             (13011.0, 'CHURN'),\n",
              "             (13012.0, 'NOT CHURN'),\n",
              "             (13013.0, 'NOT CHURN'),\n",
              "             (13014.0, 'NOT CHURN'),\n",
              "             (13015.0, 'NOT CHURN'),\n",
              "             (13016.0, 'NOT CHURN'),\n",
              "             (13018.0, 'NOT CHURN'),\n",
              "             (13021.0, 'NOT CHURN'),\n",
              "             (13023.0, 'NOT CHURN'),\n",
              "             (13026.0, 'NOT CHURN'),\n",
              "             (13028.0, 'NOT CHURN'),\n",
              "             (13029.0, 'NOT CHURN'),\n",
              "             (13030.0, 'NOT CHURN'),\n",
              "             (13032.0, 'NOT CHURN'),\n",
              "             (13033.0, 'CHURN'),\n",
              "             (13034.0, 'NOT CHURN'),\n",
              "             (13035.0, 'NOT CHURN'),\n",
              "             (13037.0, 'CHURN'),\n",
              "             (13038.0, 'NOT CHURN'),\n",
              "             (13040.0, 'NOT CHURN'),\n",
              "             (13043.0, 'CHURN'),\n",
              "             (13044.0, 'CHURN'),\n",
              "             (13045.0, 'NOT CHURN'),\n",
              "             (13046.0, 'NOT CHURN'),\n",
              "             (13047.0, 'NOT CHURN'),\n",
              "             (13048.0, 'NOT CHURN'),\n",
              "             (13049.0, 'NOT CHURN'),\n",
              "             (13050.0, 'NOT CHURN'),\n",
              "             (13052.0, 'CHURN'),\n",
              "             (13055.0, 'NOT CHURN'),\n",
              "             (13058.0, 'NOT CHURN'),\n",
              "             (13059.0, 'CHURN'),\n",
              "             (13060.0, 'CHURN'),\n",
              "             (13061.0, 'NOT CHURN'),\n",
              "             (13062.0, 'CHURN'),\n",
              "             (13064.0, 'NOT CHURN'),\n",
              "             (13065.0, 'CHURN'),\n",
              "             (13066.0, 'NOT CHURN'),\n",
              "             (13067.0, 'NOT CHURN'),\n",
              "             (13069.0, 'NOT CHURN'),\n",
              "             (13070.0, 'CHURN'),\n",
              "             (13072.0, 'CHURN'),\n",
              "             (13075.0, 'NOT CHURN'),\n",
              "             (13077.0, 'NOT CHURN'),\n",
              "             (13078.0, 'NOT CHURN'),\n",
              "             (13079.0, 'NOT CHURN'),\n",
              "             (13080.0, 'CHURN'),\n",
              "             (13081.0, 'NOT CHURN'),\n",
              "             (13082.0, 'NOT CHURN'),\n",
              "             (13083.0, 'NOT CHURN'),\n",
              "             (13085.0, 'CHURN'),\n",
              "             (13089.0, 'NOT CHURN'),\n",
              "             (13090.0, 'NOT CHURN'),\n",
              "             (13091.0, 'NOT CHURN'),\n",
              "             (13092.0, 'NOT CHURN'),\n",
              "             (13093.0, 'CHURN'),\n",
              "             (13094.0, 'CHURN'),\n",
              "             (13095.0, 'NOT CHURN'),\n",
              "             (13097.0, 'NOT CHURN'),\n",
              "             (13098.0, 'NOT CHURN'),\n",
              "             (13101.0, 'CHURN'),\n",
              "             (13102.0, 'NOT CHURN'),\n",
              "             (13103.0, 'NOT CHURN'),\n",
              "             (13104.0, 'NOT CHURN'),\n",
              "             (13106.0, 'CHURN'),\n",
              "             (13107.0, 'NOT CHURN'),\n",
              "             (13108.0, 'CHURN'),\n",
              "             (13109.0, 'NOT CHURN'),\n",
              "             (13110.0, 'NOT CHURN'),\n",
              "             (13113.0, 'NOT CHURN'),\n",
              "             (13115.0, 'NOT CHURN'),\n",
              "             (13116.0, 'CHURN'),\n",
              "             (13117.0, 'NOT CHURN'),\n",
              "             (13118.0, 'NOT CHURN'),\n",
              "             (13120.0, 'CHURN'),\n",
              "             (13121.0, 'CHURN'),\n",
              "             (13122.0, 'CHURN'),\n",
              "             (13124.0, 'NOT CHURN'),\n",
              "             (13126.0, 'NOT CHURN'),\n",
              "             (13127.0, 'NOT CHURN'),\n",
              "             (13130.0, 'NOT CHURN'),\n",
              "             (13131.0, 'NOT CHURN'),\n",
              "             (13132.0, 'CHURN'),\n",
              "             (13133.0, 'CHURN'),\n",
              "             (13134.0, 'NOT CHURN'),\n",
              "             (13136.0, 'NOT CHURN'),\n",
              "             (13137.0, 'NOT CHURN'),\n",
              "             (13138.0, 'NOT CHURN'),\n",
              "             (13139.0, 'NOT CHURN'),\n",
              "             (13140.0, 'NOT CHURN'),\n",
              "             (13141.0, 'NOT CHURN'),\n",
              "             (13142.0, 'NOT CHURN'),\n",
              "             (13144.0, 'CHURN'),\n",
              "             (13145.0, 'NOT CHURN'),\n",
              "             (13146.0, 'NOT CHURN'),\n",
              "             (13147.0, 'NOT CHURN'),\n",
              "             (13148.0, 'NOT CHURN'),\n",
              "             (13149.0, 'NOT CHURN'),\n",
              "             (13151.0, 'CHURN'),\n",
              "             (13153.0, 'NOT CHURN'),\n",
              "             (13155.0, 'NOT CHURN'),\n",
              "             (13157.0, 'NOT CHURN'),\n",
              "             (13158.0, 'NOT CHURN'),\n",
              "             (13159.0, 'NOT CHURN'),\n",
              "             (13160.0, 'NOT CHURN'),\n",
              "             (13161.0, 'CHURN'),\n",
              "             (13162.0, 'NOT CHURN'),\n",
              "             (13165.0, 'NOT CHURN'),\n",
              "             (13166.0, 'CHURN'),\n",
              "             (13167.0, 'NOT CHURN'),\n",
              "             (13168.0, 'NOT CHURN'),\n",
              "             (13169.0, 'NOT CHURN'),\n",
              "             (13170.0, 'NOT CHURN'),\n",
              "             (13171.0, 'NOT CHURN'),\n",
              "             (13173.0, 'NOT CHURN'),\n",
              "             (13174.0, 'NOT CHURN'),\n",
              "             (13176.0, 'NOT CHURN'),\n",
              "             (13177.0, 'NOT CHURN'),\n",
              "             (13178.0, 'NOT CHURN'),\n",
              "             (13182.0, 'NOT CHURN'),\n",
              "             (13183.0, 'NOT CHURN'),\n",
              "             (13184.0, 'NOT CHURN'),\n",
              "             (13185.0, 'CHURN'),\n",
              "             (13186.0, 'NOT CHURN'),\n",
              "             (13187.0, 'CHURN'),\n",
              "             (13188.0, 'NOT CHURN'),\n",
              "             (13189.0, 'NOT CHURN'),\n",
              "             (13192.0, 'NOT CHURN'),\n",
              "             (13193.0, 'NOT CHURN'),\n",
              "             (13194.0, 'CHURN'),\n",
              "             (13196.0, 'NOT CHURN'),\n",
              "             (13198.0, 'NOT CHURN'),\n",
              "             (13199.0, 'NOT CHURN'),\n",
              "             (13200.0, 'NOT CHURN'),\n",
              "             (13203.0, 'NOT CHURN'),\n",
              "             (13207.0, 'NOT CHURN'),\n",
              "             (13208.0, 'NOT CHURN'),\n",
              "             (13209.0, 'NOT CHURN'),\n",
              "             (13210.0, 'NOT CHURN'),\n",
              "             (13211.0, 'NOT CHURN'),\n",
              "             (13212.0, 'NOT CHURN'),\n",
              "             (13213.0, 'NOT CHURN'),\n",
              "             (13216.0, 'CHURN'),\n",
              "             (13217.0, 'NOT CHURN'),\n",
              "             (13218.0, 'NOT CHURN'),\n",
              "             (13220.0, 'NOT CHURN'),\n",
              "             (13221.0, 'CHURN'),\n",
              "             (13223.0, 'CHURN'),\n",
              "             (13224.0, 'NOT CHURN'),\n",
              "             (13226.0, 'CHURN'),\n",
              "             (13227.0, 'CHURN'),\n",
              "             (13229.0, 'CHURN'),\n",
              "             (13230.0, 'NOT CHURN'),\n",
              "             (13232.0, 'NOT CHURN'),\n",
              "             (13233.0, 'NOT CHURN'),\n",
              "             (13235.0, 'CHURN'),\n",
              "             (13236.0, 'NOT CHURN'),\n",
              "             (13238.0, 'NOT CHURN'),\n",
              "             (13239.0, 'CHURN'),\n",
              "             (13240.0, 'NOT CHURN'),\n",
              "             (13242.0, 'NOT CHURN'),\n",
              "             (13243.0, 'CHURN'),\n",
              "             (13244.0, 'NOT CHURN'),\n",
              "             (13245.0, 'NOT CHURN'),\n",
              "             (13246.0, 'NOT CHURN'),\n",
              "             (13247.0, 'NOT CHURN'),\n",
              "             (13248.0, 'NOT CHURN'),\n",
              "             (13249.0, 'NOT CHURN'),\n",
              "             (13253.0, 'CHURN'),\n",
              "             (13255.0, 'NOT CHURN'),\n",
              "             (13258.0, 'NOT CHURN'),\n",
              "             (13259.0, 'NOT CHURN'),\n",
              "             (13260.0, 'NOT CHURN'),\n",
              "             (13261.0, 'CHURN'),\n",
              "             (13262.0, 'CHURN'),\n",
              "             (13263.0, 'NOT CHURN'),\n",
              "             (13265.0, 'NOT CHURN'),\n",
              "             (13266.0, 'NOT CHURN'),\n",
              "             (13267.0, 'NOT CHURN'),\n",
              "             (13268.0, 'NOT CHURN'),\n",
              "             (13269.0, 'NOT CHURN'),\n",
              "             (13271.0, 'NOT CHURN'),\n",
              "             (13272.0, 'NOT CHURN'),\n",
              "             (13273.0, 'NOT CHURN'),\n",
              "             (13276.0, 'NOT CHURN'),\n",
              "             (13277.0, 'NOT CHURN'),\n",
              "             (13278.0, 'NOT CHURN'),\n",
              "             (13279.0, 'NOT CHURN'),\n",
              "             (13280.0, 'NOT CHURN'),\n",
              "             (13282.0, 'NOT CHURN'),\n",
              "             (13283.0, 'NOT CHURN'),\n",
              "             (13284.0, 'CHURN'),\n",
              "             (13285.0, 'NOT CHURN'),\n",
              "             (13291.0, 'CHURN'),\n",
              "             (13292.0, 'NOT CHURN'),\n",
              "             (13294.0, 'CHURN'),\n",
              "             (13295.0, 'CHURN'),\n",
              "             (13296.0, 'CHURN'),\n",
              "             (13297.0, 'NOT CHURN'),\n",
              "             (13298.0, 'NOT CHURN'),\n",
              "             (13299.0, 'CHURN'),\n",
              "             (13300.0, 'CHURN'),\n",
              "             (13301.0, 'NOT CHURN'),\n",
              "             (13304.0, 'CHURN'),\n",
              "             (13305.0, 'NOT CHURN'),\n",
              "             (13307.0, 'NOT CHURN'),\n",
              "             (13308.0, 'NOT CHURN'),\n",
              "             (13309.0, 'NOT CHURN'),\n",
              "             (13310.0, 'NOT CHURN'),\n",
              "             (13311.0, 'NOT CHURN'),\n",
              "             (13313.0, 'NOT CHURN'),\n",
              "             (13314.0, 'NOT CHURN'),\n",
              "             (13316.0, 'NOT CHURN'),\n",
              "             (13317.0, 'NOT CHURN'),\n",
              "             (13318.0, 'NOT CHURN'),\n",
              "             (13319.0, 'NOT CHURN'),\n",
              "             (13320.0, 'NOT CHURN'),\n",
              "             (13321.0, 'NOT CHURN'),\n",
              "             (13322.0, 'NOT CHURN'),\n",
              "             (13323.0, 'NOT CHURN'),\n",
              "             (13324.0, 'NOT CHURN'),\n",
              "             (13325.0, 'NOT CHURN'),\n",
              "             (13327.0, 'NOT CHURN'),\n",
              "             (13328.0, 'CHURN'),\n",
              "             (13329.0, 'NOT CHURN'),\n",
              "             (13330.0, 'NOT CHURN'),\n",
              "             (13332.0, 'NOT CHURN'),\n",
              "             (13334.0, 'NOT CHURN'),\n",
              "             (13336.0, 'NOT CHURN'),\n",
              "             (13338.0, 'CHURN'),\n",
              "             (13339.0, 'CHURN'),\n",
              "             (13340.0, 'NOT CHURN'),\n",
              "             (13341.0, 'CHURN'),\n",
              "             (13343.0, 'CHURN'),\n",
              "             (13344.0, 'NOT CHURN'),\n",
              "             (13345.0, 'CHURN'),\n",
              "             (13347.0, 'NOT CHURN'),\n",
              "             (13348.0, 'NOT CHURN'),\n",
              "             (13349.0, 'NOT CHURN'),\n",
              "             (13350.0, 'NOT CHURN'),\n",
              "             (13351.0, 'NOT CHURN'),\n",
              "             (13352.0, 'NOT CHURN'),\n",
              "             (13354.0, 'NOT CHURN'),\n",
              "             (13355.0, 'NOT CHURN'),\n",
              "             (13356.0, 'NOT CHURN'),\n",
              "             (13357.0, 'CHURN'),\n",
              "             (13358.0, 'CHURN'),\n",
              "             (13359.0, 'NOT CHURN'),\n",
              "             (13362.0, 'NOT CHURN'),\n",
              "             (13363.0, 'NOT CHURN'),\n",
              "             (13364.0, 'NOT CHURN'),\n",
              "             (13365.0, 'NOT CHURN'),\n",
              "             (13368.0, 'CHURN'),\n",
              "             (13369.0, 'CHURN'),\n",
              "             (13370.0, 'CHURN'),\n",
              "             (13372.0, 'NOT CHURN'),\n",
              "             (13373.0, 'NOT CHURN'),\n",
              "             (13375.0, 'NOT CHURN'),\n",
              "             (13376.0, 'NOT CHURN'),\n",
              "             (13379.0, 'NOT CHURN'),\n",
              "             (13381.0, 'NOT CHURN'),\n",
              "             (13382.0, 'CHURN'),\n",
              "             (13384.0, 'NOT CHURN'),\n",
              "             (13385.0, 'CHURN'),\n",
              "             (13388.0, 'CHURN'),\n",
              "             (13389.0, 'NOT CHURN'),\n",
              "             (13390.0, 'NOT CHURN'),\n",
              "             (13394.0, 'NOT CHURN'),\n",
              "             (13395.0, 'CHURN'),\n",
              "             (13396.0, 'NOT CHURN'),\n",
              "             (13397.0, 'NOT CHURN'),\n",
              "             (13398.0, 'CHURN'),\n",
              "             (13402.0, 'NOT CHURN'),\n",
              "             (13403.0, 'NOT CHURN'),\n",
              "             (13404.0, 'NOT CHURN'),\n",
              "             (13405.0, 'NOT CHURN'),\n",
              "             (13408.0, 'NOT CHURN'),\n",
              "             (13410.0, 'NOT CHURN'),\n",
              "             (13411.0, 'NOT CHURN'),\n",
              "             (13414.0, 'CHURN'),\n",
              "             (13416.0, 'NOT CHURN'),\n",
              "             (13417.0, 'NOT CHURN'),\n",
              "             (13418.0, 'NOT CHURN'),\n",
              "             (13419.0, 'NOT CHURN'),\n",
              "             (13420.0, 'CHURN'),\n",
              "             (13421.0, 'NOT CHURN'),\n",
              "             (13422.0, 'NOT CHURN'),\n",
              "             (13425.0, 'NOT CHURN'),\n",
              "             (13426.0, 'NOT CHURN'),\n",
              "             (13427.0, 'NOT CHURN'),\n",
              "             (13428.0, 'NOT CHURN'),\n",
              "             (13429.0, 'NOT CHURN'),\n",
              "             (13430.0, 'NOT CHURN'),\n",
              "             (13431.0, 'NOT CHURN'),\n",
              "             (13434.0, 'NOT CHURN'),\n",
              "             (13435.0, 'NOT CHURN'),\n",
              "             (13436.0, 'NOT CHURN'),\n",
              "             (13437.0, 'NOT CHURN'),\n",
              "             (13439.0, 'CHURN'),\n",
              "             (13441.0, 'NOT CHURN'),\n",
              "             (13447.0, 'NOT CHURN'),\n",
              "             (13448.0, 'NOT CHURN'),\n",
              "             (13449.0, 'NOT CHURN'),\n",
              "             (13450.0, 'NOT CHURN'),\n",
              "             (13451.0, 'NOT CHURN'),\n",
              "             (13453.0, 'CHURN'),\n",
              "             (13455.0, 'NOT CHURN'),\n",
              "             (13456.0, 'NOT CHURN'),\n",
              "             (13458.0, 'NOT CHURN'),\n",
              "             (13460.0, 'NOT CHURN'),\n",
              "             (13461.0, 'NOT CHURN'),\n",
              "             (13462.0, 'CHURN'),\n",
              "             (13464.0, 'NOT CHURN'),\n",
              "             (13466.0, 'CHURN'),\n",
              "             (13467.0, 'NOT CHURN'),\n",
              "             (13468.0, 'NOT CHURN'),\n",
              "             (13470.0, 'NOT CHURN'),\n",
              "             (13471.0, 'NOT CHURN'),\n",
              "             (13473.0, 'NOT CHURN'),\n",
              "             (13474.0, 'CHURN'),\n",
              "             (13475.0, 'CHURN'),\n",
              "             (13476.0, 'CHURN'),\n",
              "             (13477.0, 'NOT CHURN'),\n",
              "             (13479.0, 'CHURN'),\n",
              "             (13481.0, 'NOT CHURN'),\n",
              "             (13482.0, 'CHURN'),\n",
              "             (13483.0, 'NOT CHURN'),\n",
              "             (13484.0, 'CHURN'),\n",
              "             (13485.0, 'CHURN'),\n",
              "             (13486.0, 'NOT CHURN'),\n",
              "             (13487.0, 'NOT CHURN'),\n",
              "             (13488.0, 'NOT CHURN'),\n",
              "             (13489.0, 'NOT CHURN'),\n",
              "             (13491.0, 'NOT CHURN'),\n",
              "             (13492.0, 'CHURN'),\n",
              "             (13493.0, 'CHURN'),\n",
              "             (13494.0, 'CHURN'),\n",
              "             (13495.0, 'NOT CHURN'),\n",
              "             (13496.0, 'NOT CHURN'),\n",
              "             (13497.0, 'CHURN'),\n",
              "             (13499.0, 'NOT CHURN'),\n",
              "             (13500.0, 'NOT CHURN'),\n",
              "             (13501.0, 'CHURN'),\n",
              "             (13502.0, 'NOT CHURN'),\n",
              "             (13503.0, 'NOT CHURN'),\n",
              "             (13504.0, 'NOT CHURN'),\n",
              "             (13505.0, 'NOT CHURN'),\n",
              "             (13506.0, 'CHURN'),\n",
              "             (13507.0, 'NOT CHURN'),\n",
              "             (13508.0, 'CHURN'),\n",
              "             (13509.0, 'NOT CHURN'),\n",
              "             (13510.0, 'NOT CHURN'),\n",
              "             (13512.0, 'CHURN'),\n",
              "             (13513.0, 'NOT CHURN'),\n",
              "             (13514.0, 'NOT CHURN'),\n",
              "             (13515.0, 'NOT CHURN'),\n",
              "             (13516.0, 'NOT CHURN'),\n",
              "             (13517.0, 'NOT CHURN'),\n",
              "             (13518.0, 'NOT CHURN'),\n",
              "             (13519.0, 'NOT CHURN'),\n",
              "             (13520.0, 'NOT CHURN'),\n",
              "             (13521.0, 'NOT CHURN'),\n",
              "             (13522.0, 'NOT CHURN'),\n",
              "             (13523.0, 'NOT CHURN'),\n",
              "             (13524.0, 'NOT CHURN'),\n",
              "             (13525.0, 'NOT CHURN'),\n",
              "             (13527.0, 'NOT CHURN'),\n",
              "             (13529.0, 'NOT CHURN'),\n",
              "             (13531.0, 'CHURN'),\n",
              "             (13532.0, 'NOT CHURN'),\n",
              "             (13533.0, 'CHURN'),\n",
              "             (13534.0, 'NOT CHURN'),\n",
              "             (13536.0, 'NOT CHURN'),\n",
              "             (13538.0, 'NOT CHURN'),\n",
              "             (13539.0, 'NOT CHURN'),\n",
              "             (13544.0, 'NOT CHURN'),\n",
              "             (13546.0, 'NOT CHURN'),\n",
              "             (13548.0, 'NOT CHURN'),\n",
              "             (13549.0, 'NOT CHURN'),\n",
              "             (13551.0, 'CHURN'),\n",
              "             (13552.0, 'NOT CHURN'),\n",
              "             (13555.0, 'NOT CHURN'),\n",
              "             (13557.0, 'NOT CHURN'),\n",
              "             (13558.0, 'NOT CHURN'),\n",
              "             (13560.0, 'NOT CHURN'),\n",
              "             (13561.0, 'CHURN'),\n",
              "             (13562.0, 'NOT CHURN'),\n",
              "             (13563.0, 'NOT CHURN'),\n",
              "             (13564.0, 'CHURN'),\n",
              "             (13565.0, 'NOT CHURN'),\n",
              "             (13566.0, 'NOT CHURN'),\n",
              "             (13568.0, 'CHURN'),\n",
              "             (13569.0, 'NOT CHURN'),\n",
              "             (13570.0, 'CHURN'),\n",
              "             (13571.0, 'NOT CHURN'),\n",
              "             (13572.0, 'CHURN'),\n",
              "             (13573.0, 'NOT CHURN'),\n",
              "             (13575.0, 'NOT CHURN'),\n",
              "             (13576.0, 'NOT CHURN'),\n",
              "             (13577.0, 'NOT CHURN'),\n",
              "             (13579.0, 'NOT CHURN'),\n",
              "             (13581.0, 'CHURN'),\n",
              "             (13583.0, 'CHURN'),\n",
              "             (13584.0, 'CHURN'),\n",
              "             (13587.0, 'NOT CHURN'),\n",
              "             (13588.0, 'NOT CHURN'),\n",
              "             (13589.0, 'NOT CHURN'),\n",
              "             (13590.0, 'NOT CHURN'),\n",
              "             (13591.0, 'NOT CHURN'),\n",
              "             (13592.0, 'NOT CHURN'),\n",
              "             (13593.0, 'NOT CHURN'),\n",
              "             (13594.0, 'NOT CHURN'),\n",
              "             (13596.0, 'NOT CHURN'),\n",
              "             (13598.0, 'NOT CHURN'),\n",
              "             (13599.0, 'NOT CHURN'),\n",
              "             (13600.0, 'CHURN'),\n",
              "             (13601.0, 'NOT CHURN'),\n",
              "             (13602.0, 'NOT CHURN'),\n",
              "             (13603.0, 'NOT CHURN'),\n",
              "             (13606.0, 'NOT CHURN'),\n",
              "             (13607.0, 'NOT CHURN'),\n",
              "             (13610.0, 'NOT CHURN'),\n",
              "             (13611.0, 'NOT CHURN'),\n",
              "             (13614.0, 'NOT CHURN'),\n",
              "             (13615.0, 'CHURN'),\n",
              "             (13617.0, 'NOT CHURN'),\n",
              "             (13618.0, 'CHURN'),\n",
              "             (13621.0, 'NOT CHURN'),\n",
              "             (13623.0, 'NOT CHURN'),\n",
              "             (13626.0, 'CHURN'),\n",
              "             (13627.0, 'NOT CHURN'),\n",
              "             (13629.0, 'CHURN'),\n",
              "             (13630.0, 'NOT CHURN'),\n",
              "             (13631.0, 'CHURN'),\n",
              "             (13632.0, 'NOT CHURN'),\n",
              "             (13634.0, 'NOT CHURN'),\n",
              "             (13635.0, 'NOT CHURN'),\n",
              "             (13636.0, 'NOT CHURN'),\n",
              "             (13637.0, 'NOT CHURN'),\n",
              "             (13638.0, 'NOT CHURN'),\n",
              "             (13639.0, 'NOT CHURN'),\n",
              "             (13642.0, 'CHURN'),\n",
              "             (13643.0, 'NOT CHURN'),\n",
              "             (13644.0, 'NOT CHURN'),\n",
              "             (13645.0, 'NOT CHURN'),\n",
              "             (13647.0, 'NOT CHURN'),\n",
              "             (13649.0, 'CHURN'),\n",
              "             (13650.0, 'NOT CHURN'),\n",
              "             (13651.0, 'NOT CHURN'),\n",
              "             (13652.0, 'NOT CHURN'),\n",
              "             (13654.0, 'NOT CHURN'),\n",
              "             (13655.0, 'NOT CHURN'),\n",
              "             (13656.0, 'CHURN'),\n",
              "             (13657.0, 'NOT CHURN'),\n",
              "             (13658.0, 'NOT CHURN'),\n",
              "             (13659.0, 'CHURN'),\n",
              "             (13662.0, 'NOT CHURN'),\n",
              "             (13663.0, 'CHURN'),\n",
              "             (13666.0, 'NOT CHURN'),\n",
              "             (13667.0, 'CHURN'),\n",
              "             (13668.0, 'NOT CHURN'),\n",
              "             (13669.0, 'NOT CHURN'),\n",
              "             (13670.0, 'NOT CHURN'),\n",
              "             (13672.0, 'CHURN'),\n",
              "             (13673.0, 'NOT CHURN'),\n",
              "             (13675.0, 'CHURN'),\n",
              "             (13678.0, 'CHURN'),\n",
              "             (13680.0, 'NOT CHURN'),\n",
              "             (13681.0, 'NOT CHURN'),\n",
              "             (13682.0, 'CHURN'),\n",
              "             (13684.0, 'CHURN'),\n",
              "             (13685.0, 'NOT CHURN'),\n",
              "             (13686.0, 'CHURN'),\n",
              "             (13689.0, 'NOT CHURN'),\n",
              "             (13690.0, 'NOT CHURN'),\n",
              "             (13692.0, 'NOT CHURN'),\n",
              "             (13694.0, 'NOT CHURN'),\n",
              "             (13695.0, 'NOT CHURN'),\n",
              "             (13697.0, 'NOT CHURN'),\n",
              "             (13699.0, 'CHURN'),\n",
              "             (13700.0, 'NOT CHURN'),\n",
              "             (13704.0, 'NOT CHURN'),\n",
              "             (13705.0, 'NOT CHURN'),\n",
              "             (13706.0, 'CHURN'),\n",
              "             (13707.0, 'CHURN'),\n",
              "             (13708.0, 'CHURN'),\n",
              "             (13709.0, 'NOT CHURN'),\n",
              "             (13710.0, 'NOT CHURN'),\n",
              "             (13711.0, 'CHURN'),\n",
              "             (13712.0, 'CHURN'),\n",
              "             (13715.0, 'CHURN'),\n",
              "             (13716.0, 'CHURN'),\n",
              "             (13717.0, 'NOT CHURN'),\n",
              "             (13718.0, 'CHURN'),\n",
              "             (13719.0, 'NOT CHURN'),\n",
              "             (13720.0, 'NOT CHURN'),\n",
              "             (13721.0, 'NOT CHURN'),\n",
              "             (13722.0, 'CHURN'),\n",
              "             (13723.0, 'CHURN'),\n",
              "             (13725.0, 'NOT CHURN'),\n",
              "             (13726.0, 'NOT CHURN'),\n",
              "             (13727.0, 'NOT CHURN'),\n",
              "             (13728.0, 'NOT CHURN'),\n",
              "             (13730.0, 'CHURN'),\n",
              "             (13731.0, 'CHURN'),\n",
              "             (13732.0, 'NOT CHURN'),\n",
              "             (13735.0, 'NOT CHURN'),\n",
              "             (13736.0, 'NOT CHURN'),\n",
              "             (13737.0, 'CHURN'),\n",
              "             ...])"
            ]
          },
          "metadata": {
            "tags": []
          },
          "execution_count": 132
        }
      ]
    },
    {
      "cell_type": "markdown",
      "metadata": {
        "id": "cRJ-gUcFow2V"
      },
      "source": [
        "## **Churn Prediction for each customer**"
      ]
    },
    {
      "cell_type": "code",
      "metadata": {
        "id": "mYoXcE-ioNV5"
      },
      "source": [
        "churn = pd.DataFrame(list(churn_dictionary.items()), columns=['CustomerID', 'Prediction'])"
      ],
      "execution_count": 133,
      "outputs": []
    },
    {
      "cell_type": "code",
      "metadata": {
        "id": "jdMHWEM9ovHI",
        "outputId": "c4387f49-9c18-40a3-eca2-f76ea8162b13",
        "colab": {
          "base_uri": "https://localhost:8080/",
          "height": 359
        }
      },
      "source": [
        "churn.head(10)"
      ],
      "execution_count": 134,
      "outputs": [
        {
          "output_type": "execute_result",
          "data": {
            "text/html": [
              "<div>\n",
              "<style scoped>\n",
              "    .dataframe tbody tr th:only-of-type {\n",
              "        vertical-align: middle;\n",
              "    }\n",
              "\n",
              "    .dataframe tbody tr th {\n",
              "        vertical-align: top;\n",
              "    }\n",
              "\n",
              "    .dataframe thead th {\n",
              "        text-align: right;\n",
              "    }\n",
              "</style>\n",
              "<table border=\"1\" class=\"dataframe\">\n",
              "  <thead>\n",
              "    <tr style=\"text-align: right;\">\n",
              "      <th></th>\n",
              "      <th>CustomerID</th>\n",
              "      <th>Prediction</th>\n",
              "    </tr>\n",
              "  </thead>\n",
              "  <tbody>\n",
              "    <tr>\n",
              "      <th>0</th>\n",
              "      <td>12347.0</td>\n",
              "      <td>NOT CHURN</td>\n",
              "    </tr>\n",
              "    <tr>\n",
              "      <th>1</th>\n",
              "      <td>12348.0</td>\n",
              "      <td>CHURN</td>\n",
              "    </tr>\n",
              "    <tr>\n",
              "      <th>2</th>\n",
              "      <td>12349.0</td>\n",
              "      <td>NOT CHURN</td>\n",
              "    </tr>\n",
              "    <tr>\n",
              "      <th>3</th>\n",
              "      <td>12350.0</td>\n",
              "      <td>CHURN</td>\n",
              "    </tr>\n",
              "    <tr>\n",
              "      <th>4</th>\n",
              "      <td>12352.0</td>\n",
              "      <td>NOT CHURN</td>\n",
              "    </tr>\n",
              "    <tr>\n",
              "      <th>5</th>\n",
              "      <td>12353.0</td>\n",
              "      <td>CHURN</td>\n",
              "    </tr>\n",
              "    <tr>\n",
              "      <th>6</th>\n",
              "      <td>12354.0</td>\n",
              "      <td>CHURN</td>\n",
              "    </tr>\n",
              "    <tr>\n",
              "      <th>7</th>\n",
              "      <td>12355.0</td>\n",
              "      <td>CHURN</td>\n",
              "    </tr>\n",
              "    <tr>\n",
              "      <th>8</th>\n",
              "      <td>12356.0</td>\n",
              "      <td>CHURN</td>\n",
              "    </tr>\n",
              "    <tr>\n",
              "      <th>9</th>\n",
              "      <td>12357.0</td>\n",
              "      <td>NOT CHURN</td>\n",
              "    </tr>\n",
              "  </tbody>\n",
              "</table>\n",
              "</div>"
            ],
            "text/plain": [
              "   CustomerID Prediction\n",
              "0     12347.0  NOT CHURN\n",
              "1     12348.0      CHURN\n",
              "2     12349.0  NOT CHURN\n",
              "3     12350.0      CHURN\n",
              "4     12352.0  NOT CHURN\n",
              "5     12353.0      CHURN\n",
              "6     12354.0      CHURN\n",
              "7     12355.0      CHURN\n",
              "8     12356.0      CHURN\n",
              "9     12357.0  NOT CHURN"
            ]
          },
          "metadata": {
            "tags": []
          },
          "execution_count": 134
        }
      ]
    },
    {
      "cell_type": "code",
      "metadata": {
        "id": "s2GvQsdOo7DF",
        "outputId": "88abce88-d7fc-41f6-a6c6-21976af16608",
        "colab": {
          "base_uri": "https://localhost:8080/",
          "height": 359
        }
      },
      "source": [
        "churn.tail(10)"
      ],
      "execution_count": 135,
      "outputs": [
        {
          "output_type": "execute_result",
          "data": {
            "text/html": [
              "<div>\n",
              "<style scoped>\n",
              "    .dataframe tbody tr th:only-of-type {\n",
              "        vertical-align: middle;\n",
              "    }\n",
              "\n",
              "    .dataframe tbody tr th {\n",
              "        vertical-align: top;\n",
              "    }\n",
              "\n",
              "    .dataframe thead th {\n",
              "        text-align: right;\n",
              "    }\n",
              "</style>\n",
              "<table border=\"1\" class=\"dataframe\">\n",
              "  <thead>\n",
              "    <tr style=\"text-align: right;\">\n",
              "      <th></th>\n",
              "      <th>CustomerID</th>\n",
              "      <th>Prediction</th>\n",
              "    </tr>\n",
              "  </thead>\n",
              "  <tbody>\n",
              "    <tr>\n",
              "      <th>4180</th>\n",
              "      <td>18273.0</td>\n",
              "      <td>NOT CHURN</td>\n",
              "    </tr>\n",
              "    <tr>\n",
              "      <th>4181</th>\n",
              "      <td>18274.0</td>\n",
              "      <td>NOT CHURN</td>\n",
              "    </tr>\n",
              "    <tr>\n",
              "      <th>4182</th>\n",
              "      <td>18276.0</td>\n",
              "      <td>NOT CHURN</td>\n",
              "    </tr>\n",
              "    <tr>\n",
              "      <th>4183</th>\n",
              "      <td>18277.0</td>\n",
              "      <td>NOT CHURN</td>\n",
              "    </tr>\n",
              "    <tr>\n",
              "      <th>4184</th>\n",
              "      <td>18278.0</td>\n",
              "      <td>NOT CHURN</td>\n",
              "    </tr>\n",
              "    <tr>\n",
              "      <th>4185</th>\n",
              "      <td>18280.0</td>\n",
              "      <td>CHURN</td>\n",
              "    </tr>\n",
              "    <tr>\n",
              "      <th>4186</th>\n",
              "      <td>18281.0</td>\n",
              "      <td>CHURN</td>\n",
              "    </tr>\n",
              "    <tr>\n",
              "      <th>4187</th>\n",
              "      <td>18282.0</td>\n",
              "      <td>NOT CHURN</td>\n",
              "    </tr>\n",
              "    <tr>\n",
              "      <th>4188</th>\n",
              "      <td>18283.0</td>\n",
              "      <td>NOT CHURN</td>\n",
              "    </tr>\n",
              "    <tr>\n",
              "      <th>4189</th>\n",
              "      <td>18287.0</td>\n",
              "      <td>NOT CHURN</td>\n",
              "    </tr>\n",
              "  </tbody>\n",
              "</table>\n",
              "</div>"
            ],
            "text/plain": [
              "      CustomerID Prediction\n",
              "4180     18273.0  NOT CHURN\n",
              "4181     18274.0  NOT CHURN\n",
              "4182     18276.0  NOT CHURN\n",
              "4183     18277.0  NOT CHURN\n",
              "4184     18278.0  NOT CHURN\n",
              "4185     18280.0      CHURN\n",
              "4186     18281.0      CHURN\n",
              "4187     18282.0  NOT CHURN\n",
              "4188     18283.0  NOT CHURN\n",
              "4189     18287.0  NOT CHURN"
            ]
          },
          "metadata": {
            "tags": []
          },
          "execution_count": 135
        }
      ]
    },
    {
      "cell_type": "code",
      "metadata": {
        "id": "6zSZ6bRIo86M"
      },
      "source": [
        ""
      ],
      "execution_count": null,
      "outputs": []
    }
  ]
}