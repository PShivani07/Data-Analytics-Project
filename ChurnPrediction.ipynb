{
  "nbformat": 4,
  "nbformat_minor": 0,
  "metadata": {
    "colab": {
      "name": "ChurnPrediction.ipynb",
      "provenance": [],
      "collapsed_sections": [
        "j8lNbjVdf_Qi",
        "fSGiNKntgMvj",
        "kxt6FIfffxsp",
        "_Cgo2yJ_wbTo",
        "jqxsP56NaHcg",
        "1Xg7Hfyh_XwM",
        "WIOv_TP3DMs8",
        "o91nk9l-MdbJ"
      ],
      "include_colab_link": true
    },
    "kernelspec": {
      "name": "python3",
      "display_name": "Python 3"
    }
  },
  "cells": [
    {
      "cell_type": "markdown",
      "metadata": {
        "id": "view-in-github",
        "colab_type": "text"
      },
      "source": [
        "<a href=\"https://colab.research.google.com/github/PShivani07/Data-Analytics-Project/blob/main/ChurnPrediction.ipynb\" target=\"_parent\"><img src=\"https://colab.research.google.com/assets/colab-badge.svg\" alt=\"Open In Colab\"/></a>"
      ]
    },
    {
      "cell_type": "markdown",
      "metadata": {
        "id": "PfEalNUUa60H"
      },
      "source": [
        "# <font color=\"purple\">**Churn prediction and Item recommendation on online retail dataset**</font>\n",
        "\n",
        "## **Problem Statement**:\n",
        "\n",
        "Given a transactional dataset, tasks to perform : <font color=\"blue\">Exploratory Data Analysis (EDA), Data pre-processing, Customer Segmentation, User profiling, Item recommendation for each users and churn prediction</font>"
      ]
    },
    {
      "cell_type": "markdown",
      "metadata": {
        "id": "j8lNbjVdf_Qi"
      },
      "source": [
        "# <font color=\"blue\">**Exploratory Data Analysis (EDA)**</font>"
      ]
    },
    {
      "cell_type": "code",
      "metadata": {
        "id": "xZC3XxrZXGvm"
      },
      "source": [
        "# Importing the required libraries\n",
        "import numpy as np\n",
        "import pandas as pd\n",
        "import matplotlib.pyplot as plt"
      ],
      "execution_count": 2,
      "outputs": []
    },
    {
      "cell_type": "code",
      "metadata": {
        "id": "IuM6XB3LcsJY",
        "outputId": "1524ca47-88e1-4030-bd89-41a644b0c5b3",
        "colab": {
          "base_uri": "https://localhost:8080/",
          "height": 0
        }
      },
      "source": [
        "# Read the csv file into dataframe\n",
        "dataset = pd.read_csv('data.csv', encoding='unicode_escape')\n",
        "dataset.head(10) "
      ],
      "execution_count": 3,
      "outputs": [
        {
          "output_type": "execute_result",
          "data": {
            "text/html": [
              "<div>\n",
              "<style scoped>\n",
              "    .dataframe tbody tr th:only-of-type {\n",
              "        vertical-align: middle;\n",
              "    }\n",
              "\n",
              "    .dataframe tbody tr th {\n",
              "        vertical-align: top;\n",
              "    }\n",
              "\n",
              "    .dataframe thead th {\n",
              "        text-align: right;\n",
              "    }\n",
              "</style>\n",
              "<table border=\"1\" class=\"dataframe\">\n",
              "  <thead>\n",
              "    <tr style=\"text-align: right;\">\n",
              "      <th></th>\n",
              "      <th>InvoiceNo</th>\n",
              "      <th>StockCode</th>\n",
              "      <th>Description</th>\n",
              "      <th>Quantity</th>\n",
              "      <th>InvoiceDate</th>\n",
              "      <th>UnitPrice</th>\n",
              "      <th>CustomerID</th>\n",
              "      <th>Country</th>\n",
              "    </tr>\n",
              "  </thead>\n",
              "  <tbody>\n",
              "    <tr>\n",
              "      <th>0</th>\n",
              "      <td>536365</td>\n",
              "      <td>85123A</td>\n",
              "      <td>WHITE HANGING HEART T-LIGHT HOLDER</td>\n",
              "      <td>6</td>\n",
              "      <td>12/1/2010 8:26</td>\n",
              "      <td>2.55</td>\n",
              "      <td>17850.0</td>\n",
              "      <td>United Kingdom</td>\n",
              "    </tr>\n",
              "    <tr>\n",
              "      <th>1</th>\n",
              "      <td>536365</td>\n",
              "      <td>71053</td>\n",
              "      <td>WHITE METAL LANTERN</td>\n",
              "      <td>6</td>\n",
              "      <td>12/1/2010 8:26</td>\n",
              "      <td>3.39</td>\n",
              "      <td>17850.0</td>\n",
              "      <td>United Kingdom</td>\n",
              "    </tr>\n",
              "    <tr>\n",
              "      <th>2</th>\n",
              "      <td>536365</td>\n",
              "      <td>84406B</td>\n",
              "      <td>CREAM CUPID HEARTS COAT HANGER</td>\n",
              "      <td>8</td>\n",
              "      <td>12/1/2010 8:26</td>\n",
              "      <td>2.75</td>\n",
              "      <td>17850.0</td>\n",
              "      <td>United Kingdom</td>\n",
              "    </tr>\n",
              "    <tr>\n",
              "      <th>3</th>\n",
              "      <td>536365</td>\n",
              "      <td>84029G</td>\n",
              "      <td>KNITTED UNION FLAG HOT WATER BOTTLE</td>\n",
              "      <td>6</td>\n",
              "      <td>12/1/2010 8:26</td>\n",
              "      <td>3.39</td>\n",
              "      <td>17850.0</td>\n",
              "      <td>United Kingdom</td>\n",
              "    </tr>\n",
              "    <tr>\n",
              "      <th>4</th>\n",
              "      <td>536365</td>\n",
              "      <td>84029E</td>\n",
              "      <td>RED WOOLLY HOTTIE WHITE HEART.</td>\n",
              "      <td>6</td>\n",
              "      <td>12/1/2010 8:26</td>\n",
              "      <td>3.39</td>\n",
              "      <td>17850.0</td>\n",
              "      <td>United Kingdom</td>\n",
              "    </tr>\n",
              "    <tr>\n",
              "      <th>5</th>\n",
              "      <td>536365</td>\n",
              "      <td>22752</td>\n",
              "      <td>SET 7 BABUSHKA NESTING BOXES</td>\n",
              "      <td>2</td>\n",
              "      <td>12/1/2010 8:26</td>\n",
              "      <td>7.65</td>\n",
              "      <td>17850.0</td>\n",
              "      <td>United Kingdom</td>\n",
              "    </tr>\n",
              "    <tr>\n",
              "      <th>6</th>\n",
              "      <td>536365</td>\n",
              "      <td>21730</td>\n",
              "      <td>GLASS STAR FROSTED T-LIGHT HOLDER</td>\n",
              "      <td>6</td>\n",
              "      <td>12/1/2010 8:26</td>\n",
              "      <td>4.25</td>\n",
              "      <td>17850.0</td>\n",
              "      <td>United Kingdom</td>\n",
              "    </tr>\n",
              "    <tr>\n",
              "      <th>7</th>\n",
              "      <td>536366</td>\n",
              "      <td>22633</td>\n",
              "      <td>HAND WARMER UNION JACK</td>\n",
              "      <td>6</td>\n",
              "      <td>12/1/2010 8:28</td>\n",
              "      <td>1.85</td>\n",
              "      <td>17850.0</td>\n",
              "      <td>United Kingdom</td>\n",
              "    </tr>\n",
              "    <tr>\n",
              "      <th>8</th>\n",
              "      <td>536366</td>\n",
              "      <td>22632</td>\n",
              "      <td>HAND WARMER RED POLKA DOT</td>\n",
              "      <td>6</td>\n",
              "      <td>12/1/2010 8:28</td>\n",
              "      <td>1.85</td>\n",
              "      <td>17850.0</td>\n",
              "      <td>United Kingdom</td>\n",
              "    </tr>\n",
              "    <tr>\n",
              "      <th>9</th>\n",
              "      <td>536367</td>\n",
              "      <td>84879</td>\n",
              "      <td>ASSORTED COLOUR BIRD ORNAMENT</td>\n",
              "      <td>32</td>\n",
              "      <td>12/1/2010 8:34</td>\n",
              "      <td>1.69</td>\n",
              "      <td>13047.0</td>\n",
              "      <td>United Kingdom</td>\n",
              "    </tr>\n",
              "  </tbody>\n",
              "</table>\n",
              "</div>"
            ],
            "text/plain": [
              "  InvoiceNo StockCode  ... CustomerID         Country\n",
              "0    536365    85123A  ...    17850.0  United Kingdom\n",
              "1    536365     71053  ...    17850.0  United Kingdom\n",
              "2    536365    84406B  ...    17850.0  United Kingdom\n",
              "3    536365    84029G  ...    17850.0  United Kingdom\n",
              "4    536365    84029E  ...    17850.0  United Kingdom\n",
              "5    536365     22752  ...    17850.0  United Kingdom\n",
              "6    536365     21730  ...    17850.0  United Kingdom\n",
              "7    536366     22633  ...    17850.0  United Kingdom\n",
              "8    536366     22632  ...    17850.0  United Kingdom\n",
              "9    536367     84879  ...    13047.0  United Kingdom\n",
              "\n",
              "[10 rows x 8 columns]"
            ]
          },
          "metadata": {
            "tags": []
          },
          "execution_count": 3
        }
      ]
    },
    {
      "cell_type": "code",
      "metadata": {
        "id": "2K8DfkC6c98T",
        "outputId": "13e06f94-8394-4441-f12c-3da276aed0f4",
        "colab": {
          "base_uri": "https://localhost:8080/"
        }
      },
      "source": [
        "# Exploring number of observations and attributes\n",
        "dataset.shape"
      ],
      "execution_count": 4,
      "outputs": [
        {
          "output_type": "execute_result",
          "data": {
            "text/plain": [
              "(126831, 8)"
            ]
          },
          "metadata": {
            "tags": []
          },
          "execution_count": 4
        }
      ]
    },
    {
      "cell_type": "code",
      "metadata": {
        "id": "Za19FRgjdp9v",
        "outputId": "f1317e7f-a8a2-4d6b-ee7b-6db38a8518cd",
        "colab": {
          "base_uri": "https://localhost:8080/"
        }
      },
      "source": [
        "# Exploring names of the attributes\n",
        "dataset.columns"
      ],
      "execution_count": 5,
      "outputs": [
        {
          "output_type": "execute_result",
          "data": {
            "text/plain": [
              "Index(['InvoiceNo', 'StockCode', 'Description', 'Quantity', 'InvoiceDate',\n",
              "       'UnitPrice', 'CustomerID', 'Country'],\n",
              "      dtype='object')"
            ]
          },
          "metadata": {
            "tags": []
          },
          "execution_count": 5
        }
      ]
    },
    {
      "cell_type": "code",
      "metadata": {
        "id": "oj0xyHjNdrNa",
        "outputId": "e02a52bf-a630-4691-e3b2-51abba865ec5",
        "colab": {
          "base_uri": "https://localhost:8080/"
        }
      },
      "source": [
        "# Exploring the types of the attributes\n",
        "dataset.dtypes"
      ],
      "execution_count": 6,
      "outputs": [
        {
          "output_type": "execute_result",
          "data": {
            "text/plain": [
              "InvoiceNo       object\n",
              "StockCode       object\n",
              "Description     object\n",
              "Quantity         int64\n",
              "InvoiceDate     object\n",
              "UnitPrice      float64\n",
              "CustomerID     float64\n",
              "Country         object\n",
              "dtype: object"
            ]
          },
          "metadata": {
            "tags": []
          },
          "execution_count": 6
        }
      ]
    },
    {
      "cell_type": "code",
      "metadata": {
        "id": "nXEe_JDKdtJd",
        "outputId": "eef3e443-c578-476c-fbb4-8863026bf446",
        "colab": {
          "base_uri": "https://localhost:8080/",
          "height": 0
        }
      },
      "source": [
        "# Exploring the statistics of the numerical attributes\n",
        "dataset.describe()"
      ],
      "execution_count": 7,
      "outputs": [
        {
          "output_type": "execute_result",
          "data": {
            "text/html": [
              "<div>\n",
              "<style scoped>\n",
              "    .dataframe tbody tr th:only-of-type {\n",
              "        vertical-align: middle;\n",
              "    }\n",
              "\n",
              "    .dataframe tbody tr th {\n",
              "        vertical-align: top;\n",
              "    }\n",
              "\n",
              "    .dataframe thead th {\n",
              "        text-align: right;\n",
              "    }\n",
              "</style>\n",
              "<table border=\"1\" class=\"dataframe\">\n",
              "  <thead>\n",
              "    <tr style=\"text-align: right;\">\n",
              "      <th></th>\n",
              "      <th>Quantity</th>\n",
              "      <th>UnitPrice</th>\n",
              "      <th>CustomerID</th>\n",
              "    </tr>\n",
              "  </thead>\n",
              "  <tbody>\n",
              "    <tr>\n",
              "      <th>count</th>\n",
              "      <td>126831.000000</td>\n",
              "      <td>126830.000000</td>\n",
              "      <td>85758.000000</td>\n",
              "    </tr>\n",
              "    <tr>\n",
              "      <th>mean</th>\n",
              "      <td>8.908973</td>\n",
              "      <td>5.275754</td>\n",
              "      <td>15306.998624</td>\n",
              "    </tr>\n",
              "    <tr>\n",
              "      <th>std</th>\n",
              "      <td>300.020713</td>\n",
              "      <td>110.543596</td>\n",
              "      <td>1737.416966</td>\n",
              "    </tr>\n",
              "    <tr>\n",
              "      <th>min</th>\n",
              "      <td>-74215.000000</td>\n",
              "      <td>0.000000</td>\n",
              "      <td>12346.000000</td>\n",
              "    </tr>\n",
              "    <tr>\n",
              "      <th>25%</th>\n",
              "      <td>1.000000</td>\n",
              "      <td>1.250000</td>\n",
              "      <td>13911.000000</td>\n",
              "    </tr>\n",
              "    <tr>\n",
              "      <th>50%</th>\n",
              "      <td>3.000000</td>\n",
              "      <td>2.460000</td>\n",
              "      <td>15227.500000</td>\n",
              "    </tr>\n",
              "    <tr>\n",
              "      <th>75%</th>\n",
              "      <td>10.000000</td>\n",
              "      <td>4.210000</td>\n",
              "      <td>16893.000000</td>\n",
              "    </tr>\n",
              "    <tr>\n",
              "      <th>max</th>\n",
              "      <td>74215.000000</td>\n",
              "      <td>16888.020000</td>\n",
              "      <td>18283.000000</td>\n",
              "    </tr>\n",
              "  </tbody>\n",
              "</table>\n",
              "</div>"
            ],
            "text/plain": [
              "            Quantity      UnitPrice    CustomerID\n",
              "count  126831.000000  126830.000000  85758.000000\n",
              "mean        8.908973       5.275754  15306.998624\n",
              "std       300.020713     110.543596   1737.416966\n",
              "min    -74215.000000       0.000000  12346.000000\n",
              "25%         1.000000       1.250000  13911.000000\n",
              "50%         3.000000       2.460000  15227.500000\n",
              "75%        10.000000       4.210000  16893.000000\n",
              "max     74215.000000   16888.020000  18283.000000"
            ]
          },
          "metadata": {
            "tags": []
          },
          "execution_count": 7
        }
      ]
    },
    {
      "cell_type": "markdown",
      "metadata": {
        "id": "fSGiNKntgMvj"
      },
      "source": [
        "# <font color=\"blue\">**Data Pre-Processing**</font>"
      ]
    },
    {
      "cell_type": "markdown",
      "metadata": {
        "id": "kxt6FIfffxsp"
      },
      "source": [
        "## **Imputation**"
      ]
    },
    {
      "cell_type": "code",
      "metadata": {
        "id": "rb1jRfMddv4z",
        "outputId": "a738e47b-a981-4b12-ce14-c86720fe6651",
        "colab": {
          "base_uri": "https://localhost:8080/"
        }
      },
      "source": [
        "# calculating number of missing values in each of the attributes\n",
        "dataset.isnull().sum()"
      ],
      "execution_count": 8,
      "outputs": [
        {
          "output_type": "execute_result",
          "data": {
            "text/plain": [
              "InvoiceNo          0\n",
              "StockCode          0\n",
              "Description      345\n",
              "Quantity           0\n",
              "InvoiceDate        0\n",
              "UnitPrice          1\n",
              "CustomerID     41073\n",
              "Country            1\n",
              "dtype: int64"
            ]
          },
          "metadata": {
            "tags": []
          },
          "execution_count": 8
        }
      ]
    },
    {
      "cell_type": "code",
      "metadata": {
        "id": "-mnk3lzkg4wZ"
      },
      "source": [
        "# threshold to drop the observations if the proportion of null values is more than the threshold.\n",
        "threshold = 0.4"
      ],
      "execution_count": 9,
      "outputs": []
    },
    {
      "cell_type": "code",
      "metadata": {
        "id": "ipXb0e6Wh-GO",
        "outputId": "e75381c1-c726-43be-b54f-927fd8884737",
        "colab": {
          "base_uri": "https://localhost:8080/"
        }
      },
      "source": [
        "# proportion of null values in description attribute\n",
        "dataset['Description'].isnull().sum() / dataset.shape[0]"
      ],
      "execution_count": 10,
      "outputs": [
        {
          "output_type": "execute_result",
          "data": {
            "text/plain": [
              "0.0027201551671121415"
            ]
          },
          "metadata": {
            "tags": []
          },
          "execution_count": 10
        }
      ]
    },
    {
      "cell_type": "markdown",
      "metadata": {
        "id": "KTtDHH5jincQ"
      },
      "source": [
        "The proportion of null values in `Description` attribute is less than the `threshold`, hence safe to drop the observations with null values."
      ]
    },
    {
      "cell_type": "code",
      "metadata": {
        "id": "_MBxBRbcikVw"
      },
      "source": [
        "# Dropping the observations with null values for Description attribute\n",
        "dataset.dropna(subset=['Description'], inplace=True)"
      ],
      "execution_count": 11,
      "outputs": []
    },
    {
      "cell_type": "code",
      "metadata": {
        "id": "q_aRPYq6i__k",
        "outputId": "095911b0-173f-421d-eabc-fa7343c29806",
        "colab": {
          "base_uri": "https://localhost:8080/"
        }
      },
      "source": [
        "# Validation of the dropped observations with null values for Description attribute\n",
        "dataset['Description'].isnull().sum()"
      ],
      "execution_count": 12,
      "outputs": [
        {
          "output_type": "execute_result",
          "data": {
            "text/plain": [
              "0"
            ]
          },
          "metadata": {
            "tags": []
          },
          "execution_count": 12
        }
      ]
    },
    {
      "cell_type": "code",
      "metadata": {
        "id": "ZVVlRvCmjYNP",
        "outputId": "a2b132e6-f172-44b4-de42-c029bf8428ee",
        "colab": {
          "base_uri": "https://localhost:8080/"
        }
      },
      "source": [
        "# proportion of null values in CustomerID attribute\n",
        "dataset['CustomerID'].isnull().sum() / dataset.shape[0]"
      ],
      "execution_count": 13,
      "outputs": [
        {
          "output_type": "execute_result",
          "data": {
            "text/plain": [
              "0.32199611024144964"
            ]
          },
          "metadata": {
            "tags": []
          },
          "execution_count": 13
        }
      ]
    },
    {
      "cell_type": "markdown",
      "metadata": {
        "id": "ZmQSIsLIjse_"
      },
      "source": [
        "The proportion of null values in `CustomerID` attribute is less than the `threshold`, hence safe to drop the observations with null values.\n"
      ]
    },
    {
      "cell_type": "code",
      "metadata": {
        "id": "MU0mru4Qjoy_"
      },
      "source": [
        "# Dropping the observations with null values for customerID attribute\n",
        "dataset.dropna(subset=['CustomerID'], inplace=True)"
      ],
      "execution_count": 14,
      "outputs": []
    },
    {
      "cell_type": "code",
      "metadata": {
        "id": "L0y5xBmVnJSG",
        "outputId": "4c08fe95-2b1b-4ff7-e68b-bca86606b975",
        "colab": {
          "base_uri": "https://localhost:8080/"
        }
      },
      "source": [
        "# Validation of the dropped observations with null values for CustomerID attribute\n",
        "dataset['CustomerID'].isnull().sum()"
      ],
      "execution_count": 15,
      "outputs": [
        {
          "output_type": "execute_result",
          "data": {
            "text/plain": [
              "0"
            ]
          },
          "metadata": {
            "tags": []
          },
          "execution_count": 15
        }
      ]
    },
    {
      "cell_type": "code",
      "metadata": {
        "id": "bmIW_UeknUEH",
        "outputId": "9109fb24-2336-4ba3-91c2-1eaecd9fb5f8",
        "colab": {
          "base_uri": "https://localhost:8080/"
        }
      },
      "source": [
        "# New shape of the dataset after dropping the observation with null values\n",
        "dataset.shape"
      ],
      "execution_count": 16,
      "outputs": [
        {
          "output_type": "execute_result",
          "data": {
            "text/plain": [
              "(85758, 8)"
            ]
          },
          "metadata": {
            "tags": []
          },
          "execution_count": 16
        }
      ]
    },
    {
      "cell_type": "code",
      "metadata": {
        "id": "GDY5SKQQngtg",
        "outputId": "a2438f3a-7077-436f-b26a-1a65771b2b6f",
        "colab": {
          "base_uri": "https://localhost:8080/"
        }
      },
      "source": [
        "# No attribute with null values\n",
        "dataset.isnull().sum()"
      ],
      "execution_count": 17,
      "outputs": [
        {
          "output_type": "execute_result",
          "data": {
            "text/plain": [
              "InvoiceNo      0\n",
              "StockCode      0\n",
              "Description    0\n",
              "Quantity       0\n",
              "InvoiceDate    0\n",
              "UnitPrice      0\n",
              "CustomerID     0\n",
              "Country        0\n",
              "dtype: int64"
            ]
          },
          "metadata": {
            "tags": []
          },
          "execution_count": 17
        }
      ]
    },
    {
      "cell_type": "markdown",
      "metadata": {
        "id": "NMbbcgoznrSj"
      },
      "source": [
        "## **Binning**"
      ]
    },
    {
      "cell_type": "code",
      "metadata": {
        "id": "M7gx3K6bnoNr",
        "outputId": "a26f8b9b-53c3-4299-db3d-11e125ed8338",
        "colab": {
          "base_uri": "https://localhost:8080/"
        }
      },
      "source": [
        "# Obtaining the classes of Country categorical attribute \n",
        "dataset['Country'].unique()"
      ],
      "execution_count": 18,
      "outputs": [
        {
          "output_type": "execute_result",
          "data": {
            "text/plain": [
              "array(['United Kingdom', 'France', 'Australia', 'Netherlands', 'Germany',\n",
              "       'Norway', 'EIRE', 'Switzerland', 'Spain', 'Poland', 'Portugal',\n",
              "       'Italy', 'Belgium', 'Lithuania', 'Japan', 'Iceland',\n",
              "       'Channel Islands', 'Denmark', 'Cyprus', 'Sweden', 'Austria',\n",
              "       'Israel', 'Finland', 'Greece', 'Singapore', 'Lebanon',\n",
              "       'United Arab Emirates', 'Saudi Arabia', 'Czech Republic', 'Canada'],\n",
              "      dtype=object)"
            ]
          },
          "metadata": {
            "tags": []
          },
          "execution_count": 18
        }
      ]
    },
    {
      "cell_type": "code",
      "metadata": {
        "id": "nILrcmxyn6kL",
        "outputId": "d6fb373b-964d-4808-9bec-7fa986238e2d",
        "colab": {
          "base_uri": "https://localhost:8080/"
        }
      },
      "source": [
        "# Obtaining the counts of each class of Country attribute\n",
        "dataset['Country'].value_counts()"
      ],
      "execution_count": 19,
      "outputs": [
        {
          "output_type": "execute_result",
          "data": {
            "text/plain": [
              "United Kingdom          75999\n",
              "Germany                  2110\n",
              "France                   1769\n",
              "EIRE                     1331\n",
              "Spain                     647\n",
              "Netherlands               527\n",
              "Portugal                  355\n",
              "Belgium                   355\n",
              "Australia                 347\n",
              "Switzerland               316\n",
              "Cyprus                    304\n",
              "Finland                   244\n",
              "Channel Islands           241\n",
              "Italy                     239\n",
              "Norway                    197\n",
              "Japan                     178\n",
              "Sweden                    103\n",
              "Poland                     70\n",
              "Iceland                    60\n",
              "Denmark                    59\n",
              "Singapore                  56\n",
              "Greece                     54\n",
              "Lebanon                    45\n",
              "Lithuania                  35\n",
              "Austria                    34\n",
              "United Arab Emirates       30\n",
              "Israel                     18\n",
              "Czech Republic             15\n",
              "Saudi Arabia               10\n",
              "Canada                     10\n",
              "Name: Country, dtype: int64"
            ]
          },
          "metadata": {
            "tags": []
          },
          "execution_count": 19
        }
      ]
    },
    {
      "cell_type": "markdown",
      "metadata": {
        "id": "immcLne2oQ0n"
      },
      "source": [
        "Replacing the `Country` name class with `others` whose frequency is less than 100"
      ]
    },
    {
      "cell_type": "code",
      "metadata": {
        "id": "3Dpp0mxwoMwC"
      },
      "source": [
        "dataset['Country'] = dataset['Country'].replace(['United Arab Emirates', 'European Community', 'RSA', 'Lebanon', 'Lithuania', 'Brazil', 'Czech Republic', 'Bahrain', 'Saudi Arabia'], 'Others')"
      ],
      "execution_count": 20,
      "outputs": []
    },
    {
      "cell_type": "code",
      "metadata": {
        "id": "GDw2pkFdpJoM",
        "outputId": "1d623362-4ea4-4a76-85b9-73d0d9ef580b",
        "colab": {
          "base_uri": "https://localhost:8080/"
        }
      },
      "source": [
        "# Obtaining the new counts of each class of Country attribute\n",
        "dataset['Country'].value_counts()"
      ],
      "execution_count": 21,
      "outputs": [
        {
          "output_type": "execute_result",
          "data": {
            "text/plain": [
              "United Kingdom     75999\n",
              "Germany             2110\n",
              "France              1769\n",
              "EIRE                1331\n",
              "Spain                647\n",
              "Netherlands          527\n",
              "Portugal             355\n",
              "Belgium              355\n",
              "Australia            347\n",
              "Switzerland          316\n",
              "Cyprus               304\n",
              "Finland              244\n",
              "Channel Islands      241\n",
              "Italy                239\n",
              "Norway               197\n",
              "Japan                178\n",
              "Others               135\n",
              "Sweden               103\n",
              "Poland                70\n",
              "Iceland               60\n",
              "Denmark               59\n",
              "Singapore             56\n",
              "Greece                54\n",
              "Austria               34\n",
              "Israel                18\n",
              "Canada                10\n",
              "Name: Country, dtype: int64"
            ]
          },
          "metadata": {
            "tags": []
          },
          "execution_count": 21
        }
      ]
    },
    {
      "cell_type": "markdown",
      "metadata": {
        "id": "VQUamq38pt1J"
      },
      "source": [
        "## **Removing and handling Outliers**\n",
        "\n",
        "Removing the outlier rows by using InterQuartile range"
      ]
    },
    {
      "cell_type": "code",
      "metadata": {
        "id": "RX5MgJFypTdv",
        "outputId": "d23352c2-7692-4386-f59c-83cfacc5f347",
        "colab": {
          "base_uri": "https://localhost:8080/"
        }
      },
      "source": [
        "# Statistical description of Quantity attribute\n",
        "dataset['Quantity'].describe()"
      ],
      "execution_count": 22,
      "outputs": [
        {
          "output_type": "execute_result",
          "data": {
            "text/plain": [
              "count    85758.000000\n",
              "mean        12.042643\n",
              "std        362.974119\n",
              "min     -74215.000000\n",
              "25%          2.000000\n",
              "50%          5.000000\n",
              "75%         12.000000\n",
              "max      74215.000000\n",
              "Name: Quantity, dtype: float64"
            ]
          },
          "metadata": {
            "tags": []
          },
          "execution_count": 22
        }
      ]
    },
    {
      "cell_type": "code",
      "metadata": {
        "id": "zJrkMj5iqNWu",
        "outputId": "0b319faf-1600-4791-b231-a32c420955a2",
        "colab": {
          "base_uri": "https://localhost:8080/"
        }
      },
      "source": [
        "# Obtaining q1, q3, iqr, upper and lower limits for Quantity attribute\n",
        "a = []\n",
        "a = np.sort(dataset['Quantity'])\n",
        "q1 = np.percentile(a, 25)\n",
        "q3 = np.percentile(a, 75)\n",
        "iqr = q3 - q1\n",
        "upper_lim = q3 + 1.5 * iqr\n",
        "lower_lim = q3 - 1.5 * iqr\n",
        "print(f'upper limit : {upper_lim}\\nlower limit : {lower_lim}')"
      ],
      "execution_count": 23,
      "outputs": [
        {
          "output_type": "stream",
          "text": [
            "upper limit : 27.0\n",
            "lower limit : -3.0\n"
          ],
          "name": "stdout"
        }
      ]
    },
    {
      "cell_type": "code",
      "metadata": {
        "id": "lt8SMkJZq66e"
      },
      "source": [
        "# Removing the outliers by filtering\n",
        "dataset = dataset[(dataset['Quantity'] < upper_lim) & (dataset['Quantity'] > lower_lim)]"
      ],
      "execution_count": 24,
      "outputs": []
    },
    {
      "cell_type": "code",
      "metadata": {
        "id": "o_SQVLRJrtCO",
        "outputId": "e3b80c30-3e5b-4d09-a635-3d2bec551c3f",
        "colab": {
          "base_uri": "https://localhost:8080/"
        }
      },
      "source": [
        "# Statistical description of UnitPrice attribute\n",
        "dataset['UnitPrice'].describe()"
      ],
      "execution_count": 25,
      "outputs": [
        {
          "output_type": "execute_result",
          "data": {
            "text/plain": [
              "count    79466.000000\n",
              "mean         3.495401\n",
              "std         15.860687\n",
              "min          0.000000\n",
              "25%          1.250000\n",
              "50%          2.100000\n",
              "75%          3.750000\n",
              "max       1715.850000\n",
              "Name: UnitPrice, dtype: float64"
            ]
          },
          "metadata": {
            "tags": []
          },
          "execution_count": 25
        }
      ]
    },
    {
      "cell_type": "code",
      "metadata": {
        "id": "t6eUSxlFr8v3",
        "outputId": "841b7756-14fc-4909-e947-d6687bf7b0fd",
        "colab": {
          "base_uri": "https://localhost:8080/"
        }
      },
      "source": [
        "# Obtaining q1, q3, iqr, upper and lower limits for UnitPrice attribute\n",
        "a = []\n",
        "a = np.sort(dataset['UnitPrice'])\n",
        "q1 = np.percentile(a, 25)\n",
        "q3 = np.percentile(a, 75)\n",
        "iqr = q3 - q1\n",
        "upper_lim = q3 + 1.5 * iqr\n",
        "lower_lim = q3 - 1.5 * iqr\n",
        "print(f'upper limit : {upper_lim}\\nlower limit : {lower_lim}')"
      ],
      "execution_count": 26,
      "outputs": [
        {
          "output_type": "stream",
          "text": [
            "upper limit : 7.5\n",
            "lower limit : 0.0\n"
          ],
          "name": "stdout"
        }
      ]
    },
    {
      "cell_type": "code",
      "metadata": {
        "id": "gt01voCOuDIZ"
      },
      "source": [
        "# Removing the outliers by filtering\n",
        "dataset = dataset[(dataset['UnitPrice'] < upper_lim) & (dataset['UnitPrice'] > lower_lim)]"
      ],
      "execution_count": 27,
      "outputs": []
    },
    {
      "cell_type": "code",
      "metadata": {
        "id": "r4jdk3B6uOSm",
        "outputId": "f870430a-558c-42cc-d5c0-c85c6b132c25",
        "colab": {
          "base_uri": "https://localhost:8080/"
        }
      },
      "source": [
        "# Obtaining the negative and 0 values of Quantity attribute\n",
        "a = []\n",
        "for i in dataset['Quantity']:\n",
        "  if i <= 0:\n",
        "    a.append(i)\n",
        "\n",
        "print(a)"
      ],
      "execution_count": 28,
      "outputs": [
        {
          "output_type": "stream",
          "text": [
            "[-1, -1, -2, -1, -1, -1, -2, -1, -1, -2, -1, -2, -1, -1, -1, -1, -1, -2, -1, -1, -1, -1, -1, -1, -1, -1, -2, -2, -1, -1, -1, -1, -1, -1, -1, -1, -1, -1, -1, -2, -1, -1, -1, -1, -1, -1, -1, -1, -2, -2, -1, -1, -1, -1, -1, -1, -1, -1, -1, -1, -1, -1, -1, -1, -1, -1, -1, -1, -1, -2, -1, -1, -1, -1, -1, -1, -1, -2, -2, -1, -1, -1, -1, -1, -2, -2, -1, -2, -1, -1, -2, -1, -1, -1, -1, -1, -2, -1, -1, -1, -1, -1, -1, -1, -1, -1, -1, -1, -2, -1, -1, -1, -1, -1, -1, -1, -1, -1, -2, -2, -1, -1, -2, -1, -1, -1, -1, -1, -1, -1, -1, -1, -1, -1, -1, -2, -2, -1, -2, -2, -1, -2, -1, -2, -1, -1, -1, -1, -2, -1, -1, -1, -2, -2, -2, -1, -1, -1, -1, -1, -1, -1, -2, -1, -1, -2, -2, -1, -1, -1, -1, -1, -1, -2, -1, -1, -1, -2, -1, -2, -1, -2, -1, -1, -2, -1, -1, -2, -1, -1, -1, -1, -1, -1, -1, -1, -1, -1, -2, -2, -1, -1, -1, -1, -1, -2, -1, -2, -1, -1, -2, -1, -1, -2, -1, -1, -1, -1, -1, -1, -1, -1, -1, -2, -1, -2, -2, -1, -2, -1, -1, -1, -2, -1, -2, -2, -2, -1, -1, -2, -1, -1, -1, -1, -1, -1, -1, -1, -2, -1, -1, -1, -1, -1, -1, -1, -1, -1, -1, -2, -1, -2, -1, -1, -1, -2, -2, -2, -2, -2, -1, -1, -1, -1, -1, -1, -1, -1, -1, -1, -1, -1, -1, -1, -1, -1, -1, -1, -2, -1, -1, -2, -1, -1, -2, -1, -1, -1, -1, -2, -1, -1, -1, -1, -1, -1, -2, -1, -1, -1, -1, -1, -1, -1, -2, -1, -1, -2, -1, -1, -1, -1, -1, -2, -1, -1, -2, -1, -1, -1, -1, -1, -1, -1, -1, -1, -1, -2, -1, -1, -1, -1, -2, -2, -2, -1, -1, -1, -1, -1, -1, -1, -2, -2, -2, -2, -1, -1, -1, -1, -1, -2, -2, -2, -1, -1, -1, -1, -1, -1, -1, -1, -1, -1, -1, -1, -1, -1, -1, -1, -2, -2, -1, -1, -1, -1, -1, -1, -1, -1, -1, -1, -1, -1, -1, -2, -1, -1, -2, -1, -2, -2, -2, -2, -1, -2, -1, -1, -2, -2, -1, -2, -1, -1, -1, -1, -1, -1, -2, -1, -1, -1, -1, -1, -1, -2, -1, -1, -1, -2, -1, -2, -2, -2, -1, -1, -1, -2, -2, -1, -2, -1, -2, -2, -1, -1, -1, -2, -1, -1, -2, -2, -1, -1, -2, -1, -1, -1, -2, -1, -1, -1, -1, -1, -1, -1, -1, -2, -2, -2, -1, -1, -1, -2, -2, -1, -1, -2, -2, -2, -1, -1, -2, -1, -1, -1, -1, -1, -2, -2, -1, -1, -1, -1, -2, -1, -1, -1, -1, -2, -2, -1, -1, -1, -1, -2, -2, -2, -1, -1, -1, -1, -2, -1, -1, -1, -1, -1, -1, -2, -2, -1, -2, -1, -1, -2, -1, -2, -1, -1, -2, -1, -1, -1, -2, -1, -1, -2, -1, -1, -2, -1, -1, -1, -1, -1, -1, -1, -1, -1, -1, -1, -2, -2, -1, -1, -1, -1, -1, -1, -2, -1, -2, -1, -1, -2, -2, -2, -2, -2, -2, -1, -2, -1, -1, -2, -2, -2, -1, -2, -2, -2, -1, -2, -2, -1, -1, -2, -1, -2, -1, -1, -1, -1, -1, -2, -2, -2, -1, -1, -1, -1, -1, -1, -1, -1, -2, -1, -1, -1, -1, -1, -1, -1, -1, -1, -2, -1, -1, -2, -1, -1, -2, -1, -2, -1, -1, -1, -1, -1, -1, -1, -2, -2, -1, -1, -1, -1, -2, -2, -2, -1, -1, -1, -1, -1, -1, -1, -1, -1, -1, -1, -1, -1, -1, -1, -1, -1, -1, -2, -1, -1, -2, -2, -2, -2, -2, -2, -2, -2, -2, -1, -1, -1, -1, -1, -2, -1, -1, -1, -1, -1, -2, -1, -1, -1, -1, -1, -1, -1, -1, -2, -2, -1, -2, -1, -1, -2, -2, -1, -2, -1, -2, -1, -1, -1, -1, -1, -1, -2, -1, -1, -1, -2, -1, -2, -1, -1, -1, -1, -1, -1, -2, -1, -1, -1, -2, -1, -1, -1, -1, -1, -1, -1, -1, -2, -1, -1, -1, -1, -1, -1, -1, -2, -2, -1, -1, -1, -1, -1, -2, -1, -1, -1, -1, -2, -2, -1, -2, -1, -1, -1, -1, -1, -1, -1, -1, -1, -1, -2, -1, -1, -1, -2, -1, -2, -1, -1, -1, -1, -1, -1, -2, -1, -1, -1, -1, -1, -1, -1, -2, -1, -1, -2, -2, -1, -2, -1, -1, -2, -1, -1, -1, -1, -2, -1, -1, -1, -1, -1, -1, -2, -1, -1, -1, -1, -1, -1, -1, -1, -1, -1, -1, -1, -1, -1, -1, -1, -1, -1, -1, -2, -1, -2, -1, -1, -1, -1, -2, -1, -1, -2, -1, -1, -2, -2, -2, -1, -1, -1, -1, -2, -1, -2, -1, -1, -1, -1, -1, -1, -1, -1, -1, -2, -1, -2, -1, -1, -1, -1, -1, -1, -1, -2, -2, -1, -1, -2, -2, -1, -1, -1, -1, -1, -1, -1, -2, -1, -1, -2, -2, -1, -1, -1, -1, -1, -1, -1, -1, -2, -1, -2, -1, -1, -1]\n"
          ],
          "name": "stdout"
        }
      ]
    },
    {
      "cell_type": "code",
      "metadata": {
        "id": "QBx0h7KAumEp"
      },
      "source": [
        "# Excluding negative quantity and 0 valued observations\n",
        "dataset = dataset[dataset['Quantity'] > 0]"
      ],
      "execution_count": 29,
      "outputs": []
    },
    {
      "cell_type": "code",
      "metadata": {
        "id": "5i1Szs7zpv4M",
        "outputId": "c153a7b7-67b2-4cd8-8b6f-16076622c612",
        "colab": {
          "base_uri": "https://localhost:8080/"
        }
      },
      "source": [
        "# Obtaining the negative and 0 values of UnitPrice attribute\n",
        "b = []\n",
        "for i in dataset['UnitPrice']:\n",
        "  if i <= 0:\n",
        "    b.append(i)\n",
        "print(b)"
      ],
      "execution_count": 30,
      "outputs": [
        {
          "output_type": "stream",
          "text": [
            "[]\n"
          ],
          "name": "stdout"
        }
      ]
    },
    {
      "cell_type": "code",
      "metadata": {
        "id": "bkmdUMt2qH4N"
      },
      "source": [
        "# Excluding negative quantity and 0 valued observations\n",
        "dataset = dataset[dataset['UnitPrice'] > 0]"
      ],
      "execution_count": 31,
      "outputs": []
    },
    {
      "cell_type": "code",
      "metadata": {
        "id": "52pwxZE8qR6H",
        "outputId": "a43c60b8-2fd2-4bd9-905b-1d0c439e321d",
        "colab": {
          "base_uri": "https://localhost:8080/"
        }
      },
      "source": [
        "# New shape of the dataset\n",
        "dataset.shape"
      ],
      "execution_count": 32,
      "outputs": [
        {
          "output_type": "execute_result",
          "data": {
            "text/plain": [
              "(69987, 8)"
            ]
          },
          "metadata": {
            "tags": []
          },
          "execution_count": 32
        }
      ]
    },
    {
      "cell_type": "markdown",
      "metadata": {
        "id": "A36NzJd0qcKp"
      },
      "source": [
        "## **Log Transformation**"
      ]
    },
    {
      "cell_type": "code",
      "metadata": {
        "id": "yTJJNvl9qW_A"
      },
      "source": [
        "# Applying log transformation on Quantity and UnitPrice attributes\n",
        "dataset['Log_Transformed_Quantity'] = dataset['Quantity'].transform(np.log1p)\n",
        "dataset['Log_Transformed_UnitPrice'] = dataset['UnitPrice'].transform(np.log1p)"
      ],
      "execution_count": 33,
      "outputs": []
    },
    {
      "cell_type": "code",
      "metadata": {
        "id": "g8_-dKtArKgU",
        "outputId": "24fecaea-2dec-4347-be4f-02032b102ebb",
        "colab": {
          "base_uri": "https://localhost:8080/",
          "height": 0
        }
      },
      "source": [
        "# Exploring the dataset after transformations\n",
        "dataset.head(10)"
      ],
      "execution_count": 34,
      "outputs": [
        {
          "output_type": "execute_result",
          "data": {
            "text/html": [
              "<div>\n",
              "<style scoped>\n",
              "    .dataframe tbody tr th:only-of-type {\n",
              "        vertical-align: middle;\n",
              "    }\n",
              "\n",
              "    .dataframe tbody tr th {\n",
              "        vertical-align: top;\n",
              "    }\n",
              "\n",
              "    .dataframe thead th {\n",
              "        text-align: right;\n",
              "    }\n",
              "</style>\n",
              "<table border=\"1\" class=\"dataframe\">\n",
              "  <thead>\n",
              "    <tr style=\"text-align: right;\">\n",
              "      <th></th>\n",
              "      <th>InvoiceNo</th>\n",
              "      <th>StockCode</th>\n",
              "      <th>Description</th>\n",
              "      <th>Quantity</th>\n",
              "      <th>InvoiceDate</th>\n",
              "      <th>UnitPrice</th>\n",
              "      <th>CustomerID</th>\n",
              "      <th>Country</th>\n",
              "      <th>Log_Transformed_Quantity</th>\n",
              "      <th>Log_Transformed_UnitPrice</th>\n",
              "    </tr>\n",
              "  </thead>\n",
              "  <tbody>\n",
              "    <tr>\n",
              "      <th>0</th>\n",
              "      <td>536365</td>\n",
              "      <td>85123A</td>\n",
              "      <td>WHITE HANGING HEART T-LIGHT HOLDER</td>\n",
              "      <td>6</td>\n",
              "      <td>12/1/2010 8:26</td>\n",
              "      <td>2.55</td>\n",
              "      <td>17850.0</td>\n",
              "      <td>United Kingdom</td>\n",
              "      <td>1.945910</td>\n",
              "      <td>1.266948</td>\n",
              "    </tr>\n",
              "    <tr>\n",
              "      <th>1</th>\n",
              "      <td>536365</td>\n",
              "      <td>71053</td>\n",
              "      <td>WHITE METAL LANTERN</td>\n",
              "      <td>6</td>\n",
              "      <td>12/1/2010 8:26</td>\n",
              "      <td>3.39</td>\n",
              "      <td>17850.0</td>\n",
              "      <td>United Kingdom</td>\n",
              "      <td>1.945910</td>\n",
              "      <td>1.479329</td>\n",
              "    </tr>\n",
              "    <tr>\n",
              "      <th>2</th>\n",
              "      <td>536365</td>\n",
              "      <td>84406B</td>\n",
              "      <td>CREAM CUPID HEARTS COAT HANGER</td>\n",
              "      <td>8</td>\n",
              "      <td>12/1/2010 8:26</td>\n",
              "      <td>2.75</td>\n",
              "      <td>17850.0</td>\n",
              "      <td>United Kingdom</td>\n",
              "      <td>2.197225</td>\n",
              "      <td>1.321756</td>\n",
              "    </tr>\n",
              "    <tr>\n",
              "      <th>3</th>\n",
              "      <td>536365</td>\n",
              "      <td>84029G</td>\n",
              "      <td>KNITTED UNION FLAG HOT WATER BOTTLE</td>\n",
              "      <td>6</td>\n",
              "      <td>12/1/2010 8:26</td>\n",
              "      <td>3.39</td>\n",
              "      <td>17850.0</td>\n",
              "      <td>United Kingdom</td>\n",
              "      <td>1.945910</td>\n",
              "      <td>1.479329</td>\n",
              "    </tr>\n",
              "    <tr>\n",
              "      <th>4</th>\n",
              "      <td>536365</td>\n",
              "      <td>84029E</td>\n",
              "      <td>RED WOOLLY HOTTIE WHITE HEART.</td>\n",
              "      <td>6</td>\n",
              "      <td>12/1/2010 8:26</td>\n",
              "      <td>3.39</td>\n",
              "      <td>17850.0</td>\n",
              "      <td>United Kingdom</td>\n",
              "      <td>1.945910</td>\n",
              "      <td>1.479329</td>\n",
              "    </tr>\n",
              "    <tr>\n",
              "      <th>6</th>\n",
              "      <td>536365</td>\n",
              "      <td>21730</td>\n",
              "      <td>GLASS STAR FROSTED T-LIGHT HOLDER</td>\n",
              "      <td>6</td>\n",
              "      <td>12/1/2010 8:26</td>\n",
              "      <td>4.25</td>\n",
              "      <td>17850.0</td>\n",
              "      <td>United Kingdom</td>\n",
              "      <td>1.945910</td>\n",
              "      <td>1.658228</td>\n",
              "    </tr>\n",
              "    <tr>\n",
              "      <th>7</th>\n",
              "      <td>536366</td>\n",
              "      <td>22633</td>\n",
              "      <td>HAND WARMER UNION JACK</td>\n",
              "      <td>6</td>\n",
              "      <td>12/1/2010 8:28</td>\n",
              "      <td>1.85</td>\n",
              "      <td>17850.0</td>\n",
              "      <td>United Kingdom</td>\n",
              "      <td>1.945910</td>\n",
              "      <td>1.047319</td>\n",
              "    </tr>\n",
              "    <tr>\n",
              "      <th>8</th>\n",
              "      <td>536366</td>\n",
              "      <td>22632</td>\n",
              "      <td>HAND WARMER RED POLKA DOT</td>\n",
              "      <td>6</td>\n",
              "      <td>12/1/2010 8:28</td>\n",
              "      <td>1.85</td>\n",
              "      <td>17850.0</td>\n",
              "      <td>United Kingdom</td>\n",
              "      <td>1.945910</td>\n",
              "      <td>1.047319</td>\n",
              "    </tr>\n",
              "    <tr>\n",
              "      <th>10</th>\n",
              "      <td>536367</td>\n",
              "      <td>22745</td>\n",
              "      <td>POPPY'S PLAYHOUSE BEDROOM</td>\n",
              "      <td>6</td>\n",
              "      <td>12/1/2010 8:34</td>\n",
              "      <td>2.10</td>\n",
              "      <td>13047.0</td>\n",
              "      <td>United Kingdom</td>\n",
              "      <td>1.945910</td>\n",
              "      <td>1.131402</td>\n",
              "    </tr>\n",
              "    <tr>\n",
              "      <th>11</th>\n",
              "      <td>536367</td>\n",
              "      <td>22748</td>\n",
              "      <td>POPPY'S PLAYHOUSE KITCHEN</td>\n",
              "      <td>6</td>\n",
              "      <td>12/1/2010 8:34</td>\n",
              "      <td>2.10</td>\n",
              "      <td>13047.0</td>\n",
              "      <td>United Kingdom</td>\n",
              "      <td>1.945910</td>\n",
              "      <td>1.131402</td>\n",
              "    </tr>\n",
              "  </tbody>\n",
              "</table>\n",
              "</div>"
            ],
            "text/plain": [
              "   InvoiceNo StockCode  ... Log_Transformed_Quantity  Log_Transformed_UnitPrice\n",
              "0     536365    85123A  ...                 1.945910                   1.266948\n",
              "1     536365     71053  ...                 1.945910                   1.479329\n",
              "2     536365    84406B  ...                 2.197225                   1.321756\n",
              "3     536365    84029G  ...                 1.945910                   1.479329\n",
              "4     536365    84029E  ...                 1.945910                   1.479329\n",
              "6     536365     21730  ...                 1.945910                   1.658228\n",
              "7     536366     22633  ...                 1.945910                   1.047319\n",
              "8     536366     22632  ...                 1.945910                   1.047319\n",
              "10    536367     22745  ...                 1.945910                   1.131402\n",
              "11    536367     22748  ...                 1.945910                   1.131402\n",
              "\n",
              "[10 rows x 10 columns]"
            ]
          },
          "metadata": {
            "tags": []
          },
          "execution_count": 34
        }
      ]
    },
    {
      "cell_type": "markdown",
      "metadata": {
        "id": "seWIZgcfrR2c"
      },
      "source": [
        "## **Scaling**"
      ]
    },
    {
      "cell_type": "markdown",
      "metadata": {
        "id": "m2Ta-6NbrfLp"
      },
      "source": [
        "### 1. Normalization"
      ]
    },
    {
      "cell_type": "code",
      "metadata": {
        "id": "HvWfPNdyrPfn"
      },
      "source": [
        "dataset['Normalized_Quantity'] = (dataset['Quantity'] - dataset['Quantity'].min()) / (dataset['Quantity'].max() - dataset['Quantity'].min())\n",
        "\n",
        "dataset['Normalized_UnitPrice'] = (dataset['UnitPrice'] - dataset['UnitPrice'].min()) / (dataset['UnitPrice'].max() - dataset['UnitPrice'].min()) "
      ],
      "execution_count": 35,
      "outputs": []
    },
    {
      "cell_type": "markdown",
      "metadata": {
        "id": "ur_WQKMZsR6s"
      },
      "source": [
        "### 2. Standardization"
      ]
    },
    {
      "cell_type": "code",
      "metadata": {
        "id": "FTFYJsv7sQqH"
      },
      "source": [
        "dataset['Standardized_Quantity'] = (dataset['Quantity'] - dataset['Quantity'].mean()) / dataset['Quantity'].std()\n",
        "\n",
        "dataset['Standardized_UnitPrice'] = (dataset['UnitPrice'] - dataset['UnitPrice'].mean()) / dataset['UnitPrice'].std()"
      ],
      "execution_count": 36,
      "outputs": []
    },
    {
      "cell_type": "code",
      "metadata": {
        "id": "yCiCvxEks0Dy",
        "outputId": "59efdd68-a0b0-4985-d172-473c738d69da",
        "colab": {
          "base_uri": "https://localhost:8080/",
          "height": 0
        }
      },
      "source": [
        "# Exploring the dataset after scaling\n",
        "dataset.head(10)"
      ],
      "execution_count": 37,
      "outputs": [
        {
          "output_type": "execute_result",
          "data": {
            "text/html": [
              "<div>\n",
              "<style scoped>\n",
              "    .dataframe tbody tr th:only-of-type {\n",
              "        vertical-align: middle;\n",
              "    }\n",
              "\n",
              "    .dataframe tbody tr th {\n",
              "        vertical-align: top;\n",
              "    }\n",
              "\n",
              "    .dataframe thead th {\n",
              "        text-align: right;\n",
              "    }\n",
              "</style>\n",
              "<table border=\"1\" class=\"dataframe\">\n",
              "  <thead>\n",
              "    <tr style=\"text-align: right;\">\n",
              "      <th></th>\n",
              "      <th>InvoiceNo</th>\n",
              "      <th>StockCode</th>\n",
              "      <th>Description</th>\n",
              "      <th>Quantity</th>\n",
              "      <th>InvoiceDate</th>\n",
              "      <th>UnitPrice</th>\n",
              "      <th>CustomerID</th>\n",
              "      <th>Country</th>\n",
              "      <th>Log_Transformed_Quantity</th>\n",
              "      <th>Log_Transformed_UnitPrice</th>\n",
              "      <th>Normalized_Quantity</th>\n",
              "      <th>Normalized_UnitPrice</th>\n",
              "      <th>Standardized_Quantity</th>\n",
              "      <th>Standardized_UnitPrice</th>\n",
              "    </tr>\n",
              "  </thead>\n",
              "  <tbody>\n",
              "    <tr>\n",
              "      <th>0</th>\n",
              "      <td>536365</td>\n",
              "      <td>85123A</td>\n",
              "      <td>WHITE HANGING HEART T-LIGHT HOLDER</td>\n",
              "      <td>6</td>\n",
              "      <td>12/1/2010 8:26</td>\n",
              "      <td>2.55</td>\n",
              "      <td>17850.0</td>\n",
              "      <td>United Kingdom</td>\n",
              "      <td>1.945910</td>\n",
              "      <td>1.266948</td>\n",
              "      <td>0.20</td>\n",
              "      <td>0.335142</td>\n",
              "      <td>-0.207516</td>\n",
              "      <td>0.177813</td>\n",
              "    </tr>\n",
              "    <tr>\n",
              "      <th>1</th>\n",
              "      <td>536365</td>\n",
              "      <td>71053</td>\n",
              "      <td>WHITE METAL LANTERN</td>\n",
              "      <td>6</td>\n",
              "      <td>12/1/2010 8:26</td>\n",
              "      <td>3.39</td>\n",
              "      <td>17850.0</td>\n",
              "      <td>United Kingdom</td>\n",
              "      <td>1.945910</td>\n",
              "      <td>1.479329</td>\n",
              "      <td>0.20</td>\n",
              "      <td>0.449118</td>\n",
              "      <td>-0.207516</td>\n",
              "      <td>0.724882</td>\n",
              "    </tr>\n",
              "    <tr>\n",
              "      <th>2</th>\n",
              "      <td>536365</td>\n",
              "      <td>84406B</td>\n",
              "      <td>CREAM CUPID HEARTS COAT HANGER</td>\n",
              "      <td>8</td>\n",
              "      <td>12/1/2010 8:26</td>\n",
              "      <td>2.75</td>\n",
              "      <td>17850.0</td>\n",
              "      <td>United Kingdom</td>\n",
              "      <td>2.197225</td>\n",
              "      <td>1.321756</td>\n",
              "      <td>0.28</td>\n",
              "      <td>0.362280</td>\n",
              "      <td>0.089693</td>\n",
              "      <td>0.308067</td>\n",
              "    </tr>\n",
              "    <tr>\n",
              "      <th>3</th>\n",
              "      <td>536365</td>\n",
              "      <td>84029G</td>\n",
              "      <td>KNITTED UNION FLAG HOT WATER BOTTLE</td>\n",
              "      <td>6</td>\n",
              "      <td>12/1/2010 8:26</td>\n",
              "      <td>3.39</td>\n",
              "      <td>17850.0</td>\n",
              "      <td>United Kingdom</td>\n",
              "      <td>1.945910</td>\n",
              "      <td>1.479329</td>\n",
              "      <td>0.20</td>\n",
              "      <td>0.449118</td>\n",
              "      <td>-0.207516</td>\n",
              "      <td>0.724882</td>\n",
              "    </tr>\n",
              "    <tr>\n",
              "      <th>4</th>\n",
              "      <td>536365</td>\n",
              "      <td>84029E</td>\n",
              "      <td>RED WOOLLY HOTTIE WHITE HEART.</td>\n",
              "      <td>6</td>\n",
              "      <td>12/1/2010 8:26</td>\n",
              "      <td>3.39</td>\n",
              "      <td>17850.0</td>\n",
              "      <td>United Kingdom</td>\n",
              "      <td>1.945910</td>\n",
              "      <td>1.479329</td>\n",
              "      <td>0.20</td>\n",
              "      <td>0.449118</td>\n",
              "      <td>-0.207516</td>\n",
              "      <td>0.724882</td>\n",
              "    </tr>\n",
              "    <tr>\n",
              "      <th>6</th>\n",
              "      <td>536365</td>\n",
              "      <td>21730</td>\n",
              "      <td>GLASS STAR FROSTED T-LIGHT HOLDER</td>\n",
              "      <td>6</td>\n",
              "      <td>12/1/2010 8:26</td>\n",
              "      <td>4.25</td>\n",
              "      <td>17850.0</td>\n",
              "      <td>United Kingdom</td>\n",
              "      <td>1.945910</td>\n",
              "      <td>1.658228</td>\n",
              "      <td>0.20</td>\n",
              "      <td>0.565807</td>\n",
              "      <td>-0.207516</td>\n",
              "      <td>1.284976</td>\n",
              "    </tr>\n",
              "    <tr>\n",
              "      <th>7</th>\n",
              "      <td>536366</td>\n",
              "      <td>22633</td>\n",
              "      <td>HAND WARMER UNION JACK</td>\n",
              "      <td>6</td>\n",
              "      <td>12/1/2010 8:28</td>\n",
              "      <td>1.85</td>\n",
              "      <td>17850.0</td>\n",
              "      <td>United Kingdom</td>\n",
              "      <td>1.945910</td>\n",
              "      <td>1.047319</td>\n",
              "      <td>0.20</td>\n",
              "      <td>0.240163</td>\n",
              "      <td>-0.207516</td>\n",
              "      <td>-0.278078</td>\n",
              "    </tr>\n",
              "    <tr>\n",
              "      <th>8</th>\n",
              "      <td>536366</td>\n",
              "      <td>22632</td>\n",
              "      <td>HAND WARMER RED POLKA DOT</td>\n",
              "      <td>6</td>\n",
              "      <td>12/1/2010 8:28</td>\n",
              "      <td>1.85</td>\n",
              "      <td>17850.0</td>\n",
              "      <td>United Kingdom</td>\n",
              "      <td>1.945910</td>\n",
              "      <td>1.047319</td>\n",
              "      <td>0.20</td>\n",
              "      <td>0.240163</td>\n",
              "      <td>-0.207516</td>\n",
              "      <td>-0.278078</td>\n",
              "    </tr>\n",
              "    <tr>\n",
              "      <th>10</th>\n",
              "      <td>536367</td>\n",
              "      <td>22745</td>\n",
              "      <td>POPPY'S PLAYHOUSE BEDROOM</td>\n",
              "      <td>6</td>\n",
              "      <td>12/1/2010 8:34</td>\n",
              "      <td>2.10</td>\n",
              "      <td>13047.0</td>\n",
              "      <td>United Kingdom</td>\n",
              "      <td>1.945910</td>\n",
              "      <td>1.131402</td>\n",
              "      <td>0.20</td>\n",
              "      <td>0.274084</td>\n",
              "      <td>-0.207516</td>\n",
              "      <td>-0.115260</td>\n",
              "    </tr>\n",
              "    <tr>\n",
              "      <th>11</th>\n",
              "      <td>536367</td>\n",
              "      <td>22748</td>\n",
              "      <td>POPPY'S PLAYHOUSE KITCHEN</td>\n",
              "      <td>6</td>\n",
              "      <td>12/1/2010 8:34</td>\n",
              "      <td>2.10</td>\n",
              "      <td>13047.0</td>\n",
              "      <td>United Kingdom</td>\n",
              "      <td>1.945910</td>\n",
              "      <td>1.131402</td>\n",
              "      <td>0.20</td>\n",
              "      <td>0.274084</td>\n",
              "      <td>-0.207516</td>\n",
              "      <td>-0.115260</td>\n",
              "    </tr>\n",
              "  </tbody>\n",
              "</table>\n",
              "</div>"
            ],
            "text/plain": [
              "   InvoiceNo StockCode  ... Standardized_Quantity  Standardized_UnitPrice\n",
              "0     536365    85123A  ...             -0.207516                0.177813\n",
              "1     536365     71053  ...             -0.207516                0.724882\n",
              "2     536365    84406B  ...              0.089693                0.308067\n",
              "3     536365    84029G  ...             -0.207516                0.724882\n",
              "4     536365    84029E  ...             -0.207516                0.724882\n",
              "6     536365     21730  ...             -0.207516                1.284976\n",
              "7     536366     22633  ...             -0.207516               -0.278078\n",
              "8     536366     22632  ...             -0.207516               -0.278078\n",
              "10    536367     22745  ...             -0.207516               -0.115260\n",
              "11    536367     22748  ...             -0.207516               -0.115260\n",
              "\n",
              "[10 rows x 14 columns]"
            ]
          },
          "metadata": {
            "tags": []
          },
          "execution_count": 37
        }
      ]
    },
    {
      "cell_type": "markdown",
      "metadata": {
        "id": "fB3TqDuotHhV"
      },
      "source": [
        "## **Date & Time extraction**"
      ]
    },
    {
      "cell_type": "code",
      "metadata": {
        "id": "OzRhHRMns9FA"
      },
      "source": [
        "# Creating the attributes for date, month, year, weekday and time of InvoiceDate\n",
        "dataset['Date'] = pd.to_datetime(dataset['InvoiceDate']).dt.day\n",
        "\n",
        "dataset['Month'] = pd.to_datetime(dataset['InvoiceDate']).dt.month\n",
        "\n",
        "dataset['Year'] = pd.to_datetime(dataset['InvoiceDate']).dt.year\n",
        "\n",
        "dataset['Weekday'] = pd.to_datetime(dataset['InvoiceDate']).dt.day_name()\n",
        "\n",
        "dataset['Time'] = pd.to_datetime(dataset['InvoiceDate']).dt.time"
      ],
      "execution_count": 38,
      "outputs": []
    },
    {
      "cell_type": "code",
      "metadata": {
        "id": "75BBftyPt3VX",
        "outputId": "58b82707-1b2c-44a3-aa77-7b3ddf212332",
        "colab": {
          "base_uri": "https://localhost:8080/",
          "height": 0
        }
      },
      "source": [
        "# Exploring the created date, day, time attributes\n",
        "dataset.head(10)"
      ],
      "execution_count": 39,
      "outputs": [
        {
          "output_type": "execute_result",
          "data": {
            "text/html": [
              "<div>\n",
              "<style scoped>\n",
              "    .dataframe tbody tr th:only-of-type {\n",
              "        vertical-align: middle;\n",
              "    }\n",
              "\n",
              "    .dataframe tbody tr th {\n",
              "        vertical-align: top;\n",
              "    }\n",
              "\n",
              "    .dataframe thead th {\n",
              "        text-align: right;\n",
              "    }\n",
              "</style>\n",
              "<table border=\"1\" class=\"dataframe\">\n",
              "  <thead>\n",
              "    <tr style=\"text-align: right;\">\n",
              "      <th></th>\n",
              "      <th>InvoiceNo</th>\n",
              "      <th>StockCode</th>\n",
              "      <th>Description</th>\n",
              "      <th>Quantity</th>\n",
              "      <th>InvoiceDate</th>\n",
              "      <th>UnitPrice</th>\n",
              "      <th>CustomerID</th>\n",
              "      <th>Country</th>\n",
              "      <th>Log_Transformed_Quantity</th>\n",
              "      <th>Log_Transformed_UnitPrice</th>\n",
              "      <th>Normalized_Quantity</th>\n",
              "      <th>Normalized_UnitPrice</th>\n",
              "      <th>Standardized_Quantity</th>\n",
              "      <th>Standardized_UnitPrice</th>\n",
              "      <th>Date</th>\n",
              "      <th>Month</th>\n",
              "      <th>Year</th>\n",
              "      <th>Weekday</th>\n",
              "      <th>Time</th>\n",
              "    </tr>\n",
              "  </thead>\n",
              "  <tbody>\n",
              "    <tr>\n",
              "      <th>0</th>\n",
              "      <td>536365</td>\n",
              "      <td>85123A</td>\n",
              "      <td>WHITE HANGING HEART T-LIGHT HOLDER</td>\n",
              "      <td>6</td>\n",
              "      <td>12/1/2010 8:26</td>\n",
              "      <td>2.55</td>\n",
              "      <td>17850.0</td>\n",
              "      <td>United Kingdom</td>\n",
              "      <td>1.945910</td>\n",
              "      <td>1.266948</td>\n",
              "      <td>0.20</td>\n",
              "      <td>0.335142</td>\n",
              "      <td>-0.207516</td>\n",
              "      <td>0.177813</td>\n",
              "      <td>1</td>\n",
              "      <td>12</td>\n",
              "      <td>2010</td>\n",
              "      <td>Wednesday</td>\n",
              "      <td>08:26:00</td>\n",
              "    </tr>\n",
              "    <tr>\n",
              "      <th>1</th>\n",
              "      <td>536365</td>\n",
              "      <td>71053</td>\n",
              "      <td>WHITE METAL LANTERN</td>\n",
              "      <td>6</td>\n",
              "      <td>12/1/2010 8:26</td>\n",
              "      <td>3.39</td>\n",
              "      <td>17850.0</td>\n",
              "      <td>United Kingdom</td>\n",
              "      <td>1.945910</td>\n",
              "      <td>1.479329</td>\n",
              "      <td>0.20</td>\n",
              "      <td>0.449118</td>\n",
              "      <td>-0.207516</td>\n",
              "      <td>0.724882</td>\n",
              "      <td>1</td>\n",
              "      <td>12</td>\n",
              "      <td>2010</td>\n",
              "      <td>Wednesday</td>\n",
              "      <td>08:26:00</td>\n",
              "    </tr>\n",
              "    <tr>\n",
              "      <th>2</th>\n",
              "      <td>536365</td>\n",
              "      <td>84406B</td>\n",
              "      <td>CREAM CUPID HEARTS COAT HANGER</td>\n",
              "      <td>8</td>\n",
              "      <td>12/1/2010 8:26</td>\n",
              "      <td>2.75</td>\n",
              "      <td>17850.0</td>\n",
              "      <td>United Kingdom</td>\n",
              "      <td>2.197225</td>\n",
              "      <td>1.321756</td>\n",
              "      <td>0.28</td>\n",
              "      <td>0.362280</td>\n",
              "      <td>0.089693</td>\n",
              "      <td>0.308067</td>\n",
              "      <td>1</td>\n",
              "      <td>12</td>\n",
              "      <td>2010</td>\n",
              "      <td>Wednesday</td>\n",
              "      <td>08:26:00</td>\n",
              "    </tr>\n",
              "    <tr>\n",
              "      <th>3</th>\n",
              "      <td>536365</td>\n",
              "      <td>84029G</td>\n",
              "      <td>KNITTED UNION FLAG HOT WATER BOTTLE</td>\n",
              "      <td>6</td>\n",
              "      <td>12/1/2010 8:26</td>\n",
              "      <td>3.39</td>\n",
              "      <td>17850.0</td>\n",
              "      <td>United Kingdom</td>\n",
              "      <td>1.945910</td>\n",
              "      <td>1.479329</td>\n",
              "      <td>0.20</td>\n",
              "      <td>0.449118</td>\n",
              "      <td>-0.207516</td>\n",
              "      <td>0.724882</td>\n",
              "      <td>1</td>\n",
              "      <td>12</td>\n",
              "      <td>2010</td>\n",
              "      <td>Wednesday</td>\n",
              "      <td>08:26:00</td>\n",
              "    </tr>\n",
              "    <tr>\n",
              "      <th>4</th>\n",
              "      <td>536365</td>\n",
              "      <td>84029E</td>\n",
              "      <td>RED WOOLLY HOTTIE WHITE HEART.</td>\n",
              "      <td>6</td>\n",
              "      <td>12/1/2010 8:26</td>\n",
              "      <td>3.39</td>\n",
              "      <td>17850.0</td>\n",
              "      <td>United Kingdom</td>\n",
              "      <td>1.945910</td>\n",
              "      <td>1.479329</td>\n",
              "      <td>0.20</td>\n",
              "      <td>0.449118</td>\n",
              "      <td>-0.207516</td>\n",
              "      <td>0.724882</td>\n",
              "      <td>1</td>\n",
              "      <td>12</td>\n",
              "      <td>2010</td>\n",
              "      <td>Wednesday</td>\n",
              "      <td>08:26:00</td>\n",
              "    </tr>\n",
              "    <tr>\n",
              "      <th>6</th>\n",
              "      <td>536365</td>\n",
              "      <td>21730</td>\n",
              "      <td>GLASS STAR FROSTED T-LIGHT HOLDER</td>\n",
              "      <td>6</td>\n",
              "      <td>12/1/2010 8:26</td>\n",
              "      <td>4.25</td>\n",
              "      <td>17850.0</td>\n",
              "      <td>United Kingdom</td>\n",
              "      <td>1.945910</td>\n",
              "      <td>1.658228</td>\n",
              "      <td>0.20</td>\n",
              "      <td>0.565807</td>\n",
              "      <td>-0.207516</td>\n",
              "      <td>1.284976</td>\n",
              "      <td>1</td>\n",
              "      <td>12</td>\n",
              "      <td>2010</td>\n",
              "      <td>Wednesday</td>\n",
              "      <td>08:26:00</td>\n",
              "    </tr>\n",
              "    <tr>\n",
              "      <th>7</th>\n",
              "      <td>536366</td>\n",
              "      <td>22633</td>\n",
              "      <td>HAND WARMER UNION JACK</td>\n",
              "      <td>6</td>\n",
              "      <td>12/1/2010 8:28</td>\n",
              "      <td>1.85</td>\n",
              "      <td>17850.0</td>\n",
              "      <td>United Kingdom</td>\n",
              "      <td>1.945910</td>\n",
              "      <td>1.047319</td>\n",
              "      <td>0.20</td>\n",
              "      <td>0.240163</td>\n",
              "      <td>-0.207516</td>\n",
              "      <td>-0.278078</td>\n",
              "      <td>1</td>\n",
              "      <td>12</td>\n",
              "      <td>2010</td>\n",
              "      <td>Wednesday</td>\n",
              "      <td>08:28:00</td>\n",
              "    </tr>\n",
              "    <tr>\n",
              "      <th>8</th>\n",
              "      <td>536366</td>\n",
              "      <td>22632</td>\n",
              "      <td>HAND WARMER RED POLKA DOT</td>\n",
              "      <td>6</td>\n",
              "      <td>12/1/2010 8:28</td>\n",
              "      <td>1.85</td>\n",
              "      <td>17850.0</td>\n",
              "      <td>United Kingdom</td>\n",
              "      <td>1.945910</td>\n",
              "      <td>1.047319</td>\n",
              "      <td>0.20</td>\n",
              "      <td>0.240163</td>\n",
              "      <td>-0.207516</td>\n",
              "      <td>-0.278078</td>\n",
              "      <td>1</td>\n",
              "      <td>12</td>\n",
              "      <td>2010</td>\n",
              "      <td>Wednesday</td>\n",
              "      <td>08:28:00</td>\n",
              "    </tr>\n",
              "    <tr>\n",
              "      <th>10</th>\n",
              "      <td>536367</td>\n",
              "      <td>22745</td>\n",
              "      <td>POPPY'S PLAYHOUSE BEDROOM</td>\n",
              "      <td>6</td>\n",
              "      <td>12/1/2010 8:34</td>\n",
              "      <td>2.10</td>\n",
              "      <td>13047.0</td>\n",
              "      <td>United Kingdom</td>\n",
              "      <td>1.945910</td>\n",
              "      <td>1.131402</td>\n",
              "      <td>0.20</td>\n",
              "      <td>0.274084</td>\n",
              "      <td>-0.207516</td>\n",
              "      <td>-0.115260</td>\n",
              "      <td>1</td>\n",
              "      <td>12</td>\n",
              "      <td>2010</td>\n",
              "      <td>Wednesday</td>\n",
              "      <td>08:34:00</td>\n",
              "    </tr>\n",
              "    <tr>\n",
              "      <th>11</th>\n",
              "      <td>536367</td>\n",
              "      <td>22748</td>\n",
              "      <td>POPPY'S PLAYHOUSE KITCHEN</td>\n",
              "      <td>6</td>\n",
              "      <td>12/1/2010 8:34</td>\n",
              "      <td>2.10</td>\n",
              "      <td>13047.0</td>\n",
              "      <td>United Kingdom</td>\n",
              "      <td>1.945910</td>\n",
              "      <td>1.131402</td>\n",
              "      <td>0.20</td>\n",
              "      <td>0.274084</td>\n",
              "      <td>-0.207516</td>\n",
              "      <td>-0.115260</td>\n",
              "      <td>1</td>\n",
              "      <td>12</td>\n",
              "      <td>2010</td>\n",
              "      <td>Wednesday</td>\n",
              "      <td>08:34:00</td>\n",
              "    </tr>\n",
              "  </tbody>\n",
              "</table>\n",
              "</div>"
            ],
            "text/plain": [
              "   InvoiceNo StockCode  ...    Weekday      Time\n",
              "0     536365    85123A  ...  Wednesday  08:26:00\n",
              "1     536365     71053  ...  Wednesday  08:26:00\n",
              "2     536365    84406B  ...  Wednesday  08:26:00\n",
              "3     536365    84029G  ...  Wednesday  08:26:00\n",
              "4     536365    84029E  ...  Wednesday  08:26:00\n",
              "6     536365     21730  ...  Wednesday  08:26:00\n",
              "7     536366     22633  ...  Wednesday  08:28:00\n",
              "8     536366     22632  ...  Wednesday  08:28:00\n",
              "10    536367     22745  ...  Wednesday  08:34:00\n",
              "11    536367     22748  ...  Wednesday  08:34:00\n",
              "\n",
              "[10 rows x 19 columns]"
            ]
          },
          "metadata": {
            "tags": []
          },
          "execution_count": 39
        }
      ]
    },
    {
      "cell_type": "markdown",
      "metadata": {
        "id": "i6s3h-nnuHgn"
      },
      "source": [
        "## **Visual Representation**"
      ]
    },
    {
      "cell_type": "code",
      "metadata": {
        "id": "HlPT6RR1uBNK",
        "outputId": "a01ac175-d969-49dc-d92b-e87fcc0fed89",
        "colab": {
          "base_uri": "https://localhost:8080/",
          "height": 0
        }
      },
      "source": [
        "# Exploring the description of the 10 products with the highest count\n",
        "dataset['Description'].value_counts()[:10].plot(kind='barh', color='green', figsize=(10, 5))"
      ],
      "execution_count": 40,
      "outputs": [
        {
          "output_type": "execute_result",
          "data": {
            "text/plain": [
              "<matplotlib.axes._subplots.AxesSubplot at 0x7f17c9ad5828>"
            ]
          },
          "metadata": {
            "tags": []
          },
          "execution_count": 40
        },
        {
          "output_type": "display_data",
          "data": {
            "image/png": "[encoded data removed]",
            "text/plain": [
              "<Figure size 720x360 with 1 Axes>"
            ]
          },
          "metadata": {
            "tags": [],
            "needs_background": "light"
          }
        }
      ]
    },
    {
      "cell_type": "code",
      "metadata": {
        "id": "NTIWcnefuwcj",
        "outputId": "90f1f0ff-5777-4d30-b46a-65cd0e355c2a",
        "colab": {
          "base_uri": "https://localhost:8080/",
          "height": 0
        }
      },
      "source": [
        "# Exploring the sales in different months\n",
        "dataset['Month'].value_counts().plot(kind='barh', figsize=(10,5))"
      ],
      "execution_count": 41,
      "outputs": [
        {
          "output_type": "execute_result",
          "data": {
            "text/plain": [
              "<matplotlib.axes._subplots.AxesSubplot at 0x7f17c9aa3550>"
            ]
          },
          "metadata": {
            "tags": []
          },
          "execution_count": 41
        },
        {
          "output_type": "display_data",
          "data": {
            "image/png": "[encoded data removed]",
            "text/plain": [
              "<Figure size 720x360 with 1 Axes>"
            ]
          },
          "metadata": {
            "tags": [],
            "needs_background": "light"
          }
        }
      ]
    },
    {
      "cell_type": "markdown",
      "metadata": {
        "id": "UbPmCKzovLgP"
      },
      "source": [
        "From the graph, we can interpret that November recorded most sales and February recorded least sales."
      ]
    },
    {
      "cell_type": "code",
      "metadata": {
        "id": "xMy4ZTZZvIkt",
        "outputId": "d4478874-0ec8-4772-dfcb-e6425bfe4dbf",
        "colab": {
          "base_uri": "https://localhost:8080/",
          "height": 0
        }
      },
      "source": [
        "# Exploring the number of sales by year\n",
        "dataset['Year'].value_counts().plot(kind='pie', explode=(0,0.2), shadow=True, figsize=(10,5))"
      ],
      "execution_count": 42,
      "outputs": [
        {
          "output_type": "execute_result",
          "data": {
            "text/plain": [
              "<matplotlib.axes._subplots.AxesSubplot at 0x7f17c9551710>"
            ]
          },
          "metadata": {
            "tags": []
          },
          "execution_count": 42
        },
        {
          "output_type": "display_data",
          "data": {
            "image/png": "[encoded data removed]",
            "text/plain": [
              "<Figure size 720x360 with 1 Axes>"
            ]
          },
          "metadata": {
            "tags": []
          }
        }
      ]
    },
    {
      "cell_type": "code",
      "metadata": {
        "id": "epKjAh7IvsWG",
        "outputId": "d48fa5d7-0815-4c4a-d357-0f5d81d82353",
        "colab": {
          "base_uri": "https://localhost:8080/",
          "height": 0
        }
      },
      "source": [
        "# Exploring the number of sales by days\n",
        "dataset['Weekday'].value_counts().plot(kind='barh', color='purple', figsize=(10,5))"
      ],
      "execution_count": 43,
      "outputs": [
        {
          "output_type": "execute_result",
          "data": {
            "text/plain": [
              "<matplotlib.axes._subplots.AxesSubplot at 0x7f17c951fd68>"
            ]
          },
          "metadata": {
            "tags": []
          },
          "execution_count": 43
        },
        {
          "output_type": "display_data",
          "data": {
            "image/png": "[encoded data removed]",
            "text/plain": [
              "<Figure size 720x360 with 1 Axes>"
            ]
          },
          "metadata": {
            "tags": [],
            "needs_background": "light"
          }
        }
      ]
    },
    {
      "cell_type": "markdown",
      "metadata": {
        "id": "3QkZt6vuwGOL"
      },
      "source": [
        "From the above graph, we can interpret that the store used to be closed on saturdays and the maximum sales used to happen on thursday as opposed to the least sales on Friday."
      ]
    },
    {
      "cell_type": "markdown",
      "metadata": {
        "id": "_Cgo2yJ_wbTo"
      },
      "source": [
        "# <font color=\"blue\">**Customer Segmentation**</font>"
      ]
    },
    {
      "cell_type": "code",
      "metadata": {
        "id": "DgwLwebwwAZV",
        "outputId": "9ba211c6-ed01-4fad-97da-c857d619effa",
        "colab": {
          "base_uri": "https://localhost:8080/"
        }
      },
      "source": [
        "# Exploring the dataset grouped by InvoiceNo and Description\n",
        "dataset.groupby(['InvoiceNo', 'Description']).size()[:50]"
      ],
      "execution_count": 44,
      "outputs": [
        {
          "output_type": "execute_result",
          "data": {
            "text/plain": [
              "InvoiceNo  Description                        \n",
              "536365     CREAM CUPID HEARTS COAT HANGER         1\n",
              "           GLASS STAR FROSTED T-LIGHT HOLDER      1\n",
              "           KNITTED UNION FLAG HOT WATER BOTTLE    1\n",
              "           RED WOOLLY HOTTIE WHITE HEART.         1\n",
              "           WHITE HANGING HEART T-LIGHT HOLDER     1\n",
              "           WHITE METAL LANTERN                    1\n",
              "536366     HAND WARMER RED POLKA DOT              1\n",
              "           HAND WARMER UNION JACK                 1\n",
              "536367     BOX OF 6 ASSORTED COLOUR TEASPOONS     1\n",
              "           BOX OF VINTAGE JIGSAW BLOCKS           1\n",
              "           FELTCRAFT PRINCESS CHARLOTTE DOLL      1\n",
              "           HOME BUILDING BLOCK WORD               1\n",
              "           IVORY KNITTED MUG COSY                 1\n",
              "           LOVE BUILDING BLOCK WORD               1\n",
              "           POPPY'S PLAYHOUSE BEDROOM              1\n",
              "           POPPY'S PLAYHOUSE KITCHEN              1\n",
              "536368     BLUE COAT RACK PARIS FASHION           1\n",
              "           JAM MAKING SET WITH JARS               1\n",
              "           RED COAT RACK PARIS FASHION            1\n",
              "           YELLOW COAT RACK PARIS FASHION         1\n",
              "536369     BATH BUILDING BLOCK WORD               1\n",
              "536370      SET 2 TEA TOWELS I LOVE LONDON        1\n",
              "           ALARM CLOCK BAKELIKE GREEN             1\n",
              "           ALARM CLOCK BAKELIKE PINK              1\n",
              "           ALARM CLOCK BAKELIKE RED               1\n",
              "           CHARLOTTE BAG DOLLY GIRL DESIGN        1\n",
              "           CIRCUS PARADE LUNCH BOX                1\n",
              "           LUNCH BOX I LOVE LONDON                1\n",
              "           MINI JIGSAW CIRCUS PARADE              1\n",
              "           MINI JIGSAW SPACEBOY                   1\n",
              "           PANDA AND BUNNIES STICKER SHEET        1\n",
              "           RED TOADSTOOL LED NIGHT LIGHT          1\n",
              "           ROUND SNACK BOXES SET OF4 WOODLAND     1\n",
              "           SET/2 RED RETROSPOT TEA TOWELS         1\n",
              "           SPACEBOY LUNCH BOX                     1\n",
              "           STARS GIFT TAPE                        1\n",
              "           VINTAGE HEADS AND TAILS CARD GAME      1\n",
              "           VINTAGE SEASIDE JIGSAW PUZZLES         1\n",
              "536372     HAND WARMER RED POLKA DOT              1\n",
              "           HAND WARMER UNION JACK                 1\n",
              "536373     CREAM CUPID HEARTS COAT HANGER         1\n",
              "           EDWARDIAN PARASOL RED                  1\n",
              "           GLASS STAR FROSTED T-LIGHT HOLDER      1\n",
              "           KNITTED UNION FLAG HOT WATER BOTTLE    1\n",
              "           RED WOOLLY HOTTIE WHITE HEART.         1\n",
              "           RETRO COFFEE MUGS ASSORTED             1\n",
              "           SAVE THE PLANET MUG                    1\n",
              "           VINTAGE BILLBOARD DRINK ME MUG         1\n",
              "           VINTAGE BILLBOARD LOVE/HATE MUG        1\n",
              "           WHITE HANGING HEART T-LIGHT HOLDER     1\n",
              "dtype: int64"
            ]
          },
          "metadata": {
            "tags": []
          },
          "execution_count": 44
        }
      ]
    },
    {
      "cell_type": "code",
      "metadata": {
        "id": "3DgBVof9Tnif",
        "outputId": "b89bd1a2-3e6d-4d77-ca29-7ec5ea1b1cae",
        "colab": {
          "base_uri": "https://localhost:8080/"
        }
      },
      "source": [
        "# Exploring the dataset grouped by CustomerID and Description\n",
        "dataset.groupby(['CustomerID', 'Description']).size()"
      ],
      "execution_count": 45,
      "outputs": [
        {
          "output_type": "execute_result",
          "data": {
            "text/plain": [
              "CustomerID  Description                       \n",
              "12347.0     3D DOG PICTURE PLAYING CARDS          2\n",
              "            60 TEATIME FAIRY CAKE CASES           1\n",
              "            72 SWEETHEART FAIRY CAKE CASES        1\n",
              "            AIRLINE BAG VINTAGE JET SET BROWN     2\n",
              "            AIRLINE BAG VINTAGE JET SET WHITE     1\n",
              "                                                 ..\n",
              "18283.0     TOILET METAL SIGN                     1\n",
              "            TRAVEL SEWING KIT                     1\n",
              "            VINTAGE BILLBOARD LOVE/HATE MUG       2\n",
              "            WHITE HANGING HEART T-LIGHT HOLDER    1\n",
              "            WOODLAND CHARLOTTE BAG                2\n",
              "Length: 59301, dtype: int64"
            ]
          },
          "metadata": {
            "tags": []
          },
          "execution_count": 45
        }
      ]
    },
    {
      "cell_type": "markdown",
      "metadata": {
        "id": "2an11_aJTupR"
      },
      "source": [
        "## **1. Products Ordered**"
      ]
    },
    {
      "cell_type": "code",
      "metadata": {
        "id": "IN3J8JcST0Ek"
      },
      "source": [
        "def encode_column(column):\n",
        "  if column > 0:\n",
        "    return 1\n",
        "  if column <= 0:\n",
        "    return 0\n",
        "\n",
        "# Function to get the count of the products ordered\n",
        "def aggregate_by_ordered_quantity(dataframe, column_list):\n",
        "\n",
        "  aggregated_dataframe = dataframe.groupby(column_list).Quantity.count().reset_index()\n",
        "\n",
        "  aggregated_dataframe['Products_ordered'] = aggregated_dataframe.Quantity.apply(encode_column)\n",
        "\n",
        "  final_dataframe = aggregated_dataframe.groupby(column_list[0]).Products_ordered.sum().reset_index()\n",
        "\n",
        "  return final_dataframe"
      ],
      "execution_count": 46,
      "outputs": []
    },
    {
      "cell_type": "code",
      "metadata": {
        "id": "DDmtruxuWBBl",
        "outputId": "570ac491-d8c1-4825-96a3-d506ec573d7d",
        "colab": {
          "base_uri": "https://localhost:8080/",
          "height": 0
        }
      },
      "source": [
        "# Creating customers dataframe\n",
        "customers = aggregate_by_ordered_quantity(dataset, ['CustomerID', 'Description'])\n",
        "\n",
        "customers.head()"
      ],
      "execution_count": 47,
      "outputs": [
        {
          "output_type": "execute_result",
          "data": {
            "text/html": [
              "<div>\n",
              "<style scoped>\n",
              "    .dataframe tbody tr th:only-of-type {\n",
              "        vertical-align: middle;\n",
              "    }\n",
              "\n",
              "    .dataframe tbody tr th {\n",
              "        vertical-align: top;\n",
              "    }\n",
              "\n",
              "    .dataframe thead th {\n",
              "        text-align: right;\n",
              "    }\n",
              "</style>\n",
              "<table border=\"1\" class=\"dataframe\">\n",
              "  <thead>\n",
              "    <tr style=\"text-align: right;\">\n",
              "      <th></th>\n",
              "      <th>CustomerID</th>\n",
              "      <th>Products_ordered</th>\n",
              "    </tr>\n",
              "  </thead>\n",
              "  <tbody>\n",
              "    <tr>\n",
              "      <th>0</th>\n",
              "      <td>12347.0</td>\n",
              "      <td>46</td>\n",
              "    </tr>\n",
              "    <tr>\n",
              "      <th>1</th>\n",
              "      <td>12348.0</td>\n",
              "      <td>5</td>\n",
              "    </tr>\n",
              "    <tr>\n",
              "      <th>2</th>\n",
              "      <td>12350.0</td>\n",
              "      <td>16</td>\n",
              "    </tr>\n",
              "    <tr>\n",
              "      <th>3</th>\n",
              "      <td>12352.0</td>\n",
              "      <td>21</td>\n",
              "    </tr>\n",
              "    <tr>\n",
              "      <th>4</th>\n",
              "      <td>12356.0</td>\n",
              "      <td>17</td>\n",
              "    </tr>\n",
              "  </tbody>\n",
              "</table>\n",
              "</div>"
            ],
            "text/plain": [
              "   CustomerID  Products_ordered\n",
              "0     12347.0                46\n",
              "1     12348.0                 5\n",
              "2     12350.0                16\n",
              "3     12352.0                21\n",
              "4     12356.0                17"
            ]
          },
          "metadata": {
            "tags": []
          },
          "execution_count": 47
        }
      ]
    },
    {
      "cell_type": "markdown",
      "metadata": {
        "id": "tJHNKkzYWSxm"
      },
      "source": [
        "## **2. Total Spending**\n",
        "\n",
        "Creating a `Sales` attribute which is product of `Quantity` and `UnitPrice`."
      ]
    },
    {
      "cell_type": "code",
      "metadata": {
        "id": "IvP88RiTWON8",
        "outputId": "f1209a21-06fe-494c-c432-6064f774a83e",
        "colab": {
          "base_uri": "https://localhost:8080/",
          "height": 0
        }
      },
      "source": [
        "dataset['Sales'] = dataset['Quantity'] * dataset['UnitPrice']\n",
        "\n",
        "# Exploring the dataset to validate the Sales attribute\n",
        "dataset.head()"
      ],
      "execution_count": 48,
      "outputs": [
        {
          "output_type": "execute_result",
          "data": {
            "text/html": [
              "<div>\n",
              "<style scoped>\n",
              "    .dataframe tbody tr th:only-of-type {\n",
              "        vertical-align: middle;\n",
              "    }\n",
              "\n",
              "    .dataframe tbody tr th {\n",
              "        vertical-align: top;\n",
              "    }\n",
              "\n",
              "    .dataframe thead th {\n",
              "        text-align: right;\n",
              "    }\n",
              "</style>\n",
              "<table border=\"1\" class=\"dataframe\">\n",
              "  <thead>\n",
              "    <tr style=\"text-align: right;\">\n",
              "      <th></th>\n",
              "      <th>InvoiceNo</th>\n",
              "      <th>StockCode</th>\n",
              "      <th>Description</th>\n",
              "      <th>Quantity</th>\n",
              "      <th>InvoiceDate</th>\n",
              "      <th>UnitPrice</th>\n",
              "      <th>CustomerID</th>\n",
              "      <th>Country</th>\n",
              "      <th>Log_Transformed_Quantity</th>\n",
              "      <th>Log_Transformed_UnitPrice</th>\n",
              "      <th>Normalized_Quantity</th>\n",
              "      <th>Normalized_UnitPrice</th>\n",
              "      <th>Standardized_Quantity</th>\n",
              "      <th>Standardized_UnitPrice</th>\n",
              "      <th>Date</th>\n",
              "      <th>Month</th>\n",
              "      <th>Year</th>\n",
              "      <th>Weekday</th>\n",
              "      <th>Time</th>\n",
              "      <th>Sales</th>\n",
              "    </tr>\n",
              "  </thead>\n",
              "  <tbody>\n",
              "    <tr>\n",
              "      <th>0</th>\n",
              "      <td>536365</td>\n",
              "      <td>85123A</td>\n",
              "      <td>WHITE HANGING HEART T-LIGHT HOLDER</td>\n",
              "      <td>6</td>\n",
              "      <td>12/1/2010 8:26</td>\n",
              "      <td>2.55</td>\n",
              "      <td>17850.0</td>\n",
              "      <td>United Kingdom</td>\n",
              "      <td>1.945910</td>\n",
              "      <td>1.266948</td>\n",
              "      <td>0.20</td>\n",
              "      <td>0.335142</td>\n",
              "      <td>-0.207516</td>\n",
              "      <td>0.177813</td>\n",
              "      <td>1</td>\n",
              "      <td>12</td>\n",
              "      <td>2010</td>\n",
              "      <td>Wednesday</td>\n",
              "      <td>08:26:00</td>\n",
              "      <td>15.30</td>\n",
              "    </tr>\n",
              "    <tr>\n",
              "      <th>1</th>\n",
              "      <td>536365</td>\n",
              "      <td>71053</td>\n",
              "      <td>WHITE METAL LANTERN</td>\n",
              "      <td>6</td>\n",
              "      <td>12/1/2010 8:26</td>\n",
              "      <td>3.39</td>\n",
              "      <td>17850.0</td>\n",
              "      <td>United Kingdom</td>\n",
              "      <td>1.945910</td>\n",
              "      <td>1.479329</td>\n",
              "      <td>0.20</td>\n",
              "      <td>0.449118</td>\n",
              "      <td>-0.207516</td>\n",
              "      <td>0.724882</td>\n",
              "      <td>1</td>\n",
              "      <td>12</td>\n",
              "      <td>2010</td>\n",
              "      <td>Wednesday</td>\n",
              "      <td>08:26:00</td>\n",
              "      <td>20.34</td>\n",
              "    </tr>\n",
              "    <tr>\n",
              "      <th>2</th>\n",
              "      <td>536365</td>\n",
              "      <td>84406B</td>\n",
              "      <td>CREAM CUPID HEARTS COAT HANGER</td>\n",
              "      <td>8</td>\n",
              "      <td>12/1/2010 8:26</td>\n",
              "      <td>2.75</td>\n",
              "      <td>17850.0</td>\n",
              "      <td>United Kingdom</td>\n",
              "      <td>2.197225</td>\n",
              "      <td>1.321756</td>\n",
              "      <td>0.28</td>\n",
              "      <td>0.362280</td>\n",
              "      <td>0.089693</td>\n",
              "      <td>0.308067</td>\n",
              "      <td>1</td>\n",
              "      <td>12</td>\n",
              "      <td>2010</td>\n",
              "      <td>Wednesday</td>\n",
              "      <td>08:26:00</td>\n",
              "      <td>22.00</td>\n",
              "    </tr>\n",
              "    <tr>\n",
              "      <th>3</th>\n",
              "      <td>536365</td>\n",
              "      <td>84029G</td>\n",
              "      <td>KNITTED UNION FLAG HOT WATER BOTTLE</td>\n",
              "      <td>6</td>\n",
              "      <td>12/1/2010 8:26</td>\n",
              "      <td>3.39</td>\n",
              "      <td>17850.0</td>\n",
              "      <td>United Kingdom</td>\n",
              "      <td>1.945910</td>\n",
              "      <td>1.479329</td>\n",
              "      <td>0.20</td>\n",
              "      <td>0.449118</td>\n",
              "      <td>-0.207516</td>\n",
              "      <td>0.724882</td>\n",
              "      <td>1</td>\n",
              "      <td>12</td>\n",
              "      <td>2010</td>\n",
              "      <td>Wednesday</td>\n",
              "      <td>08:26:00</td>\n",
              "      <td>20.34</td>\n",
              "    </tr>\n",
              "    <tr>\n",
              "      <th>4</th>\n",
              "      <td>536365</td>\n",
              "      <td>84029E</td>\n",
              "      <td>RED WOOLLY HOTTIE WHITE HEART.</td>\n",
              "      <td>6</td>\n",
              "      <td>12/1/2010 8:26</td>\n",
              "      <td>3.39</td>\n",
              "      <td>17850.0</td>\n",
              "      <td>United Kingdom</td>\n",
              "      <td>1.945910</td>\n",
              "      <td>1.479329</td>\n",
              "      <td>0.20</td>\n",
              "      <td>0.449118</td>\n",
              "      <td>-0.207516</td>\n",
              "      <td>0.724882</td>\n",
              "      <td>1</td>\n",
              "      <td>12</td>\n",
              "      <td>2010</td>\n",
              "      <td>Wednesday</td>\n",
              "      <td>08:26:00</td>\n",
              "      <td>20.34</td>\n",
              "    </tr>\n",
              "  </tbody>\n",
              "</table>\n",
              "</div>"
            ],
            "text/plain": [
              "  InvoiceNo StockCode  ...      Time  Sales\n",
              "0    536365    85123A  ...  08:26:00  15.30\n",
              "1    536365     71053  ...  08:26:00  20.34\n",
              "2    536365    84406B  ...  08:26:00  22.00\n",
              "3    536365    84029G  ...  08:26:00  20.34\n",
              "4    536365    84029E  ...  08:26:00  20.34\n",
              "\n",
              "[5 rows x 20 columns]"
            ]
          },
          "metadata": {
            "tags": []
          },
          "execution_count": 48
        }
      ]
    },
    {
      "cell_type": "code",
      "metadata": {
        "id": "hyIkdv7vW2M-"
      },
      "source": [
        "# Obtaining customers total spending\n",
        "customer_total_spending = dataset.groupby('CustomerID').Sales.sum().reset_index()\n",
        "\n",
        "customer_total_spending.rename(columns = {'Sales' : 'Total_spending'}, inplace = True)"
      ],
      "execution_count": 49,
      "outputs": []
    },
    {
      "cell_type": "code",
      "metadata": {
        "id": "shD4o8NNXn-u",
        "outputId": "39b7d3e1-f294-4204-a7cd-f63ea22b7a91",
        "colab": {
          "base_uri": "https://localhost:8080/",
          "height": 0
        }
      },
      "source": [
        "# Merging the two dataframes on CustomerID\n",
        "customers = pd.merge(customers, customer_total_spending, on='CustomerID')\n",
        "\n",
        "print(f'The number of customers from the existing customer base : {customers.shape[0]}')\n",
        "\n",
        "customers.head()"
      ],
      "execution_count": 50,
      "outputs": [
        {
          "output_type": "stream",
          "text": [
            "The number of customers from the existing customer base : 1885\n"
          ],
          "name": "stdout"
        },
        {
          "output_type": "execute_result",
          "data": {
            "text/html": [
              "<div>\n",
              "<style scoped>\n",
              "    .dataframe tbody tr th:only-of-type {\n",
              "        vertical-align: middle;\n",
              "    }\n",
              "\n",
              "    .dataframe tbody tr th {\n",
              "        vertical-align: top;\n",
              "    }\n",
              "\n",
              "    .dataframe thead th {\n",
              "        text-align: right;\n",
              "    }\n",
              "</style>\n",
              "<table border=\"1\" class=\"dataframe\">\n",
              "  <thead>\n",
              "    <tr style=\"text-align: right;\">\n",
              "      <th></th>\n",
              "      <th>CustomerID</th>\n",
              "      <th>Products_ordered</th>\n",
              "      <th>Total_spending</th>\n",
              "    </tr>\n",
              "  </thead>\n",
              "  <tbody>\n",
              "    <tr>\n",
              "      <th>0</th>\n",
              "      <td>12347.0</td>\n",
              "      <td>46</td>\n",
              "      <td>1088.03</td>\n",
              "    </tr>\n",
              "    <tr>\n",
              "      <th>1</th>\n",
              "      <td>12348.0</td>\n",
              "      <td>5</td>\n",
              "      <td>73.20</td>\n",
              "    </tr>\n",
              "    <tr>\n",
              "      <th>2</th>\n",
              "      <td>12350.0</td>\n",
              "      <td>16</td>\n",
              "      <td>294.40</td>\n",
              "    </tr>\n",
              "    <tr>\n",
              "      <th>3</th>\n",
              "      <td>12352.0</td>\n",
              "      <td>21</td>\n",
              "      <td>419.08</td>\n",
              "    </tr>\n",
              "    <tr>\n",
              "      <th>4</th>\n",
              "      <td>12356.0</td>\n",
              "      <td>17</td>\n",
              "      <td>818.70</td>\n",
              "    </tr>\n",
              "  </tbody>\n",
              "</table>\n",
              "</div>"
            ],
            "text/plain": [
              "   CustomerID  Products_ordered  Total_spending\n",
              "0     12347.0                46         1088.03\n",
              "1     12348.0                 5           73.20\n",
              "2     12350.0                16          294.40\n",
              "3     12352.0                21          419.08\n",
              "4     12356.0                17          818.70"
            ]
          },
          "metadata": {
            "tags": []
          },
          "execution_count": 50
        }
      ]
    },
    {
      "cell_type": "markdown",
      "metadata": {
        "id": "2trCVr3GYiHw"
      },
      "source": [
        "## **Scaling using Log1p transform**"
      ]
    },
    {
      "cell_type": "code",
      "metadata": {
        "id": "CyfGRinYYVmP"
      },
      "source": [
        "# Function to apply log1p transformation\n",
        "def apply_log1p_transformation(dataframe, column):\n",
        "\n",
        "  dataframe['log_' + column] = np.log1p(dataframe[column])\n",
        "  return dataframe['log_' + column]"
      ],
      "execution_count": 51,
      "outputs": []
    },
    {
      "cell_type": "markdown",
      "metadata": {
        "id": "ITI9_2_iZJwo"
      },
      "source": [
        "### 1. Products ordered"
      ]
    },
    {
      "cell_type": "code",
      "metadata": {
        "id": "b0cbU8FLZIcW",
        "outputId": "22f996a1-8e82-4ec2-d8f2-db78d3af8835",
        "colab": {
          "base_uri": "https://localhost:8080/"
        }
      },
      "source": [
        "apply_log1p_transformation(customers, 'Products_ordered')"
      ],
      "execution_count": 52,
      "outputs": [
        {
          "output_type": "execute_result",
          "data": {
            "text/plain": [
              "0       3.850148\n",
              "1       1.791759\n",
              "2       2.833213\n",
              "3       3.091042\n",
              "4       2.890372\n",
              "          ...   \n",
              "1880    3.931826\n",
              "1881    2.079442\n",
              "1882    1.609438\n",
              "1883    2.197225\n",
              "1884    4.644391\n",
              "Name: log_Products_ordered, Length: 1885, dtype: float64"
            ]
          },
          "metadata": {
            "tags": []
          },
          "execution_count": 52
        }
      ]
    },
    {
      "cell_type": "markdown",
      "metadata": {
        "id": "ONFh0hLFZbUB"
      },
      "source": [
        "### 2. Total spending"
      ]
    },
    {
      "cell_type": "code",
      "metadata": {
        "id": "GsgdL-_7ZUDr",
        "outputId": "6876e2d7-aef3-417c-8337-8366c4de7e90",
        "colab": {
          "base_uri": "https://localhost:8080/"
        }
      },
      "source": [
        "apply_log1p_transformation(customers, 'Total_spending')"
      ],
      "execution_count": 53,
      "outputs": [
        {
          "output_type": "execute_result",
          "data": {
            "text/plain": [
              "0       6.993043\n",
              "1       4.306764\n",
              "2       5.688330\n",
              "3       6.040445\n",
              "4       6.708938\n",
              "          ...   \n",
              "1880    6.962859\n",
              "1881    5.133443\n",
              "1882    4.313480\n",
              "1883    4.927254\n",
              "1884    5.705281\n",
              "Name: log_Total_spending, Length: 1885, dtype: float64"
            ]
          },
          "metadata": {
            "tags": []
          },
          "execution_count": 53
        }
      ]
    },
    {
      "cell_type": "code",
      "metadata": {
        "id": "cHB4BMw3Zhe6",
        "outputId": "fcd6c588-b52b-4b9c-e279-4c42d16e1e60",
        "colab": {
          "base_uri": "https://localhost:8080/",
          "height": 0
        }
      },
      "source": [
        "# Exploring the dataset to validate the log transformed attributes\n",
        "customers.head()"
      ],
      "execution_count": 54,
      "outputs": [
        {
          "output_type": "execute_result",
          "data": {
            "text/html": [
              "<div>\n",
              "<style scoped>\n",
              "    .dataframe tbody tr th:only-of-type {\n",
              "        vertical-align: middle;\n",
              "    }\n",
              "\n",
              "    .dataframe tbody tr th {\n",
              "        vertical-align: top;\n",
              "    }\n",
              "\n",
              "    .dataframe thead th {\n",
              "        text-align: right;\n",
              "    }\n",
              "</style>\n",
              "<table border=\"1\" class=\"dataframe\">\n",
              "  <thead>\n",
              "    <tr style=\"text-align: right;\">\n",
              "      <th></th>\n",
              "      <th>CustomerID</th>\n",
              "      <th>Products_ordered</th>\n",
              "      <th>Total_spending</th>\n",
              "      <th>log_Products_ordered</th>\n",
              "      <th>log_Total_spending</th>\n",
              "    </tr>\n",
              "  </thead>\n",
              "  <tbody>\n",
              "    <tr>\n",
              "      <th>0</th>\n",
              "      <td>12347.0</td>\n",
              "      <td>46</td>\n",
              "      <td>1088.03</td>\n",
              "      <td>3.850148</td>\n",
              "      <td>6.993043</td>\n",
              "    </tr>\n",
              "    <tr>\n",
              "      <th>1</th>\n",
              "      <td>12348.0</td>\n",
              "      <td>5</td>\n",
              "      <td>73.20</td>\n",
              "      <td>1.791759</td>\n",
              "      <td>4.306764</td>\n",
              "    </tr>\n",
              "    <tr>\n",
              "      <th>2</th>\n",
              "      <td>12350.0</td>\n",
              "      <td>16</td>\n",
              "      <td>294.40</td>\n",
              "      <td>2.833213</td>\n",
              "      <td>5.688330</td>\n",
              "    </tr>\n",
              "    <tr>\n",
              "      <th>3</th>\n",
              "      <td>12352.0</td>\n",
              "      <td>21</td>\n",
              "      <td>419.08</td>\n",
              "      <td>3.091042</td>\n",
              "      <td>6.040445</td>\n",
              "    </tr>\n",
              "    <tr>\n",
              "      <th>4</th>\n",
              "      <td>12356.0</td>\n",
              "      <td>17</td>\n",
              "      <td>818.70</td>\n",
              "      <td>2.890372</td>\n",
              "      <td>6.708938</td>\n",
              "    </tr>\n",
              "  </tbody>\n",
              "</table>\n",
              "</div>"
            ],
            "text/plain": [
              "   CustomerID  Products_ordered  ...  log_Products_ordered  log_Total_spending\n",
              "0     12347.0                46  ...              3.850148            6.993043\n",
              "1     12348.0                 5  ...              1.791759            4.306764\n",
              "2     12350.0                16  ...              2.833213            5.688330\n",
              "3     12352.0                21  ...              3.091042            6.040445\n",
              "4     12356.0                17  ...              2.890372            6.708938\n",
              "\n",
              "[5 rows x 5 columns]"
            ]
          },
          "metadata": {
            "tags": []
          },
          "execution_count": 54
        }
      ]
    },
    {
      "cell_type": "markdown",
      "metadata": {
        "id": "-JoOabLBZ9U2"
      },
      "source": [
        "## **Feature Selection**"
      ]
    },
    {
      "cell_type": "code",
      "metadata": {
        "id": "epyslLQFZoCx",
        "outputId": "894f6905-5198-4239-b949-e17ece9359dd",
        "colab": {
          "base_uri": "https://localhost:8080/",
          "height": 0
        }
      },
      "source": [
        "customers.iloc[:,3:]"
      ],
      "execution_count": 55,
      "outputs": [
        {
          "output_type": "execute_result",
          "data": {
            "text/html": [
              "<div>\n",
              "<style scoped>\n",
              "    .dataframe tbody tr th:only-of-type {\n",
              "        vertical-align: middle;\n",
              "    }\n",
              "\n",
              "    .dataframe tbody tr th {\n",
              "        vertical-align: top;\n",
              "    }\n",
              "\n",
              "    .dataframe thead th {\n",
              "        text-align: right;\n",
              "    }\n",
              "</style>\n",
              "<table border=\"1\" class=\"dataframe\">\n",
              "  <thead>\n",
              "    <tr style=\"text-align: right;\">\n",
              "      <th></th>\n",
              "      <th>log_Products_ordered</th>\n",
              "      <th>log_Total_spending</th>\n",
              "    </tr>\n",
              "  </thead>\n",
              "  <tbody>\n",
              "    <tr>\n",
              "      <th>0</th>\n",
              "      <td>3.850148</td>\n",
              "      <td>6.993043</td>\n",
              "    </tr>\n",
              "    <tr>\n",
              "      <th>1</th>\n",
              "      <td>1.791759</td>\n",
              "      <td>4.306764</td>\n",
              "    </tr>\n",
              "    <tr>\n",
              "      <th>2</th>\n",
              "      <td>2.833213</td>\n",
              "      <td>5.688330</td>\n",
              "    </tr>\n",
              "    <tr>\n",
              "      <th>3</th>\n",
              "      <td>3.091042</td>\n",
              "      <td>6.040445</td>\n",
              "    </tr>\n",
              "    <tr>\n",
              "      <th>4</th>\n",
              "      <td>2.890372</td>\n",
              "      <td>6.708938</td>\n",
              "    </tr>\n",
              "    <tr>\n",
              "      <th>...</th>\n",
              "      <td>...</td>\n",
              "      <td>...</td>\n",
              "    </tr>\n",
              "    <tr>\n",
              "      <th>1880</th>\n",
              "      <td>3.931826</td>\n",
              "      <td>6.962859</td>\n",
              "    </tr>\n",
              "    <tr>\n",
              "      <th>1881</th>\n",
              "      <td>2.079442</td>\n",
              "      <td>5.133443</td>\n",
              "    </tr>\n",
              "    <tr>\n",
              "      <th>1882</th>\n",
              "      <td>1.609438</td>\n",
              "      <td>4.313480</td>\n",
              "    </tr>\n",
              "    <tr>\n",
              "      <th>1883</th>\n",
              "      <td>2.197225</td>\n",
              "      <td>4.927254</td>\n",
              "    </tr>\n",
              "    <tr>\n",
              "      <th>1884</th>\n",
              "      <td>4.644391</td>\n",
              "      <td>5.705281</td>\n",
              "    </tr>\n",
              "  </tbody>\n",
              "</table>\n",
              "<p>1885 rows × 2 columns</p>\n",
              "</div>"
            ],
            "text/plain": [
              "      log_Products_ordered  log_Total_spending\n",
              "0                 3.850148            6.993043\n",
              "1                 1.791759            4.306764\n",
              "2                 2.833213            5.688330\n",
              "3                 3.091042            6.040445\n",
              "4                 2.890372            6.708938\n",
              "...                    ...                 ...\n",
              "1880              3.931826            6.962859\n",
              "1881              2.079442            5.133443\n",
              "1882              1.609438            4.313480\n",
              "1883              2.197225            4.927254\n",
              "1884              4.644391            5.705281\n",
              "\n",
              "[1885 rows x 2 columns]"
            ]
          },
          "metadata": {
            "tags": []
          },
          "execution_count": 55
        }
      ]
    },
    {
      "cell_type": "markdown",
      "metadata": {
        "id": "jqxsP56NaHcg"
      },
      "source": [
        "# <font color=\"blue\">**K-Means Clustering**</font>"
      ]
    },
    {
      "cell_type": "code",
      "metadata": {
        "id": "5r1Glxv-aDVo"
      },
      "source": [
        "from sklearn.cluster import KMeans"
      ],
      "execution_count": 56,
      "outputs": []
    },
    {
      "cell_type": "code",
      "metadata": {
        "id": "VeGbDcSsa31S",
        "outputId": "d7f7a81d-761a-42ba-c593-6c87cdf4f154",
        "colab": {
          "base_uri": "https://localhost:8080/"
        }
      },
      "source": [
        "kmeans_model = KMeans(init='k-means++', max_iter=500, random_state=42)\n",
        "\n",
        "kmeans_model.fit(customers.iloc[:,3:])"
      ],
      "execution_count": 57,
      "outputs": [
        {
          "output_type": "execute_result",
          "data": {
            "text/plain": [
              "KMeans(algorithm='auto', copy_x=True, init='k-means++', max_iter=500,\n",
              "       n_clusters=8, n_init=10, n_jobs=None, precompute_distances='auto',\n",
              "       random_state=42, tol=0.0001, verbose=0)"
            ]
          },
          "metadata": {
            "tags": []
          },
          "execution_count": 57
        }
      ]
    },
    {
      "cell_type": "markdown",
      "metadata": {
        "id": "0KVoAapgbSys"
      },
      "source": [
        "### Intracluster distance"
      ]
    },
    {
      "cell_type": "code",
      "metadata": {
        "id": "GWm3iR-tbG8A",
        "outputId": "7fedce00-772e-4d1e-da21-3fc68db4ba43",
        "colab": {
          "base_uri": "https://localhost:8080/"
        }
      },
      "source": [
        "print(f'Intracluster distance of the model is: ', kmeans_model.inertia_)"
      ],
      "execution_count": 58,
      "outputs": [
        {
          "output_type": "stream",
          "text": [
            "Intracluster distance of the model is:  439.45206605791526\n"
          ],
          "name": "stdout"
        }
      ]
    },
    {
      "cell_type": "markdown",
      "metadata": {
        "id": "iewy40XtbmXd"
      },
      "source": [
        "This distance needs to be minimized by finding optimal hyper paramter."
      ]
    },
    {
      "cell_type": "markdown",
      "metadata": {
        "id": "jJinjptRbuJI"
      },
      "source": [
        "## **Hyperparameter tuning**"
      ]
    },
    {
      "cell_type": "code",
      "metadata": {
        "id": "sjy7SVPubjG_"
      },
      "source": [
        "def make_list_of_K(K, dataframe):\n",
        "\n",
        "  cluster_values = list(range(1, K+1))\n",
        "  inertia_values = []\n",
        "\n",
        "  for c in cluster_values:\n",
        "    model = KMeans(n_clusters=c, init='k-means++', max_iter=500, random_state=42)\n",
        "    model.fit(dataframe)\n",
        "    inertia_values.append(model.inertia_)\n",
        "  \n",
        "  return inertia_values"
      ],
      "execution_count": 59,
      "outputs": []
    },
    {
      "cell_type": "code",
      "metadata": {
        "id": "ySeGq4P6cWCa"
      },
      "source": [
        "# Checking for k values between 1 to 15\n",
        "results = make_list_of_K(15, customers.iloc[:, 3:])"
      ],
      "execution_count": 60,
      "outputs": []
    },
    {
      "cell_type": "code",
      "metadata": {
        "id": "uKbo5F9ncjqF",
        "outputId": "5e090305-e4ce-44ea-d62d-f12272c81dda",
        "colab": {
          "base_uri": "https://localhost:8080/"
        }
      },
      "source": [
        "k_values_distances = pd.DataFrame({'clusters': list(range(1, 16)), 'Intracluster distances': results})\n",
        "\n",
        "print(k_values_distances)"
      ],
      "execution_count": 61,
      "outputs": [
        {
          "output_type": "stream",
          "text": [
            "    clusters  Intracluster distances\n",
            "0          1             3870.279826\n",
            "1          2             1738.015146\n",
            "2          3             1095.557959\n",
            "3          4              818.427139\n",
            "4          5              682.766625\n",
            "5          6              576.755959\n",
            "6          7              503.256181\n",
            "7          8              439.452066\n",
            "8          9              385.296922\n",
            "9         10              348.534518\n",
            "10        11              320.267935\n",
            "11        12              295.726590\n",
            "12        13              273.314690\n",
            "13        14              256.480340\n",
            "14        15              241.480892\n"
          ],
          "name": "stdout"
        }
      ]
    },
    {
      "cell_type": "code",
      "metadata": {
        "id": "Oz7TrJe4dB7A",
        "outputId": "e0924108-1469-4e72-e7ad-76472d6aebda",
        "colab": {
          "base_uri": "https://localhost:8080/",
          "height": 0
        }
      },
      "source": [
        "plt.plot(k_values_distances['clusters'], k_values_distances['Intracluster distances'], color='red')\n",
        "plt.xlabel('K - values')\n",
        "plt.ylabel('Intracluster Distance')\n",
        "plt.title('Intracluster Distance vs K-values')\n",
        "plt.show()"
      ],
      "execution_count": 62,
      "outputs": [
        {
          "output_type": "display_data",
          "data": {
            "image/png": "[encoded data removed]",
            "text/plain": [
              "<Figure size 432x288 with 1 Axes>"
            ]
          },
          "metadata": {
            "tags": [],
            "needs_background": "light"
          }
        }
      ]
    },
    {
      "cell_type": "markdown",
      "metadata": {
        "id": "9T2rBvFKfJOS"
      },
      "source": [
        "From the graph, its clear that after k = 4, the descent gets stabilized so the optimal k is 4.  "
      ]
    },
    {
      "cell_type": "code",
      "metadata": {
        "id": "ZRHa2VOAe-Bg",
        "outputId": "17f3ef71-46e5-4d78-c53f-650976a8c9e0",
        "colab": {
          "base_uri": "https://localhost:8080/"
        }
      },
      "source": [
        "# Updating model with optimal k\n",
        "updated_kmeans_model = KMeans(n_clusters=4, init='k-means++', max_iter=500, random_state=42)\n",
        "\n",
        "updated_kmeans_model.fit_predict(customers.iloc[:, 3:])"
      ],
      "execution_count": 63,
      "outputs": [
        {
          "output_type": "execute_result",
          "data": {
            "text/plain": [
              "array([1, 2, 0, ..., 2, 3, 0], dtype=int32)"
            ]
          },
          "metadata": {
            "tags": []
          },
          "execution_count": 63
        }
      ]
    },
    {
      "cell_type": "markdown",
      "metadata": {
        "id": "1A2roXidf6tL"
      },
      "source": [
        "## Adding cluster centers"
      ]
    },
    {
      "cell_type": "code",
      "metadata": {
        "id": "jrduZ14Jfx8x",
        "outputId": "cb1c7c3c-4ad3-45e2-e88d-37357cd60784",
        "colab": {
          "base_uri": "https://localhost:8080/"
        }
      },
      "source": [
        "# create cluster centers and actual data arrays\n",
        "cluster_centers = updated_kmeans_model.cluster_centers_\n",
        "\n",
        "actual_data = np.expm1(cluster_centers)\n",
        "\n",
        "add_points = np.append(actual_data, cluster_centers, axis=1)\n",
        "\n",
        "add_points"
      ],
      "execution_count": 64,
      "outputs": [
        {
          "output_type": "execute_result",
          "data": {
            "text/plain": [
              "array([[  27.13842458,  373.94784902,    3.33713607,    5.92678695],\n",
              "       [  69.33311388, 1106.06631257,    4.25324272,    7.00946883],\n",
              "       [   2.82931118,   46.20592444,    1.34268494,    3.8545194 ],\n",
              "       [  10.55194458,  166.84995569,    2.44685378,    5.12307046]])"
            ]
          },
          "metadata": {
            "tags": []
          },
          "execution_count": 64
        }
      ]
    },
    {
      "cell_type": "code",
      "metadata": {
        "id": "J5EPmUqTgXSt"
      },
      "source": [
        "# add labels to customers dataframe and add_points array\n",
        "add_points = np.append(add_points, [[0], [1], [2], [3]], axis=1)\n",
        "customers['clusters'] = updated_kmeans_model.labels_"
      ],
      "execution_count": 65,
      "outputs": []
    },
    {
      "cell_type": "code",
      "metadata": {
        "id": "UxTys2JRhBYi",
        "outputId": "d72d5c9b-fccb-4873-bd36-a6049b112dab",
        "colab": {
          "base_uri": "https://localhost:8080/",
          "height": 0
        }
      },
      "source": [
        "# create centers dataframe from add_points\n",
        "centers_df = pd.DataFrame(data=add_points, columns=['Products_ordered', 'Total_spending', 'log_Products_ordered', 'log_Total_spending', 'clusters'])\n",
        "\n",
        "centers_df.head()"
      ],
      "execution_count": 66,
      "outputs": [
        {
          "output_type": "execute_result",
          "data": {
            "text/html": [
              "<div>\n",
              "<style scoped>\n",
              "    .dataframe tbody tr th:only-of-type {\n",
              "        vertical-align: middle;\n",
              "    }\n",
              "\n",
              "    .dataframe tbody tr th {\n",
              "        vertical-align: top;\n",
              "    }\n",
              "\n",
              "    .dataframe thead th {\n",
              "        text-align: right;\n",
              "    }\n",
              "</style>\n",
              "<table border=\"1\" class=\"dataframe\">\n",
              "  <thead>\n",
              "    <tr style=\"text-align: right;\">\n",
              "      <th></th>\n",
              "      <th>Products_ordered</th>\n",
              "      <th>Total_spending</th>\n",
              "      <th>log_Products_ordered</th>\n",
              "      <th>log_Total_spending</th>\n",
              "      <th>clusters</th>\n",
              "    </tr>\n",
              "  </thead>\n",
              "  <tbody>\n",
              "    <tr>\n",
              "      <th>0</th>\n",
              "      <td>27.138425</td>\n",
              "      <td>373.947849</td>\n",
              "      <td>3.337136</td>\n",
              "      <td>5.926787</td>\n",
              "      <td>0.0</td>\n",
              "    </tr>\n",
              "    <tr>\n",
              "      <th>1</th>\n",
              "      <td>69.333114</td>\n",
              "      <td>1106.066313</td>\n",
              "      <td>4.253243</td>\n",
              "      <td>7.009469</td>\n",
              "      <td>1.0</td>\n",
              "    </tr>\n",
              "    <tr>\n",
              "      <th>2</th>\n",
              "      <td>2.829311</td>\n",
              "      <td>46.205924</td>\n",
              "      <td>1.342685</td>\n",
              "      <td>3.854519</td>\n",
              "      <td>2.0</td>\n",
              "    </tr>\n",
              "    <tr>\n",
              "      <th>3</th>\n",
              "      <td>10.551945</td>\n",
              "      <td>166.849956</td>\n",
              "      <td>2.446854</td>\n",
              "      <td>5.123070</td>\n",
              "      <td>3.0</td>\n",
              "    </tr>\n",
              "  </tbody>\n",
              "</table>\n",
              "</div>"
            ],
            "text/plain": [
              "   Products_ordered  Total_spending  ...  log_Total_spending  clusters\n",
              "0         27.138425      373.947849  ...            5.926787       0.0\n",
              "1         69.333114     1106.066313  ...            7.009469       1.0\n",
              "2          2.829311       46.205924  ...            3.854519       2.0\n",
              "3         10.551945      166.849956  ...            5.123070       3.0\n",
              "\n",
              "[4 rows x 5 columns]"
            ]
          },
          "metadata": {
            "tags": []
          },
          "execution_count": 66
        }
      ]
    },
    {
      "cell_type": "code",
      "metadata": {
        "id": "C_xf4q9Mha5Z",
        "outputId": "8df45023-90af-41b4-8fa7-24a601f715b2",
        "colab": {
          "base_uri": "https://localhost:8080/",
          "height": 0
        }
      },
      "source": [
        "# Changing the type of clusters attribute to int\n",
        "centers_df['clusters'] = centers_df['clusters'].astype('int')\n",
        "centers_df.head()"
      ],
      "execution_count": 67,
      "outputs": [
        {
          "output_type": "execute_result",
          "data": {
            "text/html": [
              "<div>\n",
              "<style scoped>\n",
              "    .dataframe tbody tr th:only-of-type {\n",
              "        vertical-align: middle;\n",
              "    }\n",
              "\n",
              "    .dataframe tbody tr th {\n",
              "        vertical-align: top;\n",
              "    }\n",
              "\n",
              "    .dataframe thead th {\n",
              "        text-align: right;\n",
              "    }\n",
              "</style>\n",
              "<table border=\"1\" class=\"dataframe\">\n",
              "  <thead>\n",
              "    <tr style=\"text-align: right;\">\n",
              "      <th></th>\n",
              "      <th>Products_ordered</th>\n",
              "      <th>Total_spending</th>\n",
              "      <th>log_Products_ordered</th>\n",
              "      <th>log_Total_spending</th>\n",
              "      <th>clusters</th>\n",
              "    </tr>\n",
              "  </thead>\n",
              "  <tbody>\n",
              "    <tr>\n",
              "      <th>0</th>\n",
              "      <td>27.138425</td>\n",
              "      <td>373.947849</td>\n",
              "      <td>3.337136</td>\n",
              "      <td>5.926787</td>\n",
              "      <td>0</td>\n",
              "    </tr>\n",
              "    <tr>\n",
              "      <th>1</th>\n",
              "      <td>69.333114</td>\n",
              "      <td>1106.066313</td>\n",
              "      <td>4.253243</td>\n",
              "      <td>7.009469</td>\n",
              "      <td>1</td>\n",
              "    </tr>\n",
              "    <tr>\n",
              "      <th>2</th>\n",
              "      <td>2.829311</td>\n",
              "      <td>46.205924</td>\n",
              "      <td>1.342685</td>\n",
              "      <td>3.854519</td>\n",
              "      <td>2</td>\n",
              "    </tr>\n",
              "    <tr>\n",
              "      <th>3</th>\n",
              "      <td>10.551945</td>\n",
              "      <td>166.849956</td>\n",
              "      <td>2.446854</td>\n",
              "      <td>5.123070</td>\n",
              "      <td>3</td>\n",
              "    </tr>\n",
              "  </tbody>\n",
              "</table>\n",
              "</div>"
            ],
            "text/plain": [
              "   Products_ordered  Total_spending  ...  log_Total_spending  clusters\n",
              "0         27.138425      373.947849  ...            5.926787         0\n",
              "1         69.333114     1106.066313  ...            7.009469         1\n",
              "2          2.829311       46.205924  ...            3.854519         2\n",
              "3         10.551945      166.849956  ...            5.123070         3\n",
              "\n",
              "[4 rows x 5 columns]"
            ]
          },
          "metadata": {
            "tags": []
          },
          "execution_count": 67
        }
      ]
    },
    {
      "cell_type": "code",
      "metadata": {
        "id": "LEUWZqKBhqVv",
        "outputId": "486c3884-fb45-4d4a-bca5-80895c5003e4",
        "colab": {
          "base_uri": "https://localhost:8080/",
          "height": 0
        }
      },
      "source": [
        "customers.head(10)"
      ],
      "execution_count": 68,
      "outputs": [
        {
          "output_type": "execute_result",
          "data": {
            "text/html": [
              "<div>\n",
              "<style scoped>\n",
              "    .dataframe tbody tr th:only-of-type {\n",
              "        vertical-align: middle;\n",
              "    }\n",
              "\n",
              "    .dataframe tbody tr th {\n",
              "        vertical-align: top;\n",
              "    }\n",
              "\n",
              "    .dataframe thead th {\n",
              "        text-align: right;\n",
              "    }\n",
              "</style>\n",
              "<table border=\"1\" class=\"dataframe\">\n",
              "  <thead>\n",
              "    <tr style=\"text-align: right;\">\n",
              "      <th></th>\n",
              "      <th>CustomerID</th>\n",
              "      <th>Products_ordered</th>\n",
              "      <th>Total_spending</th>\n",
              "      <th>log_Products_ordered</th>\n",
              "      <th>log_Total_spending</th>\n",
              "      <th>clusters</th>\n",
              "    </tr>\n",
              "  </thead>\n",
              "  <tbody>\n",
              "    <tr>\n",
              "      <th>0</th>\n",
              "      <td>12347.0</td>\n",
              "      <td>46</td>\n",
              "      <td>1088.03</td>\n",
              "      <td>3.850148</td>\n",
              "      <td>6.993043</td>\n",
              "      <td>1</td>\n",
              "    </tr>\n",
              "    <tr>\n",
              "      <th>1</th>\n",
              "      <td>12348.0</td>\n",
              "      <td>5</td>\n",
              "      <td>73.20</td>\n",
              "      <td>1.791759</td>\n",
              "      <td>4.306764</td>\n",
              "      <td>2</td>\n",
              "    </tr>\n",
              "    <tr>\n",
              "      <th>2</th>\n",
              "      <td>12350.0</td>\n",
              "      <td>16</td>\n",
              "      <td>294.40</td>\n",
              "      <td>2.833213</td>\n",
              "      <td>5.688330</td>\n",
              "      <td>0</td>\n",
              "    </tr>\n",
              "    <tr>\n",
              "      <th>3</th>\n",
              "      <td>12352.0</td>\n",
              "      <td>21</td>\n",
              "      <td>419.08</td>\n",
              "      <td>3.091042</td>\n",
              "      <td>6.040445</td>\n",
              "      <td>0</td>\n",
              "    </tr>\n",
              "    <tr>\n",
              "      <th>4</th>\n",
              "      <td>12356.0</td>\n",
              "      <td>17</td>\n",
              "      <td>818.70</td>\n",
              "      <td>2.890372</td>\n",
              "      <td>6.708938</td>\n",
              "      <td>0</td>\n",
              "    </tr>\n",
              "    <tr>\n",
              "      <th>5</th>\n",
              "      <td>12359.0</td>\n",
              "      <td>64</td>\n",
              "      <td>1022.31</td>\n",
              "      <td>4.174387</td>\n",
              "      <td>6.930798</td>\n",
              "      <td>1</td>\n",
              "    </tr>\n",
              "    <tr>\n",
              "      <th>6</th>\n",
              "      <td>12361.0</td>\n",
              "      <td>9</td>\n",
              "      <td>174.90</td>\n",
              "      <td>2.302585</td>\n",
              "      <td>5.169916</td>\n",
              "      <td>3</td>\n",
              "    </tr>\n",
              "    <tr>\n",
              "      <th>7</th>\n",
              "      <td>12362.0</td>\n",
              "      <td>26</td>\n",
              "      <td>434.10</td>\n",
              "      <td>3.295837</td>\n",
              "      <td>6.075576</td>\n",
              "      <td>0</td>\n",
              "    </tr>\n",
              "    <tr>\n",
              "      <th>8</th>\n",
              "      <td>12365.0</td>\n",
              "      <td>20</td>\n",
              "      <td>307.94</td>\n",
              "      <td>3.044522</td>\n",
              "      <td>5.733147</td>\n",
              "      <td>0</td>\n",
              "    </tr>\n",
              "    <tr>\n",
              "      <th>9</th>\n",
              "      <td>12370.0</td>\n",
              "      <td>114</td>\n",
              "      <td>2031.75</td>\n",
              "      <td>4.744932</td>\n",
              "      <td>7.617145</td>\n",
              "      <td>1</td>\n",
              "    </tr>\n",
              "  </tbody>\n",
              "</table>\n",
              "</div>"
            ],
            "text/plain": [
              "   CustomerID  Products_ordered  ...  log_Total_spending  clusters\n",
              "0     12347.0                46  ...            6.993043         1\n",
              "1     12348.0                 5  ...            4.306764         2\n",
              "2     12350.0                16  ...            5.688330         0\n",
              "3     12352.0                21  ...            6.040445         0\n",
              "4     12356.0                17  ...            6.708938         0\n",
              "5     12359.0                64  ...            6.930798         1\n",
              "6     12361.0                 9  ...            5.169916         3\n",
              "7     12362.0                26  ...            6.075576         0\n",
              "8     12365.0                20  ...            5.733147         0\n",
              "9     12370.0               114  ...            7.617145         1\n",
              "\n",
              "[10 rows x 6 columns]"
            ]
          },
          "metadata": {
            "tags": []
          },
          "execution_count": 68
        }
      ]
    },
    {
      "cell_type": "markdown",
      "metadata": {
        "id": "TrMEVRMk8sIP"
      },
      "source": [
        "## **Cluster Visualization**"
      ]
    },
    {
      "cell_type": "code",
      "metadata": {
        "id": "dUh5rwLyhvOQ",
        "outputId": "51029190-fc7f-4267-c0ab-1d3c811d91b5",
        "colab": {
          "base_uri": "https://localhost:8080/",
          "height": 0
        }
      },
      "source": [
        "# Creating the attribute Cluster_name\n",
        "customers['Cluster_name'] = customers['clusters'].astype(str)\n",
        "\n",
        "customers.head(10)"
      ],
      "execution_count": 69,
      "outputs": [
        {
          "output_type": "execute_result",
          "data": {
            "text/html": [
              "<div>\n",
              "<style scoped>\n",
              "    .dataframe tbody tr th:only-of-type {\n",
              "        vertical-align: middle;\n",
              "    }\n",
              "\n",
              "    .dataframe tbody tr th {\n",
              "        vertical-align: top;\n",
              "    }\n",
              "\n",
              "    .dataframe thead th {\n",
              "        text-align: right;\n",
              "    }\n",
              "</style>\n",
              "<table border=\"1\" class=\"dataframe\">\n",
              "  <thead>\n",
              "    <tr style=\"text-align: right;\">\n",
              "      <th></th>\n",
              "      <th>CustomerID</th>\n",
              "      <th>Products_ordered</th>\n",
              "      <th>Total_spending</th>\n",
              "      <th>log_Products_ordered</th>\n",
              "      <th>log_Total_spending</th>\n",
              "      <th>clusters</th>\n",
              "      <th>Cluster_name</th>\n",
              "    </tr>\n",
              "  </thead>\n",
              "  <tbody>\n",
              "    <tr>\n",
              "      <th>0</th>\n",
              "      <td>12347.0</td>\n",
              "      <td>46</td>\n",
              "      <td>1088.03</td>\n",
              "      <td>3.850148</td>\n",
              "      <td>6.993043</td>\n",
              "      <td>1</td>\n",
              "      <td>1</td>\n",
              "    </tr>\n",
              "    <tr>\n",
              "      <th>1</th>\n",
              "      <td>12348.0</td>\n",
              "      <td>5</td>\n",
              "      <td>73.20</td>\n",
              "      <td>1.791759</td>\n",
              "      <td>4.306764</td>\n",
              "      <td>2</td>\n",
              "      <td>2</td>\n",
              "    </tr>\n",
              "    <tr>\n",
              "      <th>2</th>\n",
              "      <td>12350.0</td>\n",
              "      <td>16</td>\n",
              "      <td>294.40</td>\n",
              "      <td>2.833213</td>\n",
              "      <td>5.688330</td>\n",
              "      <td>0</td>\n",
              "      <td>0</td>\n",
              "    </tr>\n",
              "    <tr>\n",
              "      <th>3</th>\n",
              "      <td>12352.0</td>\n",
              "      <td>21</td>\n",
              "      <td>419.08</td>\n",
              "      <td>3.091042</td>\n",
              "      <td>6.040445</td>\n",
              "      <td>0</td>\n",
              "      <td>0</td>\n",
              "    </tr>\n",
              "    <tr>\n",
              "      <th>4</th>\n",
              "      <td>12356.0</td>\n",
              "      <td>17</td>\n",
              "      <td>818.70</td>\n",
              "      <td>2.890372</td>\n",
              "      <td>6.708938</td>\n",
              "      <td>0</td>\n",
              "      <td>0</td>\n",
              "    </tr>\n",
              "    <tr>\n",
              "      <th>5</th>\n",
              "      <td>12359.0</td>\n",
              "      <td>64</td>\n",
              "      <td>1022.31</td>\n",
              "      <td>4.174387</td>\n",
              "      <td>6.930798</td>\n",
              "      <td>1</td>\n",
              "      <td>1</td>\n",
              "    </tr>\n",
              "    <tr>\n",
              "      <th>6</th>\n",
              "      <td>12361.0</td>\n",
              "      <td>9</td>\n",
              "      <td>174.90</td>\n",
              "      <td>2.302585</td>\n",
              "      <td>5.169916</td>\n",
              "      <td>3</td>\n",
              "      <td>3</td>\n",
              "    </tr>\n",
              "    <tr>\n",
              "      <th>7</th>\n",
              "      <td>12362.0</td>\n",
              "      <td>26</td>\n",
              "      <td>434.10</td>\n",
              "      <td>3.295837</td>\n",
              "      <td>6.075576</td>\n",
              "      <td>0</td>\n",
              "      <td>0</td>\n",
              "    </tr>\n",
              "    <tr>\n",
              "      <th>8</th>\n",
              "      <td>12365.0</td>\n",
              "      <td>20</td>\n",
              "      <td>307.94</td>\n",
              "      <td>3.044522</td>\n",
              "      <td>5.733147</td>\n",
              "      <td>0</td>\n",
              "      <td>0</td>\n",
              "    </tr>\n",
              "    <tr>\n",
              "      <th>9</th>\n",
              "      <td>12370.0</td>\n",
              "      <td>114</td>\n",
              "      <td>2031.75</td>\n",
              "      <td>4.744932</td>\n",
              "      <td>7.617145</td>\n",
              "      <td>1</td>\n",
              "      <td>1</td>\n",
              "    </tr>\n",
              "  </tbody>\n",
              "</table>\n",
              "</div>"
            ],
            "text/plain": [
              "   CustomerID  Products_ordered  ...  clusters  Cluster_name\n",
              "0     12347.0                46  ...         1             1\n",
              "1     12348.0                 5  ...         2             2\n",
              "2     12350.0                16  ...         0             0\n",
              "3     12352.0                21  ...         0             0\n",
              "4     12356.0                17  ...         0             0\n",
              "5     12359.0                64  ...         1             1\n",
              "6     12361.0                 9  ...         3             3\n",
              "7     12362.0                26  ...         0             0\n",
              "8     12365.0                20  ...         0             0\n",
              "9     12370.0               114  ...         1             1\n",
              "\n",
              "[10 rows x 7 columns]"
            ]
          },
          "metadata": {
            "tags": []
          },
          "execution_count": 69
        }
      ]
    },
    {
      "cell_type": "code",
      "metadata": {
        "id": "4aez6z9S9O69",
        "outputId": "86fa069d-a526-48d5-aa1b-acd10d89ad80",
        "colab": {
          "base_uri": "https://localhost:8080/",
          "height": 0
        }
      },
      "source": [
        "# Obtaining the value counts of all the clusters.\n",
        "magnitude_df = pd.DataFrame(customers.Cluster_name.value_counts().reset_index())\n",
        "\n",
        "magnitude_df.rename(columns={'index':'Customer Groups', 'Cluster_name': 'Customer Group Magnitude'}, inplace=True)\n",
        "\n",
        "magnitude_df"
      ],
      "execution_count": 70,
      "outputs": [
        {
          "output_type": "execute_result",
          "data": {
            "text/html": [
              "<div>\n",
              "<style scoped>\n",
              "    .dataframe tbody tr th:only-of-type {\n",
              "        vertical-align: middle;\n",
              "    }\n",
              "\n",
              "    .dataframe tbody tr th {\n",
              "        vertical-align: top;\n",
              "    }\n",
              "\n",
              "    .dataframe thead th {\n",
              "        text-align: right;\n",
              "    }\n",
              "</style>\n",
              "<table border=\"1\" class=\"dataframe\">\n",
              "  <thead>\n",
              "    <tr style=\"text-align: right;\">\n",
              "      <th></th>\n",
              "      <th>Customer Groups</th>\n",
              "      <th>Customer Group Magnitude</th>\n",
              "    </tr>\n",
              "  </thead>\n",
              "  <tbody>\n",
              "    <tr>\n",
              "      <th>0</th>\n",
              "      <td>0</td>\n",
              "      <td>681</td>\n",
              "    </tr>\n",
              "    <tr>\n",
              "      <th>1</th>\n",
              "      <td>3</td>\n",
              "      <td>608</td>\n",
              "    </tr>\n",
              "    <tr>\n",
              "      <th>2</th>\n",
              "      <td>1</td>\n",
              "      <td>388</td>\n",
              "    </tr>\n",
              "    <tr>\n",
              "      <th>3</th>\n",
              "      <td>2</td>\n",
              "      <td>208</td>\n",
              "    </tr>\n",
              "  </tbody>\n",
              "</table>\n",
              "</div>"
            ],
            "text/plain": [
              "  Customer Groups  Customer Group Magnitude\n",
              "0               0                       681\n",
              "1               3                       608\n",
              "2               1                       388\n",
              "3               2                       208"
            ]
          },
          "metadata": {
            "tags": []
          },
          "execution_count": 70
        }
      ]
    },
    {
      "cell_type": "code",
      "metadata": {
        "id": "4e82hqOs91vk",
        "outputId": "5d1e1429-c122-4586-dbb3-0fecdb04d4b7",
        "colab": {
          "base_uri": "https://localhost:8080/",
          "height": 0
        }
      },
      "source": [
        "# Plotting the bar graph to interpret the number of customers in each clusters\n",
        "plt.bar(magnitude_df['Customer Groups'], magnitude_df['Customer Group Magnitude'], color=['green', 'red', 'blue', 'purple'])\n",
        "plt.xlabel('Customer Groups')\n",
        "plt.ylabel('Customer Group Magnitude')\n",
        "plt.title('Variation in Customer Groups')\n",
        "plt.show()"
      ],
      "execution_count": 71,
      "outputs": [
        {
          "output_type": "display_data",
          "data": {
            "image/png": "[encoded data removed]",
            "text/plain": [
              "<Figure size 432x288 with 1 Axes>"
            ]
          },
          "metadata": {
            "tags": [],
            "needs_background": "light"
          }
        }
      ]
    },
    {
      "cell_type": "markdown",
      "metadata": {
        "id": "1Xg7Hfyh_XwM"
      },
      "source": [
        "# <font color=\"blue\">**Customer Profiling**</font>"
      ]
    },
    {
      "cell_type": "markdown",
      "metadata": {
        "id": "36OzKmf0_rBn"
      },
      "source": [
        "## Number of products brought by each customerID"
      ]
    },
    {
      "cell_type": "code",
      "metadata": {
        "id": "4B_QeUM2-elw",
        "outputId": "3ba8b854-be52-4689-9bd0-5ed171a707e4",
        "colab": {
          "base_uri": "https://localhost:8080/",
          "height": 0
        }
      },
      "source": [
        "customers.iloc[:,:2]"
      ],
      "execution_count": 72,
      "outputs": [
        {
          "output_type": "execute_result",
          "data": {
            "text/html": [
              "<div>\n",
              "<style scoped>\n",
              "    .dataframe tbody tr th:only-of-type {\n",
              "        vertical-align: middle;\n",
              "    }\n",
              "\n",
              "    .dataframe tbody tr th {\n",
              "        vertical-align: top;\n",
              "    }\n",
              "\n",
              "    .dataframe thead th {\n",
              "        text-align: right;\n",
              "    }\n",
              "</style>\n",
              "<table border=\"1\" class=\"dataframe\">\n",
              "  <thead>\n",
              "    <tr style=\"text-align: right;\">\n",
              "      <th></th>\n",
              "      <th>CustomerID</th>\n",
              "      <th>Products_ordered</th>\n",
              "    </tr>\n",
              "  </thead>\n",
              "  <tbody>\n",
              "    <tr>\n",
              "      <th>0</th>\n",
              "      <td>12347.0</td>\n",
              "      <td>46</td>\n",
              "    </tr>\n",
              "    <tr>\n",
              "      <th>1</th>\n",
              "      <td>12348.0</td>\n",
              "      <td>5</td>\n",
              "    </tr>\n",
              "    <tr>\n",
              "      <th>2</th>\n",
              "      <td>12350.0</td>\n",
              "      <td>16</td>\n",
              "    </tr>\n",
              "    <tr>\n",
              "      <th>3</th>\n",
              "      <td>12352.0</td>\n",
              "      <td>21</td>\n",
              "    </tr>\n",
              "    <tr>\n",
              "      <th>4</th>\n",
              "      <td>12356.0</td>\n",
              "      <td>17</td>\n",
              "    </tr>\n",
              "    <tr>\n",
              "      <th>...</th>\n",
              "      <td>...</td>\n",
              "      <td>...</td>\n",
              "    </tr>\n",
              "    <tr>\n",
              "      <th>1880</th>\n",
              "      <td>18260.0</td>\n",
              "      <td>50</td>\n",
              "    </tr>\n",
              "    <tr>\n",
              "      <th>1881</th>\n",
              "      <td>18269.0</td>\n",
              "      <td>7</td>\n",
              "    </tr>\n",
              "    <tr>\n",
              "      <th>1882</th>\n",
              "      <td>18270.0</td>\n",
              "      <td>4</td>\n",
              "    </tr>\n",
              "    <tr>\n",
              "      <th>1883</th>\n",
              "      <td>18280.0</td>\n",
              "      <td>8</td>\n",
              "    </tr>\n",
              "    <tr>\n",
              "      <th>1884</th>\n",
              "      <td>18283.0</td>\n",
              "      <td>103</td>\n",
              "    </tr>\n",
              "  </tbody>\n",
              "</table>\n",
              "<p>1885 rows × 2 columns</p>\n",
              "</div>"
            ],
            "text/plain": [
              "      CustomerID  Products_ordered\n",
              "0        12347.0                46\n",
              "1        12348.0                 5\n",
              "2        12350.0                16\n",
              "3        12352.0                21\n",
              "4        12356.0                17\n",
              "...          ...               ...\n",
              "1880     18260.0                50\n",
              "1881     18269.0                 7\n",
              "1882     18270.0                 4\n",
              "1883     18280.0                 8\n",
              "1884     18283.0               103\n",
              "\n",
              "[1885 rows x 2 columns]"
            ]
          },
          "metadata": {
            "tags": []
          },
          "execution_count": 72
        }
      ]
    },
    {
      "cell_type": "markdown",
      "metadata": {
        "id": "Ilt80QiZ_1JK"
      },
      "source": [
        "## Total bill of each customerID"
      ]
    },
    {
      "cell_type": "code",
      "metadata": {
        "id": "EnYZ0inl_yME",
        "outputId": "1a9c62da-87c9-4335-b7bb-0d3f2bb34ff3",
        "colab": {
          "base_uri": "https://localhost:8080/",
          "height": 0
        }
      },
      "source": [
        "customers[['CustomerID', 'Total_spending']]"
      ],
      "execution_count": 73,
      "outputs": [
        {
          "output_type": "execute_result",
          "data": {
            "text/html": [
              "<div>\n",
              "<style scoped>\n",
              "    .dataframe tbody tr th:only-of-type {\n",
              "        vertical-align: middle;\n",
              "    }\n",
              "\n",
              "    .dataframe tbody tr th {\n",
              "        vertical-align: top;\n",
              "    }\n",
              "\n",
              "    .dataframe thead th {\n",
              "        text-align: right;\n",
              "    }\n",
              "</style>\n",
              "<table border=\"1\" class=\"dataframe\">\n",
              "  <thead>\n",
              "    <tr style=\"text-align: right;\">\n",
              "      <th></th>\n",
              "      <th>CustomerID</th>\n",
              "      <th>Total_spending</th>\n",
              "    </tr>\n",
              "  </thead>\n",
              "  <tbody>\n",
              "    <tr>\n",
              "      <th>0</th>\n",
              "      <td>12347.0</td>\n",
              "      <td>1088.03</td>\n",
              "    </tr>\n",
              "    <tr>\n",
              "      <th>1</th>\n",
              "      <td>12348.0</td>\n",
              "      <td>73.20</td>\n",
              "    </tr>\n",
              "    <tr>\n",
              "      <th>2</th>\n",
              "      <td>12350.0</td>\n",
              "      <td>294.40</td>\n",
              "    </tr>\n",
              "    <tr>\n",
              "      <th>3</th>\n",
              "      <td>12352.0</td>\n",
              "      <td>419.08</td>\n",
              "    </tr>\n",
              "    <tr>\n",
              "      <th>4</th>\n",
              "      <td>12356.0</td>\n",
              "      <td>818.70</td>\n",
              "    </tr>\n",
              "    <tr>\n",
              "      <th>...</th>\n",
              "      <td>...</td>\n",
              "      <td>...</td>\n",
              "    </tr>\n",
              "    <tr>\n",
              "      <th>1880</th>\n",
              "      <td>18260.0</td>\n",
              "      <td>1055.65</td>\n",
              "    </tr>\n",
              "    <tr>\n",
              "      <th>1881</th>\n",
              "      <td>18269.0</td>\n",
              "      <td>168.60</td>\n",
              "    </tr>\n",
              "    <tr>\n",
              "      <th>1882</th>\n",
              "      <td>18270.0</td>\n",
              "      <td>73.70</td>\n",
              "    </tr>\n",
              "    <tr>\n",
              "      <th>1883</th>\n",
              "      <td>18280.0</td>\n",
              "      <td>137.00</td>\n",
              "    </tr>\n",
              "    <tr>\n",
              "      <th>1884</th>\n",
              "      <td>18283.0</td>\n",
              "      <td>299.45</td>\n",
              "    </tr>\n",
              "  </tbody>\n",
              "</table>\n",
              "<p>1885 rows × 2 columns</p>\n",
              "</div>"
            ],
            "text/plain": [
              "      CustomerID  Total_spending\n",
              "0        12347.0         1088.03\n",
              "1        12348.0           73.20\n",
              "2        12350.0          294.40\n",
              "3        12352.0          419.08\n",
              "4        12356.0          818.70\n",
              "...          ...             ...\n",
              "1880     18260.0         1055.65\n",
              "1881     18269.0          168.60\n",
              "1882     18270.0           73.70\n",
              "1883     18280.0          137.00\n",
              "1884     18283.0          299.45\n",
              "\n",
              "[1885 rows x 2 columns]"
            ]
          },
          "metadata": {
            "tags": []
          },
          "execution_count": 73
        }
      ]
    },
    {
      "cell_type": "markdown",
      "metadata": {
        "id": "l1uX-SBOAA_4"
      },
      "source": [
        "## **Customers Grouping based on customer segmentation**"
      ]
    },
    {
      "cell_type": "markdown",
      "metadata": {
        "id": "xKIoBkqeAG9n"
      },
      "source": [
        "### **Group 0**"
      ]
    },
    {
      "cell_type": "code",
      "metadata": {
        "id": "xtvo4AdD_9I6",
        "outputId": "1eb19ca9-6c23-4f87-a6da-2afca1f56811",
        "colab": {
          "base_uri": "https://localhost:8080/",
          "height": 0
        }
      },
      "source": [
        "customers[customers['clusters'] == 0]"
      ],
      "execution_count": 74,
      "outputs": [
        {
          "output_type": "execute_result",
          "data": {
            "text/html": [
              "<div>\n",
              "<style scoped>\n",
              "    .dataframe tbody tr th:only-of-type {\n",
              "        vertical-align: middle;\n",
              "    }\n",
              "\n",
              "    .dataframe tbody tr th {\n",
              "        vertical-align: top;\n",
              "    }\n",
              "\n",
              "    .dataframe thead th {\n",
              "        text-align: right;\n",
              "    }\n",
              "</style>\n",
              "<table border=\"1\" class=\"dataframe\">\n",
              "  <thead>\n",
              "    <tr style=\"text-align: right;\">\n",
              "      <th></th>\n",
              "      <th>CustomerID</th>\n",
              "      <th>Products_ordered</th>\n",
              "      <th>Total_spending</th>\n",
              "      <th>log_Products_ordered</th>\n",
              "      <th>log_Total_spending</th>\n",
              "      <th>clusters</th>\n",
              "      <th>Cluster_name</th>\n",
              "    </tr>\n",
              "  </thead>\n",
              "  <tbody>\n",
              "    <tr>\n",
              "      <th>2</th>\n",
              "      <td>12350.0</td>\n",
              "      <td>16</td>\n",
              "      <td>294.40</td>\n",
              "      <td>2.833213</td>\n",
              "      <td>5.688330</td>\n",
              "      <td>0</td>\n",
              "      <td>0</td>\n",
              "    </tr>\n",
              "    <tr>\n",
              "      <th>3</th>\n",
              "      <td>12352.0</td>\n",
              "      <td>21</td>\n",
              "      <td>419.08</td>\n",
              "      <td>3.091042</td>\n",
              "      <td>6.040445</td>\n",
              "      <td>0</td>\n",
              "      <td>0</td>\n",
              "    </tr>\n",
              "    <tr>\n",
              "      <th>4</th>\n",
              "      <td>12356.0</td>\n",
              "      <td>17</td>\n",
              "      <td>818.70</td>\n",
              "      <td>2.890372</td>\n",
              "      <td>6.708938</td>\n",
              "      <td>0</td>\n",
              "      <td>0</td>\n",
              "    </tr>\n",
              "    <tr>\n",
              "      <th>7</th>\n",
              "      <td>12362.0</td>\n",
              "      <td>26</td>\n",
              "      <td>434.10</td>\n",
              "      <td>3.295837</td>\n",
              "      <td>6.075576</td>\n",
              "      <td>0</td>\n",
              "      <td>0</td>\n",
              "    </tr>\n",
              "    <tr>\n",
              "      <th>8</th>\n",
              "      <td>12365.0</td>\n",
              "      <td>20</td>\n",
              "      <td>307.94</td>\n",
              "      <td>3.044522</td>\n",
              "      <td>5.733147</td>\n",
              "      <td>0</td>\n",
              "      <td>0</td>\n",
              "    </tr>\n",
              "    <tr>\n",
              "      <th>...</th>\n",
              "      <td>...</td>\n",
              "      <td>...</td>\n",
              "      <td>...</td>\n",
              "      <td>...</td>\n",
              "      <td>...</td>\n",
              "      <td>...</td>\n",
              "      <td>...</td>\n",
              "    </tr>\n",
              "    <tr>\n",
              "      <th>1873</th>\n",
              "      <td>18230.0</td>\n",
              "      <td>18</td>\n",
              "      <td>464.82</td>\n",
              "      <td>2.944439</td>\n",
              "      <td>6.143799</td>\n",
              "      <td>0</td>\n",
              "      <td>0</td>\n",
              "    </tr>\n",
              "    <tr>\n",
              "      <th>1874</th>\n",
              "      <td>18231.0</td>\n",
              "      <td>19</td>\n",
              "      <td>399.75</td>\n",
              "      <td>2.995732</td>\n",
              "      <td>5.993338</td>\n",
              "      <td>0</td>\n",
              "      <td>0</td>\n",
              "    </tr>\n",
              "    <tr>\n",
              "      <th>1877</th>\n",
              "      <td>18250.0</td>\n",
              "      <td>17</td>\n",
              "      <td>270.62</td>\n",
              "      <td>2.890372</td>\n",
              "      <td>5.604404</td>\n",
              "      <td>0</td>\n",
              "      <td>0</td>\n",
              "    </tr>\n",
              "    <tr>\n",
              "      <th>1878</th>\n",
              "      <td>18257.0</td>\n",
              "      <td>14</td>\n",
              "      <td>324.00</td>\n",
              "      <td>2.708050</td>\n",
              "      <td>5.783825</td>\n",
              "      <td>0</td>\n",
              "      <td>0</td>\n",
              "    </tr>\n",
              "    <tr>\n",
              "      <th>1884</th>\n",
              "      <td>18283.0</td>\n",
              "      <td>103</td>\n",
              "      <td>299.45</td>\n",
              "      <td>4.644391</td>\n",
              "      <td>5.705281</td>\n",
              "      <td>0</td>\n",
              "      <td>0</td>\n",
              "    </tr>\n",
              "  </tbody>\n",
              "</table>\n",
              "<p>681 rows × 7 columns</p>\n",
              "</div>"
            ],
            "text/plain": [
              "      CustomerID  Products_ordered  ...  clusters  Cluster_name\n",
              "2        12350.0                16  ...         0             0\n",
              "3        12352.0                21  ...         0             0\n",
              "4        12356.0                17  ...         0             0\n",
              "7        12362.0                26  ...         0             0\n",
              "8        12365.0                20  ...         0             0\n",
              "...          ...               ...  ...       ...           ...\n",
              "1873     18230.0                18  ...         0             0\n",
              "1874     18231.0                19  ...         0             0\n",
              "1877     18250.0                17  ...         0             0\n",
              "1878     18257.0                14  ...         0             0\n",
              "1884     18283.0               103  ...         0             0\n",
              "\n",
              "[681 rows x 7 columns]"
            ]
          },
          "metadata": {
            "tags": []
          },
          "execution_count": 74
        }
      ]
    },
    {
      "cell_type": "markdown",
      "metadata": {
        "id": "gzbJ0nWUAUsB"
      },
      "source": [
        "### **Group1**"
      ]
    },
    {
      "cell_type": "code",
      "metadata": {
        "id": "DzCtKdTfAO0X",
        "outputId": "b044a357-9730-4378-9c42-f57e117ee58c",
        "colab": {
          "base_uri": "https://localhost:8080/",
          "height": 0
        }
      },
      "source": [
        "customers[customers['clusters'] == 1]"
      ],
      "execution_count": 75,
      "outputs": [
        {
          "output_type": "execute_result",
          "data": {
            "text/html": [
              "<div>\n",
              "<style scoped>\n",
              "    .dataframe tbody tr th:only-of-type {\n",
              "        vertical-align: middle;\n",
              "    }\n",
              "\n",
              "    .dataframe tbody tr th {\n",
              "        vertical-align: top;\n",
              "    }\n",
              "\n",
              "    .dataframe thead th {\n",
              "        text-align: right;\n",
              "    }\n",
              "</style>\n",
              "<table border=\"1\" class=\"dataframe\">\n",
              "  <thead>\n",
              "    <tr style=\"text-align: right;\">\n",
              "      <th></th>\n",
              "      <th>CustomerID</th>\n",
              "      <th>Products_ordered</th>\n",
              "      <th>Total_spending</th>\n",
              "      <th>log_Products_ordered</th>\n",
              "      <th>log_Total_spending</th>\n",
              "      <th>clusters</th>\n",
              "      <th>Cluster_name</th>\n",
              "    </tr>\n",
              "  </thead>\n",
              "  <tbody>\n",
              "    <tr>\n",
              "      <th>0</th>\n",
              "      <td>12347.0</td>\n",
              "      <td>46</td>\n",
              "      <td>1088.03</td>\n",
              "      <td>3.850148</td>\n",
              "      <td>6.993043</td>\n",
              "      <td>1</td>\n",
              "      <td>1</td>\n",
              "    </tr>\n",
              "    <tr>\n",
              "      <th>5</th>\n",
              "      <td>12359.0</td>\n",
              "      <td>64</td>\n",
              "      <td>1022.31</td>\n",
              "      <td>4.174387</td>\n",
              "      <td>6.930798</td>\n",
              "      <td>1</td>\n",
              "      <td>1</td>\n",
              "    </tr>\n",
              "    <tr>\n",
              "      <th>9</th>\n",
              "      <td>12370.0</td>\n",
              "      <td>114</td>\n",
              "      <td>2031.75</td>\n",
              "      <td>4.744932</td>\n",
              "      <td>7.617145</td>\n",
              "      <td>1</td>\n",
              "      <td>1</td>\n",
              "    </tr>\n",
              "    <tr>\n",
              "      <th>12</th>\n",
              "      <td>12377.0</td>\n",
              "      <td>69</td>\n",
              "      <td>1472.52</td>\n",
              "      <td>4.248495</td>\n",
              "      <td>7.295409</td>\n",
              "      <td>1</td>\n",
              "      <td>1</td>\n",
              "    </tr>\n",
              "    <tr>\n",
              "      <th>13</th>\n",
              "      <td>12383.0</td>\n",
              "      <td>66</td>\n",
              "      <td>1114.28</td>\n",
              "      <td>4.204693</td>\n",
              "      <td>7.016861</td>\n",
              "      <td>1</td>\n",
              "      <td>1</td>\n",
              "    </tr>\n",
              "    <tr>\n",
              "      <th>...</th>\n",
              "      <td>...</td>\n",
              "      <td>...</td>\n",
              "      <td>...</td>\n",
              "      <td>...</td>\n",
              "      <td>...</td>\n",
              "      <td>...</td>\n",
              "      <td>...</td>\n",
              "    </tr>\n",
              "    <tr>\n",
              "      <th>1851</th>\n",
              "      <td>18172.0</td>\n",
              "      <td>48</td>\n",
              "      <td>1217.66</td>\n",
              "      <td>3.891820</td>\n",
              "      <td>7.105507</td>\n",
              "      <td>1</td>\n",
              "      <td>1</td>\n",
              "    </tr>\n",
              "    <tr>\n",
              "      <th>1868</th>\n",
              "      <td>18223.0</td>\n",
              "      <td>52</td>\n",
              "      <td>1325.67</td>\n",
              "      <td>3.970292</td>\n",
              "      <td>7.190427</td>\n",
              "      <td>1</td>\n",
              "      <td>1</td>\n",
              "    </tr>\n",
              "    <tr>\n",
              "      <th>1875</th>\n",
              "      <td>18239.0</td>\n",
              "      <td>45</td>\n",
              "      <td>834.62</td>\n",
              "      <td>3.828641</td>\n",
              "      <td>6.728174</td>\n",
              "      <td>1</td>\n",
              "      <td>1</td>\n",
              "    </tr>\n",
              "    <tr>\n",
              "      <th>1876</th>\n",
              "      <td>18245.0</td>\n",
              "      <td>50</td>\n",
              "      <td>693.68</td>\n",
              "      <td>3.931826</td>\n",
              "      <td>6.543451</td>\n",
              "      <td>1</td>\n",
              "      <td>1</td>\n",
              "    </tr>\n",
              "    <tr>\n",
              "      <th>1880</th>\n",
              "      <td>18260.0</td>\n",
              "      <td>50</td>\n",
              "      <td>1055.65</td>\n",
              "      <td>3.931826</td>\n",
              "      <td>6.962859</td>\n",
              "      <td>1</td>\n",
              "      <td>1</td>\n",
              "    </tr>\n",
              "  </tbody>\n",
              "</table>\n",
              "<p>388 rows × 7 columns</p>\n",
              "</div>"
            ],
            "text/plain": [
              "      CustomerID  Products_ordered  ...  clusters  Cluster_name\n",
              "0        12347.0                46  ...         1             1\n",
              "5        12359.0                64  ...         1             1\n",
              "9        12370.0               114  ...         1             1\n",
              "12       12377.0                69  ...         1             1\n",
              "13       12383.0                66  ...         1             1\n",
              "...          ...               ...  ...       ...           ...\n",
              "1851     18172.0                48  ...         1             1\n",
              "1868     18223.0                52  ...         1             1\n",
              "1875     18239.0                45  ...         1             1\n",
              "1876     18245.0                50  ...         1             1\n",
              "1880     18260.0                50  ...         1             1\n",
              "\n",
              "[388 rows x 7 columns]"
            ]
          },
          "metadata": {
            "tags": []
          },
          "execution_count": 75
        }
      ]
    },
    {
      "cell_type": "markdown",
      "metadata": {
        "id": "NNcYNfKtAe6L"
      },
      "source": [
        "### **Group2**"
      ]
    },
    {
      "cell_type": "code",
      "metadata": {
        "id": "p72pNwfcAbq_",
        "outputId": "9a0d0854-7507-4c7e-8555-43e95bda9f9c",
        "colab": {
          "base_uri": "https://localhost:8080/",
          "height": 0
        }
      },
      "source": [
        "customers[customers['clusters'] == 2]"
      ],
      "execution_count": 76,
      "outputs": [
        {
          "output_type": "execute_result",
          "data": {
            "text/html": [
              "<div>\n",
              "<style scoped>\n",
              "    .dataframe tbody tr th:only-of-type {\n",
              "        vertical-align: middle;\n",
              "    }\n",
              "\n",
              "    .dataframe tbody tr th {\n",
              "        vertical-align: top;\n",
              "    }\n",
              "\n",
              "    .dataframe thead th {\n",
              "        text-align: right;\n",
              "    }\n",
              "</style>\n",
              "<table border=\"1\" class=\"dataframe\">\n",
              "  <thead>\n",
              "    <tr style=\"text-align: right;\">\n",
              "      <th></th>\n",
              "      <th>CustomerID</th>\n",
              "      <th>Products_ordered</th>\n",
              "      <th>Total_spending</th>\n",
              "      <th>log_Products_ordered</th>\n",
              "      <th>log_Total_spending</th>\n",
              "      <th>clusters</th>\n",
              "      <th>Cluster_name</th>\n",
              "    </tr>\n",
              "  </thead>\n",
              "  <tbody>\n",
              "    <tr>\n",
              "      <th>1</th>\n",
              "      <td>12348.0</td>\n",
              "      <td>5</td>\n",
              "      <td>73.20</td>\n",
              "      <td>1.791759</td>\n",
              "      <td>4.306764</td>\n",
              "      <td>2</td>\n",
              "      <td>2</td>\n",
              "    </tr>\n",
              "    <tr>\n",
              "      <th>18</th>\n",
              "      <td>12401.0</td>\n",
              "      <td>2</td>\n",
              "      <td>32.85</td>\n",
              "      <td>1.098612</td>\n",
              "      <td>3.521939</td>\n",
              "      <td>2</td>\n",
              "      <td>2</td>\n",
              "    </tr>\n",
              "    <tr>\n",
              "      <th>23</th>\n",
              "      <td>12414.0</td>\n",
              "      <td>4</td>\n",
              "      <td>75.00</td>\n",
              "      <td>1.609438</td>\n",
              "      <td>4.330733</td>\n",
              "      <td>2</td>\n",
              "      <td>2</td>\n",
              "    </tr>\n",
              "    <tr>\n",
              "      <th>34</th>\n",
              "      <td>12435.0</td>\n",
              "      <td>2</td>\n",
              "      <td>78.00</td>\n",
              "      <td>1.098612</td>\n",
              "      <td>4.369448</td>\n",
              "      <td>2</td>\n",
              "      <td>2</td>\n",
              "    </tr>\n",
              "    <tr>\n",
              "      <th>41</th>\n",
              "      <td>12464.0</td>\n",
              "      <td>1</td>\n",
              "      <td>30.60</td>\n",
              "      <td>0.693147</td>\n",
              "      <td>3.453157</td>\n",
              "      <td>2</td>\n",
              "      <td>2</td>\n",
              "    </tr>\n",
              "    <tr>\n",
              "      <th>...</th>\n",
              "      <td>...</td>\n",
              "      <td>...</td>\n",
              "      <td>...</td>\n",
              "      <td>...</td>\n",
              "      <td>...</td>\n",
              "      <td>...</td>\n",
              "      <td>...</td>\n",
              "    </tr>\n",
              "    <tr>\n",
              "      <th>1810</th>\n",
              "      <td>18037.0</td>\n",
              "      <td>7</td>\n",
              "      <td>19.60</td>\n",
              "      <td>2.079442</td>\n",
              "      <td>3.025291</td>\n",
              "      <td>2</td>\n",
              "      <td>2</td>\n",
              "    </tr>\n",
              "    <tr>\n",
              "      <th>1814</th>\n",
              "      <td>18050.0</td>\n",
              "      <td>5</td>\n",
              "      <td>74.40</td>\n",
              "      <td>1.791759</td>\n",
              "      <td>4.322807</td>\n",
              "      <td>2</td>\n",
              "      <td>2</td>\n",
              "    </tr>\n",
              "    <tr>\n",
              "      <th>1818</th>\n",
              "      <td>18062.0</td>\n",
              "      <td>1</td>\n",
              "      <td>15.00</td>\n",
              "      <td>0.693147</td>\n",
              "      <td>2.772589</td>\n",
              "      <td>2</td>\n",
              "      <td>2</td>\n",
              "    </tr>\n",
              "    <tr>\n",
              "      <th>1840</th>\n",
              "      <td>18138.0</td>\n",
              "      <td>4</td>\n",
              "      <td>67.80</td>\n",
              "      <td>1.609438</td>\n",
              "      <td>4.231204</td>\n",
              "      <td>2</td>\n",
              "      <td>2</td>\n",
              "    </tr>\n",
              "    <tr>\n",
              "      <th>1882</th>\n",
              "      <td>18270.0</td>\n",
              "      <td>4</td>\n",
              "      <td>73.70</td>\n",
              "      <td>1.609438</td>\n",
              "      <td>4.313480</td>\n",
              "      <td>2</td>\n",
              "      <td>2</td>\n",
              "    </tr>\n",
              "  </tbody>\n",
              "</table>\n",
              "<p>208 rows × 7 columns</p>\n",
              "</div>"
            ],
            "text/plain": [
              "      CustomerID  Products_ordered  ...  clusters  Cluster_name\n",
              "1        12348.0                 5  ...         2             2\n",
              "18       12401.0                 2  ...         2             2\n",
              "23       12414.0                 4  ...         2             2\n",
              "34       12435.0                 2  ...         2             2\n",
              "41       12464.0                 1  ...         2             2\n",
              "...          ...               ...  ...       ...           ...\n",
              "1810     18037.0                 7  ...         2             2\n",
              "1814     18050.0                 5  ...         2             2\n",
              "1818     18062.0                 1  ...         2             2\n",
              "1840     18138.0                 4  ...         2             2\n",
              "1882     18270.0                 4  ...         2             2\n",
              "\n",
              "[208 rows x 7 columns]"
            ]
          },
          "metadata": {
            "tags": []
          },
          "execution_count": 76
        }
      ]
    },
    {
      "cell_type": "markdown",
      "metadata": {
        "id": "ng-m_oqSAj6l"
      },
      "source": [
        "### **Group3**"
      ]
    },
    {
      "cell_type": "code",
      "metadata": {
        "id": "gJrYH8p3Aizj",
        "outputId": "09420bc5-b4dc-4167-9c3e-34ebcf57fe2d",
        "colab": {
          "base_uri": "https://localhost:8080/",
          "height": 0
        }
      },
      "source": [
        "customers[customers['clusters'] == 3]"
      ],
      "execution_count": 77,
      "outputs": [
        {
          "output_type": "execute_result",
          "data": {
            "text/html": [
              "<div>\n",
              "<style scoped>\n",
              "    .dataframe tbody tr th:only-of-type {\n",
              "        vertical-align: middle;\n",
              "    }\n",
              "\n",
              "    .dataframe tbody tr th {\n",
              "        vertical-align: top;\n",
              "    }\n",
              "\n",
              "    .dataframe thead th {\n",
              "        text-align: right;\n",
              "    }\n",
              "</style>\n",
              "<table border=\"1\" class=\"dataframe\">\n",
              "  <thead>\n",
              "    <tr style=\"text-align: right;\">\n",
              "      <th></th>\n",
              "      <th>CustomerID</th>\n",
              "      <th>Products_ordered</th>\n",
              "      <th>Total_spending</th>\n",
              "      <th>log_Products_ordered</th>\n",
              "      <th>log_Total_spending</th>\n",
              "      <th>clusters</th>\n",
              "      <th>Cluster_name</th>\n",
              "    </tr>\n",
              "  </thead>\n",
              "  <tbody>\n",
              "    <tr>\n",
              "      <th>6</th>\n",
              "      <td>12361.0</td>\n",
              "      <td>9</td>\n",
              "      <td>174.90</td>\n",
              "      <td>2.302585</td>\n",
              "      <td>5.169916</td>\n",
              "      <td>3</td>\n",
              "      <td>3</td>\n",
              "    </tr>\n",
              "    <tr>\n",
              "      <th>11</th>\n",
              "      <td>12373.0</td>\n",
              "      <td>12</td>\n",
              "      <td>299.10</td>\n",
              "      <td>2.564949</td>\n",
              "      <td>5.704116</td>\n",
              "      <td>3</td>\n",
              "      <td>3</td>\n",
              "    </tr>\n",
              "    <tr>\n",
              "      <th>14</th>\n",
              "      <td>12386.0</td>\n",
              "      <td>7</td>\n",
              "      <td>215.70</td>\n",
              "      <td>2.079442</td>\n",
              "      <td>5.378514</td>\n",
              "      <td>3</td>\n",
              "      <td>3</td>\n",
              "    </tr>\n",
              "    <tr>\n",
              "      <th>19</th>\n",
              "      <td>12402.0</td>\n",
              "      <td>10</td>\n",
              "      <td>195.60</td>\n",
              "      <td>2.397895</td>\n",
              "      <td>5.281171</td>\n",
              "      <td>3</td>\n",
              "      <td>3</td>\n",
              "    </tr>\n",
              "    <tr>\n",
              "      <th>20</th>\n",
              "      <td>12407.0</td>\n",
              "      <td>14</td>\n",
              "      <td>211.30</td>\n",
              "      <td>2.708050</td>\n",
              "      <td>5.358000</td>\n",
              "      <td>3</td>\n",
              "      <td>3</td>\n",
              "    </tr>\n",
              "    <tr>\n",
              "      <th>...</th>\n",
              "      <td>...</td>\n",
              "      <td>...</td>\n",
              "      <td>...</td>\n",
              "      <td>...</td>\n",
              "      <td>...</td>\n",
              "      <td>...</td>\n",
              "      <td>...</td>\n",
              "    </tr>\n",
              "    <tr>\n",
              "      <th>1869</th>\n",
              "      <td>18224.0</td>\n",
              "      <td>10</td>\n",
              "      <td>158.95</td>\n",
              "      <td>2.397895</td>\n",
              "      <td>5.074861</td>\n",
              "      <td>3</td>\n",
              "      <td>3</td>\n",
              "    </tr>\n",
              "    <tr>\n",
              "      <th>1871</th>\n",
              "      <td>18226.0</td>\n",
              "      <td>12</td>\n",
              "      <td>253.10</td>\n",
              "      <td>2.564949</td>\n",
              "      <td>5.537728</td>\n",
              "      <td>3</td>\n",
              "      <td>3</td>\n",
              "    </tr>\n",
              "    <tr>\n",
              "      <th>1879</th>\n",
              "      <td>18259.0</td>\n",
              "      <td>7</td>\n",
              "      <td>376.30</td>\n",
              "      <td>2.079442</td>\n",
              "      <td>5.933041</td>\n",
              "      <td>3</td>\n",
              "      <td>3</td>\n",
              "    </tr>\n",
              "    <tr>\n",
              "      <th>1881</th>\n",
              "      <td>18269.0</td>\n",
              "      <td>7</td>\n",
              "      <td>168.60</td>\n",
              "      <td>2.079442</td>\n",
              "      <td>5.133443</td>\n",
              "      <td>3</td>\n",
              "      <td>3</td>\n",
              "    </tr>\n",
              "    <tr>\n",
              "      <th>1883</th>\n",
              "      <td>18280.0</td>\n",
              "      <td>8</td>\n",
              "      <td>137.00</td>\n",
              "      <td>2.197225</td>\n",
              "      <td>4.927254</td>\n",
              "      <td>3</td>\n",
              "      <td>3</td>\n",
              "    </tr>\n",
              "  </tbody>\n",
              "</table>\n",
              "<p>608 rows × 7 columns</p>\n",
              "</div>"
            ],
            "text/plain": [
              "      CustomerID  Products_ordered  ...  clusters  Cluster_name\n",
              "6        12361.0                 9  ...         3             3\n",
              "11       12373.0                12  ...         3             3\n",
              "14       12386.0                 7  ...         3             3\n",
              "19       12402.0                10  ...         3             3\n",
              "20       12407.0                14  ...         3             3\n",
              "...          ...               ...  ...       ...           ...\n",
              "1869     18224.0                10  ...         3             3\n",
              "1871     18226.0                12  ...         3             3\n",
              "1879     18259.0                 7  ...         3             3\n",
              "1881     18269.0                 7  ...         3             3\n",
              "1883     18280.0                 8  ...         3             3\n",
              "\n",
              "[608 rows x 7 columns]"
            ]
          },
          "metadata": {
            "tags": []
          },
          "execution_count": 77
        }
      ]
    },
    {
      "cell_type": "markdown",
      "metadata": {
        "id": "nBDk_UqmAs6r"
      },
      "source": [
        "## Frequency of customers visiting the store"
      ]
    },
    {
      "cell_type": "code",
      "metadata": {
        "id": "grJYxJ17Ao6d",
        "outputId": "5269b128-261b-4ca6-86c6-453f81536d77",
        "colab": {
          "base_uri": "https://localhost:8080/"
        }
      },
      "source": [
        "frequency_of_customer = dataset.groupby('CustomerID')['InvoiceNo'].nunique()\n",
        "\n",
        "frequency_of_customer"
      ],
      "execution_count": 78,
      "outputs": [
        {
          "output_type": "execute_result",
          "data": {
            "text/plain": [
              "CustomerID\n",
              "12347.0    2\n",
              "12348.0    2\n",
              "12350.0    1\n",
              "12352.0    3\n",
              "12356.0    1\n",
              "          ..\n",
              "18260.0    3\n",
              "18269.0    1\n",
              "18270.0    1\n",
              "18280.0    1\n",
              "18283.0    3\n",
              "Name: InvoiceNo, Length: 1885, dtype: int64"
            ]
          },
          "metadata": {
            "tags": []
          },
          "execution_count": 78
        }
      ]
    },
    {
      "cell_type": "code",
      "metadata": {
        "id": "ZLVgPjFLA8Cd",
        "outputId": "d260743e-82cd-4d25-e3f1-7793dc6049d1",
        "colab": {
          "base_uri": "https://localhost:8080/",
          "height": 0
        }
      },
      "source": [
        "customers = pd.merge(customers, frequency_of_customer, on='CustomerID')\n",
        "\n",
        "customers.head()"
      ],
      "execution_count": 79,
      "outputs": [
        {
          "output_type": "execute_result",
          "data": {
            "text/html": [
              "<div>\n",
              "<style scoped>\n",
              "    .dataframe tbody tr th:only-of-type {\n",
              "        vertical-align: middle;\n",
              "    }\n",
              "\n",
              "    .dataframe tbody tr th {\n",
              "        vertical-align: top;\n",
              "    }\n",
              "\n",
              "    .dataframe thead th {\n",
              "        text-align: right;\n",
              "    }\n",
              "</style>\n",
              "<table border=\"1\" class=\"dataframe\">\n",
              "  <thead>\n",
              "    <tr style=\"text-align: right;\">\n",
              "      <th></th>\n",
              "      <th>CustomerID</th>\n",
              "      <th>Products_ordered</th>\n",
              "      <th>Total_spending</th>\n",
              "      <th>log_Products_ordered</th>\n",
              "      <th>log_Total_spending</th>\n",
              "      <th>clusters</th>\n",
              "      <th>Cluster_name</th>\n",
              "      <th>InvoiceNo</th>\n",
              "    </tr>\n",
              "  </thead>\n",
              "  <tbody>\n",
              "    <tr>\n",
              "      <th>0</th>\n",
              "      <td>12347.0</td>\n",
              "      <td>46</td>\n",
              "      <td>1088.03</td>\n",
              "      <td>3.850148</td>\n",
              "      <td>6.993043</td>\n",
              "      <td>1</td>\n",
              "      <td>1</td>\n",
              "      <td>2</td>\n",
              "    </tr>\n",
              "    <tr>\n",
              "      <th>1</th>\n",
              "      <td>12348.0</td>\n",
              "      <td>5</td>\n",
              "      <td>73.20</td>\n",
              "      <td>1.791759</td>\n",
              "      <td>4.306764</td>\n",
              "      <td>2</td>\n",
              "      <td>2</td>\n",
              "      <td>2</td>\n",
              "    </tr>\n",
              "    <tr>\n",
              "      <th>2</th>\n",
              "      <td>12350.0</td>\n",
              "      <td>16</td>\n",
              "      <td>294.40</td>\n",
              "      <td>2.833213</td>\n",
              "      <td>5.688330</td>\n",
              "      <td>0</td>\n",
              "      <td>0</td>\n",
              "      <td>1</td>\n",
              "    </tr>\n",
              "    <tr>\n",
              "      <th>3</th>\n",
              "      <td>12352.0</td>\n",
              "      <td>21</td>\n",
              "      <td>419.08</td>\n",
              "      <td>3.091042</td>\n",
              "      <td>6.040445</td>\n",
              "      <td>0</td>\n",
              "      <td>0</td>\n",
              "      <td>3</td>\n",
              "    </tr>\n",
              "    <tr>\n",
              "      <th>4</th>\n",
              "      <td>12356.0</td>\n",
              "      <td>17</td>\n",
              "      <td>818.70</td>\n",
              "      <td>2.890372</td>\n",
              "      <td>6.708938</td>\n",
              "      <td>0</td>\n",
              "      <td>0</td>\n",
              "      <td>1</td>\n",
              "    </tr>\n",
              "  </tbody>\n",
              "</table>\n",
              "</div>"
            ],
            "text/plain": [
              "   CustomerID  Products_ordered  ...  Cluster_name  InvoiceNo\n",
              "0     12347.0                46  ...             1          2\n",
              "1     12348.0                 5  ...             2          2\n",
              "2     12350.0                16  ...             0          1\n",
              "3     12352.0                21  ...             0          3\n",
              "4     12356.0                17  ...             0          1\n",
              "\n",
              "[5 rows x 8 columns]"
            ]
          },
          "metadata": {
            "tags": []
          },
          "execution_count": 79
        }
      ]
    },
    {
      "cell_type": "code",
      "metadata": {
        "id": "8e_efo0GBF6D",
        "outputId": "6f06fb17-5c6e-4fbd-bb86-f84496ed5caa",
        "colab": {
          "base_uri": "https://localhost:8080/",
          "height": 0
        }
      },
      "source": [
        "customers.rename(columns = {'InvoiceNo': 'Frequency_of_customer'}, inplace=True)\n",
        "\n",
        "customers.head()"
      ],
      "execution_count": 80,
      "outputs": [
        {
          "output_type": "execute_result",
          "data": {
            "text/html": [
              "<div>\n",
              "<style scoped>\n",
              "    .dataframe tbody tr th:only-of-type {\n",
              "        vertical-align: middle;\n",
              "    }\n",
              "\n",
              "    .dataframe tbody tr th {\n",
              "        vertical-align: top;\n",
              "    }\n",
              "\n",
              "    .dataframe thead th {\n",
              "        text-align: right;\n",
              "    }\n",
              "</style>\n",
              "<table border=\"1\" class=\"dataframe\">\n",
              "  <thead>\n",
              "    <tr style=\"text-align: right;\">\n",
              "      <th></th>\n",
              "      <th>CustomerID</th>\n",
              "      <th>Products_ordered</th>\n",
              "      <th>Total_spending</th>\n",
              "      <th>log_Products_ordered</th>\n",
              "      <th>log_Total_spending</th>\n",
              "      <th>clusters</th>\n",
              "      <th>Cluster_name</th>\n",
              "      <th>Frequency_of_customer</th>\n",
              "    </tr>\n",
              "  </thead>\n",
              "  <tbody>\n",
              "    <tr>\n",
              "      <th>0</th>\n",
              "      <td>12347.0</td>\n",
              "      <td>46</td>\n",
              "      <td>1088.03</td>\n",
              "      <td>3.850148</td>\n",
              "      <td>6.993043</td>\n",
              "      <td>1</td>\n",
              "      <td>1</td>\n",
              "      <td>2</td>\n",
              "    </tr>\n",
              "    <tr>\n",
              "      <th>1</th>\n",
              "      <td>12348.0</td>\n",
              "      <td>5</td>\n",
              "      <td>73.20</td>\n",
              "      <td>1.791759</td>\n",
              "      <td>4.306764</td>\n",
              "      <td>2</td>\n",
              "      <td>2</td>\n",
              "      <td>2</td>\n",
              "    </tr>\n",
              "    <tr>\n",
              "      <th>2</th>\n",
              "      <td>12350.0</td>\n",
              "      <td>16</td>\n",
              "      <td>294.40</td>\n",
              "      <td>2.833213</td>\n",
              "      <td>5.688330</td>\n",
              "      <td>0</td>\n",
              "      <td>0</td>\n",
              "      <td>1</td>\n",
              "    </tr>\n",
              "    <tr>\n",
              "      <th>3</th>\n",
              "      <td>12352.0</td>\n",
              "      <td>21</td>\n",
              "      <td>419.08</td>\n",
              "      <td>3.091042</td>\n",
              "      <td>6.040445</td>\n",
              "      <td>0</td>\n",
              "      <td>0</td>\n",
              "      <td>3</td>\n",
              "    </tr>\n",
              "    <tr>\n",
              "      <th>4</th>\n",
              "      <td>12356.0</td>\n",
              "      <td>17</td>\n",
              "      <td>818.70</td>\n",
              "      <td>2.890372</td>\n",
              "      <td>6.708938</td>\n",
              "      <td>0</td>\n",
              "      <td>0</td>\n",
              "      <td>1</td>\n",
              "    </tr>\n",
              "  </tbody>\n",
              "</table>\n",
              "</div>"
            ],
            "text/plain": [
              "   CustomerID  Products_ordered  ...  Cluster_name  Frequency_of_customer\n",
              "0     12347.0                46  ...             1                      2\n",
              "1     12348.0                 5  ...             2                      2\n",
              "2     12350.0                16  ...             0                      1\n",
              "3     12352.0                21  ...             0                      3\n",
              "4     12356.0                17  ...             0                      1\n",
              "\n",
              "[5 rows x 8 columns]"
            ]
          },
          "metadata": {
            "tags": []
          },
          "execution_count": 80
        }
      ]
    },
    {
      "cell_type": "markdown",
      "metadata": {
        "id": "MsSE7qGUBXtd"
      },
      "source": [
        "## Customer visit number per year and per month"
      ]
    },
    {
      "cell_type": "code",
      "metadata": {
        "id": "ueNjG2UPBUyr",
        "outputId": "2c8d0607-f83c-4458-ced1-fcc7603f8f80",
        "colab": {
          "base_uri": "https://localhost:8080/",
          "height": 0
        }
      },
      "source": [
        "new_dataset = dataset[['InvoiceNo', 'CustomerID', 'Year', 'Month']]\n",
        "\n",
        "new_dataset.head()"
      ],
      "execution_count": 81,
      "outputs": [
        {
          "output_type": "execute_result",
          "data": {
            "text/html": [
              "<div>\n",
              "<style scoped>\n",
              "    .dataframe tbody tr th:only-of-type {\n",
              "        vertical-align: middle;\n",
              "    }\n",
              "\n",
              "    .dataframe tbody tr th {\n",
              "        vertical-align: top;\n",
              "    }\n",
              "\n",
              "    .dataframe thead th {\n",
              "        text-align: right;\n",
              "    }\n",
              "</style>\n",
              "<table border=\"1\" class=\"dataframe\">\n",
              "  <thead>\n",
              "    <tr style=\"text-align: right;\">\n",
              "      <th></th>\n",
              "      <th>InvoiceNo</th>\n",
              "      <th>CustomerID</th>\n",
              "      <th>Year</th>\n",
              "      <th>Month</th>\n",
              "    </tr>\n",
              "  </thead>\n",
              "  <tbody>\n",
              "    <tr>\n",
              "      <th>0</th>\n",
              "      <td>536365</td>\n",
              "      <td>17850.0</td>\n",
              "      <td>2010</td>\n",
              "      <td>12</td>\n",
              "    </tr>\n",
              "    <tr>\n",
              "      <th>1</th>\n",
              "      <td>536365</td>\n",
              "      <td>17850.0</td>\n",
              "      <td>2010</td>\n",
              "      <td>12</td>\n",
              "    </tr>\n",
              "    <tr>\n",
              "      <th>2</th>\n",
              "      <td>536365</td>\n",
              "      <td>17850.0</td>\n",
              "      <td>2010</td>\n",
              "      <td>12</td>\n",
              "    </tr>\n",
              "    <tr>\n",
              "      <th>3</th>\n",
              "      <td>536365</td>\n",
              "      <td>17850.0</td>\n",
              "      <td>2010</td>\n",
              "      <td>12</td>\n",
              "    </tr>\n",
              "    <tr>\n",
              "      <th>4</th>\n",
              "      <td>536365</td>\n",
              "      <td>17850.0</td>\n",
              "      <td>2010</td>\n",
              "      <td>12</td>\n",
              "    </tr>\n",
              "  </tbody>\n",
              "</table>\n",
              "</div>"
            ],
            "text/plain": [
              "  InvoiceNo  CustomerID  Year  Month\n",
              "0    536365     17850.0  2010     12\n",
              "1    536365     17850.0  2010     12\n",
              "2    536365     17850.0  2010     12\n",
              "3    536365     17850.0  2010     12\n",
              "4    536365     17850.0  2010     12"
            ]
          },
          "metadata": {
            "tags": []
          },
          "execution_count": 81
        }
      ]
    },
    {
      "cell_type": "code",
      "metadata": {
        "id": "dL3FtyksBkJ8",
        "outputId": "9797c127-d4e7-4542-b98e-4c41e5078f2a",
        "colab": {
          "base_uri": "https://localhost:8080/",
          "height": 0
        }
      },
      "source": [
        "# Dropping the duplicates\n",
        "new_dataset.drop_duplicates(inplace=True)\n",
        "\n",
        "new_dataset.head()"
      ],
      "execution_count": 82,
      "outputs": [
        {
          "output_type": "stream",
          "text": [
            "/usr/local/lib/python3.6/dist-packages/ipykernel_launcher.py:2: SettingWithCopyWarning: \n",
            "A value is trying to be set on a copy of a slice from a DataFrame\n",
            "\n",
            "See the caveats in the documentation: https://pandas.pydata.org/pandas-docs/stable/user_guide/indexing.html#returning-a-view-versus-a-copy\n",
            "  \n"
          ],
          "name": "stderr"
        },
        {
          "output_type": "execute_result",
          "data": {
            "text/html": [
              "<div>\n",
              "<style scoped>\n",
              "    .dataframe tbody tr th:only-of-type {\n",
              "        vertical-align: middle;\n",
              "    }\n",
              "\n",
              "    .dataframe tbody tr th {\n",
              "        vertical-align: top;\n",
              "    }\n",
              "\n",
              "    .dataframe thead th {\n",
              "        text-align: right;\n",
              "    }\n",
              "</style>\n",
              "<table border=\"1\" class=\"dataframe\">\n",
              "  <thead>\n",
              "    <tr style=\"text-align: right;\">\n",
              "      <th></th>\n",
              "      <th>InvoiceNo</th>\n",
              "      <th>CustomerID</th>\n",
              "      <th>Year</th>\n",
              "      <th>Month</th>\n",
              "    </tr>\n",
              "  </thead>\n",
              "  <tbody>\n",
              "    <tr>\n",
              "      <th>0</th>\n",
              "      <td>536365</td>\n",
              "      <td>17850.0</td>\n",
              "      <td>2010</td>\n",
              "      <td>12</td>\n",
              "    </tr>\n",
              "    <tr>\n",
              "      <th>7</th>\n",
              "      <td>536366</td>\n",
              "      <td>17850.0</td>\n",
              "      <td>2010</td>\n",
              "      <td>12</td>\n",
              "    </tr>\n",
              "    <tr>\n",
              "      <th>10</th>\n",
              "      <td>536367</td>\n",
              "      <td>13047.0</td>\n",
              "      <td>2010</td>\n",
              "      <td>12</td>\n",
              "    </tr>\n",
              "    <tr>\n",
              "      <th>21</th>\n",
              "      <td>536368</td>\n",
              "      <td>13047.0</td>\n",
              "      <td>2010</td>\n",
              "      <td>12</td>\n",
              "    </tr>\n",
              "    <tr>\n",
              "      <th>25</th>\n",
              "      <td>536369</td>\n",
              "      <td>13047.0</td>\n",
              "      <td>2010</td>\n",
              "      <td>12</td>\n",
              "    </tr>\n",
              "  </tbody>\n",
              "</table>\n",
              "</div>"
            ],
            "text/plain": [
              "   InvoiceNo  CustomerID  Year  Month\n",
              "0     536365     17850.0  2010     12\n",
              "7     536366     17850.0  2010     12\n",
              "10    536367     13047.0  2010     12\n",
              "21    536368     13047.0  2010     12\n",
              "25    536369     13047.0  2010     12"
            ]
          },
          "metadata": {
            "tags": []
          },
          "execution_count": 82
        }
      ]
    },
    {
      "cell_type": "code",
      "metadata": {
        "id": "NcJvHryxBzxa"
      },
      "source": [
        "# Dropping the index\n",
        "new_dataset = new_dataset.reset_index(drop=True)"
      ],
      "execution_count": 83,
      "outputs": []
    },
    {
      "cell_type": "code",
      "metadata": {
        "id": "53JyfjDXB-mw",
        "outputId": "24b813c9-2429-486d-964b-12bf21a28a9b",
        "colab": {
          "base_uri": "https://localhost:8080/",
          "height": 0
        }
      },
      "source": [
        "# Obtaining number of visits per year\n",
        "new_dataset['Visit_no_yr'] = new_dataset.groupby(['CustomerID', 'Year']).cumcount() + 1\n",
        "\n",
        "new_dataset"
      ],
      "execution_count": 84,
      "outputs": [
        {
          "output_type": "execute_result",
          "data": {
            "text/html": [
              "<div>\n",
              "<style scoped>\n",
              "    .dataframe tbody tr th:only-of-type {\n",
              "        vertical-align: middle;\n",
              "    }\n",
              "\n",
              "    .dataframe tbody tr th {\n",
              "        vertical-align: top;\n",
              "    }\n",
              "\n",
              "    .dataframe thead th {\n",
              "        text-align: right;\n",
              "    }\n",
              "</style>\n",
              "<table border=\"1\" class=\"dataframe\">\n",
              "  <thead>\n",
              "    <tr style=\"text-align: right;\">\n",
              "      <th></th>\n",
              "      <th>InvoiceNo</th>\n",
              "      <th>CustomerID</th>\n",
              "      <th>Year</th>\n",
              "      <th>Month</th>\n",
              "      <th>Visit_no_yr</th>\n",
              "    </tr>\n",
              "  </thead>\n",
              "  <tbody>\n",
              "    <tr>\n",
              "      <th>0</th>\n",
              "      <td>536365</td>\n",
              "      <td>17850.0</td>\n",
              "      <td>2010</td>\n",
              "      <td>12</td>\n",
              "      <td>1</td>\n",
              "    </tr>\n",
              "    <tr>\n",
              "      <th>1</th>\n",
              "      <td>536366</td>\n",
              "      <td>17850.0</td>\n",
              "      <td>2010</td>\n",
              "      <td>12</td>\n",
              "      <td>2</td>\n",
              "    </tr>\n",
              "    <tr>\n",
              "      <th>2</th>\n",
              "      <td>536367</td>\n",
              "      <td>13047.0</td>\n",
              "      <td>2010</td>\n",
              "      <td>12</td>\n",
              "      <td>1</td>\n",
              "    </tr>\n",
              "    <tr>\n",
              "      <th>3</th>\n",
              "      <td>536368</td>\n",
              "      <td>13047.0</td>\n",
              "      <td>2010</td>\n",
              "      <td>12</td>\n",
              "      <td>2</td>\n",
              "    </tr>\n",
              "    <tr>\n",
              "      <th>4</th>\n",
              "      <td>536369</td>\n",
              "      <td>13047.0</td>\n",
              "      <td>2010</td>\n",
              "      <td>12</td>\n",
              "      <td>3</td>\n",
              "    </tr>\n",
              "    <tr>\n",
              "      <th>...</th>\n",
              "      <td>...</td>\n",
              "      <td>...</td>\n",
              "      <td>...</td>\n",
              "      <td>...</td>\n",
              "      <td>...</td>\n",
              "    </tr>\n",
              "    <tr>\n",
              "      <th>3785</th>\n",
              "      <td>547098</td>\n",
              "      <td>16384.0</td>\n",
              "      <td>2011</td>\n",
              "      <td>3</td>\n",
              "      <td>1</td>\n",
              "    </tr>\n",
              "    <tr>\n",
              "      <th>3786</th>\n",
              "      <td>547099</td>\n",
              "      <td>18224.0</td>\n",
              "      <td>2011</td>\n",
              "      <td>3</td>\n",
              "      <td>1</td>\n",
              "    </tr>\n",
              "    <tr>\n",
              "      <th>3787</th>\n",
              "      <td>547100</td>\n",
              "      <td>15615.0</td>\n",
              "      <td>2011</td>\n",
              "      <td>3</td>\n",
              "      <td>3</td>\n",
              "    </tr>\n",
              "    <tr>\n",
              "      <th>3788</th>\n",
              "      <td>547101</td>\n",
              "      <td>16029.0</td>\n",
              "      <td>2011</td>\n",
              "      <td>3</td>\n",
              "      <td>4</td>\n",
              "    </tr>\n",
              "    <tr>\n",
              "      <th>3789</th>\n",
              "      <td>547102</td>\n",
              "      <td>14245.0</td>\n",
              "      <td>2011</td>\n",
              "      <td>3</td>\n",
              "      <td>1</td>\n",
              "    </tr>\n",
              "  </tbody>\n",
              "</table>\n",
              "<p>3790 rows × 5 columns</p>\n",
              "</div>"
            ],
            "text/plain": [
              "     InvoiceNo  CustomerID  Year  Month  Visit_no_yr\n",
              "0       536365     17850.0  2010     12            1\n",
              "1       536366     17850.0  2010     12            2\n",
              "2       536367     13047.0  2010     12            1\n",
              "3       536368     13047.0  2010     12            2\n",
              "4       536369     13047.0  2010     12            3\n",
              "...        ...         ...   ...    ...          ...\n",
              "3785    547098     16384.0  2011      3            1\n",
              "3786    547099     18224.0  2011      3            1\n",
              "3787    547100     15615.0  2011      3            3\n",
              "3788    547101     16029.0  2011      3            4\n",
              "3789    547102     14245.0  2011      3            1\n",
              "\n",
              "[3790 rows x 5 columns]"
            ]
          },
          "metadata": {
            "tags": []
          },
          "execution_count": 84
        }
      ]
    },
    {
      "cell_type": "code",
      "metadata": {
        "id": "G3nHhYrzCRKd",
        "outputId": "04dba2fa-bf42-4096-d646-83df84b8a6c8",
        "colab": {
          "base_uri": "https://localhost:8080/",
          "height": 0
        }
      },
      "source": [
        "# Number of visits per month\n",
        "new_dataset['Visit_no_month'] = new_dataset.groupby(['CustomerID', 'Month']).cumcount() + 1\n",
        "\n",
        "new_dataset"
      ],
      "execution_count": 85,
      "outputs": [
        {
          "output_type": "execute_result",
          "data": {
            "text/html": [
              "<div>\n",
              "<style scoped>\n",
              "    .dataframe tbody tr th:only-of-type {\n",
              "        vertical-align: middle;\n",
              "    }\n",
              "\n",
              "    .dataframe tbody tr th {\n",
              "        vertical-align: top;\n",
              "    }\n",
              "\n",
              "    .dataframe thead th {\n",
              "        text-align: right;\n",
              "    }\n",
              "</style>\n",
              "<table border=\"1\" class=\"dataframe\">\n",
              "  <thead>\n",
              "    <tr style=\"text-align: right;\">\n",
              "      <th></th>\n",
              "      <th>InvoiceNo</th>\n",
              "      <th>CustomerID</th>\n",
              "      <th>Year</th>\n",
              "      <th>Month</th>\n",
              "      <th>Visit_no_yr</th>\n",
              "      <th>Visit_no_month</th>\n",
              "    </tr>\n",
              "  </thead>\n",
              "  <tbody>\n",
              "    <tr>\n",
              "      <th>0</th>\n",
              "      <td>536365</td>\n",
              "      <td>17850.0</td>\n",
              "      <td>2010</td>\n",
              "      <td>12</td>\n",
              "      <td>1</td>\n",
              "      <td>1</td>\n",
              "    </tr>\n",
              "    <tr>\n",
              "      <th>1</th>\n",
              "      <td>536366</td>\n",
              "      <td>17850.0</td>\n",
              "      <td>2010</td>\n",
              "      <td>12</td>\n",
              "      <td>2</td>\n",
              "      <td>2</td>\n",
              "    </tr>\n",
              "    <tr>\n",
              "      <th>2</th>\n",
              "      <td>536367</td>\n",
              "      <td>13047.0</td>\n",
              "      <td>2010</td>\n",
              "      <td>12</td>\n",
              "      <td>1</td>\n",
              "      <td>1</td>\n",
              "    </tr>\n",
              "    <tr>\n",
              "      <th>3</th>\n",
              "      <td>536368</td>\n",
              "      <td>13047.0</td>\n",
              "      <td>2010</td>\n",
              "      <td>12</td>\n",
              "      <td>2</td>\n",
              "      <td>2</td>\n",
              "    </tr>\n",
              "    <tr>\n",
              "      <th>4</th>\n",
              "      <td>536369</td>\n",
              "      <td>13047.0</td>\n",
              "      <td>2010</td>\n",
              "      <td>12</td>\n",
              "      <td>3</td>\n",
              "      <td>3</td>\n",
              "    </tr>\n",
              "    <tr>\n",
              "      <th>...</th>\n",
              "      <td>...</td>\n",
              "      <td>...</td>\n",
              "      <td>...</td>\n",
              "      <td>...</td>\n",
              "      <td>...</td>\n",
              "      <td>...</td>\n",
              "    </tr>\n",
              "    <tr>\n",
              "      <th>3785</th>\n",
              "      <td>547098</td>\n",
              "      <td>16384.0</td>\n",
              "      <td>2011</td>\n",
              "      <td>3</td>\n",
              "      <td>1</td>\n",
              "      <td>1</td>\n",
              "    </tr>\n",
              "    <tr>\n",
              "      <th>3786</th>\n",
              "      <td>547099</td>\n",
              "      <td>18224.0</td>\n",
              "      <td>2011</td>\n",
              "      <td>3</td>\n",
              "      <td>1</td>\n",
              "      <td>1</td>\n",
              "    </tr>\n",
              "    <tr>\n",
              "      <th>3787</th>\n",
              "      <td>547100</td>\n",
              "      <td>15615.0</td>\n",
              "      <td>2011</td>\n",
              "      <td>3</td>\n",
              "      <td>3</td>\n",
              "      <td>1</td>\n",
              "    </tr>\n",
              "    <tr>\n",
              "      <th>3788</th>\n",
              "      <td>547101</td>\n",
              "      <td>16029.0</td>\n",
              "      <td>2011</td>\n",
              "      <td>3</td>\n",
              "      <td>4</td>\n",
              "      <td>1</td>\n",
              "    </tr>\n",
              "    <tr>\n",
              "      <th>3789</th>\n",
              "      <td>547102</td>\n",
              "      <td>14245.0</td>\n",
              "      <td>2011</td>\n",
              "      <td>3</td>\n",
              "      <td>1</td>\n",
              "      <td>1</td>\n",
              "    </tr>\n",
              "  </tbody>\n",
              "</table>\n",
              "<p>3790 rows × 6 columns</p>\n",
              "</div>"
            ],
            "text/plain": [
              "     InvoiceNo  CustomerID  Year  Month  Visit_no_yr  Visit_no_month\n",
              "0       536365     17850.0  2010     12            1               1\n",
              "1       536366     17850.0  2010     12            2               2\n",
              "2       536367     13047.0  2010     12            1               1\n",
              "3       536368     13047.0  2010     12            2               2\n",
              "4       536369     13047.0  2010     12            3               3\n",
              "...        ...         ...   ...    ...          ...             ...\n",
              "3785    547098     16384.0  2011      3            1               1\n",
              "3786    547099     18224.0  2011      3            1               1\n",
              "3787    547100     15615.0  2011      3            3               1\n",
              "3788    547101     16029.0  2011      3            4               1\n",
              "3789    547102     14245.0  2011      3            1               1\n",
              "\n",
              "[3790 rows x 6 columns]"
            ]
          },
          "metadata": {
            "tags": []
          },
          "execution_count": 85
        }
      ]
    },
    {
      "cell_type": "markdown",
      "metadata": {
        "id": "WIOv_TP3DMs8"
      },
      "source": [
        "# <font color='blue'>**Item Recommendation system using Word2Vec**</font>"
      ]
    },
    {
      "cell_type": "code",
      "metadata": {
        "id": "cSwcLvVJC4h9",
        "outputId": "ea60d11e-227a-4403-d542-005aa06cb4d5",
        "colab": {
          "base_uri": "https://localhost:8080/"
        }
      },
      "source": [
        "no_of_customers =  list(dataset['CustomerID'].unique())\n",
        "\n",
        "print(f'Number of unique customers are {len(no_of_customers)}')"
      ],
      "execution_count": 86,
      "outputs": [
        {
          "output_type": "stream",
          "text": [
            "Number of unique customers are 1885\n"
          ],
          "name": "stdout"
        }
      ]
    },
    {
      "cell_type": "code",
      "metadata": {
        "id": "Kwni3W_3DkKX"
      },
      "source": [
        "# Typecasting\n",
        "dataset['StockCode'] = dataset['StockCode'].astype(str)"
      ],
      "execution_count": 87,
      "outputs": []
    },
    {
      "cell_type": "markdown",
      "metadata": {
        "id": "xQhhAlkyDzX5"
      },
      "source": [
        "### Shuffling the customers and using 90% of it for creating the model & then splitting into train and validation dataset"
      ]
    },
    {
      "cell_type": "code",
      "metadata": {
        "id": "3ZZhmXSEDxer"
      },
      "source": [
        "import random\n",
        "\n",
        "random.shuffle(no_of_customers)\n",
        "\n",
        "customers_train = [no_of_customers[i] for i in range(round(0.9 * len(no_of_customers)))]\n",
        "\n",
        "train_dataset = dataset[dataset['CustomerID'].isin(customers_train)]\n",
        "validation_dataset = dataset[~dataset['CustomerID'].isin(customers_train)]"
      ],
      "execution_count": 88,
      "outputs": []
    },
    {
      "cell_type": "markdown",
      "metadata": {
        "id": "Gp7gJEmSFLJI"
      },
      "source": [
        "## List of purchases made by the customer "
      ]
    },
    {
      "cell_type": "code",
      "metadata": {
        "id": "FTQ7jhaJE8k8"
      },
      "source": [
        "from tqdm import tqdm"
      ],
      "execution_count": 89,
      "outputs": []
    },
    {
      "cell_type": "markdown",
      "metadata": {
        "id": "j1U9ELCrFcHJ"
      },
      "source": [
        "### 1. Training dataset"
      ]
    },
    {
      "cell_type": "code",
      "metadata": {
        "id": "dOIZQbgEFasw",
        "outputId": "c7d966f9-374e-49c0-dc28-c13507379b1f",
        "colab": {
          "base_uri": "https://localhost:8080/"
        }
      },
      "source": [
        "purchases_train = []\n",
        "\n",
        "for i in tqdm(customers_train):\n",
        "  temp = list(train_dataset[train_dataset['CustomerID'] == i]['StockCode'])\n",
        "  purchases_train.append(temp)"
      ],
      "execution_count": 90,
      "outputs": [
        {
          "output_type": "stream",
          "text": [
            "100%|██████████| 1696/1696 [00:01<00:00, 1073.38it/s]\n"
          ],
          "name": "stderr"
        }
      ]
    },
    {
      "cell_type": "markdown",
      "metadata": {
        "id": "2hDkBXGdF3yY"
      },
      "source": [
        "### 2. Validation dataset"
      ]
    },
    {
      "cell_type": "code",
      "metadata": {
        "id": "pxt4gzj7FzfW",
        "outputId": "57cb3bd6-6bee-4543-f206-124944bd5fb1",
        "colab": {
          "base_uri": "https://localhost:8080/"
        }
      },
      "source": [
        "purchases_val = []\n",
        "\n",
        "for i in tqdm(validation_dataset['CustomerID'].unique()):\n",
        "  temp = list(validation_dataset[validation_dataset['CustomerID'] == i]['StockCode'])\n",
        "  purchases_val.append(temp)"
      ],
      "execution_count": 91,
      "outputs": [
        {
          "output_type": "stream",
          "text": [
            "100%|██████████| 189/189 [00:00<00:00, 1503.50it/s]\n"
          ],
          "name": "stderr"
        }
      ]
    },
    {
      "cell_type": "code",
      "metadata": {
        "id": "BhQ6HwsCGVQf"
      },
      "source": [
        "from gensim.models import Word2Vec"
      ],
      "execution_count": 92,
      "outputs": []
    },
    {
      "cell_type": "markdown",
      "metadata": {
        "id": "cUf6ZfMyGdRI"
      },
      "source": [
        "### Creating the Word2Vec model"
      ]
    },
    {
      "cell_type": "code",
      "metadata": {
        "id": "JOoHOMBnGcEt",
        "outputId": "d3808e93-f790-43a6-a4e3-e64a36f413d9",
        "colab": {
          "base_uri": "https://localhost:8080/"
        }
      },
      "source": [
        "model = Word2Vec(window = 10, sg = 1, hs = 0, negative = 10, alpha = 0.03, min_alpha = 0.0007, seed = 14)\n",
        "\n",
        "model.build_vocab(purchases_train, progress_per = 200)\n",
        "\n",
        "model.train(purchases_train, total_examples = model.corpus_count, epochs = 10, report_delay = 1)"
      ],
      "execution_count": 93,
      "outputs": [
        {
          "output_type": "execute_result",
          "data": {
            "text/plain": [
              "(613361, 640120)"
            ]
          },
          "metadata": {
            "tags": []
          },
          "execution_count": 93
        }
      ]
    },
    {
      "cell_type": "code",
      "metadata": {
        "id": "9RxWIUEKHMsf",
        "outputId": "319c64c8-06ea-4190-ab90-a4578ad82e26",
        "colab": {
          "base_uri": "https://localhost:8080/"
        }
      },
      "source": [
        "model.init_sims(replace=True)\n",
        "\n",
        "print(model)"
      ],
      "execution_count": 94,
      "outputs": [
        {
          "output_type": "stream",
          "text": [
            "Word2Vec(vocab=1854, size=100, alpha=0.03)\n"
          ],
          "name": "stdout"
        }
      ]
    },
    {
      "cell_type": "markdown",
      "metadata": {
        "id": "_asM4wsqHmaL"
      },
      "source": [
        "### Each vector of 2879 unique vocabulary words has the size of 100"
      ]
    },
    {
      "cell_type": "code",
      "metadata": {
        "id": "PQO0t04VHhzZ",
        "outputId": "cf0b04d9-657b-4f0d-e8b2-1d6ed41668ea",
        "colab": {
          "base_uri": "https://localhost:8080/"
        }
      },
      "source": [
        "X = model[model.wv.vocab]\n",
        "\n",
        "X.shape"
      ],
      "execution_count": 95,
      "outputs": [
        {
          "output_type": "stream",
          "text": [
            "/usr/local/lib/python3.6/dist-packages/ipykernel_launcher.py:1: DeprecationWarning: Call to deprecated `__getitem__` (Method will be removed in 4.0.0, use self.wv.__getitem__() instead).\n",
            "  \"\"\"Entry point for launching an IPython kernel.\n"
          ],
          "name": "stderr"
        },
        {
          "output_type": "execute_result",
          "data": {
            "text/plain": [
              "(1854, 100)"
            ]
          },
          "metadata": {
            "tags": []
          },
          "execution_count": 95
        }
      ]
    },
    {
      "cell_type": "markdown",
      "metadata": {
        "id": "042ymmWEH607"
      },
      "source": [
        "### Visual representation of similar products"
      ]
    },
    {
      "cell_type": "code",
      "metadata": {
        "id": "blwl_tbyH2h6",
        "outputId": "502f01b2-cbf7-4046-a046-ebf10c0c9981",
        "colab": {
          "base_uri": "https://localhost:8080/",
          "height": 0
        }
      },
      "source": [
        "import umap.umap_ as umap\n",
        "\n",
        "cluster_embedding = umap.UMAP(n_neighbors=30, min_dist=0.0, n_components=2, random_state=42).fit_transform(X)\n",
        "\n",
        "plt.figure(figsize=(10, 9))\n",
        "plt.scatter(cluster_embedding[:, 0], cluster_embedding[:, 1], s=3, cmap='Spectral')"
      ],
      "execution_count": 96,
      "outputs": [
        {
          "output_type": "execute_result",
          "data": {
            "text/plain": [
              "<matplotlib.collections.PathCollection at 0x7f17af24a550>"
            ]
          },
          "metadata": {
            "tags": []
          },
          "execution_count": 96
        },
        {
          "output_type": "display_data",
          "data": {
            "image/png": "[encoded data removed]",
            "text/plain": [
              "<Figure size 720x648 with 1 Axes>"
            ]
          },
          "metadata": {
            "tags": [],
            "needs_background": "light"
          }
        }
      ]
    },
    {
      "cell_type": "markdown",
      "metadata": {
        "id": "-6fZDCC_JiVr"
      },
      "source": [
        "### Creating a product dictionary"
      ]
    },
    {
      "cell_type": "code",
      "metadata": {
        "id": "DIHf4uVfJQ5c",
        "outputId": "68278528-e4dc-4bb5-c2a8-115489b2d362",
        "colab": {
          "base_uri": "https://localhost:8080/"
        }
      },
      "source": [
        "products = train_dataset[['StockCode', 'Description']]\n",
        "\n",
        "products.drop_duplicates(inplace=True, subset='StockCode', keep='last')\n",
        "\n",
        "products_dict = products.groupby('StockCode')['Description'].apply(list).to_dict()"
      ],
      "execution_count": 97,
      "outputs": [
        {
          "output_type": "stream",
          "text": [
            "/usr/local/lib/python3.6/dist-packages/ipykernel_launcher.py:3: SettingWithCopyWarning: \n",
            "A value is trying to be set on a copy of a slice from a DataFrame\n",
            "\n",
            "See the caveats in the documentation: https://pandas.pydata.org/pandas-docs/stable/user_guide/indexing.html#returning-a-view-versus-a-copy\n",
            "  This is separate from the ipykernel package so we can avoid doing imports until\n"
          ],
          "name": "stderr"
        }
      ]
    },
    {
      "cell_type": "code",
      "metadata": {
        "id": "CPzI4KhNKEp-",
        "outputId": "74bb583b-84a2-480c-c153-cfe2d8d6f14c",
        "colab": {
          "base_uri": "https://localhost:8080/"
        }
      },
      "source": [
        "products_dict['22748']"
      ],
      "execution_count": 98,
      "outputs": [
        {
          "output_type": "execute_result",
          "data": {
            "text/plain": [
              "[\"POPPY'S PLAYHOUSE KITCHEN\"]"
            ]
          },
          "metadata": {
            "tags": []
          },
          "execution_count": 98
        }
      ]
    },
    {
      "cell_type": "code",
      "metadata": {
        "id": "5MYG7dyQKJxy",
        "outputId": "6d58bf8f-ee41-492e-e076-52ebfe1f3ecc",
        "colab": {
          "base_uri": "https://localhost:8080/"
        }
      },
      "source": [
        "products_dict['84029G']"
      ],
      "execution_count": 99,
      "outputs": [
        {
          "output_type": "execute_result",
          "data": {
            "text/plain": [
              "['KNITTED UNION FLAG HOT WATER BOTTLE']"
            ]
          },
          "metadata": {
            "tags": []
          },
          "execution_count": 99
        }
      ]
    },
    {
      "cell_type": "markdown",
      "metadata": {
        "id": "gyCyLoZMKSVM"
      },
      "source": [
        "## Recommendation Function based on single product vector and will return 6 similar products"
      ]
    },
    {
      "cell_type": "code",
      "metadata": {
        "id": "Y5FT3PvnKPkP"
      },
      "source": [
        "def similar_products(v, n = 6):\n",
        "  ms = model.similar_by_vector(v, topn = n + 1)[1:]\n",
        "  new_ms = []\n",
        "  for j in ms:\n",
        "    pair = (products_dict[j[0]][0], j[1])\n",
        "    new_ms.append(pair)\n",
        "  \n",
        "  return new_ms"
      ],
      "execution_count": 100,
      "outputs": []
    },
    {
      "cell_type": "code",
      "metadata": {
        "id": "UBmUNbJFK8FU",
        "outputId": "2206abc0-45e6-46ed-8917-00690c60c051",
        "colab": {
          "base_uri": "https://localhost:8080/"
        }
      },
      "source": [
        "similar_products(model['84029G'])"
      ],
      "execution_count": 101,
      "outputs": [
        {
          "output_type": "stream",
          "text": [
            "/usr/local/lib/python3.6/dist-packages/ipykernel_launcher.py:1: DeprecationWarning: Call to deprecated `__getitem__` (Method will be removed in 4.0.0, use self.wv.__getitem__() instead).\n",
            "  \"\"\"Entry point for launching an IPython kernel.\n",
            "/usr/local/lib/python3.6/dist-packages/ipykernel_launcher.py:2: DeprecationWarning: Call to deprecated `similar_by_vector` (Method will be removed in 4.0.0, use self.wv.similar_by_vector() instead).\n",
            "  \n",
            "/usr/local/lib/python3.6/dist-packages/gensim/matutils.py:737: FutureWarning: Conversion of the second argument of issubdtype from `int` to `np.signedinteger` is deprecated. In future, it will be treated as `np.int64 == np.dtype(int).type`.\n",
            "  if np.issubdtype(vec.dtype, np.int):\n"
          ],
          "name": "stderr"
        },
        {
          "output_type": "execute_result",
          "data": {
            "text/plain": [
              "[('RED WOOLLY HOTTIE WHITE HEART.', 0.8578903675079346),\n",
              " ('ENGLISH ROSE HOT WATER BOTTLE', 0.7484748363494873),\n",
              " ('WOOD S/3 CABINET ANT WHITE FINISH', 0.7331353425979614),\n",
              " ('HAND WARMER RED RETROSPOT', 0.7328670024871826),\n",
              " ('LAVENDER INCENSE IN TIN', 0.7315800786018372),\n",
              " ('WHITE SKULL HOT WATER BOTTLE ', 0.7240634560585022)]"
            ]
          },
          "metadata": {
            "tags": []
          },
          "execution_count": 101
        }
      ]
    },
    {
      "cell_type": "markdown",
      "metadata": {
        "id": "bE3k3zhsLOF6"
      },
      "source": [
        "## Recommendation function based on average of products vector bought by user and will return 6 similar products"
      ]
    },
    {
      "cell_type": "code",
      "metadata": {
        "id": "QCLB682OLI-z"
      },
      "source": [
        "def aggregate_vectors(products):\n",
        "  product_vec = []\n",
        "  for i in products:\n",
        "    try:\n",
        "      product_vec.append(model[i])\n",
        "    except KeyError:\n",
        "      continue\n",
        "  \n",
        "  return np.mean(product_vec, axis=0)"
      ],
      "execution_count": 102,
      "outputs": []
    },
    {
      "cell_type": "code",
      "metadata": {
        "id": "p8W5dXSGLz_S",
        "outputId": "16befaab-ec85-45d7-d951-436a8dd5b187",
        "colab": {
          "base_uri": "https://localhost:8080/"
        }
      },
      "source": [
        "len(purchases_val[0])"
      ],
      "execution_count": 103,
      "outputs": [
        {
          "output_type": "execute_result",
          "data": {
            "text/plain": [
              "32"
            ]
          },
          "metadata": {
            "tags": []
          },
          "execution_count": 103
        }
      ]
    },
    {
      "cell_type": "code",
      "metadata": {
        "id": "gh81OssmL7MZ",
        "outputId": "bc603747-ed46-43b0-d4e7-f6582fe2db6d",
        "colab": {
          "base_uri": "https://localhost:8080/"
        }
      },
      "source": [
        "aggregate_vectors(purchases_val[0]).shape"
      ],
      "execution_count": 104,
      "outputs": [
        {
          "output_type": "stream",
          "text": [
            "/usr/local/lib/python3.6/dist-packages/ipykernel_launcher.py:5: DeprecationWarning: Call to deprecated `__getitem__` (Method will be removed in 4.0.0, use self.wv.__getitem__() instead).\n",
            "  \"\"\"\n"
          ],
          "name": "stderr"
        },
        {
          "output_type": "execute_result",
          "data": {
            "text/plain": [
              "(100,)"
            ]
          },
          "metadata": {
            "tags": []
          },
          "execution_count": 104
        }
      ]
    },
    {
      "cell_type": "code",
      "metadata": {
        "id": "yhll1-RMMDOk",
        "outputId": "aa4deb2e-b8c3-423c-f3f7-fd9311615d75",
        "colab": {
          "base_uri": "https://localhost:8080/"
        }
      },
      "source": [
        "similar_products(aggregate_vectors(purchases_val[0]))"
      ],
      "execution_count": 105,
      "outputs": [
        {
          "output_type": "stream",
          "text": [
            "/usr/local/lib/python3.6/dist-packages/ipykernel_launcher.py:5: DeprecationWarning: Call to deprecated `__getitem__` (Method will be removed in 4.0.0, use self.wv.__getitem__() instead).\n",
            "  \"\"\"\n",
            "/usr/local/lib/python3.6/dist-packages/ipykernel_launcher.py:2: DeprecationWarning: Call to deprecated `similar_by_vector` (Method will be removed in 4.0.0, use self.wv.similar_by_vector() instead).\n",
            "  \n",
            "/usr/local/lib/python3.6/dist-packages/gensim/matutils.py:737: FutureWarning: Conversion of the second argument of issubdtype from `int` to `np.signedinteger` is deprecated. In future, it will be treated as `np.int64 == np.dtype(int).type`.\n",
            "  if np.issubdtype(vec.dtype, np.int):\n"
          ],
          "name": "stderr"
        },
        {
          "output_type": "execute_result",
          "data": {
            "text/plain": [
              "[('HOT WATER BOTTLE TEA AND SYMPATHY', 0.7797672748565674),\n",
              " ('TABLE LAMP WHITE SHADE WOOD BASE', 0.7703139185905457),\n",
              " ('WHITE SOAP RACK WITH 2 BOTTLES', 0.7619615793228149),\n",
              " ('BATHROOM SCALES FOOTPRINTS IN SAND', 0.7561478614807129),\n",
              " ('COSY SLIPPER SHOES LARGE GREEN', 0.7535152435302734),\n",
              " ('WHITE SKULL HOT WATER BOTTLE ', 0.7521835565567017)]"
            ]
          },
          "metadata": {
            "tags": []
          },
          "execution_count": 105
        }
      ]
    },
    {
      "cell_type": "code",
      "metadata": {
        "id": "tkkwjZ_eMMGm",
        "outputId": "7e00cb28-414e-4294-cf90-a17af4581e32",
        "colab": {
          "base_uri": "https://localhost:8080/"
        }
      },
      "source": [
        "similar_products(aggregate_vectors(purchases_val[0][-5:]))"
      ],
      "execution_count": 106,
      "outputs": [
        {
          "output_type": "stream",
          "text": [
            "/usr/local/lib/python3.6/dist-packages/ipykernel_launcher.py:5: DeprecationWarning: Call to deprecated `__getitem__` (Method will be removed in 4.0.0, use self.wv.__getitem__() instead).\n",
            "  \"\"\"\n",
            "/usr/local/lib/python3.6/dist-packages/ipykernel_launcher.py:2: DeprecationWarning: Call to deprecated `similar_by_vector` (Method will be removed in 4.0.0, use self.wv.similar_by_vector() instead).\n",
            "  \n",
            "/usr/local/lib/python3.6/dist-packages/gensim/matutils.py:737: FutureWarning: Conversion of the second argument of issubdtype from `int` to `np.signedinteger` is deprecated. In future, it will be treated as `np.int64 == np.dtype(int).type`.\n",
            "  if np.issubdtype(vec.dtype, np.int):\n"
          ],
          "name": "stderr"
        },
        {
          "output_type": "execute_result",
          "data": {
            "text/plain": [
              "[('HAND WARMER BABUSHKA DESIGN', 0.7895529270172119),\n",
              " ('CARDHOLDER GINGHAM CHRISTMAS TREE', 0.7865744233131409),\n",
              " ('HOT WATER BOTTLE BABUSHKA ', 0.7701534628868103),\n",
              " ('HAND WARMER BIRD DESIGN', 0.7683818936347961),\n",
              " ('PORCELAIN T-LIGHT HOLDERS ASSORTED', 0.7668390274047852),\n",
              " ('HI TEC ALPINE HAND WARMER', 0.7580749988555908)]"
            ]
          },
          "metadata": {
            "tags": []
          },
          "execution_count": 106
        }
      ]
    },
    {
      "cell_type": "markdown",
      "metadata": {
        "id": "o91nk9l-MdbJ"
      },
      "source": [
        "# <font color=\"blue\">**Churn Prediction**</font>"
      ]
    },
    {
      "cell_type": "code",
      "metadata": {
        "id": "wW-_m20bMSEk",
        "outputId": "86c99443-fe99-4fad-fab0-ca98caf79b05",
        "colab": {
          "base_uri": "https://localhost:8080/",
          "height": 0
        }
      },
      "source": [
        "dataset[['Date', 'Month', 'Year']]"
      ],
      "execution_count": 107,
      "outputs": [
        {
          "output_type": "execute_result",
          "data": {
            "text/html": [
              "<div>\n",
              "<style scoped>\n",
              "    .dataframe tbody tr th:only-of-type {\n",
              "        vertical-align: middle;\n",
              "    }\n",
              "\n",
              "    .dataframe tbody tr th {\n",
              "        vertical-align: top;\n",
              "    }\n",
              "\n",
              "    .dataframe thead th {\n",
              "        text-align: right;\n",
              "    }\n",
              "</style>\n",
              "<table border=\"1\" class=\"dataframe\">\n",
              "  <thead>\n",
              "    <tr style=\"text-align: right;\">\n",
              "      <th></th>\n",
              "      <th>Date</th>\n",
              "      <th>Month</th>\n",
              "      <th>Year</th>\n",
              "    </tr>\n",
              "  </thead>\n",
              "  <tbody>\n",
              "    <tr>\n",
              "      <th>0</th>\n",
              "      <td>1</td>\n",
              "      <td>12</td>\n",
              "      <td>2010</td>\n",
              "    </tr>\n",
              "    <tr>\n",
              "      <th>1</th>\n",
              "      <td>1</td>\n",
              "      <td>12</td>\n",
              "      <td>2010</td>\n",
              "    </tr>\n",
              "    <tr>\n",
              "      <th>2</th>\n",
              "      <td>1</td>\n",
              "      <td>12</td>\n",
              "      <td>2010</td>\n",
              "    </tr>\n",
              "    <tr>\n",
              "      <th>3</th>\n",
              "      <td>1</td>\n",
              "      <td>12</td>\n",
              "      <td>2010</td>\n",
              "    </tr>\n",
              "    <tr>\n",
              "      <th>4</th>\n",
              "      <td>1</td>\n",
              "      <td>12</td>\n",
              "      <td>2010</td>\n",
              "    </tr>\n",
              "    <tr>\n",
              "      <th>...</th>\n",
              "      <td>...</td>\n",
              "      <td>...</td>\n",
              "      <td>...</td>\n",
              "    </tr>\n",
              "    <tr>\n",
              "      <th>126824</th>\n",
              "      <td>21</td>\n",
              "      <td>3</td>\n",
              "      <td>2011</td>\n",
              "    </tr>\n",
              "    <tr>\n",
              "      <th>126825</th>\n",
              "      <td>21</td>\n",
              "      <td>3</td>\n",
              "      <td>2011</td>\n",
              "    </tr>\n",
              "    <tr>\n",
              "      <th>126826</th>\n",
              "      <td>21</td>\n",
              "      <td>3</td>\n",
              "      <td>2011</td>\n",
              "    </tr>\n",
              "    <tr>\n",
              "      <th>126827</th>\n",
              "      <td>21</td>\n",
              "      <td>3</td>\n",
              "      <td>2011</td>\n",
              "    </tr>\n",
              "    <tr>\n",
              "      <th>126828</th>\n",
              "      <td>21</td>\n",
              "      <td>3</td>\n",
              "      <td>2011</td>\n",
              "    </tr>\n",
              "  </tbody>\n",
              "</table>\n",
              "<p>69987 rows × 3 columns</p>\n",
              "</div>"
            ],
            "text/plain": [
              "        Date  Month  Year\n",
              "0          1     12  2010\n",
              "1          1     12  2010\n",
              "2          1     12  2010\n",
              "3          1     12  2010\n",
              "4          1     12  2010\n",
              "...      ...    ...   ...\n",
              "126824    21      3  2011\n",
              "126825    21      3  2011\n",
              "126826    21      3  2011\n",
              "126827    21      3  2011\n",
              "126828    21      3  2011\n",
              "\n",
              "[69987 rows x 3 columns]"
            ]
          },
          "metadata": {
            "tags": []
          },
          "execution_count": 107
        }
      ]
    },
    {
      "cell_type": "code",
      "metadata": {
        "id": "IdMCXJMihZ7c",
        "outputId": "44b492d0-7d47-4d38-e35e-7fdc794af291",
        "colab": {
          "base_uri": "https://localhost:8080/"
        }
      },
      "source": [
        "dataset['Month'].unique()"
      ],
      "execution_count": 108,
      "outputs": [
        {
          "output_type": "execute_result",
          "data": {
            "text/plain": [
              "array([12,  1,  2,  3])"
            ]
          },
          "metadata": {
            "tags": []
          },
          "execution_count": 108
        }
      ]
    },
    {
      "cell_type": "markdown",
      "metadata": {
        "id": "0JAo7aXJhtDm"
      },
      "source": [
        "## Splitting the dataset\n",
        "\n",
        "### Initial dataset consists of data till end of july 2011 "
      ]
    },
    {
      "cell_type": "code",
      "metadata": {
        "id": "BDcrNPazhdxl",
        "outputId": "985da3cf-f2dc-4ce0-f63b-5b950d8b8dca",
        "colab": {
          "base_uri": "https://localhost:8080/",
          "height": 0
        }
      },
      "source": [
        "initial_dataset = dataset[((dataset['Month']==12) & (dataset['Year']==2010)) | \n",
        "                          ((dataset['Month']==1) & (dataset['Year']==2011)) |\n",
        "                          ((dataset['Month']==2) & (dataset['Year']==2011)) |\n",
        "                          ((dataset['Month']==3) & (dataset['Year']==2011)) |\n",
        "                          ((dataset['Month']==4) & (dataset['Year']==2011)) |\n",
        "                          ((dataset['Month']==5) & (dataset['Year']==2011)) |\n",
        "                          ((dataset['Month']==6) & (dataset['Year']==2011)) |\n",
        "                          ((dataset['Month']==7) & (dataset['Year']==2011))]\n",
        "\n",
        "initial_dataset"
      ],
      "execution_count": 109,
      "outputs": [
        {
          "output_type": "execute_result",
          "data": {
            "text/html": [
              "<div>\n",
              "<style scoped>\n",
              "    .dataframe tbody tr th:only-of-type {\n",
              "        vertical-align: middle;\n",
              "    }\n",
              "\n",
              "    .dataframe tbody tr th {\n",
              "        vertical-align: top;\n",
              "    }\n",
              "\n",
              "    .dataframe thead th {\n",
              "        text-align: right;\n",
              "    }\n",
              "</style>\n",
              "<table border=\"1\" class=\"dataframe\">\n",
              "  <thead>\n",
              "    <tr style=\"text-align: right;\">\n",
              "      <th></th>\n",
              "      <th>InvoiceNo</th>\n",
              "      <th>StockCode</th>\n",
              "      <th>Description</th>\n",
              "      <th>Quantity</th>\n",
              "      <th>InvoiceDate</th>\n",
              "      <th>UnitPrice</th>\n",
              "      <th>CustomerID</th>\n",
              "      <th>Country</th>\n",
              "      <th>Log_Transformed_Quantity</th>\n",
              "      <th>Log_Transformed_UnitPrice</th>\n",
              "      <th>Normalized_Quantity</th>\n",
              "      <th>Normalized_UnitPrice</th>\n",
              "      <th>Standardized_Quantity</th>\n",
              "      <th>Standardized_UnitPrice</th>\n",
              "      <th>Date</th>\n",
              "      <th>Month</th>\n",
              "      <th>Year</th>\n",
              "      <th>Weekday</th>\n",
              "      <th>Time</th>\n",
              "      <th>Sales</th>\n",
              "    </tr>\n",
              "  </thead>\n",
              "  <tbody>\n",
              "    <tr>\n",
              "      <th>0</th>\n",
              "      <td>536365</td>\n",
              "      <td>85123A</td>\n",
              "      <td>WHITE HANGING HEART T-LIGHT HOLDER</td>\n",
              "      <td>6</td>\n",
              "      <td>12/1/2010 8:26</td>\n",
              "      <td>2.55</td>\n",
              "      <td>17850.0</td>\n",
              "      <td>United Kingdom</td>\n",
              "      <td>1.945910</td>\n",
              "      <td>1.266948</td>\n",
              "      <td>0.20</td>\n",
              "      <td>0.335142</td>\n",
              "      <td>-0.207516</td>\n",
              "      <td>0.177813</td>\n",
              "      <td>1</td>\n",
              "      <td>12</td>\n",
              "      <td>2010</td>\n",
              "      <td>Wednesday</td>\n",
              "      <td>08:26:00</td>\n",
              "      <td>15.30</td>\n",
              "    </tr>\n",
              "    <tr>\n",
              "      <th>1</th>\n",
              "      <td>536365</td>\n",
              "      <td>71053</td>\n",
              "      <td>WHITE METAL LANTERN</td>\n",
              "      <td>6</td>\n",
              "      <td>12/1/2010 8:26</td>\n",
              "      <td>3.39</td>\n",
              "      <td>17850.0</td>\n",
              "      <td>United Kingdom</td>\n",
              "      <td>1.945910</td>\n",
              "      <td>1.479329</td>\n",
              "      <td>0.20</td>\n",
              "      <td>0.449118</td>\n",
              "      <td>-0.207516</td>\n",
              "      <td>0.724882</td>\n",
              "      <td>1</td>\n",
              "      <td>12</td>\n",
              "      <td>2010</td>\n",
              "      <td>Wednesday</td>\n",
              "      <td>08:26:00</td>\n",
              "      <td>20.34</td>\n",
              "    </tr>\n",
              "    <tr>\n",
              "      <th>2</th>\n",
              "      <td>536365</td>\n",
              "      <td>84406B</td>\n",
              "      <td>CREAM CUPID HEARTS COAT HANGER</td>\n",
              "      <td>8</td>\n",
              "      <td>12/1/2010 8:26</td>\n",
              "      <td>2.75</td>\n",
              "      <td>17850.0</td>\n",
              "      <td>United Kingdom</td>\n",
              "      <td>2.197225</td>\n",
              "      <td>1.321756</td>\n",
              "      <td>0.28</td>\n",
              "      <td>0.362280</td>\n",
              "      <td>0.089693</td>\n",
              "      <td>0.308067</td>\n",
              "      <td>1</td>\n",
              "      <td>12</td>\n",
              "      <td>2010</td>\n",
              "      <td>Wednesday</td>\n",
              "      <td>08:26:00</td>\n",
              "      <td>22.00</td>\n",
              "    </tr>\n",
              "    <tr>\n",
              "      <th>3</th>\n",
              "      <td>536365</td>\n",
              "      <td>84029G</td>\n",
              "      <td>KNITTED UNION FLAG HOT WATER BOTTLE</td>\n",
              "      <td>6</td>\n",
              "      <td>12/1/2010 8:26</td>\n",
              "      <td>3.39</td>\n",
              "      <td>17850.0</td>\n",
              "      <td>United Kingdom</td>\n",
              "      <td>1.945910</td>\n",
              "      <td>1.479329</td>\n",
              "      <td>0.20</td>\n",
              "      <td>0.449118</td>\n",
              "      <td>-0.207516</td>\n",
              "      <td>0.724882</td>\n",
              "      <td>1</td>\n",
              "      <td>12</td>\n",
              "      <td>2010</td>\n",
              "      <td>Wednesday</td>\n",
              "      <td>08:26:00</td>\n",
              "      <td>20.34</td>\n",
              "    </tr>\n",
              "    <tr>\n",
              "      <th>4</th>\n",
              "      <td>536365</td>\n",
              "      <td>84029E</td>\n",
              "      <td>RED WOOLLY HOTTIE WHITE HEART.</td>\n",
              "      <td>6</td>\n",
              "      <td>12/1/2010 8:26</td>\n",
              "      <td>3.39</td>\n",
              "      <td>17850.0</td>\n",
              "      <td>United Kingdom</td>\n",
              "      <td>1.945910</td>\n",
              "      <td>1.479329</td>\n",
              "      <td>0.20</td>\n",
              "      <td>0.449118</td>\n",
              "      <td>-0.207516</td>\n",
              "      <td>0.724882</td>\n",
              "      <td>1</td>\n",
              "      <td>12</td>\n",
              "      <td>2010</td>\n",
              "      <td>Wednesday</td>\n",
              "      <td>08:26:00</td>\n",
              "      <td>20.34</td>\n",
              "    </tr>\n",
              "    <tr>\n",
              "      <th>...</th>\n",
              "      <td>...</td>\n",
              "      <td>...</td>\n",
              "      <td>...</td>\n",
              "      <td>...</td>\n",
              "      <td>...</td>\n",
              "      <td>...</td>\n",
              "      <td>...</td>\n",
              "      <td>...</td>\n",
              "      <td>...</td>\n",
              "      <td>...</td>\n",
              "      <td>...</td>\n",
              "      <td>...</td>\n",
              "      <td>...</td>\n",
              "      <td>...</td>\n",
              "      <td>...</td>\n",
              "      <td>...</td>\n",
              "      <td>...</td>\n",
              "      <td>...</td>\n",
              "      <td>...</td>\n",
              "      <td>...</td>\n",
              "    </tr>\n",
              "    <tr>\n",
              "      <th>126824</th>\n",
              "      <td>547102</td>\n",
              "      <td>22329</td>\n",
              "      <td>ROUND CONTAINER SET OF 5 RETROSPOT</td>\n",
              "      <td>12</td>\n",
              "      <td>3/21/2011 10:41</td>\n",
              "      <td>1.65</td>\n",
              "      <td>14245.0</td>\n",
              "      <td>United Kingdom</td>\n",
              "      <td>2.564949</td>\n",
              "      <td>0.974560</td>\n",
              "      <td>0.44</td>\n",
              "      <td>0.213026</td>\n",
              "      <td>0.684110</td>\n",
              "      <td>-0.408332</td>\n",
              "      <td>21</td>\n",
              "      <td>3</td>\n",
              "      <td>2011</td>\n",
              "      <td>Monday</td>\n",
              "      <td>10:41:00</td>\n",
              "      <td>19.80</td>\n",
              "    </tr>\n",
              "    <tr>\n",
              "      <th>126825</th>\n",
              "      <td>547102</td>\n",
              "      <td>21318</td>\n",
              "      <td>GLASS CHALICE BLUE SMALL</td>\n",
              "      <td>6</td>\n",
              "      <td>3/21/2011 10:41</td>\n",
              "      <td>1.65</td>\n",
              "      <td>14245.0</td>\n",
              "      <td>United Kingdom</td>\n",
              "      <td>1.945910</td>\n",
              "      <td>0.974560</td>\n",
              "      <td>0.20</td>\n",
              "      <td>0.213026</td>\n",
              "      <td>-0.207516</td>\n",
              "      <td>-0.408332</td>\n",
              "      <td>21</td>\n",
              "      <td>3</td>\n",
              "      <td>2011</td>\n",
              "      <td>Monday</td>\n",
              "      <td>10:41:00</td>\n",
              "      <td>9.90</td>\n",
              "    </tr>\n",
              "    <tr>\n",
              "      <th>126826</th>\n",
              "      <td>547102</td>\n",
              "      <td>21534</td>\n",
              "      <td>DAIRY MAID LARGE MILK JUG</td>\n",
              "      <td>3</td>\n",
              "      <td>3/21/2011 10:41</td>\n",
              "      <td>4.95</td>\n",
              "      <td>14245.0</td>\n",
              "      <td>United Kingdom</td>\n",
              "      <td>1.386294</td>\n",
              "      <td>1.783391</td>\n",
              "      <td>0.08</td>\n",
              "      <td>0.660787</td>\n",
              "      <td>-0.653329</td>\n",
              "      <td>1.740867</td>\n",
              "      <td>21</td>\n",
              "      <td>3</td>\n",
              "      <td>2011</td>\n",
              "      <td>Monday</td>\n",
              "      <td>10:41:00</td>\n",
              "      <td>14.85</td>\n",
              "    </tr>\n",
              "    <tr>\n",
              "      <th>126827</th>\n",
              "      <td>547102</td>\n",
              "      <td>21530</td>\n",
              "      <td>DAIRY MAID TOASTRACK</td>\n",
              "      <td>6</td>\n",
              "      <td>3/21/2011 10:41</td>\n",
              "      <td>2.95</td>\n",
              "      <td>14245.0</td>\n",
              "      <td>United Kingdom</td>\n",
              "      <td>1.945910</td>\n",
              "      <td>1.373716</td>\n",
              "      <td>0.20</td>\n",
              "      <td>0.389417</td>\n",
              "      <td>-0.207516</td>\n",
              "      <td>0.438322</td>\n",
              "      <td>21</td>\n",
              "      <td>3</td>\n",
              "      <td>2011</td>\n",
              "      <td>Monday</td>\n",
              "      <td>10:41:00</td>\n",
              "      <td>17.70</td>\n",
              "    </tr>\n",
              "    <tr>\n",
              "      <th>126828</th>\n",
              "      <td>547102</td>\n",
              "      <td>21210</td>\n",
              "      <td>SET OF 72 RETROSPOT PAPER  DOILIES</td>\n",
              "      <td>12</td>\n",
              "      <td>3/21/2011 10:41</td>\n",
              "      <td>1.45</td>\n",
              "      <td>14245.0</td>\n",
              "      <td>United Kingdom</td>\n",
              "      <td>2.564949</td>\n",
              "      <td>0.896088</td>\n",
              "      <td>0.44</td>\n",
              "      <td>0.185889</td>\n",
              "      <td>0.684110</td>\n",
              "      <td>-0.538587</td>\n",
              "      <td>21</td>\n",
              "      <td>3</td>\n",
              "      <td>2011</td>\n",
              "      <td>Monday</td>\n",
              "      <td>10:41:00</td>\n",
              "      <td>17.40</td>\n",
              "    </tr>\n",
              "  </tbody>\n",
              "</table>\n",
              "<p>69987 rows × 20 columns</p>\n",
              "</div>"
            ],
            "text/plain": [
              "       InvoiceNo StockCode  ...      Time  Sales\n",
              "0         536365    85123A  ...  08:26:00  15.30\n",
              "1         536365     71053  ...  08:26:00  20.34\n",
              "2         536365    84406B  ...  08:26:00  22.00\n",
              "3         536365    84029G  ...  08:26:00  20.34\n",
              "4         536365    84029E  ...  08:26:00  20.34\n",
              "...          ...       ...  ...       ...    ...\n",
              "126824    547102     22329  ...  10:41:00  19.80\n",
              "126825    547102     21318  ...  10:41:00   9.90\n",
              "126826    547102     21534  ...  10:41:00  14.85\n",
              "126827    547102     21530  ...  10:41:00  17.70\n",
              "126828    547102     21210  ...  10:41:00  17.40\n",
              "\n",
              "[69987 rows x 20 columns]"
            ]
          },
          "metadata": {
            "tags": []
          },
          "execution_count": 109
        }
      ]
    },
    {
      "cell_type": "markdown",
      "metadata": {
        "id": "WyKETTcxiEy3"
      },
      "source": [
        "### Final dataset consists data from start of August 2011 till end"
      ]
    },
    {
      "cell_type": "code",
      "metadata": {
        "id": "870fs6Exh8cM",
        "outputId": "b9d22624-f0f3-402c-d84f-901aa148c6f8",
        "colab": {
          "base_uri": "https://localhost:8080/",
          "height": 0
        }
      },
      "source": [
        "final_dataset = dataset[((dataset['Month']==8) & (dataset['Year']==2011)) |\n",
        "                        ((dataset['Month']==9) & (dataset['Year']==2011)) | \n",
        "                        ((dataset['Month']==10) & (dataset['Year']==2011)) |\n",
        "                        ((dataset['Month']==11) & (dataset['Year']==2011)) |\n",
        "                        ((dataset['Month']==12) & (dataset['Year']==2011))]\n",
        "\n",
        "final_dataset"
      ],
      "execution_count": 110,
      "outputs": [
        {
          "output_type": "execute_result",
          "data": {
            "text/html": [
              "<div>\n",
              "<style scoped>\n",
              "    .dataframe tbody tr th:only-of-type {\n",
              "        vertical-align: middle;\n",
              "    }\n",
              "\n",
              "    .dataframe tbody tr th {\n",
              "        vertical-align: top;\n",
              "    }\n",
              "\n",
              "    .dataframe thead th {\n",
              "        text-align: right;\n",
              "    }\n",
              "</style>\n",
              "<table border=\"1\" class=\"dataframe\">\n",
              "  <thead>\n",
              "    <tr style=\"text-align: right;\">\n",
              "      <th></th>\n",
              "      <th>InvoiceNo</th>\n",
              "      <th>StockCode</th>\n",
              "      <th>Description</th>\n",
              "      <th>Quantity</th>\n",
              "      <th>InvoiceDate</th>\n",
              "      <th>UnitPrice</th>\n",
              "      <th>CustomerID</th>\n",
              "      <th>Country</th>\n",
              "      <th>Log_Transformed_Quantity</th>\n",
              "      <th>Log_Transformed_UnitPrice</th>\n",
              "      <th>Normalized_Quantity</th>\n",
              "      <th>Normalized_UnitPrice</th>\n",
              "      <th>Standardized_Quantity</th>\n",
              "      <th>Standardized_UnitPrice</th>\n",
              "      <th>Date</th>\n",
              "      <th>Month</th>\n",
              "      <th>Year</th>\n",
              "      <th>Weekday</th>\n",
              "      <th>Time</th>\n",
              "      <th>Sales</th>\n",
              "    </tr>\n",
              "  </thead>\n",
              "  <tbody>\n",
              "  </tbody>\n",
              "</table>\n",
              "</div>"
            ],
            "text/plain": [
              "Empty DataFrame\n",
              "Columns: [InvoiceNo, StockCode, Description, Quantity, InvoiceDate, UnitPrice, CustomerID, Country, Log_Transformed_Quantity, Log_Transformed_UnitPrice, Normalized_Quantity, Normalized_UnitPrice, Standardized_Quantity, Standardized_UnitPrice, Date, Month, Year, Weekday, Time, Sales]\n",
              "Index: []"
            ]
          },
          "metadata": {
            "tags": []
          },
          "execution_count": 110
        }
      ]
    },
    {
      "cell_type": "markdown",
      "metadata": {
        "id": "jGeG0NiKiXD4"
      },
      "source": [
        "## Finding the frequency of each customers during start of December 2010 to end of July 2011 "
      ]
    },
    {
      "cell_type": "code",
      "metadata": {
        "id": "JWtbGcqGiNZp",
        "outputId": "610ce1db-3843-45cf-aa48-0e86cdd711d1",
        "colab": {
          "base_uri": "https://localhost:8080/"
        }
      },
      "source": [
        "initial_frequency = initial_dataset.groupby('CustomerID')['InvoiceNo'].nunique()\n",
        "\n",
        "initial_frequency"
      ],
      "execution_count": 111,
      "outputs": [
        {
          "output_type": "execute_result",
          "data": {
            "text/plain": [
              "CustomerID\n",
              "12347.0    2\n",
              "12348.0    2\n",
              "12350.0    1\n",
              "12352.0    3\n",
              "12356.0    1\n",
              "          ..\n",
              "18260.0    3\n",
              "18269.0    1\n",
              "18270.0    1\n",
              "18280.0    1\n",
              "18283.0    3\n",
              "Name: InvoiceNo, Length: 1885, dtype: int64"
            ]
          },
          "metadata": {
            "tags": []
          },
          "execution_count": 111
        }
      ]
    },
    {
      "cell_type": "code",
      "metadata": {
        "id": "bxs36X-CixrQ",
        "outputId": "af574f84-409e-4b66-8031-058a7a41976d",
        "colab": {
          "base_uri": "https://localhost:8080/",
          "height": 0
        }
      },
      "source": [
        "initial_frequency_table = pd.DataFrame({'CustomerID': initial_dataset['CustomerID'].unique()})\n",
        "\n",
        "initial_frequency_table = initial_frequency_table.sort_values('CustomerID').reset_index()\n",
        "\n",
        "del initial_frequency_table['index']\n",
        "\n",
        "initial_frequency_table"
      ],
      "execution_count": 112,
      "outputs": [
        {
          "output_type": "execute_result",
          "data": {
            "text/html": [
              "<div>\n",
              "<style scoped>\n",
              "    .dataframe tbody tr th:only-of-type {\n",
              "        vertical-align: middle;\n",
              "    }\n",
              "\n",
              "    .dataframe tbody tr th {\n",
              "        vertical-align: top;\n",
              "    }\n",
              "\n",
              "    .dataframe thead th {\n",
              "        text-align: right;\n",
              "    }\n",
              "</style>\n",
              "<table border=\"1\" class=\"dataframe\">\n",
              "  <thead>\n",
              "    <tr style=\"text-align: right;\">\n",
              "      <th></th>\n",
              "      <th>CustomerID</th>\n",
              "    </tr>\n",
              "  </thead>\n",
              "  <tbody>\n",
              "    <tr>\n",
              "      <th>0</th>\n",
              "      <td>12347.0</td>\n",
              "    </tr>\n",
              "    <tr>\n",
              "      <th>1</th>\n",
              "      <td>12348.0</td>\n",
              "    </tr>\n",
              "    <tr>\n",
              "      <th>2</th>\n",
              "      <td>12350.0</td>\n",
              "    </tr>\n",
              "    <tr>\n",
              "      <th>3</th>\n",
              "      <td>12352.0</td>\n",
              "    </tr>\n",
              "    <tr>\n",
              "      <th>4</th>\n",
              "      <td>12356.0</td>\n",
              "    </tr>\n",
              "    <tr>\n",
              "      <th>...</th>\n",
              "      <td>...</td>\n",
              "    </tr>\n",
              "    <tr>\n",
              "      <th>1880</th>\n",
              "      <td>18260.0</td>\n",
              "    </tr>\n",
              "    <tr>\n",
              "      <th>1881</th>\n",
              "      <td>18269.0</td>\n",
              "    </tr>\n",
              "    <tr>\n",
              "      <th>1882</th>\n",
              "      <td>18270.0</td>\n",
              "    </tr>\n",
              "    <tr>\n",
              "      <th>1883</th>\n",
              "      <td>18280.0</td>\n",
              "    </tr>\n",
              "    <tr>\n",
              "      <th>1884</th>\n",
              "      <td>18283.0</td>\n",
              "    </tr>\n",
              "  </tbody>\n",
              "</table>\n",
              "<p>1885 rows × 1 columns</p>\n",
              "</div>"
            ],
            "text/plain": [
              "      CustomerID\n",
              "0        12347.0\n",
              "1        12348.0\n",
              "2        12350.0\n",
              "3        12352.0\n",
              "4        12356.0\n",
              "...          ...\n",
              "1880     18260.0\n",
              "1881     18269.0\n",
              "1882     18270.0\n",
              "1883     18280.0\n",
              "1884     18283.0\n",
              "\n",
              "[1885 rows x 1 columns]"
            ]
          },
          "metadata": {
            "tags": []
          },
          "execution_count": 112
        }
      ]
    },
    {
      "cell_type": "code",
      "metadata": {
        "id": "ZKskbgVmjjbe",
        "outputId": "dcb39434-52b5-4990-b685-37a153f59e36",
        "colab": {
          "base_uri": "https://localhost:8080/",
          "height": 0
        }
      },
      "source": [
        "initial_frequency_table = pd.merge(initial_frequency_table, initial_frequency, on='CustomerID')\n",
        "\n",
        "initial_frequency_table.head(10)"
      ],
      "execution_count": 113,
      "outputs": [
        {
          "output_type": "execute_result",
          "data": {
            "text/html": [
              "<div>\n",
              "<style scoped>\n",
              "    .dataframe tbody tr th:only-of-type {\n",
              "        vertical-align: middle;\n",
              "    }\n",
              "\n",
              "    .dataframe tbody tr th {\n",
              "        vertical-align: top;\n",
              "    }\n",
              "\n",
              "    .dataframe thead th {\n",
              "        text-align: right;\n",
              "    }\n",
              "</style>\n",
              "<table border=\"1\" class=\"dataframe\">\n",
              "  <thead>\n",
              "    <tr style=\"text-align: right;\">\n",
              "      <th></th>\n",
              "      <th>CustomerID</th>\n",
              "      <th>InvoiceNo</th>\n",
              "    </tr>\n",
              "  </thead>\n",
              "  <tbody>\n",
              "    <tr>\n",
              "      <th>0</th>\n",
              "      <td>12347.0</td>\n",
              "      <td>2</td>\n",
              "    </tr>\n",
              "    <tr>\n",
              "      <th>1</th>\n",
              "      <td>12348.0</td>\n",
              "      <td>2</td>\n",
              "    </tr>\n",
              "    <tr>\n",
              "      <th>2</th>\n",
              "      <td>12350.0</td>\n",
              "      <td>1</td>\n",
              "    </tr>\n",
              "    <tr>\n",
              "      <th>3</th>\n",
              "      <td>12352.0</td>\n",
              "      <td>3</td>\n",
              "    </tr>\n",
              "    <tr>\n",
              "      <th>4</th>\n",
              "      <td>12356.0</td>\n",
              "      <td>1</td>\n",
              "    </tr>\n",
              "    <tr>\n",
              "      <th>5</th>\n",
              "      <td>12359.0</td>\n",
              "      <td>2</td>\n",
              "    </tr>\n",
              "    <tr>\n",
              "      <th>6</th>\n",
              "      <td>12361.0</td>\n",
              "      <td>1</td>\n",
              "    </tr>\n",
              "    <tr>\n",
              "      <th>7</th>\n",
              "      <td>12362.0</td>\n",
              "      <td>1</td>\n",
              "    </tr>\n",
              "    <tr>\n",
              "      <th>8</th>\n",
              "      <td>12365.0</td>\n",
              "      <td>1</td>\n",
              "    </tr>\n",
              "    <tr>\n",
              "      <th>9</th>\n",
              "      <td>12370.0</td>\n",
              "      <td>3</td>\n",
              "    </tr>\n",
              "  </tbody>\n",
              "</table>\n",
              "</div>"
            ],
            "text/plain": [
              "   CustomerID  InvoiceNo\n",
              "0     12347.0          2\n",
              "1     12348.0          2\n",
              "2     12350.0          1\n",
              "3     12352.0          3\n",
              "4     12356.0          1\n",
              "5     12359.0          2\n",
              "6     12361.0          1\n",
              "7     12362.0          1\n",
              "8     12365.0          1\n",
              "9     12370.0          3"
            ]
          },
          "metadata": {
            "tags": []
          },
          "execution_count": 113
        }
      ]
    },
    {
      "cell_type": "code",
      "metadata": {
        "id": "jOzTGMrnjwNo",
        "outputId": "6833dfe7-2fbb-4cc7-e060-212050367201",
        "colab": {
          "base_uri": "https://localhost:8080/",
          "height": 0
        }
      },
      "source": [
        "initial_frequency_table.rename(columns={'InvoiceNo': 'Initial_frequency'}, inplace=True)\n",
        "\n",
        "initial_frequency_table"
      ],
      "execution_count": 114,
      "outputs": [
        {
          "output_type": "execute_result",
          "data": {
            "text/html": [
              "<div>\n",
              "<style scoped>\n",
              "    .dataframe tbody tr th:only-of-type {\n",
              "        vertical-align: middle;\n",
              "    }\n",
              "\n",
              "    .dataframe tbody tr th {\n",
              "        vertical-align: top;\n",
              "    }\n",
              "\n",
              "    .dataframe thead th {\n",
              "        text-align: right;\n",
              "    }\n",
              "</style>\n",
              "<table border=\"1\" class=\"dataframe\">\n",
              "  <thead>\n",
              "    <tr style=\"text-align: right;\">\n",
              "      <th></th>\n",
              "      <th>CustomerID</th>\n",
              "      <th>Initial_frequency</th>\n",
              "    </tr>\n",
              "  </thead>\n",
              "  <tbody>\n",
              "    <tr>\n",
              "      <th>0</th>\n",
              "      <td>12347.0</td>\n",
              "      <td>2</td>\n",
              "    </tr>\n",
              "    <tr>\n",
              "      <th>1</th>\n",
              "      <td>12348.0</td>\n",
              "      <td>2</td>\n",
              "    </tr>\n",
              "    <tr>\n",
              "      <th>2</th>\n",
              "      <td>12350.0</td>\n",
              "      <td>1</td>\n",
              "    </tr>\n",
              "    <tr>\n",
              "      <th>3</th>\n",
              "      <td>12352.0</td>\n",
              "      <td>3</td>\n",
              "    </tr>\n",
              "    <tr>\n",
              "      <th>4</th>\n",
              "      <td>12356.0</td>\n",
              "      <td>1</td>\n",
              "    </tr>\n",
              "    <tr>\n",
              "      <th>...</th>\n",
              "      <td>...</td>\n",
              "      <td>...</td>\n",
              "    </tr>\n",
              "    <tr>\n",
              "      <th>1880</th>\n",
              "      <td>18260.0</td>\n",
              "      <td>3</td>\n",
              "    </tr>\n",
              "    <tr>\n",
              "      <th>1881</th>\n",
              "      <td>18269.0</td>\n",
              "      <td>1</td>\n",
              "    </tr>\n",
              "    <tr>\n",
              "      <th>1882</th>\n",
              "      <td>18270.0</td>\n",
              "      <td>1</td>\n",
              "    </tr>\n",
              "    <tr>\n",
              "      <th>1883</th>\n",
              "      <td>18280.0</td>\n",
              "      <td>1</td>\n",
              "    </tr>\n",
              "    <tr>\n",
              "      <th>1884</th>\n",
              "      <td>18283.0</td>\n",
              "      <td>3</td>\n",
              "    </tr>\n",
              "  </tbody>\n",
              "</table>\n",
              "<p>1885 rows × 2 columns</p>\n",
              "</div>"
            ],
            "text/plain": [
              "      CustomerID  Initial_frequency\n",
              "0        12347.0                  2\n",
              "1        12348.0                  2\n",
              "2        12350.0                  1\n",
              "3        12352.0                  3\n",
              "4        12356.0                  1\n",
              "...          ...                ...\n",
              "1880     18260.0                  3\n",
              "1881     18269.0                  1\n",
              "1882     18270.0                  1\n",
              "1883     18280.0                  1\n",
              "1884     18283.0                  3\n",
              "\n",
              "[1885 rows x 2 columns]"
            ]
          },
          "metadata": {
            "tags": []
          },
          "execution_count": 114
        }
      ]
    },
    {
      "cell_type": "code",
      "metadata": {
        "id": "0gsqyHKjkAoZ",
        "outputId": "ef3e6ce6-cd7b-46e7-ce84-3f585d047994",
        "colab": {
          "base_uri": "https://localhost:8080/"
        }
      },
      "source": [
        "initial_frequency_table['Initial_frequency'].describe()"
      ],
      "execution_count": 115,
      "outputs": [
        {
          "output_type": "execute_result",
          "data": {
            "text/plain": [
              "count    1885.000000\n",
              "mean        2.010610\n",
              "std         2.580116\n",
              "min         1.000000\n",
              "25%         1.000000\n",
              "50%         1.000000\n",
              "75%         2.000000\n",
              "max        48.000000\n",
              "Name: Initial_frequency, dtype: float64"
            ]
          },
          "metadata": {
            "tags": []
          },
          "execution_count": 115
        }
      ]
    },
    {
      "cell_type": "markdown",
      "metadata": {
        "id": "hXdQ0vSUkJm_"
      },
      "source": [
        "## Finding the frequency of each customers during start of August 2011 to end of dataset"
      ]
    },
    {
      "cell_type": "code",
      "metadata": {
        "id": "Lodv9u1dkFK3",
        "outputId": "cdb39097-0e96-4bab-f7f8-6bfa5728cc0d",
        "colab": {
          "base_uri": "https://localhost:8080/"
        }
      },
      "source": [
        "final_frequency = final_dataset.groupby('CustomerID')['InvoiceNo'].nunique()\n",
        "\n",
        "final_frequency"
      ],
      "execution_count": 116,
      "outputs": [
        {
          "output_type": "execute_result",
          "data": {
            "text/plain": [
              "Series([], Name: InvoiceNo, dtype: int64)"
            ]
          },
          "metadata": {
            "tags": []
          },
          "execution_count": 116
        }
      ]
    },
    {
      "cell_type": "code",
      "metadata": {
        "id": "6fZPtZvCkdlj",
        "outputId": "bdc0f884-332c-4950-b841-7d7019cdb02d",
        "colab": {
          "base_uri": "https://localhost:8080/",
          "height": 0
        }
      },
      "source": [
        "final_frequency_table = pd.DataFrame({'CustomerID': final_dataset['CustomerID'].unique()})\n",
        "\n",
        "final_frequency_table = final_frequency_table.sort_values('CustomerID').reset_index()\n",
        "\n",
        "del final_frequency_table['index']\n",
        "\n",
        "final_frequency_table"
      ],
      "execution_count": 117,
      "outputs": [
        {
          "output_type": "execute_result",
          "data": {
            "text/html": [
              "<div>\n",
              "<style scoped>\n",
              "    .dataframe tbody tr th:only-of-type {\n",
              "        vertical-align: middle;\n",
              "    }\n",
              "\n",
              "    .dataframe tbody tr th {\n",
              "        vertical-align: top;\n",
              "    }\n",
              "\n",
              "    .dataframe thead th {\n",
              "        text-align: right;\n",
              "    }\n",
              "</style>\n",
              "<table border=\"1\" class=\"dataframe\">\n",
              "  <thead>\n",
              "    <tr style=\"text-align: right;\">\n",
              "      <th></th>\n",
              "      <th>CustomerID</th>\n",
              "    </tr>\n",
              "  </thead>\n",
              "  <tbody>\n",
              "  </tbody>\n",
              "</table>\n",
              "</div>"
            ],
            "text/plain": [
              "Empty DataFrame\n",
              "Columns: [CustomerID]\n",
              "Index: []"
            ]
          },
          "metadata": {
            "tags": []
          },
          "execution_count": 117
        }
      ]
    },
    {
      "cell_type": "code",
      "metadata": {
        "id": "8r272Aa7k34z",
        "outputId": "16e952e0-0ead-454b-ebf3-159b8a91b430",
        "colab": {
          "base_uri": "https://localhost:8080/",
          "height": 0
        }
      },
      "source": [
        "final_frequency_table = pd.merge(final_frequency_table, final_frequency, on='CustomerID')\n",
        "\n",
        "final_frequency_table.rename(columns={'InvoiceNo': 'Final_frequency'}, inplace=True)\n",
        "\n",
        "final_frequency_table"
      ],
      "execution_count": 118,
      "outputs": [
        {
          "output_type": "execute_result",
          "data": {
            "text/html": [
              "<div>\n",
              "<style scoped>\n",
              "    .dataframe tbody tr th:only-of-type {\n",
              "        vertical-align: middle;\n",
              "    }\n",
              "\n",
              "    .dataframe tbody tr th {\n",
              "        vertical-align: top;\n",
              "    }\n",
              "\n",
              "    .dataframe thead th {\n",
              "        text-align: right;\n",
              "    }\n",
              "</style>\n",
              "<table border=\"1\" class=\"dataframe\">\n",
              "  <thead>\n",
              "    <tr style=\"text-align: right;\">\n",
              "      <th></th>\n",
              "      <th>CustomerID</th>\n",
              "      <th>Final_frequency</th>\n",
              "    </tr>\n",
              "  </thead>\n",
              "  <tbody>\n",
              "  </tbody>\n",
              "</table>\n",
              "</div>"
            ],
            "text/plain": [
              "Empty DataFrame\n",
              "Columns: [CustomerID, Final_frequency]\n",
              "Index: []"
            ]
          },
          "metadata": {
            "tags": []
          },
          "execution_count": 118
        }
      ]
    },
    {
      "cell_type": "code",
      "metadata": {
        "id": "zBZeHQ8OlUay",
        "outputId": "8fbe4755-f7c4-4600-8389-676cf2a40729",
        "colab": {
          "base_uri": "https://localhost:8080/"
        }
      },
      "source": [
        "final_frequency_table['Final_frequency'].describe()"
      ],
      "execution_count": 119,
      "outputs": [
        {
          "output_type": "execute_result",
          "data": {
            "text/plain": [
              "count    0.0\n",
              "mean     NaN\n",
              "std      NaN\n",
              "min      NaN\n",
              "25%      NaN\n",
              "50%      NaN\n",
              "75%      NaN\n",
              "max      NaN\n",
              "Name: Final_frequency, dtype: float64"
            ]
          },
          "metadata": {
            "tags": []
          },
          "execution_count": 119
        }
      ]
    },
    {
      "cell_type": "markdown",
      "metadata": {
        "id": "JlOLLxBXld37"
      },
      "source": [
        "## Checking for customers who used to shop before but have stopped shopping from last 4 months"
      ]
    },
    {
      "cell_type": "code",
      "metadata": {
        "id": "ULB16FzolbZW"
      },
      "source": [
        "a = np.array(initial_frequency_table['CustomerID'])\n",
        "b = np.array(final_frequency_table['CustomerID'])"
      ],
      "execution_count": 120,
      "outputs": []
    },
    {
      "cell_type": "markdown",
      "metadata": {
        "id": "CW5rUiIJmUSo"
      },
      "source": [
        "### Churned customers"
      ]
    },
    {
      "cell_type": "code",
      "metadata": {
        "id": "BU7mKUfKmKpV",
        "outputId": "e3f349bb-3602-4642-d76a-3f135eaa9b10",
        "colab": {
          "base_uri": "https://localhost:8080/"
        }
      },
      "source": [
        "c = np.setdiff1d(a, b)\n",
        "print(len(c), c)"
      ],
      "execution_count": 121,
      "outputs": [
        {
          "output_type": "stream",
          "text": [
            "1885 [12347. 12348. 12350. ... 18270. 18280. 18283.]\n"
          ],
          "name": "stdout"
        }
      ]
    },
    {
      "cell_type": "markdown",
      "metadata": {
        "id": "lo32zT3Xmibv"
      },
      "source": [
        "### Unchurned customers"
      ]
    },
    {
      "cell_type": "code",
      "metadata": {
        "id": "_N11CIHBmd-D",
        "outputId": "38628e8e-9982-47d1-a16b-c47a483c746e",
        "colab": {
          "base_uri": "https://localhost:8080/"
        }
      },
      "source": [
        "d = np.intersect1d(a, b)\n",
        "print(len(d), d)"
      ],
      "execution_count": 122,
      "outputs": [
        {
          "output_type": "stream",
          "text": [
            "0 []\n"
          ],
          "name": "stdout"
        }
      ]
    },
    {
      "cell_type": "code",
      "metadata": {
        "id": "YD0MMLzpmqjU",
        "outputId": "4a1e53d3-71b7-472d-85ea-8368f33626de",
        "colab": {
          "base_uri": "https://localhost:8080/"
        }
      },
      "source": [
        "e = np.setdiff1d(b, a)\n",
        "print(len(e), e)"
      ],
      "execution_count": 123,
      "outputs": [
        {
          "output_type": "stream",
          "text": [
            "0 []\n"
          ],
          "name": "stdout"
        }
      ]
    },
    {
      "cell_type": "code",
      "metadata": {
        "id": "8RwYMGbim-rg"
      },
      "source": [
        "list1 = []\n",
        "for i in range(len(c)):\n",
        "  list1.append('CHURN')"
      ],
      "execution_count": 124,
      "outputs": []
    },
    {
      "cell_type": "code",
      "metadata": {
        "id": "XTH0OKVGnNeY"
      },
      "source": [
        "list2 = []\n",
        "for i in range(len(d)):\n",
        "  list2.append('NOT CHURN')"
      ],
      "execution_count": 125,
      "outputs": []
    },
    {
      "cell_type": "code",
      "metadata": {
        "id": "zcvmjs_snTrO"
      },
      "source": [
        "list3 = []\n",
        "for i in range(len(e)):\n",
        "  list3.append('NOT CHURN')"
      ],
      "execution_count": 126,
      "outputs": []
    },
    {
      "cell_type": "code",
      "metadata": {
        "id": "PSwhMCwGnbRR"
      },
      "source": [
        "dict1 = dict(zip(c, list1))\n",
        "dict2 = dict(zip(d, list2))\n",
        "churn_dict = dict(zip(e, list3))\n",
        "\n",
        "dict2.update(dict1)\n",
        "churn_dict.update(dict2)"
      ],
      "execution_count": 127,
      "outputs": []
    },
    {
      "cell_type": "code",
      "metadata": {
        "id": "4Jjrnl9coB9j",
        "outputId": "34bade63-ccd5-41b1-e79e-dcc5d34d5f7a",
        "colab": {
          "base_uri": "https://localhost:8080/"
        }
      },
      "source": [
        "from collections import OrderedDict\n",
        "\n",
        "churn_dictionary = OrderedDict(sorted(churn_dict.items()))\n",
        "\n",
        "churn_dictionary"
      ],
      "execution_count": 128,
      "outputs": [
        {
          "output_type": "execute_result",
          "data": {
            "text/plain": [
              "OrderedDict([(12347.0, 'CHURN'),\n",
              "             (12348.0, 'CHURN'),\n",
              "             (12350.0, 'CHURN'),\n",
              "             (12352.0, 'CHURN'),\n",
              "             (12356.0, 'CHURN'),\n",
              "             (12359.0, 'CHURN'),\n",
              "             (12361.0, 'CHURN'),\n",
              "             (12362.0, 'CHURN'),\n",
              "             (12365.0, 'CHURN'),\n",
              "             (12370.0, 'CHURN'),\n",
              "             (12372.0, 'CHURN'),\n",
              "             (12373.0, 'CHURN'),\n",
              "             (12377.0, 'CHURN'),\n",
              "             (12383.0, 'CHURN'),\n",
              "             (12386.0, 'CHURN'),\n",
              "             (12388.0, 'CHURN'),\n",
              "             (12393.0, 'CHURN'),\n",
              "             (12395.0, 'CHURN'),\n",
              "             (12401.0, 'CHURN'),\n",
              "             (12402.0, 'CHURN'),\n",
              "             (12407.0, 'CHURN'),\n",
              "             (12410.0, 'CHURN'),\n",
              "             (12413.0, 'CHURN'),\n",
              "             (12414.0, 'CHURN'),\n",
              "             (12415.0, 'CHURN'),\n",
              "             (12417.0, 'CHURN'),\n",
              "             (12421.0, 'CHURN'),\n",
              "             (12422.0, 'CHURN'),\n",
              "             (12423.0, 'CHURN'),\n",
              "             (12427.0, 'CHURN'),\n",
              "             (12428.0, 'CHURN'),\n",
              "             (12429.0, 'CHURN'),\n",
              "             (12431.0, 'CHURN'),\n",
              "             (12433.0, 'CHURN'),\n",
              "             (12435.0, 'CHURN'),\n",
              "             (12437.0, 'CHURN'),\n",
              "             (12441.0, 'CHURN'),\n",
              "             (12451.0, 'CHURN'),\n",
              "             (12455.0, 'CHURN'),\n",
              "             (12458.0, 'CHURN'),\n",
              "             (12462.0, 'CHURN'),\n",
              "             (12464.0, 'CHURN'),\n",
              "             (12468.0, 'CHURN'),\n",
              "             (12471.0, 'CHURN'),\n",
              "             (12472.0, 'CHURN'),\n",
              "             (12474.0, 'CHURN'),\n",
              "             (12476.0, 'CHURN'),\n",
              "             (12477.0, 'CHURN'),\n",
              "             (12480.0, 'CHURN'),\n",
              "             (12481.0, 'CHURN'),\n",
              "             (12483.0, 'CHURN'),\n",
              "             (12484.0, 'CHURN'),\n",
              "             (12489.0, 'CHURN'),\n",
              "             (12490.0, 'CHURN'),\n",
              "             (12494.0, 'CHURN'),\n",
              "             (12500.0, 'CHURN'),\n",
              "             (12501.0, 'CHURN'),\n",
              "             (12502.0, 'CHURN'),\n",
              "             (12507.0, 'CHURN'),\n",
              "             (12509.0, 'CHURN'),\n",
              "             (12510.0, 'CHURN'),\n",
              "             (12514.0, 'CHURN'),\n",
              "             (12515.0, 'CHURN'),\n",
              "             (12520.0, 'CHURN'),\n",
              "             (12523.0, 'CHURN'),\n",
              "             (12524.0, 'CHURN'),\n",
              "             (12527.0, 'CHURN'),\n",
              "             (12528.0, 'CHURN'),\n",
              "             (12530.0, 'CHURN'),\n",
              "             (12539.0, 'CHURN'),\n",
              "             (12540.0, 'CHURN'),\n",
              "             (12541.0, 'CHURN'),\n",
              "             (12547.0, 'CHURN'),\n",
              "             (12551.0, 'CHURN'),\n",
              "             (12553.0, 'CHURN'),\n",
              "             (12559.0, 'CHURN'),\n",
              "             (12561.0, 'CHURN'),\n",
              "             (12565.0, 'CHURN'),\n",
              "             (12567.0, 'CHURN'),\n",
              "             (12574.0, 'CHURN'),\n",
              "             (12576.0, 'CHURN'),\n",
              "             (12577.0, 'CHURN'),\n",
              "             (12578.0, 'CHURN'),\n",
              "             (12582.0, 'CHURN'),\n",
              "             (12583.0, 'CHURN'),\n",
              "             (12584.0, 'CHURN'),\n",
              "             (12585.0, 'CHURN'),\n",
              "             (12591.0, 'CHURN'),\n",
              "             (12594.0, 'CHURN'),\n",
              "             (12597.0, 'CHURN'),\n",
              "             (12598.0, 'CHURN'),\n",
              "             (12599.0, 'CHURN'),\n",
              "             (12600.0, 'CHURN'),\n",
              "             (12601.0, 'CHURN'),\n",
              "             (12609.0, 'CHURN'),\n",
              "             (12614.0, 'CHURN'),\n",
              "             (12616.0, 'CHURN'),\n",
              "             (12621.0, 'CHURN'),\n",
              "             (12623.0, 'CHURN'),\n",
              "             (12625.0, 'CHURN'),\n",
              "             (12626.0, 'CHURN'),\n",
              "             (12633.0, 'CHURN'),\n",
              "             (12637.0, 'CHURN'),\n",
              "             (12645.0, 'CHURN'),\n",
              "             (12647.0, 'CHURN'),\n",
              "             (12651.0, 'CHURN'),\n",
              "             (12652.0, 'CHURN'),\n",
              "             (12653.0, 'CHURN'),\n",
              "             (12654.0, 'CHURN'),\n",
              "             (12662.0, 'CHURN'),\n",
              "             (12664.0, 'CHURN'),\n",
              "             (12665.0, 'CHURN'),\n",
              "             (12668.0, 'CHURN'),\n",
              "             (12672.0, 'CHURN'),\n",
              "             (12673.0, 'CHURN'),\n",
              "             (12676.0, 'CHURN'),\n",
              "             (12678.0, 'CHURN'),\n",
              "             (12679.0, 'CHURN'),\n",
              "             (12681.0, 'CHURN'),\n",
              "             (12682.0, 'CHURN'),\n",
              "             (12683.0, 'CHURN'),\n",
              "             (12686.0, 'CHURN'),\n",
              "             (12691.0, 'CHURN'),\n",
              "             (12693.0, 'CHURN'),\n",
              "             (12705.0, 'CHURN'),\n",
              "             (12707.0, 'CHURN'),\n",
              "             (12708.0, 'CHURN'),\n",
              "             (12709.0, 'CHURN'),\n",
              "             (12712.0, 'CHURN'),\n",
              "             (12714.0, 'CHURN'),\n",
              "             (12720.0, 'CHURN'),\n",
              "             (12721.0, 'CHURN'),\n",
              "             (12724.0, 'CHURN'),\n",
              "             (12725.0, 'CHURN'),\n",
              "             (12726.0, 'CHURN'),\n",
              "             (12727.0, 'CHURN'),\n",
              "             (12728.0, 'CHURN'),\n",
              "             (12731.0, 'CHURN'),\n",
              "             (12734.0, 'CHURN'),\n",
              "             (12735.0, 'CHURN'),\n",
              "             (12736.0, 'CHURN'),\n",
              "             (12738.0, 'CHURN'),\n",
              "             (12744.0, 'CHURN'),\n",
              "             (12747.0, 'CHURN'),\n",
              "             (12748.0, 'CHURN'),\n",
              "             (12753.0, 'CHURN'),\n",
              "             (12754.0, 'CHURN'),\n",
              "             (12755.0, 'CHURN'),\n",
              "             (12758.0, 'CHURN'),\n",
              "             (12759.0, 'CHURN'),\n",
              "             (12763.0, 'CHURN'),\n",
              "             (12764.0, 'CHURN'),\n",
              "             (12766.0, 'CHURN'),\n",
              "             (12775.0, 'CHURN'),\n",
              "             (12778.0, 'CHURN'),\n",
              "             (12779.0, 'CHURN'),\n",
              "             (12781.0, 'CHURN'),\n",
              "             (12782.0, 'CHURN'),\n",
              "             (12785.0, 'CHURN'),\n",
              "             (12793.0, 'CHURN'),\n",
              "             (12797.0, 'CHURN'),\n",
              "             (12808.0, 'CHURN'),\n",
              "             (12811.0, 'CHURN'),\n",
              "             (12817.0, 'CHURN'),\n",
              "             (12820.0, 'CHURN'),\n",
              "             (12826.0, 'CHURN'),\n",
              "             (12829.0, 'CHURN'),\n",
              "             (12834.0, 'CHURN'),\n",
              "             (12836.0, 'CHURN'),\n",
              "             (12838.0, 'CHURN'),\n",
              "             (12839.0, 'CHURN'),\n",
              "             (12841.0, 'CHURN'),\n",
              "             (12842.0, 'CHURN'),\n",
              "             (12843.0, 'CHURN'),\n",
              "             (12845.0, 'CHURN'),\n",
              "             (12849.0, 'CHURN'),\n",
              "             (12852.0, 'CHURN'),\n",
              "             (12853.0, 'CHURN'),\n",
              "             (12854.0, 'CHURN'),\n",
              "             (12855.0, 'CHURN'),\n",
              "             (12857.0, 'CHURN'),\n",
              "             (12866.0, 'CHURN'),\n",
              "             (12867.0, 'CHURN'),\n",
              "             (12868.0, 'CHURN'),\n",
              "             (12872.0, 'CHURN'),\n",
              "             (12877.0, 'CHURN'),\n",
              "             (12878.0, 'CHURN'),\n",
              "             (12881.0, 'CHURN'),\n",
              "             (12897.0, 'CHURN'),\n",
              "             (12901.0, 'CHURN'),\n",
              "             (12902.0, 'CHURN'),\n",
              "             (12913.0, 'CHURN'),\n",
              "             (12915.0, 'CHURN'),\n",
              "             (12916.0, 'CHURN'),\n",
              "             (12921.0, 'CHURN'),\n",
              "             (12924.0, 'CHURN'),\n",
              "             (12928.0, 'CHURN'),\n",
              "             (12929.0, 'CHURN'),\n",
              "             (12931.0, 'CHURN'),\n",
              "             (12933.0, 'CHURN'),\n",
              "             (12935.0, 'CHURN'),\n",
              "             (12937.0, 'CHURN'),\n",
              "             (12939.0, 'CHURN'),\n",
              "             (12942.0, 'CHURN'),\n",
              "             (12944.0, 'CHURN'),\n",
              "             (12945.0, 'CHURN'),\n",
              "             (12947.0, 'CHURN'),\n",
              "             (12948.0, 'CHURN'),\n",
              "             (12951.0, 'CHURN'),\n",
              "             (12955.0, 'CHURN'),\n",
              "             (12956.0, 'CHURN'),\n",
              "             (12957.0, 'CHURN'),\n",
              "             (12963.0, 'CHURN'),\n",
              "             (12967.0, 'CHURN'),\n",
              "             (12970.0, 'CHURN'),\n",
              "             (12971.0, 'CHURN'),\n",
              "             (12988.0, 'CHURN'),\n",
              "             (12989.0, 'CHURN'),\n",
              "             (12990.0, 'CHURN'),\n",
              "             (12993.0, 'CHURN'),\n",
              "             (12994.0, 'CHURN'),\n",
              "             (12997.0, 'CHURN'),\n",
              "             (13000.0, 'CHURN'),\n",
              "             (13001.0, 'CHURN'),\n",
              "             (13002.0, 'CHURN'),\n",
              "             (13004.0, 'CHURN'),\n",
              "             (13008.0, 'CHURN'),\n",
              "             (13011.0, 'CHURN'),\n",
              "             (13012.0, 'CHURN'),\n",
              "             (13013.0, 'CHURN'),\n",
              "             (13014.0, 'CHURN'),\n",
              "             (13018.0, 'CHURN'),\n",
              "             (13021.0, 'CHURN'),\n",
              "             (13026.0, 'CHURN'),\n",
              "             (13030.0, 'CHURN'),\n",
              "             (13033.0, 'CHURN'),\n",
              "             (13034.0, 'CHURN'),\n",
              "             (13038.0, 'CHURN'),\n",
              "             (13043.0, 'CHURN'),\n",
              "             (13044.0, 'CHURN'),\n",
              "             (13046.0, 'CHURN'),\n",
              "             (13047.0, 'CHURN'),\n",
              "             (13048.0, 'CHURN'),\n",
              "             (13049.0, 'CHURN'),\n",
              "             (13050.0, 'CHURN'),\n",
              "             (13064.0, 'CHURN'),\n",
              "             (13065.0, 'CHURN'),\n",
              "             (13069.0, 'CHURN'),\n",
              "             (13072.0, 'CHURN'),\n",
              "             (13077.0, 'CHURN'),\n",
              "             (13078.0, 'CHURN'),\n",
              "             (13081.0, 'CHURN'),\n",
              "             (13082.0, 'CHURN'),\n",
              "             (13085.0, 'CHURN'),\n",
              "             (13089.0, 'CHURN'),\n",
              "             (13090.0, 'CHURN'),\n",
              "             (13092.0, 'CHURN'),\n",
              "             (13093.0, 'CHURN'),\n",
              "             (13097.0, 'CHURN'),\n",
              "             (13098.0, 'CHURN'),\n",
              "             (13102.0, 'CHURN'),\n",
              "             (13104.0, 'CHURN'),\n",
              "             (13107.0, 'CHURN'),\n",
              "             (13108.0, 'CHURN'),\n",
              "             (13110.0, 'CHURN'),\n",
              "             (13113.0, 'CHURN'),\n",
              "             (13117.0, 'CHURN'),\n",
              "             (13118.0, 'CHURN'),\n",
              "             (13121.0, 'CHURN'),\n",
              "             (13124.0, 'CHURN'),\n",
              "             (13126.0, 'CHURN'),\n",
              "             (13133.0, 'CHURN'),\n",
              "             (13137.0, 'CHURN'),\n",
              "             (13138.0, 'CHURN'),\n",
              "             (13140.0, 'CHURN'),\n",
              "             (13141.0, 'CHURN'),\n",
              "             (13144.0, 'CHURN'),\n",
              "             (13148.0, 'CHURN'),\n",
              "             (13149.0, 'CHURN'),\n",
              "             (13151.0, 'CHURN'),\n",
              "             (13155.0, 'CHURN'),\n",
              "             (13157.0, 'CHURN'),\n",
              "             (13158.0, 'CHURN'),\n",
              "             (13161.0, 'CHURN'),\n",
              "             (13162.0, 'CHURN'),\n",
              "             (13165.0, 'CHURN'),\n",
              "             (13166.0, 'CHURN'),\n",
              "             (13168.0, 'CHURN'),\n",
              "             (13171.0, 'CHURN'),\n",
              "             (13173.0, 'CHURN'),\n",
              "             (13174.0, 'CHURN'),\n",
              "             (13178.0, 'CHURN'),\n",
              "             (13183.0, 'CHURN'),\n",
              "             (13184.0, 'CHURN'),\n",
              "             (13185.0, 'CHURN'),\n",
              "             (13187.0, 'CHURN'),\n",
              "             (13198.0, 'CHURN'),\n",
              "             (13199.0, 'CHURN'),\n",
              "             (13208.0, 'CHURN'),\n",
              "             (13209.0, 'CHURN'),\n",
              "             (13211.0, 'CHURN'),\n",
              "             (13216.0, 'CHURN'),\n",
              "             (13221.0, 'CHURN'),\n",
              "             (13226.0, 'CHURN'),\n",
              "             (13230.0, 'CHURN'),\n",
              "             (13233.0, 'CHURN'),\n",
              "             (13238.0, 'CHURN'),\n",
              "             (13240.0, 'CHURN'),\n",
              "             (13246.0, 'CHURN'),\n",
              "             (13253.0, 'CHURN'),\n",
              "             (13255.0, 'CHURN'),\n",
              "             (13261.0, 'CHURN'),\n",
              "             (13263.0, 'CHURN'),\n",
              "             (13265.0, 'CHURN'),\n",
              "             (13267.0, 'CHURN'),\n",
              "             (13268.0, 'CHURN'),\n",
              "             (13269.0, 'CHURN'),\n",
              "             (13280.0, 'CHURN'),\n",
              "             (13284.0, 'CHURN'),\n",
              "             (13285.0, 'CHURN'),\n",
              "             (13292.0, 'CHURN'),\n",
              "             (13295.0, 'CHURN'),\n",
              "             (13299.0, 'CHURN'),\n",
              "             (13301.0, 'CHURN'),\n",
              "             (13304.0, 'CHURN'),\n",
              "             (13305.0, 'CHURN'),\n",
              "             (13309.0, 'CHURN'),\n",
              "             (13310.0, 'CHURN'),\n",
              "             (13313.0, 'CHURN'),\n",
              "             (13317.0, 'CHURN'),\n",
              "             (13319.0, 'CHURN'),\n",
              "             (13324.0, 'CHURN'),\n",
              "             (13327.0, 'CHURN'),\n",
              "             (13328.0, 'CHURN'),\n",
              "             (13329.0, 'CHURN'),\n",
              "             (13330.0, 'CHURN'),\n",
              "             (13334.0, 'CHURN'),\n",
              "             (13340.0, 'CHURN'),\n",
              "             (13344.0, 'CHURN'),\n",
              "             (13345.0, 'CHURN'),\n",
              "             (13358.0, 'CHURN'),\n",
              "             (13362.0, 'CHURN'),\n",
              "             (13368.0, 'CHURN'),\n",
              "             (13369.0, 'CHURN'),\n",
              "             (13370.0, 'CHURN'),\n",
              "             (13373.0, 'CHURN'),\n",
              "             (13381.0, 'CHURN'),\n",
              "             (13382.0, 'CHURN'),\n",
              "             (13385.0, 'CHURN'),\n",
              "             (13394.0, 'CHURN'),\n",
              "             (13396.0, 'CHURN'),\n",
              "             (13397.0, 'CHURN'),\n",
              "             (13402.0, 'CHURN'),\n",
              "             (13405.0, 'CHURN'),\n",
              "             (13408.0, 'CHURN'),\n",
              "             (13410.0, 'CHURN'),\n",
              "             (13418.0, 'CHURN'),\n",
              "             (13421.0, 'CHURN'),\n",
              "             (13425.0, 'CHURN'),\n",
              "             (13426.0, 'CHURN'),\n",
              "             (13448.0, 'CHURN'),\n",
              "             (13451.0, 'CHURN'),\n",
              "             (13453.0, 'CHURN'),\n",
              "             (13455.0, 'CHURN'),\n",
              "             (13458.0, 'CHURN'),\n",
              "             (13468.0, 'CHURN'),\n",
              "             (13473.0, 'CHURN'),\n",
              "             (13475.0, 'CHURN'),\n",
              "             (13476.0, 'CHURN'),\n",
              "             (13477.0, 'CHURN'),\n",
              "             (13487.0, 'CHURN'),\n",
              "             (13488.0, 'CHURN'),\n",
              "             (13489.0, 'CHURN'),\n",
              "             (13491.0, 'CHURN'),\n",
              "             (13493.0, 'CHURN'),\n",
              "             (13494.0, 'CHURN'),\n",
              "             (13495.0, 'CHURN'),\n",
              "             (13496.0, 'CHURN'),\n",
              "             (13497.0, 'CHURN'),\n",
              "             (13499.0, 'CHURN'),\n",
              "             (13501.0, 'CHURN'),\n",
              "             (13502.0, 'CHURN'),\n",
              "             (13506.0, 'CHURN'),\n",
              "             (13509.0, 'CHURN'),\n",
              "             (13520.0, 'CHURN'),\n",
              "             (13523.0, 'CHURN'),\n",
              "             (13527.0, 'CHURN'),\n",
              "             (13531.0, 'CHURN'),\n",
              "             (13533.0, 'CHURN'),\n",
              "             (13534.0, 'CHURN'),\n",
              "             (13538.0, 'CHURN'),\n",
              "             (13539.0, 'CHURN'),\n",
              "             (13551.0, 'CHURN'),\n",
              "             (13552.0, 'CHURN'),\n",
              "             (13557.0, 'CHURN'),\n",
              "             (13564.0, 'CHURN'),\n",
              "             (13565.0, 'CHURN'),\n",
              "             (13569.0, 'CHURN'),\n",
              "             (13576.0, 'CHURN'),\n",
              "             (13579.0, 'CHURN'),\n",
              "             (13581.0, 'CHURN'),\n",
              "             (13584.0, 'CHURN'),\n",
              "             (13590.0, 'CHURN'),\n",
              "             (13591.0, 'CHURN'),\n",
              "             (13592.0, 'CHURN'),\n",
              "             (13593.0, 'CHURN'),\n",
              "             (13599.0, 'CHURN'),\n",
              "             (13600.0, 'CHURN'),\n",
              "             (13610.0, 'CHURN'),\n",
              "             (13611.0, 'CHURN'),\n",
              "             (13614.0, 'CHURN'),\n",
              "             (13615.0, 'CHURN'),\n",
              "             (13623.0, 'CHURN'),\n",
              "             (13627.0, 'CHURN'),\n",
              "             (13630.0, 'CHURN'),\n",
              "             (13631.0, 'CHURN'),\n",
              "             (13634.0, 'CHURN'),\n",
              "             (13636.0, 'CHURN'),\n",
              "             (13649.0, 'CHURN'),\n",
              "             (13650.0, 'CHURN'),\n",
              "             (13652.0, 'CHURN'),\n",
              "             (13654.0, 'CHURN'),\n",
              "             (13656.0, 'CHURN'),\n",
              "             (13659.0, 'CHURN'),\n",
              "             (13666.0, 'CHURN'),\n",
              "             (13668.0, 'CHURN'),\n",
              "             (13672.0, 'CHURN'),\n",
              "             (13675.0, 'CHURN'),\n",
              "             (13680.0, 'CHURN'),\n",
              "             (13684.0, 'CHURN'),\n",
              "             (13694.0, 'CHURN'),\n",
              "             (13700.0, 'CHURN'),\n",
              "             (13705.0, 'CHURN'),\n",
              "             (13706.0, 'CHURN'),\n",
              "             (13707.0, 'CHURN'),\n",
              "             (13708.0, 'CHURN'),\n",
              "             (13709.0, 'CHURN'),\n",
              "             (13715.0, 'CHURN'),\n",
              "             (13716.0, 'CHURN'),\n",
              "             (13717.0, 'CHURN'),\n",
              "             (13718.0, 'CHURN'),\n",
              "             (13722.0, 'CHURN'),\n",
              "             (13725.0, 'CHURN'),\n",
              "             (13728.0, 'CHURN'),\n",
              "             (13742.0, 'CHURN'),\n",
              "             (13744.0, 'CHURN'),\n",
              "             (13750.0, 'CHURN'),\n",
              "             (13751.0, 'CHURN'),\n",
              "             (13753.0, 'CHURN'),\n",
              "             (13754.0, 'CHURN'),\n",
              "             (13756.0, 'CHURN'),\n",
              "             (13758.0, 'CHURN'),\n",
              "             (13764.0, 'CHURN'),\n",
              "             (13767.0, 'CHURN'),\n",
              "             (13769.0, 'CHURN'),\n",
              "             (13777.0, 'CHURN'),\n",
              "             (13782.0, 'CHURN'),\n",
              "             (13784.0, 'CHURN'),\n",
              "             (13786.0, 'CHURN'),\n",
              "             (13787.0, 'CHURN'),\n",
              "             (13792.0, 'CHURN'),\n",
              "             (13798.0, 'CHURN'),\n",
              "             (13799.0, 'CHURN'),\n",
              "             (13800.0, 'CHURN'),\n",
              "             (13802.0, 'CHURN'),\n",
              "             (13804.0, 'CHURN'),\n",
              "             (13807.0, 'CHURN'),\n",
              "             (13809.0, 'CHURN'),\n",
              "             (13815.0, 'CHURN'),\n",
              "             (13817.0, 'CHURN'),\n",
              "             (13819.0, 'CHURN'),\n",
              "             (13824.0, 'CHURN'),\n",
              "             (13837.0, 'CHURN'),\n",
              "             (13838.0, 'CHURN'),\n",
              "             (13842.0, 'CHURN'),\n",
              "             (13846.0, 'CHURN'),\n",
              "             (13851.0, 'CHURN'),\n",
              "             (13854.0, 'CHURN'),\n",
              "             (13859.0, 'CHURN'),\n",
              "             (13862.0, 'CHURN'),\n",
              "             (13865.0, 'CHURN'),\n",
              "             (13869.0, 'CHURN'),\n",
              "             (13870.0, 'CHURN'),\n",
              "             (13871.0, 'CHURN'),\n",
              "             (13873.0, 'CHURN'),\n",
              "             (13874.0, 'CHURN'),\n",
              "             (13875.0, 'CHURN'),\n",
              "             (13880.0, 'CHURN'),\n",
              "             (13881.0, 'CHURN'),\n",
              "             (13884.0, 'CHURN'),\n",
              "             (13890.0, 'CHURN'),\n",
              "             (13893.0, 'CHURN'),\n",
              "             (13894.0, 'CHURN'),\n",
              "             (13898.0, 'CHURN'),\n",
              "             (13899.0, 'CHURN'),\n",
              "             (13901.0, 'CHURN'),\n",
              "             (13904.0, 'CHURN'),\n",
              "             (13908.0, 'CHURN'),\n",
              "             (13911.0, 'CHURN'),\n",
              "             (13922.0, 'CHURN'),\n",
              "             (13929.0, 'CHURN'),\n",
              "             (13931.0, 'CHURN'),\n",
              "             (13932.0, 'CHURN'),\n",
              "             (13934.0, 'CHURN'),\n",
              "             (13939.0, 'CHURN'),\n",
              "             (13941.0, 'CHURN'),\n",
              "             (13946.0, 'CHURN'),\n",
              "             (13948.0, 'CHURN'),\n",
              "             (13951.0, 'CHURN'),\n",
              "             (13955.0, 'CHURN'),\n",
              "             (13956.0, 'CHURN'),\n",
              "             (13959.0, 'CHURN'),\n",
              "             (13963.0, 'CHURN'),\n",
              "             (13969.0, 'CHURN'),\n",
              "             (13971.0, 'CHURN'),\n",
              "             (13973.0, 'CHURN'),\n",
              "             (13975.0, 'CHURN'),\n",
              "             (13982.0, 'CHURN'),\n",
              "             (13983.0, 'CHURN'),\n",
              "             (13984.0, 'CHURN'),\n",
              "             (13985.0, 'CHURN'),\n",
              "             (13993.0, 'CHURN'),\n",
              "             (13999.0, 'CHURN'),\n",
              "             (14001.0, 'CHURN'),\n",
              "             (14004.0, 'CHURN'),\n",
              "             (14006.0, 'CHURN'),\n",
              "             (14012.0, 'CHURN'),\n",
              "             (14013.0, 'CHURN'),\n",
              "             (14016.0, 'CHURN'),\n",
              "             (14030.0, 'CHURN'),\n",
              "             (14031.0, 'CHURN'),\n",
              "             (14032.0, 'CHURN'),\n",
              "             (14035.0, 'CHURN'),\n",
              "             (14036.0, 'CHURN'),\n",
              "             (14037.0, 'CHURN'),\n",
              "             (14040.0, 'CHURN'),\n",
              "             (14041.0, 'CHURN'),\n",
              "             (14044.0, 'CHURN'),\n",
              "             (14046.0, 'CHURN'),\n",
              "             (14047.0, 'CHURN'),\n",
              "             (14048.0, 'CHURN'),\n",
              "             (14049.0, 'CHURN'),\n",
              "             (14051.0, 'CHURN'),\n",
              "             (14056.0, 'CHURN'),\n",
              "             (14057.0, 'CHURN'),\n",
              "             (14059.0, 'CHURN'),\n",
              "             (14060.0, 'CHURN'),\n",
              "             (14062.0, 'CHURN'),\n",
              "             (14064.0, 'CHURN'),\n",
              "             (14066.0, 'CHURN'),\n",
              "             (14068.0, 'CHURN'),\n",
              "             (14071.0, 'CHURN'),\n",
              "             (14077.0, 'CHURN'),\n",
              "             (14078.0, 'CHURN'),\n",
              "             (14081.0, 'CHURN'),\n",
              "             (14082.0, 'CHURN'),\n",
              "             (14083.0, 'CHURN'),\n",
              "             (14085.0, 'CHURN'),\n",
              "             (14088.0, 'CHURN'),\n",
              "             (14092.0, 'CHURN'),\n",
              "             (14099.0, 'CHURN'),\n",
              "             (14101.0, 'CHURN'),\n",
              "             (14107.0, 'CHURN'),\n",
              "             (14110.0, 'CHURN'),\n",
              "             (14112.0, 'CHURN'),\n",
              "             (14113.0, 'CHURN'),\n",
              "             (14114.0, 'CHURN'),\n",
              "             (14127.0, 'CHURN'),\n",
              "             (14130.0, 'CHURN'),\n",
              "             (14133.0, 'CHURN'),\n",
              "             (14135.0, 'CHURN'),\n",
              "             (14142.0, 'CHURN'),\n",
              "             (14146.0, 'CHURN'),\n",
              "             (14147.0, 'CHURN'),\n",
              "             (14150.0, 'CHURN'),\n",
              "             (14155.0, 'CHURN'),\n",
              "             (14156.0, 'CHURN'),\n",
              "             (14157.0, 'CHURN'),\n",
              "             (14159.0, 'CHURN'),\n",
              "             (14161.0, 'CHURN'),\n",
              "             (14162.0, 'CHURN'),\n",
              "             (14165.0, 'CHURN'),\n",
              "             (14167.0, 'CHURN'),\n",
              "             (14175.0, 'CHURN'),\n",
              "             (14176.0, 'CHURN'),\n",
              "             (14180.0, 'CHURN'),\n",
              "             (14185.0, 'CHURN'),\n",
              "             (14188.0, 'CHURN'),\n",
              "             (14189.0, 'CHURN'),\n",
              "             (14193.0, 'CHURN'),\n",
              "             (14194.0, 'CHURN'),\n",
              "             (14201.0, 'CHURN'),\n",
              "             (14205.0, 'CHURN'),\n",
              "             (14209.0, 'CHURN'),\n",
              "             (14210.0, 'CHURN'),\n",
              "             (14211.0, 'CHURN'),\n",
              "             (14214.0, 'CHURN'),\n",
              "             (14215.0, 'CHURN'),\n",
              "             (14217.0, 'CHURN'),\n",
              "             (14220.0, 'CHURN'),\n",
              "             (14221.0, 'CHURN'),\n",
              "             (14223.0, 'CHURN'),\n",
              "             (14224.0, 'CHURN'),\n",
              "             (14226.0, 'CHURN'),\n",
              "             (14227.0, 'CHURN'),\n",
              "             (14229.0, 'CHURN'),\n",
              "             (14231.0, 'CHURN'),\n",
              "             (14232.0, 'CHURN'),\n",
              "             (14233.0, 'CHURN'),\n",
              "             (14236.0, 'CHURN'),\n",
              "             (14237.0, 'CHURN'),\n",
              "             (14238.0, 'CHURN'),\n",
              "             (14239.0, 'CHURN'),\n",
              "             (14242.0, 'CHURN'),\n",
              "             (14243.0, 'CHURN'),\n",
              "             (14245.0, 'CHURN'),\n",
              "             (14247.0, 'CHURN'),\n",
              "             (14248.0, 'CHURN'),\n",
              "             (14256.0, 'CHURN'),\n",
              "             (14257.0, 'CHURN'),\n",
              "             (14258.0, 'CHURN'),\n",
              "             (14270.0, 'CHURN'),\n",
              "             (14276.0, 'CHURN'),\n",
              "             (14282.0, 'CHURN'),\n",
              "             (14289.0, 'CHURN'),\n",
              "             (14290.0, 'CHURN'),\n",
              "             (14291.0, 'CHURN'),\n",
              "             (14292.0, 'CHURN'),\n",
              "             (14293.0, 'CHURN'),\n",
              "             (14297.0, 'CHURN'),\n",
              "             (14298.0, 'CHURN'),\n",
              "             (14299.0, 'CHURN'),\n",
              "             (14307.0, 'CHURN'),\n",
              "             (14309.0, 'CHURN'),\n",
              "             (14312.0, 'CHURN'),\n",
              "             (14315.0, 'CHURN'),\n",
              "             (14320.0, 'CHURN'),\n",
              "             (14321.0, 'CHURN'),\n",
              "             (14329.0, 'CHURN'),\n",
              "             (14334.0, 'CHURN'),\n",
              "             (14336.0, 'CHURN'),\n",
              "             (14341.0, 'CHURN'),\n",
              "             (14344.0, 'CHURN'),\n",
              "             (14346.0, 'CHURN'),\n",
              "             (14350.0, 'CHURN'),\n",
              "             (14352.0, 'CHURN'),\n",
              "             (14355.0, 'CHURN'),\n",
              "             (14367.0, 'CHURN'),\n",
              "             (14368.0, 'CHURN'),\n",
              "             (14371.0, 'CHURN'),\n",
              "             (14373.0, 'CHURN'),\n",
              "             (14379.0, 'CHURN'),\n",
              "             (14386.0, 'CHURN'),\n",
              "             (14388.0, 'CHURN'),\n",
              "             (14390.0, 'CHURN'),\n",
              "             (14395.0, 'CHURN'),\n",
              "             (14396.0, 'CHURN'),\n",
              "             (14401.0, 'CHURN'),\n",
              "             (14404.0, 'CHURN'),\n",
              "             (14407.0, 'CHURN'),\n",
              "             (14408.0, 'CHURN'),\n",
              "             (14409.0, 'CHURN'),\n",
              "             (14410.0, 'CHURN'),\n",
              "             (14411.0, 'CHURN'),\n",
              "             (14413.0, 'CHURN'),\n",
              "             (14414.0, 'CHURN'),\n",
              "             (14415.0, 'CHURN'),\n",
              "             (14419.0, 'CHURN'),\n",
              "             (14422.0, 'CHURN'),\n",
              "             (14426.0, 'CHURN'),\n",
              "             (14428.0, 'CHURN'),\n",
              "             (14431.0, 'CHURN'),\n",
              "             (14437.0, 'CHURN'),\n",
              "             (14438.0, 'CHURN'),\n",
              "             (14439.0, 'CHURN'),\n",
              "             (14440.0, 'CHURN'),\n",
              "             (14442.0, 'CHURN'),\n",
              "             (14443.0, 'CHURN'),\n",
              "             (14447.0, 'CHURN'),\n",
              "             (14448.0, 'CHURN'),\n",
              "             (14449.0, 'CHURN'),\n",
              "             (14450.0, 'CHURN'),\n",
              "             (14457.0, 'CHURN'),\n",
              "             (14460.0, 'CHURN'),\n",
              "             (14462.0, 'CHURN'),\n",
              "             (14465.0, 'CHURN'),\n",
              "             (14466.0, 'CHURN'),\n",
              "             (14467.0, 'CHURN'),\n",
              "             (14470.0, 'CHURN'),\n",
              "             (14472.0, 'CHURN'),\n",
              "             (14475.0, 'CHURN'),\n",
              "             (14479.0, 'CHURN'),\n",
              "             (14481.0, 'CHURN'),\n",
              "             (14483.0, 'CHURN'),\n",
              "             (14487.0, 'CHURN'),\n",
              "             (14491.0, 'CHURN'),\n",
              "             (14496.0, 'CHURN'),\n",
              "             (14497.0, 'CHURN'),\n",
              "             (14498.0, 'CHURN'),\n",
              "             (14499.0, 'CHURN'),\n",
              "             (14501.0, 'CHURN'),\n",
              "             (14502.0, 'CHURN'),\n",
              "             (14504.0, 'CHURN'),\n",
              "             (14505.0, 'CHURN'),\n",
              "             (14506.0, 'CHURN'),\n",
              "             (14507.0, 'CHURN'),\n",
              "             (14513.0, 'CHURN'),\n",
              "             (14514.0, 'CHURN'),\n",
              "             (14524.0, 'CHURN'),\n",
              "             (14525.0, 'CHURN'),\n",
              "             (14527.0, 'CHURN'),\n",
              "             (14530.0, 'CHURN'),\n",
              "             (14532.0, 'CHURN'),\n",
              "             (14533.0, 'CHURN'),\n",
              "             (14534.0, 'CHURN'),\n",
              "             (14540.0, 'CHURN'),\n",
              "             (14541.0, 'CHURN'),\n",
              "             (14543.0, 'CHURN'),\n",
              "             (14544.0, 'CHURN'),\n",
              "             (14549.0, 'CHURN'),\n",
              "             (14553.0, 'CHURN'),\n",
              "             (14555.0, 'CHURN'),\n",
              "             (14560.0, 'CHURN'),\n",
              "             (14562.0, 'CHURN'),\n",
              "             (14565.0, 'CHURN'),\n",
              "             (14570.0, 'CHURN'),\n",
              "             (14572.0, 'CHURN'),\n",
              "             (14573.0, 'CHURN'),\n",
              "             (14576.0, 'CHURN'),\n",
              "             (14577.0, 'CHURN'),\n",
              "             (14586.0, 'CHURN'),\n",
              "             (14587.0, 'CHURN'),\n",
              "             (14594.0, 'CHURN'),\n",
              "             (14595.0, 'CHURN'),\n",
              "             (14600.0, 'CHURN'),\n",
              "             (14606.0, 'CHURN'),\n",
              "             (14616.0, 'CHURN'),\n",
              "             (14618.0, 'CHURN'),\n",
              "             (14620.0, 'CHURN'),\n",
              "             (14621.0, 'CHURN'),\n",
              "             (14625.0, 'CHURN'),\n",
              "             (14631.0, 'CHURN'),\n",
              "             (14633.0, 'CHURN'),\n",
              "             (14636.0, 'CHURN'),\n",
              "             (14639.0, 'CHURN'),\n",
              "             (14643.0, 'CHURN'),\n",
              "             (14644.0, 'CHURN'),\n",
              "             (14645.0, 'CHURN'),\n",
              "             (14646.0, 'CHURN'),\n",
              "             (14653.0, 'CHURN'),\n",
              "             (14656.0, 'CHURN'),\n",
              "             (14657.0, 'CHURN'),\n",
              "             (14659.0, 'CHURN'),\n",
              "             (14662.0, 'CHURN'),\n",
              "             (14665.0, 'CHURN'),\n",
              "             (14667.0, 'CHURN'),\n",
              "             (14669.0, 'CHURN'),\n",
              "             (14670.0, 'CHURN'),\n",
              "             (14672.0, 'CHURN'),\n",
              "             (14673.0, 'CHURN'),\n",
              "             (14676.0, 'CHURN'),\n",
              "             (14680.0, 'CHURN'),\n",
              "             (14684.0, 'CHURN'),\n",
              "             (14688.0, 'CHURN'),\n",
              "             (14692.0, 'CHURN'),\n",
              "             (14693.0, 'CHURN'),\n",
              "             (14696.0, 'CHURN'),\n",
              "             (14701.0, 'CHURN'),\n",
              "             (14702.0, 'CHURN'),\n",
              "             (14708.0, 'CHURN'),\n",
              "             (14709.0, 'CHURN'),\n",
              "             (14713.0, 'CHURN'),\n",
              "             (14715.0, 'CHURN'),\n",
              "             (14723.0, 'CHURN'),\n",
              "             (14727.0, 'CHURN'),\n",
              "             (14729.0, 'CHURN'),\n",
              "             (14730.0, 'CHURN'),\n",
              "             (14732.0, 'CHURN'),\n",
              "             (14733.0, 'CHURN'),\n",
              "             (14735.0, 'CHURN'),\n",
              "             (14737.0, 'CHURN'),\n",
              "             (14738.0, 'CHURN'),\n",
              "             (14739.0, 'CHURN'),\n",
              "             (14740.0, 'CHURN'),\n",
              "             (14741.0, 'CHURN'),\n",
              "             (14744.0, 'CHURN'),\n",
              "             (14745.0, 'CHURN'),\n",
              "             (14748.0, 'CHURN'),\n",
              "             (14754.0, 'CHURN'),\n",
              "             (14755.0, 'CHURN'),\n",
              "             (14760.0, 'CHURN'),\n",
              "             (14761.0, 'CHURN'),\n",
              "             (14762.0, 'CHURN'),\n",
              "             (14766.0, 'CHURN'),\n",
              "             (14769.0, 'CHURN'),\n",
              "             (14770.0, 'CHURN'),\n",
              "             (14775.0, 'CHURN'),\n",
              "             (14776.0, 'CHURN'),\n",
              "             (14778.0, 'CHURN'),\n",
              "             (14779.0, 'CHURN'),\n",
              "             (14782.0, 'CHURN'),\n",
              "             (14784.0, 'CHURN'),\n",
              "             (14794.0, 'CHURN'),\n",
              "             (14796.0, 'CHURN'),\n",
              "             (14798.0, 'CHURN'),\n",
              "             (14800.0, 'CHURN'),\n",
              "             (14803.0, 'CHURN'),\n",
              "             (14805.0, 'CHURN'),\n",
              "             (14810.0, 'CHURN'),\n",
              "             (14813.0, 'CHURN'),\n",
              "             (14817.0, 'CHURN'),\n",
              "             (14821.0, 'CHURN'),\n",
              "             (14825.0, 'CHURN'),\n",
              "             (14829.0, 'CHURN'),\n",
              "             (14840.0, 'CHURN'),\n",
              "             (14841.0, 'CHURN'),\n",
              "             (14842.0, 'CHURN'),\n",
              "             (14849.0, 'CHURN'),\n",
              "             (14850.0, 'CHURN'),\n",
              "             (14854.0, 'CHURN'),\n",
              "             (14865.0, 'CHURN'),\n",
              "             (14867.0, 'CHURN'),\n",
              "             (14871.0, 'CHURN'),\n",
              "             (14878.0, 'CHURN'),\n",
              "             (14880.0, 'CHURN'),\n",
              "             (14889.0, 'CHURN'),\n",
              "             (14895.0, 'CHURN'),\n",
              "             (14896.0, 'CHURN'),\n",
              "             (14897.0, 'CHURN'),\n",
              "             (14898.0, 'CHURN'),\n",
              "             (14901.0, 'CHURN'),\n",
              "             (14903.0, 'CHURN'),\n",
              "             (14907.0, 'CHURN'),\n",
              "             (14911.0, 'CHURN'),\n",
              "             (14913.0, 'CHURN'),\n",
              "             (14915.0, 'CHURN'),\n",
              "             (14916.0, 'CHURN'),\n",
              "             (14930.0, 'CHURN'),\n",
              "             (14932.0, 'CHURN'),\n",
              "             (14934.0, 'CHURN'),\n",
              "             (14936.0, 'CHURN'),\n",
              "             (14944.0, 'CHURN'),\n",
              "             (14952.0, 'CHURN'),\n",
              "             (14959.0, 'CHURN'),\n",
              "             (14961.0, 'CHURN'),\n",
              "             (14962.0, 'CHURN'),\n",
              "             (14970.0, 'CHURN'),\n",
              "             (14976.0, 'CHURN'),\n",
              "             (14978.0, 'CHURN'),\n",
              "             (14985.0, 'CHURN'),\n",
              "             (14995.0, 'CHURN'),\n",
              "             (15002.0, 'CHURN'),\n",
              "             (15005.0, 'CHURN'),\n",
              "             (15012.0, 'CHURN'),\n",
              "             (15018.0, 'CHURN'),\n",
              "             (15019.0, 'CHURN'),\n",
              "             (15021.0, 'CHURN'),\n",
              "             (15023.0, 'CHURN'),\n",
              "             (15024.0, 'CHURN'),\n",
              "             (15026.0, 'CHURN'),\n",
              "             (15028.0, 'CHURN'),\n",
              "             (15030.0, 'CHURN'),\n",
              "             (15031.0, 'CHURN'),\n",
              "             (15032.0, 'CHURN'),\n",
              "             (15033.0, 'CHURN'),\n",
              "             (15034.0, 'CHURN'),\n",
              "             (15038.0, 'CHURN'),\n",
              "             (15039.0, 'CHURN'),\n",
              "             (15044.0, 'CHURN'),\n",
              "             (15046.0, 'CHURN'),\n",
              "             (15047.0, 'CHURN'),\n",
              "             (15048.0, 'CHURN'),\n",
              "             (15049.0, 'CHURN'),\n",
              "             (15052.0, 'CHURN'),\n",
              "             (15053.0, 'CHURN'),\n",
              "             (15057.0, 'CHURN'),\n",
              "             (15058.0, 'CHURN'),\n",
              "             (15059.0, 'CHURN'),\n",
              "             (15061.0, 'CHURN'),\n",
              "             (15062.0, 'CHURN'),\n",
              "             (15065.0, 'CHURN'),\n",
              "             (15067.0, 'CHURN'),\n",
              "             (15071.0, 'CHURN'),\n",
              "             (15078.0, 'CHURN'),\n",
              "             (15079.0, 'CHURN'),\n",
              "             (15081.0, 'CHURN'),\n",
              "             (15087.0, 'CHURN'),\n",
              "             (15090.0, 'CHURN'),\n",
              "             (15092.0, 'CHURN'),\n",
              "             (15093.0, 'CHURN'),\n",
              "             (15101.0, 'CHURN'),\n",
              "             (15104.0, 'CHURN'),\n",
              "             (15106.0, 'CHURN'),\n",
              "             (15107.0, 'CHURN'),\n",
              "             (15110.0, 'CHURN'),\n",
              "             (15111.0, 'CHURN'),\n",
              "             (15114.0, 'CHURN'),\n",
              "             (15121.0, 'CHURN'),\n",
              "             (15122.0, 'CHURN'),\n",
              "             (15125.0, 'CHURN'),\n",
              "             (15129.0, 'CHURN'),\n",
              "             (15133.0, 'CHURN'),\n",
              "             (15139.0, 'CHURN'),\n",
              "             (15140.0, 'CHURN'),\n",
              "             (15144.0, 'CHURN'),\n",
              "             (15146.0, 'CHURN'),\n",
              "             (15150.0, 'CHURN'),\n",
              "             (15157.0, 'CHURN'),\n",
              "             (15159.0, 'CHURN'),\n",
              "             (15160.0, 'CHURN'),\n",
              "             (15164.0, 'CHURN'),\n",
              "             (15165.0, 'CHURN'),\n",
              "             (15167.0, 'CHURN'),\n",
              "             (15174.0, 'CHURN'),\n",
              "             (15179.0, 'CHURN'),\n",
              "             (15180.0, 'CHURN'),\n",
              "             (15181.0, 'CHURN'),\n",
              "             (15182.0, 'CHURN'),\n",
              "             (15189.0, 'CHURN'),\n",
              "             (15192.0, 'CHURN'),\n",
              "             (15194.0, 'CHURN'),\n",
              "             (15197.0, 'CHURN'),\n",
              "             (15199.0, 'CHURN'),\n",
              "             (15203.0, 'CHURN'),\n",
              "             (15204.0, 'CHURN'),\n",
              "             (15206.0, 'CHURN'),\n",
              "             (15208.0, 'CHURN'),\n",
              "             (15211.0, 'CHURN'),\n",
              "             (15213.0, 'CHURN'),\n",
              "             (15218.0, 'CHURN'),\n",
              "             (15220.0, 'CHURN'),\n",
              "             (15221.0, 'CHURN'),\n",
              "             (15224.0, 'CHURN'),\n",
              "             (15226.0, 'CHURN'),\n",
              "             (15227.0, 'CHURN'),\n",
              "             (15228.0, 'CHURN'),\n",
              "             (15234.0, 'CHURN'),\n",
              "             (15235.0, 'CHURN'),\n",
              "             (15236.0, 'CHURN'),\n",
              "             (15240.0, 'CHURN'),\n",
              "             (15241.0, 'CHURN'),\n",
              "             (15246.0, 'CHURN'),\n",
              "             (15257.0, 'CHURN'),\n",
              "             (15260.0, 'CHURN'),\n",
              "             (15262.0, 'CHURN'),\n",
              "             (15266.0, 'CHURN'),\n",
              "             (15270.0, 'CHURN'),\n",
              "             (15271.0, 'CHURN'),\n",
              "             (15279.0, 'CHURN'),\n",
              "             (15281.0, 'CHURN'),\n",
              "             (15288.0, 'CHURN'),\n",
              "             (15290.0, 'CHURN'),\n",
              "             (15291.0, 'CHURN'),\n",
              "             (15296.0, 'CHURN'),\n",
              "             (15298.0, 'CHURN'),\n",
              "             (15301.0, 'CHURN'),\n",
              "             (15303.0, 'CHURN'),\n",
              "             (15304.0, 'CHURN'),\n",
              "             (15308.0, 'CHURN'),\n",
              "             (15311.0, 'CHURN'),\n",
              "             (15312.0, 'CHURN'),\n",
              "             (15319.0, 'CHURN'),\n",
              "             (15321.0, 'CHURN'),\n",
              "             (15326.0, 'CHURN'),\n",
              "             (15332.0, 'CHURN'),\n",
              "             (15339.0, 'CHURN'),\n",
              "             (15346.0, 'CHURN'),\n",
              "             (15347.0, 'CHURN'),\n",
              "             (15350.0, 'CHURN'),\n",
              "             (15351.0, 'CHURN'),\n",
              "             (15353.0, 'CHURN'),\n",
              "             (15356.0, 'CHURN'),\n",
              "             (15358.0, 'CHURN'),\n",
              "             (15361.0, 'CHURN'),\n",
              "             (15363.0, 'CHURN'),\n",
              "             (15365.0, 'CHURN'),\n",
              "             (15366.0, 'CHURN'),\n",
              "             (15367.0, 'CHURN'),\n",
              "             (15370.0, 'CHURN'),\n",
              "             (15373.0, 'CHURN'),\n",
              "             (15379.0, 'CHURN'),\n",
              "             (15381.0, 'CHURN'),\n",
              "             (15382.0, 'CHURN'),\n",
              "             (15384.0, 'CHURN'),\n",
              "             (15388.0, 'CHURN'),\n",
              "             (15392.0, 'CHURN'),\n",
              "             (15393.0, 'CHURN'),\n",
              "             (15394.0, 'CHURN'),\n",
              "             (15395.0, 'CHURN'),\n",
              "             (15397.0, 'CHURN'),\n",
              "             (15400.0, 'CHURN'),\n",
              "             (15406.0, 'CHURN'),\n",
              "             (15407.0, 'CHURN'),\n",
              "             (15408.0, 'CHURN'),\n",
              "             (15415.0, 'CHURN'),\n",
              "             (15416.0, 'CHURN'),\n",
              "             (15421.0, 'CHURN'),\n",
              "             (15422.0, 'CHURN'),\n",
              "             (15426.0, 'CHURN'),\n",
              "             (15433.0, 'CHURN'),\n",
              "             ...])"
            ]
          },
          "metadata": {
            "tags": []
          },
          "execution_count": 128
        }
      ]
    },
    {
      "cell_type": "markdown",
      "metadata": {
        "id": "cRJ-gUcFow2V"
      },
      "source": [
        "## **Churn Prediction for each customer**"
      ]
    },
    {
      "cell_type": "code",
      "metadata": {
        "id": "mYoXcE-ioNV5"
      },
      "source": [
        "churn = pd.DataFrame(list(churn_dictionary.items()), columns=['CustomerID', 'Prediction'])"
      ],
      "execution_count": 129,
      "outputs": []
    },
    {
      "cell_type": "code",
      "metadata": {
        "id": "jdMHWEM9ovHI",
        "outputId": "4c0cc0f0-71a6-4b6b-fef8-a94021d2844d",
        "colab": {
          "base_uri": "https://localhost:8080/",
          "height": 0
        }
      },
      "source": [
        "churn.head(10)"
      ],
      "execution_count": 130,
      "outputs": [
        {
          "output_type": "execute_result",
          "data": {
            "text/html": [
              "<div>\n",
              "<style scoped>\n",
              "    .dataframe tbody tr th:only-of-type {\n",
              "        vertical-align: middle;\n",
              "    }\n",
              "\n",
              "    .dataframe tbody tr th {\n",
              "        vertical-align: top;\n",
              "    }\n",
              "\n",
              "    .dataframe thead th {\n",
              "        text-align: right;\n",
              "    }\n",
              "</style>\n",
              "<table border=\"1\" class=\"dataframe\">\n",
              "  <thead>\n",
              "    <tr style=\"text-align: right;\">\n",
              "      <th></th>\n",
              "      <th>CustomerID</th>\n",
              "      <th>Prediction</th>\n",
              "    </tr>\n",
              "  </thead>\n",
              "  <tbody>\n",
              "    <tr>\n",
              "      <th>0</th>\n",
              "      <td>12347.0</td>\n",
              "      <td>CHURN</td>\n",
              "    </tr>\n",
              "    <tr>\n",
              "      <th>1</th>\n",
              "      <td>12348.0</td>\n",
              "      <td>CHURN</td>\n",
              "    </tr>\n",
              "    <tr>\n",
              "      <th>2</th>\n",
              "      <td>12350.0</td>\n",
              "      <td>CHURN</td>\n",
              "    </tr>\n",
              "    <tr>\n",
              "      <th>3</th>\n",
              "      <td>12352.0</td>\n",
              "      <td>CHURN</td>\n",
              "    </tr>\n",
              "    <tr>\n",
              "      <th>4</th>\n",
              "      <td>12356.0</td>\n",
              "      <td>CHURN</td>\n",
              "    </tr>\n",
              "    <tr>\n",
              "      <th>5</th>\n",
              "      <td>12359.0</td>\n",
              "      <td>CHURN</td>\n",
              "    </tr>\n",
              "    <tr>\n",
              "      <th>6</th>\n",
              "      <td>12361.0</td>\n",
              "      <td>CHURN</td>\n",
              "    </tr>\n",
              "    <tr>\n",
              "      <th>7</th>\n",
              "      <td>12362.0</td>\n",
              "      <td>CHURN</td>\n",
              "    </tr>\n",
              "    <tr>\n",
              "      <th>8</th>\n",
              "      <td>12365.0</td>\n",
              "      <td>CHURN</td>\n",
              "    </tr>\n",
              "    <tr>\n",
              "      <th>9</th>\n",
              "      <td>12370.0</td>\n",
              "      <td>CHURN</td>\n",
              "    </tr>\n",
              "  </tbody>\n",
              "</table>\n",
              "</div>"
            ],
            "text/plain": [
              "   CustomerID Prediction\n",
              "0     12347.0      CHURN\n",
              "1     12348.0      CHURN\n",
              "2     12350.0      CHURN\n",
              "3     12352.0      CHURN\n",
              "4     12356.0      CHURN\n",
              "5     12359.0      CHURN\n",
              "6     12361.0      CHURN\n",
              "7     12362.0      CHURN\n",
              "8     12365.0      CHURN\n",
              "9     12370.0      CHURN"
            ]
          },
          "metadata": {
            "tags": []
          },
          "execution_count": 130
        }
      ]
    },
    {
      "cell_type": "code",
      "metadata": {
        "id": "s2GvQsdOo7DF",
        "outputId": "094b2bdb-7ea7-4090-e618-5e0f6cb6e218",
        "colab": {
          "base_uri": "https://localhost:8080/",
          "height": 0
        }
      },
      "source": [
        "churn.tail(10)"
      ],
      "execution_count": 131,
      "outputs": [
        {
          "output_type": "execute_result",
          "data": {
            "text/html": [
              "<div>\n",
              "<style scoped>\n",
              "    .dataframe tbody tr th:only-of-type {\n",
              "        vertical-align: middle;\n",
              "    }\n",
              "\n",
              "    .dataframe tbody tr th {\n",
              "        vertical-align: top;\n",
              "    }\n",
              "\n",
              "    .dataframe thead th {\n",
              "        text-align: right;\n",
              "    }\n",
              "</style>\n",
              "<table border=\"1\" class=\"dataframe\">\n",
              "  <thead>\n",
              "    <tr style=\"text-align: right;\">\n",
              "      <th></th>\n",
              "      <th>CustomerID</th>\n",
              "      <th>Prediction</th>\n",
              "    </tr>\n",
              "  </thead>\n",
              "  <tbody>\n",
              "    <tr>\n",
              "      <th>1875</th>\n",
              "      <td>18239.0</td>\n",
              "      <td>CHURN</td>\n",
              "    </tr>\n",
              "    <tr>\n",
              "      <th>1876</th>\n",
              "      <td>18245.0</td>\n",
              "      <td>CHURN</td>\n",
              "    </tr>\n",
              "    <tr>\n",
              "      <th>1877</th>\n",
              "      <td>18250.0</td>\n",
              "      <td>CHURN</td>\n",
              "    </tr>\n",
              "    <tr>\n",
              "      <th>1878</th>\n",
              "      <td>18257.0</td>\n",
              "      <td>CHURN</td>\n",
              "    </tr>\n",
              "    <tr>\n",
              "      <th>1879</th>\n",
              "      <td>18259.0</td>\n",
              "      <td>CHURN</td>\n",
              "    </tr>\n",
              "    <tr>\n",
              "      <th>1880</th>\n",
              "      <td>18260.0</td>\n",
              "      <td>CHURN</td>\n",
              "    </tr>\n",
              "    <tr>\n",
              "      <th>1881</th>\n",
              "      <td>18269.0</td>\n",
              "      <td>CHURN</td>\n",
              "    </tr>\n",
              "    <tr>\n",
              "      <th>1882</th>\n",
              "      <td>18270.0</td>\n",
              "      <td>CHURN</td>\n",
              "    </tr>\n",
              "    <tr>\n",
              "      <th>1883</th>\n",
              "      <td>18280.0</td>\n",
              "      <td>CHURN</td>\n",
              "    </tr>\n",
              "    <tr>\n",
              "      <th>1884</th>\n",
              "      <td>18283.0</td>\n",
              "      <td>CHURN</td>\n",
              "    </tr>\n",
              "  </tbody>\n",
              "</table>\n",
              "</div>"
            ],
            "text/plain": [
              "      CustomerID Prediction\n",
              "1875     18239.0      CHURN\n",
              "1876     18245.0      CHURN\n",
              "1877     18250.0      CHURN\n",
              "1878     18257.0      CHURN\n",
              "1879     18259.0      CHURN\n",
              "1880     18260.0      CHURN\n",
              "1881     18269.0      CHURN\n",
              "1882     18270.0      CHURN\n",
              "1883     18280.0      CHURN\n",
              "1884     18283.0      CHURN"
            ]
          },
          "metadata": {
            "tags": []
          },
          "execution_count": 131
        }
      ]
    },
    {
      "cell_type": "markdown",
      "metadata": {
        "id": "d0ailZa7MAWk"
      },
      "source": [
        "# RFM Analysis\n",
        "\n",
        "---"
      ]
    },
    {
      "cell_type": "markdown",
      "metadata": {
        "id": "8L_-j-dEM-TC"
      },
      "source": [
        "RFM stands for Recency, Frequency and Monetary Value each corresponding to some key customer trait. \n",
        "\n",
        "Recency is the number of days since last purchase.\n",
        "\n",
        "Frequency is the total number of purchases made by a customer.\n",
        "\n",
        "Monetary value is the total money spent by a customer.\n",
        "\n",
        "Frequency and Monetary Value Effects a customer's lifetime value and Recency affects retention, a measure of engagement."
      ]
    },
    {
      "cell_type": "markdown",
      "metadata": {
        "id": "EepBUCFXrOdI"
      },
      "source": [
        "**Recency**\n",
        "\n",
        "To calculate Recency score, we use a recent date point as a reference to compute number of days since the customer's last purchase."
      ]
    },
    {
      "cell_type": "code",
      "metadata": {
        "id": "idVVfAS_q2OM",
        "outputId": "9bf660fd-cdc6-4bd8-8cef-05b264f8a140",
        "colab": {
          "base_uri": "https://localhost:8080/",
          "height": 35
        }
      },
      "source": [
        "# last date available in our dataset\n",
        "dataset['InvoiceDate'].max()"
      ],
      "execution_count": 132,
      "outputs": [
        {
          "output_type": "execute_result",
          "data": {
            "application/vnd.google.colaboratory.intrinsic+json": {
              "type": "string"
            },
            "text/plain": [
              "'3/9/2011 9:52'"
            ]
          },
          "metadata": {
            "tags": []
          },
          "execution_count": 132
        }
      ]
    },
    {
      "cell_type": "code",
      "metadata": {
        "id": "LhvJigL3rfIz"
      },
      "source": [
        "import datetime as dt\n",
        "now = dt.date(2011, 12, 9)"
      ],
      "execution_count": 133,
      "outputs": []
    },
    {
      "cell_type": "code",
      "metadata": {
        "id": "i5YEaufCxc-_"
      },
      "source": [
        "rec_df = dataset.copy()"
      ],
      "execution_count": 134,
      "outputs": []
    },
    {
      "cell_type": "code",
      "metadata": {
        "id": "H36T0j9pxnMe"
      },
      "source": [
        "rec_df['date'] = pd.DatetimeIndex(rec_df['InvoiceDate']).date"
      ],
      "execution_count": 135,
      "outputs": []
    },
    {
      "cell_type": "code",
      "metadata": {
        "id": "31-B2jLfxvf_",
        "outputId": "58618138-7594-4648-e259-a6d461640529",
        "colab": {
          "base_uri": "https://localhost:8080/",
          "height": 204
        }
      },
      "source": [
        "# group by customers and check last date of purchase\n",
        "rec_df = rec_df.groupby(by='CustomerID', as_index=False)['date'].max()\n",
        "rec_df.columns = ['CustomerID','LastPurchaseDate']\n",
        "rec_df.head()"
      ],
      "execution_count": 136,
      "outputs": [
        {
          "output_type": "execute_result",
          "data": {
            "text/html": [
              "<div>\n",
              "<style scoped>\n",
              "    .dataframe tbody tr th:only-of-type {\n",
              "        vertical-align: middle;\n",
              "    }\n",
              "\n",
              "    .dataframe tbody tr th {\n",
              "        vertical-align: top;\n",
              "    }\n",
              "\n",
              "    .dataframe thead th {\n",
              "        text-align: right;\n",
              "    }\n",
              "</style>\n",
              "<table border=\"1\" class=\"dataframe\">\n",
              "  <thead>\n",
              "    <tr style=\"text-align: right;\">\n",
              "      <th></th>\n",
              "      <th>CustomerID</th>\n",
              "      <th>LastPurchaseDate</th>\n",
              "    </tr>\n",
              "  </thead>\n",
              "  <tbody>\n",
              "    <tr>\n",
              "      <th>0</th>\n",
              "      <td>12347.0</td>\n",
              "      <td>2011-01-26</td>\n",
              "    </tr>\n",
              "    <tr>\n",
              "      <th>1</th>\n",
              "      <td>12348.0</td>\n",
              "      <td>2011-01-25</td>\n",
              "    </tr>\n",
              "    <tr>\n",
              "      <th>2</th>\n",
              "      <td>12350.0</td>\n",
              "      <td>2011-02-02</td>\n",
              "    </tr>\n",
              "    <tr>\n",
              "      <th>3</th>\n",
              "      <td>12352.0</td>\n",
              "      <td>2011-03-17</td>\n",
              "    </tr>\n",
              "    <tr>\n",
              "      <th>4</th>\n",
              "      <td>12356.0</td>\n",
              "      <td>2011-01-18</td>\n",
              "    </tr>\n",
              "  </tbody>\n",
              "</table>\n",
              "</div>"
            ],
            "text/plain": [
              "   CustomerID LastPurchaseDate\n",
              "0     12347.0       2011-01-26\n",
              "1     12348.0       2011-01-25\n",
              "2     12350.0       2011-02-02\n",
              "3     12352.0       2011-03-17\n",
              "4     12356.0       2011-01-18"
            ]
          },
          "metadata": {
            "tags": []
          },
          "execution_count": 136
        }
      ]
    },
    {
      "cell_type": "code",
      "metadata": {
        "id": "2VXiQ_FBx_Tq"
      },
      "source": [
        "# calculate recency\n",
        "rec_df['Recency'] = rec_df['LastPurchaseDate'].apply(lambda x: (now - x).days)"
      ],
      "execution_count": 137,
      "outputs": []
    },
    {
      "cell_type": "code",
      "metadata": {
        "id": "uwrg0v0nyUMt",
        "outputId": "df6d6fbd-9c1b-4137-95ab-f51dabfb89e9",
        "colab": {
          "base_uri": "https://localhost:8080/",
          "height": 204
        }
      },
      "source": [
        "rec_df.head()"
      ],
      "execution_count": 138,
      "outputs": [
        {
          "output_type": "execute_result",
          "data": {
            "text/html": [
              "<div>\n",
              "<style scoped>\n",
              "    .dataframe tbody tr th:only-of-type {\n",
              "        vertical-align: middle;\n",
              "    }\n",
              "\n",
              "    .dataframe tbody tr th {\n",
              "        vertical-align: top;\n",
              "    }\n",
              "\n",
              "    .dataframe thead th {\n",
              "        text-align: right;\n",
              "    }\n",
              "</style>\n",
              "<table border=\"1\" class=\"dataframe\">\n",
              "  <thead>\n",
              "    <tr style=\"text-align: right;\">\n",
              "      <th></th>\n",
              "      <th>CustomerID</th>\n",
              "      <th>LastPurchaseDate</th>\n",
              "      <th>Recency</th>\n",
              "    </tr>\n",
              "  </thead>\n",
              "  <tbody>\n",
              "    <tr>\n",
              "      <th>0</th>\n",
              "      <td>12347.0</td>\n",
              "      <td>2011-01-26</td>\n",
              "      <td>317</td>\n",
              "    </tr>\n",
              "    <tr>\n",
              "      <th>1</th>\n",
              "      <td>12348.0</td>\n",
              "      <td>2011-01-25</td>\n",
              "      <td>318</td>\n",
              "    </tr>\n",
              "    <tr>\n",
              "      <th>2</th>\n",
              "      <td>12350.0</td>\n",
              "      <td>2011-02-02</td>\n",
              "      <td>310</td>\n",
              "    </tr>\n",
              "    <tr>\n",
              "      <th>3</th>\n",
              "      <td>12352.0</td>\n",
              "      <td>2011-03-17</td>\n",
              "      <td>267</td>\n",
              "    </tr>\n",
              "    <tr>\n",
              "      <th>4</th>\n",
              "      <td>12356.0</td>\n",
              "      <td>2011-01-18</td>\n",
              "      <td>325</td>\n",
              "    </tr>\n",
              "  </tbody>\n",
              "</table>\n",
              "</div>"
            ],
            "text/plain": [
              "   CustomerID LastPurchaseDate  Recency\n",
              "0     12347.0       2011-01-26      317\n",
              "1     12348.0       2011-01-25      318\n",
              "2     12350.0       2011-02-02      310\n",
              "3     12352.0       2011-03-17      267\n",
              "4     12356.0       2011-01-18      325"
            ]
          },
          "metadata": {
            "tags": []
          },
          "execution_count": 138
        }
      ]
    },
    {
      "cell_type": "markdown",
      "metadata": {
        "id": "AHorLLwS3cM8"
      },
      "source": [
        "Less the recency value, more recent the purchase is."
      ]
    },
    {
      "cell_type": "code",
      "metadata": {
        "id": "Ogtt1sYGyV8m",
        "outputId": "1e193ee7-7856-421a-b4f2-ba55fed039fb",
        "colab": {
          "base_uri": "https://localhost:8080/",
          "height": 204
        }
      },
      "source": [
        "rec_df.sort_values(by=['Recency'])\n",
        "rec_df = rec_df[['CustomerID','Recency']]\n",
        "rec_df.head()"
      ],
      "execution_count": 139,
      "outputs": [
        {
          "output_type": "execute_result",
          "data": {
            "text/html": [
              "<div>\n",
              "<style scoped>\n",
              "    .dataframe tbody tr th:only-of-type {\n",
              "        vertical-align: middle;\n",
              "    }\n",
              "\n",
              "    .dataframe tbody tr th {\n",
              "        vertical-align: top;\n",
              "    }\n",
              "\n",
              "    .dataframe thead th {\n",
              "        text-align: right;\n",
              "    }\n",
              "</style>\n",
              "<table border=\"1\" class=\"dataframe\">\n",
              "  <thead>\n",
              "    <tr style=\"text-align: right;\">\n",
              "      <th></th>\n",
              "      <th>CustomerID</th>\n",
              "      <th>Recency</th>\n",
              "    </tr>\n",
              "  </thead>\n",
              "  <tbody>\n",
              "    <tr>\n",
              "      <th>0</th>\n",
              "      <td>12347.0</td>\n",
              "      <td>317</td>\n",
              "    </tr>\n",
              "    <tr>\n",
              "      <th>1</th>\n",
              "      <td>12348.0</td>\n",
              "      <td>318</td>\n",
              "    </tr>\n",
              "    <tr>\n",
              "      <th>2</th>\n",
              "      <td>12350.0</td>\n",
              "      <td>310</td>\n",
              "    </tr>\n",
              "    <tr>\n",
              "      <th>3</th>\n",
              "      <td>12352.0</td>\n",
              "      <td>267</td>\n",
              "    </tr>\n",
              "    <tr>\n",
              "      <th>4</th>\n",
              "      <td>12356.0</td>\n",
              "      <td>325</td>\n",
              "    </tr>\n",
              "  </tbody>\n",
              "</table>\n",
              "</div>"
            ],
            "text/plain": [
              "   CustomerID  Recency\n",
              "0     12347.0      317\n",
              "1     12348.0      318\n",
              "2     12350.0      310\n",
              "3     12352.0      267\n",
              "4     12356.0      325"
            ]
          },
          "metadata": {
            "tags": []
          },
          "execution_count": 139
        }
      ]
    },
    {
      "cell_type": "markdown",
      "metadata": {
        "id": "jR8gIHjc3yts"
      },
      "source": [
        "**Frequency**"
      ]
    },
    {
      "cell_type": "code",
      "metadata": {
        "id": "NyTjkM4B2ecI",
        "outputId": "812c46a1-0e77-4f76-b2df-145bed9c2452",
        "colab": {
          "base_uri": "https://localhost:8080/",
          "height": 204
        }
      },
      "source": [
        "freq_df = customers[[\"CustomerID\",\"Frequency_of_customer\"]]\n",
        "freq_df.head()"
      ],
      "execution_count": 140,
      "outputs": [
        {
          "output_type": "execute_result",
          "data": {
            "text/html": [
              "<div>\n",
              "<style scoped>\n",
              "    .dataframe tbody tr th:only-of-type {\n",
              "        vertical-align: middle;\n",
              "    }\n",
              "\n",
              "    .dataframe tbody tr th {\n",
              "        vertical-align: top;\n",
              "    }\n",
              "\n",
              "    .dataframe thead th {\n",
              "        text-align: right;\n",
              "    }\n",
              "</style>\n",
              "<table border=\"1\" class=\"dataframe\">\n",
              "  <thead>\n",
              "    <tr style=\"text-align: right;\">\n",
              "      <th></th>\n",
              "      <th>CustomerID</th>\n",
              "      <th>Frequency_of_customer</th>\n",
              "    </tr>\n",
              "  </thead>\n",
              "  <tbody>\n",
              "    <tr>\n",
              "      <th>0</th>\n",
              "      <td>12347.0</td>\n",
              "      <td>2</td>\n",
              "    </tr>\n",
              "    <tr>\n",
              "      <th>1</th>\n",
              "      <td>12348.0</td>\n",
              "      <td>2</td>\n",
              "    </tr>\n",
              "    <tr>\n",
              "      <th>2</th>\n",
              "      <td>12350.0</td>\n",
              "      <td>1</td>\n",
              "    </tr>\n",
              "    <tr>\n",
              "      <th>3</th>\n",
              "      <td>12352.0</td>\n",
              "      <td>3</td>\n",
              "    </tr>\n",
              "    <tr>\n",
              "      <th>4</th>\n",
              "      <td>12356.0</td>\n",
              "      <td>1</td>\n",
              "    </tr>\n",
              "  </tbody>\n",
              "</table>\n",
              "</div>"
            ],
            "text/plain": [
              "   CustomerID  Frequency_of_customer\n",
              "0     12347.0                      2\n",
              "1     12348.0                      2\n",
              "2     12350.0                      1\n",
              "3     12352.0                      3\n",
              "4     12356.0                      1"
            ]
          },
          "metadata": {
            "tags": []
          },
          "execution_count": 140
        }
      ]
    },
    {
      "cell_type": "markdown",
      "metadata": {
        "id": "NfOsePfR4hZM"
      },
      "source": [
        "**Monetary**"
      ]
    },
    {
      "cell_type": "code",
      "metadata": {
        "id": "NinLfYaX4Lt3",
        "outputId": "fa10a030-bab7-489d-9762-965a48da4f9c",
        "colab": {
          "base_uri": "https://localhost:8080/",
          "height": 204
        }
      },
      "source": [
        "monetary = customers[[\"CustomerID\",\"Total_spending\"]]\n",
        "monetary.head()"
      ],
      "execution_count": 141,
      "outputs": [
        {
          "output_type": "execute_result",
          "data": {
            "text/html": [
              "<div>\n",
              "<style scoped>\n",
              "    .dataframe tbody tr th:only-of-type {\n",
              "        vertical-align: middle;\n",
              "    }\n",
              "\n",
              "    .dataframe tbody tr th {\n",
              "        vertical-align: top;\n",
              "    }\n",
              "\n",
              "    .dataframe thead th {\n",
              "        text-align: right;\n",
              "    }\n",
              "</style>\n",
              "<table border=\"1\" class=\"dataframe\">\n",
              "  <thead>\n",
              "    <tr style=\"text-align: right;\">\n",
              "      <th></th>\n",
              "      <th>CustomerID</th>\n",
              "      <th>Total_spending</th>\n",
              "    </tr>\n",
              "  </thead>\n",
              "  <tbody>\n",
              "    <tr>\n",
              "      <th>0</th>\n",
              "      <td>12347.0</td>\n",
              "      <td>1088.03</td>\n",
              "    </tr>\n",
              "    <tr>\n",
              "      <th>1</th>\n",
              "      <td>12348.0</td>\n",
              "      <td>73.20</td>\n",
              "    </tr>\n",
              "    <tr>\n",
              "      <th>2</th>\n",
              "      <td>12350.0</td>\n",
              "      <td>294.40</td>\n",
              "    </tr>\n",
              "    <tr>\n",
              "      <th>3</th>\n",
              "      <td>12352.0</td>\n",
              "      <td>419.08</td>\n",
              "    </tr>\n",
              "    <tr>\n",
              "      <th>4</th>\n",
              "      <td>12356.0</td>\n",
              "      <td>818.70</td>\n",
              "    </tr>\n",
              "  </tbody>\n",
              "</table>\n",
              "</div>"
            ],
            "text/plain": [
              "   CustomerID  Total_spending\n",
              "0     12347.0         1088.03\n",
              "1     12348.0           73.20\n",
              "2     12350.0          294.40\n",
              "3     12352.0          419.08\n",
              "4     12356.0          818.70"
            ]
          },
          "metadata": {
            "tags": []
          },
          "execution_count": 141
        }
      ]
    },
    {
      "cell_type": "markdown",
      "metadata": {
        "id": "hfIUa17n4_ty"
      },
      "source": [
        "**Create RFM Table**"
      ]
    },
    {
      "cell_type": "code",
      "metadata": {
        "id": "d4drO0wB4sKX",
        "outputId": "61c896e3-d993-48bf-e865-e2f80d87a97f",
        "colab": {
          "base_uri": "https://localhost:8080/",
          "height": 204
        }
      },
      "source": [
        "rfm = rec_df.merge(freq_df, on='CustomerID')\n",
        "rfm.head()"
      ],
      "execution_count": 142,
      "outputs": [
        {
          "output_type": "execute_result",
          "data": {
            "text/html": [
              "<div>\n",
              "<style scoped>\n",
              "    .dataframe tbody tr th:only-of-type {\n",
              "        vertical-align: middle;\n",
              "    }\n",
              "\n",
              "    .dataframe tbody tr th {\n",
              "        vertical-align: top;\n",
              "    }\n",
              "\n",
              "    .dataframe thead th {\n",
              "        text-align: right;\n",
              "    }\n",
              "</style>\n",
              "<table border=\"1\" class=\"dataframe\">\n",
              "  <thead>\n",
              "    <tr style=\"text-align: right;\">\n",
              "      <th></th>\n",
              "      <th>CustomerID</th>\n",
              "      <th>Recency</th>\n",
              "      <th>Frequency_of_customer</th>\n",
              "    </tr>\n",
              "  </thead>\n",
              "  <tbody>\n",
              "    <tr>\n",
              "      <th>0</th>\n",
              "      <td>12347.0</td>\n",
              "      <td>317</td>\n",
              "      <td>2</td>\n",
              "    </tr>\n",
              "    <tr>\n",
              "      <th>1</th>\n",
              "      <td>12348.0</td>\n",
              "      <td>318</td>\n",
              "      <td>2</td>\n",
              "    </tr>\n",
              "    <tr>\n",
              "      <th>2</th>\n",
              "      <td>12350.0</td>\n",
              "      <td>310</td>\n",
              "      <td>1</td>\n",
              "    </tr>\n",
              "    <tr>\n",
              "      <th>3</th>\n",
              "      <td>12352.0</td>\n",
              "      <td>267</td>\n",
              "      <td>3</td>\n",
              "    </tr>\n",
              "    <tr>\n",
              "      <th>4</th>\n",
              "      <td>12356.0</td>\n",
              "      <td>325</td>\n",
              "      <td>1</td>\n",
              "    </tr>\n",
              "  </tbody>\n",
              "</table>\n",
              "</div>"
            ],
            "text/plain": [
              "   CustomerID  Recency  Frequency_of_customer\n",
              "0     12347.0      317                      2\n",
              "1     12348.0      318                      2\n",
              "2     12350.0      310                      1\n",
              "3     12352.0      267                      3\n",
              "4     12356.0      325                      1"
            ]
          },
          "metadata": {
            "tags": []
          },
          "execution_count": 142
        }
      ]
    },
    {
      "cell_type": "code",
      "metadata": {
        "id": "0fTkFyxp5MUu",
        "outputId": "ec73153c-fbd2-4e3c-e795-3b033d2c03b3",
        "colab": {
          "base_uri": "https://localhost:8080/",
          "height": 235
        }
      },
      "source": [
        "rfm = rfm.merge(monetary, on='CustomerID')\n",
        "rfm.set_index('CustomerID', inplace=True)\n",
        "rfm.head()"
      ],
      "execution_count": 143,
      "outputs": [
        {
          "output_type": "execute_result",
          "data": {
            "text/html": [
              "<div>\n",
              "<style scoped>\n",
              "    .dataframe tbody tr th:only-of-type {\n",
              "        vertical-align: middle;\n",
              "    }\n",
              "\n",
              "    .dataframe tbody tr th {\n",
              "        vertical-align: top;\n",
              "    }\n",
              "\n",
              "    .dataframe thead th {\n",
              "        text-align: right;\n",
              "    }\n",
              "</style>\n",
              "<table border=\"1\" class=\"dataframe\">\n",
              "  <thead>\n",
              "    <tr style=\"text-align: right;\">\n",
              "      <th></th>\n",
              "      <th>Recency</th>\n",
              "      <th>Frequency_of_customer</th>\n",
              "      <th>Total_spending</th>\n",
              "    </tr>\n",
              "    <tr>\n",
              "      <th>CustomerID</th>\n",
              "      <th></th>\n",
              "      <th></th>\n",
              "      <th></th>\n",
              "    </tr>\n",
              "  </thead>\n",
              "  <tbody>\n",
              "    <tr>\n",
              "      <th>12347.0</th>\n",
              "      <td>317</td>\n",
              "      <td>2</td>\n",
              "      <td>1088.03</td>\n",
              "    </tr>\n",
              "    <tr>\n",
              "      <th>12348.0</th>\n",
              "      <td>318</td>\n",
              "      <td>2</td>\n",
              "      <td>73.20</td>\n",
              "    </tr>\n",
              "    <tr>\n",
              "      <th>12350.0</th>\n",
              "      <td>310</td>\n",
              "      <td>1</td>\n",
              "      <td>294.40</td>\n",
              "    </tr>\n",
              "    <tr>\n",
              "      <th>12352.0</th>\n",
              "      <td>267</td>\n",
              "      <td>3</td>\n",
              "      <td>419.08</td>\n",
              "    </tr>\n",
              "    <tr>\n",
              "      <th>12356.0</th>\n",
              "      <td>325</td>\n",
              "      <td>1</td>\n",
              "      <td>818.70</td>\n",
              "    </tr>\n",
              "  </tbody>\n",
              "</table>\n",
              "</div>"
            ],
            "text/plain": [
              "            Recency  Frequency_of_customer  Total_spending\n",
              "CustomerID                                                \n",
              "12347.0         317                      2         1088.03\n",
              "12348.0         318                      2           73.20\n",
              "12350.0         310                      1          294.40\n",
              "12352.0         267                      3          419.08\n",
              "12356.0         325                      1          818.70"
            ]
          },
          "metadata": {
            "tags": []
          },
          "execution_count": 143
        }
      ]
    },
    {
      "cell_type": "markdown",
      "metadata": {
        "id": "weqKpVlo53wP"
      },
      "source": [
        "**RFM Anaylsis**\n",
        "\n",
        "To conduct RFM analysis, here we rank these customers from 1-4 using RFM values. We sort customers based on RFM value. A final RFM score is calculated simply by combining individual RFM score number."
      ]
    },
    {
      "cell_type": "code",
      "metadata": {
        "id": "XC1KyiYd5fJ7",
        "outputId": "bcca5e9f-c1aa-4b5b-e52a-1ffbde09acf2",
        "colab": {
          "base_uri": "https://localhost:8080/",
          "height": 142
        }
      },
      "source": [
        "quantiles = rfm.quantile(q=[0.25, 0.5, 0.75])\n",
        "quantiles"
      ],
      "execution_count": 144,
      "outputs": [
        {
          "output_type": "execute_result",
          "data": {
            "text/html": [
              "<div>\n",
              "<style scoped>\n",
              "    .dataframe tbody tr th:only-of-type {\n",
              "        vertical-align: middle;\n",
              "    }\n",
              "\n",
              "    .dataframe tbody tr th {\n",
              "        vertical-align: top;\n",
              "    }\n",
              "\n",
              "    .dataframe thead th {\n",
              "        text-align: right;\n",
              "    }\n",
              "</style>\n",
              "<table border=\"1\" class=\"dataframe\">\n",
              "  <thead>\n",
              "    <tr style=\"text-align: right;\">\n",
              "      <th></th>\n",
              "      <th>Recency</th>\n",
              "      <th>Frequency_of_customer</th>\n",
              "      <th>Total_spending</th>\n",
              "    </tr>\n",
              "  </thead>\n",
              "  <tbody>\n",
              "    <tr>\n",
              "      <th>0.25</th>\n",
              "      <td>280.0</td>\n",
              "      <td>1.0</td>\n",
              "      <td>149.70</td>\n",
              "    </tr>\n",
              "    <tr>\n",
              "      <th>0.50</th>\n",
              "      <td>298.0</td>\n",
              "      <td>1.0</td>\n",
              "      <td>291.60</td>\n",
              "    </tr>\n",
              "    <tr>\n",
              "      <th>0.75</th>\n",
              "      <td>332.0</td>\n",
              "      <td>2.0</td>\n",
              "      <td>580.72</td>\n",
              "    </tr>\n",
              "  </tbody>\n",
              "</table>\n",
              "</div>"
            ],
            "text/plain": [
              "      Recency  Frequency_of_customer  Total_spending\n",
              "0.25    280.0                    1.0          149.70\n",
              "0.50    298.0                    1.0          291.60\n",
              "0.75    332.0                    2.0          580.72"
            ]
          },
          "metadata": {
            "tags": []
          },
          "execution_count": 144
        }
      ]
    },
    {
      "cell_type": "code",
      "metadata": {
        "id": "sTetwRdJ6OXB",
        "outputId": "4e8bae44-15a6-4d17-dca3-52b0cc2b0bc5",
        "colab": {
          "base_uri": "https://localhost:8080/"
        }
      },
      "source": [
        "quantiles.to_dict()"
      ],
      "execution_count": 145,
      "outputs": [
        {
          "output_type": "execute_result",
          "data": {
            "text/plain": [
              "{'Frequency_of_customer': {0.25: 1.0, 0.5: 1.0, 0.75: 2.0},\n",
              " 'Recency': {0.25: 280.0, 0.5: 298.0, 0.75: 332.0},\n",
              " 'Total_spending': {0.25: 149.70000000000005,\n",
              "  0.5: 291.6,\n",
              "  0.75: 580.7199999999997}}"
            ]
          },
          "metadata": {
            "tags": []
          },
          "execution_count": 145
        }
      ]
    },
    {
      "cell_type": "markdown",
      "metadata": {
        "id": "BESQ-TXV6iqf"
      },
      "source": [
        "**Creation of RFM Segments**\n",
        "\n",
        "Here, high value of recency has low score while high value of frequency and monetary value has high score."
      ]
    },
    {
      "cell_type": "code",
      "metadata": {
        "id": "6PKdj0L56h3F"
      },
      "source": [
        "def RScore(x, p, d):\n",
        "  if x <= d[p][0.25]:\n",
        "    return 4\n",
        "  elif x <= d[p][0.50]:\n",
        "    return 3\n",
        "  elif x <= d[p][0.75]:\n",
        "    return 2\n",
        "  else:\n",
        "    return 1\n",
        "\n",
        "def FMScore(x, p, d):\n",
        "  if x <= d[p][0.25]:\n",
        "    return 1\n",
        "  elif x <= d[p][0.50]:\n",
        "    return 2\n",
        "  elif x <= d[p][0.75]:\n",
        "    return 3\n",
        "  else:\n",
        "    return 4"
      ],
      "execution_count": 146,
      "outputs": []
    },
    {
      "cell_type": "code",
      "metadata": {
        "id": "JxE7XIxJ7FcH",
        "outputId": "bd49265e-21e8-4b25-80df-e00037b4496e",
        "colab": {
          "base_uri": "https://localhost:8080/",
          "height": 235
        }
      },
      "source": [
        "rfm_seg = rfm.copy()\n",
        "rfm_seg['R_Quartile'] = rfm_seg['Recency'].apply(RScore, args=('Recency', quantiles,))\n",
        "rfm_seg['F_Quartile'] = rfm_seg['Frequency_of_customer'].apply(FMScore, args=('Frequency_of_customer', quantiles,))\n",
        "rfm_seg['M_Quartile'] = rfm_seg['Total_spending'].apply(FMScore, args=('Total_spending', quantiles,))\n",
        "rfm_seg.head()"
      ],
      "execution_count": 147,
      "outputs": [
        {
          "output_type": "execute_result",
          "data": {
            "text/html": [
              "<div>\n",
              "<style scoped>\n",
              "    .dataframe tbody tr th:only-of-type {\n",
              "        vertical-align: middle;\n",
              "    }\n",
              "\n",
              "    .dataframe tbody tr th {\n",
              "        vertical-align: top;\n",
              "    }\n",
              "\n",
              "    .dataframe thead th {\n",
              "        text-align: right;\n",
              "    }\n",
              "</style>\n",
              "<table border=\"1\" class=\"dataframe\">\n",
              "  <thead>\n",
              "    <tr style=\"text-align: right;\">\n",
              "      <th></th>\n",
              "      <th>Recency</th>\n",
              "      <th>Frequency_of_customer</th>\n",
              "      <th>Total_spending</th>\n",
              "      <th>R_Quartile</th>\n",
              "      <th>F_Quartile</th>\n",
              "      <th>M_Quartile</th>\n",
              "    </tr>\n",
              "    <tr>\n",
              "      <th>CustomerID</th>\n",
              "      <th></th>\n",
              "      <th></th>\n",
              "      <th></th>\n",
              "      <th></th>\n",
              "      <th></th>\n",
              "      <th></th>\n",
              "    </tr>\n",
              "  </thead>\n",
              "  <tbody>\n",
              "    <tr>\n",
              "      <th>12347.0</th>\n",
              "      <td>317</td>\n",
              "      <td>2</td>\n",
              "      <td>1088.03</td>\n",
              "      <td>2</td>\n",
              "      <td>3</td>\n",
              "      <td>4</td>\n",
              "    </tr>\n",
              "    <tr>\n",
              "      <th>12348.0</th>\n",
              "      <td>318</td>\n",
              "      <td>2</td>\n",
              "      <td>73.20</td>\n",
              "      <td>2</td>\n",
              "      <td>3</td>\n",
              "      <td>1</td>\n",
              "    </tr>\n",
              "    <tr>\n",
              "      <th>12350.0</th>\n",
              "      <td>310</td>\n",
              "      <td>1</td>\n",
              "      <td>294.40</td>\n",
              "      <td>2</td>\n",
              "      <td>1</td>\n",
              "      <td>3</td>\n",
              "    </tr>\n",
              "    <tr>\n",
              "      <th>12352.0</th>\n",
              "      <td>267</td>\n",
              "      <td>3</td>\n",
              "      <td>419.08</td>\n",
              "      <td>4</td>\n",
              "      <td>4</td>\n",
              "      <td>3</td>\n",
              "    </tr>\n",
              "    <tr>\n",
              "      <th>12356.0</th>\n",
              "      <td>325</td>\n",
              "      <td>1</td>\n",
              "      <td>818.70</td>\n",
              "      <td>2</td>\n",
              "      <td>1</td>\n",
              "      <td>4</td>\n",
              "    </tr>\n",
              "  </tbody>\n",
              "</table>\n",
              "</div>"
            ],
            "text/plain": [
              "            Recency  Frequency_of_customer  ...  F_Quartile  M_Quartile\n",
              "CustomerID                                  ...                        \n",
              "12347.0         317                      2  ...           3           4\n",
              "12348.0         318                      2  ...           3           1\n",
              "12350.0         310                      1  ...           1           3\n",
              "12352.0         267                      3  ...           4           3\n",
              "12356.0         325                      1  ...           1           4\n",
              "\n",
              "[5 rows x 6 columns]"
            ]
          },
          "metadata": {
            "tags": []
          },
          "execution_count": 147
        }
      ]
    },
    {
      "cell_type": "markdown",
      "metadata": {
        "id": "HztW5vH36KJV"
      },
      "source": [
        "Now, we combine these scores to give RFM value."
      ]
    },
    {
      "cell_type": "code",
      "metadata": {
        "id": "TjzYjIlc7JrW",
        "outputId": "a5c88a3e-1ce5-452e-c33e-35c967ac3f6e",
        "colab": {
          "base_uri": "https://localhost:8080/",
          "height": 235
        }
      },
      "source": [
        "rfm_seg['RFMScore'] = rfm_seg.R_Quartile.map(str) + rfm_seg.F_Quartile.map(str) + rfm_seg.M_Quartile.map(str)\n",
        "rfm_seg.head()"
      ],
      "execution_count": 148,
      "outputs": [
        {
          "output_type": "execute_result",
          "data": {
            "text/html": [
              "<div>\n",
              "<style scoped>\n",
              "    .dataframe tbody tr th:only-of-type {\n",
              "        vertical-align: middle;\n",
              "    }\n",
              "\n",
              "    .dataframe tbody tr th {\n",
              "        vertical-align: top;\n",
              "    }\n",
              "\n",
              "    .dataframe thead th {\n",
              "        text-align: right;\n",
              "    }\n",
              "</style>\n",
              "<table border=\"1\" class=\"dataframe\">\n",
              "  <thead>\n",
              "    <tr style=\"text-align: right;\">\n",
              "      <th></th>\n",
              "      <th>Recency</th>\n",
              "      <th>Frequency_of_customer</th>\n",
              "      <th>Total_spending</th>\n",
              "      <th>R_Quartile</th>\n",
              "      <th>F_Quartile</th>\n",
              "      <th>M_Quartile</th>\n",
              "      <th>RFMScore</th>\n",
              "    </tr>\n",
              "    <tr>\n",
              "      <th>CustomerID</th>\n",
              "      <th></th>\n",
              "      <th></th>\n",
              "      <th></th>\n",
              "      <th></th>\n",
              "      <th></th>\n",
              "      <th></th>\n",
              "      <th></th>\n",
              "    </tr>\n",
              "  </thead>\n",
              "  <tbody>\n",
              "    <tr>\n",
              "      <th>12347.0</th>\n",
              "      <td>317</td>\n",
              "      <td>2</td>\n",
              "      <td>1088.03</td>\n",
              "      <td>2</td>\n",
              "      <td>3</td>\n",
              "      <td>4</td>\n",
              "      <td>234</td>\n",
              "    </tr>\n",
              "    <tr>\n",
              "      <th>12348.0</th>\n",
              "      <td>318</td>\n",
              "      <td>2</td>\n",
              "      <td>73.20</td>\n",
              "      <td>2</td>\n",
              "      <td>3</td>\n",
              "      <td>1</td>\n",
              "      <td>231</td>\n",
              "    </tr>\n",
              "    <tr>\n",
              "      <th>12350.0</th>\n",
              "      <td>310</td>\n",
              "      <td>1</td>\n",
              "      <td>294.40</td>\n",
              "      <td>2</td>\n",
              "      <td>1</td>\n",
              "      <td>3</td>\n",
              "      <td>213</td>\n",
              "    </tr>\n",
              "    <tr>\n",
              "      <th>12352.0</th>\n",
              "      <td>267</td>\n",
              "      <td>3</td>\n",
              "      <td>419.08</td>\n",
              "      <td>4</td>\n",
              "      <td>4</td>\n",
              "      <td>3</td>\n",
              "      <td>443</td>\n",
              "    </tr>\n",
              "    <tr>\n",
              "      <th>12356.0</th>\n",
              "      <td>325</td>\n",
              "      <td>1</td>\n",
              "      <td>818.70</td>\n",
              "      <td>2</td>\n",
              "      <td>1</td>\n",
              "      <td>4</td>\n",
              "      <td>214</td>\n",
              "    </tr>\n",
              "  </tbody>\n",
              "</table>\n",
              "</div>"
            ],
            "text/plain": [
              "            Recency  Frequency_of_customer  ...  M_Quartile  RFMScore\n",
              "CustomerID                                  ...                      \n",
              "12347.0         317                      2  ...           4       234\n",
              "12348.0         318                      2  ...           1       231\n",
              "12350.0         310                      1  ...           3       213\n",
              "12352.0         267                      3  ...           3       443\n",
              "12356.0         325                      1  ...           4       214\n",
              "\n",
              "[5 rows x 7 columns]"
            ]
          },
          "metadata": {
            "tags": []
          },
          "execution_count": 148
        }
      ]
    },
    {
      "cell_type": "markdown",
      "metadata": {
        "id": "fmkdAM_q6VEG"
      },
      "source": [
        "As we know best score for recency, frequency and monetary value is 4. Hence the best RFM score is 444."
      ]
    },
    {
      "cell_type": "code",
      "metadata": {
        "id": "5oGMchG78Y7I",
        "outputId": "617b2fb9-323f-4b2a-b114-855bff79c99b",
        "colab": {
          "base_uri": "https://localhost:8080/",
          "height": 410
        }
      },
      "source": [
        "rfm_seg[rfm_seg['RFMScore']=='444'].sort_values('Total_spending', ascending=False).head(10)"
      ],
      "execution_count": 149,
      "outputs": [
        {
          "output_type": "execute_result",
          "data": {
            "text/html": [
              "<div>\n",
              "<style scoped>\n",
              "    .dataframe tbody tr th:only-of-type {\n",
              "        vertical-align: middle;\n",
              "    }\n",
              "\n",
              "    .dataframe tbody tr th {\n",
              "        vertical-align: top;\n",
              "    }\n",
              "\n",
              "    .dataframe thead th {\n",
              "        text-align: right;\n",
              "    }\n",
              "</style>\n",
              "<table border=\"1\" class=\"dataframe\">\n",
              "  <thead>\n",
              "    <tr style=\"text-align: right;\">\n",
              "      <th></th>\n",
              "      <th>Recency</th>\n",
              "      <th>Frequency_of_customer</th>\n",
              "      <th>Total_spending</th>\n",
              "      <th>R_Quartile</th>\n",
              "      <th>F_Quartile</th>\n",
              "      <th>M_Quartile</th>\n",
              "      <th>RFMScore</th>\n",
              "    </tr>\n",
              "    <tr>\n",
              "      <th>CustomerID</th>\n",
              "      <th></th>\n",
              "      <th></th>\n",
              "      <th></th>\n",
              "      <th></th>\n",
              "      <th></th>\n",
              "      <th></th>\n",
              "      <th></th>\n",
              "    </tr>\n",
              "  </thead>\n",
              "  <tbody>\n",
              "    <tr>\n",
              "      <th>14911.0</th>\n",
              "      <td>264</td>\n",
              "      <td>32</td>\n",
              "      <td>11966.61</td>\n",
              "      <td>4</td>\n",
              "      <td>4</td>\n",
              "      <td>4</td>\n",
              "      <td>444</td>\n",
              "    </tr>\n",
              "    <tr>\n",
              "      <th>13089.0</th>\n",
              "      <td>268</td>\n",
              "      <td>22</td>\n",
              "      <td>10156.83</td>\n",
              "      <td>4</td>\n",
              "      <td>4</td>\n",
              "      <td>4</td>\n",
              "      <td>444</td>\n",
              "    </tr>\n",
              "    <tr>\n",
              "      <th>15311.0</th>\n",
              "      <td>270</td>\n",
              "      <td>31</td>\n",
              "      <td>7636.47</td>\n",
              "      <td>4</td>\n",
              "      <td>4</td>\n",
              "      <td>4</td>\n",
              "      <td>444</td>\n",
              "    </tr>\n",
              "    <tr>\n",
              "      <th>14298.0</th>\n",
              "      <td>267</td>\n",
              "      <td>15</td>\n",
              "      <td>5724.80</td>\n",
              "      <td>4</td>\n",
              "      <td>4</td>\n",
              "      <td>4</td>\n",
              "      <td>444</td>\n",
              "    </tr>\n",
              "    <tr>\n",
              "      <th>15039.0</th>\n",
              "      <td>270</td>\n",
              "      <td>14</td>\n",
              "      <td>4989.04</td>\n",
              "      <td>4</td>\n",
              "      <td>4</td>\n",
              "      <td>4</td>\n",
              "      <td>444</td>\n",
              "    </tr>\n",
              "    <tr>\n",
              "      <th>14156.0</th>\n",
              "      <td>269</td>\n",
              "      <td>10</td>\n",
              "      <td>4963.99</td>\n",
              "      <td>4</td>\n",
              "      <td>4</td>\n",
              "      <td>4</td>\n",
              "      <td>444</td>\n",
              "    </tr>\n",
              "    <tr>\n",
              "      <th>17841.0</th>\n",
              "      <td>266</td>\n",
              "      <td>28</td>\n",
              "      <td>4550.01</td>\n",
              "      <td>4</td>\n",
              "      <td>4</td>\n",
              "      <td>4</td>\n",
              "      <td>444</td>\n",
              "    </tr>\n",
              "    <tr>\n",
              "      <th>12681.0</th>\n",
              "      <td>269</td>\n",
              "      <td>8</td>\n",
              "      <td>4538.75</td>\n",
              "      <td>4</td>\n",
              "      <td>4</td>\n",
              "      <td>4</td>\n",
              "      <td>444</td>\n",
              "    </tr>\n",
              "    <tr>\n",
              "      <th>12748.0</th>\n",
              "      <td>266</td>\n",
              "      <td>48</td>\n",
              "      <td>3736.87</td>\n",
              "      <td>4</td>\n",
              "      <td>4</td>\n",
              "      <td>4</td>\n",
              "      <td>444</td>\n",
              "    </tr>\n",
              "    <tr>\n",
              "      <th>15498.0</th>\n",
              "      <td>277</td>\n",
              "      <td>7</td>\n",
              "      <td>3633.65</td>\n",
              "      <td>4</td>\n",
              "      <td>4</td>\n",
              "      <td>4</td>\n",
              "      <td>444</td>\n",
              "    </tr>\n",
              "  </tbody>\n",
              "</table>\n",
              "</div>"
            ],
            "text/plain": [
              "            Recency  Frequency_of_customer  ...  M_Quartile  RFMScore\n",
              "CustomerID                                  ...                      \n",
              "14911.0         264                     32  ...           4       444\n",
              "13089.0         268                     22  ...           4       444\n",
              "15311.0         270                     31  ...           4       444\n",
              "14298.0         267                     15  ...           4       444\n",
              "15039.0         270                     14  ...           4       444\n",
              "14156.0         269                     10  ...           4       444\n",
              "17841.0         266                     28  ...           4       444\n",
              "12681.0         269                      8  ...           4       444\n",
              "12748.0         266                     48  ...           4       444\n",
              "15498.0         277                      7  ...           4       444\n",
              "\n",
              "[10 rows x 7 columns]"
            ]
          },
          "metadata": {
            "tags": []
          },
          "execution_count": 149
        }
      ]
    },
    {
      "cell_type": "code",
      "metadata": {
        "id": "MnvHoAWi8X2p",
        "outputId": "c255e518-18a1-406e-f355-e57e08f387f0",
        "colab": {
          "base_uri": "https://localhost:8080/"
        }
      },
      "source": [
        "print(\"Best Customers: \",len(rfm_seg[rfm_seg['RFMScore']=='444']))\n",
        "print('Loyal Customers: ',len(rfm_seg[rfm_seg['F_Quartile']==4]))\n",
        "print(\"Big Spenders: \",len(rfm_seg[rfm_seg['M_Quartile']==4]))\n",
        "print('Almost Lost: ', len(rfm_seg[rfm_seg['RFMScore']=='244']))\n",
        "print('Lost Customers: ',len(rfm_seg[rfm_seg['RFMScore']=='144']))\n",
        "print('Lost Cheap Customers: ',len(rfm_seg[rfm_seg['RFMScore']=='111']))"
      ],
      "execution_count": 150,
      "outputs": [
        {
          "output_type": "stream",
          "text": [
            "Best Customers:  156\n",
            "Loyal Customers:  394\n",
            "Big Spenders:  471\n",
            "Almost Lost:  33\n",
            "Lost Customers:  11\n",
            "Lost Cheap Customers:  159\n"
          ],
          "name": "stdout"
        }
      ]
    },
    {
      "cell_type": "code",
      "metadata": {
        "id": "31pCt8oh9ETl",
        "outputId": "6a10ab41-81a4-4628-d7c7-d2c26bddfcdf",
        "colab": {
          "base_uri": "https://localhost:8080/",
          "height": 427
        }
      },
      "source": [
        "type_of_customers = ['Best Customers', 'Loyal Customers', 'Big Spenders', 'Almost Lost', 'Lost Customers', 'Lost Cheap Customers']\n",
        "data = [len(rfm_seg[rfm_seg['RFMScore']=='444']), len(rfm_seg[rfm_seg['F_Quartile']==4]), len(rfm_seg[rfm_seg['M_Quartile']==4]), len(rfm_seg[rfm_seg['RFMScore']=='244']), len(rfm_seg[rfm_seg['RFMScore']=='144']), len(rfm_seg[rfm_seg['RFMScore']=='111'])]\n",
        "fig = plt.figure(figsize=(10, 7))\n",
        "plt.pie(data, labels = type_of_customers)\n",
        "plt.title('Different Categories of Customers')\n",
        "plt.show()"
      ],
      "execution_count": 159,
      "outputs": [
        {
          "output_type": "display_data",
          "data": {
            "image/png": "[encoded data removed]",
            "text/plain": [
              "<Figure size 720x504 with 1 Axes>"
            ]
          },
          "metadata": {
            "tags": []
          }
        }
      ]
    },
    {
      "cell_type": "code",
      "metadata": {
        "id": "8wolpMHQsE7N",
        "outputId": "3626e6c2-0512-4881-a937-97a87d9f5544",
        "colab": {
          "base_uri": "https://localhost:8080/",
          "height": 458
        }
      },
      "source": [
        "type_of_customers = ['Best Customers', 'Loyal Customers', 'Big Spenders', 'Almost Lost', 'Lost Customers', 'Lost Cheap Customers']\n",
        "data = [len(rfm_seg[rfm_seg['RFMScore']=='444']), len(rfm_seg[rfm_seg['F_Quartile']==4]), len(rfm_seg[rfm_seg['M_Quartile']==4]), len(rfm_seg[rfm_seg['RFMScore']=='244']), len(rfm_seg[rfm_seg['RFMScore']=='144']), len(rfm_seg[rfm_seg['RFMScore']=='111'])]\n",
        "fig = plt.figure(figsize=(10, 7))\n",
        "plt.bar(type_of_customers, data, width = 0.4)\n",
        "plt.xlabel('Type of customers')\n",
        "plt.ylabel('Number of customers')\n",
        "plt.title('Different Categories of Customers')\n",
        "plt.show()"
      ],
      "execution_count": 158,
      "outputs": [
        {
          "output_type": "display_data",
          "data": {
            "image/png": "[encoded data removed]",
            "text/plain": [
              "<Figure size 720x504 with 1 Axes>"
            ]
          },
          "metadata": {
            "tags": [],
            "needs_background": "light"
          }
        }
      ]
    },
    {
      "cell_type": "markdown",
      "metadata": {
        "id": "dEjJ34Nu6tzC"
      },
      "source": [
        "Now we have segmented our customers into categories. We need to choose strategies to deal with each category. For instance,\n",
        "\n",
        "Best Customers: We reward them by allowing earlier access to new products. Suggest them to \"Refer a friend\".\n",
        "\n",
        "At Risk: Send personalized emails and discounts to encourage them to shop."
      ]
    }
  ]
}