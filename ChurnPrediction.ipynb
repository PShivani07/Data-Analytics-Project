{
  "nbformat": 4,
  "nbformat_minor": 0,
  "metadata": {
    "colab": {
      "name": "ChurnPrediction.ipynb",
      "provenance": [],
      "collapsed_sections": [
        "j8lNbjVdf_Qi",
        "fSGiNKntgMvj",
        "kxt6FIfffxsp",
        "_Cgo2yJ_wbTo",
        "jqxsP56NaHcg",
        "1Xg7Hfyh_XwM",
        "WIOv_TP3DMs8",
        "o91nk9l-MdbJ"
      ]
    },
    "kernelspec": {
      "name": "python3",
      "display_name": "Python 3"
    }
  },
  "cells": [
    {
      "cell_type": "markdown",
      "metadata": {
        "id": "PfEalNUUa60H"
      },
      "source": [
        "# <font color=\"purple\">**Churn prediction and Item recommendation on online retail dataset**</font>\n",
        "\n",
        "## **Problem Statement**:\n",
        "\n",
        "Given a transactional dataset, tasks to perform : <font color=\"blue\">Exploratory Data Analysis (EDA), Data pre-processing, Customer Segmentation, User profiling, Item recommendation for each users and churn prediction</font>"
      ]
    },
    {
      "cell_type": "markdown",
      "metadata": {
        "id": "j8lNbjVdf_Qi"
      },
      "source": [
        "# <font color=\"blue\">**Exploratory Data Analysis (EDA)**</font>"
      ]
    },
    {
      "cell_type": "code",
      "metadata": {
        "id": "xZC3XxrZXGvm"
      },
      "source": [
        "# Importing the required libraries\n",
        "import numpy as np\n",
        "import pandas as pd\n",
        "import matplotlib.pyplot as plt"
      ],
      "execution_count": 1,
      "outputs": []
    },
    {
      "cell_type": "code",
      "metadata": {
        "id": "IuM6XB3LcsJY",
        "outputId": "b4475d35-3d80-4d39-c01c-0949cb008d19",
        "colab": {
          "base_uri": "https://localhost:8080/",
          "height": 0
        }
      },
      "source": [
        "# Read the csv file into dataframe\n",
        "dataset = pd.read_csv('data.csv', encoding='unicode_escape')\n",
        "dataset.head(10) "
      ],
      "execution_count": 2,
      "outputs": [
        {
          "output_type": "execute_result",
          "data": {
            "text/html": [
              "<div>\n",
              "<style scoped>\n",
              "    .dataframe tbody tr th:only-of-type {\n",
              "        vertical-align: middle;\n",
              "    }\n",
              "\n",
              "    .dataframe tbody tr th {\n",
              "        vertical-align: top;\n",
              "    }\n",
              "\n",
              "    .dataframe thead th {\n",
              "        text-align: right;\n",
              "    }\n",
              "</style>\n",
              "<table border=\"1\" class=\"dataframe\">\n",
              "  <thead>\n",
              "    <tr style=\"text-align: right;\">\n",
              "      <th></th>\n",
              "      <th>InvoiceNo</th>\n",
              "      <th>StockCode</th>\n",
              "      <th>Description</th>\n",
              "      <th>Quantity</th>\n",
              "      <th>InvoiceDate</th>\n",
              "      <th>UnitPrice</th>\n",
              "      <th>CustomerID</th>\n",
              "      <th>Country</th>\n",
              "    </tr>\n",
              "  </thead>\n",
              "  <tbody>\n",
              "    <tr>\n",
              "      <th>0</th>\n",
              "      <td>536365</td>\n",
              "      <td>85123A</td>\n",
              "      <td>WHITE HANGING HEART T-LIGHT HOLDER</td>\n",
              "      <td>6.0</td>\n",
              "      <td>12/1/2010 8:26</td>\n",
              "      <td>2.55</td>\n",
              "      <td>17850.0</td>\n",
              "      <td>United Kingdom</td>\n",
              "    </tr>\n",
              "    <tr>\n",
              "      <th>1</th>\n",
              "      <td>536365</td>\n",
              "      <td>71053</td>\n",
              "      <td>WHITE METAL LANTERN</td>\n",
              "      <td>6.0</td>\n",
              "      <td>12/1/2010 8:26</td>\n",
              "      <td>3.39</td>\n",
              "      <td>17850.0</td>\n",
              "      <td>United Kingdom</td>\n",
              "    </tr>\n",
              "    <tr>\n",
              "      <th>2</th>\n",
              "      <td>536365</td>\n",
              "      <td>84406B</td>\n",
              "      <td>CREAM CUPID HEARTS COAT HANGER</td>\n",
              "      <td>8.0</td>\n",
              "      <td>12/1/2010 8:26</td>\n",
              "      <td>2.75</td>\n",
              "      <td>17850.0</td>\n",
              "      <td>United Kingdom</td>\n",
              "    </tr>\n",
              "    <tr>\n",
              "      <th>3</th>\n",
              "      <td>536365</td>\n",
              "      <td>84029G</td>\n",
              "      <td>KNITTED UNION FLAG HOT WATER BOTTLE</td>\n",
              "      <td>6.0</td>\n",
              "      <td>12/1/2010 8:26</td>\n",
              "      <td>3.39</td>\n",
              "      <td>17850.0</td>\n",
              "      <td>United Kingdom</td>\n",
              "    </tr>\n",
              "    <tr>\n",
              "      <th>4</th>\n",
              "      <td>536365</td>\n",
              "      <td>84029E</td>\n",
              "      <td>RED WOOLLY HOTTIE WHITE HEART.</td>\n",
              "      <td>6.0</td>\n",
              "      <td>12/1/2010 8:26</td>\n",
              "      <td>3.39</td>\n",
              "      <td>17850.0</td>\n",
              "      <td>United Kingdom</td>\n",
              "    </tr>\n",
              "    <tr>\n",
              "      <th>5</th>\n",
              "      <td>536365</td>\n",
              "      <td>22752</td>\n",
              "      <td>SET 7 BABUSHKA NESTING BOXES</td>\n",
              "      <td>2.0</td>\n",
              "      <td>12/1/2010 8:26</td>\n",
              "      <td>7.65</td>\n",
              "      <td>17850.0</td>\n",
              "      <td>United Kingdom</td>\n",
              "    </tr>\n",
              "    <tr>\n",
              "      <th>6</th>\n",
              "      <td>536365</td>\n",
              "      <td>21730</td>\n",
              "      <td>GLASS STAR FROSTED T-LIGHT HOLDER</td>\n",
              "      <td>6.0</td>\n",
              "      <td>12/1/2010 8:26</td>\n",
              "      <td>4.25</td>\n",
              "      <td>17850.0</td>\n",
              "      <td>United Kingdom</td>\n",
              "    </tr>\n",
              "    <tr>\n",
              "      <th>7</th>\n",
              "      <td>536366</td>\n",
              "      <td>22633</td>\n",
              "      <td>HAND WARMER UNION JACK</td>\n",
              "      <td>6.0</td>\n",
              "      <td>12/1/2010 8:28</td>\n",
              "      <td>1.85</td>\n",
              "      <td>17850.0</td>\n",
              "      <td>United Kingdom</td>\n",
              "    </tr>\n",
              "    <tr>\n",
              "      <th>8</th>\n",
              "      <td>536366</td>\n",
              "      <td>22632</td>\n",
              "      <td>HAND WARMER RED POLKA DOT</td>\n",
              "      <td>6.0</td>\n",
              "      <td>12/1/2010 8:28</td>\n",
              "      <td>1.85</td>\n",
              "      <td>17850.0</td>\n",
              "      <td>United Kingdom</td>\n",
              "    </tr>\n",
              "    <tr>\n",
              "      <th>9</th>\n",
              "      <td>536367</td>\n",
              "      <td>84879</td>\n",
              "      <td>ASSORTED COLOUR BIRD ORNAMENT</td>\n",
              "      <td>32.0</td>\n",
              "      <td>12/1/2010 8:34</td>\n",
              "      <td>1.69</td>\n",
              "      <td>13047.0</td>\n",
              "      <td>United Kingdom</td>\n",
              "    </tr>\n",
              "  </tbody>\n",
              "</table>\n",
              "</div>"
            ],
            "text/plain": [
              "  InvoiceNo StockCode  ... CustomerID         Country\n",
              "0    536365    85123A  ...    17850.0  United Kingdom\n",
              "1    536365     71053  ...    17850.0  United Kingdom\n",
              "2    536365    84406B  ...    17850.0  United Kingdom\n",
              "3    536365    84029G  ...    17850.0  United Kingdom\n",
              "4    536365    84029E  ...    17850.0  United Kingdom\n",
              "5    536365     22752  ...    17850.0  United Kingdom\n",
              "6    536365     21730  ...    17850.0  United Kingdom\n",
              "7    536366     22633  ...    17850.0  United Kingdom\n",
              "8    536366     22632  ...    17850.0  United Kingdom\n",
              "9    536367     84879  ...    13047.0  United Kingdom\n",
              "\n",
              "[10 rows x 8 columns]"
            ]
          },
          "metadata": {
            "tags": []
          },
          "execution_count": 2
        }
      ]
    },
    {
      "cell_type": "code",
      "metadata": {
        "id": "2K8DfkC6c98T",
        "outputId": "431894bd-242c-43f6-a8f3-b512605fcfdc",
        "colab": {
          "base_uri": "https://localhost:8080/"
        }
      },
      "source": [
        "# Exploring number of observations and attributes\n",
        "dataset.shape"
      ],
      "execution_count": 3,
      "outputs": [
        {
          "output_type": "execute_result",
          "data": {
            "text/plain": [
              "(152258, 8)"
            ]
          },
          "metadata": {
            "tags": []
          },
          "execution_count": 3
        }
      ]
    },
    {
      "cell_type": "code",
      "metadata": {
        "id": "Za19FRgjdp9v",
        "outputId": "3aa4e10c-18c3-4632-9bf5-abf67e1e4540",
        "colab": {
          "base_uri": "https://localhost:8080/"
        }
      },
      "source": [
        "# Exploring names of the attributes\n",
        "dataset.columns"
      ],
      "execution_count": 4,
      "outputs": [
        {
          "output_type": "execute_result",
          "data": {
            "text/plain": [
              "Index(['InvoiceNo', 'StockCode', 'Description', 'Quantity', 'InvoiceDate',\n",
              "       'UnitPrice', 'CustomerID', 'Country'],\n",
              "      dtype='object')"
            ]
          },
          "metadata": {
            "tags": []
          },
          "execution_count": 4
        }
      ]
    },
    {
      "cell_type": "code",
      "metadata": {
        "id": "oj0xyHjNdrNa",
        "outputId": "937606fd-019b-4a9d-fec4-d56bfa4cd42e",
        "colab": {
          "base_uri": "https://localhost:8080/"
        }
      },
      "source": [
        "# Exploring the types of the attributes\n",
        "dataset.dtypes"
      ],
      "execution_count": 5,
      "outputs": [
        {
          "output_type": "execute_result",
          "data": {
            "text/plain": [
              "InvoiceNo       object\n",
              "StockCode       object\n",
              "Description     object\n",
              "Quantity       float64\n",
              "InvoiceDate     object\n",
              "UnitPrice      float64\n",
              "CustomerID     float64\n",
              "Country         object\n",
              "dtype: object"
            ]
          },
          "metadata": {
            "tags": []
          },
          "execution_count": 5
        }
      ]
    },
    {
      "cell_type": "code",
      "metadata": {
        "id": "nXEe_JDKdtJd",
        "outputId": "63385d7b-c2e2-4980-d67f-309f61049799",
        "colab": {
          "base_uri": "https://localhost:8080/",
          "height": 0
        }
      },
      "source": [
        "# Exploring the statistics of the numerical attributes\n",
        "dataset.describe()"
      ],
      "execution_count": 6,
      "outputs": [
        {
          "output_type": "execute_result",
          "data": {
            "text/html": [
              "<div>\n",
              "<style scoped>\n",
              "    .dataframe tbody tr th:only-of-type {\n",
              "        vertical-align: middle;\n",
              "    }\n",
              "\n",
              "    .dataframe tbody tr th {\n",
              "        vertical-align: top;\n",
              "    }\n",
              "\n",
              "    .dataframe thead th {\n",
              "        text-align: right;\n",
              "    }\n",
              "</style>\n",
              "<table border=\"1\" class=\"dataframe\">\n",
              "  <thead>\n",
              "    <tr style=\"text-align: right;\">\n",
              "      <th></th>\n",
              "      <th>Quantity</th>\n",
              "      <th>UnitPrice</th>\n",
              "      <th>CustomerID</th>\n",
              "    </tr>\n",
              "  </thead>\n",
              "  <tbody>\n",
              "    <tr>\n",
              "      <th>count</th>\n",
              "      <td>152257.000000</td>\n",
              "      <td>152257.000000</td>\n",
              "      <td>105382.000000</td>\n",
              "    </tr>\n",
              "    <tr>\n",
              "      <th>mean</th>\n",
              "      <td>8.988368</td>\n",
              "      <td>5.154434</td>\n",
              "      <td>15289.224441</td>\n",
              "    </tr>\n",
              "    <tr>\n",
              "      <th>std</th>\n",
              "      <td>274.313066</td>\n",
              "      <td>102.117819</td>\n",
              "      <td>1733.504703</td>\n",
              "    </tr>\n",
              "    <tr>\n",
              "      <th>min</th>\n",
              "      <td>-74215.000000</td>\n",
              "      <td>0.000000</td>\n",
              "      <td>12346.000000</td>\n",
              "    </tr>\n",
              "    <tr>\n",
              "      <th>25%</th>\n",
              "      <td>1.000000</td>\n",
              "      <td>1.250000</td>\n",
              "      <td>13854.000000</td>\n",
              "    </tr>\n",
              "    <tr>\n",
              "      <th>50%</th>\n",
              "      <td>3.000000</td>\n",
              "      <td>2.460000</td>\n",
              "      <td>15189.000000</td>\n",
              "    </tr>\n",
              "    <tr>\n",
              "      <th>75%</th>\n",
              "      <td>10.000000</td>\n",
              "      <td>4.210000</td>\n",
              "      <td>16873.000000</td>\n",
              "    </tr>\n",
              "    <tr>\n",
              "      <th>max</th>\n",
              "      <td>74215.000000</td>\n",
              "      <td>16888.020000</td>\n",
              "      <td>18283.000000</td>\n",
              "    </tr>\n",
              "  </tbody>\n",
              "</table>\n",
              "</div>"
            ],
            "text/plain": [
              "            Quantity      UnitPrice     CustomerID\n",
              "count  152257.000000  152257.000000  105382.000000\n",
              "mean        8.988368       5.154434   15289.224441\n",
              "std       274.313066     102.117819    1733.504703\n",
              "min    -74215.000000       0.000000   12346.000000\n",
              "25%         1.000000       1.250000   13854.000000\n",
              "50%         3.000000       2.460000   15189.000000\n",
              "75%        10.000000       4.210000   16873.000000\n",
              "max     74215.000000   16888.020000   18283.000000"
            ]
          },
          "metadata": {
            "tags": []
          },
          "execution_count": 6
        }
      ]
    },
    {
      "cell_type": "markdown",
      "metadata": {
        "id": "fSGiNKntgMvj"
      },
      "source": [
        "# <font color=\"blue\">**Data Pre-Processing**</font>"
      ]
    },
    {
      "cell_type": "markdown",
      "metadata": {
        "id": "kxt6FIfffxsp"
      },
      "source": [
        "## **Imputation**"
      ]
    },
    {
      "cell_type": "code",
      "metadata": {
        "id": "rb1jRfMddv4z",
        "outputId": "ad1c5223-eef9-49c7-cab5-bb02d311971b",
        "colab": {
          "base_uri": "https://localhost:8080/"
        }
      },
      "source": [
        "# calculating number of missing values in each of the attributes\n",
        "dataset.isnull().sum()"
      ],
      "execution_count": 7,
      "outputs": [
        {
          "output_type": "execute_result",
          "data": {
            "text/plain": [
              "InvoiceNo          0\n",
              "StockCode          0\n",
              "Description      624\n",
              "Quantity           1\n",
              "InvoiceDate        1\n",
              "UnitPrice          1\n",
              "CustomerID     46876\n",
              "Country            1\n",
              "dtype: int64"
            ]
          },
          "metadata": {
            "tags": []
          },
          "execution_count": 7
        }
      ]
    },
    {
      "cell_type": "code",
      "metadata": {
        "id": "-mnk3lzkg4wZ"
      },
      "source": [
        "# threshold to drop the observations if the proportion of null values is more than the threshold.\n",
        "threshold = 0.4"
      ],
      "execution_count": 8,
      "outputs": []
    },
    {
      "cell_type": "code",
      "metadata": {
        "id": "ipXb0e6Wh-GO",
        "outputId": "7b957a51-52dc-4fea-a3ca-f715c29c6683",
        "colab": {
          "base_uri": "https://localhost:8080/"
        }
      },
      "source": [
        "# proportion of null values in description attribute\n",
        "dataset['Description'].isnull().sum() / dataset.shape[0]"
      ],
      "execution_count": 9,
      "outputs": [
        {
          "output_type": "execute_result",
          "data": {
            "text/plain": [
              "0.00409830682131645"
            ]
          },
          "metadata": {
            "tags": []
          },
          "execution_count": 9
        }
      ]
    },
    {
      "cell_type": "markdown",
      "metadata": {
        "id": "KTtDHH5jincQ"
      },
      "source": [
        "The proportion of null values in `Description` attribute is less than the `threshold`, hence safe to drop the observations with null values."
      ]
    },
    {
      "cell_type": "code",
      "metadata": {
        "id": "_MBxBRbcikVw"
      },
      "source": [
        "# Dropping the observations with null values for Description attribute\n",
        "dataset.dropna(subset=['Description'], inplace=True)"
      ],
      "execution_count": 10,
      "outputs": []
    },
    {
      "cell_type": "code",
      "metadata": {
        "id": "q_aRPYq6i__k",
        "outputId": "c57a2a27-7776-43db-854a-9bbdf8c5be40",
        "colab": {
          "base_uri": "https://localhost:8080/"
        }
      },
      "source": [
        "# Validation of the dropped observations with null values for Description attribute\n",
        "dataset['Description'].isnull().sum()"
      ],
      "execution_count": 11,
      "outputs": [
        {
          "output_type": "execute_result",
          "data": {
            "text/plain": [
              "0"
            ]
          },
          "metadata": {
            "tags": []
          },
          "execution_count": 11
        }
      ]
    },
    {
      "cell_type": "code",
      "metadata": {
        "id": "ZVVlRvCmjYNP",
        "outputId": "f8fd8cda-787d-466e-dbe3-711762b80083",
        "colab": {
          "base_uri": "https://localhost:8080/"
        }
      },
      "source": [
        "# proportion of null values in CustomerID attribute\n",
        "dataset['CustomerID'].isnull().sum() / dataset.shape[0]"
      ],
      "execution_count": 12,
      "outputs": [
        {
          "output_type": "execute_result",
          "data": {
            "text/plain": [
              "0.3050239392220742"
            ]
          },
          "metadata": {
            "tags": []
          },
          "execution_count": 12
        }
      ]
    },
    {
      "cell_type": "markdown",
      "metadata": {
        "id": "ZmQSIsLIjse_"
      },
      "source": [
        "The proportion of null values in `CustomerID` attribute is less than the `threshold`, hence safe to drop the observations with null values.\n"
      ]
    },
    {
      "cell_type": "code",
      "metadata": {
        "id": "MU0mru4Qjoy_"
      },
      "source": [
        "# Dropping the observations with null values for customerID attribute\n",
        "dataset.dropna(subset=['CustomerID'], inplace=True)"
      ],
      "execution_count": 13,
      "outputs": []
    },
    {
      "cell_type": "code",
      "metadata": {
        "id": "L0y5xBmVnJSG",
        "outputId": "5af37251-529a-4742-e2b3-b46b5c2a9fdf",
        "colab": {
          "base_uri": "https://localhost:8080/"
        }
      },
      "source": [
        "# Validation of the dropped observations with null values for CustomerID attribute\n",
        "dataset['CustomerID'].isnull().sum()"
      ],
      "execution_count": 14,
      "outputs": [
        {
          "output_type": "execute_result",
          "data": {
            "text/plain": [
              "0"
            ]
          },
          "metadata": {
            "tags": []
          },
          "execution_count": 14
        }
      ]
    },
    {
      "cell_type": "code",
      "metadata": {
        "id": "bmIW_UeknUEH",
        "outputId": "53a997ef-b53d-46ad-9d41-6133b7159895",
        "colab": {
          "base_uri": "https://localhost:8080/"
        }
      },
      "source": [
        "# New shape of the dataset after dropping the observation with null values\n",
        "dataset.shape"
      ],
      "execution_count": 15,
      "outputs": [
        {
          "output_type": "execute_result",
          "data": {
            "text/plain": [
              "(105382, 8)"
            ]
          },
          "metadata": {
            "tags": []
          },
          "execution_count": 15
        }
      ]
    },
    {
      "cell_type": "code",
      "metadata": {
        "id": "GDY5SKQQngtg",
        "outputId": "f3263d65-17a4-4508-c471-b899bcfb9e31",
        "colab": {
          "base_uri": "https://localhost:8080/"
        }
      },
      "source": [
        "# No attribute with null values\n",
        "dataset.isnull().sum()"
      ],
      "execution_count": 16,
      "outputs": [
        {
          "output_type": "execute_result",
          "data": {
            "text/plain": [
              "InvoiceNo      0\n",
              "StockCode      0\n",
              "Description    0\n",
              "Quantity       0\n",
              "InvoiceDate    0\n",
              "UnitPrice      0\n",
              "CustomerID     0\n",
              "Country        0\n",
              "dtype: int64"
            ]
          },
          "metadata": {
            "tags": []
          },
          "execution_count": 16
        }
      ]
    },
    {
      "cell_type": "markdown",
      "metadata": {
        "id": "NMbbcgoznrSj"
      },
      "source": [
        "## **Binning**"
      ]
    },
    {
      "cell_type": "code",
      "metadata": {
        "id": "M7gx3K6bnoNr",
        "outputId": "de550718-560c-432b-d9c3-2683c68dcbdc",
        "colab": {
          "base_uri": "https://localhost:8080/"
        }
      },
      "source": [
        "# Obtaining the classes of Country categorical attribute \n",
        "dataset['Country'].unique()"
      ],
      "execution_count": 17,
      "outputs": [
        {
          "output_type": "execute_result",
          "data": {
            "text/plain": [
              "array(['United Kingdom', 'France', 'Australia', 'Netherlands', 'Germany',\n",
              "       'Norway', 'EIRE', 'Switzerland', 'Spain', 'Poland', 'Portugal',\n",
              "       'Italy', 'Belgium', 'Lithuania', 'Japan', 'Iceland',\n",
              "       'Channel Islands', 'Denmark', 'Cyprus', 'Sweden', 'Austria',\n",
              "       'Israel', 'Finland', 'Greece', 'Singapore', 'Lebanon',\n",
              "       'United Arab Emirates', 'Saudi Arabia', 'Czech Republic', 'Canada'],\n",
              "      dtype=object)"
            ]
          },
          "metadata": {
            "tags": []
          },
          "execution_count": 17
        }
      ]
    },
    {
      "cell_type": "code",
      "metadata": {
        "id": "nILrcmxyn6kL",
        "outputId": "2dd21647-a7b0-46e3-9309-8be096cd3283",
        "colab": {
          "base_uri": "https://localhost:8080/"
        }
      },
      "source": [
        "# Obtaining the counts of each class of Country attribute\n",
        "dataset['Country'].value_counts()"
      ],
      "execution_count": 18,
      "outputs": [
        {
          "output_type": "execute_result",
          "data": {
            "text/plain": [
              "United Kingdom          93698\n",
              "Germany                  2486\n",
              "France                   2158\n",
              "EIRE                     1635\n",
              "Spain                     764\n",
              "Netherlands               696\n",
              "Belgium                   491\n",
              "Portugal                  434\n",
              "Australia                 382\n",
              "Switzerland               371\n",
              "Cyprus                    304\n",
              "Italy                     268\n",
              "Finland                   264\n",
              "Channel Islands           241\n",
              "Norway                    212\n",
              "Japan                     211\n",
              "Singapore                 118\n",
              "Sweden                    110\n",
              "Poland                     98\n",
              "Greece                     85\n",
              "Iceland                    84\n",
              "Denmark                    59\n",
              "Austria                    48\n",
              "Lebanon                    45\n",
              "Lithuania                  35\n",
              "United Arab Emirates       30\n",
              "Israel                     18\n",
              "Czech Republic             17\n",
              "Canada                     10\n",
              "Saudi Arabia               10\n",
              "Name: Country, dtype: int64"
            ]
          },
          "metadata": {
            "tags": []
          },
          "execution_count": 18
        }
      ]
    },
    {
      "cell_type": "markdown",
      "metadata": {
        "id": "immcLne2oQ0n"
      },
      "source": [
        "Replacing the `Country` name class with `others` whose frequency is less than 100"
      ]
    },
    {
      "cell_type": "code",
      "metadata": {
        "id": "3Dpp0mxwoMwC"
      },
      "source": [
        "dataset['Country'] = dataset['Country'].replace(['United Arab Emirates', 'European Community', 'RSA', 'Lebanon', 'Lithuania', 'Brazil', 'Czech Republic', 'Bahrain', 'Saudi Arabia'], 'Others')"
      ],
      "execution_count": 19,
      "outputs": []
    },
    {
      "cell_type": "code",
      "metadata": {
        "id": "GDw2pkFdpJoM",
        "outputId": "23007a9b-f587-45a2-fe7e-fa0efc45c298",
        "colab": {
          "base_uri": "https://localhost:8080/"
        }
      },
      "source": [
        "# Obtaining the new counts of each class of Country attribute\n",
        "dataset['Country'].value_counts()"
      ],
      "execution_count": 20,
      "outputs": [
        {
          "output_type": "execute_result",
          "data": {
            "text/plain": [
              "United Kingdom     93698\n",
              "Germany             2486\n",
              "France              2158\n",
              "EIRE                1635\n",
              "Spain                764\n",
              "Netherlands          696\n",
              "Belgium              491\n",
              "Portugal             434\n",
              "Australia            382\n",
              "Switzerland          371\n",
              "Cyprus               304\n",
              "Italy                268\n",
              "Finland              264\n",
              "Channel Islands      241\n",
              "Norway               212\n",
              "Japan                211\n",
              "Others               137\n",
              "Singapore            118\n",
              "Sweden               110\n",
              "Poland                98\n",
              "Greece                85\n",
              "Iceland               84\n",
              "Denmark               59\n",
              "Austria               48\n",
              "Israel                18\n",
              "Canada                10\n",
              "Name: Country, dtype: int64"
            ]
          },
          "metadata": {
            "tags": []
          },
          "execution_count": 20
        }
      ]
    },
    {
      "cell_type": "markdown",
      "metadata": {
        "id": "VQUamq38pt1J"
      },
      "source": [
        "## **Removing and handling Outliers**\n",
        "\n",
        "Removing the outlier rows by using InterQuartile range"
      ]
    },
    {
      "cell_type": "code",
      "metadata": {
        "id": "RX5MgJFypTdv",
        "outputId": "bbfd36cf-ed82-452c-de87-d7f8a4bdf61c",
        "colab": {
          "base_uri": "https://localhost:8080/"
        }
      },
      "source": [
        "# Statistical description of Quantity attribute\n",
        "dataset['Quantity'].describe()"
      ],
      "execution_count": 21,
      "outputs": [
        {
          "output_type": "execute_result",
          "data": {
            "text/plain": [
              "count    105382.000000\n",
              "mean         11.974455\n",
              "std         327.829074\n",
              "min      -74215.000000\n",
              "25%           2.000000\n",
              "50%           5.000000\n",
              "75%          12.000000\n",
              "max       74215.000000\n",
              "Name: Quantity, dtype: float64"
            ]
          },
          "metadata": {
            "tags": []
          },
          "execution_count": 21
        }
      ]
    },
    {
      "cell_type": "code",
      "metadata": {
        "id": "zJrkMj5iqNWu",
        "outputId": "72fdc864-8eab-4c6e-c8c6-c2b76a2295e5",
        "colab": {
          "base_uri": "https://localhost:8080/"
        }
      },
      "source": [
        "# Obtaining q1, q3, iqr, upper and lower limits for Quantity attribute\n",
        "a = []\n",
        "a = np.sort(dataset['Quantity'])\n",
        "q1 = np.percentile(a, 25)\n",
        "q3 = np.percentile(a, 75)\n",
        "iqr = q3 - q1\n",
        "upper_lim = q3 + 1.5 * iqr\n",
        "lower_lim = q3 - 1.5 * iqr\n",
        "print(f'upper limit : {upper_lim}\\nlower limit : {lower_lim}')"
      ],
      "execution_count": 22,
      "outputs": [
        {
          "output_type": "stream",
          "text": [
            "upper limit : 27.0\n",
            "lower limit : -3.0\n"
          ],
          "name": "stdout"
        }
      ]
    },
    {
      "cell_type": "code",
      "metadata": {
        "id": "lt8SMkJZq66e"
      },
      "source": [
        "# Removing the outliers by filtering\n",
        "dataset = dataset[(dataset['Quantity'] < upper_lim) & (dataset['Quantity'] > lower_lim)]"
      ],
      "execution_count": 23,
      "outputs": []
    },
    {
      "cell_type": "code",
      "metadata": {
        "id": "o_SQVLRJrtCO",
        "outputId": "5d4e8a09-3a26-4bca-d11e-1ad628026f4c",
        "colab": {
          "base_uri": "https://localhost:8080/"
        }
      },
      "source": [
        "# Statistical description of UnitPrice attribute\n",
        "dataset['UnitPrice'].describe()"
      ],
      "execution_count": 24,
      "outputs": [
        {
          "output_type": "execute_result",
          "data": {
            "text/plain": [
              "count    97706.000000\n",
              "mean         3.618401\n",
              "std         23.321839\n",
              "min          0.000000\n",
              "25%          1.250000\n",
              "50%          2.080000\n",
              "75%          3.750000\n",
              "max       2382.920000\n",
              "Name: UnitPrice, dtype: float64"
            ]
          },
          "metadata": {
            "tags": []
          },
          "execution_count": 24
        }
      ]
    },
    {
      "cell_type": "code",
      "metadata": {
        "id": "t6eUSxlFr8v3",
        "outputId": "2075b893-b53c-481f-d5d3-01e88bb9add3",
        "colab": {
          "base_uri": "https://localhost:8080/"
        }
      },
      "source": [
        "# Obtaining q1, q3, iqr, upper and lower limits for UnitPrice attribute\n",
        "a = []\n",
        "a = np.sort(dataset['UnitPrice'])\n",
        "q1 = np.percentile(a, 25)\n",
        "q3 = np.percentile(a, 75)\n",
        "iqr = q3 - q1\n",
        "upper_lim = q3 + 1.5 * iqr\n",
        "lower_lim = q3 - 1.5 * iqr\n",
        "print(f'upper limit : {upper_lim}\\nlower limit : {lower_lim}')"
      ],
      "execution_count": 25,
      "outputs": [
        {
          "output_type": "stream",
          "text": [
            "upper limit : 7.5\n",
            "lower limit : 0.0\n"
          ],
          "name": "stdout"
        }
      ]
    },
    {
      "cell_type": "code",
      "metadata": {
        "id": "gt01voCOuDIZ"
      },
      "source": [
        "# Removing the outliers by filtering\n",
        "dataset = dataset[(dataset['UnitPrice'] < upper_lim) & (dataset['UnitPrice'] > lower_lim)]"
      ],
      "execution_count": 26,
      "outputs": []
    },
    {
      "cell_type": "code",
      "metadata": {
        "id": "r4jdk3B6uOSm",
        "outputId": "f45975bc-437a-4d06-e2ee-52d1b44c97e3",
        "colab": {
          "base_uri": "https://localhost:8080/"
        }
      },
      "source": [
        "# Obtaining the negative and 0 values of Quantity attribute\n",
        "a = []\n",
        "for i in dataset['Quantity']:\n",
        "  if i <= 0:\n",
        "    a.append(i)\n",
        "\n",
        "print(a)"
      ],
      "execution_count": 27,
      "outputs": [
        {
          "output_type": "stream",
          "text": [
            "[-1.0, -1.0, -2.0, -1.0, -1.0, -1.0, -2.0, -1.0, -1.0, -2.0, -1.0, -2.0, -1.0, -1.0, -1.0, -1.0, -1.0, -2.0, -1.0, -1.0, -1.0, -1.0, -1.0, -1.0, -1.0, -1.0, -2.0, -2.0, -1.0, -1.0, -1.0, -1.0, -1.0, -1.0, -1.0, -1.0, -1.0, -1.0, -1.0, -2.0, -1.0, -1.0, -1.0, -1.0, -1.0, -1.0, -1.0, -1.0, -2.0, -2.0, -1.0, -1.0, -1.0, -1.0, -1.0, -1.0, -1.0, -1.0, -1.0, -1.0, -1.0, -1.0, -1.0, -1.0, -1.0, -1.0, -1.0, -1.0, -1.0, -2.0, -1.0, -1.0, -1.0, -1.0, -1.0, -1.0, -1.0, -2.0, -2.0, -1.0, -1.0, -1.0, -1.0, -1.0, -2.0, -2.0, -1.0, -2.0, -1.0, -1.0, -2.0, -1.0, -1.0, -1.0, -1.0, -1.0, -2.0, -1.0, -1.0, -1.0, -1.0, -1.0, -1.0, -1.0, -1.0, -1.0, -1.0, -1.0, -2.0, -1.0, -1.0, -1.0, -1.0, -1.0, -1.0, -1.0, -1.0, -1.0, -2.0, -2.0, -1.0, -1.0, -2.0, -1.0, -1.0, -1.0, -1.0, -1.0, -1.0, -1.0, -1.0, -1.0, -1.0, -1.0, -1.0, -2.0, -2.0, -1.0, -2.0, -2.0, -1.0, -2.0, -1.0, -2.0, -1.0, -1.0, -1.0, -1.0, -2.0, -1.0, -1.0, -1.0, -2.0, -2.0, -2.0, -1.0, -1.0, -1.0, -1.0, -1.0, -1.0, -1.0, -2.0, -1.0, -1.0, -2.0, -2.0, -1.0, -1.0, -1.0, -1.0, -1.0, -1.0, -2.0, -1.0, -1.0, -1.0, -2.0, -1.0, -2.0, -1.0, -2.0, -1.0, -1.0, -2.0, -1.0, -1.0, -2.0, -1.0, -1.0, -1.0, -1.0, -1.0, -1.0, -1.0, -1.0, -1.0, -1.0, -2.0, -2.0, -1.0, -1.0, -1.0, -1.0, -1.0, -2.0, -1.0, -2.0, -1.0, -1.0, -2.0, -1.0, -1.0, -2.0, -1.0, -1.0, -1.0, -1.0, -1.0, -1.0, -1.0, -1.0, -1.0, -2.0, -1.0, -2.0, -2.0, -1.0, -2.0, -1.0, -1.0, -1.0, -2.0, -1.0, -2.0, -2.0, -2.0, -1.0, -1.0, -2.0, -1.0, -1.0, -1.0, -1.0, -1.0, -1.0, -1.0, -1.0, -2.0, -1.0, -1.0, -1.0, -1.0, -1.0, -1.0, -1.0, -1.0, -1.0, -1.0, -2.0, -1.0, -2.0, -1.0, -1.0, -1.0, -2.0, -2.0, -2.0, -2.0, -2.0, -1.0, -1.0, -1.0, -1.0, -1.0, -1.0, -1.0, -1.0, -1.0, -1.0, -1.0, -1.0, -1.0, -1.0, -1.0, -1.0, -1.0, -1.0, -2.0, -1.0, -1.0, -2.0, -1.0, -1.0, -2.0, -1.0, -1.0, -1.0, -1.0, -2.0, -1.0, -1.0, -1.0, -1.0, -1.0, -1.0, -2.0, -1.0, -1.0, -1.0, -1.0, -1.0, -1.0, -1.0, -2.0, -1.0, -1.0, -2.0, -1.0, -1.0, -1.0, -1.0, -1.0, -2.0, -1.0, -1.0, -2.0, -1.0, -1.0, -1.0, -1.0, -1.0, -1.0, -1.0, -1.0, -1.0, -1.0, -2.0, -1.0, -1.0, -1.0, -1.0, -2.0, -2.0, -2.0, -1.0, -1.0, -1.0, -1.0, -1.0, -1.0, -1.0, -2.0, -2.0, -2.0, -2.0, -1.0, -1.0, -1.0, -1.0, -1.0, -2.0, -2.0, -2.0, -1.0, -1.0, -1.0, -1.0, -1.0, -1.0, -1.0, -1.0, -1.0, -1.0, -1.0, -1.0, -1.0, -1.0, -1.0, -1.0, -2.0, -2.0, -1.0, -1.0, -1.0, -1.0, -1.0, -1.0, -1.0, -1.0, -1.0, -1.0, -1.0, -1.0, -1.0, -2.0, -1.0, -1.0, -2.0, -1.0, -2.0, -2.0, -2.0, -2.0, -1.0, -2.0, -1.0, -1.0, -2.0, -2.0, -1.0, -2.0, -1.0, -1.0, -1.0, -1.0, -1.0, -1.0, -2.0, -1.0, -1.0, -1.0, -1.0, -1.0, -1.0, -2.0, -1.0, -1.0, -1.0, -2.0, -1.0, -2.0, -2.0, -2.0, -1.0, -1.0, -1.0, -2.0, -2.0, -1.0, -2.0, -1.0, -2.0, -2.0, -1.0, -1.0, -1.0, -2.0, -1.0, -1.0, -2.0, -2.0, -1.0, -1.0, -2.0, -1.0, -1.0, -1.0, -2.0, -1.0, -1.0, -1.0, -1.0, -1.0, -1.0, -1.0, -1.0, -2.0, -2.0, -2.0, -1.0, -1.0, -1.0, -2.0, -2.0, -1.0, -1.0, -2.0, -2.0, -2.0, -1.0, -1.0, -2.0, -1.0, -1.0, -1.0, -1.0, -1.0, -2.0, -2.0, -1.0, -1.0, -1.0, -1.0, -2.0, -1.0, -1.0, -1.0, -1.0, -2.0, -2.0, -1.0, -1.0, -1.0, -1.0, -2.0, -2.0, -2.0, -1.0, -1.0, -1.0, -1.0, -2.0, -1.0, -1.0, -1.0, -1.0, -1.0, -1.0, -2.0, -2.0, -1.0, -2.0, -1.0, -1.0, -2.0, -1.0, -2.0, -1.0, -1.0, -2.0, -1.0, -1.0, -1.0, -2.0, -1.0, -1.0, -2.0, -1.0, -1.0, -2.0, -1.0, -1.0, -1.0, -1.0, -1.0, -1.0, -1.0, -1.0, -1.0, -1.0, -1.0, -2.0, -2.0, -1.0, -1.0, -1.0, -1.0, -1.0, -1.0, -2.0, -1.0, -2.0, -1.0, -1.0, -2.0, -2.0, -2.0, -2.0, -2.0, -2.0, -1.0, -2.0, -1.0, -1.0, -2.0, -2.0, -2.0, -1.0, -2.0, -2.0, -2.0, -1.0, -2.0, -2.0, -1.0, -1.0, -2.0, -1.0, -2.0, -1.0, -1.0, -1.0, -1.0, -1.0, -2.0, -2.0, -2.0, -1.0, -1.0, -1.0, -1.0, -1.0, -1.0, -1.0, -1.0, -2.0, -1.0, -1.0, -1.0, -1.0, -1.0, -1.0, -1.0, -1.0, -1.0, -2.0, -1.0, -1.0, -2.0, -1.0, -1.0, -2.0, -1.0, -2.0, -1.0, -1.0, -1.0, -1.0, -1.0, -1.0, -1.0, -2.0, -2.0, -1.0, -1.0, -1.0, -1.0, -2.0, -2.0, -2.0, -1.0, -1.0, -1.0, -1.0, -1.0, -1.0, -1.0, -1.0, -1.0, -1.0, -1.0, -1.0, -1.0, -1.0, -1.0, -1.0, -1.0, -1.0, -2.0, -1.0, -1.0, -2.0, -2.0, -2.0, -2.0, -2.0, -2.0, -2.0, -2.0, -2.0, -1.0, -1.0, -1.0, -1.0, -1.0, -2.0, -1.0, -1.0, -1.0, -1.0, -1.0, -2.0, -1.0, -1.0, -1.0, -1.0, -1.0, -1.0, -1.0, -1.0, -2.0, -2.0, -1.0, -2.0, -1.0, -1.0, -2.0, -2.0, -1.0, -2.0, -1.0, -2.0, -1.0, -1.0, -1.0, -1.0, -1.0, -1.0, -2.0, -1.0, -1.0, -1.0, -2.0, -1.0, -2.0, -1.0, -1.0, -1.0, -1.0, -1.0, -1.0, -2.0, -1.0, -1.0, -1.0, -2.0, -1.0, -1.0, -1.0, -1.0, -1.0, -1.0, -1.0, -1.0, -2.0, -1.0, -1.0, -1.0, -1.0, -1.0, -1.0, -1.0, -2.0, -2.0, -1.0, -1.0, -1.0, -1.0, -1.0, -2.0, -1.0, -1.0, -1.0, -1.0, -2.0, -2.0, -1.0, -2.0, -1.0, -1.0, -1.0, -1.0, -1.0, -1.0, -1.0, -1.0, -1.0, -1.0, -2.0, -1.0, -1.0, -1.0, -2.0, -1.0, -2.0, -1.0, -1.0, -1.0, -1.0, -1.0, -1.0, -2.0, -1.0, -1.0, -1.0, -1.0, -1.0, -1.0, -1.0, -2.0, -1.0, -1.0, -2.0, -2.0, -1.0, -2.0, -1.0, -1.0, -2.0, -1.0, -1.0, -1.0, -1.0, -2.0, -1.0, -1.0, -1.0, -1.0, -1.0, -1.0, -2.0, -1.0, -1.0, -1.0, -1.0, -1.0, -1.0, -1.0, -1.0, -1.0, -1.0, -1.0, -1.0, -1.0, -1.0, -1.0, -1.0, -1.0, -1.0, -1.0, -2.0, -1.0, -2.0, -1.0, -1.0, -1.0, -1.0, -2.0, -1.0, -1.0, -2.0, -1.0, -1.0, -2.0, -2.0, -2.0, -1.0, -1.0, -1.0, -1.0, -2.0, -1.0, -2.0, -1.0, -1.0, -1.0, -1.0, -1.0, -1.0, -1.0, -1.0, -1.0, -2.0, -1.0, -2.0, -1.0, -1.0, -1.0, -1.0, -1.0, -1.0, -1.0, -2.0, -2.0, -1.0, -1.0, -2.0, -2.0, -1.0, -1.0, -1.0, -1.0, -1.0, -1.0, -1.0, -2.0, -1.0, -1.0, -2.0, -2.0, -1.0, -1.0, -1.0, -1.0, -1.0, -1.0, -1.0, -1.0, -2.0, -1.0, -2.0, -1.0, -1.0, -1.0, -2.0, -1.0, -1.0, -1.0, -1.0, -1.0, -1.0, -1.0, -2.0, -1.0, -1.0, -1.0, -1.0, -1.0, -2.0, -1.0, -1.0, -1.0, -1.0, -2.0, -1.0, -1.0, -1.0, -1.0, -1.0, -1.0, -1.0, -1.0, -1.0, -2.0, -2.0, -1.0, -1.0, -2.0, -1.0, -1.0, -1.0, -2.0, -1.0, -1.0, -2.0, -2.0, -1.0, -1.0, -1.0, -1.0, -1.0, -1.0, -2.0, -1.0, -1.0, -1.0, -1.0, -1.0, -1.0, -1.0, -1.0, -2.0, -2.0, -1.0, -1.0, -2.0, -2.0, -1.0, -1.0, -1.0, -1.0, -1.0, -2.0, -1.0, -2.0, -1.0, -1.0, -1.0, -1.0, -2.0, -2.0, -1.0, -1.0, -1.0, -2.0, -2.0, -1.0, -1.0, -1.0, -2.0, -2.0, -2.0, -2.0, -2.0, -1.0, -1.0, -1.0, -1.0, -2.0, -1.0, -1.0, -1.0, -1.0, -1.0, -1.0, -1.0, -1.0, -2.0, -2.0, -1.0, -2.0, -1.0, -1.0, -2.0, -1.0, -1.0, -2.0, -2.0, -1.0, -1.0, -1.0, -2.0, -2.0, -1.0, -1.0, -1.0, -1.0, -1.0, -1.0, -1.0, -1.0, -1.0, -1.0, -1.0, -1.0, -1.0, -2.0, -1.0, -1.0, -1.0, -1.0, -1.0, -1.0, -1.0, -2.0, -2.0, -2.0, -1.0, -1.0, -2.0, -1.0, -2.0, -2.0, -1.0, -1.0, -1.0, -1.0, -1.0, -1.0, -1.0, -2.0, -1.0, -1.0, -1.0, -1.0, -2.0, -1.0, -1.0, -2.0, -1.0]\n"
          ],
          "name": "stdout"
        }
      ]
    },
    {
      "cell_type": "code",
      "metadata": {
        "id": "QBx0h7KAumEp"
      },
      "source": [
        "# Excluding negative quantity and 0 valued observations\n",
        "dataset = dataset[dataset['Quantity'] > 0]"
      ],
      "execution_count": 28,
      "outputs": []
    },
    {
      "cell_type": "code",
      "metadata": {
        "id": "5i1Szs7zpv4M",
        "outputId": "6ce008cb-4d7c-4953-d7a8-1767f571dbb8",
        "colab": {
          "base_uri": "https://localhost:8080/"
        }
      },
      "source": [
        "# Obtaining the negative and 0 values of UnitPrice attribute\n",
        "b = []\n",
        "for i in dataset['UnitPrice']:\n",
        "  if i <= 0:\n",
        "    b.append(i)\n",
        "print(b)"
      ],
      "execution_count": 29,
      "outputs": [
        {
          "output_type": "stream",
          "text": [
            "[]\n"
          ],
          "name": "stdout"
        }
      ]
    },
    {
      "cell_type": "code",
      "metadata": {
        "id": "bkmdUMt2qH4N"
      },
      "source": [
        "# Excluding negative quantity and 0 valued observations\n",
        "dataset = dataset[dataset['UnitPrice'] > 0]"
      ],
      "execution_count": 30,
      "outputs": []
    },
    {
      "cell_type": "code",
      "metadata": {
        "id": "52pwxZE8qR6H",
        "outputId": "c8a82eeb-211d-4aef-b0a0-ef93dbc24519",
        "colab": {
          "base_uri": "https://localhost:8080/"
        }
      },
      "source": [
        "# New shape of the dataset\n",
        "dataset.shape"
      ],
      "execution_count": 31,
      "outputs": [
        {
          "output_type": "execute_result",
          "data": {
            "text/plain": [
              "(86159, 8)"
            ]
          },
          "metadata": {
            "tags": []
          },
          "execution_count": 31
        }
      ]
    },
    {
      "cell_type": "markdown",
      "metadata": {
        "id": "A36NzJd0qcKp"
      },
      "source": [
        "## **Log Transformation**"
      ]
    },
    {
      "cell_type": "code",
      "metadata": {
        "id": "yTJJNvl9qW_A"
      },
      "source": [
        "# Applying log transformation on Quantity and UnitPrice attributes\n",
        "dataset['Log_Transformed_Quantity'] = dataset['Quantity'].transform(np.log1p)\n",
        "dataset['Log_Transformed_UnitPrice'] = dataset['UnitPrice'].transform(np.log1p)"
      ],
      "execution_count": 32,
      "outputs": []
    },
    {
      "cell_type": "code",
      "metadata": {
        "id": "g8_-dKtArKgU",
        "outputId": "f92ca96d-c01e-4938-ac3b-d90104a1d5c4",
        "colab": {
          "base_uri": "https://localhost:8080/",
          "height": 0
        }
      },
      "source": [
        "# Exploring the dataset after transformations\n",
        "dataset.head(10)"
      ],
      "execution_count": 33,
      "outputs": [
        {
          "output_type": "execute_result",
          "data": {
            "text/html": [
              "<div>\n",
              "<style scoped>\n",
              "    .dataframe tbody tr th:only-of-type {\n",
              "        vertical-align: middle;\n",
              "    }\n",
              "\n",
              "    .dataframe tbody tr th {\n",
              "        vertical-align: top;\n",
              "    }\n",
              "\n",
              "    .dataframe thead th {\n",
              "        text-align: right;\n",
              "    }\n",
              "</style>\n",
              "<table border=\"1\" class=\"dataframe\">\n",
              "  <thead>\n",
              "    <tr style=\"text-align: right;\">\n",
              "      <th></th>\n",
              "      <th>InvoiceNo</th>\n",
              "      <th>StockCode</th>\n",
              "      <th>Description</th>\n",
              "      <th>Quantity</th>\n",
              "      <th>InvoiceDate</th>\n",
              "      <th>UnitPrice</th>\n",
              "      <th>CustomerID</th>\n",
              "      <th>Country</th>\n",
              "      <th>Log_Transformed_Quantity</th>\n",
              "      <th>Log_Transformed_UnitPrice</th>\n",
              "    </tr>\n",
              "  </thead>\n",
              "  <tbody>\n",
              "    <tr>\n",
              "      <th>0</th>\n",
              "      <td>536365</td>\n",
              "      <td>85123A</td>\n",
              "      <td>WHITE HANGING HEART T-LIGHT HOLDER</td>\n",
              "      <td>6.0</td>\n",
              "      <td>12/1/2010 8:26</td>\n",
              "      <td>2.55</td>\n",
              "      <td>17850.0</td>\n",
              "      <td>United Kingdom</td>\n",
              "      <td>1.945910</td>\n",
              "      <td>1.266948</td>\n",
              "    </tr>\n",
              "    <tr>\n",
              "      <th>1</th>\n",
              "      <td>536365</td>\n",
              "      <td>71053</td>\n",
              "      <td>WHITE METAL LANTERN</td>\n",
              "      <td>6.0</td>\n",
              "      <td>12/1/2010 8:26</td>\n",
              "      <td>3.39</td>\n",
              "      <td>17850.0</td>\n",
              "      <td>United Kingdom</td>\n",
              "      <td>1.945910</td>\n",
              "      <td>1.479329</td>\n",
              "    </tr>\n",
              "    <tr>\n",
              "      <th>2</th>\n",
              "      <td>536365</td>\n",
              "      <td>84406B</td>\n",
              "      <td>CREAM CUPID HEARTS COAT HANGER</td>\n",
              "      <td>8.0</td>\n",
              "      <td>12/1/2010 8:26</td>\n",
              "      <td>2.75</td>\n",
              "      <td>17850.0</td>\n",
              "      <td>United Kingdom</td>\n",
              "      <td>2.197225</td>\n",
              "      <td>1.321756</td>\n",
              "    </tr>\n",
              "    <tr>\n",
              "      <th>3</th>\n",
              "      <td>536365</td>\n",
              "      <td>84029G</td>\n",
              "      <td>KNITTED UNION FLAG HOT WATER BOTTLE</td>\n",
              "      <td>6.0</td>\n",
              "      <td>12/1/2010 8:26</td>\n",
              "      <td>3.39</td>\n",
              "      <td>17850.0</td>\n",
              "      <td>United Kingdom</td>\n",
              "      <td>1.945910</td>\n",
              "      <td>1.479329</td>\n",
              "    </tr>\n",
              "    <tr>\n",
              "      <th>4</th>\n",
              "      <td>536365</td>\n",
              "      <td>84029E</td>\n",
              "      <td>RED WOOLLY HOTTIE WHITE HEART.</td>\n",
              "      <td>6.0</td>\n",
              "      <td>12/1/2010 8:26</td>\n",
              "      <td>3.39</td>\n",
              "      <td>17850.0</td>\n",
              "      <td>United Kingdom</td>\n",
              "      <td>1.945910</td>\n",
              "      <td>1.479329</td>\n",
              "    </tr>\n",
              "    <tr>\n",
              "      <th>6</th>\n",
              "      <td>536365</td>\n",
              "      <td>21730</td>\n",
              "      <td>GLASS STAR FROSTED T-LIGHT HOLDER</td>\n",
              "      <td>6.0</td>\n",
              "      <td>12/1/2010 8:26</td>\n",
              "      <td>4.25</td>\n",
              "      <td>17850.0</td>\n",
              "      <td>United Kingdom</td>\n",
              "      <td>1.945910</td>\n",
              "      <td>1.658228</td>\n",
              "    </tr>\n",
              "    <tr>\n",
              "      <th>7</th>\n",
              "      <td>536366</td>\n",
              "      <td>22633</td>\n",
              "      <td>HAND WARMER UNION JACK</td>\n",
              "      <td>6.0</td>\n",
              "      <td>12/1/2010 8:28</td>\n",
              "      <td>1.85</td>\n",
              "      <td>17850.0</td>\n",
              "      <td>United Kingdom</td>\n",
              "      <td>1.945910</td>\n",
              "      <td>1.047319</td>\n",
              "    </tr>\n",
              "    <tr>\n",
              "      <th>8</th>\n",
              "      <td>536366</td>\n",
              "      <td>22632</td>\n",
              "      <td>HAND WARMER RED POLKA DOT</td>\n",
              "      <td>6.0</td>\n",
              "      <td>12/1/2010 8:28</td>\n",
              "      <td>1.85</td>\n",
              "      <td>17850.0</td>\n",
              "      <td>United Kingdom</td>\n",
              "      <td>1.945910</td>\n",
              "      <td>1.047319</td>\n",
              "    </tr>\n",
              "    <tr>\n",
              "      <th>10</th>\n",
              "      <td>536367</td>\n",
              "      <td>22745</td>\n",
              "      <td>POPPY'S PLAYHOUSE BEDROOM</td>\n",
              "      <td>6.0</td>\n",
              "      <td>12/1/2010 8:34</td>\n",
              "      <td>2.10</td>\n",
              "      <td>13047.0</td>\n",
              "      <td>United Kingdom</td>\n",
              "      <td>1.945910</td>\n",
              "      <td>1.131402</td>\n",
              "    </tr>\n",
              "    <tr>\n",
              "      <th>11</th>\n",
              "      <td>536367</td>\n",
              "      <td>22748</td>\n",
              "      <td>POPPY'S PLAYHOUSE KITCHEN</td>\n",
              "      <td>6.0</td>\n",
              "      <td>12/1/2010 8:34</td>\n",
              "      <td>2.10</td>\n",
              "      <td>13047.0</td>\n",
              "      <td>United Kingdom</td>\n",
              "      <td>1.945910</td>\n",
              "      <td>1.131402</td>\n",
              "    </tr>\n",
              "  </tbody>\n",
              "</table>\n",
              "</div>"
            ],
            "text/plain": [
              "   InvoiceNo StockCode  ... Log_Transformed_Quantity  Log_Transformed_UnitPrice\n",
              "0     536365    85123A  ...                 1.945910                   1.266948\n",
              "1     536365     71053  ...                 1.945910                   1.479329\n",
              "2     536365    84406B  ...                 2.197225                   1.321756\n",
              "3     536365    84029G  ...                 1.945910                   1.479329\n",
              "4     536365    84029E  ...                 1.945910                   1.479329\n",
              "6     536365     21730  ...                 1.945910                   1.658228\n",
              "7     536366     22633  ...                 1.945910                   1.047319\n",
              "8     536366     22632  ...                 1.945910                   1.047319\n",
              "10    536367     22745  ...                 1.945910                   1.131402\n",
              "11    536367     22748  ...                 1.945910                   1.131402\n",
              "\n",
              "[10 rows x 10 columns]"
            ]
          },
          "metadata": {
            "tags": []
          },
          "execution_count": 33
        }
      ]
    },
    {
      "cell_type": "markdown",
      "metadata": {
        "id": "seWIZgcfrR2c"
      },
      "source": [
        "## **Scaling**"
      ]
    },
    {
      "cell_type": "markdown",
      "metadata": {
        "id": "m2Ta-6NbrfLp"
      },
      "source": [
        "### 1. Normalization"
      ]
    },
    {
      "cell_type": "code",
      "metadata": {
        "id": "HvWfPNdyrPfn"
      },
      "source": [
        "dataset['Normalized_Quantity'] = (dataset['Quantity'] - dataset['Quantity'].min()) / (dataset['Quantity'].max() - dataset['Quantity'].min())\n",
        "\n",
        "dataset['Normalized_UnitPrice'] = (dataset['UnitPrice'] - dataset['UnitPrice'].min()) / (dataset['UnitPrice'].max() - dataset['UnitPrice'].min()) "
      ],
      "execution_count": 34,
      "outputs": []
    },
    {
      "cell_type": "markdown",
      "metadata": {
        "id": "ur_WQKMZsR6s"
      },
      "source": [
        "### 2. Standardization"
      ]
    },
    {
      "cell_type": "code",
      "metadata": {
        "id": "FTFYJsv7sQqH"
      },
      "source": [
        "dataset['Standardized_Quantity'] = (dataset['Quantity'] - dataset['Quantity'].mean()) / dataset['Quantity'].std()\n",
        "\n",
        "dataset['Standardized_UnitPrice'] = (dataset['UnitPrice'] - dataset['UnitPrice'].mean()) / dataset['UnitPrice'].std()"
      ],
      "execution_count": 35,
      "outputs": []
    },
    {
      "cell_type": "code",
      "metadata": {
        "id": "yCiCvxEks0Dy",
        "outputId": "152af741-aeff-41aa-b2da-f5fad7557227",
        "colab": {
          "base_uri": "https://localhost:8080/",
          "height": 0
        }
      },
      "source": [
        "# Exploring the dataset after scaling\n",
        "dataset.head(10)"
      ],
      "execution_count": 36,
      "outputs": [
        {
          "output_type": "execute_result",
          "data": {
            "text/html": [
              "<div>\n",
              "<style scoped>\n",
              "    .dataframe tbody tr th:only-of-type {\n",
              "        vertical-align: middle;\n",
              "    }\n",
              "\n",
              "    .dataframe tbody tr th {\n",
              "        vertical-align: top;\n",
              "    }\n",
              "\n",
              "    .dataframe thead th {\n",
              "        text-align: right;\n",
              "    }\n",
              "</style>\n",
              "<table border=\"1\" class=\"dataframe\">\n",
              "  <thead>\n",
              "    <tr style=\"text-align: right;\">\n",
              "      <th></th>\n",
              "      <th>InvoiceNo</th>\n",
              "      <th>StockCode</th>\n",
              "      <th>Description</th>\n",
              "      <th>Quantity</th>\n",
              "      <th>InvoiceDate</th>\n",
              "      <th>UnitPrice</th>\n",
              "      <th>CustomerID</th>\n",
              "      <th>Country</th>\n",
              "      <th>Log_Transformed_Quantity</th>\n",
              "      <th>Log_Transformed_UnitPrice</th>\n",
              "      <th>Normalized_Quantity</th>\n",
              "      <th>Normalized_UnitPrice</th>\n",
              "      <th>Standardized_Quantity</th>\n",
              "      <th>Standardized_UnitPrice</th>\n",
              "    </tr>\n",
              "  </thead>\n",
              "  <tbody>\n",
              "    <tr>\n",
              "      <th>0</th>\n",
              "      <td>536365</td>\n",
              "      <td>85123A</td>\n",
              "      <td>WHITE HANGING HEART T-LIGHT HOLDER</td>\n",
              "      <td>6.0</td>\n",
              "      <td>12/1/2010 8:26</td>\n",
              "      <td>2.55</td>\n",
              "      <td>17850.0</td>\n",
              "      <td>United Kingdom</td>\n",
              "      <td>1.945910</td>\n",
              "      <td>1.266948</td>\n",
              "      <td>0.20</td>\n",
              "      <td>0.335142</td>\n",
              "      <td>-0.203033</td>\n",
              "      <td>0.196183</td>\n",
              "    </tr>\n",
              "    <tr>\n",
              "      <th>1</th>\n",
              "      <td>536365</td>\n",
              "      <td>71053</td>\n",
              "      <td>WHITE METAL LANTERN</td>\n",
              "      <td>6.0</td>\n",
              "      <td>12/1/2010 8:26</td>\n",
              "      <td>3.39</td>\n",
              "      <td>17850.0</td>\n",
              "      <td>United Kingdom</td>\n",
              "      <td>1.945910</td>\n",
              "      <td>1.479329</td>\n",
              "      <td>0.20</td>\n",
              "      <td>0.449118</td>\n",
              "      <td>-0.203033</td>\n",
              "      <td>0.745232</td>\n",
              "    </tr>\n",
              "    <tr>\n",
              "      <th>2</th>\n",
              "      <td>536365</td>\n",
              "      <td>84406B</td>\n",
              "      <td>CREAM CUPID HEARTS COAT HANGER</td>\n",
              "      <td>8.0</td>\n",
              "      <td>12/1/2010 8:26</td>\n",
              "      <td>2.75</td>\n",
              "      <td>17850.0</td>\n",
              "      <td>United Kingdom</td>\n",
              "      <td>2.197225</td>\n",
              "      <td>1.321756</td>\n",
              "      <td>0.28</td>\n",
              "      <td>0.362280</td>\n",
              "      <td>0.094191</td>\n",
              "      <td>0.326909</td>\n",
              "    </tr>\n",
              "    <tr>\n",
              "      <th>3</th>\n",
              "      <td>536365</td>\n",
              "      <td>84029G</td>\n",
              "      <td>KNITTED UNION FLAG HOT WATER BOTTLE</td>\n",
              "      <td>6.0</td>\n",
              "      <td>12/1/2010 8:26</td>\n",
              "      <td>3.39</td>\n",
              "      <td>17850.0</td>\n",
              "      <td>United Kingdom</td>\n",
              "      <td>1.945910</td>\n",
              "      <td>1.479329</td>\n",
              "      <td>0.20</td>\n",
              "      <td>0.449118</td>\n",
              "      <td>-0.203033</td>\n",
              "      <td>0.745232</td>\n",
              "    </tr>\n",
              "    <tr>\n",
              "      <th>4</th>\n",
              "      <td>536365</td>\n",
              "      <td>84029E</td>\n",
              "      <td>RED WOOLLY HOTTIE WHITE HEART.</td>\n",
              "      <td>6.0</td>\n",
              "      <td>12/1/2010 8:26</td>\n",
              "      <td>3.39</td>\n",
              "      <td>17850.0</td>\n",
              "      <td>United Kingdom</td>\n",
              "      <td>1.945910</td>\n",
              "      <td>1.479329</td>\n",
              "      <td>0.20</td>\n",
              "      <td>0.449118</td>\n",
              "      <td>-0.203033</td>\n",
              "      <td>0.745232</td>\n",
              "    </tr>\n",
              "    <tr>\n",
              "      <th>6</th>\n",
              "      <td>536365</td>\n",
              "      <td>21730</td>\n",
              "      <td>GLASS STAR FROSTED T-LIGHT HOLDER</td>\n",
              "      <td>6.0</td>\n",
              "      <td>12/1/2010 8:26</td>\n",
              "      <td>4.25</td>\n",
              "      <td>17850.0</td>\n",
              "      <td>United Kingdom</td>\n",
              "      <td>1.945910</td>\n",
              "      <td>1.658228</td>\n",
              "      <td>0.20</td>\n",
              "      <td>0.565807</td>\n",
              "      <td>-0.203033</td>\n",
              "      <td>1.307353</td>\n",
              "    </tr>\n",
              "    <tr>\n",
              "      <th>7</th>\n",
              "      <td>536366</td>\n",
              "      <td>22633</td>\n",
              "      <td>HAND WARMER UNION JACK</td>\n",
              "      <td>6.0</td>\n",
              "      <td>12/1/2010 8:28</td>\n",
              "      <td>1.85</td>\n",
              "      <td>17850.0</td>\n",
              "      <td>United Kingdom</td>\n",
              "      <td>1.945910</td>\n",
              "      <td>1.047319</td>\n",
              "      <td>0.20</td>\n",
              "      <td>0.240163</td>\n",
              "      <td>-0.203033</td>\n",
              "      <td>-0.261358</td>\n",
              "    </tr>\n",
              "    <tr>\n",
              "      <th>8</th>\n",
              "      <td>536366</td>\n",
              "      <td>22632</td>\n",
              "      <td>HAND WARMER RED POLKA DOT</td>\n",
              "      <td>6.0</td>\n",
              "      <td>12/1/2010 8:28</td>\n",
              "      <td>1.85</td>\n",
              "      <td>17850.0</td>\n",
              "      <td>United Kingdom</td>\n",
              "      <td>1.945910</td>\n",
              "      <td>1.047319</td>\n",
              "      <td>0.20</td>\n",
              "      <td>0.240163</td>\n",
              "      <td>-0.203033</td>\n",
              "      <td>-0.261358</td>\n",
              "    </tr>\n",
              "    <tr>\n",
              "      <th>10</th>\n",
              "      <td>536367</td>\n",
              "      <td>22745</td>\n",
              "      <td>POPPY'S PLAYHOUSE BEDROOM</td>\n",
              "      <td>6.0</td>\n",
              "      <td>12/1/2010 8:34</td>\n",
              "      <td>2.10</td>\n",
              "      <td>13047.0</td>\n",
              "      <td>United Kingdom</td>\n",
              "      <td>1.945910</td>\n",
              "      <td>1.131402</td>\n",
              "      <td>0.20</td>\n",
              "      <td>0.274084</td>\n",
              "      <td>-0.203033</td>\n",
              "      <td>-0.097950</td>\n",
              "    </tr>\n",
              "    <tr>\n",
              "      <th>11</th>\n",
              "      <td>536367</td>\n",
              "      <td>22748</td>\n",
              "      <td>POPPY'S PLAYHOUSE KITCHEN</td>\n",
              "      <td>6.0</td>\n",
              "      <td>12/1/2010 8:34</td>\n",
              "      <td>2.10</td>\n",
              "      <td>13047.0</td>\n",
              "      <td>United Kingdom</td>\n",
              "      <td>1.945910</td>\n",
              "      <td>1.131402</td>\n",
              "      <td>0.20</td>\n",
              "      <td>0.274084</td>\n",
              "      <td>-0.203033</td>\n",
              "      <td>-0.097950</td>\n",
              "    </tr>\n",
              "  </tbody>\n",
              "</table>\n",
              "</div>"
            ],
            "text/plain": [
              "   InvoiceNo StockCode  ... Standardized_Quantity  Standardized_UnitPrice\n",
              "0     536365    85123A  ...             -0.203033                0.196183\n",
              "1     536365     71053  ...             -0.203033                0.745232\n",
              "2     536365    84406B  ...              0.094191                0.326909\n",
              "3     536365    84029G  ...             -0.203033                0.745232\n",
              "4     536365    84029E  ...             -0.203033                0.745232\n",
              "6     536365     21730  ...             -0.203033                1.307353\n",
              "7     536366     22633  ...             -0.203033               -0.261358\n",
              "8     536366     22632  ...             -0.203033               -0.261358\n",
              "10    536367     22745  ...             -0.203033               -0.097950\n",
              "11    536367     22748  ...             -0.203033               -0.097950\n",
              "\n",
              "[10 rows x 14 columns]"
            ]
          },
          "metadata": {
            "tags": []
          },
          "execution_count": 36
        }
      ]
    },
    {
      "cell_type": "markdown",
      "metadata": {
        "id": "fB3TqDuotHhV"
      },
      "source": [
        "## **Date & Time extraction**"
      ]
    },
    {
      "cell_type": "code",
      "metadata": {
        "id": "OzRhHRMns9FA"
      },
      "source": [
        "# Creating the attributes for date, month, year, weekday and time of InvoiceDate\n",
        "dataset['Date'] = pd.to_datetime(dataset['InvoiceDate']).dt.day\n",
        "\n",
        "dataset['Month'] = pd.to_datetime(dataset['InvoiceDate']).dt.month\n",
        "\n",
        "dataset['Year'] = pd.to_datetime(dataset['InvoiceDate']).dt.year\n",
        "\n",
        "dataset['Weekday'] = pd.to_datetime(dataset['InvoiceDate']).dt.day_name()\n",
        "\n",
        "dataset['Time'] = pd.to_datetime(dataset['InvoiceDate']).dt.time"
      ],
      "execution_count": 37,
      "outputs": []
    },
    {
      "cell_type": "code",
      "metadata": {
        "id": "75BBftyPt3VX",
        "outputId": "d8f81bba-f5bc-4bb3-c4c4-567cce5c0fc9",
        "colab": {
          "base_uri": "https://localhost:8080/",
          "height": 0
        }
      },
      "source": [
        "# Exploring the created date, day, time attributes\n",
        "dataset.head(10)"
      ],
      "execution_count": 38,
      "outputs": [
        {
          "output_type": "execute_result",
          "data": {
            "text/html": [
              "<div>\n",
              "<style scoped>\n",
              "    .dataframe tbody tr th:only-of-type {\n",
              "        vertical-align: middle;\n",
              "    }\n",
              "\n",
              "    .dataframe tbody tr th {\n",
              "        vertical-align: top;\n",
              "    }\n",
              "\n",
              "    .dataframe thead th {\n",
              "        text-align: right;\n",
              "    }\n",
              "</style>\n",
              "<table border=\"1\" class=\"dataframe\">\n",
              "  <thead>\n",
              "    <tr style=\"text-align: right;\">\n",
              "      <th></th>\n",
              "      <th>InvoiceNo</th>\n",
              "      <th>StockCode</th>\n",
              "      <th>Description</th>\n",
              "      <th>Quantity</th>\n",
              "      <th>InvoiceDate</th>\n",
              "      <th>UnitPrice</th>\n",
              "      <th>CustomerID</th>\n",
              "      <th>Country</th>\n",
              "      <th>Log_Transformed_Quantity</th>\n",
              "      <th>Log_Transformed_UnitPrice</th>\n",
              "      <th>Normalized_Quantity</th>\n",
              "      <th>Normalized_UnitPrice</th>\n",
              "      <th>Standardized_Quantity</th>\n",
              "      <th>Standardized_UnitPrice</th>\n",
              "      <th>Date</th>\n",
              "      <th>Month</th>\n",
              "      <th>Year</th>\n",
              "      <th>Weekday</th>\n",
              "      <th>Time</th>\n",
              "    </tr>\n",
              "  </thead>\n",
              "  <tbody>\n",
              "    <tr>\n",
              "      <th>0</th>\n",
              "      <td>536365</td>\n",
              "      <td>85123A</td>\n",
              "      <td>WHITE HANGING HEART T-LIGHT HOLDER</td>\n",
              "      <td>6.0</td>\n",
              "      <td>12/1/2010 8:26</td>\n",
              "      <td>2.55</td>\n",
              "      <td>17850.0</td>\n",
              "      <td>United Kingdom</td>\n",
              "      <td>1.945910</td>\n",
              "      <td>1.266948</td>\n",
              "      <td>0.20</td>\n",
              "      <td>0.335142</td>\n",
              "      <td>-0.203033</td>\n",
              "      <td>0.196183</td>\n",
              "      <td>1</td>\n",
              "      <td>12</td>\n",
              "      <td>2010</td>\n",
              "      <td>Wednesday</td>\n",
              "      <td>08:26:00</td>\n",
              "    </tr>\n",
              "    <tr>\n",
              "      <th>1</th>\n",
              "      <td>536365</td>\n",
              "      <td>71053</td>\n",
              "      <td>WHITE METAL LANTERN</td>\n",
              "      <td>6.0</td>\n",
              "      <td>12/1/2010 8:26</td>\n",
              "      <td>3.39</td>\n",
              "      <td>17850.0</td>\n",
              "      <td>United Kingdom</td>\n",
              "      <td>1.945910</td>\n",
              "      <td>1.479329</td>\n",
              "      <td>0.20</td>\n",
              "      <td>0.449118</td>\n",
              "      <td>-0.203033</td>\n",
              "      <td>0.745232</td>\n",
              "      <td>1</td>\n",
              "      <td>12</td>\n",
              "      <td>2010</td>\n",
              "      <td>Wednesday</td>\n",
              "      <td>08:26:00</td>\n",
              "    </tr>\n",
              "    <tr>\n",
              "      <th>2</th>\n",
              "      <td>536365</td>\n",
              "      <td>84406B</td>\n",
              "      <td>CREAM CUPID HEARTS COAT HANGER</td>\n",
              "      <td>8.0</td>\n",
              "      <td>12/1/2010 8:26</td>\n",
              "      <td>2.75</td>\n",
              "      <td>17850.0</td>\n",
              "      <td>United Kingdom</td>\n",
              "      <td>2.197225</td>\n",
              "      <td>1.321756</td>\n",
              "      <td>0.28</td>\n",
              "      <td>0.362280</td>\n",
              "      <td>0.094191</td>\n",
              "      <td>0.326909</td>\n",
              "      <td>1</td>\n",
              "      <td>12</td>\n",
              "      <td>2010</td>\n",
              "      <td>Wednesday</td>\n",
              "      <td>08:26:00</td>\n",
              "    </tr>\n",
              "    <tr>\n",
              "      <th>3</th>\n",
              "      <td>536365</td>\n",
              "      <td>84029G</td>\n",
              "      <td>KNITTED UNION FLAG HOT WATER BOTTLE</td>\n",
              "      <td>6.0</td>\n",
              "      <td>12/1/2010 8:26</td>\n",
              "      <td>3.39</td>\n",
              "      <td>17850.0</td>\n",
              "      <td>United Kingdom</td>\n",
              "      <td>1.945910</td>\n",
              "      <td>1.479329</td>\n",
              "      <td>0.20</td>\n",
              "      <td>0.449118</td>\n",
              "      <td>-0.203033</td>\n",
              "      <td>0.745232</td>\n",
              "      <td>1</td>\n",
              "      <td>12</td>\n",
              "      <td>2010</td>\n",
              "      <td>Wednesday</td>\n",
              "      <td>08:26:00</td>\n",
              "    </tr>\n",
              "    <tr>\n",
              "      <th>4</th>\n",
              "      <td>536365</td>\n",
              "      <td>84029E</td>\n",
              "      <td>RED WOOLLY HOTTIE WHITE HEART.</td>\n",
              "      <td>6.0</td>\n",
              "      <td>12/1/2010 8:26</td>\n",
              "      <td>3.39</td>\n",
              "      <td>17850.0</td>\n",
              "      <td>United Kingdom</td>\n",
              "      <td>1.945910</td>\n",
              "      <td>1.479329</td>\n",
              "      <td>0.20</td>\n",
              "      <td>0.449118</td>\n",
              "      <td>-0.203033</td>\n",
              "      <td>0.745232</td>\n",
              "      <td>1</td>\n",
              "      <td>12</td>\n",
              "      <td>2010</td>\n",
              "      <td>Wednesday</td>\n",
              "      <td>08:26:00</td>\n",
              "    </tr>\n",
              "    <tr>\n",
              "      <th>6</th>\n",
              "      <td>536365</td>\n",
              "      <td>21730</td>\n",
              "      <td>GLASS STAR FROSTED T-LIGHT HOLDER</td>\n",
              "      <td>6.0</td>\n",
              "      <td>12/1/2010 8:26</td>\n",
              "      <td>4.25</td>\n",
              "      <td>17850.0</td>\n",
              "      <td>United Kingdom</td>\n",
              "      <td>1.945910</td>\n",
              "      <td>1.658228</td>\n",
              "      <td>0.20</td>\n",
              "      <td>0.565807</td>\n",
              "      <td>-0.203033</td>\n",
              "      <td>1.307353</td>\n",
              "      <td>1</td>\n",
              "      <td>12</td>\n",
              "      <td>2010</td>\n",
              "      <td>Wednesday</td>\n",
              "      <td>08:26:00</td>\n",
              "    </tr>\n",
              "    <tr>\n",
              "      <th>7</th>\n",
              "      <td>536366</td>\n",
              "      <td>22633</td>\n",
              "      <td>HAND WARMER UNION JACK</td>\n",
              "      <td>6.0</td>\n",
              "      <td>12/1/2010 8:28</td>\n",
              "      <td>1.85</td>\n",
              "      <td>17850.0</td>\n",
              "      <td>United Kingdom</td>\n",
              "      <td>1.945910</td>\n",
              "      <td>1.047319</td>\n",
              "      <td>0.20</td>\n",
              "      <td>0.240163</td>\n",
              "      <td>-0.203033</td>\n",
              "      <td>-0.261358</td>\n",
              "      <td>1</td>\n",
              "      <td>12</td>\n",
              "      <td>2010</td>\n",
              "      <td>Wednesday</td>\n",
              "      <td>08:28:00</td>\n",
              "    </tr>\n",
              "    <tr>\n",
              "      <th>8</th>\n",
              "      <td>536366</td>\n",
              "      <td>22632</td>\n",
              "      <td>HAND WARMER RED POLKA DOT</td>\n",
              "      <td>6.0</td>\n",
              "      <td>12/1/2010 8:28</td>\n",
              "      <td>1.85</td>\n",
              "      <td>17850.0</td>\n",
              "      <td>United Kingdom</td>\n",
              "      <td>1.945910</td>\n",
              "      <td>1.047319</td>\n",
              "      <td>0.20</td>\n",
              "      <td>0.240163</td>\n",
              "      <td>-0.203033</td>\n",
              "      <td>-0.261358</td>\n",
              "      <td>1</td>\n",
              "      <td>12</td>\n",
              "      <td>2010</td>\n",
              "      <td>Wednesday</td>\n",
              "      <td>08:28:00</td>\n",
              "    </tr>\n",
              "    <tr>\n",
              "      <th>10</th>\n",
              "      <td>536367</td>\n",
              "      <td>22745</td>\n",
              "      <td>POPPY'S PLAYHOUSE BEDROOM</td>\n",
              "      <td>6.0</td>\n",
              "      <td>12/1/2010 8:34</td>\n",
              "      <td>2.10</td>\n",
              "      <td>13047.0</td>\n",
              "      <td>United Kingdom</td>\n",
              "      <td>1.945910</td>\n",
              "      <td>1.131402</td>\n",
              "      <td>0.20</td>\n",
              "      <td>0.274084</td>\n",
              "      <td>-0.203033</td>\n",
              "      <td>-0.097950</td>\n",
              "      <td>1</td>\n",
              "      <td>12</td>\n",
              "      <td>2010</td>\n",
              "      <td>Wednesday</td>\n",
              "      <td>08:34:00</td>\n",
              "    </tr>\n",
              "    <tr>\n",
              "      <th>11</th>\n",
              "      <td>536367</td>\n",
              "      <td>22748</td>\n",
              "      <td>POPPY'S PLAYHOUSE KITCHEN</td>\n",
              "      <td>6.0</td>\n",
              "      <td>12/1/2010 8:34</td>\n",
              "      <td>2.10</td>\n",
              "      <td>13047.0</td>\n",
              "      <td>United Kingdom</td>\n",
              "      <td>1.945910</td>\n",
              "      <td>1.131402</td>\n",
              "      <td>0.20</td>\n",
              "      <td>0.274084</td>\n",
              "      <td>-0.203033</td>\n",
              "      <td>-0.097950</td>\n",
              "      <td>1</td>\n",
              "      <td>12</td>\n",
              "      <td>2010</td>\n",
              "      <td>Wednesday</td>\n",
              "      <td>08:34:00</td>\n",
              "    </tr>\n",
              "  </tbody>\n",
              "</table>\n",
              "</div>"
            ],
            "text/plain": [
              "   InvoiceNo StockCode  ...    Weekday      Time\n",
              "0     536365    85123A  ...  Wednesday  08:26:00\n",
              "1     536365     71053  ...  Wednesday  08:26:00\n",
              "2     536365    84406B  ...  Wednesday  08:26:00\n",
              "3     536365    84029G  ...  Wednesday  08:26:00\n",
              "4     536365    84029E  ...  Wednesday  08:26:00\n",
              "6     536365     21730  ...  Wednesday  08:26:00\n",
              "7     536366     22633  ...  Wednesday  08:28:00\n",
              "8     536366     22632  ...  Wednesday  08:28:00\n",
              "10    536367     22745  ...  Wednesday  08:34:00\n",
              "11    536367     22748  ...  Wednesday  08:34:00\n",
              "\n",
              "[10 rows x 19 columns]"
            ]
          },
          "metadata": {
            "tags": []
          },
          "execution_count": 38
        }
      ]
    },
    {
      "cell_type": "markdown",
      "metadata": {
        "id": "i6s3h-nnuHgn"
      },
      "source": [
        "## **Visual Representation**"
      ]
    },
    {
      "cell_type": "code",
      "metadata": {
        "id": "HlPT6RR1uBNK",
        "outputId": "637a60b5-cb0f-4358-fa6a-1aaf7b03d992",
        "colab": {
          "base_uri": "https://localhost:8080/",
          "height": 0
        }
      },
      "source": [
        "# Exploring the description of the 10 products with the highest count\n",
        "dataset['Description'].value_counts()[:10].plot(kind='barh', color='green', figsize=(10, 5))"
      ],
      "execution_count": 39,
      "outputs": [
        {
          "output_type": "execute_result",
          "data": {
            "text/plain": [
              "<matplotlib.axes._subplots.AxesSubplot at 0x7f84d97e58d0>"
            ]
          },
          "metadata": {
            "tags": []
          },
          "execution_count": 39
        },
        {
          "output_type": "display_data",
          "data": {
            "image/png": "[encoded data removed]",
            "text/plain": [
              "<Figure size 720x360 with 1 Axes>"
            ]
          },
          "metadata": {
            "tags": [],
            "needs_background": "light"
          }
        }
      ]
    },
    {
      "cell_type": "code",
      "metadata": {
        "id": "NTIWcnefuwcj",
        "outputId": "9e6032a1-65ef-49a6-d7e8-627310ab4fee",
        "colab": {
          "base_uri": "https://localhost:8080/",
          "height": 0
        }
      },
      "source": [
        "# Exploring the sales in different months\n",
        "dataset['Month'].value_counts().plot(kind='barh', figsize=(10,5))"
      ],
      "execution_count": 40,
      "outputs": [
        {
          "output_type": "execute_result",
          "data": {
            "text/plain": [
              "<matplotlib.axes._subplots.AxesSubplot at 0x7f84d9723b70>"
            ]
          },
          "metadata": {
            "tags": []
          },
          "execution_count": 40
        },
        {
          "output_type": "display_data",
          "data": {
            "image/png": "[encoded data removed]",
            "text/plain": [
              "<Figure size 720x360 with 1 Axes>"
            ]
          },
          "metadata": {
            "tags": [],
            "needs_background": "light"
          }
        }
      ]
    },
    {
      "cell_type": "markdown",
      "metadata": {
        "id": "UbPmCKzovLgP"
      },
      "source": [
        "From the graph, we can interpret that November recorded most sales and February recorded least sales."
      ]
    },
    {
      "cell_type": "code",
      "metadata": {
        "id": "xMy4ZTZZvIkt",
        "outputId": "69ae8fa9-1155-4733-b775-c46f28eed1d2",
        "colab": {
          "base_uri": "https://localhost:8080/",
          "height": 0
        }
      },
      "source": [
        "# Exploring the number of sales by year\n",
        "dataset['Year'].value_counts().plot(kind='pie', explode=(0,0.2), shadow=True, figsize=(10,5))"
      ],
      "execution_count": 41,
      "outputs": [
        {
          "output_type": "execute_result",
          "data": {
            "text/plain": [
              "<matplotlib.axes._subplots.AxesSubplot at 0x7f84d91f6828>"
            ]
          },
          "metadata": {
            "tags": []
          },
          "execution_count": 41
        },
        {
          "output_type": "display_data",
          "data": {
            "image/png": "[encoded data removed]",
            "text/plain": [
              "<Figure size 720x360 with 1 Axes>"
            ]
          },
          "metadata": {
            "tags": []
          }
        }
      ]
    },
    {
      "cell_type": "code",
      "metadata": {
        "id": "epKjAh7IvsWG",
        "outputId": "3149f043-d704-46d1-843f-0ce54f3a5712",
        "colab": {
          "base_uri": "https://localhost:8080/",
          "height": 0
        }
      },
      "source": [
        "# Exploring the number of sales by days\n",
        "dataset['Weekday'].value_counts().plot(kind='barh', color='purple', figsize=(10,5))"
      ],
      "execution_count": 42,
      "outputs": [
        {
          "output_type": "execute_result",
          "data": {
            "text/plain": [
              "<matplotlib.axes._subplots.AxesSubplot at 0x7f84d91bd630>"
            ]
          },
          "metadata": {
            "tags": []
          },
          "execution_count": 42
        },
        {
          "output_type": "display_data",
          "data": {
            "image/png": "[encoded data removed]",
            "text/plain": [
              "<Figure size 720x360 with 1 Axes>"
            ]
          },
          "metadata": {
            "tags": [],
            "needs_background": "light"
          }
        }
      ]
    },
    {
      "cell_type": "markdown",
      "metadata": {
        "id": "3QkZt6vuwGOL"
      },
      "source": [
        "From the above graph, we can interpret that the store used to be closed on saturdays and the maximum sales used to happen on thursday as opposed to the least sales on Friday."
      ]
    },
    {
      "cell_type": "markdown",
      "metadata": {
        "id": "_Cgo2yJ_wbTo"
      },
      "source": [
        "# <font color=\"blue\">**Customer Segmentation**</font>"
      ]
    },
    {
      "cell_type": "code",
      "metadata": {
        "id": "DgwLwebwwAZV",
        "outputId": "4500ec17-2de7-4eb3-bb0f-75d400849aeb",
        "colab": {
          "base_uri": "https://localhost:8080/"
        }
      },
      "source": [
        "# Exploring the dataset grouped by InvoiceNo and Description\n",
        "dataset.groupby(['InvoiceNo', 'Description']).size()[:50]"
      ],
      "execution_count": 43,
      "outputs": [
        {
          "output_type": "execute_result",
          "data": {
            "text/plain": [
              "InvoiceNo  Description                        \n",
              "536365     CREAM CUPID HEARTS COAT HANGER         1\n",
              "           GLASS STAR FROSTED T-LIGHT HOLDER      1\n",
              "           KNITTED UNION FLAG HOT WATER BOTTLE    1\n",
              "           RED WOOLLY HOTTIE WHITE HEART.         1\n",
              "           WHITE HANGING HEART T-LIGHT HOLDER     1\n",
              "           WHITE METAL LANTERN                    1\n",
              "536366     HAND WARMER RED POLKA DOT              1\n",
              "           HAND WARMER UNION JACK                 1\n",
              "536367     BOX OF 6 ASSORTED COLOUR TEASPOONS     1\n",
              "           BOX OF VINTAGE JIGSAW BLOCKS           1\n",
              "           FELTCRAFT PRINCESS CHARLOTTE DOLL      1\n",
              "           HOME BUILDING BLOCK WORD               1\n",
              "           IVORY KNITTED MUG COSY                 1\n",
              "           LOVE BUILDING BLOCK WORD               1\n",
              "           POPPY'S PLAYHOUSE BEDROOM              1\n",
              "           POPPY'S PLAYHOUSE KITCHEN              1\n",
              "536368     BLUE COAT RACK PARIS FASHION           1\n",
              "           JAM MAKING SET WITH JARS               1\n",
              "           RED COAT RACK PARIS FASHION            1\n",
              "           YELLOW COAT RACK PARIS FASHION         1\n",
              "536369     BATH BUILDING BLOCK WORD               1\n",
              "536370      SET 2 TEA TOWELS I LOVE LONDON        1\n",
              "           ALARM CLOCK BAKELIKE GREEN             1\n",
              "           ALARM CLOCK BAKELIKE PINK              1\n",
              "           ALARM CLOCK BAKELIKE RED               1\n",
              "           CHARLOTTE BAG DOLLY GIRL DESIGN        1\n",
              "           CIRCUS PARADE LUNCH BOX                1\n",
              "           LUNCH BOX I LOVE LONDON                1\n",
              "           MINI JIGSAW CIRCUS PARADE              1\n",
              "           MINI JIGSAW SPACEBOY                   1\n",
              "           PANDA AND BUNNIES STICKER SHEET        1\n",
              "           RED TOADSTOOL LED NIGHT LIGHT          1\n",
              "           ROUND SNACK BOXES SET OF4 WOODLAND     1\n",
              "           SET/2 RED RETROSPOT TEA TOWELS         1\n",
              "           SPACEBOY LUNCH BOX                     1\n",
              "           STARS GIFT TAPE                        1\n",
              "           VINTAGE HEADS AND TAILS CARD GAME      1\n",
              "           VINTAGE SEASIDE JIGSAW PUZZLES         1\n",
              "536372     HAND WARMER RED POLKA DOT              1\n",
              "           HAND WARMER UNION JACK                 1\n",
              "536373     CREAM CUPID HEARTS COAT HANGER         1\n",
              "           EDWARDIAN PARASOL RED                  1\n",
              "           GLASS STAR FROSTED T-LIGHT HOLDER      1\n",
              "           KNITTED UNION FLAG HOT WATER BOTTLE    1\n",
              "           RED WOOLLY HOTTIE WHITE HEART.         1\n",
              "           RETRO COFFEE MUGS ASSORTED             1\n",
              "           SAVE THE PLANET MUG                    1\n",
              "           VINTAGE BILLBOARD DRINK ME MUG         1\n",
              "           VINTAGE BILLBOARD LOVE/HATE MUG        1\n",
              "           WHITE HANGING HEART T-LIGHT HOLDER     1\n",
              "dtype: int64"
            ]
          },
          "metadata": {
            "tags": []
          },
          "execution_count": 43
        }
      ]
    },
    {
      "cell_type": "code",
      "metadata": {
        "id": "3DgBVof9Tnif",
        "outputId": "86aec0b8-9df0-47bb-a8c6-04024bb4fba4",
        "colab": {
          "base_uri": "https://localhost:8080/"
        }
      },
      "source": [
        "# Exploring the dataset grouped by CustomerID and Description\n",
        "dataset.groupby(['CustomerID', 'Description']).size()"
      ],
      "execution_count": 44,
      "outputs": [
        {
          "output_type": "execute_result",
          "data": {
            "text/plain": [
              "CustomerID  Description                       \n",
              "12347.0     3D DOG PICTURE PLAYING CARDS          2\n",
              "            3D SHEET OF CAT STICKERS              1\n",
              "            3D SHEET OF DOG STICKERS              1\n",
              "            60 TEATIME FAIRY CAKE CASES           1\n",
              "            72 SWEETHEART FAIRY CAKE CASES        1\n",
              "                                                 ..\n",
              "18283.0     TOILET METAL SIGN                     1\n",
              "            TRAVEL SEWING KIT                     1\n",
              "            VINTAGE BILLBOARD LOVE/HATE MUG       2\n",
              "            WHITE HANGING HEART T-LIGHT HOLDER    1\n",
              "            WOODLAND CHARLOTTE BAG                2\n",
              "Length: 71434, dtype: int64"
            ]
          },
          "metadata": {
            "tags": []
          },
          "execution_count": 44
        }
      ]
    },
    {
      "cell_type": "markdown",
      "metadata": {
        "id": "2an11_aJTupR"
      },
      "source": [
        "## **1. Products Ordered**"
      ]
    },
    {
      "cell_type": "code",
      "metadata": {
        "id": "IN3J8JcST0Ek"
      },
      "source": [
        "def encode_column(column):\n",
        "  if column > 0:\n",
        "    return 1\n",
        "  if column <= 0:\n",
        "    return 0\n",
        "\n",
        "# Function to get the count of the products ordered\n",
        "def aggregate_by_ordered_quantity(dataframe, column_list):\n",
        "\n",
        "  aggregated_dataframe = dataframe.groupby(column_list).Quantity.count().reset_index()\n",
        "\n",
        "  aggregated_dataframe['Products_ordered'] = aggregated_dataframe.Quantity.apply(encode_column)\n",
        "\n",
        "  final_dataframe = aggregated_dataframe.groupby(column_list[0]).Products_ordered.sum().reset_index()\n",
        "\n",
        "  return final_dataframe"
      ],
      "execution_count": 45,
      "outputs": []
    },
    {
      "cell_type": "code",
      "metadata": {
        "id": "DDmtruxuWBBl",
        "outputId": "5b6bd8d8-6c31-4dc8-a45b-3b9dc1b2440d",
        "colab": {
          "base_uri": "https://localhost:8080/",
          "height": 0
        }
      },
      "source": [
        "# Creating customers dataframe\n",
        "customers = aggregate_by_ordered_quantity(dataset, ['CustomerID', 'Description'])\n",
        "\n",
        "customers.head()"
      ],
      "execution_count": 46,
      "outputs": [
        {
          "output_type": "execute_result",
          "data": {
            "text/html": [
              "<div>\n",
              "<style scoped>\n",
              "    .dataframe tbody tr th:only-of-type {\n",
              "        vertical-align: middle;\n",
              "    }\n",
              "\n",
              "    .dataframe tbody tr th {\n",
              "        vertical-align: top;\n",
              "    }\n",
              "\n",
              "    .dataframe thead th {\n",
              "        text-align: right;\n",
              "    }\n",
              "</style>\n",
              "<table border=\"1\" class=\"dataframe\">\n",
              "  <thead>\n",
              "    <tr style=\"text-align: right;\">\n",
              "      <th></th>\n",
              "      <th>CustomerID</th>\n",
              "      <th>Products_ordered</th>\n",
              "    </tr>\n",
              "  </thead>\n",
              "  <tbody>\n",
              "    <tr>\n",
              "      <th>0</th>\n",
              "      <td>12347.0</td>\n",
              "      <td>59</td>\n",
              "    </tr>\n",
              "    <tr>\n",
              "      <th>1</th>\n",
              "      <td>12348.0</td>\n",
              "      <td>6</td>\n",
              "    </tr>\n",
              "    <tr>\n",
              "      <th>2</th>\n",
              "      <td>12350.0</td>\n",
              "      <td>16</td>\n",
              "    </tr>\n",
              "    <tr>\n",
              "      <th>3</th>\n",
              "      <td>12352.0</td>\n",
              "      <td>21</td>\n",
              "    </tr>\n",
              "    <tr>\n",
              "      <th>4</th>\n",
              "      <td>12356.0</td>\n",
              "      <td>33</td>\n",
              "    </tr>\n",
              "  </tbody>\n",
              "</table>\n",
              "</div>"
            ],
            "text/plain": [
              "   CustomerID  Products_ordered\n",
              "0     12347.0                59\n",
              "1     12348.0                 6\n",
              "2     12350.0                16\n",
              "3     12352.0                21\n",
              "4     12356.0                33"
            ]
          },
          "metadata": {
            "tags": []
          },
          "execution_count": 46
        }
      ]
    },
    {
      "cell_type": "markdown",
      "metadata": {
        "id": "tJHNKkzYWSxm"
      },
      "source": [
        "## **2. Total Spending**\n",
        "\n",
        "Creating a `Sales` attribute which is product of `Quantity` and `UnitPrice`."
      ]
    },
    {
      "cell_type": "code",
      "metadata": {
        "id": "IvP88RiTWON8",
        "outputId": "a742cca8-327c-4de0-b76f-027b715e0cdb",
        "colab": {
          "base_uri": "https://localhost:8080/",
          "height": 0
        }
      },
      "source": [
        "dataset['Sales'] = dataset['Quantity'] * dataset['UnitPrice']\n",
        "\n",
        "# Exploring the dataset to validate the Sales attribute\n",
        "dataset.head()"
      ],
      "execution_count": 47,
      "outputs": [
        {
          "output_type": "execute_result",
          "data": {
            "text/html": [
              "<div>\n",
              "<style scoped>\n",
              "    .dataframe tbody tr th:only-of-type {\n",
              "        vertical-align: middle;\n",
              "    }\n",
              "\n",
              "    .dataframe tbody tr th {\n",
              "        vertical-align: top;\n",
              "    }\n",
              "\n",
              "    .dataframe thead th {\n",
              "        text-align: right;\n",
              "    }\n",
              "</style>\n",
              "<table border=\"1\" class=\"dataframe\">\n",
              "  <thead>\n",
              "    <tr style=\"text-align: right;\">\n",
              "      <th></th>\n",
              "      <th>InvoiceNo</th>\n",
              "      <th>StockCode</th>\n",
              "      <th>Description</th>\n",
              "      <th>Quantity</th>\n",
              "      <th>InvoiceDate</th>\n",
              "      <th>UnitPrice</th>\n",
              "      <th>CustomerID</th>\n",
              "      <th>Country</th>\n",
              "      <th>Log_Transformed_Quantity</th>\n",
              "      <th>Log_Transformed_UnitPrice</th>\n",
              "      <th>Normalized_Quantity</th>\n",
              "      <th>Normalized_UnitPrice</th>\n",
              "      <th>Standardized_Quantity</th>\n",
              "      <th>Standardized_UnitPrice</th>\n",
              "      <th>Date</th>\n",
              "      <th>Month</th>\n",
              "      <th>Year</th>\n",
              "      <th>Weekday</th>\n",
              "      <th>Time</th>\n",
              "      <th>Sales</th>\n",
              "    </tr>\n",
              "  </thead>\n",
              "  <tbody>\n",
              "    <tr>\n",
              "      <th>0</th>\n",
              "      <td>536365</td>\n",
              "      <td>85123A</td>\n",
              "      <td>WHITE HANGING HEART T-LIGHT HOLDER</td>\n",
              "      <td>6.0</td>\n",
              "      <td>12/1/2010 8:26</td>\n",
              "      <td>2.55</td>\n",
              "      <td>17850.0</td>\n",
              "      <td>United Kingdom</td>\n",
              "      <td>1.945910</td>\n",
              "      <td>1.266948</td>\n",
              "      <td>0.20</td>\n",
              "      <td>0.335142</td>\n",
              "      <td>-0.203033</td>\n",
              "      <td>0.196183</td>\n",
              "      <td>1</td>\n",
              "      <td>12</td>\n",
              "      <td>2010</td>\n",
              "      <td>Wednesday</td>\n",
              "      <td>08:26:00</td>\n",
              "      <td>15.30</td>\n",
              "    </tr>\n",
              "    <tr>\n",
              "      <th>1</th>\n",
              "      <td>536365</td>\n",
              "      <td>71053</td>\n",
              "      <td>WHITE METAL LANTERN</td>\n",
              "      <td>6.0</td>\n",
              "      <td>12/1/2010 8:26</td>\n",
              "      <td>3.39</td>\n",
              "      <td>17850.0</td>\n",
              "      <td>United Kingdom</td>\n",
              "      <td>1.945910</td>\n",
              "      <td>1.479329</td>\n",
              "      <td>0.20</td>\n",
              "      <td>0.449118</td>\n",
              "      <td>-0.203033</td>\n",
              "      <td>0.745232</td>\n",
              "      <td>1</td>\n",
              "      <td>12</td>\n",
              "      <td>2010</td>\n",
              "      <td>Wednesday</td>\n",
              "      <td>08:26:00</td>\n",
              "      <td>20.34</td>\n",
              "    </tr>\n",
              "    <tr>\n",
              "      <th>2</th>\n",
              "      <td>536365</td>\n",
              "      <td>84406B</td>\n",
              "      <td>CREAM CUPID HEARTS COAT HANGER</td>\n",
              "      <td>8.0</td>\n",
              "      <td>12/1/2010 8:26</td>\n",
              "      <td>2.75</td>\n",
              "      <td>17850.0</td>\n",
              "      <td>United Kingdom</td>\n",
              "      <td>2.197225</td>\n",
              "      <td>1.321756</td>\n",
              "      <td>0.28</td>\n",
              "      <td>0.362280</td>\n",
              "      <td>0.094191</td>\n",
              "      <td>0.326909</td>\n",
              "      <td>1</td>\n",
              "      <td>12</td>\n",
              "      <td>2010</td>\n",
              "      <td>Wednesday</td>\n",
              "      <td>08:26:00</td>\n",
              "      <td>22.00</td>\n",
              "    </tr>\n",
              "    <tr>\n",
              "      <th>3</th>\n",
              "      <td>536365</td>\n",
              "      <td>84029G</td>\n",
              "      <td>KNITTED UNION FLAG HOT WATER BOTTLE</td>\n",
              "      <td>6.0</td>\n",
              "      <td>12/1/2010 8:26</td>\n",
              "      <td>3.39</td>\n",
              "      <td>17850.0</td>\n",
              "      <td>United Kingdom</td>\n",
              "      <td>1.945910</td>\n",
              "      <td>1.479329</td>\n",
              "      <td>0.20</td>\n",
              "      <td>0.449118</td>\n",
              "      <td>-0.203033</td>\n",
              "      <td>0.745232</td>\n",
              "      <td>1</td>\n",
              "      <td>12</td>\n",
              "      <td>2010</td>\n",
              "      <td>Wednesday</td>\n",
              "      <td>08:26:00</td>\n",
              "      <td>20.34</td>\n",
              "    </tr>\n",
              "    <tr>\n",
              "      <th>4</th>\n",
              "      <td>536365</td>\n",
              "      <td>84029E</td>\n",
              "      <td>RED WOOLLY HOTTIE WHITE HEART.</td>\n",
              "      <td>6.0</td>\n",
              "      <td>12/1/2010 8:26</td>\n",
              "      <td>3.39</td>\n",
              "      <td>17850.0</td>\n",
              "      <td>United Kingdom</td>\n",
              "      <td>1.945910</td>\n",
              "      <td>1.479329</td>\n",
              "      <td>0.20</td>\n",
              "      <td>0.449118</td>\n",
              "      <td>-0.203033</td>\n",
              "      <td>0.745232</td>\n",
              "      <td>1</td>\n",
              "      <td>12</td>\n",
              "      <td>2010</td>\n",
              "      <td>Wednesday</td>\n",
              "      <td>08:26:00</td>\n",
              "      <td>20.34</td>\n",
              "    </tr>\n",
              "  </tbody>\n",
              "</table>\n",
              "</div>"
            ],
            "text/plain": [
              "  InvoiceNo StockCode  ...      Time  Sales\n",
              "0    536365    85123A  ...  08:26:00  15.30\n",
              "1    536365     71053  ...  08:26:00  20.34\n",
              "2    536365    84406B  ...  08:26:00  22.00\n",
              "3    536365    84029G  ...  08:26:00  20.34\n",
              "4    536365    84029E  ...  08:26:00  20.34\n",
              "\n",
              "[5 rows x 20 columns]"
            ]
          },
          "metadata": {
            "tags": []
          },
          "execution_count": 47
        }
      ]
    },
    {
      "cell_type": "code",
      "metadata": {
        "id": "hyIkdv7vW2M-"
      },
      "source": [
        "# Obtaining customers total spending\n",
        "customer_total_spending = dataset.groupby('CustomerID').Sales.sum().reset_index()\n",
        "\n",
        "customer_total_spending.rename(columns = {'Sales' : 'Total_spending'}, inplace = True)"
      ],
      "execution_count": 48,
      "outputs": []
    },
    {
      "cell_type": "code",
      "metadata": {
        "id": "shD4o8NNXn-u",
        "outputId": "72ab82eb-586f-4547-a9c0-1e33549e1f3b",
        "colab": {
          "base_uri": "https://localhost:8080/",
          "height": 0
        }
      },
      "source": [
        "# Merging the two dataframes on CustomerID\n",
        "customers = pd.merge(customers, customer_total_spending, on='CustomerID')\n",
        "\n",
        "print(f'The number of customers from the existing customer base : {customers.shape[0]}')\n",
        "\n",
        "customers.head()"
      ],
      "execution_count": 49,
      "outputs": [
        {
          "output_type": "stream",
          "text": [
            "The number of customers from the existing customer base : 2141\n"
          ],
          "name": "stdout"
        },
        {
          "output_type": "execute_result",
          "data": {
            "text/html": [
              "<div>\n",
              "<style scoped>\n",
              "    .dataframe tbody tr th:only-of-type {\n",
              "        vertical-align: middle;\n",
              "    }\n",
              "\n",
              "    .dataframe tbody tr th {\n",
              "        vertical-align: top;\n",
              "    }\n",
              "\n",
              "    .dataframe thead th {\n",
              "        text-align: right;\n",
              "    }\n",
              "</style>\n",
              "<table border=\"1\" class=\"dataframe\">\n",
              "  <thead>\n",
              "    <tr style=\"text-align: right;\">\n",
              "      <th></th>\n",
              "      <th>CustomerID</th>\n",
              "      <th>Products_ordered</th>\n",
              "      <th>Total_spending</th>\n",
              "    </tr>\n",
              "  </thead>\n",
              "  <tbody>\n",
              "    <tr>\n",
              "      <th>0</th>\n",
              "      <td>12347.0</td>\n",
              "      <td>59</td>\n",
              "      <td>1413.03</td>\n",
              "    </tr>\n",
              "    <tr>\n",
              "      <th>1</th>\n",
              "      <td>12348.0</td>\n",
              "      <td>6</td>\n",
              "      <td>90.20</td>\n",
              "    </tr>\n",
              "    <tr>\n",
              "      <th>2</th>\n",
              "      <td>12350.0</td>\n",
              "      <td>16</td>\n",
              "      <td>294.40</td>\n",
              "    </tr>\n",
              "    <tr>\n",
              "      <th>3</th>\n",
              "      <td>12352.0</td>\n",
              "      <td>21</td>\n",
              "      <td>539.41</td>\n",
              "    </tr>\n",
              "    <tr>\n",
              "      <th>4</th>\n",
              "      <td>12356.0</td>\n",
              "      <td>33</td>\n",
              "      <td>1086.56</td>\n",
              "    </tr>\n",
              "  </tbody>\n",
              "</table>\n",
              "</div>"
            ],
            "text/plain": [
              "   CustomerID  Products_ordered  Total_spending\n",
              "0     12347.0                59         1413.03\n",
              "1     12348.0                 6           90.20\n",
              "2     12350.0                16          294.40\n",
              "3     12352.0                21          539.41\n",
              "4     12356.0                33         1086.56"
            ]
          },
          "metadata": {
            "tags": []
          },
          "execution_count": 49
        }
      ]
    },
    {
      "cell_type": "markdown",
      "metadata": {
        "id": "2trCVr3GYiHw"
      },
      "source": [
        "## **Scaling using Log1p transform**"
      ]
    },
    {
      "cell_type": "code",
      "metadata": {
        "id": "CyfGRinYYVmP"
      },
      "source": [
        "# Function to apply log1p transformation\n",
        "def apply_log1p_transformation(dataframe, column):\n",
        "\n",
        "  dataframe['log_' + column] = np.log1p(dataframe[column])\n",
        "  return dataframe['log_' + column]"
      ],
      "execution_count": 50,
      "outputs": []
    },
    {
      "cell_type": "markdown",
      "metadata": {
        "id": "ITI9_2_iZJwo"
      },
      "source": [
        "### 1. Products ordered"
      ]
    },
    {
      "cell_type": "code",
      "metadata": {
        "id": "b0cbU8FLZIcW",
        "outputId": "346b7a05-f264-4ffd-d752-0e213e5e65e7",
        "colab": {
          "base_uri": "https://localhost:8080/"
        }
      },
      "source": [
        "apply_log1p_transformation(customers, 'Products_ordered')"
      ],
      "execution_count": 51,
      "outputs": [
        {
          "output_type": "execute_result",
          "data": {
            "text/plain": [
              "0       4.094345\n",
              "1       1.945910\n",
              "2       2.833213\n",
              "3       3.091042\n",
              "4       3.526361\n",
              "          ...   \n",
              "2136    1.609438\n",
              "2137    3.401197\n",
              "2138    0.693147\n",
              "2139    2.197225\n",
              "2140    4.644391\n",
              "Name: log_Products_ordered, Length: 2141, dtype: float64"
            ]
          },
          "metadata": {
            "tags": []
          },
          "execution_count": 51
        }
      ]
    },
    {
      "cell_type": "markdown",
      "metadata": {
        "id": "ONFh0hLFZbUB"
      },
      "source": [
        "### 2. Total spending"
      ]
    },
    {
      "cell_type": "code",
      "metadata": {
        "id": "GsgdL-_7ZUDr",
        "outputId": "7b956027-9cfd-4ded-8040-8726aa9eb8fd",
        "colab": {
          "base_uri": "https://localhost:8080/"
        }
      },
      "source": [
        "apply_log1p_transformation(customers, 'Total_spending')"
      ],
      "execution_count": 52,
      "outputs": [
        {
          "output_type": "execute_result",
          "data": {
            "text/plain": [
              "0       7.254199\n",
              "1       4.513055\n",
              "2       5.688330\n",
              "3       6.292328\n",
              "4       6.991692\n",
              "          ...   \n",
              "2136    4.313480\n",
              "2137    6.338488\n",
              "2138    3.951244\n",
              "2139    4.927254\n",
              "2140    5.705281\n",
              "Name: log_Total_spending, Length: 2141, dtype: float64"
            ]
          },
          "metadata": {
            "tags": []
          },
          "execution_count": 52
        }
      ]
    },
    {
      "cell_type": "code",
      "metadata": {
        "id": "cHB4BMw3Zhe6",
        "outputId": "7d03ec48-e207-488a-f6fb-b9dc99a1a64f",
        "colab": {
          "base_uri": "https://localhost:8080/",
          "height": 0
        }
      },
      "source": [
        "# Exploring the dataset to validate the log transformed attributes\n",
        "customers.head()"
      ],
      "execution_count": 53,
      "outputs": [
        {
          "output_type": "execute_result",
          "data": {
            "text/html": [
              "<div>\n",
              "<style scoped>\n",
              "    .dataframe tbody tr th:only-of-type {\n",
              "        vertical-align: middle;\n",
              "    }\n",
              "\n",
              "    .dataframe tbody tr th {\n",
              "        vertical-align: top;\n",
              "    }\n",
              "\n",
              "    .dataframe thead th {\n",
              "        text-align: right;\n",
              "    }\n",
              "</style>\n",
              "<table border=\"1\" class=\"dataframe\">\n",
              "  <thead>\n",
              "    <tr style=\"text-align: right;\">\n",
              "      <th></th>\n",
              "      <th>CustomerID</th>\n",
              "      <th>Products_ordered</th>\n",
              "      <th>Total_spending</th>\n",
              "      <th>log_Products_ordered</th>\n",
              "      <th>log_Total_spending</th>\n",
              "    </tr>\n",
              "  </thead>\n",
              "  <tbody>\n",
              "    <tr>\n",
              "      <th>0</th>\n",
              "      <td>12347.0</td>\n",
              "      <td>59</td>\n",
              "      <td>1413.03</td>\n",
              "      <td>4.094345</td>\n",
              "      <td>7.254199</td>\n",
              "    </tr>\n",
              "    <tr>\n",
              "      <th>1</th>\n",
              "      <td>12348.0</td>\n",
              "      <td>6</td>\n",
              "      <td>90.20</td>\n",
              "      <td>1.945910</td>\n",
              "      <td>4.513055</td>\n",
              "    </tr>\n",
              "    <tr>\n",
              "      <th>2</th>\n",
              "      <td>12350.0</td>\n",
              "      <td>16</td>\n",
              "      <td>294.40</td>\n",
              "      <td>2.833213</td>\n",
              "      <td>5.688330</td>\n",
              "    </tr>\n",
              "    <tr>\n",
              "      <th>3</th>\n",
              "      <td>12352.0</td>\n",
              "      <td>21</td>\n",
              "      <td>539.41</td>\n",
              "      <td>3.091042</td>\n",
              "      <td>6.292328</td>\n",
              "    </tr>\n",
              "    <tr>\n",
              "      <th>4</th>\n",
              "      <td>12356.0</td>\n",
              "      <td>33</td>\n",
              "      <td>1086.56</td>\n",
              "      <td>3.526361</td>\n",
              "      <td>6.991692</td>\n",
              "    </tr>\n",
              "  </tbody>\n",
              "</table>\n",
              "</div>"
            ],
            "text/plain": [
              "   CustomerID  Products_ordered  ...  log_Products_ordered  log_Total_spending\n",
              "0     12347.0                59  ...              4.094345            7.254199\n",
              "1     12348.0                 6  ...              1.945910            4.513055\n",
              "2     12350.0                16  ...              2.833213            5.688330\n",
              "3     12352.0                21  ...              3.091042            6.292328\n",
              "4     12356.0                33  ...              3.526361            6.991692\n",
              "\n",
              "[5 rows x 5 columns]"
            ]
          },
          "metadata": {
            "tags": []
          },
          "execution_count": 53
        }
      ]
    },
    {
      "cell_type": "markdown",
      "metadata": {
        "id": "-JoOabLBZ9U2"
      },
      "source": [
        "## **Feature Selection**"
      ]
    },
    {
      "cell_type": "code",
      "metadata": {
        "id": "epyslLQFZoCx",
        "outputId": "8b033f9f-fa85-4c25-ef12-14b603c64716",
        "colab": {
          "base_uri": "https://localhost:8080/",
          "height": 0
        }
      },
      "source": [
        "customers.iloc[:,3:]"
      ],
      "execution_count": 54,
      "outputs": [
        {
          "output_type": "execute_result",
          "data": {
            "text/html": [
              "<div>\n",
              "<style scoped>\n",
              "    .dataframe tbody tr th:only-of-type {\n",
              "        vertical-align: middle;\n",
              "    }\n",
              "\n",
              "    .dataframe tbody tr th {\n",
              "        vertical-align: top;\n",
              "    }\n",
              "\n",
              "    .dataframe thead th {\n",
              "        text-align: right;\n",
              "    }\n",
              "</style>\n",
              "<table border=\"1\" class=\"dataframe\">\n",
              "  <thead>\n",
              "    <tr style=\"text-align: right;\">\n",
              "      <th></th>\n",
              "      <th>log_Products_ordered</th>\n",
              "      <th>log_Total_spending</th>\n",
              "    </tr>\n",
              "  </thead>\n",
              "  <tbody>\n",
              "    <tr>\n",
              "      <th>0</th>\n",
              "      <td>4.094345</td>\n",
              "      <td>7.254199</td>\n",
              "    </tr>\n",
              "    <tr>\n",
              "      <th>1</th>\n",
              "      <td>1.945910</td>\n",
              "      <td>4.513055</td>\n",
              "    </tr>\n",
              "    <tr>\n",
              "      <th>2</th>\n",
              "      <td>2.833213</td>\n",
              "      <td>5.688330</td>\n",
              "    </tr>\n",
              "    <tr>\n",
              "      <th>3</th>\n",
              "      <td>3.091042</td>\n",
              "      <td>6.292328</td>\n",
              "    </tr>\n",
              "    <tr>\n",
              "      <th>4</th>\n",
              "      <td>3.526361</td>\n",
              "      <td>6.991692</td>\n",
              "    </tr>\n",
              "    <tr>\n",
              "      <th>...</th>\n",
              "      <td>...</td>\n",
              "      <td>...</td>\n",
              "    </tr>\n",
              "    <tr>\n",
              "      <th>2136</th>\n",
              "      <td>1.609438</td>\n",
              "      <td>4.313480</td>\n",
              "    </tr>\n",
              "    <tr>\n",
              "      <th>2137</th>\n",
              "      <td>3.401197</td>\n",
              "      <td>6.338488</td>\n",
              "    </tr>\n",
              "    <tr>\n",
              "      <th>2138</th>\n",
              "      <td>0.693147</td>\n",
              "      <td>3.951244</td>\n",
              "    </tr>\n",
              "    <tr>\n",
              "      <th>2139</th>\n",
              "      <td>2.197225</td>\n",
              "      <td>4.927254</td>\n",
              "    </tr>\n",
              "    <tr>\n",
              "      <th>2140</th>\n",
              "      <td>4.644391</td>\n",
              "      <td>5.705281</td>\n",
              "    </tr>\n",
              "  </tbody>\n",
              "</table>\n",
              "<p>2141 rows × 2 columns</p>\n",
              "</div>"
            ],
            "text/plain": [
              "      log_Products_ordered  log_Total_spending\n",
              "0                 4.094345            7.254199\n",
              "1                 1.945910            4.513055\n",
              "2                 2.833213            5.688330\n",
              "3                 3.091042            6.292328\n",
              "4                 3.526361            6.991692\n",
              "...                    ...                 ...\n",
              "2136              1.609438            4.313480\n",
              "2137              3.401197            6.338488\n",
              "2138              0.693147            3.951244\n",
              "2139              2.197225            4.927254\n",
              "2140              4.644391            5.705281\n",
              "\n",
              "[2141 rows x 2 columns]"
            ]
          },
          "metadata": {
            "tags": []
          },
          "execution_count": 54
        }
      ]
    },
    {
      "cell_type": "markdown",
      "metadata": {
        "id": "jqxsP56NaHcg"
      },
      "source": [
        "# <font color=\"blue\">**K-Means Clustering**</font>"
      ]
    },
    {
      "cell_type": "code",
      "metadata": {
        "id": "5r1Glxv-aDVo"
      },
      "source": [
        "from sklearn.cluster import KMeans"
      ],
      "execution_count": 55,
      "outputs": []
    },
    {
      "cell_type": "code",
      "metadata": {
        "id": "VeGbDcSsa31S",
        "outputId": "41c0ec6d-0151-4f57-b22a-de197c261530",
        "colab": {
          "base_uri": "https://localhost:8080/"
        }
      },
      "source": [
        "kmeans_model = KMeans(init='k-means++', max_iter=500, random_state=42)\n",
        "\n",
        "kmeans_model.fit(customers.iloc[:,3:])"
      ],
      "execution_count": 56,
      "outputs": [
        {
          "output_type": "execute_result",
          "data": {
            "text/plain": [
              "KMeans(algorithm='auto', copy_x=True, init='k-means++', max_iter=500,\n",
              "       n_clusters=8, n_init=10, n_jobs=None, precompute_distances='auto',\n",
              "       random_state=42, tol=0.0001, verbose=0)"
            ]
          },
          "metadata": {
            "tags": []
          },
          "execution_count": 56
        }
      ]
    },
    {
      "cell_type": "markdown",
      "metadata": {
        "id": "0KVoAapgbSys"
      },
      "source": [
        "### Intracluster distance"
      ]
    },
    {
      "cell_type": "code",
      "metadata": {
        "id": "GWm3iR-tbG8A",
        "outputId": "18d748aa-cab7-43a1-b3d7-aca3b03637fb",
        "colab": {
          "base_uri": "https://localhost:8080/"
        }
      },
      "source": [
        "print(f'Intracluster distance of the model is: ', kmeans_model.inertia_)"
      ],
      "execution_count": 57,
      "outputs": [
        {
          "output_type": "stream",
          "text": [
            "Intracluster distance of the model is:  509.94413713726794\n"
          ],
          "name": "stdout"
        }
      ]
    },
    {
      "cell_type": "markdown",
      "metadata": {
        "id": "iewy40XtbmXd"
      },
      "source": [
        "This distance needs to be minimized by finding optimal hyper paramter."
      ]
    },
    {
      "cell_type": "markdown",
      "metadata": {
        "id": "jJinjptRbuJI"
      },
      "source": [
        "## **Hyperparameter tuning**"
      ]
    },
    {
      "cell_type": "code",
      "metadata": {
        "id": "sjy7SVPubjG_"
      },
      "source": [
        "def make_list_of_K(K, dataframe):\n",
        "\n",
        "  cluster_values = list(range(1, K+1))\n",
        "  inertia_values = []\n",
        "\n",
        "  for c in cluster_values:\n",
        "    model = KMeans(n_clusters=c, init='k-means++', max_iter=500, random_state=42)\n",
        "    model.fit(dataframe)\n",
        "    inertia_values.append(model.inertia_)\n",
        "  \n",
        "  return inertia_values"
      ],
      "execution_count": 58,
      "outputs": []
    },
    {
      "cell_type": "code",
      "metadata": {
        "id": "ySeGq4P6cWCa"
      },
      "source": [
        "# Checking for k values between 1 to 15\n",
        "results = make_list_of_K(15, customers.iloc[:, 3:])"
      ],
      "execution_count": 59,
      "outputs": []
    },
    {
      "cell_type": "code",
      "metadata": {
        "id": "uKbo5F9ncjqF",
        "outputId": "ca382fb6-6cdc-44f6-b39b-615a685b78a9",
        "colab": {
          "base_uri": "https://localhost:8080/"
        }
      },
      "source": [
        "k_values_distances = pd.DataFrame({'clusters': list(range(1, 16)), 'Intracluster distances': results})\n",
        "\n",
        "print(k_values_distances)"
      ],
      "execution_count": 60,
      "outputs": [
        {
          "output_type": "stream",
          "text": [
            "    clusters  Intracluster distances\n",
            "0          1             4610.842116\n",
            "1          2             2056.715743\n",
            "2          3             1272.270219\n",
            "3          4              962.432615\n",
            "4          5              787.395966\n",
            "5          6              665.844032\n",
            "6          7              577.366634\n",
            "7          8              509.944137\n",
            "8          9              454.636509\n",
            "9         10              411.842228\n",
            "10        11              381.253732\n",
            "11        12              348.055642\n",
            "12        13              323.654509\n",
            "13        14              300.309122\n",
            "14        15              283.024893\n"
          ],
          "name": "stdout"
        }
      ]
    },
    {
      "cell_type": "code",
      "metadata": {
        "id": "Oz7TrJe4dB7A",
        "outputId": "135534d1-b9e3-4326-fb90-daddae17e1f2",
        "colab": {
          "base_uri": "https://localhost:8080/",
          "height": 0
        }
      },
      "source": [
        "plt.plot(k_values_distances['clusters'], k_values_distances['Intracluster distances'], color='red')\n",
        "plt.xlabel('K - values')\n",
        "plt.ylabel('Intracluster Distance')\n",
        "plt.title('Intracluster Distance vs K-values')\n",
        "plt.show()"
      ],
      "execution_count": 61,
      "outputs": [
        {
          "output_type": "display_data",
          "data": {
            "image/png": "[encoded data removed]",
            "text/plain": [
              "<Figure size 432x288 with 1 Axes>"
            ]
          },
          "metadata": {
            "tags": [],
            "needs_background": "light"
          }
        }
      ]
    },
    {
      "cell_type": "markdown",
      "metadata": {
        "id": "9T2rBvFKfJOS"
      },
      "source": [
        "From the graph, its clear that after k = 4, the descent gets stabilized so the optimal k is 4.  "
      ]
    },
    {
      "cell_type": "code",
      "metadata": {
        "id": "ZRHa2VOAe-Bg",
        "outputId": "c0e6910b-1776-45b6-cdf1-29e82589f24f",
        "colab": {
          "base_uri": "https://localhost:8080/"
        }
      },
      "source": [
        "# Updating model with optimal k\n",
        "updated_kmeans_model = KMeans(n_clusters=4, init='k-means++', max_iter=500, random_state=42)\n",
        "\n",
        "updated_kmeans_model.fit_predict(customers.iloc[:, 3:])"
      ],
      "execution_count": 62,
      "outputs": [
        {
          "output_type": "execute_result",
          "data": {
            "text/plain": [
              "array([0, 2, 3, ..., 1, 2, 3], dtype=int32)"
            ]
          },
          "metadata": {
            "tags": []
          },
          "execution_count": 62
        }
      ]
    },
    {
      "cell_type": "markdown",
      "metadata": {
        "id": "1A2roXidf6tL"
      },
      "source": [
        "## Adding cluster centers"
      ]
    },
    {
      "cell_type": "code",
      "metadata": {
        "id": "jrduZ14Jfx8x",
        "outputId": "b5e54d7c-feee-4145-c84e-7def6f3552ac",
        "colab": {
          "base_uri": "https://localhost:8080/"
        }
      },
      "source": [
        "# create cluster centers and actual data arrays\n",
        "cluster_centers = updated_kmeans_model.cluster_centers_\n",
        "\n",
        "actual_data = np.expm1(cluster_centers)\n",
        "\n",
        "add_points = np.append(actual_data, cluster_centers, axis=1)\n",
        "\n",
        "add_points"
      ],
      "execution_count": 63,
      "outputs": [
        {
          "output_type": "execute_result",
          "data": {
            "text/plain": [
              "array([[  71.88430588, 1169.77407835,    4.28887333,    7.06542041],\n",
              "       [   2.74546522,   45.3410997 ,    1.32054583,    3.83602925],\n",
              "       [  10.58242858,  164.12363468,    2.44948917,    5.10669449],\n",
              "       [  27.65257117,  377.73799523,    3.35524318,    5.93684466]])"
            ]
          },
          "metadata": {
            "tags": []
          },
          "execution_count": 63
        }
      ]
    },
    {
      "cell_type": "code",
      "metadata": {
        "id": "J5EPmUqTgXSt"
      },
      "source": [
        "# add labels to customers dataframe and add_points array\n",
        "add_points = np.append(add_points, [[0], [1], [2], [3]], axis=1)\n",
        "customers['clusters'] = updated_kmeans_model.labels_"
      ],
      "execution_count": 64,
      "outputs": []
    },
    {
      "cell_type": "code",
      "metadata": {
        "id": "UxTys2JRhBYi",
        "outputId": "80327d38-4ee4-41d2-8620-b7852ae573d8",
        "colab": {
          "base_uri": "https://localhost:8080/",
          "height": 0
        }
      },
      "source": [
        "# create centers dataframe from add_points\n",
        "centers_df = pd.DataFrame(data=add_points, columns=['Products_ordered', 'Total_spending', 'log_Products_ordered', 'log_Total_spending', 'clusters'])\n",
        "\n",
        "centers_df.head()"
      ],
      "execution_count": 65,
      "outputs": [
        {
          "output_type": "execute_result",
          "data": {
            "text/html": [
              "<div>\n",
              "<style scoped>\n",
              "    .dataframe tbody tr th:only-of-type {\n",
              "        vertical-align: middle;\n",
              "    }\n",
              "\n",
              "    .dataframe tbody tr th {\n",
              "        vertical-align: top;\n",
              "    }\n",
              "\n",
              "    .dataframe thead th {\n",
              "        text-align: right;\n",
              "    }\n",
              "</style>\n",
              "<table border=\"1\" class=\"dataframe\">\n",
              "  <thead>\n",
              "    <tr style=\"text-align: right;\">\n",
              "      <th></th>\n",
              "      <th>Products_ordered</th>\n",
              "      <th>Total_spending</th>\n",
              "      <th>log_Products_ordered</th>\n",
              "      <th>log_Total_spending</th>\n",
              "      <th>clusters</th>\n",
              "    </tr>\n",
              "  </thead>\n",
              "  <tbody>\n",
              "    <tr>\n",
              "      <th>0</th>\n",
              "      <td>71.884306</td>\n",
              "      <td>1169.774078</td>\n",
              "      <td>4.288873</td>\n",
              "      <td>7.065420</td>\n",
              "      <td>0.0</td>\n",
              "    </tr>\n",
              "    <tr>\n",
              "      <th>1</th>\n",
              "      <td>2.745465</td>\n",
              "      <td>45.341100</td>\n",
              "      <td>1.320546</td>\n",
              "      <td>3.836029</td>\n",
              "      <td>1.0</td>\n",
              "    </tr>\n",
              "    <tr>\n",
              "      <th>2</th>\n",
              "      <td>10.582429</td>\n",
              "      <td>164.123635</td>\n",
              "      <td>2.449489</td>\n",
              "      <td>5.106694</td>\n",
              "      <td>2.0</td>\n",
              "    </tr>\n",
              "    <tr>\n",
              "      <th>3</th>\n",
              "      <td>27.652571</td>\n",
              "      <td>377.737995</td>\n",
              "      <td>3.355243</td>\n",
              "      <td>5.936845</td>\n",
              "      <td>3.0</td>\n",
              "    </tr>\n",
              "  </tbody>\n",
              "</table>\n",
              "</div>"
            ],
            "text/plain": [
              "   Products_ordered  Total_spending  ...  log_Total_spending  clusters\n",
              "0         71.884306     1169.774078  ...            7.065420       0.0\n",
              "1          2.745465       45.341100  ...            3.836029       1.0\n",
              "2         10.582429      164.123635  ...            5.106694       2.0\n",
              "3         27.652571      377.737995  ...            5.936845       3.0\n",
              "\n",
              "[4 rows x 5 columns]"
            ]
          },
          "metadata": {
            "tags": []
          },
          "execution_count": 65
        }
      ]
    },
    {
      "cell_type": "code",
      "metadata": {
        "id": "C_xf4q9Mha5Z",
        "outputId": "16ef9a83-bd5d-4929-c86d-ef1cbba34b37",
        "colab": {
          "base_uri": "https://localhost:8080/",
          "height": 0
        }
      },
      "source": [
        "# Changing the type of clusters attribute to int\n",
        "centers_df['clusters'] = centers_df['clusters'].astype('int')\n",
        "centers_df.head()"
      ],
      "execution_count": 66,
      "outputs": [
        {
          "output_type": "execute_result",
          "data": {
            "text/html": [
              "<div>\n",
              "<style scoped>\n",
              "    .dataframe tbody tr th:only-of-type {\n",
              "        vertical-align: middle;\n",
              "    }\n",
              "\n",
              "    .dataframe tbody tr th {\n",
              "        vertical-align: top;\n",
              "    }\n",
              "\n",
              "    .dataframe thead th {\n",
              "        text-align: right;\n",
              "    }\n",
              "</style>\n",
              "<table border=\"1\" class=\"dataframe\">\n",
              "  <thead>\n",
              "    <tr style=\"text-align: right;\">\n",
              "      <th></th>\n",
              "      <th>Products_ordered</th>\n",
              "      <th>Total_spending</th>\n",
              "      <th>log_Products_ordered</th>\n",
              "      <th>log_Total_spending</th>\n",
              "      <th>clusters</th>\n",
              "    </tr>\n",
              "  </thead>\n",
              "  <tbody>\n",
              "    <tr>\n",
              "      <th>0</th>\n",
              "      <td>71.884306</td>\n",
              "      <td>1169.774078</td>\n",
              "      <td>4.288873</td>\n",
              "      <td>7.065420</td>\n",
              "      <td>0</td>\n",
              "    </tr>\n",
              "    <tr>\n",
              "      <th>1</th>\n",
              "      <td>2.745465</td>\n",
              "      <td>45.341100</td>\n",
              "      <td>1.320546</td>\n",
              "      <td>3.836029</td>\n",
              "      <td>1</td>\n",
              "    </tr>\n",
              "    <tr>\n",
              "      <th>2</th>\n",
              "      <td>10.582429</td>\n",
              "      <td>164.123635</td>\n",
              "      <td>2.449489</td>\n",
              "      <td>5.106694</td>\n",
              "      <td>2</td>\n",
              "    </tr>\n",
              "    <tr>\n",
              "      <th>3</th>\n",
              "      <td>27.652571</td>\n",
              "      <td>377.737995</td>\n",
              "      <td>3.355243</td>\n",
              "      <td>5.936845</td>\n",
              "      <td>3</td>\n",
              "    </tr>\n",
              "  </tbody>\n",
              "</table>\n",
              "</div>"
            ],
            "text/plain": [
              "   Products_ordered  Total_spending  ...  log_Total_spending  clusters\n",
              "0         71.884306     1169.774078  ...            7.065420         0\n",
              "1          2.745465       45.341100  ...            3.836029         1\n",
              "2         10.582429      164.123635  ...            5.106694         2\n",
              "3         27.652571      377.737995  ...            5.936845         3\n",
              "\n",
              "[4 rows x 5 columns]"
            ]
          },
          "metadata": {
            "tags": []
          },
          "execution_count": 66
        }
      ]
    },
    {
      "cell_type": "code",
      "metadata": {
        "id": "LEUWZqKBhqVv",
        "outputId": "308f0460-53b9-4f83-b646-e446886d9240",
        "colab": {
          "base_uri": "https://localhost:8080/",
          "height": 0
        }
      },
      "source": [
        "customers.head(10)"
      ],
      "execution_count": 67,
      "outputs": [
        {
          "output_type": "execute_result",
          "data": {
            "text/html": [
              "<div>\n",
              "<style scoped>\n",
              "    .dataframe tbody tr th:only-of-type {\n",
              "        vertical-align: middle;\n",
              "    }\n",
              "\n",
              "    .dataframe tbody tr th {\n",
              "        vertical-align: top;\n",
              "    }\n",
              "\n",
              "    .dataframe thead th {\n",
              "        text-align: right;\n",
              "    }\n",
              "</style>\n",
              "<table border=\"1\" class=\"dataframe\">\n",
              "  <thead>\n",
              "    <tr style=\"text-align: right;\">\n",
              "      <th></th>\n",
              "      <th>CustomerID</th>\n",
              "      <th>Products_ordered</th>\n",
              "      <th>Total_spending</th>\n",
              "      <th>log_Products_ordered</th>\n",
              "      <th>log_Total_spending</th>\n",
              "      <th>clusters</th>\n",
              "    </tr>\n",
              "  </thead>\n",
              "  <tbody>\n",
              "    <tr>\n",
              "      <th>0</th>\n",
              "      <td>12347.0</td>\n",
              "      <td>59</td>\n",
              "      <td>1413.03</td>\n",
              "      <td>4.094345</td>\n",
              "      <td>7.254199</td>\n",
              "      <td>0</td>\n",
              "    </tr>\n",
              "    <tr>\n",
              "      <th>1</th>\n",
              "      <td>12348.0</td>\n",
              "      <td>6</td>\n",
              "      <td>90.20</td>\n",
              "      <td>1.945910</td>\n",
              "      <td>4.513055</td>\n",
              "      <td>2</td>\n",
              "    </tr>\n",
              "    <tr>\n",
              "      <th>2</th>\n",
              "      <td>12350.0</td>\n",
              "      <td>16</td>\n",
              "      <td>294.40</td>\n",
              "      <td>2.833213</td>\n",
              "      <td>5.688330</td>\n",
              "      <td>3</td>\n",
              "    </tr>\n",
              "    <tr>\n",
              "      <th>3</th>\n",
              "      <td>12352.0</td>\n",
              "      <td>21</td>\n",
              "      <td>539.41</td>\n",
              "      <td>3.091042</td>\n",
              "      <td>6.292328</td>\n",
              "      <td>3</td>\n",
              "    </tr>\n",
              "    <tr>\n",
              "      <th>4</th>\n",
              "      <td>12356.0</td>\n",
              "      <td>33</td>\n",
              "      <td>1086.56</td>\n",
              "      <td>3.526361</td>\n",
              "      <td>6.991692</td>\n",
              "      <td>0</td>\n",
              "    </tr>\n",
              "    <tr>\n",
              "      <th>5</th>\n",
              "      <td>12359.0</td>\n",
              "      <td>64</td>\n",
              "      <td>1022.31</td>\n",
              "      <td>4.174387</td>\n",
              "      <td>6.930798</td>\n",
              "      <td>0</td>\n",
              "    </tr>\n",
              "    <tr>\n",
              "      <th>6</th>\n",
              "      <td>12361.0</td>\n",
              "      <td>9</td>\n",
              "      <td>174.90</td>\n",
              "      <td>2.302585</td>\n",
              "      <td>5.169916</td>\n",
              "      <td>2</td>\n",
              "    </tr>\n",
              "    <tr>\n",
              "      <th>7</th>\n",
              "      <td>12362.0</td>\n",
              "      <td>26</td>\n",
              "      <td>434.10</td>\n",
              "      <td>3.295837</td>\n",
              "      <td>6.075576</td>\n",
              "      <td>3</td>\n",
              "    </tr>\n",
              "    <tr>\n",
              "      <th>8</th>\n",
              "      <td>12365.0</td>\n",
              "      <td>20</td>\n",
              "      <td>307.94</td>\n",
              "      <td>3.044522</td>\n",
              "      <td>5.733147</td>\n",
              "      <td>3</td>\n",
              "    </tr>\n",
              "    <tr>\n",
              "      <th>9</th>\n",
              "      <td>12370.0</td>\n",
              "      <td>114</td>\n",
              "      <td>2031.75</td>\n",
              "      <td>4.744932</td>\n",
              "      <td>7.617145</td>\n",
              "      <td>0</td>\n",
              "    </tr>\n",
              "  </tbody>\n",
              "</table>\n",
              "</div>"
            ],
            "text/plain": [
              "   CustomerID  Products_ordered  ...  log_Total_spending  clusters\n",
              "0     12347.0                59  ...            7.254199         0\n",
              "1     12348.0                 6  ...            4.513055         2\n",
              "2     12350.0                16  ...            5.688330         3\n",
              "3     12352.0                21  ...            6.292328         3\n",
              "4     12356.0                33  ...            6.991692         0\n",
              "5     12359.0                64  ...            6.930798         0\n",
              "6     12361.0                 9  ...            5.169916         2\n",
              "7     12362.0                26  ...            6.075576         3\n",
              "8     12365.0                20  ...            5.733147         3\n",
              "9     12370.0               114  ...            7.617145         0\n",
              "\n",
              "[10 rows x 6 columns]"
            ]
          },
          "metadata": {
            "tags": []
          },
          "execution_count": 67
        }
      ]
    },
    {
      "cell_type": "markdown",
      "metadata": {
        "id": "TrMEVRMk8sIP"
      },
      "source": [
        "## **Cluster Visualization**"
      ]
    },
    {
      "cell_type": "code",
      "metadata": {
        "id": "dUh5rwLyhvOQ",
        "outputId": "d4849fe6-0c70-4477-990c-99deff982f44",
        "colab": {
          "base_uri": "https://localhost:8080/",
          "height": 0
        }
      },
      "source": [
        "# Creating the attribute Cluster_name\n",
        "customers['Cluster_name'] = customers['clusters'].astype(str)\n",
        "\n",
        "customers.head(10)"
      ],
      "execution_count": 68,
      "outputs": [
        {
          "output_type": "execute_result",
          "data": {
            "text/html": [
              "<div>\n",
              "<style scoped>\n",
              "    .dataframe tbody tr th:only-of-type {\n",
              "        vertical-align: middle;\n",
              "    }\n",
              "\n",
              "    .dataframe tbody tr th {\n",
              "        vertical-align: top;\n",
              "    }\n",
              "\n",
              "    .dataframe thead th {\n",
              "        text-align: right;\n",
              "    }\n",
              "</style>\n",
              "<table border=\"1\" class=\"dataframe\">\n",
              "  <thead>\n",
              "    <tr style=\"text-align: right;\">\n",
              "      <th></th>\n",
              "      <th>CustomerID</th>\n",
              "      <th>Products_ordered</th>\n",
              "      <th>Total_spending</th>\n",
              "      <th>log_Products_ordered</th>\n",
              "      <th>log_Total_spending</th>\n",
              "      <th>clusters</th>\n",
              "      <th>Cluster_name</th>\n",
              "    </tr>\n",
              "  </thead>\n",
              "  <tbody>\n",
              "    <tr>\n",
              "      <th>0</th>\n",
              "      <td>12347.0</td>\n",
              "      <td>59</td>\n",
              "      <td>1413.03</td>\n",
              "      <td>4.094345</td>\n",
              "      <td>7.254199</td>\n",
              "      <td>0</td>\n",
              "      <td>0</td>\n",
              "    </tr>\n",
              "    <tr>\n",
              "      <th>1</th>\n",
              "      <td>12348.0</td>\n",
              "      <td>6</td>\n",
              "      <td>90.20</td>\n",
              "      <td>1.945910</td>\n",
              "      <td>4.513055</td>\n",
              "      <td>2</td>\n",
              "      <td>2</td>\n",
              "    </tr>\n",
              "    <tr>\n",
              "      <th>2</th>\n",
              "      <td>12350.0</td>\n",
              "      <td>16</td>\n",
              "      <td>294.40</td>\n",
              "      <td>2.833213</td>\n",
              "      <td>5.688330</td>\n",
              "      <td>3</td>\n",
              "      <td>3</td>\n",
              "    </tr>\n",
              "    <tr>\n",
              "      <th>3</th>\n",
              "      <td>12352.0</td>\n",
              "      <td>21</td>\n",
              "      <td>539.41</td>\n",
              "      <td>3.091042</td>\n",
              "      <td>6.292328</td>\n",
              "      <td>3</td>\n",
              "      <td>3</td>\n",
              "    </tr>\n",
              "    <tr>\n",
              "      <th>4</th>\n",
              "      <td>12356.0</td>\n",
              "      <td>33</td>\n",
              "      <td>1086.56</td>\n",
              "      <td>3.526361</td>\n",
              "      <td>6.991692</td>\n",
              "      <td>0</td>\n",
              "      <td>0</td>\n",
              "    </tr>\n",
              "    <tr>\n",
              "      <th>5</th>\n",
              "      <td>12359.0</td>\n",
              "      <td>64</td>\n",
              "      <td>1022.31</td>\n",
              "      <td>4.174387</td>\n",
              "      <td>6.930798</td>\n",
              "      <td>0</td>\n",
              "      <td>0</td>\n",
              "    </tr>\n",
              "    <tr>\n",
              "      <th>6</th>\n",
              "      <td>12361.0</td>\n",
              "      <td>9</td>\n",
              "      <td>174.90</td>\n",
              "      <td>2.302585</td>\n",
              "      <td>5.169916</td>\n",
              "      <td>2</td>\n",
              "      <td>2</td>\n",
              "    </tr>\n",
              "    <tr>\n",
              "      <th>7</th>\n",
              "      <td>12362.0</td>\n",
              "      <td>26</td>\n",
              "      <td>434.10</td>\n",
              "      <td>3.295837</td>\n",
              "      <td>6.075576</td>\n",
              "      <td>3</td>\n",
              "      <td>3</td>\n",
              "    </tr>\n",
              "    <tr>\n",
              "      <th>8</th>\n",
              "      <td>12365.0</td>\n",
              "      <td>20</td>\n",
              "      <td>307.94</td>\n",
              "      <td>3.044522</td>\n",
              "      <td>5.733147</td>\n",
              "      <td>3</td>\n",
              "      <td>3</td>\n",
              "    </tr>\n",
              "    <tr>\n",
              "      <th>9</th>\n",
              "      <td>12370.0</td>\n",
              "      <td>114</td>\n",
              "      <td>2031.75</td>\n",
              "      <td>4.744932</td>\n",
              "      <td>7.617145</td>\n",
              "      <td>0</td>\n",
              "      <td>0</td>\n",
              "    </tr>\n",
              "  </tbody>\n",
              "</table>\n",
              "</div>"
            ],
            "text/plain": [
              "   CustomerID  Products_ordered  ...  clusters  Cluster_name\n",
              "0     12347.0                59  ...         0             0\n",
              "1     12348.0                 6  ...         2             2\n",
              "2     12350.0                16  ...         3             3\n",
              "3     12352.0                21  ...         3             3\n",
              "4     12356.0                33  ...         0             0\n",
              "5     12359.0                64  ...         0             0\n",
              "6     12361.0                 9  ...         2             2\n",
              "7     12362.0                26  ...         3             3\n",
              "8     12365.0                20  ...         3             3\n",
              "9     12370.0               114  ...         0             0\n",
              "\n",
              "[10 rows x 7 columns]"
            ]
          },
          "metadata": {
            "tags": []
          },
          "execution_count": 68
        }
      ]
    },
    {
      "cell_type": "code",
      "metadata": {
        "id": "4aez6z9S9O69",
        "outputId": "3518a2de-73f4-4568-cdc7-0f95f1e776f3",
        "colab": {
          "base_uri": "https://localhost:8080/",
          "height": 0
        }
      },
      "source": [
        "# Obtaining the value counts of all the clusters.\n",
        "magnitude_df = pd.DataFrame(customers.Cluster_name.value_counts().reset_index())\n",
        "\n",
        "magnitude_df.rename(columns={'index':'Customer Groups', 'Cluster_name': 'Customer Group Magnitude'}, inplace=True)\n",
        "\n",
        "magnitude_df"
      ],
      "execution_count": 69,
      "outputs": [
        {
          "output_type": "execute_result",
          "data": {
            "text/html": [
              "<div>\n",
              "<style scoped>\n",
              "    .dataframe tbody tr th:only-of-type {\n",
              "        vertical-align: middle;\n",
              "    }\n",
              "\n",
              "    .dataframe tbody tr th {\n",
              "        vertical-align: top;\n",
              "    }\n",
              "\n",
              "    .dataframe thead th {\n",
              "        text-align: right;\n",
              "    }\n",
              "</style>\n",
              "<table border=\"1\" class=\"dataframe\">\n",
              "  <thead>\n",
              "    <tr style=\"text-align: right;\">\n",
              "      <th></th>\n",
              "      <th>Customer Groups</th>\n",
              "      <th>Customer Group Magnitude</th>\n",
              "    </tr>\n",
              "  </thead>\n",
              "  <tbody>\n",
              "    <tr>\n",
              "      <th>0</th>\n",
              "      <td>3</td>\n",
              "      <td>786</td>\n",
              "    </tr>\n",
              "    <tr>\n",
              "      <th>1</th>\n",
              "      <td>2</td>\n",
              "      <td>662</td>\n",
              "    </tr>\n",
              "    <tr>\n",
              "      <th>2</th>\n",
              "      <td>0</td>\n",
              "      <td>464</td>\n",
              "    </tr>\n",
              "    <tr>\n",
              "      <th>3</th>\n",
              "      <td>1</td>\n",
              "      <td>229</td>\n",
              "    </tr>\n",
              "  </tbody>\n",
              "</table>\n",
              "</div>"
            ],
            "text/plain": [
              "  Customer Groups  Customer Group Magnitude\n",
              "0               3                       786\n",
              "1               2                       662\n",
              "2               0                       464\n",
              "3               1                       229"
            ]
          },
          "metadata": {
            "tags": []
          },
          "execution_count": 69
        }
      ]
    },
    {
      "cell_type": "code",
      "metadata": {
        "id": "4e82hqOs91vk",
        "outputId": "53edbd67-d132-4e90-8ae5-7d9ccf7fe9b9",
        "colab": {
          "base_uri": "https://localhost:8080/",
          "height": 0
        }
      },
      "source": [
        "# Plotting the bar graph to interpret the number of customers in each clusters\n",
        "plt.bar(magnitude_df['Customer Groups'], magnitude_df['Customer Group Magnitude'], color=['green', 'red', 'blue', 'purple'])\n",
        "plt.xlabel('Customer Groups')\n",
        "plt.ylabel('Customer Group Magnitude')\n",
        "plt.title('Variation in Customer Groups')\n",
        "plt.show()"
      ],
      "execution_count": 70,
      "outputs": [
        {
          "output_type": "display_data",
          "data": {
            "image/png": "[encoded data removed]",
            "text/plain": [
              "<Figure size 432x288 with 1 Axes>"
            ]
          },
          "metadata": {
            "tags": [],
            "needs_background": "light"
          }
        }
      ]
    },
    {
      "cell_type": "markdown",
      "metadata": {
        "id": "1Xg7Hfyh_XwM"
      },
      "source": [
        "# <font color=\"blue\">**Customer Profiling**</font>"
      ]
    },
    {
      "cell_type": "markdown",
      "metadata": {
        "id": "36OzKmf0_rBn"
      },
      "source": [
        "## Number of products brought by each customerID"
      ]
    },
    {
      "cell_type": "code",
      "metadata": {
        "id": "4B_QeUM2-elw",
        "outputId": "613dfcae-a001-4b67-98e8-0e419133465d",
        "colab": {
          "base_uri": "https://localhost:8080/",
          "height": 0
        }
      },
      "source": [
        "customers.iloc[:,:2]"
      ],
      "execution_count": 71,
      "outputs": [
        {
          "output_type": "execute_result",
          "data": {
            "text/html": [
              "<div>\n",
              "<style scoped>\n",
              "    .dataframe tbody tr th:only-of-type {\n",
              "        vertical-align: middle;\n",
              "    }\n",
              "\n",
              "    .dataframe tbody tr th {\n",
              "        vertical-align: top;\n",
              "    }\n",
              "\n",
              "    .dataframe thead th {\n",
              "        text-align: right;\n",
              "    }\n",
              "</style>\n",
              "<table border=\"1\" class=\"dataframe\">\n",
              "  <thead>\n",
              "    <tr style=\"text-align: right;\">\n",
              "      <th></th>\n",
              "      <th>CustomerID</th>\n",
              "      <th>Products_ordered</th>\n",
              "    </tr>\n",
              "  </thead>\n",
              "  <tbody>\n",
              "    <tr>\n",
              "      <th>0</th>\n",
              "      <td>12347.0</td>\n",
              "      <td>59</td>\n",
              "    </tr>\n",
              "    <tr>\n",
              "      <th>1</th>\n",
              "      <td>12348.0</td>\n",
              "      <td>6</td>\n",
              "    </tr>\n",
              "    <tr>\n",
              "      <th>2</th>\n",
              "      <td>12350.0</td>\n",
              "      <td>16</td>\n",
              "    </tr>\n",
              "    <tr>\n",
              "      <th>3</th>\n",
              "      <td>12352.0</td>\n",
              "      <td>21</td>\n",
              "    </tr>\n",
              "    <tr>\n",
              "      <th>4</th>\n",
              "      <td>12356.0</td>\n",
              "      <td>33</td>\n",
              "    </tr>\n",
              "    <tr>\n",
              "      <th>...</th>\n",
              "      <td>...</td>\n",
              "      <td>...</td>\n",
              "    </tr>\n",
              "    <tr>\n",
              "      <th>2136</th>\n",
              "      <td>18270.0</td>\n",
              "      <td>4</td>\n",
              "    </tr>\n",
              "    <tr>\n",
              "      <th>2137</th>\n",
              "      <td>18272.0</td>\n",
              "      <td>29</td>\n",
              "    </tr>\n",
              "    <tr>\n",
              "      <th>2138</th>\n",
              "      <td>18273.0</td>\n",
              "      <td>1</td>\n",
              "    </tr>\n",
              "    <tr>\n",
              "      <th>2139</th>\n",
              "      <td>18280.0</td>\n",
              "      <td>8</td>\n",
              "    </tr>\n",
              "    <tr>\n",
              "      <th>2140</th>\n",
              "      <td>18283.0</td>\n",
              "      <td>103</td>\n",
              "    </tr>\n",
              "  </tbody>\n",
              "</table>\n",
              "<p>2141 rows × 2 columns</p>\n",
              "</div>"
            ],
            "text/plain": [
              "      CustomerID  Products_ordered\n",
              "0        12347.0                59\n",
              "1        12348.0                 6\n",
              "2        12350.0                16\n",
              "3        12352.0                21\n",
              "4        12356.0                33\n",
              "...          ...               ...\n",
              "2136     18270.0                 4\n",
              "2137     18272.0                29\n",
              "2138     18273.0                 1\n",
              "2139     18280.0                 8\n",
              "2140     18283.0               103\n",
              "\n",
              "[2141 rows x 2 columns]"
            ]
          },
          "metadata": {
            "tags": []
          },
          "execution_count": 71
        }
      ]
    },
    {
      "cell_type": "markdown",
      "metadata": {
        "id": "Ilt80QiZ_1JK"
      },
      "source": [
        "## Total bill of each customerID"
      ]
    },
    {
      "cell_type": "code",
      "metadata": {
        "id": "EnYZ0inl_yME",
        "outputId": "4f0f9309-d2e5-4ca4-8f5e-8561b4f9974c",
        "colab": {
          "base_uri": "https://localhost:8080/",
          "height": 0
        }
      },
      "source": [
        "customers[['CustomerID', 'Total_spending']]"
      ],
      "execution_count": 72,
      "outputs": [
        {
          "output_type": "execute_result",
          "data": {
            "text/html": [
              "<div>\n",
              "<style scoped>\n",
              "    .dataframe tbody tr th:only-of-type {\n",
              "        vertical-align: middle;\n",
              "    }\n",
              "\n",
              "    .dataframe tbody tr th {\n",
              "        vertical-align: top;\n",
              "    }\n",
              "\n",
              "    .dataframe thead th {\n",
              "        text-align: right;\n",
              "    }\n",
              "</style>\n",
              "<table border=\"1\" class=\"dataframe\">\n",
              "  <thead>\n",
              "    <tr style=\"text-align: right;\">\n",
              "      <th></th>\n",
              "      <th>CustomerID</th>\n",
              "      <th>Total_spending</th>\n",
              "    </tr>\n",
              "  </thead>\n",
              "  <tbody>\n",
              "    <tr>\n",
              "      <th>0</th>\n",
              "      <td>12347.0</td>\n",
              "      <td>1413.03</td>\n",
              "    </tr>\n",
              "    <tr>\n",
              "      <th>1</th>\n",
              "      <td>12348.0</td>\n",
              "      <td>90.20</td>\n",
              "    </tr>\n",
              "    <tr>\n",
              "      <th>2</th>\n",
              "      <td>12350.0</td>\n",
              "      <td>294.40</td>\n",
              "    </tr>\n",
              "    <tr>\n",
              "      <th>3</th>\n",
              "      <td>12352.0</td>\n",
              "      <td>539.41</td>\n",
              "    </tr>\n",
              "    <tr>\n",
              "      <th>4</th>\n",
              "      <td>12356.0</td>\n",
              "      <td>1086.56</td>\n",
              "    </tr>\n",
              "    <tr>\n",
              "      <th>...</th>\n",
              "      <td>...</td>\n",
              "      <td>...</td>\n",
              "    </tr>\n",
              "    <tr>\n",
              "      <th>2136</th>\n",
              "      <td>18270.0</td>\n",
              "      <td>73.70</td>\n",
              "    </tr>\n",
              "    <tr>\n",
              "      <th>2137</th>\n",
              "      <td>18272.0</td>\n",
              "      <td>564.94</td>\n",
              "    </tr>\n",
              "    <tr>\n",
              "      <th>2138</th>\n",
              "      <td>18273.0</td>\n",
              "      <td>51.00</td>\n",
              "    </tr>\n",
              "    <tr>\n",
              "      <th>2139</th>\n",
              "      <td>18280.0</td>\n",
              "      <td>137.00</td>\n",
              "    </tr>\n",
              "    <tr>\n",
              "      <th>2140</th>\n",
              "      <td>18283.0</td>\n",
              "      <td>299.45</td>\n",
              "    </tr>\n",
              "  </tbody>\n",
              "</table>\n",
              "<p>2141 rows × 2 columns</p>\n",
              "</div>"
            ],
            "text/plain": [
              "      CustomerID  Total_spending\n",
              "0        12347.0         1413.03\n",
              "1        12348.0           90.20\n",
              "2        12350.0          294.40\n",
              "3        12352.0          539.41\n",
              "4        12356.0         1086.56\n",
              "...          ...             ...\n",
              "2136     18270.0           73.70\n",
              "2137     18272.0          564.94\n",
              "2138     18273.0           51.00\n",
              "2139     18280.0          137.00\n",
              "2140     18283.0          299.45\n",
              "\n",
              "[2141 rows x 2 columns]"
            ]
          },
          "metadata": {
            "tags": []
          },
          "execution_count": 72
        }
      ]
    },
    {
      "cell_type": "markdown",
      "metadata": {
        "id": "l1uX-SBOAA_4"
      },
      "source": [
        "## **Customers Grouping based on customer segmentation**"
      ]
    },
    {
      "cell_type": "markdown",
      "metadata": {
        "id": "xKIoBkqeAG9n"
      },
      "source": [
        "### **Group 0**"
      ]
    },
    {
      "cell_type": "code",
      "metadata": {
        "id": "xtvo4AdD_9I6",
        "outputId": "b137ba1e-7ac4-43e7-f1fc-08fa06695fa6",
        "colab": {
          "base_uri": "https://localhost:8080/",
          "height": 0
        }
      },
      "source": [
        "customers[customers['clusters'] == 0]"
      ],
      "execution_count": 73,
      "outputs": [
        {
          "output_type": "execute_result",
          "data": {
            "text/html": [
              "<div>\n",
              "<style scoped>\n",
              "    .dataframe tbody tr th:only-of-type {\n",
              "        vertical-align: middle;\n",
              "    }\n",
              "\n",
              "    .dataframe tbody tr th {\n",
              "        vertical-align: top;\n",
              "    }\n",
              "\n",
              "    .dataframe thead th {\n",
              "        text-align: right;\n",
              "    }\n",
              "</style>\n",
              "<table border=\"1\" class=\"dataframe\">\n",
              "  <thead>\n",
              "    <tr style=\"text-align: right;\">\n",
              "      <th></th>\n",
              "      <th>CustomerID</th>\n",
              "      <th>Products_ordered</th>\n",
              "      <th>Total_spending</th>\n",
              "      <th>log_Products_ordered</th>\n",
              "      <th>log_Total_spending</th>\n",
              "      <th>clusters</th>\n",
              "      <th>Cluster_name</th>\n",
              "    </tr>\n",
              "  </thead>\n",
              "  <tbody>\n",
              "    <tr>\n",
              "      <th>0</th>\n",
              "      <td>12347.0</td>\n",
              "      <td>59</td>\n",
              "      <td>1413.03</td>\n",
              "      <td>4.094345</td>\n",
              "      <td>7.254199</td>\n",
              "      <td>0</td>\n",
              "      <td>0</td>\n",
              "    </tr>\n",
              "    <tr>\n",
              "      <th>4</th>\n",
              "      <td>12356.0</td>\n",
              "      <td>33</td>\n",
              "      <td>1086.56</td>\n",
              "      <td>3.526361</td>\n",
              "      <td>6.991692</td>\n",
              "      <td>0</td>\n",
              "      <td>0</td>\n",
              "    </tr>\n",
              "    <tr>\n",
              "      <th>5</th>\n",
              "      <td>12359.0</td>\n",
              "      <td>64</td>\n",
              "      <td>1022.31</td>\n",
              "      <td>4.174387</td>\n",
              "      <td>6.930798</td>\n",
              "      <td>0</td>\n",
              "      <td>0</td>\n",
              "    </tr>\n",
              "    <tr>\n",
              "      <th>9</th>\n",
              "      <td>12370.0</td>\n",
              "      <td>114</td>\n",
              "      <td>2031.75</td>\n",
              "      <td>4.744932</td>\n",
              "      <td>7.617145</td>\n",
              "      <td>0</td>\n",
              "      <td>0</td>\n",
              "    </tr>\n",
              "    <tr>\n",
              "      <th>12</th>\n",
              "      <td>12377.0</td>\n",
              "      <td>69</td>\n",
              "      <td>1472.52</td>\n",
              "      <td>4.248495</td>\n",
              "      <td>7.295409</td>\n",
              "      <td>0</td>\n",
              "      <td>0</td>\n",
              "    </tr>\n",
              "    <tr>\n",
              "      <th>...</th>\n",
              "      <td>...</td>\n",
              "      <td>...</td>\n",
              "      <td>...</td>\n",
              "      <td>...</td>\n",
              "      <td>...</td>\n",
              "      <td>...</td>\n",
              "      <td>...</td>\n",
              "    </tr>\n",
              "    <tr>\n",
              "      <th>2123</th>\n",
              "      <td>18225.0</td>\n",
              "      <td>53</td>\n",
              "      <td>903.76</td>\n",
              "      <td>3.988984</td>\n",
              "      <td>6.807670</td>\n",
              "      <td>0</td>\n",
              "      <td>0</td>\n",
              "    </tr>\n",
              "    <tr>\n",
              "      <th>2124</th>\n",
              "      <td>18226.0</td>\n",
              "      <td>44</td>\n",
              "      <td>872.00</td>\n",
              "      <td>3.806662</td>\n",
              "      <td>6.771936</td>\n",
              "      <td>0</td>\n",
              "      <td>0</td>\n",
              "    </tr>\n",
              "    <tr>\n",
              "      <th>2128</th>\n",
              "      <td>18239.0</td>\n",
              "      <td>54</td>\n",
              "      <td>1011.00</td>\n",
              "      <td>4.007333</td>\n",
              "      <td>6.919684</td>\n",
              "      <td>0</td>\n",
              "      <td>0</td>\n",
              "    </tr>\n",
              "    <tr>\n",
              "      <th>2129</th>\n",
              "      <td>18245.0</td>\n",
              "      <td>50</td>\n",
              "      <td>693.68</td>\n",
              "      <td>3.931826</td>\n",
              "      <td>6.543451</td>\n",
              "      <td>0</td>\n",
              "      <td>0</td>\n",
              "    </tr>\n",
              "    <tr>\n",
              "      <th>2133</th>\n",
              "      <td>18260.0</td>\n",
              "      <td>50</td>\n",
              "      <td>1055.65</td>\n",
              "      <td>3.931826</td>\n",
              "      <td>6.962859</td>\n",
              "      <td>0</td>\n",
              "      <td>0</td>\n",
              "    </tr>\n",
              "  </tbody>\n",
              "</table>\n",
              "<p>464 rows × 7 columns</p>\n",
              "</div>"
            ],
            "text/plain": [
              "      CustomerID  Products_ordered  ...  clusters  Cluster_name\n",
              "0        12347.0                59  ...         0             0\n",
              "4        12356.0                33  ...         0             0\n",
              "5        12359.0                64  ...         0             0\n",
              "9        12370.0               114  ...         0             0\n",
              "12       12377.0                69  ...         0             0\n",
              "...          ...               ...  ...       ...           ...\n",
              "2123     18225.0                53  ...         0             0\n",
              "2124     18226.0                44  ...         0             0\n",
              "2128     18239.0                54  ...         0             0\n",
              "2129     18245.0                50  ...         0             0\n",
              "2133     18260.0                50  ...         0             0\n",
              "\n",
              "[464 rows x 7 columns]"
            ]
          },
          "metadata": {
            "tags": []
          },
          "execution_count": 73
        }
      ]
    },
    {
      "cell_type": "markdown",
      "metadata": {
        "id": "gzbJ0nWUAUsB"
      },
      "source": [
        "### **Group1**"
      ]
    },
    {
      "cell_type": "code",
      "metadata": {
        "id": "DzCtKdTfAO0X",
        "outputId": "14d298a3-fab4-4a2f-9622-421fb7c120f2",
        "colab": {
          "base_uri": "https://localhost:8080/",
          "height": 0
        }
      },
      "source": [
        "customers[customers['clusters'] == 1]"
      ],
      "execution_count": 74,
      "outputs": [
        {
          "output_type": "execute_result",
          "data": {
            "text/html": [
              "<div>\n",
              "<style scoped>\n",
              "    .dataframe tbody tr th:only-of-type {\n",
              "        vertical-align: middle;\n",
              "    }\n",
              "\n",
              "    .dataframe tbody tr th {\n",
              "        vertical-align: top;\n",
              "    }\n",
              "\n",
              "    .dataframe thead th {\n",
              "        text-align: right;\n",
              "    }\n",
              "</style>\n",
              "<table border=\"1\" class=\"dataframe\">\n",
              "  <thead>\n",
              "    <tr style=\"text-align: right;\">\n",
              "      <th></th>\n",
              "      <th>CustomerID</th>\n",
              "      <th>Products_ordered</th>\n",
              "      <th>Total_spending</th>\n",
              "      <th>log_Products_ordered</th>\n",
              "      <th>log_Total_spending</th>\n",
              "      <th>clusters</th>\n",
              "      <th>Cluster_name</th>\n",
              "    </tr>\n",
              "  </thead>\n",
              "  <tbody>\n",
              "    <tr>\n",
              "      <th>19</th>\n",
              "      <td>12401.0</td>\n",
              "      <td>2</td>\n",
              "      <td>32.85</td>\n",
              "      <td>1.098612</td>\n",
              "      <td>3.521939</td>\n",
              "      <td>1</td>\n",
              "      <td>1</td>\n",
              "    </tr>\n",
              "    <tr>\n",
              "      <th>25</th>\n",
              "      <td>12414.0</td>\n",
              "      <td>4</td>\n",
              "      <td>75.00</td>\n",
              "      <td>1.609438</td>\n",
              "      <td>4.330733</td>\n",
              "      <td>1</td>\n",
              "      <td>1</td>\n",
              "    </tr>\n",
              "    <tr>\n",
              "      <th>37</th>\n",
              "      <td>12435.0</td>\n",
              "      <td>2</td>\n",
              "      <td>78.00</td>\n",
              "      <td>1.098612</td>\n",
              "      <td>4.369448</td>\n",
              "      <td>1</td>\n",
              "      <td>1</td>\n",
              "    </tr>\n",
              "    <tr>\n",
              "      <th>46</th>\n",
              "      <td>12464.0</td>\n",
              "      <td>1</td>\n",
              "      <td>30.60</td>\n",
              "      <td>0.693147</td>\n",
              "      <td>3.453157</td>\n",
              "      <td>1</td>\n",
              "      <td>1</td>\n",
              "    </tr>\n",
              "    <tr>\n",
              "      <th>108</th>\n",
              "      <td>12619.0</td>\n",
              "      <td>1</td>\n",
              "      <td>10.08</td>\n",
              "      <td>0.693147</td>\n",
              "      <td>2.405142</td>\n",
              "      <td>1</td>\n",
              "      <td>1</td>\n",
              "    </tr>\n",
              "    <tr>\n",
              "      <th>...</th>\n",
              "      <td>...</td>\n",
              "      <td>...</td>\n",
              "      <td>...</td>\n",
              "      <td>...</td>\n",
              "      <td>...</td>\n",
              "      <td>...</td>\n",
              "      <td>...</td>\n",
              "    </tr>\n",
              "    <tr>\n",
              "      <th>2065</th>\n",
              "      <td>18062.0</td>\n",
              "      <td>1</td>\n",
              "      <td>15.00</td>\n",
              "      <td>0.693147</td>\n",
              "      <td>2.772589</td>\n",
              "      <td>1</td>\n",
              "      <td>1</td>\n",
              "    </tr>\n",
              "    <tr>\n",
              "      <th>2090</th>\n",
              "      <td>18138.0</td>\n",
              "      <td>4</td>\n",
              "      <td>67.80</td>\n",
              "      <td>1.609438</td>\n",
              "      <td>4.231204</td>\n",
              "      <td>1</td>\n",
              "      <td>1</td>\n",
              "    </tr>\n",
              "    <tr>\n",
              "      <th>2112</th>\n",
              "      <td>18191.0</td>\n",
              "      <td>2</td>\n",
              "      <td>37.40</td>\n",
              "      <td>1.098612</td>\n",
              "      <td>3.648057</td>\n",
              "      <td>1</td>\n",
              "      <td>1</td>\n",
              "    </tr>\n",
              "    <tr>\n",
              "      <th>2136</th>\n",
              "      <td>18270.0</td>\n",
              "      <td>4</td>\n",
              "      <td>73.70</td>\n",
              "      <td>1.609438</td>\n",
              "      <td>4.313480</td>\n",
              "      <td>1</td>\n",
              "      <td>1</td>\n",
              "    </tr>\n",
              "    <tr>\n",
              "      <th>2138</th>\n",
              "      <td>18273.0</td>\n",
              "      <td>1</td>\n",
              "      <td>51.00</td>\n",
              "      <td>0.693147</td>\n",
              "      <td>3.951244</td>\n",
              "      <td>1</td>\n",
              "      <td>1</td>\n",
              "    </tr>\n",
              "  </tbody>\n",
              "</table>\n",
              "<p>229 rows × 7 columns</p>\n",
              "</div>"
            ],
            "text/plain": [
              "      CustomerID  Products_ordered  ...  clusters  Cluster_name\n",
              "19       12401.0                 2  ...         1             1\n",
              "25       12414.0                 4  ...         1             1\n",
              "37       12435.0                 2  ...         1             1\n",
              "46       12464.0                 1  ...         1             1\n",
              "108      12619.0                 1  ...         1             1\n",
              "...          ...               ...  ...       ...           ...\n",
              "2065     18062.0                 1  ...         1             1\n",
              "2090     18138.0                 4  ...         1             1\n",
              "2112     18191.0                 2  ...         1             1\n",
              "2136     18270.0                 4  ...         1             1\n",
              "2138     18273.0                 1  ...         1             1\n",
              "\n",
              "[229 rows x 7 columns]"
            ]
          },
          "metadata": {
            "tags": []
          },
          "execution_count": 74
        }
      ]
    },
    {
      "cell_type": "markdown",
      "metadata": {
        "id": "NNcYNfKtAe6L"
      },
      "source": [
        "### **Group2**"
      ]
    },
    {
      "cell_type": "code",
      "metadata": {
        "id": "p72pNwfcAbq_",
        "outputId": "029fc37f-590d-4628-e47c-892d7b459edd",
        "colab": {
          "base_uri": "https://localhost:8080/",
          "height": 0
        }
      },
      "source": [
        "customers[customers['clusters'] == 2]"
      ],
      "execution_count": 75,
      "outputs": [
        {
          "output_type": "execute_result",
          "data": {
            "text/html": [
              "<div>\n",
              "<style scoped>\n",
              "    .dataframe tbody tr th:only-of-type {\n",
              "        vertical-align: middle;\n",
              "    }\n",
              "\n",
              "    .dataframe tbody tr th {\n",
              "        vertical-align: top;\n",
              "    }\n",
              "\n",
              "    .dataframe thead th {\n",
              "        text-align: right;\n",
              "    }\n",
              "</style>\n",
              "<table border=\"1\" class=\"dataframe\">\n",
              "  <thead>\n",
              "    <tr style=\"text-align: right;\">\n",
              "      <th></th>\n",
              "      <th>CustomerID</th>\n",
              "      <th>Products_ordered</th>\n",
              "      <th>Total_spending</th>\n",
              "      <th>log_Products_ordered</th>\n",
              "      <th>log_Total_spending</th>\n",
              "      <th>clusters</th>\n",
              "      <th>Cluster_name</th>\n",
              "    </tr>\n",
              "  </thead>\n",
              "  <tbody>\n",
              "    <tr>\n",
              "      <th>1</th>\n",
              "      <td>12348.0</td>\n",
              "      <td>6</td>\n",
              "      <td>90.20</td>\n",
              "      <td>1.945910</td>\n",
              "      <td>4.513055</td>\n",
              "      <td>2</td>\n",
              "      <td>2</td>\n",
              "    </tr>\n",
              "    <tr>\n",
              "      <th>6</th>\n",
              "      <td>12361.0</td>\n",
              "      <td>9</td>\n",
              "      <td>174.90</td>\n",
              "      <td>2.302585</td>\n",
              "      <td>5.169916</td>\n",
              "      <td>2</td>\n",
              "      <td>2</td>\n",
              "    </tr>\n",
              "    <tr>\n",
              "      <th>11</th>\n",
              "      <td>12373.0</td>\n",
              "      <td>12</td>\n",
              "      <td>299.10</td>\n",
              "      <td>2.564949</td>\n",
              "      <td>5.704116</td>\n",
              "      <td>2</td>\n",
              "      <td>2</td>\n",
              "    </tr>\n",
              "    <tr>\n",
              "      <th>14</th>\n",
              "      <td>12386.0</td>\n",
              "      <td>7</td>\n",
              "      <td>215.70</td>\n",
              "      <td>2.079442</td>\n",
              "      <td>5.378514</td>\n",
              "      <td>2</td>\n",
              "      <td>2</td>\n",
              "    </tr>\n",
              "    <tr>\n",
              "      <th>20</th>\n",
              "      <td>12402.0</td>\n",
              "      <td>10</td>\n",
              "      <td>195.60</td>\n",
              "      <td>2.397895</td>\n",
              "      <td>5.281171</td>\n",
              "      <td>2</td>\n",
              "      <td>2</td>\n",
              "    </tr>\n",
              "    <tr>\n",
              "      <th>...</th>\n",
              "      <td>...</td>\n",
              "      <td>...</td>\n",
              "      <td>...</td>\n",
              "      <td>...</td>\n",
              "      <td>...</td>\n",
              "      <td>...</td>\n",
              "      <td>...</td>\n",
              "    </tr>\n",
              "    <tr>\n",
              "      <th>2122</th>\n",
              "      <td>18224.0</td>\n",
              "      <td>10</td>\n",
              "      <td>158.95</td>\n",
              "      <td>2.397895</td>\n",
              "      <td>5.074861</td>\n",
              "      <td>2</td>\n",
              "      <td>2</td>\n",
              "    </tr>\n",
              "    <tr>\n",
              "      <th>2132</th>\n",
              "      <td>18259.0</td>\n",
              "      <td>7</td>\n",
              "      <td>376.30</td>\n",
              "      <td>2.079442</td>\n",
              "      <td>5.933041</td>\n",
              "      <td>2</td>\n",
              "      <td>2</td>\n",
              "    </tr>\n",
              "    <tr>\n",
              "      <th>2134</th>\n",
              "      <td>18263.0</td>\n",
              "      <td>14</td>\n",
              "      <td>277.00</td>\n",
              "      <td>2.708050</td>\n",
              "      <td>5.627621</td>\n",
              "      <td>2</td>\n",
              "      <td>2</td>\n",
              "    </tr>\n",
              "    <tr>\n",
              "      <th>2135</th>\n",
              "      <td>18269.0</td>\n",
              "      <td>7</td>\n",
              "      <td>168.60</td>\n",
              "      <td>2.079442</td>\n",
              "      <td>5.133443</td>\n",
              "      <td>2</td>\n",
              "      <td>2</td>\n",
              "    </tr>\n",
              "    <tr>\n",
              "      <th>2139</th>\n",
              "      <td>18280.0</td>\n",
              "      <td>8</td>\n",
              "      <td>137.00</td>\n",
              "      <td>2.197225</td>\n",
              "      <td>4.927254</td>\n",
              "      <td>2</td>\n",
              "      <td>2</td>\n",
              "    </tr>\n",
              "  </tbody>\n",
              "</table>\n",
              "<p>662 rows × 7 columns</p>\n",
              "</div>"
            ],
            "text/plain": [
              "      CustomerID  Products_ordered  ...  clusters  Cluster_name\n",
              "1        12348.0                 6  ...         2             2\n",
              "6        12361.0                 9  ...         2             2\n",
              "11       12373.0                12  ...         2             2\n",
              "14       12386.0                 7  ...         2             2\n",
              "20       12402.0                10  ...         2             2\n",
              "...          ...               ...  ...       ...           ...\n",
              "2122     18224.0                10  ...         2             2\n",
              "2132     18259.0                 7  ...         2             2\n",
              "2134     18263.0                14  ...         2             2\n",
              "2135     18269.0                 7  ...         2             2\n",
              "2139     18280.0                 8  ...         2             2\n",
              "\n",
              "[662 rows x 7 columns]"
            ]
          },
          "metadata": {
            "tags": []
          },
          "execution_count": 75
        }
      ]
    },
    {
      "cell_type": "markdown",
      "metadata": {
        "id": "ng-m_oqSAj6l"
      },
      "source": [
        "### **Group3**"
      ]
    },
    {
      "cell_type": "code",
      "metadata": {
        "id": "gJrYH8p3Aizj",
        "outputId": "dcc2afdb-96b0-4017-fb0f-532ba86205cb",
        "colab": {
          "base_uri": "https://localhost:8080/",
          "height": 0
        }
      },
      "source": [
        "customers[customers['clusters'] == 3]"
      ],
      "execution_count": 76,
      "outputs": [
        {
          "output_type": "execute_result",
          "data": {
            "text/html": [
              "<div>\n",
              "<style scoped>\n",
              "    .dataframe tbody tr th:only-of-type {\n",
              "        vertical-align: middle;\n",
              "    }\n",
              "\n",
              "    .dataframe tbody tr th {\n",
              "        vertical-align: top;\n",
              "    }\n",
              "\n",
              "    .dataframe thead th {\n",
              "        text-align: right;\n",
              "    }\n",
              "</style>\n",
              "<table border=\"1\" class=\"dataframe\">\n",
              "  <thead>\n",
              "    <tr style=\"text-align: right;\">\n",
              "      <th></th>\n",
              "      <th>CustomerID</th>\n",
              "      <th>Products_ordered</th>\n",
              "      <th>Total_spending</th>\n",
              "      <th>log_Products_ordered</th>\n",
              "      <th>log_Total_spending</th>\n",
              "      <th>clusters</th>\n",
              "      <th>Cluster_name</th>\n",
              "    </tr>\n",
              "  </thead>\n",
              "  <tbody>\n",
              "    <tr>\n",
              "      <th>2</th>\n",
              "      <td>12350.0</td>\n",
              "      <td>16</td>\n",
              "      <td>294.40</td>\n",
              "      <td>2.833213</td>\n",
              "      <td>5.688330</td>\n",
              "      <td>3</td>\n",
              "      <td>3</td>\n",
              "    </tr>\n",
              "    <tr>\n",
              "      <th>3</th>\n",
              "      <td>12352.0</td>\n",
              "      <td>21</td>\n",
              "      <td>539.41</td>\n",
              "      <td>3.091042</td>\n",
              "      <td>6.292328</td>\n",
              "      <td>3</td>\n",
              "      <td>3</td>\n",
              "    </tr>\n",
              "    <tr>\n",
              "      <th>7</th>\n",
              "      <td>12362.0</td>\n",
              "      <td>26</td>\n",
              "      <td>434.10</td>\n",
              "      <td>3.295837</td>\n",
              "      <td>6.075576</td>\n",
              "      <td>3</td>\n",
              "      <td>3</td>\n",
              "    </tr>\n",
              "    <tr>\n",
              "      <th>8</th>\n",
              "      <td>12365.0</td>\n",
              "      <td>20</td>\n",
              "      <td>307.94</td>\n",
              "      <td>3.044522</td>\n",
              "      <td>5.733147</td>\n",
              "      <td>3</td>\n",
              "      <td>3</td>\n",
              "    </tr>\n",
              "    <tr>\n",
              "      <th>10</th>\n",
              "      <td>12372.0</td>\n",
              "      <td>18</td>\n",
              "      <td>315.52</td>\n",
              "      <td>2.944439</td>\n",
              "      <td>5.757386</td>\n",
              "      <td>3</td>\n",
              "      <td>3</td>\n",
              "    </tr>\n",
              "    <tr>\n",
              "      <th>...</th>\n",
              "      <td>...</td>\n",
              "      <td>...</td>\n",
              "      <td>...</td>\n",
              "      <td>...</td>\n",
              "      <td>...</td>\n",
              "      <td>...</td>\n",
              "      <td>...</td>\n",
              "    </tr>\n",
              "    <tr>\n",
              "      <th>2127</th>\n",
              "      <td>18231.0</td>\n",
              "      <td>19</td>\n",
              "      <td>399.75</td>\n",
              "      <td>2.995732</td>\n",
              "      <td>5.993338</td>\n",
              "      <td>3</td>\n",
              "      <td>3</td>\n",
              "    </tr>\n",
              "    <tr>\n",
              "      <th>2130</th>\n",
              "      <td>18250.0</td>\n",
              "      <td>17</td>\n",
              "      <td>270.62</td>\n",
              "      <td>2.890372</td>\n",
              "      <td>5.604404</td>\n",
              "      <td>3</td>\n",
              "      <td>3</td>\n",
              "    </tr>\n",
              "    <tr>\n",
              "      <th>2131</th>\n",
              "      <td>18257.0</td>\n",
              "      <td>14</td>\n",
              "      <td>324.00</td>\n",
              "      <td>2.708050</td>\n",
              "      <td>5.783825</td>\n",
              "      <td>3</td>\n",
              "      <td>3</td>\n",
              "    </tr>\n",
              "    <tr>\n",
              "      <th>2137</th>\n",
              "      <td>18272.0</td>\n",
              "      <td>29</td>\n",
              "      <td>564.94</td>\n",
              "      <td>3.401197</td>\n",
              "      <td>6.338488</td>\n",
              "      <td>3</td>\n",
              "      <td>3</td>\n",
              "    </tr>\n",
              "    <tr>\n",
              "      <th>2140</th>\n",
              "      <td>18283.0</td>\n",
              "      <td>103</td>\n",
              "      <td>299.45</td>\n",
              "      <td>4.644391</td>\n",
              "      <td>5.705281</td>\n",
              "      <td>3</td>\n",
              "      <td>3</td>\n",
              "    </tr>\n",
              "  </tbody>\n",
              "</table>\n",
              "<p>786 rows × 7 columns</p>\n",
              "</div>"
            ],
            "text/plain": [
              "      CustomerID  Products_ordered  ...  clusters  Cluster_name\n",
              "2        12350.0                16  ...         3             3\n",
              "3        12352.0                21  ...         3             3\n",
              "7        12362.0                26  ...         3             3\n",
              "8        12365.0                20  ...         3             3\n",
              "10       12372.0                18  ...         3             3\n",
              "...          ...               ...  ...       ...           ...\n",
              "2127     18231.0                19  ...         3             3\n",
              "2130     18250.0                17  ...         3             3\n",
              "2131     18257.0                14  ...         3             3\n",
              "2137     18272.0                29  ...         3             3\n",
              "2140     18283.0               103  ...         3             3\n",
              "\n",
              "[786 rows x 7 columns]"
            ]
          },
          "metadata": {
            "tags": []
          },
          "execution_count": 76
        }
      ]
    },
    {
      "cell_type": "markdown",
      "metadata": {
        "id": "nBDk_UqmAs6r"
      },
      "source": [
        "## Frequency of customers visiting the store"
      ]
    },
    {
      "cell_type": "code",
      "metadata": {
        "id": "grJYxJ17Ao6d",
        "outputId": "8bb3f404-2f52-4ec1-e33d-b611995a0ced",
        "colab": {
          "base_uri": "https://localhost:8080/"
        }
      },
      "source": [
        "frequency_of_customer = dataset.groupby('CustomerID')['InvoiceNo'].nunique()\n",
        "\n",
        "frequency_of_customer"
      ],
      "execution_count": 77,
      "outputs": [
        {
          "output_type": "execute_result",
          "data": {
            "text/plain": [
              "CustomerID\n",
              "12347.0    3\n",
              "12348.0    3\n",
              "12350.0    1\n",
              "12352.0    4\n",
              "12356.0    2\n",
              "          ..\n",
              "18270.0    1\n",
              "18272.0    1\n",
              "18273.0    1\n",
              "18280.0    1\n",
              "18283.0    3\n",
              "Name: InvoiceNo, Length: 2141, dtype: int64"
            ]
          },
          "metadata": {
            "tags": []
          },
          "execution_count": 77
        }
      ]
    },
    {
      "cell_type": "code",
      "metadata": {
        "id": "ZLVgPjFLA8Cd",
        "outputId": "f3c87d2d-61ed-478a-bc00-6f3d1dcaf1b1",
        "colab": {
          "base_uri": "https://localhost:8080/",
          "height": 0
        }
      },
      "source": [
        "customers = pd.merge(customers, frequency_of_customer, on='CustomerID')\n",
        "\n",
        "customers.head()"
      ],
      "execution_count": 78,
      "outputs": [
        {
          "output_type": "execute_result",
          "data": {
            "text/html": [
              "<div>\n",
              "<style scoped>\n",
              "    .dataframe tbody tr th:only-of-type {\n",
              "        vertical-align: middle;\n",
              "    }\n",
              "\n",
              "    .dataframe tbody tr th {\n",
              "        vertical-align: top;\n",
              "    }\n",
              "\n",
              "    .dataframe thead th {\n",
              "        text-align: right;\n",
              "    }\n",
              "</style>\n",
              "<table border=\"1\" class=\"dataframe\">\n",
              "  <thead>\n",
              "    <tr style=\"text-align: right;\">\n",
              "      <th></th>\n",
              "      <th>CustomerID</th>\n",
              "      <th>Products_ordered</th>\n",
              "      <th>Total_spending</th>\n",
              "      <th>log_Products_ordered</th>\n",
              "      <th>log_Total_spending</th>\n",
              "      <th>clusters</th>\n",
              "      <th>Cluster_name</th>\n",
              "      <th>InvoiceNo</th>\n",
              "    </tr>\n",
              "  </thead>\n",
              "  <tbody>\n",
              "    <tr>\n",
              "      <th>0</th>\n",
              "      <td>12347.0</td>\n",
              "      <td>59</td>\n",
              "      <td>1413.03</td>\n",
              "      <td>4.094345</td>\n",
              "      <td>7.254199</td>\n",
              "      <td>0</td>\n",
              "      <td>0</td>\n",
              "      <td>3</td>\n",
              "    </tr>\n",
              "    <tr>\n",
              "      <th>1</th>\n",
              "      <td>12348.0</td>\n",
              "      <td>6</td>\n",
              "      <td>90.20</td>\n",
              "      <td>1.945910</td>\n",
              "      <td>4.513055</td>\n",
              "      <td>2</td>\n",
              "      <td>2</td>\n",
              "      <td>3</td>\n",
              "    </tr>\n",
              "    <tr>\n",
              "      <th>2</th>\n",
              "      <td>12350.0</td>\n",
              "      <td>16</td>\n",
              "      <td>294.40</td>\n",
              "      <td>2.833213</td>\n",
              "      <td>5.688330</td>\n",
              "      <td>3</td>\n",
              "      <td>3</td>\n",
              "      <td>1</td>\n",
              "    </tr>\n",
              "    <tr>\n",
              "      <th>3</th>\n",
              "      <td>12352.0</td>\n",
              "      <td>21</td>\n",
              "      <td>539.41</td>\n",
              "      <td>3.091042</td>\n",
              "      <td>6.292328</td>\n",
              "      <td>3</td>\n",
              "      <td>3</td>\n",
              "      <td>4</td>\n",
              "    </tr>\n",
              "    <tr>\n",
              "      <th>4</th>\n",
              "      <td>12356.0</td>\n",
              "      <td>33</td>\n",
              "      <td>1086.56</td>\n",
              "      <td>3.526361</td>\n",
              "      <td>6.991692</td>\n",
              "      <td>0</td>\n",
              "      <td>0</td>\n",
              "      <td>2</td>\n",
              "    </tr>\n",
              "  </tbody>\n",
              "</table>\n",
              "</div>"
            ],
            "text/plain": [
              "   CustomerID  Products_ordered  ...  Cluster_name  InvoiceNo\n",
              "0     12347.0                59  ...             0          3\n",
              "1     12348.0                 6  ...             2          3\n",
              "2     12350.0                16  ...             3          1\n",
              "3     12352.0                21  ...             3          4\n",
              "4     12356.0                33  ...             0          2\n",
              "\n",
              "[5 rows x 8 columns]"
            ]
          },
          "metadata": {
            "tags": []
          },
          "execution_count": 78
        }
      ]
    },
    {
      "cell_type": "code",
      "metadata": {
        "id": "8e_efo0GBF6D",
        "outputId": "d72b4678-a5ec-4e88-89cc-7f5c337db705",
        "colab": {
          "base_uri": "https://localhost:8080/",
          "height": 0
        }
      },
      "source": [
        "customers.rename(columns = {'InvoiceNo': 'Frequency_of_customer'}, inplace=True)\n",
        "\n",
        "customers.head()"
      ],
      "execution_count": 79,
      "outputs": [
        {
          "output_type": "execute_result",
          "data": {
            "text/html": [
              "<div>\n",
              "<style scoped>\n",
              "    .dataframe tbody tr th:only-of-type {\n",
              "        vertical-align: middle;\n",
              "    }\n",
              "\n",
              "    .dataframe tbody tr th {\n",
              "        vertical-align: top;\n",
              "    }\n",
              "\n",
              "    .dataframe thead th {\n",
              "        text-align: right;\n",
              "    }\n",
              "</style>\n",
              "<table border=\"1\" class=\"dataframe\">\n",
              "  <thead>\n",
              "    <tr style=\"text-align: right;\">\n",
              "      <th></th>\n",
              "      <th>CustomerID</th>\n",
              "      <th>Products_ordered</th>\n",
              "      <th>Total_spending</th>\n",
              "      <th>log_Products_ordered</th>\n",
              "      <th>log_Total_spending</th>\n",
              "      <th>clusters</th>\n",
              "      <th>Cluster_name</th>\n",
              "      <th>Frequency_of_customer</th>\n",
              "    </tr>\n",
              "  </thead>\n",
              "  <tbody>\n",
              "    <tr>\n",
              "      <th>0</th>\n",
              "      <td>12347.0</td>\n",
              "      <td>59</td>\n",
              "      <td>1413.03</td>\n",
              "      <td>4.094345</td>\n",
              "      <td>7.254199</td>\n",
              "      <td>0</td>\n",
              "      <td>0</td>\n",
              "      <td>3</td>\n",
              "    </tr>\n",
              "    <tr>\n",
              "      <th>1</th>\n",
              "      <td>12348.0</td>\n",
              "      <td>6</td>\n",
              "      <td>90.20</td>\n",
              "      <td>1.945910</td>\n",
              "      <td>4.513055</td>\n",
              "      <td>2</td>\n",
              "      <td>2</td>\n",
              "      <td>3</td>\n",
              "    </tr>\n",
              "    <tr>\n",
              "      <th>2</th>\n",
              "      <td>12350.0</td>\n",
              "      <td>16</td>\n",
              "      <td>294.40</td>\n",
              "      <td>2.833213</td>\n",
              "      <td>5.688330</td>\n",
              "      <td>3</td>\n",
              "      <td>3</td>\n",
              "      <td>1</td>\n",
              "    </tr>\n",
              "    <tr>\n",
              "      <th>3</th>\n",
              "      <td>12352.0</td>\n",
              "      <td>21</td>\n",
              "      <td>539.41</td>\n",
              "      <td>3.091042</td>\n",
              "      <td>6.292328</td>\n",
              "      <td>3</td>\n",
              "      <td>3</td>\n",
              "      <td>4</td>\n",
              "    </tr>\n",
              "    <tr>\n",
              "      <th>4</th>\n",
              "      <td>12356.0</td>\n",
              "      <td>33</td>\n",
              "      <td>1086.56</td>\n",
              "      <td>3.526361</td>\n",
              "      <td>6.991692</td>\n",
              "      <td>0</td>\n",
              "      <td>0</td>\n",
              "      <td>2</td>\n",
              "    </tr>\n",
              "  </tbody>\n",
              "</table>\n",
              "</div>"
            ],
            "text/plain": [
              "   CustomerID  Products_ordered  ...  Cluster_name  Frequency_of_customer\n",
              "0     12347.0                59  ...             0                      3\n",
              "1     12348.0                 6  ...             2                      3\n",
              "2     12350.0                16  ...             3                      1\n",
              "3     12352.0                21  ...             3                      4\n",
              "4     12356.0                33  ...             0                      2\n",
              "\n",
              "[5 rows x 8 columns]"
            ]
          },
          "metadata": {
            "tags": []
          },
          "execution_count": 79
        }
      ]
    },
    {
      "cell_type": "markdown",
      "metadata": {
        "id": "MsSE7qGUBXtd"
      },
      "source": [
        "## Customer visit number per year and per month"
      ]
    },
    {
      "cell_type": "code",
      "metadata": {
        "id": "ueNjG2UPBUyr",
        "outputId": "937bfa13-1d4c-43c0-ab5b-b0b24f6d9899",
        "colab": {
          "base_uri": "https://localhost:8080/",
          "height": 0
        }
      },
      "source": [
        "new_dataset = dataset[['InvoiceNo', 'CustomerID', 'Year', 'Month']]\n",
        "\n",
        "new_dataset.head()"
      ],
      "execution_count": 80,
      "outputs": [
        {
          "output_type": "execute_result",
          "data": {
            "text/html": [
              "<div>\n",
              "<style scoped>\n",
              "    .dataframe tbody tr th:only-of-type {\n",
              "        vertical-align: middle;\n",
              "    }\n",
              "\n",
              "    .dataframe tbody tr th {\n",
              "        vertical-align: top;\n",
              "    }\n",
              "\n",
              "    .dataframe thead th {\n",
              "        text-align: right;\n",
              "    }\n",
              "</style>\n",
              "<table border=\"1\" class=\"dataframe\">\n",
              "  <thead>\n",
              "    <tr style=\"text-align: right;\">\n",
              "      <th></th>\n",
              "      <th>InvoiceNo</th>\n",
              "      <th>CustomerID</th>\n",
              "      <th>Year</th>\n",
              "      <th>Month</th>\n",
              "    </tr>\n",
              "  </thead>\n",
              "  <tbody>\n",
              "    <tr>\n",
              "      <th>0</th>\n",
              "      <td>536365</td>\n",
              "      <td>17850.0</td>\n",
              "      <td>2010</td>\n",
              "      <td>12</td>\n",
              "    </tr>\n",
              "    <tr>\n",
              "      <th>1</th>\n",
              "      <td>536365</td>\n",
              "      <td>17850.0</td>\n",
              "      <td>2010</td>\n",
              "      <td>12</td>\n",
              "    </tr>\n",
              "    <tr>\n",
              "      <th>2</th>\n",
              "      <td>536365</td>\n",
              "      <td>17850.0</td>\n",
              "      <td>2010</td>\n",
              "      <td>12</td>\n",
              "    </tr>\n",
              "    <tr>\n",
              "      <th>3</th>\n",
              "      <td>536365</td>\n",
              "      <td>17850.0</td>\n",
              "      <td>2010</td>\n",
              "      <td>12</td>\n",
              "    </tr>\n",
              "    <tr>\n",
              "      <th>4</th>\n",
              "      <td>536365</td>\n",
              "      <td>17850.0</td>\n",
              "      <td>2010</td>\n",
              "      <td>12</td>\n",
              "    </tr>\n",
              "  </tbody>\n",
              "</table>\n",
              "</div>"
            ],
            "text/plain": [
              "  InvoiceNo  CustomerID  Year  Month\n",
              "0    536365     17850.0  2010     12\n",
              "1    536365     17850.0  2010     12\n",
              "2    536365     17850.0  2010     12\n",
              "3    536365     17850.0  2010     12\n",
              "4    536365     17850.0  2010     12"
            ]
          },
          "metadata": {
            "tags": []
          },
          "execution_count": 80
        }
      ]
    },
    {
      "cell_type": "code",
      "metadata": {
        "id": "dL3FtyksBkJ8",
        "outputId": "ebbcd44c-b1fd-45b9-fb51-cb7df7e8df6f",
        "colab": {
          "base_uri": "https://localhost:8080/",
          "height": 0
        }
      },
      "source": [
        "# Dropping the duplicates\n",
        "new_dataset.drop_duplicates(inplace=True)\n",
        "\n",
        "new_dataset.head()"
      ],
      "execution_count": 81,
      "outputs": [
        {
          "output_type": "stream",
          "text": [
            "/usr/local/lib/python3.6/dist-packages/ipykernel_launcher.py:2: SettingWithCopyWarning: \n",
            "A value is trying to be set on a copy of a slice from a DataFrame\n",
            "\n",
            "See the caveats in the documentation: https://pandas.pydata.org/pandas-docs/stable/user_guide/indexing.html#returning-a-view-versus-a-copy\n",
            "  \n"
          ],
          "name": "stderr"
        },
        {
          "output_type": "execute_result",
          "data": {
            "text/html": [
              "<div>\n",
              "<style scoped>\n",
              "    .dataframe tbody tr th:only-of-type {\n",
              "        vertical-align: middle;\n",
              "    }\n",
              "\n",
              "    .dataframe tbody tr th {\n",
              "        vertical-align: top;\n",
              "    }\n",
              "\n",
              "    .dataframe thead th {\n",
              "        text-align: right;\n",
              "    }\n",
              "</style>\n",
              "<table border=\"1\" class=\"dataframe\">\n",
              "  <thead>\n",
              "    <tr style=\"text-align: right;\">\n",
              "      <th></th>\n",
              "      <th>InvoiceNo</th>\n",
              "      <th>CustomerID</th>\n",
              "      <th>Year</th>\n",
              "      <th>Month</th>\n",
              "    </tr>\n",
              "  </thead>\n",
              "  <tbody>\n",
              "    <tr>\n",
              "      <th>0</th>\n",
              "      <td>536365</td>\n",
              "      <td>17850.0</td>\n",
              "      <td>2010</td>\n",
              "      <td>12</td>\n",
              "    </tr>\n",
              "    <tr>\n",
              "      <th>7</th>\n",
              "      <td>536366</td>\n",
              "      <td>17850.0</td>\n",
              "      <td>2010</td>\n",
              "      <td>12</td>\n",
              "    </tr>\n",
              "    <tr>\n",
              "      <th>10</th>\n",
              "      <td>536367</td>\n",
              "      <td>13047.0</td>\n",
              "      <td>2010</td>\n",
              "      <td>12</td>\n",
              "    </tr>\n",
              "    <tr>\n",
              "      <th>21</th>\n",
              "      <td>536368</td>\n",
              "      <td>13047.0</td>\n",
              "      <td>2010</td>\n",
              "      <td>12</td>\n",
              "    </tr>\n",
              "    <tr>\n",
              "      <th>25</th>\n",
              "      <td>536369</td>\n",
              "      <td>13047.0</td>\n",
              "      <td>2010</td>\n",
              "      <td>12</td>\n",
              "    </tr>\n",
              "  </tbody>\n",
              "</table>\n",
              "</div>"
            ],
            "text/plain": [
              "   InvoiceNo  CustomerID  Year  Month\n",
              "0     536365     17850.0  2010     12\n",
              "7     536366     17850.0  2010     12\n",
              "10    536367     13047.0  2010     12\n",
              "21    536368     13047.0  2010     12\n",
              "25    536369     13047.0  2010     12"
            ]
          },
          "metadata": {
            "tags": []
          },
          "execution_count": 81
        }
      ]
    },
    {
      "cell_type": "code",
      "metadata": {
        "id": "NcJvHryxBzxa"
      },
      "source": [
        "# Dropping the index\n",
        "new_dataset = new_dataset.reset_index(drop=True)"
      ],
      "execution_count": 82,
      "outputs": []
    },
    {
      "cell_type": "code",
      "metadata": {
        "id": "53JyfjDXB-mw",
        "outputId": "33c3c305-c4e9-48b6-85db-41c77804202d",
        "colab": {
          "base_uri": "https://localhost:8080/",
          "height": 0
        }
      },
      "source": [
        "# Obtaining number of visits per year\n",
        "new_dataset['Visit_no_yr'] = new_dataset.groupby(['CustomerID', 'Year']).cumcount() + 1\n",
        "\n",
        "new_dataset"
      ],
      "execution_count": 83,
      "outputs": [
        {
          "output_type": "execute_result",
          "data": {
            "text/html": [
              "<div>\n",
              "<style scoped>\n",
              "    .dataframe tbody tr th:only-of-type {\n",
              "        vertical-align: middle;\n",
              "    }\n",
              "\n",
              "    .dataframe tbody tr th {\n",
              "        vertical-align: top;\n",
              "    }\n",
              "\n",
              "    .dataframe thead th {\n",
              "        text-align: right;\n",
              "    }\n",
              "</style>\n",
              "<table border=\"1\" class=\"dataframe\">\n",
              "  <thead>\n",
              "    <tr style=\"text-align: right;\">\n",
              "      <th></th>\n",
              "      <th>InvoiceNo</th>\n",
              "      <th>CustomerID</th>\n",
              "      <th>Year</th>\n",
              "      <th>Month</th>\n",
              "      <th>Visit_no_yr</th>\n",
              "    </tr>\n",
              "  </thead>\n",
              "  <tbody>\n",
              "    <tr>\n",
              "      <th>0</th>\n",
              "      <td>536365</td>\n",
              "      <td>17850.0</td>\n",
              "      <td>2010</td>\n",
              "      <td>12</td>\n",
              "      <td>1</td>\n",
              "    </tr>\n",
              "    <tr>\n",
              "      <th>1</th>\n",
              "      <td>536366</td>\n",
              "      <td>17850.0</td>\n",
              "      <td>2010</td>\n",
              "      <td>12</td>\n",
              "      <td>2</td>\n",
              "    </tr>\n",
              "    <tr>\n",
              "      <th>2</th>\n",
              "      <td>536367</td>\n",
              "      <td>13047.0</td>\n",
              "      <td>2010</td>\n",
              "      <td>12</td>\n",
              "      <td>1</td>\n",
              "    </tr>\n",
              "    <tr>\n",
              "      <th>3</th>\n",
              "      <td>536368</td>\n",
              "      <td>13047.0</td>\n",
              "      <td>2010</td>\n",
              "      <td>12</td>\n",
              "      <td>2</td>\n",
              "    </tr>\n",
              "    <tr>\n",
              "      <th>4</th>\n",
              "      <td>536369</td>\n",
              "      <td>13047.0</td>\n",
              "      <td>2010</td>\n",
              "      <td>12</td>\n",
              "      <td>3</td>\n",
              "    </tr>\n",
              "    <tr>\n",
              "      <th>...</th>\n",
              "      <td>...</td>\n",
              "      <td>...</td>\n",
              "      <td>...</td>\n",
              "      <td>...</td>\n",
              "      <td>...</td>\n",
              "    </tr>\n",
              "    <tr>\n",
              "      <th>4606</th>\n",
              "      <td>549577</td>\n",
              "      <td>14286.0</td>\n",
              "      <td>2011</td>\n",
              "      <td>4</td>\n",
              "      <td>1</td>\n",
              "    </tr>\n",
              "    <tr>\n",
              "      <th>4607</th>\n",
              "      <td>549578</td>\n",
              "      <td>17340.0</td>\n",
              "      <td>2011</td>\n",
              "      <td>4</td>\n",
              "      <td>1</td>\n",
              "    </tr>\n",
              "    <tr>\n",
              "      <th>4608</th>\n",
              "      <td>549579</td>\n",
              "      <td>15780.0</td>\n",
              "      <td>2011</td>\n",
              "      <td>4</td>\n",
              "      <td>1</td>\n",
              "    </tr>\n",
              "    <tr>\n",
              "      <th>4609</th>\n",
              "      <td>549581</td>\n",
              "      <td>16188.0</td>\n",
              "      <td>2011</td>\n",
              "      <td>4</td>\n",
              "      <td>1</td>\n",
              "    </tr>\n",
              "    <tr>\n",
              "      <th>4610</th>\n",
              "      <td>549583</td>\n",
              "      <td>15214.0</td>\n",
              "      <td>2011</td>\n",
              "      <td>4</td>\n",
              "      <td>1</td>\n",
              "    </tr>\n",
              "  </tbody>\n",
              "</table>\n",
              "<p>4611 rows × 5 columns</p>\n",
              "</div>"
            ],
            "text/plain": [
              "     InvoiceNo  CustomerID  Year  Month  Visit_no_yr\n",
              "0       536365     17850.0  2010     12            1\n",
              "1       536366     17850.0  2010     12            2\n",
              "2       536367     13047.0  2010     12            1\n",
              "3       536368     13047.0  2010     12            2\n",
              "4       536369     13047.0  2010     12            3\n",
              "...        ...         ...   ...    ...          ...\n",
              "4606    549577     14286.0  2011      4            1\n",
              "4607    549578     17340.0  2011      4            1\n",
              "4608    549579     15780.0  2011      4            1\n",
              "4609    549581     16188.0  2011      4            1\n",
              "4610    549583     15214.0  2011      4            1\n",
              "\n",
              "[4611 rows x 5 columns]"
            ]
          },
          "metadata": {
            "tags": []
          },
          "execution_count": 83
        }
      ]
    },
    {
      "cell_type": "code",
      "metadata": {
        "id": "G3nHhYrzCRKd",
        "outputId": "00be5e14-97dc-421e-9665-12d7574de7c3",
        "colab": {
          "base_uri": "https://localhost:8080/",
          "height": 0
        }
      },
      "source": [
        "# Number of visits per month\n",
        "new_dataset['Visit_no_month'] = new_dataset.groupby(['CustomerID', 'Month']).cumcount() + 1\n",
        "\n",
        "new_dataset"
      ],
      "execution_count": 84,
      "outputs": [
        {
          "output_type": "execute_result",
          "data": {
            "text/html": [
              "<div>\n",
              "<style scoped>\n",
              "    .dataframe tbody tr th:only-of-type {\n",
              "        vertical-align: middle;\n",
              "    }\n",
              "\n",
              "    .dataframe tbody tr th {\n",
              "        vertical-align: top;\n",
              "    }\n",
              "\n",
              "    .dataframe thead th {\n",
              "        text-align: right;\n",
              "    }\n",
              "</style>\n",
              "<table border=\"1\" class=\"dataframe\">\n",
              "  <thead>\n",
              "    <tr style=\"text-align: right;\">\n",
              "      <th></th>\n",
              "      <th>InvoiceNo</th>\n",
              "      <th>CustomerID</th>\n",
              "      <th>Year</th>\n",
              "      <th>Month</th>\n",
              "      <th>Visit_no_yr</th>\n",
              "      <th>Visit_no_month</th>\n",
              "    </tr>\n",
              "  </thead>\n",
              "  <tbody>\n",
              "    <tr>\n",
              "      <th>0</th>\n",
              "      <td>536365</td>\n",
              "      <td>17850.0</td>\n",
              "      <td>2010</td>\n",
              "      <td>12</td>\n",
              "      <td>1</td>\n",
              "      <td>1</td>\n",
              "    </tr>\n",
              "    <tr>\n",
              "      <th>1</th>\n",
              "      <td>536366</td>\n",
              "      <td>17850.0</td>\n",
              "      <td>2010</td>\n",
              "      <td>12</td>\n",
              "      <td>2</td>\n",
              "      <td>2</td>\n",
              "    </tr>\n",
              "    <tr>\n",
              "      <th>2</th>\n",
              "      <td>536367</td>\n",
              "      <td>13047.0</td>\n",
              "      <td>2010</td>\n",
              "      <td>12</td>\n",
              "      <td>1</td>\n",
              "      <td>1</td>\n",
              "    </tr>\n",
              "    <tr>\n",
              "      <th>3</th>\n",
              "      <td>536368</td>\n",
              "      <td>13047.0</td>\n",
              "      <td>2010</td>\n",
              "      <td>12</td>\n",
              "      <td>2</td>\n",
              "      <td>2</td>\n",
              "    </tr>\n",
              "    <tr>\n",
              "      <th>4</th>\n",
              "      <td>536369</td>\n",
              "      <td>13047.0</td>\n",
              "      <td>2010</td>\n",
              "      <td>12</td>\n",
              "      <td>3</td>\n",
              "      <td>3</td>\n",
              "    </tr>\n",
              "    <tr>\n",
              "      <th>...</th>\n",
              "      <td>...</td>\n",
              "      <td>...</td>\n",
              "      <td>...</td>\n",
              "      <td>...</td>\n",
              "      <td>...</td>\n",
              "      <td>...</td>\n",
              "    </tr>\n",
              "    <tr>\n",
              "      <th>4606</th>\n",
              "      <td>549577</td>\n",
              "      <td>14286.0</td>\n",
              "      <td>2011</td>\n",
              "      <td>4</td>\n",
              "      <td>1</td>\n",
              "      <td>1</td>\n",
              "    </tr>\n",
              "    <tr>\n",
              "      <th>4607</th>\n",
              "      <td>549578</td>\n",
              "      <td>17340.0</td>\n",
              "      <td>2011</td>\n",
              "      <td>4</td>\n",
              "      <td>1</td>\n",
              "      <td>1</td>\n",
              "    </tr>\n",
              "    <tr>\n",
              "      <th>4608</th>\n",
              "      <td>549579</td>\n",
              "      <td>15780.0</td>\n",
              "      <td>2011</td>\n",
              "      <td>4</td>\n",
              "      <td>1</td>\n",
              "      <td>1</td>\n",
              "    </tr>\n",
              "    <tr>\n",
              "      <th>4609</th>\n",
              "      <td>549581</td>\n",
              "      <td>16188.0</td>\n",
              "      <td>2011</td>\n",
              "      <td>4</td>\n",
              "      <td>1</td>\n",
              "      <td>1</td>\n",
              "    </tr>\n",
              "    <tr>\n",
              "      <th>4610</th>\n",
              "      <td>549583</td>\n",
              "      <td>15214.0</td>\n",
              "      <td>2011</td>\n",
              "      <td>4</td>\n",
              "      <td>1</td>\n",
              "      <td>1</td>\n",
              "    </tr>\n",
              "  </tbody>\n",
              "</table>\n",
              "<p>4611 rows × 6 columns</p>\n",
              "</div>"
            ],
            "text/plain": [
              "     InvoiceNo  CustomerID  Year  Month  Visit_no_yr  Visit_no_month\n",
              "0       536365     17850.0  2010     12            1               1\n",
              "1       536366     17850.0  2010     12            2               2\n",
              "2       536367     13047.0  2010     12            1               1\n",
              "3       536368     13047.0  2010     12            2               2\n",
              "4       536369     13047.0  2010     12            3               3\n",
              "...        ...         ...   ...    ...          ...             ...\n",
              "4606    549577     14286.0  2011      4            1               1\n",
              "4607    549578     17340.0  2011      4            1               1\n",
              "4608    549579     15780.0  2011      4            1               1\n",
              "4609    549581     16188.0  2011      4            1               1\n",
              "4610    549583     15214.0  2011      4            1               1\n",
              "\n",
              "[4611 rows x 6 columns]"
            ]
          },
          "metadata": {
            "tags": []
          },
          "execution_count": 84
        }
      ]
    },
    {
      "cell_type": "markdown",
      "metadata": {
        "id": "WIOv_TP3DMs8"
      },
      "source": [
        "# <font color='blue'>**Item Recommendation system using Word2Vec**</font>"
      ]
    },
    {
      "cell_type": "code",
      "metadata": {
        "id": "cSwcLvVJC4h9",
        "outputId": "95e2e927-c0e9-428b-e09a-e5d2687f987d",
        "colab": {
          "base_uri": "https://localhost:8080/"
        }
      },
      "source": [
        "no_of_customers =  list(dataset['CustomerID'].unique())\n",
        "\n",
        "print(f'Number of unique customers are {len(no_of_customers)}')"
      ],
      "execution_count": 85,
      "outputs": [
        {
          "output_type": "stream",
          "text": [
            "Number of unique customers are 2141\n"
          ],
          "name": "stdout"
        }
      ]
    },
    {
      "cell_type": "code",
      "metadata": {
        "id": "Kwni3W_3DkKX"
      },
      "source": [
        "# Typecasting\n",
        "dataset['StockCode'] = dataset['StockCode'].astype(str)"
      ],
      "execution_count": 86,
      "outputs": []
    },
    {
      "cell_type": "markdown",
      "metadata": {
        "id": "xQhhAlkyDzX5"
      },
      "source": [
        "### Shuffling the customers and using 90% of it for creating the model & then splitting into train and validation dataset"
      ]
    },
    {
      "cell_type": "code",
      "metadata": {
        "id": "3ZZhmXSEDxer"
      },
      "source": [
        "import random\n",
        "\n",
        "random.shuffle(no_of_customers)\n",
        "\n",
        "customers_train = [no_of_customers[i] for i in range(round(0.9 * len(no_of_customers)))]\n",
        "\n",
        "train_dataset = dataset[dataset['CustomerID'].isin(customers_train)]\n",
        "validation_dataset = dataset[~dataset['CustomerID'].isin(customers_train)]"
      ],
      "execution_count": 87,
      "outputs": []
    },
    {
      "cell_type": "markdown",
      "metadata": {
        "id": "Gp7gJEmSFLJI"
      },
      "source": [
        "## List of purchases made by the customer "
      ]
    },
    {
      "cell_type": "code",
      "metadata": {
        "id": "FTQ7jhaJE8k8"
      },
      "source": [
        "from tqdm import tqdm"
      ],
      "execution_count": 88,
      "outputs": []
    },
    {
      "cell_type": "markdown",
      "metadata": {
        "id": "j1U9ELCrFcHJ"
      },
      "source": [
        "### 1. Training dataset"
      ]
    },
    {
      "cell_type": "code",
      "metadata": {
        "id": "dOIZQbgEFasw",
        "outputId": "c88ab766-3325-4629-8025-9a6ec14afe8a",
        "colab": {
          "base_uri": "https://localhost:8080/"
        }
      },
      "source": [
        "purchases_train = []\n",
        "\n",
        "for i in tqdm(customers_train):\n",
        "  temp = list(train_dataset[train_dataset['CustomerID'] == i]['StockCode'])\n",
        "  purchases_train.append(temp)"
      ],
      "execution_count": 89,
      "outputs": [
        {
          "output_type": "stream",
          "text": [
            "100%|██████████| 1927/1927 [00:01<00:00, 999.37it/s] \n"
          ],
          "name": "stderr"
        }
      ]
    },
    {
      "cell_type": "markdown",
      "metadata": {
        "id": "2hDkBXGdF3yY"
      },
      "source": [
        "### 2. Validation dataset"
      ]
    },
    {
      "cell_type": "code",
      "metadata": {
        "id": "pxt4gzj7FzfW",
        "outputId": "7dc941d3-c328-4dca-ae78-2f2de1540161",
        "colab": {
          "base_uri": "https://localhost:8080/"
        }
      },
      "source": [
        "purchases_val = []\n",
        "\n",
        "for i in tqdm(validation_dataset['CustomerID'].unique()):\n",
        "  temp = list(validation_dataset[validation_dataset['CustomerID'] == i]['StockCode'])\n",
        "  purchases_val.append(temp)"
      ],
      "execution_count": 90,
      "outputs": [
        {
          "output_type": "stream",
          "text": [
            "100%|██████████| 214/214 [00:00<00:00, 1313.36it/s]\n"
          ],
          "name": "stderr"
        }
      ]
    },
    {
      "cell_type": "code",
      "metadata": {
        "id": "BhQ6HwsCGVQf"
      },
      "source": [
        "from gensim.models import Word2Vec"
      ],
      "execution_count": 91,
      "outputs": []
    },
    {
      "cell_type": "markdown",
      "metadata": {
        "id": "cUf6ZfMyGdRI"
      },
      "source": [
        "### Creating the Word2Vec model"
      ]
    },
    {
      "cell_type": "code",
      "metadata": {
        "id": "JOoHOMBnGcEt",
        "outputId": "e77dbec0-1257-423c-fdf8-dea04d7607b2",
        "colab": {
          "base_uri": "https://localhost:8080/"
        }
      },
      "source": [
        "model = Word2Vec(window = 10, sg = 1, hs = 0, negative = 10, alpha = 0.03, min_alpha = 0.0007, seed = 14)\n",
        "\n",
        "model.build_vocab(purchases_train, progress_per = 200)\n",
        "\n",
        "model.train(purchases_train, total_examples = model.corpus_count, epochs = 10, report_delay = 1)"
      ],
      "execution_count": 92,
      "outputs": [
        {
          "output_type": "execute_result",
          "data": {
            "text/plain": [
              "(752780, 780300)"
            ]
          },
          "metadata": {
            "tags": []
          },
          "execution_count": 92
        }
      ]
    },
    {
      "cell_type": "code",
      "metadata": {
        "id": "9RxWIUEKHMsf",
        "outputId": "406560f8-0df1-4904-ad85-3cda62d791f1",
        "colab": {
          "base_uri": "https://localhost:8080/"
        }
      },
      "source": [
        "model.init_sims(replace=True)\n",
        "\n",
        "print(model)"
      ],
      "execution_count": 93,
      "outputs": [
        {
          "output_type": "stream",
          "text": [
            "Word2Vec(vocab=1965, size=100, alpha=0.03)\n"
          ],
          "name": "stdout"
        }
      ]
    },
    {
      "cell_type": "markdown",
      "metadata": {
        "id": "_asM4wsqHmaL"
      },
      "source": [
        "### Each vector of 2879 unique vocabulary words has the size of 100"
      ]
    },
    {
      "cell_type": "code",
      "metadata": {
        "id": "PQO0t04VHhzZ",
        "outputId": "52b401bb-ad16-44ff-c1f8-4a5b69872698",
        "colab": {
          "base_uri": "https://localhost:8080/"
        }
      },
      "source": [
        "X = model[model.wv.vocab]\n",
        "\n",
        "X.shape"
      ],
      "execution_count": 94,
      "outputs": [
        {
          "output_type": "stream",
          "text": [
            "/usr/local/lib/python3.6/dist-packages/ipykernel_launcher.py:1: DeprecationWarning: Call to deprecated `__getitem__` (Method will be removed in 4.0.0, use self.wv.__getitem__() instead).\n",
            "  \"\"\"Entry point for launching an IPython kernel.\n"
          ],
          "name": "stderr"
        },
        {
          "output_type": "execute_result",
          "data": {
            "text/plain": [
              "(1965, 100)"
            ]
          },
          "metadata": {
            "tags": []
          },
          "execution_count": 94
        }
      ]
    },
    {
      "cell_type": "markdown",
      "metadata": {
        "id": "042ymmWEH607"
      },
      "source": [
        "### Visual representation of similar products"
      ]
    },
    {
      "cell_type": "code",
      "metadata": {
        "id": "blwl_tbyH2h6",
        "outputId": "1b5385c0-7b14-45a5-c215-04598035886d",
        "colab": {
          "base_uri": "https://localhost:8080/",
          "height": 0
        }
      },
      "source": [
        "import umap.umap_ as umap\n",
        "\n",
        "cluster_embedding = umap.UMAP(n_neighbors=30, min_dist=0.0, n_components=2, random_state=42).fit_transform(X)\n",
        "\n",
        "plt.figure(figsize=(10, 9))\n",
        "plt.scatter(cluster_embedding[:, 0], cluster_embedding[:, 1], s=3, cmap='Spectral')"
      ],
      "execution_count": 95,
      "outputs": [
        {
          "output_type": "execute_result",
          "data": {
            "text/plain": [
              "<matplotlib.collections.PathCollection at 0x7f84bebd4128>"
            ]
          },
          "metadata": {
            "tags": []
          },
          "execution_count": 95
        },
        {
          "output_type": "display_data",
          "data": {
            "image/png": "[encoded data removed]",
            "text/plain": [
              "<Figure size 720x648 with 1 Axes>"
            ]
          },
          "metadata": {
            "tags": [],
            "needs_background": "light"
          }
        }
      ]
    },
    {
      "cell_type": "markdown",
      "metadata": {
        "id": "-6fZDCC_JiVr"
      },
      "source": [
        "### Creating a product dictionary"
      ]
    },
    {
      "cell_type": "code",
      "metadata": {
        "id": "DIHf4uVfJQ5c",
        "outputId": "c53ea161-0b5f-4efb-fee6-7df96c4e4b03",
        "colab": {
          "base_uri": "https://localhost:8080/"
        }
      },
      "source": [
        "products = train_dataset[['StockCode', 'Description']]\n",
        "\n",
        "products.drop_duplicates(inplace=True, subset='StockCode', keep='last')\n",
        "\n",
        "products_dict = products.groupby('StockCode')['Description'].apply(list).to_dict()"
      ],
      "execution_count": 96,
      "outputs": [
        {
          "output_type": "stream",
          "text": [
            "/usr/local/lib/python3.6/dist-packages/ipykernel_launcher.py:3: SettingWithCopyWarning: \n",
            "A value is trying to be set on a copy of a slice from a DataFrame\n",
            "\n",
            "See the caveats in the documentation: https://pandas.pydata.org/pandas-docs/stable/user_guide/indexing.html#returning-a-view-versus-a-copy\n",
            "  This is separate from the ipykernel package so we can avoid doing imports until\n"
          ],
          "name": "stderr"
        }
      ]
    },
    {
      "cell_type": "code",
      "metadata": {
        "id": "CPzI4KhNKEp-",
        "outputId": "43b39136-8cbe-4c5c-91c5-addb6fd1a0d7",
        "colab": {
          "base_uri": "https://localhost:8080/"
        }
      },
      "source": [
        "products_dict['22748']"
      ],
      "execution_count": 97,
      "outputs": [
        {
          "output_type": "execute_result",
          "data": {
            "text/plain": [
              "[\"POPPY'S PLAYHOUSE KITCHEN\"]"
            ]
          },
          "metadata": {
            "tags": []
          },
          "execution_count": 97
        }
      ]
    },
    {
      "cell_type": "code",
      "metadata": {
        "id": "5MYG7dyQKJxy",
        "outputId": "c082e5be-f22c-4033-bb8e-571a5ba607d5",
        "colab": {
          "base_uri": "https://localhost:8080/"
        }
      },
      "source": [
        "products_dict['84029G']"
      ],
      "execution_count": 98,
      "outputs": [
        {
          "output_type": "execute_result",
          "data": {
            "text/plain": [
              "['KNITTED UNION FLAG HOT WATER BOTTLE']"
            ]
          },
          "metadata": {
            "tags": []
          },
          "execution_count": 98
        }
      ]
    },
    {
      "cell_type": "markdown",
      "metadata": {
        "id": "gyCyLoZMKSVM"
      },
      "source": [
        "## Recommendation Function based on single product vector and will return 6 similar products"
      ]
    },
    {
      "cell_type": "code",
      "metadata": {
        "id": "Y5FT3PvnKPkP"
      },
      "source": [
        "def similar_products(v, n = 6):\n",
        "  ms = model.similar_by_vector(v, topn = n + 1)[1:]\n",
        "  new_ms = []\n",
        "  for j in ms:\n",
        "    pair = (products_dict[j[0]][0], j[1])\n",
        "    new_ms.append(pair)\n",
        "  \n",
        "  return new_ms"
      ],
      "execution_count": 99,
      "outputs": []
    },
    {
      "cell_type": "code",
      "metadata": {
        "id": "UBmUNbJFK8FU",
        "outputId": "39388695-c045-4194-c3b1-a64eeb52d5a3",
        "colab": {
          "base_uri": "https://localhost:8080/"
        }
      },
      "source": [
        "similar_products(model['84029G'])"
      ],
      "execution_count": 100,
      "outputs": [
        {
          "output_type": "stream",
          "text": [
            "/usr/local/lib/python3.6/dist-packages/ipykernel_launcher.py:1: DeprecationWarning: Call to deprecated `__getitem__` (Method will be removed in 4.0.0, use self.wv.__getitem__() instead).\n",
            "  \"\"\"Entry point for launching an IPython kernel.\n",
            "/usr/local/lib/python3.6/dist-packages/ipykernel_launcher.py:2: DeprecationWarning: Call to deprecated `similar_by_vector` (Method will be removed in 4.0.0, use self.wv.similar_by_vector() instead).\n",
            "  \n",
            "/usr/local/lib/python3.6/dist-packages/gensim/matutils.py:737: FutureWarning: Conversion of the second argument of issubdtype from `int` to `np.signedinteger` is deprecated. In future, it will be treated as `np.int64 == np.dtype(int).type`.\n",
            "  if np.issubdtype(vec.dtype, np.int):\n"
          ],
          "name": "stderr"
        },
        {
          "output_type": "execute_result",
          "data": {
            "text/plain": [
              "[('RED WOOLLY HOTTIE WHITE HEART.', 0.825326681137085),\n",
              " ('ENGLISH ROSE HOT WATER BOTTLE', 0.7448293566703796),\n",
              " ('WHITE SKULL HOT WATER BOTTLE ', 0.7411115169525146),\n",
              " ('SCOTTIE DOG HOT WATER BOTTLE', 0.6958119869232178),\n",
              " ('PAIR PADDED HANGERS PINK CHECK', 0.686948299407959),\n",
              " ('CHARLIE+LOLA RED HOT WATER BOTTLE ', 0.6831134557723999)]"
            ]
          },
          "metadata": {
            "tags": []
          },
          "execution_count": 100
        }
      ]
    },
    {
      "cell_type": "markdown",
      "metadata": {
        "id": "bE3k3zhsLOF6"
      },
      "source": [
        "## Recommendation function based on average of products vector bought by user and will return 6 similar products"
      ]
    },
    {
      "cell_type": "code",
      "metadata": {
        "id": "QCLB682OLI-z"
      },
      "source": [
        "def aggregate_vectors(products):\n",
        "  product_vec = []\n",
        "  for i in products:\n",
        "    try:\n",
        "      product_vec.append(model[i])\n",
        "    except KeyError:\n",
        "      continue\n",
        "  \n",
        "  return np.mean(product_vec, axis=0)"
      ],
      "execution_count": 101,
      "outputs": []
    },
    {
      "cell_type": "code",
      "metadata": {
        "id": "p8W5dXSGLz_S",
        "outputId": "8202fdcc-cab6-4f46-9921-8d0284e18cde",
        "colab": {
          "base_uri": "https://localhost:8080/"
        }
      },
      "source": [
        "len(purchases_val[0])"
      ],
      "execution_count": 102,
      "outputs": [
        {
          "output_type": "execute_result",
          "data": {
            "text/plain": [
              "58"
            ]
          },
          "metadata": {
            "tags": []
          },
          "execution_count": 102
        }
      ]
    },
    {
      "cell_type": "code",
      "metadata": {
        "id": "gh81OssmL7MZ",
        "outputId": "3c8fff58-11a7-4c23-f2e8-05a8eea23a6a",
        "colab": {
          "base_uri": "https://localhost:8080/"
        }
      },
      "source": [
        "aggregate_vectors(purchases_val[0]).shape"
      ],
      "execution_count": 103,
      "outputs": [
        {
          "output_type": "stream",
          "text": [
            "/usr/local/lib/python3.6/dist-packages/ipykernel_launcher.py:5: DeprecationWarning: Call to deprecated `__getitem__` (Method will be removed in 4.0.0, use self.wv.__getitem__() instead).\n",
            "  \"\"\"\n"
          ],
          "name": "stderr"
        },
        {
          "output_type": "execute_result",
          "data": {
            "text/plain": [
              "(100,)"
            ]
          },
          "metadata": {
            "tags": []
          },
          "execution_count": 103
        }
      ]
    },
    {
      "cell_type": "code",
      "metadata": {
        "id": "yhll1-RMMDOk",
        "outputId": "ce230f91-6cb9-4d69-c769-315c7722d8a1",
        "colab": {
          "base_uri": "https://localhost:8080/"
        }
      },
      "source": [
        "similar_products(aggregate_vectors(purchases_val[0]))"
      ],
      "execution_count": 104,
      "outputs": [
        {
          "output_type": "stream",
          "text": [
            "/usr/local/lib/python3.6/dist-packages/ipykernel_launcher.py:5: DeprecationWarning: Call to deprecated `__getitem__` (Method will be removed in 4.0.0, use self.wv.__getitem__() instead).\n",
            "  \"\"\"\n",
            "/usr/local/lib/python3.6/dist-packages/ipykernel_launcher.py:2: DeprecationWarning: Call to deprecated `similar_by_vector` (Method will be removed in 4.0.0, use self.wv.similar_by_vector() instead).\n",
            "  \n",
            "/usr/local/lib/python3.6/dist-packages/gensim/matutils.py:737: FutureWarning: Conversion of the second argument of issubdtype from `int` to `np.signedinteger` is deprecated. In future, it will be treated as `np.int64 == np.dtype(int).type`.\n",
            "  if np.issubdtype(vec.dtype, np.int):\n"
          ],
          "name": "stderr"
        },
        {
          "output_type": "execute_result",
          "data": {
            "text/plain": [
              "[('MINI JIGSAW GO TO THE FAIR', 0.791551947593689),\n",
              " ('DOLLY HONEYCOMB GARLAND', 0.7659803628921509),\n",
              " ('FAIRY TALE COTTAGE NIGHTLIGHT', 0.7587142586708069),\n",
              " ('MOUSEY LONG LEGS SOFT TOY', 0.7581184506416321),\n",
              " ('PLASTERS IN TIN CIRCUS PARADE ', 0.7554559707641602),\n",
              " ('RED POLKADOT PUDDING BOWL', 0.755284309387207)]"
            ]
          },
          "metadata": {
            "tags": []
          },
          "execution_count": 104
        }
      ]
    },
    {
      "cell_type": "code",
      "metadata": {
        "id": "tkkwjZ_eMMGm",
        "outputId": "cc4d9e6b-1be8-4be5-f64d-6667899e581d",
        "colab": {
          "base_uri": "https://localhost:8080/"
        }
      },
      "source": [
        "similar_products(aggregate_vectors(purchases_val[0][-5:]))"
      ],
      "execution_count": 105,
      "outputs": [
        {
          "output_type": "stream",
          "text": [
            "/usr/local/lib/python3.6/dist-packages/ipykernel_launcher.py:5: DeprecationWarning: Call to deprecated `__getitem__` (Method will be removed in 4.0.0, use self.wv.__getitem__() instead).\n",
            "  \"\"\"\n",
            "/usr/local/lib/python3.6/dist-packages/ipykernel_launcher.py:2: DeprecationWarning: Call to deprecated `similar_by_vector` (Method will be removed in 4.0.0, use self.wv.similar_by_vector() instead).\n",
            "  \n",
            "/usr/local/lib/python3.6/dist-packages/gensim/matutils.py:737: FutureWarning: Conversion of the second argument of issubdtype from `int` to `np.signedinteger` is deprecated. In future, it will be treated as `np.int64 == np.dtype(int).type`.\n",
            "  if np.issubdtype(vec.dtype, np.int):\n"
          ],
          "name": "stderr"
        },
        {
          "output_type": "execute_result",
          "data": {
            "text/plain": [
              "[('PLASTERS IN TIN WOODLAND ANIMALS', 0.7823139429092407),\n",
              " ('PACK 3 FIRE ENGINE/CAR PATCHES', 0.7648223042488098),\n",
              " ('MIRRORED WALL ART STARS', 0.7615953683853149),\n",
              " ('PLASTERS IN TIN STRONGMAN', 0.7522805333137512),\n",
              " ('PLASTERS IN TIN SPACEBOY', 0.7433873414993286),\n",
              " ('MOUSEY LONG LEGS SOFT TOY', 0.7406435012817383)]"
            ]
          },
          "metadata": {
            "tags": []
          },
          "execution_count": 105
        }
      ]
    },
    {
      "cell_type": "markdown",
      "metadata": {
        "id": "o91nk9l-MdbJ"
      },
      "source": [
        "# <font color=\"blue\">**Churn Prediction**</font>"
      ]
    },
    {
      "cell_type": "code",
      "metadata": {
        "id": "wW-_m20bMSEk",
        "outputId": "8e40bf6e-2bee-4100-80b7-48cc62bca0c1",
        "colab": {
          "base_uri": "https://localhost:8080/",
          "height": 0
        }
      },
      "source": [
        "dataset[['Date', 'Month', 'Year']]"
      ],
      "execution_count": 106,
      "outputs": [
        {
          "output_type": "execute_result",
          "data": {
            "text/html": [
              "<div>\n",
              "<style scoped>\n",
              "    .dataframe tbody tr th:only-of-type {\n",
              "        vertical-align: middle;\n",
              "    }\n",
              "\n",
              "    .dataframe tbody tr th {\n",
              "        vertical-align: top;\n",
              "    }\n",
              "\n",
              "    .dataframe thead th {\n",
              "        text-align: right;\n",
              "    }\n",
              "</style>\n",
              "<table border=\"1\" class=\"dataframe\">\n",
              "  <thead>\n",
              "    <tr style=\"text-align: right;\">\n",
              "      <th></th>\n",
              "      <th>Date</th>\n",
              "      <th>Month</th>\n",
              "      <th>Year</th>\n",
              "    </tr>\n",
              "  </thead>\n",
              "  <tbody>\n",
              "    <tr>\n",
              "      <th>0</th>\n",
              "      <td>1</td>\n",
              "      <td>12</td>\n",
              "      <td>2010</td>\n",
              "    </tr>\n",
              "    <tr>\n",
              "      <th>1</th>\n",
              "      <td>1</td>\n",
              "      <td>12</td>\n",
              "      <td>2010</td>\n",
              "    </tr>\n",
              "    <tr>\n",
              "      <th>2</th>\n",
              "      <td>1</td>\n",
              "      <td>12</td>\n",
              "      <td>2010</td>\n",
              "    </tr>\n",
              "    <tr>\n",
              "      <th>3</th>\n",
              "      <td>1</td>\n",
              "      <td>12</td>\n",
              "      <td>2010</td>\n",
              "    </tr>\n",
              "    <tr>\n",
              "      <th>4</th>\n",
              "      <td>1</td>\n",
              "      <td>12</td>\n",
              "      <td>2010</td>\n",
              "    </tr>\n",
              "    <tr>\n",
              "      <th>...</th>\n",
              "      <td>...</td>\n",
              "      <td>...</td>\n",
              "      <td>...</td>\n",
              "    </tr>\n",
              "    <tr>\n",
              "      <th>152252</th>\n",
              "      <td>11</td>\n",
              "      <td>4</td>\n",
              "      <td>2011</td>\n",
              "    </tr>\n",
              "    <tr>\n",
              "      <th>152253</th>\n",
              "      <td>11</td>\n",
              "      <td>4</td>\n",
              "      <td>2011</td>\n",
              "    </tr>\n",
              "    <tr>\n",
              "      <th>152254</th>\n",
              "      <td>11</td>\n",
              "      <td>4</td>\n",
              "      <td>2011</td>\n",
              "    </tr>\n",
              "    <tr>\n",
              "      <th>152255</th>\n",
              "      <td>11</td>\n",
              "      <td>4</td>\n",
              "      <td>2011</td>\n",
              "    </tr>\n",
              "    <tr>\n",
              "      <th>152256</th>\n",
              "      <td>11</td>\n",
              "      <td>4</td>\n",
              "      <td>2011</td>\n",
              "    </tr>\n",
              "  </tbody>\n",
              "</table>\n",
              "<p>86159 rows × 3 columns</p>\n",
              "</div>"
            ],
            "text/plain": [
              "        Date  Month  Year\n",
              "0          1     12  2010\n",
              "1          1     12  2010\n",
              "2          1     12  2010\n",
              "3          1     12  2010\n",
              "4          1     12  2010\n",
              "...      ...    ...   ...\n",
              "152252    11      4  2011\n",
              "152253    11      4  2011\n",
              "152254    11      4  2011\n",
              "152255    11      4  2011\n",
              "152256    11      4  2011\n",
              "\n",
              "[86159 rows x 3 columns]"
            ]
          },
          "metadata": {
            "tags": []
          },
          "execution_count": 106
        }
      ]
    },
    {
      "cell_type": "code",
      "metadata": {
        "id": "IdMCXJMihZ7c",
        "outputId": "74cda779-4699-4b9d-b301-1d4abea75a34",
        "colab": {
          "base_uri": "https://localhost:8080/"
        }
      },
      "source": [
        "dataset['Month'].unique()"
      ],
      "execution_count": 107,
      "outputs": [
        {
          "output_type": "execute_result",
          "data": {
            "text/plain": [
              "array([12,  1,  2,  3,  4])"
            ]
          },
          "metadata": {
            "tags": []
          },
          "execution_count": 107
        }
      ]
    },
    {
      "cell_type": "markdown",
      "metadata": {
        "id": "0JAo7aXJhtDm"
      },
      "source": [
        "## Splitting the dataset\n",
        "\n",
        "### Initial dataset consists of data till end of july 2011 "
      ]
    },
    {
      "cell_type": "code",
      "metadata": {
        "id": "BDcrNPazhdxl",
        "outputId": "7bffe864-68d9-45b3-e4fe-6bb6c5cdd2ec",
        "colab": {
          "base_uri": "https://localhost:8080/",
          "height": 0
        }
      },
      "source": [
        "initial_dataset = dataset[((dataset['Month']==12) & (dataset['Year']==2010)) | \n",
        "                          ((dataset['Month']==1) & (dataset['Year']==2011)) |\n",
        "                          ((dataset['Month']==2) & (dataset['Year']==2011)) |\n",
        "                          ((dataset['Month']==3) & (dataset['Year']==2011)) |\n",
        "                          ((dataset['Month']==4) & (dataset['Year']==2011)) |\n",
        "                          ((dataset['Month']==5) & (dataset['Year']==2011)) |\n",
        "                          ((dataset['Month']==6) & (dataset['Year']==2011)) |\n",
        "                          ((dataset['Month']==7) & (dataset['Year']==2011))]\n",
        "\n",
        "initial_dataset"
      ],
      "execution_count": 108,
      "outputs": [
        {
          "output_type": "execute_result",
          "data": {
            "text/html": [
              "<div>\n",
              "<style scoped>\n",
              "    .dataframe tbody tr th:only-of-type {\n",
              "        vertical-align: middle;\n",
              "    }\n",
              "\n",
              "    .dataframe tbody tr th {\n",
              "        vertical-align: top;\n",
              "    }\n",
              "\n",
              "    .dataframe thead th {\n",
              "        text-align: right;\n",
              "    }\n",
              "</style>\n",
              "<table border=\"1\" class=\"dataframe\">\n",
              "  <thead>\n",
              "    <tr style=\"text-align: right;\">\n",
              "      <th></th>\n",
              "      <th>InvoiceNo</th>\n",
              "      <th>StockCode</th>\n",
              "      <th>Description</th>\n",
              "      <th>Quantity</th>\n",
              "      <th>InvoiceDate</th>\n",
              "      <th>UnitPrice</th>\n",
              "      <th>CustomerID</th>\n",
              "      <th>Country</th>\n",
              "      <th>Log_Transformed_Quantity</th>\n",
              "      <th>Log_Transformed_UnitPrice</th>\n",
              "      <th>Normalized_Quantity</th>\n",
              "      <th>Normalized_UnitPrice</th>\n",
              "      <th>Standardized_Quantity</th>\n",
              "      <th>Standardized_UnitPrice</th>\n",
              "      <th>Date</th>\n",
              "      <th>Month</th>\n",
              "      <th>Year</th>\n",
              "      <th>Weekday</th>\n",
              "      <th>Time</th>\n",
              "      <th>Sales</th>\n",
              "    </tr>\n",
              "  </thead>\n",
              "  <tbody>\n",
              "    <tr>\n",
              "      <th>0</th>\n",
              "      <td>536365</td>\n",
              "      <td>85123A</td>\n",
              "      <td>WHITE HANGING HEART T-LIGHT HOLDER</td>\n",
              "      <td>6.0</td>\n",
              "      <td>12/1/2010 8:26</td>\n",
              "      <td>2.55</td>\n",
              "      <td>17850.0</td>\n",
              "      <td>United Kingdom</td>\n",
              "      <td>1.945910</td>\n",
              "      <td>1.266948</td>\n",
              "      <td>0.20</td>\n",
              "      <td>0.335142</td>\n",
              "      <td>-0.203033</td>\n",
              "      <td>0.196183</td>\n",
              "      <td>1</td>\n",
              "      <td>12</td>\n",
              "      <td>2010</td>\n",
              "      <td>Wednesday</td>\n",
              "      <td>08:26:00</td>\n",
              "      <td>15.30</td>\n",
              "    </tr>\n",
              "    <tr>\n",
              "      <th>1</th>\n",
              "      <td>536365</td>\n",
              "      <td>71053</td>\n",
              "      <td>WHITE METAL LANTERN</td>\n",
              "      <td>6.0</td>\n",
              "      <td>12/1/2010 8:26</td>\n",
              "      <td>3.39</td>\n",
              "      <td>17850.0</td>\n",
              "      <td>United Kingdom</td>\n",
              "      <td>1.945910</td>\n",
              "      <td>1.479329</td>\n",
              "      <td>0.20</td>\n",
              "      <td>0.449118</td>\n",
              "      <td>-0.203033</td>\n",
              "      <td>0.745232</td>\n",
              "      <td>1</td>\n",
              "      <td>12</td>\n",
              "      <td>2010</td>\n",
              "      <td>Wednesday</td>\n",
              "      <td>08:26:00</td>\n",
              "      <td>20.34</td>\n",
              "    </tr>\n",
              "    <tr>\n",
              "      <th>2</th>\n",
              "      <td>536365</td>\n",
              "      <td>84406B</td>\n",
              "      <td>CREAM CUPID HEARTS COAT HANGER</td>\n",
              "      <td>8.0</td>\n",
              "      <td>12/1/2010 8:26</td>\n",
              "      <td>2.75</td>\n",
              "      <td>17850.0</td>\n",
              "      <td>United Kingdom</td>\n",
              "      <td>2.197225</td>\n",
              "      <td>1.321756</td>\n",
              "      <td>0.28</td>\n",
              "      <td>0.362280</td>\n",
              "      <td>0.094191</td>\n",
              "      <td>0.326909</td>\n",
              "      <td>1</td>\n",
              "      <td>12</td>\n",
              "      <td>2010</td>\n",
              "      <td>Wednesday</td>\n",
              "      <td>08:26:00</td>\n",
              "      <td>22.00</td>\n",
              "    </tr>\n",
              "    <tr>\n",
              "      <th>3</th>\n",
              "      <td>536365</td>\n",
              "      <td>84029G</td>\n",
              "      <td>KNITTED UNION FLAG HOT WATER BOTTLE</td>\n",
              "      <td>6.0</td>\n",
              "      <td>12/1/2010 8:26</td>\n",
              "      <td>3.39</td>\n",
              "      <td>17850.0</td>\n",
              "      <td>United Kingdom</td>\n",
              "      <td>1.945910</td>\n",
              "      <td>1.479329</td>\n",
              "      <td>0.20</td>\n",
              "      <td>0.449118</td>\n",
              "      <td>-0.203033</td>\n",
              "      <td>0.745232</td>\n",
              "      <td>1</td>\n",
              "      <td>12</td>\n",
              "      <td>2010</td>\n",
              "      <td>Wednesday</td>\n",
              "      <td>08:26:00</td>\n",
              "      <td>20.34</td>\n",
              "    </tr>\n",
              "    <tr>\n",
              "      <th>4</th>\n",
              "      <td>536365</td>\n",
              "      <td>84029E</td>\n",
              "      <td>RED WOOLLY HOTTIE WHITE HEART.</td>\n",
              "      <td>6.0</td>\n",
              "      <td>12/1/2010 8:26</td>\n",
              "      <td>3.39</td>\n",
              "      <td>17850.0</td>\n",
              "      <td>United Kingdom</td>\n",
              "      <td>1.945910</td>\n",
              "      <td>1.479329</td>\n",
              "      <td>0.20</td>\n",
              "      <td>0.449118</td>\n",
              "      <td>-0.203033</td>\n",
              "      <td>0.745232</td>\n",
              "      <td>1</td>\n",
              "      <td>12</td>\n",
              "      <td>2010</td>\n",
              "      <td>Wednesday</td>\n",
              "      <td>08:26:00</td>\n",
              "      <td>20.34</td>\n",
              "    </tr>\n",
              "    <tr>\n",
              "      <th>...</th>\n",
              "      <td>...</td>\n",
              "      <td>...</td>\n",
              "      <td>...</td>\n",
              "      <td>...</td>\n",
              "      <td>...</td>\n",
              "      <td>...</td>\n",
              "      <td>...</td>\n",
              "      <td>...</td>\n",
              "      <td>...</td>\n",
              "      <td>...</td>\n",
              "      <td>...</td>\n",
              "      <td>...</td>\n",
              "      <td>...</td>\n",
              "      <td>...</td>\n",
              "      <td>...</td>\n",
              "      <td>...</td>\n",
              "      <td>...</td>\n",
              "      <td>...</td>\n",
              "      <td>...</td>\n",
              "      <td>...</td>\n",
              "    </tr>\n",
              "    <tr>\n",
              "      <th>152252</th>\n",
              "      <td>549583</td>\n",
              "      <td>85123A</td>\n",
              "      <td>WHITE HANGING HEART T-LIGHT HOLDER</td>\n",
              "      <td>6.0</td>\n",
              "      <td>4/11/2011 9:46</td>\n",
              "      <td>2.95</td>\n",
              "      <td>15214.0</td>\n",
              "      <td>United Kingdom</td>\n",
              "      <td>1.945910</td>\n",
              "      <td>1.373716</td>\n",
              "      <td>0.20</td>\n",
              "      <td>0.389417</td>\n",
              "      <td>-0.203033</td>\n",
              "      <td>0.457635</td>\n",
              "      <td>11</td>\n",
              "      <td>4</td>\n",
              "      <td>2011</td>\n",
              "      <td>Monday</td>\n",
              "      <td>09:46:00</td>\n",
              "      <td>17.70</td>\n",
              "    </tr>\n",
              "    <tr>\n",
              "      <th>152253</th>\n",
              "      <td>549583</td>\n",
              "      <td>84946</td>\n",
              "      <td>ANTIQUE SILVER T-LIGHT GLASS</td>\n",
              "      <td>12.0</td>\n",
              "      <td>4/11/2011 9:46</td>\n",
              "      <td>1.25</td>\n",
              "      <td>15214.0</td>\n",
              "      <td>United Kingdom</td>\n",
              "      <td>2.564949</td>\n",
              "      <td>0.810930</td>\n",
              "      <td>0.44</td>\n",
              "      <td>0.158752</td>\n",
              "      <td>0.688639</td>\n",
              "      <td>-0.653535</td>\n",
              "      <td>11</td>\n",
              "      <td>4</td>\n",
              "      <td>2011</td>\n",
              "      <td>Monday</td>\n",
              "      <td>09:46:00</td>\n",
              "      <td>15.00</td>\n",
              "    </tr>\n",
              "    <tr>\n",
              "      <th>152254</th>\n",
              "      <td>549583</td>\n",
              "      <td>22241</td>\n",
              "      <td>GARLAND WOODEN HAPPY EASTER</td>\n",
              "      <td>12.0</td>\n",
              "      <td>4/11/2011 9:46</td>\n",
              "      <td>1.25</td>\n",
              "      <td>15214.0</td>\n",
              "      <td>United Kingdom</td>\n",
              "      <td>2.564949</td>\n",
              "      <td>0.810930</td>\n",
              "      <td>0.44</td>\n",
              "      <td>0.158752</td>\n",
              "      <td>0.688639</td>\n",
              "      <td>-0.653535</td>\n",
              "      <td>11</td>\n",
              "      <td>4</td>\n",
              "      <td>2011</td>\n",
              "      <td>Monday</td>\n",
              "      <td>09:46:00</td>\n",
              "      <td>15.00</td>\n",
              "    </tr>\n",
              "    <tr>\n",
              "      <th>152255</th>\n",
              "      <td>549583</td>\n",
              "      <td>22857</td>\n",
              "      <td>ASSORTED EASTER GIFT TAGS</td>\n",
              "      <td>12.0</td>\n",
              "      <td>4/11/2011 9:46</td>\n",
              "      <td>0.85</td>\n",
              "      <td>15214.0</td>\n",
              "      <td>United Kingdom</td>\n",
              "      <td>2.564949</td>\n",
              "      <td>0.615186</td>\n",
              "      <td>0.44</td>\n",
              "      <td>0.104478</td>\n",
              "      <td>0.688639</td>\n",
              "      <td>-0.914987</td>\n",
              "      <td>11</td>\n",
              "      <td>4</td>\n",
              "      <td>2011</td>\n",
              "      <td>Monday</td>\n",
              "      <td>09:46:00</td>\n",
              "      <td>10.20</td>\n",
              "    </tr>\n",
              "    <tr>\n",
              "      <th>152256</th>\n",
              "      <td>549583</td>\n",
              "      <td>47566</td>\n",
              "      <td>PARTY BUNTING</td>\n",
              "      <td>4.0</td>\n",
              "      <td>4/11/2011 9:46</td>\n",
              "      <td>4.95</td>\n",
              "      <td>15214.0</td>\n",
              "      <td>United Kingdom</td>\n",
              "      <td>1.609438</td>\n",
              "      <td>1.783391</td>\n",
              "      <td>0.12</td>\n",
              "      <td>0.660787</td>\n",
              "      <td>-0.500257</td>\n",
              "      <td>1.764894</td>\n",
              "      <td>11</td>\n",
              "      <td>4</td>\n",
              "      <td>2011</td>\n",
              "      <td>Monday</td>\n",
              "      <td>09:46:00</td>\n",
              "      <td>19.80</td>\n",
              "    </tr>\n",
              "  </tbody>\n",
              "</table>\n",
              "<p>86159 rows × 20 columns</p>\n",
              "</div>"
            ],
            "text/plain": [
              "       InvoiceNo StockCode  ...      Time  Sales\n",
              "0         536365    85123A  ...  08:26:00  15.30\n",
              "1         536365     71053  ...  08:26:00  20.34\n",
              "2         536365    84406B  ...  08:26:00  22.00\n",
              "3         536365    84029G  ...  08:26:00  20.34\n",
              "4         536365    84029E  ...  08:26:00  20.34\n",
              "...          ...       ...  ...       ...    ...\n",
              "152252    549583    85123A  ...  09:46:00  17.70\n",
              "152253    549583     84946  ...  09:46:00  15.00\n",
              "152254    549583     22241  ...  09:46:00  15.00\n",
              "152255    549583     22857  ...  09:46:00  10.20\n",
              "152256    549583     47566  ...  09:46:00  19.80\n",
              "\n",
              "[86159 rows x 20 columns]"
            ]
          },
          "metadata": {
            "tags": []
          },
          "execution_count": 108
        }
      ]
    },
    {
      "cell_type": "markdown",
      "metadata": {
        "id": "WyKETTcxiEy3"
      },
      "source": [
        "### Final dataset consists data from start of August 2011 till end"
      ]
    },
    {
      "cell_type": "code",
      "metadata": {
        "id": "870fs6Exh8cM",
        "outputId": "f16f3f81-765f-47d6-b9a1-91112ae34538",
        "colab": {
          "base_uri": "https://localhost:8080/",
          "height": 0
        }
      },
      "source": [
        "final_dataset = dataset[((dataset['Month']==8) & (dataset['Year']==2011)) |\n",
        "                        ((dataset['Month']==9) & (dataset['Year']==2011)) | \n",
        "                        ((dataset['Month']==10) & (dataset['Year']==2011)) |\n",
        "                        ((dataset['Month']==11) & (dataset['Year']==2011)) |\n",
        "                        ((dataset['Month']==12) & (dataset['Year']==2011))]\n",
        "\n",
        "final_dataset"
      ],
      "execution_count": 109,
      "outputs": [
        {
          "output_type": "execute_result",
          "data": {
            "text/html": [
              "<div>\n",
              "<style scoped>\n",
              "    .dataframe tbody tr th:only-of-type {\n",
              "        vertical-align: middle;\n",
              "    }\n",
              "\n",
              "    .dataframe tbody tr th {\n",
              "        vertical-align: top;\n",
              "    }\n",
              "\n",
              "    .dataframe thead th {\n",
              "        text-align: right;\n",
              "    }\n",
              "</style>\n",
              "<table border=\"1\" class=\"dataframe\">\n",
              "  <thead>\n",
              "    <tr style=\"text-align: right;\">\n",
              "      <th></th>\n",
              "      <th>InvoiceNo</th>\n",
              "      <th>StockCode</th>\n",
              "      <th>Description</th>\n",
              "      <th>Quantity</th>\n",
              "      <th>InvoiceDate</th>\n",
              "      <th>UnitPrice</th>\n",
              "      <th>CustomerID</th>\n",
              "      <th>Country</th>\n",
              "      <th>Log_Transformed_Quantity</th>\n",
              "      <th>Log_Transformed_UnitPrice</th>\n",
              "      <th>Normalized_Quantity</th>\n",
              "      <th>Normalized_UnitPrice</th>\n",
              "      <th>Standardized_Quantity</th>\n",
              "      <th>Standardized_UnitPrice</th>\n",
              "      <th>Date</th>\n",
              "      <th>Month</th>\n",
              "      <th>Year</th>\n",
              "      <th>Weekday</th>\n",
              "      <th>Time</th>\n",
              "      <th>Sales</th>\n",
              "    </tr>\n",
              "  </thead>\n",
              "  <tbody>\n",
              "  </tbody>\n",
              "</table>\n",
              "</div>"
            ],
            "text/plain": [
              "Empty DataFrame\n",
              "Columns: [InvoiceNo, StockCode, Description, Quantity, InvoiceDate, UnitPrice, CustomerID, Country, Log_Transformed_Quantity, Log_Transformed_UnitPrice, Normalized_Quantity, Normalized_UnitPrice, Standardized_Quantity, Standardized_UnitPrice, Date, Month, Year, Weekday, Time, Sales]\n",
              "Index: []"
            ]
          },
          "metadata": {
            "tags": []
          },
          "execution_count": 109
        }
      ]
    },
    {
      "cell_type": "markdown",
      "metadata": {
        "id": "jGeG0NiKiXD4"
      },
      "source": [
        "## Finding the frequency of each customers during start of December 2010 to end of July 2011 "
      ]
    },
    {
      "cell_type": "code",
      "metadata": {
        "id": "JWtbGcqGiNZp",
        "outputId": "6d702d18-6b03-4978-e5d0-4d1646ad4e2a",
        "colab": {
          "base_uri": "https://localhost:8080/"
        }
      },
      "source": [
        "initial_frequency = initial_dataset.groupby('CustomerID')['InvoiceNo'].nunique()\n",
        "\n",
        "initial_frequency"
      ],
      "execution_count": 110,
      "outputs": [
        {
          "output_type": "execute_result",
          "data": {
            "text/plain": [
              "CustomerID\n",
              "12347.0    3\n",
              "12348.0    3\n",
              "12350.0    1\n",
              "12352.0    4\n",
              "12356.0    2\n",
              "          ..\n",
              "18270.0    1\n",
              "18272.0    1\n",
              "18273.0    1\n",
              "18280.0    1\n",
              "18283.0    3\n",
              "Name: InvoiceNo, Length: 2141, dtype: int64"
            ]
          },
          "metadata": {
            "tags": []
          },
          "execution_count": 110
        }
      ]
    },
    {
      "cell_type": "code",
      "metadata": {
        "id": "bxs36X-CixrQ",
        "outputId": "56f23a53-10a8-4f3f-bd1b-2c65981f414d",
        "colab": {
          "base_uri": "https://localhost:8080/",
          "height": 0
        }
      },
      "source": [
        "initial_frequency_table = pd.DataFrame({'CustomerID': initial_dataset['CustomerID'].unique()})\n",
        "\n",
        "initial_frequency_table = initial_frequency_table.sort_values('CustomerID').reset_index()\n",
        "\n",
        "del initial_frequency_table['index']\n",
        "\n",
        "initial_frequency_table"
      ],
      "execution_count": 111,
      "outputs": [
        {
          "output_type": "execute_result",
          "data": {
            "text/html": [
              "<div>\n",
              "<style scoped>\n",
              "    .dataframe tbody tr th:only-of-type {\n",
              "        vertical-align: middle;\n",
              "    }\n",
              "\n",
              "    .dataframe tbody tr th {\n",
              "        vertical-align: top;\n",
              "    }\n",
              "\n",
              "    .dataframe thead th {\n",
              "        text-align: right;\n",
              "    }\n",
              "</style>\n",
              "<table border=\"1\" class=\"dataframe\">\n",
              "  <thead>\n",
              "    <tr style=\"text-align: right;\">\n",
              "      <th></th>\n",
              "      <th>CustomerID</th>\n",
              "    </tr>\n",
              "  </thead>\n",
              "  <tbody>\n",
              "    <tr>\n",
              "      <th>0</th>\n",
              "      <td>12347.0</td>\n",
              "    </tr>\n",
              "    <tr>\n",
              "      <th>1</th>\n",
              "      <td>12348.0</td>\n",
              "    </tr>\n",
              "    <tr>\n",
              "      <th>2</th>\n",
              "      <td>12350.0</td>\n",
              "    </tr>\n",
              "    <tr>\n",
              "      <th>3</th>\n",
              "      <td>12352.0</td>\n",
              "    </tr>\n",
              "    <tr>\n",
              "      <th>4</th>\n",
              "      <td>12356.0</td>\n",
              "    </tr>\n",
              "    <tr>\n",
              "      <th>...</th>\n",
              "      <td>...</td>\n",
              "    </tr>\n",
              "    <tr>\n",
              "      <th>2136</th>\n",
              "      <td>18270.0</td>\n",
              "    </tr>\n",
              "    <tr>\n",
              "      <th>2137</th>\n",
              "      <td>18272.0</td>\n",
              "    </tr>\n",
              "    <tr>\n",
              "      <th>2138</th>\n",
              "      <td>18273.0</td>\n",
              "    </tr>\n",
              "    <tr>\n",
              "      <th>2139</th>\n",
              "      <td>18280.0</td>\n",
              "    </tr>\n",
              "    <tr>\n",
              "      <th>2140</th>\n",
              "      <td>18283.0</td>\n",
              "    </tr>\n",
              "  </tbody>\n",
              "</table>\n",
              "<p>2141 rows × 1 columns</p>\n",
              "</div>"
            ],
            "text/plain": [
              "      CustomerID\n",
              "0        12347.0\n",
              "1        12348.0\n",
              "2        12350.0\n",
              "3        12352.0\n",
              "4        12356.0\n",
              "...          ...\n",
              "2136     18270.0\n",
              "2137     18272.0\n",
              "2138     18273.0\n",
              "2139     18280.0\n",
              "2140     18283.0\n",
              "\n",
              "[2141 rows x 1 columns]"
            ]
          },
          "metadata": {
            "tags": []
          },
          "execution_count": 111
        }
      ]
    },
    {
      "cell_type": "code",
      "metadata": {
        "id": "ZKskbgVmjjbe",
        "outputId": "8df51915-a42e-431c-b121-cc1ae3f66a62",
        "colab": {
          "base_uri": "https://localhost:8080/",
          "height": 0
        }
      },
      "source": [
        "initial_frequency_table = pd.merge(initial_frequency_table, initial_frequency, on='CustomerID')\n",
        "\n",
        "initial_frequency_table.head(10)"
      ],
      "execution_count": 112,
      "outputs": [
        {
          "output_type": "execute_result",
          "data": {
            "text/html": [
              "<div>\n",
              "<style scoped>\n",
              "    .dataframe tbody tr th:only-of-type {\n",
              "        vertical-align: middle;\n",
              "    }\n",
              "\n",
              "    .dataframe tbody tr th {\n",
              "        vertical-align: top;\n",
              "    }\n",
              "\n",
              "    .dataframe thead th {\n",
              "        text-align: right;\n",
              "    }\n",
              "</style>\n",
              "<table border=\"1\" class=\"dataframe\">\n",
              "  <thead>\n",
              "    <tr style=\"text-align: right;\">\n",
              "      <th></th>\n",
              "      <th>CustomerID</th>\n",
              "      <th>InvoiceNo</th>\n",
              "    </tr>\n",
              "  </thead>\n",
              "  <tbody>\n",
              "    <tr>\n",
              "      <th>0</th>\n",
              "      <td>12347.0</td>\n",
              "      <td>3</td>\n",
              "    </tr>\n",
              "    <tr>\n",
              "      <th>1</th>\n",
              "      <td>12348.0</td>\n",
              "      <td>3</td>\n",
              "    </tr>\n",
              "    <tr>\n",
              "      <th>2</th>\n",
              "      <td>12350.0</td>\n",
              "      <td>1</td>\n",
              "    </tr>\n",
              "    <tr>\n",
              "      <th>3</th>\n",
              "      <td>12352.0</td>\n",
              "      <td>4</td>\n",
              "    </tr>\n",
              "    <tr>\n",
              "      <th>4</th>\n",
              "      <td>12356.0</td>\n",
              "      <td>2</td>\n",
              "    </tr>\n",
              "    <tr>\n",
              "      <th>5</th>\n",
              "      <td>12359.0</td>\n",
              "      <td>2</td>\n",
              "    </tr>\n",
              "    <tr>\n",
              "      <th>6</th>\n",
              "      <td>12361.0</td>\n",
              "      <td>1</td>\n",
              "    </tr>\n",
              "    <tr>\n",
              "      <th>7</th>\n",
              "      <td>12362.0</td>\n",
              "      <td>1</td>\n",
              "    </tr>\n",
              "    <tr>\n",
              "      <th>8</th>\n",
              "      <td>12365.0</td>\n",
              "      <td>1</td>\n",
              "    </tr>\n",
              "    <tr>\n",
              "      <th>9</th>\n",
              "      <td>12370.0</td>\n",
              "      <td>3</td>\n",
              "    </tr>\n",
              "  </tbody>\n",
              "</table>\n",
              "</div>"
            ],
            "text/plain": [
              "   CustomerID  InvoiceNo\n",
              "0     12347.0          3\n",
              "1     12348.0          3\n",
              "2     12350.0          1\n",
              "3     12352.0          4\n",
              "4     12356.0          2\n",
              "5     12359.0          2\n",
              "6     12361.0          1\n",
              "7     12362.0          1\n",
              "8     12365.0          1\n",
              "9     12370.0          3"
            ]
          },
          "metadata": {
            "tags": []
          },
          "execution_count": 112
        }
      ]
    },
    {
      "cell_type": "code",
      "metadata": {
        "id": "jOzTGMrnjwNo",
        "outputId": "896b1b57-7f10-4f38-bb4e-897818586747",
        "colab": {
          "base_uri": "https://localhost:8080/",
          "height": 0
        }
      },
      "source": [
        "initial_frequency_table.rename(columns={'InvoiceNo': 'Initial_frequency'}, inplace=True)\n",
        "\n",
        "initial_frequency_table"
      ],
      "execution_count": 113,
      "outputs": [
        {
          "output_type": "execute_result",
          "data": {
            "text/html": [
              "<div>\n",
              "<style scoped>\n",
              "    .dataframe tbody tr th:only-of-type {\n",
              "        vertical-align: middle;\n",
              "    }\n",
              "\n",
              "    .dataframe tbody tr th {\n",
              "        vertical-align: top;\n",
              "    }\n",
              "\n",
              "    .dataframe thead th {\n",
              "        text-align: right;\n",
              "    }\n",
              "</style>\n",
              "<table border=\"1\" class=\"dataframe\">\n",
              "  <thead>\n",
              "    <tr style=\"text-align: right;\">\n",
              "      <th></th>\n",
              "      <th>CustomerID</th>\n",
              "      <th>Initial_frequency</th>\n",
              "    </tr>\n",
              "  </thead>\n",
              "  <tbody>\n",
              "    <tr>\n",
              "      <th>0</th>\n",
              "      <td>12347.0</td>\n",
              "      <td>3</td>\n",
              "    </tr>\n",
              "    <tr>\n",
              "      <th>1</th>\n",
              "      <td>12348.0</td>\n",
              "      <td>3</td>\n",
              "    </tr>\n",
              "    <tr>\n",
              "      <th>2</th>\n",
              "      <td>12350.0</td>\n",
              "      <td>1</td>\n",
              "    </tr>\n",
              "    <tr>\n",
              "      <th>3</th>\n",
              "      <td>12352.0</td>\n",
              "      <td>4</td>\n",
              "    </tr>\n",
              "    <tr>\n",
              "      <th>4</th>\n",
              "      <td>12356.0</td>\n",
              "      <td>2</td>\n",
              "    </tr>\n",
              "    <tr>\n",
              "      <th>...</th>\n",
              "      <td>...</td>\n",
              "      <td>...</td>\n",
              "    </tr>\n",
              "    <tr>\n",
              "      <th>2136</th>\n",
              "      <td>18270.0</td>\n",
              "      <td>1</td>\n",
              "    </tr>\n",
              "    <tr>\n",
              "      <th>2137</th>\n",
              "      <td>18272.0</td>\n",
              "      <td>1</td>\n",
              "    </tr>\n",
              "    <tr>\n",
              "      <th>2138</th>\n",
              "      <td>18273.0</td>\n",
              "      <td>1</td>\n",
              "    </tr>\n",
              "    <tr>\n",
              "      <th>2139</th>\n",
              "      <td>18280.0</td>\n",
              "      <td>1</td>\n",
              "    </tr>\n",
              "    <tr>\n",
              "      <th>2140</th>\n",
              "      <td>18283.0</td>\n",
              "      <td>3</td>\n",
              "    </tr>\n",
              "  </tbody>\n",
              "</table>\n",
              "<p>2141 rows × 2 columns</p>\n",
              "</div>"
            ],
            "text/plain": [
              "      CustomerID  Initial_frequency\n",
              "0        12347.0                  3\n",
              "1        12348.0                  3\n",
              "2        12350.0                  1\n",
              "3        12352.0                  4\n",
              "4        12356.0                  2\n",
              "...          ...                ...\n",
              "2136     18270.0                  1\n",
              "2137     18272.0                  1\n",
              "2138     18273.0                  1\n",
              "2139     18280.0                  1\n",
              "2140     18283.0                  3\n",
              "\n",
              "[2141 rows x 2 columns]"
            ]
          },
          "metadata": {
            "tags": []
          },
          "execution_count": 113
        }
      ]
    },
    {
      "cell_type": "code",
      "metadata": {
        "id": "0gsqyHKjkAoZ",
        "outputId": "899b4423-737c-4ce9-bb69-80216f3502db",
        "colab": {
          "base_uri": "https://localhost:8080/"
        }
      },
      "source": [
        "initial_frequency_table['Initial_frequency'].describe()"
      ],
      "execution_count": 114,
      "outputs": [
        {
          "output_type": "execute_result",
          "data": {
            "text/plain": [
              "count    2141.000000\n",
              "mean        2.153667\n",
              "std         2.867840\n",
              "min         1.000000\n",
              "25%         1.000000\n",
              "50%         1.000000\n",
              "75%         2.000000\n",
              "max        56.000000\n",
              "Name: Initial_frequency, dtype: float64"
            ]
          },
          "metadata": {
            "tags": []
          },
          "execution_count": 114
        }
      ]
    },
    {
      "cell_type": "markdown",
      "metadata": {
        "id": "hXdQ0vSUkJm_"
      },
      "source": [
        "## Finding the frequency of each customers during start of August 2011 to end of dataset"
      ]
    },
    {
      "cell_type": "code",
      "metadata": {
        "id": "Lodv9u1dkFK3",
        "outputId": "1a580d63-e761-4db5-f796-913b0e22470f",
        "colab": {
          "base_uri": "https://localhost:8080/"
        }
      },
      "source": [
        "final_frequency = final_dataset.groupby('CustomerID')['InvoiceNo'].nunique()\n",
        "\n",
        "final_frequency"
      ],
      "execution_count": 115,
      "outputs": [
        {
          "output_type": "execute_result",
          "data": {
            "text/plain": [
              "Series([], Name: InvoiceNo, dtype: int64)"
            ]
          },
          "metadata": {
            "tags": []
          },
          "execution_count": 115
        }
      ]
    },
    {
      "cell_type": "code",
      "metadata": {
        "id": "6fZPtZvCkdlj",
        "outputId": "9c68fa8d-12df-47c3-f89b-16d744ed299e",
        "colab": {
          "base_uri": "https://localhost:8080/",
          "height": 0
        }
      },
      "source": [
        "final_frequency_table = pd.DataFrame({'CustomerID': final_dataset['CustomerID'].unique()})\n",
        "\n",
        "final_frequency_table = final_frequency_table.sort_values('CustomerID').reset_index()\n",
        "\n",
        "del final_frequency_table['index']\n",
        "\n",
        "final_frequency_table"
      ],
      "execution_count": 116,
      "outputs": [
        {
          "output_type": "execute_result",
          "data": {
            "text/html": [
              "<div>\n",
              "<style scoped>\n",
              "    .dataframe tbody tr th:only-of-type {\n",
              "        vertical-align: middle;\n",
              "    }\n",
              "\n",
              "    .dataframe tbody tr th {\n",
              "        vertical-align: top;\n",
              "    }\n",
              "\n",
              "    .dataframe thead th {\n",
              "        text-align: right;\n",
              "    }\n",
              "</style>\n",
              "<table border=\"1\" class=\"dataframe\">\n",
              "  <thead>\n",
              "    <tr style=\"text-align: right;\">\n",
              "      <th></th>\n",
              "      <th>CustomerID</th>\n",
              "    </tr>\n",
              "  </thead>\n",
              "  <tbody>\n",
              "  </tbody>\n",
              "</table>\n",
              "</div>"
            ],
            "text/plain": [
              "Empty DataFrame\n",
              "Columns: [CustomerID]\n",
              "Index: []"
            ]
          },
          "metadata": {
            "tags": []
          },
          "execution_count": 116
        }
      ]
    },
    {
      "cell_type": "code",
      "metadata": {
        "id": "8r272Aa7k34z",
        "outputId": "72f7e823-f5cc-4886-fa57-b06cad2e14c2",
        "colab": {
          "base_uri": "https://localhost:8080/",
          "height": 0
        }
      },
      "source": [
        "final_frequency_table = pd.merge(final_frequency_table, final_frequency, on='CustomerID')\n",
        "\n",
        "final_frequency_table.rename(columns={'InvoiceNo': 'Final_frequency'}, inplace=True)\n",
        "\n",
        "final_frequency_table"
      ],
      "execution_count": 117,
      "outputs": [
        {
          "output_type": "execute_result",
          "data": {
            "text/html": [
              "<div>\n",
              "<style scoped>\n",
              "    .dataframe tbody tr th:only-of-type {\n",
              "        vertical-align: middle;\n",
              "    }\n",
              "\n",
              "    .dataframe tbody tr th {\n",
              "        vertical-align: top;\n",
              "    }\n",
              "\n",
              "    .dataframe thead th {\n",
              "        text-align: right;\n",
              "    }\n",
              "</style>\n",
              "<table border=\"1\" class=\"dataframe\">\n",
              "  <thead>\n",
              "    <tr style=\"text-align: right;\">\n",
              "      <th></th>\n",
              "      <th>CustomerID</th>\n",
              "      <th>Final_frequency</th>\n",
              "    </tr>\n",
              "  </thead>\n",
              "  <tbody>\n",
              "  </tbody>\n",
              "</table>\n",
              "</div>"
            ],
            "text/plain": [
              "Empty DataFrame\n",
              "Columns: [CustomerID, Final_frequency]\n",
              "Index: []"
            ]
          },
          "metadata": {
            "tags": []
          },
          "execution_count": 117
        }
      ]
    },
    {
      "cell_type": "code",
      "metadata": {
        "id": "zBZeHQ8OlUay",
        "outputId": "733f5fde-ef87-4de8-af6c-0e24aed73c5c",
        "colab": {
          "base_uri": "https://localhost:8080/"
        }
      },
      "source": [
        "final_frequency_table['Final_frequency'].describe()"
      ],
      "execution_count": 118,
      "outputs": [
        {
          "output_type": "execute_result",
          "data": {
            "text/plain": [
              "count    0.0\n",
              "mean     NaN\n",
              "std      NaN\n",
              "min      NaN\n",
              "25%      NaN\n",
              "50%      NaN\n",
              "75%      NaN\n",
              "max      NaN\n",
              "Name: Final_frequency, dtype: float64"
            ]
          },
          "metadata": {
            "tags": []
          },
          "execution_count": 118
        }
      ]
    },
    {
      "cell_type": "markdown",
      "metadata": {
        "id": "JlOLLxBXld37"
      },
      "source": [
        "## Checking for customers who used to shop before but have stopped shopping from last 4 months"
      ]
    },
    {
      "cell_type": "code",
      "metadata": {
        "id": "ULB16FzolbZW"
      },
      "source": [
        "a = np.array(initial_frequency_table['CustomerID'])\n",
        "b = np.array(final_frequency_table['CustomerID'])"
      ],
      "execution_count": 119,
      "outputs": []
    },
    {
      "cell_type": "markdown",
      "metadata": {
        "id": "CW5rUiIJmUSo"
      },
      "source": [
        "### Churned customers"
      ]
    },
    {
      "cell_type": "code",
      "metadata": {
        "id": "BU7mKUfKmKpV",
        "outputId": "04df3549-689a-4b5c-e4d5-060bcc3f43ea",
        "colab": {
          "base_uri": "https://localhost:8080/"
        }
      },
      "source": [
        "c = np.setdiff1d(a, b)\n",
        "print(len(c), c)"
      ],
      "execution_count": 120,
      "outputs": [
        {
          "output_type": "stream",
          "text": [
            "2141 [12347. 12348. 12350. ... 18273. 18280. 18283.]\n"
          ],
          "name": "stdout"
        }
      ]
    },
    {
      "cell_type": "markdown",
      "metadata": {
        "id": "lo32zT3Xmibv"
      },
      "source": [
        "### Unchurned customers"
      ]
    },
    {
      "cell_type": "code",
      "metadata": {
        "id": "_N11CIHBmd-D",
        "outputId": "3c0e96cd-2cff-49a4-e35d-50528e376099",
        "colab": {
          "base_uri": "https://localhost:8080/"
        }
      },
      "source": [
        "d = np.intersect1d(a, b)\n",
        "print(len(d), d)"
      ],
      "execution_count": 121,
      "outputs": [
        {
          "output_type": "stream",
          "text": [
            "0 []\n"
          ],
          "name": "stdout"
        }
      ]
    },
    {
      "cell_type": "code",
      "metadata": {
        "id": "YD0MMLzpmqjU",
        "outputId": "a2f3daa4-d965-4035-ced1-6b36cd6d162a",
        "colab": {
          "base_uri": "https://localhost:8080/"
        }
      },
      "source": [
        "e = np.setdiff1d(b, a)\n",
        "print(len(e), e)"
      ],
      "execution_count": 122,
      "outputs": [
        {
          "output_type": "stream",
          "text": [
            "0 []\n"
          ],
          "name": "stdout"
        }
      ]
    },
    {
      "cell_type": "code",
      "metadata": {
        "id": "8RwYMGbim-rg"
      },
      "source": [
        "list1 = []\n",
        "for i in range(len(c)):\n",
        "  list1.append('CHURN')"
      ],
      "execution_count": 123,
      "outputs": []
    },
    {
      "cell_type": "code",
      "metadata": {
        "id": "XTH0OKVGnNeY"
      },
      "source": [
        "list2 = []\n",
        "for i in range(len(d)):\n",
        "  list2.append('NOT CHURN')"
      ],
      "execution_count": 124,
      "outputs": []
    },
    {
      "cell_type": "code",
      "metadata": {
        "id": "zcvmjs_snTrO"
      },
      "source": [
        "list3 = []\n",
        "for i in range(len(e)):\n",
        "  list3.append('NOT CHURN')"
      ],
      "execution_count": 125,
      "outputs": []
    },
    {
      "cell_type": "code",
      "metadata": {
        "id": "PSwhMCwGnbRR"
      },
      "source": [
        "dict1 = dict(zip(c, list1))\n",
        "dict2 = dict(zip(d, list2))\n",
        "churn_dict = dict(zip(e, list3))\n",
        "\n",
        "dict2.update(dict1)\n",
        "churn_dict.update(dict2)"
      ],
      "execution_count": 126,
      "outputs": []
    },
    {
      "cell_type": "code",
      "metadata": {
        "id": "4Jjrnl9coB9j",
        "outputId": "97ef372d-bc1f-4755-bb49-97a5a7a25dc2",
        "colab": {
          "base_uri": "https://localhost:8080/"
        }
      },
      "source": [
        "from collections import OrderedDict\n",
        "\n",
        "churn_dictionary = OrderedDict(sorted(churn_dict.items()))\n",
        "\n",
        "churn_dictionary"
      ],
      "execution_count": 127,
      "outputs": [
        {
          "output_type": "execute_result",
          "data": {
            "text/plain": [
              "OrderedDict([(12347.0, 'CHURN'),\n",
              "             (12348.0, 'CHURN'),\n",
              "             (12350.0, 'CHURN'),\n",
              "             (12352.0, 'CHURN'),\n",
              "             (12356.0, 'CHURN'),\n",
              "             (12359.0, 'CHURN'),\n",
              "             (12361.0, 'CHURN'),\n",
              "             (12362.0, 'CHURN'),\n",
              "             (12365.0, 'CHURN'),\n",
              "             (12370.0, 'CHURN'),\n",
              "             (12372.0, 'CHURN'),\n",
              "             (12373.0, 'CHURN'),\n",
              "             (12377.0, 'CHURN'),\n",
              "             (12383.0, 'CHURN'),\n",
              "             (12386.0, 'CHURN'),\n",
              "             (12388.0, 'CHURN'),\n",
              "             (12393.0, 'CHURN'),\n",
              "             (12395.0, 'CHURN'),\n",
              "             (12399.0, 'CHURN'),\n",
              "             (12401.0, 'CHURN'),\n",
              "             (12402.0, 'CHURN'),\n",
              "             (12407.0, 'CHURN'),\n",
              "             (12408.0, 'CHURN'),\n",
              "             (12410.0, 'CHURN'),\n",
              "             (12413.0, 'CHURN'),\n",
              "             (12414.0, 'CHURN'),\n",
              "             (12415.0, 'CHURN'),\n",
              "             (12417.0, 'CHURN'),\n",
              "             (12421.0, 'CHURN'),\n",
              "             (12422.0, 'CHURN'),\n",
              "             (12423.0, 'CHURN'),\n",
              "             (12427.0, 'CHURN'),\n",
              "             (12428.0, 'CHURN'),\n",
              "             (12429.0, 'CHURN'),\n",
              "             (12431.0, 'CHURN'),\n",
              "             (12433.0, 'CHURN'),\n",
              "             (12434.0, 'CHURN'),\n",
              "             (12435.0, 'CHURN'),\n",
              "             (12437.0, 'CHURN'),\n",
              "             (12441.0, 'CHURN'),\n",
              "             (12447.0, 'CHURN'),\n",
              "             (12451.0, 'CHURN'),\n",
              "             (12455.0, 'CHURN'),\n",
              "             (12456.0, 'CHURN'),\n",
              "             (12458.0, 'CHURN'),\n",
              "             (12462.0, 'CHURN'),\n",
              "             (12464.0, 'CHURN'),\n",
              "             (12468.0, 'CHURN'),\n",
              "             (12471.0, 'CHURN'),\n",
              "             (12472.0, 'CHURN'),\n",
              "             (12474.0, 'CHURN'),\n",
              "             (12476.0, 'CHURN'),\n",
              "             (12477.0, 'CHURN'),\n",
              "             (12480.0, 'CHURN'),\n",
              "             (12481.0, 'CHURN'),\n",
              "             (12483.0, 'CHURN'),\n",
              "             (12484.0, 'CHURN'),\n",
              "             (12489.0, 'CHURN'),\n",
              "             (12490.0, 'CHURN'),\n",
              "             (12494.0, 'CHURN'),\n",
              "             (12500.0, 'CHURN'),\n",
              "             (12501.0, 'CHURN'),\n",
              "             (12502.0, 'CHURN'),\n",
              "             (12507.0, 'CHURN'),\n",
              "             (12509.0, 'CHURN'),\n",
              "             (12510.0, 'CHURN'),\n",
              "             (12514.0, 'CHURN'),\n",
              "             (12515.0, 'CHURN'),\n",
              "             (12520.0, 'CHURN'),\n",
              "             (12523.0, 'CHURN'),\n",
              "             (12524.0, 'CHURN'),\n",
              "             (12527.0, 'CHURN'),\n",
              "             (12528.0, 'CHURN'),\n",
              "             (12530.0, 'CHURN'),\n",
              "             (12539.0, 'CHURN'),\n",
              "             (12540.0, 'CHURN'),\n",
              "             (12541.0, 'CHURN'),\n",
              "             (12545.0, 'CHURN'),\n",
              "             (12547.0, 'CHURN'),\n",
              "             (12551.0, 'CHURN'),\n",
              "             (12553.0, 'CHURN'),\n",
              "             (12559.0, 'CHURN'),\n",
              "             (12561.0, 'CHURN'),\n",
              "             (12564.0, 'CHURN'),\n",
              "             (12565.0, 'CHURN'),\n",
              "             (12567.0, 'CHURN'),\n",
              "             (12569.0, 'CHURN'),\n",
              "             (12574.0, 'CHURN'),\n",
              "             (12576.0, 'CHURN'),\n",
              "             (12577.0, 'CHURN'),\n",
              "             (12578.0, 'CHURN'),\n",
              "             (12580.0, 'CHURN'),\n",
              "             (12582.0, 'CHURN'),\n",
              "             (12583.0, 'CHURN'),\n",
              "             (12584.0, 'CHURN'),\n",
              "             (12585.0, 'CHURN'),\n",
              "             (12591.0, 'CHURN'),\n",
              "             (12594.0, 'CHURN'),\n",
              "             (12597.0, 'CHURN'),\n",
              "             (12598.0, 'CHURN'),\n",
              "             (12599.0, 'CHURN'),\n",
              "             (12600.0, 'CHURN'),\n",
              "             (12601.0, 'CHURN'),\n",
              "             (12604.0, 'CHURN'),\n",
              "             (12609.0, 'CHURN'),\n",
              "             (12613.0, 'CHURN'),\n",
              "             (12614.0, 'CHURN'),\n",
              "             (12616.0, 'CHURN'),\n",
              "             (12619.0, 'CHURN'),\n",
              "             (12621.0, 'CHURN'),\n",
              "             (12623.0, 'CHURN'),\n",
              "             (12625.0, 'CHURN'),\n",
              "             (12626.0, 'CHURN'),\n",
              "             (12633.0, 'CHURN'),\n",
              "             (12637.0, 'CHURN'),\n",
              "             (12645.0, 'CHURN'),\n",
              "             (12647.0, 'CHURN'),\n",
              "             (12651.0, 'CHURN'),\n",
              "             (12652.0, 'CHURN'),\n",
              "             (12653.0, 'CHURN'),\n",
              "             (12654.0, 'CHURN'),\n",
              "             (12662.0, 'CHURN'),\n",
              "             (12664.0, 'CHURN'),\n",
              "             (12665.0, 'CHURN'),\n",
              "             (12668.0, 'CHURN'),\n",
              "             (12669.0, 'CHURN'),\n",
              "             (12672.0, 'CHURN'),\n",
              "             (12673.0, 'CHURN'),\n",
              "             (12676.0, 'CHURN'),\n",
              "             (12678.0, 'CHURN'),\n",
              "             (12679.0, 'CHURN'),\n",
              "             (12681.0, 'CHURN'),\n",
              "             (12682.0, 'CHURN'),\n",
              "             (12683.0, 'CHURN'),\n",
              "             (12686.0, 'CHURN'),\n",
              "             (12691.0, 'CHURN'),\n",
              "             (12693.0, 'CHURN'),\n",
              "             (12705.0, 'CHURN'),\n",
              "             (12707.0, 'CHURN'),\n",
              "             (12708.0, 'CHURN'),\n",
              "             (12709.0, 'CHURN'),\n",
              "             (12712.0, 'CHURN'),\n",
              "             (12714.0, 'CHURN'),\n",
              "             (12717.0, 'CHURN'),\n",
              "             (12720.0, 'CHURN'),\n",
              "             (12721.0, 'CHURN'),\n",
              "             (12724.0, 'CHURN'),\n",
              "             (12725.0, 'CHURN'),\n",
              "             (12726.0, 'CHURN'),\n",
              "             (12727.0, 'CHURN'),\n",
              "             (12728.0, 'CHURN'),\n",
              "             (12731.0, 'CHURN'),\n",
              "             (12734.0, 'CHURN'),\n",
              "             (12735.0, 'CHURN'),\n",
              "             (12736.0, 'CHURN'),\n",
              "             (12738.0, 'CHURN'),\n",
              "             (12744.0, 'CHURN'),\n",
              "             (12747.0, 'CHURN'),\n",
              "             (12748.0, 'CHURN'),\n",
              "             (12753.0, 'CHURN'),\n",
              "             (12754.0, 'CHURN'),\n",
              "             (12755.0, 'CHURN'),\n",
              "             (12758.0, 'CHURN'),\n",
              "             (12759.0, 'CHURN'),\n",
              "             (12763.0, 'CHURN'),\n",
              "             (12764.0, 'CHURN'),\n",
              "             (12766.0, 'CHURN'),\n",
              "             (12775.0, 'CHURN'),\n",
              "             (12778.0, 'CHURN'),\n",
              "             (12779.0, 'CHURN'),\n",
              "             (12781.0, 'CHURN'),\n",
              "             (12782.0, 'CHURN'),\n",
              "             (12785.0, 'CHURN'),\n",
              "             (12792.0, 'CHURN'),\n",
              "             (12793.0, 'CHURN'),\n",
              "             (12797.0, 'CHURN'),\n",
              "             (12808.0, 'CHURN'),\n",
              "             (12811.0, 'CHURN'),\n",
              "             (12817.0, 'CHURN'),\n",
              "             (12818.0, 'CHURN'),\n",
              "             (12820.0, 'CHURN'),\n",
              "             (12826.0, 'CHURN'),\n",
              "             (12829.0, 'CHURN'),\n",
              "             (12831.0, 'CHURN'),\n",
              "             (12834.0, 'CHURN'),\n",
              "             (12836.0, 'CHURN'),\n",
              "             (12838.0, 'CHURN'),\n",
              "             (12839.0, 'CHURN'),\n",
              "             (12841.0, 'CHURN'),\n",
              "             (12842.0, 'CHURN'),\n",
              "             (12843.0, 'CHURN'),\n",
              "             (12845.0, 'CHURN'),\n",
              "             (12849.0, 'CHURN'),\n",
              "             (12852.0, 'CHURN'),\n",
              "             (12853.0, 'CHURN'),\n",
              "             (12854.0, 'CHURN'),\n",
              "             (12855.0, 'CHURN'),\n",
              "             (12857.0, 'CHURN'),\n",
              "             (12866.0, 'CHURN'),\n",
              "             (12867.0, 'CHURN'),\n",
              "             (12868.0, 'CHURN'),\n",
              "             (12872.0, 'CHURN'),\n",
              "             (12877.0, 'CHURN'),\n",
              "             (12878.0, 'CHURN'),\n",
              "             (12881.0, 'CHURN'),\n",
              "             (12888.0, 'CHURN'),\n",
              "             (12897.0, 'CHURN'),\n",
              "             (12901.0, 'CHURN'),\n",
              "             (12902.0, 'CHURN'),\n",
              "             (12909.0, 'CHURN'),\n",
              "             (12913.0, 'CHURN'),\n",
              "             (12915.0, 'CHURN'),\n",
              "             (12916.0, 'CHURN'),\n",
              "             (12921.0, 'CHURN'),\n",
              "             (12924.0, 'CHURN'),\n",
              "             (12928.0, 'CHURN'),\n",
              "             (12929.0, 'CHURN'),\n",
              "             (12931.0, 'CHURN'),\n",
              "             (12933.0, 'CHURN'),\n",
              "             (12935.0, 'CHURN'),\n",
              "             (12937.0, 'CHURN'),\n",
              "             (12939.0, 'CHURN'),\n",
              "             (12942.0, 'CHURN'),\n",
              "             (12944.0, 'CHURN'),\n",
              "             (12945.0, 'CHURN'),\n",
              "             (12947.0, 'CHURN'),\n",
              "             (12948.0, 'CHURN'),\n",
              "             (12949.0, 'CHURN'),\n",
              "             (12951.0, 'CHURN'),\n",
              "             (12955.0, 'CHURN'),\n",
              "             (12956.0, 'CHURN'),\n",
              "             (12957.0, 'CHURN'),\n",
              "             (12963.0, 'CHURN'),\n",
              "             (12967.0, 'CHURN'),\n",
              "             (12970.0, 'CHURN'),\n",
              "             (12971.0, 'CHURN'),\n",
              "             (12988.0, 'CHURN'),\n",
              "             (12989.0, 'CHURN'),\n",
              "             (12990.0, 'CHURN'),\n",
              "             (12993.0, 'CHURN'),\n",
              "             (12994.0, 'CHURN'),\n",
              "             (12997.0, 'CHURN'),\n",
              "             (12999.0, 'CHURN'),\n",
              "             (13000.0, 'CHURN'),\n",
              "             (13001.0, 'CHURN'),\n",
              "             (13002.0, 'CHURN'),\n",
              "             (13004.0, 'CHURN'),\n",
              "             (13005.0, 'CHURN'),\n",
              "             (13008.0, 'CHURN'),\n",
              "             (13011.0, 'CHURN'),\n",
              "             (13012.0, 'CHURN'),\n",
              "             (13013.0, 'CHURN'),\n",
              "             (13014.0, 'CHURN'),\n",
              "             (13015.0, 'CHURN'),\n",
              "             (13018.0, 'CHURN'),\n",
              "             (13021.0, 'CHURN'),\n",
              "             (13026.0, 'CHURN'),\n",
              "             (13030.0, 'CHURN'),\n",
              "             (13033.0, 'CHURN'),\n",
              "             (13034.0, 'CHURN'),\n",
              "             (13035.0, 'CHURN'),\n",
              "             (13037.0, 'CHURN'),\n",
              "             (13038.0, 'CHURN'),\n",
              "             (13043.0, 'CHURN'),\n",
              "             (13044.0, 'CHURN'),\n",
              "             (13046.0, 'CHURN'),\n",
              "             (13047.0, 'CHURN'),\n",
              "             (13048.0, 'CHURN'),\n",
              "             (13049.0, 'CHURN'),\n",
              "             (13050.0, 'CHURN'),\n",
              "             (13059.0, 'CHURN'),\n",
              "             (13060.0, 'CHURN'),\n",
              "             (13064.0, 'CHURN'),\n",
              "             (13065.0, 'CHURN'),\n",
              "             (13069.0, 'CHURN'),\n",
              "             (13072.0, 'CHURN'),\n",
              "             (13077.0, 'CHURN'),\n",
              "             (13078.0, 'CHURN'),\n",
              "             (13081.0, 'CHURN'),\n",
              "             (13082.0, 'CHURN'),\n",
              "             (13085.0, 'CHURN'),\n",
              "             (13089.0, 'CHURN'),\n",
              "             (13090.0, 'CHURN'),\n",
              "             (13092.0, 'CHURN'),\n",
              "             (13093.0, 'CHURN'),\n",
              "             (13097.0, 'CHURN'),\n",
              "             (13098.0, 'CHURN'),\n",
              "             (13102.0, 'CHURN'),\n",
              "             (13104.0, 'CHURN'),\n",
              "             (13107.0, 'CHURN'),\n",
              "             (13108.0, 'CHURN'),\n",
              "             (13110.0, 'CHURN'),\n",
              "             (13113.0, 'CHURN'),\n",
              "             (13117.0, 'CHURN'),\n",
              "             (13118.0, 'CHURN'),\n",
              "             (13121.0, 'CHURN'),\n",
              "             (13124.0, 'CHURN'),\n",
              "             (13126.0, 'CHURN'),\n",
              "             (13132.0, 'CHURN'),\n",
              "             (13133.0, 'CHURN'),\n",
              "             (13137.0, 'CHURN'),\n",
              "             (13138.0, 'CHURN'),\n",
              "             (13139.0, 'CHURN'),\n",
              "             (13140.0, 'CHURN'),\n",
              "             (13141.0, 'CHURN'),\n",
              "             (13144.0, 'CHURN'),\n",
              "             (13148.0, 'CHURN'),\n",
              "             (13149.0, 'CHURN'),\n",
              "             (13151.0, 'CHURN'),\n",
              "             (13155.0, 'CHURN'),\n",
              "             (13157.0, 'CHURN'),\n",
              "             (13158.0, 'CHURN'),\n",
              "             (13161.0, 'CHURN'),\n",
              "             (13162.0, 'CHURN'),\n",
              "             (13165.0, 'CHURN'),\n",
              "             (13166.0, 'CHURN'),\n",
              "             (13168.0, 'CHURN'),\n",
              "             (13169.0, 'CHURN'),\n",
              "             (13171.0, 'CHURN'),\n",
              "             (13173.0, 'CHURN'),\n",
              "             (13174.0, 'CHURN'),\n",
              "             (13178.0, 'CHURN'),\n",
              "             (13183.0, 'CHURN'),\n",
              "             (13184.0, 'CHURN'),\n",
              "             (13185.0, 'CHURN'),\n",
              "             (13187.0, 'CHURN'),\n",
              "             (13196.0, 'CHURN'),\n",
              "             (13198.0, 'CHURN'),\n",
              "             (13199.0, 'CHURN'),\n",
              "             (13208.0, 'CHURN'),\n",
              "             (13209.0, 'CHURN'),\n",
              "             (13211.0, 'CHURN'),\n",
              "             (13216.0, 'CHURN'),\n",
              "             (13221.0, 'CHURN'),\n",
              "             (13226.0, 'CHURN'),\n",
              "             (13230.0, 'CHURN'),\n",
              "             (13232.0, 'CHURN'),\n",
              "             (13233.0, 'CHURN'),\n",
              "             (13238.0, 'CHURN'),\n",
              "             (13239.0, 'CHURN'),\n",
              "             (13240.0, 'CHURN'),\n",
              "             (13246.0, 'CHURN'),\n",
              "             (13253.0, 'CHURN'),\n",
              "             (13255.0, 'CHURN'),\n",
              "             (13261.0, 'CHURN'),\n",
              "             (13262.0, 'CHURN'),\n",
              "             (13263.0, 'CHURN'),\n",
              "             (13265.0, 'CHURN'),\n",
              "             (13266.0, 'CHURN'),\n",
              "             (13267.0, 'CHURN'),\n",
              "             (13268.0, 'CHURN'),\n",
              "             (13269.0, 'CHURN'),\n",
              "             (13280.0, 'CHURN'),\n",
              "             (13284.0, 'CHURN'),\n",
              "             (13285.0, 'CHURN'),\n",
              "             (13292.0, 'CHURN'),\n",
              "             (13294.0, 'CHURN'),\n",
              "             (13295.0, 'CHURN'),\n",
              "             (13299.0, 'CHURN'),\n",
              "             (13301.0, 'CHURN'),\n",
              "             (13304.0, 'CHURN'),\n",
              "             (13305.0, 'CHURN'),\n",
              "             (13309.0, 'CHURN'),\n",
              "             (13310.0, 'CHURN'),\n",
              "             (13313.0, 'CHURN'),\n",
              "             (13316.0, 'CHURN'),\n",
              "             (13317.0, 'CHURN'),\n",
              "             (13319.0, 'CHURN'),\n",
              "             (13324.0, 'CHURN'),\n",
              "             (13327.0, 'CHURN'),\n",
              "             (13328.0, 'CHURN'),\n",
              "             (13329.0, 'CHURN'),\n",
              "             (13330.0, 'CHURN'),\n",
              "             (13334.0, 'CHURN'),\n",
              "             (13340.0, 'CHURN'),\n",
              "             (13341.0, 'CHURN'),\n",
              "             (13344.0, 'CHURN'),\n",
              "             (13345.0, 'CHURN'),\n",
              "             (13357.0, 'CHURN'),\n",
              "             (13358.0, 'CHURN'),\n",
              "             (13362.0, 'CHURN'),\n",
              "             (13368.0, 'CHURN'),\n",
              "             (13369.0, 'CHURN'),\n",
              "             (13370.0, 'CHURN'),\n",
              "             (13373.0, 'CHURN'),\n",
              "             (13381.0, 'CHURN'),\n",
              "             (13382.0, 'CHURN'),\n",
              "             (13385.0, 'CHURN'),\n",
              "             (13394.0, 'CHURN'),\n",
              "             (13396.0, 'CHURN'),\n",
              "             (13397.0, 'CHURN'),\n",
              "             (13402.0, 'CHURN'),\n",
              "             (13405.0, 'CHURN'),\n",
              "             (13408.0, 'CHURN'),\n",
              "             (13410.0, 'CHURN'),\n",
              "             (13418.0, 'CHURN'),\n",
              "             (13421.0, 'CHURN'),\n",
              "             (13425.0, 'CHURN'),\n",
              "             (13426.0, 'CHURN'),\n",
              "             (13439.0, 'CHURN'),\n",
              "             (13448.0, 'CHURN'),\n",
              "             (13451.0, 'CHURN'),\n",
              "             (13453.0, 'CHURN'),\n",
              "             (13455.0, 'CHURN'),\n",
              "             (13458.0, 'CHURN'),\n",
              "             (13462.0, 'CHURN'),\n",
              "             (13468.0, 'CHURN'),\n",
              "             (13473.0, 'CHURN'),\n",
              "             (13475.0, 'CHURN'),\n",
              "             (13476.0, 'CHURN'),\n",
              "             (13477.0, 'CHURN'),\n",
              "             (13481.0, 'CHURN'),\n",
              "             (13487.0, 'CHURN'),\n",
              "             (13488.0, 'CHURN'),\n",
              "             (13489.0, 'CHURN'),\n",
              "             (13491.0, 'CHURN'),\n",
              "             (13493.0, 'CHURN'),\n",
              "             (13494.0, 'CHURN'),\n",
              "             (13495.0, 'CHURN'),\n",
              "             (13496.0, 'CHURN'),\n",
              "             (13497.0, 'CHURN'),\n",
              "             (13499.0, 'CHURN'),\n",
              "             (13501.0, 'CHURN'),\n",
              "             (13502.0, 'CHURN'),\n",
              "             (13506.0, 'CHURN'),\n",
              "             (13508.0, 'CHURN'),\n",
              "             (13509.0, 'CHURN'),\n",
              "             (13512.0, 'CHURN'),\n",
              "             (13515.0, 'CHURN'),\n",
              "             (13520.0, 'CHURN'),\n",
              "             (13523.0, 'CHURN'),\n",
              "             (13527.0, 'CHURN'),\n",
              "             (13531.0, 'CHURN'),\n",
              "             (13533.0, 'CHURN'),\n",
              "             (13534.0, 'CHURN'),\n",
              "             (13538.0, 'CHURN'),\n",
              "             (13539.0, 'CHURN'),\n",
              "             (13548.0, 'CHURN'),\n",
              "             (13551.0, 'CHURN'),\n",
              "             (13552.0, 'CHURN'),\n",
              "             (13557.0, 'CHURN'),\n",
              "             (13562.0, 'CHURN'),\n",
              "             (13564.0, 'CHURN'),\n",
              "             (13565.0, 'CHURN'),\n",
              "             (13569.0, 'CHURN'),\n",
              "             (13570.0, 'CHURN'),\n",
              "             (13571.0, 'CHURN'),\n",
              "             (13573.0, 'CHURN'),\n",
              "             (13576.0, 'CHURN'),\n",
              "             (13579.0, 'CHURN'),\n",
              "             (13581.0, 'CHURN'),\n",
              "             (13584.0, 'CHURN'),\n",
              "             (13588.0, 'CHURN'),\n",
              "             (13590.0, 'CHURN'),\n",
              "             (13591.0, 'CHURN'),\n",
              "             (13592.0, 'CHURN'),\n",
              "             (13593.0, 'CHURN'),\n",
              "             (13599.0, 'CHURN'),\n",
              "             (13600.0, 'CHURN'),\n",
              "             (13606.0, 'CHURN'),\n",
              "             (13610.0, 'CHURN'),\n",
              "             (13611.0, 'CHURN'),\n",
              "             (13614.0, 'CHURN'),\n",
              "             (13615.0, 'CHURN'),\n",
              "             (13623.0, 'CHURN'),\n",
              "             (13626.0, 'CHURN'),\n",
              "             (13627.0, 'CHURN'),\n",
              "             (13630.0, 'CHURN'),\n",
              "             (13631.0, 'CHURN'),\n",
              "             (13632.0, 'CHURN'),\n",
              "             (13634.0, 'CHURN'),\n",
              "             (13636.0, 'CHURN'),\n",
              "             (13649.0, 'CHURN'),\n",
              "             (13650.0, 'CHURN'),\n",
              "             (13652.0, 'CHURN'),\n",
              "             (13654.0, 'CHURN'),\n",
              "             (13656.0, 'CHURN'),\n",
              "             (13659.0, 'CHURN'),\n",
              "             (13662.0, 'CHURN'),\n",
              "             (13666.0, 'CHURN'),\n",
              "             (13668.0, 'CHURN'),\n",
              "             (13672.0, 'CHURN'),\n",
              "             (13675.0, 'CHURN'),\n",
              "             (13680.0, 'CHURN'),\n",
              "             (13684.0, 'CHURN'),\n",
              "             (13694.0, 'CHURN'),\n",
              "             (13695.0, 'CHURN'),\n",
              "             (13700.0, 'CHURN'),\n",
              "             (13705.0, 'CHURN'),\n",
              "             (13706.0, 'CHURN'),\n",
              "             (13707.0, 'CHURN'),\n",
              "             (13708.0, 'CHURN'),\n",
              "             (13709.0, 'CHURN'),\n",
              "             (13712.0, 'CHURN'),\n",
              "             (13715.0, 'CHURN'),\n",
              "             (13716.0, 'CHURN'),\n",
              "             (13717.0, 'CHURN'),\n",
              "             (13718.0, 'CHURN'),\n",
              "             (13720.0, 'CHURN'),\n",
              "             (13722.0, 'CHURN'),\n",
              "             (13725.0, 'CHURN'),\n",
              "             (13728.0, 'CHURN'),\n",
              "             (13731.0, 'CHURN'),\n",
              "             (13736.0, 'CHURN'),\n",
              "             (13742.0, 'CHURN'),\n",
              "             (13743.0, 'CHURN'),\n",
              "             (13744.0, 'CHURN'),\n",
              "             (13748.0, 'CHURN'),\n",
              "             (13750.0, 'CHURN'),\n",
              "             (13751.0, 'CHURN'),\n",
              "             (13752.0, 'CHURN'),\n",
              "             (13753.0, 'CHURN'),\n",
              "             (13754.0, 'CHURN'),\n",
              "             (13756.0, 'CHURN'),\n",
              "             (13758.0, 'CHURN'),\n",
              "             (13760.0, 'CHURN'),\n",
              "             (13764.0, 'CHURN'),\n",
              "             (13767.0, 'CHURN'),\n",
              "             (13769.0, 'CHURN'),\n",
              "             (13771.0, 'CHURN'),\n",
              "             (13777.0, 'CHURN'),\n",
              "             (13781.0, 'CHURN'),\n",
              "             (13782.0, 'CHURN'),\n",
              "             (13784.0, 'CHURN'),\n",
              "             (13786.0, 'CHURN'),\n",
              "             (13787.0, 'CHURN'),\n",
              "             (13792.0, 'CHURN'),\n",
              "             (13798.0, 'CHURN'),\n",
              "             (13799.0, 'CHURN'),\n",
              "             (13800.0, 'CHURN'),\n",
              "             (13802.0, 'CHURN'),\n",
              "             (13803.0, 'CHURN'),\n",
              "             (13804.0, 'CHURN'),\n",
              "             (13807.0, 'CHURN'),\n",
              "             (13809.0, 'CHURN'),\n",
              "             (13815.0, 'CHURN'),\n",
              "             (13817.0, 'CHURN'),\n",
              "             (13819.0, 'CHURN'),\n",
              "             (13821.0, 'CHURN'),\n",
              "             (13824.0, 'CHURN'),\n",
              "             (13837.0, 'CHURN'),\n",
              "             (13838.0, 'CHURN'),\n",
              "             (13842.0, 'CHURN'),\n",
              "             (13846.0, 'CHURN'),\n",
              "             (13851.0, 'CHURN'),\n",
              "             (13854.0, 'CHURN'),\n",
              "             (13859.0, 'CHURN'),\n",
              "             (13862.0, 'CHURN'),\n",
              "             (13863.0, 'CHURN'),\n",
              "             (13865.0, 'CHURN'),\n",
              "             (13869.0, 'CHURN'),\n",
              "             (13870.0, 'CHURN'),\n",
              "             (13871.0, 'CHURN'),\n",
              "             (13873.0, 'CHURN'),\n",
              "             (13874.0, 'CHURN'),\n",
              "             (13875.0, 'CHURN'),\n",
              "             (13880.0, 'CHURN'),\n",
              "             (13881.0, 'CHURN'),\n",
              "             (13883.0, 'CHURN'),\n",
              "             (13884.0, 'CHURN'),\n",
              "             (13890.0, 'CHURN'),\n",
              "             (13892.0, 'CHURN'),\n",
              "             (13893.0, 'CHURN'),\n",
              "             (13894.0, 'CHURN'),\n",
              "             (13898.0, 'CHURN'),\n",
              "             (13899.0, 'CHURN'),\n",
              "             (13900.0, 'CHURN'),\n",
              "             (13901.0, 'CHURN'),\n",
              "             (13904.0, 'CHURN'),\n",
              "             (13908.0, 'CHURN'),\n",
              "             (13911.0, 'CHURN'),\n",
              "             (13918.0, 'CHURN'),\n",
              "             (13922.0, 'CHURN'),\n",
              "             (13929.0, 'CHURN'),\n",
              "             (13931.0, 'CHURN'),\n",
              "             (13932.0, 'CHURN'),\n",
              "             (13934.0, 'CHURN'),\n",
              "             (13939.0, 'CHURN'),\n",
              "             (13941.0, 'CHURN'),\n",
              "             (13946.0, 'CHURN'),\n",
              "             (13948.0, 'CHURN'),\n",
              "             (13950.0, 'CHURN'),\n",
              "             (13951.0, 'CHURN'),\n",
              "             (13955.0, 'CHURN'),\n",
              "             (13956.0, 'CHURN'),\n",
              "             (13959.0, 'CHURN'),\n",
              "             (13962.0, 'CHURN'),\n",
              "             (13963.0, 'CHURN'),\n",
              "             (13969.0, 'CHURN'),\n",
              "             (13971.0, 'CHURN'),\n",
              "             (13973.0, 'CHURN'),\n",
              "             (13975.0, 'CHURN'),\n",
              "             (13982.0, 'CHURN'),\n",
              "             (13983.0, 'CHURN'),\n",
              "             (13984.0, 'CHURN'),\n",
              "             (13985.0, 'CHURN'),\n",
              "             (13988.0, 'CHURN'),\n",
              "             (13993.0, 'CHURN'),\n",
              "             (13995.0, 'CHURN'),\n",
              "             (13999.0, 'CHURN'),\n",
              "             (14001.0, 'CHURN'),\n",
              "             (14004.0, 'CHURN'),\n",
              "             (14006.0, 'CHURN'),\n",
              "             (14012.0, 'CHURN'),\n",
              "             (14013.0, 'CHURN'),\n",
              "             (14016.0, 'CHURN'),\n",
              "             (14021.0, 'CHURN'),\n",
              "             (14023.0, 'CHURN'),\n",
              "             (14030.0, 'CHURN'),\n",
              "             (14031.0, 'CHURN'),\n",
              "             (14032.0, 'CHURN'),\n",
              "             (14035.0, 'CHURN'),\n",
              "             (14036.0, 'CHURN'),\n",
              "             (14037.0, 'CHURN'),\n",
              "             (14040.0, 'CHURN'),\n",
              "             (14041.0, 'CHURN'),\n",
              "             (14044.0, 'CHURN'),\n",
              "             (14046.0, 'CHURN'),\n",
              "             (14047.0, 'CHURN'),\n",
              "             (14048.0, 'CHURN'),\n",
              "             (14049.0, 'CHURN'),\n",
              "             (14051.0, 'CHURN'),\n",
              "             (14056.0, 'CHURN'),\n",
              "             (14057.0, 'CHURN'),\n",
              "             (14059.0, 'CHURN'),\n",
              "             (14060.0, 'CHURN'),\n",
              "             (14062.0, 'CHURN'),\n",
              "             (14064.0, 'CHURN'),\n",
              "             (14066.0, 'CHURN'),\n",
              "             (14068.0, 'CHURN'),\n",
              "             (14071.0, 'CHURN'),\n",
              "             (14075.0, 'CHURN'),\n",
              "             (14077.0, 'CHURN'),\n",
              "             (14078.0, 'CHURN'),\n",
              "             (14081.0, 'CHURN'),\n",
              "             (14082.0, 'CHURN'),\n",
              "             (14083.0, 'CHURN'),\n",
              "             (14085.0, 'CHURN'),\n",
              "             (14088.0, 'CHURN'),\n",
              "             (14092.0, 'CHURN'),\n",
              "             (14099.0, 'CHURN'),\n",
              "             (14101.0, 'CHURN'),\n",
              "             (14107.0, 'CHURN'),\n",
              "             (14110.0, 'CHURN'),\n",
              "             (14112.0, 'CHURN'),\n",
              "             (14113.0, 'CHURN'),\n",
              "             (14114.0, 'CHURN'),\n",
              "             (14127.0, 'CHURN'),\n",
              "             (14128.0, 'CHURN'),\n",
              "             (14129.0, 'CHURN'),\n",
              "             (14130.0, 'CHURN'),\n",
              "             (14133.0, 'CHURN'),\n",
              "             (14135.0, 'CHURN'),\n",
              "             (14142.0, 'CHURN'),\n",
              "             (14146.0, 'CHURN'),\n",
              "             (14147.0, 'CHURN'),\n",
              "             (14150.0, 'CHURN'),\n",
              "             (14155.0, 'CHURN'),\n",
              "             (14156.0, 'CHURN'),\n",
              "             (14157.0, 'CHURN'),\n",
              "             (14159.0, 'CHURN'),\n",
              "             (14161.0, 'CHURN'),\n",
              "             (14162.0, 'CHURN'),\n",
              "             (14165.0, 'CHURN'),\n",
              "             (14167.0, 'CHURN'),\n",
              "             (14175.0, 'CHURN'),\n",
              "             (14176.0, 'CHURN'),\n",
              "             (14180.0, 'CHURN'),\n",
              "             (14185.0, 'CHURN'),\n",
              "             (14188.0, 'CHURN'),\n",
              "             (14189.0, 'CHURN'),\n",
              "             (14193.0, 'CHURN'),\n",
              "             (14194.0, 'CHURN'),\n",
              "             (14201.0, 'CHURN'),\n",
              "             (14205.0, 'CHURN'),\n",
              "             (14209.0, 'CHURN'),\n",
              "             (14210.0, 'CHURN'),\n",
              "             (14211.0, 'CHURN'),\n",
              "             (14214.0, 'CHURN'),\n",
              "             (14215.0, 'CHURN'),\n",
              "             (14217.0, 'CHURN'),\n",
              "             (14220.0, 'CHURN'),\n",
              "             (14221.0, 'CHURN'),\n",
              "             (14223.0, 'CHURN'),\n",
              "             (14224.0, 'CHURN'),\n",
              "             (14226.0, 'CHURN'),\n",
              "             (14227.0, 'CHURN'),\n",
              "             (14229.0, 'CHURN'),\n",
              "             (14231.0, 'CHURN'),\n",
              "             (14232.0, 'CHURN'),\n",
              "             (14233.0, 'CHURN'),\n",
              "             (14235.0, 'CHURN'),\n",
              "             (14236.0, 'CHURN'),\n",
              "             (14237.0, 'CHURN'),\n",
              "             (14238.0, 'CHURN'),\n",
              "             (14239.0, 'CHURN'),\n",
              "             (14242.0, 'CHURN'),\n",
              "             (14243.0, 'CHURN'),\n",
              "             (14245.0, 'CHURN'),\n",
              "             (14246.0, 'CHURN'),\n",
              "             (14247.0, 'CHURN'),\n",
              "             (14248.0, 'CHURN'),\n",
              "             (14256.0, 'CHURN'),\n",
              "             (14257.0, 'CHURN'),\n",
              "             (14258.0, 'CHURN'),\n",
              "             (14264.0, 'CHURN'),\n",
              "             (14267.0, 'CHURN'),\n",
              "             (14270.0, 'CHURN'),\n",
              "             (14272.0, 'CHURN'),\n",
              "             (14276.0, 'CHURN'),\n",
              "             (14282.0, 'CHURN'),\n",
              "             (14286.0, 'CHURN'),\n",
              "             (14289.0, 'CHURN'),\n",
              "             (14290.0, 'CHURN'),\n",
              "             (14291.0, 'CHURN'),\n",
              "             (14292.0, 'CHURN'),\n",
              "             (14293.0, 'CHURN'),\n",
              "             (14297.0, 'CHURN'),\n",
              "             (14298.0, 'CHURN'),\n",
              "             (14299.0, 'CHURN'),\n",
              "             (14307.0, 'CHURN'),\n",
              "             (14309.0, 'CHURN'),\n",
              "             (14312.0, 'CHURN'),\n",
              "             (14315.0, 'CHURN'),\n",
              "             (14320.0, 'CHURN'),\n",
              "             (14321.0, 'CHURN'),\n",
              "             (14329.0, 'CHURN'),\n",
              "             (14334.0, 'CHURN'),\n",
              "             (14336.0, 'CHURN'),\n",
              "             (14341.0, 'CHURN'),\n",
              "             (14344.0, 'CHURN'),\n",
              "             (14346.0, 'CHURN'),\n",
              "             (14348.0, 'CHURN'),\n",
              "             (14350.0, 'CHURN'),\n",
              "             (14352.0, 'CHURN'),\n",
              "             (14355.0, 'CHURN'),\n",
              "             (14367.0, 'CHURN'),\n",
              "             (14368.0, 'CHURN'),\n",
              "             (14371.0, 'CHURN'),\n",
              "             (14373.0, 'CHURN'),\n",
              "             (14377.0, 'CHURN'),\n",
              "             (14379.0, 'CHURN'),\n",
              "             (14386.0, 'CHURN'),\n",
              "             (14388.0, 'CHURN'),\n",
              "             (14390.0, 'CHURN'),\n",
              "             (14395.0, 'CHURN'),\n",
              "             (14396.0, 'CHURN'),\n",
              "             (14401.0, 'CHURN'),\n",
              "             (14403.0, 'CHURN'),\n",
              "             (14404.0, 'CHURN'),\n",
              "             (14407.0, 'CHURN'),\n",
              "             (14408.0, 'CHURN'),\n",
              "             (14409.0, 'CHURN'),\n",
              "             (14410.0, 'CHURN'),\n",
              "             (14411.0, 'CHURN'),\n",
              "             (14413.0, 'CHURN'),\n",
              "             (14414.0, 'CHURN'),\n",
              "             (14415.0, 'CHURN'),\n",
              "             (14419.0, 'CHURN'),\n",
              "             (14422.0, 'CHURN'),\n",
              "             (14426.0, 'CHURN'),\n",
              "             (14428.0, 'CHURN'),\n",
              "             (14431.0, 'CHURN'),\n",
              "             (14437.0, 'CHURN'),\n",
              "             (14438.0, 'CHURN'),\n",
              "             (14439.0, 'CHURN'),\n",
              "             (14440.0, 'CHURN'),\n",
              "             (14441.0, 'CHURN'),\n",
              "             (14442.0, 'CHURN'),\n",
              "             (14443.0, 'CHURN'),\n",
              "             (14446.0, 'CHURN'),\n",
              "             (14447.0, 'CHURN'),\n",
              "             (14448.0, 'CHURN'),\n",
              "             (14449.0, 'CHURN'),\n",
              "             (14450.0, 'CHURN'),\n",
              "             (14457.0, 'CHURN'),\n",
              "             (14460.0, 'CHURN'),\n",
              "             (14461.0, 'CHURN'),\n",
              "             (14462.0, 'CHURN'),\n",
              "             (14465.0, 'CHURN'),\n",
              "             (14466.0, 'CHURN'),\n",
              "             (14467.0, 'CHURN'),\n",
              "             (14470.0, 'CHURN'),\n",
              "             (14472.0, 'CHURN'),\n",
              "             (14475.0, 'CHURN'),\n",
              "             (14476.0, 'CHURN'),\n",
              "             (14479.0, 'CHURN'),\n",
              "             (14481.0, 'CHURN'),\n",
              "             (14483.0, 'CHURN'),\n",
              "             (14487.0, 'CHURN'),\n",
              "             (14491.0, 'CHURN'),\n",
              "             (14496.0, 'CHURN'),\n",
              "             (14497.0, 'CHURN'),\n",
              "             (14498.0, 'CHURN'),\n",
              "             (14499.0, 'CHURN'),\n",
              "             (14501.0, 'CHURN'),\n",
              "             (14502.0, 'CHURN'),\n",
              "             (14504.0, 'CHURN'),\n",
              "             (14505.0, 'CHURN'),\n",
              "             (14506.0, 'CHURN'),\n",
              "             (14507.0, 'CHURN'),\n",
              "             (14513.0, 'CHURN'),\n",
              "             (14514.0, 'CHURN'),\n",
              "             (14524.0, 'CHURN'),\n",
              "             (14525.0, 'CHURN'),\n",
              "             (14527.0, 'CHURN'),\n",
              "             (14530.0, 'CHURN'),\n",
              "             (14532.0, 'CHURN'),\n",
              "             (14533.0, 'CHURN'),\n",
              "             (14534.0, 'CHURN'),\n",
              "             (14535.0, 'CHURN'),\n",
              "             (14536.0, 'CHURN'),\n",
              "             (14538.0, 'CHURN'),\n",
              "             (14540.0, 'CHURN'),\n",
              "             (14541.0, 'CHURN'),\n",
              "             (14543.0, 'CHURN'),\n",
              "             (14544.0, 'CHURN'),\n",
              "             (14546.0, 'CHURN'),\n",
              "             (14549.0, 'CHURN'),\n",
              "             (14553.0, 'CHURN'),\n",
              "             (14555.0, 'CHURN'),\n",
              "             (14560.0, 'CHURN'),\n",
              "             (14562.0, 'CHURN'),\n",
              "             (14565.0, 'CHURN'),\n",
              "             (14570.0, 'CHURN'),\n",
              "             (14572.0, 'CHURN'),\n",
              "             (14573.0, 'CHURN'),\n",
              "             (14576.0, 'CHURN'),\n",
              "             (14577.0, 'CHURN'),\n",
              "             (14586.0, 'CHURN'),\n",
              "             (14587.0, 'CHURN'),\n",
              "             (14594.0, 'CHURN'),\n",
              "             (14595.0, 'CHURN'),\n",
              "             (14600.0, 'CHURN'),\n",
              "             (14606.0, 'CHURN'),\n",
              "             (14616.0, 'CHURN'),\n",
              "             (14618.0, 'CHURN'),\n",
              "             (14619.0, 'CHURN'),\n",
              "             (14620.0, 'CHURN'),\n",
              "             (14621.0, 'CHURN'),\n",
              "             (14625.0, 'CHURN'),\n",
              "             (14631.0, 'CHURN'),\n",
              "             (14632.0, 'CHURN'),\n",
              "             (14633.0, 'CHURN'),\n",
              "             (14636.0, 'CHURN'),\n",
              "             (14639.0, 'CHURN'),\n",
              "             (14643.0, 'CHURN'),\n",
              "             (14644.0, 'CHURN'),\n",
              "             (14645.0, 'CHURN'),\n",
              "             (14646.0, 'CHURN'),\n",
              "             (14653.0, 'CHURN'),\n",
              "             (14656.0, 'CHURN'),\n",
              "             (14657.0, 'CHURN'),\n",
              "             (14659.0, 'CHURN'),\n",
              "             (14662.0, 'CHURN'),\n",
              "             (14665.0, 'CHURN'),\n",
              "             (14667.0, 'CHURN'),\n",
              "             (14669.0, 'CHURN'),\n",
              "             (14670.0, 'CHURN'),\n",
              "             (14672.0, 'CHURN'),\n",
              "             (14673.0, 'CHURN'),\n",
              "             (14676.0, 'CHURN'),\n",
              "             (14680.0, 'CHURN'),\n",
              "             (14684.0, 'CHURN'),\n",
              "             (14688.0, 'CHURN'),\n",
              "             (14692.0, 'CHURN'),\n",
              "             (14693.0, 'CHURN'),\n",
              "             (14696.0, 'CHURN'),\n",
              "             (14701.0, 'CHURN'),\n",
              "             (14702.0, 'CHURN'),\n",
              "             (14708.0, 'CHURN'),\n",
              "             (14709.0, 'CHURN'),\n",
              "             (14711.0, 'CHURN'),\n",
              "             (14713.0, 'CHURN'),\n",
              "             (14715.0, 'CHURN'),\n",
              "             (14719.0, 'CHURN'),\n",
              "             (14723.0, 'CHURN'),\n",
              "             (14727.0, 'CHURN'),\n",
              "             (14729.0, 'CHURN'),\n",
              "             (14730.0, 'CHURN'),\n",
              "             (14732.0, 'CHURN'),\n",
              "             (14733.0, 'CHURN'),\n",
              "             (14735.0, 'CHURN'),\n",
              "             (14737.0, 'CHURN'),\n",
              "             (14738.0, 'CHURN'),\n",
              "             (14739.0, 'CHURN'),\n",
              "             (14740.0, 'CHURN'),\n",
              "             (14741.0, 'CHURN'),\n",
              "             (14744.0, 'CHURN'),\n",
              "             (14745.0, 'CHURN'),\n",
              "             (14747.0, 'CHURN'),\n",
              "             (14748.0, 'CHURN'),\n",
              "             (14754.0, 'CHURN'),\n",
              "             (14755.0, 'CHURN'),\n",
              "             (14758.0, 'CHURN'),\n",
              "             (14760.0, 'CHURN'),\n",
              "             (14761.0, 'CHURN'),\n",
              "             (14762.0, 'CHURN'),\n",
              "             (14766.0, 'CHURN'),\n",
              "             (14769.0, 'CHURN'),\n",
              "             (14770.0, 'CHURN'),\n",
              "             (14775.0, 'CHURN'),\n",
              "             (14776.0, 'CHURN'),\n",
              "             (14778.0, 'CHURN'),\n",
              "             (14779.0, 'CHURN'),\n",
              "             (14782.0, 'CHURN'),\n",
              "             (14784.0, 'CHURN'),\n",
              "             (14790.0, 'CHURN'),\n",
              "             (14794.0, 'CHURN'),\n",
              "             (14796.0, 'CHURN'),\n",
              "             (14798.0, 'CHURN'),\n",
              "             (14800.0, 'CHURN'),\n",
              "             (14803.0, 'CHURN'),\n",
              "             (14805.0, 'CHURN'),\n",
              "             (14810.0, 'CHURN'),\n",
              "             (14813.0, 'CHURN'),\n",
              "             (14817.0, 'CHURN'),\n",
              "             (14818.0, 'CHURN'),\n",
              "             (14821.0, 'CHURN'),\n",
              "             (14825.0, 'CHURN'),\n",
              "             (14828.0, 'CHURN'),\n",
              "             (14829.0, 'CHURN'),\n",
              "             (14840.0, 'CHURN'),\n",
              "             (14841.0, 'CHURN'),\n",
              "             (14842.0, 'CHURN'),\n",
              "             (14849.0, 'CHURN'),\n",
              "             (14850.0, 'CHURN'),\n",
              "             (14851.0, 'CHURN'),\n",
              "             (14852.0, 'CHURN'),\n",
              "             (14854.0, 'CHURN'),\n",
              "             (14865.0, 'CHURN'),\n",
              "             (14867.0, 'CHURN'),\n",
              "             (14870.0, 'CHURN'),\n",
              "             (14871.0, 'CHURN'),\n",
              "             (14875.0, 'CHURN'),\n",
              "             (14878.0, 'CHURN'),\n",
              "             (14880.0, 'CHURN'),\n",
              "             (14886.0, 'CHURN'),\n",
              "             (14889.0, 'CHURN'),\n",
              "             (14890.0, 'CHURN'),\n",
              "             (14895.0, 'CHURN'),\n",
              "             (14896.0, 'CHURN'),\n",
              "             (14897.0, 'CHURN'),\n",
              "             (14898.0, 'CHURN'),\n",
              "             (14901.0, 'CHURN'),\n",
              "             (14903.0, 'CHURN'),\n",
              "             (14907.0, 'CHURN'),\n",
              "             (14911.0, 'CHURN'),\n",
              "             (14912.0, 'CHURN'),\n",
              "             (14913.0, 'CHURN'),\n",
              "             (14915.0, 'CHURN'),\n",
              "             (14916.0, 'CHURN'),\n",
              "             (14924.0, 'CHURN'),\n",
              "             (14930.0, 'CHURN'),\n",
              "             (14932.0, 'CHURN'),\n",
              "             (14934.0, 'CHURN'),\n",
              "             (14936.0, 'CHURN'),\n",
              "             (14944.0, 'CHURN'),\n",
              "             (14952.0, 'CHURN'),\n",
              "             (14957.0, 'CHURN'),\n",
              "             (14958.0, 'CHURN'),\n",
              "             (14959.0, 'CHURN'),\n",
              "             (14961.0, 'CHURN'),\n",
              "             (14962.0, 'CHURN'),\n",
              "             (14964.0, 'CHURN'),\n",
              "             (14970.0, 'CHURN'),\n",
              "             (14976.0, 'CHURN'),\n",
              "             (14978.0, 'CHURN'),\n",
              "             (14981.0, 'CHURN'),\n",
              "             (14985.0, 'CHURN'),\n",
              "             (14995.0, 'CHURN'),\n",
              "             (15002.0, 'CHURN'),\n",
              "             (15005.0, 'CHURN'),\n",
              "             (15012.0, 'CHURN'),\n",
              "             (15018.0, 'CHURN'),\n",
              "             (15019.0, 'CHURN'),\n",
              "             (15021.0, 'CHURN'),\n",
              "             (15023.0, 'CHURN'),\n",
              "             (15024.0, 'CHURN'),\n",
              "             (15026.0, 'CHURN'),\n",
              "             (15028.0, 'CHURN'),\n",
              "             (15030.0, 'CHURN'),\n",
              "             (15031.0, 'CHURN'),\n",
              "             (15032.0, 'CHURN'),\n",
              "             (15033.0, 'CHURN'),\n",
              "             (15034.0, 'CHURN'),\n",
              "             (15038.0, 'CHURN'),\n",
              "             (15039.0, 'CHURN'),\n",
              "             (15044.0, 'CHURN'),\n",
              "             (15046.0, 'CHURN'),\n",
              "             (15047.0, 'CHURN'),\n",
              "             (15048.0, 'CHURN'),\n",
              "             (15049.0, 'CHURN'),\n",
              "             (15052.0, 'CHURN'),\n",
              "             (15053.0, 'CHURN'),\n",
              "             (15057.0, 'CHURN'),\n",
              "             (15058.0, 'CHURN'),\n",
              "             (15059.0, 'CHURN'),\n",
              "             (15061.0, 'CHURN'),\n",
              "             (15062.0, 'CHURN'),\n",
              "             ...])"
            ]
          },
          "metadata": {
            "tags": []
          },
          "execution_count": 127
        }
      ]
    },
    {
      "cell_type": "markdown",
      "metadata": {
        "id": "cRJ-gUcFow2V"
      },
      "source": [
        "## **Churn Prediction for each customer**"
      ]
    },
    {
      "cell_type": "code",
      "metadata": {
        "id": "mYoXcE-ioNV5"
      },
      "source": [
        "churn = pd.DataFrame(list(churn_dictionary.items()), columns=['CustomerID', 'Prediction'])"
      ],
      "execution_count": 128,
      "outputs": []
    },
    {
      "cell_type": "code",
      "metadata": {
        "id": "jdMHWEM9ovHI",
        "outputId": "ee49ad61-5c8b-49cf-ccc5-331ac81b0f80",
        "colab": {
          "base_uri": "https://localhost:8080/",
          "height": 0
        }
      },
      "source": [
        "churn.head(10)"
      ],
      "execution_count": 129,
      "outputs": [
        {
          "output_type": "execute_result",
          "data": {
            "text/html": [
              "<div>\n",
              "<style scoped>\n",
              "    .dataframe tbody tr th:only-of-type {\n",
              "        vertical-align: middle;\n",
              "    }\n",
              "\n",
              "    .dataframe tbody tr th {\n",
              "        vertical-align: top;\n",
              "    }\n",
              "\n",
              "    .dataframe thead th {\n",
              "        text-align: right;\n",
              "    }\n",
              "</style>\n",
              "<table border=\"1\" class=\"dataframe\">\n",
              "  <thead>\n",
              "    <tr style=\"text-align: right;\">\n",
              "      <th></th>\n",
              "      <th>CustomerID</th>\n",
              "      <th>Prediction</th>\n",
              "    </tr>\n",
              "  </thead>\n",
              "  <tbody>\n",
              "    <tr>\n",
              "      <th>0</th>\n",
              "      <td>12347.0</td>\n",
              "      <td>CHURN</td>\n",
              "    </tr>\n",
              "    <tr>\n",
              "      <th>1</th>\n",
              "      <td>12348.0</td>\n",
              "      <td>CHURN</td>\n",
              "    </tr>\n",
              "    <tr>\n",
              "      <th>2</th>\n",
              "      <td>12350.0</td>\n",
              "      <td>CHURN</td>\n",
              "    </tr>\n",
              "    <tr>\n",
              "      <th>3</th>\n",
              "      <td>12352.0</td>\n",
              "      <td>CHURN</td>\n",
              "    </tr>\n",
              "    <tr>\n",
              "      <th>4</th>\n",
              "      <td>12356.0</td>\n",
              "      <td>CHURN</td>\n",
              "    </tr>\n",
              "    <tr>\n",
              "      <th>5</th>\n",
              "      <td>12359.0</td>\n",
              "      <td>CHURN</td>\n",
              "    </tr>\n",
              "    <tr>\n",
              "      <th>6</th>\n",
              "      <td>12361.0</td>\n",
              "      <td>CHURN</td>\n",
              "    </tr>\n",
              "    <tr>\n",
              "      <th>7</th>\n",
              "      <td>12362.0</td>\n",
              "      <td>CHURN</td>\n",
              "    </tr>\n",
              "    <tr>\n",
              "      <th>8</th>\n",
              "      <td>12365.0</td>\n",
              "      <td>CHURN</td>\n",
              "    </tr>\n",
              "    <tr>\n",
              "      <th>9</th>\n",
              "      <td>12370.0</td>\n",
              "      <td>CHURN</td>\n",
              "    </tr>\n",
              "  </tbody>\n",
              "</table>\n",
              "</div>"
            ],
            "text/plain": [
              "   CustomerID Prediction\n",
              "0     12347.0      CHURN\n",
              "1     12348.0      CHURN\n",
              "2     12350.0      CHURN\n",
              "3     12352.0      CHURN\n",
              "4     12356.0      CHURN\n",
              "5     12359.0      CHURN\n",
              "6     12361.0      CHURN\n",
              "7     12362.0      CHURN\n",
              "8     12365.0      CHURN\n",
              "9     12370.0      CHURN"
            ]
          },
          "metadata": {
            "tags": []
          },
          "execution_count": 129
        }
      ]
    },
    {
      "cell_type": "code",
      "metadata": {
        "id": "s2GvQsdOo7DF",
        "outputId": "7f7eda37-8fb7-4f14-a1c2-030619bba4aa",
        "colab": {
          "base_uri": "https://localhost:8080/",
          "height": 0
        }
      },
      "source": [
        "churn.tail(10)"
      ],
      "execution_count": 130,
      "outputs": [
        {
          "output_type": "execute_result",
          "data": {
            "text/html": [
              "<div>\n",
              "<style scoped>\n",
              "    .dataframe tbody tr th:only-of-type {\n",
              "        vertical-align: middle;\n",
              "    }\n",
              "\n",
              "    .dataframe tbody tr th {\n",
              "        vertical-align: top;\n",
              "    }\n",
              "\n",
              "    .dataframe thead th {\n",
              "        text-align: right;\n",
              "    }\n",
              "</style>\n",
              "<table border=\"1\" class=\"dataframe\">\n",
              "  <thead>\n",
              "    <tr style=\"text-align: right;\">\n",
              "      <th></th>\n",
              "      <th>CustomerID</th>\n",
              "      <th>Prediction</th>\n",
              "    </tr>\n",
              "  </thead>\n",
              "  <tbody>\n",
              "    <tr>\n",
              "      <th>2131</th>\n",
              "      <td>18257.0</td>\n",
              "      <td>CHURN</td>\n",
              "    </tr>\n",
              "    <tr>\n",
              "      <th>2132</th>\n",
              "      <td>18259.0</td>\n",
              "      <td>CHURN</td>\n",
              "    </tr>\n",
              "    <tr>\n",
              "      <th>2133</th>\n",
              "      <td>18260.0</td>\n",
              "      <td>CHURN</td>\n",
              "    </tr>\n",
              "    <tr>\n",
              "      <th>2134</th>\n",
              "      <td>18263.0</td>\n",
              "      <td>CHURN</td>\n",
              "    </tr>\n",
              "    <tr>\n",
              "      <th>2135</th>\n",
              "      <td>18269.0</td>\n",
              "      <td>CHURN</td>\n",
              "    </tr>\n",
              "    <tr>\n",
              "      <th>2136</th>\n",
              "      <td>18270.0</td>\n",
              "      <td>CHURN</td>\n",
              "    </tr>\n",
              "    <tr>\n",
              "      <th>2137</th>\n",
              "      <td>18272.0</td>\n",
              "      <td>CHURN</td>\n",
              "    </tr>\n",
              "    <tr>\n",
              "      <th>2138</th>\n",
              "      <td>18273.0</td>\n",
              "      <td>CHURN</td>\n",
              "    </tr>\n",
              "    <tr>\n",
              "      <th>2139</th>\n",
              "      <td>18280.0</td>\n",
              "      <td>CHURN</td>\n",
              "    </tr>\n",
              "    <tr>\n",
              "      <th>2140</th>\n",
              "      <td>18283.0</td>\n",
              "      <td>CHURN</td>\n",
              "    </tr>\n",
              "  </tbody>\n",
              "</table>\n",
              "</div>"
            ],
            "text/plain": [
              "      CustomerID Prediction\n",
              "2131     18257.0      CHURN\n",
              "2132     18259.0      CHURN\n",
              "2133     18260.0      CHURN\n",
              "2134     18263.0      CHURN\n",
              "2135     18269.0      CHURN\n",
              "2136     18270.0      CHURN\n",
              "2137     18272.0      CHURN\n",
              "2138     18273.0      CHURN\n",
              "2139     18280.0      CHURN\n",
              "2140     18283.0      CHURN"
            ]
          },
          "metadata": {
            "tags": []
          },
          "execution_count": 130
        }
      ]
    },
    {
      "cell_type": "markdown",
      "metadata": {
        "id": "d0ailZa7MAWk"
      },
      "source": [
        "# RFM Analysis\n",
        "\n",
        "---"
      ]
    },
    {
      "cell_type": "markdown",
      "metadata": {
        "id": "8L_-j-dEM-TC"
      },
      "source": [
        "RFM stands for Recency, Frequency and Monetary Value each corresponding to some key customer trait. \n",
        "\n",
        "Recency is the number of days since last purchase.\n",
        "\n",
        "Frequency is the total number of purchases made by a customer.\n",
        "\n",
        "Monetary value is the total money spent by a customer.\n",
        "\n",
        "Frequency and Monetary Value Effects a customer's lifetime value and Recency affects retention, a measure of engagement."
      ]
    },
    {
      "cell_type": "markdown",
      "metadata": {
        "id": "EepBUCFXrOdI"
      },
      "source": [
        "**Recency**\n",
        "\n",
        "To calculate Recency score, we use a recent date point as a reference to compute number of days since the customer's last purchase."
      ]
    },
    {
      "cell_type": "code",
      "metadata": {
        "id": "idVVfAS_q2OM",
        "outputId": "dec21cea-d74c-488c-9e87-c13b9156ec7c",
        "colab": {
          "base_uri": "https://localhost:8080/",
          "height": 35
        }
      },
      "source": [
        "# last date available in our dataset\n",
        "dataset['InvoiceDate'].max()"
      ],
      "execution_count": 131,
      "outputs": [
        {
          "output_type": "execute_result",
          "data": {
            "application/vnd.google.colaboratory.intrinsic+json": {
              "type": "string"
            },
            "text/plain": [
              "'4/8/2011 9:58'"
            ]
          },
          "metadata": {
            "tags": []
          },
          "execution_count": 131
        }
      ]
    },
    {
      "cell_type": "code",
      "metadata": {
        "id": "LhvJigL3rfIz"
      },
      "source": [
        "import datetime as dt\n",
        "now = dt.date(2011, 12, 9)"
      ],
      "execution_count": 132,
      "outputs": []
    },
    {
      "cell_type": "code",
      "metadata": {
        "id": "i5YEaufCxc-_"
      },
      "source": [
        "rec_df = dataset.copy()"
      ],
      "execution_count": 133,
      "outputs": []
    },
    {
      "cell_type": "code",
      "metadata": {
        "id": "H36T0j9pxnMe"
      },
      "source": [
        "rec_df['date'] = pd.DatetimeIndex(rec_df['InvoiceDate']).date"
      ],
      "execution_count": 134,
      "outputs": []
    },
    {
      "cell_type": "code",
      "metadata": {
        "id": "31-B2jLfxvf_",
        "outputId": "ebfbf9ff-18e3-4a31-cf82-27792b66d92b",
        "colab": {
          "base_uri": "https://localhost:8080/",
          "height": 204
        }
      },
      "source": [
        "# group by customers and check last date of purchase\n",
        "rec_df = rec_df.groupby(by='CustomerID', as_index=False)['date'].max()\n",
        "rec_df.columns = ['CustomerID','LastPurchaseDate']\n",
        "rec_df.head()"
      ],
      "execution_count": 135,
      "outputs": [
        {
          "output_type": "execute_result",
          "data": {
            "text/html": [
              "<div>\n",
              "<style scoped>\n",
              "    .dataframe tbody tr th:only-of-type {\n",
              "        vertical-align: middle;\n",
              "    }\n",
              "\n",
              "    .dataframe tbody tr th {\n",
              "        vertical-align: top;\n",
              "    }\n",
              "\n",
              "    .dataframe thead th {\n",
              "        text-align: right;\n",
              "    }\n",
              "</style>\n",
              "<table border=\"1\" class=\"dataframe\">\n",
              "  <thead>\n",
              "    <tr style=\"text-align: right;\">\n",
              "      <th></th>\n",
              "      <th>CustomerID</th>\n",
              "      <th>LastPurchaseDate</th>\n",
              "    </tr>\n",
              "  </thead>\n",
              "  <tbody>\n",
              "    <tr>\n",
              "      <th>0</th>\n",
              "      <td>12347.0</td>\n",
              "      <td>2011-04-07</td>\n",
              "    </tr>\n",
              "    <tr>\n",
              "      <th>1</th>\n",
              "      <td>12348.0</td>\n",
              "      <td>2011-04-05</td>\n",
              "    </tr>\n",
              "    <tr>\n",
              "      <th>2</th>\n",
              "      <td>12350.0</td>\n",
              "      <td>2011-02-02</td>\n",
              "    </tr>\n",
              "    <tr>\n",
              "      <th>3</th>\n",
              "      <td>12352.0</td>\n",
              "      <td>2011-03-22</td>\n",
              "    </tr>\n",
              "    <tr>\n",
              "      <th>4</th>\n",
              "      <td>12356.0</td>\n",
              "      <td>2011-04-08</td>\n",
              "    </tr>\n",
              "  </tbody>\n",
              "</table>\n",
              "</div>"
            ],
            "text/plain": [
              "   CustomerID LastPurchaseDate\n",
              "0     12347.0       2011-04-07\n",
              "1     12348.0       2011-04-05\n",
              "2     12350.0       2011-02-02\n",
              "3     12352.0       2011-03-22\n",
              "4     12356.0       2011-04-08"
            ]
          },
          "metadata": {
            "tags": []
          },
          "execution_count": 135
        }
      ]
    },
    {
      "cell_type": "code",
      "metadata": {
        "id": "2VXiQ_FBx_Tq"
      },
      "source": [
        "# calculate recency\n",
        "rec_df['Recency'] = rec_df['LastPurchaseDate'].apply(lambda x: (now - x).days)"
      ],
      "execution_count": 136,
      "outputs": []
    },
    {
      "cell_type": "code",
      "metadata": {
        "id": "uwrg0v0nyUMt",
        "outputId": "a36d1b1f-2cff-47b4-8839-db47996186bb",
        "colab": {
          "base_uri": "https://localhost:8080/",
          "height": 204
        }
      },
      "source": [
        "rec_df.head()"
      ],
      "execution_count": 137,
      "outputs": [
        {
          "output_type": "execute_result",
          "data": {
            "text/html": [
              "<div>\n",
              "<style scoped>\n",
              "    .dataframe tbody tr th:only-of-type {\n",
              "        vertical-align: middle;\n",
              "    }\n",
              "\n",
              "    .dataframe tbody tr th {\n",
              "        vertical-align: top;\n",
              "    }\n",
              "\n",
              "    .dataframe thead th {\n",
              "        text-align: right;\n",
              "    }\n",
              "</style>\n",
              "<table border=\"1\" class=\"dataframe\">\n",
              "  <thead>\n",
              "    <tr style=\"text-align: right;\">\n",
              "      <th></th>\n",
              "      <th>CustomerID</th>\n",
              "      <th>LastPurchaseDate</th>\n",
              "      <th>Recency</th>\n",
              "    </tr>\n",
              "  </thead>\n",
              "  <tbody>\n",
              "    <tr>\n",
              "      <th>0</th>\n",
              "      <td>12347.0</td>\n",
              "      <td>2011-04-07</td>\n",
              "      <td>246</td>\n",
              "    </tr>\n",
              "    <tr>\n",
              "      <th>1</th>\n",
              "      <td>12348.0</td>\n",
              "      <td>2011-04-05</td>\n",
              "      <td>248</td>\n",
              "    </tr>\n",
              "    <tr>\n",
              "      <th>2</th>\n",
              "      <td>12350.0</td>\n",
              "      <td>2011-02-02</td>\n",
              "      <td>310</td>\n",
              "    </tr>\n",
              "    <tr>\n",
              "      <th>3</th>\n",
              "      <td>12352.0</td>\n",
              "      <td>2011-03-22</td>\n",
              "      <td>262</td>\n",
              "    </tr>\n",
              "    <tr>\n",
              "      <th>4</th>\n",
              "      <td>12356.0</td>\n",
              "      <td>2011-04-08</td>\n",
              "      <td>245</td>\n",
              "    </tr>\n",
              "  </tbody>\n",
              "</table>\n",
              "</div>"
            ],
            "text/plain": [
              "   CustomerID LastPurchaseDate  Recency\n",
              "0     12347.0       2011-04-07      246\n",
              "1     12348.0       2011-04-05      248\n",
              "2     12350.0       2011-02-02      310\n",
              "3     12352.0       2011-03-22      262\n",
              "4     12356.0       2011-04-08      245"
            ]
          },
          "metadata": {
            "tags": []
          },
          "execution_count": 137
        }
      ]
    },
    {
      "cell_type": "markdown",
      "metadata": {
        "id": "AHorLLwS3cM8"
      },
      "source": [
        "Less the recency value, more recent the purchase is."
      ]
    },
    {
      "cell_type": "code",
      "metadata": {
        "id": "Ogtt1sYGyV8m",
        "outputId": "15c0af6f-5d3c-4db1-93dd-8528d24d2630",
        "colab": {
          "base_uri": "https://localhost:8080/",
          "height": 204
        }
      },
      "source": [
        "rec_df.sort_values(by=['Recency'])\n",
        "rec_df = rec_df[['CustomerID','Recency']]\n",
        "rec_df.head()"
      ],
      "execution_count": 138,
      "outputs": [
        {
          "output_type": "execute_result",
          "data": {
            "text/html": [
              "<div>\n",
              "<style scoped>\n",
              "    .dataframe tbody tr th:only-of-type {\n",
              "        vertical-align: middle;\n",
              "    }\n",
              "\n",
              "    .dataframe tbody tr th {\n",
              "        vertical-align: top;\n",
              "    }\n",
              "\n",
              "    .dataframe thead th {\n",
              "        text-align: right;\n",
              "    }\n",
              "</style>\n",
              "<table border=\"1\" class=\"dataframe\">\n",
              "  <thead>\n",
              "    <tr style=\"text-align: right;\">\n",
              "      <th></th>\n",
              "      <th>CustomerID</th>\n",
              "      <th>Recency</th>\n",
              "    </tr>\n",
              "  </thead>\n",
              "  <tbody>\n",
              "    <tr>\n",
              "      <th>0</th>\n",
              "      <td>12347.0</td>\n",
              "      <td>246</td>\n",
              "    </tr>\n",
              "    <tr>\n",
              "      <th>1</th>\n",
              "      <td>12348.0</td>\n",
              "      <td>248</td>\n",
              "    </tr>\n",
              "    <tr>\n",
              "      <th>2</th>\n",
              "      <td>12350.0</td>\n",
              "      <td>310</td>\n",
              "    </tr>\n",
              "    <tr>\n",
              "      <th>3</th>\n",
              "      <td>12352.0</td>\n",
              "      <td>262</td>\n",
              "    </tr>\n",
              "    <tr>\n",
              "      <th>4</th>\n",
              "      <td>12356.0</td>\n",
              "      <td>245</td>\n",
              "    </tr>\n",
              "  </tbody>\n",
              "</table>\n",
              "</div>"
            ],
            "text/plain": [
              "   CustomerID  Recency\n",
              "0     12347.0      246\n",
              "1     12348.0      248\n",
              "2     12350.0      310\n",
              "3     12352.0      262\n",
              "4     12356.0      245"
            ]
          },
          "metadata": {
            "tags": []
          },
          "execution_count": 138
        }
      ]
    },
    {
      "cell_type": "markdown",
      "metadata": {
        "id": "jR8gIHjc3yts"
      },
      "source": [
        "**Frequency**"
      ]
    },
    {
      "cell_type": "code",
      "metadata": {
        "id": "NyTjkM4B2ecI",
        "outputId": "39084109-b67f-4568-9a49-1b712a874be2",
        "colab": {
          "base_uri": "https://localhost:8080/",
          "height": 204
        }
      },
      "source": [
        "freq_df = customers[[\"CustomerID\",\"Frequency_of_customer\"]]\n",
        "freq_df.head()"
      ],
      "execution_count": 139,
      "outputs": [
        {
          "output_type": "execute_result",
          "data": {
            "text/html": [
              "<div>\n",
              "<style scoped>\n",
              "    .dataframe tbody tr th:only-of-type {\n",
              "        vertical-align: middle;\n",
              "    }\n",
              "\n",
              "    .dataframe tbody tr th {\n",
              "        vertical-align: top;\n",
              "    }\n",
              "\n",
              "    .dataframe thead th {\n",
              "        text-align: right;\n",
              "    }\n",
              "</style>\n",
              "<table border=\"1\" class=\"dataframe\">\n",
              "  <thead>\n",
              "    <tr style=\"text-align: right;\">\n",
              "      <th></th>\n",
              "      <th>CustomerID</th>\n",
              "      <th>Frequency_of_customer</th>\n",
              "    </tr>\n",
              "  </thead>\n",
              "  <tbody>\n",
              "    <tr>\n",
              "      <th>0</th>\n",
              "      <td>12347.0</td>\n",
              "      <td>3</td>\n",
              "    </tr>\n",
              "    <tr>\n",
              "      <th>1</th>\n",
              "      <td>12348.0</td>\n",
              "      <td>3</td>\n",
              "    </tr>\n",
              "    <tr>\n",
              "      <th>2</th>\n",
              "      <td>12350.0</td>\n",
              "      <td>1</td>\n",
              "    </tr>\n",
              "    <tr>\n",
              "      <th>3</th>\n",
              "      <td>12352.0</td>\n",
              "      <td>4</td>\n",
              "    </tr>\n",
              "    <tr>\n",
              "      <th>4</th>\n",
              "      <td>12356.0</td>\n",
              "      <td>2</td>\n",
              "    </tr>\n",
              "  </tbody>\n",
              "</table>\n",
              "</div>"
            ],
            "text/plain": [
              "   CustomerID  Frequency_of_customer\n",
              "0     12347.0                      3\n",
              "1     12348.0                      3\n",
              "2     12350.0                      1\n",
              "3     12352.0                      4\n",
              "4     12356.0                      2"
            ]
          },
          "metadata": {
            "tags": []
          },
          "execution_count": 139
        }
      ]
    },
    {
      "cell_type": "markdown",
      "metadata": {
        "id": "NfOsePfR4hZM"
      },
      "source": [
        "**Monetary**"
      ]
    },
    {
      "cell_type": "code",
      "metadata": {
        "id": "NinLfYaX4Lt3",
        "outputId": "4a439905-a1df-4d68-a933-ca065adac8ff",
        "colab": {
          "base_uri": "https://localhost:8080/",
          "height": 204
        }
      },
      "source": [
        "monetary = customers[[\"CustomerID\",\"Total_spending\"]]\n",
        "monetary.head()"
      ],
      "execution_count": 140,
      "outputs": [
        {
          "output_type": "execute_result",
          "data": {
            "text/html": [
              "<div>\n",
              "<style scoped>\n",
              "    .dataframe tbody tr th:only-of-type {\n",
              "        vertical-align: middle;\n",
              "    }\n",
              "\n",
              "    .dataframe tbody tr th {\n",
              "        vertical-align: top;\n",
              "    }\n",
              "\n",
              "    .dataframe thead th {\n",
              "        text-align: right;\n",
              "    }\n",
              "</style>\n",
              "<table border=\"1\" class=\"dataframe\">\n",
              "  <thead>\n",
              "    <tr style=\"text-align: right;\">\n",
              "      <th></th>\n",
              "      <th>CustomerID</th>\n",
              "      <th>Total_spending</th>\n",
              "    </tr>\n",
              "  </thead>\n",
              "  <tbody>\n",
              "    <tr>\n",
              "      <th>0</th>\n",
              "      <td>12347.0</td>\n",
              "      <td>1413.03</td>\n",
              "    </tr>\n",
              "    <tr>\n",
              "      <th>1</th>\n",
              "      <td>12348.0</td>\n",
              "      <td>90.20</td>\n",
              "    </tr>\n",
              "    <tr>\n",
              "      <th>2</th>\n",
              "      <td>12350.0</td>\n",
              "      <td>294.40</td>\n",
              "    </tr>\n",
              "    <tr>\n",
              "      <th>3</th>\n",
              "      <td>12352.0</td>\n",
              "      <td>539.41</td>\n",
              "    </tr>\n",
              "    <tr>\n",
              "      <th>4</th>\n",
              "      <td>12356.0</td>\n",
              "      <td>1086.56</td>\n",
              "    </tr>\n",
              "  </tbody>\n",
              "</table>\n",
              "</div>"
            ],
            "text/plain": [
              "   CustomerID  Total_spending\n",
              "0     12347.0         1413.03\n",
              "1     12348.0           90.20\n",
              "2     12350.0          294.40\n",
              "3     12352.0          539.41\n",
              "4     12356.0         1086.56"
            ]
          },
          "metadata": {
            "tags": []
          },
          "execution_count": 140
        }
      ]
    },
    {
      "cell_type": "markdown",
      "metadata": {
        "id": "hfIUa17n4_ty"
      },
      "source": [
        "**Creating RFM Table**"
      ]
    },
    {
      "cell_type": "code",
      "metadata": {
        "id": "d4drO0wB4sKX",
        "outputId": "1d4d5933-9443-475c-84bb-5a6dfff8d67c",
        "colab": {
          "base_uri": "https://localhost:8080/",
          "height": 204
        }
      },
      "source": [
        "rfm = rec_df.merge(freq_df, on='CustomerID')\n",
        "rfm.head()"
      ],
      "execution_count": 141,
      "outputs": [
        {
          "output_type": "execute_result",
          "data": {
            "text/html": [
              "<div>\n",
              "<style scoped>\n",
              "    .dataframe tbody tr th:only-of-type {\n",
              "        vertical-align: middle;\n",
              "    }\n",
              "\n",
              "    .dataframe tbody tr th {\n",
              "        vertical-align: top;\n",
              "    }\n",
              "\n",
              "    .dataframe thead th {\n",
              "        text-align: right;\n",
              "    }\n",
              "</style>\n",
              "<table border=\"1\" class=\"dataframe\">\n",
              "  <thead>\n",
              "    <tr style=\"text-align: right;\">\n",
              "      <th></th>\n",
              "      <th>CustomerID</th>\n",
              "      <th>Recency</th>\n",
              "      <th>Frequency_of_customer</th>\n",
              "    </tr>\n",
              "  </thead>\n",
              "  <tbody>\n",
              "    <tr>\n",
              "      <th>0</th>\n",
              "      <td>12347.0</td>\n",
              "      <td>246</td>\n",
              "      <td>3</td>\n",
              "    </tr>\n",
              "    <tr>\n",
              "      <th>1</th>\n",
              "      <td>12348.0</td>\n",
              "      <td>248</td>\n",
              "      <td>3</td>\n",
              "    </tr>\n",
              "    <tr>\n",
              "      <th>2</th>\n",
              "      <td>12350.0</td>\n",
              "      <td>310</td>\n",
              "      <td>1</td>\n",
              "    </tr>\n",
              "    <tr>\n",
              "      <th>3</th>\n",
              "      <td>12352.0</td>\n",
              "      <td>262</td>\n",
              "      <td>4</td>\n",
              "    </tr>\n",
              "    <tr>\n",
              "      <th>4</th>\n",
              "      <td>12356.0</td>\n",
              "      <td>245</td>\n",
              "      <td>2</td>\n",
              "    </tr>\n",
              "  </tbody>\n",
              "</table>\n",
              "</div>"
            ],
            "text/plain": [
              "   CustomerID  Recency  Frequency_of_customer\n",
              "0     12347.0      246                      3\n",
              "1     12348.0      248                      3\n",
              "2     12350.0      310                      1\n",
              "3     12352.0      262                      4\n",
              "4     12356.0      245                      2"
            ]
          },
          "metadata": {
            "tags": []
          },
          "execution_count": 141
        }
      ]
    },
    {
      "cell_type": "code",
      "metadata": {
        "id": "0fTkFyxp5MUu",
        "outputId": "551e0695-511a-4ce3-b0e1-6660db0aef0e",
        "colab": {
          "base_uri": "https://localhost:8080/",
          "height": 235
        }
      },
      "source": [
        "rfm = rfm.merge(monetary, on='CustomerID')\n",
        "rfm.set_index('CustomerID', inplace=True)\n",
        "rfm.head()"
      ],
      "execution_count": 142,
      "outputs": [
        {
          "output_type": "execute_result",
          "data": {
            "text/html": [
              "<div>\n",
              "<style scoped>\n",
              "    .dataframe tbody tr th:only-of-type {\n",
              "        vertical-align: middle;\n",
              "    }\n",
              "\n",
              "    .dataframe tbody tr th {\n",
              "        vertical-align: top;\n",
              "    }\n",
              "\n",
              "    .dataframe thead th {\n",
              "        text-align: right;\n",
              "    }\n",
              "</style>\n",
              "<table border=\"1\" class=\"dataframe\">\n",
              "  <thead>\n",
              "    <tr style=\"text-align: right;\">\n",
              "      <th></th>\n",
              "      <th>Recency</th>\n",
              "      <th>Frequency_of_customer</th>\n",
              "      <th>Total_spending</th>\n",
              "    </tr>\n",
              "    <tr>\n",
              "      <th>CustomerID</th>\n",
              "      <th></th>\n",
              "      <th></th>\n",
              "      <th></th>\n",
              "    </tr>\n",
              "  </thead>\n",
              "  <tbody>\n",
              "    <tr>\n",
              "      <th>12347.0</th>\n",
              "      <td>246</td>\n",
              "      <td>3</td>\n",
              "      <td>1413.03</td>\n",
              "    </tr>\n",
              "    <tr>\n",
              "      <th>12348.0</th>\n",
              "      <td>248</td>\n",
              "      <td>3</td>\n",
              "      <td>90.20</td>\n",
              "    </tr>\n",
              "    <tr>\n",
              "      <th>12350.0</th>\n",
              "      <td>310</td>\n",
              "      <td>1</td>\n",
              "      <td>294.40</td>\n",
              "    </tr>\n",
              "    <tr>\n",
              "      <th>12352.0</th>\n",
              "      <td>262</td>\n",
              "      <td>4</td>\n",
              "      <td>539.41</td>\n",
              "    </tr>\n",
              "    <tr>\n",
              "      <th>12356.0</th>\n",
              "      <td>245</td>\n",
              "      <td>2</td>\n",
              "      <td>1086.56</td>\n",
              "    </tr>\n",
              "  </tbody>\n",
              "</table>\n",
              "</div>"
            ],
            "text/plain": [
              "            Recency  Frequency_of_customer  Total_spending\n",
              "CustomerID                                                \n",
              "12347.0         246                      3         1413.03\n",
              "12348.0         248                      3           90.20\n",
              "12350.0         310                      1          294.40\n",
              "12352.0         262                      4          539.41\n",
              "12356.0         245                      2         1086.56"
            ]
          },
          "metadata": {
            "tags": []
          },
          "execution_count": 142
        }
      ]
    },
    {
      "cell_type": "markdown",
      "metadata": {
        "id": "weqKpVlo53wP"
      },
      "source": [
        "**RFM Anaylsis**\n",
        "\n",
        "To conduct RFM analysis, here we rank these customers from 1-4 using RFM values. We sort customers based on RFM value. A final RFM score is calculated simply by combining individual RFM score number."
      ]
    },
    {
      "cell_type": "code",
      "metadata": {
        "id": "XC1KyiYd5fJ7",
        "outputId": "4bc9c811-4791-4e85-d659-1ee7d9941fb0",
        "colab": {
          "base_uri": "https://localhost:8080/",
          "height": 142
        }
      },
      "source": [
        "quantiles = rfm.quantile(q=[0.25, 0.5, 0.75])\n",
        "quantiles"
      ],
      "execution_count": 143,
      "outputs": [
        {
          "output_type": "execute_result",
          "data": {
            "text/html": [
              "<div>\n",
              "<style scoped>\n",
              "    .dataframe tbody tr th:only-of-type {\n",
              "        vertical-align: middle;\n",
              "    }\n",
              "\n",
              "    .dataframe tbody tr th {\n",
              "        vertical-align: top;\n",
              "    }\n",
              "\n",
              "    .dataframe thead th {\n",
              "        text-align: right;\n",
              "    }\n",
              "</style>\n",
              "<table border=\"1\" class=\"dataframe\">\n",
              "  <thead>\n",
              "    <tr style=\"text-align: right;\">\n",
              "      <th></th>\n",
              "      <th>Recency</th>\n",
              "      <th>Frequency_of_customer</th>\n",
              "      <th>Total_spending</th>\n",
              "    </tr>\n",
              "  </thead>\n",
              "  <tbody>\n",
              "    <tr>\n",
              "      <th>0.25</th>\n",
              "      <td>259.0</td>\n",
              "      <td>1.0</td>\n",
              "      <td>154.02</td>\n",
              "    </tr>\n",
              "    <tr>\n",
              "      <th>0.50</th>\n",
              "      <td>282.0</td>\n",
              "      <td>1.0</td>\n",
              "      <td>299.70</td>\n",
              "    </tr>\n",
              "    <tr>\n",
              "      <th>0.75</th>\n",
              "      <td>317.0</td>\n",
              "      <td>2.0</td>\n",
              "      <td>605.90</td>\n",
              "    </tr>\n",
              "  </tbody>\n",
              "</table>\n",
              "</div>"
            ],
            "text/plain": [
              "      Recency  Frequency_of_customer  Total_spending\n",
              "0.25    259.0                    1.0          154.02\n",
              "0.50    282.0                    1.0          299.70\n",
              "0.75    317.0                    2.0          605.90"
            ]
          },
          "metadata": {
            "tags": []
          },
          "execution_count": 143
        }
      ]
    },
    {
      "cell_type": "code",
      "metadata": {
        "id": "sTetwRdJ6OXB",
        "outputId": "e5f95edb-4492-42d1-c5c8-694e30f21fcf",
        "colab": {
          "base_uri": "https://localhost:8080/"
        }
      },
      "source": [
        "quantiles.to_dict()"
      ],
      "execution_count": 144,
      "outputs": [
        {
          "output_type": "execute_result",
          "data": {
            "text/plain": [
              "{'Frequency_of_customer': {0.25: 1.0, 0.5: 1.0, 0.75: 2.0},\n",
              " 'Recency': {0.25: 259.0, 0.5: 282.0, 0.75: 317.0},\n",
              " 'Total_spending': {0.25: 154.01999999999998,\n",
              "  0.5: 299.69999999999993,\n",
              "  0.75: 605.9000000000002}}"
            ]
          },
          "metadata": {
            "tags": []
          },
          "execution_count": 144
        }
      ]
    },
    {
      "cell_type": "markdown",
      "metadata": {
        "id": "BESQ-TXV6iqf"
      },
      "source": [
        "**Creating RFM Segments**\n",
        "\n",
        "Here, high value of recency has low score while high value of frequency and monetary value has high score."
      ]
    },
    {
      "cell_type": "code",
      "metadata": {
        "id": "6PKdj0L56h3F"
      },
      "source": [
        "def RScore(x, p, d):\n",
        "  if x <= d[p][0.25]:\n",
        "    return 4\n",
        "  elif x <= d[p][0.50]:\n",
        "    return 3\n",
        "  elif x <= d[p][0.75]:\n",
        "    return 2\n",
        "  else:\n",
        "    return 1\n",
        "\n",
        "def FMScore(x, p, d):\n",
        "  if x <= d[p][0.25]:\n",
        "    return 1\n",
        "  elif x <= d[p][0.50]:\n",
        "    return 2\n",
        "  elif x <= d[p][0.75]:\n",
        "    return 3\n",
        "  else:\n",
        "    return 4"
      ],
      "execution_count": 145,
      "outputs": []
    },
    {
      "cell_type": "code",
      "metadata": {
        "id": "JxE7XIxJ7FcH",
        "outputId": "3462f488-0f30-4009-fd36-a5c29700040d",
        "colab": {
          "base_uri": "https://localhost:8080/",
          "height": 235
        }
      },
      "source": [
        "rfm_seg = rfm.copy()\n",
        "rfm_seg['R_Quartile'] = rfm_seg['Recency'].apply(RScore, args=('Recency', quantiles,))\n",
        "rfm_seg['F_Quartile'] = rfm_seg['Frequency_of_customer'].apply(FMScore, args=('Frequency_of_customer', quantiles,))\n",
        "rfm_seg['M_Quartile'] = rfm_seg['Total_spending'].apply(FMScore, args=('Total_spending', quantiles,))\n",
        "rfm_seg.head()"
      ],
      "execution_count": 146,
      "outputs": [
        {
          "output_type": "execute_result",
          "data": {
            "text/html": [
              "<div>\n",
              "<style scoped>\n",
              "    .dataframe tbody tr th:only-of-type {\n",
              "        vertical-align: middle;\n",
              "    }\n",
              "\n",
              "    .dataframe tbody tr th {\n",
              "        vertical-align: top;\n",
              "    }\n",
              "\n",
              "    .dataframe thead th {\n",
              "        text-align: right;\n",
              "    }\n",
              "</style>\n",
              "<table border=\"1\" class=\"dataframe\">\n",
              "  <thead>\n",
              "    <tr style=\"text-align: right;\">\n",
              "      <th></th>\n",
              "      <th>Recency</th>\n",
              "      <th>Frequency_of_customer</th>\n",
              "      <th>Total_spending</th>\n",
              "      <th>R_Quartile</th>\n",
              "      <th>F_Quartile</th>\n",
              "      <th>M_Quartile</th>\n",
              "    </tr>\n",
              "    <tr>\n",
              "      <th>CustomerID</th>\n",
              "      <th></th>\n",
              "      <th></th>\n",
              "      <th></th>\n",
              "      <th></th>\n",
              "      <th></th>\n",
              "      <th></th>\n",
              "    </tr>\n",
              "  </thead>\n",
              "  <tbody>\n",
              "    <tr>\n",
              "      <th>12347.0</th>\n",
              "      <td>246</td>\n",
              "      <td>3</td>\n",
              "      <td>1413.03</td>\n",
              "      <td>4</td>\n",
              "      <td>4</td>\n",
              "      <td>4</td>\n",
              "    </tr>\n",
              "    <tr>\n",
              "      <th>12348.0</th>\n",
              "      <td>248</td>\n",
              "      <td>3</td>\n",
              "      <td>90.20</td>\n",
              "      <td>4</td>\n",
              "      <td>4</td>\n",
              "      <td>1</td>\n",
              "    </tr>\n",
              "    <tr>\n",
              "      <th>12350.0</th>\n",
              "      <td>310</td>\n",
              "      <td>1</td>\n",
              "      <td>294.40</td>\n",
              "      <td>2</td>\n",
              "      <td>1</td>\n",
              "      <td>2</td>\n",
              "    </tr>\n",
              "    <tr>\n",
              "      <th>12352.0</th>\n",
              "      <td>262</td>\n",
              "      <td>4</td>\n",
              "      <td>539.41</td>\n",
              "      <td>3</td>\n",
              "      <td>4</td>\n",
              "      <td>3</td>\n",
              "    </tr>\n",
              "    <tr>\n",
              "      <th>12356.0</th>\n",
              "      <td>245</td>\n",
              "      <td>2</td>\n",
              "      <td>1086.56</td>\n",
              "      <td>4</td>\n",
              "      <td>3</td>\n",
              "      <td>4</td>\n",
              "    </tr>\n",
              "  </tbody>\n",
              "</table>\n",
              "</div>"
            ],
            "text/plain": [
              "            Recency  Frequency_of_customer  ...  F_Quartile  M_Quartile\n",
              "CustomerID                                  ...                        \n",
              "12347.0         246                      3  ...           4           4\n",
              "12348.0         248                      3  ...           4           1\n",
              "12350.0         310                      1  ...           1           2\n",
              "12352.0         262                      4  ...           4           3\n",
              "12356.0         245                      2  ...           3           4\n",
              "\n",
              "[5 rows x 6 columns]"
            ]
          },
          "metadata": {
            "tags": []
          },
          "execution_count": 146
        }
      ]
    },
    {
      "cell_type": "markdown",
      "metadata": {
        "id": "HztW5vH36KJV"
      },
      "source": [
        "Now, we combine these scores to give RFM value."
      ]
    },
    {
      "cell_type": "code",
      "metadata": {
        "id": "TjzYjIlc7JrW",
        "outputId": "d84ed760-437c-4000-fc5f-eed01edcfccf",
        "colab": {
          "base_uri": "https://localhost:8080/",
          "height": 235
        }
      },
      "source": [
        "rfm_seg['RFMScore'] = rfm_seg.R_Quartile.map(str) + rfm_seg.F_Quartile.map(str) + rfm_seg.M_Quartile.map(str)\n",
        "rfm_seg.head()"
      ],
      "execution_count": 147,
      "outputs": [
        {
          "output_type": "execute_result",
          "data": {
            "text/html": [
              "<div>\n",
              "<style scoped>\n",
              "    .dataframe tbody tr th:only-of-type {\n",
              "        vertical-align: middle;\n",
              "    }\n",
              "\n",
              "    .dataframe tbody tr th {\n",
              "        vertical-align: top;\n",
              "    }\n",
              "\n",
              "    .dataframe thead th {\n",
              "        text-align: right;\n",
              "    }\n",
              "</style>\n",
              "<table border=\"1\" class=\"dataframe\">\n",
              "  <thead>\n",
              "    <tr style=\"text-align: right;\">\n",
              "      <th></th>\n",
              "      <th>Recency</th>\n",
              "      <th>Frequency_of_customer</th>\n",
              "      <th>Total_spending</th>\n",
              "      <th>R_Quartile</th>\n",
              "      <th>F_Quartile</th>\n",
              "      <th>M_Quartile</th>\n",
              "      <th>RFMScore</th>\n",
              "    </tr>\n",
              "    <tr>\n",
              "      <th>CustomerID</th>\n",
              "      <th></th>\n",
              "      <th></th>\n",
              "      <th></th>\n",
              "      <th></th>\n",
              "      <th></th>\n",
              "      <th></th>\n",
              "      <th></th>\n",
              "    </tr>\n",
              "  </thead>\n",
              "  <tbody>\n",
              "    <tr>\n",
              "      <th>12347.0</th>\n",
              "      <td>246</td>\n",
              "      <td>3</td>\n",
              "      <td>1413.03</td>\n",
              "      <td>4</td>\n",
              "      <td>4</td>\n",
              "      <td>4</td>\n",
              "      <td>444</td>\n",
              "    </tr>\n",
              "    <tr>\n",
              "      <th>12348.0</th>\n",
              "      <td>248</td>\n",
              "      <td>3</td>\n",
              "      <td>90.20</td>\n",
              "      <td>4</td>\n",
              "      <td>4</td>\n",
              "      <td>1</td>\n",
              "      <td>441</td>\n",
              "    </tr>\n",
              "    <tr>\n",
              "      <th>12350.0</th>\n",
              "      <td>310</td>\n",
              "      <td>1</td>\n",
              "      <td>294.40</td>\n",
              "      <td>2</td>\n",
              "      <td>1</td>\n",
              "      <td>2</td>\n",
              "      <td>212</td>\n",
              "    </tr>\n",
              "    <tr>\n",
              "      <th>12352.0</th>\n",
              "      <td>262</td>\n",
              "      <td>4</td>\n",
              "      <td>539.41</td>\n",
              "      <td>3</td>\n",
              "      <td>4</td>\n",
              "      <td>3</td>\n",
              "      <td>343</td>\n",
              "    </tr>\n",
              "    <tr>\n",
              "      <th>12356.0</th>\n",
              "      <td>245</td>\n",
              "      <td>2</td>\n",
              "      <td>1086.56</td>\n",
              "      <td>4</td>\n",
              "      <td>3</td>\n",
              "      <td>4</td>\n",
              "      <td>434</td>\n",
              "    </tr>\n",
              "  </tbody>\n",
              "</table>\n",
              "</div>"
            ],
            "text/plain": [
              "            Recency  Frequency_of_customer  ...  M_Quartile  RFMScore\n",
              "CustomerID                                  ...                      \n",
              "12347.0         246                      3  ...           4       444\n",
              "12348.0         248                      3  ...           1       441\n",
              "12350.0         310                      1  ...           2       212\n",
              "12352.0         262                      4  ...           3       343\n",
              "12356.0         245                      2  ...           4       434\n",
              "\n",
              "[5 rows x 7 columns]"
            ]
          },
          "metadata": {
            "tags": []
          },
          "execution_count": 147
        }
      ]
    },
    {
      "cell_type": "markdown",
      "metadata": {
        "id": "fmkdAM_q6VEG"
      },
      "source": [
        "As we know best score for recency, frequency and monetary value is 4. Hence the best RFM score is 444."
      ]
    },
    {
      "cell_type": "code",
      "metadata": {
        "id": "5oGMchG78Y7I",
        "outputId": "c1b29836-66c8-495f-812a-8e2f8bd47e07",
        "colab": {
          "base_uri": "https://localhost:8080/",
          "height": 390
        }
      },
      "source": [
        "rfm_seg[rfm_seg['RFMScore']=='444'].sort_values('Total_spending', ascending=False).head(10)"
      ],
      "execution_count": 148,
      "outputs": [
        {
          "output_type": "execute_result",
          "data": {
            "text/html": [
              "<div>\n",
              "<style scoped>\n",
              "    .dataframe tbody tr th:only-of-type {\n",
              "        vertical-align: middle;\n",
              "    }\n",
              "\n",
              "    .dataframe tbody tr th {\n",
              "        vertical-align: top;\n",
              "    }\n",
              "\n",
              "    .dataframe thead th {\n",
              "        text-align: right;\n",
              "    }\n",
              "</style>\n",
              "<table border=\"1\" class=\"dataframe\">\n",
              "  <thead>\n",
              "    <tr style=\"text-align: right;\">\n",
              "      <th></th>\n",
              "      <th>Recency</th>\n",
              "      <th>Frequency_of_customer</th>\n",
              "      <th>Total_spending</th>\n",
              "      <th>R_Quartile</th>\n",
              "      <th>F_Quartile</th>\n",
              "      <th>M_Quartile</th>\n",
              "      <th>RFMScore</th>\n",
              "    </tr>\n",
              "    <tr>\n",
              "      <th>CustomerID</th>\n",
              "      <th></th>\n",
              "      <th></th>\n",
              "      <th></th>\n",
              "      <th></th>\n",
              "      <th></th>\n",
              "      <th></th>\n",
              "      <th></th>\n",
              "    </tr>\n",
              "  </thead>\n",
              "  <tbody>\n",
              "    <tr>\n",
              "      <th>14911.0</th>\n",
              "      <td>246</td>\n",
              "      <td>41</td>\n",
              "      <td>15568.35</td>\n",
              "      <td>4</td>\n",
              "      <td>4</td>\n",
              "      <td>4</td>\n",
              "      <td>444</td>\n",
              "    </tr>\n",
              "    <tr>\n",
              "      <th>13089.0</th>\n",
              "      <td>246</td>\n",
              "      <td>26</td>\n",
              "      <td>12180.27</td>\n",
              "      <td>4</td>\n",
              "      <td>4</td>\n",
              "      <td>4</td>\n",
              "      <td>444</td>\n",
              "    </tr>\n",
              "    <tr>\n",
              "      <th>15311.0</th>\n",
              "      <td>243</td>\n",
              "      <td>35</td>\n",
              "      <td>8408.74</td>\n",
              "      <td>4</td>\n",
              "      <td>4</td>\n",
              "      <td>4</td>\n",
              "      <td>444</td>\n",
              "    </tr>\n",
              "    <tr>\n",
              "      <th>15039.0</th>\n",
              "      <td>249</td>\n",
              "      <td>17</td>\n",
              "      <td>6196.19</td>\n",
              "      <td>4</td>\n",
              "      <td>4</td>\n",
              "      <td>4</td>\n",
              "      <td>444</td>\n",
              "    </tr>\n",
              "    <tr>\n",
              "      <th>14298.0</th>\n",
              "      <td>255</td>\n",
              "      <td>16</td>\n",
              "      <td>5757.80</td>\n",
              "      <td>4</td>\n",
              "      <td>4</td>\n",
              "      <td>4</td>\n",
              "      <td>444</td>\n",
              "    </tr>\n",
              "    <tr>\n",
              "      <th>17841.0</th>\n",
              "      <td>248</td>\n",
              "      <td>32</td>\n",
              "      <td>5258.28</td>\n",
              "      <td>4</td>\n",
              "      <td>4</td>\n",
              "      <td>4</td>\n",
              "      <td>444</td>\n",
              "    </tr>\n",
              "    <tr>\n",
              "      <th>14156.0</th>\n",
              "      <td>249</td>\n",
              "      <td>11</td>\n",
              "      <td>5025.19</td>\n",
              "      <td>4</td>\n",
              "      <td>4</td>\n",
              "      <td>4</td>\n",
              "      <td>444</td>\n",
              "    </tr>\n",
              "    <tr>\n",
              "      <th>12748.0</th>\n",
              "      <td>245</td>\n",
              "      <td>56</td>\n",
              "      <td>4222.45</td>\n",
              "      <td>4</td>\n",
              "      <td>4</td>\n",
              "      <td>4</td>\n",
              "      <td>444</td>\n",
              "    </tr>\n",
              "    <tr>\n",
              "      <th>15061.0</th>\n",
              "      <td>253</td>\n",
              "      <td>20</td>\n",
              "      <td>3704.55</td>\n",
              "      <td>4</td>\n",
              "      <td>4</td>\n",
              "      <td>4</td>\n",
              "      <td>444</td>\n",
              "    </tr>\n",
              "    <tr>\n",
              "      <th>17340.0</th>\n",
              "      <td>242</td>\n",
              "      <td>3</td>\n",
              "      <td>3555.37</td>\n",
              "      <td>4</td>\n",
              "      <td>4</td>\n",
              "      <td>4</td>\n",
              "      <td>444</td>\n",
              "    </tr>\n",
              "  </tbody>\n",
              "</table>\n",
              "</div>"
            ],
            "text/plain": [
              "            Recency  Frequency_of_customer  ...  M_Quartile  RFMScore\n",
              "CustomerID                                  ...                      \n",
              "14911.0         246                     41  ...           4       444\n",
              "13089.0         246                     26  ...           4       444\n",
              "15311.0         243                     35  ...           4       444\n",
              "15039.0         249                     17  ...           4       444\n",
              "14298.0         255                     16  ...           4       444\n",
              "17841.0         248                     32  ...           4       444\n",
              "14156.0         249                     11  ...           4       444\n",
              "12748.0         245                     56  ...           4       444\n",
              "15061.0         253                     20  ...           4       444\n",
              "17340.0         242                      3  ...           4       444\n",
              "\n",
              "[10 rows x 7 columns]"
            ]
          },
          "metadata": {
            "tags": []
          },
          "execution_count": 148
        }
      ]
    },
    {
      "cell_type": "code",
      "metadata": {
        "id": "MnvHoAWi8X2p",
        "outputId": "0b72e443-66e2-4001-f8ef-00ad88c471e2",
        "colab": {
          "base_uri": "https://localhost:8080/"
        }
      },
      "source": [
        "print(\"Best Customers: \",len(rfm_seg[rfm_seg['RFMScore']=='444']))\n",
        "print('Loyal Customers: ',len(rfm_seg[rfm_seg['F_Quartile']==4]))\n",
        "print(\"Big Spenders: \",len(rfm_seg[rfm_seg['M_Quartile']==4]))\n",
        "print('Almost Lost: ', len(rfm_seg[rfm_seg['RFMScore']=='244']))\n",
        "print('Lost Customers: ',len(rfm_seg[rfm_seg['RFMScore']=='144']))\n",
        "print('Lost Cheap Customers: ',len(rfm_seg[rfm_seg['RFMScore']=='111']))"
      ],
      "execution_count": 149,
      "outputs": [
        {
          "output_type": "stream",
          "text": [
            "Best Customers:  178\n",
            "Loyal Customers:  491\n",
            "Big Spenders:  535\n",
            "Almost Lost:  41\n",
            "Lost Customers:  10\n",
            "Lost Cheap Customers:  189\n"
          ],
          "name": "stdout"
        }
      ]
    },
    {
      "cell_type": "markdown",
      "metadata": {
        "id": "dEjJ34Nu6tzC"
      },
      "source": [
        "Now we have segmented our customers into categories. We need to choose strategies to deal with each category. For instance,\n",
        "\n",
        "Best Customers: We reward them by allowing earlier access to new products. Suggest them to \"Refer a friend\".\n",
        "\n",
        "At Risk: Send personalized emails and discounts to encourage them to shop."
      ]
    },
    {
      "cell_type": "code",
      "metadata": {
        "id": "31pCt8oh9ETl"
      },
      "source": [
        ""
      ],
      "execution_count": 149,
      "outputs": []
    }
  ]
}